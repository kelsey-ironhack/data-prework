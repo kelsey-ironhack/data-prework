{
  "nbformat": 4,
  "nbformat_minor": 0,
  "metadata": {
    "kernelspec": {
      "display_name": "Python 3",
      "language": "python",
      "name": "python3"
    },
    "language_info": {
      "codemirror_mode": {
        "name": "ipython",
        "version": 3
      },
      "file_extension": ".py",
      "mimetype": "text/x-python",
      "name": "python",
      "nbconvert_exporter": "python",
      "pygments_lexer": "ipython3",
      "version": "3.7.2"
    },
    "colab": {
      "name": "snail-and-well.ipynb",
      "provenance": [],
      "include_colab_link": true
    }
  },
  "cells": [
    {
      "cell_type": "markdown",
      "metadata": {
        "id": "view-in-github",
        "colab_type": "text"
      },
      "source": [
        "<a href=\"https://colab.research.google.com/github/ronlicaj/data-prework/blob/master/snail_and_well.ipynb\" target=\"_parent\"><img src=\"https://colab.research.google.com/assets/colab-badge.svg\" alt=\"Open In Colab\"/></a>"
      ]
    },
    {
      "cell_type": "markdown",
      "metadata": {
        "id": "t3IR-fi_cuUY"
      },
      "source": [
        "<img src=\"https://bit.ly/2VnXWr2\" width=\"100\" align=\"left\">"
      ]
    },
    {
      "cell_type": "markdown",
      "metadata": {
        "id": "aiiwtz5qcuUf"
      },
      "source": [
        "# The Snail and the Well\n",
        "\n",
        "A snail falls at the bottom of a 125 cm well. Each day the snail rises 30 cm. But at night, while sleeping, slides 20 cm because the walls are wet. How many days does it take for the snail to escape the well?\n",
        "\n",
        "**Hint**: The snail gets out of the well when it surpasses the 125cm of height.\n",
        "\n",
        "## Tools\n",
        "\n",
        "1. Loop: **while**\n",
        "2. Conditional statements: **if-else**\n",
        "3. Function: **print()**\n",
        "\n",
        "## Tasks\n",
        "\n",
        "#### 1. Assign the challenge data to variables with representative names: `well_height`, `daily_distance`, `nightly_distance` and `snail_position`."
      ]
    },
    {
      "cell_type": "code",
      "metadata": {
        "id": "lkrJWkYPcuUh"
      },
      "source": [
        "well_height = 125\n",
        "daily_distance = 30\n",
        "nightly_distance = 20\n",
        "snail_position = 0"
      ],
      "execution_count": 11,
      "outputs": []
    },
    {
      "cell_type": "markdown",
      "metadata": {
        "id": "8TYYAMvkcuUj"
      },
      "source": [
        "#### 2. Create a variable `days` to keep count of the days that pass until the snail escapes the well. "
      ]
    },
    {
      "cell_type": "code",
      "metadata": {
        "id": "pn6aSYtMcuUk"
      },
      "source": [
        "days = 0"
      ],
      "execution_count": 12,
      "outputs": []
    },
    {
      "cell_type": "markdown",
      "metadata": {
        "id": "DQPuRPmlcuUk"
      },
      "source": [
        "#### 3. Find the solution to the challenge using the variables defined above. "
      ]
    },
    {
      "cell_type": "code",
      "metadata": {
        "id": "p9dWhmaLcuUl"
      },
      "source": [
        "while True:\n",
        "    days += 1\n",
        "    snail_position += daily_distance\n",
        "    if snail_position >= well_height:\n",
        "        break\n",
        "    snail_position -= nightly_distance\n"
      ],
      "execution_count": 13,
      "outputs": []
    },
    {
      "cell_type": "markdown",
      "metadata": {
        "id": "x-qxoqr1cuUm"
      },
      "source": [
        "#### 4. Print the solution."
      ]
    },
    {
      "cell_type": "code",
      "metadata": {
        "colab": {
          "base_uri": "https://localhost:8080/"
        },
        "id": "WMNZokjocuUn",
        "outputId": "713024cd-757d-4fe5-be1d-68192f927442"
      },
      "source": [
        "print(days)"
      ],
      "execution_count": 14,
      "outputs": [
        {
          "output_type": "stream",
          "text": [
            "11\n"
          ],
          "name": "stdout"
        }
      ]
    },
    {
      "cell_type": "markdown",
      "metadata": {
        "id": "ST5OEgo-cuUn"
      },
      "source": [
        "## Bonus\n",
        "The distance traveled by the snail each day is now defined by a list.\n",
        "```\n",
        "advance_cm = [30, 21, 33, 77, 44, 45, 23, 45, 12, 34, 55]\n",
        "```\n",
        "On the first day, the snail rises 30cm but during the night it slides 20cm. On the second day, the snail rises 21cm but during the night it slides 20cm, and so on. \n",
        "\n",
        "#### 1. How many days does it take for the snail to escape the well?\n",
        "Follow the same guidelines as in the previous challenge.\n",
        "\n",
        "**Hint**: Remember that the snail gets out of the well when it surpasses the 125cm of height."
      ]
    },
    {
      "cell_type": "code",
      "metadata": {
        "colab": {
          "base_uri": "https://localhost:8080/"
        },
        "id": "phDzTBUjcuUo",
        "outputId": "3bea97f7-670d-4966-ad65-1aec80c285d5"
      },
      "source": [
        "advance_cm = [30, 21, 33, 77, 44, 45, 23, 45, 12, 34, 55]\n",
        "print(len(advance_cm))\n"
      ],
      "execution_count": 15,
      "outputs": [
        {
          "output_type": "stream",
          "text": [
            "11\n"
          ],
          "name": "stdout"
        }
      ]
    },
    {
      "cell_type": "markdown",
      "metadata": {
        "id": "9yDTFImycuUp"
      },
      "source": [
        "#### 2. What is its maximum displacement in one day? And its minimum? Calculate the displacement using only the travel distance of the days used to get out of the well. \n",
        "**Hint**: Remember that displacement means the total distance risen taking into account that the snail slides at night.  "
      ]
    },
    {
      "cell_type": "code",
      "metadata": {
        "colab": {
          "base_uri": "https://localhost:8080/"
        },
        "id": "S4WgF__ZcuUp",
        "outputId": "97e9549f-0f1b-4579-de15-8e7a1f9fcd3c"
      },
      "source": [
        "advance_cm = [30, 21, 33, 77, 44, 45, 23, 45, 12, 34, 55]\n",
        "print(max(advance_cm))"
      ],
      "execution_count": 16,
      "outputs": [
        {
          "output_type": "stream",
          "text": [
            "77\n"
          ],
          "name": "stdout"
        }
      ]
    },
    {
      "cell_type": "markdown",
      "metadata": {
        "id": "ZvcXEZZ_cuUq"
      },
      "source": [
        "#### 3. What is its average progress? Take into account the snail slides at night."
      ]
    },
    {
      "cell_type": "code",
      "metadata": {
        "colab": {
          "base_uri": "https://localhost:8080/"
        },
        "id": "TyTm03S2cuUq",
        "outputId": "de082c0b-418a-43c3-df49-79d0e22be710"
      },
      "source": [
        "advance_cm =[30, 21, 33, 77, 44, 45, 23, 45, 12, 34, 55]\n",
        "num = sum(advance_cm)\n",
        "den = len(advance_cm)\n",
        "avg =  num / den\n",
        "print(avg)\n"
      ],
      "execution_count": 17,
      "outputs": [
        {
          "output_type": "stream",
          "text": [
            "38.09090909090909\n"
          ],
          "name": "stdout"
        }
      ]
    },
    {
      "cell_type": "markdown",
      "metadata": {
        "id": "CP--AUP5cuUr"
      },
      "source": [
        "#### 4. What is the standard deviation of its displacement? Take into account the snail slides at night."
      ]
    },
    {
      "cell_type": "code",
      "metadata": {
        "colab": {
          "base_uri": "https://localhost:8080/"
        },
        "id": "JeyUTfgWcuUr",
        "outputId": "b69d0d7e-3ecd-4885-e05a-d88d21012694"
      },
      "source": [
        "import numpy as np\n",
        "advance_cm =[30, 21, 33, 77, 44, 45, 23, 45, 12, 34, 55]\n",
        "print(np.std(advance_cm))"
      ],
      "execution_count": 18,
      "outputs": [
        {
          "output_type": "stream",
          "text": [
            "17.159437082600803\n"
          ],
          "name": "stdout"
        }
      ]
    }
  ]
}