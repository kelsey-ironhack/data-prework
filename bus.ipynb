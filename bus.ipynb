{
 "cells": [
  {
   "cell_type": "markdown",
   "metadata": {},
   "source": [
    "<img src=\"https://bit.ly/2VnXWr2\" width=\"100\" align=\"left\">"
   ]
  },
  {
   "cell_type": "markdown",
   "metadata": {},
   "source": [
    "# Bus\n",
    "\n",
    "This bus has a passenger entry and exit control system to monitor the number of occupants it carries and thus detect when there are too many.\n",
    "\n",
    "At each stop, the entry and exit of passengers is represented by a tuple consisting of two integer numbers.\n",
    "```\n",
    "bus_stop = (in, out)\n",
    "```\n",
    "The succession of stops is represented by a list of these tuples.\n",
    "```\n",
    "stops = [(in1, out1), (in2, out2), (in3, out3), (in4, out4)]\n",
    "```\n",
    "\n",
    "## Tools\n",
    "You don't necessarily need to use all the tools. Maybe you opt to use some of them or completely different ones, they are given to help you shape the exercise. Programming exercises can be solved in many different ways.\n",
    "* Data structures: **lists, tuples**\n",
    "* Loop: **while/for loops**\n",
    "* Functions: **min, max, len**\n",
    "\n",
    "## Tasks"
   ]
  },
  {
   "cell_type": "code",
   "execution_count": null,
   "metadata": {},
   "outputs": [],
   "source": [
    "# Variables\n",
    "stops = [(10, 0), (4, 1), (3, 5), (3, 4), (5, 1), (1, 5), (5, 8), (4, 6), (2, 3)]"
   ]
  },
  {
   "cell_type": "markdown",
   "metadata": {},
   "source": [
    "#### 1. Calculate the number of stops."
   ]
  },
  {
   "cell_type": "code",
   "execution_count": 4,
   "metadata": {},
   "outputs": [
    {
     "name": "stdout",
     "output_type": "stream",
     "text": [
      "There are 9 stops.\n"
     ]
    }
   ],
   "source": [
    "stops = [(10, 0), (4, 1), (3, 5), (3, 4), (5, 1), (1, 5), (5, 8), (4, 6), (2, 3)]\n",
    "print(\"There are\", len(stops), \"stops.\")"
   ]
  },
  {
   "cell_type": "markdown",
   "metadata": {},
   "source": [
    "#### 2. Assign to a variable a list whose elements are the number of passengers at each stop (in-out).\n",
    "Each item depends on the previous item in the list + in - out."
   ]
  },
  {
   "cell_type": "code",
   "execution_count": 2,
   "metadata": {},
   "outputs": [
    {
     "name": "stdout",
     "output_type": "stream",
     "text": [
      "[10, 4, 3, 3, 5, 1, 5, 4, 2]\n",
      "[0, 1, 5, 4, 1, 5, 8, 6, 3]\n"
     ]
    }
   ],
   "source": [
    "#problems working with tuples.\n",
    "#couldn't find a proper way to calculate this with python commands, therefore calculated it manually\n",
    "\n",
    "passengers_at_stop = [10, 13, 11, 10, 14, 10, 7, 5, 4]\n",
    "\n",
    "#TRIALS\n",
    "#passengers_in = []\n",
    "#passengers_out = []\n",
    "\n",
    "#for a, b in stops:\n",
    "#    passengers_in.append(a)\n",
    "#    passengers_out.append(b)\n",
    "#print(passengers_in)\n",
    "#print(passengers_out)\n",
    "\n",
    "#create new list where you minus them"
   ]
  },
  {
   "cell_type": "markdown",
   "metadata": {},
   "source": [
    "#### 3. Find the maximum occupation of the bus."
   ]
  },
  {
   "cell_type": "code",
   "execution_count": 8,
   "metadata": {},
   "outputs": [
    {
     "name": "stdout",
     "output_type": "stream",
     "text": [
      "The maximum occupation of the bus is 14 .\n",
      "The maximum occupation occurs at stop number [4] .\n"
     ]
    }
   ],
   "source": [
    "passengers_at_stop = [10, 13, 11, 10, 14, 10, 7, 5, 4]\n",
    "print(\"The maximum occupation of the bus is\", max(passengers_at_stop),\".\")\n",
    "#print(\"The maximum occupation occurs at stop number\", [i for i,x in enumerate(passengers_at_stop) if x == 14],\".\")"
   ]
  },
  {
   "cell_type": "markdown",
   "metadata": {},
   "source": [
    "#### 4. Calculate the average occupation. And the standard deviation."
   ]
  },
  {
   "cell_type": "code",
   "execution_count": 40,
   "metadata": {},
   "outputs": [
    {
     "name": "stdout",
     "output_type": "stream",
     "text": [
      "The average occupation is 9.333333333333334 .\n",
      "The standard deviation is 3.3765959189692807 .\n",
      "3.391164991562634\n"
     ]
    }
   ],
   "source": [
    "#calculated standard deviation without statistics module in python to learn \n",
    "\n",
    "#passengers at each stop\n",
    "passengers = [10, 13, 11, 10, 14, 10, 7, 5, 4]\n",
    "\n",
    "#values must be floats according to research\n",
    "[float(i) for i in passengers]\n",
    "\n",
    "#average of passengers at each stop\n",
    "average = sum(passengers) / len(passengers)\n",
    "print(\"The average occupation is\", average,\".\")\n",
    "#\"Which are\", int(9.333333333333334),\"real persons.\"\n",
    "\n",
    "#passengers at each stop minus the average\n",
    "difference = []\n",
    "\n",
    "for i in passengers:\n",
    "    subtract = i - average\n",
    "    difference.append(subtract)\n",
    "\n",
    "#square result of 'passengers minus average (difference)'\n",
    "var  = sum(pow(i-average,2) for i in passengers) / len(passengers)\n",
    "  \n",
    "#sum of all variances\n",
    "sum(difference)\n",
    "sum_var = (sum(difference)**2)\n",
    "\n",
    "new_list = []\n",
    " \n",
    "for i in one:\n",
    "    square = i**2\n",
    "    new_list.append(square)\n",
    "\n",
    "average_new_list = sum(new_list) / len(new_list)\n",
    "\n",
    "#square root\n",
    "root = 11.4014**(1/2)\n",
    "\n",
    "print(\"The standard deviation is\", root,\".\")\n",
    "\n",
    "#above calculations didn't provide the right standard deviation, therefore using statistics module\n",
    "import statistics\n",
    "print(statistics.stdev(passengers))\n"
   ]
  },
  {
   "cell_type": "code",
   "execution_count": null,
   "metadata": {},
   "outputs": [],
   "source": []
  },
  {
   "cell_type": "code",
   "execution_count": null,
   "metadata": {},
   "outputs": [],
   "source": []
  }
 ],
 "metadata": {
  "kernelspec": {
   "display_name": "Python 3",
   "language": "python",
   "name": "python3"
  },
  "language_info": {
   "codemirror_mode": {
    "name": "ipython",
    "version": 3
   },
   "file_extension": ".py",
   "mimetype": "text/x-python",
   "name": "python",
   "nbconvert_exporter": "python",
   "pygments_lexer": "ipython3",
   "version": "3.8.3"
  }
 },
 "nbformat": 4,
 "nbformat_minor": 2
}
