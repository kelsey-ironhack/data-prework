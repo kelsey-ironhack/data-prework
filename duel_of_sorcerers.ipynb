{
  "nbformat": 4,
  "nbformat_minor": 0,
  "metadata": {
    "kernelspec": {
      "display_name": "Python 3",
      "language": "python",
      "name": "python3"
    },
    "language_info": {
      "codemirror_mode": {
        "name": "ipython",
        "version": 3
      },
      "file_extension": ".py",
      "mimetype": "text/x-python",
      "name": "python",
      "nbconvert_exporter": "python",
      "pygments_lexer": "ipython3",
      "version": "3.7.2"
    },
    "colab": {
      "name": "duel-of-sorcerers.ipynb",
      "provenance": [],
      "include_colab_link": true
    }
  },
  "cells": [
    {
      "cell_type": "markdown",
      "metadata": {
        "id": "view-in-github",
        "colab_type": "text"
      },
      "source": [
        "<a href=\"https://colab.research.google.com/github/ronlicaj/data-prework/blob/master/duel_of_sorcerers.ipynb\" target=\"_parent\"><img src=\"https://colab.research.google.com/assets/colab-badge.svg\" alt=\"Open In Colab\"/></a>"
      ]
    },
    {
      "cell_type": "markdown",
      "metadata": {
        "id": "FvJVj3ZxpeQH"
      },
      "source": [
        "<img src=\"https://bit.ly/2VnXWr2\" width=\"100\" align=\"left\">"
      ]
    },
    {
      "cell_type": "markdown",
      "metadata": {
        "id": "i4yCepjipeQJ"
      },
      "source": [
        "# Duel of Sorcerers\n",
        "You are witnessing an epic battle between two powerful sorcerers: Gandalf and Saruman. Each sorcerer has 10 spells of variable power in their mind and they are going to throw them one after the other. The winner of the duel will be the one who wins more of those clashes between spells. Spells are represented as a list of 10 integers whose value equals the power of the spell.\n",
        "```\n",
        "gandalf = [10, 11, 13, 30, 22, 11, 10, 33, 22, 22]\n",
        "saruman = [23, 66, 12, 43, 12, 10, 44, 23, 12, 17]\n",
        "```\n",
        "For example:\n",
        "- The first clash is won by Saruman: 10 against 23.\n",
        "- The second clash is won by Saruman: 11 against 66.\n",
        "- ...\n",
        "\n",
        "You will create two variables, one for each sorcerer, where the sum of clashes won will be stored. Depending on which variable is greater at the end of the duel, you will show one of the following three results on the screen:\n",
        "* Gandalf wins\n",
        "* Saruman wins\n",
        "* Tie\n",
        "\n",
        "<img src=\"images/content_lightning_bolt_big.jpg\" width=\"400\">"
      ]
    },
    {
      "cell_type": "markdown",
      "metadata": {
        "id": "dQva1x2bpeQK"
      },
      "source": [
        "## Tools\n",
        "You don't necessarily need to use all the tools. Maybe you opt to use some of them or completely different ones, they are given to help you shape the exercise. Programming exercises can be solved in many different ways.\n",
        "\n",
        "1. Data structures: **lists, dictionaries**\n",
        "2. Loop: **for loop**\n",
        "3. Conditional statements: **if-elif-else**\n",
        "4. Functions: **range(), len(), print()**\n",
        "\n",
        "## Tasks\n",
        "\n",
        "#### 1. Create two variables called `gandalf` and `saruman` and assign them the spell power lists. Create a variable called `spells` to store the number of spells that the sorcerers cast. "
      ]
    },
    {
      "cell_type": "code",
      "metadata": {
        "id": "z5pDvW-GpeQL"
      },
      "source": [
        "gandalf = [10, 11, 13, 30, 22, 11, 10, 33, 22, 22]\n",
        "saruman = [23, 66, 12, 43, 12, 10, 44, 23, 12, 17]\n",
        "spells = len(gandalf)"
      ],
      "execution_count": 1,
      "outputs": []
    },
    {
      "cell_type": "markdown",
      "metadata": {
        "id": "ZkjpXzbvpeQL"
      },
      "source": [
        "#### 2. Create two variables called `gandalf_wins` and `saruman_wins`. Set both of them to 0. \n",
        "You will use these variables to count the number of clashes each sorcerer wins. "
      ]
    },
    {
      "cell_type": "code",
      "metadata": {
        "id": "Gjq-r4OnpeQL"
      },
      "source": [
        "gandalf_wins = 0\n",
        "saruman_wins = 0"
      ],
      "execution_count": 3,
      "outputs": []
    },
    {
      "cell_type": "markdown",
      "metadata": {
        "id": "cxDd5RSSpeQM"
      },
      "source": [
        "#### 3. Using the lists of spells of both sorcerers, update variables `gandalf_wins` and `saruman_wins` to count the number of times each sorcerer wins a clash. "
      ]
    },
    {
      "cell_type": "code",
      "metadata": {
        "id": "SOEIuF0npeQM"
      },
      "source": [
        "for i in range(spells):\n",
        "    if gandalf[i] > saruman[i]:\n",
        "        gandalf_wins += 1\n",
        "    elif gandalf[i] < saruman[i]:\n",
        "        saruman_wins += 1"
      ],
      "execution_count": 5,
      "outputs": []
    },
    {
      "cell_type": "markdown",
      "metadata": {
        "id": "_jmaIx-XpeQM"
      },
      "source": [
        "#### 4. Who won the battle?\n",
        "Print `Gandalf wins`, `Saruman wins` or `Tie` depending on the result. "
      ]
    },
    {
      "cell_type": "code",
      "metadata": {
        "colab": {
          "base_uri": "https://localhost:8080/"
        },
        "id": "Ie202WDvpeQN",
        "outputId": "478c49b7-7699-4547-996d-832effa06312"
      },
      "source": [
        "if gandalf_wins > saruman_wins:\n",
        "    print(\"Gandalf wins\")\n",
        "elif gandalf_wins < saruman_wins:\n",
        "    print(\"Saruman wins\")\n",
        "else: \n",
        "    print(\"Tie\")"
      ],
      "execution_count": 8,
      "outputs": [
        {
          "output_type": "stream",
          "text": [
            "Gandalf wins\n"
          ],
          "name": "stdout"
        }
      ]
    },
    {
      "cell_type": "markdown",
      "metadata": {
        "id": "QAPHT4KbpeQN"
      },
      "source": [
        "## Bonus\n",
        "\n",
        "In this bonus challenge, you'll need to check the winner of the battle but this time, a sorcerer wins if he succeeds in winning 3 spell clashes in a row.\n",
        "\n",
        "Also, the spells now have a name and there is a dictionary that associates that name to a power.\n",
        "\n",
        "```\n",
        "POWER = {\n",
        "    'Fireball': 50, \n",
        "    'Lightning bolt': 40, \n",
        "    'Magic arrow': 10, \n",
        "    'Black Tentacles': 25, \n",
        "    'Contagion': 45\n",
        "}\n",
        "\n",
        "gandalf = ['Fireball', 'Lightning bolt', 'Lightning bolt', 'Magic arrow', 'Fireball', \n",
        "           'Magic arrow', 'Lightning bolt', 'Fireball', 'Fireball', 'Fireball']\n",
        "saruman = ['Contagion', 'Contagion', 'Black Tentacles', 'Fireball', 'Black Tentacles', \n",
        "           'Lightning bolt', 'Magic arrow', 'Contagion', 'Magic arrow', 'Magic arrow']\n",
        "```\n",
        "\n",
        "#### 1. Create variables `POWER`, `gandalf` and `saruman` as seen above. Create a variable called `spells` to store the number of spells that the sorcerers cast. "
      ]
    },
    {
      "cell_type": "code",
      "metadata": {
        "id": "2jc2H9ExpeQN"
      },
      "source": [
        "POWER = {\n",
        "    'Fireball': 50, \n",
        "    'Lightning bolt': 40, \n",
        "    'Magic arrow': 10, \n",
        "    'Black Tentacles': 25, \n",
        "    'Contagion': 45\n",
        "}\n",
        "\n",
        "gandalf = ['Fireball', 'Lightning bolt', 'Lightning bolt', 'Magic arrow', 'Fireball', \n",
        "           'Magic arrow', 'Lightning bolt', 'Fireball', 'Fireball', 'Fireball']\n",
        "saruman = ['Contagion', 'Contagion', 'Black Tentacles', 'Fireball', 'Black Tentacles', \n",
        "           'Lightning bolt', 'Magic arrow', 'Contagion', 'Magic arrow', 'Magic arrow']\n",
        "spells = 0"
      ],
      "execution_count": 10,
      "outputs": []
    },
    {
      "cell_type": "markdown",
      "metadata": {
        "id": "GgzmoM74peQO"
      },
      "source": [
        "#### 2. Create two variables called `gandalf_wins` and `saruman_wins`. Set both of them to 0. "
      ]
    },
    {
      "cell_type": "code",
      "metadata": {
        "id": "WX160BXqpeQO"
      },
      "source": [
        "gandalf_wins = 0\n",
        "saruman_wins = 0"
      ],
      "execution_count": 11,
      "outputs": []
    },
    {
      "cell_type": "markdown",
      "metadata": {
        "id": "W_13AxdFpeQO"
      },
      "source": [
        "#### 3. Create two variables called `gandalf_power` and `saruman_power` to store the list of spell powers of each sorcerer."
      ]
    },
    {
      "cell_type": "code",
      "metadata": {
        "id": "WT66_UDIpeQO"
      },
      "source": [
        "gandalf_power = []\n",
        "for i in gandalf:\n",
        "    gandalf_power.append(POWER[i])\n",
        "saruman_power = []\n",
        "for i in saruman:\n",
        "    saruman_power.append(POWER[i])"
      ],
      "execution_count": 13,
      "outputs": []
    },
    {
      "cell_type": "markdown",
      "metadata": {
        "id": "zV-muqY-peQP"
      },
      "source": [
        "#### 4. The battle starts! Using the variables you've created above, code the execution of spell clashes. Remember that a sorcerer wins if he succeeds in winning 3 spell clashes in a row. \n",
        "If a clash ends up in a tie, the counter of wins in a row is not restarted to 0. Remember to print who is the winner of the battle. "
      ]
    },
    {
      "cell_type": "code",
      "metadata": {
        "colab": {
          "base_uri": "https://localhost:8080/"
        },
        "id": "donBaJl9peQP",
        "outputId": "8abea79a-eb11-4bc3-bc25-7164e0cc235c"
      },
      "source": [
        "while gandalf_wins != 3 and saruman_wins != 3:    \n",
        "    if gandalf_power[spells] > saruman_power[spells]:\n",
        "        gandalf_wins += 1\n",
        "        while gandalf_wins in [1,2]:\n",
        "            spells += 1\n",
        "            if gandalf_power[spells] > saruman_power[spells]:\n",
        "                gandalf_wins += 1\n",
        "            else:\n",
        "                gandalf_wins = 0\n",
        "    elif gandalf_power[spells] < saruman_power[spells]:\n",
        "        saruman_wins += 1\n",
        "        while saruman_wins in [1,2]:\n",
        "            spells += 1\n",
        "            if gandalf_power[spells] < saruman_power[spells]:\n",
        "                saruman_wins += 1\n",
        "            else:\n",
        "                saruman_wins = 0        \n",
        "\n",
        "if gandalf_wins > saruman_wins:\n",
        "    print(\"Gandalf wins\")\n",
        "else:\n",
        "    print(\"Saruman wins\")"
      ],
      "execution_count": 14,
      "outputs": [
        {
          "output_type": "stream",
          "text": [
            "Gandalf wins\n"
          ],
          "name": "stdout"
        }
      ]
    },
    {
      "cell_type": "markdown",
      "metadata": {
        "id": "Af-3InlipeQP"
      },
      "source": [
        "#### 5. Find the average spell power of Gandalf and Saruman. "
      ]
    },
    {
      "cell_type": "code",
      "metadata": {
        "colab": {
          "base_uri": "https://localhost:8080/"
        },
        "id": "GL97Iv2npeQP",
        "outputId": "0c164e33-de6b-4c93-dfa0-b068a1f594c5"
      },
      "source": [
        "from statistics import mean\n",
        "print(f\"The average power of Gandalf is {round(mean(gandalf_power), 2)}, and Saruman's average power is {round(mean(saruman_power), 2)}\")"
      ],
      "execution_count": 16,
      "outputs": [
        {
          "output_type": "stream",
          "text": [
            "The average power of Gandalf is 39, and Saruman's average power is 30.5\n"
          ],
          "name": "stdout"
        }
      ]
    },
    {
      "cell_type": "markdown",
      "metadata": {
        "id": "6FB5Oc1PpeQP"
      },
      "source": [
        "#### 6. Find the standard deviation of the spell power of Gandalf and Saruman. "
      ]
    },
    {
      "cell_type": "code",
      "metadata": {
        "colab": {
          "base_uri": "https://localhost:8080/"
        },
        "id": "eEEpswIupeQP",
        "outputId": "35e8d48c-8c61-4cb5-d13b-661adc16d861"
      },
      "source": [
        "from statistics import stdev\n",
        "print(f\"The standard deviation of powers of Gandalf's power is {round(stdev(gandalf_power), 2)}, while Saruman's is {round(stdev(saruman_power), 2)}\")\n",
        "textest = 'urray'\n"
      ],
      "execution_count": 18,
      "outputs": [
        {
          "output_type": "stream",
          "text": [
            "The standard deviation of powers of Gandalf's power is 15.95, while Saruman's is 16.41\n"
          ],
          "name": "stdout"
        }
      ]
    }
  ]
}