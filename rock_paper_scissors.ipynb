{
  "nbformat": 4,
  "nbformat_minor": 0,
  "metadata": {
    "kernelspec": {
      "display_name": "Python 3",
      "language": "python",
      "name": "python3"
    },
    "language_info": {
      "codemirror_mode": {
        "name": "ipython",
        "version": 3
      },
      "file_extension": ".py",
      "mimetype": "text/x-python",
      "name": "python",
      "nbconvert_exporter": "python",
      "pygments_lexer": "ipython3",
      "version": "3.7.2"
    },
    "colab": {
      "name": "rock-paper-scissors.ipynb",
      "provenance": [],
      "include_colab_link": true
    }
  },
  "cells": [
    {
      "cell_type": "markdown",
      "metadata": {
        "id": "view-in-github",
        "colab_type": "text"
      },
      "source": [
        "<a href=\"https://colab.research.google.com/github/ronlicaj/data-prework/blob/master/rock_paper_scissors.ipynb\" target=\"_parent\"><img src=\"https://colab.research.google.com/assets/colab-badge.svg\" alt=\"Open In Colab\"/></a>"
      ]
    },
    {
      "cell_type": "markdown",
      "metadata": {
        "id": "KvIpODej_d-6"
      },
      "source": [
        "<img src=\"https://bit.ly/2VnXWr2\" width=\"100\" align=\"left\">"
      ]
    },
    {
      "cell_type": "markdown",
      "metadata": {
        "id": "gqebzgki_d--"
      },
      "source": [
        "# Rock, Paper & Scissors\n",
        "\n",
        "Let's play the famous game against our computer. You can check the rules [here](https://en.wikipedia.org/wiki/Rock%E2%80%93paper%E2%80%93scissors). \n",
        "\n",
        "## Task\n",
        "Create a program that imitates the playability of the well known game of rock, paper, scissors. Follow the guidelines provided.\n",
        "\n",
        "## Tools\n",
        "1. Loop: **for/while**\n",
        "2. Functions: **input(), print()...**\n",
        "3. Conditional statements: **if, elif, else**\n",
        "4. Definition of functions. Modular programming\n",
        "5. Import modules\n",
        "\n",
        "**To solve this challenge, the use of functions is recommended.**\n",
        "\n",
        "#### 1. Import the choice function of the random module."
      ]
    },
    {
      "cell_type": "code",
      "metadata": {
        "id": "ZiEU3fHV_d_A"
      },
      "source": [
        "from random import choice"
      ],
      "execution_count": 1,
      "outputs": []
    },
    {
      "cell_type": "markdown",
      "metadata": {
        "id": "VDC0N5a0_d_B"
      },
      "source": [
        "#### 2. Create a list that includes the 3 possible gesture options of the game: 'rock', 'paper' or 'scissors'. Store the list in a variable called `gestures`."
      ]
    },
    {
      "cell_type": "code",
      "metadata": {
        "id": "pBx3E3MU_d_B"
      },
      "source": [
        "gestures = ['rock','paper','scissors']"
      ],
      "execution_count": 2,
      "outputs": []
    },
    {
      "cell_type": "markdown",
      "metadata": {
        "id": "smmbuxKf_d_B"
      },
      "source": [
        "#### 3. Create a variable called `n_rounds` to store the maximum number of rounds to play in a game. \n",
        "Remember that the number of rounds must be odd: 1, 3, 5, ..."
      ]
    },
    {
      "cell_type": "code",
      "metadata": {
        "colab": {
          "base_uri": "https://localhost:8080/"
        },
        "id": "ToHgKbpa_d_C",
        "outputId": "26324ed9-1fad-48aa-b969-a13ae7ea6c1b"
      },
      "source": [
        "n_rounds = input(\"How many rounds you want to play? (Hint: should be an odd number) >>>   \")\n",
        "try:\n",
        "    n_rounds = int(n_rounds)\n",
        "    if n_rounds % 2 == 0:\n",
        "        print(\"That is so NOT an odd number...\")\n",
        "        n_rounds = 0\n",
        "    elif n_rounds > 10:\n",
        "        print(\"I don't have time. Let's try less than 10.\")\n",
        "        n_rounds = 0\n",
        "    else:\n",
        "        print(\"Alright! Let's play \", int(n_rounds), \" rounds.\")\n",
        "except ValueError:\n",
        "    print(\"To play \", n_rounds, \" rounds I'd have to slice your hand in pieces, honey.\")\n",
        "    n_rounds = 0"
      ],
      "execution_count": 5,
      "outputs": [
        {
          "output_type": "stream",
          "text": [
            "How many rounds you want to play? (Hint: should be an odd number) >>>   3\n",
            "Alright! Let's play  3  rounds.\n"
          ],
          "name": "stdout"
        }
      ]
    },
    {
      "cell_type": "markdown",
      "metadata": {
        "id": "_Njh5SyN_d_C"
      },
      "source": [
        "#### 4. Create a variable called `rounds_to_win` to store the number of rounds that a player must win to win the game.\n",
        "**Hint**: the value stored in `rounds_to_win` depends on the value of `n_rounds`. "
      ]
    },
    {
      "cell_type": "code",
      "metadata": {
        "id": "Z-bzVok2_d_C"
      },
      "source": [
        "import math\n",
        "rounds_to_win = math.ceil(n_rounds/2)"
      ],
      "execution_count": 10,
      "outputs": []
    },
    {
      "cell_type": "markdown",
      "metadata": {
        "id": "-6zf6RU5_d_D"
      },
      "source": [
        "#### 5. Create two variables to store the number of rounds that the computer and the player have won. Call these variables `cpu_score` and `player_score`."
      ]
    },
    {
      "cell_type": "code",
      "metadata": {
        "id": "BRxqrJW2_d_D"
      },
      "source": [
        "cpu_score = 0\n",
        "player_score = 0"
      ],
      "execution_count": 11,
      "outputs": []
    },
    {
      "cell_type": "markdown",
      "metadata": {
        "id": "cvuFoT65_d_D"
      },
      "source": [
        "#### 6. Define a function that randomly returns one of the 3 gesture options.\n",
        "You will use this function to simulate the gesture choice of the computer. "
      ]
    },
    {
      "cell_type": "code",
      "metadata": {
        "id": "-1NFUQFg_d_E"
      },
      "source": [
        "### w should be the list of posible gestures\n",
        "def T800(w):\n",
        "    return choice(w);"
      ],
      "execution_count": 15,
      "outputs": []
    },
    {
      "cell_type": "markdown",
      "metadata": {
        "id": "eiNNv_2c_d_E"
      },
      "source": [
        "#### 7. Define a function that asks the player which is the gesture he or she wants to show: 'rock', 'paper' or 'scissors'.\n",
        "The player should only be allowed to choose one of the 3 gesture options. If the player's choice is not rock, paper or scissors, keep asking until it is."
      ]
    },
    {
      "cell_type": "code",
      "metadata": {
        "id": "wg62Ko7l_d_E"
      },
      "source": [
        "### x should also be the gesture options\n",
        "def shand(x):\n",
        "    player = 0\n",
        "    while player == 0:\n",
        "        player = input(\"Please choose wisely: \" + str(x) + \" >>>    \")\n",
        "        if player in x:\n",
        "            return player\n",
        "        else:\n",
        "            print(\"You fool. Play by the rules.\")\n",
        "            player = 0"
      ],
      "execution_count": 16,
      "outputs": []
    },
    {
      "cell_type": "markdown",
      "metadata": {
        "id": "Vvs4x5z9_d_E"
      },
      "source": [
        "#### 8. Define a function that checks who won a round. \n",
        "The function should return 0 if there is a tie, 1 if the computer wins and 2 if the player wins."
      ]
    },
    {
      "cell_type": "code",
      "metadata": {
        "id": "yikw2Vvh_d_E"
      },
      "source": [
        "joy = {'rock':['scissors'], 'paper':['rock'], 'scissors':['paper']}\n",
        "### y should be the winning dictionary\n",
        "def winner(y):\n",
        "    outcome = 2\n",
        "    if player == quick_thumb:\n",
        "        outcome = 0\n",
        "    elif player in y[quick_thumb]:\n",
        "        outcome = 1\n",
        "    return outcome"
      ],
      "execution_count": 17,
      "outputs": []
    },
    {
      "cell_type": "markdown",
      "metadata": {
        "id": "8RKDPGXr_d_F"
      },
      "source": [
        "#### 9. Define a function that prints the choice of the computer, the choice of the player and a message that announces who won the current round. \n",
        "You should also use this function to update the variables that count the number of rounds that the computer and the player have won. The score of the winner increases by one point. If there is a tie, the score does not increase."
      ]
    },
    {
      "cell_type": "code",
      "metadata": {
        "id": "SLhPrL_J_d_F"
      },
      "source": [
        "### z should be the outcome of the 'winner' function\n",
        "def roundin(z):\n",
        "    result = {0:'Tie!',1:'I win.',2:'You win.'}\n",
        "    print('You chose ' + player)\n",
        "    print('I chose ' + quick_thumb)\n",
        "    print(result[z])"
      ],
      "execution_count": 18,
      "outputs": []
    },
    {
      "cell_type": "markdown",
      "metadata": {
        "id": "ZwuFjPhC_d_F"
      },
      "source": [
        "#### 10. Now it's time to code the execution of the game using the functions and variables you defined above. \n",
        "\n",
        "First, create a loop structure that repeats while no player reaches the minimum score necessary to win and the number of rounds is less than the maximum number of rounds to play in a game.  \n",
        "\n",
        "Inside the loop, use the functions and variables above to create the execution of a round: ask for the player's choice, generate the random choice of the computer, show the round results, update the scores, etc. "
      ]
    },
    {
      "cell_type": "code",
      "metadata": {
        "colab": {
          "base_uri": "https://localhost:8080/"
        },
        "id": "EtvtiYq9_d_F",
        "outputId": "cacb87b2-f8fb-49e4-e1cb-4f43b5b3e35f"
      },
      "source": [
        "rounds_done = 0\n",
        "while rounds_done < n_rounds and cpu_score < rounds_to_win and player_score < rounds_to_win:\n",
        "    player = shand(gestures)\n",
        "    quick_thumb = T800(gestures)\n",
        "    outcome = winner(joy)\n",
        "    roundin(outcome)\n",
        "    rounds_done += 1\n",
        "    if outcome == 1:\n",
        "        cpu_score += 1\n",
        "    elif outcome == 2:\n",
        "        player_score += 1\n"
      ],
      "execution_count": 19,
      "outputs": [
        {
          "output_type": "stream",
          "text": [
            "Please choose wisely: ['rock', 'paper', 'scissors'] >>>    rock\n",
            "You chose rock\n",
            "I chose rock\n",
            "Tie!\n",
            "Please choose wisely: ['rock', 'paper', 'scissors'] >>>    paper\n",
            "You chose paper\n",
            "I chose scissors\n",
            "I win.\n",
            "Please choose wisely: ['rock', 'paper', 'scissors'] >>>    rock\n",
            "You chose rock\n",
            "I chose rock\n",
            "Tie!\n"
          ],
          "name": "stdout"
        }
      ]
    },
    {
      "cell_type": "markdown",
      "metadata": {
        "id": "9J-rI54X_d_F"
      },
      "source": [
        "#### 11. Print the winner of the game based on who won more rounds.\n",
        "Remember that the game might be tied. "
      ]
    },
    {
      "cell_type": "code",
      "metadata": {
        "colab": {
          "base_uri": "https://localhost:8080/"
        },
        "id": "5ak5tH58_d_F",
        "outputId": "dd91d7d9-3b72-45fc-ad99-6ad8516897e0"
      },
      "source": [
        "if player_score >= cpu_score:\n",
        "    print(\"You win. \\nThor: 'Loki, my mind is going.'\")\n",
        "elif cpu_score >= player_score:\n",
        "    print(\"CPU wins! \\nThe Instructor: 'So did the man went down with his choice.'\")\n",
        "else:\n",
        "    print(\"Tie.\")"
      ],
      "execution_count": 22,
      "outputs": [
        {
          "output_type": "stream",
          "text": [
            "CPU wins! \n",
            "The Instructor: 'So did the man went down with his choice.'\n"
          ],
          "name": "stdout"
        }
      ]
    },
    {
      "cell_type": "markdown",
      "metadata": {
        "id": "vYLAdCkq_d_F"
      },
      "source": [
        "# Bonus: Rock, Paper, Scissors, Lizard & Spock\n",
        "![](images/rpsls.jpg)\n",
        "\n",
        "In this challenge, you need to improve the previous game by adding two new options. To know more about the rules of the improved version of rock, paper, scissors, check this [link](http://www.samkass.com/theories/RPSSL.html). \n",
        "\n",
        "In addition, you will also need to improve how the game interacts with the player: the number of rounds to play, which must be an odd number, will be requested to the user until a valid number is entered. Define a new function to make that request.\n",
        "\n",
        "**Hint**: Try to reuse the code that you already coded in the previous challenge. If your code is efficient, this bonus will only consist of simple modifications to the original game."
      ]
    },
    {
      "cell_type": "code",
      "metadata": {
        "colab": {
          "base_uri": "https://localhost:8080/"
        },
        "id": "6Fv-Y4kS_d_G",
        "outputId": "90f6b59c-bef5-4ad5-a4d9-fef8f5c8f421"
      },
      "source": [
        "gestures2 = ['rock','paper','scissors','lizard','spock']\n",
        "joy2 = {'rock':['scissors','lizard'], 'paper':['rock','spock'], 'scissors':['paper','lizard'], 'lizard':['spock','paper'],'spock':['rock','scissors']}\n",
        "cpu_score = 0\n",
        "player_score = 0\n",
        "rounds_done = 0\n",
        "while rounds_done < n_rounds and cpu_score < rounds_to_win and player_score < rounds_to_win:\n",
        "    player = shand(gestures2)\n",
        "    quick_thumb = T800(gestures2)\n",
        "    outcome = winner(joy2)\n",
        "    roundin(outcome)\n",
        "    rounds_done += 1\n",
        "    if outcome == 1:\n",
        "        cpu_score += 1\n",
        "    elif outcome == 2:\n",
        "        player_score += 1\n",
        "if player_score >= cpu_score:\n",
        "    print(\"You won... \\nThor: 'Loki, my mind is going crazy.'\")\n",
        "elif cpu_score >= player_score:\n",
        "    print(\"CPU wins! \\nThe Instructor: 'So did the man went down with his choice.'\")\n",
        "else:\n",
        "    print(\"Tie.\")"
      ],
      "execution_count": 25,
      "outputs": [
        {
          "output_type": "stream",
          "text": [
            "Please choose wisely: ['rock', 'paper', 'scissors', 'lizard', 'spock'] >>>    rock\n",
            "You chose rock\n",
            "I chose lizard\n",
            "You win.\n",
            "Please choose wisely: ['rock', 'paper', 'scissors', 'lizard', 'spock'] >>>    scissors\n",
            "You chose scissors\n",
            "I chose rock\n",
            "I win.\n",
            "Please choose wisely: ['rock', 'paper', 'scissors', 'lizard', 'spock'] >>>    lizard\n",
            "You chose lizard\n",
            "I chose spock\n",
            "You win.\n",
            "You won... \n",
            "Thor: 'Loki, my mind is going crazy.'\n"
          ],
          "name": "stdout"
        }
      ]
    }
  ]
}