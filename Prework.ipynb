{
 "cells": [
  {
   "cell_type": "code",
   "execution_count": 1,
   "metadata": {},
   "outputs": [
    {
     "ename": "NameError",
     "evalue": "name 'Hola' is not defined",
     "output_type": "error",
     "traceback": [
      "\u001b[1;31m---------------------------------------------------------------------------\u001b[0m",
      "\u001b[1;31mNameError\u001b[0m                                 Traceback (most recent call last)",
      "\u001b[1;32m<ipython-input-1-c8358c72121d>\u001b[0m in \u001b[0;36m<module>\u001b[1;34m\u001b[0m\n\u001b[1;32m----> 1\u001b[1;33m \u001b[0mHola\u001b[0m\u001b[1;33m\u001b[0m\u001b[1;33m\u001b[0m\u001b[0m\n\u001b[0m",
      "\u001b[1;31mNameError\u001b[0m: name 'Hola' is not defined"
     ]
    }
   ],
   "source": [
    "Hola"
   ]
  },
  {
   "cell_type": "code",
   "execution_count": 2,
   "metadata": {},
   "outputs": [
    {
     "name": "stdout",
     "output_type": "stream",
     "text": [
      "hola\n"
     ]
    }
   ],
   "source": [
    "print(\"hola\")"
   ]
  },
  {
   "cell_type": "code",
   "execution_count": 3,
   "metadata": {},
   "outputs": [
    {
     "name": "stdout",
     "output_type": "stream",
     "text": [
      "Happy variable is set to  True\n"
     ]
    }
   ],
   "source": [
    "happy = True\n",
    "print(\"Happy variable is set to \", happy)"
   ]
  },
  {
   "cell_type": "code",
   "execution_count": 4,
   "metadata": {},
   "outputs": [
    {
     "data": {
      "text/plain": [
       "10"
      ]
     },
     "execution_count": 4,
     "metadata": {},
     "output_type": "execute_result"
    }
   ],
   "source": [
    "len(range(5, 15))"
   ]
  },
  {
   "cell_type": "code",
   "execution_count": 5,
   "metadata": {},
   "outputs": [
    {
     "data": {
      "text/plain": [
       "10"
      ]
     },
     "execution_count": 5,
     "metadata": {},
     "output_type": "execute_result"
    }
   ],
   "source": [
    "len(range(10))"
   ]
  },
  {
   "cell_type": "code",
   "execution_count": 6,
   "metadata": {},
   "outputs": [
    {
     "data": {
      "text/plain": [
       "range(0, 10)"
      ]
     },
     "execution_count": 6,
     "metadata": {},
     "output_type": "execute_result"
    }
   ],
   "source": [
    "range(10)"
   ]
  },
  {
   "cell_type": "code",
   "execution_count": 7,
   "metadata": {},
   "outputs": [
    {
     "name": "stdout",
     "output_type": "stream",
     "text": [
      "range(0, 10)\n"
     ]
    }
   ],
   "source": [
    "print(range(10))"
   ]
  },
  {
   "cell_type": "code",
   "execution_count": 9,
   "metadata": {},
   "outputs": [
    {
     "name": "stdout",
     "output_type": "stream",
     "text": [
      "0\n",
      "1\n",
      "2\n",
      "3\n",
      "4\n",
      "5\n",
      "6\n",
      "7\n",
      "8\n",
      "9\n"
     ]
    }
   ],
   "source": [
    "for i in range(0, 10):\n",
    "    print(i)"
   ]
  },
  {
   "cell_type": "code",
   "execution_count": 10,
   "metadata": {},
   "outputs": [
    {
     "name": "stdout",
     "output_type": "stream",
     "text": [
      "Brian is 23 years old.\n",
      "Amy is 22 years old.\n",
      "Darlene is 47 years old.\n",
      "Ralph is 32 years old.\n",
      "Jordan is 28 years old.\n",
      "Stephanie is 35 years old.\n"
     ]
    }
   ],
   "source": [
    "ages = {'Brian':23, 'Amy':22, 'Darlene':47, 'Ralph':32, 'Jordan':28, 'Stephanie':35}\n",
    "\n",
    "for name, age in ages.items():\n",
    "    print(name, \"is\", age, \"years old.\")\n"
   ]
  },
  {
   "cell_type": "code",
   "execution_count": 11,
   "metadata": {},
   "outputs": [
    {
     "ename": "ValueError",
     "evalue": "too many values to unpack (expected 2)",
     "output_type": "error",
     "traceback": [
      "\u001b[1;31m---------------------------------------------------------------------------\u001b[0m",
      "\u001b[1;31mValueError\u001b[0m                                Traceback (most recent call last)",
      "\u001b[1;32m<ipython-input-11-3b8e97c45243>\u001b[0m in \u001b[0;36m<module>\u001b[1;34m\u001b[0m\n\u001b[0;32m      1\u001b[0m \u001b[0mages\u001b[0m \u001b[1;33m=\u001b[0m \u001b[1;33m{\u001b[0m\u001b[1;34m'Brian'\u001b[0m\u001b[1;33m:\u001b[0m\u001b[1;36m23\u001b[0m\u001b[1;33m,\u001b[0m \u001b[1;34m'Amy'\u001b[0m\u001b[1;33m:\u001b[0m\u001b[1;36m22\u001b[0m\u001b[1;33m,\u001b[0m \u001b[1;34m'Darlene'\u001b[0m\u001b[1;33m:\u001b[0m\u001b[1;36m47\u001b[0m\u001b[1;33m,\u001b[0m \u001b[1;34m'Ralph'\u001b[0m\u001b[1;33m:\u001b[0m\u001b[1;36m32\u001b[0m\u001b[1;33m,\u001b[0m \u001b[1;34m'Jordan'\u001b[0m\u001b[1;33m:\u001b[0m\u001b[1;36m28\u001b[0m\u001b[1;33m,\u001b[0m \u001b[1;34m'Stephanie'\u001b[0m\u001b[1;33m:\u001b[0m\u001b[1;36m35\u001b[0m\u001b[1;33m}\u001b[0m\u001b[1;33m\u001b[0m\u001b[1;33m\u001b[0m\u001b[0m\n\u001b[0;32m      2\u001b[0m \u001b[1;33m\u001b[0m\u001b[0m\n\u001b[1;32m----> 3\u001b[1;33m \u001b[1;32mfor\u001b[0m \u001b[0mname\u001b[0m\u001b[1;33m,\u001b[0m \u001b[0mage\u001b[0m \u001b[1;32min\u001b[0m \u001b[0mages\u001b[0m\u001b[1;33m:\u001b[0m\u001b[1;33m\u001b[0m\u001b[1;33m\u001b[0m\u001b[0m\n\u001b[0m\u001b[0;32m      4\u001b[0m     \u001b[0mprint\u001b[0m\u001b[1;33m(\u001b[0m\u001b[0mname\u001b[0m\u001b[1;33m,\u001b[0m \u001b[1;34m\"is\"\u001b[0m\u001b[1;33m,\u001b[0m \u001b[0mage\u001b[0m\u001b[1;33m,\u001b[0m \u001b[1;34m\"years old.\"\u001b[0m\u001b[1;33m)\u001b[0m\u001b[1;33m\u001b[0m\u001b[1;33m\u001b[0m\u001b[0m\n",
      "\u001b[1;31mValueError\u001b[0m: too many values to unpack (expected 2)"
     ]
    }
   ],
   "source": [
    "ages = {'Brian':23, 'Amy':22, 'Darlene':47, 'Ralph':32, 'Jordan':28, 'Stephanie':35}\n",
    "\n",
    "for name, age in ages:\n",
    "    print(name, \"is\", age, \"years old.\")\n"
   ]
  },
  {
   "cell_type": "code",
   "execution_count": 12,
   "metadata": {},
   "outputs": [
    {
     "data": {
      "text/plain": [
       "{'Brian': 23,\n",
       " 'Amy': 22,\n",
       " 'Darlene': 47,\n",
       " 'Ralph': 32,\n",
       " 'Jordan': 28,\n",
       " 'Stephanie': 35}"
      ]
     },
     "execution_count": 12,
     "metadata": {},
     "output_type": "execute_result"
    }
   ],
   "source": [
    "ages"
   ]
  },
  {
   "cell_type": "code",
   "execution_count": 14,
   "metadata": {},
   "outputs": [
    {
     "name": "stdout",
     "output_type": "stream",
     "text": [
      "Total is currently 34\n",
      "Total is currently 46\n",
      "Total is currently 139\n",
      "Total is currently 922\n",
      "Total is currently 1252\n",
      "Total is currently 2148\n",
      "Total is currently 2149\n",
      "Total is currently 2204\n"
     ]
    }
   ],
   "source": [
    "num_list = [34, 12, 93, 783, 330, 896, 1, 55]\n",
    "\n",
    "total = 0\n",
    "\n",
    "for i in num_list:\n",
    "    total += i\n",
    "    print(\"Total is currently\", total)\n"
   ]
  },
  {
   "cell_type": "code",
   "execution_count": 15,
   "metadata": {},
   "outputs": [],
   "source": [
    "import os"
   ]
  },
  {
   "cell_type": "code",
   "execution_count": 16,
   "metadata": {},
   "outputs": [
    {
     "data": {
      "text/plain": [
       "'C:\\\\Users\\\\Borja\\\\Documents\\\\2020\\\\Bootcamp Ironhack\\\\git\\\\data-prework'"
      ]
     },
     "execution_count": 16,
     "metadata": {},
     "output_type": "execute_result"
    }
   ],
   "source": [
    "os.getcwd()\n"
   ]
  },
  {
   "cell_type": "code",
   "execution_count": 17,
   "metadata": {},
   "outputs": [
    {
     "data": {
      "text/plain": [
       "'C:\\\\Users\\\\Borja\\\\Desktop'"
      ]
     },
     "execution_count": 17,
     "metadata": {},
     "output_type": "execute_result"
    }
   ],
   "source": [
    "os.chdir('/Users/Borja/Desktop')\n",
    "os.getcwd()"
   ]
  },
  {
   "cell_type": "code",
   "execution_count": 27,
   "metadata": {},
   "outputs": [
    {
     "data": {
      "text/plain": [
       "'C:\\\\users\\\\Borja'"
      ]
     },
     "execution_count": 27,
     "metadata": {},
     "output_type": "execute_result"
    }
   ],
   "source": [
    "root = 'C:\\\\'\n",
    "level_1 = 'users'\n",
    "level_2 = 'Borja'\n",
    "\n",
    "\n",
    "os.path.join(root, level_1, level_2)\n"
   ]
  },
  {
   "cell_type": "code",
   "execution_count": 28,
   "metadata": {},
   "outputs": [],
   "source": [
    "os.chdir(os.path.join(root, level_1, level_2))\n"
   ]
  },
  {
   "cell_type": "code",
   "execution_count": 29,
   "metadata": {},
   "outputs": [
    {
     "data": {
      "text/plain": [
       "'C:\\\\users\\\\Borja'"
      ]
     },
     "execution_count": 29,
     "metadata": {},
     "output_type": "execute_result"
    }
   ],
   "source": [
    "os.getcwd()"
   ]
  },
  {
   "cell_type": "code",
   "execution_count": 32,
   "metadata": {},
   "outputs": [],
   "source": [
    "os.chdir(\"c:/users/borja/documents/2020\")"
   ]
  },
  {
   "cell_type": "code",
   "execution_count": 33,
   "metadata": {},
   "outputs": [
    {
     "data": {
      "text/plain": [
       "'c:\\\\users\\\\borja\\\\documents\\\\2020'"
      ]
     },
     "execution_count": 33,
     "metadata": {},
     "output_type": "execute_result"
    }
   ],
   "source": [
    "os.getcwd()"
   ]
  },
  {
   "cell_type": "code",
   "execution_count": 35,
   "metadata": {},
   "outputs": [],
   "source": [
    "os.chdir(\"C:\\\\Users\\\\Borja\\\\Documents\\\\2020\\\\Bootcamp Ironhack\\\\git\\\\data-prework\")"
   ]
  },
  {
   "cell_type": "code",
   "execution_count": 36,
   "metadata": {},
   "outputs": [
    {
     "data": {
      "text/plain": [
       "'C:\\\\Users\\\\Borja\\\\Documents\\\\2020\\\\Bootcamp Ironhack\\\\git\\\\data-prework'"
      ]
     },
     "execution_count": 36,
     "metadata": {},
     "output_type": "execute_result"
    }
   ],
   "source": [
    "os.getcwd()"
   ]
  },
  {
   "cell_type": "code",
   "execution_count": 37,
   "metadata": {},
   "outputs": [],
   "source": [
    "folder_name = 'new_folder'\n",
    "\n",
    "if os.path.exists(folder_name) == False:\n",
    "    os.makedirs(folder_name)\n"
   ]
  },
  {
   "cell_type": "code",
   "execution_count": 38,
   "metadata": {},
   "outputs": [],
   "source": [
    "with open(\"example.txt\", \"w\") as f:\n",
    "    f.write(\"Hello World! \\n\")\n",
    "    f.write(\"How are you? \\n\")\n",
    "    f.write(\"I'm fine.\")\n"
   ]
  },
  {
   "cell_type": "code",
   "execution_count": 39,
   "metadata": {},
   "outputs": [
    {
     "name": "stdout",
     "output_type": "stream",
     "text": [
      "Hello World! \n",
      "\n",
      "How are you? \n",
      "\n",
      "I'm fine.\n"
     ]
    }
   ],
   "source": [
    "with open(\"example.txt\", \"r\") as f:\n",
    "    lines = f.readlines()\n",
    "    for line in lines:\n",
    "        print(line)\n"
   ]
  },
  {
   "cell_type": "code",
   "execution_count": 40,
   "metadata": {},
   "outputs": [],
   "source": [
    "data = []\n",
    "\n",
    "with open(\"./weight_height.csv\", \"r\") as f:\n",
    "    lines = f.readlines()\n",
    "    for line in lines:\n",
    "        data.append(line.split()[0].split(\",\"))\n"
   ]
  },
  {
   "cell_type": "code",
   "execution_count": 41,
   "metadata": {},
   "outputs": [
    {
     "name": "stdout",
     "output_type": "stream",
     "text": [
      "[['gender', 'actual_weight', 'actual_height', 'reported_weight', 'reported_height'], ['M', '77', '182', '77', '180'], ['F', '58', '161', '51', '159'], ['F', '53', '161', '54', '158'], ['M', '68', '177', '70', '175'], ['F', '59', '157', '59', '155'], ['M', '76', '170', '76', '165'], ['M', '76', '167', '77', '165'], ['M', '69', '186', '73', '180'], ['M', '71', '178', '71', '175'], ['M', '65', '171', '64', '170'], ['M', '70', '175', '75', '174'], ['F', '166', '57', '56', '163'], ['F', '51', '161', '52', '158'], ['F', '64', '168', '64', '165'], ['F', '52', '163', '57', '160'], ['F', '65', '166', '66', '165'], ['M', '92', '187', '101', '185'], ['F', '62', '168', '62', '165'], ['M', '76', '197', '75', '200'], ['F', '61', '175', '61', '171'], ['M', '119', '180', '124', '178'], ['F', '61', '170', '61', '170'], ['M', '65', '175', '66', '173'], ['M', '66', '173', '70', '170'], ['F', '54', '171', '59', '168'], ['F', '50', '166', '50', '165'], ['F', '63', '169', '61', '168'], ['F', '58', '166', '60', '160'], ['F', '39', '157', '41', '153'], ['M', '101', '183', '100', '180'], ['F', '71', '166', '71', '165'], ['M', '75', '178', '73', '175'], ['M', '79', '173', '76', '173'], ['F', '52', '164', '52', '161'], ['F', '68', '169', '63', '170'], ['M', '64', '176', '65', '175'], ['F', '56', '166', '54', '165'], ['M', '69', '174', '69', '171'], ['M', '88', '178', '86', '175'], ['M', '65', '187', '67', '188'], ['F', '54', '164', '53', '160'], ['M', '80', '178', '80', '178'], ['F', '63', '163', '59', '159'], ['M', '78', '183', '80', '180'], ['M', '85', '179', '82', '175'], ['F', '54', '160', '55', '158'], ['F', '54', '174', '56', '173'], ['F', '75', '162', '75', '158'], ['M', '82', '182', '85', '183'], ['F', '56', '165', '57', '163'], ['M', '74', '169', '73', '170'], ['M', '102', '185', '107', '185'], ['M', '65', '176', '64', '172'], ['M', '73', '183', '74', '180'], ['M', '75', '172', '70', '169'], ['M', '57', '173', '58', '170'], ['M', '68', '165', '69', '165'], ['M', '71', '177', '71', '170'], ['M', '71', '180', '76', '175'], ['F', '78', '173', '75', '169'], ['M', '97', '189', '98', '185'], ['F', '60', '162', '59', '160'], ['F', '64', '165', '63', '163'], ['F', '64', '164', '62', '161'], ['F', '52', '158', '51', '155'], ['M', '80', '178', '76', '175'], ['F', '62', '175', '61', '171'], ['M', '66', '173', '66', '175'], ['F', '55', '165', '54', '163'], ['F', '56', '163', '57', '159'], ['F', '50', '166', '50', '161'], ['F', '50', '160', '55', '150'], ['F', '63', '160', '64', '158'], ['M', '69', '182', '70', '180'], ['M', '69', '183', '70', '183'], ['F', '61', '165', '60', '163'], ['M', '55', '168', '56', '170'], ['F', '53', '169', '52', '175'], ['F', '60', '167', '55', '163'], ['F', '56', '170', '56', '170'], ['M', '59', '182', '61', '183'], ['M', '62', '178', '66', '175'], ['F', '53', '165', '53', '165'], ['F', '57', '163', '59', '160'], ['F', '57', '162', '56', '160'], ['M', '70', '173', '68', '170'], ['F', '56', '161', '56', '161'], ['M', '84', '184', '86', '183'], ['M', '69', '180', '71', '180'], ['M', '88', '189', '87', '185'], ['F', '56', '165', '57', '160'], ['M', '103', '185', '101', '182'], ['F', '50', '169', '50', '165'], ['F', '52', '159', '52', '153'], ['F', '55', '164', '55', '163'], ['M', '63', '178', '63', '175'], ['F', '47', '163', '47', '160'], ['F', '45', '163', '45', '160'], ['F', '62', '175', '63', '173'], ['F', '53', '164', '51', '160'], ['F', '52', '152', '51', '150'], ['F', '57', '167', '55', '164'], ['F', '64', '166', '64', '165'], ['F', '59', '166', '55', '163'], ['M', '84', '183', '90', '183'], ['M', '79', '179', '79', '171'], ['F', '55', '174', '57', '171'], ['M', '67', '179', '67', '179'], ['F', '76', '167', '77', '165'], ['F', '62', '168', '62', '163'], ['M', '83', '184', '83', '181'], ['M', '96', '184', '94', '183'], ['M', '75', '169', '76', '165'], ['M', '65', '178', '66', '178'], ['M', '78', '178', '77', '175'], ['M', '69', '167', '73', '165'], ['F', '68', '178', '68', '175'], ['F', '55', '165', '55', '163'], ['F', '52', '169', '56', 'NA'], ['F', '45', '157', '45', '153'], ['F', '68', '171', '68', '169'], ['F', '44', '157', '44', '155'], ['F', '62', '166', '61', '163'], ['M', '87', '185', '89', '185'], ['F', '56', '160', '53', '158'], ['F', '50', '148', '47', '148'], ['M', '83', '177', '84', '175'], ['F', '53', '162', '53', '160'], ['F', '64', '172', '62', '168'], ['M', '90', '188', '91', '185'], ['M', '85', '191', '83', '188'], ['M', '66', '175', '68', '175'], ['F', '52', '163', '53', '160'], ['F', '53', '165', '55', '163'], ['F', '54', '176', '55', '176'], ['F', '64', '171', '66', '171'], ['F', '55', '160', '55', '155'], ['F', '55', '165', '55', '165'], ['F', '59', '157', '55', '158'], ['F', '70', '173', '67', '170'], ['M', '88', '184', '86', '183'], ['F', '57', '168', '58', '165'], ['F', '47', '162', '47', '160'], ['F', '47', '150', '45', '152'], ['F', '48', '163', '44', '160'], ['M', '54', '169', '58', '165'], ['M', '69', '172', '68', '174'], ['F', '57', '167', '56', '165'], ['F', '51', '163', '50', '160'], ['F', '54', '161', '54', '160'], ['F', '53', '162', '52', '158'], ['F', '59', '172', '58', '171'], ['M', '56', '163', '58', '161'], ['F', '59', '159', '59', '155'], ['F', '63', '170', '62', '168'], ['F', '66', '166', '66', '165'], ['M', '96', '191', '95', '188'], ['F', '53', '158', '50', '155'], ['M', '76', '169', '75', '165'], ['M', '61', '170', '61', '170'], ['M', '62', '168', '64', '168'], ['M', '71', '178', '68', '178'], ['M', '66', '170', '67', '165'], ['M', '81', '178', '82', '175'], ['M', '68', '174', '68', '173'], ['M', '80', '176', '78', '175'], ['F', '63', '165', '59', '160'], ['M', '70', '173', '70', '173'], ['F', '56', '162', '56', '160'], ['F', '60', '172', '55', '168'], ['F', '58', '169', '54', '166'], ['M', '76', '183', '75', '180'], ['F', '50', '158', '49', '155'], ['M', '88', '185', '93', '188'], ['M', '89', '173', '86', '173'], ['F', '59', '164', '59', '165'], ['F', '51', '156', '51', '158'], ['F', '62', '164', '61', '161'], ['M', '74', '175', '71', '175'], ['M', '83', '180', '80', '180'], ['M', '90', '181', '91', '178'], ['M', '79', '177', '81', '178']]\n"
     ]
    }
   ],
   "source": [
    "print(data)"
   ]
  },
  {
   "cell_type": "code",
   "execution_count": 42,
   "metadata": {},
   "outputs": [
    {
     "name": "stdout",
     "output_type": "stream",
     "text": [
      "Avg male height: 178.0121951219512\n",
      "Avg female height 163.7\n"
     ]
    }
   ],
   "source": [
    "male_heights = []\n",
    "female_heights = []\n",
    "\n",
    "for person in data[1:]:\n",
    "    height = int(person[2])\n",
    "    if person[0] == 'M':\n",
    "        male_heights.append(height)\n",
    "    elif person[0] == 'F':\n",
    "        female_heights.append(height)\n",
    "\n",
    "avg_male_height = sum(male_heights)/len(male_heights)\n",
    "avg_female_height = sum(female_heights)/len(female_heights)\n",
    "\n",
    "print(\"Avg male height:\", avg_male_height)\n",
    "print(\"Avg female height\", avg_female_height)\n"
   ]
  },
  {
   "cell_type": "code",
   "execution_count": null,
   "metadata": {},
   "outputs": [],
   "source": []
  }
 ],
 "metadata": {
  "kernelspec": {
   "display_name": "Python 3",
   "language": "python",
   "name": "python3"
  },
  "language_info": {
   "codemirror_mode": {
    "name": "ipython",
    "version": 3
   },
   "file_extension": ".py",
   "mimetype": "text/x-python",
   "name": "python",
   "nbconvert_exporter": "python",
   "pygments_lexer": "ipython3",
   "version": "3.7.4"
  }
 },
 "nbformat": 4,
 "nbformat_minor": 2
}
