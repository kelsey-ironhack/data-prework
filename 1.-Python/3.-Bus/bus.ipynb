{
 "cells": [
  {
   "cell_type": "markdown",
   "metadata": {},
   "source": [
    "<img src=\"https://bit.ly/2VnXWr2\" width=\"100\" align=\"left\">"
   ]
  },
  {
   "cell_type": "markdown",
   "metadata": {},
   "source": [
    "# Bus\n",
    "\n",
    "This bus has a passenger entry and exit control system to monitor the number of occupants it carries and thus detect when there are too many.\n",
    "\n",
    "At each stop, the entry and exit of passengers is represented by a tuple consisting of two integer numbers.\n",
    "```\n",
    "bus_stop = (in, out)\n",
    "```\n",
    "The succession of stops is represented by a list of these tuples.\n",
    "```\n",
    "stops = [(in1, out1), (in2, out2), (in3, out3), (in4, out4)]\n",
    "```\n",
    "\n",
    "## Tools\n",
    "You don't necessarily need to use all the tools. Maybe you opt to use some of them or completely different ones, they are given to help you shape the exercise. Programming exercises can be solved in many different ways.\n",
    "* Data structures: **lists, tuples**\n",
    "* Loop: **while/for loops**\n",
    "* Functions: **min, max, len**\n",
    "\n",
    "## Tasks"
   ]
  },
  {
   "cell_type": "code",
   "execution_count": 2,
   "metadata": {},
   "outputs": [],
   "source": [
    "# Variables\n",
    "stops = [(10, 0), (4, 1), (3, 5), (3, 4), (5, 1), (1, 5), (5, 8), (4, 6), (2, 3)]"
   ]
  },
  {
   "cell_type": "markdown",
   "metadata": {},
   "source": [
    "#### 1. Calculate the number of stops."
   ]
  },
  {
   "cell_type": "code",
   "execution_count": 4,
   "metadata": {},
   "outputs": [
    {
     "name": "stdout",
     "output_type": "stream",
     "text": [
      "The number of stops is: 9\n"
     ]
    }
   ],
   "source": [
    "number_stops=len(stops)\n",
    "print(\"The number of stops is:\",number_stops)\n"
   ]
  },
  {
   "cell_type": "markdown",
   "metadata": {},
   "source": [
    "#### 2. Assign to a variable a list whose elements are the number of passengers at each stop (in-out).\n",
    "Each item depends on the previous item in the list + in - out."
   ]
  },
  {
   "cell_type": "code",
   "execution_count": 10,
   "metadata": {},
   "outputs": [
    {
     "name": "stdout",
     "output_type": "stream",
     "text": [
      "[10, 13, 11, 10, 14, 10, 7, 5, 4]\n"
     ]
    }
   ],
   "source": [
    "number_pas=[]\n",
    "stop_one=stops[0]\n",
    "stop_two=stops[1]\n",
    "stop_three=stops[2]\n",
    "stop_four=stops[3]\n",
    "stop_five=stops[4]\n",
    "stop_six=stops[5]\n",
    "stop_seven=stops[6]\n",
    "stop_eight=stops[7]\n",
    "stop_nine=stops[8]\n",
    "stop_1=list(stop_one)\n",
    "stop_2=list(stop_two)\n",
    "stop_3=list(stop_three)\n",
    "stop_4=list(stop_four)\n",
    "stop_5=list(stop_five)\n",
    "stop_6=list(stop_six)\n",
    "stop_7=list(stop_seven)\n",
    "stop_8=list(stop_eight)\n",
    "stop_9=list(stop_nine)\n",
    "pas1=stop_1[0]-stop_1[1]\n",
    "pas2=pas1+stop_2[0]-stop_2[1]\n",
    "pas3=pas2+stop_3[0]-stop_3[1]\n",
    "pas4=pas3+stop_4[0]-stop_4[1]\n",
    "pas5=pas4+stop_5[0]-stop_5[1]\n",
    "pas6=pas5+stop_6[0]-stop_6[1]\n",
    "pas7=pas6+stop_7[0]-stop_7[1]\n",
    "pas8=pas7+stop_8[0]-stop_8[1]\n",
    "pas9=pas8+stop_9[0]-stop_9[1]\n",
    "number_pas=[pas1,pas2,pas3,pas4,pas5,pas6,pas7,pas8,pas9]\n",
    "print(number_pas)\n"
   ]
  },
  {
   "cell_type": "markdown",
   "metadata": {},
   "source": [
    "#### 3. Find the maximum occupation of the bus."
   ]
  },
  {
   "cell_type": "code",
   "execution_count": 11,
   "metadata": {},
   "outputs": [
    {
     "name": "stdout",
     "output_type": "stream",
     "text": [
      "The maximum accupation of the bus was: 14\n"
     ]
    }
   ],
   "source": [
    "max_ocu=max(number_pas)\n",
    "print(\"The maximum accupation of the bus was:\",max_ocu)\n"
   ]
  },
  {
   "cell_type": "markdown",
   "metadata": {},
   "source": [
    "#### 4. Calculate the average occupation. And the standard deviation."
   ]
  },
  {
   "cell_type": "code",
   "execution_count": 13,
   "metadata": {},
   "outputs": [
    {
     "name": "stdout",
     "output_type": "stream",
     "text": [
      "The average acupation is: 9.333333333333334\n",
      "The standard deviation is: 3.391164991562634\n"
     ]
    }
   ],
   "source": [
    "average_ocu=sum(number_pas)/len(number_pas)\n",
    "print(\"The average acupation is:\",average_ocu)\n",
    "import statistics\n",
    "std_dev=statistics.stdev(number_pas)\n",
    "print(\"The standard deviation is:\",std_dev)"
   ]
  },
  {
   "cell_type": "code",
   "execution_count": null,
   "metadata": {},
   "outputs": [],
   "source": []
  }
 ],
 "metadata": {
  "kernelspec": {
   "display_name": "Python 3",
   "language": "python",
   "name": "python3"
  },
  "language_info": {
   "codemirror_mode": {
    "name": "ipython",
    "version": 3
   },
   "file_extension": ".py",
   "mimetype": "text/x-python",
   "name": "python",
   "nbconvert_exporter": "python",
   "pygments_lexer": "ipython3",
   "version": "3.8.3"
  }
 },
 "nbformat": 4,
 "nbformat_minor": 2
}
