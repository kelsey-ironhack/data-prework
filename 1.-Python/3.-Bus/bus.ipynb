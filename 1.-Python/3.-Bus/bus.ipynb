{
 "cells": [
  {
   "cell_type": "markdown",
   "metadata": {},
   "source": [
    "<img src=\"https://bit.ly/2VnXWr2\" width=\"100\" align=\"left\">"
   ]
  },
  {
   "cell_type": "markdown",
   "metadata": {},
   "source": [
    "# Bus\n",
    "\n",
    "This bus has a passenger entry and exit control system to monitor the number of occupants it carries and thus detect when there are too many.\n",
    "\n",
    "At each stop, the entry and exit of passengers is represented by a tuple consisting of two integer numbers.\n",
    "```\n",
    "bus_stop = (in, out)\n",
    "```\n",
    "The succession of stops is represented by a list of these tuples.\n",
    "```\n",
    "stops = [(in1, out1), (in2, out2), (in3, out3), (in4, out4)]\n",
    "```\n",
    "\n",
    "## Tools\n",
    "You don't necessarily need to use all the tools. Maybe you opt to use some of them or completely different ones, they are given to help you shape the exercise. Programming exercises can be solved in many different ways.\n",
    "* Data structures: **lists, tuples**\n",
    "* Loop: **while/for loops**\n",
    "* Functions: **min, max, len**\n",
    "\n",
    "## Tasks"
   ]
  },
  {
   "cell_type": "code",
   "execution_count": 46,
   "metadata": {},
   "outputs": [],
   "source": [
    "# Variables\n",
    "stops = [(10, 0), (4, 1), (3, 5), (3, 4), (5, 1), (1, 5), (5, 8), (4, 6), (2, 3)]"
   ]
  },
  {
   "cell_type": "markdown",
   "metadata": {},
   "source": [
    "#### 1. Calculate the number of stops."
   ]
  },
  {
   "cell_type": "code",
   "execution_count": 47,
   "metadata": {},
   "outputs": [
    {
     "data": {
      "text/plain": [
       "9"
      ]
     },
     "execution_count": 47,
     "metadata": {},
     "output_type": "execute_result"
    }
   ],
   "source": [
    "no_of_stops=len(stops)\n",
    "no_of_stops\n",
    "#print(stops[0][0]-stops[0][1])"
   ]
  },
  {
   "cell_type": "markdown",
   "metadata": {},
   "source": [
    "#### 2. Assign to a variable a list whose elements are the number of passengers at each stop (in-out).\n",
    "Each item depends on the previous item in the list + in - out."
   ]
  },
  {
   "cell_type": "code",
   "execution_count": 48,
   "metadata": {},
   "outputs": [
    {
     "data": {
      "text/plain": [
       "[10, 3, -2, -1, 4, -4, -3, -2, -1]"
      ]
     },
     "execution_count": 48,
     "metadata": {},
     "output_type": "execute_result"
    }
   ],
   "source": [
    "#trying without loop to recognize the pattern\n",
    "pax_stop_1=stops[0][0]-stops[0][1]\n",
    "pax_stop_2=stops[1][0]-stops[1][1]\n",
    "pax_stop_3=stops[2][0]-stops[2][1]\n",
    "pax_stop_4=stops[3][0]-stops[3][1]\n",
    "pax_stop_5=stops[4][0]-stops[4][1]\n",
    "pax_stop_6=stops[5][0]-stops[5][1]\n",
    "pax_stop_7=stops[6][0]-stops[6][1]\n",
    "pax_stop_8=stops[7][0]-stops[7][1]\n",
    "pax_stop_9=stops[8][0]-stops[8][1]\n",
    "\n",
    "no_pax_es_list_1 =[pax_stop_1,pax_stop_2,pax_stop_3,pax_stop_4,pax_stop_5,pax_stop_6,pax_stop_7,pax_stop_8,pax_stop_9]\n",
    "\n",
    "#for i in range(0,no_of_stops):\n",
    "    #diff_each_stop = stops.index(i)\n",
    "    #no_pax_es_list_in.append(stops.index[i])\n",
    "    #no_pax_es_list_out.append(stops.index[j])\n",
    "\n",
    "no_pax_es_list_1\n"
   ]
  },
  {
   "cell_type": "code",
   "execution_count": 49,
   "metadata": {},
   "outputs": [
    {
     "data": {
      "text/plain": [
       "[10, 3, -2, -1, 4, -4, -3, -2, -1]"
      ]
     },
     "execution_count": 49,
     "metadata": {},
     "output_type": "execute_result"
    }
   ],
   "source": [
    "#using loop to create the same list\n",
    "#no_pax_es_list_out\n",
    "\n",
    "no_pax_es_list =[]\n",
    "for i in range(0,no_of_stops):\n",
    "    no_paxstops_es=stops[i][0]-stops[i][1]\n",
    "    no_pax_es_list.append(no_paxstops_es)\n",
    "    \n",
    "no_pax_es_list"
   ]
  },
  {
   "cell_type": "markdown",
   "metadata": {},
   "source": [
    "#### 3. Find the maximum occupation of the bus."
   ]
  },
  {
   "cell_type": "code",
   "execution_count": 50,
   "metadata": {},
   "outputs": [
    {
     "data": {
      "text/plain": [
       "10"
      ]
     },
     "execution_count": 50,
     "metadata": {},
     "output_type": "execute_result"
    }
   ],
   "source": [
    "max_occupancy = max(no_pax_es_list)\n",
    "max_occupancy"
   ]
  },
  {
   "cell_type": "markdown",
   "metadata": {},
   "source": [
    "#### 4. Calculate the average occupation. And the standard deviation."
   ]
  },
  {
   "cell_type": "code",
   "execution_count": 51,
   "metadata": {},
   "outputs": [
    {
     "data": {
      "text/plain": [
       "0.4444444444444444"
      ]
     },
     "execution_count": 51,
     "metadata": {},
     "output_type": "execute_result"
    }
   ],
   "source": [
    "avg_occupancy = sum(no_pax_es_list)/len(no_pax_es_list)\n",
    "avg_occupancy"
   ]
  },
  {
   "cell_type": "code",
   "execution_count": 53,
   "metadata": {},
   "outputs": [
    {
     "name": "stdout",
     "output_type": "stream",
     "text": [
      "4.192880503136268\n"
     ]
    }
   ],
   "source": [
    "import math\n",
    "\n",
    "list_1 = []\n",
    "for i in no_pax_es_list:\n",
    "    diff_mean_obs_dw = i - avg_occupancy\n",
    "    diff_mean_obs_sq_dw = diff_mean_obs_dw**2\n",
    "    list_1.append(diff_mean_obs_sq_dw)\n",
    "\n",
    "sum_1 = sum(list_1)\n",
    "div_obs_no_dw = sum_1/len(list_1)\n",
    "stdev_1 = math.sqrt(div_obs_no_dw)\n",
    "\n",
    "print(stdev_1)\n",
    "\n",
    "\n"
   ]
  },
  {
   "cell_type": "code",
   "execution_count": null,
   "metadata": {},
   "outputs": [],
   "source": []
  },
  {
   "cell_type": "code",
   "execution_count": null,
   "metadata": {},
   "outputs": [],
   "source": []
  },
  {
   "cell_type": "code",
   "execution_count": null,
   "metadata": {},
   "outputs": [],
   "source": []
  }
 ],
 "metadata": {
  "kernelspec": {
   "display_name": "Python 3",
   "language": "python",
   "name": "python3"
  },
  "language_info": {
   "codemirror_mode": {
    "name": "ipython",
    "version": 3
   },
   "file_extension": ".py",
   "mimetype": "text/x-python",
   "name": "python",
   "nbconvert_exporter": "python",
   "pygments_lexer": "ipython3",
   "version": "3.9.2"
  }
 },
 "nbformat": 4,
 "nbformat_minor": 2
}
