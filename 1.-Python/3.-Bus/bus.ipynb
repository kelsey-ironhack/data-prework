{
 "cells": [
  {
   "cell_type": "markdown",
   "metadata": {},
   "source": [
    "<img src=\"https://bit.ly/2VnXWr2\" width=\"100\" align=\"left\">"
   ]
  },
  {
   "cell_type": "markdown",
   "metadata": {},
   "source": [
    "# Bus\n",
    "\n",
    "This bus has a passenger entry and exit control system to monitor the number of occupants it carries and thus detect when there are too many.\n",
    "\n",
    "At each stop, the entry and exit of passengers is represented by a tuple consisting of two integer numbers.\n",
    "```\n",
    "bus_stop = (in, out)\n",
    "```\n",
    "The succession of stops is represented by a list of these tuples.\n",
    "```\n",
    "stops = [(in1, out1), (in2, out2), (in3, out3), (in4, out4)]\n",
    "```\n",
    "\n",
    "## Tools\n",
    "You don't necessarily need to use all the tools. Maybe you opt to use some of them or completely different ones, they are given to help you shape the exercise. Programming exercises can be solved in many different ways.\n",
    "* Data structures: **lists, tuples**\n",
    "* Loop: **while/for loops**\n",
    "* Functions: **min, max, len**\n",
    "\n",
    "## Tasks"
   ]
  },
  {
   "cell_type": "code",
   "execution_count": 4,
   "metadata": {},
   "outputs": [],
   "source": [
    "# Variables\n",
    "stops = [(10, 0), (4, 1), (3, 5), (3, 4), (5, 1), (1, 5), (5, 8), (4, 6), (2, 3)]"
   ]
  },
  {
   "cell_type": "markdown",
   "metadata": {},
   "source": [
    "#### 1. Calculate the number of stops."
   ]
  },
  {
   "cell_type": "code",
   "execution_count": 6,
   "metadata": {},
   "outputs": [
    {
     "name": "stdout",
     "output_type": "stream",
     "text": [
      "Numero de paradas: 9\n"
     ]
    }
   ],
   "source": [
    "stops = [(10, 0), (4, 1), (3, 5), (3, 4), (5, 1), (1, 5), (5, 8), (4, 6), (2, 3)]\n",
    "print(\"Numero de paradas:\",len(stops))"
   ]
  },
  {
   "cell_type": "markdown",
   "metadata": {},
   "source": [
    "#### 2. Assign to a variable a list whose elements are the number of passengers at each stop (in-out).\n",
    "Each item depends on the previous item in the list + in - out."
   ]
  },
  {
   "cell_type": "code",
   "execution_count": 35,
   "metadata": {},
   "outputs": [
    {
     "name": "stdout",
     "output_type": "stream",
     "text": [
      "No. de pasajeros que sube por parada: [10, 4, 3, 3, 5, 1, 5, 4, 2]\n",
      "No. de pasajeros que bajan por parada: [0, 1, 5, 4, 1, 5, 8, 6, 3]\n",
      "No. de pasajeros que suben - que bajan por parada: [10, 3, -2, -1, 4, -4, -3, -2, -1]\n"
     ]
    }
   ],
   "source": [
    "stops = [(10, 0), (4, 1), (3, 5), (3, 4), (5, 1), (1, 5), (5, 8), (4, 6), (2, 3)]\n",
    "\n",
    "count = 0\n",
    "\n",
    "num_passengers_in = []\n",
    "num_passengers_out = []\n",
    "num_passengers_total = []\n",
    "\n",
    "while count < len(stops):\n",
    "    num_passengers_in.append(stops[count][0])\n",
    "    num_passengers_out.append(stops[count][1])\n",
    "    num_passengers_total.append(num_passengers_in[count]-num_passengers_out[count])\n",
    "    count = count +1\n",
    "    \n",
    "print('No. de pasajeros que sube por parada:',num_passengers_in)\n",
    "print('No. de pasajeros que bajan por parada:',num_passengers_out)\n",
    "print('No. de pasajeros que suben - que bajan por parada:',num_passengers_total)\n"
   ]
  },
  {
   "cell_type": "markdown",
   "metadata": {},
   "source": [
    "#### 3. Find the maximum occupation of the bus."
   ]
  },
  {
   "cell_type": "code",
   "execution_count": 61,
   "metadata": {},
   "outputs": [
    {
     "name": "stdout",
     "output_type": "stream",
     "text": [
      "Parada: 1 , 10 pasajeros\n",
      "Parada: 2 , 13 pasajeros\n",
      "Parada: 3 , 11 pasajeros\n",
      "Parada: 4 , 10 pasajeros\n",
      "Parada: 5 , 14 pasajeros\n",
      "Parada: 6 , 10 pasajeros\n",
      "Parada: 7 , 7 pasajeros\n",
      "Parada: 8 , 5 pasajeros\n",
      "Parada: 9 , 4 pasajeros\n",
      "La maxima ocupacion del bus, 14 pasajeros en la parada 5\n"
     ]
    }
   ],
   "source": [
    "stops = [(10, 0), (4, 1), (3, 5), (3, 4), (5, 1), (1, 5), (5, 8), (4, 6), (2, 3)]\n",
    "\n",
    "count = 0\n",
    "\n",
    "num_passengers_in = []\n",
    "num_passengers_out = []\n",
    "num_passengers_total = []\n",
    "\n",
    "while count < len(stops):\n",
    "    num_passengers_in.append(stops[count][0])\n",
    "    num_passengers_out.append(stops[count][1])\n",
    "    num_passengers_total.append(num_passengers_in[count]-num_passengers_out[count])\n",
    "    count = count +1\n",
    "total_passengers = 0\n",
    "count_stop = 0\n",
    "for total in num_passengers_total:\n",
    "    total_passengers= total +total_passengers\n",
    "    count_stop = count_stop +1\n",
    "    print('Parada:',count_stop,',',total_passengers,'pasajeros')\n",
    "\n",
    "print('La maxima ocupacion del bus, 14 pasajeros en la parada 5')\n"
   ]
  },
  {
   "cell_type": "markdown",
   "metadata": {},
   "source": [
    "#### 4. Calculate the average occupation. And the standard deviation."
   ]
  },
  {
   "cell_type": "code",
   "execution_count": 72,
   "metadata": {},
   "outputs": [
    {
     "name": "stdout",
     "output_type": "stream",
     "text": [
      "Promedio de ocupacion: 9.333333333333334 pasajeros\n",
      "Desviacion estandar: 3.391164991562634\n"
     ]
    }
   ],
   "source": [
    "stops = [(10, 0), (4, 1), (3, 5), (3, 4), (5, 1), (1, 5), (5, 8), (4, 6), (2, 3)]\n",
    "\n",
    "count = 0\n",
    "\n",
    "num_passengers_in = []\n",
    "num_passengers_out = []\n",
    "num_passengers_total = []\n",
    "\n",
    "while count < len(stops):\n",
    "    num_passengers_in.append(stops[count][0])\n",
    "    num_passengers_out.append(stops[count][1])\n",
    "    num_passengers_total.append(num_passengers_in[count]-num_passengers_out[count])\n",
    "    count = count +1\n",
    "total_passengers = 0\n",
    "count_stop = 0\n",
    "occupation = []\n",
    "for total in num_passengers_total:\n",
    "    total_passengers= total +total_passengers\n",
    "    occupation.append(total_passengers)\n",
    "    count_stop = count_stop +1\n",
    "\n",
    "\n",
    "print('Promedio de ocupacion:',sum(occupation)/len(occupation),'pasajeros')\n",
    "import statistics\n",
    "print('Desviacion estandar:',statistics.stdev(occupation))"
   ]
  },
  {
   "cell_type": "code",
   "execution_count": null,
   "metadata": {},
   "outputs": [],
   "source": []
  }
 ],
 "metadata": {
  "kernelspec": {
   "display_name": "Python 3",
   "language": "python",
   "name": "python3"
  },
  "language_info": {
   "codemirror_mode": {
    "name": "ipython",
    "version": 3
   },
   "file_extension": ".py",
   "mimetype": "text/x-python",
   "name": "python",
   "nbconvert_exporter": "python",
   "pygments_lexer": "ipython3",
   "version": "3.8.3"
  }
 },
 "nbformat": 4,
 "nbformat_minor": 2
}
