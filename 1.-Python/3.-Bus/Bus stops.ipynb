{
 "cells": [
  {
   "cell_type": "code",
   "execution_count": 1,
   "metadata": {},
   "outputs": [
    {
     "data": {
      "text/plain": [
       "9"
      ]
     },
     "execution_count": 1,
     "metadata": {},
     "output_type": "execute_result"
    }
   ],
   "source": [
    "#Variables\n",
    "\n",
    "stops = [(10, 0), (4, 1), (3, 5), (3, 4), (5, 1), (1, 5), (5, 8), (4, 6), (2, 3)]\n",
    "\n",
    "# 1 Calculate the number of stops\n",
    "len (stops)"
   ]
  },
  {
   "cell_type": "code",
   "execution_count": 49,
   "metadata": {},
   "outputs": [
    {
     "name": "stdout",
     "output_type": "stream",
     "text": [
      "[10, 3, -2, -1, 4, -4, -3, -2, -1]\n",
      "Total in stop 10\n",
      "Total in stop 13\n",
      "Total in stop 11\n",
      "Total in stop 10\n",
      "Total in stop 14\n",
      "Total in stop 10\n",
      "Total in stop 7\n",
      "Total in stop 5\n",
      "Total in stop 4\n"
     ]
    }
   ],
   "source": [
    "#Number of passengers\n",
    "\n",
    "list1 = []\n",
    "list1.append(stops [0][0] - stops [0][1])\n",
    "\n",
    "list1.append(stops [1][0] - stops [1][1])\n",
    "\n",
    "list1.append(stops [2][0] - stops [2][1])\n",
    "\n",
    "list1.append(stops [3][0] - stops [3][1])\n",
    "\n",
    "list1.append(stops [4][0] - stops [4][1])\n",
    "\n",
    "list1.append(stops [5][0] - stops [5][1])\n",
    "\n",
    "list1.append(stops [6][0] - stops [6][1])\n",
    "\n",
    "list1.append(stops [7][0] - stops [7][1])\n",
    "\n",
    "list1.append(stops [-1][0] - stops [-1][1])\n",
    "\n",
    "print (list1)\n",
    "\n",
    "total = 0\n",
    "\n",
    "for i in list1:\n",
    "    total += i \n",
    "    print ('Total in stop', total)"
   ]
  },
  {
   "cell_type": "code",
   "execution_count": 50,
   "metadata": {},
   "outputs": [
    {
     "data": {
      "text/plain": [
       "14"
      ]
     },
     "execution_count": 50,
     "metadata": {},
     "output_type": "execute_result"
    }
   ],
   "source": [
    "# Find the maximum occupation\n",
    "\n",
    "passengers = [10, 13, 11, 10, 14, 10, 7, 5, 4]\n",
    "\n",
    "max(passengers)\n"
   ]
  },
  {
   "cell_type": "code",
   "execution_count": 56,
   "metadata": {},
   "outputs": [
    {
     "name": "stdout",
     "output_type": "stream",
     "text": [
      "9.333333333333334\n",
      "3.391164991562634\n"
     ]
    }
   ],
   "source": [
    "# Calculate the average occupation & standard deviation\n",
    "\n",
    "import statistics\n",
    "AverageOcu= statistics.mean(passengers)\n",
    "\n",
    "print(AverageOcu)\n",
    "\n",
    "StandardDev = statistics.stdev(passengers)\n",
    "print (StandardDev)"
   ]
  }
 ],
 "metadata": {
  "kernelspec": {
   "display_name": "Python 3",
   "language": "python",
   "name": "python3"
  },
  "language_info": {
   "codemirror_mode": {
    "name": "ipython",
    "version": 3
   },
   "file_extension": ".py",
   "mimetype": "text/x-python",
   "name": "python",
   "nbconvert_exporter": "python",
   "pygments_lexer": "ipython3",
   "version": "3.8.5"
  }
 },
 "nbformat": 4,
 "nbformat_minor": 4
}
