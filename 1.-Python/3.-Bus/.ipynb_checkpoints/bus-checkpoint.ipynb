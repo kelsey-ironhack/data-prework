{
 "cells": [
  {
   "cell_type": "markdown",
   "metadata": {},
   "source": [
    "<img src=\"https://bit.ly/2VnXWr2\" width=\"100\" align=\"left\">"
   ]
  },
  {
   "cell_type": "markdown",
   "metadata": {},
   "source": [
    "# Bus\n",
    "\n",
    "This bus has a passenger entry and exit control system to monitor the number of occupants it carries and thus detect when there are too many.\n",
    "\n",
    "At each stop, the entry and exit of passengers is represented by a tuple consisting of two integer numbers.\n",
    "```\n",
    "bus_stop = (in, out)\n",
    "```\n",
    "The succession of stops is represented by a list of these tuples.\n",
    "```\n",
    "stops = [(in1, out1), (in2, out2), (in3, out3), (in4, out4)]\n",
    "```\n",
    "\n",
    "## Tools\n",
    "You don't necessarily need to use all the tools. Maybe you opt to use some of them or completely different ones, they are given to help you shape the exercise. Programming exercises can be solved in many different ways.\n",
    "* Data structures: **lists, tuples**\n",
    "* Loop: **while/for loops**\n",
    "* Functions: **min, max, len**\n",
    "\n",
    "## Tasks"
   ]
  },
  {
   "cell_type": "code",
   "execution_count": 2,
   "metadata": {},
   "outputs": [],
   "source": [
    "# Variables\n",
    "stops = [(10, 0), (4, 1), (3, 5), (3, 4), (5, 1), (1, 5), (5, 8), (4, 6), (2, 3)]"
   ]
  },
  {
   "cell_type": "markdown",
   "metadata": {},
   "source": [
    "#### 1. Calculate the number of stops."
   ]
  },
  {
   "cell_type": "code",
   "execution_count": 3,
   "metadata": {},
   "outputs": [
    {
     "name": "stdout",
     "output_type": "stream",
     "text": [
      "the number of stop is  9\n"
     ]
    }
   ],
   "source": [
    "numberofstops=len (stops)\n",
    "print(\"the number of stop is \", str(numberofstops))"
   ]
  },
  {
   "cell_type": "markdown",
   "metadata": {},
   "source": [
    "#### 2. Assign to a variable a list whose elements are the number of passengers at each stop (in-out).\n",
    "Each item depends on the previous item in the list + in - out."
   ]
  },
  {
   "cell_type": "code",
   "execution_count": 8,
   "metadata": {},
   "outputs": [
    {
     "name": "stdout",
     "output_type": "stream",
     "text": [
      "there are 14 in the bus\n"
     ]
    }
   ],
   "source": [
    "stops = [(10, 0), (4, 1), (3, 5), (3, 4), (5, 1), (1, 5), (5, 8), (4, 6), (2, 3)]\n",
    "bus_passenger=10\n",
    "for i,j in stops:\n",
    "    bus_passenger+=i\n",
    "    bus_passenger-=j\n",
    "print(\"there are\", str (bus_passenger), \"in the bus\")\n"
   ]
  },
  {
   "cell_type": "markdown",
   "metadata": {},
   "source": [
    "#### 3. Find the maximum occupation of the bus."
   ]
  },
  {
   "cell_type": "code",
   "execution_count": 9,
   "metadata": {},
   "outputs": [
    {
     "name": "stdout",
     "output_type": "stream",
     "text": [
      "the maximum occupation of the bus 20\n",
      "the maximum occupation of the bus 23\n",
      "the maximum occupation of the bus 24\n"
     ]
    }
   ],
   "source": [
    "stops = [(10, 0), (4, 1), (3, 5), (3, 4), (5, 1), (1, 5), (5, 8), (4, 6), (2, 3)]\n",
    "bus_passenger=10\n",
    "max_occ=0\n",
    "for i,j in stops:\n",
    "    bus_passenger+=i\n",
    "    bus_passenger-=j\n",
    "    if max_occ <= bus_passenger:\n",
    "        max_occ = bus_passenger\n",
    "        print(\"the maximum occupation of the bus\", str (max_occ))\n",
    "    "
   ]
  },
  {
   "cell_type": "markdown",
   "metadata": {},
   "source": [
    "#### 4. Calculate the average occupation. And the standard deviation."
   ]
  },
  {
   "cell_type": "code",
   "execution_count": 13,
   "metadata": {},
   "outputs": [
    {
     "name": "stdout",
     "output_type": "stream",
     "text": [
      "the mean of passenger is 20.0\n",
      "the mean of passenger is 21.5\n",
      "the mean of passenger is 21.33\n",
      "the mean of passenger is 21.0\n",
      "the mean of passenger is 21.6\n",
      "the mean of passenger is 21.33\n",
      "the mean of passenger is 20.71\n",
      "the mean of passenger is 20.0\n",
      "the mean of passenger is 19.33\n",
      "the std deviation is 0.24\n",
      "the std deviation is 1.3\n",
      "the std deviation is 0.59\n",
      "the std deviation is 0.24\n",
      "the std deviation is 1.65\n",
      "the std deviation is 0.24\n",
      "the std deviation is 0.82\n",
      "the std deviation is 1.53\n",
      "the std deviation is 1.89\n"
     ]
    }
   ],
   "source": [
    "import math\n",
    "stops = [(10, 0), (4, 1), (3, 5), (3, 4), (5, 1), (1, 5), (5, 8), (4, 6), (2, 3)]\n",
    "bus_passenger=10\n",
    "passenger_stops = []\n",
    "mean_passenger=0\n",
    "desv_passenger=0\n",
    "for i,j in stops:\n",
    "    bus_passenger+=i\n",
    "    bus_passenger-=j\n",
    "    passenger_stops.append(bus_passenger)\n",
    "    mean_passenger=sum(passenger_stops)/len(passenger_stops)\n",
    "    print(\"the mean of passenger is\", round(mean_passenger,2))\n",
    "for naj in passenger_stops:\n",
    "    desv_passenger=math.sqrt((naj-mean_passenger)**2/(len(passenger_stops)-1))\n",
    "    print(\"the std deviation is\", round(desv_passenger,2))\n",
    "    \n"
   ]
  },
  {
   "cell_type": "code",
   "execution_count": null,
   "metadata": {},
   "outputs": [],
   "source": []
  }
 ],
 "metadata": {
  "kernelspec": {
   "display_name": "Python 3",
   "language": "python",
   "name": "python3"
  },
  "language_info": {
   "codemirror_mode": {
    "name": "ipython",
    "version": 3
   },
   "file_extension": ".py",
   "mimetype": "text/x-python",
   "name": "python",
   "nbconvert_exporter": "python",
   "pygments_lexer": "ipython3",
   "version": "3.7.6"
  }
 },
 "nbformat": 4,
 "nbformat_minor": 2
}
