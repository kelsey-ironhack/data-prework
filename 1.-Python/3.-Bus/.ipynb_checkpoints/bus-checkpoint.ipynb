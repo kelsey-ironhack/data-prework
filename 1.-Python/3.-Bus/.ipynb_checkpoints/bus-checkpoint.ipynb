{
 "cells": [
  {
   "cell_type": "markdown",
   "metadata": {},
   "source": [
    "<img src=\"https://bit.ly/2VnXWr2\" width=\"100\" align=\"left\">"
   ]
  },
  {
   "cell_type": "markdown",
   "metadata": {},
   "source": [
    "# Bus\n",
    "\n",
    "This bus has a passenger entry and exit control system to monitor the number of occupants it carries and thus detect when there are too many.\n",
    "\n",
    "At each stop, the entry and exit of passengers is represented by a tuple consisting of two integer numbers.\n",
    "```\n",
    "bus_stop = (in, out)\n",
    "```\n",
    "The succession of stops is represented by a list of these tuples.\n",
    "```\n",
    "stops = [(in1, out1), (in2, out2), (in3, out3), (in4, out4)]\n",
    "```\n",
    "\n",
    "## Tools\n",
    "You don't necessarily need to use all the tools. Maybe you opt to use some of them or completely different ones, they are given to help you shape the exercise. Programming exercises can be solved in many different ways.\n",
    "* Data structures: **lists, tuples**\n",
    "* Loop: **while/for loops**\n",
    "* Functions: **min, max, len**\n",
    "\n",
    "## Tasks"
   ]
  },
  {
   "cell_type": "code",
   "execution_count": 1,
   "metadata": {},
   "outputs": [],
   "source": [
    "# Variables\n",
    "stops = [(10, 0), (4, 1), (3, 5), (3, 4), (5, 1), (1, 5), (5, 8), (4, 6), (2, 3)]"
   ]
  },
  {
   "cell_type": "markdown",
   "metadata": {},
   "source": [
    "#### 1. Calculate the number of stops."
   ]
  },
  {
   "cell_type": "code",
   "execution_count": 2,
   "metadata": {},
   "outputs": [
    {
     "name": "stdout",
     "output_type": "stream",
     "text": [
      "Number of stops: 9\n"
     ]
    }
   ],
   "source": [
    "number_stops = len(stops)\n",
    "print(\"Number of stops:\", number_stops)"
   ]
  },
  {
   "cell_type": "markdown",
   "metadata": {},
   "source": [
    "#### 2. Assign to a variable a list whose elements are the number of passengers at each stop (in-out).\n",
    "Each item depends on the previous item in the list + in - out."
   ]
  },
  {
   "cell_type": "code",
   "execution_count": 3,
   "metadata": {},
   "outputs": [
    {
     "name": "stdout",
     "output_type": "stream",
     "text": [
      "Number of passengers in stop: 1 is: 10\n",
      "Number of passengers in stop: 2 is: 13\n",
      "Number of passengers in stop: 3 is: 11\n",
      "Number of passengers in stop: 4 is: 10\n",
      "Number of passengers in stop: 5 is: 14\n",
      "Number of passengers in stop: 6 is: 10\n",
      "Number of passengers in stop: 7 is: 7\n",
      "Number of passengers in stop: 8 is: 5\n",
      "Number of passengers in stop: 9 is: 4\n"
     ]
    }
   ],
   "source": [
    "number_passengers = []\n",
    "num = 0\n",
    "i=0\n",
    "for s in stops:\n",
    "    i+=1\n",
    "    num += (s[0] - s[1])\n",
    "    number_passengers.append(num)\n",
    "    print(\"Number of passengers in stop:\", i, \"is:\", num)"
   ]
  },
  {
   "cell_type": "markdown",
   "metadata": {},
   "source": [
    "#### 3. Find the maximum occupation of the bus."
   ]
  },
  {
   "cell_type": "code",
   "execution_count": 4,
   "metadata": {},
   "outputs": [
    {
     "name": "stdout",
     "output_type": "stream",
     "text": [
      "Maximum occupation of the bus: 14 passengers.\n"
     ]
    }
   ],
   "source": [
    "max_passengers = max(number_passengers)\n",
    "print(\"Maximum occupation of the bus:\", max_passengers, \"passengers.\")"
   ]
  },
  {
   "cell_type": "markdown",
   "metadata": {},
   "source": [
    "#### 4. Calculate the average occupation. And the standard deviation."
   ]
  },
  {
   "cell_type": "code",
   "execution_count": 5,
   "metadata": {},
   "outputs": [
    {
     "name": "stdout",
     "output_type": "stream",
     "text": [
      "Average occupation: 9.333333333333334\n",
      "Standard deviation: 3.197221015541813\n"
     ]
    }
   ],
   "source": [
    "# total number of elements\n",
    "n = len(number_passengers)\n",
    "\n",
    "avg = sum(number_passengers)/n\n",
    "\n",
    "# calculate variance\n",
    "distance_to_mean = [(x - avg)**2 for x in number_passengers]\n",
    "variance = sum(distance_to_mean)/n\n",
    "# standard deviation is the square root of variance\n",
    "std = variance**0.5\n",
    "\n",
    "print(\"Average occupation:\", avg)\n",
    "print(\"Standard deviation:\", std)"
   ]
  }
 ],
 "metadata": {
  "kernelspec": {
   "display_name": "Python 3",
   "language": "python",
   "name": "python3"
  },
  "language_info": {
   "codemirror_mode": {
    "name": "ipython",
    "version": 3
   },
   "file_extension": ".py",
   "mimetype": "text/x-python",
   "name": "python",
   "nbconvert_exporter": "python",
   "pygments_lexer": "ipython3",
   "version": "3.9.4"
  }
 },
 "nbformat": 4,
 "nbformat_minor": 2
}
