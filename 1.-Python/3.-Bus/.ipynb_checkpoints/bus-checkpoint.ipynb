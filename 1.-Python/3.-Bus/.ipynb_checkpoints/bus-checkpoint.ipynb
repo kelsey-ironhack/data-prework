{
 "cells": [
  {
   "cell_type": "markdown",
   "metadata": {},
   "source": [
    "<img src=\"https://bit.ly/2VnXWr2\" width=\"100\" align=\"left\">"
   ]
  },
  {
   "cell_type": "markdown",
   "metadata": {},
   "source": [
    "# Bus\n",
    "\n",
    "This bus has a passenger entry and exit control system to monitor the number of occupants it carries and thus detect when there are too many.\n",
    "\n",
    "At each stop, the entry and exit of passengers is represented by a tuple consisting of two integer numbers.\n",
    "```\n",
    "bus_stop = (in, out)\n",
    "```\n",
    "The succession of stops is represented by a list of these tuples.\n",
    "```\n",
    "stops = [(in1, out1), (in2, out2), (in3, out3), (in4, out4)]\n",
    "```\n",
    "\n",
    "## Tools\n",
    "You don't necessarily need to use all the tools. Maybe you opt to use some of them or completely different ones, they are given to help you shape the exercise. Programming exercises can be solved in many different ways.\n",
    "* Data structures: **lists, tuples**\n",
    "* Loop: **while/for loops**\n",
    "* Functions: **min, max, len**\n",
    "\n",
    "## Tasks"
   ]
  },
  {
   "cell_type": "code",
   "execution_count": null,
   "metadata": {},
   "outputs": [],
   "source": [
    "# Variables\n",
    "stops = [(10, 0), (4, 1), (3, 5), (3, 4), (5, 1), (1, 5), (5, 8), (4, 6), (2, 3)]"
   ]
  },
  {
   "cell_type": "markdown",
   "metadata": {},
   "source": [
    "#### 1. Calculate the number of stops."
   ]
  },
  {
   "cell_type": "code",
   "execution_count": 5,
   "metadata": {},
   "outputs": [
    {
     "name": "stdout",
     "output_type": "stream",
     "text": [
      "9\n"
     ]
    }
   ],
   "source": [
    "# Variables\n",
    "stops = [(10, 0), (4, 1), (3, 5), (3, 4), (5, 1), (1, 5), (5, 8), (4, 6), (2, 3)]\n",
    "number_of_stops = len(stops)\n",
    "print(number_of_stops)"
   ]
  },
  {
   "cell_type": "markdown",
   "metadata": {},
   "source": [
    "#### 2. Assign to a variable a list whose elements are the number of passengers at each stop (in-out).\n",
    "Each item depends on the previous item in the list + in - out."
   ]
  },
  {
   "cell_type": "code",
   "execution_count": 36,
   "metadata": {},
   "outputs": [
    {
     "name": "stdout",
     "output_type": "stream",
     "text": [
      "9\n",
      "[10, 4, 3, 3, 5, 1, 5, 4, 2]\n",
      "[0, 1, 5, 4, 1, 5, 8, 6, 3]\n",
      "[10, 14, 17, 20, 25, 26, 31, 35, 37]\n",
      "[0, 1, 6, 10, 11, 16, 24, 30, 33]\n"
     ]
    }
   ],
   "source": [
    "# Variables\n",
    "stops = [(10, 0), (4, 1), (3, 5), (3, 4), (5, 1), (1, 5), (5, 8), (4, 6), (2, 3)]\n",
    "number_of_stops = len(stops)\n",
    "print(number_of_stops)\n",
    "passengers_in = []\n",
    "passengers_out = []\n",
    "for (a, b) in stops:\n",
    "    passengers_in.append(a)\n",
    "    passengers_out.append(b)\n",
    "print(passengers_in)\n",
    "print(passengers_out)\n",
    "\n",
    "def incremental(l):\n",
    "    cumsum = 0\n",
    "    for elt in l:\n",
    "        cumsum += elt\n",
    "        yield cumsum\n",
    "\n",
    "incremental_pass_in = list(incremental(passengers_in))\n",
    "incremental_pass_out = list(incremental(passengers_out))\n",
    "print(incremental_pass_in)\n",
    "print(incremental_pass_out)\n"
   ]
  },
  {
   "cell_type": "markdown",
   "metadata": {},
   "source": [
    "#### 3. Find the maximum occupation of the bus."
   ]
  },
  {
   "cell_type": "code",
   "execution_count": 42,
   "metadata": {},
   "outputs": [
    {
     "name": "stdout",
     "output_type": "stream",
     "text": [
      "9\n",
      "[10, 4, 3, 3, 5, 1, 5, 4, 2]\n",
      "[0, 1, 5, 4, 1, 5, 8, 6, 3]\n",
      "[10, 14, 17, 20, 25, 26, 31, 35, 37]\n",
      "[0, 1, 6, 10, 11, 16, 24, 30, 33]\n",
      "[10, 13, 11, 10, 14, 10, 7, 5, 4]\n",
      "14\n"
     ]
    }
   ],
   "source": [
    "# Variables\n",
    "stops = [(10, 0), (4, 1), (3, 5), (3, 4), (5, 1), (1, 5), (5, 8), (4, 6), (2, 3)]\n",
    "number_of_stops = len(stops)\n",
    "print(number_of_stops)\n",
    "passengers_in = []\n",
    "passengers_out = []\n",
    "for (a, b) in stops:\n",
    "    passengers_in.append(a)\n",
    "    passengers_out.append(b)\n",
    "print(passengers_in)\n",
    "print(passengers_out)\n",
    "\n",
    "def incremental(l):\n",
    "    cumsum = 0\n",
    "    for elt in l:\n",
    "        cumsum += elt\n",
    "        yield cumsum\n",
    "\n",
    "incremental_pass_in = list(incremental(passengers_in))\n",
    "incremental_pass_out = list(incremental(passengers_out))\n",
    "print(incremental_pass_in)\n",
    "print(incremental_pass_out)\n",
    "\n",
    "total_passengers = []\n",
    "zip_passengers = zip(incremental_pass_in, incremental_pass_out)\n",
    "for incremental_pass_in_i, incremental_pass_out_i in zip_passengers:\n",
    "    total_passengers.append(incremental_pass_in_i-incremental_pass_out_i)\n",
    "\n",
    "print(total_passengers)\n",
    "maximum_occupation = max(total_passengers)\n",
    "print(maximum_occupation)"
   ]
  },
  {
   "cell_type": "markdown",
   "metadata": {},
   "source": [
    "#### 4. Calculate the average occupation. And the standard deviation."
   ]
  },
  {
   "cell_type": "code",
   "execution_count": 3,
   "metadata": {},
   "outputs": [
    {
     "name": "stdout",
     "output_type": "stream",
     "text": [
      "9\n",
      "[10, 4, 3, 3, 5, 1, 5, 4, 2]\n",
      "[0, 1, 5, 4, 1, 5, 8, 6, 3]\n",
      "[10, 14, 17, 20, 25, 26, 31, 35, 37]\n",
      "[0, 1, 6, 10, 11, 16, 24, 30, 33]\n",
      "[10, 13, 11, 10, 14, 10, 7, 5, 4]\n",
      "14\n",
      "9.333333333333334\n"
     ]
    },
    {
     "ename": "NameError",
     "evalue": "name 'np' is not defined",
     "output_type": "error",
     "traceback": [
      "\u001b[0;31m---------------------------------------------------------------------------\u001b[0m",
      "\u001b[0;31mNameError\u001b[0m                                 Traceback (most recent call last)",
      "\u001b[0;32m<ipython-input-3-d4b593251045>\u001b[0m in \u001b[0;36m<module>\u001b[0;34m\u001b[0m\n\u001b[1;32m     33\u001b[0m \u001b[0mavg_occ\u001b[0m \u001b[0;34m=\u001b[0m \u001b[0msum\u001b[0m\u001b[0;34m(\u001b[0m\u001b[0mtotal_passengers\u001b[0m\u001b[0;34m)\u001b[0m \u001b[0;34m/\u001b[0m \u001b[0mnumber_of_stops\u001b[0m\u001b[0;34m\u001b[0m\u001b[0;34m\u001b[0m\u001b[0m\n\u001b[1;32m     34\u001b[0m \u001b[0mprint\u001b[0m\u001b[0;34m(\u001b[0m\u001b[0mavg_occ\u001b[0m\u001b[0;34m)\u001b[0m\u001b[0;34m\u001b[0m\u001b[0;34m\u001b[0m\u001b[0m\n\u001b[0;32m---> 35\u001b[0;31m \u001b[0mprint\u001b[0m\u001b[0;34m(\u001b[0m\u001b[0mnp\u001b[0m\u001b[0;34m.\u001b[0m\u001b[0mvar\u001b[0m\u001b[0;34m(\u001b[0m\u001b[0mtotal_passengers\u001b[0m\u001b[0;34m)\u001b[0m\u001b[0;34m)\u001b[0m\u001b[0;34m\u001b[0m\u001b[0;34m\u001b[0m\u001b[0m\n\u001b[0m",
      "\u001b[0;31mNameError\u001b[0m: name 'np' is not defined"
     ]
    }
   ],
   "source": [
    "# Variables\n",
    "stops = [(10, 0), (4, 1), (3, 5), (3, 4), (5, 1), (1, 5), (5, 8), (4, 6), (2, 3)]\n",
    "number_of_stops = len(stops)\n",
    "print(number_of_stops)\n",
    "passengers_in = []\n",
    "passengers_out = []\n",
    "for (a, b) in stops:\n",
    "    passengers_in.append(a)\n",
    "    passengers_out.append(b)\n",
    "print(passengers_in)\n",
    "print(passengers_out)\n",
    "\n",
    "def incremental(l):\n",
    "    cumsum = 0\n",
    "    for elt in l:\n",
    "        cumsum += elt\n",
    "        yield cumsum\n",
    "\n",
    "incremental_pass_in = list(incremental(passengers_in))\n",
    "incremental_pass_out = list(incremental(passengers_out))\n",
    "print(incremental_pass_in)\n",
    "print(incremental_pass_out)\n",
    "\n",
    "total_passengers = []\n",
    "zip_passengers = zip(incremental_pass_in, incremental_pass_out)\n",
    "for incremental_pass_in_i, incremental_pass_out_i in zip_passengers:\n",
    "    total_passengers.append(incremental_pass_in_i-incremental_pass_out_i)\n",
    "\n",
    "print(total_passengers)\n",
    "maximum_occupation = max(total_passengers)\n",
    "print(maximum_occupation)\n",
    "\n",
    "avg_occ = sum(total_passengers) / number_of_stops\n",
    "print(avg_occ)\n"
   ]
  },
  {
   "cell_type": "code",
   "execution_count": null,
   "metadata": {},
   "outputs": [],
   "source": []
  }
 ],
 "metadata": {
  "kernelspec": {
   "display_name": "Python 3",
   "language": "python",
   "name": "python3"
  },
  "language_info": {
   "codemirror_mode": {
    "name": "ipython",
    "version": 3
   },
   "file_extension": ".py",
   "mimetype": "text/x-python",
   "name": "python",
   "nbconvert_exporter": "python",
   "pygments_lexer": "ipython3",
   "version": "3.7.6"
  }
 },
 "nbformat": 4,
 "nbformat_minor": 2
}
