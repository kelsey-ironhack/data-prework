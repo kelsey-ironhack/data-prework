{
 "cells": [
  {
   "cell_type": "markdown",
   "metadata": {},
   "source": [
    "<img src=\"https://bit.ly/2VnXWr2\" width=\"100\" align=\"left\">"
   ]
  },
  {
   "cell_type": "markdown",
   "metadata": {},
   "source": [
    "# Bus\n",
    "\n",
    "This bus has a passenger entry and exit control system to monitor the number of occupants it carries and thus detect when there are too many.\n",
    "\n",
    "At each stop, the entry and exit of passengers is represented by a tuple consisting of two integer numbers.\n",
    "```\n",
    "bus_stop = (in, out)\n",
    "```\n",
    "The succession of stops is represented by a list of these tuples.\n",
    "```\n",
    "stops = [(in1, out1), (in2, out2), (in3, out3), (in4, out4)]\n",
    "```\n",
    "\n",
    "## Tools\n",
    "You don't necessarily need to use all the tools. Maybe you opt to use some of them or completely different ones, they are given to help you shape the exercise. Programming exercises can be solved in many different ways.\n",
    "* Data structures: **lists, tuples**\n",
    "* Loop: **while/for loops**\n",
    "* Functions: **min, max, len**\n",
    "\n",
    "## Tasks"
   ]
  },
  {
   "cell_type": "code",
   "execution_count": 1,
   "metadata": {},
   "outputs": [],
   "source": [
    "# Variables\n",
    "stops = [(10, 0), (4, 1), (3, 5), (3, 4), (5, 1), (1, 5), (5, 8), (4, 6), (2, 3)]"
   ]
  },
  {
   "cell_type": "markdown",
   "metadata": {},
   "source": [
    "#### 1. Calculate the number of stops."
   ]
  },
  {
   "cell_type": "code",
   "execution_count": 2,
   "metadata": {},
   "outputs": [
    {
     "name": "stdout",
     "output_type": "stream",
     "text": [
      "Numero de paradas: 9\n"
     ]
    }
   ],
   "source": [
    "n_stops=len(stops)\n",
    "print ('Numero de paradas: {}'.format(n_stops))"
   ]
  },
  {
   "cell_type": "markdown",
   "metadata": {},
   "source": [
    "#### 2. Assign to a variable a list whose elements are the number of passengers at each stop (in-out).\n",
    "Each item depends on the previous item in the list + in - out."
   ]
  },
  {
   "cell_type": "code",
   "execution_count": 3,
   "metadata": {},
   "outputs": [
    {
     "name": "stdout",
     "output_type": "stream",
     "text": [
      "Ocupacion: [10, 13, 11, 10, 14, 10, 7, 5, 4]\n"
     ]
    }
   ],
   "source": [
    "occupation=[]\n",
    "\n",
    "passengers=0\n",
    "\n",
    "for i in range(len(stops)):\n",
    "    \n",
    "    passengers=passengers+stops[i][0]-stops[i][1]\n",
    "    occupation.append(passengers)\n",
    "    \n",
    "print ('Ocupacion: {}'.format(occupation))"
   ]
  },
  {
   "cell_type": "markdown",
   "metadata": {},
   "source": [
    "#### 3. Find the maximum occupation of the bus."
   ]
  },
  {
   "cell_type": "code",
   "execution_count": 4,
   "metadata": {},
   "outputs": [
    {
     "name": "stdout",
     "output_type": "stream",
     "text": [
      "Maxima ocupacion: 14\n"
     ]
    }
   ],
   "source": [
    "max_occu=max(occupation)\n",
    "print ('Maxima ocupacion: {}'.format(max_occu))"
   ]
  },
  {
   "cell_type": "markdown",
   "metadata": {},
   "source": [
    "#### 4. Calculate the average occupation. And the standard deviation."
   ]
  },
  {
   "cell_type": "code",
   "execution_count": 5,
   "metadata": {},
   "outputs": [
    {
     "name": "stdout",
     "output_type": "stream",
     "text": [
      "Media: 9.3333\n",
      "Desviacion estandar: 3.1972\n"
     ]
    }
   ],
   "source": [
    "media=sum(occupation)*1.0/len(occupation)        \n",
    "print ('Media: {:.4f}'.format(media))                       \n",
    "std=0\n",
    "for i in occupation:                \n",
    "    std=std+(i-media)**2/(len(occupation))  \n",
    "print ('Desviacion estandar: {:.4f}'.format(std**(0.5))) "
   ]
  },
  {
   "cell_type": "code",
   "execution_count": null,
   "metadata": {},
   "outputs": [],
   "source": []
  }
 ],
 "metadata": {
  "kernelspec": {
   "display_name": "Python 3",
   "language": "python",
   "name": "python3"
  },
  "language_info": {
   "codemirror_mode": {
    "name": "ipython",
    "version": 3
   },
   "file_extension": ".py",
   "mimetype": "text/x-python",
   "name": "python",
   "nbconvert_exporter": "python",
   "pygments_lexer": "ipython3",
   "version": "3.7.6"
  }
 },
 "nbformat": 4,
 "nbformat_minor": 2
}
