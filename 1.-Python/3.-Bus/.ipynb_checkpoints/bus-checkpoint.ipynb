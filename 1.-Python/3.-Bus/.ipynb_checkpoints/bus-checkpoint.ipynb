{
 "cells": [
  {
   "cell_type": "markdown",
   "metadata": {},
   "source": [
    "<img src=\"https://bit.ly/2VnXWr2\" width=\"100\" align=\"left\">"
   ]
  },
  {
   "cell_type": "markdown",
   "metadata": {},
   "source": [
    "# Bus\n",
    "\n",
    "This bus has a passenger entry and exit control system to monitor the number of occupants it carries and thus detect when there are too many.\n",
    "\n",
    "At each stop, the entry and exit of passengers is represented by a tuple consisting of two integer numbers.\n",
    "```\n",
    "bus_stop = (in, out)\n",
    "```\n",
    "The succession of stops is represented by a list of these tuples.\n",
    "```\n",
    "stops = [(in1, out1), (in2, out2), (in3, out3), (in4, out4)]\n",
    "```\n",
    "\n",
    "## Tools\n",
    "You don't necessarily need to use all the tools. Maybe you opt to use some of them or completely different ones, they are given to help you shape the exercise. Programming exercises can be solved in many different ways.\n",
    "* Data structures: **lists, tuples**\n",
    "* Loop: **while/for loops**\n",
    "* Functions: **min, max, len**\n",
    "\n",
    "## Tasks"
   ]
  },
  {
   "cell_type": "code",
   "execution_count": 1,
   "metadata": {},
   "outputs": [],
   "source": [
    "# Variables\n",
    "stops = [(10, 0), (4, 1), (3, 5), (3, 4), (5, 1), (1, 5), (5, 8), (4, 6), (2, 3)]"
   ]
  },
  {
   "cell_type": "markdown",
   "metadata": {},
   "source": [
    "#### 1. Calculate the number of stops."
   ]
  },
  {
   "cell_type": "code",
   "execution_count": 3,
   "metadata": {},
   "outputs": [
    {
     "name": "stdout",
     "output_type": "stream",
     "text": [
      "The 0 stop is (10, 0)\n",
      "The 1 stop is (4, 1)\n",
      "The 2 stop is (3, 5)\n",
      "The 3 stop is (3, 4)\n",
      "The 4 stop is (5, 1)\n",
      "The 5 stop is (1, 5)\n",
      "The 6 stop is (5, 8)\n",
      "The 7 stop is (4, 6)\n",
      "The 8 stop is (2, 3)\n",
      "The number of stops are: 9 stops\n"
     ]
    }
   ],
   "source": [
    "counter = 0\n",
    "i = 0\n",
    "for stop in stops:\n",
    "    print(f\"The {i} stop is {stop}\")\n",
    "    i += 1\n",
    "    counter += 1\n",
    "print(\"The number of stops are:\",counter, \"stops\")"
   ]
  },
  {
   "cell_type": "markdown",
   "metadata": {},
   "source": [
    "#### 2. Assign to a variable a list whose elements are the number of passengers at each stop (in-out).\n",
    "Each item depends on the previous item in the list + in - out."
   ]
  },
  {
   "cell_type": "code",
   "execution_count": 4,
   "metadata": {},
   "outputs": [
    {
     "name": "stdout",
     "output_type": "stream",
     "text": [
      "[10, 13, 11, 10, 14, 10, 7, 5, 4]\n"
     ]
    }
   ],
   "source": [
    "passengers = []\n",
    "bus_passengers = 0\n",
    "for stop in stops:\n",
    "    stop_list = list(stop)\n",
    "    passengers_in = 0\n",
    "    passengers_out = 1\n",
    "    bus_passengers += stop_list[passengers_in] - stop_list[passengers_out]\n",
    "    passengers.append(bus_passengers)\n",
    "\n",
    "print(passengers)"
   ]
  },
  {
   "cell_type": "markdown",
   "metadata": {},
   "source": [
    "#### 3. Find the maximum occupation of the bus."
   ]
  },
  {
   "cell_type": "code",
   "execution_count": 5,
   "metadata": {},
   "outputs": [
    {
     "name": "stdout",
     "output_type": "stream",
     "text": [
      "Maximum Occupation of the bus: 14 occupants\n"
     ]
    }
   ],
   "source": [
    "print(\"Maximum Occupation of the bus:\",max(passengers), \"occupants\")"
   ]
  },
  {
   "cell_type": "markdown",
   "metadata": {},
   "source": [
    "#### 4. Calculate the average occupation. And the standard deviation."
   ]
  },
  {
   "cell_type": "code",
   "execution_count": 6,
   "metadata": {},
   "outputs": [
    {
     "name": "stdout",
     "output_type": "stream",
     "text": [
      "Average Occupation of the bus:  9.333333333333334\n",
      "Standard Deviation:  3.197221015541813\n"
     ]
    }
   ],
   "source": [
    "average_occupation = sum(passengers) / len(passengers)\n",
    "print(\"Average Occupation of the bus: \",average_occupation)\n",
    "\n",
    "variance_list = []\n",
    "for element in passengers:\n",
    "    standard_difference = (element - average_occupation) ** 2\n",
    "    variance_list.append(standard_difference)\n",
    "\n",
    "variance = sum(variance_list) / len(variance_list)\n",
    "standard_deviation = (variance) ** 0.5\n",
    "print(\"Standard Deviation: \", standard_deviation)\n"
   ]
  },
  {
   "cell_type": "code",
   "execution_count": null,
   "metadata": {},
   "outputs": [],
   "source": []
  }
 ],
 "metadata": {
  "kernelspec": {
   "display_name": "Python 3",
   "language": "python",
   "name": "python3"
  },
  "language_info": {
   "codemirror_mode": {
    "name": "ipython",
    "version": 3
   },
   "file_extension": ".py",
   "mimetype": "text/x-python",
   "name": "python",
   "nbconvert_exporter": "python",
   "pygments_lexer": "ipython3",
   "version": "3.8.5"
  }
 },
 "nbformat": 4,
 "nbformat_minor": 2
}
