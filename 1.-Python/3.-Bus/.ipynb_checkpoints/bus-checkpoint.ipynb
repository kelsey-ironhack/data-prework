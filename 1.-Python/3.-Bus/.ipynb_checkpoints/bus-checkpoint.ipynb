{
 "cells": [
  {
   "cell_type": "markdown",
   "metadata": {},
   "source": [
    "<img src=\"https://bit.ly/2VnXWr2\" width=\"100\" align=\"left\">"
   ]
  },
  {
   "cell_type": "markdown",
   "metadata": {},
   "source": [
    "# Bus\n",
    "\n",
    "This bus has a passenger entry and exit control system to monitor the number of occupants it carries and thus detect when there are too many.\n",
    "\n",
    "At each stop, the entry and exit of passengers is represented by a tuple consisting of two integer numbers.\n",
    "```\n",
    "bus_stop = (in, out)\n",
    "```\n",
    "The succession of stops is represented by a list of these tuples.\n",
    "```\n",
    "stops = [(in1, out1), (in2, out2), (in3, out3), (in4, out4)]\n",
    "```\n",
    "\n",
    "## Tools\n",
    "You don't necessarily need to use all the tools. Maybe you opt to use some of them or completely different ones, they are given to help you shape the exercise. Programming exercises can be solved in many different ways.\n",
    "* Data structures: **lists, tuples**\n",
    "* Loop: **while/for loops**\n",
    "* Functions: **min, max, len**\n",
    "\n",
    "## Tasks"
   ]
  },
  {
   "cell_type": "code",
   "execution_count": 3,
   "metadata": {},
   "outputs": [],
   "source": [
    "# Variables\n",
    "stops = [(10, 0), (4, 1), (3, 5), (3, 4), (5, 1), (1, 5), (5, 8), (4, 6), (2, 3)]"
   ]
  },
  {
   "cell_type": "markdown",
   "metadata": {},
   "source": [
    "#### 1. Calculate the number of stops."
   ]
  },
  {
   "cell_type": "code",
   "execution_count": 4,
   "metadata": {},
   "outputs": [
    {
     "name": "stdout",
     "output_type": "stream",
     "text": [
      "9\n"
     ]
    }
   ],
   "source": [
    "print(len(stops))"
   ]
  },
  {
   "cell_type": "markdown",
   "metadata": {},
   "source": [
    "#### 2. Assign to a variable a list whose elements are the number of passengers at each stop (in-out).\n",
    "Each item depends on the previous item in the list + in - out."
   ]
  },
  {
   "cell_type": "code",
   "execution_count": 20,
   "metadata": {},
   "outputs": [
    {
     "name": "stdout",
     "output_type": "stream",
     "text": [
      "[10, 4, 3, 3, 5, 1, 5, 4, 2]\n",
      "[0, 1, 5, 4, 1, 5, 8, 6, 3]\n",
      "Stop 1: Bus had 0 passengers. 10 people came in and 0 got out, reaching an occupancy of 10 passengers\n",
      "Stop 2: Bus had 10 passengers. 4 people came in and 1 got out, reaching an occupancy of 13 passengers\n",
      "Stop 3: Bus had 13 passengers. 3 people came in and 5 got out, reaching an occupancy of 11 passengers\n",
      "Stop 4: Bus had 11 passengers. 3 people came in and 4 got out, reaching an occupancy of 10 passengers\n",
      "Stop 5: Bus had 10 passengers. 5 people came in and 1 got out, reaching an occupancy of 14 passengers\n",
      "Stop 6: Bus had 14 passengers. 1 people came in and 5 got out, reaching an occupancy of 10 passengers\n",
      "Stop 7: Bus had 10 passengers. 5 people came in and 8 got out, reaching an occupancy of 7 passengers\n",
      "Stop 8: Bus had 7 passengers. 4 people came in and 6 got out, reaching an occupancy of 5 passengers\n",
      "Stop 9: Bus had 5 passengers. 2 people came in and 3 got out, reaching an occupancy of 4 passengers\n",
      "[10, 13, 11, 10, 14, 10, 7, 5, 4]\n"
     ]
    }
   ],
   "source": [
    "stops = [(10, 0), (4, 1), (3, 5), (3, 4), (5, 1), (1, 5), (5, 8), (4, 6), (2, 3)]\n",
    "\n",
    "bus_ins = []\n",
    "bus_outs = []\n",
    "psg_count = 0\n",
    "passengers = []\n",
    "\n",
    "for s in stops:\n",
    "    bus_ins.append(s[0])\n",
    "    bus_outs.append(s[1])\n",
    "\n",
    "for psg in range(len(bus_ins)):\n",
    "    print(f\"Stop {psg + 1}: Bus had {psg_count} passengers. {bus_ins[psg]} people came in and {bus_outs[psg]} got out, reaching an occupancy of {psg_count + bus_ins[psg] - bus_outs[psg]} passengers\")\n",
    "    psg_count = psg_count + bus_ins[psg] - bus_outs[psg]\n",
    "    passengers.append(psg_count)\n",
    "\n"
   ]
  },
  {
   "cell_type": "code",
   "execution_count": null,
   "metadata": {},
   "outputs": [],
   "source": []
  },
  {
   "cell_type": "markdown",
   "metadata": {},
   "source": [
    "#### 3. Find the maximum occupation of the bus."
   ]
  },
  {
   "cell_type": "code",
   "execution_count": 17,
   "metadata": {},
   "outputs": [
    {
     "name": "stdout",
     "output_type": "stream",
     "text": [
      "Bus maximum occupation is 14\n"
     ]
    }
   ],
   "source": [
    "print(f\"Bus maximum occupation is {max(passengers)}\")"
   ]
  },
  {
   "cell_type": "markdown",
   "metadata": {},
   "source": [
    "#### 4. Calculate the average occupation. And the standard deviation."
   ]
  },
  {
   "cell_type": "code",
   "execution_count": 22,
   "metadata": {},
   "outputs": [
    {
     "name": "stdout",
     "output_type": "stream",
     "text": [
      "Average occupation is: 9.333333333333334\n",
      "Standard deviation is: 3.197221015541813\n"
     ]
    }
   ],
   "source": [
    "sqr_dev_mean = []\n",
    "for x in passengers:\n",
    "    avg = sum(passengers) / len(passengers)\n",
    "    y = (x - avg)**2\n",
    "    sqr_dev_mean.append(y)\n",
    "    i = sum(sqr_dev_mean)\n",
    "    n = len(sqr_dev_mean)\n",
    "    variance = i / n\n",
    "    std_dev = variance**(.5)\n",
    "print(f\"Average occupation is: {avg}\\nStandard deviation is: {std_dev}\")"
   ]
  },
  {
   "cell_type": "code",
   "execution_count": null,
   "metadata": {},
   "outputs": [],
   "source": []
  }
 ],
 "metadata": {
  "kernelspec": {
   "display_name": "Python 3 (ipykernel)",
   "language": "python",
   "name": "python3"
  },
  "language_info": {
   "codemirror_mode": {
    "name": "ipython",
    "version": 3
   },
   "file_extension": ".py",
   "mimetype": "text/x-python",
   "name": "python",
   "nbconvert_exporter": "python",
   "pygments_lexer": "ipython3",
   "version": "3.9.7"
  }
 },
 "nbformat": 4,
 "nbformat_minor": 2
}
