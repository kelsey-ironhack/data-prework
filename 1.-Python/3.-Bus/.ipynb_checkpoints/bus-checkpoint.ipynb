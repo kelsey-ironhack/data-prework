{
 "cells": [
  {
   "cell_type": "markdown",
   "metadata": {},
   "source": [
    "<img src=\"https://bit.ly/2VnXWr2\" width=\"100\" align=\"left\">"
   ]
  },
  {
   "cell_type": "markdown",
   "metadata": {},
   "source": [
    "# Bus\n",
    "\n",
    "This bus has a passenger entry and exit control system to monitor the number of occupants it carries and thus detect when there are too many.\n",
    "\n",
    "At each stop, the entry and exit of passengers is represented by a tuple consisting of two integer numbers.\n",
    "```\n",
    "bus_stop = (in, out)\n",
    "```\n",
    "The succession of stops is represented by a list of these tuples.\n",
    "```\n",
    "stops = [(in1, out1), (in2, out2), (in3, out3), (in4, out4)]\n",
    "```\n",
    "\n",
    "## Tools\n",
    "You don't necessarily need to use all the tools. Maybe you opt to use some of them or completely different ones, they are given to help you shape the exercise. Programming exercises can be solved in many different ways.\n",
    "* Data structures: **lists, tuples**\n",
    "* Loop: **while/for loops**\n",
    "* Functions: **min, max, len**\n",
    "\n",
    "## Tasks"
   ]
  },
  {
   "cell_type": "code",
   "execution_count": 1,
   "metadata": {},
   "outputs": [],
   "source": [
    "# Variables\n",
    "stops = [(10, 0), (4, 1), (3, 5), (3, 4), (5, 1), (1, 5), (5, 8), (4, 6), (2, 3)]"
   ]
  },
  {
   "cell_type": "markdown",
   "metadata": {},
   "source": [
    "#### 1. Calculate the number of stops."
   ]
  },
  {
   "cell_type": "code",
   "execution_count": 2,
   "metadata": {},
   "outputs": [
    {
     "name": "stdout",
     "output_type": "stream",
     "text": [
      "9\n"
     ]
    }
   ],
   "source": [
    "print(len(stops))"
   ]
  },
  {
   "cell_type": "markdown",
   "metadata": {},
   "source": [
    "#### 2. Assign to a variable a list whose elements are the number of passengers at each stop (in-out).\n",
    "Each item depends on the previous item in the list + in - out."
   ]
  },
  {
   "cell_type": "code",
   "execution_count": 3,
   "metadata": {},
   "outputs": [
    {
     "name": "stdout",
     "output_type": "stream",
     "text": [
      "The number of stops is : 0\n",
      "\n",
      "For the 0 stop, 10 passengers entered and 0 passengers left the bus, occupation\n",
      "For the 1 stop, 4 passengers entered and 1 passengers left the bus, occupation\n",
      "For the 2 stop, 3 passengers entered and 5 passengers left the bus, occupation\n",
      "For the 3 stop, 3 passengers entered and 4 passengers left the bus, occupation\n",
      "For the 4 stop, 5 passengers entered and 1 passengers left the bus, occupation\n",
      "For the 5 stop, 1 passengers entered and 5 passengers left the bus, occupation\n",
      "For the 6 stop, 5 passengers entered and 8 passengers left the bus, occupation\n",
      "For the 7 stop, 4 passengers entered and 6 passengers left the bus, occupation\n",
      "For the 8 stop, 2 passengers entered and 3 passengers left the bus, occupation\n"
     ]
    }
   ],
   "source": [
    "bus_is_full = False\n",
    "bus_capacity = 0\n",
    "stops = [(10, 0), (4, 1), (3, 5), (3, 4), (5, 1), (1, 5), (5, 8), (4, 6), (2, 3)]\n",
    "number_stops = len(stops)\n",
    "print(\"The number of stops is : {0}\\n\".format(bus_capacity))\n",
    "i=0\n",
    "while i < number_stops :\n",
    "    for stop in stops:\n",
    "        l = list(stop)\n",
    "        in_i = l[0]\n",
    "        out_i = l[1]\n",
    "        print(\"For the {0} stop, {1} passengers entered and {2} passengers left the bus, occupation\".format(i, in_i, out_i) )\n",
    "        i += 1"
   ]
  },
  {
   "cell_type": "markdown",
   "metadata": {},
   "source": [
    "#### 3. Find the maximum occupation of the bus."
   ]
  },
  {
   "cell_type": "code",
   "execution_count": 17,
   "metadata": {},
   "outputs": [
    {
     "name": "stdout",
     "output_type": "stream",
     "text": [
      "The maximum occupation was: 14\n",
      "It was at the stop number: 5\n"
     ]
    }
   ],
   "source": [
    "bus_is_full = False\n",
    "bus_capacity = 0\n",
    "stops = [(10, 0), (4, 1), (3, 5), (3, 4), (5, 1), (1, 5), (5, 8), (4, 6), (2, 3)]\n",
    "stops_count = 0 \n",
    "for stop in stops:\n",
    "    bus_capacity += stop[0] - stop[1]  \n",
    "    if bus_capacity >= 14:\n",
    "        bus_is_full = True\n",
    "        stops_count += 1 \n",
    "        break\n",
    "    elif bus_capacity < 14:\n",
    "        stops_count += 1\n",
    "print(\"The maximum occupation was:\", bus_capacity)\n",
    "print(\"It was at the stop number:\", stops_count)\n"
   ]
  },
  {
   "cell_type": "markdown",
   "metadata": {},
   "source": [
    "#### 4. Calculate the average occupation. And the standard deviation."
   ]
  },
  {
   "cell_type": "code",
   "execution_count": 20,
   "metadata": {},
   "outputs": [
    {
     "name": "stdout",
     "output_type": "stream",
     "text": [
      "[10]\n",
      "average of occupation for each stop: 10.0\n",
      "[10, 13]\n",
      "average of occupation for each stop: 11.5\n",
      "[10, 13, 11]\n",
      "average of occupation for each stop: 11.333333333333334\n",
      "[10, 13, 11, 10]\n",
      "average of occupation for each stop: 11.0\n",
      "[10, 13, 11, 10, 14]\n",
      "average of occupation for each stop: 11.6\n",
      "[10, 13, 11, 10, 14, 10]\n",
      "average of occupation for each stop: 11.333333333333334\n",
      "[10, 13, 11, 10, 14, 10, 7]\n",
      "average of occupation for each stop: 10.714285714285714\n",
      "[10, 13, 11, 10, 14, 10, 7, 5]\n",
      "average of occupation for each stop: 10.0\n",
      "[10, 13, 11, 10, 14, 10, 7, 5, 4]\n",
      "average of occupation for each stop: 9.333333333333334\n"
     ]
    }
   ],
   "source": [
    "bus_is_full = False\n",
    "bus_capacity = 0\n",
    "total_capacity = []\n",
    "stops = [(10, 0), (4, 1), (3, 5), (3, 4), (5, 1), (1, 5), (5, 8), (4, 6), (2, 3)]\n",
    "stops_count = 0 \n",
    "for stop in stops:\n",
    "    bus_capacity += stop[0] - stop[1] \n",
    "    total_capacity.append(bus_capacity)\n",
    "    print(total_capacity)\n",
    "    x = sum(total_capacity)\n",
    "    y = len(total_capacity)\n",
    "    print(\"average of occupation for each stop:\", x / y)\n",
    "   "
   ]
  },
  {
   "cell_type": "code",
   "execution_count": null,
   "metadata": {},
   "outputs": [],
   "source": []
  }
 ],
 "metadata": {
  "kernelspec": {
   "display_name": "Python 3",
   "language": "python",
   "name": "python3"
  },
  "language_info": {
   "codemirror_mode": {
    "name": "ipython",
    "version": 3
   },
   "file_extension": ".py",
   "mimetype": "text/x-python",
   "name": "python",
   "nbconvert_exporter": "python",
   "pygments_lexer": "ipython3",
   "version": "3.8.5"
  }
 },
 "nbformat": 4,
 "nbformat_minor": 2
}
