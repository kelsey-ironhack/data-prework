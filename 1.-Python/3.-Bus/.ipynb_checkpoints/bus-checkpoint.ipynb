{
 "cells": [
  {
   "cell_type": "markdown",
   "metadata": {},
   "source": [
    "<img src=\"https://bit.ly/2VnXWr2\" width=\"100\" align=\"left\">"
   ]
  },
  {
   "cell_type": "markdown",
   "metadata": {},
   "source": [
    "# Bus\n",
    "\n",
    "This bus has a passenger entry and exit control system to monitor the number of occupants it carries and thus detect when there are too many.\n",
    "\n",
    "At each stop, the entry and exit of passengers is represented by a tuple consisting of two integer numbers.\n",
    "```\n",
    "bus_stop = (in, out)\n",
    "```\n",
    "The succession of stops is represented by a list of these tuples.\n",
    "```\n",
    "stops = [(in1, out1), (in2, out2), (in3, out3), (in4, out4)]\n",
    "```\n",
    "\n",
    "## Tools\n",
    "You don't necessarily need to use all the tools. Maybe you opt to use some of them or completely different ones, they are given to help you shape the exercise. Programming exercises can be solved in many different ways.\n",
    "* Data structures: **lists, tuples**\n",
    "* Loop: **while/for loops**\n",
    "* Functions: **min, max, len**\n",
    "\n",
    "## Tasks"
   ]
  },
  {
   "cell_type": "code",
   "execution_count": 1,
   "metadata": {},
   "outputs": [],
   "source": [
    "# Variables\n",
    "stops = [(10, 0), (4, 1), (3, 5), (3, 4), (5, 1), (1, 5), (5, 8), (4, 6), (2, 3)]"
   ]
  },
  {
   "cell_type": "markdown",
   "metadata": {},
   "source": [
    "#### 1. Calculate the number of stops."
   ]
  },
  {
   "cell_type": "code",
   "execution_count": 2,
   "metadata": {},
   "outputs": [
    {
     "data": {
      "text/plain": [
       "9"
      ]
     },
     "execution_count": 2,
     "metadata": {},
     "output_type": "execute_result"
    }
   ],
   "source": [
    "len(stops)"
   ]
  },
  {
   "cell_type": "markdown",
   "metadata": {},
   "source": [
    "#### 2. Assign to a variable a list whose elements are the number of passengers at each stop (in-out).\n",
    "Each item depends on the previous item in the list + in - out."
   ]
  },
  {
   "cell_type": "code",
   "execution_count": 3,
   "metadata": {},
   "outputs": [
    {
     "name": "stdout",
     "output_type": "stream",
     "text": [
      "[[10, 0], [4, 1], [3, 5], [3, 4], [5, 1], [1, 5], [5, 8], [4, 6], [2, 3]]\n",
      "[10, 3, -2, -1, 4, -4, -3, -2, -1]\n"
     ]
    }
   ],
   "source": [
    "stops_list = []\n",
    "\n",
    "for i in stops:\n",
    "    stops_list.append([i[0],i[1]])\n",
    "\n",
    "print(stops_list)\n",
    "\n",
    "number_passenger = []\n",
    "\n",
    "for i in stops_list:\n",
    "    number_passenger.append(i[0] - i[1])\n",
    "    \n",
    "print(number_passenger)"
   ]
  },
  {
   "cell_type": "markdown",
   "metadata": {},
   "source": [
    "#### 3. Find the maximum occupation of the bus."
   ]
  },
  {
   "cell_type": "code",
   "execution_count": 4,
   "metadata": {},
   "outputs": [
    {
     "name": "stdout",
     "output_type": "stream",
     "text": [
      "[10, 13, 11, 10, 14, 10, 7, 5, 4]\n"
     ]
    }
   ],
   "source": [
    "passengers = 10\n",
    "\n",
    "total_passenger = []\n",
    "total_passenger.append(passengers)\n",
    "\n",
    "for i in range(1, len(number_passenger)):\n",
    "    total_passenger.append(number_passenger[i] + total_passenger[i-1])\n",
    "\n",
    "print(total_passenger)"
   ]
  },
  {
   "cell_type": "markdown",
   "metadata": {},
   "source": [
    "#### 4. Calculate the average occupation. And the standard deviation."
   ]
  },
  {
   "cell_type": "code",
   "execution_count": 5,
   "metadata": {},
   "outputs": [
    {
     "name": "stdout",
     "output_type": "stream",
     "text": [
      "Maximum occupation of the bus: 14\n",
      "Average occupation of the bus is: 9.33\n",
      "[0.44444444444444364, 13.44444444444444, 2.777777777777776, 0.44444444444444364, 21.77777777777777, 0.44444444444444364, 5.444444444444447, 18.777777777777782, 28.44444444444445]\n",
      "Standard deviation of bus occupation is 3.2\n"
     ]
    }
   ],
   "source": [
    "max(total_passenger)\n",
    "print(\"Maximum occupation of the bus:\", max(total_passenger))\n",
    "\n",
    "avg_occupation = sum(total_passenger)/len(total_passenger)\n",
    "print(\"Average occupation of the bus is:\", round(avg_occupation, 2))\n",
    "\n",
    "squared_difference_occupation = []\n",
    "for i in total_passenger:\n",
    "    squared_difference_occupation.append((i - avg_occupation)**2)\n",
    "print(squared_difference_occupation)\n",
    "\n",
    "stdev_occupation = (sum(squared_difference_occupation)/len(squared_difference_occupation))**(1/2)\n",
    "print(\"Standard deviation of bus occupation is\", round(stdev_occupation, 2))"
   ]
  }
 ],
 "metadata": {
  "kernelspec": {
   "display_name": "Python 3",
   "language": "python",
   "name": "python3"
  },
  "language_info": {
   "codemirror_mode": {
    "name": "ipython",
    "version": 3
   },
   "file_extension": ".py",
   "mimetype": "text/x-python",
   "name": "python",
   "nbconvert_exporter": "python",
   "pygments_lexer": "ipython3",
   "version": "3.8.3"
  }
 },
 "nbformat": 4,
 "nbformat_minor": 2
}
