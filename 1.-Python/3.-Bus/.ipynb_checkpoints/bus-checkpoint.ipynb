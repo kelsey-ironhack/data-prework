{
 "cells": [
  {
   "cell_type": "markdown",
   "metadata": {},
   "source": [
    "<img src=\"https://bit.ly/2VnXWr2\" width=\"100\" align=\"left\">"
   ]
  },
  {
   "cell_type": "markdown",
   "metadata": {},
   "source": [
    "# Bus\n",
    "\n",
    "This bus has a passenger entry and exit control system to monitor the number of occupants it carries and thus detect when there are too many.\n",
    "\n",
    "At each stop, the entry and exit of passengers is represented by a tuple consisting of two integer numbers.\n",
    "```\n",
    "bus_stop = (in, out)\n",
    "```\n",
    "The succession of stops is represented by a list of these tuples.\n",
    "```\n",
    "stops = [(in1, out1), (in2, out2), (in3, out3), (in4, out4)]\n",
    "```\n",
    "\n",
    "## Tools\n",
    "You don't necessarily need to use all the tools. Maybe you opt to use some of them or completely different ones, they are given to help you shape the exercise. Programming exercises can be solved in many different ways.\n",
    "* Data structures: **lists, tuples**\n",
    "* Loop: **while/for loops**\n",
    "* Functions: **min, max, len**\n",
    "\n",
    "## Tasks"
   ]
  },
  {
   "cell_type": "code",
   "execution_count": 1,
   "metadata": {},
   "outputs": [],
   "source": [
    "# Variables\n",
    "stops = [(10, 0), (4, 1), (3, 5), (3, 4), (5, 1), (1, 5), (5, 8), (4, 6), (2, 3)]"
   ]
  },
  {
   "cell_type": "markdown",
   "metadata": {},
   "source": [
    "#### 1. Calculate the number of stops."
   ]
  },
  {
   "cell_type": "code",
   "execution_count": 5,
   "metadata": {},
   "outputs": [
    {
     "name": "stdout",
     "output_type": "stream",
     "text": [
      "El número de paradas fue: 9\n"
     ]
    }
   ],
   "source": [
    "print(\"El número de paradas fue:\",len(stops))"
   ]
  },
  {
   "cell_type": "markdown",
   "metadata": {},
   "source": [
    "#### 2. Assign to a variable a list whose elements are the number of passengers at each stop (in-out).\n",
    "Each item depends on the previous item in the list + in - out."
   ]
  },
  {
   "cell_type": "code",
   "execution_count": 7,
   "metadata": {},
   "outputs": [
    {
     "name": "stdout",
     "output_type": "stream",
     "text": [
      "[10, 13, 11, 10, 14, 10, 7, 5, 4]\n"
     ]
    }
   ],
   "source": [
    "pasajeros_paradas=[]\n",
    "pasajeros_actuales=0\n",
    "for i in range(9):\n",
    "    pasajeros_actuales=pasajeros_actuales+stops[i][0]-stops[i][1]\n",
    "    pasajeros_paradas.append(pasajeros_actuales)\n",
    "print(pasajeros_paradas)"
   ]
  },
  {
   "cell_type": "markdown",
   "metadata": {},
   "source": [
    "#### 3. Find the maximum occupation of the bus."
   ]
  },
  {
   "cell_type": "code",
   "execution_count": 8,
   "metadata": {},
   "outputs": [
    {
     "name": "stdout",
     "output_type": "stream",
     "text": [
      "14\n"
     ]
    }
   ],
   "source": [
    "print(max(pasajeros_paradas))"
   ]
  },
  {
   "cell_type": "markdown",
   "metadata": {},
   "source": [
    "#### 4. Calculate the average occupation. And the standard deviation."
   ]
  },
  {
   "cell_type": "code",
   "execution_count": 14,
   "metadata": {},
   "outputs": [
    {
     "name": "stdout",
     "output_type": "stream",
     "text": [
      "El promedio de ocupación es: 9.333333333333334\n",
      "La desviación estándar de la ocupación es: 3.197221015541813\n"
     ]
    }
   ],
   "source": [
    "promedio_bus=sum(pasajeros_paradas)/len(pasajeros_paradas)\n",
    "desv_bus=[]\n",
    "\n",
    "for i in range(len(pasajeros_paradas)):\n",
    "    x=(pasajeros_paradas[i]-promedio_bus)**2\n",
    "    desv_bus.append(x)\n",
    "\n",
    "print(\"El promedio de ocupación es:\",promedio_bus)\n",
    "print(\"La desviación estándar de la ocupación es:\",(sum(desv_bus)/len(desv_bus))**0.5)"
   ]
  }
 ],
 "metadata": {
  "kernelspec": {
   "display_name": "Python 3",
   "language": "python",
   "name": "python3"
  },
  "language_info": {
   "codemirror_mode": {
    "name": "ipython",
    "version": 3
   },
   "file_extension": ".py",
   "mimetype": "text/x-python",
   "name": "python",
   "nbconvert_exporter": "python",
   "pygments_lexer": "ipython3",
   "version": "3.6.2"
  }
 },
 "nbformat": 4,
 "nbformat_minor": 2
}
