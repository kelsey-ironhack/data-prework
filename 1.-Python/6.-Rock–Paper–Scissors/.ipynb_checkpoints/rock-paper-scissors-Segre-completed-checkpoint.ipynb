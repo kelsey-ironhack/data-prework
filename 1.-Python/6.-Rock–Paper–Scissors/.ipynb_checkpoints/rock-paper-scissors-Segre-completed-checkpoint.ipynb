{
 "cells": [
  {
   "cell_type": "markdown",
   "metadata": {},
   "source": [
    "<img src=\"https://bit.ly/2VnXWr2\" width=\"100\" align=\"left\">"
   ]
  },
  {
   "cell_type": "markdown",
   "metadata": {},
   "source": [
    "# Rock, Paper & Scissors\n",
    "\n",
    "Let's play the famous game against our computer. You can check the rules [here](https://en.wikipedia.org/wiki/Rock%E2%80%93paper%E2%80%93scissors). \n",
    "\n",
    "## Task\n",
    "Create a program that imitates the playability of the well known game of rock, paper, scissors. Follow the guidelines provided.\n",
    "\n",
    "## Tools\n",
    "1. Loop: **for/while**\n",
    "2. Functions: **input(), print()...**\n",
    "3. Conditional statements: **if, elif, else**\n",
    "4. Definition of functions. Modular programming\n",
    "5. Import modules\n",
    "\n",
    "**To solve this challenge, the use of functions is recommended.**\n",
    "\n",
    "#### 1. Import the choice function of the random module."
   ]
  },
  {
   "cell_type": "code",
   "execution_count": 56,
   "metadata": {},
   "outputs": [],
   "source": [
    "import random\n",
    "from random import choice"
   ]
  },
  {
   "cell_type": "markdown",
   "metadata": {},
   "source": [
    "#### 2. Create a list that includes the 3 possible gesture options of the game: 'rock', 'paper' or 'scissors'. Store the list in a variable called `gestures`."
   ]
  },
  {
   "cell_type": "code",
   "execution_count": 57,
   "metadata": {},
   "outputs": [],
   "source": [
    "gestures = ['rock', 'paper', 'scissors']"
   ]
  },
  {
   "cell_type": "markdown",
   "metadata": {},
   "source": [
    "#### 3. Create a variable called `n_rounds` to store the maximum number of rounds to play in a game. \n",
    "Remember that the number of rounds must be odd: 1, 3, 5, ..."
   ]
  },
  {
   "cell_type": "code",
   "execution_count": 58,
   "metadata": {},
   "outputs": [],
   "source": [
    "n_rounds = 5"
   ]
  },
  {
   "cell_type": "markdown",
   "metadata": {},
   "source": [
    "#### 4. Create a variable called `rounds_to_win` to store the number of rounds that a player must win to win the game.\n",
    "**Hint**: the value stored in `rounds_to_win` depends on the value of `n_rounds`. "
   ]
  },
  {
   "cell_type": "code",
   "execution_count": 59,
   "metadata": {},
   "outputs": [],
   "source": [
    "rounds_to_win = ((n_rounds -1)/2)+1"
   ]
  },
  {
   "cell_type": "markdown",
   "metadata": {},
   "source": [
    "#### 5. Create two variables to store the number of rounds that the computer and the player have won. Call these variables `cpu_score` and `player_score`."
   ]
  },
  {
   "cell_type": "code",
   "execution_count": 60,
   "metadata": {},
   "outputs": [],
   "source": [
    "cpu_score = 0\n",
    "player_score = 0"
   ]
  },
  {
   "cell_type": "markdown",
   "metadata": {},
   "source": [
    "#### 6. Define a function that randomly returns one of the 3 gesture options.\n",
    "You will use this function to simulate the gesture choice of the computer. "
   ]
  },
  {
   "cell_type": "code",
   "execution_count": 61,
   "metadata": {},
   "outputs": [],
   "source": [
    "computer_move = random.choice(gestures)"
   ]
  },
  {
   "cell_type": "markdown",
   "metadata": {},
   "source": [
    "#### 7. Define a function that asks the player which is the gesture he or she wants to show: 'rock', 'paper' or 'scissors'.\n",
    "The player should only be allowed to choose one of the 3 gesture options. If the player's choice is not rock, paper or scissors, keep asking until it is."
   ]
  },
  {
   "cell_type": "code",
   "execution_count": 62,
   "metadata": {},
   "outputs": [
    {
     "name": "stdout",
     "output_type": "stream",
     "text": [
      "Please choose your move(between 'rock','paper', or 'scissors'):paper\n",
      "Nice to play with you\n"
     ]
    }
   ],
   "source": [
    "your_move = input(\"Please choose your move(between 'rock','paper', or 'scissors'):\")\n",
    "\n",
    "if your_move == 'rock':\n",
    "    print(\"Nice to play with you\")\n",
    "elif your_move == 'paper':\n",
    "    print(\"Nice to play with you\")\n",
    "elif your_move == 'scissors':\n",
    "    print(\"Nice to play with you\")\n",
    "else:\n",
    "    print(\"Please stick to the game rules. Only choose 'paper', 'rock', or 'scissors'\")\n",
    "\n"
   ]
  },
  {
   "cell_type": "markdown",
   "metadata": {},
   "source": [
    "### 8. Define a function that checks who won a round. \n",
    "The function should return 0 if there is a tie, 1 if the computer wins and 2 if the player wins."
   ]
  },
  {
   "cell_type": "code",
   "execution_count": 69,
   "metadata": {},
   "outputs": [
    {
     "name": "stdout",
     "output_type": "stream",
     "text": [
      "It is a tie!\n"
     ]
    }
   ],
   "source": [
    "results = []\n",
    "\n",
    "if (your_move == 'paper') & (computer_move == 'paper'):\n",
    "    results.append(0)\n",
    "elif (your_move == 'rock') & (computer_move == 'rock'):\n",
    "    results.append(0)\n",
    "elif (your_move == 'scissors') & (computer_move == 'scissors'):\n",
    "    results.append(0)\n",
    "elif (your_move == 'paper') & (computer_move == 'scissors'):\n",
    "    results.append(1)\n",
    "    cpu_score += 1\n",
    "elif (your_move == 'rock') & (computer_move == 'paper'):\n",
    "    results.append(1)\n",
    "    cpu_score += 1\n",
    "elif (your_move == 'scissors') & (computer_move == 'rock'):\n",
    "    results.append(1)\n",
    "    cpu_score += 1\n",
    "elif (your_move == 'paper') & (computer_move == 'rock'):\n",
    "    results.append(2)\n",
    "    player_score += 1\n",
    "elif (your_move == 'rock') & (computer_move == 'scissors'):\n",
    "    results.append(2)\n",
    "    player_score += 1\n",
    "elif (your_move == 'scissors') & (computer_move == 'paper'):\n",
    "    results.append(2)\n",
    "    player_score += 1\n"
   ]
  },
  {
   "cell_type": "markdown",
   "metadata": {},
   "source": [
    "#### 9. Define a function that prints the choice of the computer, the choice of the player and a message that announces who won the current round. \n",
    "You should also use this function to update the variables that count the number of rounds that the computer and the player have won. The score of the winner increases by one point. If there is a tie, the score does not increase."
   ]
  },
  {
   "cell_type": "code",
   "execution_count": 76,
   "metadata": {},
   "outputs": [
    {
     "name": "stdout",
     "output_type": "stream",
     "text": [
      "The computer played paper\n",
      "You played: paper\n",
      "It is a tie!\n"
     ]
    }
   ],
   "source": [
    "print (\"The computer played\", computer_move)\n",
    "print (\"You played:\",your_move)\n",
    "for results[i] in range(0, len(results)):\n",
    "    if results[i] == 0:\n",
    "        print (\"It is a tie!\")\n",
    "    elif results[i] == 1:\n",
    "        print (\"AH AH - Try again!\")\n",
    "        cpu_score +=1\n",
    "    elif results[i] == 2:\n",
    "        print (\"You win!\")\n",
    "        your_score +=1\n",
    "        \n",
    "prompt []\n"
   ]
  },
  {
   "cell_type": "markdown",
   "metadata": {},
   "source": [
    "#### 10. Now it's time to code the execution of the game using the functions and variables you defined above. \n",
    "\n",
    "First, create a loop structure that repeats while no player reaches the minimum score necessary to win and the number of rounds is less than the maximum number of rounds to play in a game.  \n",
    "\n",
    "Inside the loop, use the functions and variables above to create the execution of a round: ask for the player's choice, generate the random choice of the computer, show the round results, update the scores, etc. "
   ]
  },
  {
   "cell_type": "code",
   "execution_count": 7,
   "metadata": {
    "scrolled": true
   },
   "outputs": [
    {
     "name": "stdout",
     "output_type": "stream",
     "text": [
      "\n",
      "Instructions for Rock-Paper-Scissors : \n",
      "\n",
      "Rock wins over Scissors\n",
      "Scissors wins over Paper\n",
      "Paper wins over Rock\n",
      "\n",
      "Please choose your move(between 'rock','paper', or 'scissors'):rock\n",
      "Nice to play with you\n",
      "Computer won - Try again!\n",
      "The computer played: paper\n",
      "You played: rock\n",
      "---------------\n",
      "Please choose your move(between 'rock','paper', or 'scissors'):rock\n",
      "Nice to play with you\n",
      "Computer won - Try again!\n",
      "The computer played: paper\n",
      "You played: rock\n",
      "---------------\n",
      "Game completed!\n"
     ]
    }
   ],
   "source": [
    "import random\n",
    "from random import choice\n",
    "\n",
    "gestures = ['rock', 'paper', 'scissors']\n",
    "n_rounds = 3\n",
    "rounds_to_win = ((n_rounds -1)/2)+1\n",
    "cpu_score = 0\n",
    "player_score = 0\n",
    "counter = 0\n",
    "\n",
    "\n",
    "print()\n",
    "print(\"Instructions for Rock-Paper-Scissors : \")\n",
    "print()\n",
    "print(\"Rock wins over Scissors\")\n",
    "print(\"Scissors wins over Paper\")\n",
    "print(\"Paper wins over Rock\")\n",
    "print()\n",
    "    \n",
    "while (counter < n_rounds):\n",
    "    counter += 1\n",
    "    computer_move = random.choice(gestures)    \n",
    "    your_move = input(\"Please choose your move(between 'rock','paper', or 'scissors'):\")\n",
    "    if your_move == 'rock':\n",
    "        print(\"Nice to play with you\")\n",
    "    elif your_move == 'paper':\n",
    "        print(\"Nice to play with you\")\n",
    "    elif your_move == 'scissors':\n",
    "        print(\"Nice to play with you\")\n",
    "    else:\n",
    "        print(\"Please stick to the game rules. Only choose 'paper', 'rock', or 'scissors'\")\n",
    "\n",
    "    results = []\n",
    "    if your_move == computer_move:\n",
    "        results.append('0')\n",
    "        print (\"It is a tie!\")\n",
    "    elif (your_move == 'paper') & (computer_move == 'scissors'):\n",
    "        results.append('1')\n",
    "        print (\"Computer won - Try again!\")\n",
    "        cpu_score += 1\n",
    "    elif (your_move == 'rock') & (computer_move == 'paper'):\n",
    "        results.append('1')\n",
    "        print (\"Computer won - Try again!\")\n",
    "        cpu_score += 1\n",
    "    elif (your_move == 'scissors') & (computer_move == 'rock'):\n",
    "        results.append('1')\n",
    "        print (\"Computer won - Try again!\")\n",
    "        cpu_score += 1\n",
    "    elif (your_move == 'paper') & (computer_move == 'rock'):\n",
    "        results.append('2')\n",
    "        print (\"You win!\")\n",
    "        player_score += 1\n",
    "    elif (your_move == 'rock') & (computer_move == 'scissors'):\n",
    "        results.append('2')\n",
    "        print (\"You win!\")\n",
    "        player_score += 1\n",
    "    elif (your_move == 'scissors') & (computer_move == 'paper'):\n",
    "        results.append('2')\n",
    "        print (\"You win!\")\n",
    "        player_score += 1\n",
    "\n",
    "    print (\"The computer played:\", computer_move)\n",
    "    print (\"You played:\",your_move)\n",
    "    print (\"---------------\")\n",
    "    \n",
    "    if (int(cpu_score) == int(rounds_to_win)) | (int(player_score) == int(rounds_to_win)):\n",
    "        print (\"Game completed!\")\n",
    "        break\n",
    "        \n",
    "        \n",
    "        "
   ]
  },
  {
   "cell_type": "markdown",
   "metadata": {},
   "source": [
    "#### 11. Print the winner of the game based on who won more rounds.\n",
    "Remember that the game might be tied. "
   ]
  },
  {
   "cell_type": "code",
   "execution_count": 8,
   "metadata": {},
   "outputs": [
    {
     "name": "stdout",
     "output_type": "stream",
     "text": [
      "Computer has won 2 times\n",
      "You have won 0 times\n",
      "Computer wins this tournament!\n"
     ]
    }
   ],
   "source": [
    "print (\"Computer has won\", cpu_score, \"times\")\n",
    "print (\"You have won\", player_score, \"times\")\n",
    "if cpu_score > player_score:\n",
    "    print(\"Computer wins this tournament!\")\n",
    "elif player_score > cpu_score:\n",
    "    print(\"You win this tournament!\")\n",
    "else:\n",
    "    print(\"Looks like it was a tie! Good match!\")"
   ]
  },
  {
   "cell_type": "markdown",
   "metadata": {},
   "source": [
    "# Bonus: Rock, Paper, Scissors, Lizard & Spock\n",
    "![](images/rpsls.jpg)\n",
    "\n",
    "In this challenge, you need to improve the previous game by adding two new options. To know more about the rules of the improved version of rock, paper, scissors, check this [link](http://www.samkass.com/theories/RPSSL.html). \n",
    "\n",
    "In addition, you will also need to improve how the game interacts with the player: the number of rounds to play, which must be an odd number, will be requested to the user until a valid number is entered. Define a new function to make that request.\n",
    "\n",
    "**Hint**: Try to reuse the code that you already coded in the previous challenge. If your code is efficient, this bonus will only consist of simple modifications to the original game."
   ]
  },
  {
   "cell_type": "code",
   "execution_count": null,
   "metadata": {},
   "outputs": [],
   "source": []
  }
 ],
 "metadata": {
  "kernelspec": {
   "display_name": "Python 3",
   "language": "python",
   "name": "python3"
  },
  "language_info": {
   "codemirror_mode": {
    "name": "ipython",
    "version": 3
   },
   "file_extension": ".py",
   "mimetype": "text/x-python",
   "name": "python",
   "nbconvert_exporter": "python",
   "pygments_lexer": "ipython3",
   "version": "3.8.5"
  }
 },
 "nbformat": 4,
 "nbformat_minor": 2
}
