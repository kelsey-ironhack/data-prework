{
 "cells": [
  {
   "cell_type": "markdown",
   "metadata": {},
   "source": [
    "<img src=\"https://bit.ly/2VnXWr2\" width=\"100\" align=\"left\">"
   ]
  },
  {
   "cell_type": "markdown",
   "metadata": {},
   "source": [
    "# Rock, Paper & Scissors\n",
    "\n",
    "Let's play the famous game against our computer. You can check the rules [here](https://en.wikipedia.org/wiki/Rock%E2%80%93paper%E2%80%93scissors). \n",
    "\n",
    "## Task\n",
    "Create a program that imitates the playability of the well known game of rock, paper, scissors. Follow the guidelines provided.\n",
    "\n",
    "## Tools\n",
    "1. Loop: **for/while**\n",
    "2. Functions: **input(), print()...**\n",
    "3. Conditional statements: **if, elif, else**\n",
    "4. Definition of functions. Modular programming\n",
    "5. Import modules\n",
    "\n",
    "**To solve this challenge, the use of functions is recommended.**\n",
    "\n",
    "#### 1. Import the choice function of the random module."
   ]
  },
  {
   "cell_type": "code",
   "execution_count": 157,
   "metadata": {},
   "outputs": [],
   "source": [
    "import random"
   ]
  },
  {
   "cell_type": "markdown",
   "metadata": {},
   "source": [
    "#### 2. Create a list that includes the 3 possible gesture options of the game: 'rock', 'paper' or 'scissors'. Store the list in a variable called `gestures`."
   ]
  },
  {
   "cell_type": "code",
   "execution_count": 158,
   "metadata": {},
   "outputs": [],
   "source": [
    "gestures = ['rock', 'paper', 'scissors']"
   ]
  },
  {
   "cell_type": "markdown",
   "metadata": {},
   "source": [
    "#### 3. Create a variable called `n_rounds` to store the maximum number of rounds to play in a game. \n",
    "Remember that the number of rounds must be odd: 1, 3, 5, ..."
   ]
  },
  {
   "cell_type": "code",
   "execution_count": 159,
   "metadata": {},
   "outputs": [],
   "source": [
    "n_rounds = [1, 3, 5, 7, 9]"
   ]
  },
  {
   "cell_type": "markdown",
   "metadata": {},
   "source": [
    "#### 4. Create a variable called `rounds_to_win` to store the number of rounds that a player must win to win the game.\n",
    "**Hint**: the value stored in `rounds_to_win` depends on the value of `n_rounds`. "
   ]
  },
  {
   "cell_type": "code",
   "execution_count": 160,
   "metadata": {},
   "outputs": [],
   "source": [
    "rounds_to_win = [1, 2, 3, 4, 5]"
   ]
  },
  {
   "cell_type": "markdown",
   "metadata": {},
   "source": [
    "#### 5. Create two variables to store the number of rounds that the computer and the player have won. Call these variables `cpu_score` and `player_score`."
   ]
  },
  {
   "cell_type": "code",
   "execution_count": 161,
   "metadata": {},
   "outputs": [],
   "source": [
    "cpu_score = 0\n",
    "player_score = 0"
   ]
  },
  {
   "cell_type": "markdown",
   "metadata": {},
   "source": [
    "#### 6. Define a function that randomly returns one of the 3 gesture options.\n",
    "You will use this function to simulate the gesture choice of the computer. "
   ]
  },
  {
   "cell_type": "code",
   "execution_count": 162,
   "metadata": {},
   "outputs": [],
   "source": [
    "import random\n",
    "\n",
    "def cpu_gesture(argument):\n",
    "    random_gesture = random.choice(argument)\n",
    "    return random_gesture\n"
   ]
  },
  {
   "cell_type": "markdown",
   "metadata": {},
   "source": [
    "#### 7. Define a function that asks the player which is the gesture he or she wants to show: 'rock', 'paper' or 'scissors'.\n",
    "The player should only be allowed to choose one of the 3 gesture options. If the player's choice is not rock, paper or scissors, keep asking until it is."
   ]
  },
  {
   "cell_type": "code",
   "execution_count": 163,
   "metadata": {},
   "outputs": [],
   "source": [
    "def player_gesture():\n",
    "    while True:\n",
    "        choice_gesture = str(input('Make your choice: ')) \n",
    "        if choice_gesture == 'rock' or choice_gesture == 'paper' or choice_gesture == 'scissors':\n",
    "            break\n",
    "        print('Invalid! Make another choice')   \n",
    "    return choice_gesture\n"
   ]
  },
  {
   "cell_type": "markdown",
   "metadata": {},
   "source": [
    "#### 8. Define a function that checks who won a round. \n",
    "The function should return 0 if there is a tie, 1 if the computer wins and 2 if the player wins."
   ]
  },
  {
   "cell_type": "code",
   "execution_count": 164,
   "metadata": {},
   "outputs": [],
   "source": [
    "def result(input_1, input_2):\n",
    "    if input_1 == input_2:\n",
    "        return 0\n",
    "    elif input_1 == 'rock' and input_2 == 'paper':\n",
    "        return 2\n",
    "    elif input_1 == 'rock' and input_2 == 'scissors':\n",
    "        return 1\n",
    "    elif input_1 == 'scissors' and input_2 == 'paper':\n",
    "        return 1\n",
    "    elif input_1 == 'scissors' and input_2 == 'rock':\n",
    "        return 2\n",
    "    elif input_1 == 'paper' and input_2 == 'rock':\n",
    "        return 1\n",
    "    elif input_1 == 'paper' and input_2 == 'scissors':\n",
    "        return 2"
   ]
  },
  {
   "cell_type": "markdown",
   "metadata": {},
   "source": [
    "#### 9. Define a function that prints the choice of the computer, the choice of the player and a message that announces who won the current round. \n",
    "You should also use this function to update the variables that count the number of rounds that the computer and the player have won. The score of the winner increases by one point. If there is a tie, the score does not increase."
   ]
  },
  {
   "cell_type": "code",
   "execution_count": 165,
   "metadata": {},
   "outputs": [],
   "source": [
    "def round():\n",
    "    computer = cpu_gesture(gestures)\n",
    "    player = player_gesture()\n",
    "    message = 0\n",
    "    print(\"The computer's choice is: \", computer)\n",
    "    print(\"The player's choice is: \", player)\n",
    "    if result(computer, player) == 1:\n",
    "        cpu_score += 1\n",
    "        message = 'The computer won this round!'\n",
    "    if result(computer, player) == 2:\n",
    "        player_score += 1\n",
    "        message = 'The player won this round!'\n",
    "    if result(computer, player) == 0:\n",
    "        message = 'This round is a tie!'\n",
    "    return message"
   ]
  },
  {
   "cell_type": "markdown",
   "metadata": {},
   "source": [
    "#### 10. Now it's time to code the execution of the game using the functions and variables you defined above. \n",
    "\n",
    "First, create a loop structure that repeats while no player reaches the minimum score necessary to win and the number of rounds is less than the maximum number of rounds to play in a game.  \n",
    "\n",
    "Inside the loop, use the functions and variables above to create the execution of a round: ask for the player's choice, generate the random choice of the computer, show the round results, update the scores, etc. "
   ]
  },
  {
   "cell_type": "code",
   "execution_count": 166,
   "metadata": {},
   "outputs": [
    {
     "name": "stdout",
     "output_type": "stream",
     "text": [
      "Choose the number of rounds out of 1, 3, 5, 7 or 9: 3\n",
      "Make your choice: paper\n",
      "The computer's choice is:  paper\n",
      "The player's choice is:  paper\n",
      "This round is a tie!\n",
      "Make your choice: stone\n",
      "Invalid! Make another choice\n",
      "Make your choice: rock\n",
      "The computer's choice is:  rock\n",
      "The player's choice is:  rock\n",
      "This round is a tie!\n",
      "Make your choice: paper\n",
      "The computer's choice is:  paper\n",
      "The player's choice is:  paper\n",
      "This round is a tie!\n"
     ]
    }
   ],
   "source": [
    "chosen_rounds = int(input('Choose the number of rounds out of 1, 3, 5, 7 or 9: '))\n",
    "played_rounds = 0\n",
    "min_rounds = 0\n",
    "\n",
    "for i in range(len(n_rounds)):\n",
    "    if chosen_rounds == n_rounds[i]:\n",
    "        min_rounds = rounds_to_win[i]\n",
    "for i in range(chosen_rounds + 1):\n",
    "    while cpu_score < min_rounds and player_score < min_rounds and played_rounds < chosen_rounds:\n",
    "        played_rounds += 1\n",
    "        print(round())\n",
    "    break"
   ]
  },
  {
   "cell_type": "markdown",
   "metadata": {},
   "source": [
    "#### 11. Print the winner of the game based on who won more rounds.\n",
    "Remember that the game might be tied. "
   ]
  },
  {
   "cell_type": "code",
   "execution_count": null,
   "metadata": {},
   "outputs": [],
   "source": [
    "if cpu_score < player_score:\n",
    "    print('The computer won the game!')\n",
    "elif player_score < cpu_score:\n",
    "    print('The player won the game!')\n",
    "elif player_score == cpu_score:\n",
    "    print('The game is a tie!')"
   ]
  },
  {
   "cell_type": "markdown",
   "metadata": {},
   "source": [
    "# Bonus: Rock, Paper, Scissors, Lizard & Spock\n",
    "![](images/rpsls.jpg)\n",
    "\n",
    "In this challenge, you need to improve the previous game by adding two new options. To know more about the rules of the improved version of rock, paper, scissors, check this [link](http://www.samkass.com/theories/RPSSL.html). \n",
    "\n",
    "In addition, you will also need to improve how the game interacts with the player: the number of rounds to play, which must be an odd number, will be requested to the user until a valid number is entered. Define a new function to make that request.\n",
    "\n",
    "**Hint**: Try to reuse the code that you already coded in the previous challenge. If your code is efficient, this bonus will only consist of simple modifications to the original game."
   ]
  },
  {
   "cell_type": "code",
   "execution_count": 188,
   "metadata": {},
   "outputs": [
    {
     "name": "stdout",
     "output_type": "stream",
     "text": [
      "Choose the number of rounds: 3\n",
      "3\n",
      "Make your choice: paper\n",
      "The computer's choice is:  paper\n",
      "The player's choice is:  paper\n",
      "This round is a tie!\n",
      "The game is a tie!\n",
      "None\n"
     ]
    }
   ],
   "source": [
    "# This task has not been finalised\n",
    "\n",
    "import random\n",
    "\n",
    "bonus_gestures = ['rock', 'paper', 'scissors', 'lizard', 'spock']\n",
    "bonus_n_rounds = [1, 3, 5, 7, 9]\n",
    "bonus_rounds_to_win = [1, 2, 3, 4, 5]\n",
    "bonus_cpu_score = 0\n",
    "bonus_player_score = 0\n",
    "bonus_chosen_rounds = 0\n",
    "\n",
    "def bonus_cpu_gesture(argument):\n",
    "    bonus_random_gesture = random.choice(argument)\n",
    "    return bonus_random_gesture\n",
    "\n",
    "def bonus_player_gesture():\n",
    "    while True:\n",
    "        bonus_choice_gesture = str(input('Make your choice: ')) \n",
    "        if bonus_choice_gesture == 'rock' or bonus_choice_gesture == 'paper' or bonus_choice_gesture == 'scissors' or bonus_choice_gesture == 'lizard' or bonus_choice_gesture == 'spock':\n",
    "            break\n",
    "        print('Invalid! Make another choice')   \n",
    "    return bonus_choice_gesture\n",
    "\n",
    "def bonus_result(input_1, input_2):\n",
    "    if input_1 == input_2:\n",
    "        return 0\n",
    "    elif input_1 == 'rock' and input_2 == 'paper':\n",
    "        return 2\n",
    "    elif input_1 == 'rock' and input_2 == 'scissors':\n",
    "        return 1\n",
    "    elif input_1 == 'scissors' and input_2 == 'paper':\n",
    "        return 1\n",
    "    elif input_1 == 'scissors' and input_2 == 'rock':\n",
    "        return 2\n",
    "    elif input_1 == 'paper' and input_2 == 'rock':\n",
    "        return 1\n",
    "    elif input_1 == 'paper' and input_2 == 'scissors':\n",
    "        return 2\n",
    "    elif input_1 == 'paper' and input_2 == 'spock':\n",
    "        return 1\n",
    "    elif input_1 == 'lizard' and input_2 == 'paper':\n",
    "        return 1      \n",
    "    elif input_1 == 'spock' and input_2 == 'paper':\n",
    "        return 2\n",
    "    elif input_1 == 'paper' and input_2 == 'lizard':\n",
    "        return 2\n",
    "    elif input_1 == 'scissors' and input_2 == 'lizard':\n",
    "        return 1\n",
    "    elif input_1 == 'spock' and input_2 == 'scissors':\n",
    "        return 1\n",
    "    elif input_1 == 'lizard' and input_2 == 'scissors':\n",
    "        return 2\n",
    "    elif input_1 == 'scissors' and input_2 == 'spock':\n",
    "        return 2\n",
    "    elif input_1 == 'rock' and input_2 == 'lizard':\n",
    "        return 1\n",
    "    elif input_1 == 'spock' and input_2 == 'rock':\n",
    "        return 1\n",
    "    elif input_1 == 'lizard' and input_2 == 'rock':\n",
    "        return 2\n",
    "    elif input_1 == 'rock' and input_2 == 'spock':\n",
    "        return 2\n",
    "    elif input_1 == 'lizard' and input_2 == 'spock':\n",
    "        return 1\n",
    "    elif input_1 == 'spock' and input_2 == 'lizard':\n",
    "        return 2\n",
    "\n",
    "def bonus_rounds():\n",
    "    computer = bonus_cpu_gesture(bonus_gestures)\n",
    "    player = bonus_player_gesture()\n",
    "    message = 0\n",
    "    bonus_cpu_score = 0\n",
    "    bonus_player_score = 0\n",
    "    print(\"The computer's choice is: \", computer)\n",
    "    print(\"The player's choice is: \", player)\n",
    "    if result(computer, player) == 1:\n",
    "        bonus_cpu_score += 1\n",
    "        message = 'The computer won this round!'\n",
    "    if result(computer, player) == 2:\n",
    "        bonus_player_score += 1\n",
    "        message = 'The player won this round!'\n",
    "    if result(computer, player) == 0:\n",
    "        message = 'This round is a tie!'\n",
    "    return message\n",
    "\n",
    "def choose_rounds():\n",
    "    bonus_chosen_rounds = int(input('Choose the number of rounds: '))\n",
    "    while bonus_chosen_rounds not in bonus_n_rounds:\n",
    "        bonus_chosen_rounds = int(input('Incorrect number of rounds. Choose again! '))\n",
    "    return bonus_chosen_rounds\n",
    "\n",
    "def final():\n",
    "    final_message = 0\n",
    "    if bonus_cpu_score < bonus_player_score:\n",
    "        final_message = 'The computer won the game!'\n",
    "    elif bonus_player_score < bonus_cpu_score:\n",
    "        final_message = 'The player won the game!'\n",
    "    elif bonus_player_score == bonus_cpu_score:\n",
    "        final_message = 'The game is a tie!'\n",
    "    return final_message\n",
    "\n",
    "def game():\n",
    "    bonus_played_rounds = 0\n",
    "    bonus_min_rounds = 0\n",
    "    print(choose_rounds())\n",
    "    for i in range(len(bonus_n_rounds)):\n",
    "        if bonus_chosen_rounds == bonus_n_rounds[i]:\n",
    "            bonus_min_rounds = bonus_rounds_to_win[i]\n",
    "    for i in range(bonus_chosen_rounds + 1):\n",
    "        while bonus_cpu_score < bonus_min_rounds and bonus_player_score < bonus_min_rounds and bonus_played_rounds < bonus_chosen_rounds:\n",
    "            bonus_played_rounds += 1\n",
    "        print(bonus_rounds())\n",
    "        break \n",
    "    print(final())\n",
    "    return\n",
    "\n",
    "print(game())\n",
    "\n",
    "        "
   ]
  }
 ],
 "metadata": {
  "kernelspec": {
   "display_name": "Python 3",
   "language": "python",
   "name": "python3"
  },
  "language_info": {
   "codemirror_mode": {
    "name": "ipython",
    "version": 3
   },
   "file_extension": ".py",
   "mimetype": "text/x-python",
   "name": "python",
   "nbconvert_exporter": "python",
   "pygments_lexer": "ipython3",
   "version": "3.7.6"
  }
 },
 "nbformat": 4,
 "nbformat_minor": 2
}
