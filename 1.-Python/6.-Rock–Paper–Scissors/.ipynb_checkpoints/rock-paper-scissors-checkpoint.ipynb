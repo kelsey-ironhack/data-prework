{
 "cells": [
  {
   "cell_type": "markdown",
   "metadata": {},
   "source": [
    "<img src=\"https://bit.ly/2VnXWr2\" width=\"100\" align=\"left\">"
   ]
  },
  {
   "cell_type": "markdown",
   "metadata": {},
   "source": [
    "# Rock, Paper & Scissors\n",
    "\n",
    "Let's play the famous game against our computer. You can check the rules [here](https://en.wikipedia.org/wiki/Rock%E2%80%93paper%E2%80%93scissors). \n",
    "\n",
    "## Task\n",
    "Create a program that imitates the playability of the well known game of rock, paper, scissors. Follow the guidelines provided.\n",
    "\n",
    "## Tools\n",
    "1. Loop: **for/while**\n",
    "2. Functions: **input(), print()...**\n",
    "3. Conditional statements: **if, elif, else**\n",
    "4. Definition of functions. Modular programming\n",
    "5. Import modules\n",
    "\n",
    "**To solve this challenge, the use of functions is recommended.**\n",
    "\n",
    "#### 1. Import the choice function of the random module."
   ]
  },
  {
   "cell_type": "code",
   "execution_count": 145,
   "metadata": {},
   "outputs": [],
   "source": [
    "import random"
   ]
  },
  {
   "cell_type": "markdown",
   "metadata": {},
   "source": [
    "#### 2. Create a list that includes the 3 possible gesture options of the game: 'rock', 'paper' or 'scissors'. Store the list in a variable called `gestures`."
   ]
  },
  {
   "cell_type": "code",
   "execution_count": 146,
   "metadata": {},
   "outputs": [],
   "source": [
    "gestures = ['rock','paper','scissors']"
   ]
  },
  {
   "cell_type": "markdown",
   "metadata": {},
   "source": [
    "#### 3. Create a variable called `n_rounds` to store the maximum number of rounds to play in a game. \n",
    "Remember that the number of rounds must be odd: 1, 3, 5, ..."
   ]
  },
  {
   "cell_type": "code",
   "execution_count": 147,
   "metadata": {},
   "outputs": [],
   "source": [
    "n_rounds = 5"
   ]
  },
  {
   "cell_type": "markdown",
   "metadata": {},
   "source": [
    "#### 4. Create a variable called `rounds_to_win` to store the number of rounds that a player must win to win the game.\n",
    "**Hint**: the value stored in `rounds_to_win` depends on the value of `n_rounds`. "
   ]
  },
  {
   "cell_type": "code",
   "execution_count": 148,
   "metadata": {},
   "outputs": [],
   "source": [
    "rounds_to_win = (n_rounds/2)+0.5"
   ]
  },
  {
   "cell_type": "markdown",
   "metadata": {},
   "source": [
    "#### 5. Create two variables to store the number of rounds that the computer and the player have won. Call these variables `cpu_score` and `player_score`."
   ]
  },
  {
   "cell_type": "code",
   "execution_count": 149,
   "metadata": {},
   "outputs": [],
   "source": [
    "cpu_score = 0\n",
    "player_score = 0"
   ]
  },
  {
   "cell_type": "markdown",
   "metadata": {},
   "source": [
    "#### 6. Define a function that randomly returns one of the 3 gesture options.\n",
    "You will use this function to simulate the gesture choice of the computer. "
   ]
  },
  {
   "cell_type": "code",
   "execution_count": 150,
   "metadata": {},
   "outputs": [],
   "source": [
    "def computer_plays():\n",
    "    computer_g = random.choice(gestures)\n",
    "    return computer_g\n",
    "    "
   ]
  },
  {
   "cell_type": "markdown",
   "metadata": {},
   "source": [
    "#### 7. Define a function that asks the player which is the gesture he or she wants to show: 'rock', 'paper' or 'scissors'.\n",
    "The player should only be allowed to choose one of the 3 gesture options. If the player's choice is not rock, paper or scissors, keep asking until it is."
   ]
  },
  {
   "cell_type": "code",
   "execution_count": 151,
   "metadata": {},
   "outputs": [],
   "source": [
    "def player_plays():\n",
    "    player_g = input(\"Which gesture do you choose? \")\n",
    "    if player_g == \"rock\" or player_g == \"paper\" or player_g == \"scissors\":\n",
    "        return player_g\n",
    "    else:\n",
    "        player_g = input(\"I am sorry but that is not an option. Try again. Hint: do not use capital letters. \")"
   ]
  },
  {
   "cell_type": "markdown",
   "metadata": {},
   "source": [
    "#### 8. Define a function that checks who won a round. \n",
    "The function should return 0 if there is a tie, 1 if the computer wins and 2 if the player wins."
   ]
  },
  {
   "cell_type": "code",
   "execution_count": 152,
   "metadata": {},
   "outputs": [],
   "source": [
    "def winning(computer_g,player_g):\n",
    "    if computer_g == 'rock':\n",
    "        if player_g == 'rock':\n",
    "            return 0\n",
    "        elif player_g == 'scissors':\n",
    "            return 1\n",
    "        else:\n",
    "            return 2\n",
    "    elif computer_g == 'scissors':\n",
    "        if player_g == 'rock':\n",
    "            return 2\n",
    "        elif player_g == \"scissors\":\n",
    "            return 0\n",
    "        else:\n",
    "            return 1\n",
    "    elif computer_g == \"paper\":\n",
    "        if player_g == 'rock':\n",
    "            return 1\n",
    "        elif player_g == \"scissors\":\n",
    "            return 2\n",
    "        else:\n",
    "            return 0\n",
    "    "
   ]
  },
  {
   "cell_type": "markdown",
   "metadata": {},
   "source": [
    "#### 9. Define a function that prints the choice of the computer, the choice of the player and a message that announces who won the current round. \n",
    "You should also use this function to update the variables that count the number of rounds that the computer and the player have won. The score of the winner increases by one point. If there is a tie, the score does not increase."
   ]
  },
  {
   "cell_type": "code",
   "execution_count": 153,
   "metadata": {},
   "outputs": [],
   "source": [
    "def round_game(computer_g,player_g):\n",
    "    global cpu_score\n",
    "    global player_score\n",
    "    print(\"The computer plays \",computer_g)\n",
    "    print(\"The player plays \",player_g)\n",
    "    winner = winning(computer_g,player_g)\n",
    "    if winner == 1:\n",
    "        print(\"The computer won this round\")\n",
    "        cpu_score = cpu_score + 1\n",
    "    elif winner == 2:\n",
    "        print(\"The player won this round\")\n",
    "        player_score = player_score + 1\n",
    "    elif winner == 0:\n",
    "        print(\"This round was a tie\")\n",
    "        \n",
    "            \n",
    "    \n",
    "\n",
    "    \n",
    "    \n",
    "    "
   ]
  },
  {
   "cell_type": "markdown",
   "metadata": {},
   "source": [
    "#### 10. Now it's time to code the execution of the game using the functions and variables you defined above. \n",
    "\n",
    "First, create a loop structure that repeats while no player reaches the minimum score necessary to win and the number of rounds is less than the maximum number of rounds to play in a game.  \n",
    "\n",
    "Inside the loop, use the functions and variables above to create the execution of a round: ask for the player's choice, generate the random choice of the computer, show the round results, update the scores, etc. "
   ]
  },
  {
   "cell_type": "code",
   "execution_count": 154,
   "metadata": {},
   "outputs": [
    {
     "name": "stdout",
     "output_type": "stream",
     "text": [
      "Which gesture do you choose? paper\n",
      "The computer plays  scissors\n",
      "The player plays  paper\n",
      "The computer won this round\n",
      "Which gesture do you choose? scissors\n",
      "The computer plays  scissors\n",
      "The player plays  scissors\n",
      "This round was a tie\n",
      "Which gesture do you choose? scissors\n",
      "The computer plays  paper\n",
      "The player plays  scissors\n",
      "The player won this round\n",
      "Which gesture do you choose? paper\n",
      "The computer plays  scissors\n",
      "The player plays  paper\n",
      "The computer won this round\n",
      "Which gesture do you choose? rock\n",
      "The computer plays  rock\n",
      "The player plays  rock\n",
      "This round was a tie\n"
     ]
    }
   ],
   "source": [
    "rounds_played = 0\n",
    "while cpu_score<3 and player_score<3 and rounds_played<5:\n",
    "    for i in range(n_rounds):\n",
    "        player_g = player_plays()\n",
    "        computer_g = computer_plays()\n",
    "        round_game(computer_g,player_g)\n",
    "        rounds_played = rounds_played + 1\n",
    "\n",
    "        "
   ]
  },
  {
   "cell_type": "markdown",
   "metadata": {},
   "source": [
    "#### 11. Print the winner of the game based on who won more rounds.\n",
    "Remember that the game might be tied. "
   ]
  },
  {
   "cell_type": "code",
   "execution_count": 155,
   "metadata": {},
   "outputs": [
    {
     "name": "stdout",
     "output_type": "stream",
     "text": [
      "The computer wins.\n",
      "2 1\n"
     ]
    }
   ],
   "source": [
    "if cpu_score > player_score:\n",
    "    print(\"The computer wins.\")\n",
    "elif cpu_score < player_score:\n",
    "    print(\"The player wins.\")\n",
    "else:\n",
    "    print(\"It was a tie.\")\n",
    "    \n",
    "print(cpu_score,player_score)"
   ]
  },
  {
   "cell_type": "markdown",
   "metadata": {},
   "source": [
    "# Bonus: Rock, Paper, Scissors, Lizard & Spock\n",
    "![](images/rpsls.jpg)\n",
    "\n",
    "In this challenge, you need to improve the previous game by adding two new options. To know more about the rules of the improved version of rock, paper, scissors, check this [link](http://www.samkass.com/theories/RPSSL.html). \n",
    "\n",
    "In addition, you will also need to improve how the game interacts with the player: the number of rounds to play, which must be an odd number, will be requested to the user until a valid number is entered. Define a new function to make that request.\n",
    "\n",
    "**Hint**: Try to reuse the code that you already coded in the previous challenge. If your code is efficient, this bonus will only consist of simple modifications to the original game."
   ]
  },
  {
   "cell_type": "code",
   "execution_count": 157,
   "metadata": {},
   "outputs": [
    {
     "name": "stdout",
     "output_type": "stream",
     "text": [
      "How many rounds would you like to play? 4\n",
      "The number should we odd so we may have a winner. Try again: 3\n",
      "Which gesture do you choose? paper\n",
      "The computer plays  spoc\n",
      "The player plays  paper\n",
      "Which gesture do you choose? rock\n",
      "The computer plays  scissors\n",
      "The player plays  rock\n",
      "The player won this round\n",
      "Which gesture do you choose? paper\n",
      "The computer plays  lizzard\n",
      "The player plays  paper\n",
      "The computer won this round\n",
      "It was a tie.\n",
      "1 1\n"
     ]
    }
   ],
   "source": [
    "import random\n",
    "gestures = ['rock','paper','scissors','spoc','lizzard']\n",
    "\n",
    "def how_many_rounds():\n",
    "    number_rounds = int(input(\"How many rounds would you like to play? \"))\n",
    "    while (number_rounds%2) == 0:\n",
    "        number_rounds = int(input(\"The number should we odd so we may have a winner. Try again: \"))\n",
    "    return number_rounds\n",
    "    \n",
    "n_rounds = how_many_rounds()\n",
    "rounds_to_win = (n_rounds/2)+0.5\n",
    "cpu_score = 0\n",
    "player_score = 0\n",
    "\n",
    "def computer_plays():\n",
    "    computer_g = random.choice(gestures)\n",
    "    return computer_g\n",
    "\n",
    "def player_plays():\n",
    "    player_g = input(\"Which gesture do you choose? \")\n",
    "    if player_g == \"rock\" or player_g == \"paper\" or player_g == \"scissors\" or player_g == \"spock\" or player_g == \"lizzard\":\n",
    "        return player_g\n",
    "    else:\n",
    "        player_g = input(\"I am sorry but that is not an option. Try again. Hint: do not use capital letters. \")\n",
    "        \n",
    "def winning(computer_g,player_g):\n",
    "    if computer_g == 'rock':\n",
    "        if player_g == 'rock':\n",
    "            return 0\n",
    "        elif player_g == 'scissors':\n",
    "            return 1\n",
    "        elif player_g == \"lizzard\":\n",
    "            return 1\n",
    "        elif player_g == \"paper\":\n",
    "            return 2\n",
    "        else:\n",
    "            return 2\n",
    "    elif computer_g == 'scissors':\n",
    "        if player_g == 'rock':\n",
    "            return 2\n",
    "        elif player_g == \"spock\":\n",
    "            return 2\n",
    "        elif player_g == \"scissors\":\n",
    "            return 0\n",
    "        elif player_g == \"paper\":\n",
    "            return 1\n",
    "        else:\n",
    "            return 1\n",
    "    elif computer_g == \"paper\":\n",
    "        if player_g == 'rock':\n",
    "            return 1\n",
    "        elif player_g == \"spock\":\n",
    "            return 1\n",
    "        elif player_g == \"scissors\":\n",
    "            return 2\n",
    "        elif player_g == \"lizzard\":\n",
    "            return 2\n",
    "        else:\n",
    "            return 0\n",
    "    elif computer_g == \"spock\":\n",
    "        if player_g == \"rock\":\n",
    "            return 1\n",
    "        elif player_g == \"scissors\":\n",
    "            return 1\n",
    "        elif player_g == \"paper\":\n",
    "            return 2\n",
    "        elif player_g == \"lizzard\":\n",
    "            return 2\n",
    "        else:\n",
    "            return 0\n",
    "    elif computer_g == \"lizzard\":\n",
    "        if player_g == \"paper\":\n",
    "            return 1\n",
    "        elif player_g == \"spock\":\n",
    "            return 1\n",
    "        elif player_g == \"rock\":\n",
    "            return 2\n",
    "        elif player_g == \"scissors\":\n",
    "            return 2\n",
    "        else:\n",
    "            return 0\n",
    "        \n",
    "def round_game(computer_g,player_g):\n",
    "    global cpu_score\n",
    "    global player_score\n",
    "    print(\"The computer plays \",computer_g)\n",
    "    print(\"The player plays \",player_g)\n",
    "    winner = winning(computer_g,player_g)\n",
    "    if winner == 1:\n",
    "        print(\"The computer won this round\")\n",
    "        cpu_score = cpu_score + 1\n",
    "    elif winner == 2:\n",
    "        print(\"The player won this round\")\n",
    "        player_score = player_score + 1\n",
    "    elif winner == 0:\n",
    "        print(\"This round was a tie\")\n",
    "\n",
    "rounds_played = 0\n",
    "while cpu_score < rounds_to_win and player_score < rounds_to_win and rounds_played < n_rounds:\n",
    "    for i in range(n_rounds):\n",
    "        player_g = player_plays()\n",
    "        computer_g = computer_plays()\n",
    "        round_game(computer_g,player_g)\n",
    "        rounds_played = rounds_played + 1\n",
    "        \n",
    "if cpu_score > player_score:\n",
    "    print(\"The computer wins.\")\n",
    "elif cpu_score < player_score:\n",
    "    print(\"The player wins.\")\n",
    "else:\n",
    "    print(\"It was a tie.\")\n",
    "    \n",
    "print(cpu_score,player_score)\n",
    "\n",
    "\n",
    "\n"
   ]
  },
  {
   "cell_type": "code",
   "execution_count": null,
   "metadata": {},
   "outputs": [],
   "source": []
  }
 ],
 "metadata": {
  "kernelspec": {
   "display_name": "Python 3",
   "language": "python",
   "name": "python3"
  },
  "language_info": {
   "codemirror_mode": {
    "name": "ipython",
    "version": 3
   },
   "file_extension": ".py",
   "mimetype": "text/x-python",
   "name": "python",
   "nbconvert_exporter": "python",
   "pygments_lexer": "ipython3",
   "version": "3.7.6"
  }
 },
 "nbformat": 4,
 "nbformat_minor": 2
}
