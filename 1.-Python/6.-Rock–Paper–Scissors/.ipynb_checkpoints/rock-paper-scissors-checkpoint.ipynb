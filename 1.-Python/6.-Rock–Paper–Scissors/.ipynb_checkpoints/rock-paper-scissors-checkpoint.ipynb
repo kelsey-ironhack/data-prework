{
 "cells": [
  {
   "cell_type": "markdown",
   "metadata": {},
   "source": [
    "<img src=\"https://bit.ly/2VnXWr2\" width=\"100\" align=\"left\">"
   ]
  },
  {
   "cell_type": "markdown",
   "metadata": {},
   "source": [
    "# Rock, Paper & Scissors\n",
    "\n",
    "Let's play the famous game against our computer. You can check the rules [here](https://en.wikipedia.org/wiki/Rock%E2%80%93paper%E2%80%93scissors). \n",
    "\n",
    "## Task\n",
    "Create a program that imitates the playability of the well known game of rock, paper, scissors. Follow the guidelines provided.\n",
    "\n",
    "## Tools\n",
    "1. Loop: **for/while**\n",
    "2. Functions: **input(), print()...**\n",
    "3. Conditional statements: **if, elif, else**\n",
    "4. Definition of functions. Modular programming\n",
    "5. Import modules\n",
    "\n",
    "**To solve this challenge, the use of functions is recommended.**\n",
    "\n",
    "#### 1. Import the choice function of the random module."
   ]
  },
  {
   "cell_type": "code",
   "execution_count": 1,
   "metadata": {},
   "outputs": [],
   "source": [
    "import random"
   ]
  },
  {
   "cell_type": "markdown",
   "metadata": {},
   "source": [
    "#### 2. Create a list that includes the 3 possible gesture options of the game: 'rock', 'paper' or 'scissors'. Store the list in a variable called `gestures`."
   ]
  },
  {
   "cell_type": "code",
   "execution_count": 2,
   "metadata": {},
   "outputs": [],
   "source": [
    "gestures = [\"rock\", \"paper\", \"scissors\"]"
   ]
  },
  {
   "cell_type": "markdown",
   "metadata": {},
   "source": [
    "#### 3. Create a variable called `n_rounds` to store the maximum number of rounds to play in a game. \n",
    "Remember that the number of rounds must be odd: 1, 3, 5, ..."
   ]
  },
  {
   "cell_type": "code",
   "execution_count": 3,
   "metadata": {},
   "outputs": [],
   "source": [
    "n_rounds = 5"
   ]
  },
  {
   "cell_type": "markdown",
   "metadata": {},
   "source": [
    "4. Create a variable called `rounds_to_win` to store the number of rounds that a player must win to win the game.\n",
    "**Hint**: the value stored in `rounds_to_win` depends on the value of `n_rounds`. "
   ]
  },
  {
   "cell_type": "code",
   "execution_count": 4,
   "metadata": {},
   "outputs": [],
   "source": [
    "rounds_to_win = (n_rounds/2)+0.5\n"
   ]
  },
  {
   "cell_type": "markdown",
   "metadata": {},
   "source": [
    "#### 5. Create two variables to store the number of rounds that the computer and the player have won. Call these variables `cpu_score` and `player_score`."
   ]
  },
  {
   "cell_type": "code",
   "execution_count": 5,
   "metadata": {},
   "outputs": [],
   "source": [
    "cpu_score = 0\n",
    "player_score = 0"
   ]
  },
  {
   "cell_type": "markdown",
   "metadata": {},
   "source": [
    "#### 6. Define a function that randomly returns one of the 3 gesture options.\n",
    "You will use this function to simulate the gesture choice of the computer. "
   ]
  },
  {
   "cell_type": "code",
   "execution_count": 6,
   "metadata": {},
   "outputs": [
    {
     "name": "stdout",
     "output_type": "stream",
     "text": [
      "paper\n"
     ]
    }
   ],
   "source": [
    "def computer_choice(gestures):\n",
    "    choice = random.choice(gestures)\n",
    "    \n",
    "    return choice\n",
    "\n",
    "cpu_gesture = computer_choice(gestures)\n",
    "\n",
    "print(cpu_gesture)\n"
   ]
  },
  {
   "cell_type": "markdown",
   "metadata": {},
   "source": [
    "#### 7. Define a function that asks the player which is the gesture he or she wants to show: 'rock', 'paper' or 'scissors'.\n",
    "The player should only be allowed to choose one of the 3 gesture options. If the player's choice is not rock, paper or scissors, keep asking until it is."
   ]
  },
  {
   "cell_type": "code",
   "execution_count": 7,
   "metadata": {
    "scrolled": true
   },
   "outputs": [
    {
     "name": "stdout",
     "output_type": "stream",
     "text": [
      "Rock, paper or scissors?paper\n"
     ]
    }
   ],
   "source": [
    "def player_choice():\n",
    "    while (True):\n",
    "        choice = input(\"Rock, paper or scissors?\")\n",
    "        if choice in gestures:\n",
    "            return choice\n",
    "            break \n",
    "p_gesture = player_choice()\n"
   ]
  },
  {
   "cell_type": "markdown",
   "metadata": {},
   "source": [
    "#### 8. Define a function that checks who won a round. \n",
    "The function should return 0 if there is a tie, 1 if the computer wins and 2 if the player wins."
   ]
  },
  {
   "cell_type": "code",
   "execution_count": 8,
   "metadata": {
    "scrolled": true
   },
   "outputs": [
    {
     "name": "stdout",
     "output_type": "stream",
     "text": [
      "0\n"
     ]
    }
   ],
   "source": [
    "a_draw = 0\n",
    "i_won = 1\n",
    "you_won = 2\n",
    "\n",
    "def who_won(comp_gesture, player_gesture):\n",
    "    if comp_gesture == player_gesture:\n",
    "        return a_draw\n",
    "    elif comp_gesture == \"rock\" and player_gesture == \"paper\" or \\\n",
    "       comp_gesture == \"paper\" and player_gesture == \"scissors\" or \\\n",
    "       comp_gesture == \"scissors\" and player_gesture == \"rock\":\n",
    "        return you_won\n",
    "    else:\n",
    "        return i_won\n",
    "\n",
    "round_winner = who_won(cpu_gesture, p_gesture)\n",
    "print(round_winner)"
   ]
  },
  {
   "cell_type": "markdown",
   "metadata": {},
   "source": [
    "#### 9. Define a function that prints the choice of the computer, the choice of the player and a message that announces who won the current round. \n",
    "You should also use this function to update the variables that count the number of rounds that the computer and the player have won. The score of the winner increases by one point. If there is a tie, the score does not increase."
   ]
  },
  {
   "cell_type": "code",
   "execution_count": 9,
   "metadata": {},
   "outputs": [
    {
     "name": "stdout",
     "output_type": "stream",
     "text": [
      "You chose paper\n",
      "I chose paper\n",
      "Draw!\n",
      "0 0\n"
     ]
    }
   ],
   "source": [
    "draw = \"Draw!\"\n",
    "you_win = \"You won!\"\n",
    "i_win = \"I won!\"\n",
    "\n",
    "def who_played_what(round_winner, your_gesture, my_gesture, my_score, your_score):\n",
    "    your_choice = \"You chose \" + your_gesture\n",
    "    my_choice = \"I chose \" + my_gesture\n",
    "    print(your_choice)\n",
    "    print(my_choice)\n",
    "    if round_winner == 0:\n",
    "        print(draw)\n",
    "    elif round_winner == 1:\n",
    "        print(i_win)\n",
    "        my_score += 1\n",
    "    elif round_winner == 2:\n",
    "        print(you_win)\n",
    "        your_score += 1\n",
    "    return my_score, your_score\n",
    "    print(my_score, your_score)\n",
    "\n",
    "    \n",
    "(cpu_score, player_score) = who_played_what(round_winner, p_gesture, cpu_gesture, cpu_score, player_score) \n",
    "print(cpu_score, player_score)"
   ]
  },
  {
   "cell_type": "markdown",
   "metadata": {},
   "source": [
    "#### 10. Now it's time to code the execution of the game using the functions and variables you defined above. \n",
    "\n",
    "First, create a loop structure that repeats while no player reaches the minimum score necessary to win and the number of rounds is less than the maximum number of rounds to play in a game.  \n",
    "\n",
    "Inside the loop, use the functions and variables above to create the execution of a round: ask for the player's choice, generate the random choice of the computer, show the round results, update the scores, etc. "
   ]
  },
  {
   "cell_type": "code",
   "execution_count": 10,
   "metadata": {},
   "outputs": [
    {
     "name": "stdout",
     "output_type": "stream",
     "text": [
      "Rock, paper or scissors?paper\n",
      "You chose paper\n",
      "I chose rock\n",
      "You won!\n",
      "0 1\n",
      "Rock, paper or scissors?spock\n",
      "Rock, paper or scissors?rock\n",
      "You chose rock\n",
      "I chose scissors\n",
      "You won!\n",
      "0 2\n",
      "Rock, paper or scissors?scissors\n",
      "You chose scissors\n",
      "I chose paper\n",
      "You won!\n",
      "0 3\n"
     ]
    }
   ],
   "source": [
    "cpu_score = 0;\n",
    "player_score = 0;\n",
    "while cpu_score + player_score < n_rounds and cpu_score < rounds_to_win and player_score < rounds_to_win:\n",
    "        my_gesture = computer_choice(gestures)\n",
    "        your_gesture = player_choice()\n",
    "        this_round = who_won(my_gesture, your_gesture)\n",
    "        (cpu_score, player_score) = who_played_what(this_round, your_gesture, my_gesture, cpu_score, player_score)\n",
    "        print(cpu_score, player_score)"
   ]
  },
  {
   "cell_type": "raw",
   "metadata": {},
   "source": [
    "#### 11. Print the winner of the game based on who won more rounds.\n",
    "Remember that the game might be tied. "
   ]
  },
  {
   "cell_type": "code",
   "execution_count": 11,
   "metadata": {},
   "outputs": [
    {
     "name": "stdout",
     "output_type": "stream",
     "text": [
      "Computer: 0 You: 3\n",
      "You won!\n"
     ]
    }
   ],
   "source": [
    "print(\"Computer: \" + str(cpu_score) + \" You: \" + str(player_score))\n",
    "\n",
    "if cpu_score > player_score:\n",
    "    print(\"I won!\")\n",
    "elif cpu_score < player_score:\n",
    "    print(\"You won!\")\n",
    "else:\n",
    "    print(\"Draw!\")\n",
    "\n",
    "\n",
    "\n"
   ]
  },
  {
   "cell_type": "markdown",
   "metadata": {},
   "source": [
    "# Bonus: Rock, Paper, Scissors, Lizard & Spock\n",
    "![](images/rpsls.jpg)\n",
    "\n",
    "In this challenge, you need to improve the previous game by adding two new options. To know more about the rules of the improved version of rock, paper, scissors, check this [link](http://www.samkass.com/theories/RPSSL.html). \n",
    "\n",
    "In addition, you will also need to improve how the game interacts with the player: the number of rounds to play, which must be an odd number, will be requested to the user until a valid number is entered. Define a new function to make that request.\n",
    "\n",
    "**Hint**: Try to reuse the code that you already coded in the previous challenge. If your code is efficient, this bonus will only consist of simple modifications to the original game."
   ]
  },
  {
   "cell_type": "code",
   "execution_count": 12,
   "metadata": {},
   "outputs": [
    {
     "name": "stdout",
     "output_type": "stream",
     "text": [
      "lizard\n"
     ]
    }
   ],
   "source": [
    "more_gestures = [\"rock\", \"paper\", \"scissors\", \"lizard\", \"spock\"]\n",
    "\n",
    "def computer_choice_2(new_gestures):\n",
    "    choice = random.choice(more_gestures)\n",
    "    \n",
    "    return choice\n",
    "\n",
    "cpu_gesture_2 = computer_choice_2(more_gestures)\n",
    "\n",
    "print(cpu_gesture_2)"
   ]
  },
  {
   "cell_type": "code",
   "execution_count": 14,
   "metadata": {},
   "outputs": [
    {
     "name": "stdout",
     "output_type": "stream",
     "text": [
      "Rock, paper, scissors, lizard or spock?lizard\n"
     ]
    }
   ],
   "source": [
    "def player_choice_2():\n",
    "    while (True):\n",
    "        choice = input(\"Rock, paper, scissors, lizard or spock?\")\n",
    "        if choice in more_gestures:\n",
    "            return choice\n",
    "            break \n",
    "p_gesture_2 = player_choice_2()"
   ]
  },
  {
   "cell_type": "code",
   "execution_count": 15,
   "metadata": {},
   "outputs": [
    {
     "name": "stdout",
     "output_type": "stream",
     "text": [
      "0\n"
     ]
    }
   ],
   "source": [
    "a_draw = 0\n",
    "i_won = 1\n",
    "you_won = 2\n",
    "\n",
    "def who_won_2(cpu_gesture_2, player_gesture_2):\n",
    "    if cpu_gesture_2 == player_gesture_2:\n",
    "        return a_draw\n",
    "    elif cpu_gesture_2 == \"rock\" and player_gesture_2 == \"lizard\" or \\\n",
    "        cpu_gesture_2 == \"rock\" and player_gesture_2 == \"scissors\" or \\\n",
    "        cpu_gesture_2 == \"paper\" and player_gesture_2 == \"rock\" or \\\n",
    "        cpu_gesture_2 == \"paper\" and player_gesture_2 == \"spock\" or \\\n",
    "        cpu_gesture_2 == \"scissors\" and player_gesture_2 == \"paper\" or \\\n",
    "        cpu_gesture_2 == \"scissors\" and player_gesture_2 == \"lizard\" or \\\n",
    "        cpu_gesture_2 == \"lizard\" and player_gesture_2 == \"spock\" or \\\n",
    "        cpu_gesture_2 == \"lizard\" and player_gesture_2 == \"paper\" or \\\n",
    "        cpu_gesture_2 == \"spock\" and player_gesture_2 == \"scissors\" or \\\n",
    "        cpu_gesture_2 == \"spock\" and player_gesture_2 == \"rock\":   \n",
    "         return i_won\n",
    "    else:\n",
    "        return you_won\n",
    "    return player_score, cpu_score\n",
    "\n",
    "round_winner_2 = who_won_2(cpu_gesture_2, p_gesture_2)\n",
    "print(round_winner_2)  "
   ]
  },
  {
   "cell_type": "code",
   "execution_count": 17,
   "metadata": {},
   "outputs": [
    {
     "name": "stdout",
     "output_type": "stream",
     "text": [
      "You chose lizard\n",
      "I chose lizard\n",
      "Draw!\n",
      "0 0\n"
     ]
    }
   ],
   "source": [
    "draw = \"Draw!\"\n",
    "you_win = \"You won!\"\n",
    "i_win = \"I won!\"\n",
    "\n",
    "cpu_score = 0\n",
    "player_score = 0\n",
    "\n",
    "def who_played_what_2(round_winner, your_gesture, my_gesture, my_score, your_score):\n",
    "    your_choice = \"You chose \" + your_gesture\n",
    "    my_choice = \"I chose \" + my_gesture\n",
    "    print(your_choice)\n",
    "    print(my_choice)\n",
    "    if round_winner == 0:\n",
    "        print(draw)\n",
    "    elif round_winner == 1:\n",
    "        print(i_win)\n",
    "        my_score += 1\n",
    "    elif round_winner == 2:\n",
    "        print(you_win)\n",
    "        your_score += 1\n",
    "    return my_score, your_score\n",
    "    print(my_score, your_score)\n",
    "\n",
    "    \n",
    "(cpu_score, player_score) = who_played_what_2(round_winner_2, p_gesture_2, cpu_gesture_2, cpu_score, player_score) \n",
    "print(cpu_score, player_score)"
   ]
  },
  {
   "cell_type": "code",
   "execution_count": 18,
   "metadata": {},
   "outputs": [
    {
     "name": "stdout",
     "output_type": "stream",
     "text": [
      "How many rounds would you like to play? Choose an odd number5\n"
     ]
    }
   ],
   "source": [
    "def num_rounds():\n",
    "    while (True):\n",
    "        rounds = input(\"How many rounds would you like to play? Choose an odd number\")\n",
    "        if (int(rounds)%2!=0):\n",
    "            return rounds\n",
    "            break\n",
    "rounds_in_game = num_rounds()"
   ]
  },
  {
   "cell_type": "code",
   "execution_count": 19,
   "metadata": {},
   "outputs": [
    {
     "name": "stdout",
     "output_type": "stream",
     "text": [
      "Rock, paper, scissors, lizard or spock?spock\n",
      "You chose spock\n",
      "I chose rock\n",
      "You won!\n",
      "0 1\n",
      "Rock, paper, scissors, lizard or spock?scissors\n",
      "You chose scissors\n",
      "I chose rock\n",
      "I won!\n",
      "1 1\n",
      "Rock, paper, scissors, lizard or spock?paper\n",
      "You chose paper\n",
      "I chose lizard\n",
      "I won!\n",
      "2 1\n",
      "Rock, paper, scissors, lizard or spock?spock\n",
      "You chose spock\n",
      "I chose paper\n",
      "I won!\n",
      "3 1\n",
      "Rock, paper, scissors, lizard or spock?spock\n",
      "You chose spock\n",
      "I chose scissors\n",
      "You won!\n",
      "3 2\n"
     ]
    }
   ],
   "source": [
    "cpu_score = 0;\n",
    "player_score = 0;\n",
    "while cpu_score + player_score < int(rounds_in_game):\n",
    "        my_gesture_2 = computer_choice_2(more_gestures)\n",
    "        your_gesture_2 = player_choice_2()\n",
    "        this_round_2 = who_won_2(my_gesture_2, your_gesture_2)\n",
    "        (cpu_score, player_score) = who_played_what_2(this_round_2, your_gesture_2, my_gesture_2, cpu_score, player_score)\n",
    "        print(cpu_score, player_score)"
   ]
  },
  {
   "cell_type": "code",
   "execution_count": 20,
   "metadata": {},
   "outputs": [
    {
     "name": "stdout",
     "output_type": "stream",
     "text": [
      "Computer: 3 You: 2\n",
      "I won!\n"
     ]
    }
   ],
   "source": [
    "print(\"Computer: \" + str(cpu_score) + \" You: \" + str(player_score))\n",
    "\n",
    "if cpu_score > player_score:\n",
    "    print(\"I won!\")\n",
    "elif cpu_score < player_score:\n",
    "    print(\"You won!\")\n",
    "else:\n",
    "    print(\"Draw!\")"
   ]
  },
  {
   "cell_type": "code",
   "execution_count": null,
   "metadata": {},
   "outputs": [],
   "source": []
  }
 ],
 "metadata": {
  "kernelspec": {
   "display_name": "Python 3",
   "language": "python",
   "name": "python3"
  },
  "language_info": {
   "codemirror_mode": {
    "name": "ipython",
    "version": 3
   },
   "file_extension": ".py",
   "mimetype": "text/x-python",
   "name": "python",
   "nbconvert_exporter": "python",
   "pygments_lexer": "ipython3",
   "version": "3.8.5"
  }
 },
 "nbformat": 4,
 "nbformat_minor": 4
}
