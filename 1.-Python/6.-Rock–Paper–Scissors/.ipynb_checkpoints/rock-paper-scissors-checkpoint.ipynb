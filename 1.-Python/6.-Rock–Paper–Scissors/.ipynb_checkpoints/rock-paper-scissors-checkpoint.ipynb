{
 "cells": [
  {
   "cell_type": "markdown",
   "metadata": {},
   "source": [
    "<img src=\"https://bit.ly/2VnXWr2\" width=\"100\" align=\"left\">"
   ]
  },
  {
   "cell_type": "markdown",
   "metadata": {},
   "source": [
    "# Rock, Paper & Scissors\n",
    "\n",
    "Let's play the famous game against our computer. You can check the rules [here](https://en.wikipedia.org/wiki/Rock%E2%80%93paper%E2%80%93scissors). \n",
    "\n",
    "## Task\n",
    "Create a program that imitates the playability of the well known game of rock, paper, scissors. Follow the guidelines provided.\n",
    "\n",
    "## Tools\n",
    "1. Loop: **for/while**\n",
    "2. Functions: **input(), print()...**\n",
    "3. Conditional statements: **if, elif, else**\n",
    "4. Definition of functions. Modular programming\n",
    "5. Import modules\n",
    "\n",
    "**To solve this challenge, the use of functions is recommended.**\n",
    "\n",
    "#### 1. Import the choice function of the random module."
   ]
  },
  {
   "cell_type": "code",
   "execution_count": 4,
   "metadata": {},
   "outputs": [],
   "source": [
    "import random"
   ]
  },
  {
   "cell_type": "markdown",
   "metadata": {},
   "source": [
    "#### 2. Create a list that includes the 3 possible gesture options of the game: 'rock', 'paper' or 'scissors'. Store the list in a variable called `gestures`."
   ]
  },
  {
   "cell_type": "code",
   "execution_count": 6,
   "metadata": {},
   "outputs": [],
   "source": [
    "gestures = [\"rock\", \"paper\", \"scissors\"]"
   ]
  },
  {
   "cell_type": "markdown",
   "metadata": {},
   "source": [
    "#### 3. Create a variable called `n_rounds` to store the maximum number of rounds to play in a game. \n",
    "Remember that the number of rounds must be odd: 1, 3, 5, ..."
   ]
  },
  {
   "cell_type": "code",
   "execution_count": 3,
   "metadata": {},
   "outputs": [],
   "source": [
    "n_rounds = 3"
   ]
  },
  {
   "cell_type": "markdown",
   "metadata": {},
   "source": [
    "#### 4. Create a variable called `rounds_to_win` to store the number of rounds that a player must win to win the game.\n",
    "**Hint**: the value stored in `rounds_to_win` depends on the value of `n_rounds`. "
   ]
  },
  {
   "cell_type": "code",
   "execution_count": 13,
   "metadata": {},
   "outputs": [],
   "source": [
    "rounds_to_win = 2"
   ]
  },
  {
   "cell_type": "markdown",
   "metadata": {},
   "source": [
    "#### 5. Create two variables to store the number of rounds that the computer and the player have won. Call these variables `cpu_score` and `player_score`."
   ]
  },
  {
   "cell_type": "code",
   "execution_count": null,
   "metadata": {},
   "outputs": [],
   "source": [
    "cpu_score = 0\n",
    "player_score = 0"
   ]
  },
  {
   "cell_type": "markdown",
   "metadata": {},
   "source": [
    "#### 6. Define a function that randomly returns one of the 3 gesture options.\n",
    "You will use this function to simulate the gesture choice of the computer. "
   ]
  },
  {
   "cell_type": "code",
   "execution_count": 68,
   "metadata": {},
   "outputs": [
    {
     "data": {
      "text/plain": [
       "'rock'"
      ]
     },
     "execution_count": 68,
     "metadata": {},
     "output_type": "execute_result"
    }
   ],
   "source": [
    "def cpu_gesture():\n",
    "    return random.choice(gestures)\n"
   ]
  },
  {
   "cell_type": "markdown",
   "metadata": {},
   "source": [
    "#### 7. Define a function that asks the player which is the gesture he or she wants to show: 'rock', 'paper' or 'scissors'.\n",
    "The player should only be allowed to choose one of the 3 gesture options. If the player's choice is not rock, paper or scissors, keep asking until it is."
   ]
  },
  {
   "cell_type": "code",
   "execution_count": 69,
   "metadata": {},
   "outputs": [],
   "source": [
    "def player_gesture():\n",
    "    \n",
    "    player_choice = input(f\"Enter a choice: {', '.join(gestures)}: \")\n",
    "          \n",
    "    while player_choice.lower() not in gestures:\n",
    "    \n",
    "        player_choice = input(f\"Invalid choice. Enter a choice {', '.join(gestures)}: \")\n",
    "        \n",
    "    return player_choice.lower()\n",
    " "
   ]
  },
  {
   "cell_type": "markdown",
   "metadata": {},
   "source": [
    "#### 8. Define a function that checks who won a round. \n",
    "The function should return 0 if there is a tie, 1 if the computer wins and 2 if the player wins."
   ]
  },
  {
   "cell_type": "code",
   "execution_count": 98,
   "metadata": {},
   "outputs": [],
   "source": [
    "def check_winner(cpu_choice, player_choice):\n",
    "\n",
    "    if player_choice == cpu_choice:\n",
    "        #print(f\"Both players chose {player_choice}. It's a tie!\")    \n",
    "        return 0\n",
    "\n",
    "    elif player_choice == \"rock\":\n",
    "    \n",
    "        if cpu_choice == \"scissors\":\n",
    "            #print(\"Rock smashes scissors! Player win\")\n",
    "            return 2\n",
    "    \n",
    "    \n",
    "        else:\n",
    "            #print(\"Paper covers rock! PC win\")\n",
    "            return 1\n",
    "        \n",
    "    elif player_choice == \"paper\":\n",
    "    \n",
    "        if cpu_choice == \"rock\":\n",
    "            #print(\"Paper covers rock! Player win\")\n",
    "            return 2\n",
    "    \n",
    "        else:\n",
    "            #print(\"Scissors cuts paper! PC win\")\n",
    "            return 1\n",
    "        \n",
    "    elif player_choice == \"scissors\":\n",
    "    \n",
    "        if cpu_choice == \"paper\":\n",
    "            #print(\"Scissors cuts paper! Player win\")\n",
    "            return 2\n",
    "    \n",
    "        else:\n",
    "            #print(\"Rock smashes scissors! PC win\")\n",
    "            return 1\n",
    "\n"
   ]
  },
  {
   "cell_type": "markdown",
   "metadata": {},
   "source": [
    "#### 9. Define a function that prints the choice of the computer, the choice of the player and a message that announces who won the current round. \n",
    "You should also use this function to update the variables that count the number of rounds that the computer and the player have won. The score of the winner increases by one point. If there is a tie, the score does not increase."
   ]
  },
  {
   "cell_type": "code",
   "execution_count": 113,
   "metadata": {},
   "outputs": [
    {
     "name": "stdout",
     "output_type": "stream",
     "text": [
      "Enter a choice: rock, paper, scissors: paper\n",
      "Player chose paper while cpu chose scissors.\n",
      "Scissors cuts paper! PC win\n"
     ]
    },
    {
     "ename": "UnboundLocalError",
     "evalue": "local variable 'cpu_score' referenced before assignment",
     "output_type": "error",
     "traceback": [
      "\u001b[1;31m---------------------------------------------------------------------------\u001b[0m",
      "\u001b[1;31mUnboundLocalError\u001b[0m                         Traceback (most recent call last)",
      "\u001b[1;32m~\\AppData\\Local\\Temp/ipykernel_15520/3484081225.py\u001b[0m in \u001b[0;36m<module>\u001b[1;34m\u001b[0m\n\u001b[0;32m     48\u001b[0m             \u001b[1;32mreturn\u001b[0m \u001b[0mcpu_score\u001b[0m\u001b[1;33m\u001b[0m\u001b[1;33m\u001b[0m\u001b[0m\n\u001b[0;32m     49\u001b[0m \u001b[1;33m\u001b[0m\u001b[0m\n\u001b[1;32m---> 50\u001b[1;33m \u001b[0mround_announcements\u001b[0m\u001b[1;33m(\u001b[0m\u001b[0mwinner\u001b[0m\u001b[1;33m)\u001b[0m\u001b[1;33m\u001b[0m\u001b[1;33m\u001b[0m\u001b[0m\n\u001b[0m",
      "\u001b[1;32m~\\AppData\\Local\\Temp/ipykernel_15520/3484081225.py\u001b[0m in \u001b[0;36mround_announcements\u001b[1;34m(winner)\u001b[0m\n\u001b[0;32m     33\u001b[0m         \u001b[1;32melse\u001b[0m\u001b[1;33m:\u001b[0m\u001b[1;33m\u001b[0m\u001b[1;33m\u001b[0m\u001b[0m\n\u001b[0;32m     34\u001b[0m             \u001b[0mprint\u001b[0m\u001b[1;33m(\u001b[0m\u001b[1;34mf\"Player chose {player_choice} while cpu chose {cpu_choice}.\\nScissors cuts paper! PC win\"\u001b[0m\u001b[1;33m)\u001b[0m\u001b[1;33m\u001b[0m\u001b[1;33m\u001b[0m\u001b[0m\n\u001b[1;32m---> 35\u001b[1;33m             \u001b[0mcpu_score\u001b[0m \u001b[1;33m+=\u001b[0m \u001b[1;36m1\u001b[0m\u001b[1;33m\u001b[0m\u001b[1;33m\u001b[0m\u001b[0m\n\u001b[0m\u001b[0;32m     36\u001b[0m             \u001b[1;32mreturn\u001b[0m \u001b[0mcpu_score\u001b[0m\u001b[1;33m\u001b[0m\u001b[1;33m\u001b[0m\u001b[0m\n\u001b[0;32m     37\u001b[0m \u001b[1;33m\u001b[0m\u001b[0m\n",
      "\u001b[1;31mUnboundLocalError\u001b[0m: local variable 'cpu_score' referenced before assignment"
     ]
    }
   ],
   "source": [
    "cpu_choice = cpu_gesture()\n",
    "player_choice = player_gesture()\n",
    "winner = check_winner(cpu_choice, player_choice)\n",
    "rounds = 0\n",
    "\n",
    "def round_announcements(winner):\n",
    "\n",
    "    \n",
    "    if player_choice == cpu_choice:\n",
    "        print(f\"Both players chose {player_choice}. It's a tie!\")    \n",
    "        return 0\n",
    "\n",
    "    elif player_choice == \"rock\":\n",
    "    \n",
    "        if cpu_choice == \"scissors\":\n",
    "            print(f\"Player chose {player_choice} while cpu chose {cpu_choice}.\\nRock smashes scissors! Player win\")\n",
    "            player_score += 1\n",
    "            return player_score\n",
    "    \n",
    "    \n",
    "        else:\n",
    "            print(f\"Player chose {player_choice} while cpu chose {cpu_choice}.\\nPaper covers rock! PC win\")\n",
    "            cpu_score += 1\n",
    "            return cpu_score\n",
    "        \n",
    "    elif player_choice == \"paper\":\n",
    "    \n",
    "        if cpu_choice == \"rock\":\n",
    "            print(f\"Player chose {player_choice} while cpu chose {cpu_choice}.\\nPaper covers rock! Player win\")\n",
    "            player_score += 1\n",
    "            return player_score\n",
    "    \n",
    "        else:\n",
    "            print(f\"Player chose {player_choice} while cpu chose {cpu_choice}.\\nScissors cuts paper! PC win\")\n",
    "            cpu_score += 1\n",
    "            return cpu_score\n",
    "        \n",
    "    elif player_choice == \"scissors\":\n",
    "    \n",
    "        if cpu_choice == \"paper\":\n",
    "            print(f\"Player chose {player_choice} while cpu chose {cpu_choice}.\\nScissors cuts paper! Player win\")\n",
    "            player_score += 1\n",
    "            return player_score\n",
    "    \n",
    "        else:\n",
    "            print(f\"Player chose {player_choice} while cpu chose {cpu_choice}.\\nRock smashes scissors! PC win\")\n",
    "            cpu_score += 1\n",
    "            return cpu_score\n",
    "\n",
    "round_announcements(winner)\n"
   ]
  },
  {
   "cell_type": "markdown",
   "metadata": {},
   "source": [
    "#### 10. Now it's time to code the execution of the game using the functions and variables you defined above. \n",
    "\n",
    "First, create a loop structure that repeats while no player reaches the minimum score necessary to win and the number of rounds is less than the maximum number of rounds to play in a game.  \n",
    "\n",
    "Inside the loop, use the functions and variables above to create the execution of a round: ask for the player's choice, generate the random choice of the computer, show the round results, update the scores, etc. "
   ]
  },
  {
   "cell_type": "code",
   "execution_count": 91,
   "metadata": {},
   "outputs": [
    {
     "ename": "SyntaxError",
     "evalue": "invalid syntax (Temp/ipykernel_15520/3993553290.py, line 1)",
     "output_type": "error",
     "traceback": [
      "\u001b[1;36m  File \u001b[1;32m\"C:\\Users\\Rfbj\\AppData\\Local\\Temp/ipykernel_15520/3993553290.py\"\u001b[1;36m, line \u001b[1;32m1\u001b[0m\n\u001b[1;33m    while rounds_to_win\u001b[0m\n\u001b[1;37m                       ^\u001b[0m\n\u001b[1;31mSyntaxError\u001b[0m\u001b[1;31m:\u001b[0m invalid syntax\n"
     ]
    }
   ],
   "source": [
    "while rounds_to_win\n",
    "\n",
    "cpu_choice = cpu_gesture()\n",
    "player_choice = player_gesture()\n",
    "winner = check_winner(cpu_choice, player_choice)\n",
    "\n"
   ]
  },
  {
   "cell_type": "markdown",
   "metadata": {},
   "source": [
    "#### 11. Print the winner of the game based on who won more rounds.\n",
    "Remember that the game might be tied. "
   ]
  },
  {
   "cell_type": "code",
   "execution_count": null,
   "metadata": {},
   "outputs": [],
   "source": []
  },
  {
   "cell_type": "markdown",
   "metadata": {},
   "source": [
    "# Bonus: Rock, Paper, Scissors, Lizard & Spock\n",
    "![](images/rpsls.jpg)\n",
    "\n",
    "In this challenge, you need to improve the previous game by adding two new options. To know more about the rules of the improved version of rock, paper, scissors, check this [link](http://www.samkass.com/theories/RPSSL.html). \n",
    "\n",
    "In addition, you will also need to improve how the game interacts with the player: the number of rounds to play, which must be an odd number, will be requested to the user until a valid number is entered. Define a new function to make that request.\n",
    "\n",
    "**Hint**: Try to reuse the code that you already coded in the previous challenge. If your code is efficient, this bonus will only consist of simple modifications to the original game."
   ]
  },
  {
   "cell_type": "code",
   "execution_count": null,
   "metadata": {},
   "outputs": [],
   "source": []
  }
 ],
 "metadata": {
  "kernelspec": {
   "display_name": "Python 3 (ipykernel)",
   "language": "python",
   "name": "python3"
  },
  "language_info": {
   "codemirror_mode": {
    "name": "ipython",
    "version": 3
   },
   "file_extension": ".py",
   "mimetype": "text/x-python",
   "name": "python",
   "nbconvert_exporter": "python",
   "pygments_lexer": "ipython3",
   "version": "3.9.7"
  }
 },
 "nbformat": 4,
 "nbformat_minor": 2
}
