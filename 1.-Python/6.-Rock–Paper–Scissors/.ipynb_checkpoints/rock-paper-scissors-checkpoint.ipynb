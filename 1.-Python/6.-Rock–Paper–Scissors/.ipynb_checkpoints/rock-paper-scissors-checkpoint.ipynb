{
 "cells": [
  {
   "cell_type": "markdown",
   "metadata": {},
   "source": [
    "<img src=\"https://bit.ly/2VnXWr2\" width=\"100\" align=\"left\">"
   ]
  },
  {
   "cell_type": "markdown",
   "metadata": {},
   "source": [
    "# Rock, Paper & Scissors\n",
    "\n",
    "Let's play the famous game against our computer. You can check the rules [here](https://en.wikipedia.org/wiki/Rock%E2%80%93paper%E2%80%93scissors). \n",
    "\n",
    "## Task\n",
    "Create a program that imitates the playability of the well known game of rock, paper, scissors. Follow the guidelines provided.\n",
    "\n",
    "## Tools\n",
    "1. Loop: **for/while**\n",
    "2. Functions: **input(), print()...**\n",
    "3. Conditional statements: **if, elif, else**\n",
    "4. Definition of functions. Modular programming\n",
    "5. Import modules\n",
    "\n",
    "**To solve this challenge, the use of functions is recommended.**\n",
    "\n",
    "#### 1. Import the choice function of the random module."
   ]
  },
  {
   "cell_type": "code",
   "execution_count": null,
   "metadata": {},
   "outputs": [],
   "source": [
    "import random"
   ]
  },
  {
   "cell_type": "markdown",
   "metadata": {},
   "source": [
    "#### 2. Create a list that includes the 3 possible gesture options of the game: 'rock', 'paper' or 'scissors'. Store the list in a variable called `gestures`."
   ]
  },
  {
   "cell_type": "code",
   "execution_count": null,
   "metadata": {},
   "outputs": [],
   "source": [
    "gestures = [\"Rock\", \"Paper\", \"Scissors\"]"
   ]
  },
  {
   "cell_type": "markdown",
   "metadata": {},
   "source": [
    "#### 3. Create a variable called `n_rounds` to store the maximum number of rounds to play in a game. \n",
    "Remember that the number of rounds must be odd: 1, 3, 5, ..."
   ]
  },
  {
   "cell_type": "code",
   "execution_count": null,
   "metadata": {},
   "outputs": [],
   "source": [
    "n_rounds = 5"
   ]
  },
  {
   "cell_type": "markdown",
   "metadata": {},
   "source": [
    "#### 4. Create a variable called `rounds_to_win` to store the number of rounds that a player must win to win the game.\n",
    "**Hint**: the value stored in `rounds_to_win` depends on the value of `n_rounds`. "
   ]
  },
  {
   "cell_type": "code",
   "execution_count": null,
   "metadata": {},
   "outputs": [],
   "source": [
    "import math\n",
    "\n",
    "rounds_to_win = math.ceil(n_rounds/2)"
   ]
  },
  {
   "cell_type": "markdown",
   "metadata": {},
   "source": [
    "#### 5. Create two variables to store the number of rounds that the computer and the player have won. Call these variables `cpu_score` and `player_score`."
   ]
  },
  {
   "cell_type": "code",
   "execution_count": null,
   "metadata": {},
   "outputs": [],
   "source": [
    "cpu_score = 0\n",
    "player_score = 0\n",
    "ties = 0"
   ]
  },
  {
   "cell_type": "markdown",
   "metadata": {},
   "source": [
    "#### 6. Define a function that randomly returns one of the 3 gesture options.\n",
    "You will use this function to simulate the gesture choice of the computer. "
   ]
  },
  {
   "cell_type": "code",
   "execution_count": null,
   "metadata": {},
   "outputs": [],
   "source": [
    "def CPUpick(gestures):\n",
    "    cpu = random.choice(gestures)\n",
    "    print(\"CPU picks:\", cpu)\n",
    "    print(\"\")\n",
    "    return cpu"
   ]
  },
  {
   "cell_type": "markdown",
   "metadata": {},
   "source": [
    "#### 7. Define a function that asks the player which is the gesture he or she wants to show: 'rock', 'paper' or 'scissors'.\n",
    "The player should only be allowed to choose one of the 3 gesture options. If the player's choice is not rock, paper or scissors, keep asking until it is."
   ]
  },
  {
   "cell_type": "code",
   "execution_count": null,
   "metadata": {},
   "outputs": [],
   "source": [
    "def Playerpick(gestures):\n",
    "    player_choice = input(\"Rock, Paper or Scissors? \")\n",
    "    while player_choice not in gestures:\n",
    "        print(\"Invalid input, pick again\")\n",
    "        print(\"\")\n",
    "        player_choice = input(\"Rock, Paper or Scissors? \")\n",
    "    print(\"\")\n",
    "    print(\"Player picks:\", player_choice)\n",
    "    return player_choice"
   ]
  },
  {
   "cell_type": "markdown",
   "metadata": {},
   "source": [
    "#### 8. Define a function that checks who won a round. \n",
    "The function should return 0 if there is a tie, 1 if the computer wins and 2 if the player wins."
   ]
  },
  {
   "cell_type": "code",
   "execution_count": null,
   "metadata": {},
   "outputs": [],
   "source": [
    "def Whowon(CPUpick, Playerpick):\n",
    "    if CPUpick == Playerpick:\n",
    "        return 0     \n",
    "        \n",
    "    if CPUpick == \"Rock\" and Playerpick == \"Scissors\":\n",
    "        return 1       \n",
    "    elif CPUpick == \"Paper\" and Playerpick == \"Rock\":\n",
    "        return 1       \n",
    "    elif CPUpick == \"Scissors\" and Playerpick == \"Paper\":\n",
    "        return 1       \n",
    "\n",
    "    if Playerpick == \"Rock\" and CPUpick == \"Scissors\":\n",
    "        return 2       \n",
    "    elif Playerpick == \"Paper\" and CPUpick == \"Rock\":\n",
    "        return 2       \n",
    "    elif Playerpick == \"Scissors\" and CPUpick == \"Paper\":\n",
    "        return 2\n",
    "    \n"
   ]
  },
  {
   "cell_type": "markdown",
   "metadata": {},
   "source": [
    "#### 9. Define a function that prints the choice of the computer, the choice of the player and a message that announces who won the current round. \n",
    "You should also use this function to update the variables that count the number of rounds that the computer and the player have won. The score of the winner increases by one point. If there is a tie, the score does not increase."
   ]
  },
  {
   "cell_type": "code",
   "execution_count": null,
   "metadata": {},
   "outputs": [],
   "source": [
    "def results(CPUpick, Playerpick, Whowon, cpu_score, player_score, ties):\n",
    "    if Whowon == 0:\n",
    "        print(\"It's a TIE!\")\n",
    "    elif Whowon == 1:\n",
    "        print(\"CPU Wins this round\")\n",
    "    elif Whowon == 2:\n",
    "        print(\"Player Wins this round\")\n",
    "    print(\"\")\n",
    "    print(\"The results are:\")\n",
    "    print(\"Ties\", ties)\n",
    "    print(\"CPU:\", cpu_score)\n",
    "    print(\"Player:\", player_score)"
   ]
  },
  {
   "cell_type": "markdown",
   "metadata": {},
   "source": [
    "#### 10. Now it's time to code the execution of the game using the functions and variables you defined above. \n",
    "\n",
    "First, create a loop structure that repeats while no player reaches the minimum score necessary to win and the number of rounds is less than the maximum number of rounds to play in a game.  \n",
    "\n",
    "Inside the loop, use the functions and variables above to create the execution of a round: ask for the player's choice, generate the random choice of the computer, show the round results, update the scores, etc. "
   ]
  },
  {
   "cell_type": "code",
   "execution_count": null,
   "metadata": {},
   "outputs": [],
   "source": [
    "while (ties + cpu_score + player_score < n_rounds) and cpu_score < rounds_to_win and player_score < rounds_to_win:\n",
    "    p = Playerpick(gestures)\n",
    "    c = CPUpick(gestures)\n",
    "    w = Whowon(c, p)\n",
    "    \n",
    "    if w == 0:\n",
    "        ties += 1\n",
    "    elif w == 1:\n",
    "        cpu_score += 1\n",
    "    elif w == 2:\n",
    "        player_score += 1\n",
    "        \n",
    "    r = results(c, p, w, cpu_score, player_score, ties)\n",
    "\n",
    "    print(\"\")\n",
    "    \n",
    "\n",
    "if cpu_score > player_score:\n",
    "    print(\"\")\n",
    "    print(\"\")\n",
    "    print(\"CPU Wins the game!\")\n",
    "elif player_score > cpu_score:\n",
    "    print(\"\")\n",
    "    print(\"\")\n",
    "    print(\"Player Wins the game!\")\n",
    "elif player_score == cpu_score:\n",
    "    print(\"\")\n",
    "    print(\"\")\n",
    "    print(\"It's a game Tie!\")\n",
    "    \n",
    "    \n",
    "    \n",
    "    \n",
    "    \n",
    "    "
   ]
  },
  {
   "cell_type": "markdown",
   "metadata": {},
   "source": [
    "#### 11. Print the winner of the game based on who won more rounds.\n",
    "Remember that the game might be tied. "
   ]
  },
  {
   "cell_type": "code",
   "execution_count": null,
   "metadata": {},
   "outputs": [],
   "source": []
  },
  {
   "cell_type": "markdown",
   "metadata": {},
   "source": [
    "# Bonus: Rock, Paper, Scissors, Lizard & Spock\n",
    "![](images/rpsls.jpg)\n",
    "\n",
    "In this challenge, you need to improve the previous game by adding two new options. To know more about the rules of the improved version of rock, paper, scissors, check this [link](http://www.samkass.com/theories/RPSSL.html). \n",
    "\n",
    "In addition, you will also need to improve how the game interacts with the player: the number of rounds to play, which must be an odd number, will be requested to the user until a valid number is entered. Define a new function to make that request.\n",
    "\n",
    "**Hint**: Try to reuse the code that you already coded in the previous challenge. If your code is efficient, this bonus will only consist of simple modifications to the original game."
   ]
  },
  {
   "cell_type": "code",
   "execution_count": 4,
   "metadata": {},
   "outputs": [
    {
     "name": "stdout",
     "output_type": "stream",
     "text": [
      "Rock, Paper, Scissors, Lizard or Spock? Rock\n",
      "\n",
      "Player picks: Rock\n",
      "CPU picks: Paper\n",
      "\n",
      "CPU Wins this round\n",
      "\n",
      "The results are:\n",
      "Ties 0\n",
      "CPU: 1\n",
      "Player: 0\n",
      "\n",
      "Rock, Paper, Scissors, Lizard or Spock? Paper\n",
      "\n",
      "Player picks: Paper\n",
      "CPU picks: Scissors\n",
      "\n",
      "CPU Wins this round\n",
      "\n",
      "The results are:\n",
      "Ties 0\n",
      "CPU: 2\n",
      "Player: 0\n",
      "\n",
      "Rock, Paper, Scissors, Lizard or Spock? Scissors\n",
      "\n",
      "Player picks: Scissors\n",
      "CPU picks: Lizard\n",
      "\n",
      "Player Wins this round\n",
      "\n",
      "The results are:\n",
      "Ties 0\n",
      "CPU: 2\n",
      "Player: 1\n",
      "\n",
      "Rock, Paper, Scissors, Lizard or Spock? Lizard\n",
      "\n",
      "Player picks: Lizard\n",
      "CPU picks: Paper\n",
      "\n",
      "Player Wins this round\n",
      "\n",
      "The results are:\n",
      "Ties 0\n",
      "CPU: 2\n",
      "Player: 2\n",
      "\n",
      "Rock, Paper, Scissors, Lizard or Spock? Spock\n",
      "\n",
      "Player picks: Spock\n",
      "CPU picks: Scissors\n",
      "\n",
      "Player Wins this round\n",
      "\n",
      "The results are:\n",
      "Ties 0\n",
      "CPU: 2\n",
      "Player: 3\n",
      "\n",
      "\n",
      "\n",
      "Player Wins the game!\n"
     ]
    }
   ],
   "source": [
    "import random\n",
    "import math\n",
    "\n",
    "gestures = [\"Rock\", \"Paper\", \"Scissors\", \"Lizard\", \"Spock\"]\n",
    "\n",
    "max_rounds = 5\n",
    "\n",
    "rounds_to_win = math.ceil(max_rounds/2)\n",
    "\n",
    "cpu_score = 0\n",
    "player_score = 0\n",
    "ties = 0\n",
    "\n",
    "def CPUpick(gestures):\n",
    "    cpu = random.choice(gestures)\n",
    "    print(\"CPU picks:\", cpu)\n",
    "    print(\"\")\n",
    "    return cpu\n",
    "\n",
    "def Playerpick(gestures):\n",
    "    player_choice = input(\"Rock, Paper, Scissors, Lizard or Spock? \")\n",
    "    while player_choice not in gestures:\n",
    "        print(\"Invalid input, pick again\")\n",
    "        print(\"\")\n",
    "        player_choice = input(\"Rock, Paper, Scissors, Lizard or Spock?\")\n",
    "    print(\"\")\n",
    "    print(\"Player picks:\", player_choice)\n",
    "    return player_choice\n",
    "\n",
    "def Whowon(CPUpick, Playerpick):\n",
    "    if CPUpick == Playerpick:\n",
    "        return 0     \n",
    "    \n",
    "    if CPUpick == \"Rock\" and Playerpick == \"Scissors\":\n",
    "        return 1       \n",
    "    elif CPUpick == \"Paper\" and Playerpick == \"Rock\":\n",
    "        return 1       \n",
    "    elif CPUpick == \"Scissors\" and Playerpick == \"Paper\":\n",
    "        return 1    \n",
    "    elif CPUpick == \"Lizard\" and Playerpick == \"Spock\":\n",
    "        return 1\n",
    "    elif CPUpick == \"Lizard\" and Playerpick == \"Paper\":\n",
    "        return 1\n",
    "    elif CPUpick == \"Spock\" and Playerpick == \"Scissors\":\n",
    "        return 1\n",
    "    elif CPUpick == \"Spock\" and Playerpick == \"Rock\":\n",
    "        return 1\n",
    "    elif CPUpick == \"Rock\" and Playerpick == \"Lizard\":\n",
    "        return 1 \n",
    "    elif CPUpick == \"Scissors\" and Playerpick == \"Lizard\":\n",
    "        return 1  \n",
    "    elif CPUpick == \"Paper\" and Playerpick == \"Spock\":\n",
    "        return 1 \n",
    "    \n",
    "\n",
    "    if Playerpick == \"Rock\" and CPUpick == \"Scissors\":\n",
    "        return 2       \n",
    "    elif Playerpick == \"Paper\" and CPUpick == \"Rock\":\n",
    "        return 2       \n",
    "    elif Playerpick == \"Scissors\" and CPUpick == \"Paper\":\n",
    "        return 2    \n",
    "    elif Playerpick == \"Lizard\" and CPUpick == \"Spock\":\n",
    "        return 2\n",
    "    elif Playerpick == \"Lizard\" and CPUpick == \"Paper\":\n",
    "        return 2\n",
    "    elif Playerpick == \"Spock\" and CPUpick == \"Scissors\":\n",
    "        return 2\n",
    "    elif Playerpick == \"Spock\" and CPUpick == \"Rock\":\n",
    "        return 2\n",
    "    elif Playerpick == \"Rock\" and CPUpick == \"Lizard\":\n",
    "        return 2 \n",
    "    elif Playerpick == \"Scissors\" and CPUpick == \"Lizard\":\n",
    "        return 2  \n",
    "    elif Playerpick == \"Paper\" and CPUpick == \"Spock\":\n",
    "        return 2\n",
    "    \n",
    "    \n",
    "def results(CPUpick, Playerpick, Whowon, cpu_score, player_score, ties):\n",
    "    if Whowon == 0:\n",
    "        print(\"It's a TIE!\")\n",
    "    elif Whowon == 1:\n",
    "        print(\"CPU Wins this round\")\n",
    "    elif Whowon == 2:\n",
    "        print(\"Player Wins this round\")\n",
    "    print(\"\")\n",
    "    print(\"The results are:\")\n",
    "    print(\"Ties\", ties)\n",
    "    print(\"CPU:\", cpu_score)\n",
    "    print(\"Player:\", player_score)\n",
    "    \n",
    "\n",
    "while (ties + cpu_score + player_score < max_rounds) and cpu_score < rounds_to_win and player_score < rounds_to_win:\n",
    "    p = Playerpick(gestures)\n",
    "    c = CPUpick(gestures)\n",
    "    w = Whowon(c, p)\n",
    "    \n",
    "    if w == 0:\n",
    "        ties += 1\n",
    "    elif w == 1:\n",
    "        cpu_score += 1\n",
    "    elif w == 2:\n",
    "        player_score += 1\n",
    "        \n",
    "    r = results(c, p, w, cpu_score, player_score, ties)\n",
    "\n",
    "    print(\"\")\n",
    "    \n",
    "\n",
    "if cpu_score > player_score:\n",
    "    print(\"\")\n",
    "    print(\"\")\n",
    "    print(\"CPU Wins the game!\")\n",
    "elif player_score > cpu_score:\n",
    "    print(\"\")\n",
    "    print(\"\")\n",
    "    print(\"Player Wins the game!\")\n",
    "elif player_score == cpu_score:\n",
    "    print(\"\")\n",
    "    print(\"\")\n",
    "    print(\"It's a game Tie!\")\n",
    "    \n",
    "    \n",
    "    "
   ]
  },
  {
   "cell_type": "code",
   "execution_count": null,
   "metadata": {},
   "outputs": [],
   "source": []
  },
  {
   "cell_type": "code",
   "execution_count": null,
   "metadata": {},
   "outputs": [],
   "source": []
  }
 ],
 "metadata": {
  "kernelspec": {
   "display_name": "Python 3",
   "language": "python",
   "name": "python3"
  },
  "language_info": {
   "codemirror_mode": {
    "name": "ipython",
    "version": 3
   },
   "file_extension": ".py",
   "mimetype": "text/x-python",
   "name": "python",
   "nbconvert_exporter": "python",
   "pygments_lexer": "ipython3",
   "version": "3.7.4"
  }
 },
 "nbformat": 4,
 "nbformat_minor": 2
}
