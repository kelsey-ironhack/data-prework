{
 "cells": [
  {
   "cell_type": "markdown",
   "metadata": {},
   "source": [
    "<img src=\"https://bit.ly/2VnXWr2\" width=\"100\" align=\"left\">"
   ]
  },
  {
   "cell_type": "markdown",
   "metadata": {},
   "source": [
    "# Rock, Paper & Scissors\n",
    "\n",
    "Let's play the famous game against our computer. You can check the rules [here](https://en.wikipedia.org/wiki/Rock%E2%80%93paper%E2%80%93scissors). \n",
    "\n",
    "## Task\n",
    "Create a program that imitates the playability of the well known game of rock, paper, scissors. Follow the guidelines provided.\n",
    "\n",
    "## Tools\n",
    "1. Loop: **for/while**\n",
    "2. Functions: **input(), print()...**\n",
    "3. Conditional statements: **if, elif, else**\n",
    "4. Definition of functions. Modular programming\n",
    "5. Import modules\n",
    "\n",
    "**To solve this challenge, the use of functions is recommended.**\n",
    "\n",
    "#### 1. Import the choice function of the random module."
   ]
  },
  {
   "cell_type": "code",
   "execution_count": 1,
   "metadata": {},
   "outputs": [],
   "source": [
    "import random"
   ]
  },
  {
   "cell_type": "markdown",
   "metadata": {},
   "source": [
    "#### 2. Create a list that includes the 3 possible gesture options of the game: 'rock', 'paper' or 'scissors'. Store the list in a variable called `gestures`."
   ]
  },
  {
   "cell_type": "code",
   "execution_count": 2,
   "metadata": {},
   "outputs": [],
   "source": [
    "gestures=['rock', 'paper','scissors']"
   ]
  },
  {
   "cell_type": "markdown",
   "metadata": {},
   "source": [
    "#### 3. Create a variable called `n_rounds` to store the maximum number of rounds to play in a game. \n",
    "Remember that the number of rounds must be odd: 1, 3, 5, ..."
   ]
  },
  {
   "cell_type": "code",
   "execution_count": 3,
   "metadata": {},
   "outputs": [
    {
     "name": "stdout",
     "output_type": "stream",
     "text": [
      "3\n"
     ]
    }
   ],
   "source": [
    "nrounds=round(random.uniform(0,4))*2+1\n",
    "print(nrounds)"
   ]
  },
  {
   "cell_type": "markdown",
   "metadata": {},
   "source": [
    "#### 4. Create a variable called `rounds_to_win` to store the number of rounds that a player must win to win the game.\n",
    "**Hint**: the value stored in `rounds_to_win` depends on the value of `n_rounds`. "
   ]
  },
  {
   "cell_type": "code",
   "execution_count": 4,
   "metadata": {},
   "outputs": [
    {
     "name": "stdout",
     "output_type": "stream",
     "text": [
      "2\n"
     ]
    }
   ],
   "source": [
    "rounds_to_win=int(nrounds/2)+1\n",
    "print(rounds_to_win)"
   ]
  },
  {
   "cell_type": "markdown",
   "metadata": {},
   "source": [
    "#### 5. Create two variables to store the number of rounds that the computer and the player have won. Call these variables `cpu_score` and `player_score`."
   ]
  },
  {
   "cell_type": "code",
   "execution_count": 5,
   "metadata": {},
   "outputs": [],
   "source": [
    "cpu_score=0\n",
    "player_score=0"
   ]
  },
  {
   "cell_type": "markdown",
   "metadata": {},
   "source": [
    "#### 6. Define a function that randomly returns one of the 3 gesture options.\n",
    "You will use this function to simulate the gesture choice of the computer. "
   ]
  },
  {
   "cell_type": "code",
   "execution_count": 6,
   "metadata": {},
   "outputs": [],
   "source": [
    "def cpu_gesture():\n",
    "    var=random.random()\n",
    "    if var<0.33:\n",
    "        return 'rock'\n",
    "    elif var<0.66:\n",
    "        return 'paper'\n",
    "    else:\n",
    "        return 'scissors'"
   ]
  },
  {
   "cell_type": "markdown",
   "metadata": {},
   "source": [
    "#### 7. Define a function that asks the player which is the gesture he or she wants to show: 'rock', 'paper' or 'scissors'.\n",
    "The player should only be allowed to choose one of the 3 gesture options. If the player's choice is not rock, paper or scissors, keep asking until it is."
   ]
  },
  {
   "cell_type": "code",
   "execution_count": 7,
   "metadata": {},
   "outputs": [],
   "source": [
    "def ask_player():\n",
    "    choose=False\n",
    "    while not choose:\n",
    "        print(\"The options are:\\n1 --> rock\\n2 --> paper\\n3 -->scissors\\n\")\n",
    "        var=int(input(\"Please write 1, 2 or 3 depend on the option you choose\\n\"))\n",
    "        if var == 1:\n",
    "            return 'rock'\n",
    "            choose=True\n",
    "        elif var == 2:\n",
    "            return 'paper'\n",
    "            choose=True\n",
    "        elif var == 3:\n",
    "            return 'scissors'\n",
    "            choose=True\n",
    "        else:\n",
    "            print(\"\\n-------- remember your options are 1 2 or 3, good luck!  -------- \\n\")\n"
   ]
  },
  {
   "cell_type": "markdown",
   "metadata": {},
   "source": [
    "#### 8. Define a function that checks who won a round. \n",
    "The function should return 0 if there is a tie, 1 if the computer wins and 2 if the player wins."
   ]
  },
  {
   "cell_type": "code",
   "execution_count": 8,
   "metadata": {},
   "outputs": [],
   "source": [
    "def who_won(cpu,player):\n",
    "    if (cpu == 'rock' and player == 'scissors') or (cpu == 'paper' and player == 'rock') or (cpu == 'scissors' and player == 'paper'):\n",
    "        return 1\n",
    "    elif (player == 'rock' and cpu == 'scissors') or (player == 'paper' and cpu == 'rock') or (player == 'scissors' and cpu == 'paper'):\n",
    "        return 2\n",
    "    elif cpu==player:\n",
    "        return 0\n",
    "    else:\n",
    "        return -1\n"
   ]
  },
  {
   "cell_type": "markdown",
   "metadata": {},
   "source": [
    "#### 9. Define a function that prints the choice of the computer, the choice of the player and a message that announces who won the current round. \n",
    "You should also use this function to update the variables that count the number of rounds that the computer and the player have won. The score of the winner increases by one point. If there is a tie, the score does not increase."
   ]
  },
  {
   "cell_type": "code",
   "execution_count": 9,
   "metadata": {},
   "outputs": [],
   "source": [
    "def show_result(player,cpu):\n",
    "    global player_score\n",
    "    global cpu_score\n",
    "    print(\"\\nthe player has played: \", player)\n",
    "    print(\"\\nthe computer has played: \", cpu)\n",
    "    who=who_won(cpu,player)\n",
    "    if who ==1:\n",
    "        cpu_score=cpu_score+1\n",
    "        print(\"\\nThe computer has win the current round!\")\n",
    "    elif who==2:\n",
    "        player_score=player_score+1\n",
    "        print(\"\\nThe player has win the current round!\")    \n",
    "    elif who==0:\n",
    "        print(\"\\nThe current round is a tie\")    "
   ]
  },
  {
   "cell_type": "markdown",
   "metadata": {},
   "source": [
    "#### 10. Now it's time to code the execution of the game using the functions and variables you defined above. \n",
    "\n",
    "First, create a loop structure that repeats while no player reaches the minimum score necessary to win and the number of rounds is less than the maximum number of rounds to play in a game.  \n",
    "\n",
    "Inside the loop, use the functions and variables above to create the execution of a round: ask for the player's choice, generate the random choice of the computer, show the round results, update the scores, etc. "
   ]
  },
  {
   "cell_type": "code",
   "execution_count": 10,
   "metadata": {},
   "outputs": [
    {
     "name": "stdout",
     "output_type": "stream",
     "text": [
      "The options are:\n",
      "1 --> rock\n",
      "2 --> paper\n",
      "3 -->scissors\n",
      "\n",
      "Please write 1, 2 or 3 depend on the option you choose\n",
      "2\n",
      "\n",
      "the player has played:  paper\n",
      "\n",
      "the computer has played:  rock\n",
      "\n",
      "The player has win the current round!\n",
      "\n",
      " --> cpu has won: 0 \n",
      " --> player has won 1\n",
      "The options are:\n",
      "1 --> rock\n",
      "2 --> paper\n",
      "3 -->scissors\n",
      "\n",
      "Please write 1, 2 or 3 depend on the option you choose\n",
      "3\n",
      "\n",
      "the player has played:  scissors\n",
      "\n",
      "the computer has played:  paper\n",
      "\n",
      "The player has win the current round!\n",
      "\n",
      " --> cpu has won: 0 \n",
      " --> player has won 2\n"
     ]
    }
   ],
   "source": [
    "rounds=1\n",
    "while cpu_score<rounds_to_win and player_score < rounds_to_win and rounds<=nrounds:\n",
    "    player=ask_player()\n",
    "    cpu=cpu_gesture()\n",
    "    show_result(player,cpu)\n",
    "    print(\"\\n --> cpu has won:\",cpu_score,\"\\n --> player has won\",player_score)\n",
    "    rounds=rounds+1"
   ]
  },
  {
   "cell_type": "markdown",
   "metadata": {},
   "source": [
    "#### 11. Print the winner of the game based on who won more rounds.\n",
    "Remember that the game might be tied. "
   ]
  },
  {
   "cell_type": "code",
   "execution_count": 11,
   "metadata": {},
   "outputs": [
    {
     "name": "stdout",
     "output_type": "stream",
     "text": [
      " *** The winner is the player ***\n"
     ]
    }
   ],
   "source": [
    "if cpu_score>player_score:\n",
    "    print(\" *** The winner is the CPU ***\")\n",
    "elif cpu_score<player_score:\n",
    "    print(\" *** The winner is the player ***\")\n",
    "else:\n",
    "    print(\" *** The game was tied ***\")\n"
   ]
  },
  {
   "cell_type": "markdown",
   "metadata": {},
   "source": [
    "# Bonus: Rock, Paper, Scissors, Lizard & Spock\n",
    "![](images/rpsls.jpg)\n",
    "\n",
    "In this challenge, you need to improve the previous game by adding two new options. To know more about the rules of the improved version of rock, paper, scissors, check this [link](http://www.samkass.com/theories/RPSSL.html). \n",
    "\n",
    "In addition, you will also need to improve how the game interacts with the player: the number of rounds to play, which must be an odd number, will be requested to the user until a valid number is entered. Define a new function to make that request.\n",
    "\n",
    "**Hint**: Try to reuse the code that you already coded in the previous challenge. If your code is efficient, this bonus will only consist of simple modifications to the original game."
   ]
  },
  {
   "cell_type": "code",
   "execution_count": 17,
   "metadata": {},
   "outputs": [
    {
     "name": "stdout",
     "output_type": "stream",
     "text": [
      "How much rounds do you want to play?\n",
      " * remember it should be a positive odd number*\n",
      "4\n",
      "* remember it should be a positive odd number*\n",
      "3\n",
      "The options are:\n",
      "1 --> rock\n",
      "2 --> paper\n",
      "3 --> scissors\n",
      "4 --> spock\n",
      "5 --> lizard\n",
      "Please write 1, 2, 3 ,4 or 5 depend on the option you choose\n",
      "5\n",
      "\n",
      "the player has played:  lizard\n",
      "\n",
      "the computer has played:  paper\n",
      "\n",
      "The player has win the current round!\n",
      "\n",
      " --> cpu has won: 0 \n",
      " --> player has won 1\n",
      "The options are:\n",
      "1 --> rock\n",
      "2 --> paper\n",
      "3 --> scissors\n",
      "4 --> spock\n",
      "5 --> lizard\n",
      "Please write 1, 2, 3 ,4 or 5 depend on the option you choose\n",
      "3\n",
      "\n",
      "the player has played:  scissors\n",
      "\n",
      "the computer has played:  scissors\n",
      "\n",
      "The current round is a tie\n",
      "\n",
      " --> cpu has won: 0 \n",
      " --> player has won 1\n",
      "The options are:\n",
      "1 --> rock\n",
      "2 --> paper\n",
      "3 --> scissors\n",
      "4 --> spock\n",
      "5 --> lizard\n",
      "Please write 1, 2, 3 ,4 or 5 depend on the option you choose\n",
      "2\n",
      "\n",
      "the player has played:  paper\n",
      "\n",
      "the computer has played:  scissors\n",
      "\n",
      "The computer has win the current round!\n",
      "\n",
      " --> cpu has won: 1 \n",
      " --> player has won 1\n",
      " *** The game was tied ***\n"
     ]
    }
   ],
   "source": [
    "import random\n",
    "gestures=['rock', 'paper','scissors','spock','lizard']\n",
    "cpu_score=0\n",
    "player_score=0\n",
    "\n",
    "def cpu_gesture():\n",
    "    global gestures\n",
    "    var=random.choice(gestures)\n",
    "    return var\n",
    "\n",
    "def ask_player():\n",
    "    choose=False\n",
    "    while not choose:\n",
    "        print(\"The options are:\\n1 --> rock\\n2 --> paper\\n3 --> scissors\\n4 --> spock\\n5 --> lizard\")\n",
    "        var=int(input(\"Please write 1, 2, 3 ,4 or 5 depend on the option you choose\\n\"))\n",
    "        if var == 1:\n",
    "            return 'rock'\n",
    "            choose=True\n",
    "        elif var == 2:\n",
    "            return 'paper'\n",
    "            choose=True\n",
    "        elif var == 3:\n",
    "            return 'scissors'\n",
    "            choose=True\n",
    "        elif var == 4:\n",
    "            return 'spock'\n",
    "            choose=True\n",
    "        elif var == 5:\n",
    "            return 'lizard'\n",
    "            choose=True\n",
    "        else:\n",
    "            print(\"\\n-------- remember your options are 1, 2, 3 ,4 or 5 ... good luck!  -------- \\n\")\n",
    "            \n",
    "def who_won(cpu,player):\n",
    "    powers=[[0, 2, 1, 2, 1],\n",
    "            [1, 0, 2, 1, 2],\n",
    "            [2, 1, 0, 2, 1],\n",
    "            [1, 2, 1, 0, 2],\n",
    "            [2, 1, 2, 1, 0]]\n",
    "    return powers[gestures.index(cpu)][gestures.index(player)]\n",
    "\n",
    "def show_result(player,cpu):\n",
    "    global player_score\n",
    "    global cpu_score\n",
    "    print(\"\\nthe player has played: \", player)\n",
    "    print(\"\\nthe computer has played: \", cpu)\n",
    "    who=who_won(cpu,player)\n",
    "    if who ==1:\n",
    "        cpu_score=cpu_score+1\n",
    "        print(\"\\nThe computer has win the current round!\")\n",
    "    elif who==2:\n",
    "        player_score=player_score+1\n",
    "        print(\"\\nThe player has win the current round!\")    \n",
    "    elif who==0:\n",
    "        print(\"\\nThe current round is a tie\") \n",
    "        \n",
    "def request_round():\n",
    "    rounds=int(input(\"How much rounds do you want to play?\\n * remember it should be a positive odd number*\\n\"))\n",
    "    while True:\n",
    "        if rounds%2==1 and rounds>0:\n",
    "            return rounds\n",
    "        else:\n",
    "            rounds=int(input(\"* remember it should be a positive odd number*\\n\"))\n",
    "        \n",
    "nrounds=request_round()\n",
    "rounds_to_win=int(nrounds/2)+1\n",
    "rounds=1\n",
    "while cpu_score<rounds_to_win and player_score < rounds_to_win and rounds<=nrounds:\n",
    "    player=ask_player()\n",
    "    cpu=cpu_gesture()\n",
    "    show_result(player,cpu)\n",
    "    print(\"\\n --> cpu has won:\",cpu_score,\"\\n --> player has won\",player_score)\n",
    "    rounds=rounds+1\n",
    "    \n",
    "if cpu_score>player_score:\n",
    "    print(\" *** The winner is the CPU ***\")\n",
    "elif cpu_score<player_score:\n",
    "    print(\" *** The winner is the player ***\")\n",
    "else:\n",
    "    print(\" *** The game was tied ***\")\n"
   ]
  },
  {
   "cell_type": "code",
   "execution_count": null,
   "metadata": {},
   "outputs": [],
   "source": []
  }
 ],
 "metadata": {
  "kernelspec": {
   "display_name": "Python 3",
   "language": "python",
   "name": "python3"
  },
  "language_info": {
   "codemirror_mode": {
    "name": "ipython",
    "version": 3
   },
   "file_extension": ".py",
   "mimetype": "text/x-python",
   "name": "python",
   "nbconvert_exporter": "python",
   "pygments_lexer": "ipython3",
   "version": "3.6.9"
  }
 },
 "nbformat": 4,
 "nbformat_minor": 2
}
