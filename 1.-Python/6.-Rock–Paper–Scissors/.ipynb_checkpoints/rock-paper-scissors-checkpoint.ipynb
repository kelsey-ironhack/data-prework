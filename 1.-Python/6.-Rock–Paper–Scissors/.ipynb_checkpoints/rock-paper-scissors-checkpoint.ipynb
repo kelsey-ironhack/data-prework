{
 "cells": [
  {
   "cell_type": "markdown",
   "metadata": {},
   "source": [
    "<img src=\"https://bit.ly/2VnXWr2\" width=\"100\" align=\"left\">"
   ]
  },
  {
   "cell_type": "markdown",
   "metadata": {},
   "source": [
    "# Rock, Paper & Scissors\n",
    "\n",
    "Let's play the famous game against our computer. You can check the rules [here](https://en.wikipedia.org/wiki/Rock%E2%80%93paper%E2%80%93scissors). \n",
    "\n",
    "## Task\n",
    "Create a program that imitates the playability of the well known game of rock, paper, scissors. Follow the guidelines provided.\n",
    "\n",
    "## Tools\n",
    "1. Loop: **for/while**\n",
    "2. Functions: **input(), print()...**\n",
    "3. Conditional statements: **if, elif, else**\n",
    "4. Definition of functions. Modular programming\n",
    "5. Import modules\n",
    "\n",
    "**To solve this challenge, the use of functions is recommended.**\n",
    "\n",
    "#### 1. Import the choice function of the random module."
   ]
  },
  {
   "cell_type": "code",
   "execution_count": 1,
   "metadata": {},
   "outputs": [],
   "source": [
    "import random"
   ]
  },
  {
   "cell_type": "markdown",
   "metadata": {},
   "source": [
    "#### 2. Create a list that includes the 3 possible gesture options of the game: 'rock', 'paper' or 'scissors'. Store the list in a variable called `gestures`."
   ]
  },
  {
   "cell_type": "code",
   "execution_count": 2,
   "metadata": {},
   "outputs": [],
   "source": [
    "gestures=[\"rock\",\"paper\",\"scissors\"]"
   ]
  },
  {
   "cell_type": "markdown",
   "metadata": {},
   "source": [
    "#### 3. Create a variable called `n_rounds` to store the maximum number of rounds to play in a game. \n",
    "Remember that the number of rounds must be odd: 1, 3, 5, ..."
   ]
  },
  {
   "cell_type": "code",
   "execution_count": 3,
   "metadata": {},
   "outputs": [
    {
     "name": "stdout",
     "output_type": "stream",
     "text": [
      "3\n"
     ]
    }
   ],
   "source": [
    "def nrounds():\n",
    "    random5=random.randint(1,5)\n",
    "    n_rounds=0\n",
    "    if random5%2==0:\n",
    "        n_rounds=random5-1\n",
    "    else:\n",
    "        n_rounds=random5\n",
    "    return n_rounds\n",
    "n_rounds=nrounds()\n",
    "print(n_rounds)"
   ]
  },
  {
   "cell_type": "markdown",
   "metadata": {},
   "source": [
    "#### 4. Create a variable called `rounds_to_win` to store the number of rounds that a player must win to win the game.\n",
    "**Hint**: the value stored in `rounds_to_win` depends on the value of `n_rounds`. "
   ]
  },
  {
   "cell_type": "code",
   "execution_count": 4,
   "metadata": {},
   "outputs": [
    {
     "name": "stdout",
     "output_type": "stream",
     "text": [
      "2\n"
     ]
    }
   ],
   "source": [
    "def rounds2win(x):\n",
    "    rounds2win=int((x/2)+0.5)\n",
    "    return rounds2win\n",
    "\n",
    "rounds_to_win=rounds2win(n_rounds)\n",
    "print(rounds_to_win)"
   ]
  },
  {
   "cell_type": "markdown",
   "metadata": {},
   "source": [
    "#### 5. Create two variables to store the number of rounds that the computer and the player have won. Call these variables `cpu_score` and `player_score`."
   ]
  },
  {
   "cell_type": "code",
   "execution_count": 5,
   "metadata": {},
   "outputs": [],
   "source": [
    "cpu_score=0\n",
    "player_score=0"
   ]
  },
  {
   "cell_type": "markdown",
   "metadata": {},
   "source": [
    "#### 6. Define a function that randomly returns one of the 3 gesture options.\n",
    "You will use this function to simulate the gesture choice of the computer. "
   ]
  },
  {
   "cell_type": "code",
   "execution_count": 6,
   "metadata": {},
   "outputs": [
    {
     "name": "stdout",
     "output_type": "stream",
     "text": [
      "scissors\n"
     ]
    }
   ],
   "source": [
    "def ppt(x):\n",
    "    aleatorio=random.randint(0,x-1)\n",
    "    y=gestures[aleatorio]\n",
    "    return y\n",
    "cpu=ppt(3)\n",
    "print(cpu)"
   ]
  },
  {
   "cell_type": "markdown",
   "metadata": {},
   "source": [
    "#### 7. Define a function that asks the player which is the gesture he or she wants to show: 'rock', 'paper' or 'scissors'.\n",
    "The player should only be allowed to choose one of the 3 gesture options. If the player's choice is not rock, paper or scissors, keep asking until it is."
   ]
  },
  {
   "cell_type": "code",
   "execution_count": 7,
   "metadata": {},
   "outputs": [
    {
     "name": "stdout",
     "output_type": "stream",
     "text": [
      "Escribe: rock, paper o scissors:rock\n",
      "Usuario elige: rock\n"
     ]
    }
   ],
   "source": [
    "def entrada_usuario():\n",
    "    x=\"\"\n",
    "    while (x!=\"rock\")&(x!=\"paper\")&(x!=\"scissors\"):\n",
    "        x=input(\"Escribe: rock, paper o scissors:\")\n",
    "    return x\n",
    "user=entrada_usuario()\n",
    "print(\"Usuario elige:\",user)"
   ]
  },
  {
   "cell_type": "markdown",
   "metadata": {},
   "source": [
    "#### 8. Define a function that checks who won a round. \n",
    "The function should return 0 if there is a tie, 1 if the computer wins and 2 if the player wins."
   ]
  },
  {
   "cell_type": "code",
   "execution_count": 8,
   "metadata": {},
   "outputs": [
    {
     "name": "stdout",
     "output_type": "stream",
     "text": [
      "2\n"
     ]
    }
   ],
   "source": [
    "def ganador_ronda(user,cpu):\n",
    "    if ((user==\"rock\")&(cpu==\"scissors\"))|((user==\"scissors\")&(cpu==\"paper\"))|((user==\"paper\")&(cpu==\"rock\")):\n",
    "        z=2\n",
    "    elif ((cpu==\"rock\")&(user==\"scissors\"))|((cpu==\"scissors\")&(user==\"paper\"))|((cpu==\"paper\")&(user==\"rock\")):\n",
    "        z=1\n",
    "    else:\n",
    "        z=0\n",
    "    return z\n",
    "\n",
    "print(ganador_ronda(user,cpu))"
   ]
  },
  {
   "cell_type": "markdown",
   "metadata": {},
   "source": [
    "#### 9. Define a function that prints the choice of the computer, the choice of the player and a message that announces who won the current round. \n",
    "You should also use this function to update the variables that count the number of rounds that the computer and the player have won. The score of the winner increases by one point. If there is a tie, the score does not increase."
   ]
  },
  {
   "cell_type": "code",
   "execution_count": 9,
   "metadata": {},
   "outputs": [
    {
     "name": "stdout",
     "output_type": "stream",
     "text": [
      "Usuario: rock\n",
      "Computadora: scissors\n",
      "El ganador es el usuario\n",
      "\n"
     ]
    }
   ],
   "source": [
    "def imprime_ganador():\n",
    "    if ganador_ronda(user,cpu)==2:\n",
    "        print(\"Usuario:\",user)\n",
    "        print(\"Computadora:\",cpu)\n",
    "        print(\"El ganador es el usuario\")\n",
    "    elif ganador_ronda(user,cpu)==1:\n",
    "        print(\"Usuario:\",user)\n",
    "        print(\"Computadora:\",cpu)\n",
    "        print(\"El ganador es CPU\")\n",
    "    else:\n",
    "        print(\"Usuario:\",user)\n",
    "        print(\"Computadora:\",cpu)\n",
    "        print(\"Empate\")\n",
    "        \n",
    "    return \"\"\n",
    "\n",
    "print(imprime_ganador())"
   ]
  },
  {
   "cell_type": "markdown",
   "metadata": {},
   "source": [
    "#### 10. Now it's time to code the execution of the game using the functions and variables you defined above. \n",
    "\n",
    "First, create a loop structure that repeats while no player reaches the minimum score necessary to win and the number of rounds is less than the maximum number of rounds to play in a game.  \n",
    "\n",
    "Inside the loop, use the functions and variables above to create the execution of a round: ask for the player's choice, generate the random choice of the computer, show the round results, update the scores, etc. "
   ]
  },
  {
   "cell_type": "code",
   "execution_count": 10,
   "metadata": {},
   "outputs": [
    {
     "name": "stdout",
     "output_type": "stream",
     "text": [
      "Escribe: rock, paper o scissors:rock\n",
      "Usuario: rock\n",
      "Computadora: scissors\n",
      "El ganador es el usuario\n",
      "\n"
     ]
    }
   ],
   "source": [
    "n_rounds=nrounds()\n",
    "rounds_to_win=rounds2win(n_rounds)\n",
    "cpu_score=0\n",
    "player_score=0\n",
    "while (player_score<rounds_to_win)&(cpu_score<rounds_to_win):\n",
    "        user=entrada_usuario()\n",
    "        cpu=ppt(3)\n",
    "        z=ganador_ronda(user,cpu)\n",
    "        if z==2:\n",
    "            player_score+=1\n",
    "        elif z==1:\n",
    "            cpu_score+=1\n",
    "        else:\n",
    "            player_score+=1\n",
    "            cpu_score+=1\n",
    "        print(imprime_ganador())"
   ]
  },
  {
   "cell_type": "markdown",
   "metadata": {},
   "source": [
    "#### 11. Print the winner of the game based on who won more rounds.\n",
    "Remember that the game might be tied. "
   ]
  },
  {
   "cell_type": "code",
   "execution_count": 11,
   "metadata": {},
   "outputs": [
    {
     "name": "stdout",
     "output_type": "stream",
     "text": [
      "Ganó usuario\n"
     ]
    }
   ],
   "source": [
    "if player_score>cpu_score:\n",
    "    print(\"Ganó usuario\")\n",
    "elif cpu_score>player_score:\n",
    "    print(\"Ganó CPU\")\n",
    "else:\n",
    "    print(\"Empate, no hubo ganador\")"
   ]
  },
  {
   "cell_type": "markdown",
   "metadata": {},
   "source": [
    "# Bonus: Rock, Paper, Scissors, Lizard & Spock\n",
    "![](images/rpsls.jpg)\n",
    "\n",
    "In this challenge, you need to improve the previous game by adding two new options. To know more about the rules of the improved version of rock, paper, scissors, check this [link](http://www.samkass.com/theories/RPSSL.html). \n",
    "\n",
    "In addition, you will also need to improve how the game interacts with the player: the number of rounds to play, which must be an odd number, will be requested to the user until a valid number is entered. Define a new function to make that request.\n",
    "\n",
    "**Hint**: Try to reuse the code that you already coded in the previous challenge. If your code is efficient, this bonus will only consist of simple modifications to the original game."
   ]
  },
  {
   "cell_type": "code",
   "execution_count": 14,
   "metadata": {},
   "outputs": [
    {
     "name": "stdout",
     "output_type": "stream",
     "text": [
      "Escribe: rock, paper, scissors, lizard o spock:spock\n",
      "Usuario: spock\n",
      "Computadora: scissors\n",
      "El ganador es el usuario\n",
      "\n",
      "Escribe: rock, paper, scissors, lizard o spock:spock\n",
      "Usuario: spock\n",
      "Computadora: scissors\n",
      "El ganador es el usuario\n",
      "\n",
      "Ganó usuario\n"
     ]
    }
   ],
   "source": [
    "gestures=[\"rock\",\"paper\",\"scissors\",\"lizard\",\"spock\"]\n",
    "def entrada_usuario():\n",
    "    x=\"\"\n",
    "    while (x!=\"rock\")&(x!=\"paper\")&(x!=\"scissors\")&(x!=\"lizard\")&(x!=\"spock\"):\n",
    "        x=input(\"Escribe: rock, paper, scissors, lizard o spock:\")\n",
    "    return x\n",
    "\n",
    "n_rounds=nrounds()\n",
    "rounds_to_win=rounds2win(n_rounds)\n",
    "cpu_score=0\n",
    "player_score=0\n",
    "\n",
    "def ganador_ronda(user,cpu):\n",
    "    if (user==\"rock\")&(cpu==\"lizard\" or cpu==\"scissors\"):\n",
    "        z=2\n",
    "    elif (user==\"paper\")&(cpu==\"spock\" or cpu==\"rock\"):\n",
    "        z=2\n",
    "    elif (user==\"scissors\")&(cpu==\"lizard\"or cpu==\"paper\"):\n",
    "        z=2\n",
    "    elif (user==\"lizard\")&(cpu==\"spock\" or cpu==\"paper\"):\n",
    "        z=2\n",
    "    elif (user==\"spock\")&(cpu==\"rock\"or cpu==\"scissors\"):\n",
    "        z=2\n",
    "    elif user==cpu:\n",
    "        z=0\n",
    "    else:\n",
    "        z=1\n",
    "    return z\n",
    "\n",
    "while (player_score<rounds_to_win)&(cpu_score<rounds_to_win):\n",
    "        user=entrada_usuario()\n",
    "        cpu=ppt(5)\n",
    "        z=ganador_ronda(user,cpu)\n",
    "        if z==2:\n",
    "            player_score+=1\n",
    "        elif z==1:\n",
    "            cpu_score+=1\n",
    "        else:\n",
    "            player_score+=1\n",
    "            cpu_score+=1\n",
    "        print(imprime_ganador())\n",
    "        \n",
    "if player_score>cpu_score:\n",
    "    print(\"Ganó usuario\")\n",
    "elif cpu_score>player_score:\n",
    "    print(\"Ganó CPU\")\n",
    "else:\n",
    "    print(\"Empate, no hubo ganador\")"
   ]
  }
 ],
 "metadata": {
  "kernelspec": {
   "display_name": "Python 3",
   "language": "python",
   "name": "python3"
  },
  "language_info": {
   "codemirror_mode": {
    "name": "ipython",
    "version": 3
   },
   "file_extension": ".py",
   "mimetype": "text/x-python",
   "name": "python",
   "nbconvert_exporter": "python",
   "pygments_lexer": "ipython3",
   "version": "3.6.2"
  }
 },
 "nbformat": 4,
 "nbformat_minor": 2
}
