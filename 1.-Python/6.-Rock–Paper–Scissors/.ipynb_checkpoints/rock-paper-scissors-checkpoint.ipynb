{
 "cells": [
  {
   "cell_type": "markdown",
   "metadata": {},
   "source": [
    "<img src=\"https://bit.ly/2VnXWr2\" width=\"100\" align=\"left\">"
   ]
  },
  {
   "cell_type": "markdown",
   "metadata": {},
   "source": [
    "# Rock, Paper & Scissors\n",
    "\n",
    "Let's play the famous game against our computer. You can check the rules [here](https://en.wikipedia.org/wiki/Rock%E2%80%93paper%E2%80%93scissors). \n",
    "\n",
    "## Task\n",
    "Create a program that imitates the playability of the well known game of rock, paper, scissors. Follow the guidelines provided.\n",
    "\n",
    "## Tools\n",
    "1. Loop: **for/while**\n",
    "2. Functions: **input(), print()...**\n",
    "3. Conditional statements: **if, elif, else**\n",
    "4. Definition of functions. Modular programming\n",
    "5. Import modules\n",
    "\n",
    "**To solve this challenge, the use of functions is recommended.**\n",
    "\n",
    "#### 1. Import the choice function of the random module."
   ]
  },
  {
   "cell_type": "code",
   "execution_count": 83,
   "metadata": {},
   "outputs": [],
   "source": [
    "#?\n",
    "# please check out my complete code under question 10."
   ]
  },
  {
   "cell_type": "markdown",
   "metadata": {},
   "source": [
    "#### 2. Create a list that includes the 3 possible gesture options of the game: 'rock', 'paper' or 'scissors'. Store the list in a variable called `gestures`."
   ]
  },
  {
   "cell_type": "code",
   "execution_count": 22,
   "metadata": {},
   "outputs": [],
   "source": [
    "gestures = [\"rock\", \"paper\", \"scissors\"]"
   ]
  },
  {
   "cell_type": "code",
   "execution_count": null,
   "metadata": {},
   "outputs": [],
   "source": []
  },
  {
   "cell_type": "code",
   "execution_count": null,
   "metadata": {},
   "outputs": [],
   "source": []
  },
  {
   "cell_type": "markdown",
   "metadata": {},
   "source": [
    "#### 3. Create a variable called `n_rounds` to store the maximum number of rounds to play in a game. \n",
    "Remember that the number of rounds must be odd: 1, 3, 5, ..."
   ]
  },
  {
   "cell_type": "code",
   "execution_count": 25,
   "metadata": {},
   "outputs": [
    {
     "name": "stdout",
     "output_type": "stream",
     "text": [
      "How many rounds do you want to play? 5\n",
      "You are playing 5 rounds.\n"
     ]
    }
   ],
   "source": [
    "n = input(\"How many rounds do you want to play? \")\n",
    "if (int(n) % 2) == 0:\n",
    "    if int(n) == 0:\n",
    "        print(\"I am sorry that you don't want to play.\")\n",
    "    else:\n",
    "        n_rounds = int(n) + 1\n",
    "        print (\"The number of rounds has to be odd. Thus, you are playing\", n_rounds, \"rounds.\")\n",
    "else:\n",
    "    n_rounds = int(n)\n",
    "    if int(n_rounds) == int(1):\n",
    "        print(\"You are playing 1 round.\")\n",
    "    else:\n",
    "        print (\"You are playing\", n_rounds, \"rounds.\")"
   ]
  },
  {
   "cell_type": "code",
   "execution_count": null,
   "metadata": {},
   "outputs": [],
   "source": []
  },
  {
   "cell_type": "code",
   "execution_count": null,
   "metadata": {},
   "outputs": [],
   "source": []
  },
  {
   "cell_type": "code",
   "execution_count": null,
   "metadata": {},
   "outputs": [],
   "source": []
  },
  {
   "cell_type": "code",
   "execution_count": null,
   "metadata": {},
   "outputs": [],
   "source": []
  },
  {
   "cell_type": "code",
   "execution_count": null,
   "metadata": {},
   "outputs": [],
   "source": []
  },
  {
   "cell_type": "code",
   "execution_count": null,
   "metadata": {},
   "outputs": [],
   "source": []
  },
  {
   "cell_type": "code",
   "execution_count": null,
   "metadata": {},
   "outputs": [],
   "source": []
  },
  {
   "cell_type": "code",
   "execution_count": null,
   "metadata": {},
   "outputs": [],
   "source": []
  },
  {
   "cell_type": "code",
   "execution_count": null,
   "metadata": {},
   "outputs": [],
   "source": []
  },
  {
   "cell_type": "code",
   "execution_count": null,
   "metadata": {},
   "outputs": [],
   "source": []
  },
  {
   "cell_type": "code",
   "execution_count": null,
   "metadata": {},
   "outputs": [],
   "source": []
  },
  {
   "cell_type": "code",
   "execution_count": null,
   "metadata": {},
   "outputs": [],
   "source": []
  },
  {
   "cell_type": "code",
   "execution_count": null,
   "metadata": {},
   "outputs": [],
   "source": []
  },
  {
   "cell_type": "code",
   "execution_count": null,
   "metadata": {},
   "outputs": [],
   "source": []
  },
  {
   "cell_type": "code",
   "execution_count": null,
   "metadata": {},
   "outputs": [],
   "source": []
  },
  {
   "cell_type": "code",
   "execution_count": null,
   "metadata": {},
   "outputs": [],
   "source": []
  },
  {
   "cell_type": "code",
   "execution_count": null,
   "metadata": {},
   "outputs": [],
   "source": []
  },
  {
   "cell_type": "code",
   "execution_count": null,
   "metadata": {},
   "outputs": [],
   "source": []
  },
  {
   "cell_type": "code",
   "execution_count": null,
   "metadata": {},
   "outputs": [],
   "source": []
  },
  {
   "cell_type": "code",
   "execution_count": null,
   "metadata": {},
   "outputs": [],
   "source": []
  },
  {
   "cell_type": "code",
   "execution_count": null,
   "metadata": {},
   "outputs": [],
   "source": []
  },
  {
   "cell_type": "code",
   "execution_count": null,
   "metadata": {},
   "outputs": [],
   "source": []
  },
  {
   "cell_type": "code",
   "execution_count": null,
   "metadata": {},
   "outputs": [],
   "source": []
  },
  {
   "cell_type": "code",
   "execution_count": null,
   "metadata": {},
   "outputs": [],
   "source": []
  },
  {
   "cell_type": "code",
   "execution_count": null,
   "metadata": {},
   "outputs": [],
   "source": []
  },
  {
   "cell_type": "code",
   "execution_count": null,
   "metadata": {},
   "outputs": [],
   "source": []
  },
  {
   "cell_type": "code",
   "execution_count": null,
   "metadata": {},
   "outputs": [],
   "source": []
  },
  {
   "cell_type": "code",
   "execution_count": null,
   "metadata": {},
   "outputs": [],
   "source": []
  },
  {
   "cell_type": "code",
   "execution_count": null,
   "metadata": {},
   "outputs": [],
   "source": []
  },
  {
   "cell_type": "code",
   "execution_count": null,
   "metadata": {},
   "outputs": [],
   "source": []
  },
  {
   "cell_type": "code",
   "execution_count": null,
   "metadata": {},
   "outputs": [],
   "source": []
  },
  {
   "cell_type": "code",
   "execution_count": null,
   "metadata": {},
   "outputs": [],
   "source": []
  },
  {
   "cell_type": "markdown",
   "metadata": {},
   "source": [
    "#### 4. Create a variable called `rounds_to_win` to store the number of rounds that a player must win to win the game.\n",
    "**Hint**: the value stored in `rounds_to_win` depends on the value of `n_rounds`. "
   ]
  },
  {
   "cell_type": "code",
   "execution_count": 26,
   "metadata": {},
   "outputs": [
    {
     "name": "stdout",
     "output_type": "stream",
     "text": [
      "3\n"
     ]
    }
   ],
   "source": [
    "rounds_to_win = int(n_rounds/2) + int(1)\n",
    "print(rounds_to_win)"
   ]
  },
  {
   "cell_type": "code",
   "execution_count": null,
   "metadata": {},
   "outputs": [],
   "source": []
  },
  {
   "cell_type": "code",
   "execution_count": null,
   "metadata": {},
   "outputs": [],
   "source": []
  },
  {
   "cell_type": "code",
   "execution_count": null,
   "metadata": {},
   "outputs": [],
   "source": []
  },
  {
   "cell_type": "code",
   "execution_count": null,
   "metadata": {},
   "outputs": [],
   "source": []
  },
  {
   "cell_type": "code",
   "execution_count": null,
   "metadata": {},
   "outputs": [],
   "source": []
  },
  {
   "cell_type": "code",
   "execution_count": null,
   "metadata": {},
   "outputs": [],
   "source": []
  },
  {
   "cell_type": "code",
   "execution_count": null,
   "metadata": {},
   "outputs": [],
   "source": []
  },
  {
   "cell_type": "code",
   "execution_count": null,
   "metadata": {},
   "outputs": [],
   "source": []
  },
  {
   "cell_type": "code",
   "execution_count": null,
   "metadata": {},
   "outputs": [],
   "source": []
  },
  {
   "cell_type": "code",
   "execution_count": null,
   "metadata": {},
   "outputs": [],
   "source": []
  },
  {
   "cell_type": "markdown",
   "metadata": {},
   "source": [
    "#### 5. Create two variables to store the number of rounds that the computer and the player have won. Call these variables `cpu_score` and `player_score`."
   ]
  },
  {
   "cell_type": "code",
   "execution_count": 34,
   "metadata": {},
   "outputs": [],
   "source": [
    "cpu_score_var = 0\n",
    "if a == 1:\n",
    "    cpu_score_var += 1\n",
    "else:\n",
    "    cpu_score_var = cpu_score_var\n",
    "    \n",
    "player_score_var = 0\n",
    "if a == 2:\n",
    "    player_score_var += 1\n",
    "else:\n",
    "    player_score_var = player_score_var"
   ]
  },
  {
   "cell_type": "markdown",
   "metadata": {},
   "source": [
    "#### 6. Define a function that randomly returns one of the 3 gesture options.\n",
    "You will use this function to simulate the gesture choice of the computer. "
   ]
  },
  {
   "cell_type": "code",
   "execution_count": 68,
   "metadata": {},
   "outputs": [
    {
     "name": "stdout",
     "output_type": "stream",
     "text": [
      "The CPU's choice is: paper\n"
     ]
    }
   ],
   "source": [
    "import random\n",
    "CPU_choice = random.choice(gestures)\n",
    "print(\"The CPU's choice is:\", CPU_choice)"
   ]
  },
  {
   "cell_type": "code",
   "execution_count": null,
   "metadata": {},
   "outputs": [],
   "source": []
  },
  {
   "cell_type": "code",
   "execution_count": null,
   "metadata": {},
   "outputs": [],
   "source": []
  },
  {
   "cell_type": "code",
   "execution_count": null,
   "metadata": {},
   "outputs": [],
   "source": [
    "\n",
    "    \n"
   ]
  },
  {
   "cell_type": "markdown",
   "metadata": {},
   "source": [
    "#### 7. Define a function that asks the player which is the gesture he or she wants to show: 'rock', 'paper' or 'scissors'.\n",
    "The player should only be allowed to choose one of the 3 gesture options. If the player's choice is not rock, paper or scissors, keep asking until it is."
   ]
  },
  {
   "cell_type": "code",
   "execution_count": 69,
   "metadata": {},
   "outputs": [
    {
     "name": "stdout",
     "output_type": "stream",
     "text": [
      "Enter your choice: paper\n",
      "Your choice is: paper\n"
     ]
    }
   ],
   "source": [
    "player_try = input(\"Enter your choice: \")\n",
    "\n",
    "while player_try != 'rock' and player_try != 'paper' and player_try != 'scissors':\n",
    "    player_try = input(\"Enter your choice: \")\n",
    "    \n",
    "if player_try == 'rock':\n",
    "    player_choice = 'rock'\n",
    "    \n",
    "elif player_try == 'paper':\n",
    "    player_choice = 'paper'\n",
    "    \n",
    "elif player_try == 'scissors':\n",
    "    player_choice = 'scissors'\n",
    "    \n",
    "print(\"Your choice is:\", player_choice)"
   ]
  },
  {
   "cell_type": "code",
   "execution_count": null,
   "metadata": {},
   "outputs": [],
   "source": []
  },
  {
   "cell_type": "code",
   "execution_count": null,
   "metadata": {},
   "outputs": [],
   "source": []
  },
  {
   "cell_type": "markdown",
   "metadata": {},
   "source": [
    "#### 8. Define a function that checks who won a round. \n",
    "The function should return 0 if there is a tie, 1 if the computer wins and 2 if the player wins."
   ]
  },
  {
   "cell_type": "code",
   "execution_count": 70,
   "metadata": {},
   "outputs": [
    {
     "name": "stdout",
     "output_type": "stream",
     "text": [
      "0\n"
     ]
    }
   ],
   "source": [
    "if player_choice == 'rock' and CPU_choice == 'rock':\n",
    "    b = 0\n",
    "elif player_choice == 'paper' and CPU_choice == 'paper':\n",
    "    b = 0\n",
    "elif player_choice == 'scissors' and CPU_choice == 'scissors':\n",
    "    b = 0\n",
    "    \n",
    "elif player_choice == 'rock' and CPU_choice == 'paper':\n",
    "    b = 1\n",
    "elif player_choice == 'paper' and CPU_choice == 'scissors':\n",
    "    b = 1\n",
    "elif player_choice == 'scissors' and CPU_choice == 'rock':\n",
    "    b = 1\n",
    "    \n",
    "elif player_choice == 'paper' and CPU_choice == 'rock':\n",
    "    b = 2\n",
    "elif player_choice == 'scissors' and CPU_choice == 'paper':\n",
    "    b = 2\n",
    "elif player_choice == 'rock' and CPU_choice == 'scissors':\n",
    "    b = 2\n",
    "a = b\n",
    "print(a)"
   ]
  },
  {
   "cell_type": "markdown",
   "metadata": {},
   "source": [
    "#### 9. Define a function that prints the choice of the computer, the choice of the player and a message that announces who won the current round. \n",
    "You should also use this function to update the variables that count the number of rounds that the computer and the player have won. The score of the winner increases by one point. If there is a tie, the score does not increase."
   ]
  },
  {
   "cell_type": "code",
   "execution_count": 71,
   "metadata": {},
   "outputs": [
    {
     "name": "stdout",
     "output_type": "stream",
     "text": [
      "CPU's choice is: paper\n",
      "Your choice is paper\n",
      "It's a tie!\n",
      "The current score is:\n",
      "CPU: 1 Player: 3\n"
     ]
    }
   ],
   "source": [
    "print(\"CPU's choice is:\", CPU_choice)\n",
    "print(\"Your choice is\", player_choice)\n",
    "if a == 1:\n",
    "    print(\"CPU wins this round!\")\n",
    "if a == 2:\n",
    "    print(\"You win this round.\")\n",
    "if a == 0:\n",
    "    print(\"It's a tie!\")\n",
    "print(\"The current score is:\")\n",
    "print(\"CPU:\", cpu_score_var, \"Player:\", player_score_var)"
   ]
  },
  {
   "cell_type": "markdown",
   "metadata": {},
   "source": [
    "#### 10. Now it's time to code the execution of the game using the functions and variables you defined above. \n",
    "\n",
    "First, create a loop structure that repeats while no player reaches the minimum score necessary to win and the number of rounds is less than the maximum number of rounds to play in a game.  \n",
    "\n",
    "Inside the loop, use the functions and variables above to create the execution of a round: ask for the player's choice, generate the random choice of the computer, show the round results, update the scores, etc. "
   ]
  },
  {
   "cell_type": "code",
   "execution_count": 84,
   "metadata": {},
   "outputs": [
    {
     "name": "stdout",
     "output_type": "stream",
     "text": [
      "How many rounds do you want to play? 1\n",
      "You are playing 1 round.\n",
      "Rounds to win: 1\n",
      "Round No 1\n",
      "CPU made it's choice.\n",
      "Enter your choice: paper\n",
      "Your choice is: paper\n",
      "CPU's choice was: paper\n",
      "0\n",
      "It's a tie!\n",
      "The current score is:\n",
      "CPU: 0 You: 0\n",
      "GAME OVER\n",
      "It's a tie!\n"
     ]
    }
   ],
   "source": [
    "#total code - please check this one - for the other ones I haven't implemented all the improvements that I made in here\n",
    "gestures = [\"rock\", \"paper\", \"scissors\"]\n",
    "\n",
    "n = input(\"How many rounds do you want to play? \")\n",
    "if (int(n) % 2) == 0:\n",
    "    if int(n) == 0:\n",
    "        print(\"I am sorry that you don't want to play. We play anyway.\")\n",
    "    else:\n",
    "        n_rounds = int(n) + 1\n",
    "        print (\"The number of rounds has to be odd. Thus, you are playing\", n_rounds, \"rounds.\")\n",
    "else:\n",
    "    n_rounds = int(n)\n",
    "    if int(n_rounds) == int(1):\n",
    "        print(\"You are playing 1 round.\")\n",
    "    else:\n",
    "        print (\"You are playing\", n_rounds, \"rounds.\")\n",
    "\n",
    "rounds_to_win = int(n_rounds/2) + int(1)\n",
    "print(\"Rounds to win:\", rounds_to_win)\n",
    "\n",
    "#score at the beginning of the game\n",
    "cpu_score_var = 0\n",
    "player_score_var = 0\n",
    "\n",
    "rounds_played = 0\n",
    "while rounds_played < n_rounds and rounds_to_win > cpu_score_var and rounds_to_win > player_score_var:\n",
    "    rounds_played = rounds_played + 1\n",
    "    \n",
    "    #CPU's choice\n",
    "    \n",
    "    import random\n",
    "    CPU_choice = random.choice(gestures)\n",
    "    \n",
    "    print(\"Round No\", rounds_played)\n",
    "    print(\"CPU made it's choice.\")\n",
    "    \n",
    "    #Player's choice\n",
    "    player_try = input(\"Enter your choice: \")\n",
    "\n",
    "    while player_try != 'rock' and player_try != 'paper' and player_try != 'scissors':\n",
    "        player_try = input(\"Enter your choice: \")\n",
    "\n",
    "    if player_try == 'rock':\n",
    "        player_choice = 'rock'\n",
    "\n",
    "    elif player_try == 'paper':\n",
    "        player_choice = 'paper'\n",
    "\n",
    "    elif player_try == 'scissors':\n",
    "        player_choice = 'scissors'\n",
    "\n",
    "    print(\"Your choice is:\", player_choice)\n",
    "    print(\"CPU's choice was:\", CPU_choice)\n",
    "    \n",
    "    #who wins the game\n",
    "    if player_choice == 'rock' and CPU_choice == 'rock':\n",
    "        b = 0\n",
    "    elif player_choice == 'paper' and CPU_choice == 'paper':\n",
    "        b = 0\n",
    "    elif player_choice == 'scissors' and CPU_choice == 'scissors':\n",
    "        b = 0\n",
    "\n",
    "    elif player_choice == 'rock' and CPU_choice == 'paper':\n",
    "        b = 1\n",
    "    elif player_choice == 'paper' and CPU_choice == 'scissors':\n",
    "        b = 1\n",
    "    elif player_choice == 'scissors' and CPU_choice == 'rock':\n",
    "        b = 1\n",
    "\n",
    "    elif player_choice == 'paper' and CPU_choice == 'rock':\n",
    "        b = 2\n",
    "    elif player_choice == 'scissors' and CPU_choice == 'paper':\n",
    "        b = 2\n",
    "    elif player_choice == 'rock' and CPU_choice == 'scissors':\n",
    "        b = 2\n",
    "    a = b\n",
    "    print(a)\n",
    "    \n",
    "    # running score of cpu and player\n",
    "    if a == 1:\n",
    "        cpu_score_var = cpu_score_var + 1\n",
    "    else:\n",
    "        cpu_score_var = cpu_score_var\n",
    "\n",
    "    if a == 2:\n",
    "        player_score_var = player_score_var + 1\n",
    "    else:\n",
    "        player_score_var = player_score_var\n",
    "\n",
    "    # not needed: print(\"CPU's choice is:\", CPU_choice)\n",
    "    # not needed: print(\"Your choice is\", player_choice)\n",
    "    if a == 1:\n",
    "        print(\"CPU wins this round!\")\n",
    "    if a == 2:\n",
    "        print(\"You win this round.\")\n",
    "    if a == 0:\n",
    "        print(\"It's a tie!\")\n",
    "    print(\"The current score is:\")\n",
    "    print(\"CPU:\", cpu_score_var, \"You:\", player_score_var)\n",
    "print(\"GAME OVER\")\n",
    "if cpu_score_var > player_score_var:\n",
    "    print(\"CPU is the winner!\")\n",
    "elif cpu_score_var < player_score_var:\n",
    "    print(\"You are the winner!\")\n",
    "else:\n",
    "    print(\"It's a tie!\")"
   ]
  },
  {
   "cell_type": "markdown",
   "metadata": {},
   "source": [
    "#### 11. Print the winner of the game based on who won more rounds.\n",
    "Remember that the game might be tied. "
   ]
  },
  {
   "cell_type": "code",
   "execution_count": 85,
   "metadata": {},
   "outputs": [
    {
     "name": "stdout",
     "output_type": "stream",
     "text": [
      "It's a tie!\n"
     ]
    }
   ],
   "source": [
    "if cpu_score_var > player_score_var:\n",
    "    print(\"The winner is: CPU\")\n",
    "elif cpu_score_var < player_score_var:\n",
    "    print(\"The winner is: YOU!\")\n",
    "else:\n",
    "    print(\"It's a tie!\")"
   ]
  },
  {
   "cell_type": "markdown",
   "metadata": {},
   "source": [
    "# Bonus: Rock, Paper, Scissors, Lizard & Spock\n",
    "![](images/rpsls.jpg)\n",
    "\n",
    "In this challenge, you need to improve the previous game by adding two new options. To know more about the rules of the improved version of rock, paper, scissors, check this [link](http://www.samkass.com/theories/RPSSL.html). \n",
    "\n",
    "In addition, you will also need to improve how the game interacts with the player: the number of rounds to play, which must be an odd number, will be requested to the user until a valid number is entered. Define a new function to make that request.\n",
    "\n",
    "**Hint**: Try to reuse the code that you already coded in the previous challenge. If your code is efficient, this bonus will only consist of simple modifications to the original game."
   ]
  },
  {
   "cell_type": "code",
   "execution_count": null,
   "metadata": {},
   "outputs": [],
   "source": []
  }
 ],
 "metadata": {
  "kernelspec": {
   "display_name": "Python 3",
   "language": "python",
   "name": "python3"
  },
  "language_info": {
   "codemirror_mode": {
    "name": "ipython",
    "version": 3
   },
   "file_extension": ".py",
   "mimetype": "text/x-python",
   "name": "python",
   "nbconvert_exporter": "python",
   "pygments_lexer": "ipython3",
   "version": "3.7.6"
  }
 },
 "nbformat": 4,
 "nbformat_minor": 2
}
