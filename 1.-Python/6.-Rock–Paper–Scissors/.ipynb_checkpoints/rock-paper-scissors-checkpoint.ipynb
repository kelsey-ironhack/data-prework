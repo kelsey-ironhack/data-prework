{
 "cells": [
  {
   "cell_type": "markdown",
   "metadata": {},
   "source": [
    "<img src=\"https://bit.ly/2VnXWr2\" width=\"100\" align=\"left\">"
   ]
  },
  {
   "cell_type": "markdown",
   "metadata": {},
   "source": [
    "# Rock, Paper & Scissors\n",
    "\n",
    "Let's play the famous game against our computer. You can check the rules [here](https://en.wikipedia.org/wiki/Rock%E2%80%93paper%E2%80%93scissors). \n",
    "\n",
    "## Task\n",
    "Create a program that imitates the playability of the well known game of rock, paper, scissors. Follow the guidelines provided.\n",
    "\n",
    "## Tools\n",
    "1. Loop: **for/while**\n",
    "2. Functions: **input(), print()...**\n",
    "3. Conditional statements: **if, elif, else**\n",
    "4. Definition of functions. Modular programming\n",
    "5. Import modules\n",
    "\n",
    "**To solve this challenge, the use of functions is recommended.**\n",
    "\n",
    "#### 1. Import the choice function of the random module."
   ]
  },
  {
   "cell_type": "code",
   "execution_count": null,
   "metadata": {},
   "outputs": [],
   "source": [
    "import random\n"
   ]
  },
  {
   "cell_type": "markdown",
   "metadata": {},
   "source": [
    "#### 2. Create a list that includes the 3 possible gesture options of the game: 'rock', 'paper' or 'scissors'. Store the list in a variable called `gestures`."
   ]
  },
  {
   "cell_type": "code",
   "execution_count": null,
   "metadata": {},
   "outputs": [],
   "source": [
    "gestures=[ 'rock', 'paper', 'scissors']"
   ]
  },
  {
   "cell_type": "markdown",
   "metadata": {},
   "source": [
    "#### 3. Create a variable called `n_rounds` to store the maximum number of rounds to play in a game. \n",
    "Remember that the number of rounds must be odd: 1, 3, 5, ..."
   ]
  },
  {
   "cell_type": "code",
   "execution_count": null,
   "metadata": {},
   "outputs": [],
   "source": [
    "n_rounds=3"
   ]
  },
  {
   "cell_type": "markdown",
   "metadata": {},
   "source": [
    "#### 4. Create a variable called `rounds_to_win` to store the number of rounds that a player must win to win the game.\n",
    "**Hint**: the value stored in `rounds_to_win` depends on the value of `n_rounds`. "
   ]
  },
  {
   "cell_type": "code",
   "execution_count": null,
   "metadata": {},
   "outputs": [],
   "source": [
    "rounds_to_win=2"
   ]
  },
  {
   "cell_type": "markdown",
   "metadata": {},
   "source": [
    "#### 5. Create two variables to store the number of rounds that the computer and the player have won. Call these variables `cpu_score` and `player_score`."
   ]
  },
  {
   "cell_type": "code",
   "execution_count": null,
   "metadata": {},
   "outputs": [],
   "source": [
    "cpu_score=0\n",
    "player_score=0"
   ]
  },
  {
   "cell_type": "markdown",
   "metadata": {},
   "source": [
    "#### 6. Define a function that randomly returns one of the 3 gesture options.\n",
    "You will use this function to simulate the gesture choice of the computer. "
   ]
  },
  {
   "cell_type": "code",
   "execution_count": null,
   "metadata": {},
   "outputs": [],
   "source": [
    "def randomCPU():\n",
    "\n",
    "  Opciones=[\"Papel\",\"Tijera\",\"Piedra\"]\n",
    "  return (random.choice(Opciones))"
   ]
  },
  {
   "cell_type": "markdown",
   "metadata": {},
   "source": [
    "#### 7. Define a function that asks the player which is the gesture he or she wants to show: 'rock', 'paper' or 'scissors'.\n",
    "The player should only be allowed to choose one of the 3 gesture options. If the player's choice is not rock, paper or scissors, keep asking until it is."
   ]
  },
  {
   "cell_type": "code",
   "execution_count": null,
   "metadata": {},
   "outputs": [],
   "source": [
    "def playerchoice ():\n",
    "  x=0\n",
    "  while x==0:\n",
    "    playerop=input(\"Elige tu arma:('rock', 'paper' or 'scissors')\")\n",
    "    if playerop==\"rock\" or playerop==\"paper\" or playerop==\"scissors\":\n",
    "      x=1\n",
    "  return playerop"
   ]
  },
  {
   "cell_type": "markdown",
   "metadata": {},
   "source": [
    "#### 8. Define a function that checks who won a round. \n",
    "The function should return 0 if there is a tie, 1 if the computer wins and 2 if the player wins."
   ]
  },
  {
   "cell_type": "code",
   "execution_count": null,
   "metadata": {},
   "outputs": [],
   "source": [
    "def whowon(Cpu_opcion,Player_opcion):\n",
    "\n",
    "  if Cpu_opcion==\"Piedra\" and Player_opcion==\"Tijera\":\n",
    "    Winner=\"Computer\"\n",
    "\n",
    "  elif Cpu_opcion==\"Tijera\" and Player_opcion==\"Piedra\":\n",
    "    Winner=\"Player\"\n",
    "\n",
    "  if Cpu_opcion==\"Tijera\" and Player_opcion==\"Papel\":\n",
    "    Winner=\"Computer\"\n",
    "\n",
    "  elif Cpu_opcion==\"Papel\" and Player_opcion==\"Tijera\":\n",
    "    Winner=\"Player\" \n",
    "\n",
    "  if Cpu_opcion==\"Papel\" and Player_opcion==\"Piedra\":\n",
    "    Winner=\"Computer\"\n",
    "\n",
    "  elif Cpu_opcion==\"Piedra\" and Player_opcion==\"Papel\":\n",
    "    Winner=\"Player\"\n",
    "  \n",
    "  else :\n",
    "    Winner=\"Tie\"\n",
    "  \n",
    "  if Winner == \"Tie\":\n",
    "    return 0\n",
    "  elif Winner ==\"Computer\":\n",
    "    return 1\n",
    "  else:\n",
    "    return 2"
   ]
  },
  {
   "cell_type": "markdown",
   "metadata": {},
   "source": [
    "#### 9. Define a function that prints the choice of the computer, the choice of the player and a message that announces who won the current round. \n",
    "You should also use this function to update the variables that count the number of rounds that the computer and the player have won. The score of the winner increases by one point. If there is a tie, the score does not increase."
   ]
  },
  {
   "cell_type": "code",
   "execution_count": null,
   "metadata": {},
   "outputs": [],
   "source": [
    "def  showresults (Cpuopciones,PLayeropciones,whowons,cpu_score,player_score):\n",
    "\n",
    "  if whowons==1:\n",
    "    cpu_score+=1\n",
    "   \n",
    "  if whowons==2:\n",
    "    player_score += 1\n",
    "    \n",
    "  \n",
    "  print (PLayeropciones, Cpuopciones, whowons )\n",
    "  print(\"Player_score\",player_score, \"Cpu_score\", cpu_score)\n",
    "  return cpu_score, player_score"
   ]
  },
  {
   "cell_type": "markdown",
   "metadata": {},
   "source": [
    "#### 10. Now it's time to code the execution of the game using the functions and variables you defined above. \n",
    "\n",
    "First, create a loop structure that repeats while no player reaches the minimum score necessary to win and the number of rounds is less than the maximum number of rounds to play in a game.  \n",
    "\n",
    "Inside the loop, use the functions and variables above to create the execution of a round: ask for the player's choice, generate the random choice of the computer, show the round results, update the scores, etc. "
   ]
  },
  {
   "cell_type": "code",
   "execution_count": null,
   "metadata": {},
   "outputs": [],
   "source": [
    "n_rounds=3\n",
    "rounds_to_win=2\n",
    "cpu_score=0\n",
    "player_score=0\n",
    "numerorounds=0\n",
    "while cpu_score < rounds_to_win + player_score and player_score< rounds_to_win + cpu_score and numerorounds <n_rounds:\n",
    "  Cpuopciones=randomCPU()\n",
    "  PLayeropciones=playerchoice()\n",
    "  whowons=whowon(Cpuopciones,PLayeropciones)\n",
    "\n",
    "  cpu_score, player_score = showresults(Cpuopciones,PLayeropciones,whowons,cpu_score,player_score)\n",
    "  numerorounds+=1\n",
    " "
   ]
  },
  {
   "cell_type": "markdown",
   "metadata": {},
   "source": [
    "#### 11. Print the winner of the game based on who won more rounds.\n",
    "Remember that the game might be tied. "
   ]
  },
  {
   "cell_type": "code",
   "execution_count": null,
   "metadata": {},
   "outputs": [],
   "source": [
    "if cpu_score>player_score:\n",
    "  print(\"Ganador CPU\")\n",
    "if cpu_score<player_score:\n",
    "  print(\"Ganador PLayer\") \n",
    "else:\n",
    "  print(\"Empate\")"
   ]
  },
  {
   "cell_type": "markdown",
   "metadata": {},
   "source": [
    "# Bonus: Rock, Paper, Scissors, Lizard & Spock\n",
    "![](images/rpsls.jpg)\n",
    "\n",
    "In this challenge, you need to improve the previous game by adding two new options. To know more about the rules of the improved version of rock, paper, scissors, check this [link](http://www.samkass.com/theories/RPSSL.html). \n",
    "\n",
    "In addition, you will also need to improve how the game interacts with the player: the number of rounds to play, which must be an odd number, will be requested to the user until a valid number is entered. Define a new function to make that request.\n",
    "\n",
    "**Hint**: Try to reuse the code that you already coded in the previous challenge. If your code is efficient, this bonus will only consist of simple modifications to the original game."
   ]
  },
  {
   "cell_type": "code",
   "execution_count": null,
   "metadata": {},
   "outputs": [],
   "source": [
    "import random\n",
    "\n",
    "def randomCPU():\n",
    "\n",
    "  Opciones=[\"Papel\",\"Tijera\",\"Piedra\",\"Lizard\",\"Spock\"]\n",
    "  Cpu_opcion=(random.choice(Opciones))\n",
    "  return Cpu_opcion\n",
    "\n",
    "def playerchoice ():\n",
    "  x=0\n",
    "  while x==0:\n",
    "    Player_opcion=input(\"Elige tu arma:(Piedra, Papel , Tijera, Lizard, Spock:\")\n",
    "    if Player_opcion==\"Piedra\" or Player_opcion==\"Papel\" or Player_opcion==\"Tijera\" or Player_opcion==\"Lizard\" or Player_opcion==\"Spock\" :\n",
    "      x=1\n",
    "  return Player_opcion\n",
    "\n",
    "def whowon(Cpuopciones,PLayeropciones):\n",
    "\n",
    "  if Cpuopciones==\"Piedra\" and PLayeropciones==\"Tijera\":\n",
    "    Winner=\"Computer\"\n",
    "\n",
    "  elif Cpuopciones==\"Tijera\" and PLayeropciones==\"Piedra\":\n",
    "    Winner=\"Player\"\n",
    "\n",
    "  if Cpuopciones==\"Tijera\" and PLayeropciones==\"Papel\":\n",
    "    Winner=\"Computer\"\n",
    "\n",
    "  elif Cpuopciones==\"Papel\" and PLayeropciones==\"Tijera\":\n",
    "    Winner=\"Player\" \n",
    "\n",
    "  if Cpuopciones==\"Papel\" and PLayeropciones==\"Piedra\":\n",
    "    Winner=\"Computer\"\n",
    "\n",
    "  elif Cpuopciones==\"Piedra\" and PLayeropciones==\"Papel\":\n",
    "    Winner=\"Player\"\n",
    "  \n",
    "\n",
    "  if Cpuopciones==\"Lizard\" and PLayeropciones==\"Spock\":\n",
    "    Winner=\"Computer\"\n",
    "\n",
    "  elif Cpuopciones==\"Spock\" and PLayeropciones==\"Lizard\":\n",
    "    Winner=\"Player\" \n",
    "\n",
    "  if Cpuopciones==\"Spock\" and PLayeropciones==\"Tijera\":\n",
    "    Winner=\"Computer\"\n",
    "\n",
    "  elif Cpuopciones==\"Tijera\" and PLayeropciones==\"Spock\":\n",
    "    Winner=\"Player\"\n",
    "  \n",
    "  if Cpuopciones==\"Piedra\" and PLayeropciones==\"Lizard\":\n",
    "    Winner=\"Computer\"\n",
    "\n",
    "  elif Cpuopciones==\"Lizard\" and PLayeropciones==\"Piedra\":\n",
    "    Winner=\"Player\"\n",
    "  \n",
    "  if Cpuopciones==\"Spock\" and PLayeropciones==\"Piedra\":\n",
    "    Winner=\"Computer\"\n",
    "\n",
    "  elif Cpuopciones==\"Piedra\" and PLayeropciones==\"Spock\":\n",
    "    Winner=\"Player\"  \n",
    "  \n",
    "  if Cpuopciones==\"Tijera\" and PLayeropciones==\"Lizard\":\n",
    "    Winner=\"Computer\"\n",
    "\n",
    "  elif Cpuopciones==\"Lizard\" and PLayeropciones==\"Tijera\":\n",
    "    Winner=\"Player\"  \n",
    "\n",
    "  if Cpuopciones==\"Papel\" and PLayeropciones==\"Spock\":\n",
    "    Winner=\"Computer\"\n",
    "\n",
    "  elif Cpuopciones==\"Spock\" and PLayeropciones==\"Papel\":\n",
    "    Winner=\"Player\"    \n",
    "  \n",
    "  if Cpuopciones==\"Lizard\" and PLayeropciones==\"Papel\":\n",
    "    Winner=\"Computer\"\n",
    "\n",
    "  elif Cpuopciones==\"Papel\" and PLayeropciones==\"Lizard\":\n",
    "    Winner=\"Player\"    \n",
    "  \n",
    "  if  Cpuopciones==PLayeropciones:\n",
    "    Winner=\"Tie\"\n",
    "  \n",
    "  if Winner == \"Tie\":\n",
    "    return 0\n",
    "  elif Winner ==\"Computer\":\n",
    "    return 1\n",
    "  else:\n",
    "    return 2\n",
    "\n",
    "def  showresults (Cpuopciones,PLayeropciones,whowons,cpu_score,player_score):\n",
    "\n",
    "  if whowons==1:\n",
    "    cpu_score+=1\n",
    "   \n",
    "  if whowons==2:\n",
    "    player_score += 1\n",
    "    \n",
    "  \n",
    "  print (PLayeropciones, Cpuopciones, whowons )\n",
    "  print(\"Player_score\",player_score, \"Cpu_score\", cpu_score)\n",
    "  return cpu_score, player_score\n",
    "\n",
    "n_rounds=3\n",
    "rounds_to_win=2\n",
    "cpu_score=0\n",
    "player_score=0\n",
    "numerorounds=0\n",
    "while cpu_score < rounds_to_win + player_score and player_score< rounds_to_win + cpu_score and numerorounds <n_rounds:\n",
    "  Cpuopciones=randomCPU()\n",
    "  PLayeropciones=playerchoice()\n",
    "  whowons=whowon(Cpuopciones,PLayeropciones)\n",
    "\n",
    "  cpu_score, player_score = showresults(Cpuopciones,PLayeropciones,whowons,cpu_score,player_score)\n",
    "  numerorounds+=1\n",
    "\n",
    "if cpu_score>player_score:\n",
    "  print(\"Ganador CPU\")\n",
    "if cpu_score<player_score:\n",
    "  print(\"Ganador PLayer\") \n",
    "else:\n",
    "  print(\"Empate\")"
   ]
  },
  {
   "cell_type": "code",
   "execution_count": null,
   "metadata": {},
   "outputs": [],
   "source": []
  }
 ],
 "metadata": {
  "kernelspec": {
   "display_name": "Python 3",
   "language": "python",
   "name": "python3"
  },
  "language_info": {
   "codemirror_mode": {
    "name": "ipython",
    "version": 3
   },
   "file_extension": ".py",
   "mimetype": "text/x-python",
   "name": "python",
   "nbconvert_exporter": "python",
   "pygments_lexer": "ipython3",
   "version": "3.7.4"
  }
 },
 "nbformat": 4,
 "nbformat_minor": 2
}
