{
 "cells": [
  {
   "cell_type": "markdown",
   "metadata": {},
   "source": [
    "<img src=\"https://bit.ly/2VnXWr2\" width=\"100\" align=\"left\">"
   ]
  },
  {
   "cell_type": "markdown",
   "metadata": {},
   "source": [
    "# Rock, Paper & Scissors\n",
    "\n",
    "Let's play the famous game against our computer. You can check the rules [here](https://en.wikipedia.org/wiki/Rock%E2%80%93paper%E2%80%93scissors). \n",
    "\n",
    "## Task\n",
    "Create a program that imitates the playability of the well known game of rock, paper, scissors. Follow the guidelines provided.\n",
    "\n",
    "## Tools\n",
    "1. Loop: **for/while**\n",
    "2. Functions: **input(), print()...**\n",
    "3. Conditional statements: **if, elif, else**\n",
    "4. Definition of functions. Modular programming\n",
    "5. Import modules\n",
    "\n",
    "**To solve this challenge, the use of functions is recommended.**\n",
    "\n",
    "#### 1. Import the choice function of the random module."
   ]
  },
  {
   "cell_type": "code",
   "execution_count": 1,
   "metadata": {},
   "outputs": [],
   "source": [
    "from random import choice"
   ]
  },
  {
   "cell_type": "markdown",
   "metadata": {},
   "source": [
    "#### 2. Create a list that includes the 3 possible gesture options of the game: 'rock', 'paper' or 'scissors'. Store the list in a variable called `gestures`."
   ]
  },
  {
   "cell_type": "code",
   "execution_count": 2,
   "metadata": {},
   "outputs": [],
   "source": [
    "gestures=[\"rock\", \"paper\", \"scissors\"]"
   ]
  },
  {
   "cell_type": "markdown",
   "metadata": {},
   "source": [
    "#### 3. Create a variable called `n_rounds` to store the maximum number of rounds to play in a game. \n",
    "Remember that the number of rounds must be odd: 1, 3, 5, ..."
   ]
  },
  {
   "cell_type": "code",
   "execution_count": 3,
   "metadata": {},
   "outputs": [],
   "source": [
    "n_rounds=3"
   ]
  },
  {
   "cell_type": "markdown",
   "metadata": {},
   "source": [
    "#### 4. Create a variable called `rounds_to_win` to store the number of rounds that a player must win to win the game.\n",
    "**Hint**: the value stored in `rounds_to_win` depends on the value of `n_rounds`. "
   ]
  },
  {
   "cell_type": "code",
   "execution_count": 4,
   "metadata": {},
   "outputs": [],
   "source": [
    "rounds_to_win=int(n_rounds/2)+1"
   ]
  },
  {
   "cell_type": "markdown",
   "metadata": {},
   "source": [
    "#### 5. Create two variables to store the number of rounds that the computer and the player have won. Call these variables `cpu_score` and `player_score`."
   ]
  },
  {
   "cell_type": "code",
   "execution_count": 5,
   "metadata": {},
   "outputs": [],
   "source": [
    "cpu_score=0\n",
    "player_score=0"
   ]
  },
  {
   "cell_type": "markdown",
   "metadata": {},
   "source": [
    "#### 6. Define a function that randomly returns one of the 3 gesture options.\n",
    "You will use this function to simulate the gesture choice of the computer. "
   ]
  },
  {
   "cell_type": "code",
   "execution_count": 6,
   "metadata": {},
   "outputs": [],
   "source": [
    "def cpu_hand():\n",
    "    return(choice(gestures))"
   ]
  },
  {
   "cell_type": "markdown",
   "metadata": {},
   "source": [
    "#### 7. Define a function that asks the player which is the gesture he or she wants to show: 'rock', 'paper' or 'scissors'.\n",
    "The player should only be allowed to choose one of the 3 gesture options. If the player's choice is not rock, paper or scissors, keep asking until it is."
   ]
  },
  {
   "cell_type": "code",
   "execution_count": 12,
   "metadata": {},
   "outputs": [],
   "source": [
    "def player_input():\n",
    "    player_hand=input(\"Choose rock, paper or scissors: \")\n",
    "    while player_hand not in gestures:\n",
    "        player_hand=input(\"Choose rock, paper or scissors: \")\n",
    "    return player_hand"
   ]
  },
  {
   "cell_type": "markdown",
   "metadata": {},
   "source": [
    "#### 8. Define a function that checks who won a round. \n",
    "The function should return 0 if there is a tie, 1 if the computer wins and 2 if the player wins."
   ]
  },
  {
   "cell_type": "code",
   "execution_count": 13,
   "metadata": {},
   "outputs": [],
   "source": [
    "def who_wins(cpu, player):\n",
    "    if cpu==player:\n",
    "        return \"Tie\"\n",
    "    elif cpu==\"rock\" and player==\"scissors\":\n",
    "        return \"Cpu\"\n",
    "    elif cpu==\"scissors\" and player==\"paper\":\n",
    "        return \"Cpu\"\n",
    "    elif cpu==\"paper\" and player==\"rock\":\n",
    "        return \"Cpu\"\n",
    "    else:\n",
    "        return \"Player\""
   ]
  },
  {
   "cell_type": "markdown",
   "metadata": {},
   "source": [
    "#### 9. Define a function that prints the choice of the computer, the choice of the player and a message that announces who won the current round. \n",
    "You should also use this function to update the variables that count the number of rounds that the computer and the player have won. The score of the winner increases by one point. If there is a tie, the score does not increase."
   ]
  },
  {
   "cell_type": "code",
   "execution_count": 14,
   "metadata": {},
   "outputs": [],
   "source": [
    "rounds_played=0\n",
    "\n",
    "def rps_round():\n",
    "    global rounds_played, cpu_score, player_score\n",
    "    \n",
    "    player=player_input()\n",
    "    cpu=cpu_hand()\n",
    "    result=who_wins(cpu, player)\n",
    "    print(\"Cpu plays\", cpu)\n",
    "    print(\"Player plays\", player)\n",
    "    if result==\"Tie\":\n",
    "        print(\"It's a tie\")\n",
    "    elif result==\"Player\":\n",
    "        print(\"Player wins\")\n",
    "        player_score+=1\n",
    "    elif result==\"Cpu\":\n",
    "        print(\"Cpu wins\")\n",
    "        cpu_score+=1\n",
    "    rounds_played+=1"
   ]
  },
  {
   "cell_type": "markdown",
   "metadata": {},
   "source": [
    "#### 10. Now it's time to code the execution of the game using the functions and variables you defined above. \n",
    "\n",
    "First, create a loop structure that repeats while no player reaches the minimum score necessary to win and the number of rounds is less than the maximum number of rounds to play in a game.  \n",
    "\n",
    "Inside the loop, use the functions and variables above to create the execution of a round: ask for the player's choice, generate the random choice of the computer, show the round results, update the scores, etc. "
   ]
  },
  {
   "cell_type": "code",
   "execution_count": 15,
   "metadata": {},
   "outputs": [
    {
     "name": "stdout",
     "output_type": "stream",
     "text": [
      "Choose rock, paper or scissors: rock\n",
      "Cpu plays scissors\n",
      "Player plays rock\n",
      "Player wins\n",
      "Choose rock, paper or scissors: paper\n",
      "Cpu plays scissors\n",
      "Player plays paper\n",
      "Cpu wins\n",
      "Choose rock, paper or scissors: scissors\n",
      "Cpu plays rock\n",
      "Player plays scissors\n",
      "Cpu wins\n"
     ]
    }
   ],
   "source": [
    "while cpu_score<rounds_to_win and player_score<rounds_to_win and rounds_played<n_rounds:\n",
    "    rps_round()\n"
   ]
  },
  {
   "cell_type": "markdown",
   "metadata": {},
   "source": [
    "#### 11. Print the winner of the game based on who won more rounds.\n",
    "Remember that the game might be tied. "
   ]
  },
  {
   "cell_type": "code",
   "execution_count": 17,
   "metadata": {},
   "outputs": [
    {
     "name": "stdout",
     "output_type": "stream",
     "text": [
      "Cpu wins\n"
     ]
    }
   ],
   "source": [
    "if player_score==cpu_score:\n",
    "    print(\"It's a tie\")\n",
    "elif player_score<cpu_score:\n",
    "    print(\"Cpu wins\")\n",
    "else:\n",
    "    print(\"Player wins\")"
   ]
  },
  {
   "cell_type": "markdown",
   "metadata": {},
   "source": [
    "# Bonus: Rock, Paper, Scissors, Lizard & Spock\n",
    "![](images/rpsls.jpg)\n",
    "\n",
    "In this challenge, you need to improve the previous game by adding two new options. To know more about the rules of the improved version of rock, paper, scissors, check this [link](http://www.samkass.com/theories/RPSSL.html). \n",
    "\n",
    "In addition, you will also need to improve how the game interacts with the player: the number of rounds to play, which must be an odd number, will be requested to the user until a valid number is entered. Define a new function to make that request.\n",
    "\n",
    "**Hint**: Try to reuse the code that you already coded in the previous challenge. If your code is efficient, this bonus will only consist of simple modifications to the original game."
   ]
  },
  {
   "cell_type": "code",
   "execution_count": null,
   "metadata": {},
   "outputs": [],
   "source": [
    "gestures=[\"rock\", \"paper\", \"scissors\", \"lizard\", \"spock\"]\n",
    "\n",
    "def cpu_hand():\n",
    "    return(choice(gestures))\n",
    "\n",
    "def player_input():\n",
    "    player_hand=input(\"Choose rock, paper, scissors, lizard or spock: \")\n",
    "    while player_hand not in gestures:\n",
    "        player_hand=input(\"Choose rock, paper or scissors, lizard or spock: \")\n",
    "    return player_hand\n",
    "\n",
    "def number_of_rounds():\n",
    "    n_rounds=input(\"Please choose a number of rounds (must be odd): \")\n",
    "    if int(n_rounds)%2!=1:\n",
    "        n_rounds=input(\"Please choose a number of rounds (must be odd): \")\n",
    "    return(int(n_rounds))    \n",
    "\n",
    "\n",
    "def who_wins(cpu, player):\n",
    "    beats={\"rock\": [\"scissors\", \"lizard\"],\n",
    "           \"paper\": [\"rock\", \"spock\"],\n",
    "           \"scissors\": [\"paper\", \"lizard\"],\n",
    "           \"lizard\": [\"spock\", \"paper\"],\n",
    "           \"spock\": [\"rock\", \"scissors\"]\n",
    "          }\n",
    "    if cpu==player:\n",
    "        return(\"Tie\")\n",
    "    elif player in beats[cpu]:\n",
    "        return(\"Cpu\")\n",
    "    else:\n",
    "        return(\"Player\")\n",
    "\n",
    "rounds_played=0\n",
    "cpu_score=0\n",
    "player_score=0\n",
    "\n",
    "def rpsls_round():\n",
    "    global rounds_played, cpu_score, player_score\n",
    "    \n",
    "    player=player_input()\n",
    "    cpu=cpu_hand()\n",
    "    result=who_wins(cpu, player)\n",
    "    print(\"Cpu plays\", cpu)\n",
    "    print(\"Player plays\", player)\n",
    "    if result==\"Tie\":\n",
    "        print(\"It's a tie\")\n",
    "    elif result==\"Player\":\n",
    "        print(\"Player wins\")\n",
    "        player_score+=1\n",
    "    elif result==\"Cpu\":\n",
    "        print(\"Cpu wins\")\n",
    "        cpu_score+=1\n",
    "    rounds_played+=1\n",
    "    \n",
    "def rpsls_game():\n",
    "    n_rounds=number_of_rounds()\n",
    "    rounds_to_win=int(n_rounds/2)+1\n",
    "    \n",
    "    while cpu_score<rounds_to_win and player_score<rounds_to_win and rounds_played<n_rounds:\n",
    "        rpsls_round()\n",
    "        print()\n",
    "    \n",
    "    if player_score==cpu_score:\n",
    "        print(\"It's a tie\")\n",
    "    elif player_score<cpu_score:\n",
    "        print(\"Cpu wins\")\n",
    "    else:\n",
    "        print(\"Player wins\")\n",
    "\n",
    "rpsls_game()\n"
   ]
  }
 ],
 "metadata": {
  "kernelspec": {
   "display_name": "Python 3",
   "language": "python",
   "name": "python3"
  },
  "language_info": {
   "codemirror_mode": {
    "name": "ipython",
    "version": 3
   },
   "file_extension": ".py",
   "mimetype": "text/x-python",
   "name": "python",
   "nbconvert_exporter": "python",
   "pygments_lexer": "ipython3",
   "version": "3.7.4"
  },
  "varInspector": {
   "cols": {
    "lenName": 16,
    "lenType": 16,
    "lenVar": 40
   },
   "kernels_config": {
    "python": {
     "delete_cmd_postfix": "",
     "delete_cmd_prefix": "del ",
     "library": "var_list.py",
     "varRefreshCmd": "print(var_dic_list())"
    },
    "r": {
     "delete_cmd_postfix": ") ",
     "delete_cmd_prefix": "rm(",
     "library": "var_list.r",
     "varRefreshCmd": "cat(var_dic_list()) "
    }
   },
   "position": {
    "height": "352.8px",
    "left": "1183.2px",
    "right": "20px",
    "top": "109px",
    "width": "350px"
   },
   "types_to_exclude": [
    "module",
    "function",
    "builtin_function_or_method",
    "instance",
    "_Feature"
   ],
   "window_display": true
  }
 },
 "nbformat": 4,
 "nbformat_minor": 2
}
