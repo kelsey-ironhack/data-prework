{
 "cells": [
  {
   "cell_type": "markdown",
   "metadata": {},
   "source": [
    "<img src=\"https://bit.ly/2VnXWr2\" width=\"100\" align=\"left\">"
   ]
  },
  {
   "cell_type": "markdown",
   "metadata": {},
   "source": [
    "# Rock, Paper & Scissors\n",
    "\n",
    "Let's play the famous game against our computer. You can check the rules [here](https://en.wikipedia.org/wiki/Rock%E2%80%93paper%E2%80%93scissors). \n",
    "\n",
    "## Task\n",
    "Create a program that imitates the playability of the well known game of rock, paper, scissors. Follow the guidelines provided.\n",
    "\n",
    "## Tools\n",
    "1. Loop: **for/while**\n",
    "2. Functions: **input(), print()...**\n",
    "3. Conditional statements: **if, elif, else**\n",
    "4. Definition of functions. Modular programming\n",
    "5. Import modules\n",
    "\n",
    "**To solve this challenge, the use of functions is recommended.**\n",
    "\n",
    "#### 1. Import the choice function of the random module."
   ]
  },
  {
   "cell_type": "code",
   "execution_count": 1,
   "metadata": {},
   "outputs": [],
   "source": [
    "from random import choice"
   ]
  },
  {
   "cell_type": "markdown",
   "metadata": {},
   "source": [
    "#### 2. Create a list that includes the 3 possible gesture options of the game: 'rock', 'paper' or 'scissors'. Store the list in a variable called `gestures`."
   ]
  },
  {
   "cell_type": "code",
   "execution_count": 2,
   "metadata": {},
   "outputs": [
    {
     "name": "stdout",
     "output_type": "stream",
     "text": [
      "['rock', 'paper', 'scissors']\n"
     ]
    }
   ],
   "source": [
    "gestures=['rock','paper','scissors']\n",
    "print(gestures)"
   ]
  },
  {
   "cell_type": "markdown",
   "metadata": {},
   "source": [
    "#### 3. Create a variable called `n_rounds` to store the maximum number of rounds to play in a game. \n",
    "Remember that the number of rounds must be odd: 1, 3, 5, ..."
   ]
  },
  {
   "cell_type": "code",
   "execution_count": 3,
   "metadata": {},
   "outputs": [],
   "source": [
    "n_rounds=5\n"
   ]
  },
  {
   "cell_type": "markdown",
   "metadata": {},
   "source": [
    "#### 4. Create a variable called `rounds_to_win` to store the number of rounds that a player must win to win the game.\n",
    "**Hint**: the value stored in `rounds_to_win` depends on the value of `n_rounds`. "
   ]
  },
  {
   "cell_type": "code",
   "execution_count": 4,
   "metadata": {},
   "outputs": [],
   "source": [
    "rounds_to_win=3"
   ]
  },
  {
   "cell_type": "markdown",
   "metadata": {},
   "source": [
    "#### 5. Create two variables to store the number of rounds that the computer and the player have won. Call these variables `cpu_score` and `player_score`."
   ]
  },
  {
   "cell_type": "code",
   "execution_count": 26,
   "metadata": {},
   "outputs": [],
   "source": [
    "computer_score=0\n",
    "player_score=0"
   ]
  },
  {
   "cell_type": "markdown",
   "metadata": {},
   "source": [
    "#### 6. Define a function that randomly returns one of the 3 gesture options.\n",
    "You will use this function to simulate the gesture choice of the computer. "
   ]
  },
  {
   "cell_type": "code",
   "execution_count": 6,
   "metadata": {},
   "outputs": [],
   "source": [
    "def computer_choice():\n",
    "    return choice(gestures)\n",
    "\n",
    "#computer_choice()"
   ]
  },
  {
   "cell_type": "markdown",
   "metadata": {},
   "source": [
    "#### 7. Define a function that asks the player which is the gesture he or she wants to show: 'rock', 'paper' or 'scissors'.\n",
    "The player should only be allowed to choose one of the 3 gesture options. If the player's choice is not rock, paper or scissors, keep asking until it is."
   ]
  },
  {
   "cell_type": "code",
   "execution_count": 7,
   "metadata": {},
   "outputs": [],
   "source": [
    "def player_choice():\n",
    "    entry = \"\"\n",
    "    while entry not in gestures:\n",
    "        entry = input(\"what is your choice ( 'rock', 'paper''scissors')?\")\n",
    "    #print(\"player_choice:\",entry)\n",
    "    return entry\n",
    "#player_choice()"
   ]
  },
  {
   "cell_type": "markdown",
   "metadata": {},
   "source": [
    "#### 8. Define a function that checks who won a round. \n",
    "The function should return 0 if there is a tie, 1 if the computer wins and 2 if the player wins."
   ]
  },
  {
   "cell_type": "code",
   "execution_count": 8,
   "metadata": {},
   "outputs": [
    {
     "name": "stdout",
     "output_type": "stream",
     "text": [
      "what is your choice ( 'rock', 'paper' or 'scissors')?rock\n",
      "rock\n",
      "paper\n"
     ]
    }
   ],
   "source": [
    "#player_round=player_choice()\n",
    "#computer_round=computer_choice()\n",
    "\n",
    "def who_won(player_round,computer_round):\n",
    "    if (computer_round==\"\")&(player_round==\"\"):\n",
    "        return 0\n",
    "    elif ((computer_round==\"rock\")&(player_round==\"scissors\"))|((computer_round==\"paper\")&(player_round==\"rock\"))|((computer_round==\"scissors\")&(player_round==\"paper\")):\n",
    "        return 1\n",
    "    elif ((player_round==\"rock\")&(computer_round==\"scissors\"))|((player_round==\"paper\")&(computer_round==\"rock\"))|((player_round==\"scissors\")&(computer_round==\"paper\")):\n",
    "        return 2\n",
    "    else:\n",
    "        return 0\n",
    "#print(player_round)\n",
    "#print(computer_round)\n",
    "#who_won(player_choice(),computer_choice())"
   ]
  },
  {
   "cell_type": "markdown",
   "metadata": {},
   "source": [
    "#### 9. Define a function that prints the choice of the computer, the choice of the player and a message that announces who won the current round. \n",
    "You should also use this function to update the variables that count the number of rounds that the computer and the player have won. The score of the winner increases by one point. If there is a tie, the score does not increase."
   ]
  },
  {
   "cell_type": "code",
   "execution_count": 9,
   "metadata": {},
   "outputs": [],
   "source": [
    "def round_result(who):\n",
    "    print(\"player:\",player_round)\n",
    "    print(\"computer:\",computer_round)\n",
    "    global computer_score\n",
    "    global player_score\n",
    "    if who==1:\n",
    "        #computer won\n",
    "        print(\"Computer won this round.\")\n",
    "        computer_score+=1\n",
    "    elif who==2:\n",
    "        print(\"Player won this round.\")\n",
    "        player_score+=1\n",
    "    else:\n",
    "        print(\"Nobody won this round!\")\n",
    "\n",
    "#round_result(who_won(player_round,computer_round))"
   ]
  },
  {
   "cell_type": "markdown",
   "metadata": {},
   "source": [
    "#### 10. Now it's time to code the execution of the game using the functions and variables you defined above. \n",
    "\n",
    "First, create a loop structure that repeats while no player reaches the minimum score necessary to win and the number of rounds is less than the maximum number of rounds to play in a game.  \n",
    "\n",
    "Inside the loop, use the functions and variables above to create the execution of a round: ask for the player's choice, generate the random choice of the computer, show the round results, update the scores, etc. "
   ]
  },
  {
   "cell_type": "code",
   "execution_count": 15,
   "metadata": {},
   "outputs": [
    {
     "name": "stdout",
     "output_type": "stream",
     "text": [
      "what is your choice ( 'rock', 'paper' or 'scissors')?rock\n",
      "player: rock\n",
      "computer: paper\n",
      "Computer won this round.\n",
      "what is your choice ( 'rock', 'paper' or 'scissors')?rock\n",
      "player: rock\n",
      "computer: paper\n",
      "Computer won this round.\n"
     ]
    }
   ],
   "source": [
    "i=1\n",
    "while ((computer_score<rounds_to_win)&(player_score<rounds_to_win))&(i<=n_rounds):\n",
    "    player_round= player_choice()\n",
    "    computer_round = computer_choice()\n",
    "    round_result(who_won(player_round,computer_round))\n",
    "    i+=1\n",
    "    "
   ]
  },
  {
   "cell_type": "markdown",
   "metadata": {},
   "source": [
    "#### 11. Print the winner of the game based on who won more rounds.\n",
    "Remember that the game might be tied. "
   ]
  },
  {
   "cell_type": "code",
   "execution_count": 25,
   "metadata": {},
   "outputs": [
    {
     "name": "stdout",
     "output_type": "stream",
     "text": [
      "You tied with the computer 1 to 1\n"
     ]
    }
   ],
   "source": [
    "if player_score>computer_score:\n",
    "    print(f\"Congratulations player, you won against the computer {player_score} to {computer_score}\")\n",
    "elif player_score<computer_score:\n",
    "    print(f\"The computer won the game {player_score} to {computer_score}\")\n",
    "else:\n",
    "    print(f\"You tied with the computer {player_score} to {computer_score}\")"
   ]
  },
  {
   "cell_type": "markdown",
   "metadata": {},
   "source": [
    "# Bonus: Rock, Paper, Scissors, Lizard & Spock\n",
    "![](images/rpsls.jpg)\n",
    "\n",
    "In this challenge, you need to improve the previous game by adding two new options. To know more about the rules of the improved version of rock, paper, scissors, check this [link](http://www.samkass.com/theories/RPSSL.html). \n",
    "\n",
    "In addition, you will also need to improve how the game interacts with the player: the number of rounds to play, which must be an odd number, will be requested to the user until a valid number is entered. Define a new function to make that request.\n",
    "\n",
    "**Hint**: Try to reuse the code that you already coded in the previous challenge. If your code is efficient, this bonus will only consist of simple modifications to the original game."
   ]
  },
  {
   "cell_type": "code",
   "execution_count": 31,
   "metadata": {},
   "outputs": [
    {
     "name": "stdout",
     "output_type": "stream",
     "text": [
      "Please enter the number of rounds you want to play:3\n",
      "what is your choice ( 'rock','paper','scissors','spock'or 'lizard')?spock\n",
      "player: spock\n",
      "computer: rock\n",
      "Player won this round.\n",
      "what is your choice ( 'rock','paper','scissors','spock'or 'lizard')?spock\n",
      "player: spock\n",
      "computer: paper\n",
      "Computer won this round.\n",
      "what is your choice ( 'rock','paper','scissors','spock'or 'lizard')?scissors\n",
      "player: scissors\n",
      "computer: rock\n",
      "Computer won this round.\n",
      "\n",
      "The computer won the game 1 to 2\n"
     ]
    }
   ],
   "source": [
    "gestures_plus = ['rock','paper','scissors','spock','lizard']\n",
    "computer_score=0\n",
    "player_score=0\n",
    "\n",
    "def rounds_request():\n",
    "    input_rounds=2\n",
    "    while (input_rounds%2)== 0: \n",
    "        input_rounds = input(\"Please enter the number of rounds you want to play:\")\n",
    "        if input_rounds.isdigit():\n",
    "            input_rounds=int(input_rounds)\n",
    "        else:\n",
    "            input_rounds=2\n",
    "            continue\n",
    "        #print(input_rounds%2)\n",
    "        #print((input_rounds%2)!= 0)\n",
    "    return input_rounds\n",
    "\n",
    "\n",
    "def computer_choice_extreme():\n",
    "    return choice(gestures_plus)\n",
    "\n",
    "def player_choice_extreme():\n",
    "    entry = \"\"\n",
    "    while entry not in gestures_plus:\n",
    "        entry = input(\"what is your choice ( 'rock','paper','scissors','spock'or 'lizard')?\")\n",
    "    return entry\n",
    "\n",
    "def who_won_extreme(player_round,computer_round):\n",
    "    if (computer_round==\"\")&(player_round==\"\"):\n",
    "        return 0\n",
    "    elif ((computer_round==\"scissors\")&(player_round==\"paper\"))|((computer_round==\"paper\")&(player_round==\"rock\"))|((computer_round==\"rock\")&(player_round==\"lizard\"))|((computer_round==\"lizard\")&(player_round==\"spock\"))|((computer_round==\"spock\")&(player_round==\"scissors\"))|((computer_round==\"scissors\")&(player_round==\"lizard\"))|((computer_round==\"lizard\")&(player_round==\"paper\"))|((computer_round==\"paper\")&(player_round==\"spock\"))|((computer_round==\"spock\")&(player_round==\"rock\"))|((computer_round==\"rock\")&(player_round==\"scissors\")):\n",
    "        return 1\n",
    "    elif ((player_round==\"scissors\")&(computer_round==\"paper\"))|((player_round==\"paper\")&(computer_round==\"rock\"))|((player_round==\"rock\")&(computer_round==\"lizard\"))|((player_round==\"lizard\")&(computer_round==\"spock\"))|((player_round==\"spock\")&(computer_round==\"scissors\"))|((player_round==\"scissors\")&(computer_round==\"lizard\"))|((player_round==\"lizard\")&(computer_round==\"paper\"))|((player_round==\"paper\")&(computer_round==\"spock\"))|((player_round==\"spock\")&(computer_round==\"rock\"))|((player_round==\"rock\")&(computer_round==\"scissors\")):\n",
    "        return 2\n",
    "    else:\n",
    "        return 0\n",
    "    \n",
    "i=1\n",
    "n_rounds = rounds_request()\n",
    "while ((computer_score<rounds_to_win)&(player_score<rounds_to_win))&(i<=n_rounds):\n",
    "    player_round= player_choice_extreme()\n",
    "    computer_round = computer_choice_extreme()\n",
    "    round_result(who_won_extreme(player_round,computer_round))\n",
    "    i+=1\n",
    "    \n",
    "if player_score>computer_score:\n",
    "    print(f\"\\nCongratulations player, you won against the computer {player_score} to {computer_score}\")\n",
    "elif player_score<computer_score:\n",
    "    print(f\"\\nThe computer won the game {player_score} to {computer_score}\")\n",
    "else:\n",
    "    print(f\"\\nYou tied with the computer {player_score} to {computer_score}\")"
   ]
  },
  {
   "cell_type": "code",
   "execution_count": null,
   "metadata": {},
   "outputs": [],
   "source": []
  }
 ],
 "metadata": {
  "kernelspec": {
   "display_name": "Python 3",
   "language": "python",
   "name": "python3"
  },
  "language_info": {
   "codemirror_mode": {
    "name": "ipython",
    "version": 3
   },
   "file_extension": ".py",
   "mimetype": "text/x-python",
   "name": "python",
   "nbconvert_exporter": "python",
   "pygments_lexer": "ipython3",
   "version": "3.7.4"
  }
 },
 "nbformat": 4,
 "nbformat_minor": 2
}
