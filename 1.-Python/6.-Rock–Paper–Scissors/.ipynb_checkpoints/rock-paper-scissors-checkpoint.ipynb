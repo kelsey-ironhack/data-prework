{
 "cells": [
  {
   "cell_type": "markdown",
   "metadata": {},
   "source": [
    "<img src=\"https://bit.ly/2VnXWr2\" width=\"100\" align=\"left\">"
   ]
  },
  {
   "cell_type": "markdown",
   "metadata": {},
   "source": [
    "# Rock, Paper & Scissors\n",
    "\n",
    "Let's play the famous game against our computer. You can check the rules [here](https://en.wikipedia.org/wiki/Rock%E2%80%93paper%E2%80%93scissors). \n",
    "\n",
    "## Task\n",
    "Create a program that imitates the playability of the well known game of rock, paper, scissors. Follow the guidelines provided.\n",
    "\n",
    "## Tools\n",
    "1. Loop: **for/while**\n",
    "2. Functions: **input(), print()...**\n",
    "3. Conditional statements: **if, elif, else**\n",
    "4. Definition of functions. Modular programming\n",
    "5. Import modules\n",
    "\n",
    "**To solve this challenge, the use of functions is recommended.**\n",
    "\n",
    "#### 1. Import the choice function of the random module."
   ]
  },
  {
   "cell_type": "code",
   "execution_count": 1,
   "metadata": {},
   "outputs": [],
   "source": [
    "import random"
   ]
  },
  {
   "cell_type": "markdown",
   "metadata": {},
   "source": [
    "#### 2. Create a list that includes the 3 possible gesture options of the game: 'rock', 'paper' or 'scissors'. Store the list in a variable called `gestures`."
   ]
  },
  {
   "cell_type": "code",
   "execution_count": 2,
   "metadata": {},
   "outputs": [],
   "source": [
    "gestures=['rock','paper','scissors']"
   ]
  },
  {
   "cell_type": "markdown",
   "metadata": {},
   "source": [
    "#### 3. Create a variable called `n_rounds` to store the maximum number of rounds to play in a game. \n",
    "Remember that the number of rounds must be odd: 1, 3, 5, ..."
   ]
  },
  {
   "cell_type": "code",
   "execution_count": 3,
   "metadata": {},
   "outputs": [],
   "source": [
    "n_rounds=0"
   ]
  },
  {
   "cell_type": "markdown",
   "metadata": {},
   "source": [
    "#### 4. Create a variable called `rounds_to_win` to store the number of rounds that a player must win to win the game.\n",
    "**Hint**: the value stored in `rounds_to_win` depends on the value of `n_rounds`. "
   ]
  },
  {
   "cell_type": "code",
   "execution_count": 4,
   "metadata": {},
   "outputs": [],
   "source": [
    "rounds_to_win=int((n_rounds+1)/2)"
   ]
  },
  {
   "cell_type": "markdown",
   "metadata": {},
   "source": [
    "#### 5. Create two variables to store the number of rounds that the computer and the player have won. Call these variables `cpu_score` and `player_score`."
   ]
  },
  {
   "cell_type": "code",
   "execution_count": 5,
   "metadata": {},
   "outputs": [],
   "source": [
    "cpu_score=0\n",
    "player=score=0"
   ]
  },
  {
   "cell_type": "markdown",
   "metadata": {},
   "source": [
    "#### 6. Define a function that randomly returns one of the 3 gesture options.\n",
    "You will use this function to simulate the gesture choice of the computer. "
   ]
  },
  {
   "cell_type": "code",
   "execution_count": 6,
   "metadata": {},
   "outputs": [],
   "source": [
    "def gesture_cpu():\n",
    "    return random.choice(gestures)"
   ]
  },
  {
   "cell_type": "markdown",
   "metadata": {},
   "source": [
    "#### 7. Define a function that asks the player which is the gesture he or she wants to show: 'rock', 'paper' or 'scissors'.\n",
    "The player should only be allowed to choose one of the 3 gesture options. If the player's choice is not rock, paper or scissors, keep asking until it is."
   ]
  },
  {
   "cell_type": "code",
   "execution_count": 38,
   "metadata": {},
   "outputs": [],
   "source": [
    "def gesture_player():\n",
    "    gest=input('Please select your gesture')\n",
    "    while gest not in gestures:\n",
    "        print('\\nOnly available gestures are:',gestures)\n",
    "        gest=input('Please select your gesture')\n",
    "    return gest"
   ]
  },
  {
   "cell_type": "markdown",
   "metadata": {},
   "source": [
    "#### 8. Define a function that checks who won a round. \n",
    "The function should return 0 if there is a tie, 1 if the computer wins and 2 if the player wins."
   ]
  },
  {
   "cell_type": "code",
   "execution_count": 39,
   "metadata": {},
   "outputs": [],
   "source": [
    "def won_round(play,cpu):\n",
    "    if play==cpu:\n",
    "        return 0\n",
    "    elif play=='rock':\n",
    "        if cpu=='paper':\n",
    "            return 1\n",
    "        else:\n",
    "            return 2\n",
    "    elif play=='paper':\n",
    "        if cpu=='scissors':\n",
    "            return 1\n",
    "        else:\n",
    "            return 2\n",
    "    else:\n",
    "        if cpu=='rock':\n",
    "            return 1\n",
    "        else:\n",
    "            return 2"
   ]
  },
  {
   "cell_type": "markdown",
   "metadata": {},
   "source": [
    "#### 9. Define a function that prints the choice of the computer, the choice of the player and a message that announces who won the current round. \n",
    "You should also use this function to update the variables that count the number of rounds that the computer and the player have won. The score of the winner increases by one point. If there is a tie, the score does not increase."
   ]
  },
  {
   "cell_type": "code",
   "execution_count": 40,
   "metadata": {},
   "outputs": [],
   "source": [
    "def result(play,cpu):\n",
    "    if won_round(play,cpu)==0:\n",
    "        print(\"Player chose:\",play,\"Computer chose:\",cpu,\"\\nIts a tie\\n\")\n",
    "    elif won_round(play,cpu)==1:\n",
    "        print(\"Player chose:\",play,\"Computer chose:\",cpu,\"\\nComputer wins the round\\n\")\n",
    "    else:\n",
    "        print(\"Player chose:\",play,\"Computer chose:\",cpu,\"\\nPlayer wins the round\\n\")"
   ]
  },
  {
   "cell_type": "markdown",
   "metadata": {},
   "source": [
    "#### 10. Now it's time to code the execution of the game using the functions and variables you defined above. \n",
    "\n",
    "First, create a loop structure that repeats while no player reaches the minimum score necessary to win and the number of rounds is less than the maximum number of rounds to play in a game.  \n",
    "\n",
    "Inside the loop, use the functions and variables above to create the execution of a round: ask for the player's choice, generate the random choice of the computer, show the round results, update the scores, etc. "
   ]
  },
  {
   "cell_type": "code",
   "execution_count": 46,
   "metadata": {},
   "outputs": [],
   "source": [
    "def play():\n",
    "    total_rounds=0\n",
    "    n_rounds=0\n",
    "    cpu_score=0\n",
    "    player_score=0\n",
    "    while n_rounds%2==0:\n",
    "        n_rounds=int(input('Please select and odd number of rounds (max 13)'))\n",
    "        if n_rounds > 13:\n",
    "            n_rounds=0\n",
    "    rounds_to_win=int((n_rounds+1)/2)\n",
    "    while (rounds_to_win>cpu_score) & (rounds_to_win>player_score) & (total_rounds<n_rounds):\n",
    "        gp=gesture_player()\n",
    "        gc=gesture_cpu()\n",
    "        if won_round(gp,gc)==1:\n",
    "            cpu_score+=1\n",
    "        elif won_round(gp,gc)==2:\n",
    "            player_score+=1\n",
    "        total_rounds+=1\n",
    "        print(\"\\nRound\",total_rounds)\n",
    "        result(gp,gc)\n",
    "    if total_rounds==n_rounds:\n",
    "        print('\\nLimit of rounds reached\\n')\n",
    "    else:\n",
    "        print('\\nNow comback is imposible\\n')\n",
    "    if cpu_score>player_score:\n",
    "        print('Computer won! :D')\n",
    "    elif cpu_score<player_score:\n",
    "        print('You win >:(')\n",
    "    else:\n",
    "        print('Its a tie, TIEBREAKER')\n",
    "        while cpu_score==player_score:\n",
    "            gp=gesture_player()\n",
    "            gc=gesture_cpu()\n",
    "            result(gp,gc)\n",
    "            if won_round(gp,gc)==1:\n",
    "                cpu_score+=1\n",
    "                print('\\nComputer won! :D')\n",
    "            elif won_round(gp,gc)==2:\n",
    "                player_score+=1\n",
    "                print('\\nYou win >:(')"
   ]
  },
  {
   "cell_type": "markdown",
   "metadata": {},
   "source": [
    "#### 11. Print the winner of the game based on who won more rounds.\n",
    "Remember that the game might be tied. "
   ]
  },
  {
   "cell_type": "code",
   "execution_count": 42,
   "metadata": {},
   "outputs": [
    {
     "name": "stdin",
     "output_type": "stream",
     "text": [
      "Please select and odd number of rounds (max 13) 3\n",
      "Please select your gesture fe\n"
     ]
    },
    {
     "name": "stdout",
     "output_type": "stream",
     "text": [
      "\n",
      "Only available gestures are: ['rock', 'paper', 'scissors']\n"
     ]
    },
    {
     "name": "stdin",
     "output_type": "stream",
     "text": [
      "Please select your gesture rock\n"
     ]
    },
    {
     "name": "stdout",
     "output_type": "stream",
     "text": [
      "\n",
      "Round 1\n",
      "Player chose: rock Computer chose: scissors \n",
      "Player wins the round\n",
      "\n"
     ]
    },
    {
     "name": "stdin",
     "output_type": "stream",
     "text": [
      "Please select your gesture rock\n"
     ]
    },
    {
     "name": "stdout",
     "output_type": "stream",
     "text": [
      "\n",
      "Round 2\n",
      "Player chose: rock Computer chose: scissors \n",
      "Player wins the round\n",
      "\n",
      "\n",
      "Now comback is imposible\n",
      "\n",
      "You win >:(\n"
     ]
    }
   ],
   "source": [
    "play()"
   ]
  },
  {
   "cell_type": "markdown",
   "metadata": {},
   "source": [
    "# Bonus: Rock, Paper, Scissors, Lizard & Spock\n",
    "![](images/rpsls.jpg)\n",
    "\n",
    "In this challenge, you need to improve the previous game by adding two new options. To know more about the rules of the improved version of rock, paper, scissors, check this [link](http://www.samkass.com/theories/RPSSL.html). \n",
    "\n",
    "In addition, you will also need to improve how the game interacts with the player: the number of rounds to play, which must be an odd number, will be requested to the user until a valid number is entered. Define a new function to make that request.\n",
    "\n",
    "**Hint**: Try to reuse the code that you already coded in the previous challenge. If your code is efficient, this bonus will only consist of simple modifications to the original game."
   ]
  },
  {
   "cell_type": "code",
   "execution_count": 14,
   "metadata": {},
   "outputs": [],
   "source": [
    "gestures2=['rock','paper','scissors','lizard','spock']"
   ]
  },
  {
   "cell_type": "code",
   "execution_count": 18,
   "metadata": {},
   "outputs": [],
   "source": [
    "def gesture_cpu2():\n",
    "    return random.choice(gestures2)\n",
    "def gesture_player2():\n",
    "    gest=input('Please select your gesture')\n",
    "    while gest not in gestures2:\n",
    "        print('\\nOnly available gestures are:',gestures2)\n",
    "        gest=input('Please select your gesture')\n",
    "    return gest\n",
    "def won_round2(play,cpu):\n",
    "    if play==cpu:\n",
    "        return 0\n",
    "    elif play=='rock':\n",
    "        if (cpu=='paper')|(cpu=='spock'):\n",
    "            return 1\n",
    "        else:\n",
    "            return 2\n",
    "    elif play=='paper':\n",
    "        if (cpu=='scissors')|(cpu=='lizard'):\n",
    "            return 1\n",
    "        else:\n",
    "            return 2\n",
    "    elif play=='lizard':\n",
    "        if(cpu=='rock')|(cpu=='scissors'):\n",
    "            return 1\n",
    "        else:\n",
    "            return 2\n",
    "    elif play=='spock':\n",
    "        if(cpu=='lizard')|(cpu=='paper'):\n",
    "            return 1\n",
    "        else:\n",
    "            return 2\n",
    "    else:\n",
    "        if (cpu=='rock')|(cpu=='spock'):\n",
    "            return 1\n",
    "        else:\n",
    "            return 2"
   ]
  },
  {
   "cell_type": "code",
   "execution_count": 47,
   "metadata": {},
   "outputs": [],
   "source": [
    "def play_2():\n",
    "    total_rounds=0\n",
    "    n_rounds=0\n",
    "    cpu_score=0\n",
    "    player_score=0\n",
    "    while n_rounds%2==0:\n",
    "        n_rounds=int(input('Please select and odd number of rounds (max 13)'))\n",
    "        if n_rounds > 13:\n",
    "            n_rounds=0\n",
    "    rounds_to_win=int((n_rounds+1)/2)\n",
    "    while (rounds_to_win>cpu_score) & (rounds_to_win>player_score) & (total_rounds<n_rounds):\n",
    "        gp=gesture_player2()\n",
    "        gc=gesture_cpu2()\n",
    "        if won_round2(gp,gc)==1:\n",
    "            cpu_score+=1\n",
    "        elif won_round2(gp,gc)==2:\n",
    "            player_score+=1\n",
    "        total_rounds+=1\n",
    "        print(\"\\nRound\",total_rounds)\n",
    "        result(gp,gc)\n",
    "    if total_rounds==n_rounds:\n",
    "        print('\\nLimit of rounds reached\\n')\n",
    "    else:\n",
    "        print('\\nNow comback is imposible\\n')\n",
    "    if cpu_score>player_score:\n",
    "        print('Computer won! :D')\n",
    "    elif cpu_score<player_score:\n",
    "        print('You win >:(')\n",
    "    else:\n",
    "        print('Its a tie, TIEBREAKER')\n",
    "        while cpu_score==player_score:\n",
    "            gp=gesture_player2()\n",
    "            gc=gesture_cpu2()\n",
    "            result(gp,gc)\n",
    "            if won_round2(gp,gc)==1:\n",
    "                cpu_score+=1\n",
    "                print('\\nComputer won! :D')\n",
    "            elif won_round2(gp,gc)==2:\n",
    "                player_score+=1\n",
    "                print('\\nYou win >:(')"
   ]
  },
  {
   "cell_type": "code",
   "execution_count": 50,
   "metadata": {},
   "outputs": [
    {
     "name": "stdin",
     "output_type": "stream",
     "text": [
      "Please select and odd number of rounds (max 13) 1\n",
      "Please select your gesture rock\n"
     ]
    },
    {
     "name": "stdout",
     "output_type": "stream",
     "text": [
      "\n",
      "Round 1\n",
      "Player chose: rock Computer chose: spock \n",
      "Player wins the round\n",
      "\n",
      "\n",
      "Limit of rounds reached\n",
      "\n",
      "Computer won! :D\n"
     ]
    }
   ],
   "source": [
    "play_2()"
   ]
  }
 ],
 "metadata": {
  "kernelspec": {
   "display_name": "Python 3",
   "language": "python",
   "name": "python3"
  },
  "language_info": {
   "codemirror_mode": {
    "name": "ipython",
    "version": 3
   },
   "file_extension": ".py",
   "mimetype": "text/x-python",
   "name": "python",
   "nbconvert_exporter": "python",
   "pygments_lexer": "ipython3",
   "version": "3.7.3"
  }
 },
 "nbformat": 4,
 "nbformat_minor": 4
}
