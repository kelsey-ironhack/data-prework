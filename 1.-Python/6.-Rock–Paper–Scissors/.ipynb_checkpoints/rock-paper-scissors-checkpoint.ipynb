{
 "cells": [
  {
   "cell_type": "markdown",
   "metadata": {},
   "source": [
    "<img src=\"https://bit.ly/2VnXWr2\" width=\"100\" align=\"left\">"
   ]
  },
  {
   "cell_type": "markdown",
   "metadata": {},
   "source": [
    "# Rock, Paper & Scissors\n",
    "\n",
    "Let's play the famous game against our computer. You can check the rules [here](https://en.wikipedia.org/wiki/Rock%E2%80%93paper%E2%80%93scissors). \n",
    "\n",
    "## Task\n",
    "Create a program that imitates the playability of the well known game of rock, paper, scissors. Follow the guidelines provided.\n",
    "\n",
    "## Tools\n",
    "1. Loop: **for/while**\n",
    "2. Functions: **input(), print()...**\n",
    "3. Conditional statements: **if, elif, else**\n",
    "4. Definition of functions. Modular programming\n",
    "5. Import modules\n",
    "\n",
    "**To solve this challenge, the use of functions is recommended.**\n",
    "\n",
    "#### 1. Import the choice function of the random module."
   ]
  },
  {
   "cell_type": "code",
   "execution_count": 1,
   "metadata": {},
   "outputs": [],
   "source": [
    "import numpy as np\n",
    "import sys"
   ]
  },
  {
   "cell_type": "markdown",
   "metadata": {},
   "source": [
    "#### 2. Create a list that includes the 3 possible gesture options of the game: 'rock', 'paper' or 'scissors'. Store the list in a variable called `gestures`."
   ]
  },
  {
   "cell_type": "code",
   "execution_count": 2,
   "metadata": {},
   "outputs": [],
   "source": [
    "gesture_options = [\"rock\", 'paper', \"scissors\"]"
   ]
  },
  {
   "cell_type": "markdown",
   "metadata": {},
   "source": [
    "#### 3. Create a variable called `n_rounds` to store the maximum number of rounds to play in a game. \n",
    "Remember that the number of rounds must be odd: 1, 3, 5, ..."
   ]
  },
  {
   "cell_type": "code",
   "execution_count": 3,
   "metadata": {},
   "outputs": [],
   "source": [
    "n_rounds = 7"
   ]
  },
  {
   "cell_type": "markdown",
   "metadata": {},
   "source": [
    "#### 4. Create a variable called `rounds_to_win` to store the number of rounds that a player must win to win the game.\n",
    "**Hint**: the value stored in `rounds_to_win` depends on the value of `n_rounds`. "
   ]
  },
  {
   "cell_type": "code",
   "execution_count": 4,
   "metadata": {},
   "outputs": [],
   "source": [
    "rounds_to_win = n_rounds // 2 + 1"
   ]
  },
  {
   "cell_type": "markdown",
   "metadata": {},
   "source": [
    "#### 5. Create two variables to store the number of rounds that the computer and the player have won. Call these variables `cpu_score` and `player_score`."
   ]
  },
  {
   "cell_type": "code",
   "execution_count": 5,
   "metadata": {},
   "outputs": [],
   "source": [
    "cpu_score = 0\n",
    "player_score = 0"
   ]
  },
  {
   "cell_type": "markdown",
   "metadata": {},
   "source": [
    "#### 6. Define a function that randomly returns one of the 3 gesture options.\n",
    "You will use this function to simulate the gesture choice of the computer. "
   ]
  },
  {
   "cell_type": "code",
   "execution_count": 6,
   "metadata": {},
   "outputs": [],
   "source": [
    "def gesture_cpu(gesture_options):\n",
    "    return np.random.choice(gesture_options)"
   ]
  },
  {
   "cell_type": "markdown",
   "metadata": {},
   "source": [
    "#### 7. Define a function that asks the player which is the gesture he or she wants to show: 'rock', 'paper' or 'scissors'.\n",
    "The player should only be allowed to choose one of the 3 gesture options. If the player's choice is not rock, paper or scissors, keep asking until it is."
   ]
  },
  {
   "cell_type": "code",
   "execution_count": 7,
   "metadata": {},
   "outputs": [],
   "source": [
    "def gesture_player(gesture_options):\n",
    "    choise_input = None\n",
    "    gesture_string = '\\n Choise your gesture ' + str(gesture_options) + ': '\n",
    "            \n",
    "    while choise_input not in gesture_options:\n",
    "        if choise_input == None:\n",
    "            choise_input = str(input(gesture_string))\n",
    "            choise_input = choise_input.lower().strip()\n",
    "        else:\n",
    "            print ('Ops, your option is invalid!')\n",
    "            choise_input = None \n",
    "            \n",
    "    return choise_input\n",
    "    "
   ]
  },
  {
   "cell_type": "markdown",
   "metadata": {},
   "source": [
    "#### 8. Define a function that checks who won a round. \n",
    "The function should return 0 if there is a tie, 1 if the computer wins and 2 if the player wins."
   ]
  },
  {
   "cell_type": "code",
   "execution_count": 8,
   "metadata": {},
   "outputs": [],
   "source": [
    "def check_win(choise_input, choise_cpu):\n",
    "    \n",
    "    ip_in = 0\n",
    "    who_win = None\n",
    "    why_win = None\n",
    "        \n",
    "    if choise_cpu == choise_input:\n",
    "        ip_in = 0   #tie\n",
    "        \n",
    "    else:\n",
    "        why_win, who_win = reason(choise_input, choise_cpu)\n",
    "        if who_win == choise_cpu:\n",
    "            ip_in = 1\n",
    "        else:\n",
    "            ip_in = 2\n",
    "           \n",
    "    return ip_in, why_win\n",
    "   "
   ]
  },
  {
   "cell_type": "code",
   "execution_count": 9,
   "metadata": {},
   "outputs": [],
   "source": [
    "## Scissors cuts paper    ## Paper covers rock            ## Rock crushes lizard   \n",
    "##Lizard poisons Spock    ##Spock smashes scissors        ##Scissors decapitates lizard   \n",
    "##Lizard eats paper       Paper disproves Spock.          ##Spock vaporizes rock. \n",
    "##Rock crushes scissors.\n",
    "\n",
    "def reason(choise_input, choise_cpu):\n",
    "    str_message = None\n",
    "    str_win = None\n",
    "    \n",
    "# reason ==> index = choises  \n",
    "#        ==> result = msg, winned\n",
    "#        ==> 10 pairs from 5 elements, combined 2 to 2, without repetition\n",
    "\n",
    "    reason = {\"scissors paper\": [\"Scissors cuts paper\", \"scissors\"],    \n",
    "              \"paper rock\": [\"Paper covers rock\", \"paper\"],\n",
    "              \"rock lizard\": [\"Rock crushes lizard\", \"rock\"],\n",
    "              \"lizard spock\": [\"Lizard poisons Spock\", \"lizard\"],\n",
    "              \"spock scissors\": [\"Spock smashes scissors\", \"spock\"],\n",
    "              \"scissors lizard\": [\"Scissors decapitates lizard\", \"scissors\"],\n",
    "              \"lizard paper\": [\"Lizard eats paper\", \"lizard\"],\n",
    "              \"paper spock\": [\"Paper disproves Spock\", \"paper\"],\n",
    "              \"spock rock\": [\"Spock vaporizes rock\", \"spock\"],\n",
    "              \"rock scissors\": [\"Rock crushes scissors\", \"rock\"]\n",
    "            }\n",
    "    \n",
    "    dict_index = choise_input + \" \" + choise_cpu\n",
    "    \n",
    "    if dict_index in reason:\n",
    "        str_message = reason[dict_index][0]\n",
    "        str_win = reason[dict_index][1]\n",
    "    else:        \n",
    "        dict_index = choise_cpu + \" \" + choise_input\n",
    "        if dict_index in reason:\n",
    "            str_message = reason[dict_index][0]\n",
    "            str_win = reason[dict_index][1]\n",
    "        \n",
    "    return str_message, str_win       \n"
   ]
  },
  {
   "cell_type": "markdown",
   "metadata": {},
   "source": [
    "#### 9. Define a function that prints the choice of the computer, the choice of the player and a message that announces who won the current round. \n",
    "You should also use this function to update the variables that count the number of rounds that the computer and the player have won. The score of the winner increases by one point. If there is a tie, the score does not increase."
   ]
  },
  {
   "cell_type": "code",
   "execution_count": 10,
   "metadata": {},
   "outputs": [],
   "source": [
    "def winner_print(gesture_input, gesture_ip, winner, tot_player_win, tot_cpu_win, why):\n",
    "    \n",
    "    print ('\\n Your choise was \"%s\" and Computer choise \"%s\"' %(gesture_input, gesture_ip)) \n",
    "        \n",
    "    if winner == 0:\n",
    "        print ('The winner tie - nobody win!')\n",
    "    elif winner == 1:\n",
    "        print (why, ' - The winner was: \"the Machine\"' )\n",
    "        tot_cpu_win += 1\n",
    "    else:\n",
    "        print (why, ' - The winner was: \"YOU - the player\"' )\n",
    "        tot_player_win +=1\n",
    "        \n",
    "    return tot_player_win, tot_cpu_win\n",
    "        \n",
    "    "
   ]
  },
  {
   "cell_type": "markdown",
   "metadata": {},
   "source": [
    "#### 10. Now it's time to code the execution of the game using the functions and variables you defined above. \n",
    "\n",
    "First, create a loop structure that repeats while no player reaches the minimum score necessary to win and the number of rounds is less than the maximum number of rounds to play in a game.  \n",
    "\n",
    "Inside the loop, use the functions and variables above to create the execution of a round: ask for the player's choice, generate the random choice of the computer, show the round results, update the scores, etc. "
   ]
  },
  {
   "cell_type": "code",
   "execution_count": 11,
   "metadata": {},
   "outputs": [
    {
     "name": "stdout",
     "output_type": "stream",
     "text": [
      "\n",
      " ------------ Round 1 ---------\n",
      "\n",
      " Choise your gesture ['rock', 'paper', 'scissors']: rock\n",
      "\n",
      " Your choise was \"rock\" and Computer choise \"paper\"\n",
      "Paper covers rock  - The winner was: \"the Machine\"\n",
      "\n",
      " ------------ Round 2 ---------\n",
      "\n",
      " Choise your gesture ['rock', 'paper', 'scissors']: rock\n",
      "\n",
      " Your choise was \"rock\" and Computer choise \"scissors\"\n",
      "Rock crushes scissors  - The winner was: \"YOU - the player\"\n",
      "\n",
      " ------------ Round 3 ---------\n",
      "\n",
      " Choise your gesture ['rock', 'paper', 'scissors']: rock\n",
      "\n",
      " Your choise was \"rock\" and Computer choise \"paper\"\n",
      "Paper covers rock  - The winner was: \"the Machine\"\n",
      "\n",
      " ------------ Round 4 ---------\n",
      "\n",
      " Choise your gesture ['rock', 'paper', 'scissors']: rock\n",
      "\n",
      " Your choise was \"rock\" and Computer choise \"rock\"\n",
      "The winner tie - nobody win!\n",
      "\n",
      " ------------ Round 5 ---------\n",
      "\n",
      " Choise your gesture ['rock', 'paper', 'scissors']: rock\n",
      "\n",
      " Your choise was \"rock\" and Computer choise \"scissors\"\n",
      "Rock crushes scissors  - The winner was: \"YOU - the player\"\n"
     ]
    }
   ],
   "source": [
    "n_rounds = 5\n",
    "rounds_to_win = n_rounds // 2 + 1\n",
    "count_rounds = 1\n",
    "cpu_score = 0\n",
    "player_score = 0\n",
    "gesture_options = [\"rock\", 'paper', \"scissors\"]\n",
    "\n",
    "while (cpu_score < rounds_to_win) and (player_score < rounds_to_win) and (count_rounds <= n_rounds):\n",
    "        print (\"\\n ------------ Round %i ---------\" %(count_rounds))\n",
    "        cpu_gesture = gesture_cpu(gesture_options)\n",
    "        player_gesture = gesture_player(gesture_options)\n",
    "        winner, why_msg = check_win(player_gesture, cpu_gesture)\n",
    "        player_score, cpu_score = winner_print(player_gesture, cpu_gesture, winner, player_score, cpu_score,\n",
    "                                              why_msg)\n",
    "        count_rounds += 1\n",
    "     \n"
   ]
  },
  {
   "cell_type": "markdown",
   "metadata": {},
   "source": [
    "#### 11. Print the winner of the game based on who won more rounds.\n",
    "Remember that the game might be tied. "
   ]
  },
  {
   "cell_type": "code",
   "execution_count": 14,
   "metadata": {},
   "outputs": [
    {
     "name": "stdout",
     "output_type": "stream",
     "text": [
      "\n",
      " ---------------------------------------------------\n",
      "\n",
      " ====>  The win is TIE! Nobody wins the game\n"
     ]
    }
   ],
   "source": [
    "def end_game(player_score, cpu_score):\n",
    "    if player_score == cpu_score:\n",
    "        print (\"\\n ====>  The win is TIE! Nobody wins the game\")\n",
    "    elif player_score > cpu_score:\n",
    "        print (\"\\n ====> The player wins the game!\")\n",
    "    else:\n",
    "        print (\"\\n ====> The Machine wins the game! <====\")\n",
    "        \n",
    "print (\"\\n ---------------------------------------------------\")\n",
    "        \n",
    "end_game(player_score, cpu_score)\n",
    "    "
   ]
  },
  {
   "cell_type": "code",
   "execution_count": 13,
   "metadata": {},
   "outputs": [
    {
     "name": "stdout",
     "output_type": "stream",
     "text": [
      "Do you want to continue?:n\n",
      "ok, sayonnara\n"
     ]
    },
    {
     "ename": "SystemExit",
     "evalue": "",
     "output_type": "error",
     "traceback": [
      "An exception has occurred, use %tb to see the full traceback.\n",
      "\u001b[0;31mSystemExit\u001b[0m\n"
     ]
    },
    {
     "name": "stderr",
     "output_type": "stream",
     "text": [
      "/usr/lib/python3/dist-packages/IPython/core/interactiveshell.py:3339: UserWarning: To exit: use 'exit', 'quit', or Ctrl-D.\n",
      "  warn(\"To exit: use 'exit', 'quit', or Ctrl-D.\", stacklevel=1)\n"
     ]
    }
   ],
   "source": [
    "while True:\n",
    "    answer = input('Do you want to continue?:')\n",
    "    if answer.lower().startswith(\"n\"):\n",
    "        print(\"ok, sayonnara\")\n",
    "        sys.exit()\n",
    "    else:\n",
    "        break"
   ]
  },
  {
   "cell_type": "markdown",
   "metadata": {},
   "source": [
    "# Bonus: Rock, Paper, Scissors, Lizard & Spock\n",
    "![](images/rpsls.jpg)\n",
    "\n",
    "In this challenge, you need to improve the previous game by adding two new options. To know more about the rules of the improved version of rock, paper, scissors, check this [link](http://www.samkass.com/theories/RPSSL.html). \n",
    "\n",
    "In addition, you will also need to improve how the game interacts with the player: the number of rounds to play, which must be an odd number, will be requested to the user until a valid number is entered. Define a new function to make that request.\n",
    "\n",
    "**Hint**: Try to reuse the code that you already coded in the previous challenge. If your code is efficient, this bonus will only consist of simple modifications to the original game."
   ]
  },
  {
   "cell_type": "code",
   "execution_count": null,
   "metadata": {},
   "outputs": [],
   "source": [
    "def rounds():\n",
    "\n",
    "    while True:\n",
    "        try:\n",
    "            tot_round = int(input(\"Please enter a odd number: \"))\n",
    "            if tot_round == 0 or ((tot_round % 2) == 0):\n",
    "                print(\"Oops!  That was no valid number.  Try again...\") \n",
    "            else:\n",
    "                break\n",
    "        except:\n",
    "            print(\"Oops!  That was no valid number.  Try again...\")\n",
    "    \n",
    "    tot_win = tot_round // 2 + 1\n",
    "    return tot_round, tot_win\n",
    "                  "
   ]
  },
  {
   "cell_type": "code",
   "execution_count": null,
   "metadata": {},
   "outputs": [],
   "source": [
    "#n_rounds = 5\n",
    "#rounds_to_win = 3\n",
    "\n",
    "n_rounds, rounds_to_win = rounds()\n",
    "\n",
    "count_rounds = 1\n",
    "cpu_score = 0\n",
    "player_score = 0\n",
    "gesture_options = [\"rock\", 'paper', \"scissors\", \"lizard\", \"spock\"]\n",
    "\n",
    "while (cpu_score < rounds_to_win) and (player_score < rounds_to_win) and (count_rounds <= n_rounds):\n",
    "        print (\"\\n ------------ Round %i ---------\" %(count_rounds))\n",
    "        cpu_gesture = gesture_cpu(gesture_options)\n",
    "        player_gesture = gesture_player(gesture_options)\n",
    "        winner, why_msg = check_win(player_gesture, cpu_gesture)\n",
    "        player_score, cpu_score = winner_print(player_gesture, cpu_gesture, winner, player_score, cpu_score,\n",
    "                                              why_msg)\n",
    "        count_rounds += 1\n",
    "        \n",
    "print (\"\\n ---------------------------------------------------\")\n",
    "        \n",
    "end_game(player_score, cpu_score)"
   ]
  }
 ],
 "metadata": {
  "kernelspec": {
   "display_name": "Python 3",
   "language": "python",
   "name": "python3"
  },
  "language_info": {
   "codemirror_mode": {
    "name": "ipython",
    "version": 3
   },
   "file_extension": ".py",
   "mimetype": "text/x-python",
   "name": "python",
   "nbconvert_exporter": "python",
   "pygments_lexer": "ipython3",
   "version": "3.8.5"
  }
 },
 "nbformat": 4,
 "nbformat_minor": 2
}
