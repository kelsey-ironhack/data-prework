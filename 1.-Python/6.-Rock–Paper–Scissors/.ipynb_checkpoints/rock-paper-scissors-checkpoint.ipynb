{
 "cells": [
  {
   "cell_type": "markdown",
   "metadata": {},
   "source": [
    "<img src=\"https://bit.ly/2VnXWr2\" width=\"100\" align=\"left\">"
   ]
  },
  {
   "cell_type": "markdown",
   "metadata": {},
   "source": [
    "# Rock, Paper & Scissors\n",
    "\n",
    "Let's play the famous game against our computer. You can check the rules [here](https://en.wikipedia.org/wiki/Rock%E2%80%93paper%E2%80%93scissors). \n",
    "\n",
    "## Task\n",
    "Create a program that imitates the playability of the well known game of rock, paper, scissors. Follow the guidelines provided.\n",
    "\n",
    "## Tools\n",
    "1. Loop: **for/while**\n",
    "2. Functions: **input(), print()...**\n",
    "3. Conditional statements: **if, elif, else**\n",
    "4. Definition of functions. Modular programming\n",
    "5. Import modules\n",
    "\n",
    "**To solve this challenge, the use of functions is recommended.**\n",
    "\n",
    "#### 1. Import the choice function of the random module."
   ]
  },
  {
   "cell_type": "code",
   "execution_count": 71,
   "metadata": {},
   "outputs": [],
   "source": [
    "from random import choice"
   ]
  },
  {
   "cell_type": "markdown",
   "metadata": {},
   "source": [
    "#### 2. Create a list that includes the 3 possible gesture options of the game: 'rock', 'paper' or 'scissors'. Store the list in a variable called `gestures`."
   ]
  },
  {
   "cell_type": "code",
   "execution_count": 72,
   "metadata": {},
   "outputs": [],
   "source": [
    "gestures = [\"rock\", \"paper\", \"scissors\"]"
   ]
  },
  {
   "cell_type": "markdown",
   "metadata": {},
   "source": [
    "#### 3. Create a variable called `n_rounds` to store the maximum number of rounds to play in a game. \n",
    "Remember that the number of rounds must be odd: 1, 3, 5, ..."
   ]
  },
  {
   "cell_type": "code",
   "execution_count": 73,
   "metadata": {},
   "outputs": [
    {
     "name": "stdout",
     "output_type": "stream",
     "text": [
      "How many rounds would you like to play (must be an odd number)5\n"
     ]
    }
   ],
   "source": [
    "while True:\n",
    "    try: \n",
    "        n_rounds = int(input(\"How many rounds would you like to play (must be an odd number)\"))\n",
    "        if n_rounds % 2 == 0:\n",
    "            raise Exception()\n",
    "        break\n",
    "    except ValueError:\n",
    "        print(\"Try again - enter odd number in numerals\")\n",
    "    except Exception:\n",
    "        print(\"Needs to be an odd number: 1,3,5.. etc\")"
   ]
  },
  {
   "cell_type": "markdown",
   "metadata": {},
   "source": [
    "#### 4. Create a variable called `rounds_to_win` to store the number of rounds that a player must win to win the game.\n",
    "**Hint**: the value stored in `rounds_to_win` depends on the value of `n_rounds`. "
   ]
  },
  {
   "cell_type": "code",
   "execution_count": 74,
   "metadata": {},
   "outputs": [],
   "source": [
    "rounds_to_win = int(n_rounds / 2)+1"
   ]
  },
  {
   "cell_type": "markdown",
   "metadata": {},
   "source": [
    "#### 5. Create two variables to store the number of rounds that the computer and the player have won. Call these variables `cpu_score` and `player_score`."
   ]
  },
  {
   "cell_type": "code",
   "execution_count": 101,
   "metadata": {},
   "outputs": [],
   "source": [
    "global cpu_score\n",
    "cpu_score = 0\n",
    "global player_score\n",
    "player_score = 0\n",
    "global ties\n",
    "ties = 0"
   ]
  },
  {
   "cell_type": "markdown",
   "metadata": {},
   "source": [
    "#### 6. Define a function that randomly returns one of the 3 gesture options.\n",
    "You will use this function to simulate the gesture choice of the computer. "
   ]
  },
  {
   "cell_type": "code",
   "execution_count": 98,
   "metadata": {},
   "outputs": [],
   "source": [
    "def computer_choose():\n",
    "    return choice(['rock','paper','scissors'])"
   ]
  },
  {
   "cell_type": "markdown",
   "metadata": {},
   "source": [
    "#### 7. Define a function that asks the player which is the gesture he or she wants to show: 'rock', 'paper' or 'scissors'.\n",
    "The player should only be allowed to choose one of the 3 gesture options. If the player's choice is not rock, paper or scissors, keep asking until it is."
   ]
  },
  {
   "cell_type": "code",
   "execution_count": 85,
   "metadata": {},
   "outputs": [],
   "source": [
    "def player_choose():\n",
    "    while True:\n",
    "        try: \n",
    "            player_choice = str(input(\"Pick Rock(r), Paper(p) or Scissors(s):\"))\n",
    "            player_choice = player_choice.lower()\n",
    "            if player_choice == 'r': \n",
    "                player_choice = \"rock\"\n",
    "            elif player_choice == 'p': \n",
    "                player_choice = 'paper'\n",
    "            elif player_choice == 's': \n",
    "                player_choice = 'scissors'\n",
    "            if player_choice not in gestures:\n",
    "                print(player_choice, \" is not in \", gestures)\n",
    "                raise Exception()\n",
    "            break\n",
    "        except Exception:\n",
    "            print(\"You chose:\",player_choice, \". Please enter one of the options - you can use the single letter keys too \")\n",
    "    return player_choice"
   ]
  },
  {
   "cell_type": "markdown",
   "metadata": {},
   "source": [
    "#### 8. Define a function that checks who won a round. \n",
    "The function should return 0 if there is a tie, 1 if the computer wins and 2 if the player wins."
   ]
  },
  {
   "cell_type": "code",
   "execution_count": 103,
   "metadata": {},
   "outputs": [],
   "source": [
    "def who_won(computer_go, player_go):\n",
    "    if computer_go == player_go:\n",
    "        return 0\n",
    "    elif (computer_go == 'rock' and player_go == 'scissors') or (computer_go == 'scissors' and player_go == 'paper') or (computer_go == 'paper' and player_go == 'rock'):\n",
    "        return 1\n",
    "    else:\n",
    "        return 2\n",
    "        "
   ]
  },
  {
   "cell_type": "markdown",
   "metadata": {},
   "source": [
    "#### 9. Define a function that prints the choice of the computer, the choice of the player and a message that announces who won the current round. \n",
    "You should also use this function to update the variables that count the number of rounds that the computer and the player have won. The score of the winner increases by one point. If there is a tie, the score does not increase."
   ]
  },
  {
   "cell_type": "code",
   "execution_count": 102,
   "metadata": {},
   "outputs": [],
   "source": [
    "def game_round():\n",
    "    global player_score\n",
    "    global cpu_score\n",
    "    global ties\n",
    "    player_pick = player_choose()\n",
    "    computer_pick = computer_choose()\n",
    "    winner = who_won(computer_pick,player_pick)\n",
    "    \n",
    "    if winner == 0:\n",
    "        print(\"It is a tie! You both selected \", player_pick)\n",
    "        ties += 1\n",
    "    elif winner == 1:        \n",
    "        print(computer_pick, \" beats\", player_pick, \" - computer takes the round!\")\n",
    "        cpu_score += 1\n",
    "    elif winner == 2:\n",
    "        print(player_pick, \" beats\", computer_pick, \" - you win this round!\")\n",
    "        player_score += 1\n",
    "\n",
    "    "
   ]
  },
  {
   "cell_type": "markdown",
   "metadata": {},
   "source": [
    "#### 10. Now it's time to code the execution of the game using the functions and variables you defined above. \n",
    "\n",
    "First, create a loop structure that repeats while no player reaches the minimum score necessary to win and the number of rounds is less than the maximum number of rounds to play in a game.  \n",
    "\n",
    "Inside the loop, use the functions and variables above to create the execution of a round: ask for the player's choice, generate the random choice of the computer, show the round results, update the scores, etc. "
   ]
  },
  {
   "cell_type": "code",
   "execution_count": 104,
   "metadata": {},
   "outputs": [
    {
     "name": "stdout",
     "output_type": "stream",
     "text": [
      "Pick Rock(r), Paper(p) or Scissors(s):s\n",
      "scissors  beats paper  - you win this round!\n",
      "Pick Rock(r), Paper(p) or Scissors(s):s\n",
      "scissors  beats paper  - you win this round!\n",
      "Pick Rock(r), Paper(p) or Scissors(s):s\n",
      "rock  beats scissors  - computer takes the round!\n",
      "Pick Rock(r), Paper(p) or Scissors(s):p\n",
      "paper  beats rock  - you win this round!\n"
     ]
    }
   ],
   "source": [
    "rounds = 0\n",
    "\n",
    "\n",
    "while rounds <= n_rounds and cpu_score < rounds_to_win and player_score < rounds_to_win:\n",
    "    game_round()\n",
    "    rounds+=1"
   ]
  },
  {
   "cell_type": "markdown",
   "metadata": {},
   "source": [
    "#### 11. Print the winner of the game based on who won more rounds.\n",
    "Remember that the game might be tied. "
   ]
  },
  {
   "cell_type": "code",
   "execution_count": 105,
   "metadata": {},
   "outputs": [
    {
     "name": "stdout",
     "output_type": "stream",
     "text": [
      "Player_wins: 3\n",
      "Computer_wins: 1\n",
      "Ties: 0\n",
      "You win the game!\n"
     ]
    }
   ],
   "source": [
    "print(\"Player_wins:\", player_score)\n",
    "print(\"Computer_wins:\", cpu_score)\n",
    "print(\"Ties:\", ties)\n",
    "\n",
    "if player_score > cpu_score:\n",
    "    print(\"You win the game!\")\n",
    "elif player_score < cpu_score:\n",
    "    print(\"Computer won this game!\")\n",
    "else:\n",
    "    print(\"The game is a Tie!\")"
   ]
  },
  {
   "cell_type": "markdown",
   "metadata": {},
   "source": [
    "# Bonus: Rock, Paper, Scissors, Lizard & Spock\n",
    "![](images/rpsls.jpg)\n",
    "\n",
    "In this challenge, you need to improve the previous game by adding two new options. To know more about the rules of the improved version of rock, paper, scissors, check this [link](http://www.samkass.com/theories/RPSSL.html). \n",
    "\n",
    "In addition, you will also need to improve how the game interacts with the player: the number of rounds to play, which must be an odd number, will be requested to the user until a valid number is entered. Define a new function to make that request.\n",
    "\n",
    "**Hint**: Try to reuse the code that you already coded in the previous challenge. If your code is efficient, this bonus will only consist of simple modifications to the original game."
   ]
  },
  {
   "cell_type": "code",
   "execution_count": 117,
   "metadata": {},
   "outputs": [
    {
     "name": "stdout",
     "output_type": "stream",
     "text": [
      "How many rounds would you like to play (must be an odd number)3\n",
      "Pick Rock(r), Paper(p), Scissors(s), Lizard(l) or Spock(v):v\n",
      "<< spock >> beats << rock >> - you win this round!\n",
      "Pick Rock(r), Paper(p), Scissors(s), Lizard(l) or Spock(v):p\n",
      "<< scissors >> beats << paper >> - computer takes the round!\n",
      "Pick Rock(r), Paper(p), Scissors(s), Lizard(l) or Spock(v):l\n",
      "<< lizard >> beats << spock >> - you win this round!\n",
      "Player_wins: 2\n",
      "Computer_wins: 1\n",
      "Ties: 0\n",
      "You win the game!\n",
      "Play again? y/nn\n",
      "Farewell!\n"
     ]
    }
   ],
   "source": [
    "from random import choice\n",
    "from time import sleep\n",
    "\n",
    "gestures = [\"rock\", \"paper\", \"scissors\", \"lizard\", \"spock\"]\n",
    "global n_rounds\n",
    "global cpu_score\n",
    "global player_score\n",
    "global ties\n",
    "\n",
    "\n",
    "def select_rounds():\n",
    "    global n_rounds\n",
    "    while True:\n",
    "        try: \n",
    "            n_rounds = int(input(\"How many rounds would you like to play (must be an odd number): \"))\n",
    "            if n_rounds % 2 == 0:\n",
    "                raise Exception()\n",
    "            break\n",
    "        except ValueError:\n",
    "            print(\"Try again - enter odd number in numerals\")\n",
    "        except Exception:\n",
    "            print(\"Needs to be an odd number: 1,3,5.. etc\")\n",
    "            \n",
    "\n",
    "def computer_choose():\n",
    "    return choice(['rock','paper','scissors','lizard','spock'])\n",
    "\n",
    "\n",
    "def player_choose():\n",
    "    while True:\n",
    "        try: \n",
    "            player_choice = str(input(\"Pick Rock(r), Paper(p), Scissors(s), Lizard(l) or Spock(v):\"))\n",
    "            player_choice = player_choice.lower()\n",
    "            if player_choice == 'r': \n",
    "                player_choice = \"rock\"\n",
    "            elif player_choice == 'p': \n",
    "                player_choice = 'paper'\n",
    "            elif player_choice == 's': \n",
    "                player_choice = 'scissors'\n",
    "            elif player_choice == 'l': \n",
    "                player_choice = 'lizard'\n",
    "            elif player_choice == 'v': \n",
    "                player_choice = 'spock'\n",
    "            if player_choice not in gestures:\n",
    "                print(player_choice, \" is not in \", gestures)\n",
    "                raise Exception()\n",
    "            break\n",
    "        except Exception:\n",
    "            print(\"You chose:\",player_choice, \". Please enter one of the options - you can use the single letter keys too \")\n",
    "    return player_choice\n",
    "\n",
    "def who_won(computer_go, player_go):\n",
    "    if computer_go == player_go:\n",
    "        return 0\n",
    "    elif (computer_go == 'rock' and (player_go == 'scissors' or player_go == 'lizard')):\n",
    "        return 1\n",
    "    elif (computer_go == 'scissors' and (player_go == 'paper' or player_go == 'lizard' )):\n",
    "        return 1\n",
    "    elif (computer_go == 'paper' and (player_go == 'rock' or player_go == 'spock')):\n",
    "        return 1\n",
    "    elif (computer_go == 'lizard' and (player_go == 'spock' or player_go == 'paper')):\n",
    "        return 1\n",
    "    elif (computer_go == 'spock' and (player_go == 'rock' or player_go == 'scissors')):\n",
    "        return 1\n",
    "    else:\n",
    "        return 2\n",
    "\n",
    "def game_round():\n",
    "    global player_score\n",
    "    global cpu_score\n",
    "    global ties\n",
    "    player_pick = player_choose()\n",
    "    computer_pick = computer_choose()\n",
    "    winner = who_won(computer_pick,player_pick)\n",
    "    \n",
    "    if winner == 0:\n",
    "        print(\"It is a tie! You both selected <<\", player_pick, \">>\")\n",
    "        ties += 1\n",
    "    elif winner == 1:        \n",
    "        print(\"<<\",computer_pick, \">> beats <<\", player_pick, \">> - computer takes the round!\")\n",
    "        cpu_score += 1\n",
    "    elif winner == 2:\n",
    "        print(\"<<\",player_pick, \">> beats <<\", computer_pick, \">> - you win this round!\")\n",
    "        player_score += 1\n",
    "    \n",
    "    sleep(2)\n",
    "\n",
    "continue_play = True\n",
    "\n",
    "while continue_play:\n",
    "\n",
    "    select_rounds()\n",
    "    rounds_to_win = int(n_rounds / 2)+1\n",
    "    rounds = 0\n",
    "    ties = 0\n",
    "    cpu_score = 0\n",
    "    player_score = 0\n",
    "\n",
    "    while rounds <= n_rounds and cpu_score < rounds_to_win and player_score < rounds_to_win:\n",
    "        game_round()\n",
    "        rounds+=1\n",
    "   \n",
    "    print(\"Player_wins:\", player_score)\n",
    "    print(\"Computer_wins:\", cpu_score)\n",
    "    print(\"Ties:\", ties)\n",
    "\n",
    "    if player_score > cpu_score:\n",
    "        print(\"You win the game!\")\n",
    "    elif player_score < cpu_score:\n",
    "        print(\"Computer won this game!\")\n",
    "    else:\n",
    "        print(\"The game is a Tie!\")\n",
    "        \n",
    "    while True:\n",
    "        try: \n",
    "            play = input(\"Play again? (y/n): \")\n",
    "            play = play.lower()\n",
    "            if play != 'y' and play != 'n' :\n",
    "                raise Exception()\n",
    "            break\n",
    "        except ValueError:\n",
    "            print(\"Try again = 'y' or 'n'\")\n",
    "        except Exception:\n",
    "            print(\"Try again = 'y' or 'n'\")\n",
    "            \n",
    "    if play == 'n':\n",
    "        continue_play = False\n",
    "        print(\"Farewell!\")\n",
    "    \n",
    "    "
   ]
  },
  {
   "cell_type": "code",
   "execution_count": null,
   "metadata": {},
   "outputs": [],
   "source": []
  }
 ],
 "metadata": {
  "kernelspec": {
   "display_name": "Python 3",
   "language": "python",
   "name": "python3"
  },
  "language_info": {
   "codemirror_mode": {
    "name": "ipython",
    "version": 3
   },
   "file_extension": ".py",
   "mimetype": "text/x-python",
   "name": "python",
   "nbconvert_exporter": "python",
   "pygments_lexer": "ipython3",
   "version": "3.8.8"
  }
 },
 "nbformat": 4,
 "nbformat_minor": 2
}
