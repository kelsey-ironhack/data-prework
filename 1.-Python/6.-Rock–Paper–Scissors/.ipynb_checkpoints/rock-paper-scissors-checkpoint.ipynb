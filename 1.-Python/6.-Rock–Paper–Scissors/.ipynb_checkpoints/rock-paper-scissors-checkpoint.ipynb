{
 "cells": [
  {
   "cell_type": "markdown",
   "metadata": {},
   "source": [
    "<img src=\"https://bit.ly/2VnXWr2\" width=\"100\" align=\"left\">"
   ]
  },
  {
   "cell_type": "markdown",
   "metadata": {},
   "source": [
    "# Rock, Paper & Scissors\n",
    "\n",
    "Let's play the famous game against our computer. You can check the rules [here](https://en.wikipedia.org/wiki/Rock%E2%80%93paper%E2%80%93scissors). \n",
    "\n",
    "## Task\n",
    "Create a program that imitates the playability of the well known game of rock, paper, scissors. Follow the guidelines provided.\n",
    "\n",
    "## Tools\n",
    "1. Loop: **for/while**\n",
    "2. Functions: **input(), print()...**\n",
    "3. Conditional statements: **if, elif, else**\n",
    "4. Definition of functions. Modular programming\n",
    "5. Import modules\n",
    "\n",
    "**To solve this challenge, the use of functions is recommended.**\n",
    "\n",
    "#### 1. Import the choice function of the random module."
   ]
  },
  {
   "cell_type": "code",
   "execution_count": 54,
   "metadata": {},
   "outputs": [],
   "source": [
    "from random import choice"
   ]
  },
  {
   "cell_type": "markdown",
   "metadata": {},
   "source": [
    "#### 2. Create a list that includes the 3 possible gesture options of the game: 'rock', 'paper' or 'scissors'. Store the list in a variable called `gestures`."
   ]
  },
  {
   "cell_type": "code",
   "execution_count": 55,
   "metadata": {},
   "outputs": [],
   "source": [
    "gestures = ['rock', 'paper', 'scissors']"
   ]
  },
  {
   "cell_type": "markdown",
   "metadata": {},
   "source": [
    "3. Create a variable called `n_rounds` to store the maximum number of rounds to play in a game. \n",
    "Remember that the number of rounds must be odd: 1, 3, 5, ..."
   ]
  },
  {
   "cell_type": "code",
   "execution_count": 56,
   "metadata": {},
   "outputs": [
    {
     "name": "stdout",
     "output_type": "stream",
     "text": [
      "Maximum number of rounds to play in a game: 9\n"
     ]
    }
   ],
   "source": [
    "rounds = list(range(1, 100, 2))\n",
    "n_rounds = choice(rounds)\n",
    "print(\"Maximum number of rounds to play in a game:\", n_rounds)"
   ]
  },
  {
   "cell_type": "markdown",
   "metadata": {},
   "source": [
    "#### 4. Create a variable called `rounds_to_win` to store the number of rounds that a player must win to win the game.\n",
    "**Hint**: the value stored in `rounds_to_win` depends on the value of `n_rounds`. "
   ]
  },
  {
   "cell_type": "code",
   "execution_count": 58,
   "metadata": {
    "scrolled": true
   },
   "outputs": [
    {
     "name": "stdout",
     "output_type": "stream",
     "text": [
      "The number of rounds that a player must win in the game: 3\n"
     ]
    }
   ],
   "source": [
    "rounds_to_win = choice(rounds)\n",
    "while rounds_to_win > n_rounds:\n",
    "    rounds_to_win = choice(rounds)\n",
    "\n",
    "print(\"The number of rounds that a player must win in the game:\", rounds_to_win)"
   ]
  },
  {
   "cell_type": "markdown",
   "metadata": {},
   "source": [
    "#### 5. Create two variables to store the number of rounds that the computer and the player have won. Call these variables `cpu_score` and `player_score`."
   ]
  },
  {
   "cell_type": "code",
   "execution_count": 59,
   "metadata": {},
   "outputs": [],
   "source": [
    "cpu_score = 0\n",
    "player_score = 0"
   ]
  },
  {
   "cell_type": "markdown",
   "metadata": {},
   "source": [
    "#### 6. Define a function that randomly returns one of the 3 gesture options.\n",
    "You will use this function to simulate the gesture choice of the computer. "
   ]
  },
  {
   "cell_type": "code",
   "execution_count": 60,
   "metadata": {},
   "outputs": [],
   "source": [
    "def cpu_gesture():   \n",
    "    return choice(gestures)\n",
    "\n",
    "cpu = cpu_gesture()\n",
    "#print(cpu)"
   ]
  },
  {
   "cell_type": "markdown",
   "metadata": {},
   "source": [
    "7. Define a function that asks the player which is the gesture he or she wants to show: 'rock', 'paper' or 'scissors'.\n",
    "The player should only be allowed to choose one of the 3 gesture options. If the player's choice is not rock, paper or scissors, keep asking until it is."
   ]
  },
  {
   "cell_type": "code",
   "execution_count": 61,
   "metadata": {},
   "outputs": [
    {
     "name": "stdout",
     "output_type": "stream",
     "text": [
      "Your choice:rock\n"
     ]
    }
   ],
   "source": [
    "def player_gesture():\n",
    "    a = str(input(\"Your choice:\"))\n",
    "    while a not in gestures:\n",
    "        print(\"Not valid, try again\")\n",
    "        a = str(input(\"Your choice:\"))\n",
    "    return a\n",
    "        \n",
    "pl = player_gesture()\n",
    "#print(pl)"
   ]
  },
  {
   "cell_type": "markdown",
   "metadata": {},
   "source": [
    "8. Define a function that checks who won a round. \n",
    "The function should return 0 if there is a tie, 1 if the computer wins and 2 if the player wins."
   ]
  },
  {
   "cell_type": "code",
   "execution_count": 62,
   "metadata": {},
   "outputs": [],
   "source": [
    "def winner(cpu, pl):\n",
    "    if cpu == pl:\n",
    "        return 0\n",
    "    elif cpu == 'paper' and pl == 'rock':\n",
    "        return 1\n",
    "    elif cpu == 'paper' and pl == 'scissors':\n",
    "        return 2\n",
    "    elif cpu == 'rock' and pl == 'paper':\n",
    "        return 2\n",
    "    elif cpu == 'rock' and pl == 'scissors':\n",
    "        return 1\n",
    "    elif cpu == 'scissors' and pl == 'paper':\n",
    "        return 1\n",
    "    elif cpu == 'scissors' and pl == 'rock':\n",
    "        return 2\n",
    "\n",
    "#win = winner()\n"
   ]
  },
  {
   "cell_type": "markdown",
   "metadata": {},
   "source": [
    "#### 9. Define a function that prints the choice of the computer, the choice of the player and a message that announces who won the current round. \n",
    "You should also use this function to update the variables that count the number of rounds that the computer and the player have won. The score of the winner increases by one point. If there is a tie, the score does not increase."
   ]
  },
  {
   "cell_type": "code",
   "execution_count": 63,
   "metadata": {},
   "outputs": [],
   "source": [
    "def announcement(cpu, pl):\n",
    "    print(\"Computer:\", cpu, \", against Player:\", pl)\n",
    "    if winner(cpu, pl) == 0:\n",
    "        print(\"Tie\")\n",
    "    elif winner(cpu, pl) == 1:\n",
    "        print(\"Computer wins\")\n",
    "    else:\n",
    "        print(\"Player wins\")\n",
    "    \n",
    "#announcement()"
   ]
  },
  {
   "cell_type": "markdown",
   "metadata": {},
   "source": [
    "#### 10. Now it's time to code the execution of the game using the functions and variables you defined above. \n",
    "\n",
    "First, create a loop structure that repeats while no player reaches the minimum score necessary to win and the number of rounds is less than the maximum number of rounds to play in a game.  \n",
    "\n",
    "Inside the loop, use the functions and variables above to create the execution of a round: ask for the player's choice, generate the random choice of the computer, show the round results, update the scores, etc. "
   ]
  },
  {
   "cell_type": "code",
   "execution_count": 64,
   "metadata": {},
   "outputs": [
    {
     "name": "stdout",
     "output_type": "stream",
     "text": [
      "Round 1\n",
      "Your choice:player\n",
      "Not valid, try again\n",
      "Your choice:paper\n",
      "Computer: rock , against Player: paper\n",
      "Player wins\n",
      "Score: \n",
      " Computer 0 , Player 1\n",
      "Round 2\n",
      "Your choice:rock\n",
      "Computer: paper , against Player: rock\n",
      "Computer wins\n",
      "Score: \n",
      " Computer 1 , Player 1\n",
      "Round 3\n",
      "Your choice:scissors\n",
      "Computer: rock , against Player: scissors\n",
      "Computer wins\n",
      "Score: \n",
      " Computer 2 , Player 1\n",
      "Round 4\n",
      "Your choice:paper\n",
      "Computer: rock , against Player: paper\n",
      "Player wins\n",
      "Score: \n",
      " Computer 2 , Player 2\n",
      "Round 5\n",
      "Your choice:rock\n",
      "Computer: scissors , against Player: rock\n",
      "Player wins\n",
      "Score: \n",
      " Computer 2 , Player 3\n"
     ]
    }
   ],
   "source": [
    "i = 1\n",
    "\n",
    "while i <= n_rounds and cpu_score < rounds_to_win and player_score < rounds_to_win:\n",
    "    print(\"Round\", i)\n",
    "    pll = player_gesture()\n",
    "    cpuu = cpu_gesture()\n",
    "    winner(cpuu, pll)\n",
    "    announcement(cpuu, pll)\n",
    "    if winner(cpuu, pll) == 1:\n",
    "        cpu_score +=1\n",
    "    elif winner(cpuu, pll) == 2:\n",
    "        player_score +=1\n",
    "    else:\n",
    "        cpu_score = cpu_score\n",
    "        player_score = player_score\n",
    "    print(\"Score: \\n Computer\", cpu_score,\", Player\", player_score)\n",
    "    i += 1\n"
   ]
  },
  {
   "cell_type": "markdown",
   "metadata": {},
   "source": [
    "11. Print the winner of the game based on who won more rounds.\n",
    "Remember that the game might be tied. "
   ]
  },
  {
   "cell_type": "code",
   "execution_count": 65,
   "metadata": {},
   "outputs": [
    {
     "name": "stdout",
     "output_type": "stream",
     "text": [
      "Player won more rounds\n"
     ]
    }
   ],
   "source": [
    "if cpu_score > player_score:\n",
    "    print(\"Computer won more rounds\")\n",
    "elif cpu_score < player_score:\n",
    "    print(\"Player won more rounds\")\n",
    "else:\n",
    "    print(\"The game is tied\")\n"
   ]
  },
  {
   "cell_type": "markdown",
   "metadata": {},
   "source": [
    "# Bonus: Rock, Paper, Scissors, Lizard & Spock\n",
    "![](images/rpsls.jpg)\n",
    "\n",
    "In this challenge, you need to improve the previous game by adding two new options. To know more about the rules of the improved version of rock, paper, scissors, check this [link](http://www.samkass.com/theories/RPSSL.html). \n",
    "\n",
    "In addition, you will also need to improve how the game interacts with the player: the number of rounds to play, which must be an odd number, will be requested to the user until a valid number is entered. Define a new function to make that request.\n",
    "\n",
    "**Hint**: Try to reuse the code that you already coded in the previous challenge. If your code is efficient, this bonus will only consist of simple modifications to the original game."
   ]
  },
  {
   "cell_type": "code",
   "execution_count": 73,
   "metadata": {},
   "outputs": [
    {
     "name": "stdout",
     "output_type": "stream",
     "text": [
      "Testing player input\n",
      "Your choice:rock\n",
      "Choose the odd number of rounds to play between 2 and 100:5\n",
      "Not valid, try again\n",
      "Choose the odd number of rounds to play between 2 and 100:6\n",
      "Maximum number of rounds to play in a game: 6\n",
      "The number of rounds that a player must win in the game: 2\n",
      "Round 1\n",
      "Your choice:lizard\n",
      "Computer: spock , against Player: lizard\n",
      "Player wins\n",
      "Score: \n",
      " Computer 0 , Player 1\n",
      "Round 2\n",
      "Your choice:spock\n",
      "Computer: lizard , against Player: spock\n",
      "Computer wins\n",
      "Score: \n",
      " Computer 1 , Player 1\n",
      "Round 3\n",
      "Your choice:rock\n",
      "Computer: paper , against Player: rock\n",
      "Computer wins\n",
      "Score: \n",
      " Computer 2 , Player 1\n",
      "Computer won more rounds\n"
     ]
    }
   ],
   "source": [
    "# Game rock-paper-scissors-lizard-spock\n",
    "\n",
    "from random import choice \n",
    "gestures = ['rock', 'paper', 'scissors', 'lizard', 'spock']\n",
    "\n",
    "cpu_score = 0 \n",
    "player_score = 0\n",
    "\n",
    "def cpu_gesture():\n",
    "    return choice(gestures)\n",
    "\n",
    "def player_gesture(): \n",
    "    a = str(input(\"Your choice:\")) \n",
    "    while a not in gestures: \n",
    "        print(\"Not valid, try again\") \n",
    "        a = str(input(\"Your choice:\")) \n",
    "    return a\n",
    "\n",
    "cpu = cpu_gesture()\n",
    "\n",
    "print(\"Testing player input\")\n",
    "pl = player_gesture()\n",
    "\n",
    "\n",
    "def winner(cpu, pl): \n",
    "    if cpu == pl: \n",
    "        return 0 \n",
    "    elif cpu == 'paper' and pl == 'rock': \n",
    "        return 1 \n",
    "    elif cpu == 'rock' and pl == 'paper': \n",
    "        return 2 \n",
    "    elif cpu == 'paper' and pl == 'scissors': \n",
    "        return 2 \n",
    "    elif cpu == 'scissors' and pl == 'paper': \n",
    "        return 1 \n",
    "    elif cpu == 'paper' and pl == 'spock': \n",
    "        return 1 \n",
    "    elif cpu == 'spock' and pl == 'paper': \n",
    "        return 2 \n",
    "    elif cpu == 'paper' and pl == 'lizard': \n",
    "        return 2 \n",
    "    elif cpu == 'lizard' and pl == 'paper': \n",
    "        return 1 \n",
    "    elif cpu == 'rock' and pl == 'scissors': \n",
    "        return 1 \n",
    "    elif cpu == 'scissors' and pl == 'rock': \n",
    "        return 2 \n",
    "    elif cpu == 'rock' and pl == 'spock': \n",
    "        return 2 \n",
    "    elif cpu == 'spock' and pl == 'rock': \n",
    "        return 1 \n",
    "    elif cpu == 'rock' and pl == 'lizard': \n",
    "        return 1 \n",
    "    elif cpu == 'lizard' and pl == 'rock': \n",
    "        return 2 \n",
    "    elif cpu == 'scissors' and pl == 'spock': \n",
    "        return 2 \n",
    "    elif cpu == 'spock' and pl == 'scissors': \n",
    "        return 1 \n",
    "    elif cpu == 'scissors' and pl == 'lizard': \n",
    "        return 1 \n",
    "    elif cpu == 'lizard' and pl == 'scissors': \n",
    "        return 2 \n",
    "    elif cpu == 'spock' and pl == 'lizard': \n",
    "        return 2 \n",
    "    elif cpu == 'lizard' and pl == 'spock': \n",
    "        return 1\n",
    "\n",
    "\n",
    "def announcement(cpu, pl): \n",
    "    print(\"Computer:\", cpu, \", against Player:\", pl) \n",
    "    if winner(cpu, pl) == 0: \n",
    "        print(\"Tie\") \n",
    "    elif winner(cpu, pl) == 1: \n",
    "        print(\"Computer wins\") \n",
    "    else: print(\"Player wins\")\n",
    "\n",
    "\n",
    "# The number of rounds to play (an odd number) to be requested to the\n",
    "# user until a valid number is entered. Define a new function to make that request.\n",
    "\n",
    "def rounds_to_play(): \n",
    "    n_rounds = int(input(\"Choose the odd number of rounds to play between 2 and 100:\")) \n",
    "    while n_rounds not in list(range(2, 100, 2)): \n",
    "        print(\"Not valid, try again\") \n",
    "        n_rounds = int(input(\"Choose the odd number of rounds to play between 2 and 100:\")) \n",
    "    print(\"Maximum number of rounds to play in a game:\", n_rounds) \n",
    "    return n_rounds\n",
    "\n",
    "r_to_pl = rounds_to_play() \n",
    "\n",
    "def rounds_to_w(): \n",
    "    rounds = list(range(2, 100, 2)) \n",
    "    rounds_to_win = choice(rounds) \n",
    "    while rounds_to_win > r_to_pl: \n",
    "        rounds_to_win = choice(rounds) \n",
    "    print(\"The number of rounds that a player must win in the game:\", rounds_to_win) \n",
    "    return rounds_to_win\n",
    "\n",
    "r_to_w = rounds_to_w()\n",
    "\n",
    "i = 1\n",
    "\n",
    "while i <= r_to_pl and cpu_score < r_to_w and player_score < r_to_w: \n",
    "    print(\"Round\", i) \n",
    "    pll = player_gesture() \n",
    "    cpuu = cpu_gesture() \n",
    "    winner(cpuu, pll) \n",
    "    announcement(cpuu, pll) \n",
    "    if winner(cpuu, pll) == 1: \n",
    "        cpu_score +=1 \n",
    "    elif winner(cpuu, pll) == 2: \n",
    "        player_score +=1 \n",
    "    else: \n",
    "        cpu_score = cpu_score \n",
    "        player_score = player_score \n",
    "    print(\"Score: \\n Computer\", cpu_score,\", Player\", player_score) \n",
    "    i += 1\n",
    "\n",
    "if cpu_score > player_score: \n",
    "    print(\"Computer won more rounds\") \n",
    "elif cpu_score < player_score: \n",
    "    print(\"Player won more rounds\") \n",
    "else: \n",
    "    print(\"The game is tied\")\n"
   ]
  },
  {
   "cell_type": "code",
   "execution_count": null,
   "metadata": {},
   "outputs": [],
   "source": []
  }
 ],
 "metadata": {
  "kernelspec": {
   "display_name": "Python 3",
   "language": "python",
   "name": "python3"
  },
  "language_info": {
   "codemirror_mode": {
    "name": "ipython",
    "version": 3
   },
   "file_extension": ".py",
   "mimetype": "text/x-python",
   "name": "python",
   "nbconvert_exporter": "python",
   "pygments_lexer": "ipython3",
   "version": "3.7.7"
  }
 },
 "nbformat": 4,
 "nbformat_minor": 2
}
