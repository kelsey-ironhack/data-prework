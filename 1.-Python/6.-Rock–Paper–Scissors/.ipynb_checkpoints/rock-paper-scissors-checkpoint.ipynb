{
 "cells": [
  {
   "cell_type": "markdown",
   "metadata": {},
   "source": [
    "<img src=\"https://bit.ly/2VnXWr2\" width=\"100\" align=\"left\">"
   ]
  },
  {
   "cell_type": "markdown",
   "metadata": {},
   "source": [
    "# Rock, Paper & Scissors\n",
    "\n",
    "Let's play the famous game against our computer. You can check the rules [here](https://en.wikipedia.org/wiki/Rock%E2%80%93paper%E2%80%93scissors). \n",
    "\n",
    "## Task\n",
    "Create a program that imitates the playability of the well known game of rock, paper, scissors. Follow the guidelines provided.\n",
    "\n",
    "## Tools\n",
    "1. Loop: **for/while**\n",
    "2. Functions: **input(), print()...**\n",
    "3. Conditional statements: **if, elif, else**\n",
    "4. Definition of functions. Modular programming\n",
    "5. Import modules\n",
    "\n",
    "**To solve this challenge, the use of functions is recommended.**\n",
    "\n",
    "#### 1. Import the choice function of the random module."
   ]
  },
  {
   "cell_type": "code",
   "execution_count": 5,
   "metadata": {},
   "outputs": [],
   "source": [
    "import random\n",
    "#random.randrange(10)"
   ]
  },
  {
   "cell_type": "markdown",
   "metadata": {},
   "source": [
    "#### 2. Create a list that includes the 3 possible gesture options of the game: 'rock', 'paper' or 'scissors'. Store the list in a variable called `gestures`."
   ]
  },
  {
   "cell_type": "code",
   "execution_count": 6,
   "metadata": {},
   "outputs": [],
   "source": [
    "gestures = [\"rock\",\"paper\",\"scissors\"]\n"
   ]
  },
  {
   "cell_type": "markdown",
   "metadata": {},
   "source": [
    "#### 3. Create a variable called `n_rounds` to store the maximum number of rounds to play in a game. \n",
    "Remember that the number of rounds must be odd: 1, 3, 5, ..."
   ]
  },
  {
   "cell_type": "code",
   "execution_count": 11,
   "metadata": {},
   "outputs": [],
   "source": [
    "n_rounds = 5"
   ]
  },
  {
   "cell_type": "markdown",
   "metadata": {},
   "source": [
    "#### 4. Create a variable called `rounds_to_win` to store the number of rounds that a player must win to win the game.\n",
    "**Hint**: the value stored in `rounds_to_win` depends on the value of `n_rounds`. "
   ]
  },
  {
   "cell_type": "code",
   "execution_count": 12,
   "metadata": {},
   "outputs": [
    {
     "name": "stdout",
     "output_type": "stream",
     "text": [
      "3.0\n"
     ]
    }
   ],
   "source": [
    "rounds_to_win = n_rounds/2+0.5\n",
    "print(rounds_to_win)"
   ]
  },
  {
   "cell_type": "markdown",
   "metadata": {},
   "source": [
    "#### 5. Create two variables to store the number of rounds that the computer and the player have won. Call these variables `cpu_score` and `player_score`."
   ]
  },
  {
   "cell_type": "code",
   "execution_count": 13,
   "metadata": {},
   "outputs": [],
   "source": [
    "cpu_score = 0\n",
    "player_score = 0"
   ]
  },
  {
   "cell_type": "markdown",
   "metadata": {},
   "source": [
    "#### 6. Define a function that randomly returns one of the 3 gesture options.\n",
    "You will use this function to simulate the gesture choice of the computer. "
   ]
  },
  {
   "cell_type": "code",
   "execution_count": 78,
   "metadata": {},
   "outputs": [],
   "source": [
    "def cpu_gesture():\n",
    "    return gestures[random.randrange(len(gestures))]"
   ]
  },
  {
   "cell_type": "markdown",
   "metadata": {},
   "source": [
    "#### 7. Define a function that asks the player which is the gesture he or she wants to show: 'rock', 'paper' or 'scissors'.\n",
    "The player should only be allowed to choose one of the 3 gesture options. If the player's choice is not rock, paper or scissors, keep asking until it is."
   ]
  },
  {
   "cell_type": "code",
   "execution_count": 84,
   "metadata": {},
   "outputs": [],
   "source": [
    "def player_gesture():\n",
    "    player_gesture = \"\"\n",
    "    while not player_gesture in gestures:\n",
    "        player_gesture = input(\"Choose a gesture: \")\n",
    "        if player_gesture in gestures:\n",
    "            return player_gesture"
   ]
  },
  {
   "cell_type": "markdown",
   "metadata": {},
   "source": [
    "#### 8. Define a function that checks who won a round. \n",
    "The function should return 0 if there is a tie, 1 if the computer wins and 2 if the player wins."
   ]
  },
  {
   "cell_type": "code",
   "execution_count": 24,
   "metadata": {},
   "outputs": [],
   "source": [
    "#gestures_matrix specifies who wins. format is (cpu_gesture,player_gesture):result\n",
    "#result is 0 for tie, 1 for computer wins and 2 for players wins\n",
    "\n",
    "gestures_matrix = {(\"rock\",\"rock\"):0, (\"rock\",\"paper\"):2, (\"rock\",\"scissors\"):1 }\n",
    "gestures_matrix.update( {(\"paper\",\"paper\"):0, (\"paper\",\"rock\"):1, (\"paper\",\"scissors\"):2 } )\n",
    "gestures_matrix.update( {(\"scissors\",\"scissors\"):0, (\"scissors\",\"rock\"):2, (\"scissors\",\"paper\"):1 } )\n",
    "\n",
    "def winner(cpu_chosen_gesture, player_chosen_gesture):\n",
    "    return gestures_matrix[(cpu_chosen_gesture, player_chosen_gesture)]"
   ]
  },
  {
   "cell_type": "markdown",
   "metadata": {},
   "source": [
    "#### 9. Define a function that prints the choice of the computer, the choice of the player and a message that announces who won the current round. \n",
    "You should also use this function to update the variables that count the number of rounds that the computer and the player have won. The score of the winner increases by one point. If there is a tie, the score does not increase."
   ]
  },
  {
   "cell_type": "code",
   "execution_count": 66,
   "metadata": {},
   "outputs": [],
   "source": [
    "def results(cpu_chosen_gesture, player_chosen_gesture):\n",
    "    print(\"computer choice is\", cpu_chosen_gesture)\n",
    "    print(\"player choice is\", player_chosen_gesture)\n",
    "    current_winner = winner(cpu_chosen_gesture, player_chosen_gesture)\n",
    "    if current_winner == 0:\n",
    "        print(\"it's a TIE\")\n",
    "    elif current_winner == 1:\n",
    "        print(\"COMPUTER won this round\")\n",
    "    elif current_winner == 2:\n",
    "        print(\"PLAYER won this round\")\n",
    "    return current_winner\n",
    "        "
   ]
  },
  {
   "cell_type": "markdown",
   "metadata": {},
   "source": [
    "#### 10. Now it's time to code the execution of the game using the functions and variables you defined above. \n",
    "\n",
    "First, create a loop structure that repeats while no player reaches the minimum score necessary to win and the number of rounds is less than the maximum number of rounds to play in a game.  \n",
    "\n",
    "Inside the loop, use the functions and variables above to create the execution of a round: ask for the player's choice, generate the random choice of the computer, show the round results, update the scores, etc. "
   ]
  },
  {
   "cell_type": "code",
   "execution_count": 67,
   "metadata": {},
   "outputs": [
    {
     "name": "stdout",
     "output_type": "stream",
     "text": [
      "Choose between rock, paper or scissors: paper\n",
      "computer choice is rock\n",
      "player choice is paper\n",
      "PLAYER won this round\n",
      "_______\n",
      "Choose between rock, paper or scissors: paper\n",
      "computer choice is rock\n",
      "player choice is paper\n",
      "PLAYER won this round\n",
      "_______\n",
      "Choose between rock, paper or scissors: paper\n",
      "computer choice is paper\n",
      "player choice is paper\n",
      "it's a TIE\n",
      "_______\n",
      "Choose between rock, paper or scissors: paper\n",
      "computer choice is rock\n",
      "player choice is paper\n",
      "PLAYER won this round\n",
      "_______\n",
      "PLAYER WON!\n"
     ]
    }
   ],
   "source": [
    "cpu_score = 0\n",
    "player_score = 0\n",
    "current_round = 0\n",
    "text_winner = \"\"\n",
    "\n",
    "while cpu_score<rounds_to_win and player_score<rounds_to_win and current_round<n_rounds :\n",
    "    cpu_current_gesture = cpu_gesture()\n",
    "    player_current_gesture = player_gesture()\n",
    "    current_winner = results(cpu_current_gesture, player_current_gesture)\n",
    "    if current_winner == 1:\n",
    "        cpu_score += 1\n",
    "    elif current_winner == 2:\n",
    "        player_score += 1\n",
    "    current_round+=1\n",
    "    print(\"_______\")\n",
    "        \n",
    "if cpu_score >= rounds_to_win: \n",
    "    text_winner = \"COMPUTER WON!\"\n",
    "    print(text_winner)\n",
    "elif player_score >= rounds_to_win:\n",
    "    text_winner=\"PLAYER WON!\"\n",
    "    print(text_winner)\n",
    "else:\n",
    "    text_winner=\"IT'S A TIE\"\n",
    "    print(text_winner)"
   ]
  },
  {
   "cell_type": "markdown",
   "metadata": {},
   "source": [
    "#### 11. Print the winner of the game based on who won more rounds.\n",
    "Remember that the game might be tied. "
   ]
  },
  {
   "cell_type": "code",
   "execution_count": 68,
   "metadata": {},
   "outputs": [
    {
     "name": "stdout",
     "output_type": "stream",
     "text": [
      "PLAYER WON!\n"
     ]
    }
   ],
   "source": [
    "print(text_winner)"
   ]
  },
  {
   "cell_type": "markdown",
   "metadata": {},
   "source": [
    "# Bonus: Rock, Paper, Scissors, Lizard & Spock\n",
    "![](images/rpsls.jpg)\n",
    "\n",
    "In this challenge, you need to improve the previous game by adding two new options. To know more about the rules of the improved version of rock, paper, scissors, check this [link](http://www.samkass.com/theories/RPSSL.html). \n",
    "\n",
    "In addition, you will also need to improve how the game interacts with the player: the number of rounds to play, which must be an odd number, will be requested to the user until a valid number is entered. Define a new function to make that request.\n",
    "\n",
    "**Hint**: Try to reuse the code that you already coded in the previous challenge. If your code is efficient, this bonus will only consist of simple modifications to the original game."
   ]
  },
  {
   "cell_type": "code",
   "execution_count": 82,
   "metadata": {},
   "outputs": [],
   "source": [
    "def number_of_rounds_to_play():\n",
    "    rounds_chosen = 0;\n",
    "    while int(rounds_chosen)%2 == 0:\n",
    "        rounds_chosen= input (\"Enter an odd number for the number of rounds\")\n",
    "        if int(rounds_chosen)%2 == 0:\n",
    "            print(\"You did not enter an odd number, enter it again\")\n",
    "        else:\n",
    "            print(\"You chose\",rounds_chosen,\"number of rounds\")\n",
    "    return rounds_chosen\n",
    "\n",
    "# add the new gestures to the matrix\n",
    "gestures_matrix.update( {(\"rock\",\"lizard\"):1, (\"rock\",\"spock\"):2 } )\n",
    "gestures_matrix.update( {(\"scissors\",\"lizard\"):1, (\"scissors\",\"spock\"):2 } )\n",
    "gestures_matrix.update( {(\"paper\",\"lizard\"):2, (\"paper\",\"spock\"):1 } )\n",
    "gestures_matrix.update( {(\"lizard\",\"lizard\"):0, (\"lizard\",\"paper\"):1, (\"lizard\",\"rock\"):2, (\"lizard\",\"scissors\"):2, (\"lizard\",\"spock\"):1 } )\n",
    "gestures_matrix.update( {(\"spock\",\"spock\"):0, (\"spock\",\"paper\"):2, (\"spock\",\"rock\"):1, (\"spock\",\"scissors\"):1, (\"spock\",\"lizard\"):2 } )\n",
    "\n",
    "gestures.append(\"lizard\")\n",
    "gestures.append(\"spock\")\n",
    "\n"
   ]
  },
  {
   "cell_type": "code",
   "execution_count": 87,
   "metadata": {},
   "outputs": [
    {
     "name": "stdout",
     "output_type": "stream",
     "text": [
      "Enter an odd number for the number of rounds7\n",
      "You chose 7 number of rounds\n",
      "Choose a gesture: lizard\n",
      "computer choice is spock\n",
      "player choice is lizard\n",
      "PLAYER won this round\n",
      "_______\n",
      "Choose a gesture: lizard\n",
      "computer choice is paper\n",
      "player choice is lizard\n",
      "PLAYER won this round\n",
      "_______\n",
      "Choose a gesture: lizard\n",
      "computer choice is rock\n",
      "player choice is lizard\n",
      "COMPUTER won this round\n",
      "_______\n",
      "Choose a gesture: lizard\n",
      "computer choice is rock\n",
      "player choice is lizard\n",
      "COMPUTER won this round\n",
      "_______\n",
      "Choose a gesture: lizard\n",
      "computer choice is scissors\n",
      "player choice is lizard\n",
      "COMPUTER won this round\n",
      "_______\n",
      "COMPUTER WON!\n"
     ]
    }
   ],
   "source": [
    "number_of_rounds_to_play()\n",
    "\n",
    "cpu_score = 0\n",
    "player_score = 0\n",
    "current_round = 0\n",
    "text_winner = \"\"\n",
    "\n",
    "while cpu_score<rounds_to_win and player_score<rounds_to_win and current_round<n_rounds :\n",
    "    cpu_current_gesture = cpu_gesture()\n",
    "    player_current_gesture = player_gesture()\n",
    "    current_winner = results(cpu_current_gesture, player_current_gesture)\n",
    "    if current_winner == 1:\n",
    "        cpu_score += 1\n",
    "    elif current_winner == 2:\n",
    "        player_score += 1\n",
    "    current_round+=1\n",
    "    print(\"_______\")\n",
    "        \n",
    "if cpu_score >= rounds_to_win: \n",
    "    text_winner = \"COMPUTER WON!\"\n",
    "    print(text_winner)\n",
    "elif player_score >= rounds_to_win:\n",
    "    text_winner=\"PLAYER WON!\"\n",
    "    print(text_winner)\n",
    "else:\n",
    "    text_winner=\"IT'S A TIE\"\n",
    "    print(text_winner)"
   ]
  },
  {
   "cell_type": "code",
   "execution_count": null,
   "metadata": {},
   "outputs": [],
   "source": []
  },
  {
   "cell_type": "code",
   "execution_count": null,
   "metadata": {},
   "outputs": [],
   "source": []
  }
 ],
 "metadata": {
  "kernelspec": {
   "display_name": "Python 3",
   "language": "python",
   "name": "python3"
  },
  "language_info": {
   "codemirror_mode": {
    "name": "ipython",
    "version": 3
   },
   "file_extension": ".py",
   "mimetype": "text/x-python",
   "name": "python",
   "nbconvert_exporter": "python",
   "pygments_lexer": "ipython3",
   "version": "3.7.6"
  }
 },
 "nbformat": 4,
 "nbformat_minor": 2
}
