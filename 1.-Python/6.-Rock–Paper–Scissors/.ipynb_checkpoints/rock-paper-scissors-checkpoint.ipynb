{
 "cells": [
  {
   "cell_type": "markdown",
   "metadata": {},
   "source": [
    "<img src=\"https://bit.ly/2VnXWr2\" width=\"100\" align=\"left\">"
   ]
  },
  {
   "cell_type": "markdown",
   "metadata": {},
   "source": [
    "# Rock, Paper & Scissors\n",
    "\n",
    "Let's play the famous game against our computer. You can check the rules [here](https://en.wikipedia.org/wiki/Rock%E2%80%93paper%E2%80%93scissors). \n",
    "\n",
    "## Task\n",
    "Create a program that imitates the playability of the well known game of rock, paper, scissors. Follow the guidelines provided.\n",
    "\n",
    "## Tools\n",
    "1. Loop: **for/while**\n",
    "2. Functions: **input(), print()...**\n",
    "3. Conditional statements: **if, elif, else**\n",
    "4. Definition of functions. Modular programming\n",
    "5. Import modules\n",
    "\n",
    "**To solve this challenge, the use of functions is recommended.**\n",
    "\n",
    "#### 1. Import the choice function of the random module."
   ]
  },
  {
   "cell_type": "code",
   "execution_count": null,
   "metadata": {},
   "outputs": [],
   "source": [
    "import random\n",
    "# or also possible:\n",
    "# from random import choice"
   ]
  },
  {
   "cell_type": "markdown",
   "metadata": {},
   "source": [
    "#### 2. Create a list that includes the 3 possible gesture options of the game: 'rock', 'paper' or 'scissors'. Store the list in a variable called `gestures`."
   ]
  },
  {
   "cell_type": "code",
   "execution_count": null,
   "metadata": {},
   "outputs": [],
   "source": [
    "gestures = ['rock', 'paper', 'scissors']"
   ]
  },
  {
   "cell_type": "markdown",
   "metadata": {},
   "source": [
    "#### 3. Create a variable called `n_rounds` to store the maximum number of rounds to play in a game. \n",
    "Remember that the number of rounds must be odd: 1, 3, 5, ..."
   ]
  },
  {
   "cell_type": "code",
   "execution_count": null,
   "metadata": {},
   "outputs": [],
   "source": [
    "n_rounds = 0\n",
    "\n",
    "# How many rounds do we want to play?\n",
    "def ask_for_rounds():\n",
    "    global n_rounds\n",
    "    while True:\n",
    "        print (\"How many rounds should we play?\")\n",
    "        print (\"It must be an odd number (1, 3, 5, ...)\")\n",
    "        n_rounds = input()\n",
    "        if not (n_rounds.isdigit()): # Did the user enter a number at all?\n",
    "            print (\"Only numbers allowed.\")\n",
    "            continue\n",
    "        elif (int(n_rounds) % 2 == 0): #User entered an even number\n",
    "            print (\"Only odd numbers allowed.\")\n",
    "            continue\n",
    "        else:\n",
    "            #accept user input and continue (but convert to int)\n",
    "            n_rounds = int(n_rounds)\n",
    "            break"
   ]
  },
  {
   "cell_type": "markdown",
   "metadata": {},
   "source": [
    "#### 4. Create a variable called `rounds_to_win` to store the number of rounds that a player must win to win the game.\n",
    "**Hint**: the value stored in `rounds_to_win` depends on the value of `n_rounds`. "
   ]
  },
  {
   "cell_type": "code",
   "execution_count": null,
   "metadata": {},
   "outputs": [],
   "source": [
    "import math\n",
    "\n",
    "rounds_to_win = math.ceil(int(n_rounds)/2)"
   ]
  },
  {
   "cell_type": "markdown",
   "metadata": {},
   "source": [
    "#### 5. Create two variables to store the number of rounds that the computer and the player have won. Call these variables `cpu_score` and `player_score`."
   ]
  },
  {
   "cell_type": "code",
   "execution_count": null,
   "metadata": {},
   "outputs": [],
   "source": [
    "cpu_score = 0\n",
    "player_score = 0"
   ]
  },
  {
   "cell_type": "markdown",
   "metadata": {},
   "source": [
    "#### 6. Define a function that randomly returns one of the 3 gesture options.\n",
    "You will use this function to simulate the gesture choice of the computer. "
   ]
  },
  {
   "cell_type": "code",
   "execution_count": null,
   "metadata": {},
   "outputs": [],
   "source": [
    "def random_gesture():\n",
    "    return choice(gestures)"
   ]
  },
  {
   "cell_type": "markdown",
   "metadata": {},
   "source": [
    "#### 7. Define a function that asks the player which is the gesture he or she wants to show: 'rock', 'paper' or 'scissors'.\n",
    "The player should only be allowed to choose one of the 3 gesture options. If the player's choice is not rock, paper or scissors, keep asking until it is."
   ]
  },
  {
   "cell_type": "code",
   "execution_count": null,
   "metadata": {},
   "outputs": [],
   "source": [
    "def player_choice():\n",
    "    while True:\n",
    "        print(\"What is your choice between rock, paper and scissors?\")\n",
    "        choice = input()\n",
    "        if choice == 'rock' or choice == 'paper' or choice == 'scissors':\n",
    "            return choice"
   ]
  },
  {
   "cell_type": "markdown",
   "metadata": {},
   "source": [
    "#### 8. Define a function that checks who won a round. \n",
    "The function should return 0 if there is a tie, 1 if the computer wins and 2 if the player wins."
   ]
  },
  {
   "cell_type": "code",
   "execution_count": null,
   "metadata": {},
   "outputs": [],
   "source": [
    "def who_wins(player, cpu):\n",
    "    if player == cpu:\n",
    "        return 0 # Tie\n",
    "    elif player == 'rock':\n",
    "        if cpu == 'scissors':\n",
    "            return 2 # Player wins\n",
    "        elif cpu == 'paper':\n",
    "            return 1 #cpu wins\n",
    "    elif player == 'paper':\n",
    "        if cpu == 'scissors':\n",
    "            return 1 #cpu wins\n",
    "        elif cpu == 'rock':\n",
    "            return 2 # Player wins\n",
    "    elif player == 'scissors':\n",
    "        if cpu == 'rock':\n",
    "            return 1 #cpu wins\n",
    "        elif cpu == 'paper':\n",
    "            return 2 #player wins"
   ]
  },
  {
   "cell_type": "markdown",
   "metadata": {},
   "source": [
    "#### 9. Define a function that prints the choice of the computer, the choice of the player and a message that announces who won the current round. \n",
    "You should also use this function to update the variables that count the number of rounds that the computer and the player have won. The score of the winner increases by one point. If there is a tie, the score does not increase."
   ]
  },
  {
   "cell_type": "code",
   "execution_count": null,
   "metadata": {},
   "outputs": [],
   "source": [
    "def print_result(winner, player, cpu):\n",
    "    global cpu_score\n",
    "    global player_score\n",
    "    print (\"The choice of the player was: \", player)\n",
    "    print (\"The choice of the CPU was: \", cpu)\n",
    "    if winner == 0:\n",
    "        print (\"It's a tie.\")\n",
    "    elif winner == 1:\n",
    "        print (\"CPU wins this round.\")\n",
    "        cpu_score += 1\n",
    "    elif winner == 2:\n",
    "        print (\"Player wins this round. Congratulations!\")\n",
    "        player_score +=1"
   ]
  },
  {
   "cell_type": "markdown",
   "metadata": {},
   "source": [
    "#### 10. Now it's time to code the execution of the game using the functions and variables you defined above. \n",
    "\n",
    "First, create a loop structure that repeats while no player reaches the minimum score necessary to win and the number of rounds is less than the maximum number of rounds to play in a game.  \n",
    "\n",
    "Inside the loop, use the functions and variables above to create the execution of a round: ask for the player's choice, generate the random choice of the computer, show the round results, update the scores, etc. "
   ]
  },
  {
   "cell_type": "code",
   "execution_count": null,
   "metadata": {},
   "outputs": [],
   "source": [
    "# Time to play!\n",
    "rounds_played = 0\n",
    "\n",
    "ask_for_rounds()\n",
    "\n",
    "rounds_to_win = math.ceil(int(n_rounds)/2)\n",
    "\n",
    "# We play as long as no one has reached the minimum score necessary\n",
    "while player_score <= rounds_to_win and cpu_score <= rounds_to_win and rounds_played < n_rounds:\n",
    "    #player first\n",
    "    player_choice_this_round = player_choice()\n",
    "    \n",
    "    # cpu next\n",
    "    cpu_choice_this_round = random_gesture()\n",
    "    \n",
    "    # who's the winner of this round?\n",
    "    winner = who_wins(player_choice_this_round, cpu_choice_this_round)\n",
    "    \n",
    "    # and the results and counting the score\n",
    "    print_result(winner, player_choice_this_round, cpu_choice_this_round)\n",
    "\n",
    "    rounds_played += 1"
   ]
  },
  {
   "cell_type": "markdown",
   "metadata": {},
   "source": [
    "#### 11. Print the winner of the game based on who won more rounds.\n",
    "Remember that the game might be tied. "
   ]
  },
  {
   "cell_type": "code",
   "execution_count": 3,
   "metadata": {},
   "outputs": [
    {
     "name": "stdout",
     "output_type": "stream",
     "text": [
      "====== GAME RESULTS ========\n",
      "And the winner of the game is the CPU. Better luck next time!\n"
     ]
    }
   ],
   "source": [
    "print(\"====== GAME RESULTS ========\")    \n",
    "if (player_score > cpu_score):\n",
    "    print (\"And the winner of the game is the Player! Congratulations!\")\n",
    "elif (cpu_score > player_score):\n",
    "    print (\"And the winner of the game is the CPU. Better luck next time!\")\n",
    "else:\n",
    "    print (\"The game is a tie.\")"
   ]
  },
  {
   "cell_type": "markdown",
   "metadata": {},
   "source": [
    "# Bonus: Rock, Paper, Scissors, Lizard & Spock\n",
    "![](images/rpsls.jpg)\n",
    "\n",
    "In this challenge, you need to improve the previous game by adding two new options. To know more about the rules of the improved version of rock, paper, scissors, check this [link](http://www.samkass.com/theories/RPSSL.html). \n",
    "\n",
    "In addition, you will also need to improve how the game interacts with the player: the number of rounds to play, which must be an odd number, will be requested to the user until a valid number is entered. Define a new function to make that request.\n",
    "\n",
    "**Hint**: Try to reuse the code that you already coded in the previous challenge. If your code is efficient, this bonus will only consist of simple modifications to the original game."
   ]
  },
  {
   "cell_type": "code",
   "execution_count": 2,
   "metadata": {},
   "outputs": [
    {
     "name": "stdout",
     "output_type": "stream",
     "text": [
      "How many rounds should we play?\n",
      "It must be an odd number (1, 3, 5, ...)\n",
      "3\n",
      "What is your choice between rock, paper, scissors, lizard and spock?\n",
      "rock\n",
      "The choice of the player was:  rock\n",
      "The choice of the CPU was:  paper\n",
      "CPU wins this round.\n",
      "What is your choice between rock, paper, scissors, lizard and spock?\n",
      "rock\n",
      "The choice of the player was:  rock\n",
      "The choice of the CPU was:  paper\n",
      "CPU wins this round.\n",
      "What is your choice between rock, paper, scissors, lizard and spock?\n",
      "rock\n",
      "The choice of the player was:  rock\n",
      "The choice of the CPU was:  lizard\n",
      "Player wins this round. Congratulations!\n",
      "====== GAME RESULTS ========\n",
      "And the winner of the game is the CPU. Better luck next time!\n"
     ]
    }
   ],
   "source": [
    "import random\n",
    "import math\n",
    "\n",
    "# gestures available\n",
    "gestures = ['rock', 'paper', 'scissors', 'lizard', 'spock']\n",
    "\n",
    "n_rounds = 0\n",
    "cpu_score = 0\n",
    "player_score = 0\n",
    "\n",
    "# how many rounds do we want to play?\n",
    "def ask_for_rounds():\n",
    "    global n_rounds\n",
    "    while True:\n",
    "        print (\"How many rounds should we play?\")\n",
    "        print (\"It must be an odd number (1, 3, 5, ...)\")\n",
    "        n_rounds = input()\n",
    "        if not (n_rounds.isdigit()): # Did the user enter a number at all?\n",
    "            print (\"Only numbers allowed.\")\n",
    "            continue\n",
    "        elif (int(n_rounds) % 2 == 0): #User entered an even number\n",
    "            print (\"Only odd numbers allowed.\")\n",
    "            continue\n",
    "        else:\n",
    "            #accept user input and continue (but convert to int)\n",
    "            n_rounds = int(n_rounds)\n",
    "            break\n",
    "\n",
    "def random_gesture():\n",
    "    return random.choice(gestures)\n",
    "\n",
    "def player_choice():\n",
    "    while True:\n",
    "        print(\"What is your choice between rock, paper, scissors, lizard and spock?\")\n",
    "        choice = input()\n",
    "        if choice in gestures:\n",
    "            return choice\n",
    "            \n",
    "def who_wins(player, cpu):\n",
    "    if player == cpu:\n",
    "        return 0 # Tie\n",
    "    \n",
    "    elif player == 'rock':\n",
    "        if cpu == 'paper' or cpu == 'spock':\n",
    "            return 1 #cpu wins\n",
    "        elif cpu == 'scissors' or cpu == 'lizard':\n",
    "            return 2 # Player wins\n",
    "        \n",
    "    elif player == 'paper':\n",
    "        if cpu == 'scissors' or cpu == 'lizard':\n",
    "            return 1 #cpu wins\n",
    "        elif cpu == 'rock' or cpu == 'spock':\n",
    "            return 2 # Player wins\n",
    "        \n",
    "    elif player == 'scissors':\n",
    "        if cpu == 'rock' or cpu == 'spock':\n",
    "            return 1 #cpu wins\n",
    "        elif cpu == 'paper' or cpu == 'lizard':\n",
    "            return 2 #player wins\n",
    "        \n",
    "    elif player == 'lizard':\n",
    "        if cpu == 'scissors' or cpu == 'rock':\n",
    "            return 1 #cpu wins\n",
    "        elif cpu == 'spock' or cpu == 'paper':\n",
    "            return 2 #player wins\n",
    "        \n",
    "    elif player == 'spock':\n",
    "        if cpu == 'lizard' or cpu == 'paper':\n",
    "            return 1 #cpu wins\n",
    "        elif cpu == 'rock' or cpu == 'scissors':\n",
    "            return 2 #player wins\n",
    "\n",
    "def print_result(winner, player, cpu):\n",
    "    global cpu_score\n",
    "    global player_score\n",
    "    print (\"The choice of the player was: \", player)\n",
    "    print (\"The choice of the CPU was: \", cpu)\n",
    "    if winner == 0:\n",
    "        print (\"It's a tie.\")\n",
    "    elif winner == 1:\n",
    "        print (\"CPU wins this round.\")\n",
    "        cpu_score += 1\n",
    "    elif winner == 2:\n",
    "        print (\"Player wins this round. Congratulations!\")\n",
    "        player_score +=1\n",
    "        \n",
    "# Time to play!\n",
    "rounds_played = 0\n",
    "\n",
    "ask_for_rounds()\n",
    "\n",
    "rounds_to_win = math.ceil(int(n_rounds)/2)\n",
    "\n",
    "# We play as long as no one has reached the minimum score necessary\n",
    "while player_score <= rounds_to_win and cpu_score <= rounds_to_win and rounds_played < n_rounds:\n",
    "    #player first\n",
    "    player_choice_this_round = player_choice()\n",
    "    \n",
    "    # cpu next\n",
    "    cpu_choice_this_round = random_gesture()\n",
    "    \n",
    "    # who's the winner of this round?\n",
    "    winner = who_wins(player_choice_this_round, cpu_choice_this_round)\n",
    "    \n",
    "    # and the results and counting the score\n",
    "    print_result(winner, player_choice_this_round, cpu_choice_this_round)\n",
    "\n",
    "    rounds_played += 1\n",
    "    \n",
    "\n",
    "print(\"====== GAME RESULTS ========\")    \n",
    "if (player_score > cpu_score):\n",
    "    print (\"And the winner of the game is the Player! Congratulations!\")\n",
    "elif (cpu_score > player_score):\n",
    "    print (\"And the winner of the game is the CPU. Better luck next time!\")\n",
    "else:\n",
    "    print (\"The game is a tie.\")"
   ]
  },
  {
   "cell_type": "code",
   "execution_count": null,
   "metadata": {},
   "outputs": [],
   "source": []
  }
 ],
 "metadata": {
  "kernelspec": {
   "display_name": "Python 3",
   "language": "python",
   "name": "python3"
  },
  "language_info": {
   "codemirror_mode": {
    "name": "ipython",
    "version": 3
   },
   "file_extension": ".py",
   "mimetype": "text/x-python",
   "name": "python",
   "nbconvert_exporter": "python",
   "pygments_lexer": "ipython3",
   "version": "3.8.3"
  }
 },
 "nbformat": 4,
 "nbformat_minor": 2
}
