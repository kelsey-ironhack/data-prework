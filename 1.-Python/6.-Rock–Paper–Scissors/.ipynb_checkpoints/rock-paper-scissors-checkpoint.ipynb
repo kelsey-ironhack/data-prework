{
 "cells": [
  {
   "cell_type": "markdown",
   "metadata": {},
   "source": [
    "<img src=\"https://bit.ly/2VnXWr2\" width=\"100\" align=\"left\">"
   ]
  },
  {
   "cell_type": "markdown",
   "metadata": {},
   "source": [
    "# Rock, Paper & Scissors\n",
    "\n",
    "Let's play the famous game against our computer. You can check the rules [here](https://en.wikipedia.org/wiki/Rock%E2%80%93paper%E2%80%93scissors). \n",
    "\n",
    "## Task\n",
    "Create a program that imitates the playability of the well known game of rock, paper, scissors. Follow the guidelines provided.\n",
    "\n",
    "## Tools\n",
    "1. Loop: **for/while**\n",
    "2. Functions: **input(), print()...**\n",
    "3. Conditional statements: **if, elif, else**\n",
    "4. Definition of functions. Modular programming\n",
    "5. Import modules\n",
    "\n",
    "**To solve this challenge, the use of functions is recommended.**\n",
    "\n",
    "#### 1. Import the choice function of the random module."
   ]
  },
  {
   "cell_type": "code",
   "execution_count": 1,
   "metadata": {},
   "outputs": [],
   "source": [
    "from random import choice\n",
    "import math"
   ]
  },
  {
   "cell_type": "markdown",
   "metadata": {},
   "source": [
    "#### 2. Create a list that includes the 3 possible gesture options of the game: 'rock', 'paper' or 'scissors'. Store the list in a variable called `gestures`."
   ]
  },
  {
   "cell_type": "code",
   "execution_count": 2,
   "metadata": {},
   "outputs": [],
   "source": [
    "gestures = ['rock','paper','scissors']"
   ]
  },
  {
   "cell_type": "markdown",
   "metadata": {},
   "source": [
    "#### 3. Create a variable called `n_rounds` to store the maximum number of rounds to play in a game. \n",
    "Remember that the number of rounds must be odd: 1, 3, 5, ..."
   ]
  },
  {
   "cell_type": "code",
   "execution_count": 3,
   "metadata": {},
   "outputs": [],
   "source": [
    "n_rounds = 0"
   ]
  },
  {
   "cell_type": "markdown",
   "metadata": {},
   "source": [
    "#### 4. Create a variable called `rounds_to_win` to store the number of rounds that a player must win to win the game.\n",
    "**Hint**: the value stored in `rounds_to_win` depends on the value of `n_rounds`. "
   ]
  },
  {
   "cell_type": "code",
   "execution_count": 4,
   "metadata": {},
   "outputs": [
    {
     "name": "stdout",
     "output_type": "stream",
     "text": [
      "Choose number of rounds (must be an odd number): 3\n"
     ]
    }
   ],
   "source": [
    "while n_rounds%2 == 0:\n",
    "    n_rounds = int(input(\"Choose number of rounds (must be an odd number): \"))\n",
    "    rounds_to_win = math.ceil(n_rounds/2)"
   ]
  },
  {
   "cell_type": "markdown",
   "metadata": {},
   "source": [
    "#### 5. Create two variables to store the number of rounds that the computer and the player have won. Call these variables `cpu_score` and `player_score`."
   ]
  },
  {
   "cell_type": "code",
   "execution_count": 5,
   "metadata": {},
   "outputs": [],
   "source": [
    "cpu_score = 0\n",
    "player_score = 0"
   ]
  },
  {
   "cell_type": "markdown",
   "metadata": {},
   "source": [
    "#### 6. Define a function that randomly returns one of the 3 gesture options.\n",
    "You will use this function to simulate the gesture choice of the computer. "
   ]
  },
  {
   "cell_type": "code",
   "execution_count": 6,
   "metadata": {},
   "outputs": [],
   "source": [
    "def cpu_choice():\n",
    "    return choice(gestures)"
   ]
  },
  {
   "cell_type": "markdown",
   "metadata": {},
   "source": [
    "#### 7. Define a function that asks the player which is the gesture he or she wants to show: 'rock', 'paper' or 'scissors'.\n",
    "The player should only be allowed to choose one of the 3 gesture options. If the player's choice is not rock, paper or scissors, keep asking until it is."
   ]
  },
  {
   "cell_type": "code",
   "execution_count": 7,
   "metadata": {},
   "outputs": [],
   "source": [
    "def player_choice():\n",
    "    player_gesture = 0\n",
    "    while player_gesture not in [1,2,3]:\n",
    "        print(\"Available gestures: 1 - Rock, 2 - Paper, 3 - Scissors\")\n",
    "        player_gesture = int(input(\"Which gesture do you want to show?\"))\n",
    "        if player_gesture == 1:\n",
    "            return 'rock'\n",
    "        elif player_gesture == 2:\n",
    "            return 'paper'\n",
    "        elif player_gesture == 3:\n",
    "            return 'scissors'\n",
    "        else:\n",
    "            continue"
   ]
  },
  {
   "cell_type": "markdown",
   "metadata": {},
   "source": [
    "#### 8. Define a function that checks who won a round. \n",
    "The function should return 0 if there is a tie, 1 if the computer wins and 2 if the player wins."
   ]
  },
  {
   "cell_type": "code",
   "execution_count": 8,
   "metadata": {},
   "outputs": [],
   "source": [
    "def who_wins(player_gesture, cpu_gesture):\n",
    "    if player_gesture == cpu_gesture:\n",
    "        return 0\n",
    "    elif player_gesture == 'rock':\n",
    "        if cpu_gesture == 'paper':\n",
    "            return 1\n",
    "        else: # cpu_gesture = scissors\n",
    "            return 2\n",
    "    elif player_gesture == 'paper':\n",
    "        if cpu_gesture == 'rock':\n",
    "            return 2\n",
    "        else: # cpu_gesture = scissors\n",
    "            return 1\n",
    "    elif player_gesture == 'scissors':\n",
    "        if cpu_gesture == 'rock':\n",
    "            return 1\n",
    "        else: # cpu_gesture = paper\n",
    "            return 2"
   ]
  },
  {
   "cell_type": "markdown",
   "metadata": {},
   "source": [
    "#### 9. Define a function that prints the choice of the computer, the choice of the player and a message that announces who won the current round. \n",
    "You should also use this function to update the variables that count the number of rounds that the computer and the player have won. The score of the winner increases by one point. If there is a tie, the score does not increase."
   ]
  },
  {
   "cell_type": "code",
   "execution_count": 9,
   "metadata": {},
   "outputs": [],
   "source": [
    "def print_winner(winner):\n",
    "    global cpu_score, player_score\n",
    "    \n",
    "    print(\"\\nPlayer chose:\", player_gesture)\n",
    "    print(\"CPU chose:\", cpu_gesture)\n",
    "\n",
    "    if winner == 0:\n",
    "        print(\"\\nIt's a tie!\")\n",
    "    elif winner == 1:\n",
    "        print(\"\\nCPU wins this round!\")\n",
    "        cpu_score += 1\n",
    "    else:\n",
    "        print(\"\\nPlayer wins this round!\")\n",
    "        player_score += 1"
   ]
  },
  {
   "cell_type": "markdown",
   "metadata": {},
   "source": [
    "#### 10. Now it's time to code the execution of the game using the functions and variables you defined above. \n",
    "\n",
    "First, create a loop structure that repeats while no player reaches the minimum score necessary to win and the number of rounds is less than the maximum number of rounds to play in a game.  \n",
    "\n",
    "Inside the loop, use the functions and variables above to create the execution of a round: ask for the player's choice, generate the random choice of the computer, show the round results, update the scores, etc. "
   ]
  },
  {
   "cell_type": "code",
   "execution_count": 10,
   "metadata": {},
   "outputs": [
    {
     "name": "stdout",
     "output_type": "stream",
     "text": [
      "-----------------------------------------------------\n",
      "\t\tROUND 1\n",
      "-----------------------------------------------------\n",
      "Available gestures: 1 - Rock, 2 - Paper, 3 - Scissors\n",
      "Which gesture do you want to show?1\n",
      "\n",
      "Player chose: rock\n",
      "CPU chose: scissors\n",
      "\n",
      "Player wins this round!\n",
      "-----------------------------------------------------\n",
      "\t\tEND ROUND 1\n",
      "-----------------------------------------------------\n",
      "-----------------------------------------------------\n",
      "\t\tROUND 2\n",
      "-----------------------------------------------------\n",
      "Available gestures: 1 - Rock, 2 - Paper, 3 - Scissors\n",
      "Which gesture do you want to show?2\n",
      "\n",
      "Player chose: paper\n",
      "CPU chose: paper\n",
      "\n",
      "It's a tie!\n",
      "-----------------------------------------------------\n",
      "\t\tEND ROUND 2\n",
      "-----------------------------------------------------\n",
      "-----------------------------------------------------\n",
      "\t\tROUND 3\n",
      "-----------------------------------------------------\n",
      "Available gestures: 1 - Rock, 2 - Paper, 3 - Scissors\n",
      "Which gesture do you want to show?3\n",
      "\n",
      "Player chose: scissors\n",
      "CPU chose: paper\n",
      "\n",
      "Player wins this round!\n",
      "-----------------------------------------------------\n",
      "\t\tEND ROUND 3\n",
      "-----------------------------------------------------\n"
     ]
    }
   ],
   "source": [
    "n = 0\n",
    "while n < n_rounds:\n",
    "\n",
    "    print(53*\"-\")\n",
    "    print(\"\\t\\tROUND\", n+1)\n",
    "    print(53*\"-\")\n",
    "    \n",
    "    player_gesture = player_choice()\n",
    "    cpu_gesture = cpu_choice()\n",
    "    winner = who_wins(player_gesture, cpu_gesture)\n",
    "    print_winner(winner)\n",
    "\n",
    "    print(53*\"-\")\n",
    "    print(\"\\t\\tEND ROUND\", n+1)\n",
    "    print(53*\"-\")\n",
    "\n",
    "    if player_score == rounds_to_win or cpu_score == rounds_to_win:\n",
    "        break\n",
    "\n",
    "    n += 1"
   ]
  },
  {
   "cell_type": "markdown",
   "metadata": {},
   "source": [
    "#### 11. Print the winner of the game based on who won more rounds.\n",
    "Remember that the game might be tied. "
   ]
  },
  {
   "cell_type": "code",
   "execution_count": 12,
   "metadata": {},
   "outputs": [
    {
     "name": "stdout",
     "output_type": "stream",
     "text": [
      "Player wins!\n"
     ]
    }
   ],
   "source": [
    "if player_score == cpu_score:\n",
    "    print(\"Game ends in a tie.\")\n",
    "elif player_score > cpu_score:\n",
    "    print(\"Player wins the game!\")\n",
    "else:\n",
    "    print(\"CPU wins the game!\")"
   ]
  },
  {
   "cell_type": "markdown",
   "metadata": {},
   "source": [
    "# Bonus: Rock, Paper, Scissors, Lizard & Spock\n",
    "![](images/rpsls.jpg)\n",
    "\n",
    "In this challenge, you need to improve the previous game by adding two new options. To know more about the rules of the improved version of rock, paper, scissors, check this [link](http://www.samkass.com/theories/RPSSL.html). \n",
    "\n",
    "In addition, you will also need to improve how the game interacts with the player: the number of rounds to play, which must be an odd number, will be requested to the user until a valid number is entered. Define a new function to make that request.\n",
    "\n",
    "**Hint**: Try to reuse the code that you already coded in the previous challenge. If your code is efficient, this bonus will only consist of simple modifications to the original game."
   ]
  },
  {
   "cell_type": "code",
   "execution_count": 13,
   "metadata": {},
   "outputs": [
    {
     "name": "stdout",
     "output_type": "stream",
     "text": [
      "Choose number of rounds (must be an odd number): 3\n",
      "-----------------------------------------------------\n",
      "\tROCK, PAPER, SCISSORS, LIZARD, SPOCK\n",
      "-----------------------------------------------------\n",
      "-----------------------------------------------------\n",
      "\tROUND 1\n",
      "-----------------------------------------------------\n",
      "Available gestures: 1 - Rock, 2 - Paper, 3 - Scissors, 4 - Lizard, 5 - Spock\n",
      "Which gesture do you want to show?4\n",
      "\n",
      "Player chose: lizard\n",
      "CPU chose: paper\n",
      "\n",
      "Player wins this round!\n",
      "-----------------------------------------------------\n",
      "\tEND ROUND 1\n",
      "-----------------------------------------------------\n",
      "-----------------------------------------------------\n",
      "\tROUND 2\n",
      "-----------------------------------------------------\n",
      "Available gestures: 1 - Rock, 2 - Paper, 3 - Scissors, 4 - Lizard, 5 - Spock\n",
      "Which gesture do you want to show?5\n",
      "\n",
      "Player chose: spock\n",
      "CPU chose: paper\n",
      "\n",
      "CPU wins this round!\n",
      "-----------------------------------------------------\n",
      "\tEND ROUND 2\n",
      "-----------------------------------------------------\n",
      "-----------------------------------------------------\n",
      "\tROUND 3\n",
      "-----------------------------------------------------\n",
      "Available gestures: 1 - Rock, 2 - Paper, 3 - Scissors, 4 - Lizard, 5 - Spock\n",
      "Which gesture do you want to show?3\n",
      "\n",
      "Player chose: scissors\n",
      "CPU chose: paper\n",
      "\n",
      "Player wins this round!\n",
      "-----------------------------------------------------\n",
      "\tEND ROUND 3\n",
      "-----------------------------------------------------\n",
      "Player wins!\n"
     ]
    }
   ],
   "source": [
    "from random import choice\n",
    "import math\n",
    "\n",
    "gestures = ['rock','paper','scissors', 'lizard', 'spock']\n",
    "\n",
    "n_rounds = 0\n",
    "cpu_score = 0\n",
    "player_score = 0\n",
    "\n",
    "def game_header():\n",
    "    print(53*\"-\")\n",
    "    print(\"\\tROCK, PAPER, SCISSORS, LIZARD, SPOCK\")\n",
    "    print(53*\"-\")\n",
    "\n",
    "while n_rounds%2 == 0:\n",
    "    n_rounds = int(input(\"Choose number of rounds (must be an odd number): \"))\n",
    "    rounds_to_win = math.ceil(n_rounds/2)\n",
    "\n",
    "#Define a function that randomly returns one of the 3 gesture options\n",
    "def cpu_choice():\n",
    "    return choice(gestures)\n",
    "\n",
    "#Define a function that asks the player which is the gesture he or she wants to show    \n",
    "def player_choice():\n",
    "    player_gesture = 0\n",
    "    while player_gesture not in [1,2,3,4,5]:\n",
    "        print(\"Available gestures: 1 - Rock, 2 - Paper, 3 - Scissors, 4 - Lizard, 5 - Spock\")\n",
    "        player_gesture = int(input(\"Which gesture do you want to show?\"))\n",
    "        if player_gesture == 1:\n",
    "            return 'rock'\n",
    "        elif player_gesture == 2:\n",
    "            return 'paper'\n",
    "        elif player_gesture == 3:\n",
    "            return 'scissors'\n",
    "        elif player_gesture == 4:\n",
    "            return 'lizard'\n",
    "        elif player_gesture == 5:\n",
    "            return 'spock'\n",
    "        else:\n",
    "            continue\n",
    "\n",
    "#Define a function that checks who won a round.\n",
    "#return 0 if there is a tie, 1 if the computer wins and 2 if the player wins\n",
    "def who_wins(player_gesture, cpu_gesture):\n",
    "    if player_gesture == cpu_gesture:\n",
    "        return 0\n",
    "    elif player_gesture == 'rock':\n",
    "        if cpu_gesture == 'paper':\n",
    "            return 1\n",
    "        elif cpu_gesture == 'lizard':\n",
    "            return 2\n",
    "        elif cpu_gesture == 'spock':\n",
    "            return 1    \n",
    "        else: # cpu_gesture = scissors\n",
    "            return 2\n",
    "    elif player_gesture == 'paper':\n",
    "        if cpu_gesture == 'rock':\n",
    "            return 2\n",
    "        elif cpu_gesture == 'lizard':\n",
    "            return 1\n",
    "        elif cpu_gesture == 'spock':\n",
    "            return 2    \n",
    "        else: # cpu_gesture = scissors\n",
    "            return 1\n",
    "    elif player_gesture == 'scissors':\n",
    "        if cpu_gesture == 'rock':\n",
    "            return 1\n",
    "        elif cpu_gesture == 'lizard':\n",
    "            return 2\n",
    "        elif cpu_gesture == 'spock':\n",
    "            return 1    \n",
    "        else: # cpu_gesture = paper\n",
    "            return 2\n",
    "    elif player_gesture == 'lizard':\n",
    "        if cpu_gesture == 'rock':\n",
    "            return 1\n",
    "        elif cpu_gesture == 'paper':\n",
    "            return 2\n",
    "        elif cpu_gesture == 'scissors':\n",
    "            return 1    \n",
    "        else: # cpu_gesture = spock\n",
    "            return 2\n",
    "    elif player_gesture == 'spock':\n",
    "        if cpu_gesture == 'rock':\n",
    "            return 2\n",
    "        elif cpu_gesture == 'paper':\n",
    "            return 1\n",
    "        elif cpu_gesture == 'scissors':\n",
    "            return 2    \n",
    "        else: # cpu_gesture = lizard\n",
    "            return 1\n",
    "\n",
    "def print_winner(winner):\n",
    "    global cpu_score, player_score\n",
    "    \n",
    "    print(\"\\nPlayer chose:\", player_gesture)\n",
    "    print(\"CPU chose:\", cpu_gesture)\n",
    "\n",
    "    if winner == 0:\n",
    "        print(\"\\nIt's a tie!\")\n",
    "    elif winner == 1:\n",
    "        print(\"\\nCPU wins this round!\")\n",
    "        cpu_score += 1\n",
    "    else:\n",
    "        print(\"\\nPlayer wins this round!\")\n",
    "        player_score += 1\n",
    "\n",
    "game_header()\n",
    "n = 0\n",
    "while n < n_rounds:\n",
    "\n",
    "    print(53*\"-\")\n",
    "    print(\"\\tROUND\", n+1)\n",
    "    print(53*\"-\")\n",
    "    \n",
    "    player_gesture = player_choice()\n",
    "    cpu_gesture = cpu_choice()\n",
    "    winner = who_wins(player_gesture, cpu_gesture)\n",
    "    print_winner(winner)\n",
    "\n",
    "    print(53*\"-\")\n",
    "    print(\"\\tEND ROUND\", n+1)\n",
    "    print(53*\"-\")\n",
    "\n",
    "    if player_score == rounds_to_win or cpu_score == rounds_to_win:\n",
    "        break\n",
    "\n",
    "    n += 1\n",
    "\n",
    "if player_score == cpu_score:\n",
    "    print(\"Game ends in a tie.\")\n",
    "elif player_score > cpu_score:\n",
    "    print(\"Player wins the game!\")\n",
    "else:\n",
    "    print(\"CPU wins the game!\")"
   ]
  },
  {
   "cell_type": "code",
   "execution_count": null,
   "metadata": {},
   "outputs": [],
   "source": []
  }
 ],
 "metadata": {
  "kernelspec": {
   "display_name": "Python 3",
   "language": "python",
   "name": "python3"
  },
  "language_info": {
   "codemirror_mode": {
    "name": "ipython",
    "version": 3
   },
   "file_extension": ".py",
   "mimetype": "text/x-python",
   "name": "python",
   "nbconvert_exporter": "python",
   "pygments_lexer": "ipython3",
   "version": "3.9.4"
  }
 },
 "nbformat": 4,
 "nbformat_minor": 2
}
