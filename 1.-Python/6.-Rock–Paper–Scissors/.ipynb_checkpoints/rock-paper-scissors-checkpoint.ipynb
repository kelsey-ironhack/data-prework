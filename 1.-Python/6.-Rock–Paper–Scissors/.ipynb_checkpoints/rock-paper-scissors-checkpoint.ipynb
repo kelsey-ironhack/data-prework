{
 "cells": [
  {
   "cell_type": "markdown",
   "metadata": {},
   "source": [
    "<img src=\"https://bit.ly/2VnXWr2\" width=\"100\" align=\"left\">"
   ]
  },
  {
   "cell_type": "markdown",
   "metadata": {},
   "source": [
    "# Rock, Paper & Scissors\n",
    "\n",
    "Let's play the famous game against our computer. You can check the rules [here](https://en.wikipedia.org/wiki/Rock%E2%80%93paper%E2%80%93scissors). \n",
    "\n",
    "## Task\n",
    "Create a program that imitates the playability of the well known game of rock, paper, scissors. Follow the guidelines provided.\n",
    "\n",
    "## Tools\n",
    "1. Loop: **for/while**\n",
    "2. Functions: **input(), print()...**\n",
    "3. Conditional statements: **if, elif, else**\n",
    "4. Definition of functions. Modular programming\n",
    "5. Import modules\n",
    "\n",
    "**To solve this challenge, the use of functions is recommended.**\n",
    "\n",
    "#### 1. Import the choice function of the random module."
   ]
  },
  {
   "cell_type": "code",
   "execution_count": 167,
   "metadata": {},
   "outputs": [
    {
     "name": "stdout",
     "output_type": "stream",
     "text": [
      "random item from list is:  1\n"
     ]
    }
   ],
   "source": [
    "import random\n",
    "#check random module\n",
    "numberList = [1,2,3,4]\n",
    "print(\"random item from list is: \", random.choice(numberList))"
   ]
  },
  {
   "cell_type": "markdown",
   "metadata": {},
   "source": [
    "#### 2. Create a list that includes the 3 possible gesture options of the game: 'rock', 'paper' or 'scissors'. Store the list in a variable called `gestures`."
   ]
  },
  {
   "cell_type": "code",
   "execution_count": 168,
   "metadata": {},
   "outputs": [],
   "source": [
    "#gestures = [\"rock\", \"paper\", \"scissors\"]\n",
    "\n",
    "#this list shows the gesture and indicates which othe gesture it will beat \n",
    "gestures = [(\"rock\", [2]), (\"paper\", [0]), (\"scissors\", [1])]\n",
    "\n",
    "def getGestureNameByIndex(index):\n",
    "    gestureName = gestures[index][0]\n",
    "    return gestureName\n",
    "\n",
    "def getIndexByName(gestureName):\n",
    "    for i in range(len(gestures)):\n",
    "        if gestureName == gestures[i][0]:\n",
    "            return i\n",
    "\n",
    "def getPossibleGestureNames():\n",
    "    names = list()\n",
    "    for gesture in gestures:\n",
    "        names.append(gesture[0])\n",
    "    return names\n",
    "\n",
    "def getWeakerGesturesForGesture(gestureName):\n",
    "    names = list()\n",
    "    \n",
    "    index = getIndexByName(gestureName)\n",
    "    listOfWeakerGestures = gestures[index][1]\n",
    "    \n",
    "    for gIndex in listOfWeakerGestures:\n",
    "        names.append(getGestureNameByIndex(gIndex))\n",
    "    \n",
    "    return names"
   ]
  },
  {
   "cell_type": "markdown",
   "metadata": {},
   "source": [
    "#### 3. Create a variable called `n_rounds` to store the maximum number of rounds to play in a game. \n",
    "Remember that the number of rounds must be odd: 1, 3, 5, ..."
   ]
  },
  {
   "cell_type": "code",
   "execution_count": 169,
   "metadata": {},
   "outputs": [],
   "source": [
    "n_rounds = 3"
   ]
  },
  {
   "cell_type": "markdown",
   "metadata": {},
   "source": [
    "#### 4. Create a variable called `rounds_to_win` to store the number of rounds that a player must win to win the game.\n",
    "**Hint**: the value stored in `rounds_to_win` depends on the value of `n_rounds`. "
   ]
  },
  {
   "cell_type": "code",
   "execution_count": 170,
   "metadata": {},
   "outputs": [],
   "source": [
    "import math\n",
    "\n",
    "def calculateRoundToWin(round):\n",
    "    rounds_to_win = (math.ceil(round/2))\n",
    "    return rounds_to_win\n",
    "\n",
    "rounds_to_win = calculateRoundToWin(n_rounds)"
   ]
  },
  {
   "cell_type": "markdown",
   "metadata": {},
   "source": [
    "#### 5. Create two variables to store the number of rounds that the computer and the player have won. Call these variables `cpu_score` and `player_score`."
   ]
  },
  {
   "cell_type": "code",
   "execution_count": 171,
   "metadata": {},
   "outputs": [],
   "source": [
    "cpu_score = 0\n",
    "player_score= 0\n",
    "    \n",
    "def resetScores():\n",
    "    cpu_score = 0\n",
    "    player_score= 0"
   ]
  },
  {
   "cell_type": "markdown",
   "metadata": {},
   "source": [
    "#### 6. Define a function that randomly returns one of the 3 gesture options.\n",
    "You will use this function to simulate the gesture choice of the computer. "
   ]
  },
  {
   "cell_type": "code",
   "execution_count": 172,
   "metadata": {},
   "outputs": [],
   "source": [
    "import time\n",
    "\n",
    "waitingText = [\"thinking\", \"calculating possibilities\", \"hm..\", \"calling the telephone joker..\", \"you will never beat me!\"]\n",
    "\n",
    "def chooseGesture():\n",
    "    gesture = random.choice(getPossibleGestureNames())\n",
    "    \n",
    "    time.sleep(1)\n",
    "    print(\"...\")\n",
    "    print(\"\")\n",
    "    \n",
    "    time.sleep(1)\n",
    "    print (random.choice(waitingText))\n",
    "    print(\"\")\n",
    "    \n",
    "    time.sleep(1)\n",
    "    print(\"...\")\n",
    "    print(\"\")\n",
    "    \n",
    "    time.sleep(.5)\n",
    "    return gesture"
   ]
  },
  {
   "cell_type": "markdown",
   "metadata": {},
   "source": [
    "#### 7. Define a function that asks the player which is the gesture he or she wants to show: 'rock', 'paper' or 'scissors'.\n",
    "The player should only be allowed to choose one of the 3 gesture options. If the player's choice is not rock, paper or scissors, keep asking until it is."
   ]
  },
  {
   "cell_type": "code",
   "execution_count": 173,
   "metadata": {},
   "outputs": [],
   "source": [
    "def askGesture():\n",
    "\n",
    "    isAnswerValid = False\n",
    "    \n",
    "    while isAnswerValid == False:\n",
    "        print (\"Which gesture do you want to show? The following options are available\")\n",
    "        \n",
    "        # list all possible options\n",
    "        for i in range(len(gestures)):\n",
    "            \n",
    "            optionName = getGestureNameByIndex(i)\n",
    "            listOfWeakerOptions = list()\n",
    "            \n",
    "            for k in gestures[i][1]:\n",
    "                listOfWeakerOptions.append(getGestureNameByIndex(k))\n",
    "                    \n",
    "            print(\"- '{}' will beat the following options: {}\".format(optionName, listOfWeakerOptions))\n",
    "        \n",
    "        # get the input from the user\n",
    "        gesture = input ()\n",
    "        \n",
    "        # check if gesture is valid\n",
    "        isAnswerValid = gesture in getPossibleGestureNames()\n",
    "\n",
    "    return gesture"
   ]
  },
  {
   "cell_type": "markdown",
   "metadata": {},
   "source": [
    "#### 8. Define a function that checks who won a round. \n",
    "The function should return 0 if there is a tie, 1 if the computer wins and 2 if the player wins."
   ]
  },
  {
   "cell_type": "code",
   "execution_count": 174,
   "metadata": {},
   "outputs": [],
   "source": [
    "def checkWinner(player,computer):\n",
    "    \n",
    "    if (player == computer):\n",
    "        return 0\n",
    "\n",
    "    if (player in getWeakerGesturesForGesture(computer)):\n",
    "        return 1\n",
    "    elif (computer in getWeakerGesturesForGesture(player)):\n",
    "        return 2\n",
    "    else:\n",
    "        return 0"
   ]
  },
  {
   "cell_type": "markdown",
   "metadata": {},
   "source": [
    "#### 9. Define a function that prints the choice of the computer, the choice of the player and a message that announces who won the current round. \n",
    "You should also use this function to update the variables that count the number of rounds that the computer and the player have won. The score of the winner increases by one point. If there is a tie, the score does not increase."
   ]
  },
  {
   "cell_type": "code",
   "execution_count": 175,
   "metadata": {},
   "outputs": [],
   "source": [
    "def evaluateRound(player,computer):\n",
    "    \n",
    "    global cpu_score\n",
    "    global player_score\n",
    "    \n",
    "    print(\"the computers chooses: \", computer)\n",
    "    \n",
    "    time.sleep(0.5)\n",
    "    \n",
    "    result = checkWinner(player, computer)\n",
    "    \n",
    "    if result == 1:\n",
    "        cpu_score += 1\n",
    "        print(\"--> the computer wins this round!\")\n",
    "    elif result == 2:\n",
    "        player_score += 1\n",
    "        print(\"--> the player wins this round!\")\n",
    "    elif result == 0:\n",
    "        print(\"--> tie!\")\n",
    "    \n",
    "    print(\"\")"
   ]
  },
  {
   "cell_type": "markdown",
   "metadata": {},
   "source": [
    "#### 10. Now it's time to code the execution of the game using the functions and variables you defined above. \n",
    "\n",
    "First, create a loop structure that repeats while no player reaches the minimum score necessary to win and the number of rounds is less than the maximum number of rounds to play in a game.  \n",
    "\n",
    "Inside the loop, use the functions and variables above to create the execution of a round: ask for the player's choice, generate the random choice of the computer, show the round results, update the scores, etc. "
   ]
  },
  {
   "cell_type": "code",
   "execution_count": 178,
   "metadata": {},
   "outputs": [],
   "source": [
    "def startGame():\n",
    "    \n",
    "    gameRound = 0\n",
    "    resetScores()\n",
    "    \n",
    "    while cpu_score < rounds_to_win and player_score < rounds_to_win:\n",
    "    \n",
    "        print(\"------- round {} begins ------- score of computer {} ------- score of player {} -------\".format(gameRound, cpu_score, player_score))\n",
    "        gameRound += 1\n",
    "    \n",
    "        player = askGesture()\n",
    "        computer = chooseGesture()\n",
    "        evaluateRound(player,computer)\n",
    "\n",
    "    if cpu_score == rounds_to_win:\n",
    "        print (\"The computer won the game!\")\n",
    "    elif player_score == rounds_to_win:\n",
    "        print (\"The player won the game!\")\n",
    "        \n",
    "#startGame() should only be executed when one wants to play the \"normal\" game\n",
    "#startGame()"
   ]
  },
  {
   "cell_type": "markdown",
   "metadata": {},
   "source": [
    "#### 11. Print the winner of the game based on who won more rounds.\n",
    "Remember that the game might be tied. "
   ]
  },
  {
   "cell_type": "code",
   "execution_count": null,
   "metadata": {},
   "outputs": [],
   "source": []
  },
  {
   "cell_type": "markdown",
   "metadata": {},
   "source": [
    "# Bonus: Rock, Paper, Scissors, Lizard & Spock\n",
    "![](images/rpsls.jpg)\n",
    "\n",
    "In this challenge, you need to improve the previous game by adding two new options. To know more about the rules of the improved version of rock, paper, scissors, check this [link](http://www.samkass.com/theories/RPSSL.html). \n",
    "\n",
    "In addition, you will also need to improve how the game interacts with the player: the number of rounds to play, which must be an odd number, will be requested to the user until a valid number is entered. Define a new function to make that request.\n",
    "\n",
    "**Hint**: Try to reuse the code that you already coded in the previous challenge. If your code is efficient, this bonus will only consist of simple modifications to the original game."
   ]
  },
  {
   "cell_type": "code",
   "execution_count": 177,
   "metadata": {},
   "outputs": [
    {
     "name": "stdout",
     "output_type": "stream",
     "text": [
      "How many rounds do you want to play? Hint: The number has to be an odd number\n",
      "3\n",
      "------- round 0 begins ------- score of computer 0 ------- score of player 0 -------\n",
      "Which gesture do you want to show? The following options are available\n",
      "- 'rock' will beat the following options: ['scissors', 'lizard']\n",
      "- 'paper' will beat the following options: ['rock', 'spock']\n",
      "- 'scissors' will beat the following options: ['paper', 'lizard']\n",
      "- 'spock' will beat the following options: ['rock', 'scissors']\n",
      "- 'lizard' will beat the following options: ['paper', 'spock']\n",
      "spock\n",
      "...\n",
      "\n",
      "hm..\n",
      "\n",
      "...\n",
      "\n",
      "the computers chooses:  scissors\n",
      "--> the player wins this round!\n",
      "\n",
      "------- round 1 begins ------- score of computer 0 ------- score of player 1 -------\n",
      "Which gesture do you want to show? The following options are available\n",
      "- 'rock' will beat the following options: ['scissors', 'lizard']\n",
      "- 'paper' will beat the following options: ['rock', 'spock']\n",
      "- 'scissors' will beat the following options: ['paper', 'lizard']\n",
      "- 'spock' will beat the following options: ['rock', 'scissors']\n",
      "- 'lizard' will beat the following options: ['paper', 'spock']\n",
      "lizard\n",
      "...\n",
      "\n",
      "calling the telephone joker..\n",
      "\n",
      "...\n",
      "\n",
      "the computers chooses:  rock\n",
      "--> the computer wins this round!\n",
      "\n",
      "------- round 2 begins ------- score of computer 1 ------- score of player 1 -------\n",
      "Which gesture do you want to show? The following options are available\n",
      "- 'rock' will beat the following options: ['scissors', 'lizard']\n",
      "- 'paper' will beat the following options: ['rock', 'spock']\n",
      "- 'scissors' will beat the following options: ['paper', 'lizard']\n",
      "- 'spock' will beat the following options: ['rock', 'scissors']\n",
      "- 'lizard' will beat the following options: ['paper', 'spock']\n",
      "paper\n",
      "...\n",
      "\n",
      "thinking\n",
      "\n",
      "...\n",
      "\n",
      "the computers chooses:  lizard\n",
      "--> the computer wins this round!\n",
      "\n",
      "The computer won the game!\n"
     ]
    }
   ],
   "source": [
    "def askNumberOfRound():\n",
    "\n",
    "    isAnswerValid = False\n",
    "    \n",
    "    while isAnswerValid == False:\n",
    "        print (\"How many rounds do you want to play? Hint: The number has to be an odd number\")\n",
    "        rounds = input()\n",
    "        \n",
    "        # check if number is valid\n",
    "        isAnswerValid = int(rounds) % 2 > 0\n",
    "\n",
    "    return int(rounds)\n",
    "\n",
    "# new gestures\n",
    "gestures = [(\"rock\", [2, 4]), (\"paper\", [0, 3]), (\"scissors\", [1, 4]), (\"spock\", [0, 2]), (\"lizard\", [1, 3])]\n",
    "\n",
    "n_rounds = askNumberOfRound()\n",
    "calculateRoundToWin(n_rounds)\n",
    "startGame()"
   ]
  }
 ],
 "metadata": {
  "kernelspec": {
   "display_name": "Python 3",
   "language": "python",
   "name": "python3"
  },
  "language_info": {
   "codemirror_mode": {
    "name": "ipython",
    "version": 3
   },
   "file_extension": ".py",
   "mimetype": "text/x-python",
   "name": "python",
   "nbconvert_exporter": "python",
   "pygments_lexer": "ipython3",
   "version": "3.7.6"
  }
 },
 "nbformat": 4,
 "nbformat_minor": 2
}
