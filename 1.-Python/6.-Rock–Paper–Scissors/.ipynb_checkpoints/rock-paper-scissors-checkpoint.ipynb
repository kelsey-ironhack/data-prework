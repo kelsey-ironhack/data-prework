{
 "cells": [
  {
   "cell_type": "markdown",
   "metadata": {},
   "source": [
    "<img src=\"https://bit.ly/2VnXWr2\" width=\"100\" align=\"left\">"
   ]
  },
  {
   "cell_type": "markdown",
   "metadata": {},
   "source": [
    "# Rock, Paper & Scissors\n",
    "\n",
    "Let's play the famous game against our computer. You can check the rules [here](https://en.wikipedia.org/wiki/Rock%E2%80%93paper%E2%80%93scissors). \n",
    "\n",
    "## Task\n",
    "Create a program that imitates the playability of the well known game of rock, paper, scissors. Follow the guidelines provided.\n",
    "\n",
    "## Tools\n",
    "1. Loop: **for/while**\n",
    "2. Functions: **input(), print()...**\n",
    "3. Conditional statements: **if, elif, else**\n",
    "4. Definition of functions. Modular programming\n",
    "5. Import modules\n",
    "\n",
    "**To solve this challenge, the use of functions is recommended.**\n",
    "\n",
    "#### 1. Import the choice function of the random module."
   ]
  },
  {
   "cell_type": "code",
   "execution_count": 12,
   "metadata": {},
   "outputs": [],
   "source": [
    "import random"
   ]
  },
  {
   "cell_type": "markdown",
   "metadata": {},
   "source": [
    "#### 2. Create a list that includes the 3 possible gesture options of the game: 'rock', 'paper' or 'scissors'. Store the list in a variable called `gestures`."
   ]
  },
  {
   "cell_type": "code",
   "execution_count": 13,
   "metadata": {},
   "outputs": [],
   "source": [
    "gestures = [\"rock\", \"paper\", \"scissors\", \"lizard\", \"spock\"]"
   ]
  },
  {
   "cell_type": "markdown",
   "metadata": {},
   "source": [
    "#### 3. Create a variable called `n_rounds` to store the maximum number of rounds to play in a game. \n",
    "Remember that the number of rounds must be odd: 1, 3, 5, ..."
   ]
  },
  {
   "cell_type": "code",
   "execution_count": 18,
   "metadata": {},
   "outputs": [
    {
     "name": "stdout",
     "output_type": "stream",
     "text": [
      "Decide total game rounds: a\n",
      "This is not an integer! Try again.\n",
      "Decide total game rounds: a\n",
      "This is not an integer! Try again.\n",
      "Decide total game rounds: 4\n",
      "input invalid, input an odd number\n",
      "Decide total game rounds: 5\n"
     ]
    }
   ],
   "source": [
    "def input_rounds():\n",
    " while True:\n",
    "  try:\n",
    "   n_rounds = int(input(\"Decide total game rounds: \"))\n",
    "  except ValueError:\n",
    "   print(\"This is not an integer! Try again.\")\n",
    "   continue\n",
    "  else:\n",
    "    return n_rounds\n",
    "\n",
    "n_rounds = int(input_rounds())\n",
    "rounds_check = n_rounds % 2\n",
    "\n",
    "check = 0\n",
    "while check < 1:\n",
    "  if (rounds_check == 0):\n",
    "    print(\"input invalid, input an odd number\")\n",
    "    n_rounds = int(input_rounds())\n",
    "    rounds_check = n_rounds % 2\n",
    "  else :\n",
    "    check += 1"
   ]
  },
  {
   "cell_type": "markdown",
   "metadata": {},
   "source": [
    "#### 4. Create a variable called `rounds_to_win` to store the number of rounds that a player must win to win the game.\n",
    "**Hint**: the value stored in `rounds_to_win` depends on the value of `n_rounds`. "
   ]
  },
  {
   "cell_type": "code",
   "execution_count": 19,
   "metadata": {},
   "outputs": [],
   "source": [
    "wins = 0"
   ]
  },
  {
   "cell_type": "markdown",
   "metadata": {},
   "source": [
    "#### 5. Create two variables to store the number of rounds that the computer and the player have won. Call these variables `cpu_score` and `player_score`."
   ]
  },
  {
   "cell_type": "code",
   "execution_count": 20,
   "metadata": {},
   "outputs": [],
   "source": [
    "cpu_score = 0\n",
    "player_score = 0"
   ]
  },
  {
   "cell_type": "markdown",
   "metadata": {},
   "source": [
    "#### 6. Define a function that randomly returns one of the 3 gesture options.\n",
    "You will use this function to simulate the gesture choice of the computer. "
   ]
  },
  {
   "cell_type": "code",
   "execution_count": 21,
   "metadata": {},
   "outputs": [],
   "source": [
    "def cpu_choice(): \n",
    "  return random.choice(gestures)\n"
   ]
  },
  {
   "cell_type": "markdown",
   "metadata": {},
   "source": [
    "#### 7. Define a function that asks the player which is the gesture he or she wants to show: 'rock', 'paper' or 'scissors'.\n",
    "The player should only be allowed to choose one of the 3 gesture options. If the player's choice is not rock, paper or scissors, keep asking until it is."
   ]
  },
  {
   "cell_type": "code",
   "execution_count": 22,
   "metadata": {},
   "outputs": [],
   "source": [
    "def player_choice():\n",
    "  player_choice = input(\"what is your choice: \")\n",
    "  return player_choice"
   ]
  },
  {
   "cell_type": "markdown",
   "metadata": {},
   "source": [
    "#### 8. Define a function that checks who won a round. \n",
    "The function should return 0 if there is a tie, 1 if the computer wins and 2 if the player wins."
   ]
  },
  {
   "cell_type": "code",
   "execution_count": 23,
   "metadata": {},
   "outputs": [],
   "source": [
    "\n",
    "def round_check():\n",
    "\n",
    "  player = player_choice()\n",
    "  cpu = cpu_choice()\n",
    "  score = 0\n",
    "\n",
    "  check = 0\n",
    "  while check < 1:\n",
    "   if (player == \"rock\"):\n",
    "    check += 1\n",
    "   elif (player == \"paper\"):\n",
    "    check += 1\n",
    "   elif (player == \"scissors\"):\n",
    "    check += 1\n",
    "   elif (player == \"lizard\"):\n",
    "    check += 1 \n",
    "   elif (player == \"spock\"):\n",
    "    check += 1\n",
    "   else:\n",
    "    print(\"input invalid, choose rock paper scissors lizard or spock\")\n",
    "    player = player_choice()\n",
    "   \n",
    "  if (cpu == \"rock\") & (player == \"rock\"):\n",
    "    score = 0\n",
    "\n",
    "  elif (cpu == \"rock\") & (player == \"paper\"):\n",
    "    score = 2\n",
    "\n",
    "  elif (cpu == \"rock\") & (player == \"scissors\"):\n",
    "    score = 1\n",
    "  \n",
    "  elif (cpu == \"rock\") & (player == \"lizard\"):\n",
    "    score = 1\n",
    "  \n",
    "  elif (cpu == \"rock\") & (player == \"spock\"):\n",
    "    score = 2\n",
    "\n",
    "  elif (cpu == \"paper\") & (player == \"rock\"):\n",
    "    score = 1\n",
    "\n",
    "  elif (cpu == \"paper\") & (player == \"paper\"):\n",
    "    score = 0\n",
    "\n",
    "  elif (cpu == \"paper\")& (player == \"scissors\"):\n",
    "    score = 2\n",
    "  \n",
    "  elif (cpu == \"paper\") & (player == \"lizard\"):\n",
    "    score = 2\n",
    "\n",
    "  elif (cpu == \"paper\")& (player == \"spock\"):\n",
    "    score = 1\n",
    "\n",
    "  elif (cpu == \"scissors\") & (player == \"rock\"):\n",
    "    score = 2\n",
    "\n",
    "  elif (cpu == \"scissors\") & (player == \"paper\"):\n",
    "    score = 1\n",
    "\n",
    "  elif (cpu == \"scissors\") & (player == \"scissors\"):\n",
    "    score = 0\n",
    "  \n",
    "  elif (cpu == \"scissors\") & (player == \"lizard\"):\n",
    "    score = 1\n",
    "\n",
    "  elif (cpu == \"scissors\") & (player == \"spock\"):\n",
    "    score = 2\n",
    "\n",
    "  elif (cpu == \"lizard\") & (player == \"rock\"):\n",
    "    score = 2\n",
    "  \n",
    "  elif (cpu == \"lizard\") & (player == \"paper\"):\n",
    "    score = 1\n",
    "\n",
    "  elif (cpu == \"lizard\") & (player == \"scissors\"):\n",
    "    score = 2\n",
    "\n",
    "  elif (cpu == \"lizard\") & (player == \"lizard\"):\n",
    "    score = 0\n",
    "\n",
    "  elif (cpu == \"lizard\") & (player == \"spock\"):\n",
    "    score = 1\n",
    "  \n",
    "  elif (cpu == \"spock\") & (player == \"rock\"):\n",
    "    score = 1\n",
    "  \n",
    "  elif (cpu == \"spock\") & (player == \"paper\"):\n",
    "    score = 2\n",
    "\n",
    "  elif (cpu == \"spock\") & (player == \"scissors\"):\n",
    "    score = 1\n",
    "\n",
    "  elif (cpu == \"spock\") & (player == \"lizard\"):\n",
    "    score = 2\n",
    "\n",
    "  elif (cpu == \"spock\") & (player == \"spock\"):\n",
    "    score = 0\n",
    "  \n",
    "  else:\n",
    "    print(\"error\")\n",
    "  \n",
    "  values = [score,player,cpu]\n",
    "\n",
    "  return values\n"
   ]
  },
  {
   "cell_type": "markdown",
   "metadata": {},
   "source": [
    "#### 9. Define a function that prints the choice of the computer, the choice of the player and a message that announces who won the current round. \n",
    "You should also use this function to update the variables that count the number of rounds that the computer and the player have won. The score of the winner increases by one point. If there is a tie, the score does not increase."
   ]
  },
  {
   "cell_type": "code",
   "execution_count": 24,
   "metadata": {},
   "outputs": [],
   "source": [
    "def print_round():\n",
    "\n",
    " values = round_check()\n",
    " round_winner = values[0]\n",
    " cpu_choice = values[2]\n",
    " player_choice = values[1]\n",
    " cpu_score = 0\n",
    " player_score = 0\n",
    "\n",
    " if round_winner == 1:\n",
    "    print(\"cpu choice:\",cpu_choice)\n",
    "    print(\"player choice:\",player_choice)\n",
    "    print(\"Cpu wins round!\")\n",
    "    cpu_score += 1\n",
    "\n",
    " elif round_winner == 2:\n",
    "    print(\"cpu choice:\",cpu_choice)\n",
    "    print(\"player choice:\",player_choice)\n",
    "    print(\"Player wins round!\")\n",
    "    player_score += 1\n",
    "\n",
    " elif round_winner == 0:\n",
    "    print(\"cpu choice:\",cpu_choice)\n",
    "    print(\"player choice:\",player_choice)\n",
    "    print(\"Tied!\")\n",
    "\n",
    " values = [cpu_score, player_score]\n",
    " return values"
   ]
  },
  {
   "cell_type": "markdown",
   "metadata": {},
   "source": [
    "#### 10. Now it's time to code the execution of the game using the functions and variables you defined above. \n",
    "\n",
    "First, create a loop structure that repeats while no player reaches the minimum score necessary to win and the number of rounds is less than the maximum number of rounds to play in a game.  \n",
    "\n",
    "Inside the loop, use the functions and variables above to create the execution of a round: ask for the player's choice, generate the random choice of the computer, show the round results, update the scores, etc. "
   ]
  },
  {
   "cell_type": "code",
   "execution_count": 25,
   "metadata": {},
   "outputs": [
    {
     "name": "stdout",
     "output_type": "stream",
     "text": [
      "what is your choice: lizard\n",
      "cpu choice: scissors\n",
      "player choice: lizard\n",
      "Cpu wins round!\n",
      "cpu score: 1 player score: 0\n",
      "what is your choice: spock\n",
      "cpu choice: scissors\n",
      "player choice: spock\n",
      "Player wins round!\n",
      "cpu score: 1 player score: 1\n",
      "what is your choice: paper\n",
      "cpu choice: rock\n",
      "player choice: paper\n",
      "Player wins round!\n",
      "cpu score: 1 player score: 2\n",
      "what is your choice: rock\n",
      "cpu choice: lizard\n",
      "player choice: rock\n",
      "Player wins round!\n",
      "cpu score: 1 player score: 3\n"
     ]
    }
   ],
   "source": [
    "cpu_score = 0\n",
    "player_score = 0\n",
    "wins = (n_rounds / 2) + 0.5\n",
    "rounds = 0\n",
    "\n",
    "while (player_score < wins) & (cpu_score < wins) & (rounds < n_rounds)  :\n",
    "  values = print_round()\n",
    "  player_score += values[1]\n",
    "  cpu_score += values[0]\n",
    "  rounds += 1\n",
    "  print(\"cpu score:\", cpu_score, \"player score:\", player_score)"
   ]
  },
  {
   "cell_type": "markdown",
   "metadata": {},
   "source": [
    "#### 11. Print the winner of the game based on who won more rounds.\n",
    "Remember that the game might be tied. "
   ]
  },
  {
   "cell_type": "code",
   "execution_count": 26,
   "metadata": {},
   "outputs": [
    {
     "name": "stdout",
     "output_type": "stream",
     "text": [
      "PLAYER WINS THE GAME!\n"
     ]
    }
   ],
   "source": [
    "if player_score > cpu_score:\n",
    " print(\"PLAYER WINS THE GAME!\")\n",
    "elif player_score < cpu_score:\n",
    " print(\"CPU WINS THE GAME!\")\n",
    "else:\n",
    "  print(\"GAME TIED!\")"
   ]
  },
  {
   "cell_type": "markdown",
   "metadata": {},
   "source": [
    "# Bonus: Rock, Paper, Scissors, Lizard & Spock\n",
    "![](images/rpsls.jpg)\n",
    "\n",
    "In this challenge, you need to improve the previous game by adding two new options. To know more about the rules of the improved version of rock, paper, scissors, check this [link](http://www.samkass.com/theories/RPSSL.html). \n",
    "\n",
    "In addition, you will also need to improve how the game interacts with the player: the number of rounds to play, which must be an odd number, will be requested to the user until a valid number is entered. Define a new function to make that request.\n",
    "\n",
    "**Hint**: Try to reuse the code that you already coded in the previous challenge. If your code is efficient, this bonus will only consist of simple modifications to the original game."
   ]
  },
  {
   "cell_type": "code",
   "execution_count": null,
   "metadata": {},
   "outputs": [],
   "source": []
  }
 ],
 "metadata": {
  "kernelspec": {
   "display_name": "Python 3",
   "language": "python",
   "name": "python3"
  },
  "language_info": {
   "codemirror_mode": {
    "name": "ipython",
    "version": 3
   },
   "file_extension": ".py",
   "mimetype": "text/x-python",
   "name": "python",
   "nbconvert_exporter": "python",
   "pygments_lexer": "ipython3",
   "version": "3.8.3"
  }
 },
 "nbformat": 4,
 "nbformat_minor": 2
}
