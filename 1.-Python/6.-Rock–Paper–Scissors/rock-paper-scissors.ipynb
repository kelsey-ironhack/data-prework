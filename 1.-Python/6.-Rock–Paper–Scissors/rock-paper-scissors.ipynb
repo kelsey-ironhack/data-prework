{
 "cells": [
  {
   "cell_type": "markdown",
   "metadata": {},
   "source": [
    "<img src=\"https://bit.ly/2VnXWr2\" width=\"100\" align=\"left\">"
   ]
  },
  {
   "cell_type": "markdown",
   "metadata": {},
   "source": [
    "# Rock, Paper & Scissors\n",
    "\n",
    "Let's play the famous game against our computer. You can check the rules [here](https://en.wikipedia.org/wiki/Rock%E2%80%93paper%E2%80%93scissors). \n",
    "\n",
    "## Task\n",
    "Create a program that imitates the playability of the well known game of rock, paper, scissors. Follow the guidelines provided.\n",
    "\n",
    "## Tools\n",
    "1. Loop: **for/while**\n",
    "2. Functions: **input(), print()...**\n",
    "3. Conditional statements: **if, elif, else**\n",
    "4. Definition of functions. Modular programming\n",
    "5. Import modules\n",
    "\n",
    "**To solve this challenge, the use of functions is recommended.**\n",
    "\n",
    "#### 1. Import the choice function of the random module."
   ]
  },
  {
   "cell_type": "code",
   "execution_count": 1,
   "metadata": {},
   "outputs": [],
   "source": [
    "import random"
   ]
  },
  {
   "cell_type": "markdown",
   "metadata": {},
   "source": [
    "#### 2. Create a list that includes the 3 possible gesture options of the game: 'rock', 'paper' or 'scissors'. Store the list in a variable called `gestures`."
   ]
  },
  {
   "cell_type": "code",
   "execution_count": 2,
   "metadata": {},
   "outputs": [],
   "source": [
    "gestures = ['rock', 'paper', 'scissors']"
   ]
  },
  {
   "cell_type": "markdown",
   "metadata": {},
   "source": [
    "#### 3. Create a variable called `n_rounds` to store the maximum number of rounds to play in a game. \n",
    "Remember that the number of rounds must be odd: 1, 3, 5, ..."
   ]
  },
  {
   "cell_type": "code",
   "execution_count": 3,
   "metadata": {},
   "outputs": [],
   "source": [
    "n_rounds = 0\n",
    "# this will be asked in the game function itself for the user to define it"
   ]
  },
  {
   "cell_type": "markdown",
   "metadata": {},
   "source": [
    "#### 4. Create a variable called `rounds_to_win` to store the number of rounds that a player must win to win the game.\n",
    "**Hint**: the value stored in `rounds_to_win` depends on the value of `n_rounds`. "
   ]
  },
  {
   "cell_type": "code",
   "execution_count": 4,
   "metadata": {},
   "outputs": [],
   "source": [
    "import math\n",
    "rounds_to_win = 0\n",
    "\n",
    "def rounds_to_win(x):\n",
    "    global rounds_to_win\n",
    "    if x%2 == 0:\n",
    "        return x/2 + 1\n",
    "    else:\n",
    "        return math.ceil(x/2)"
   ]
  },
  {
   "cell_type": "markdown",
   "metadata": {},
   "source": [
    "#### 5. Create two variables to store the number of rounds that the computer and the player have won. Call these variables `cpu_score` and `player_score`."
   ]
  },
  {
   "cell_type": "code",
   "execution_count": 5,
   "metadata": {},
   "outputs": [],
   "source": [
    "cpu_score = 0\n",
    "player_score = 0"
   ]
  },
  {
   "cell_type": "markdown",
   "metadata": {},
   "source": [
    "#### 6. Define a function that randomly returns one of the 3 gesture options.\n",
    "You will use this function to simulate the gesture choice of the computer. "
   ]
  },
  {
   "cell_type": "code",
   "execution_count": 6,
   "metadata": {},
   "outputs": [],
   "source": [
    "def cpu_gesture():\n",
    "    cpu = random.randrange(3)\n",
    "    return cpu"
   ]
  },
  {
   "cell_type": "markdown",
   "metadata": {},
   "source": [
    "#### 7. Define a function that asks the player which is the gesture he or she wants to show: 'rock', 'paper' or 'scissors'.\n",
    "The player should only be allowed to choose one of the 3 gesture options. If the player's choice is not rock, paper or scissors, keep asking until it is."
   ]
  },
  {
   "cell_type": "code",
   "execution_count": 7,
   "metadata": {},
   "outputs": [],
   "source": [
    "def player_gesture():\n",
    "    player = input(\"Please input the gesture you wish to play: e.g. rock, paper or scissors \").lower()\n",
    "    while player not in gestures:\n",
    "        print(\"Incompatible input detected: Please input the gesture you wish to play in the format of: rock, paper or scissors \")\n",
    "        player = input(\"Please input the gesture you wish to play: e.g. rock, paper or scissors \").lower()\n",
    "    return player"
   ]
  },
  {
   "cell_type": "markdown",
   "metadata": {},
   "source": [
    "#### 8. Define a function that checks who won a round. \n",
    "The function should return 0 if there is a tie, 1 if the computer wins and 2 if the player wins."
   ]
  },
  {
   "cell_type": "code",
   "execution_count": 8,
   "metadata": {},
   "outputs": [],
   "source": [
    "def checks(c, p):\n",
    "    return (c-p)%3\n",
    "    "
   ]
  },
  {
   "cell_type": "markdown",
   "metadata": {},
   "source": [
    "#### 9. Define a function that prints the choice of the computer, the choice of the player and a message that announces who won the current round. \n",
    "You should also use this function to update the variables that count the number of rounds that the computer and the player have won. The score of the winner increases by one point. If there is a tie, the score does not increase."
   ]
  },
  {
   "cell_type": "code",
   "execution_count": 9,
   "metadata": {},
   "outputs": [],
   "source": [
    "def mechanism():\n",
    "    computer = cpu_gesture()\n",
    "    player = player_gesture()\n",
    "    outcome = checks(computer, gestures.index(player))\n",
    "    global cpu_score, player_score\n",
    "    if outcome == 0:\n",
    "        results = \"Tie\"\n",
    "    elif outcome == 1:\n",
    "        cpu_score +=1\n",
    "        results = \"Computer wins\"\n",
    "    elif outcome == 2:\n",
    "        player_score +=1\n",
    "        results = \"Yon win\"\n",
    "    else:\n",
    "        print(\"ERROR\")\n",
    "    print(f\"The choice of the computer is {gestures[computer]}.\\nYou have chosen {player}.\\nThe outcome of this round is: {results}.\")\n",
    "    "
   ]
  },
  {
   "cell_type": "markdown",
   "metadata": {},
   "source": [
    "#### 10. Now it's time to code the execution of the game using the functions and variables you defined above. \n",
    "\n",
    "First, create a loop structure that repeats while no player reaches the minimum score necessary to win and the number of rounds is less than the maximum number of rounds to play in a game.  \n",
    "\n",
    "Inside the loop, use the functions and variables above to create the execution of a round: ask for the player's choice, generate the random choice of the computer, show the round results, update the scores, etc. "
   ]
  },
  {
   "cell_type": "code",
   "execution_count": 10,
   "metadata": {},
   "outputs": [
    {
     "name": "stdout",
     "output_type": "stream",
     "text": [
      "Please indicate the number of rounds you wish to play in odd numbers: e.g. 1, 3, 5...2\n",
      "This is round 1:\n",
      "Please input the gesture you wish to play: e.g. rock, paper or scissors scissors\n",
      "The choice of the computer is scissors.\n",
      "You have chosen scissors.\n",
      "The outcome of this round is: Tie.\n",
      "The current score is: Player = 0 and Computer = 0.\n",
      "This is round 2:\n",
      "Please input the gesture you wish to play: e.g. rock, paper or scissors rock\n",
      "The choice of the computer is rock.\n",
      "You have chosen rock.\n",
      "The outcome of this round is: Tie.\n",
      "The current score is: Player = 0 and Computer = 0.\n"
     ]
    }
   ],
   "source": [
    "def play():\n",
    "    global n_rounds, rounds_to_win\n",
    "    n_rounds = abs(int(input(\"Please indicate the number of rounds you wish to play in odd numbers: e.g. 1, 3, 5...\")))\n",
    "    rounds_to_win = rounds_to_win(n_rounds)\n",
    "    rounds = 0\n",
    "    while (cpu_score < rounds_to_win) & (player_score < rounds_to_win) & (n_rounds > rounds):\n",
    "        rounds += 1\n",
    "        print(f\"This is round {rounds}:\")\n",
    "        mechanism()\n",
    "        print(f\"The current score is: Player = {player_score} and Computer = {cpu_score}.\")\n",
    "\n",
    "play()"
   ]
  },
  {
   "cell_type": "markdown",
   "metadata": {},
   "source": [
    "#### 11. Print the winner of the game based on who won more rounds.\n",
    "Remember that the game might be tied. "
   ]
  },
  {
   "cell_type": "code",
   "execution_count": 11,
   "metadata": {},
   "outputs": [
    {
     "name": "stdout",
     "output_type": "stream",
     "text": [
      "TIE.\n"
     ]
    }
   ],
   "source": [
    "if player_score == rounds_to_win:\n",
    "    print(f\"You are the winner!\")\n",
    "elif cpu_score == rounds_to_win:\n",
    "    print(f\"Gameover: Computer is the winner.\")\n",
    "else:\n",
    "    print(f\"TIE.\")"
   ]
  },
  {
   "cell_type": "markdown",
   "metadata": {},
   "source": [
    "# Bonus: Rock, Paper, Scissors, Lizard & Spock\n",
    "![](images/rpsls.jpg)\n",
    "\n",
    "In this challenge, you need to improve the previous game by adding two new options. To know more about the rules of the improved version of rock, paper, scissors, check this [link](http://www.samkass.com/theories/RPSSL.html). \n",
    "\n",
    "In addition, you will also need to improve how the game interacts with the player: the number of rounds to play, which must be an odd number, will be requested to the user until a valid number is entered. Define a new function to make that request.\n",
    "\n",
    "**Hint**: Try to reuse the code that you already coded in the previous challenge. If your code is efficient, this bonus will only consist of simple modifications to the original game."
   ]
  },
  {
   "cell_type": "code",
   "execution_count": null,
   "metadata": {},
   "outputs": [],
   "source": []
  }
 ],
 "metadata": {
  "kernelspec": {
   "display_name": "Python 3",
   "language": "python",
   "name": "python3"
  },
  "language_info": {
   "codemirror_mode": {
    "name": "ipython",
    "version": 3
   },
   "file_extension": ".py",
   "mimetype": "text/x-python",
   "name": "python",
   "nbconvert_exporter": "python",
   "pygments_lexer": "ipython3",
   "version": "3.8.2"
  }
 },
 "nbformat": 4,
 "nbformat_minor": 2
}
