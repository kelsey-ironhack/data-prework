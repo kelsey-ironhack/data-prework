{
 "cells": [
  {
   "cell_type": "markdown",
   "metadata": {},
   "source": [
    "<img src=\"https://bit.ly/2VnXWr2\" width=\"100\" align=\"left\">"
   ]
  },
  {
   "cell_type": "markdown",
   "metadata": {},
   "source": [
    "# Rock, Paper & Scissors\n",
    "\n",
    "Let's play the famous game against our computer. You can check the rules [here](https://en.wikipedia.org/wiki/Rock%E2%80%93paper%E2%80%93scissors). \n",
    "\n",
    "## Task\n",
    "Create a program that imitates the playability of the well known game of rock, paper, scissors. Follow the guidelines provided.\n",
    "\n",
    "## Tools\n",
    "1. Loop: **for/while**\n",
    "2. Functions: **input(), print()...**\n",
    "3. Conditional statements: **if, elif, else**\n",
    "4. Definition of functions. Modular programming\n",
    "5. Import modules\n",
    "\n",
    "**To solve this challenge, the use of functions is recommended.**\n",
    "\n",
    "#### 1. Import the choice function of the random module."
   ]
  },
  {
   "cell_type": "code",
   "execution_count": null,
   "metadata": {},
   "outputs": [],
   "source": [
    "import random\n",
    "    "
   ]
  },
  {
   "cell_type": "markdown",
   "metadata": {},
   "source": [
    "#### 2. Create a list that includes the 3 possible gesture options of the game: 'rock', 'paper' or 'scissors'. Store the list in a variable called `gestures`."
   ]
  },
  {
   "cell_type": "code",
   "execution_count": 2,
   "metadata": {},
   "outputs": [],
   "source": [
    "import random\n",
    "gestures = ['rock','paper','scissors']\n"
   ]
  },
  {
   "cell_type": "markdown",
   "metadata": {},
   "source": [
    "#### 3. Create a variable called `n_rounds` to store the maximum number of rounds to play in a game. \n",
    "Remember that the number of rounds must be odd: 1, 3, 5, ..."
   ]
  },
  {
   "cell_type": "code",
   "execution_count": 3,
   "metadata": {},
   "outputs": [
    {
     "data": {
      "text/plain": [
       "'paper'"
      ]
     },
     "execution_count": 3,
     "metadata": {},
     "output_type": "execute_result"
    }
   ],
   "source": [
    "import random\n",
    "gestures = ['rock','paper','scissors']\n",
    "n_rounds = 5\n",
    "\n"
   ]
  },
  {
   "cell_type": "markdown",
   "metadata": {},
   "source": [
    "#### 4. Create a variable called `rounds_to_win` to store the number of rounds that a player must win to win the game.\n",
    "**Hint**: the value stored in `rounds_to_win` depends on the value of `n_rounds`. "
   ]
  },
  {
   "cell_type": "code",
   "execution_count": null,
   "metadata": {},
   "outputs": [],
   "source": [
    "\n",
    "gestures = ['rock','paper','scissors']\n",
    "n_rounds = 5\n",
    "rounds_to_win = 3"
   ]
  },
  {
   "cell_type": "markdown",
   "metadata": {},
   "source": [
    "#### 5. Create two variables to store the number of rounds that the computer and the player have won. Call these variables `cpu_score` and `player_score`."
   ]
  },
  {
   "cell_type": "code",
   "execution_count": null,
   "metadata": {},
   "outputs": [],
   "source": [
    "\n",
    "gestures = ['rock','paper','scissors']\n",
    "n_rounds = 5\n",
    "rounds_to_win = 3\n",
    "cpu_score = 0\n",
    "player_score = 0"
   ]
  },
  {
   "cell_type": "markdown",
   "metadata": {},
   "source": [
    "#### 6. Define a function that randomly returns one of the 3 gesture options.\n",
    "You will use this function to simulate the gesture choice of the computer. "
   ]
  },
  {
   "cell_type": "code",
   "execution_count": 4,
   "metadata": {},
   "outputs": [
    {
     "data": {
      "text/plain": [
       "'paper'"
      ]
     },
     "execution_count": 4,
     "metadata": {},
     "output_type": "execute_result"
    }
   ],
   "source": [
    "import random\n",
    "gestures = ['rock','paper','scissors']\n",
    "n_rounds = 5\n",
    "rounds_to_win = 3\n",
    "cpu_score = 0\n",
    "player_score = 0\n",
    "random.choice(gestures)"
   ]
  },
  {
   "cell_type": "markdown",
   "metadata": {},
   "source": [
    "#### 7. Define a function that asks the player which is the gesture he or she wants to show: 'rock', 'paper' or 'scissors'.\n",
    "The player should only be allowed to choose one of the 3 gesture options. If the player's choice is not rock, paper or scissors, keep asking until it is."
   ]
  },
  {
   "cell_type": "code",
   "execution_count": 77,
   "metadata": {},
   "outputs": [
    {
     "name": "stdout",
     "output_type": "stream",
     "text": [
      "Seleccione rock, paper o scissors:rock\n",
      "CPU: scissors\n",
      "Player: rock\n",
      "Seleccione rock, paper o scissors:rock\n",
      "CPU: paper\n",
      "Player: rock\n",
      "Seleccione rock, paper o scissors:rock\n",
      "CPU: scissors\n",
      "Player: rock\n",
      "Seleccione rock, paper o scissors:rock\n",
      "CPU: scissors\n",
      "Player: rock\n",
      "Seleccione rock, paper o scissors:rock\n",
      "CPU: scissors\n",
      "Player: rock\n",
      "Player: ['rock', 'rock', 'rock', 'rock', 'rock']\n",
      "CPU: ['scissors', 'paper', 'scissors', 'scissors', 'scissors']\n"
     ]
    }
   ],
   "source": [
    "import random\n",
    "gestures = ['rock','paper','scissors']\n",
    "n_rounds = 5\n",
    "rounds_to_win = 3\n",
    "cpu_score = 0\n",
    "player_score = 0\n",
    "\n",
    "player_choose = []\n",
    "cpu_choose = []\n",
    "\n",
    "count = 0\n",
    "while count < n_rounds:\n",
    "    player = input('Seleccione rock, paper o scissors:')\n",
    "    cpu = random.choice(gestures)\n",
    "    print('CPU:',cpu)\n",
    "    if (player =='rock')|(player =='paper')|(player =='scissors'):\n",
    "        print('Player:',player)\n",
    "        player_choose.append(player)\n",
    "        cpu_choose.append(cpu)\n",
    "    else:\n",
    "        print('Elegir de nuevo')\n",
    "    count = count +1\n",
    "\n",
    "print('Player:',player_choose)\n",
    "print('CPU:',cpu_choose)"
   ]
  },
  {
   "cell_type": "markdown",
   "metadata": {},
   "source": [
    "#### 8. Define a function that checks who won a round. \n",
    "The function should return 0 if there is a tie, 1 if the computer wins and 2 if the player wins."
   ]
  },
  {
   "cell_type": "code",
   "execution_count": 88,
   "metadata": {},
   "outputs": [
    {
     "name": "stdout",
     "output_type": "stream",
     "text": [
      "Seleccione rock, paper o scissors:rock\n",
      "CPU: rock\n",
      "Player: rock\n",
      "[0]\n",
      "Seleccione rock, paper o scissors:paper\n",
      "CPU: paper\n",
      "Player: paper\n",
      "[0, 0]\n",
      "Seleccione rock, paper o scissors:scissors\n",
      "CPU: paper\n",
      "Player: scissors\n",
      "[0, 0, 2]\n",
      "Seleccione rock, paper o scissors:rock\n",
      "CPU: scissors\n",
      "Player: rock\n",
      "[0, 0, 2, 2]\n",
      "Seleccione rock, paper o scissors:paper\n",
      "CPU: rock\n",
      "Player: paper\n",
      "[0, 0, 2, 2, 2]\n",
      "Player: ['rock', 'paper', 'scissors', 'rock', 'paper']\n",
      "CPU: ['rock', 'paper', 'paper', 'scissors', 'rock']\n",
      "[0, 0, 2, 2, 2]\n"
     ]
    }
   ],
   "source": [
    "import random\n",
    "gestures = ['rock','paper','scissors']\n",
    "n_rounds = 5\n",
    "rounds_to_win = 3\n",
    "cpu_score = 0\n",
    "player_score = 0\n",
    "\n",
    "player_choose = []\n",
    "cpu_choose = []\n",
    "score = []\n",
    "\n",
    "count = 0\n",
    "while count < n_rounds:\n",
    "    player = input('Seleccione rock, paper o scissors:')\n",
    "    cpu = random.choice(gestures)\n",
    "    print('CPU:',cpu)\n",
    "    if (player =='rock')|(player =='paper')|(player =='scissors'):\n",
    "        print('Player:',player)\n",
    "        if (player =='rock') & (cpu =='rock'):\n",
    "            score.append(0)\n",
    "        if (player =='rock') & (cpu =='paper'):\n",
    "            score.append(1)\n",
    "        if (player =='rock') & (cpu =='scissors'):\n",
    "            score.append(2)\n",
    "        if (player =='paper') & (cpu =='paper'):\n",
    "            score.append(0)\n",
    "        if (player =='paper') & (cpu =='scissors'):\n",
    "            score.append(1)\n",
    "        if (player =='paper') & (cpu =='rock'):\n",
    "            score.append(2)\n",
    "        if (player =='scissors') & (cpu =='scissors'):\n",
    "            score.append(0)\n",
    "        if (player =='scissors') & (cpu =='rock'):\n",
    "            score.append(1)\n",
    "        if (player =='scissors') & (cpu =='paper'):\n",
    "            score.append(2)\n",
    "        player_choose.append(player)\n",
    "        cpu_choose.append(cpu)\n",
    "    else:\n",
    "        print('Elegir de nuevo')\n",
    "    count = count +1\n",
    "\n",
    "print('Player:',player_choose)\n",
    "print('CPU:',cpu_choose)\n",
    "print(score)"
   ]
  },
  {
   "cell_type": "code",
   "execution_count": 91,
   "metadata": {},
   "outputs": [
    {
     "name": "stdout",
     "output_type": "stream",
     "text": [
      "Seleccione rock, paper o scissors:rock\n",
      "CPU: paper\n",
      "Player: rock\n",
      "Cpu gana\n",
      "Seleccione rock, paper o scissors:rock\n",
      "CPU: rock\n",
      "Player: rock\n",
      "Empate\n",
      "Seleccione rock, paper o scissors:rock\n",
      "CPU: paper\n",
      "Player: rock\n",
      "Cpu gana\n",
      "Seleccione rock, paper o scissors:rock\n",
      "CPU: scissors\n",
      "Player: rock\n",
      "Jugador gana\n",
      "Seleccione rock, paper o scissors:rock\n",
      "CPU: paper\n",
      "Player: rock\n",
      "Cpu gana\n",
      "Player: ['rock', 'rock', 'rock', 'rock', 'rock']\n",
      "CPU: ['paper', 'rock', 'paper', 'scissors', 'paper']\n",
      "[1, 0, 1, 2, 1]\n",
      "3\n",
      "1\n"
     ]
    }
   ],
   "source": [
    "import random\n",
    "gestures = ['rock','paper','scissors']\n",
    "n_rounds = 5\n",
    "rounds_to_win = 3\n",
    "cpu_score = 0\n",
    "player_score = 0\n",
    "\n",
    "player_choose = []\n",
    "cpu_choose = []\n",
    "score = []\n",
    "\n",
    "count = 0\n",
    "while count < n_rounds:\n",
    "    player = input('Seleccione rock, paper o scissors:')\n",
    "    cpu = random.choice(gestures)\n",
    "    print('CPU:',cpu)\n",
    "    if (player =='rock')|(player =='paper')|(player =='scissors'):\n",
    "        print('Player:',player)\n",
    "        if (player =='rock') & (cpu =='rock'):\n",
    "            score.append(0)\n",
    "            print('Empate')\n",
    "        if (player =='rock') & (cpu =='paper'):\n",
    "            score.append(1)\n",
    "            print('Cpu gana')\n",
    "            cpu_score = cpu_score+1\n",
    "        if (player =='rock') & (cpu =='scissors'):\n",
    "            score.append(2)\n",
    "            print('Jugador gana')\n",
    "            player_score = player_score +1\n",
    "        if (player =='paper') & (cpu =='paper'):\n",
    "            score.append(0)\n",
    "            print('Empate')\n",
    "        if (player =='paper') & (cpu =='scissors'):\n",
    "            score.append(1)\n",
    "            print('Cpu gana')\n",
    "            cpu_score = cpu_score+1\n",
    "        if (player =='paper') & (cpu =='rock'):\n",
    "            score.append(2)\n",
    "            print('Jugador gana')\n",
    "            player_score = player_score +1\n",
    "        if (player =='scissors') & (cpu =='scissors'):\n",
    "            score.append(0)\n",
    "            print('Empate')\n",
    "        if (player =='scissors') & (cpu =='rock'):\n",
    "            score.append(1)\n",
    "            print('Cpu gana')\n",
    "            cpu_score = cpu_score+1\n",
    "        if (player =='scissors') & (cpu =='paper'):\n",
    "            score.append(2)\n",
    "            print('Jugador gana')\n",
    "            player_score = player_score +1\n",
    "        player_choose.append(player)\n",
    "        cpu_choose.append(cpu)\n",
    "    else:\n",
    "        print('Elegir de nuevo')\n",
    "    count = count +1\n",
    "\n",
    "print('Player:',player_choose)\n",
    "print('CPU:',cpu_choose)\n",
    "print(score)\n",
    "print(cpu_score)\n",
    "print(player_score)"
   ]
  },
  {
   "cell_type": "raw",
   "metadata": {},
   "source": [
    "#### 9. Define a function that prints the choice of the computer, the choice of the player and a message that announces who won the current round. \n",
    "You should also use this function to update the variables that count the number of rounds that the computer and the player have won. The score of the winner increases by one point. If there is a tie, the score does not increase."
   ]
  },
  {
   "cell_type": "markdown",
   "metadata": {},
   "source": [
    "#### 10. Now it's time to code the execution of the game using the functions and variables you defined above. \n",
    "\n",
    "First, create a loop structure that repeats while no player reaches the minimum score necessary to win and the number of rounds is less than the maximum number of rounds to play in a game.  \n",
    "\n",
    "Inside the loop, use the functions and variables above to create the execution of a round: ask for the player's choice, generate the random choice of the computer, show the round results, update the scores, etc. "
   ]
  },
  {
   "cell_type": "code",
   "execution_count": 92,
   "metadata": {},
   "outputs": [
    {
     "name": "stdout",
     "output_type": "stream",
     "text": [
      "Seleccione rock, paper o scissors:rock\n",
      "CPU: scissors\n",
      "Player: rock\n",
      "Jugador gana\n"
     ]
    },
    {
     "ename": "KeyboardInterrupt",
     "evalue": "Interrupted by user",
     "output_type": "error",
     "traceback": [
      "\u001b[1;31m---------------------------------------------------------------------------\u001b[0m",
      "\u001b[1;31mKeyboardInterrupt\u001b[0m                         Traceback (most recent call last)",
      "\u001b[1;32m<ipython-input-92-ba36de6d5433>\u001b[0m in \u001b[0;36m<module>\u001b[1;34m\u001b[0m\n\u001b[0;32m     12\u001b[0m \u001b[0mcount\u001b[0m \u001b[1;33m=\u001b[0m \u001b[1;36m0\u001b[0m\u001b[1;33m\u001b[0m\u001b[1;33m\u001b[0m\u001b[0m\n\u001b[0;32m     13\u001b[0m \u001b[1;32mwhile\u001b[0m \u001b[0mcount\u001b[0m \u001b[1;33m<\u001b[0m \u001b[0mn_rounds\u001b[0m\u001b[1;33m:\u001b[0m\u001b[1;33m\u001b[0m\u001b[1;33m\u001b[0m\u001b[0m\n\u001b[1;32m---> 14\u001b[1;33m     \u001b[0mplayer\u001b[0m \u001b[1;33m=\u001b[0m \u001b[0minput\u001b[0m\u001b[1;33m(\u001b[0m\u001b[1;34m'Seleccione rock, paper o scissors:'\u001b[0m\u001b[1;33m)\u001b[0m\u001b[1;33m\u001b[0m\u001b[1;33m\u001b[0m\u001b[0m\n\u001b[0m\u001b[0;32m     15\u001b[0m     \u001b[0mcpu\u001b[0m \u001b[1;33m=\u001b[0m \u001b[0mrandom\u001b[0m\u001b[1;33m.\u001b[0m\u001b[0mchoice\u001b[0m\u001b[1;33m(\u001b[0m\u001b[0mgestures\u001b[0m\u001b[1;33m)\u001b[0m\u001b[1;33m\u001b[0m\u001b[1;33m\u001b[0m\u001b[0m\n\u001b[0;32m     16\u001b[0m     \u001b[0mprint\u001b[0m\u001b[1;33m(\u001b[0m\u001b[1;34m'CPU:'\u001b[0m\u001b[1;33m,\u001b[0m\u001b[0mcpu\u001b[0m\u001b[1;33m)\u001b[0m\u001b[1;33m\u001b[0m\u001b[1;33m\u001b[0m\u001b[0m\n",
      "\u001b[1;32m~\\anaconda3\\lib\\site-packages\\ipykernel\\kernelbase.py\u001b[0m in \u001b[0;36mraw_input\u001b[1;34m(self, prompt)\u001b[0m\n\u001b[0;32m    858\u001b[0m                 \u001b[1;34m\"raw_input was called, but this frontend does not support input requests.\"\u001b[0m\u001b[1;33m\u001b[0m\u001b[1;33m\u001b[0m\u001b[0m\n\u001b[0;32m    859\u001b[0m             )\n\u001b[1;32m--> 860\u001b[1;33m         return self._input_request(str(prompt),\n\u001b[0m\u001b[0;32m    861\u001b[0m             \u001b[0mself\u001b[0m\u001b[1;33m.\u001b[0m\u001b[0m_parent_ident\u001b[0m\u001b[1;33m,\u001b[0m\u001b[1;33m\u001b[0m\u001b[1;33m\u001b[0m\u001b[0m\n\u001b[0;32m    862\u001b[0m             \u001b[0mself\u001b[0m\u001b[1;33m.\u001b[0m\u001b[0m_parent_header\u001b[0m\u001b[1;33m,\u001b[0m\u001b[1;33m\u001b[0m\u001b[1;33m\u001b[0m\u001b[0m\n",
      "\u001b[1;32m~\\anaconda3\\lib\\site-packages\\ipykernel\\kernelbase.py\u001b[0m in \u001b[0;36m_input_request\u001b[1;34m(self, prompt, ident, parent, password)\u001b[0m\n\u001b[0;32m    902\u001b[0m             \u001b[1;32mexcept\u001b[0m \u001b[0mKeyboardInterrupt\u001b[0m\u001b[1;33m:\u001b[0m\u001b[1;33m\u001b[0m\u001b[1;33m\u001b[0m\u001b[0m\n\u001b[0;32m    903\u001b[0m                 \u001b[1;31m# re-raise KeyboardInterrupt, to truncate traceback\u001b[0m\u001b[1;33m\u001b[0m\u001b[1;33m\u001b[0m\u001b[1;33m\u001b[0m\u001b[0m\n\u001b[1;32m--> 904\u001b[1;33m                 \u001b[1;32mraise\u001b[0m \u001b[0mKeyboardInterrupt\u001b[0m\u001b[1;33m(\u001b[0m\u001b[1;34m\"Interrupted by user\"\u001b[0m\u001b[1;33m)\u001b[0m \u001b[1;32mfrom\u001b[0m \u001b[1;32mNone\u001b[0m\u001b[1;33m\u001b[0m\u001b[1;33m\u001b[0m\u001b[0m\n\u001b[0m\u001b[0;32m    905\u001b[0m             \u001b[1;32mexcept\u001b[0m \u001b[0mException\u001b[0m \u001b[1;32mas\u001b[0m \u001b[0me\u001b[0m\u001b[1;33m:\u001b[0m\u001b[1;33m\u001b[0m\u001b[1;33m\u001b[0m\u001b[0m\n\u001b[0;32m    906\u001b[0m                 \u001b[0mself\u001b[0m\u001b[1;33m.\u001b[0m\u001b[0mlog\u001b[0m\u001b[1;33m.\u001b[0m\u001b[0mwarning\u001b[0m\u001b[1;33m(\u001b[0m\u001b[1;34m\"Invalid Message:\"\u001b[0m\u001b[1;33m,\u001b[0m \u001b[0mexc_info\u001b[0m\u001b[1;33m=\u001b[0m\u001b[1;32mTrue\u001b[0m\u001b[1;33m)\u001b[0m\u001b[1;33m\u001b[0m\u001b[1;33m\u001b[0m\u001b[0m\n",
      "\u001b[1;31mKeyboardInterrupt\u001b[0m: Interrupted by user"
     ]
    }
   ],
   "source": [
    "import random\n",
    "gestures = ['rock','paper','scissors']\n",
    "n_rounds = 5\n",
    "rounds_to_win = 3\n",
    "cpu_score = 0\n",
    "player_score = 0\n",
    "\n",
    "player_choose = []\n",
    "cpu_choose = []\n",
    "score = []\n",
    "\n",
    "count = 0\n",
    "while count < n_rounds:\n",
    "    player = input('Seleccione rock, paper o scissors:')\n",
    "    cpu = random.choice(gestures)\n",
    "    print('CPU:',cpu)\n",
    "    if (player =='rock')|(player =='paper')|(player =='scissors'):\n",
    "        print('Player:',player)\n",
    "        if (player =='rock') & (cpu =='rock'):\n",
    "            score.append(0)\n",
    "            print('Empate')\n",
    "        if (player =='rock') & (cpu =='paper'):\n",
    "            score.append(1)\n",
    "            print('Cpu gana')\n",
    "            cpu_score = cpu_score+1\n",
    "        if (player =='rock') & (cpu =='scissors'):\n",
    "            score.append(2)\n",
    "            print('Jugador gana')\n",
    "            player_score = player_score +1\n",
    "        if (player =='paper') & (cpu =='paper'):\n",
    "            score.append(0)\n",
    "            print('Empate')\n",
    "        if (player =='paper') & (cpu =='scissors'):\n",
    "            score.append(1)\n",
    "            print('Cpu gana')\n",
    "            cpu_score = cpu_score+1\n",
    "        if (player =='paper') & (cpu =='rock'):\n",
    "            score.append(2)\n",
    "            print('Jugador gana')\n",
    "            player_score = player_score +1\n",
    "        if (player =='scissors') & (cpu =='scissors'):\n",
    "            score.append(0)\n",
    "            print('Empate')\n",
    "        if (player =='scissors') & (cpu =='rock'):\n",
    "            score.append(1)\n",
    "            print('Cpu gana')\n",
    "            cpu_score = cpu_score+1\n",
    "        if (player =='scissors') & (cpu =='paper'):\n",
    "            score.append(2)\n",
    "            print('Jugador gana')\n",
    "            player_score = player_score +1\n",
    "        player_choose.append(player)\n",
    "        cpu_choose.append(cpu)\n",
    "    else:\n",
    "        print('Elegir de nuevo')\n",
    "    count = count +1\n",
    "\n",
    "print('Player:',player_choose)\n",
    "print('CPU:',cpu_choose)\n",
    "print(score)\n",
    "print(cpu_score)\n",
    "print(player_score)"
   ]
  },
  {
   "cell_type": "markdown",
   "metadata": {},
   "source": [
    "#### 11. Print the winner of the game based on who won more rounds.\n",
    "Remember that the game might be tied. "
   ]
  },
  {
   "cell_type": "code",
   "execution_count": 99,
   "metadata": {},
   "outputs": [
    {
     "name": "stdout",
     "output_type": "stream",
     "text": [
      "Seleccione rock, paper o scissors:rock\n",
      "CPU: paper\n",
      "Player: rock\n",
      "Cpu gana\n",
      "Seleccione rock, paper o scissors:paper\n",
      "CPU: rock\n",
      "Player: paper\n",
      "Jugador gana\n",
      "Seleccione rock, paper o scissors:paper\n",
      "CPU: rock\n",
      "Player: paper\n",
      "Jugador gana\n",
      "Seleccione rock, paper o scissors:rock\n",
      "CPU: paper\n",
      "Player: rock\n",
      "Cpu gana\n",
      "Seleccione rock, paper o scissors:paper\n",
      "CPU: scissors\n",
      "Player: paper\n",
      "Cpu gana\n",
      "Cpu gana:  3 partidas ganadas, Jugador: 2 partidas ganadas\n",
      "3\n",
      "2\n"
     ]
    }
   ],
   "source": [
    "import random\n",
    "gestures = ['rock','paper','scissors']\n",
    "n_rounds = 5\n",
    "rounds_to_win = 3\n",
    "cpu_score = 0\n",
    "player_score = 0\n",
    "\n",
    "player_choose = []\n",
    "cpu_choose = []\n",
    "score = []\n",
    "\n",
    "count = 0\n",
    "while count < n_rounds:\n",
    "    player = input('Seleccione rock, paper o scissors:')\n",
    "    cpu = random.choice(gestures)\n",
    "    print('CPU:',cpu)\n",
    "    if (player =='rock')|(player =='paper')|(player =='scissors'):\n",
    "        print('Player:',player)\n",
    "        if (player =='rock') & (cpu =='rock'):\n",
    "            score.append(0)\n",
    "            print('Empate')\n",
    "        if (player =='rock') & (cpu =='paper'):\n",
    "            score.append(1)\n",
    "            print('Cpu gana')\n",
    "            cpu_score = cpu_score+1\n",
    "        if (player =='rock') & (cpu =='scissors'):\n",
    "            score.append(2)\n",
    "            print('Jugador gana')\n",
    "            player_score = player_score +1\n",
    "        if (player =='paper') & (cpu =='paper'):\n",
    "            score.append(0)\n",
    "            print('Empate')\n",
    "        if (player =='paper') & (cpu =='scissors'):\n",
    "            score.append(1)\n",
    "            print('Cpu gana')\n",
    "            cpu_score = cpu_score+1\n",
    "        if (player =='paper') & (cpu =='rock'):\n",
    "            score.append(2)\n",
    "            print('Jugador gana')\n",
    "            player_score = player_score +1\n",
    "        if (player =='scissors') & (cpu =='scissors'):\n",
    "            score.append(0)\n",
    "            print('Empate')\n",
    "        if (player =='scissors') & (cpu =='rock'):\n",
    "            score.append(1)\n",
    "            print('Cpu gana')\n",
    "            cpu_score = cpu_score+1\n",
    "        if (player =='scissors') & (cpu =='paper'):\n",
    "            score.append(2)\n",
    "            print('Jugador gana')\n",
    "            player_score = player_score +1\n",
    "        player_choose.append(player)\n",
    "        cpu_choose.append(cpu)\n",
    "    else:\n",
    "        print('Elegir de nuevo')\n",
    "    count = count +1\n",
    "\n",
    "if cpu_score == player_score:\n",
    "    print('Empate')\n",
    "if cpu_score > player_score:\n",
    "    print('Cpu gana: ', cpu_score,'partidas ganadas, Jugador:',player_score,'partidas ganadas')\n",
    "if cpu_score < player_score:\n",
    "    print('Jugador gana: ', player_score,'partidas ganadas, CPU',cpu_score,'partidas ganadas')\n",
    "print(cpu_score)\n",
    "print(player_score)"
   ]
  },
  {
   "cell_type": "markdown",
   "metadata": {},
   "source": [
    "# Bonus: Rock, Paper, Scissors, Lizard & Spock\n",
    "![](images/rpsls.jpg)\n",
    "\n",
    "In this challenge, you need to improve the previous game by adding two new options. To know more about the rules of the improved version of rock, paper, scissors, check this [link](http://www.samkass.com/theories/RPSSL.html). \n",
    "\n",
    "In addition, you will also need to improve how the game interacts with the player: the number of rounds to play, which must be an odd number, will be requested to the user until a valid number is entered. Define a new function to make that request.\n",
    "\n",
    "**Hint**: Try to reuse the code that you already coded in the previous challenge. If your code is efficient, this bonus will only consist of simple modifications to the original game."
   ]
  },
  {
   "cell_type": "code",
   "execution_count": 118,
   "metadata": {},
   "outputs": [
    {
     "name": "stdout",
     "output_type": "stream",
     "text": [
      "Ingrese el numero de rondas, debe ser numero impar:3\n",
      "Seleccione rock, paper, scissors, spock o lizard:spock\n",
      "CPU: scissors\n",
      "Player: spock\n",
      "Jugador gana\n",
      "Seleccione rock, paper, scissors, spock o lizard:spock\n",
      "CPU: rock\n",
      "Player: spock\n",
      "Jugador gana\n",
      "Seleccione rock, paper, scissors, spock o lizard:lizard\n",
      "CPU: lizard\n",
      "Player: lizard\n",
      "Empate\n",
      "Jugador gana:  2 partidas ganadas, CPU 0 partidas ganadas\n",
      "0\n",
      "2\n"
     ]
    }
   ],
   "source": [
    "import random\n",
    "gestures = ['rock','paper','scissors','spock','lizard']\n",
    "\n",
    "counter = 0\n",
    "while counter < 1:\n",
    "    n = int(input('Ingrese el numero de rondas, debe ser numero impar:'))\n",
    "    if n %2 != 0:\n",
    "        n_rounds = n\n",
    "        counter = 1\n",
    "        rounds_to_win = 3\n",
    "        cpu_score = 0\n",
    "        player_score = 0\n",
    "\n",
    "        player_choose = []\n",
    "        cpu_choose = []\n",
    "        score = []\n",
    "\n",
    "        count = 0\n",
    "        while count < n_rounds:\n",
    "            player = input('Seleccione rock, paper, scissors, spock o lizard:')\n",
    "            cpu = random.choice(gestures)\n",
    "            print('CPU:',cpu)\n",
    "            if (player =='rock')|(player =='paper')|(player =='scissors')|(player =='lizard')|(player =='spock'):\n",
    "                print('Player:',player)\n",
    "                if (player =='rock') & (cpu =='rock'):\n",
    "                    score.append(0)\n",
    "                    print('Empate')\n",
    "                if (player =='rock') & (cpu =='paper'):\n",
    "                    score.append(1)\n",
    "                    print('Cpu gana')\n",
    "                    cpu_score = cpu_score+1\n",
    "                if (player =='rock') & (cpu =='scissors'):\n",
    "                    score.append(2)\n",
    "                    print('Jugador gana')\n",
    "                    player_score = player_score +1\n",
    "                if (player =='rock') & (cpu =='spock'):\n",
    "                    score.append(1)\n",
    "                    print('Cpu gana')\n",
    "                    cpu_score = cpu_score+1\n",
    "                if (player =='rock') & (cpu =='lizard'):\n",
    "                    score.append(2)\n",
    "                    print('Jugador gana')\n",
    "                    player_score = player_score +1    \n",
    "                    \n",
    "                    \n",
    "                if (player =='paper') & (cpu =='paper'):\n",
    "                    score.append(0)\n",
    "                    print('Empate')\n",
    "                if (player =='paper') & (cpu =='scissors'):\n",
    "                    score.append(1)\n",
    "                    print('Cpu gana')\n",
    "                    cpu_score = cpu_score+1\n",
    "                if (player =='paper') & (cpu =='rock'):\n",
    "                    score.append(2)\n",
    "                    print('Jugador gana')\n",
    "                    player_score = player_score +1\n",
    "                if (player =='paper') & (cpu =='lizard'):\n",
    "                    score.append(1)\n",
    "                    print('Cpu gana')\n",
    "                    cpu_score = cpu_score+1\n",
    "                if (player =='paper') & (cpu =='spock'):\n",
    "                    score.append(2)\n",
    "                    print('Jugador gana')\n",
    "                                    \n",
    "                    \n",
    "                if (player =='scissors') & (cpu =='scissors'):\n",
    "                    score.append(0)\n",
    "                    print('Empate')\n",
    "                if (player =='scissors') & (cpu =='rock'):\n",
    "                    score.append(1)\n",
    "                    print('Cpu gana')\n",
    "                    cpu_score = cpu_score+1\n",
    "                if (player =='scissors') & (cpu =='paper'):\n",
    "                    score.append(2)\n",
    "                    print('Jugador gana')\n",
    "                    player_score = player_score +1\n",
    "                if (player =='scissors') & (cpu =='spock'):\n",
    "                    score.append(1)\n",
    "                    print('Cpu gana')\n",
    "                    cpu_score = cpu_score+1\n",
    "                if (player =='scissors') & (cpu =='lizard'):\n",
    "                    score.append(2)\n",
    "                    print('Jugador gana')\n",
    "                    player_score = player_score +1\n",
    "                                 \n",
    "                    \n",
    "                if (player =='lizard') & (cpu =='lizard'):\n",
    "                    score.append(0)\n",
    "                    print('Empate')\n",
    "                if (player =='lizard') & (cpu =='rock'):\n",
    "                    score.append(1)\n",
    "                    print('Cpu gana')\n",
    "                    cpu_score = cpu_score+1\n",
    "                if (player =='lizard') & (cpu =='paper'):\n",
    "                    score.append(2)\n",
    "                    print('Jugador gana')\n",
    "                    player_score = player_score +1\n",
    "                if (player =='lizard') & (cpu =='scissors'):\n",
    "                    score.append(1)\n",
    "                    print('Cpu gana')\n",
    "                    cpu_score = cpu_score +1\n",
    "                if (player =='lizard') & (cpu =='spock'):\n",
    "                    score.append(2)\n",
    "                    print('Jugador gana')\n",
    "                    player_score = player_score +1\n",
    "                \n",
    "                \n",
    "                if (player =='spock') & (cpu =='spock'):\n",
    "                    score.append(0)\n",
    "                    print('Empate')\n",
    "                if (player =='spock') & (cpu =='paper'):\n",
    "                    score.append(1)\n",
    "                    print('Cpu gana')\n",
    "                    cpu_score = cpu_score+1\n",
    "                if (player =='spock') & (cpu =='rock'):\n",
    "                    score.append(2)\n",
    "                    print('Jugador gana')\n",
    "                    player_score = player_score +1\n",
    "                if (player =='spock') & (cpu =='scissors'):\n",
    "                    score.append(2)\n",
    "                    print('Jugador gana')\n",
    "                    player_score = player_score +1\n",
    "                if (player =='spock') & (cpu =='lizard'):\n",
    "                    score.append(1)\n",
    "                    print('Cpu gana')\n",
    "                    cpu_score = cpu_score +1\n",
    "                player_choose.append(player)\n",
    "                cpu_choose.append(cpu)\n",
    "            else:\n",
    "                print('Elegir de nuevo')\n",
    "            count = count +1\n",
    "\n",
    "    else:\n",
    "        print('Incorrecto, ingrese numero impar')\n",
    "\n",
    "if cpu_score == player_score:\n",
    "    print('Empate')\n",
    "if cpu_score > player_score:\n",
    "    print('Cpu gana: ', cpu_score,'partidas ganadas, Jugador:',player_score,'partidas ganadas')\n",
    "if cpu_score < player_score:\n",
    "    print('Jugador gana: ', player_score,'partidas ganadas, CPU',cpu_score,'partidas ganadas')\n",
    "print(cpu_score)\n",
    "print(player_score)"
   ]
  },
  {
   "cell_type": "code",
   "execution_count": null,
   "metadata": {},
   "outputs": [],
   "source": [
    "\n"
   ]
  },
  {
   "cell_type": "code",
   "execution_count": null,
   "metadata": {},
   "outputs": [],
   "source": []
  }
 ],
 "metadata": {
  "kernelspec": {
   "display_name": "Python 3",
   "language": "python",
   "name": "python3"
  },
  "language_info": {
   "codemirror_mode": {
    "name": "ipython",
    "version": 3
   },
   "file_extension": ".py",
   "mimetype": "text/x-python",
   "name": "python",
   "nbconvert_exporter": "python",
   "pygments_lexer": "ipython3",
   "version": "3.8.3"
  }
 },
 "nbformat": 4,
 "nbformat_minor": 2
}
