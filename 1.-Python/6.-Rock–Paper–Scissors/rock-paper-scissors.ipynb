{
 "cells": [
  {
   "cell_type": "markdown",
   "metadata": {},
   "source": [
    "<img src=\"https://bit.ly/2VnXWr2\" width=\"100\" align=\"left\">"
   ]
  },
  {
   "cell_type": "markdown",
   "metadata": {},
   "source": [
    "# Rock, Paper & Scissors\n",
    "\n",
    "Let's play the famous game against our computer. You can check the rules [here](https://en.wikipedia.org/wiki/Rock%E2%80%93paper%E2%80%93scissors). \n",
    "\n",
    "## Task\n",
    "Create a program that imitates the playability of the well known game of rock, paper, scissors. Follow the guidelines provided.\n",
    "\n",
    "## Tools\n",
    "1. Loop: **for/while**\n",
    "2. Functions: **input(), print()...**\n",
    "3. Conditional statements: **if, elif, else**\n",
    "4. Definition of functions. Modular programming\n",
    "5. Import modules\n",
    "\n",
    "**To solve this challenge, the use of functions is recommended.**\n",
    "\n",
    "#### 1. Import the choice function of the random module."
   ]
  },
  {
   "cell_type": "code",
   "execution_count": 1,
   "metadata": {},
   "outputs": [],
   "source": [
    "import random"
   ]
  },
  {
   "cell_type": "markdown",
   "metadata": {},
   "source": [
    "#### 2. Create a list that includes the 3 possible gesture options of the game: 'rock', 'paper' or 'scissors'. Store the list in a variable called `gestures`."
   ]
  },
  {
   "cell_type": "code",
   "execution_count": 2,
   "metadata": {},
   "outputs": [],
   "source": [
    "gestures=[\"rock\",\"paper\",\"scissors\"]"
   ]
  },
  {
   "cell_type": "markdown",
   "metadata": {},
   "source": [
    "#### 3. Create a variable called `n_rounds` to store the maximum number of rounds to play in a game. \n",
    "Remember that the number of rounds must be odd: 1, 3, 5, ..."
   ]
  },
  {
   "cell_type": "code",
   "execution_count": 3,
   "metadata": {},
   "outputs": [],
   "source": [
    "n_rounds=3"
   ]
  },
  {
   "cell_type": "markdown",
   "metadata": {},
   "source": [
    "#### 4. Create a variable called `rounds_to_win` to store the number of rounds that a player must win to win the game.\n",
    "**Hint**: the value stored in `rounds_to_win` depends on the value of `n_rounds`. "
   ]
  },
  {
   "cell_type": "code",
   "execution_count": 4,
   "metadata": {},
   "outputs": [],
   "source": [
    "rounds_to_win=int(round(n_rounds/2))"
   ]
  },
  {
   "cell_type": "markdown",
   "metadata": {},
   "source": [
    "#### 5. Create two variables to store the number of rounds that the computer and the player have won. Call these variables `cpu_score` and `player_score`."
   ]
  },
  {
   "cell_type": "code",
   "execution_count": 5,
   "metadata": {},
   "outputs": [],
   "source": [
    "cpu_score=0\n",
    "player_score=0"
   ]
  },
  {
   "cell_type": "markdown",
   "metadata": {},
   "source": [
    "#### 6. Define a function that randomly returns one of the 3 gesture options.\n",
    "You will use this function to simulate the gesture choice of the computer. "
   ]
  },
  {
   "cell_type": "code",
   "execution_count": 6,
   "metadata": {},
   "outputs": [],
   "source": [
    "cpu=random.choice(gestures)"
   ]
  },
  {
   "cell_type": "markdown",
   "metadata": {},
   "source": [
    "#### 7. Define a function that asks the player which is the gesture he or she wants to show: 'rock', 'paper' or 'scissors'.\n",
    "The player should only be allowed to choose one of the 3 gesture options. If the player's choice is not rock, paper or scissors, keep asking until it is."
   ]
  },
  {
   "cell_type": "code",
   "execution_count": 7,
   "metadata": {},
   "outputs": [
    {
     "name": "stdout",
     "output_type": "stream",
     "text": [
      "Choose either rock, paper or scissors: rock\n"
     ]
    }
   ],
   "source": [
    "valid_gesture=0\n",
    "while valid_gesture==0:\n",
    "    player=input(\"Choose either rock, paper or scissors: \")\n",
    "    if player==\"rock\":\n",
    "        valid_gesture=1\n",
    "    if player==\"paper\":\n",
    "        valid_gesture=1\n",
    "    if player==\"scissors\":\n",
    "        valid_gesture=1"
   ]
  },
  {
   "cell_type": "markdown",
   "metadata": {},
   "source": [
    "#### 8. Define a function that checks who won a round. \n",
    "The function should return 0 if there is a tie, 1 if the computer wins and 2 if the player wins."
   ]
  },
  {
   "cell_type": "code",
   "execution_count": 8,
   "metadata": {},
   "outputs": [],
   "source": [
    "result=0\n",
    "if (cpu==\"rock\") and (player==\"scissors\"):\n",
    "    result=1\n",
    "if (cpu==\"paper\") and (player==\"rock\"):\n",
    "    result=1\n",
    "if (cpu==\"scissors\") and (player==\"paper\"):\n",
    "    result=1\n",
    "if (cpu==\"rock\") and (player==\"paper\"):\n",
    "    result=2\n",
    "if (cpu==\"paper\") and (player==\"scissors\"):\n",
    "    result=2\n",
    "if (cpu==\"scissors\") and (player==\"rock\"):\n",
    "    result=2"
   ]
  },
  {
   "cell_type": "markdown",
   "metadata": {},
   "source": [
    "#### 9. Define a function that prints the choice of the computer, the choice of the player and a message that announces who won the current round. \n",
    "You should also use this function to update the variables that count the number of rounds that the computer and the player have won. The score of the winner increases by one point. If there is a tie, the score does not increase."
   ]
  },
  {
   "cell_type": "code",
   "execution_count": 9,
   "metadata": {},
   "outputs": [
    {
     "name": "stdout",
     "output_type": "stream",
     "text": [
      "The computer has chosen scissors\n",
      "The player has chosen rock\n",
      "The player won the round\n"
     ]
    }
   ],
   "source": [
    "print(\"The computer has chosen\",cpu)\n",
    "print(\"The player has chosen\",player)\n",
    "if result==0:\n",
    "    print(\"The round was tied\")\n",
    "elif result==1:\n",
    "    print(\"The computer won the round\")\n",
    "    cpu_score=cpu_score+1\n",
    "elif result==2:\n",
    "    print(\"The player won the round\")\n",
    "    player_score=player_score+1"
   ]
  },
  {
   "cell_type": "markdown",
   "metadata": {},
   "source": [
    "#### 10. Now it's time to code the execution of the game using the functions and variables you defined above. \n",
    "\n",
    "First, create a loop structure that repeats while no player reaches the minimum score necessary to win and the number of rounds is less than the maximum number of rounds to play in a game.  \n",
    "\n",
    "Inside the loop, use the functions and variables above to create the execution of a round: ask for the player's choice, generate the random choice of the computer, show the round results, update the scores, etc. "
   ]
  },
  {
   "cell_type": "code",
   "execution_count": 11,
   "metadata": {},
   "outputs": [
    {
     "name": "stdout",
     "output_type": "stream",
     "text": [
      "Choose either rock, paper or scissors: rock\n",
      "The computer has chosen scissors\n",
      "The player has chosen rock\n",
      "The player won the round\n",
      "Choose either rock, paper or scissors: rock\n",
      "The computer has chosen paper\n",
      "The player has chosen rock\n",
      "The computer won the round\n",
      "Choose either rock, paper or scissors: rock\n",
      "The computer has chosen rock\n",
      "The player has chosen rock\n",
      "The round was tied\n"
     ]
    }
   ],
   "source": [
    "cpu_score=0\n",
    "player_score=0\n",
    "current_round=0\n",
    "while (cpu_score<rounds_to_win) and (player_score<rounds_to_win) and (current_round<n_rounds):\n",
    "    cpu=random.choice(gestures)\n",
    "    valid_gesture=0\n",
    "    while valid_gesture==0:\n",
    "        player=input(\"Choose either rock, paper or scissors: \")\n",
    "        if player==\"rock\":\n",
    "            valid_gesture=1\n",
    "        if player==\"paper\":\n",
    "            valid_gesture=1\n",
    "        if player==\"scissors\":\n",
    "            valid_gesture=1\n",
    "    result=0\n",
    "    if (cpu==\"rock\") and (player==\"scissors\"):\n",
    "        result=1\n",
    "    if (cpu==\"paper\") and (player==\"rock\"):\n",
    "        result=1\n",
    "    if (cpu==\"scissors\") and (player==\"paper\"):\n",
    "        result=1\n",
    "    if (cpu==\"rock\") and (player==\"paper\"):\n",
    "        result=2\n",
    "    if (cpu==\"paper\") and (player==\"scissors\"):\n",
    "        result=2\n",
    "    if (cpu==\"scissors\") and (player==\"rock\"):\n",
    "        result=2\n",
    "    print(\"The computer has chosen\",cpu)\n",
    "    print(\"The player has chosen\",player)\n",
    "    if result==0:\n",
    "        print(\"The round was tied\")\n",
    "    elif result==1:\n",
    "        print(\"The computer won the round\")\n",
    "        cpu_score=cpu_score+1\n",
    "    elif result==2:\n",
    "        print(\"The player won the round\")\n",
    "        player_score=player_score+1\n",
    "    current_round=current_round+1"
   ]
  },
  {
   "cell_type": "markdown",
   "metadata": {},
   "source": [
    "#### 11. Print the winner of the game based on who won more rounds.\n",
    "Remember that the game might be tied. "
   ]
  },
  {
   "cell_type": "code",
   "execution_count": 12,
   "metadata": {},
   "outputs": [
    {
     "name": "stdout",
     "output_type": "stream",
     "text": [
      "The game was tied, meh...\n"
     ]
    }
   ],
   "source": [
    "if cpu_score>player_score:\n",
    "    print(\"The computers have won, mankind is doomed\")\n",
    "if player_score>cpu_score:\n",
    "    print(\"The player has won, you were indeed the chosen one\")\n",
    "if cpu_score==player_score:\n",
    "    print(\"The game was tied, meh...\")"
   ]
  },
  {
   "cell_type": "markdown",
   "metadata": {},
   "source": [
    "# Bonus: Rock, Paper, Scissors, Lizard & Spock\n",
    "![](images/rpsls.jpg)\n",
    "\n",
    "In this challenge, you need to improve the previous game by adding two new options. To know more about the rules of the improved version of rock, paper, scissors, check this [link](http://www.samkass.com/theories/RPSSL.html). \n",
    "\n",
    "In addition, you will also need to improve how the game interacts with the player: the number of rounds to play, which must be an odd number, will be requested to the user until a valid number is entered. Define a new function to make that request.\n",
    "\n",
    "**Hint**: Try to reuse the code that you already coded in the previous challenge. If your code is efficient, this bonus will only consist of simple modifications to the original game."
   ]
  },
  {
   "cell_type": "code",
   "execution_count": 18,
   "metadata": {},
   "outputs": [
    {
     "name": "stdout",
     "output_type": "stream",
     "text": [
      "Choose the number of rounds(odd number): 3\n",
      "\n",
      "Choose either rock, paper, scissors, lizard or spock: rock\n",
      "\n",
      "The computer has chosen rock\n",
      "The player has chosen rock\n",
      "\n",
      "The round was tied\n",
      "\n",
      "Choose either rock, paper, scissors, lizard or spock: rock\n",
      "\n",
      "The computer has chosen scissors\n",
      "The player has chosen rock\n",
      "\n",
      "The player won the round\n",
      "\n",
      "Choose either rock, paper, scissors, lizard or spock: rock\n",
      "\n",
      "The computer has chosen paper\n",
      "The player has chosen rock\n",
      "\n",
      "The computer won the round\n",
      "\n",
      "The game was tied, meh...\n"
     ]
    }
   ],
   "source": [
    "gestures=[\"rock\",\"paper\",\"scissors\",\"spock\",\"lizard\"]\n",
    "valid_rounds=0\n",
    "n_rounds=0\n",
    "while valid_rounds==0:\n",
    "    n_rounds=int(input(\"Choose the number of rounds(odd number): \"))\n",
    "    if ((n_rounds/2)-int(round(n_rounds/2)))!=0:\n",
    "        valid_rounds=1\n",
    "print()\n",
    "rounds_to_win=int(round(n_rounds/2))\n",
    "cpu_score=0\n",
    "player_score=0\n",
    "current_round=0\n",
    "while (cpu_score<rounds_to_win) and (player_score<rounds_to_win) and (current_round<n_rounds):\n",
    "    cpu=random.choice(gestures)\n",
    "    valid_gesture=0\n",
    "    while valid_gesture==0:\n",
    "        player=input(\"Choose either rock, paper, scissors, lizard or spock: \")\n",
    "        if player==\"rock\":\n",
    "            valid_gesture=1\n",
    "        if player==\"paper\":\n",
    "            valid_gesture=1\n",
    "        if player==\"scissors\":\n",
    "            valid_gesture=1\n",
    "        if player==\"lizard\":\n",
    "            valid_gesture=1\n",
    "        if player==\"spock\":\n",
    "            valid_gesture=1\n",
    "    result=0\n",
    "    if (cpu==\"rock\") and (player==\"scissors\"):\n",
    "        result=1\n",
    "    if (cpu==\"rock\") and (player==\"lizard\"):\n",
    "        result=1\n",
    "    if (cpu==\"paper\") and (player==\"rock\"):\n",
    "        result=1\n",
    "    if (cpu==\"paper\") and (player==\"spock\"):\n",
    "        result=1\n",
    "    if (cpu==\"scissors\") and (player==\"paper\"):\n",
    "        result=1\n",
    "    if (cpu==\"scissors\") and (player==\"lizard\"):\n",
    "        result=1\n",
    "    if (cpu==\"lizard\") and (player==\"paper\"):\n",
    "        result=1\n",
    "    if (cpu==\"lizard\") and (player==\"spock\"):\n",
    "        result=1\n",
    "    if (cpu==\"spock\") and (player==\"rock\"):\n",
    "        result=1\n",
    "    if (cpu==\"spock\") and (player==\"scissors\"):\n",
    "        result=1\n",
    "    if (cpu==\"rock\") and (player==\"paper\"):\n",
    "        result=2\n",
    "    if (cpu==\"rock\") and (player==\"spock\"):\n",
    "        result=2\n",
    "    if (cpu==\"paper\") and (player==\"scissors\"):\n",
    "        result=2\n",
    "    if (cpu==\"paper\") and (player==\"lizard\"):\n",
    "        result=2\n",
    "    if (cpu==\"scissors\") and (player==\"rock\"):\n",
    "        result=2\n",
    "    if (cpu==\"scissors\") and (player==\"spock\"):\n",
    "        result=2\n",
    "    if (cpu==\"lizard\") and (player==\"rock\"):\n",
    "        result=2\n",
    "    if (cpu==\"lizard\") and (player==\"scissors\"):\n",
    "        result=2\n",
    "    if (cpu==\"spock\") and (player==\"lizard\"):\n",
    "        result=2\n",
    "    if (cpu==\"spock\") and (player==\"paper\"):\n",
    "        result=2\n",
    "    print()\n",
    "    print(\"The computer has chosen\",cpu)\n",
    "    print(\"The player has chosen\",player)\n",
    "    print()\n",
    "    if result==0:\n",
    "        print(\"The round was tied\")\n",
    "    elif result==1:\n",
    "        print(\"The computer won the round\")\n",
    "        cpu_score=cpu_score+1\n",
    "    elif result==2:\n",
    "        print(\"The player won the round\")\n",
    "        player_score=player_score+1\n",
    "    current_round=current_round+1\n",
    "    print()\n",
    "if cpu_score>player_score:\n",
    "    print(\"The computers have won, mankind is doomed\")\n",
    "if player_score>cpu_score:\n",
    "    print(\"The player has won, you were indeed the chosen one\")\n",
    "if cpu_score==player_score:\n",
    "    print(\"The game was tied, meh...\")"
   ]
  }
 ],
 "metadata": {
  "kernelspec": {
   "display_name": "Python 3",
   "language": "python",
   "name": "python3"
  },
  "language_info": {
   "codemirror_mode": {
    "name": "ipython",
    "version": 3
   },
   "file_extension": ".py",
   "mimetype": "text/x-python",
   "name": "python",
   "nbconvert_exporter": "python",
   "pygments_lexer": "ipython3",
   "version": "3.8.8"
  }
 },
 "nbformat": 4,
 "nbformat_minor": 2
}
