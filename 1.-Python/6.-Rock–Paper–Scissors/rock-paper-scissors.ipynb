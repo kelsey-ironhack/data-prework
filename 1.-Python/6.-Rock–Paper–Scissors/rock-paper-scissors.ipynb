{
 "cells": [
  {
   "cell_type": "markdown",
   "metadata": {},
   "source": [
    "<img src=\"https://bit.ly/2VnXWr2\" width=\"100\" align=\"left\">"
   ]
  },
  {
   "cell_type": "markdown",
   "metadata": {},
   "source": [
    "# Rock, Paper & Scissors\n",
    "\n",
    "Let's play the famous game against our computer. You can check the rules [here](https://en.wikipedia.org/wiki/Rock%E2%80%93paper%E2%80%93scissors). \n",
    "\n",
    "## Task\n",
    "Create a program that imitates the playability of the well known game of rock, paper, scissors. Follow the guidelines provided.\n",
    "\n",
    "## Tools\n",
    "1. Loop: **for/while**\n",
    "2. Functions: **input(), print()...**\n",
    "3. Conditional statements: **if, elif, else**\n",
    "4. Definition of functions. Modular programming\n",
    "5. Import modules\n",
    "\n",
    "**To solve this challenge, the use of functions is recommended.**\n",
    "\n",
    "#### 1. Import the choice function of the random module."
   ]
  },
  {
   "cell_type": "code",
   "execution_count": 1,
   "metadata": {},
   "outputs": [],
   "source": [
    "from random import choice"
   ]
  },
  {
   "cell_type": "markdown",
   "metadata": {},
   "source": [
    "#### 2. Create a list that includes the 3 possible gesture options of the game: 'rock', 'paper' or 'scissors'. Store the list in a variable called `gestures`."
   ]
  },
  {
   "cell_type": "code",
   "execution_count": 2,
   "metadata": {},
   "outputs": [],
   "source": [
    "gestures = ['rock','paper','scissors']"
   ]
  },
  {
   "cell_type": "markdown",
   "metadata": {},
   "source": [
    "#### 3. Create a variable called `n_rounds` to store the maximum number of rounds to play in a game. \n",
    "Remember that the number of rounds must be odd: 1, 3, 5, ..."
   ]
  },
  {
   "cell_type": "code",
   "execution_count": 4,
   "metadata": {},
   "outputs": [
    {
     "name": "stdout",
     "output_type": "stream",
     "text": [
      "Enter number of rounds:2\n",
      "Number of round must be and odd number, please try again:4\n",
      "Number of round must be and odd number, please try again:5\n",
      "You have chosen  5  rounds.\n"
     ]
    }
   ],
   "source": [
    "n_rounds = input('Enter number of rounds:')\n",
    "while int(n_rounds)%2 == 0:\n",
    "    n_rounds = input('Number of round must be and odd number, please try again:')\n",
    "print('You have chosen ', n_rounds, ' rounds.')"
   ]
  },
  {
   "cell_type": "markdown",
   "metadata": {},
   "source": [
    "#### 4. Create a variable called `rounds_to_win` to store the number of rounds that a player must win to win the game.\n",
    "**Hint**: the value stored in `rounds_to_win` depends on the value of `n_rounds`. "
   ]
  },
  {
   "cell_type": "code",
   "execution_count": 5,
   "metadata": {},
   "outputs": [
    {
     "name": "stdout",
     "output_type": "stream",
     "text": [
      "3\n"
     ]
    }
   ],
   "source": [
    "rounds_to_win = int(int(n_rounds)/2 + 0.5)\n",
    "print(rounds_to_win)"
   ]
  },
  {
   "cell_type": "markdown",
   "metadata": {},
   "source": [
    "#### 5. Create two variables to store the number of rounds that the computer and the player have won. Call these variables `cpu_score` and `player_score`."
   ]
  },
  {
   "cell_type": "code",
   "execution_count": 6,
   "metadata": {},
   "outputs": [],
   "source": [
    "cpu_score = 0\n",
    "player_score = 0"
   ]
  },
  {
   "cell_type": "markdown",
   "metadata": {},
   "source": [
    "#### 6. Define a function that randomly returns one of the 3 gesture options.\n",
    "You will use this function to simulate the gesture choice of the computer. "
   ]
  },
  {
   "cell_type": "code",
   "execution_count": 7,
   "metadata": {},
   "outputs": [
    {
     "name": "stdout",
     "output_type": "stream",
     "text": [
      "rock\n"
     ]
    }
   ],
   "source": [
    "def RandomGesture(list):\n",
    "    gesture_out = choice(list)\n",
    "    return gesture_out\n",
    "\n",
    "print(RandomGesture(gestures))"
   ]
  },
  {
   "cell_type": "markdown",
   "metadata": {},
   "source": [
    "#### 7. Define a function that asks the player which is the gesture he or she wants to show: 'rock', 'paper' or 'scissors'.\n",
    "The player should only be allowed to choose one of the 3 gesture options. If the player's choice is not rock, paper or scissors, keep asking until it is."
   ]
  },
  {
   "cell_type": "code",
   "execution_count": 8,
   "metadata": {},
   "outputs": [
    {
     "name": "stdout",
     "output_type": "stream",
     "text": [
      "Please pick a gesture. rock, paper or scissors: jo\n",
      "Sorry, I didn't understand. Please pick a gesture. rock, paper or scissors:rock\n"
     ]
    },
    {
     "data": {
      "text/plain": [
       "'rock'"
      ]
     },
     "execution_count": 8,
     "metadata": {},
     "output_type": "execute_result"
    }
   ],
   "source": [
    "def PlayerFunction():\n",
    "    valid_gesture = False\n",
    "    player_gesture = input('Please pick a gesture. rock, paper or scissors: ')\n",
    "    player_gesture = player_gesture.lower()\n",
    "    while valid_gesture == False:\n",
    "        if player_gesture == 'rock' or player_gesture == 'paper' or player_gesture == 'scissors':\n",
    "            valid_gesture = True\n",
    "        else:\n",
    "            player_gesture = input('Sorry, I didn\\'t understand. Please pick a gesture. rock, paper or scissors:')\n",
    "            player_gesture = player_gesture.lower()\n",
    "    return player_gesture\n",
    "\n",
    "PlayerFunction()"
   ]
  },
  {
   "cell_type": "markdown",
   "metadata": {},
   "source": [
    "#### 8. Define a function that checks who won a round. \n",
    "The function should return 0 if there is a tie, 1 if the computer wins and 2 if the player wins."
   ]
  },
  {
   "cell_type": "code",
   "execution_count": 9,
   "metadata": {},
   "outputs": [],
   "source": [
    "def CheckWinner(player, computer):\n",
    "    if player == computer:\n",
    "        return 0\n",
    "    elif player == 'rock' and computer == 'paper':\n",
    "        return 1\n",
    "    elif player == 'scissors' and computer == 'rock':\n",
    "        return 1\n",
    "    elif player == 'paper' and computer == 'scissors':\n",
    "        return 1\n",
    "    elif player == 'scissors' and computer == 'paper':\n",
    "        return 2\n",
    "    elif player == 'rock' and computer == 'scissors':\n",
    "        return 2\n",
    "    elif player == 'paper' and computer == 'rock':\n",
    "        return 2\n",
    "    else:\n",
    "        print('Error.')\n"
   ]
  },
  {
   "cell_type": "markdown",
   "metadata": {},
   "source": [
    "#### 9. Define a function that prints the choice of the computer, the choice of the player and a message that announces who won the current round. \n",
    "You should also use this function to update the variables that count the number of rounds that the computer and the player have won. The score of the winner increases by one point. If there is a tie, the score does not increase."
   ]
  },
  {
   "cell_type": "code",
   "execution_count": 10,
   "metadata": {},
   "outputs": [],
   "source": [
    "def PrintChoice(player, computer):\n",
    "    print('You picked: ', player)\n",
    "    print('The computer picked: ', computer)\n",
    "    winner = CheckWinner(player, computer)\n",
    "    if winner == 0:\n",
    "        print('This game was tied.')\n",
    "    elif winner == 1:\n",
    "        print('The computer wins this round.')\n",
    "        global cpu_score\n",
    "        cpu_score += 1\n",
    "    elif winner == 2:\n",
    "        print('You win this round')\n",
    "        global player_score\n",
    "        player_score += 1"
   ]
  },
  {
   "cell_type": "markdown",
   "metadata": {},
   "source": [
    "#### 10. Now it's time to code the execution of the game using the functions and variables you defined above. \n",
    "\n",
    "First, create a loop structure that repeats while no player reaches the minimum score necessary to win and the number of rounds is less than the maximum number of rounds to play in a game.  \n",
    "\n",
    "Inside the loop, use the functions and variables above to create the execution of a round: ask for the player's choice, generate the random choice of the computer, show the round results, update the scores, etc. "
   ]
  },
  {
   "cell_type": "code",
   "execution_count": 11,
   "metadata": {},
   "outputs": [
    {
     "name": "stdout",
     "output_type": "stream",
     "text": [
      "Please pick a gesture. rock, paper or scissors: rock\n",
      "You picked:  rock\n",
      "The computer picked:  paper\n",
      "The computer wins this round.\n",
      "Please pick a gesture. rock, paper or scissors: paper\n",
      "You picked:  paper\n",
      "The computer picked:  paper\n",
      "This game was tied.\n",
      "Please pick a gesture. rock, paper or scissors: paper\n",
      "You picked:  paper\n",
      "The computer picked:  rock\n",
      "You win this round\n",
      "Please pick a gesture. rock, paper or scissors: scissors\n",
      "You picked:  scissors\n",
      "The computer picked:  rock\n",
      "The computer wins this round.\n",
      "Please pick a gesture. rock, paper or scissors: rock\n",
      "You picked:  rock\n",
      "The computer picked:  paper\n",
      "The computer wins this round.\n",
      "Computer wins overall!\n"
     ]
    }
   ],
   "source": [
    "cpu_score = 0\n",
    "player_score = 0\n",
    "round_number = 0\n",
    "while round_number <= int(n_rounds):\n",
    "    round_number += 1\n",
    "    player_round = PlayerFunction()\n",
    "    computer_round = RandomGesture(gestures)\n",
    "    PrintChoice(player_round, computer_round)\n",
    "    if cpu_score == rounds_to_win:\n",
    "        print('Computer wins overall!')\n",
    "        break\n",
    "    elif player_score == rounds_to_win:\n",
    "        print('Congratulations. You win overall.')\n",
    "        break\n",
    "        "
   ]
  },
  {
   "cell_type": "markdown",
   "metadata": {},
   "source": [
    "#### 11. Print the winner of the game based on who won more rounds.\n",
    "Remember that the game might be tied. "
   ]
  },
  {
   "cell_type": "code",
   "execution_count": 12,
   "metadata": {},
   "outputs": [
    {
     "name": "stdout",
     "output_type": "stream",
     "text": [
      "The game ends after  5  rounds\n",
      "You won  1  matches.\n",
      "The computer won  3  matches.\n",
      "Computer wins overall!\n"
     ]
    }
   ],
   "source": [
    "print('The game ends after ', round_number, ' rounds')\n",
    "print('You won ', player_score, ' matches.')\n",
    "print('The computer won ', cpu_score, ' matches.')\n",
    "if cpu_score == rounds_to_win:\n",
    "    print('Computer wins overall!')\n",
    "elif player_score == rounds_to_win:\n",
    "    print('Congratulations. You win overall.')\n",
    "elif player_score == cpu_score:\n",
    "    print('The game is tied.')\n",
    "        "
   ]
  },
  {
   "cell_type": "markdown",
   "metadata": {},
   "source": [
    "# Bonus: Rock, Paper, Scissors, Lizard & Spock\n",
    "![](images/rpsls.jpg)\n",
    "\n",
    "In this challenge, you need to improve the previous game by adding two new options. To know more about the rules of the improved version of rock, paper, scissors, check this [link](http://www.samkass.com/theories/RPSSL.html). \n",
    "\n",
    "In addition, you will also need to improve how the game interacts with the player: the number of rounds to play, which must be an odd number, will be requested to the user until a valid number is entered. Define a new function to make that request.\n",
    "\n",
    "**Hint**: Try to reuse the code that you already coded in the previous challenge. If your code is efficient, this bonus will only consist of simple modifications to the original game."
   ]
  },
  {
   "cell_type": "code",
   "execution_count": 13,
   "metadata": {},
   "outputs": [
    {
     "name": "stdout",
     "output_type": "stream",
     "text": [
      "Enter number of rounds:3\n",
      "You have chosen  3  rounds.\n",
      "2  rounds to win.\n",
      "Please pick a gesture. rock, paper, scissor, spock or lizard: spock\n",
      "You picked:  spock\n",
      "The computer picked:  lizard\n",
      "The computer wins this round.\n",
      "Please pick a gesture. rock, paper, scissor, spock or lizard: lizard\n",
      "You picked:  lizard\n",
      "The computer picked:  paper\n",
      "You win this round\n",
      "Please pick a gesture. rock, paper, scissor, spock or lizard: rock\n",
      "You picked:  rock\n",
      "The computer picked:  lizard\n",
      "You win this round\n",
      "Congratulations. You win overall.\n"
     ]
    }
   ],
   "source": [
    "bonus_n_rounds = input('Enter number of rounds:')\n",
    "while int(bonus_n_rounds)%2 == 0:\n",
    "    bonus_n_rounds = input('Number of round must be and odd number, please try again:')\n",
    "print('You have chosen ', bonus_n_rounds, ' rounds.')\n",
    "\n",
    "bonus_rounds_to_win = int(int(bonus_n_rounds)/2 + 0.5)\n",
    "print(bonus_rounds_to_win, ' rounds to win.')\n",
    "\n",
    "bonus_gestures = ['rock','paper','scissors','spock','lizard']\n",
    "\n",
    "\n",
    "def BonusPlayerFunction():\n",
    "    valid_gesture = False\n",
    "    player_gesture = input('Please pick a gesture. rock, paper, scissor, spock or lizard: ')\n",
    "    player_gesture = player_gesture.lower()\n",
    "    while valid_gesture == False:\n",
    "        if player_gesture == 'rock' or player_gesture == 'paper' or player_gesture == 'scissors'  or player_gesture == 'spock'  or player_gesture == 'lizard':\n",
    "            valid_gesture = True\n",
    "        else:\n",
    "            player_gesture = input('Sorry, I didn\\'t understand. Please pick a gesture. rock, paper, scissors, spock or lizard:')\n",
    "            player_gesture = player_gesture.lower()\n",
    "    return player_gesture\n",
    "\n",
    "\n",
    "def BonusCheckWinner(player, computer):\n",
    "    if player == computer:\n",
    "        return 0\n",
    "    elif player == 'rock' and computer == 'paper':\n",
    "        return 1\n",
    "    elif player == 'spock' and computer == 'paper':\n",
    "        return 1\n",
    "    elif player == 'scissors' and computer == 'rock':\n",
    "        return 1\n",
    "    elif player == 'lizard' and computer == 'rock':\n",
    "        return 1\n",
    "    elif player == 'paper' and computer == 'scissors':\n",
    "        return 1\n",
    "    elif player == 'lizard' and computer == 'scissors':\n",
    "        return 1\n",
    "    elif player == 'paper' and computer == 'lizard':\n",
    "        return 1\n",
    "    elif player == 'spock' and computer == 'lizard':\n",
    "        return 1\n",
    "    elif player == 'rock' and computer == 'spock':\n",
    "        return 1\n",
    "    elif player == 'scissors' and computer == 'spock':\n",
    "        return 1\n",
    "    \n",
    "    \n",
    "    elif player == 'scissors' and computer == 'paper':\n",
    "        return 2\n",
    "    elif player == 'scissors' and computer == 'lizard':\n",
    "        return 2\n",
    "    elif player == 'rock' and computer == 'scissors':\n",
    "        return 2\n",
    "    elif player == 'rock' and computer == 'lizard':\n",
    "        return 2\n",
    "    elif player == 'paper' and computer == 'rock':\n",
    "        return 2\n",
    "    elif player == 'paper' and computer == 'spock':\n",
    "        return 2\n",
    "    elif player == 'lizard' and computer == 'paper':\n",
    "        return 2\n",
    "    elif player == 'lizard' and computer == 'spock':\n",
    "        return 2\n",
    "    elif player == 'spock' and computer == 'rock':\n",
    "        return 2\n",
    "    elif player == 'spock' and computer == 'scissors':\n",
    "        return 2\n",
    "    else:\n",
    "        print('Error.')\n",
    "        \n",
    "        \n",
    "def BonusPrintChoice(player, computer):\n",
    "    print('You picked: ', player)\n",
    "    print('The computer picked: ', computer)\n",
    "    winner = BonusCheckWinner(player, computer)\n",
    "    if winner == 0:\n",
    "        print('This round was tied.')\n",
    "    elif winner == 1:\n",
    "        print('The computer wins this round.')\n",
    "        global cpu_score\n",
    "        cpu_score += 1\n",
    "    elif winner == 2:\n",
    "        print('You win this round')\n",
    "        global player_score\n",
    "        player_score += 1\n",
    "        \n",
    "        \n",
    "cpu_score = 0\n",
    "player_score = 0\n",
    "round_number = 1\n",
    "while round_number <= int(bonus_n_rounds):\n",
    "    \n",
    "    player_round = BonusPlayerFunction()\n",
    "    computer_round = RandomGesture(bonus_gestures)\n",
    "    BonusPrintChoice(player_round, computer_round)\n",
    "    round_number += 1\n",
    "    if cpu_score == bonus_rounds_to_win:\n",
    "        print('Computer wins overall!')\n",
    "        break\n",
    "    elif player_score == bonus_rounds_to_win:\n",
    "        print('Congratulations. You win overall.')\n",
    "        break"
   ]
  },
  {
   "cell_type": "code",
   "execution_count": null,
   "metadata": {},
   "outputs": [],
   "source": []
  },
  {
   "cell_type": "code",
   "execution_count": null,
   "metadata": {},
   "outputs": [],
   "source": []
  }
 ],
 "metadata": {
  "kernelspec": {
   "display_name": "Python 3",
   "language": "python",
   "name": "python3"
  },
  "language_info": {
   "codemirror_mode": {
    "name": "ipython",
    "version": 3
   },
   "file_extension": ".py",
   "mimetype": "text/x-python",
   "name": "python",
   "nbconvert_exporter": "python",
   "pygments_lexer": "ipython3",
   "version": "3.7.6"
  }
 },
 "nbformat": 4,
 "nbformat_minor": 2
}
