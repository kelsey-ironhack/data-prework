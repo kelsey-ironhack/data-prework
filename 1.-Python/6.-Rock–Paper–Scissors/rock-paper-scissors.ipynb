{
 "cells": [
  {
   "cell_type": "markdown",
   "metadata": {},
   "source": [
    "<img src=\"https://bit.ly/2VnXWr2\" width=\"100\" align=\"left\">"
   ]
  },
  {
   "cell_type": "markdown",
   "metadata": {},
   "source": [
    "# Rock, Paper & Scissors\n",
    "\n",
    "Let's play the famous game against our computer. You can check the rules [here](https://en.wikipedia.org/wiki/Rock%E2%80%93paper%E2%80%93scissors). \n",
    "\n",
    "## Task\n",
    "Create a program that imitates the playability of the well known game of rock, paper, scissors. Follow the guidelines provided.\n",
    "\n",
    "## Tools\n",
    "1. Loop: **for/while**\n",
    "2. Functions: **input(), print()...**\n",
    "3. Conditional statements: **if, elif, else**\n",
    "4. Definition of functions. Modular programming\n",
    "5. Import modules\n",
    "\n",
    "**To solve this challenge, the use of functions is recommended.**\n",
    "\n",
    "#### 1. Import the choice function of the random module."
   ]
  },
  {
   "cell_type": "code",
   "execution_count": 1,
   "metadata": {},
   "outputs": [],
   "source": [
    "from random import choice"
   ]
  },
  {
   "cell_type": "markdown",
   "metadata": {},
   "source": [
    "#### 2. Create a list that includes the 3 possible gesture options of the game: 'rock', 'paper' or 'scissors'. Store the list in a variable called `gestures`."
   ]
  },
  {
   "cell_type": "code",
   "execution_count": 2,
   "metadata": {},
   "outputs": [],
   "source": [
    "gestures = ['rock', 'paper', 'scissors']"
   ]
  },
  {
   "cell_type": "markdown",
   "metadata": {},
   "source": [
    "#### 3. Create a variable called `n_rounds` to store the maximum number of rounds to play in a game. \n",
    "Remember that the number of rounds must be odd: 1, 3, 5, ..."
   ]
  },
  {
   "cell_type": "code",
   "execution_count": 3,
   "metadata": {},
   "outputs": [],
   "source": [
    "n_rounds = 5"
   ]
  },
  {
   "cell_type": "markdown",
   "metadata": {},
   "source": [
    "#### 4. Create a variable called `rounds_to_win` to store the number of rounds that a player must win to win the game.\n",
    "**Hint**: the value stored in `rounds_to_win` depends on the value of `n_rounds`. "
   ]
  },
  {
   "cell_type": "code",
   "execution_count": 4,
   "metadata": {},
   "outputs": [],
   "source": [
    "rounds_to_win = ((n_rounds-1) /2) +1"
   ]
  },
  {
   "cell_type": "markdown",
   "metadata": {},
   "source": [
    "#### 5. Create two variables to store the number of rounds that the computer and the player have won. Call these variables `cpu_score` and `player_score`."
   ]
  },
  {
   "cell_type": "code",
   "execution_count": 5,
   "metadata": {},
   "outputs": [],
   "source": [
    "player_score = cpu_score = 0"
   ]
  },
  {
   "cell_type": "markdown",
   "metadata": {},
   "source": [
    "#### 6. Define a function that randomly returns one of the 3 gesture options.\n",
    "You will use this function to simulate the gesture choice of the computer. "
   ]
  },
  {
   "cell_type": "code",
   "execution_count": 6,
   "metadata": {},
   "outputs": [],
   "source": [
    "def turn_cpu(seq):\n",
    "    return choice(seq)"
   ]
  },
  {
   "cell_type": "markdown",
   "metadata": {},
   "source": [
    "#### 7. Define a function that asks the player which is the gesture he or she wants to show: 'rock', 'paper' or 'scissors'.\n",
    "The player should only be allowed to choose one of the 3 gesture options. If the player's choice is not rock, paper or scissors, keep asking until it is."
   ]
  },
  {
   "cell_type": "code",
   "execution_count": 7,
   "metadata": {},
   "outputs": [],
   "source": [
    "def turn_player():\n",
    "    \n",
    "    prompt = '> '\n",
    "    play = ''\n",
    "    \n",
    "    while play.casefold() not in gestures:\n",
    "        play = input(f\"What's your move* ?\\t\\t\\t(*type 'help' to receive instructions)\\n{prompt}\")\n",
    "        if play.casefold() == 'help':\n",
    "            print(f\"Here are the possible {gestures = }\")\n",
    "            \n",
    "    return play"
   ]
  },
  {
   "cell_type": "markdown",
   "metadata": {},
   "source": [
    "#### 8. Define a function that checks who won a round. \n",
    "The function should return 0 if there is a tie, 1 if the computer wins and 2 if the player wins."
   ]
  },
  {
   "cell_type": "code",
   "execution_count": 8,
   "metadata": {},
   "outputs": [],
   "source": [
    "rules = {'rock': [('rock', 'scissors')],\n",
    "         'paper': [('rock', 'paper')],\n",
    "         'scissors': [('rock', 'scissors')]\n",
    "         }\n",
    "\n",
    "def round(player_move, cpu_move):\n",
    "\n",
    "    fight = tuple({player_move, cpu_move})\n",
    "    if len(fight) == 1:\n",
    "        return 0\n",
    "\n",
    "    winner = ''.join([key for key, value in rules.items() if fight in value])\n",
    "\n",
    "    return 1 if winner == player_move else 2"
   ]
  },
  {
   "cell_type": "markdown",
   "metadata": {},
   "source": [
    "#### 9. Define a function that prints the choice of the computer, the choice of the player and a message that announces who won the current round. \n",
    "You should also use this function to update the variables that count the number of rounds that the computer and the player have won. The score of the winner increases by one point. If there is a tie, the score does not increase."
   ]
  },
  {
   "cell_type": "code",
   "execution_count": 9,
   "metadata": {},
   "outputs": [],
   "source": [
    "def display_game(n_rounds, cpu_score, player_score):\n",
    "\n",
    "    def display_score():\n",
    "        print(\n",
    "            f\"CPU score is {cpu_score}\\nYour score is {player_score}\\nRemaining battle(s): {n_rounds}\")\n",
    "\n",
    "    player_move = turn_player()\n",
    "    cpu_move = turn_cpu(gestures)\n",
    "    print(f\"CPU move : {cpu_move}\\nYou're move : {player_move}\")\n",
    "    winner = round(player_move=player_move, cpu_move=cpu_move)\n",
    "    if winner == 0:\n",
    "        print(\"It's a tie.\")\n",
    "        n_rounds -= 1\n",
    "    elif winner == 2:\n",
    "        print(\"CPU won this one.\")\n",
    "        cpu_score += 1\n",
    "        n_rounds -= 1\n",
    "    else:\n",
    "        print(\"You won this one.\")\n",
    "        player_score += 1\n",
    "        n_rounds -= 1\n",
    "    display_score()\n",
    "    return player_score, cpu_score, n_rounds"
   ]
  },
  {
   "cell_type": "markdown",
   "metadata": {},
   "source": [
    "#### 10. Now it's time to code the execution of the game using the functions and variables you defined above. \n",
    "\n",
    "First, create a loop structure that repeats while no player reaches the minimum score necessary to win and the number of rounds is less than the maximum number of rounds to play in a game.  \n",
    "\n",
    "Inside the loop, use the functions and variables above to create the execution of a round: ask for the player's choice, generate the random choice of the computer, show the round results, update the scores, etc. "
   ]
  },
  {
   "cell_type": "code",
   "execution_count": null,
   "metadata": {},
   "outputs": [],
   "source": [
    "while player_score != rounds_to_win or cpu_score != rounds_to_win:\n",
    "    player_score, cpu_score, n_rounds = display_game(n_rounds, cpu_score, player_score)\n",
    "    if n_rounds <= 0:\n",
    "        break"
   ]
  },
  {
   "cell_type": "markdown",
   "metadata": {},
   "source": [
    "#### 11. Print the winner of the game based on who won more rounds.\n",
    "Remember that the game might be tied. "
   ]
  },
  {
   "cell_type": "code",
   "execution_count": 10,
   "metadata": {},
   "outputs": [
    {
     "name": "stdout",
     "output_type": "stream",
     "text": [
      "It's a tie.\n"
     ]
    }
   ],
   "source": [
    "print('You won' if player_score == rounds_to_win or player_score > cpu_score \\\n",
    "      else \"It's a tie.\" if player_score == cpu_score else \"CPU won.\")"
   ]
  },
  {
   "cell_type": "markdown",
   "metadata": {},
   "source": [
    "# Bonus: Rock, Paper, Scissors, Lizard & Spock\n",
    "![](images/rpsls.jpg)\n",
    "\n",
    "In this challenge, you need to improve the previous game by adding two new options. To know more about the rules of the improved version of rock, paper, scissors, check this [link](http://www.samkass.com/theories/RPSSL.html). \n",
    "\n",
    "In addition, you will also need to improve how the game interacts with the player: the number of rounds to play, which must be an odd number, will be requested to the user until a valid number is entered. Define a new function to make that request.\n",
    "\n",
    "**Hint**: Try to reuse the code that you already coded in the previous challenge. If your code is efficient, this bonus will only consist of simple modifications to the original game."
   ]
  },
  {
   "cell_type": "code",
   "execution_count": null,
   "metadata": {},
   "outputs": [
    {
     "name": "stdout",
     "output_type": "stream",
     "text": [
      "How many round do you want to play ?6\n",
      "An odd number is required\n",
      "How many round do you want to play ?5\n",
      "What's your move* ?\t\t\t(*type 'help' to receive instructions)\n",
      "> help\n",
      "Here are the possible gestures=['rock', 'paper', 'scissors', 'spock', 'lizard']\n"
     ]
    }
   ],
   "source": [
    "# new function to get the n_round from user input\n",
    "def n_rounds():\n",
    "    line = 'How many round do you want to play ?'\n",
    "    while (anwser := int(input(line))) % 2 != 1:\n",
    "        print('An odd number is required')\n",
    "    return anwser\n",
    "\n",
    "# new variables\n",
    "gestures = ['rock', 'paper', 'scissors', 'spock', 'lizard'] \n",
    "n_rounds = n_rounds()\n",
    "rounds_to_win = ((n_rounds - 1) / 2) + 1\n",
    "player_score = cpu_score = 0\n",
    "rules = {'rock': [('rock', 'scissors'), ('rock', 'lizard')],\n",
    "         'paper': [('paper', 'rock'), ('paper', 'spock')],\n",
    "         'scissors': [('scissors', 'paper'), ('scissors', 'lizard')],\n",
    "         'lizard': [('lizard', 'paper'), ('lizard', 'spock')],\n",
    "         'spock': [('spock', 'scissors'), ('spock', 'rock')]\n",
    "         }\n",
    "\n",
    "# Game (no change)\n",
    "while player_score != rounds_to_win or cpu_score != rounds_to_win:\n",
    "    player_score, cpu_score, n_rounds = display_game(n_rounds, cpu_score, player_score)\n",
    "    if n_rounds <= 0:\n",
    "        break\n",
    "\n",
    "# result (no change)\n",
    "print('You won' if player_score == rounds_to_win or player_score > cpu_score \\\n",
    "    else \"It's a tie.\" if player_score == cpu_score else \"CPU won.\")"
   ]
  },
  {
   "cell_type": "code",
   "execution_count": null,
   "metadata": {},
   "outputs": [],
   "source": []
  }
 ],
 "metadata": {
  "kernelspec": {
   "display_name": "Python 3",
   "language": "python",
   "name": "python3"
  },
  "language_info": {
   "codemirror_mode": {
    "name": "ipython",
    "version": 3
   },
   "file_extension": ".py",
   "mimetype": "text/x-python",
   "name": "python",
   "nbconvert_exporter": "python",
   "pygments_lexer": "ipython3",
   "version": "3.8.3"
  }
 },
 "nbformat": 4,
 "nbformat_minor": 2
}
