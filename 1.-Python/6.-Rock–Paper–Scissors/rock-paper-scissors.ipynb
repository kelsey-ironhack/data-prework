{
 "cells": [
  {
   "cell_type": "markdown",
   "metadata": {},
   "source": [
    "<img src=\"https://bit.ly/2VnXWr2\" width=\"100\" align=\"left\">"
   ]
  },
  {
   "cell_type": "markdown",
   "metadata": {},
   "source": [
    "# Rock, Paper & Scissors\n",
    "\n",
    "Let's play the famous game against our computer. You can check the rules [here](https://en.wikipedia.org/wiki/Rock%E2%80%93paper%E2%80%93scissors). \n",
    "\n",
    "## Task\n",
    "Create a program that imitates the playability of the well known game of rock, paper, scissors. Follow the guidelines provided.\n",
    "\n",
    "## Tools\n",
    "1. Loop: **for/while**\n",
    "2. Functions: **input(), print()...**\n",
    "3. Conditional statements: **if, elif, else**\n",
    "4. Definition of functions. Modular programming\n",
    "5. Import modules\n",
    "\n",
    "**To solve this challenge, the use of functions is recommended.**\n",
    "\n",
    "#### 1. Import the choice function of the random module."
   ]
  },
  {
   "cell_type": "code",
   "execution_count": 1,
   "metadata": {},
   "outputs": [],
   "source": [
    "import random\n",
    "help(random)"
   ]
  },
  {
   "cell_type": "markdown",
   "metadata": {},
   "source": [
    "#### 2. Create a list that includes the 3 possible gesture options of the game: 'rock', 'paper' or 'scissors'. Store the list in a variable called `gestures`."
   ]
  },
  {
   "cell_type": "code",
   "execution_count": 2,
   "metadata": {},
   "outputs": [],
   "source": [
    "gestures = ['rock','paper','scissors']"
   ]
  },
  {
   "cell_type": "markdown",
   "metadata": {},
   "source": [
    "#### 3. Create a variable called `n_rounds` to store the maximum number of rounds to play in a game. \n",
    "Remember that the number of rounds must be odd: 1, 3, 5, ..."
   ]
  },
  {
   "cell_type": "code",
   "execution_count": 3,
   "metadata": {},
   "outputs": [],
   "source": [
    "n_rounds = 5"
   ]
  },
  {
   "cell_type": "markdown",
   "metadata": {},
   "source": [
    "#### 4. Create a variable called `rounds_to_win` to store the number of rounds that a player must win to win the game.\n",
    "**Hint**: the value stored in `rounds_to_win` depends on the value of `n_rounds`. "
   ]
  },
  {
   "cell_type": "code",
   "execution_count": 4,
   "metadata": {},
   "outputs": [],
   "source": [
    "rounds_to_win = 2"
   ]
  },
  {
   "cell_type": "markdown",
   "metadata": {},
   "source": [
    "#### 5. Create two variables to store the number of rounds that the computer and the player have won. Call these variables `cpu_score` and `player_score`."
   ]
  },
  {
   "cell_type": "code",
   "execution_count": 5,
   "metadata": {},
   "outputs": [],
   "source": [
    "cpu_score = 0\n",
    "player_score = 0"
   ]
  },
  {
   "cell_type": "markdown",
   "metadata": {},
   "source": [
    "#### 6. Define a function that randomly returns one of the 3 gesture options.\n",
    "You will use this function to simulate the gesture choice of the computer. "
   ]
  },
  {
   "cell_type": "code",
   "execution_count": 6,
   "metadata": {},
   "outputs": [
    {
     "name": "stdout",
     "output_type": "stream",
     "text": [
      "scissors\n"
     ]
    }
   ],
   "source": [
    "def cpuGesture():\n",
    "    return random.choice(gestures)\n",
    "\n",
    "print(cpuGesture())"
   ]
  },
  {
   "cell_type": "markdown",
   "metadata": {},
   "source": [
    "#### 7. Define a function that asks the player which is the gesture he or she wants to show: 'rock', 'paper' or 'scissors'.\n",
    "The player should only be allowed to choose one of the 3 gesture options. If the player's choice is not rock, paper or scissors, keep asking until it is."
   ]
  },
  {
   "cell_type": "code",
   "execution_count": 7,
   "metadata": {},
   "outputs": [],
   "source": [
    "   \n",
    "def playerGesture():  \n",
    "    while True: \n",
    "        option = int(input(\"Select:\\n1.Rock\\n2.Paper\\n3.Scissors\\n \"))\n",
    "        \n",
    "        if (option == 1) | (option == 2) | (option == 3):\n",
    "            break\n",
    "    print(gestures[option-1]) \n",
    "    return gestures[option-1]"
   ]
  },
  {
   "cell_type": "markdown",
   "metadata": {},
   "source": [
    "#### 8. Define a function that checks who won a round. \n",
    "The function should return 0 if there is a tie, 1 if the computer wins and 2 if the player wins."
   ]
  },
  {
   "cell_type": "code",
   "execution_count": 8,
   "metadata": {},
   "outputs": [],
   "source": [
    "def roundWon(cpu_choice,player_choice):\n",
    "    if (cpu_choice == 'rock') & (player_choice == 'scissors'): return 1\n",
    "    elif (cpu_choice == 'paper') & (player_choice == 'rock'): return 1\n",
    "    elif (cpu_choice == 'scissors') & (player_choice == 'paper'): return 1\n",
    "    \n",
    "    elif (player_choice == 'rock') & (cpu_choice == 'scissors'): return 2\n",
    "    elif (player_choice == 'paper') & (cpu_choice == 'rock'): return 2\n",
    "    elif (player_choice == 'scissors') & (cpu_choice == 'paper'): return 2\n",
    "    \n",
    "    else: return 0"
   ]
  },
  {
   "cell_type": "markdown",
   "metadata": {},
   "source": [
    "#### 9. Define a function that prints the choice of the computer, the choice of the player and a message that announces who won the current round. \n",
    "You should also use this function to update the variables that count the number of rounds that the computer and the player have won. The score of the winner increases by one point. If there is a tie, the score does not increase."
   ]
  },
  {
   "cell_type": "code",
   "execution_count": 9,
   "metadata": {},
   "outputs": [],
   "source": [
    "def printWhoWon():\n",
    "    global cpu_score\n",
    "    global player_score\n",
    "    \n",
    "    cpu_choice = cpuGesture()\n",
    "    player_choice = playerGesture()\n",
    "    \n",
    "    print(\"CPU:\",cpu_choice,\"PLAYER:\",player_choice)\n",
    "    \n",
    "    if (roundWon(cpu_choice,player_choice) == 1): \n",
    "        print(\"CPU WINS\")\n",
    "        cpu_score += 1\n",
    "    elif (roundWon(cpu_choice,player_choice) == 2): \n",
    "        print(\"PLAYER WINS\")\n",
    "        player_score += 1\n",
    "    else: print(\"TIE\")"
   ]
  },
  {
   "cell_type": "markdown",
   "metadata": {},
   "source": [
    "#### 10. Now it's time to code the execution of the game using the functions and variables you defined above. \n",
    "\n",
    "First, create a loop structure that repeats while no player reaches the minimum score necessary to win and the number of rounds is less than the maximum number of rounds to play in a game.  \n",
    "\n",
    "Inside the loop, use the functions and variables above to create the execution of a round: ask for the player's choice, generate the random choice of the computer, show the round results, update the scores, etc. "
   ]
  },
  {
   "cell_type": "code",
   "execution_count": null,
   "metadata": {},
   "outputs": [],
   "source": [
    "n_round = 1\n",
    "\n",
    "while n_round <= n_rounds:\n",
    "    printWhoWon()\n",
    "    print(\"ROUND:\",n_round,\"PLAYER SCORE:\",player_score,\"CPU SCORE:\",cpu_score,)\n",
    "    n_round += 1\n",
    "    \n",
    "    if (player_score == rounds_to_win):\n",
    "        print(\"PLAYER WINS\")\n",
    "        player_score = 0\n",
    "        cpu_score = 0\n",
    "        break\n",
    "        \n",
    "    elif(cpu_score == rounds_to_win):\n",
    "        print(\"CPU WINS\")\n",
    "        player_score = 0\n",
    "        cpu_score = 0\n",
    "        break "
   ]
  },
  {
   "cell_type": "markdown",
   "metadata": {},
   "source": [
    "#### 11. Print the winner of the game based on who won more rounds.\n",
    "Remember that the game might be tied. "
   ]
  },
  {
   "cell_type": "code",
   "execution_count": null,
   "metadata": {},
   "outputs": [],
   "source": []
  },
  {
   "cell_type": "markdown",
   "metadata": {},
   "source": [
    "# Bonus: Rock, Paper, Scissors, Lizard & Spock\n",
    "![](images/rpsls.jpg)\n",
    "\n",
    "In this challenge, you need to improve the previous game by adding two new options. To know more about the rules of the improved version of rock, paper, scissors, check this [link](http://www.samkass.com/theories/RPSSL.html). \n",
    "\n",
    "In addition, you will also need to improve how the game interacts with the player: the number of rounds to play, which must be an odd number, will be requested to the user until a valid number is entered. Define a new function to make that request.\n",
    "\n",
    "**Hint**: Try to reuse the code that you already coded in the previous challenge. If your code is efficient, this bonus will only consist of simple modifications to the original game."
   ]
  },
  {
   "cell_type": "code",
   "execution_count": 11,
   "metadata": {},
   "outputs": [],
   "source": [
    "import random\n",
    "\n",
    "gestures = ['rock','paper','scissors','spock','lizard']\n",
    "n_rounds = 7\n",
    "rounds_to_win = 3\n",
    "\n",
    "cpu_score = 0\n",
    "player_score = 0"
   ]
  },
  {
   "cell_type": "code",
   "execution_count": 12,
   "metadata": {},
   "outputs": [
    {
     "name": "stdout",
     "output_type": "stream",
     "text": [
      "spock\n"
     ]
    }
   ],
   "source": [
    "def cpuGesture():\n",
    "    return random.choice(gestures)\n",
    "\n",
    "print(cpuGesture())"
   ]
  },
  {
   "cell_type": "code",
   "execution_count": 13,
   "metadata": {},
   "outputs": [
    {
     "name": "stdout",
     "output_type": "stream",
     "text": [
      "Select:\n",
      "1.Rock\n",
      "2.Paper\n",
      "3.Scissors\n",
      "4.Spock\n",
      "5.Lizard\n",
      "2\n"
     ]
    },
    {
     "data": {
      "text/plain": [
       "'paper'"
      ]
     },
     "execution_count": 13,
     "metadata": {},
     "output_type": "execute_result"
    }
   ],
   "source": [
    "def playerGesture():  \n",
    "    while True: \n",
    "        option = int(input(\"Select:\\n1.Rock\\n2.Paper\\n3.Scissors\\n4.Spock\\n5.Lizard\\n\"))\n",
    "        \n",
    "        if (option == 1) | (option == 2) | (option == 3)|(option == 4) | (option == 5):\n",
    "            break\n",
    "            \n",
    "    return gestures[option-1]\n",
    "\n",
    "playerGesture()"
   ]
  },
  {
   "cell_type": "code",
   "execution_count": 14,
   "metadata": {},
   "outputs": [],
   "source": [
    "def roundWon(cpu_choice,player_choice):\n",
    "    if (cpu_choice == 'rock') & (player_choice == 'scissors'): return 1\n",
    "    elif (cpu_choice == 'rock') & (player_choice == 'lizard'): return 1  \n",
    "    elif (cpu_choice == 'paper') & (player_choice == 'rock'): return 1\n",
    "    elif (cpu_choice == 'paper') & (player_choice == 'spock'): return 1   \n",
    "    elif (cpu_choice == 'scissors') & (player_choice == 'paper'): return 1\n",
    "    elif (cpu_choice == 'scissors') & (player_choice == 'lizard'): return 1   \n",
    "    elif (cpu_choice == 'lizard') & (player_choice == 'paper'): return 1\n",
    "    elif (cpu_choice == 'lizard') & (player_choice == 'spock'): return 1    \n",
    "    elif (cpu_choice == 'spock') & (player_choice == 'rock'): return 1\n",
    "    elif (cpu_choice == 'spock') & (player_choice == 'scissors'): return 1\n",
    "       \n",
    "    elif (player_choice == 'rock') & (cpu_choice == 'scissors'): return 2\n",
    "    elif (player_choice == 'rock') & (cpu_choice == 'lizard'): return 2    \n",
    "    elif (player_choice == 'paper') & (cpu_choice == 'rock'): return 2\n",
    "    elif (player_choice == 'paper') & (cpu_choice == 'spock'): return 2   \n",
    "    elif (player_choice == 'scissors') & (cpu_choice == 'paper'): return 2\n",
    "    elif (player_choice == 'scissors') & (cpu_choice == 'lizard'): return 2    \n",
    "    elif (player_choice == 'lizard') & (cpu_choice == 'paper'): return 2\n",
    "    elif (player_choice == 'lizard') & (cpu_choice == 'spock'): return 2   \n",
    "    elif (player_choice == 'spock') & (cpu_choice == 'rock'): return 2\n",
    "    elif (player_choice == 'spock') & (cpu_choice == 'scissors'): return 2\n",
    "      \n",
    "    else: return 0"
   ]
  },
  {
   "cell_type": "code",
   "execution_count": 15,
   "metadata": {},
   "outputs": [],
   "source": [
    "def printWhoWon():\n",
    "    global cpu_score\n",
    "    global player_score\n",
    "    \n",
    "    cpu_choice = cpuGesture()\n",
    "    player_choice = playerGesture()\n",
    "    \n",
    "    print(\"CPU:\",cpu_choice,\"PLAYER:\",player_choice)\n",
    "    \n",
    "    if (roundWon(cpu_choice,player_choice) == 1): \n",
    "        print(\"CPU WINS\")\n",
    "        cpu_score += 1\n",
    "    elif (roundWon(cpu_choice,player_choice) == 2): \n",
    "        print(\"PLAYER WINS\")\n",
    "        player_score += 1\n",
    "    else: print(\"TIE\")"
   ]
  },
  {
   "cell_type": "code",
   "execution_count": 16,
   "metadata": {},
   "outputs": [
    {
     "name": "stdout",
     "output_type": "stream",
     "text": [
      "Select:\n",
      "1.Rock\n",
      "2.Paper\n",
      "3.Scissors\n",
      "4.Spock\n",
      "5.Lizard\n",
      "5\n",
      "CPU: scissors PLAYER: lizard\n",
      "CPU WINS\n",
      "ROUND: 1 PLAYER SCORE: 0 CPU SCORE: 1\n",
      "Select:\n",
      "1.Rock\n",
      "2.Paper\n",
      "3.Scissors\n",
      "4.Spock\n",
      "5.Lizard\n",
      "2\n",
      "CPU: paper PLAYER: paper\n",
      "TIE\n",
      "ROUND: 2 PLAYER SCORE: 0 CPU SCORE: 1\n",
      "Select:\n",
      "1.Rock\n",
      "2.Paper\n",
      "3.Scissors\n",
      "4.Spock\n",
      "5.Lizard\n",
      "3\n",
      "CPU: scissors PLAYER: scissors\n",
      "TIE\n",
      "ROUND: 3 PLAYER SCORE: 0 CPU SCORE: 1\n",
      "Select:\n",
      "1.Rock\n",
      "2.Paper\n",
      "3.Scissors\n",
      "4.Spock\n",
      "5.Lizard\n",
      "12\n",
      "Select:\n",
      "1.Rock\n",
      "2.Paper\n",
      "3.Scissors\n",
      "4.Spock\n",
      "5.Lizard\n",
      "2\n",
      "CPU: lizard PLAYER: paper\n",
      "CPU WINS\n",
      "ROUND: 4 PLAYER SCORE: 0 CPU SCORE: 2\n",
      "Select:\n",
      "1.Rock\n",
      "2.Paper\n",
      "3.Scissors\n",
      "4.Spock\n",
      "5.Lizard\n",
      "5\n",
      "CPU: spock PLAYER: lizard\n",
      "PLAYER WINS\n",
      "ROUND: 5 PLAYER SCORE: 1 CPU SCORE: 2\n",
      "Select:\n",
      "1.Rock\n",
      "2.Paper\n",
      "3.Scissors\n",
      "4.Spock\n",
      "5.Lizard\n",
      "2\n",
      "CPU: rock PLAYER: paper\n",
      "PLAYER WINS\n",
      "ROUND: 6 PLAYER SCORE: 2 CPU SCORE: 2\n",
      "Select:\n",
      "1.Rock\n",
      "2.Paper\n",
      "3.Scissors\n",
      "4.Spock\n",
      "5.Lizard\n",
      "3\n",
      "CPU: paper PLAYER: scissors\n",
      "PLAYER WINS\n",
      "ROUND: 7 PLAYER SCORE: 3 CPU SCORE: 2\n",
      "PLAYER WINS\n"
     ]
    }
   ],
   "source": [
    "n_round = 1\n",
    "\n",
    "while n_round <= n_rounds:\n",
    "    printWhoWon()\n",
    "    print(\"ROUND:\",n_round,\"PLAYER SCORE:\",player_score,\"CPU SCORE:\",cpu_score,)\n",
    "    n_round += 1\n",
    "    \n",
    "    if (player_score == rounds_to_win):\n",
    "        print(\"PLAYER WINS\")\n",
    "        player_score = 0\n",
    "        cpu_score = 0\n",
    "        break\n",
    "        \n",
    "    elif(cpu_score == rounds_to_win):\n",
    "        print(\"CPU WINS\")\n",
    "        player_score = 0\n",
    "        cpu_score = 0\n",
    "        break "
   ]
  }
 ],
 "metadata": {
  "kernelspec": {
   "display_name": "Python 3.7 (tensorflow)",
   "language": "python",
   "name": "tensorflow"
  },
  "language_info": {
   "codemirror_mode": {
    "name": "ipython",
    "version": 3
   },
   "file_extension": ".py",
   "mimetype": "text/x-python",
   "name": "python",
   "nbconvert_exporter": "python",
   "pygments_lexer": "ipython3",
   "version": "3.7.7"
  }
 },
 "nbformat": 4,
 "nbformat_minor": 2
}
