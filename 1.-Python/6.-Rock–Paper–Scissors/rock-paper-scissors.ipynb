{
 "cells": [
  {
   "cell_type": "markdown",
   "metadata": {},
   "source": [
    "<img src=\"https://bit.ly/2VnXWr2\" width=\"100\" align=\"left\">"
   ]
  },
  {
   "cell_type": "markdown",
   "metadata": {},
   "source": [
    "# Rock, Paper & Scissors\n",
    "\n",
    "Let's play the famous game against our computer. You can check the rules [here](https://en.wikipedia.org/wiki/Rock%E2%80%93paper%E2%80%93scissors). \n",
    "\n",
    "## Task\n",
    "Create a program that imitates the playability of the well known game of rock, paper, scissors. Follow the guidelines provided.\n",
    "\n",
    "## Tools\n",
    "1. Loop: **for/while**\n",
    "2. Functions: **input(), print()...**\n",
    "3. Conditional statements: **if, elif, else**\n",
    "4. Definition of functions. Modular programming\n",
    "5. Import modules\n",
    "\n",
    "**To solve this challenge, the use of functions is recommended.**\n",
    "\n",
    "#### 1. Import the choice function of the random module."
   ]
  },
  {
   "cell_type": "code",
   "execution_count": 62,
   "metadata": {},
   "outputs": [
    {
     "name": "stdout",
     "output_type": "stream",
     "text": [
      "2\n"
     ]
    }
   ],
   "source": [
    "import numpy as np\n",
    "import random\n",
    "print(random.randint(0,2))"
   ]
  },
  {
   "cell_type": "markdown",
   "metadata": {},
   "source": [
    "#### 2. Create a list that includes the 3 possible gesture options of the game: 'rock', 'paper' or 'scissors'. Store the list in a variable called `gestures`."
   ]
  },
  {
   "cell_type": "code",
   "execution_count": 63,
   "metadata": {},
   "outputs": [],
   "source": [
    "gestures = ['rock', 'paper', 'scissors'] "
   ]
  },
  {
   "cell_type": "markdown",
   "metadata": {},
   "source": [
    "#### 3. Create a variable called `n_rounds` to store the maximum number of rounds to play in a game. \n",
    "Remember that the number of rounds must be odd: 1, 3, 5, ..."
   ]
  },
  {
   "cell_type": "code",
   "execution_count": 64,
   "metadata": {},
   "outputs": [
    {
     "name": "stdout",
     "output_type": "stream",
     "text": [
      "9\n"
     ]
    }
   ],
   "source": [
    "n_rounds = 2*(random.randint(0,5))+1\n",
    "print(n_rounds)"
   ]
  },
  {
   "cell_type": "markdown",
   "metadata": {},
   "source": [
    "#### 4. Create a variable called `rounds_to_win` to store the number of rounds that a player must win to win the game.\n",
    "**Hint**: the value stored in `rounds_to_win` depends on the value of `n_rounds`. "
   ]
  },
  {
   "cell_type": "code",
   "execution_count": 65,
   "metadata": {},
   "outputs": [
    {
     "name": "stdout",
     "output_type": "stream",
     "text": [
      "4\n"
     ]
    }
   ],
   "source": [
    "rounds_to_win = round(n_rounds/3 + 1)\n",
    "print(rounds_to_win)"
   ]
  },
  {
   "cell_type": "markdown",
   "metadata": {},
   "source": [
    "#### 5. Create two variables to store the number of rounds that the computer and the player have won. Call these variables `cpu_score` and `player_score`."
   ]
  },
  {
   "cell_type": "code",
   "execution_count": 66,
   "metadata": {},
   "outputs": [],
   "source": [
    "cpu_score = 0\n",
    "player_score = 0"
   ]
  },
  {
   "cell_type": "markdown",
   "metadata": {},
   "source": [
    "#### 6. Define a function that randomly returns one of the 3 gesture options.\n",
    "You will use this function to simulate the gesture choice of the computer. "
   ]
  },
  {
   "cell_type": "code",
   "execution_count": 67,
   "metadata": {},
   "outputs": [
    {
     "name": "stdout",
     "output_type": "stream",
     "text": [
      "the gesture choice of computer is :  scissors\n"
     ]
    }
   ],
   "source": [
    "def cpu_gesture_choice(gestures):\n",
    "    gestures = ['rock', 'paper', 'scissors'] \n",
    "    return (gestures[random.randint(0,2)])\n",
    "ges = gestures\n",
    "print(\"the gesture choice of computer is : \", cpu_gesture_choice(ges))"
   ]
  },
  {
   "cell_type": "markdown",
   "metadata": {},
   "source": [
    "#### 7. Define a function that asks the player which is the gesture he or she wants to show: 'rock', 'paper' or 'scissors'.\n",
    "The player should only be allowed to choose one of the 3 gesture options. If the player's choice is not rock, paper or scissors, keep asking until it is."
   ]
  },
  {
   "cell_type": "code",
   "execution_count": 73,
   "metadata": {},
   "outputs": [
    {
     "name": "stdout",
     "output_type": "stream",
     "text": [
      "Enter your  gesture:\n",
      "Enter your  gesture: paper\n",
      "Player gesture is : paper\n"
     ]
    },
    {
     "data": {
      "text/plain": [
       "'paper'"
      ]
     },
     "execution_count": 73,
     "metadata": {},
     "output_type": "execute_result"
    }
   ],
   "source": [
    "def player_gesture(gestures):\n",
    "    print('Enter your  gesture:')\n",
    "    a = input(\"Enter your  gesture: \")\n",
    "    #player_gesture = gestures[random.randint(0,2)]\n",
    "    if (a == 'rock'):\n",
    "        print(\"Player gesture is :\", a)\n",
    "    elif (a == 'paper'):\n",
    "        print(\"Player gesture is :\", a)\n",
    "    elif (a == 'scissors'):\n",
    "        print(\"Player gesture is :\", a)\n",
    "    else:\n",
    "        input(\"Enter your  gesture: \")\n",
    "        \n",
    "    return a\n",
    "player_gesture(gestures)    "
   ]
  },
  {
   "cell_type": "markdown",
   "metadata": {},
   "source": [
    "#### 8. Define a function that checks who won a round. \n",
    "The function should return 0 if there is a tie, 1 if the computer wins and 2 if the player wins."
   ]
  },
  {
   "cell_type": "code",
   "execution_count": 74,
   "metadata": {},
   "outputs": [
    {
     "name": "stdout",
     "output_type": "stream",
     "text": [
      "paper\n",
      "Enter your  gesture:\n",
      "Enter your  gesture: paper\n",
      "Player gesture is : paper\n",
      "0\n"
     ]
    }
   ],
   "source": [
    "def won_a_round(cpu,player):\n",
    "    #Comparaison between player and computer       \n",
    "    if(cpu == player):\n",
    "        #cpu_score += 0\n",
    "        #player_score += 0\n",
    "        #score.append(0)*\n",
    "        return 0\n",
    "    elif(cpu == 'rock' and  player == 'scissors' ):\n",
    "        return 1\n",
    "    elif(cpu == 'scissors' and  player == 'paper' ):\n",
    "        return 1\n",
    "    elif (cpu == 'paper' and player == 'rock'):\n",
    "        return 1\n",
    "    elif(cpu == 'paper' and player == 'scissors'):\n",
    "        return 2\n",
    "    elif(cpu == 'rock' and player == 'paper'):\n",
    "        return 2\n",
    "    elif(cpu == 'scissors' and player == 'rock'):\n",
    "        return 2\n",
    "    \n",
    "cpu = cpu_gesture_choice(gestures)\n",
    "print(cpu)\n",
    "player = player_gesture(gestures)\n",
    "res = won_a_round(cpu, player)\n",
    "print(res)"
   ]
  },
  {
   "cell_type": "markdown",
   "metadata": {},
   "source": [
    "#### 9. Define a function that prints the choice of the computer, the choice of the player and a message that announces who won the current round. \n",
    "You should also use this function to update the variables that count the number of rounds that the computer and the player have won. The score of the winner increases by one point. If there is a tie, the score does not increase."
   ]
  },
  {
   "cell_type": "code",
   "execution_count": 75,
   "metadata": {},
   "outputs": [
    {
     "name": "stdout",
     "output_type": "stream",
     "text": [
      "Enter your  gesture:\n",
      "Enter your  gesture: paper\n",
      "Player gesture is : paper\n",
      "The choice of the computer is :  rock\n",
      "The choice of the player is :  paper\n",
      "choice of computer is rock and the choice of the player is paper\n",
      "the winner of the round is the player\n",
      "(0, 1)\n"
     ]
    }
   ],
   "source": [
    "def notification():\n",
    "    cpu_score = 0\n",
    "    player_score = 0\n",
    "    cpu = cpu_gesture_choice(gestures)\n",
    "    player = player_gesture(gestures)\n",
    "    print(\"The choice of the computer is : \", cpu )\n",
    "    print(\"The choice of the player is : \",player )\n",
    "    #call the function won__a_round\n",
    "    res = won_a_round(cpu, player)\n",
    "    if (res == 0):\n",
    "        cpu_score += 0\n",
    "        player_score += 0\n",
    "        print('choice of computer {} choice of the player {}'.format(cpu, player))\n",
    "        print('the winner of the round is no-one')\n",
    "    elif (res == 1):\n",
    "        cpu_score += 1\n",
    "        player_score += 0\n",
    "        print('choice of computer is {} and the choice of the player is {}'.format(str(cpu),str( player)))\n",
    "        print('the winner of the round is computer')\n",
    "    else:\n",
    "        cpu_score += 0\n",
    "        player_score += 1\n",
    "        print('choice of computer is {} and the choice of the player is {}'.format(str(cpu), str(player)))\n",
    "        print('the winner of the round is the player')\n",
    "    return (cpu_score, player_score)\n",
    "res = notification()\n",
    "print(res)"
   ]
  },
  {
   "cell_type": "markdown",
   "metadata": {},
   "source": [
    "#### 10. Now it's time to code the execution of the game using the functions and variables you defined above. \n",
    "\n",
    "First, create a loop structure that repeats while no player reaches the minimum score necessary to win and the number of rounds is less than the maximum number of rounds to play in a game.  \n",
    "\n",
    "Inside the loop, use the functions and variables above to create the execution of a round: ask for the player's choice, generate the random choice of the computer, show the round results, update the scores, etc. "
   ]
  },
  {
   "cell_type": "code",
   "execution_count": 76,
   "metadata": {},
   "outputs": [
    {
     "name": "stdout",
     "output_type": "stream",
     "text": [
      "Enter your  gesture:\n",
      "Enter your  gesture: paper\n",
      "Player gesture is : paper\n",
      "Enter your  gesture:\n",
      "Enter your  gesture: rock\n",
      "Player gesture is : rock\n",
      "The choice of the computer is :  rock\n",
      "The choice of the player is :  rock\n",
      "choice of computer rock choice of the player rock\n",
      "the winner of the round is no-one\n",
      "(0, 0)\n",
      "the score of this round is  (0, 0)\n",
      "Enter your  gesture:\n",
      "Enter your  gesture: scissors\n",
      "Player gesture is : scissors\n",
      "Enter your  gesture:\n",
      "Enter your  gesture: paper\n",
      "Player gesture is : paper\n",
      "The choice of the computer is :  scissors\n",
      "The choice of the player is :  paper\n",
      "choice of computer is scissors and the choice of the player is paper\n",
      "the winner of the round is computer\n",
      "(1, 0)\n",
      "the score of this round is  (1, 0)\n"
     ]
    }
   ],
   "source": [
    "i=2\n",
    "while ((i < rounds_to_win) and (rounds_to_win <n_rounds)):\n",
    "    score_final_player = 0\n",
    "    score_final_cpu = 0\n",
    "    #ask for the player's choice\n",
    "    player = player_gesture(gestures)\n",
    "    #generate the random choice of the computer\n",
    "    cpu = cpu_gesture_choice(gestures)\n",
    "    # show the round results\n",
    "    res = notification()\n",
    "    cpu_score = res[0]\n",
    "    player_score = res[1]\n",
    "    print(res)\n",
    "    score_final_cpu += cpu_score\n",
    "    score_final_player += player_score\n",
    "    #update the scores\n",
    "    print(\"the score of this round is \",(cpu_score, player_score))\n",
    "    i+=1"
   ]
  },
  {
   "cell_type": "markdown",
   "metadata": {},
   "source": [
    "#### 11. Print the winner of the game based on who won more rounds.\n",
    "Remember that the game might be tied. "
   ]
  },
  {
   "cell_type": "code",
   "execution_count": 77,
   "metadata": {},
   "outputs": [
    {
     "name": "stdout",
     "output_type": "stream",
     "text": [
      "the winner of the game is computer\n"
     ]
    }
   ],
   "source": [
    "if(score_final_cpu > score_final_player):\n",
    "    print(\"the winner of the game is computer\" )\n",
    "elif(score_final_cpu == score_final_player):\n",
    "     print(\" match nul \" )\n",
    "else:\n",
    "    print(\"the winner of the game is player \")"
   ]
  },
  {
   "cell_type": "markdown",
   "metadata": {},
   "source": [
    "# Bonus: Rock, Paper, Scissors, Lizard & Spock\n",
    "![](images/rpsls.jpg)\n",
    "\n",
    "In this challenge, you need to improve the previous game by adding two new options. To know more about the rules of the improved version of rock, paper, scissors, check this [link](http://www.samkass.com/theories/RPSSL.html). \n",
    "\n",
    "In addition, you will also need to improve how the game interacts with the player: the number of rounds to play, which must be an odd number, will be requested to the user until a valid number is entered. Define a new function to make that request.\n",
    "\n",
    "**Hint**: Try to reuse the code that you already coded in the previous challenge. If your code is efficient, this bonus will only consist of simple modifications to the original game."
   ]
  },
  {
   "cell_type": "code",
   "execution_count": 90,
   "metadata": {},
   "outputs": [
    {
     "name": "stdout",
     "output_type": "stream",
     "text": [
      "choose your gesture\n",
      "rock = 1\n",
      "paper = 2\n",
      "scissors = 3\n",
      "lizard = 4\n",
      "spock = 5\n",
      " choose your move: 1\n",
      "cpu gesture rock!\n",
      "Tie game\n",
      "Final score\n",
      "player:  1\n",
      "cpu:  2\n"
     ]
    }
   ],
   "source": [
    "rock = 1\n",
    "paper = 2\n",
    "scissors = 3\n",
    "lizard = 4\n",
    "spock = 5\n",
    "\n",
    "gesture = {rock:'rock', paper:'paper', scissors:'scissors', lizard:'lizard', spock:'spock' }\n",
    "rules = {rock: [scissors,lizard],  paper: rock, scissors: [paper,lizard], lizard:[paper, spock], spock: [rock, scissors] }\n",
    "\n",
    "def start():\n",
    "    print(\"choose your gesture\")\n",
    "    while game():\n",
    "        pass\n",
    "    score()\n",
    "\n",
    "\n",
    "def game():\n",
    "    player = move()\n",
    "    cpu = random.randint(1,5) \n",
    "    result(player, cpu)\n",
    "\n",
    "\n",
    "def move():\n",
    "    while True:\n",
    "        print\n",
    "        player = input(\"rock = 1\\npaper = 2\\nscissors = 3\\nlizard = 4\\nspock = 5\\n choose your move: \")\n",
    "        try : \n",
    "            player = int(player)\n",
    "            if player in (1,2,3,4,5):\n",
    "                return player\n",
    "        except ValuError:\n",
    "            pass\n",
    "        print(\"Enter 1,2,3,4, or 5\")\n",
    "\n",
    "def result(player, cpu):\n",
    "    print(\"cpu gesture {0}!\".format(gesture[cpu]))\n",
    "    global player_score, cpu_score\n",
    "    if player == cpu:\n",
    "        print (\"Tie game\")\n",
    "    else:\n",
    "        if (rules[player][0] == cpu or rules[player][1] == cpu):\n",
    "            print(\"player Victory\")\n",
    "            player_score += 1\n",
    "        else:\n",
    "            print(\"Computer win\")\n",
    "            cpu_score += 1\n",
    "\n",
    "def score():\n",
    "    global player_score, cpu_score\n",
    "    print (\"Final score\")\n",
    "    print (\"player: \", player_score)\n",
    "    print( \"cpu: \", cpu_score)\n",
    "    \n",
    "if __name__ == '__main__':\n",
    "    start()"
   ]
  },
  {
   "cell_type": "code",
   "execution_count": null,
   "metadata": {},
   "outputs": [],
   "source": []
  }
 ],
 "metadata": {
  "kernelspec": {
   "display_name": "Python 3",
   "language": "python",
   "name": "python3"
  },
  "language_info": {
   "codemirror_mode": {
    "name": "ipython",
    "version": 3
   },
   "file_extension": ".py",
   "mimetype": "text/x-python",
   "name": "python",
   "nbconvert_exporter": "python",
   "pygments_lexer": "ipython3",
   "version": "3.8.5"
  }
 },
 "nbformat": 4,
 "nbformat_minor": 2
}
