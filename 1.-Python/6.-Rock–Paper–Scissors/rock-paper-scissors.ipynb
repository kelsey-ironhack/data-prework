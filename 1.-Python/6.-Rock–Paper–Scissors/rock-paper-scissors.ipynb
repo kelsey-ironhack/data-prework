{
 "cells": [
  {
   "cell_type": "markdown",
   "metadata": {},
   "source": [
    "<img src=\"https://bit.ly/2VnXWr2\" width=\"100\" align=\"left\">"
   ]
  },
  {
   "cell_type": "markdown",
   "metadata": {},
   "source": [
    "# Rock, Paper & Scissors\n",
    "\n",
    "Let's play the famous game against our computer. You can check the rules [here](https://en.wikipedia.org/wiki/Rock%E2%80%93paper%E2%80%93scissors). \n",
    "\n",
    "## Task\n",
    "Create a program that imitates the playability of the well known game of rock, paper, scissors. Follow the guidelines provided.\n",
    "\n",
    "## Tools\n",
    "1. Loop: **for/while**\n",
    "2. Functions: **input(), print()...**\n",
    "3. Conditional statements: **if, elif, else**\n",
    "4. Definition of functions. Modular programming\n",
    "5. Import modules\n",
    "\n",
    "**To solve this challenge, the use of functions is recommended.**\n",
    "\n",
    "#### 1. Import the choice function of the random module."
   ]
  },
  {
   "cell_type": "code",
   "execution_count": 413,
   "metadata": {},
   "outputs": [],
   "source": [
    "import random"
   ]
  },
  {
   "cell_type": "markdown",
   "metadata": {},
   "source": [
    "#### 2. Create a list that includes the 3 possible gesture options of the game: 'rock', 'paper' or 'scissors'. Store the list in a variable called `gestures`."
   ]
  },
  {
   "cell_type": "code",
   "execution_count": 414,
   "metadata": {},
   "outputs": [],
   "source": [
    "gestures=['rock','paper','scissors']"
   ]
  },
  {
   "cell_type": "markdown",
   "metadata": {},
   "source": [
    "#### 3. Create a variable called `n_rounds` to store the maximum number of rounds to play in a game. \n",
    "Remember that the number of rounds must be odd: 1, 3, 5, ..."
   ]
  },
  {
   "cell_type": "code",
   "execution_count": 415,
   "metadata": {},
   "outputs": [],
   "source": [
    "n_rounds=5"
   ]
  },
  {
   "cell_type": "markdown",
   "metadata": {},
   "source": [
    "#### 4. Create a variable called `rounds_to_win` to store the number of rounds that a player must win to win the game.\n",
    "**Hint**: the value stored in `rounds_to_win` depends on the value of `n_rounds`. "
   ]
  },
  {
   "cell_type": "code",
   "execution_count": 416,
   "metadata": {},
   "outputs": [
    {
     "name": "stdout",
     "output_type": "stream",
     "text": [
      "3\n"
     ]
    }
   ],
   "source": [
    "rounds_to_win=int((n_rounds+1)/2)\n",
    "print(rounds_to_win)"
   ]
  },
  {
   "cell_type": "markdown",
   "metadata": {},
   "source": [
    "#### 5. Create two variables to store the number of rounds that the computer and the player have won. Call these variables `cpu_score` and `player_score`."
   ]
  },
  {
   "cell_type": "code",
   "execution_count": 417,
   "metadata": {},
   "outputs": [],
   "source": [
    "cpu_score=0\n",
    "player_score=0"
   ]
  },
  {
   "cell_type": "markdown",
   "metadata": {},
   "source": [
    "#### 6. Define a function that randomly returns one of the 3 gesture options.\n",
    "You will use this function to simulate the gesture choice of the computer. "
   ]
  },
  {
   "cell_type": "code",
   "execution_count": 418,
   "metadata": {},
   "outputs": [],
   "source": [
    "def computer_play():\n",
    "    return random.choice(gestures)"
   ]
  },
  {
   "cell_type": "markdown",
   "metadata": {},
   "source": [
    "#### 7. Define a function that asks the player which is the gesture he or she wants to show: 'rock', 'paper' or 'scissors'.\n",
    "The player should only be allowed to choose one of the 3 gesture options. If the player's choice is not rock, paper or scissors, keep asking until it is."
   ]
  },
  {
   "cell_type": "code",
   "execution_count": 419,
   "metadata": {},
   "outputs": [],
   "source": [
    "def player_choice():\n",
    "    player=input('rock, paper, scissors? ')\n",
    "    if player!=player in gestures:\n",
    "        player_choice()\n",
    "        print(\"Check your spelling!\")\n",
    "    else:\n",
    "        return player"
   ]
  },
  {
   "cell_type": "markdown",
   "metadata": {},
   "source": [
    "#### 8. Define a function that checks who won a round. \n",
    "The function should return 0 if there is a tie, 1 if the computer wins and 2 if the player wins."
   ]
  },
  {
   "cell_type": "code",
   "execution_count": 420,
   "metadata": {},
   "outputs": [],
   "source": [
    "def check_score(computer,player):\n",
    "    if computer==player:\n",
    "        return 0\n",
    "    elif player=='rock':\n",
    "        if computer=='paper':\n",
    "            return 1\n",
    "        else:\n",
    "            return 2\n",
    "    elif player=='paper':\n",
    "        if computer=='scissors':\n",
    "            return 1\n",
    "        else:\n",
    "            return 2\n",
    "    elif player=='scissors':\n",
    "        if computer=='rock':\n",
    "            return 1\n",
    "        else:\n",
    "            return 2\n",
    "    "
   ]
  },
  {
   "cell_type": "markdown",
   "metadata": {},
   "source": [
    "#### 9. Define a function that prints the choice of the computer, the choice of the player and a message that announces who won the current round. \n",
    "You should also use this function to update the variables that count the number of rounds that the computer and the player have won. The score of the winner increases by one point. If there is a tie, the score does not increase."
   ]
  },
  {
   "cell_type": "code",
   "execution_count": 421,
   "metadata": {},
   "outputs": [],
   "source": [
    "def play_round():\n",
    "    global cpu_score\n",
    "    global player_score\n",
    "    computer=computer_play()\n",
    "    player=player_choice()\n",
    "    print(\"Computer's choice: \",computer)\n",
    "    print(\"Your choice: \",player)\n",
    "    outcome=check_score(computer,player)\n",
    "    if outcome==0:\n",
    "        print(\"It's a tie!\")\n",
    "    elif outcome==1:\n",
    "        print(\"The computer won the round\")\n",
    "        cpu_score+=1\n",
    "    else:\n",
    "        print(\"You won the round! Keep it up ;)\")\n",
    "        player_score+=1\n",
    "\n",
    "        \n"
   ]
  },
  {
   "cell_type": "markdown",
   "metadata": {},
   "source": [
    "#### 10. Now it's time to code the execution of the game using the functions and variables you defined above. \n",
    "\n",
    "First, create a loop structure that repeats while no player reaches the minimum score necessary to win and the number of rounds is less than the maximum number of rounds to play in a game.  \n",
    "\n",
    "Inside the loop, use the functions and variables above to create the execution of a round: ask for the player's choice, generate the random choice of the computer, show the round results, update the scores, etc. "
   ]
  },
  {
   "cell_type": "code",
   "execution_count": 424,
   "metadata": {},
   "outputs": [
    {
     "name": "stdout",
     "output_type": "stream",
     "text": [
      "rock, paper, scissors? rock\n",
      "Computer's choice:  rock\n",
      "Your choice:  rock\n",
      "It's a tie!\n",
      "rock, paper, scissors? rock\n",
      "Computer's choice:  paper\n",
      "Your choice:  rock\n",
      "The computer won the round\n",
      "rock, paper, scissors? rock\n",
      "Computer's choice:  paper\n",
      "Your choice:  rock\n",
      "The computer won the round\n"
     ]
    }
   ],
   "source": [
    "while (player_score<rounds_to_win)&(cpu_score<rounds_to_win)&((cpu_score+player_score)<n_rounds):\n",
    "    play_round()   "
   ]
  },
  {
   "cell_type": "markdown",
   "metadata": {},
   "source": [
    "#### 11. Print the winner of the game based on who won more rounds.\n",
    "Remember that the game might be tied. "
   ]
  },
  {
   "cell_type": "code",
   "execution_count": 427,
   "metadata": {},
   "outputs": [
    {
     "name": "stdout",
     "output_type": "stream",
     "text": [
      "you lost! practice makes perfection ;)\n"
     ]
    }
   ],
   "source": [
    "if player_score<cpu_score:\n",
    "    print(\"you lost! practice makes perfection ;)\")\n",
    "elif player_score>cpu_score:\n",
    "    print(\"you win! congratulations bro\")\n",
    "else:\n",
    "    print(\"you tied!\")\n",
    "        "
   ]
  },
  {
   "cell_type": "markdown",
   "metadata": {},
   "source": [
    "# Bonus: Rock, Paper, Scissors, Lizard & Spock\n",
    "![](images/rpsls.jpg)\n",
    "\n",
    "In this challenge, you need to improve the previous game by adding two new options. To know more about the rules of the improved version of rock, paper, scissors, check this [link](http://www.samkass.com/theories/RPSSL.html). \n",
    "\n",
    "In addition, you will also need to improve how the game interacts with the player: the number of rounds to play, which must be an odd number, will be requested to the user until a valid number is entered. Define a new function to make that request.\n",
    "\n",
    "**Hint**: Try to reuse the code that you already coded in the previous challenge. If your code is efficient, this bonus will only consist of simple modifications to the original game."
   ]
  },
  {
   "cell_type": "code",
   "execution_count": null,
   "metadata": {},
   "outputs": [
    {
     "name": "stdout",
     "output_type": "stream",
     "text": [
      "How many rounds do you want to play (type in odd number)?\n"
     ]
    }
   ],
   "source": [
    "import random\n",
    "\n",
    "gestures=['rock','paper','scissors','lizard', 'spock']\n",
    "cpu_score=0\n",
    "player_score=0\n",
    "\n",
    "def number_rounds():\n",
    "    print(\"How many rounds do you want to play (type in odd number)?\")\n",
    "    number=int(input())\n",
    "    if (number%2==0)or(number<0):\n",
    "        number_rounds()\n",
    "    else:\n",
    "        return number\n",
    "    \n",
    "def computer_play():\n",
    "    return random.choice(gestures)\n",
    "\n",
    "def player_choice():\n",
    "    player=input('rock, paper, scissors, lizard, spock? ')\n",
    "    if not (player in gestures):\n",
    "        player_choice()\n",
    "        print(\"Check your spelling!\")\n",
    "    else:\n",
    "        return player\n",
    "    \n",
    "def check_score(computer,player):\n",
    "    if computer==player:\n",
    "        return 0\n",
    "    elif player=='rock':\n",
    "        if computer=='paper'or computer=='lizard':\n",
    "            return 1\n",
    "        else:\n",
    "            return 2\n",
    "    elif player=='paper':\n",
    "        if computer=='scissors'or computer=='lizard':\n",
    "            return 1\n",
    "        else:\n",
    "            return 2\n",
    "    elif player=='scissors':\n",
    "        if computer=='rock'or computer=='spock':\n",
    "            return 1\n",
    "        else:\n",
    "            return 2\n",
    "    elif player=='spock':\n",
    "        if computer=='scissors'or computer=='rock':\n",
    "            return 2\n",
    "        else:\n",
    "            return 1\n",
    "    elif player=='lizard':\n",
    "        if computer=='rock'or computer=='scissors':\n",
    "            return 1\n",
    "        else:\n",
    "            return 2\n",
    "\n",
    "def play_round():\n",
    "    global cpu_score\n",
    "    global player_score\n",
    "    computer=computer_play()\n",
    "    player=player_choice()\n",
    "    print(\"Computer's choice: \",computer)\n",
    "    print(\"Your choice: \",player)\n",
    "    outcome=check_score(computer,player)\n",
    "    if outcome==0:\n",
    "        print(\"It's a tie!\")\n",
    "    elif outcome==1:\n",
    "        print(\"The computer won the round\")\n",
    "        cpu_score+=1\n",
    "    else:\n",
    "        print(\"You won the round! Keep it up ;)\")\n",
    "        player_score+=1\n",
    "def play_again():\n",
    "    print(\"Do you want to play again (type in y for yes and n for no)\")\n",
    "    answer=input()\n",
    "    if answer=='yes'or answer=='y':\n",
    "        return True\n",
    "    else:\n",
    "        return False\n",
    "        \n",
    "while True:\n",
    "    n_rounds=number_rounds()\n",
    "    rounds_to_win=int((n_rounds+1)/2)\n",
    "    cpu_score=0\n",
    "    player_score=0\n",
    "    while (player_score<rounds_to_win)&(cpu_score<rounds_to_win)&((cpu_score+player_score)<n_rounds):\n",
    "        play_round()\n",
    "        print(player_score)\n",
    "        print(cpu_score)\n",
    "        print(rounds_to_win)\n",
    "        print(n_rounds)\n",
    "    \n",
    "    if player_score<cpu_score:\n",
    "        print(\"you lost! practice makes perfection ;)\")\n",
    "    else:\n",
    "        print(\"you win! congratulations bro\")\n",
    "    \n",
    "    if not play_again():\n",
    "        break\n"
   ]
  }
 ],
 "metadata": {
  "kernelspec": {
   "display_name": "Python 3",
   "language": "python",
   "name": "python3"
  },
  "language_info": {
   "codemirror_mode": {
    "name": "ipython",
    "version": 3
   },
   "file_extension": ".py",
   "mimetype": "text/x-python",
   "name": "python",
   "nbconvert_exporter": "python",
   "pygments_lexer": "ipython3",
   "version": "3.8.2"
  }
 },
 "nbformat": 4,
 "nbformat_minor": 2
}
