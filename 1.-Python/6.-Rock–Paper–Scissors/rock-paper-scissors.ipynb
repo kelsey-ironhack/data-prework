{
 "cells": [
  {
   "cell_type": "markdown",
   "metadata": {},
   "source": [
    "<img src=\"https://bit.ly/2VnXWr2\" width=\"100\" align=\"left\">"
   ]
  },
  {
   "cell_type": "markdown",
   "metadata": {},
   "source": [
    "# Rock, Paper & Scissors\n",
    "\n",
    "Let's play the famous game against our computer. You can check the rules [here](https://en.wikipedia.org/wiki/Rock%E2%80%93paper%E2%80%93scissors). \n",
    "\n",
    "## Task\n",
    "Create a program that imitates the playability of the well known game of rock, paper, scissors. Follow the guidelines provided.\n",
    "\n",
    "## Tools\n",
    "1. Loop: **for/while**\n",
    "2. Functions: **input(), print()...**\n",
    "3. Conditional statements: **if, elif, else**\n",
    "4. Definition of functions. Modular programming\n",
    "5. Import modules\n",
    "\n",
    "**To solve this challenge, the use of functions is recommended.**\n",
    "\n",
    "#### 1. Import the choice function of the random module."
   ]
  },
  {
   "cell_type": "code",
   "execution_count": 1,
   "metadata": {},
   "outputs": [],
   "source": [
    "import random"
   ]
  },
  {
   "cell_type": "markdown",
   "metadata": {},
   "source": [
    "#### 2. Create a list that includes the 3 possible gesture options of the game: 'rock', 'paper' or 'scissors'. Store the list in a variable called `gestures`."
   ]
  },
  {
   "cell_type": "code",
   "execution_count": 2,
   "metadata": {},
   "outputs": [],
   "source": [
    "gestures=['rock','paper','scissors']"
   ]
  },
  {
   "cell_type": "markdown",
   "metadata": {},
   "source": [
    "#### 3. Create a variable called `n_rounds` to store the maximum number of rounds to play in a game. \n",
    "Remember that the number of rounds must be odd: 1, 3, 5, ..."
   ]
  },
  {
   "cell_type": "code",
   "execution_count": 3,
   "metadata": {},
   "outputs": [],
   "source": [
    "n_rounds=0"
   ]
  },
  {
   "cell_type": "markdown",
   "metadata": {},
   "source": [
    "#### 4. Create a variable called `rounds_to_win` to store the number of rounds that a player must win to win the game.\n",
    "**Hint**: the value stored in `rounds_to_win` depends on the value of `n_rounds`. "
   ]
  },
  {
   "cell_type": "code",
   "execution_count": 4,
   "metadata": {},
   "outputs": [],
   "source": [
    "rounds_to_win=0"
   ]
  },
  {
   "cell_type": "markdown",
   "metadata": {},
   "source": [
    "#### 5. Create two variables to store the number of rounds that the computer and the player have won. Call these variables `cpu_score` and `player_score`."
   ]
  },
  {
   "cell_type": "code",
   "execution_count": 5,
   "metadata": {},
   "outputs": [],
   "source": [
    "cpu_score=0\n",
    "player_score=0"
   ]
  },
  {
   "cell_type": "markdown",
   "metadata": {},
   "source": [
    "#### 6. Define a function that randomly returns one of the 3 gesture options.\n",
    "You will use this function to simulate the gesture choice of the computer. "
   ]
  },
  {
   "cell_type": "code",
   "execution_count": 6,
   "metadata": {},
   "outputs": [],
   "source": [
    "def gesture_cpu():\n",
    "    x=random.choice(gestures)\n",
    "    return x"
   ]
  },
  {
   "cell_type": "markdown",
   "metadata": {},
   "source": [
    "#### 7. Define a function that asks the player which is the gesture he or she wants to show: 'rock', 'paper' or 'scissors'.\n",
    "The player should only be allowed to choose one of the 3 gesture options. If the player's choice is not rock, paper or scissors, keep asking until it is."
   ]
  },
  {
   "cell_type": "code",
   "execution_count": 7,
   "metadata": {},
   "outputs": [],
   "source": [
    "def gesture_player():\n",
    "    gest_play=' '\n",
    "    while (gest_play in gestures)==False:\n",
    "        gest_play=input(\"Select your gesture (rock, paper or scissors):\")\n",
    "    return gest_play"
   ]
  },
  {
   "cell_type": "markdown",
   "metadata": {},
   "source": [
    "#### 8. Define a function that checks who won a round. \n",
    "The function should return 0 if there is a tie, 1 if the computer wins and 2 if the player wins."
   ]
  },
  {
   "cell_type": "code",
   "execution_count": 9,
   "metadata": {},
   "outputs": [],
   "source": [
    "def winner(player,cpu):\n",
    "    if player==cpu:\n",
    "        return 0\n",
    "    elif player=='rock':\n",
    "        if cpu=='paper':\n",
    "            return 1\n",
    "        else:\n",
    "            return 2\n",
    "    elif player=='paper':\n",
    "        if cpu=='rock':\n",
    "            return 2\n",
    "        else:\n",
    "            return 1\n",
    "    else:\n",
    "        if cpu=='rock':\n",
    "            return 1\n",
    "        else:\n",
    "            return 2"
   ]
  },
  {
   "cell_type": "markdown",
   "metadata": {},
   "source": [
    "#### 9. Define a function that prints the choice of the computer, the choice of the player and a message that announces who won the current round. \n",
    "You should also use this function to update the variables that count the number of rounds that the computer and the player have won. The score of the winner increases by one point. If there is a tie, the score does not increase."
   ]
  },
  {
   "cell_type": "code",
   "execution_count": 10,
   "metadata": {},
   "outputs": [],
   "source": [
    "def current_round(p,c,w):\n",
    "    h=[]\n",
    "    h.append(p)\n",
    "    h.append(c)\n",
    "    h.append(w)\n",
    "    return h"
   ]
  },
  {
   "cell_type": "markdown",
   "metadata": {},
   "source": [
    "#### 10. Now it's time to code the execution of the game using the functions and variables you defined above. \n",
    "\n",
    "First, create a loop structure that repeats while no player reaches the minimum score necessary to win and the number of rounds is less than the maximum number of rounds to play in a game.  \n",
    "\n",
    "Inside the loop, use the functions and variables above to create the execution of a round: ask for the player's choice, generate the random choice of the computer, show the round results, update the scores, etc. "
   ]
  },
  {
   "cell_type": "code",
   "execution_count": 11,
   "metadata": {},
   "outputs": [
    {
     "name": "stdout",
     "output_type": "stream",
     "text": [
      "How many rounds will you play? 5\n",
      "Select your gesture (rock, paper or scissors):rock\n",
      "rock rock 0\n",
      "Select your gesture (rock, paper or scissors):paper\n",
      "paper scissors 1\n",
      "Select your gesture (rock, paper or scissors):scissors\n",
      "scissors rock 1\n",
      "Select your gesture (rock, paper or scissors):scissors\n",
      "scissors scissors 0\n",
      "Select your gesture (rock, paper or scissors):tt\n",
      "Select your gesture (rock, paper or scissors):paper\n",
      "paper paper 0\n",
      "Select your gesture (rock, paper or scissors):rock\n",
      "rock scissors 2\n",
      "Select your gesture (rock, paper or scissors):rock\n",
      "rock rock 0\n",
      "Select your gesture (rock, paper or scissors):paper\n",
      "paper paper 0\n",
      "Select your gesture (rock, paper or scissors):rock\n",
      "rock rock 0\n",
      "Select your gesture (rock, paper or scissors):scissors\n",
      "scissors rock 1\n"
     ]
    }
   ],
   "source": [
    "n_rounds = float(input(\"How many rounds will you play? \"))\n",
    "if (n_rounds%2)==1:\n",
    "    rounds_to_win=n_rounds/2+.5\n",
    "else:\n",
    "    rounds_to_win=n_rounds/2+1\n",
    "while (cpu_score==rounds_to_win or player_score==rounds_to_win)==False:\n",
    "    y=gesture_cpu()\n",
    "    z=gesture_player()\n",
    "    win=winner(z,y)\n",
    "    print(z,y,win)\n",
    "    if win==0:\n",
    "        pass\n",
    "    elif win==1:\n",
    "        cpu_score+=1\n",
    "    else:\n",
    "        player_score+=1"
   ]
  },
  {
   "cell_type": "markdown",
   "metadata": {},
   "source": [
    "#### 11. Print the winner of the game based on who won more rounds.\n",
    "Remember that the game might be tied. "
   ]
  },
  {
   "cell_type": "code",
   "execution_count": 12,
   "metadata": {},
   "outputs": [
    {
     "name": "stdout",
     "output_type": "stream",
     "text": [
      "The cpu won\n"
     ]
    }
   ],
   "source": [
    "if cpu_score==rounds_to_win:\n",
    "    print(\"The cpu won\")\n",
    "else:\n",
    "    print(\"The player won\")"
   ]
  },
  {
   "cell_type": "markdown",
   "metadata": {},
   "source": [
    "# Bonus: Rock, Paper, Scissors, Lizard & Spock\n",
    "![](images/rpsls.jpg)\n",
    "\n",
    "In this challenge, you need to improve the previous game by adding two new options. To know more about the rules of the improved version of rock, paper, scissors, check this [link](http://www.samkass.com/theories/RPSSL.html). \n",
    "\n",
    "In addition, you will also need to improve how the game interacts with the player: the number of rounds to play, which must be an odd number, will be requested to the user until a valid number is entered. Define a new function to make that request.\n",
    "\n",
    "**Hint**: Try to reuse the code that you already coded in the previous challenge. If your code is efficient, this bonus will only consist of simple modifications to the original game."
   ]
  },
  {
   "cell_type": "code",
   "execution_count": 13,
   "metadata": {},
   "outputs": [
    {
     "name": "stdout",
     "output_type": "stream",
     "text": [
      "How many rounds will you play? 5\n",
      "Select your gesture (rock, paper, scissors, lizard or spock):rock\n",
      "rock lizard 2\n",
      "Select your gesture (rock, paper, scissors, lizard or spock):spock\n",
      "spock scissors 2\n",
      "Select your gesture (rock, paper, scissors, lizard or spock):lizard\n",
      "lizard paper 2\n",
      "The player won\n"
     ]
    }
   ],
   "source": [
    "import random \n",
    "\n",
    "gestures=['rock','paper','scissors','lizard','spock']\n",
    "\n",
    "n_rounds=0\n",
    "\n",
    "rounds_to_win=0\n",
    "\n",
    "cpu_score=0\n",
    "player_score=0\n",
    "\n",
    "def gesture_cpu():\n",
    "    x=random.choice(gestures)\n",
    "    return x\n",
    "\n",
    "def gesture_player():\n",
    "    gest_play=' '\n",
    "    while (gest_play in gestures)==False:\n",
    "        gest_play=input(\"Select your gesture (rock, paper, scissors, lizard or spock):\")\n",
    "    return gest_play\n",
    "\n",
    "def winner(player,cpu):\n",
    "    if player==cpu:\n",
    "        return 0\n",
    "    elif player=='rock':\n",
    "        if cpu=='paper' or cpu=='spock':\n",
    "            return 1\n",
    "        else:\n",
    "            return 2\n",
    "    elif player=='paper':\n",
    "        if cpu=='lizard' or cpu=='scissors':\n",
    "            return 1\n",
    "        else:\n",
    "            return 2\n",
    "    elif player=='scissors':\n",
    "        if cpu=='rock' or cpu=='spock':\n",
    "            return 1\n",
    "        else:\n",
    "            return 2\n",
    "    elif player=='lizard':\n",
    "        if cpu=='rock' or cpu=='scissors':\n",
    "            return 1\n",
    "        else:\n",
    "            return 2\n",
    "    else:\n",
    "        if cpu=='lizard' or cpu=='paper':\n",
    "            return 1\n",
    "        else:\n",
    "            return 2\n",
    "\n",
    "def current_round(p,c,w):\n",
    "    h=[]\n",
    "    h.append(p)\n",
    "    h.append(c)\n",
    "    h.append(w)\n",
    "    return h\n",
    "\n",
    "n_rounds = float(input(\"How many rounds will you play? \"))\n",
    "if (n_rounds%2)==1:\n",
    "    rounds_to_win=n_rounds/2+.5\n",
    "else:\n",
    "    rounds_to_win=n_rounds/2+1\n",
    "while (cpu_score==rounds_to_win or player_score==rounds_to_win)==False:\n",
    "    y=gesture_cpu()\n",
    "    z=gesture_player()\n",
    "    win=winner(z,y)\n",
    "    print(z,y,win)\n",
    "    if win==0:\n",
    "        pass\n",
    "    elif win==1:\n",
    "        cpu_score+=1\n",
    "    else:\n",
    "        player_score+=1\n",
    "if cpu_score==rounds_to_win:\n",
    "    print(\"The cpu won\")\n",
    "else:\n",
    "    print(\"The player won\")"
   ]
  },
  {
   "cell_type": "code",
   "execution_count": null,
   "metadata": {},
   "outputs": [],
   "source": []
  }
 ],
 "metadata": {
  "kernelspec": {
   "display_name": "Python 3",
   "language": "python",
   "name": "python3"
  },
  "language_info": {
   "codemirror_mode": {
    "name": "ipython",
    "version": 3
   },
   "file_extension": ".py",
   "mimetype": "text/x-python",
   "name": "python",
   "nbconvert_exporter": "python",
   "pygments_lexer": "ipython3",
   "version": "3.7.6"
  }
 },
 "nbformat": 4,
 "nbformat_minor": 2
}
