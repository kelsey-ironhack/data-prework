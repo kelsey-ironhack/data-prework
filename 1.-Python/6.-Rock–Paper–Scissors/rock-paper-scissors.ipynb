{
 "cells": [
  {
   "cell_type": "markdown",
   "metadata": {},
   "source": [
    "<img src=\"https://bit.ly/2VnXWr2\" width=\"100\" align=\"left\">"
   ]
  },
  {
   "cell_type": "markdown",
   "metadata": {},
   "source": [
    "# Rock, Paper & Scissors\n",
    "\n",
    "Let's play the famous game against our computer. You can check the rules [here](https://en.wikipedia.org/wiki/Rock%E2%80%93paper%E2%80%93scissors). \n",
    "\n",
    "## Task\n",
    "Create a program that imitates the playability of the well known game of rock, paper, scissors. Follow the guidelines provided.\n",
    "\n",
    "## Tools\n",
    "1. Loop: **for/while**\n",
    "2. Functions: **input(), print()...**\n",
    "3. Conditional statements: **if, elif, else**\n",
    "4. Definition of functions. Modular programming\n",
    "5. Import modules\n",
    "\n",
    "**To solve this challenge, the use of functions is recommended.**\n",
    "\n",
    "#### 1. Import the choice function of the random module."
   ]
  },
  {
   "cell_type": "code",
   "execution_count": null,
   "metadata": {},
   "outputs": [],
   "source": [
    "from random import choice"
   ]
  },
  {
   "cell_type": "markdown",
   "metadata": {},
   "source": [
    "#### 2. Create a list that includes the 3 possible gesture options of the game: 'rock', 'paper' or 'scissors'. Store the list in a variable called `gestures`."
   ]
  },
  {
   "cell_type": "code",
   "execution_count": null,
   "metadata": {},
   "outputs": [],
   "source": [
    "gestures = [\"R\", \"P\", \"S\"]"
   ]
  },
  {
   "cell_type": "markdown",
   "metadata": {},
   "source": [
    "#### 3. Create a variable called `n_rounds` to store the maximum number of rounds to play in a game. \n",
    "Remember that the number of rounds must be odd: 1, 3, 5, ..."
   ]
  },
  {
   "cell_type": "code",
   "execution_count": null,
   "metadata": {},
   "outputs": [],
   "source": [
    "n_rounds = 3"
   ]
  },
  {
   "cell_type": "markdown",
   "metadata": {},
   "source": [
    "#### 4. Create a variable called `rounds_to_win` to store the number of rounds that a player must win to win the game.\n",
    "**Hint**: the value stored in `rounds_to_win` depends on the value of `n_rounds`. "
   ]
  },
  {
   "cell_type": "code",
   "execution_count": null,
   "metadata": {},
   "outputs": [],
   "source": [
    "from math import ceil\n",
    "rounds_to_win = ceil(n_rounds/2)\n",
    "rounds_to_win"
   ]
  },
  {
   "cell_type": "markdown",
   "metadata": {},
   "source": [
    "#### 5. Create two variables to store the number of rounds that the computer and the player have won. Call these variables `cpu_score` and `player_score`."
   ]
  },
  {
   "cell_type": "code",
   "execution_count": null,
   "metadata": {},
   "outputs": [],
   "source": [
    "cpu_score = 0\n",
    "player_score = 0"
   ]
  },
  {
   "cell_type": "markdown",
   "metadata": {},
   "source": [
    "#### 6. Define a function that randomly returns one of the 3 gesture options.\n",
    "You will use this function to simulate the gesture choice of the computer. "
   ]
  },
  {
   "cell_type": "code",
   "execution_count": null,
   "metadata": {},
   "outputs": [],
   "source": [
    "def cpu_choice():\n",
    "    return choice(gestures)\n",
    "cpu_choice()"
   ]
  },
  {
   "cell_type": "markdown",
   "metadata": {},
   "source": [
    "#### 7. Define a function that asks the player which is the gesture he or she wants to show: 'rock', 'paper' or 'scissors'.\n",
    "The player should only be allowed to choose one of the 3 gesture options. If the player's choice is not rock, paper or scissors, keep asking until it is."
   ]
  },
  {
   "cell_type": "code",
   "execution_count": null,
   "metadata": {},
   "outputs": [],
   "source": [
    "def player_choice():\n",
    "    while True:\n",
    "        player_input = input('R, P, S\\n')\n",
    "        if player_input in gestures:\n",
    "            return player_input\n",
    "    \n",
    "player_choice()"
   ]
  },
  {
   "cell_type": "markdown",
   "metadata": {},
   "source": [
    "#### 8. Define a function that checks who won a round. \n",
    "The function should return 0 if there is a tie, 1 if the computer wins and 2 if the player wins."
   ]
  },
  {
   "cell_type": "code",
   "execution_count": null,
   "metadata": {},
   "outputs": [],
   "source": [
    "def check(player, cpu):\n",
    "    if player == cpu:\n",
    "        return 0\n",
    "    elif player == gestures[0] and cpu == gestures[1]:\n",
    "        return 1\n",
    "    elif player == gestures[1] and cpu == gestures[2]:\n",
    "        return 1\n",
    "    elif player == gestures[2] and cpu == gestures[0]:\n",
    "        return 1\n",
    "    else:\n",
    "        return 2\n",
    "check(\"R\", \"P\")"
   ]
  },
  {
   "cell_type": "markdown",
   "metadata": {},
   "source": [
    "#### 9. Define a function that prints the choice of the computer, the choice of the player and a message that announces who won the current round. \n",
    "You should also use this function to update the variables that count the number of rounds that the computer and the player have won. The score of the winner increases by one point. If there is a tie, the score does not increase."
   ]
  },
  {
   "cell_type": "code",
   "execution_count": null,
   "metadata": {},
   "outputs": [],
   "source": [
    "def round_won(score):\n",
    "\n",
    "    if score == 0:\n",
    "        print(\"Player selection: {}\\n CPU selection {}\\nIt's a tie\".format(player_choice, cpu_choice))\n",
    "    elif score == 1:\n",
    "        cpu_score += 1\n",
    "        print(\"Player selection: {}\\n CPU selection {}\\nCPU won\".format(player_choice, cpu_choice))\n",
    "    else:\n",
    "        player_score += 1\n",
    "        print(\"Player selection: {}\\n CPU selection {}\\nPlayer won\".format(player_choice, cpu_choice))"
   ]
  },
  {
   "cell_type": "markdown",
   "metadata": {},
   "source": [
    "#### 10. Now it's time to code the execution of the game using the functions and variables you defined above. \n",
    "\n",
    "First, create a loop structure that repeats while no player reaches the minimum score necessary to win and the number of rounds is less than the maximum number of rounds to play in a game.  \n",
    "\n",
    "Inside the loop, use the functions and variables above to create the execution of a round: ask for the player's choice, generate the random choice of the computer, show the round results, update the scores, etc. "
   ]
  },
  {
   "cell_type": "code",
   "execution_count": 30,
   "metadata": {},
   "outputs": [],
   "source": [
    "from random import choice\n",
    "from math import ceil\n",
    "gestures = [\"R\", \"P\", \"S\"]\n",
    "n_rounds = 3\n",
    "rounds_to_win = ceil(n_rounds/2)\n",
    "\n",
    "\n",
    "def cpu_choice():\n",
    "    return choice(gestures)\n",
    "\n",
    "def player_choice():\n",
    "    while True:\n",
    "        player_input = input('R, P, S\\n')\n",
    "        if player_input in gestures:\n",
    "            return player_input\n",
    "        else:\n",
    "            continue\n",
    "        \n",
    "def win_check(player, cpu):\n",
    "    if player == cpu:\n",
    "        return 0\n",
    "    elif player == gestures[0] and cpu == gestures[1]:\n",
    "        return 1\n",
    "    elif player == gestures[1] and cpu == gestures[2]:\n",
    "        return 1\n",
    "    elif player == gestures[2] and cpu == gestures[0]:\n",
    "        return 1\n",
    "    else:\n",
    "        return 2\n",
    "\n",
    "def round_won(win):\n",
    "    global cpu_score\n",
    "    global player_score\n",
    "    if win == 0:\n",
    "        print(\"Player selection: {}; CPU selection {}.\\nIt's a tie\".format(p, c))\n",
    "    elif win == 1:\n",
    "        cpu_score += 1\n",
    "        print(\"Player selection: {}; CPU selection {}.\\nCPU won\".format(p, c))\n",
    "    else:\n",
    "        player_score += 1\n",
    "        print(\"Player selection: {}; CPU selection {}.\\nPlayer won\".format(p, c))\n",
    "\n",
    "def main():\n",
    "    global player_score\n",
    "    global cpu_score\n",
    "    cpu_score = 0\n",
    "    player_score = 0\n",
    "    while player_score < rounds_to_win or cpu_score < rounds_to_win:\n",
    "        p = player_choice()\n",
    "        c = cpu_choice()\n",
    "        win = win_check(p, c)\n",
    "        round_won(win)\n"
   ]
  },
  {
   "cell_type": "code",
   "execution_count": 31,
   "metadata": {},
   "outputs": [
    {
     "name": "stdout",
     "output_type": "stream",
     "text": [
      "R, P, S\n",
      "R\n",
      "Player selection: R; CPU selection S.\n",
      "It's a tie\n",
      "R, P, S\n",
      "R\n",
      "Player selection: R; CPU selection S.\n",
      "It's a tie\n",
      "R, P, S\n",
      "R\n",
      "Player selection: R; CPU selection S.\n",
      "CPU won\n",
      "R, P, S\n",
      "R\n",
      "Player selection: R; CPU selection S.\n",
      "It's a tie\n",
      "R, P, S\n",
      "R\n",
      "Player selection: R; CPU selection S.\n",
      "CPU won\n",
      "R, P, S\n",
      "R\n",
      "Player selection: R; CPU selection S.\n",
      "Player won\n",
      "R, P, S\n",
      "R\n",
      "Player selection: R; CPU selection S.\n",
      "It's a tie\n",
      "R, P, S\n",
      "R\n",
      "Player selection: R; CPU selection S.\n",
      "Player won\n"
     ]
    }
   ],
   "source": [
    "main()"
   ]
  },
  {
   "cell_type": "raw",
   "metadata": {},
   "source": []
  },
  {
   "cell_type": "markdown",
   "metadata": {},
   "source": [
    "#### 11. Print the winner of the game based on who won more rounds.\n",
    "Remember that the game might be tied. "
   ]
  },
  {
   "cell_type": "code",
   "execution_count": 2,
   "metadata": {},
   "outputs": [
    {
     "ename": "NameError",
     "evalue": "name 'cpu_score' is not defined",
     "output_type": "error",
     "traceback": [
      "\u001b[0;31m---------------------------------------------------------------------------\u001b[0m",
      "\u001b[0;31mNameError\u001b[0m                                 Traceback (most recent call last)",
      "\u001b[0;32m<ipython-input-2-e7dfc92e792e>\u001b[0m in \u001b[0;36m<module>\u001b[0;34m\u001b[0m\n\u001b[0;32m----> 1\u001b[0;31m \u001b[0;32mif\u001b[0m \u001b[0mcpu_score\u001b[0m \u001b[0;34m>\u001b[0m \u001b[0mplayer_score\u001b[0m\u001b[0;34m:\u001b[0m\u001b[0;34m\u001b[0m\u001b[0;34m\u001b[0m\u001b[0m\n\u001b[0m\u001b[1;32m      2\u001b[0m     \u001b[0mprint\u001b[0m\u001b[0;34m(\u001b[0m\u001b[0;34m\"CPU won\"\u001b[0m\u001b[0;34m)\u001b[0m\u001b[0;34m\u001b[0m\u001b[0;34m\u001b[0m\u001b[0m\n\u001b[1;32m      3\u001b[0m \u001b[0;32melif\u001b[0m \u001b[0mplayer_score\u001b[0m \u001b[0;34m>\u001b[0m \u001b[0mcpu_score\u001b[0m\u001b[0;34m:\u001b[0m\u001b[0;34m\u001b[0m\u001b[0;34m\u001b[0m\u001b[0m\n\u001b[1;32m      4\u001b[0m     \u001b[0mprint\u001b[0m\u001b[0;34m(\u001b[0m\u001b[0;34m\"Player won\"\u001b[0m\u001b[0;34m)\u001b[0m\u001b[0;34m\u001b[0m\u001b[0;34m\u001b[0m\u001b[0m\n\u001b[1;32m      5\u001b[0m \u001b[0;32melse\u001b[0m\u001b[0;34m:\u001b[0m\u001b[0;34m\u001b[0m\u001b[0;34m\u001b[0m\u001b[0m\n",
      "\u001b[0;31mNameError\u001b[0m: name 'cpu_score' is not defined"
     ]
    }
   ],
   "source": [
    "if cpu_score > player_score:\n",
    "    print(\"CPU won\")\n",
    "elif player_score > cpu_score:\n",
    "    print(\"Player won\")\n",
    "else:\n",
    "    print(\"It's a tie\")"
   ]
  },
  {
   "cell_type": "markdown",
   "metadata": {},
   "source": [
    "# Bonus: Rock, Paper, Scissors, Lizard & Spock\n",
    "![](images/rpsls.jpg)\n",
    "\n",
    "In this challenge, you need to improve the previous game by adding two new options. To know more about the rules of the improved version of rock, paper, scissors, check this [link](http://www.samkass.com/theories/RPSSL.html). \n",
    "\n",
    "In addition, you will also need to improve how the game interacts with the player: the number of rounds to play, which must be an odd number, will be requested to the user until a valid number is entered. Define a new function to make that request.\n",
    "\n",
    "**Hint**: Try to reuse the code that you already coded in the previous challenge. If your code is efficient, this bonus will only consist of simple modifications to the original game."
   ]
  },
  {
   "cell_type": "code",
   "execution_count": 18,
   "metadata": {},
   "outputs": [],
   "source": [
    "from math import ceil\n",
    "from random import choice\n",
    "\n",
    "my_dict = {\"R\": [\"S\", \"L\"], \"P\": [\"R\", \"SP\"], \"S\": [\"P\", \"L\"], \"L\": [\"P\", \"SP\"], \"SP\": [\"R\", \"S\"]}\n",
    "options = [\"R --> Rock\", \"P --> Paper\", \"S --> Scissors\", \"L --> Lizard\", \"SP --> Spock\"]\n",
    "\n",
    "def rounds():\n",
    "    while True:\n",
    "        n_rounds = int(input(\"Chose a odd number of rounds to play\"))\n",
    "        if n_rounds%2 !=0:\n",
    "            rounds_to_win = ceil(n_rounds/2)\n",
    "            print(\"To win the game: {}/{}\".format(to_win, n_rounds))\n",
    "            return rounds_to_win\n",
    "        else:\n",
    "            continue\n",
    "\n",
    "def match():\n",
    "    while True:\n",
    "        print(options)\n",
    "        player_gesture = input(\"Chose an option\")\n",
    "        if player_gesture in my_dict:\n",
    "            print(\"Player: {}\".format(player_gesture))\n",
    "            cpu = choice(list(my_dict.keys()))\n",
    "            print(\"CPU: {}\".format(cpu))\n",
    "            if cpu in my_dict[player_gesture]:\n",
    "                print(\"player won.\")\n",
    "                print(\"______________________\\n\\n\")\n",
    "                return 1\n",
    "            else:\n",
    "                print(\"CPU won.\")\n",
    "                print(\"______________________\\n\\n\")\n",
    "                return 2\n",
    "def main():\n",
    "    cpu_score = 0\n",
    "    player_score = 0\n",
    "    rounds_to_win = rounds()\n",
    "    while player_score < rounds_to_win and cpu_score < rounds_to_win:\n",
    "        if match() == 1:\n",
    "            player_score += 1\n",
    "        else:\n",
    "            cpu_score += 1\n",
    "    print(\"Player wins\" if player_score > cpu_score else \"CPU wins\")\n",
    "main()"
   ]
  }
 ],
 "metadata": {
  "kernelspec": {
   "display_name": "Python 3",
   "language": "python",
   "name": "python3"
  },
  "language_info": {
   "codemirror_mode": {
    "name": "ipython",
    "version": 3
   },
   "file_extension": ".py",
   "mimetype": "text/x-python",
   "name": "python",
   "nbconvert_exporter": "python",
   "pygments_lexer": "ipython3",
   "version": "3.8.2"
  }
 },
 "nbformat": 4,
 "nbformat_minor": 2
}
