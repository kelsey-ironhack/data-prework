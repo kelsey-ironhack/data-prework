{
 "cells": [
  {
   "cell_type": "markdown",
   "metadata": {},
   "source": [
    "<img src=\"https://bit.ly/2VnXWr2\" width=\"100\" align=\"left\">"
   ]
  },
  {
   "cell_type": "markdown",
   "metadata": {},
   "source": [
    "# Rock, Paper & Scissors\n",
    "\n",
    "Let's play the famous game against our computer. You can check the rules [here](https://en.wikipedia.org/wiki/Rock%E2%80%93paper%E2%80%93scissors). \n",
    "\n",
    "## Task\n",
    "Create a program that imitates the playability of the well known game of rock, paper, scissors. Follow the guidelines provided.\n",
    "\n",
    "## Tools\n",
    "1. Loop: **for/while**\n",
    "2. Functions: **input(), print()...**\n",
    "3. Conditional statements: **if, elif, else**\n",
    "4. Definition of functions. Modular programming\n",
    "5. Import modules\n",
    "\n",
    "**To solve this challenge, the use of functions is recommended.**\n",
    "\n",
    "#### 1. Import the choice function of the random module."
   ]
  },
  {
   "cell_type": "code",
   "execution_count": 1,
   "metadata": {},
   "outputs": [],
   "source": [
    "from random import choice"
   ]
  },
  {
   "cell_type": "markdown",
   "metadata": {},
   "source": [
    "#### 2. Create a list that includes the 3 possible gesture options of the game: 'rock', 'paper' or 'scissors'. Store the list in a variable called `gestures`."
   ]
  },
  {
   "cell_type": "code",
   "execution_count": 2,
   "metadata": {},
   "outputs": [],
   "source": [
    "gestures = [\"rock\", \"paper\", \"scissors\"]"
   ]
  },
  {
   "cell_type": "markdown",
   "metadata": {},
   "source": [
    "#### 3. Create a variable called `n_rounds` to store the maximum number of rounds to play in a game. \n",
    "Remember that the number of rounds must be odd: 1, 3, 5, ..."
   ]
  },
  {
   "cell_type": "code",
   "execution_count": 3,
   "metadata": {},
   "outputs": [],
   "source": [
    "n_rounds = 5"
   ]
  },
  {
   "cell_type": "markdown",
   "metadata": {},
   "source": [
    "#### 4. Create a variable called `rounds_to_win` to store the number of rounds that a player must win to win the game.\n",
    "**Hint**: the value stored in `rounds_to_win` depends on the value of `n_rounds`. "
   ]
  },
  {
   "cell_type": "code",
   "execution_count": 4,
   "metadata": {},
   "outputs": [],
   "source": [
    "rounds_to_win = int((n_rounds + 1) / 2)"
   ]
  },
  {
   "cell_type": "markdown",
   "metadata": {},
   "source": [
    "#### 5. Create two variables to store the number of rounds that the computer and the player have won. Call these variables `cpu_score` and `player_score`."
   ]
  },
  {
   "cell_type": "code",
   "execution_count": 5,
   "metadata": {},
   "outputs": [],
   "source": [
    "cpu_score = 0\n",
    "player_score = 0"
   ]
  },
  {
   "cell_type": "markdown",
   "metadata": {},
   "source": [
    "#### 6. Define a function that randomly returns one of the 3 gesture options.\n",
    "You will use this function to simulate the gesture choice of the computer. "
   ]
  },
  {
   "cell_type": "code",
   "execution_count": 6,
   "metadata": {},
   "outputs": [],
   "source": [
    "def random_gesture(gesture_list):\n",
    "    return choice(gesture_list)"
   ]
  },
  {
   "cell_type": "markdown",
   "metadata": {},
   "source": [
    "#### 7. Define a function that asks the player which is the gesture he or she wants to show: 'rock', 'paper' or 'scissors'.\n",
    "The player should only be allowed to choose one of the 3 gesture options. If the player's choice is not rock, paper or scissors, keep asking until it is."
   ]
  },
  {
   "cell_type": "code",
   "execution_count": 7,
   "metadata": {},
   "outputs": [],
   "source": [
    "def ask_gesture(gesture_list):\n",
    "    while True:\n",
    "        gesture = input(\"Which gesture do you want to show? \")\n",
    "        if gesture in gesture_list:\n",
    "            return gesture"
   ]
  },
  {
   "cell_type": "markdown",
   "metadata": {},
   "source": [
    "#### 8. Define a function that checks who won a round. \n",
    "The function should return 0 if there is a tie, 1 if the computer wins and 2 if the player wins."
   ]
  },
  {
   "cell_type": "code",
   "execution_count": 8,
   "metadata": {},
   "outputs": [],
   "source": [
    "def check_result(cpu_gesture, player_gesture):\n",
    "    move_set = {cpu_gesture, player_gesture}\n",
    "    if len(move_set) == 1:\n",
    "        return 0\n",
    "    if move_set == {\"rock\", \"paper\"}:\n",
    "        return 1 if cpu_gesture == \"paper\" else 2\n",
    "    if move_set == {\"rock\", \"scissors\"}:\n",
    "        return 1 if cpu_gesture == \"rock\" else 2\n",
    "    else:\n",
    "        return 1 if cpu_gesture == \"scissors\" else 2"
   ]
  },
  {
   "cell_type": "markdown",
   "metadata": {},
   "source": [
    "#### 9. Define a function that prints the choice of the computer, the choice of the player and a message that announces who won the current round. \n",
    "You should also use this function to update the variables that count the number of rounds that the computer and the player have won. The score of the winner increases by one point. If there is a tie, the score does not increase."
   ]
  },
  {
   "cell_type": "code",
   "execution_count": 9,
   "metadata": {},
   "outputs": [],
   "source": [
    "def round_result(cpu_gesture, player_gesture, cpu_score, player_score):\n",
    "    print(\"[ROUND RESULT]\".center(79, \"-\"))\n",
    "    print(f\"CPU's gesture: {cpu_gesture}\")\n",
    "    print(f\"Player's gesture: {player_gesture}\")\n",
    "    result = check_result(cpu_gesture, player_gesture)\n",
    "    if result == 0:\n",
    "        result_msg = \"Tie\"\n",
    "    elif result == 1:\n",
    "        result_msg = \"CPU wins!\"\n",
    "        cpu_score += 1\n",
    "    else:\n",
    "        result_msg = \"Player wins!\"\n",
    "        player_score += 1\n",
    "    print(f\"Round result: {result_msg}\")\n",
    "    return cpu_score, player_score\n"
   ]
  },
  {
   "cell_type": "markdown",
   "metadata": {},
   "source": [
    "#### 10. Now it's time to code the execution of the game using the functions and variables you defined above. \n",
    "\n",
    "First, create a loop structure that repeats while no player reaches the minimum score necessary to win and the number of rounds is less than the maximum number of rounds to play in a game.  \n",
    "\n",
    "Inside the loop, use the functions and variables above to create the execution of a round: ask for the player's choice, generate the random choice of the computer, show the round results, update the scores, etc. "
   ]
  },
  {
   "cell_type": "code",
   "execution_count": 10,
   "metadata": {
    "tags": []
   },
   "outputs": [
    {
     "output_type": "stream",
     "name": "stdout",
     "text": "---------------------------------[ROUND RESULT]--------------------------------\nCPU's gesture: paper\nPlayer's gesture: rock\nRound result: CPU wins!\n---------------------------------[ROUND RESULT]--------------------------------\nCPU's gesture: paper\nPlayer's gesture: paper\nRound result: Tie\n---------------------------------[ROUND RESULT]--------------------------------\nCPU's gesture: scissors\nPlayer's gesture: paper\nRound result: CPU wins!\n---------------------------------[ROUND RESULT]--------------------------------\nCPU's gesture: rock\nPlayer's gesture: rock\nRound result: Tie\n---------------------------------[ROUND RESULT]--------------------------------\nCPU's gesture: rock\nPlayer's gesture: rock\nRound result: Tie\n---------------------------------[ROUND RESULT]--------------------------------\nCPU's gesture: scissors\nPlayer's gesture: paper\nRound result: CPU wins!\n"
    }
   ],
   "source": [
    "def play(gesture_list, cpu_score, player_score):\n",
    "    while True:\n",
    "        cpu_gesture = random_gesture(gesture_list)\n",
    "        player_gesture = ask_gesture(gesture_list)\n",
    "        cpu_score, player_score = round_result(cpu_gesture, player_gesture, cpu_score, player_score)\n",
    "        if cpu_score == rounds_to_win:\n",
    "            return \"CPU wins the game!\"\n",
    "        if player_score == rounds_to_win:\n",
    "            return \"Player wins the game!\"\n",
    "\n",
    "final_msg = play(gestures, cpu_score, player_score)"
   ]
  },
  {
   "cell_type": "markdown",
   "metadata": {},
   "source": [
    "#### 11. Print the winner of the game based on who won more rounds.\n",
    "Remember that the game might be tied. "
   ]
  },
  {
   "cell_type": "code",
   "execution_count": 11,
   "metadata": {
    "tags": []
   },
   "outputs": [
    {
     "output_type": "stream",
     "name": "stdout",
     "text": "---------------------------------[GAME RESULT]---------------------------------\nCPU wins the game!\n"
    }
   ],
   "source": [
    "print(\"[GAME RESULT]\".center(79, \"-\"))\n",
    "print(final_msg)"
   ]
  },
  {
   "cell_type": "markdown",
   "metadata": {},
   "source": [
    "# Bonus: Rock, Paper, Scissors, Lizard & Spock\n",
    "![](images/rpsls.jpg)\n",
    "\n",
    "In this challenge, you need to improve the previous game by adding two new options. To know more about the rules of the improved version of rock, paper, scissors, check this [link](http://www.samkass.com/theories/RPSSL.html). \n",
    "\n",
    "In addition, you will also need to improve how the game interacts with the player: the number of rounds to play, which must be an odd number, will be requested to the user until a valid number is entered. Define a new function to make that request.\n",
    "\n",
    "**Hint**: Try to reuse the code that you already coded in the previous challenge. If your code is efficient, this bonus will only consist of simple modifications to the original game."
   ]
  },
  {
   "cell_type": "code",
   "execution_count": 12,
   "metadata": {
    "tags": []
   },
   "outputs": [
    {
     "output_type": "stream",
     "name": "stdout",
     "text": "---------------------------------[ROUND RESULT]--------------------------------\nCPU's gesture: rock\nPlayer's gesture: rock\nRound result: Tie\n---------------------------------[ROUND RESULT]--------------------------------\nCPU's gesture: rock\nPlayer's gesture: paper\nRound result: Player wins!\n---------------------------------[ROUND RESULT]--------------------------------\nCPU's gesture: spock\nPlayer's gesture: paper\nRound result: Player wins!\n---------------------------------[ROUND RESULT]--------------------------------\nCPU's gesture: spock\nPlayer's gesture: lizard\nRound result: Player wins!\n---------------------------------[GAME RESULT]---------------------------------\nPlayer wins the game!\n"
    }
   ],
   "source": [
    "# Ask for number of rounds\n",
    "def ask_rounds():\n",
    "    while True:\n",
    "        n_rounds = int(input(\"How many rounds (max) would you like to play? \"))\n",
    "        if n_rounds % 2:\n",
    "            return int((n_rounds + 1) / 2)\n",
    "\n",
    "# Redefine check_result()\n",
    "def check_result(cpu_gesture, player_gesture):\n",
    "    move_set = {cpu_gesture, player_gesture}\n",
    "    if len(move_set) == 1:\n",
    "        return 0\n",
    "    if move_set == {\"rock\", \"paper\"}:\n",
    "        return 1 if cpu_gesture == \"paper\" else 2\n",
    "    if move_set == {\"rock\", \"scissors\"}:\n",
    "        return 1 if cpu_gesture == \"rock\" else 2\n",
    "    if move_set == {\"paper\", \"scissors\"}:\n",
    "        return 1 if cpu_gesture == \"scissors\" else 2\n",
    "    if move_set == {\"rock\", \"lizard\"}:\n",
    "        return 1 if cpu_gesture == \"rock\" else 2\n",
    "    if move_set == {\"rock\", \"spock\"}:\n",
    "        return 1 if cpu_gesture == \"spock\" else 2\n",
    "    if move_set == {\"paper\", \"lizard\"}:\n",
    "        return 1 if cpu_gesture == \"lizard\" else 2\n",
    "    if move_set == {\"paper\", \"spock\"}:\n",
    "        return 1 if cpu_gesture == \"paper\" else 2\n",
    "    if move_set == {\"scissors\", \"lizard\"}:\n",
    "        return 1 if cpu_gesture == \"scissors\" else 2\n",
    "    else:\n",
    "        return 1 if cpu_gesture == \"lizard\" else 2\n",
    "\n",
    "# Redefine play()\n",
    "def play(gesture_list, cpu_score, player_score):\n",
    "    rounds_to_win = ask_rounds()\n",
    "    while True:\n",
    "        cpu_gesture = random_gesture(gesture_list)\n",
    "        player_gesture = ask_gesture(gesture_list)\n",
    "        cpu_score, player_score = round_result(cpu_gesture, player_gesture, cpu_score, player_score)\n",
    "        if cpu_score == rounds_to_win:\n",
    "            return \"CPU wins the game!\"\n",
    "        if player_score == rounds_to_win:\n",
    "            return \"Player wins the game!\"\n",
    "\n",
    "# Play the game\n",
    "cpu_score = 0\n",
    "player_score = 0\n",
    "gestures_2 = [\"rock\", \"paper\", \"scissors\", \"lizard\", \"spock\"]\n",
    "final_msg = play(gestures_2, cpu_score, player_score)\n",
    "\n",
    "# Print game result\n",
    "print(\"[GAME RESULT]\".center(79, \"-\"))\n",
    "print(final_msg)"
   ]
  }
 ],
 "metadata": {
  "kernelspec": {
   "display_name": "Python 3",
   "language": "python",
   "name": "python3"
  },
  "language_info": {
   "codemirror_mode": {
    "name": "ipython",
    "version": 3
   },
   "file_extension": ".py",
   "mimetype": "text/x-python",
   "name": "python",
   "nbconvert_exporter": "python",
   "pygments_lexer": "ipython3",
   "version": "3.8.3-final"
  }
 },
 "nbformat": 4,
 "nbformat_minor": 2
}