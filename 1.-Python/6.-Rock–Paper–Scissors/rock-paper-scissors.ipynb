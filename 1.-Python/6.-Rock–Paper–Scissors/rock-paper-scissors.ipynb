{
 "cells": [
  {
   "cell_type": "markdown",
   "metadata": {},
   "source": [
    "<img src=\"https://bit.ly/2VnXWr2\" width=\"100\" align=\"left\">"
   ]
  },
  {
   "cell_type": "markdown",
   "metadata": {},
   "source": [
    "# Rock, Paper & Scissors\n",
    "\n",
    "Let's play the famous game against our computer. You can check the rules [here](https://en.wikipedia.org/wiki/Rock%E2%80%93paper%E2%80%93scissors). \n",
    "\n",
    "## Task\n",
    "Create a program that imitates the playability of the well known game of rock, paper, scissors. Follow the guidelines provided.\n",
    "\n",
    "## Tools\n",
    "1. Loop: **for/while**\n",
    "2. Functions: **input(), print()...**\n",
    "3. Conditional statements: **if, elif, else**\n",
    "4. Definition of functions. Modular programming\n",
    "5. Import modules\n",
    "\n",
    "**To solve this challenge, the use of functions is recommended.**\n",
    "\n",
    "#### 1. Import the choice function of the random module."
   ]
  },
  {
   "cell_type": "code",
   "execution_count": 1,
   "metadata": {},
   "outputs": [],
   "source": [
    "import random"
   ]
  },
  {
   "cell_type": "markdown",
   "metadata": {},
   "source": [
    "#### 2. Create a list that includes the 3 possible gesture options of the game: 'rock', 'paper' or 'scissors'. Store the list in a variable called `gestures`."
   ]
  },
  {
   "cell_type": "code",
   "execution_count": 2,
   "metadata": {},
   "outputs": [],
   "source": [
    "gestures=['rock','paper','scissors']"
   ]
  },
  {
   "cell_type": "markdown",
   "metadata": {},
   "source": [
    "#### 3. Create a variable called `n_rounds` to store the maximum number of rounds to play in a game. \n",
    "Remember that the number of rounds must be odd: 1, 3, 5, ..."
   ]
  },
  {
   "cell_type": "code",
   "execution_count": 3,
   "metadata": {},
   "outputs": [],
   "source": [
    "n_rounds=random.randrange(1,10,2)"
   ]
  },
  {
   "cell_type": "markdown",
   "metadata": {},
   "source": [
    "#### 4. Create a variable called `rounds_to_win` to store the number of rounds that a player must win to win the game.\n",
    "**Hint**: the value stored in `rounds_to_win` depends on the value of `n_rounds`. "
   ]
  },
  {
   "cell_type": "code",
   "execution_count": 4,
   "metadata": {},
   "outputs": [],
   "source": [
    "rounds_to_win=int(n_rounds/2+0.5)"
   ]
  },
  {
   "cell_type": "markdown",
   "metadata": {},
   "source": [
    "#### 5. Create two variables to store the number of rounds that the computer and the player have won. Call these variables `cpu_score` and `player_score`."
   ]
  },
  {
   "cell_type": "code",
   "execution_count": 5,
   "metadata": {},
   "outputs": [],
   "source": [
    "cpu_score=0\n",
    "player_score=0"
   ]
  },
  {
   "cell_type": "markdown",
   "metadata": {},
   "source": [
    "#### 6. Define a function that randomly returns one of the 3 gesture options.\n",
    "You will use this function to simulate the gesture choice of the computer. "
   ]
  },
  {
   "cell_type": "code",
   "execution_count": 6,
   "metadata": {},
   "outputs": [],
   "source": [
    "cpu=gestures[random.randrange(3)]"
   ]
  },
  {
   "cell_type": "markdown",
   "metadata": {},
   "source": [
    "#### 7. Define a function that asks the player which is the gesture he or she wants to show: 'rock', 'paper' or 'scissors'.\n",
    "The player should only be allowed to choose one of the 3 gesture options. If the player's choice is not rock, paper or scissors, keep asking until it is."
   ]
  },
  {
   "cell_type": "code",
   "execution_count": 7,
   "metadata": {},
   "outputs": [
    {
     "name": "stdout",
     "output_type": "stream",
     "text": [
      "Which is the gesture you want to show?\n",
      "1. Rock\n",
      "2. Paper\n",
      "3. Scissors\n",
      "Write the number of the gesture selected (1, 2 or 3): 2\n"
     ]
    }
   ],
   "source": [
    "player=0\n",
    "while player!=1 and player!=2 and player!=3:\n",
    "  print(\"Which is the gesture you want to show?\\n1. Rock\\n2. Paper\\n3. Scissors\")\n",
    "  player=int(input(\"Write the number of the gesture selected (1, 2 or 3): \"))\n",
    "player=gestures[player-1]"
   ]
  },
  {
   "cell_type": "markdown",
   "metadata": {},
   "source": [
    "#### 8. Define a function that checks who won a round. \n",
    "The function should return 0 if there is a tie, 1 if the computer wins and 2 if the player wins."
   ]
  },
  {
   "cell_type": "code",
   "execution_count": 8,
   "metadata": {},
   "outputs": [
    {
     "name": "stdout",
     "output_type": "stream",
     "text": [
      "1\n"
     ]
    }
   ],
   "source": [
    "if cpu=='rock':\n",
    "  if player=='rock':\n",
    "    sol=0\n",
    "  elif player=='paper':\n",
    "    sol=2\n",
    "  else:\n",
    "    sol=1\n",
    "elif cpu=='paper':\n",
    "  if player=='rock':\n",
    "    sol=1\n",
    "  elif player=='paper':\n",
    "    sol=0\n",
    "  else:\n",
    "    sol=2\n",
    "else:\n",
    "  if player=='rock':\n",
    "    sol=2\n",
    "  elif player=='paper':\n",
    "    sol=1\n",
    "  else:\n",
    "    sol=0\n",
    "print(sol)"
   ]
  },
  {
   "cell_type": "markdown",
   "metadata": {},
   "source": [
    "#### 9. Define a function that prints the choice of the computer, the choice of the player and a message that announces who won the current round. \n",
    "You should also use this function to update the variables that count the number of rounds that the computer and the player have won. The score of the winner increases by one point. If there is a tie, the score does not increase."
   ]
  },
  {
   "cell_type": "code",
   "execution_count": 9,
   "metadata": {},
   "outputs": [
    {
     "name": "stdout",
     "output_type": "stream",
     "text": [
      "The computer choose scissors , the player choose paper ,so the winner is the computer!\n"
     ]
    }
   ],
   "source": [
    "if sol==0:\n",
    "  print(\"The computer choose\", cpu,\", the player choose\", player,\",so there is a tie.\")\n",
    "elif sol==1:\n",
    "  print(\"The computer choose\", cpu,\", the player choose\", player,\",so the winner is the computer!\")\n",
    "  cpu_score+=1\n",
    "else:\n",
    "  print(\"The computer choose\", cpu,\", the player choose\", player,\",so the winner is the player!\")\n",
    "  player_score+=1"
   ]
  },
  {
   "cell_type": "markdown",
   "metadata": {},
   "source": [
    "#### 10. Now it's time to code the execution of the game using the functions and variables you defined above. \n",
    "\n",
    "First, create a loop structure that repeats while no player reaches the minimum score necessary to win and the number of rounds is less than the maximum number of rounds to play in a game.  \n",
    "\n",
    "Inside the loop, use the functions and variables above to create the execution of a round: ask for the player's choice, generate the random choice of the computer, show the round results, update the scores, etc. "
   ]
  },
  {
   "cell_type": "code",
   "execution_count": 10,
   "metadata": {},
   "outputs": [
    {
     "name": "stdout",
     "output_type": "stream",
     "text": [
      "You are going to play a maximum of  3 rounds of Rock, Paper and Scissors with the computer. If any opponent reaches 2 wins before completing all rounds, this opponent will win and the game will be over.\n",
      "\n",
      "\n",
      "Round 1 :\n",
      "Which is the gesture you want to show?\n",
      "1. Rock\n",
      "2. Paper\n",
      "3. Scissors\n",
      "Write the number of the gesture selected (1, 2 or 3): 1\n",
      "\n",
      "\n",
      "The computer choose paper , the player choose rock ,so the winner of the round is the computer!\n",
      "Scores:\n",
      "   - Computer: 1 \n",
      "   - Player: 0 \n",
      "\n",
      "Round 2 :\n",
      "Which is the gesture you want to show?\n",
      "1. Rock\n",
      "2. Paper\n",
      "3. Scissors\n",
      "Write the number of the gesture selected (1, 2 or 3): 2\n",
      "\n",
      "\n",
      "The computer choose paper , the player choose paper ,so there is a tie in this round.\n",
      "Scores:\n",
      "   - Computer: 1 \n",
      "   - Player: 0 \n",
      "\n",
      "Round 3 :\n",
      "Which is the gesture you want to show?\n",
      "1. Rock\n",
      "2. Paper\n",
      "3. Scissors\n",
      "Write the number of the gesture selected (1, 2 or 3): 1\n",
      "\n",
      "\n",
      "The computer choose paper , the player choose rock ,so the winner of the round is the computer!\n",
      "Scores:\n",
      "   - Computer: 2 \n",
      "   - Player: 0 \n",
      "\n"
     ]
    }
   ],
   "source": [
    "import random\n",
    "gestures=['rock','paper','scissors']\n",
    "n_rounds=random.randrange(1,10,2)\n",
    "rounds_to_win=int(n_rounds/2+0.5)\n",
    "cpu_score=0\n",
    "player_score=0\n",
    "print(\"You are going to play a maximum of \",n_rounds,\"rounds of Rock, Paper and Scissors with the computer. If any opponent reaches\",rounds_to_win,\"wins before completing all rounds, this opponent will win and the game will be over.\\n\\n\")\n",
    "for i in range(n_rounds):\n",
    "  if cpu_score<rounds_to_win and player_score<rounds_to_win:\n",
    "    cpu=gestures[random.randrange(3)]\n",
    "    player=0\n",
    "    while player!=1 and player!=2 and player!=3:\n",
    "      print(\"Round\",i+1,\":\\nWhich is the gesture you want to show?\\n1. Rock\\n2. Paper\\n3. Scissors\")\n",
    "      player=int(input(\"Write the number of the gesture selected (1, 2 or 3): \"))\n",
    "      print(\"\\n\")\n",
    "    player=gestures[player-1]\n",
    "    if cpu=='rock':\n",
    "      if player=='rock':\n",
    "        sol=0\n",
    "      elif player=='paper':\n",
    "        sol=2\n",
    "      else:\n",
    "        sol=1\n",
    "    elif cpu=='paper':\n",
    "      if player=='rock':\n",
    "        sol=1\n",
    "      elif player=='paper':\n",
    "        sol=0\n",
    "      else:\n",
    "        sol=2\n",
    "    else:\n",
    "      if player=='rock':\n",
    "        sol=2\n",
    "      elif player=='paper':\n",
    "        sol=1\n",
    "      else:\n",
    "        sol=0\n",
    "\n",
    "    if sol==0:\n",
    "      print(\"The computer choose\", cpu,\", the player choose\", player,\",so there is a tie in this round.\")\n",
    "    elif sol==1:\n",
    "      print(\"The computer choose\", cpu,\", the player choose\", player,\",so the winner of the round is the computer!\")\n",
    "      cpu_score+=1\n",
    "    else:\n",
    "      print(\"The computer choose\", cpu,\", the player choose\", player,\",so the winner of the round is the player!\")\n",
    "      player_score+=1\n",
    "    print(\"Scores:\\n   - Computer:\",cpu_score,\"\\n   - Player:\",player_score,\"\\n\")"
   ]
  },
  {
   "cell_type": "markdown",
   "metadata": {},
   "source": [
    "#### 11. Print the winner of the game based on who won more rounds.\n",
    "Remember that the game might be tied. "
   ]
  },
  {
   "cell_type": "code",
   "execution_count": 11,
   "metadata": {},
   "outputs": [
    {
     "name": "stdout",
     "output_type": "stream",
     "text": [
      "FINAL SCORES:\n",
      "   - Computer: 2 \n",
      "   - Player: 0 \n",
      "\n",
      "      So the winner is... THE COMPUTER!\n"
     ]
    }
   ],
   "source": [
    "print(\"FINAL SCORES:\\n   - Computer:\",cpu_score,\"\\n   - Player:\",player_score,\"\\n\")\n",
    "if player_score>cpu_score:\n",
    "  print(\"      So the winner is... THE PLAYER!\")\n",
    "elif player_score<cpu_score:\n",
    "  print(\"      So the winner is... THE COMPUTER!\")\n",
    "else:\n",
    "  print(\"      So there is a tie!\")"
   ]
  },
  {
   "cell_type": "markdown",
   "metadata": {},
   "source": [
    "# Bonus: Rock, Paper, Scissors, Lizard & Spock\n",
    "![](images/rpsls.jpg)\n",
    "\n",
    "In this challenge, you need to improve the previous game by adding two new options. To know more about the rules of the improved version of rock, paper, scissors, check this [link](http://www.samkass.com/theories/RPSSL.html). \n",
    "\n",
    "In addition, you will also need to improve how the game interacts with the player: the number of rounds to play, which must be an odd number, will be requested to the user until a valid number is entered. Define a new function to make that request.\n",
    "\n",
    "**Hint**: Try to reuse the code that you already coded in the previous challenge. If your code is efficient, this bonus will only consist of simple modifications to the original game."
   ]
  },
  {
   "cell_type": "code",
   "execution_count": 13,
   "metadata": {},
   "outputs": [
    {
     "name": "stdout",
     "output_type": "stream",
     "text": [
      "Lets play Rock, Paper, Scissors, Lizard and Spock!\n",
      "\n",
      "How many rounds do you want to play? (Please, enter an odd number): 5\n",
      "\n",
      "You are going to play a maximum of  5 rounds of Rock, Paper, Scissors, Lizard and Spock with the computer. If any opponent reaches 3 wins before completing all rounds, this opponent will win and the game will be over.\n",
      "\n",
      "\n",
      "Round 1 :\n",
      "Which is the gesture you want to show?\n",
      "1. Rock\n",
      "2. Paper\n",
      "3. Scissors\n",
      "4. Lizard\n",
      "5. Spock\n",
      "Write the number of the gesture selected (1, 2, 3, 4 or 5): 6\n",
      "\n",
      "\n",
      "Round 1 :\n",
      "Which is the gesture you want to show?\n",
      "1. Rock\n",
      "2. Paper\n",
      "3. Scissors\n",
      "4. Lizard\n",
      "5. Spock\n",
      "Write the number of the gesture selected (1, 2, 3, 4 or 5): 4\n",
      "\n",
      "\n",
      "The computer choose scissors , the player choose lizard ,so the winner of the round is the computer!\n",
      "Scores:\n",
      "   - Computer: 1 \n",
      "   - Player: 0 \n",
      "\n",
      "Round 2 :\n",
      "Which is the gesture you want to show?\n",
      "1. Rock\n",
      "2. Paper\n",
      "3. Scissors\n",
      "4. Lizard\n",
      "5. Spock\n",
      "Write the number of the gesture selected (1, 2, 3, 4 or 5): 3\n",
      "\n",
      "\n",
      "The computer choose spock , the player choose scissors ,so the winner of the round is the computer!\n",
      "Scores:\n",
      "   - Computer: 2 \n",
      "   - Player: 0 \n",
      "\n",
      "Round 3 :\n",
      "Which is the gesture you want to show?\n",
      "1. Rock\n",
      "2. Paper\n",
      "3. Scissors\n",
      "4. Lizard\n",
      "5. Spock\n",
      "Write the number of the gesture selected (1, 2, 3, 4 or 5): 1\n",
      "\n",
      "\n",
      "The computer choose scissors , the player choose rock ,so the winner of the round is the player!\n",
      "Scores:\n",
      "   - Computer: 2 \n",
      "   - Player: 1 \n",
      "\n",
      "Round 4 :\n",
      "Which is the gesture you want to show?\n",
      "1. Rock\n",
      "2. Paper\n",
      "3. Scissors\n",
      "4. Lizard\n",
      "5. Spock\n",
      "Write the number of the gesture selected (1, 2, 3, 4 or 5): 2\n",
      "\n",
      "\n",
      "The computer choose spock , the player choose paper ,so the winner of the round is the player!\n",
      "Scores:\n",
      "   - Computer: 2 \n",
      "   - Player: 2 \n",
      "\n",
      "Round 5 :\n",
      "Which is the gesture you want to show?\n",
      "1. Rock\n",
      "2. Paper\n",
      "3. Scissors\n",
      "4. Lizard\n",
      "5. Spock\n",
      "Write the number of the gesture selected (1, 2, 3, 4 or 5): 3\n",
      "\n",
      "\n",
      "The computer choose paper , the player choose scissors ,so the winner of the round is the player!\n",
      "Scores:\n",
      "   - Computer: 2 \n",
      "   - Player: 3 \n",
      "\n",
      "FINAL SCORES:\n",
      "   - Computer: 2 \n",
      "   - Player: 3 \n",
      "\n",
      "      So the winner is... THE PLAYER!\n"
     ]
    }
   ],
   "source": [
    "import random\n",
    "gestures=['rock','paper','scissors','lizard','spock']\n",
    "n_rounds=0\n",
    "rounds_to_win=0\n",
    "cpu_score=0\n",
    "player_score=0\n",
    "print(\"Lets play Rock, Paper, Scissors, Lizard and Spock!\\n\")\n",
    "\n",
    "while n_rounds%2==0:\n",
    "  n_rounds=int(input(\"How many rounds do you want to play? (Please, enter an odd number): \"))\n",
    "rounds_to_win=int(n_rounds/2+0.5)\n",
    "\n",
    "print(\"\\nYou are going to play a maximum of \",n_rounds,\"rounds of Rock, Paper, Scissors, Lizard and Spock with the computer. If any opponent reaches\",rounds_to_win,\"wins before completing all rounds, this opponent will win and the game will be over.\\n\\n\")\n",
    "\n",
    "for i in range(n_rounds):\n",
    "  if cpu_score<rounds_to_win and player_score<rounds_to_win:\n",
    "    cpu=gestures[random.randrange(5)]\n",
    "    player=0\n",
    "    while player!=1 and player!=2 and player!=3 and player!=4 and player!=5:\n",
    "      print(\"Round\",i+1,\":\\nWhich is the gesture you want to show?\\n1. Rock\\n2. Paper\\n3. Scissors\\n4. Lizard\\n5. Spock\")\n",
    "      player=int(input(\"Write the number of the gesture selected (1, 2, 3, 4 or 5): \"))\n",
    "      print(\"\\n\")\n",
    "    player=gestures[player-1]\n",
    "    if cpu=='rock':\n",
    "      if player=='rock':\n",
    "        sol=0\n",
    "      elif player=='paper':\n",
    "        sol=2\n",
    "      elif player=='scissors':\n",
    "        sol=1\n",
    "      elif player=='lizard':\n",
    "        sol=1\n",
    "      else:\n",
    "        sol=2\n",
    "    elif cpu=='paper':\n",
    "      if player=='rock':\n",
    "        sol=1\n",
    "      elif player=='paper':\n",
    "        sol=0\n",
    "      elif player=='scissors':\n",
    "        sol=2\n",
    "      elif player=='lizard':\n",
    "        sol=2\n",
    "      else:\n",
    "        sol=1\n",
    "    elif cpu=='scissors':\n",
    "      if player=='rock':\n",
    "        sol=2\n",
    "      elif player=='paper':\n",
    "        sol=1\n",
    "      elif player=='scissors':\n",
    "        sol=0\n",
    "      elif player=='lizard':\n",
    "        sol=1\n",
    "      else:\n",
    "        sol=2\n",
    "    elif cpu=='lizard':\n",
    "      if player=='rock':\n",
    "        sol=2\n",
    "      elif player=='paper':\n",
    "        sol=1\n",
    "      elif player=='scissors':\n",
    "        sol=2\n",
    "      elif player=='lizard':\n",
    "        sol=0\n",
    "      else:\n",
    "        sol=1\n",
    "    else:\n",
    "      if player=='rock':\n",
    "        sol=1\n",
    "      elif player=='paper':\n",
    "        sol=2\n",
    "      elif player=='scissors':\n",
    "        sol=1\n",
    "      elif player=='lizard':\n",
    "        sol=2\n",
    "      else:\n",
    "        sol=0\n",
    "\n",
    "    if sol==0:\n",
    "      print(\"The computer choose\", cpu,\", the player choose\", player,\",so there is a tie in this round.\")\n",
    "    elif sol==1:\n",
    "      print(\"The computer choose\", cpu,\", the player choose\", player,\",so the winner of the round is the computer!\")\n",
    "      cpu_score+=1\n",
    "    else:\n",
    "      print(\"The computer choose\", cpu,\", the player choose\", player,\",so the winner of the round is the player!\")\n",
    "      player_score+=1\n",
    "    print(\"Scores:\\n   - Computer:\",cpu_score,\"\\n   - Player:\",player_score,\"\\n\")\n",
    "\n",
    "print(\"FINAL SCORES:\\n   - Computer:\",cpu_score,\"\\n   - Player:\",player_score,\"\\n\")\n",
    "if player_score>cpu_score:\n",
    "  print(\"      So the winner is... THE PLAYER!\")\n",
    "elif player_score<cpu_score:\n",
    "  print(\"      So the winner is... THE COMPUTER!\")\n",
    "else:\n",
    "  print(\"      There is a tie!\")"
   ]
  },
  {
   "cell_type": "code",
   "execution_count": null,
   "metadata": {},
   "outputs": [],
   "source": []
  }
 ],
 "metadata": {
  "kernelspec": {
   "display_name": "Python 3",
   "language": "python",
   "name": "python3"
  },
  "language_info": {
   "codemirror_mode": {
    "name": "ipython",
    "version": 3
   },
   "file_extension": ".py",
   "mimetype": "text/x-python",
   "name": "python",
   "nbconvert_exporter": "python",
   "pygments_lexer": "ipython3",
   "version": "3.8.3"
  }
 },
 "nbformat": 4,
 "nbformat_minor": 2
}
