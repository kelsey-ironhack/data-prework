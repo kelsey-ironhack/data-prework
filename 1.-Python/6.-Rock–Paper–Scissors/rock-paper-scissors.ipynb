{
 "cells": [
  {
   "cell_type": "markdown",
   "metadata": {},
   "source": [
    "<img src=\"https://bit.ly/2VnXWr2\" width=\"100\" align=\"left\">"
   ]
  },
  {
   "cell_type": "markdown",
   "metadata": {},
   "source": [
    "# Rock, Paper & Scissors\n",
    "\n",
    "Let's play the famous game against our computer. You can check the rules [here](https://en.wikipedia.org/wiki/Rock%E2%80%93paper%E2%80%93scissors). \n",
    "\n",
    "## Task\n",
    "Create a program that imitates the playability of the well known game of rock, paper, scissors. Follow the guidelines provided.\n",
    "\n",
    "## Tools\n",
    "1. Loop: **for/while**\n",
    "2. Functions: **input(), print()...**\n",
    "3. Conditional statements: **if, elif, else**\n",
    "4. Definition of functions. Modular programming\n",
    "5. Import modules\n",
    "\n",
    "**To solve this challenge, the use of functions is recommended.**\n",
    "\n",
    "#### 1. Import the choice function of the random module."
   ]
  },
  {
   "cell_type": "code",
   "execution_count": 19,
   "metadata": {},
   "outputs": [],
   "source": [
    "from random import randint\n"
   ]
  },
  {
   "cell_type": "markdown",
   "metadata": {},
   "source": [
    "#### 2. Create a list that includes the 3 possible gesture options of the game: 'rock', 'paper' or 'scissors'. Store the list in a variable called `gestures`."
   ]
  },
  {
   "cell_type": "code",
   "execution_count": 20,
   "metadata": {},
   "outputs": [],
   "source": [
    "gestures=[\"rock\",\"paper\",\"scissors\"]"
   ]
  },
  {
   "cell_type": "markdown",
   "metadata": {},
   "source": [
    "#### 3. Create a variable called `n_rounds` to store the maximum number of rounds to play in a game. \n",
    "Remember that the number of rounds must be odd: 1, 3, 5, ..."
   ]
  },
  {
   "cell_type": "code",
   "execution_count": 21,
   "metadata": {},
   "outputs": [
    {
     "name": "stdout",
     "output_type": "stream",
     "text": [
      "Insert the maximum number of rounds to play (remember that the number of rounds must be odd:1,3,5...):3\n"
     ]
    }
   ],
   "source": [
    "n_rounds=int(input(\"Insert the maximum number of rounds to play (remember that the number of rounds must be odd:1,3,5...):\"))"
   ]
  },
  {
   "cell_type": "markdown",
   "metadata": {},
   "source": [
    "#### 4. Create a variable called `rounds_to_win` to store the number of rounds that a player must win to win the game.\n",
    "**Hint**: the value stored in `rounds_to_win` depends on the value of `n_rounds`. "
   ]
  },
  {
   "cell_type": "code",
   "execution_count": 22,
   "metadata": {},
   "outputs": [
    {
     "name": "stdout",
     "output_type": "stream",
     "text": [
      "2\n"
     ]
    }
   ],
   "source": [
    "rounds_to_win=int(n_rounds/2)+1\n",
    "print(rounds_to_win)"
   ]
  },
  {
   "cell_type": "markdown",
   "metadata": {},
   "source": [
    "#### 5. Create two variables to store the number of rounds that the computer and the player have won. Call these variables `cpu_score` and `player_score`."
   ]
  },
  {
   "cell_type": "code",
   "execution_count": 23,
   "metadata": {},
   "outputs": [],
   "source": [
    "cpu_score=0\n",
    "player_score=0"
   ]
  },
  {
   "cell_type": "markdown",
   "metadata": {},
   "source": [
    "#### 6. Define a function that randomly returns one of the 3 gesture options.\n",
    "You will use this function to simulate the gesture choice of the computer. "
   ]
  },
  {
   "cell_type": "code",
   "execution_count": 24,
   "metadata": {},
   "outputs": [],
   "source": [
    "computer=gestures[randint(0,2)]\n"
   ]
  },
  {
   "cell_type": "markdown",
   "metadata": {},
   "source": [
    "#### 7. Define a function that asks the player which is the gesture he or she wants to show: 'rock', 'paper' or 'scissors'.\n",
    "The player should only be allowed to choose one of the 3 gesture options. If the player's choice is not rock, paper or scissors, keep asking until it is."
   ]
  },
  {
   "cell_type": "code",
   "execution_count": 25,
   "metadata": {},
   "outputs": [
    {
     "name": "stdout",
     "output_type": "stream",
     "text": [
      "rock, paper or scissors?jke\n",
      "wrong answer! Again: rock, paper or scissors?\n",
      "rock, paper or scissors?paper\n"
     ]
    }
   ],
   "source": [
    "player = input(\"rock, paper or scissors?\")\n",
    "while (player!=\"rock\") & (player!=\"paper\") & (player!=\"scissors\"):\n",
    "    print(\"wrong answer! Again: rock, paper or scissors?\")\n",
    "    player = input(\"rock, paper or scissors?\")\n",
    "    \n",
    "\n"
   ]
  },
  {
   "cell_type": "markdown",
   "metadata": {},
   "source": [
    "#### 8. Define a function that checks who won a round. \n",
    "The function should return 0 if there is a tie, 1 if the computer wins and 2 if the player wins."
   ]
  },
  {
   "cell_type": "code",
   "execution_count": 26,
   "metadata": {},
   "outputs": [
    {
     "name": "stdout",
     "output_type": "stream",
     "text": [
      "0\n"
     ]
    }
   ],
   "source": [
    "if player == computer:\n",
    "        result=0\n",
    "elif player == \"rock\":\n",
    "        if computer == \"paper\":\n",
    "            result=1\n",
    "        else:\n",
    "            result=2\n",
    "elif player == \"paper\":\n",
    "        if computer == \"scissors\":\n",
    "            result=1\n",
    "        else:\n",
    "            result=2\n",
    "elif player == \"scissors\":\n",
    "        if computer == \"rock\":\n",
    "            result=1\n",
    "        else:\n",
    "            result=2\n",
    "print(result)"
   ]
  },
  {
   "cell_type": "markdown",
   "metadata": {},
   "source": [
    "#### 9. Define a function that prints the choice of the computer, the choice of the player and a message that announces who won the current round. \n",
    "You should also use this function to update the variables that count the number of rounds that the computer and the player have won. The score of the winner increases by one point. If there is a tie, the score does not increase."
   ]
  },
  {
   "cell_type": "code",
   "execution_count": 27,
   "metadata": {},
   "outputs": [
    {
     "name": "stdout",
     "output_type": "stream",
     "text": [
      "The computer choice was: paper\n",
      "The player choice was: paper\n",
      "Tie\n"
     ]
    }
   ],
   "source": [
    "print(\"The computer choice was:\",computer)\n",
    "print(\"The player choice was:\",player)\n",
    "if result==0:\n",
    "    print(\"Tie\")\n",
    "elif result==1:\n",
    "    print(\"The computer wins\")\n",
    "    cpu_score+=1\n",
    "elif result==2:\n",
    "    print(\"The player wins\")\n",
    "    player_score+=1\n"
   ]
  },
  {
   "cell_type": "markdown",
   "metadata": {},
   "source": [
    "#### 10. Now it's time to code the execution of the game using the functions and variables you defined above. \n",
    "\n",
    "First, create a loop structure that repeats while no player reaches the minimum score necessary to win and the number of rounds is less than the maximum number of rounds to play in a game.  \n",
    "\n",
    "Inside the loop, use the functions and variables above to create the execution of a round: ask for the player's choice, generate the random choice of the computer, show the round results, update the scores, etc. "
   ]
  },
  {
   "cell_type": "code",
   "execution_count": 28,
   "metadata": {},
   "outputs": [
    {
     "name": "stdout",
     "output_type": "stream",
     "text": [
      "Insert the maximum number of rounds to play (remember that the number of rounds must be odd:1,3,5...):3\n",
      "rock, paper or scissors?rock\n",
      "The computer choice was: rock\n",
      "The player choice was: rock\n",
      "Tie\n",
      "rock, paper or scissors?paper\n",
      "The computer choice was: scissors\n",
      "The player choice was: paper\n",
      "The computer wins\n",
      "rock, paper or scissors?rock\n",
      "The computer choice was: paper\n",
      "The player choice was: rock\n",
      "The computer wins\n"
     ]
    }
   ],
   "source": [
    "cpu_score=0\n",
    "player_score=0\n",
    "n_rounds=int(input(\"Insert the maximum number of rounds to play (remember that the number of rounds must be odd:1,3,5...):\"))\n",
    "rounds_to_win=int(n_rounds/2)+1\n",
    "while (cpu_score<rounds_to_win) & (player_score<rounds_to_win):\n",
    "    computer=gestures[randint(0,2)]\n",
    "    player = input(\"rock, paper or scissors?\")\n",
    "    while (player!=\"rock\") & (player!=\"paper\") & (player!=\"scissors\"):\n",
    "        print(\"wrong answer! Again: rock,paper or scissors?\")\n",
    "        player = input(\"rock, paper or scissors?\")\n",
    "    if player == computer:\n",
    "        result=0\n",
    "    elif player == \"rock\":\n",
    "        if computer == \"paper\":\n",
    "            result=1\n",
    "        else:\n",
    "            result=2\n",
    "    elif player == \"paper\":\n",
    "        if computer == \"scissors\":\n",
    "            result=1\n",
    "        else:\n",
    "            result=2\n",
    "    elif player == \"scissors\":\n",
    "        if computer == \"rock\":\n",
    "            result=1\n",
    "        else:\n",
    "            result=2    \n",
    "    print(\"The computer choice was:\",computer)\n",
    "    print(\"The player choice was:\",player)\n",
    "    if result==0:\n",
    "        print(\"Tie\")\n",
    "    elif result==1:\n",
    "        print(\"The computer wins\")\n",
    "        cpu_score+=1\n",
    "    elif result==2:\n",
    "        print(\"The player wins\")\n",
    "        player_score+=1\n"
   ]
  },
  {
   "cell_type": "markdown",
   "metadata": {},
   "source": [
    "#### 11. Print the winner of the game based on who won more rounds.\n",
    "Remember that the game might be tied. "
   ]
  },
  {
   "cell_type": "code",
   "execution_count": 29,
   "metadata": {},
   "outputs": [
    {
     "name": "stdout",
     "output_type": "stream",
     "text": [
      "The computer won with 2 winning rounds\n"
     ]
    }
   ],
   "source": [
    "if cpu_score<player_score:\n",
    "    print(\"The player won with\",player_score,\"winning rounds\")\n",
    "elif cpu_score>player_score:\n",
    "    print(\"The computer won with\",cpu_score,\"winning rounds\")\n",
    "elif cpu_score==player_score:\n",
    "    print(\"The game was tied\")"
   ]
  },
  {
   "cell_type": "markdown",
   "metadata": {},
   "source": [
    "# Bonus: Rock, Paper, Scissors, Lizard & Spock\n",
    "![](images/rpsls.jpg)\n",
    "\n",
    "In this challenge, you need to improve the previous game by adding two new options. To know more about the rules of the improved version of rock, paper, scissors, check this [link](http://www.samkass.com/theories/RPSSL.html). \n",
    "\n",
    "In addition, you will also need to improve how the game interacts with the player: the number of rounds to play, which must be an odd number, will be requested to the user until a valid number is entered. Define a new function to make that request.\n",
    "\n",
    "**Hint**: Try to reuse the code that you already coded in the previous challenge. If your code is efficient, this bonus will only consist of simple modifications to the original game."
   ]
  },
  {
   "cell_type": "code",
   "execution_count": 30,
   "metadata": {},
   "outputs": [
    {
     "name": "stdout",
     "output_type": "stream",
     "text": [
      "Insert the maximum number of rounds to play (remember that the number of rounds must be odd:1,3,5...):3\n",
      "rock, paper, scissors, spock or lizard?lizard\n",
      "The computer choice was: scissors\n",
      "The player choice was: lizard\n",
      "The computer wins\n",
      "rock, paper, scissors, spock or lizard?spock\n",
      "The computer choice was: rock\n",
      "The player choice was: spock\n",
      "The player wins\n",
      "rock, paper, scissors, spock or lizard?rock\n",
      "The computer choice was: scissors\n",
      "The player choice was: rock\n",
      "The player wins\n",
      "The player won with 2 winning rounds\n"
     ]
    }
   ],
   "source": [
    "gestures=[\"rock\",\"paper\",\"scissors\",\"spock\",\"lizard\"]\n",
    "cpu_score=0\n",
    "player_score=0\n",
    "n_rounds = int(input(\"Insert the maximum number of rounds to play (remember that the number of rounds must be odd:1,3,5...):\"))\n",
    "while (n_rounds%2)==0:\n",
    "    print(\"Wrong answer! It is an even number, it has to be odd\")\n",
    "    n_rounds = int(input(\"Insert the maximum number of rounds to play (remember that the number of rounds must be odd:1,3,5...):\"))\n",
    "rounds_to_win=int(n_rounds/2)+1\n",
    "while (cpu_score<rounds_to_win) & (player_score<rounds_to_win):\n",
    "    computer=gestures[randint(0,4)]\n",
    "    player = input(\"rock, paper, scissors, spock or lizard?\")\n",
    "    while (player!=\"rock\") & (player!=\"paper\") & (player!=\"scissors\") & (player!=\"spock\") & (player!=\"lizard\"):\n",
    "        print(\"wrong answer! Again: rock, paper, scissors, spock or lizard?\")\n",
    "        player = input(\"rock, paper, scissors, spock or lizard?\")\n",
    "    if player == computer:\n",
    "        result=0\n",
    "    elif player == \"rock\":\n",
    "        if computer == \"paper\":\n",
    "            result=1\n",
    "        elif computer == \"spock\":\n",
    "            result=1\n",
    "        elif computer == \"lizard\":\n",
    "            result=2\n",
    "        else:\n",
    "            result=2\n",
    "    elif player == \"paper\":\n",
    "        if computer == \"scissors\":\n",
    "            result=1\n",
    "        elif computer == \"lizard\":\n",
    "            result=1\n",
    "        elif computer == \"spock\":\n",
    "            result=2\n",
    "        else:\n",
    "            result=2\n",
    "    elif player == \"scissors\":\n",
    "        if computer == \"rock\":\n",
    "            result=1\n",
    "        elif computer == \"spock\":\n",
    "            result=1\n",
    "        elif computer == \"lizard\":\n",
    "            result=2\n",
    "        else:\n",
    "            result=2\n",
    "    elif player == \"lizard\":\n",
    "        if computer == \"rock\":\n",
    "            result=1\n",
    "        elif computer == \"scissors\":\n",
    "            result=1\n",
    "        elif computer == \"paper\":\n",
    "            result=2\n",
    "        else:\n",
    "            result=2\n",
    "    elif player == \"spock\":\n",
    "        if computer == \"lizard\":\n",
    "            result=1\n",
    "        elif computer == \"paper\":\n",
    "            result=1\n",
    "        elif computer == \"rock\":\n",
    "            result=2\n",
    "        else:\n",
    "            result=2\n",
    "    print(\"The computer choice was:\",computer)\n",
    "    print(\"The player choice was:\",player)\n",
    "    if result==0:\n",
    "        print(\"Tie\")\n",
    "    elif result==1:\n",
    "        print(\"The computer wins\")\n",
    "        cpu_score+=1\n",
    "    elif result==2:\n",
    "        print(\"The player wins\")\n",
    "        player_score+=1\n",
    "if cpu_score<player_score:\n",
    "    print(\"The player won with\",player_score,\"winning rounds\")\n",
    "elif cpu_score>player_score:\n",
    "    print(\"The computer won with\",cpu_score,\"winning rounds\")\n",
    "elif cpu_score==player_score:\n",
    "    print(\"The game was tied\")\n"
   ]
  },
  {
   "cell_type": "code",
   "execution_count": null,
   "metadata": {},
   "outputs": [],
   "source": []
  },
  {
   "cell_type": "code",
   "execution_count": null,
   "metadata": {},
   "outputs": [],
   "source": []
  }
 ],
 "metadata": {
  "kernelspec": {
   "display_name": "Python 3",
   "language": "python",
   "name": "python3"
  },
  "language_info": {
   "codemirror_mode": {
    "name": "ipython",
    "version": 3
   },
   "file_extension": ".py",
   "mimetype": "text/x-python",
   "name": "python",
   "nbconvert_exporter": "python",
   "pygments_lexer": "ipython3",
   "version": "3.8.3"
  }
 },
 "nbformat": 4,
 "nbformat_minor": 2
}
