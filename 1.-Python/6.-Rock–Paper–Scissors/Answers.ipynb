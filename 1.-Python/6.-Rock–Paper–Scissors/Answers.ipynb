{
 "cells": [
  {
   "cell_type": "code",
   "execution_count": 12,
   "metadata": {},
   "outputs": [],
   "source": [
    "# Import the choice function of the random module\n",
    "\n",
    "from random import choice"
   ]
  },
  {
   "cell_type": "code",
   "execution_count": 15,
   "metadata": {},
   "outputs": [],
   "source": [
    "# Create a list that includes the 3 possible gesture options of the game & another variable for a maximum number of rounds\n",
    "\n",
    "\n",
    "gestures = ['rock', 'paper', 'scissors']\n",
    "\n",
    "n_rounds = 5"
   ]
  },
  {
   "cell_type": "code",
   "execution_count": 16,
   "metadata": {},
   "outputs": [],
   "source": [
    "#Create a variable called rounds_to_win to store the number of rounds that a player must win to win the game\n",
    "\n",
    "rounds_to_win= 3"
   ]
  },
  {
   "cell_type": "code",
   "execution_count": 18,
   "metadata": {},
   "outputs": [],
   "source": [
    "#Create two variables to store the number of rounds that the computer and the player have won.\n",
    "\n",
    "cpu_score = []\n",
    "\n",
    "player_score = []"
   ]
  },
  {
   "cell_type": "code",
   "execution_count": null,
   "metadata": {},
   "outputs": [],
   "source": [
    "#Define a function that randomly returns one of the gesture options\n",
    "import random\n",
    "from random import choice\n",
    "\n",
    "rand_gest = random.choice(gestures)\n",
    "print (rand_gest)"
   ]
  },
  {
   "cell_type": "code",
   "execution_count": null,
   "metadata": {},
   "outputs": [],
   "source": [
    "#Define a function that asks the player which is the gesture he wants to show: 'rock', 'paper', 'scissors'\n",
    "PlayerChoice = input('Rock, paper or scissors :')\n",
    "print (PlayerChoice)\n",
    "\n",
    "if PlayerChoice != ('rock', 'paper', 'scissors'):\n",
    "    PlayerChoice = input('Rock, paper or scissors :')"
   ]
  },
  {
   "cell_type": "code",
   "execution_count": null,
   "metadata": {},
   "outputs": [],
   "source": [
    "# Define a function that checks who won a round\n",
    "\n",
    "Player= 0\n",
    "Computer = 0\n",
    "\n",
    "if rand_gest = paper and PlayerChoice = rock:\n",
    "    Computer = Computer + 1\n",
    "\n",
    "if rand_gest = scissors and PlayerChoice = paper:\n",
    "    Computer = Computer + 1\n",
    "\n",
    "if rand_gest = rock and PlayerChoice = scissors:\n",
    "    Computer = Computer + 1\n",
    "    \n",
    "if rand_gest = paper and PlayerChoice = paper:\n",
    "    print('TIE')\n",
    "\n",
    "if rand_gest = scissors and PlayerChoice = scissors:\n",
    "    print('TIE')\n",
    "    \n",
    "if rand_gest = rock and PlayerChoice = rock:\n",
    "    print('TIE')\n",
    "    \n",
    "if rand_gest = rock and PlayerChoice = paper:\n",
    "    Player = Player + 1\n",
    "\n",
    "if rand_gest = paper and PlayerChoice = scissors:\n",
    "    Player = Player + 1\n",
    "    \n",
    "if rand_gest = scissors and PlayerChoice = rock:\n",
    "    Player = Player + 1"
   ]
  },
  {
   "cell_type": "code",
   "execution_count": null,
   "metadata": {},
   "outputs": [],
   "source": [
    "# Define a function that prints the choice of the computer, the choice of the player and a message that announces who won the current round\n",
    "\n",
    "(print (rand_gest) and print (PlayerChoice))*3 \n",
    "\n",
    "if Player >= 3:\n",
    "    print ('Player wins')\n",
    "\n",
    "if Computer >= 3:\n",
    "    print ('Computer wins')\n",
    "\n",
    "else:\n",
    "    print ('TIE')"
   ]
  }
 ],
 "metadata": {
  "kernelspec": {
   "display_name": "Python 3",
   "language": "python",
   "name": "python3"
  },
  "language_info": {
   "codemirror_mode": {
    "name": "ipython",
    "version": 3
   },
   "file_extension": ".py",
   "mimetype": "text/x-python",
   "name": "python",
   "nbconvert_exporter": "python",
   "pygments_lexer": "ipython3",
   "version": "3.8.5"
  }
 },
 "nbformat": 4,
 "nbformat_minor": 4
}
