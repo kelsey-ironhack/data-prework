{
 "cells": [
  {
   "cell_type": "code",
   "execution_count": 4,
   "metadata": {},
   "outputs": [],
   "source": [
    "def player_choice(rock, paper, scissors):\n",
    "    while True:\n",
    "      player_choice=input(\"Please choose rock, paper or scissors: \")\n",
    "\n",
    "      if player_choice == 'rock': \n",
    "        break\n",
    "      elif player_choice == 'paper':\n",
    "        break\n",
    "      elif player_choice == 'scissors':\n",
    "        break\n",
    "      else:\n",
    "        print(\"Please choose valid option!\")\n",
    "        continue\n",
    "      break"
   ]
  },
  {
   "cell_type": "code",
   "execution_count": null,
   "metadata": {},
   "outputs": [],
   "source": []
  }
 ],
 "metadata": {
  "kernelspec": {
   "display_name": "Python 3",
   "language": "python",
   "name": "python3"
  },
  "language_info": {
   "codemirror_mode": {
    "name": "ipython",
    "version": 3
   },
   "file_extension": ".py",
   "mimetype": "text/x-python",
   "name": "python",
   "nbconvert_exporter": "python",
   "pygments_lexer": "ipython3",
   "version": "3.9.1"
  }
 },
 "nbformat": 4,
 "nbformat_minor": 4
}
