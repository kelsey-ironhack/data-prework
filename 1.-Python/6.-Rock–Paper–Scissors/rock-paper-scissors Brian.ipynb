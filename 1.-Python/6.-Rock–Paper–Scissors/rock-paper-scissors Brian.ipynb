{
 "cells": [
  {
   "cell_type": "markdown",
   "metadata": {},
   "source": [
    "<img src=\"https://bit.ly/2VnXWr2\" width=\"100\" align=\"left\">"
   ]
  },
  {
   "cell_type": "markdown",
   "metadata": {},
   "source": [
    "# Rock, Paper & Scissors\n",
    "\n",
    "Let's play the famous game against our computer. You can check the rules [here](https://en.wikipedia.org/wiki/Rock%E2%80%93paper%E2%80%93scissors). \n",
    "\n",
    "## Task\n",
    "Create a program that imitates the playability of the well known game of rock, paper, scissors. Follow the guidelines provided.\n",
    "\n",
    "## Tools\n",
    "1. Loop: **for/while**\n",
    "2. Functions: **input(), print()...**\n",
    "3. Conditional statements: **if, elif, else**\n",
    "4. Definition of functions. Modular programming\n",
    "5. Import modules\n",
    "\n",
    "**To solve this challenge, the use of functions is recommended.**\n",
    "\n",
    "#### 1. Import the choice function of the random module."
   ]
  },
  {
   "cell_type": "code",
   "execution_count": 1,
   "metadata": {},
   "outputs": [],
   "source": [
    "from random import choice"
   ]
  },
  {
   "cell_type": "markdown",
   "metadata": {},
   "source": [
    "#### 2. Create a list that includes the 3 possible gesture options of the game: 'rock', 'paper' or 'scissors'. Store the list in a variable called `gestures`."
   ]
  },
  {
   "cell_type": "code",
   "execution_count": 2,
   "metadata": {},
   "outputs": [],
   "source": [
    "gestures = [\"rock\", \"paper\", \"scissors\"]"
   ]
  },
  {
   "cell_type": "markdown",
   "metadata": {},
   "source": [
    "#### 3. Create a variable called `n_rounds` to store the maximum number of rounds to play in a game. \n",
    "Remember that the number of rounds must be odd: 1, 3, 5, ..."
   ]
  },
  {
   "cell_type": "code",
   "execution_count": 28,
   "metadata": {},
   "outputs": [
    {
     "name": "stdout",
     "output_type": "stream",
     "text": [
      "Please supply a number of rounds which is odd:2\n",
      "Please supply an odd number.\n"
     ]
    }
   ],
   "source": [
    "try:\n",
    "    n_rounds = int(input(\"Please supply a number of rounds which is odd:\"))\n",
    "    if n_rounds%2==0:\n",
    "        print(\"Please supply an odd number.\")\n",
    "except:\n",
    "    print(\"Please supply an integer.\")\n",
    "\n"
   ]
  },
  {
   "cell_type": "markdown",
   "metadata": {},
   "source": [
    "#### 4. Create a variable called `rounds_to_win` to store the number of rounds that a player must win to win the game.\n",
    "**Hint**: the value stored in `rounds_to_win` depends on the value of `n_rounds`. "
   ]
  },
  {
   "cell_type": "code",
   "execution_count": 4,
   "metadata": {},
   "outputs": [
    {
     "name": "stdout",
     "output_type": "stream",
     "text": [
      "This many rounds are required to win: 2\n"
     ]
    }
   ],
   "source": [
    "rounds_to_win = round(n_rounds/2)\n",
    "print(\"This many rounds are required to win:\", rounds_to_win)"
   ]
  },
  {
   "cell_type": "markdown",
   "metadata": {},
   "source": [
    "#### 5. Create two variables to store the number of rounds that the computer and the player have won. Call these variables `cpu_score` and `player_score`."
   ]
  },
  {
   "cell_type": "code",
   "execution_count": 25,
   "metadata": {},
   "outputs": [],
   "source": [
    "cpu_score = 0\n",
    "player_score = 0"
   ]
  },
  {
   "cell_type": "markdown",
   "metadata": {},
   "source": [
    "#### 6. Define a function that randomly returns one of the 3 gesture options.\n",
    "You will use this function to simulate the gesture choice of the computer. "
   ]
  },
  {
   "cell_type": "code",
   "execution_count": 6,
   "metadata": {},
   "outputs": [
    {
     "data": {
      "text/plain": [
       "'rock'"
      ]
     },
     "execution_count": 6,
     "metadata": {},
     "output_type": "execute_result"
    }
   ],
   "source": [
    "def start(gestures):\n",
    "    global pcgesture\n",
    "    pcgesture = str(choice(gestures))\n",
    "    return pcgesture\n",
    "\n",
    "start(gestures)"
   ]
  },
  {
   "cell_type": "markdown",
   "metadata": {},
   "source": [
    "#### 7. Define a function that asks the player which is the gesture he or she wants to show: 'rock', 'paper' or 'scissors'.\n",
    "The player should only be allowed to choose one of the 3 gesture options. If the player's choice is not rock, paper or scissors, keep asking until it is."
   ]
  },
  {
   "cell_type": "code",
   "execution_count": 7,
   "metadata": {},
   "outputs": [
    {
     "name": "stdout",
     "output_type": "stream",
     "text": [
      "Please type in rock, paper or scissors:rock\n"
     ]
    },
    {
     "data": {
      "text/plain": [
       "'rock'"
      ]
     },
     "execution_count": 7,
     "metadata": {},
     "output_type": "execute_result"
    }
   ],
   "source": [
    "def selection(gestures):\n",
    "    global pgesture\n",
    "    pgesture = str(input(\"Please type in rock, paper or scissors:\"))\n",
    "    return (pgesture if pgesture in gestures else selection(gestures))\n",
    "    \n",
    "                   \n",
    "selection(gestures)\n"
   ]
  },
  {
   "cell_type": "markdown",
   "metadata": {},
   "source": [
    "#### 8. Define a function that checks who won a round. \n",
    "The function should return 0 if there is a tie, 1 if the computer wins and 2 if the player wins."
   ]
  },
  {
   "cell_type": "code",
   "execution_count": 8,
   "metadata": {},
   "outputs": [
    {
     "name": "stdout",
     "output_type": "stream",
     "text": [
      "Please type in rock, paper or scissors:rock\n",
      "You chose: rock \n",
      "Computer chose: paper\n",
      "1\n"
     ]
    }
   ],
   "source": [
    "def game(a,b,c):\n",
    "    selection(gestures)\n",
    "    start(gestures)\n",
    "    print(\"You chose:\",pgesture,\"\\nComputer chose:\",pcgesture)\n",
    "    return b if ((pcgesture in gestures[0]) and (pgesture in gestures[2])\\\n",
    "            or (pcgesture in gestures[1]) and (pgesture in gestures[0])\\\n",
    "            or (pcgesture in gestures[2]) and (pgesture in gestures[1]))\\\n",
    "            else c if ((pgesture in gestures[0]) and (pcgesture in gestures[2])\\\n",
    "            or (pgesture in gestures[1]) and (pcgesture in gestures[0])\\\n",
    "            or (pgesture in gestures[2]) and (pcgesture in gestures[1]))\\\n",
    "            else a\n",
    "            \n",
    "print(game(0,1,2))\n",
    "\n"
   ]
  },
  {
   "cell_type": "markdown",
   "metadata": {},
   "source": [
    "#### 9. Define a function that prints the choice of the computer, the choice of the player and a message that announces who won the current round. \n",
    "You should also use this function to update the variables that count the number of rounds that the computer and the player have won. The score of the winner increases by one point. If there is a tie, the score does not increase."
   ]
  },
  {
   "cell_type": "code",
   "execution_count": 12,
   "metadata": {},
   "outputs": [
    {
     "name": "stdout",
     "output_type": "stream",
     "text": [
      "Please type in rock, paper or scissors:rock\n",
      "You chose: rock \n",
      "Computer chose: scissors\n",
      "You win\n",
      "Current score (You:Computer): 1 : 0\n"
     ]
    }
   ],
   "source": [
    "def counter():\n",
    "    global cpu_score\n",
    "    global player_score\n",
    "    result = game(\"Tie\",\"Computer wins\",\"You win\")\n",
    "    print(result)\n",
    "    if result == \"Computer wins\":\n",
    "        cpu_score +=1\n",
    "    elif result == \"You win\":\n",
    "        player_score +=1\n",
    "    return print(\"Current score (You:Computer):\", player_score, \":\", cpu_score)\n",
    "\n",
    "counter()\n",
    "        \n",
    "        \n",
    "    \n",
    "            \n",
    "\n"
   ]
  },
  {
   "cell_type": "markdown",
   "metadata": {},
   "source": [
    "#### 10. Now it's time to code the execution of the game using the functions and variables you defined above. \n",
    "\n",
    "First, create a loop structure that repeats while no player reaches the minimum score necessary to win and the number of rounds is less than the maximum number of rounds to play in a game.  \n",
    "\n",
    "Inside the loop, use the functions and variables above to create the execution of a round: ask for the player's choice, generate the random choice of the computer, show the round results, update the scores, etc. "
   ]
  },
  {
   "cell_type": "code",
   "execution_count": 26,
   "metadata": {},
   "outputs": [
    {
     "name": "stdout",
     "output_type": "stream",
     "text": [
      "Please type in rock, paper or scissors:rock\n",
      "You chose: rock \n",
      "Computer chose: paper\n",
      "Computer wins\n",
      "Current score (You:Computer): 0 : 1\n",
      "Please type in rock, paper or scissors:paper\n",
      "You chose: paper \n",
      "Computer chose: rock\n",
      "You win\n",
      "Current score (You:Computer): 1 : 1\n",
      "Please type in rock, paper or scissors:rock\n",
      "You chose: rock \n",
      "Computer chose: scissors\n",
      "You win\n",
      "Current score (You:Computer): 2 : 1\n"
     ]
    }
   ],
   "source": [
    "roundsplayed = 0\n",
    "\n",
    "while cpu_score<rounds_to_win and player_score<rounds_to_win and roundsplayed<n_rounds:\n",
    "    counter()\n",
    "    roundsplayed +=1"
   ]
  },
  {
   "cell_type": "markdown",
   "metadata": {},
   "source": [
    "#### 11. Print the winner of the game based on who won more rounds.\n",
    "Remember that the game might be tied. "
   ]
  },
  {
   "cell_type": "code",
   "execution_count": 27,
   "metadata": {},
   "outputs": [
    {
     "name": "stdout",
     "output_type": "stream",
     "text": [
      "The final result is: You won\n"
     ]
    }
   ],
   "source": [
    "if cpu_score>player_score: \n",
    "    print(\"The final result is: The computer won\")\n",
    "elif cpu_score<player_score:\n",
    "    print(\"The final result is: You won\")\n",
    "else:\n",
    "    print(\"The final result is a tie!\")"
   ]
  },
  {
   "cell_type": "markdown",
   "metadata": {},
   "source": [
    "# Bonus: Rock, Paper, Scissors, Lizard & Spock\n",
    "![](images/rpsls.jpg)\n",
    "\n",
    "In this challenge, you need to improve the previous game by adding two new options. To know more about the rules of the improved version of rock, paper, scissors, check this [link](http://www.samkass.com/theories/RPSSL.html). \n",
    "\n",
    "In addition, you will also need to improve how the game interacts with the player: the number of rounds to play, which must be an odd number, will be requested to the user until a valid number is entered. Define a new function to make that request.\n",
    "\n",
    "**Hint**: Try to reuse the code that you already coded in the previous challenge. If your code is efficient, this bonus will only consist of simple modifications to the original game."
   ]
  },
  {
   "cell_type": "code",
   "execution_count": 40,
   "metadata": {},
   "outputs": [
    {
     "name": "stdout",
     "output_type": "stream",
     "text": [
      "Please type in an odd number of rounds to be played:9\n",
      "This many rounds are required to win: 4\n",
      "Please type in rock, paper, scissors, lizard or spock:lizard\n",
      "You chose: lizard \n",
      "Computer chose: paper\n",
      "You win\n",
      "Current score (You:Computer): 1 : 0\n",
      "Please type in rock, paper, scissors, lizard or spock:lizard\n",
      "You chose: lizard \n",
      "Computer chose: spock\n",
      "You win\n",
      "Current score (You:Computer): 2 : 0\n",
      "Please type in rock, paper, scissors, lizard or spock:lizard\n",
      "You chose: lizard \n",
      "Computer chose: scissors\n",
      "Computer wins\n",
      "Current score (You:Computer): 2 : 1\n",
      "Please type in rock, paper, scissors, lizard or spock:lizard\n",
      "You chose: lizard \n",
      "Computer chose: scissors\n",
      "Computer wins\n",
      "Current score (You:Computer): 2 : 2\n",
      "Please type in rock, paper, scissors, lizard or spock:lizard\n",
      "You chose: lizard \n",
      "Computer chose: spock\n",
      "You win\n",
      "Current score (You:Computer): 3 : 2\n",
      "Please type in rock, paper, scissors, lizard or spock:lizard\n",
      "You chose: lizard \n",
      "Computer chose: lizard\n",
      "Tie\n",
      "Current score (You:Computer): 3 : 2\n",
      "Please type in rock, paper, scissors, lizard or spock:lizard\n",
      "You chose: lizard \n",
      "Computer chose: rock\n",
      "Computer wins\n",
      "Current score (You:Computer): 3 : 3\n",
      "Please type in rock, paper, scissors, lizard or spock:lizard\n",
      "You chose: lizard \n",
      "Computer chose: spock\n",
      "You win\n",
      "Current score (You:Computer): 4 : 3\n",
      "The final result is: You won\n"
     ]
    }
   ],
   "source": [
    "from random import choice\n",
    "\n",
    "def roundsinput():\n",
    "    global n_rounds\n",
    "    n_rounds = int(input(\"Please type in an odd number of rounds to be played:\"))\n",
    "    return (n_rounds if n_rounds%2==1 else roundsinput())\n",
    "\n",
    "roundsinput()\n",
    "\n",
    "rounds_to_win = round(n_rounds/2)\n",
    "print(\"This many rounds are required to win:\", rounds_to_win)\n",
    "\n",
    "gestures = [\"rock\", \"paper\", \"scissors\", \"lizard\", \"spock\"]\n",
    "\n",
    "def start(gestures):\n",
    "    global pcgesture\n",
    "    pcgesture = str(choice(gestures))\n",
    "    return pcgesture\n",
    "\n",
    "def selection(gestures):\n",
    "    global pgesture\n",
    "    pgesture = str(input(\"Please type in rock, paper, scissors, lizard or spock:\"))\n",
    "    return (pgesture if pgesture in gestures else selection(gestures))\n",
    "\n",
    "def game(a,b,c):\n",
    "    selection(gestures)\n",
    "    start(gestures)\n",
    "    print(\"You chose:\",pgesture,\"\\nComputer chose:\",pcgesture)\n",
    "    return b if ((pcgesture==gestures[0]) and (pgesture==(gestures[2]) or (pgesture==gestures[3]))\\\n",
    "            or (pcgesture==gestures[1]) and (pgesture==(gestures[0]) or (pgesture==gestures[4]))\\\n",
    "            or (pcgesture==gestures[2]) and (pgesture==(gestures[1]) or (pgesture==gestures[3]))\\\n",
    "            or (pcgesture==gestures[3]) and (pgesture==(gestures[4]) or (pgesture==gestures[1]))\\\n",
    "            or (pcgesture==gestures[4]) and (pgesture==(gestures[2]) or (pgesture==gestures[0])))\\\n",
    "            else c if ((pgesture==gestures[0]) and (pcgesture==(gestures[2]) or (pcgesture==gestures[3]))\\\n",
    "            or (pgesture==gestures[1]) and (pcgesture==(gestures[0]) or (pcgesture==gestures[4]))\\\n",
    "            or (pgesture==gestures[2]) and (pcgesture==(gestures[1]) or (pcgesture==gestures[3]))\\\n",
    "            or (pgesture==gestures[3]) and (pcgesture==(gestures[4]) or (pcgesture==gestures[1]))\\\n",
    "            or (pgesture==gestures[4]) and (pcgesture==(gestures[2]) or (pcgesture==gestures[0])))\\\n",
    "            else a\n",
    "\n",
    "cpu_score = 0\n",
    "player_score = 0\n",
    "                                               \n",
    "def counter():\n",
    "    global cpu_score\n",
    "    global player_score\n",
    "    result = game(\"Tie\",\"Computer wins\",\"You win\")\n",
    "    print(result)\n",
    "    if result == \"Computer wins\":\n",
    "        cpu_score +=1\n",
    "    elif result == \"You win\":\n",
    "        player_score +=1\n",
    "    return print(\"Current score (You:Computer):\", player_score, \":\", cpu_score)\n",
    "                                               \n",
    "roundsplayed = 0\n",
    "\n",
    "while cpu_score<rounds_to_win and player_score<rounds_to_win and roundsplayed<n_rounds:\n",
    "    counter()\n",
    "    roundsplayed +=1\n",
    "                                               \n",
    "if cpu_score>player_score: \n",
    "    print(\"The final result is: The computer won\")\n",
    "elif cpu_score<player_score:\n",
    "    print(\"The final result is: You won\")\n",
    "else:\n",
    "    print(\"The final result is a tie!\")\n",
    "            \n",
    "\n",
    "            "
   ]
  },
  {
   "cell_type": "code",
   "execution_count": null,
   "metadata": {},
   "outputs": [],
   "source": []
  }
 ],
 "metadata": {
  "kernelspec": {
   "display_name": "Python 3",
   "language": "python",
   "name": "python3"
  },
  "language_info": {
   "codemirror_mode": {
    "name": "ipython",
    "version": 3
   },
   "file_extension": ".py",
   "mimetype": "text/x-python",
   "name": "python",
   "nbconvert_exporter": "python",
   "pygments_lexer": "ipython3",
   "version": "3.7.4"
  }
 },
 "nbformat": 4,
 "nbformat_minor": 2
}
