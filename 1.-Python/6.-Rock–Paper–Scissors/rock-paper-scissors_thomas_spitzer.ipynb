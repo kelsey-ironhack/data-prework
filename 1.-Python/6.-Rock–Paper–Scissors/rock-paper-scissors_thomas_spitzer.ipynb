{
 "cells": [
  {
   "cell_type": "markdown",
   "metadata": {},
   "source": [
    "<img src=\"https://bit.ly/2VnXWr2\" width=\"100\" align=\"left\">"
   ]
  },
  {
   "cell_type": "markdown",
   "metadata": {},
   "source": [
    "# Rock, Paper & Scissors\n",
    "\n",
    "Let's play the famous game against our computer. You can check the rules [here](https://en.wikipedia.org/wiki/Rock%E2%80%93paper%E2%80%93scissors). \n",
    "\n",
    "## Task\n",
    "Create a program that imitates the playability of the well known game of rock, paper, scissors. Follow the guidelines provided.\n",
    "\n",
    "## Tools\n",
    "1. Loop: **for/while**\n",
    "2. Functions: **input(), print()...**\n",
    "3. Conditional statements: **if, elif, else**\n",
    "4. Definition of functions. Modular programming\n",
    "5. Import modules\n",
    "\n",
    "**To solve this challenge, the use of functions is recommended.**\n",
    "\n",
    "#### 1. Import the choice function of the random module."
   ]
  },
  {
   "cell_type": "code",
   "execution_count": 12,
   "metadata": {},
   "outputs": [],
   "source": [
    "import random"
   ]
  },
  {
   "cell_type": "markdown",
   "metadata": {},
   "source": [
    "#### 2. Create a list that includes the 3 possible gesture options of the game: 'rock', 'paper' or 'scissors'. Store the list in a variable called `gestures`."
   ]
  },
  {
   "cell_type": "code",
   "execution_count": 13,
   "metadata": {},
   "outputs": [],
   "source": [
    "gestures=['rock', 'paper', 'scissors']"
   ]
  },
  {
   "cell_type": "markdown",
   "metadata": {},
   "source": [
    "#### 3. Create a variable called `n_rounds` to store the maximum number of rounds to play in a game. \n",
    "Remember that the number of rounds must be odd: 1, 3, 5, ..."
   ]
  },
  {
   "cell_type": "code",
   "execution_count": 39,
   "metadata": {},
   "outputs": [],
   "source": [
    "n_rounds=33"
   ]
  },
  {
   "cell_type": "markdown",
   "metadata": {},
   "source": [
    "#### 4. Create a variable called `rounds_to_win` to store the number of rounds that a player must win to win the game.\n",
    "**Hint**: the value stored in `rounds_to_win` depends on the value of `n_rounds`. "
   ]
  },
  {
   "cell_type": "code",
   "execution_count": 40,
   "metadata": {},
   "outputs": [],
   "source": [
    "rounds_to_win=int(n_rounds/2)+1"
   ]
  },
  {
   "cell_type": "markdown",
   "metadata": {},
   "source": [
    "#### 5. Create two variables to store the number of rounds that the computer and the player have won. Call these variables `cpu_score` and `player_score`."
   ]
  },
  {
   "cell_type": "code",
   "execution_count": 16,
   "metadata": {},
   "outputs": [],
   "source": [
    "computer_score=0\n",
    "player_score=0"
   ]
  },
  {
   "cell_type": "markdown",
   "metadata": {},
   "source": [
    "#### 6. Define a function that randomly returns one of the 3 gesture options.\n",
    "You will use this function to simulate the gesture choice of the computer. "
   ]
  },
  {
   "cell_type": "code",
   "execution_count": 17,
   "metadata": {
    "scrolled": true
   },
   "outputs": [],
   "source": [
    "computer_choice=random.choice(gestures)"
   ]
  },
  {
   "cell_type": "code",
   "execution_count": 18,
   "metadata": {
    "scrolled": true
   },
   "outputs": [
    {
     "name": "stdout",
     "output_type": "stream",
     "text": [
      "computer chose:  paper\n"
     ]
    }
   ],
   "source": [
    "print(\"computer chose: \",computer_choice)"
   ]
  },
  {
   "cell_type": "markdown",
   "metadata": {},
   "source": [
    "#### 7. Define a function that asks the player which is the gesture he or she wants to show: 'rock', 'paper' or 'scissors'.\n",
    "The player should only be allowed to choose one of the 3 gesture options. If the player's choice is not rock, paper or scissors, keep asking until it is."
   ]
  },
  {
   "cell_type": "code",
   "execution_count": 19,
   "metadata": {},
   "outputs": [
    {
     "name": "stdout",
     "output_type": "stream",
     "text": [
      "Make your choice: rock, paper or scissors !: scissors\n",
      "Good! Your choice is scissors\n"
     ]
    }
   ],
   "source": [
    "\n",
    "player_choice=input(\"Make your choice: rock, paper or scissors !: \")\n",
    "\n",
    "while player_choice not in gestures:\n",
    "    player_choice=input(\"Invalid! You may only chose rock, paper or scissor !: \")\n",
    "\n",
    "print('Good! Your choice is', player_choice)\n"
   ]
  },
  {
   "cell_type": "markdown",
   "metadata": {},
   "source": [
    "#### 8. Define a function that checks who won a round. \n",
    "The function should return 0 if there is a tie, 1 if the computer wins and 2 if the player wins."
   ]
  },
  {
   "cell_type": "code",
   "execution_count": 20,
   "metadata": {
    "scrolled": false
   },
   "outputs": [
    {
     "name": "stdout",
     "output_type": "stream",
     "text": [
      "you win\n",
      "You:  scissors\n",
      "Computer:  paper\n",
      "victory-code: 2\n"
     ]
    }
   ],
   "source": [
    "victory=3\n",
    "\n",
    "if player_choice == computer_choice:\n",
    "    victory= 0\n",
    "    print('its a tie')\n",
    "elif player_choice == \"rock\":\n",
    "        if computer_choice == \"paper\":\n",
    "            print(\"you lose\")\n",
    "            victory= 1\n",
    "        else:\n",
    "            print('you win')\n",
    "            victory = 2\n",
    "elif player_choice == \"paper\":\n",
    "        if computer_choice == \"scissors\":\n",
    "            print(\"you lose\")\n",
    "            victory = 1\n",
    "        else:\n",
    "            print(\"you win\")\n",
    "            victory = 2\n",
    "elif player_choice == \"scissors\":\n",
    "        if computer_choice == \"rock\":\n",
    "            print (\"you lose\")\n",
    "            victory = 1\n",
    "        else:\n",
    "            print(\"you win\")\n",
    "            victory = 2\n",
    "            \n",
    "print (\"You: \",player_choice)\n",
    "print (\"Computer: \",computer_choice)\n",
    "print(\"victory-code:\", victory)    "
   ]
  },
  {
   "cell_type": "markdown",
   "metadata": {},
   "source": [
    "#### 9. Define a function that prints the choice of the computer, the choice of the player and a message that announces who won the current round. \n",
    "You should also use this function to update the variables that count the number of rounds that the computer and the player have won. The score of the winner increases by one point. If there is a tie, the score does not increase."
   ]
  },
  {
   "cell_type": "code",
   "execution_count": 21,
   "metadata": {},
   "outputs": [
    {
     "name": "stdout",
     "output_type": "stream",
     "text": [
      "Player:  1\n",
      "Computer:  0\n"
     ]
    }
   ],
   "source": [
    "if victory == 1:\n",
    "    computer_score+=1\n",
    "elif victory == 2:\n",
    "    player_score+=1\n",
    "else:\n",
    "    player_score+=0\n",
    "    computer_score+=0\n",
    "\n",
    "print('Player: ', player_score)\n",
    "print ('Computer: ', computer_score)"
   ]
  },
  {
   "cell_type": "markdown",
   "metadata": {},
   "source": [
    "#### 10. Now it's time to code the execution of the game using the functions and variables you defined above. \n",
    "\n",
    "First, create a loop structure that repeats while no player reaches the minimum score necessary to win and the number of rounds is less than the maximum number of rounds to play in a game.  \n",
    "\n",
    "Inside the loop, use the functions and variables above to create the execution of a round: ask for the player's choice, generate the random choice of the computer, show the round results, update the scores, etc. "
   ]
  },
  {
   "cell_type": "code",
   "execution_count": 1,
   "metadata": {},
   "outputs": [
    {
     "name": "stdout",
     "output_type": "stream",
     "text": [
      "Chose the maximum amounts of rounds:3\n",
      "ROUND: 1\n",
      "Make your choice: rock, paper or scissors !: rock\n",
      "PLAYER: rock\n",
      "MACHINE: scissors\n",
      "Score\n",
      "Player:  1  /// Computer:  0\n",
      "-------\n",
      "ROUND: 2\n",
      "Make your choice: rock, paper or scissors !: rock\n",
      "PLAYER: rock\n",
      "MACHINE: rock\n",
      "Score\n",
      "Player:  1  /// Computer:  0\n",
      "-------\n",
      "ROUND: 3\n",
      "Make your choice: rock, paper or scissors !: rock\n",
      "PLAYER: rock\n",
      "MACHINE: paper\n",
      "Score\n",
      "Player:  1  /// Computer:  1\n",
      "-------\n",
      "FINISH! The maximum rounds have been reached!\n",
      "-------TOTAL SCORE-------\n",
      "Player:  1  /// Computer:  1\n",
      "THE GAME ENDS IN A TIE\n"
     ]
    }
   ],
   "source": [
    "import random\n",
    "gestures=['rock', 'paper', 'scissors']\n",
    "computer_score=0\n",
    "player_score=0\n",
    "victory=3\n",
    "n_rounds=int(input(\"Chose the maximum amounts of rounds:\"))\n",
    "rounds_to_win=int(n_rounds/2)+1\n",
    "round=0\n",
    "\n",
    "for round in range(n_rounds):\n",
    "\n",
    "            print (\"ROUND:\", round+1)\n",
    "            player_choice=input(\"Make your choice: rock, paper or scissors !: \")\n",
    "            while player_choice not in gestures:\n",
    "                    player_choice=input(\"Invalid! You may only chose rock, paper or scissors !: \") \n",
    "            print('PLAYER:', player_choice)\n",
    "            computer_choice=random.choice(gestures)\n",
    "            print(\"MACHINE:\",computer_choice)\n",
    "                \n",
    "            if player_choice == computer_choice:\n",
    "                    victory= 0\n",
    "    \n",
    "            elif player_choice == \"rock\":\n",
    "                    if computer_choice == \"paper\":\n",
    "                        victory= 1\n",
    "                    else:\n",
    "                        victory = 2\n",
    "            elif player_choice == \"paper\":\n",
    "                    if computer_choice == \"scissors\":\n",
    "                        victory = 1\n",
    "                    else:\n",
    "                        victory = 2\n",
    "            elif player_choice == \"scissors\":\n",
    "                    if computer_choice == \"rock\":\n",
    "                        victory = 1\n",
    "                    else:\n",
    "                        victory = 2\n",
    "\n",
    "            if victory == 1:\n",
    "                        computer_score+=1\n",
    "            elif victory == 2:\n",
    "                        player_score+=1\n",
    "            else:\n",
    "                        player_score+=0\n",
    "                        computer_score+=0\n",
    "\n",
    "            print ('Score')\n",
    "            print ('Player: ',player_score,\" /// Computer: \",computer_score)\n",
    "            print ('-------')\n",
    "        \n",
    "            #EARLY VICTORY\n",
    "            if player_score==rounds_to_win:\n",
    "                print(\"FINISH!\")\n",
    "                print ('----Total Score----')\n",
    "                print ('Player: ',player_score,\" /// Computer: \",computer_score)\n",
    "                print(\"YOU ACHIEVED VICTORY\")\n",
    "                round=n_rounds + 1\n",
    "                   \n",
    "            elif computer_score==rounds_to_win:\n",
    "                print(\"FINISH!\")\n",
    "                print ('----Total Score----')\n",
    "                print ('Player: ',player_score,\" /// Computer: \",computer_score)\n",
    "                print(\"THE MACHINE WON\")\n",
    "                round = n_rounds + 1\n",
    "\n",
    "#MAXIMUM ROUNDS REACHED\n",
    "print(\"FINISH! The maximum rounds have been reached!\")\n",
    "print ('-------TOTAL SCORE-------')\n",
    "print ('Player: ',player_score,\" /// Computer: \",computer_score)\n",
    "    \n",
    "if player_score == computer_score:\n",
    "    print(\"THE GAME ENDS IN A TIE\")\n",
    "elif player_score > computer_score:  \n",
    "                   print(\"YOU ACHIEVED VICTORY\")\n",
    "elif computer_score > player_score:\n",
    "                   print(\"YOU LOSE! THE MACHINE WON!\")\n"
   ]
  },
  {
   "cell_type": "code",
   "execution_count": null,
   "metadata": {},
   "outputs": [],
   "source": []
  },
  {
   "cell_type": "code",
   "execution_count": null,
   "metadata": {},
   "outputs": [],
   "source": []
  },
  {
   "cell_type": "code",
   "execution_count": null,
   "metadata": {},
   "outputs": [],
   "source": []
  },
  {
   "cell_type": "code",
   "execution_count": null,
   "metadata": {},
   "outputs": [],
   "source": []
  },
  {
   "cell_type": "markdown",
   "metadata": {},
   "source": [
    "#### 11. Print the winner of the game based on who won more rounds.\n",
    "Remember that the game might be tied. "
   ]
  },
  {
   "cell_type": "code",
   "execution_count": 5,
   "metadata": {},
   "outputs": [
    {
     "name": "stdout",
     "output_type": "stream",
     "text": [
      "YOU ACHIEVED VICTORY\n"
     ]
    }
   ],
   "source": [
    "if player_score == computer_score:\n",
    "    print(\"THE GAME ENDS IN A TIE\")\n",
    "elif player_score > computer_score:  \n",
    "                   print(\"Player won: YOU ACHIEVED VICTORY!\")\n",
    "elif computer_score > player_score:\n",
    "                   print(\"YOU LOSE! THE MACHINE WON!\")"
   ]
  },
  {
   "cell_type": "code",
   "execution_count": null,
   "metadata": {},
   "outputs": [],
   "source": []
  },
  {
   "cell_type": "markdown",
   "metadata": {},
   "source": [
    "# Bonus: Rock, Paper, Scissors, Lizard & Spock\n",
    "![](images/rpsls.jpg)\n",
    "\n",
    "In this challenge, you need to improve the previous game by adding two new options. To know more about the rules of the improved version of rock, paper, scissors, check this [link](http://www.samkass.com/theories/RPSSL.html). \n",
    "\n",
    "In addition, you will also need to improve how the game interacts with the player: the number of rounds to play, which must be an odd number, will be requested to the user until a valid number is entered. Define a new function to make that request.\n",
    "\n",
    "**Hint**: Try to reuse the code that you already coded in the previous challenge. If your code is efficient, this bonus will only consist of simple modifications to the original game."
   ]
  },
  {
   "cell_type": "code",
   "execution_count": null,
   "metadata": {},
   "outputs": [],
   "source": []
  }
 ],
 "metadata": {
  "kernelspec": {
   "display_name": "Python 3",
   "language": "python",
   "name": "python3"
  },
  "language_info": {
   "codemirror_mode": {
    "name": "ipython",
    "version": 3
   },
   "file_extension": ".py",
   "mimetype": "text/x-python",
   "name": "python",
   "nbconvert_exporter": "python",
   "pygments_lexer": "ipython3",
   "version": "3.8.5"
  }
 },
 "nbformat": 4,
 "nbformat_minor": 2
}
