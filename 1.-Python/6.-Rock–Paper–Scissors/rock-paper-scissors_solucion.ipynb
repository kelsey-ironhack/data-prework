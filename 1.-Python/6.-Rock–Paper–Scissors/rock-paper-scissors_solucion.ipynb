{
 "cells": [
  {
   "cell_type": "markdown",
   "metadata": {},
   "source": [
    "<img src=\"https://bit.ly/2VnXWr2\" width=\"100\" align=\"left\">"
   ]
  },
  {
   "cell_type": "markdown",
   "metadata": {},
   "source": [
    "# Rock, Paper & Scissors\n",
    "\n",
    "Let's play the famous game against our computer. You can check the rules [here](https://en.wikipedia.org/wiki/Rock%E2%80%93paper%E2%80%93scissors). \n",
    "\n",
    "## Task\n",
    "Create a program that imitates the playability of the well known game of rock, paper, scissors. Follow the guidelines provided.\n",
    "\n",
    "## Tools\n",
    "1. Loop: **for/while**\n",
    "2. Functions: **input(), print()...**\n",
    "3. Conditional statements: **if, elif, else**\n",
    "4. Definition of functions. Modular programming\n",
    "5. Import modules\n",
    "\n",
    "**To solve this challenge, the use of functions is recommended.**\n",
    "\n",
    "#### 1. Import the choice function of the random module."
   ]
  },
  {
   "cell_type": "code",
   "execution_count": 1,
   "metadata": {},
   "outputs": [],
   "source": [
    "import random"
   ]
  },
  {
   "cell_type": "markdown",
   "metadata": {},
   "source": [
    "#### 2. Create a list that includes the 3 possible gesture options of the game: 'rock', 'paper' or 'scissors'. Store the list in a variable called `gestures`."
   ]
  },
  {
   "cell_type": "code",
   "execution_count": 2,
   "metadata": {},
   "outputs": [],
   "source": [
    "gestos = [\"piedra\", \"papel\", \"tijera\"]"
   ]
  },
  {
   "cell_type": "markdown",
   "metadata": {},
   "source": [
    "#### 3. Create a variable called `n_rounds` to store the maximum number of rounds to play in a game. \n",
    "Remember that the number of rounds must be odd: 1, 3, 5, ..."
   ]
  },
  {
   "cell_type": "code",
   "execution_count": 3,
   "metadata": {},
   "outputs": [],
   "source": [
    "numero_rondas = 1"
   ]
  },
  {
   "cell_type": "markdown",
   "metadata": {},
   "source": [
    "#### 4. Create a variable called `rounds_to_win` to store the number of rounds that a player must win to win the game.\n",
    "**Hint**: the value stored in `rounds_to_win` depends on the value of `n_rounds`. "
   ]
  },
  {
   "cell_type": "code",
   "execution_count": 4,
   "metadata": {},
   "outputs": [],
   "source": [
    "rondas_para_ganar = 3"
   ]
  },
  {
   "cell_type": "markdown",
   "metadata": {},
   "source": [
    "#### 5. Create two variables to store the number of rounds that the computer and the player have won. Call these variables `cpu_score` and `player_score`."
   ]
  },
  {
   "cell_type": "code",
   "execution_count": 5,
   "metadata": {},
   "outputs": [],
   "source": [
    "cpu_gana = 0\n",
    "jugador_gana = 0"
   ]
  },
  {
   "cell_type": "markdown",
   "metadata": {},
   "source": [
    "#### 6. Define a function that randomly returns one of the 3 gesture options.\n",
    "You will use this function to simulate the gesture choice of the computer. "
   ]
  },
  {
   "cell_type": "code",
   "execution_count": 6,
   "metadata": {},
   "outputs": [
    {
     "data": {
      "text/plain": [
       "'papel'"
      ]
     },
     "execution_count": 6,
     "metadata": {},
     "output_type": "execute_result"
    }
   ],
   "source": [
    "random.choice(gestos)\n"
   ]
  },
  {
   "cell_type": "markdown",
   "metadata": {},
   "source": [
    "#### 7. Define a function that asks the player which is the gesture he or she wants to show: 'rock', 'paper' or 'scissors'.\n",
    "The player should only be allowed to choose one of the 3 gesture options. If the player's choice is not rock, paper or scissors, keep asking until it is."
   ]
  },
  {
   "cell_type": "code",
   "execution_count": 10,
   "metadata": {},
   "outputs": [
    {
     "name": "stdout",
     "output_type": "stream",
     "text": [
      "Elige entre piedra,papel o tijera:tijera\n"
     ]
    },
    {
     "data": {
      "text/plain": [
       "'tijera'"
      ]
     },
     "execution_count": 10,
     "metadata": {},
     "output_type": "execute_result"
    }
   ],
   "source": [
    "jugador = input(\"Elige entre piedra,papel o tijera\")\n",
    "while jugador != \"piedra\" and jugador != \"papel\" and jugador != \"tijera\":\n",
    "    jugador = input(\"opcion incorrecta, intentelo de nuevo: \")\n",
    "    \n",
    "     \n",
    "   \n",
    "\n",
    "    "
   ]
  },
  {
   "cell_type": "markdown",
   "metadata": {},
   "source": [
    "#### 8. Define a function that checks who won a round. \n",
    "The function should return 0 if there is a tie, 1 if the computer wins and 2 if the player wins."
   ]
  },
  {
   "cell_type": "code",
   "execution_count": 11,
   "metadata": {},
   "outputs": [],
   "source": []
  },
  {
   "cell_type": "markdown",
   "metadata": {},
   "source": [
    "#### 9. Define a function that prints the choice of the computer, the choice of the player and a message that announces who won the current round. \n",
    "You should also use this function to update the variables that count the number of rounds that the computer and the player have won. The score of the winner increases by one point. If there is a tie, the score does not increase."
   ]
  },
  {
   "cell_type": "code",
   "execution_count": null,
   "metadata": {},
   "outputs": [],
   "source": [
    "\n",
    " \n",
    "    \n",
    "\n",
    "\n"
   ]
  },
  {
   "cell_type": "markdown",
   "metadata": {},
   "source": [
    "#### 10. Now it's time to code the execution of the game using the functions and variables you defined above. \n",
    "\n",
    "First, create a loop structure that repeats while no player reaches the minimum score necessary to win and the number of rounds is less than the maximum number of rounds to play in a game.  \n",
    "\n",
    "Inside the loop, use the functions and variables above to create the execution of a round: ask for the player's choice, generate the random choice of the computer, show the round results, update the scores, etc. "
   ]
  },
  {
   "cell_type": "code",
   "execution_count": 13,
   "metadata": {},
   "outputs": [
    {
     "name": "stdout",
     "output_type": "stream",
     "text": [
      "Elige entre piedra, papel o tijera:tijera\n",
      "has elegido tijera\n",
      "la cpu ha elegido tijera\n",
      "¡HAY UN EMPATE! ---> 0\n",
      "Elige entre piedra, papel o tijera:tijera\n",
      "has elegido tijera\n",
      "la cpu ha elegido tijera\n",
      "¡HAY UN EMPATE! ---> 0\n",
      "Elige entre piedra, papel o tijera:tijera\n",
      "has elegido tijera\n",
      "la cpu ha elegido papel\n",
      "¡HAS GANADO!---> 2\n",
      "Elige entre piedra, papel o tijera:tijera\n",
      "has elegido tijera\n",
      "la cpu ha elegido piedra\n",
      "¡GANA LA CPU!---> 1\n",
      "Elige entre piedra, papel o tijera:tijera\n",
      "has elegido tijera\n",
      "la cpu ha elegido piedra\n",
      "¡GANA LA CPU!---> 1\n",
      "Elige entre piedra, papel o tijera:tijera\n",
      "has elegido tijera\n",
      "la cpu ha elegido tijera\n",
      "¡HAY UN EMPATE! ---> 0\n",
      "Elige entre piedra, papel o tijera:tijera\n",
      "has elegido tijera\n",
      "la cpu ha elegido tijera\n",
      "¡HAY UN EMPATE! ---> 0\n"
     ]
    }
   ],
   "source": [
    "opciones = {'piedra': 'tijera', 'tijera':'papel', 'papel' : 'piedra'}\n",
    "while numero_rondas <=7 and cpu_gana < rondas_para_ganar and jugador_gana < rondas_para_ganar:\n",
    "\n",
    "\n",
    "\tjugador = input(\"Elige entre piedra, papel o tijera: \")\n",
    "\twhile jugador != \"piedra\" and jugador != \"papel\" and jugador != \"tijera\":\n",
    "\t\tjugador = input(\"Opcion incorrecta, intentelo de nuevo: \")\n",
    "\n",
    "\tcpu = random.choice(gestos)\n",
    "\n",
    "\tprint(\"has elegido\", jugador)\n",
    "\tprint(\"la cpu ha elegido\",cpu)\n",
    "\t\t\n",
    "\tif opciones[jugador] == cpu:\n",
    "\t\tjugador_gana += 1\n",
    "\t\tprint(\"¡HAS GANADO!---> 2\")\n",
    "\telif opciones[cpu] == jugador:\n",
    "\t\tcpu_gana += 1\n",
    "\t\tprint(\"¡GANA LA CPU!---> 1\")\n",
    "\telse:\n",
    "\t\tprint(\"¡HAY UN EMPATE! ---> 0\")\n",
    "\n",
    "\tnumero_rondas += 1\n",
    "\n",
    "\n",
    "\t\n",
    "\t\n",
    "\t\t\n",
    "\t\n",
    "\t\n",
    "\t"
   ]
  },
  {
   "cell_type": "markdown",
   "metadata": {},
   "source": [
    "#### 11. Print the winner of the game based on who won more rounds.\n",
    "Remember that the game might be tied. "
   ]
  },
  {
   "cell_type": "code",
   "execution_count": 14,
   "metadata": {},
   "outputs": [
    {
     "name": "stdout",
     "output_type": "stream",
     "text": [
      "Ha ganado la cpu con 2 victorias.\n"
     ]
    }
   ],
   "source": [
    "if cpu_gana > jugador_gana:\n",
    "\tprint(\"Ha ganado la cpu con\", cpu_gana, \"victorias.\")\n",
    "elif jugador_gana > cpu_gana:\n",
    "\tprint(\"Has ganado con\", jugador_gana, \"victorias.\")\n",
    "\n",
    "else:\n",
    "\tprint(\"Hubo un empate de\", cpu_gana,\" victorias para la computadora, y de,\",jugador_gana,\"victorias para el jugador.\")"
   ]
  },
  {
   "cell_type": "markdown",
   "metadata": {},
   "source": [
    "# Bonus: Rock, Paper, Scissors, Lizard & Spock\n",
    "![](images/rpsls.jpg)\n",
    "\n",
    "In this challenge, you need to improve the previous game by adding two new options. To know more about the rules of the improved version of rock, paper, scissors, check this [link](http://www.samkass.com/theories/RPSSL.html). \n",
    "\n",
    "In addition, you will also need to improve how the game interacts with the player: the number of rounds to play, which must be an odd number, will be requested to the user until a valid number is entered. Define a new function to make that request.\n",
    "\n",
    "**Hint**: Try to reuse the code that you already coded in the previous challenge. If your code is efficient, this bonus will only consist of simple modifications to the original game."
   ]
  },
  {
   "cell_type": "code",
   "execution_count": 1,
   "metadata": {},
   "outputs": [
    {
     "name": "stdout",
     "output_type": "stream",
     "text": [
      "INTRODUCE UN NUMERO IMPAR PARA ESTABLECER EL NUMERO DE RONDAS A JUGAR: 11\n",
      "Elige entre piedra, papel, tijera, spock o lagarto: lagarto\n",
      "has elegido lagarto\n",
      "la cpu ha elegido piedra\n",
      "¡HAS PERDIDO!\n",
      "Elige entre piedra, papel, tijera, spock o lagarto: lagarto\n",
      "has elegido lagarto\n",
      "la cpu ha elegido piedra\n",
      "¡HAS PERDIDO!\n",
      "Elige entre piedra, papel, tijera, spock o lagarto: piedra\n",
      "has elegido piedra\n",
      "la cpu ha elegido lagarto\n",
      "¡HAS GANADO!\n",
      "Elige entre piedra, papel, tijera, spock o lagarto: piedra\n",
      "has elegido piedra\n",
      "la cpu ha elegido tijera\n",
      "¡HAS GANADO!\n",
      "Elige entre piedra, papel, tijera, spock o lagarto: piedra\n",
      "has elegido piedra\n",
      "la cpu ha elegido piedra\n",
      "¡EMPATE!\n",
      "Elige entre piedra, papel, tijera, spock o lagarto: cpu\n",
      "Opcion incorrecta, intentelo de nuevo: tijera\n",
      "has elegido tijera\n",
      "la cpu ha elegido tijera\n",
      "¡EMPATE!\n",
      "Elige entre piedra, papel, tijera, spock o lagarto: tijers\n",
      "Opcion incorrecta, intentelo de nuevo: tijera\n",
      "has elegido tijera\n",
      "la cpu ha elegido tijera\n",
      "¡EMPATE!\n",
      "Elige entre piedra, papel, tijera, spock o lagarto: tijera\n",
      "has elegido tijera\n",
      "la cpu ha elegido lagarto\n",
      "¡HAS GANADO!\n",
      "Has ganado con 3 victorias.\n"
     ]
    }
   ],
   "source": [
    "import random\n",
    "\n",
    "\n",
    "\n",
    "gestos = [\"piedra\", \"papel\", \"tijera\", \"spock\", \"lagarto\"]\n",
    "contador = 1\n",
    "\n",
    "rondas_para_ganar = 3\n",
    "\n",
    "cpu_gana = 0\n",
    "jugador_gana = 0\n",
    "\n",
    "\n",
    "\n",
    "impar = int(input(\"INTRODUCE UN NUMERO IMPAR PARA ESTABLECER EL NUMERO DE RONDAS A JUGAR: \"))\n",
    "\n",
    "while impar % 2 == 0:\n",
    "\timpar = int(input(\"No es impar, intentelo de nuevo por favor: \"))\n",
    "\t\n",
    "\n",
    "while contador <= impar  and cpu_gana < rondas_para_ganar and jugador_gana < rondas_para_ganar:\n",
    "\n",
    "\n",
    "\tjugador = input(\"Elige entre piedra, papel, tijera, spock o lagarto: \")\n",
    "\twhile jugador != \"piedra\" and jugador != \"papel\" and jugador != \"tijera\" and jugador != \"lagarto\" and jugador != \"spock\":\n",
    "\t\tjugador = input(\"Opcion incorrecta, intentelo de nuevo: \")\n",
    "\n",
    "\tcpu = random.choice(gestos)\n",
    "\n",
    "\tprint(\"has elegido\", jugador)\n",
    "\tprint(\"la cpu ha elegido\",cpu)\n",
    "\t\t\n",
    "\tif jugador == \"piedra\":\n",
    "\t\tif cpu == \"piedra\":\n",
    "\t\t\tprint(\"¡EMPATE!\")\n",
    "\t\telif cpu == \"lagarto\" or cpu == \"tijera\":\n",
    "\t\t\tjugador_gana += 1\n",
    "\t\t\tprint(\"¡HAS GANADO!\")\n",
    "\t\telif cpu == \"spock\" or cpu == \"papel\":\n",
    "\t\t\tcpu_gana += 1\n",
    "\t\t\tprint(\"¡HAS PERDIDO!\")\n",
    "\n",
    "\telif jugador == \"papel\":\n",
    "\t\tif cpu == \"papel\":\n",
    "\t\t\tprint(\"¡EMPATE!\")\n",
    "\t\telif cpu == \"spock\" or cpu == \"piedra\":\n",
    "\t\t\tjugador_gana += 1\n",
    "\t\t\tprint(\"¡HAS GANADO!\")\n",
    "\t\telif cpu == \"tijera\" or cpu == \"lagarto\":\n",
    "\t\t\tcpu_gana += 1\n",
    "\t\t\tprint(\"¡HAS PERDIDO!\")\n",
    "\n",
    "\telif jugador == \"tijera\":\n",
    "\t\tif cpu == \"tijera\":\n",
    "\t\t\tprint(\"¡EMPATE!\")\n",
    "\t\telif cpu == \"papel\" or cpu == \"lagarto\":\n",
    "\t\t\tjugador_gana += 1\n",
    "\t\t\tprint(\"¡HAS GANADO!\")\n",
    "\t\telif cpu == \"piedra\" or cpu == \"spock\":\n",
    "\t\t\tcpu_gana += 1\n",
    "\t\t\tprint(\"¡HAS PERDIDO!\")\n",
    "\telif jugador == \"spock\":\n",
    "\t\tif cpu == \"spock\":\n",
    "\t\t\tprint(\"¡EMPATE!\")\n",
    "\t\telif cpu == \"tijera\" or \"piedra\":\n",
    "\t\t\tjugador_gana += 1\n",
    "\t\t\tprint(\"¡HAS GANADO!\")\n",
    "\t\telif cpu == \"lagarto\" or cpu == \"papel\":\n",
    "\t\t\tcpu_gana += 1\n",
    "\t\t\tprint(\"¡HAS PERDIDO!\")\n",
    "\telif jugador == \"lagarto\":\n",
    "\t\tif cpu == \"lagarto\":\n",
    "\t\t\tprint(\"¡EMPATE!\")\n",
    "\t\telif cpu == \"spock\" or cpu == \"papel\":\n",
    "\t\t\tjugador_gana += 1\n",
    "\t\t\tprint(\"¡HAS GANADO!\")\n",
    "\t\telif cpu == \"tijera\" or cpu == \"piedra\":\n",
    "\t\t\tcpu_gana += 1\n",
    "\t\t\tprint(\"¡HAS PERDIDO!\")\n",
    "\t\n",
    "\tcontador += 1\n",
    "\n",
    "if cpu_gana > jugador_gana:\n",
    "\tprint(\"Ha ganado la cpu con\", cpu_gana, \"victorias.\")\n",
    "elif jugador_gana > cpu_gana:\n",
    "\tprint(\"Has ganado con\", jugador_gana, \"victorias.\")\n",
    "else:\n",
    "\tprint(\"Hubo un empate de\", cpu_gana,\" victorias para la computadora, y de,\",jugador_gana,\"victorias para el jugador.\")"
   ]
  }
 ],
 "metadata": {
  "kernelspec": {
   "display_name": "Python 3",
   "language": "python",
   "name": "python3"
  },
  "language_info": {
   "codemirror_mode": {
    "name": "ipython",
    "version": 3
   },
   "file_extension": ".py",
   "mimetype": "text/x-python",
   "name": "python",
   "nbconvert_exporter": "python",
   "pygments_lexer": "ipython3",
   "version": "3.7.6"
  }
 },
 "nbformat": 4,
 "nbformat_minor": 2
}
