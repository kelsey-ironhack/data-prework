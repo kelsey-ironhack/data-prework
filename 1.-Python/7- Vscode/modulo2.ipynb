{
 "metadata": {
  "language_info": {
   "codemirror_mode": {
    "name": "ipython",
    "version": 3
   },
   "file_extension": ".py",
   "mimetype": "text/x-python",
   "name": "python",
   "nbconvert_exporter": "python",
   "pygments_lexer": "ipython3",
   "version": "3.9.1-final"
  },
  "orig_nbformat": 2,
  "kernelspec": {
   "name": "python3",
   "display_name": "Python 3.9.1 64-bit",
   "metadata": {
    "interpreter": {
     "hash": "376f5b0795f81aa7b5d99e448d6274743a66c9892fd26cf11e505993f41df5fa"
    }
   }
  }
 },
 "nbformat": 4,
 "nbformat_minor": 2,
 "cells": [
  {
   "source": [
    "# Comparación - operadores de igualdad"
   ],
   "cell_type": "markdown",
   "metadata": {}
  },
  {
   "cell_type": "code",
   "execution_count": null,
   "metadata": {},
   "outputs": [],
   "source": [
    "2==2"
   ]
  },
  {
   "cell_type": "code",
   "execution_count": null,
   "metadata": {},
   "outputs": [],
   "source": [
    "2==2."
   ]
  },
  {
   "cell_type": "code",
   "execution_count": null,
   "metadata": {},
   "outputs": [],
   "source": [
    "1==2"
   ]
  },
  {
   "cell_type": "code",
   "execution_count": null,
   "metadata": {},
   "outputs": [],
   "source": [
    "n = int(input(\"introduce un número:\"))\n",
    "c = 100\n",
    "print(n>=c)"
   ]
  },
  {
   "cell_type": "code",
   "execution_count": null,
   "metadata": {},
   "outputs": [],
   "source": [
    "# Read two numbers\n",
    "number1 = int(input(\"Enter the first number: \"))\n",
    "number2 = int(input(\"Enter the second number: \"))\n",
    "\n",
    "# Choose the larger number\n",
    "if number1 > number2:\n",
    "    larger_number = number1\n",
    "else:\n",
    "    larger_number = number2\n",
    "\n",
    "# Print the result\n",
    "print(\"The larger number is:\", larger_number)\n"
   ]
  },
  {
   "cell_type": "code",
   "execution_count": null,
   "metadata": {},
   "outputs": [],
   "source": [
    "# Read two numbers\n",
    "number1 = int(input(\"Enter the first number: \"))\n",
    "number2 = int(input(\"Enter the second number: \"))\n",
    "\n",
    "# Choose the larger number\n",
    "if number1 > number2: larger_number = number1\n",
    "else: larger_number = number2\n",
    "\n",
    "# Print the result\n",
    "print(\"The larger number is:\", larger_number)\n",
    "\n"
   ]
  },
  {
   "cell_type": "code",
   "execution_count": null,
   "metadata": {},
   "outputs": [],
   "source": [
    "# Read three numbers\n",
    "number1 = int(input(\"Enter the first number: \"))\n",
    "number2 = int(input(\"Enter the second number: \"))\n",
    "number3 = int(input(\"Enter the third number: \"))\n",
    "\n",
    "# We temporarily assume that the first number\n",
    "# is the largest one.\n",
    "# We will verify this soon.\n",
    "largest_number = number1\n",
    "\n",
    "# We check if the second number is larger than current largest_number\n",
    "# and update largest_number if needed.\n",
    "if number2 > largest_number:\n",
    "    largest_number = number2\n",
    "\n",
    "# We check if the third number is larger than current largest_number\n",
    "# and update largest_number if needed.\n",
    "if number3 > largest_number:\n",
    "    largest_number = number3\n",
    "\n",
    "# Print the result\n",
    "print(\"The largest number is:\", largest_number)"
   ]
  },
  {
   "cell_type": "code",
   "execution_count": null,
   "metadata": {},
   "outputs": [],
   "source": [
    "largest_number = -999999999\n",
    "number = int(input())\n",
    "if number == -1:\n",
    "    print(largest_number)\n",
    "    exit()\n",
    "if number > largest_number:\n",
    "    largest_number = number\n",
    "# Go to line 02"
   ]
  },
  {
   "cell_type": "code",
   "execution_count": null,
   "metadata": {},
   "outputs": [],
   "source": [
    " # Read three numbers.\n",
    "number1 = 315\n",
    "number2 = 254\n",
    "number3 = 869\n",
    "\n",
    "# Check which one of the numbers is the greatest\n",
    "# and pass it to the largest_number variable.\n",
    "\n",
    "largest_number = max(number1, number2, number3)\n",
    "minumum_number = min(number1, number2, number3)\n",
    "\n",
    "# Print the result.\n",
    "print(\"The largest number is:\", largest_number)\n",
    "print(\"The minimum number is:\", minumum_number)\n"
   ]
  },
  {
   "cell_type": "code",
   "execution_count": null,
   "metadata": {},
   "outputs": [],
   "source": [
    "#text = \"SPATHIPHYLLUM\"\n",
    "#text  = \"spathiphyllum\"\n",
    "text = \"otra cosa\"\n",
    "\n",
    "if text == \"SPATHIPHYLLUM\":\n",
    "    message = \"Yes, Spathiphyllum is the best plant ever!\"\n",
    "elif text == \"spathiphyllum\":\n",
    "    message = \"No, I want a big Spathiphyllum!\"\n",
    "else:\n",
    "    message = \"Spathiphyllum! Not is \" + text\n",
    "\n",
    "print(message)\n",
    "\n"
   ]
  },
  {
   "cell_type": "code",
   "execution_count": null,
   "metadata": {},
   "outputs": [],
   "source": [
    "income = -100 #float(input(\"Enter the annual income: \"))\n",
    "\n",
    "limit = 85528\n",
    "\n",
    "less_limit_rate = .18\n",
    "less_limit_discount = 556.2\n",
    "\n",
    "tax_base = 14839.2\n",
    "upper_limit_rate = .32\n",
    "surplus = income - limit\n",
    "\n",
    "if income <= limit:\n",
    "    tax = income * less_limit_rate - less_limit_discount\n",
    "else:\n",
    "    tax = tax_base + surplus * upper_limit_rate\n",
    "\n",
    "if tax < 0: tax = 0 \n",
    "tax = round(tax, 0)\n",
    "print(\"The tax is:\", tax, \"thalers\")\n"
   ]
  },
  {
   "cell_type": "code",
   "execution_count": null,
   "metadata": {},
   "outputs": [],
   "source": [
    "year = 1983\n",
    "\n",
    "if year < 1582:\n",
    "    typeYear = \"Not within the Gregorian calendar\"\n",
    "else:\n",
    "    if year%4 > 0:\n",
    "        typeYear = \"normal\"\n",
    "    elif year%100 >0:\n",
    "        typeYear = \"bisiesto\"\n",
    "    elif year%400 >0:\n",
    "        typeYear = \"normal\"\n",
    "    else:    \n",
    "        typeYear = \"bisiesto\"\n",
    "\n",
    "if year < 1582:\n",
    "    print(typeYear)\n",
    "else:    \n",
    "    print(\"the year \",year,\" is a \",typeYear, \" year.\")\n",
    "\n"
   ]
  },
  {
   "cell_type": "code",
   "execution_count": null,
   "metadata": {},
   "outputs": [],
   "source": [
    "# A program that reads a sequence of numbers\n",
    "# and counts how many numbers are even and how many are odd.\n",
    "# The program terminates when zero is entered.\n",
    "\n",
    "odd_numbers = 0\n",
    "even_numbers = 0\n",
    "\n",
    "# Read the first number.\n",
    "number = int(input(\"Enter a number or type 0 to stop: \"))\n",
    "\n",
    "# 0 terminates execution.\n",
    "while number != 0:\n",
    "    # Check if the number is odd.\n",
    "    if number % 2 == 1:\n",
    "        # Increase the odd_numbers counter.\n",
    "        odd_numbers += 1\n",
    "    else:\n",
    "        # Increase the even_numbers counter.\n",
    "        even_numbers += 1\n",
    "    # Read the next number.\n",
    "    number = int(input(\"Enter a number or type 0 to stop: \"))\n",
    "\n",
    "# Print results.\n",
    "print(\"Odd numbers count:\", odd_numbers)\n",
    "print(\"Even numbers count:\", even_numbers)\n"
   ]
  },
  {
   "cell_type": "code",
   "execution_count": null,
   "metadata": {},
   "outputs": [],
   "source": [
    "counter = 5\n",
    "while counter != 0:\n",
    "    print(\"Inside the loop.\", counter)\n",
    "    counter -= 1\n",
    "print(\"Outside the loop.\", counter)"
   ]
  },
  {
   "cell_type": "code",
   "execution_count": null,
   "metadata": {},
   "outputs": [],
   "source": [
    "secret_number = 777\n",
    "print(\n",
    "\"\"\"\n",
    "+================================+\n",
    "| Welcome to my game, muggle!    |\n",
    "| Enter an integer number        |\n",
    "| and guess what number I've     |\n",
    "| picked for you.                |\n",
    "| So, what is the secret number? |\n",
    "+================================+\n",
    "\"\"\")\n",
    "number = 0\n",
    "while number != secret_number:\n",
    "      number = int(input(\"introduce un número\"))\n",
    "      print(\"Estas atrapado en mi juego, intenta nuevamente\")\n",
    "print(\"bien hecho, eres libre...\")"
   ]
  },
  {
   "cell_type": "code",
   "execution_count": null,
   "metadata": {},
   "outputs": [],
   "source": [
    "for i in range(2, 8):\n",
    "    print(\"The value of i is currently\", i)"
   ]
  },
  {
   "cell_type": "code",
   "execution_count": null,
   "metadata": {},
   "outputs": [],
   "source": [
    "for i in range(2, 8, 3):\n",
    "    print(\"The value of i is currently\", i)\n"
   ]
  },
  {
   "cell_type": "code",
   "execution_count": null,
   "metadata": {},
   "outputs": [],
   "source": [
    "power = 1\n",
    "for expo in range(16):\n",
    "    print(\"2 to the power of\", expo, \"is\", power)\n",
    "    power *= 2\n"
   ]
  },
  {
   "cell_type": "code",
   "execution_count": null,
   "metadata": {},
   "outputs": [],
   "source": [
    "# break - example\n",
    "\n",
    "print(\"The break instruction:\")\n",
    "for i in range(1, 6):\n",
    "    if i == 3:\n",
    "        break\n",
    "    print(\"Inside the loop.\", i)\n",
    "print(\"Outside the loop.\")\n",
    "\n",
    "\n",
    "# continue - example\n",
    "\n",
    "print(\"\\nThe continue instruction:\")\n",
    "for i in range(1, 6):\n",
    "    if i == 3:\n",
    "        continue\n",
    "    print(\"Inside the loop.\", i)\n",
    "print(\"Outside the loop.\")\n"
   ]
  },
  {
   "cell_type": "code",
   "execution_count": null,
   "metadata": {},
   "outputs": [],
   "source": [
    "largest_number = -99999999\n",
    "counter = 0\n",
    "\n",
    "while True:\n",
    "    number = int(input(\"Enter a number or type -1 to end program: \"))\n",
    "    if number == -1:\n",
    "        break\n",
    "    counter += 1\n",
    "    if number > largest_number:\n",
    "        largest_number = number\n",
    "\n",
    "if counter != 0:\n",
    "    print(\"The largest number is\", largest_number)\n",
    "else:\n",
    "    print(\"You haven't entered any number.\")\n"
   ]
  },
  {
   "cell_type": "code",
   "execution_count": null,
   "metadata": {},
   "outputs": [],
   "source": [
    "largest_number = -99999999\n",
    "counter = 0\n",
    "\n",
    "number = int(input(\"Enter a number or type -1 to end program: \"))\n",
    "\n",
    "while number != -1:\n",
    "    if number == -1:\n",
    "        continue\n",
    "    counter += 1\n",
    "\n",
    "    if number > largest_number:\n",
    "        largest_number = number\n",
    "    number = int(input(\"Enter a number or type -1 to end program: \"))\n",
    "\n",
    "if counter:\n",
    "    print(\"The largest number is\", largest_number)\n",
    "else:\n",
    "    print(\"You haven't entered any number.\")\n"
   ]
  },
  {
   "cell_type": "code",
   "execution_count": null,
   "metadata": {},
   "outputs": [],
   "source": [
    "while True:\n",
    "    palabra=input(\"Introduce un palabra: \")\n",
    "    if palabra==\"chupacabra\":\n",
    "        break\n",
    "print(\"Haz concluido satisfactoriamente el loop\")"
   ]
  },
  {
   "cell_type": "code",
   "execution_count": null,
   "metadata": {},
   "outputs": [],
   "source": [
    "palabra=input(\"Introduce una palabra (exit para salir) :\")\n",
    "palabra=palabra.upper()\n",
    "vocales=\"AEIOU\"\n",
    "palabraSinVocales=\"\"\n",
    "for i in palabra:\n",
    "    if vocales.find(i)!=-1:\n",
    "        continue\n",
    "    palabraSinVocales += i\n",
    "    print(i)\n",
    "print(palabraSinVocales)"
   ]
  },
  {
   "cell_type": "code",
   "execution_count": null,
   "metadata": {},
   "outputs": [],
   "source": [
    "i = 5\n",
    "while i < 5:\n",
    "    print(i)\n",
    "    i += 1\n",
    "else:\n",
    "    print(\"else:\", i)"
   ]
  },
  {
   "cell_type": "code",
   "execution_count": null,
   "metadata": {},
   "outputs": [],
   "source": [
    "for i in range(5):\n",
    "    print(i)\n",
    "else:\n",
    "    print(\"else:\", i)\n"
   ]
  },
  {
   "cell_type": "code",
   "execution_count": null,
   "metadata": {},
   "outputs": [],
   "source": [
    "i = 111\n",
    "for i in range(2, 1):\n",
    "    print(i)\n",
    "else:\n",
    "    print(\"else:\", i)\n"
   ]
  },
  {
   "cell_type": "code",
   "execution_count": 57,
   "metadata": {},
   "outputs": [
    {
     "output_type": "stream",
     "name": "stdout",
     "text": [
      "44\n"
     ]
    }
   ],
   "source": [
    "blocks = 1000\n",
    "level = 0\n",
    "while blocks>level:\n",
    "    level = level + 1\n",
    "    blocks -= level \n",
    "print(level)\n"
   ]
  },
  {
   "cell_type": "code",
   "execution_count": 77,
   "metadata": {},
   "outputs": [
    {
     "output_type": "stream",
     "name": "stdout",
     "text": [
      "3070\n1535.0\n4606.0\n2303.0\n6910.0\n3455.0\n10366.0\n5183.0\n15550.0\n7775.0\n23326.0\n11663.0\n34990.0\n17495.0\n52486.0\n26243.0\n78730.0\n39365.0\n118096.0\n59048.0\n29524.0\n14762.0\n7381.0\n22144.0\n11072.0\n5536.0\n2768.0\n1384.0\n692.0\n346.0\n173.0\n520.0\n260.0\n130.0\n65.0\n196.0\n98.0\n49.0\n148.0\n74.0\n37.0\n112.0\n56.0\n28.0\n14.0\n7.0\n22.0\n11.0\n34.0\n17.0\n52.0\n26.0\n13.0\n40.0\n20.0\n10.0\n5.0\n16.0\n8.0\n4.0\n2.0\npasos : 62\n"
     ]
    }
   ],
   "source": [
    "c0 = 1023\n",
    "pasos = 0\n",
    "while True:\n",
    "    if c0 % 2 == 0:\n",
    "        c0 = c0 / 2 \n",
    "    else:\n",
    "        c0 = 3 * c0 + 1 \n",
    "    pasos += 1\n",
    "    if c0 != 1:\n",
    "        print(c0)\n",
    "        continue\n",
    "    else:\n",
    "        break\n",
    "        print(\"numero no tendiente a 1\")\n",
    "print(\"pasos :\",pasos)\n",
    "        \n"
   ]
  },
  {
   "cell_type": "code",
   "execution_count": 78,
   "metadata": {},
   "outputs": [
    {
     "output_type": "stream",
     "name": "stdout",
     "text": [
      "1\n3\n5\n7\n9\n"
     ]
    }
   ],
   "source": [
    "for i in range(1,10+1):\n",
    "    if i % 2 != 0:\n",
    "        print(i)"
   ]
  },
  {
   "cell_type": "code",
   "execution_count": 2,
   "metadata": {
    "tags": []
   },
   "outputs": [
    {
     "output_type": "stream",
     "name": "stdout",
     "text": [
      "1\n3\n5\n7\n9\n"
     ]
    }
   ],
   "source": [
    "cuenta=1\n",
    "while cuenta < 10:\n",
    "    if cuenta % 2 != 0:\n",
    "        print(cuenta)\n",
    "    cuenta += 1"
   ]
  },
  {
   "cell_type": "code",
   "execution_count": 3,
   "metadata": {},
   "outputs": [
    {
     "output_type": "stream",
     "name": "stdout",
     "text": [
      "john.smith\n"
     ]
    }
   ],
   "source": [
    "name=\"\"\n",
    "for ch in \"john.smith@pythoninstitute.org\":\n",
    "    if ch == \"@\":\n",
    "        break\n",
    "    name += ch\n",
    "print(name)"
   ]
  },
  {
   "cell_type": "code",
   "execution_count": 4,
   "metadata": {},
   "outputs": [
    {
     "output_type": "stream",
     "name": "stdout",
     "text": [
      "x165x318x651x\n"
     ]
    }
   ],
   "source": [
    "new_str=\"\"\n",
    "for digit in \"0165031806510\":\n",
    "    if digit == \"0\":\n",
    "        digit = \"x\"\n",
    "    new_str += digit\n",
    "print(new_str)"
   ]
  },
  {
   "cell_type": "code",
   "execution_count": 5,
   "metadata": {},
   "outputs": [
    {
     "output_type": "stream",
     "name": "stdout",
     "text": [
      "4\n3\n2\n0\n"
     ]
    }
   ],
   "source": [
    "n = 3\n",
    "\n",
    "while n > 0:\n",
    "    print(n + 1)\n",
    "    n -= 1\n",
    "else:\n",
    "    print(n)"
   ]
  },
  {
   "cell_type": "code",
   "execution_count": 6,
   "metadata": {},
   "outputs": [
    {
     "output_type": "stream",
     "name": "stdout",
     "text": [
      "-1\n0\n1\n2\n3\n"
     ]
    }
   ],
   "source": [
    "n = range(4)\n",
    "\n",
    "for num in n:\n",
    "    print(num - 1)\n",
    "else:\n",
    "    print(num)"
   ]
  },
  {
   "cell_type": "code",
   "execution_count": 7,
   "metadata": {},
   "outputs": [
    {
     "output_type": "stream",
     "name": "stdout",
     "text": [
      "0\n3\n"
     ]
    }
   ],
   "source": [
    "for i in range(0, 6, 3):\n",
    "    print(i)"
   ]
  },
  {
   "source": [
    "# Desplazamiento bianrio"
   ],
   "cell_type": "markdown",
   "metadata": {}
  },
  {
   "cell_type": "code",
   "execution_count": 8,
   "metadata": {},
   "outputs": [
    {
     "output_type": "stream",
     "name": "stdout",
     "text": [
      "17 68 8\n"
     ]
    }
   ],
   "source": [
    "var = 17\n",
    "var_right = var >> 1\n",
    "var_left = var << 2\n",
    "print(var, var_left, var_right)"
   ]
  },
  {
   "cell_type": "code",
   "execution_count": 4,
   "metadata": {},
   "outputs": [
    {
     "output_type": "stream",
     "name": "stdout",
     "text": [
      "[10, 5, 7, 2, 1]\n[111, 5, 7, 2, 1]\n[111, 1, 7, 2, 1]\n"
     ]
    }
   ],
   "source": [
    "numbers = [10,5,7,2,1]\n",
    "print(numbers)\n",
    "numbers[0] = 111\n",
    "print(numbers)\n",
    "numbers[1] = numbers[4]\n",
    "print(numbers)"
   ]
  },
  {
   "cell_type": "code",
   "execution_count": 9,
   "metadata": {},
   "outputs": [
    {
     "output_type": "stream",
     "name": "stdout",
     "text": [
      "111\n[111, 7, 2, 1]\n4\n3\n"
     ]
    }
   ],
   "source": [
    "print(numbers[0])\n",
    "print(numbers)\n",
    "print(len(numbers))\n",
    "del numbers[1]\n",
    "print(len(numbers))"
   ]
  },
  {
   "cell_type": "code",
   "execution_count": 13,
   "metadata": {},
   "outputs": [
    {
     "output_type": "error",
     "ename": "IndexError",
     "evalue": "list index out of range",
     "traceback": [
      "\u001b[1;31m---------------------------------------------------------------------------\u001b[0m",
      "\u001b[1;31mIndexError\u001b[0m                                Traceback (most recent call last)",
      "\u001b[1;32m<ipython-input-13-2bf22a7ef94b>\u001b[0m in \u001b[0;36m<module>\u001b[1;34m\u001b[0m\n\u001b[1;32m----> 1\u001b[1;33m \u001b[0mprint\u001b[0m\u001b[1;33m(\u001b[0m\u001b[0mnumbers\u001b[0m\u001b[1;33m[\u001b[0m\u001b[1;33m-\u001b[0m\u001b[1;36m4\u001b[0m\u001b[1;33m]\u001b[0m\u001b[1;33m)\u001b[0m\u001b[1;33m\u001b[0m\u001b[1;33m\u001b[0m\u001b[0m\n\u001b[0m",
      "\u001b[1;31mIndexError\u001b[0m: list index out of range"
     ]
    }
   ],
   "source": [
    "print(numbers[-3])"
   ]
  },
  {
   "source": [
    "# El ordenamiento de la burbuja"
   ],
   "cell_type": "markdown",
   "metadata": {}
  },
  {
   "cell_type": "code",
   "execution_count": 12,
   "metadata": {},
   "outputs": [
    {
     "output_type": "stream",
     "name": "stdout",
     "text": [
      "[2, 4, 6, 8, 10]\n"
     ]
    }
   ],
   "source": [
    "my_list = [8,10,6,2,4]\n",
    "swapped = True\n",
    "while swapped:\n",
    "    swapped = False\n",
    "    for i in range(len(my_list)-1):\n",
    "        if my_list[i] > my_list[i+1]:\n",
    "            swapped = True\n",
    "            my_list[i], my_list[i+1] = my_list[i+1], my_list[i]\n",
    "\n",
    "print(my_list)"
   ]
  },
  {
   "cell_type": "code",
   "execution_count": 17,
   "metadata": {},
   "outputs": [
    {
     "output_type": "stream",
     "name": "stdout",
     "text": [
      "[10, 8, 6, 4, 2]\n"
     ]
    }
   ],
   "source": [
    "my_list = [8,10,6,2,4]\n",
    "my_list.sort()\n",
    "my_list.reverse()\n",
    "print(my_list)"
   ]
  },
  {
   "source": [
    "# Como se comportan las listas internamente"
   ],
   "cell_type": "markdown",
   "metadata": {}
  },
  {
   "cell_type": "code",
   "execution_count": 18,
   "metadata": {},
   "outputs": [
    {
     "output_type": "stream",
     "name": "stdout",
     "text": [
      "[2]\n"
     ]
    }
   ],
   "source": [
    "list_1 = [1]\n",
    "list_2 = list_1\n",
    "list_1[0] = 2\n",
    "print(list_2)"
   ]
  },
  {
   "cell_type": "code",
   "execution_count": 19,
   "metadata": {},
   "outputs": [
    {
     "output_type": "stream",
     "name": "stdout",
     "text": [
      "[1]\n"
     ]
    }
   ],
   "source": [
    "lista_1 = [1]\n",
    "lista_2 = lista_1[:]\n",
    "lista_1[0] = 2\n",
    "print(lista_2)"
   ]
  },
  {
   "source": [
    "## Copiando alguna parte de la lista"
   ],
   "cell_type": "markdown",
   "metadata": {}
  },
  {
   "cell_type": "code",
   "execution_count": 1,
   "metadata": {},
   "outputs": [
    {
     "output_type": "stream",
     "name": "stdout",
     "text": [
      "[8, 6]\n"
     ]
    }
   ],
   "source": [
    "my_list = [10,8,6,4,2]\n",
    "nueva_lista = my_list[1:3]\n",
    "print(nueva_lista)"
   ]
  },
  {
   "cell_type": "code",
   "execution_count": 7,
   "metadata": {},
   "outputs": [
    {
     "output_type": "stream",
     "name": "stdout",
     "text": [
      "[4]\n"
     ]
    }
   ],
   "source": [
    "my_list = [10,8,6,4,2]\n",
    "nueva_lista = my_list[-2:-1]\n",
    "print(nueva_lista)"
   ]
  },
  {
   "cell_type": "code",
   "execution_count": 10,
   "metadata": {},
   "outputs": [
    {
     "output_type": "stream",
     "name": "stdout",
     "text": [
      "[4, 2]\n"
     ]
    }
   ],
   "source": [
    "my_list = [10, 8, 6, 4, 2]\n",
    "new_list = my_list[:]\n",
    "print(new_list)"
   ]
  },
  {
   "cell_type": "code",
   "execution_count": 11,
   "metadata": {},
   "outputs": [
    {
     "output_type": "stream",
     "name": "stdout",
     "text": [
      "[]\n"
     ]
    }
   ],
   "source": [
    "del my_list[:]\n",
    "print(my_list)"
   ]
  },
  {
   "cell_type": "code",
   "execution_count": 12,
   "metadata": {},
   "outputs": [
    {
     "output_type": "stream",
     "name": "stdout",
     "text": [
      "False\nTrue\nTrue\n"
     ]
    }
   ],
   "source": [
    "my_list = [0, 3, 12, 8, 2]\n",
    "\n",
    "print(5 in my_list)\n",
    "print(5 not in my_list)\n",
    "print(12 in my_list)"
   ]
  },
  {
   "cell_type": "code",
   "execution_count": 13,
   "metadata": {},
   "outputs": [
    {
     "output_type": "stream",
     "name": "stdout",
     "text": [
      "17\n"
     ]
    }
   ],
   "source": [
    "my_list = [17, 3, 11, 5, 1, 9, 7, 15, 13]\n",
    "largest = my_list[0]\n",
    "\n",
    "for i in range(1, len(my_list)):\n",
    "    if my_list[i] > largest:\n",
    "        largest = my_list[i]\n",
    "print(largest)"
   ]
  },
  {
   "cell_type": "code",
   "execution_count": 14,
   "metadata": {},
   "outputs": [
    {
     "output_type": "stream",
     "name": "stdout",
     "text": [
      "17\n"
     ]
    }
   ],
   "source": [
    "my_list = [17, 3, 11, 5, 1, 9, 7, 15, 13]\n",
    "largest = my_list[0]\n",
    "\n",
    "for i in my_list[1:]:\n",
    "    if i > largest:\n",
    "        largest = i\n",
    "\n",
    "print(largest)"
   ]
  },
  {
   "cell_type": "code",
   "execution_count": 15,
   "metadata": {},
   "outputs": [
    {
     "output_type": "stream",
     "name": "stdout",
     "text": [
      "17\n"
     ]
    }
   ],
   "source": [
    "largest = max(my_list)\n",
    "print(largest)"
   ]
  },
  {
   "cell_type": "code",
   "execution_count": null,
   "metadata": {},
   "outputs": [],
   "source": [
    "my_list = [1, 2, 3, 4, 5, 6, 7, 8, 9, 10]\n",
    "to_find = 5\n",
    "found = False\n",
    "\n",
    "for i in range(len(my_list)):\n",
    "    found = my_list[i] == to_find\n",
    "    if found:\n",
    "        break\n",
    "\n",
    "if found:\n",
    "    print(\"Element found at index\", i)\n",
    "else:\n",
    "    print(\"absent\")"
   ]
  },
  {
   "cell_type": "code",
   "execution_count": 16,
   "metadata": {},
   "outputs": [
    {
     "output_type": "stream",
     "name": "stdout",
     "text": [
      "4\n"
     ]
    }
   ],
   "source": [
    "drawn = [5, 11, 9, 42, 3, 49]\n",
    "bets = [3, 7, 11, 42, 34, 49]\n",
    "hits = 0\n",
    "\n",
    "for number in bets:\n",
    "    if number in drawn:\n",
    "        hits += 1\n",
    "\n",
    "print(hits)"
   ]
  },
  {
   "source": [
    "## Laboratorio"
   ],
   "cell_type": "markdown",
   "metadata": {}
  },
  {
   "cell_type": "code",
   "execution_count": 17,
   "metadata": {},
   "outputs": [
    {
     "output_type": "stream",
     "name": "stdout",
     "text": [
      "[1, 2, 4, 6, 9]\n"
     ]
    }
   ],
   "source": [
    "my_list = [1, 2, 4, 4, 1, 4, 2, 6, 2, 9]\n",
    "my_list2 = []\n",
    "#\n",
    "# Write your code here.\n",
    "for num in my_list:\n",
    "    if num not in my_list2:\n",
    "        my_list2.append(num)\n",
    "print(my_list2)        "
   ]
  },
  {
   "source": [
    "# Tablero de Ajedrez"
   ],
   "cell_type": "markdown",
   "metadata": {}
  },
  {
   "cell_type": "code",
   "execution_count": 28,
   "metadata": {},
   "outputs": [
    {
     "output_type": "execute_result",
     "data": {
      "text/plain": [
       "[['ROCK', '-', '-', '-', '-', '-', '-', 'ROCK'],\n",
       " ['-', '-', '-', '-', '-', '-', '-', '-'],\n",
       " ['-', '-', '-', '-', '-', '-', '-', '-'],\n",
       " ['-', '-', '-', '-', 'PAWN', '-', '-', '-'],\n",
       " ['-', '-', 'KNIGHT', '-', '-', '-', '-', '-'],\n",
       " ['-', '-', '-', '-', '-', '-', '-', '-'],\n",
       " ['-', '-', '-', '-', '-', '-', '-', '-'],\n",
       " ['ROCK', '-', '-', '-', '-', '-', '-', 'ROCK']]"
      ]
     },
     "metadata": {},
     "execution_count": 28
    }
   ],
   "source": [
    "board = []\n",
    "EMPTY = \"-\"\n",
    "ROOK = \"ROCK\"\n",
    "KNIGHT = \"KNIGHT\"\n",
    "PAWN = \"PAWN\"\n",
    "\n",
    "for i in range(8):\n",
    "    row =  [EMPTY for i in range(8)]\n",
    "    board.append(row)\n",
    "\n",
    "board[0][0]=ROOK\n",
    "board[0][7]=ROOK\n",
    "board[7][0]=ROOK\n",
    "board[7][7]=ROOK\n",
    "\n",
    "board[4][2]=KNIGHT\n",
    "\n",
    "board[3][4]=PAWN\n",
    "\n",
    "board"
   ]
  },
  {
   "cell_type": "code",
   "execution_count": 55,
   "metadata": {},
   "outputs": [
    {
     "output_type": "stream",
     "name": "stdout",
     "text": [
      "[[20.7, 17.8, 22.0, 23.4, 34.4, 37.4, 15.0, 18.0, 18.8, 25.1, 27.9, 29.8, 15.1, 18.9, 30.0, 15.6, 18.6, 18.6, 39.6, 33.9, 36.0, 24.7, 21.4, 16.2], [23.5, 39.3, 15.7, 18.3, 16.1, 24.0, 20.2, 21.3, 27.8, 24.3, 37.1, 28.5, 20.4, 37.9, 39.5, 24.1, 37.4, 26.9, 28.6, 15.8, 25.5, 27.1, 19.2, 24.3], [36.8, 25.9, 21.0, 25.5, 36.8, 40.0, 29.3, 19.2, 27.1, 18.5, 31.8, 27.1, 20.7, 29.6, 34.9, 30.4, 33.6, 29.1, 16.5, 38.8, 23.3, 33.3, 37.4, 16.1], [31.8, 18.5, 23.1, 22.0, 29.9, 38.2, 17.1, 23.0, 38.4, 37.2, 25.7, 34.7, 32.5, 15.5, 15.5, 29.2, 21.3, 33.1, 17.3, 38.0, 20.1, 15.2, 25.8, 27.1], [24.9, 33.4, 15.9, 37.6, 23.3, 26.2, 36.4, 33.3, 37.4, 19.9, 18.1, 36.5, 22.1, 32.6, 16.3, 35.7, 18.5, 22.5, 21.2, 29.3, 35.5, 20.5, 19.8, 28.0], [36.1, 25.7, 25.9, 19.8, 22.7, 33.5, 27.3, 29.2, 31.9, 39.3, 24.2, 27.9, 28.9, 28.3, 33.4, 31.2, 35.2, 19.4, 20.0, 34.7, 24.6, 25.8, 19.6, 35.5], [35.3, 39.4, 23.5, 22.3, 27.1, 21.0, 29.3, 32.6, 37.0, 32.8, 40.0, 25.2, 39.0, 34.7, 33.5, 24.5, 16.0, 27.2, 20.4, 25.3, 20.8, 25.9, 34.1, 29.1], [34.8, 19.0, 33.0, 28.4, 36.6, 24.0, 23.1, 22.6, 19.3, 28.0, 19.2, 35.6, 34.8, 37.1, 19.2, 39.7, 23.6, 35.4, 23.9, 21.6, 21.1, 19.0, 22.1, 29.2], [16.0, 18.2, 31.5, 39.0, 32.8, 17.0, 35.1, 38.5, 35.9, 17.9, 37.3, 23.9, 22.7, 19.0, 19.6, 34.7, 16.2, 16.7, 34.8, 23.1, 39.5, 28.6, 17.6, 32.8], [25.2, 21.7, 23.5, 16.3, 17.7, 18.3, 32.0, 34.5, 31.2, 27.5, 16.5, 35.2, 32.8, 32.9, 32.8, 28.7, 35.1, 30.8, 31.9, 22.0, 38.7, 18.3, 32.0, 24.7], [34.3, 32.3, 16.2, 25.4, 32.0, 39.8, 17.4, 34.6, 33.0, 34.4, 26.0, 38.9, 32.6, 21.2, 31.8, 28.3, 39.9, 15.9, 17.8, 26.5, 31.3, 21.1, 33.4, 19.0], [34.4, 32.5, 23.9, 17.9, 18.5, 33.9, 38.7, 25.9, 15.9, 30.4, 24.5, 20.7, 39.3, 36.1, 32.4, 17.7, 21.3, 33.1, 39.9, 25.9, 15.4, 15.7, 16.5, 34.6], [36.4, 28.7, 16.4, 15.1, 17.7, 39.6, 26.1, 27.4, 26.1, 15.6, 36.8, 27.1, 36.8, 17.8, 20.8, 18.8, 29.7, 35.9, 30.6, 38.2, 21.9, 28.4, 16.8, 39.2], [24.7, 38.5, 27.8, 29.6, 27.1, 25.5, 24.8, 35.9, 34.6, 19.9, 23.7, 24.1, 22.6, 27.6, 38.0, 30.4, 25.3, 17.6, 36.5, 28.8, 35.5, 25.6, 31.4, 19.0], [39.1, 37.2, 39.7, 17.7, 34.2, 24.7, 22.4, 39.8, 36.8, 25.7, 22.9, 23.3, 39.1, 22.3, 34.0, 18.1, 15.7, 21.7, 31.9, 17.6, 31.5, 18.0, 33.7, 24.1], [39.3, 20.1, 30.0, 16.7, 17.0, 32.1, 35.8, 19.3, 19.7, 29.1, 32.0, 17.8, 30.2, 26.9, 17.6, 33.5, 28.2, 26.3, 31.4, 29.3, 33.5, 27.1, 16.9, 31.8], [15.1, 21.9, 30.5, 33.3, 35.8, 38.2, 35.1, 19.2, 19.4, 36.6, 36.6, 35.1, 28.8, 25.5, 29.1, 27.3, 27.8, 20.1, 26.3, 28.9, 38.8, 22.6, 15.6, 38.0], [36.9, 32.7, 16.5, 32.6, 24.2, 21.9, 28.1, 33.5, 32.6, 22.4, 38.4, 31.9, 38.8, 31.1, 35.4, 15.5, 21.3, 37.3, 15.4, 34.6, 33.2, 32.0, 28.9, 32.9], [21.9, 35.0, 23.3, 19.3, 34.6, 23.4, 26.7, 16.7, 24.8, 21.7, 27.1, 19.8, 17.6, 23.6, 32.7, 20.6, 40.0, 39.6, 25.2, 27.2, 27.1, 15.9, 33.9, 35.7], [34.0, 33.8, 32.4, 27.7, 35.4, 26.4, 17.3, 19.7, 27.1, 19.4, 21.4, 16.0, 20.8, 20.9, 18.6, 27.4, 37.6, 32.7, 21.7, 16.7, 24.7, 31.6, 35.9, 31.6], [20.9, 18.6, 15.6, 15.9, 39.0, 22.7, 19.5, 21.2, 18.9, 26.0, 29.2, 24.4, 27.0, 30.3, 36.4, 19.6, 29.2, 31.0, 31.2, 21.6, 38.7, 21.6, 15.9, 21.4], [26.6, 20.3, 33.5, 17.0, 30.7, 22.1, 18.2, 27.8, 31.5, 26.3, 20.4, 18.1, 23.6, 21.9, 15.8, 15.5, 38.9, 22.3, 35.1, 24.8, 18.9, 29.3, 35.3, 28.6], [21.6, 26.0, 35.6, 35.2, 31.8, 32.0, 27.3, 30.7, 27.6, 21.8, 24.9, 18.7, 20.2, 21.7, 29.6, 22.9, 31.7, 19.0, 28.0, 22.9, 20.5, 16.2, 26.9, 36.5], [23.4, 22.2, 36.5, 33.8, 20.9, 28.0, 30.3, 19.0, 17.4, 33.8, 35.5, 16.8, 25.1, 19.5, 33.3, 38.1, 21.1, 19.8, 33.4, 23.2, 16.8, 20.0, 25.5, 17.5], [32.8, 20.1, 27.4, 35.9, 22.7, 39.4, 22.7, 15.5, 36.0, 23.7, 33.9, 18.6, 19.9, 30.5, 27.7, 23.1, 18.8, 17.9, 26.2, 38.1, 28.6, 16.3, 31.6, 27.1], [21.7, 38.6, 20.7, 33.3, 15.6, 23.9, 26.0, 32.8, 23.8, 28.9, 28.8, 24.6, 15.7, 22.0, 25.0, 19.4, 33.8, 16.2, 30.4, 32.6, 21.0, 32.5, 29.8, 37.7], [15.0, 31.3, 36.4, 16.8, 28.2, 35.6, 35.2, 30.0, 26.8, 34.9, 29.9, 22.4, 27.4, 19.1, 21.1, 27.8, 30.2, 17.7, 37.8, 34.5, 20.1, 35.2, 18.1, 32.7], [35.5, 27.0, 16.2, 18.9, 26.5, 16.8, 18.9, 37.6, 25.0, 30.6, 19.1, 34.9, 24.6, 25.9, 34.6, 35.3, 31.1, 24.4, 16.3, 33.0, 36.3, 22.1, 29.6, 30.9], [29.1, 36.9, 23.1, 31.9, 39.5, 31.5, 20.3, 26.4, 33.8, 24.4, 17.9, 35.4, 33.6, 34.0, 30.4, 20.1, 24.6, 37.9, 31.3, 27.3, 29.6, 35.2, 20.4, 36.2], [27.6, 16.6, 28.4, 25.6, 35.7, 38.2, 17.4, 35.3, 24.0, 26.8, 31.7, 15.9, 18.7, 30.4, 24.7, 20.3, 29.7, 29.6, 18.4, 32.4, 39.6, 21.0, 32.1, 36.1], [19.3, 37.5, 34.7, 35.2, 28.9, 32.0, 26.0, 24.7, 23.9, 33.8, 33.7, 35.6, 36.8, 19.4, 21.4, 36.1, 38.2, 16.5, 34.8, 23.4, 21.6, 30.3, 24.7, 28.1]]\n"
     ]
    }
   ],
   "source": [
    "import random\n",
    "temps=[]\n",
    "for i in range(31):\n",
    "    row = [round(random.uniform(15.0,40.0),1) for h in range(24)]\n",
    "    temps.append(row)\n",
    "print(temps)"
   ]
  },
  {
   "cell_type": "code",
   "execution_count": 101,
   "metadata": {},
   "outputs": [
    {
     "output_type": "stream",
     "name": "stdout",
     "text": [
      "temperatura promedio al medio día:  26.6\ndias con temperatura mayor a 20° al medio día:  23\nmaxima temperatura del mes:  40.0\n"
     ]
    }
   ],
   "source": [
    "temp12 = 0\n",
    "days20 = 0\n",
    "for i in range(31):\n",
    "    temp12 += temps[i][11]\n",
    "    if temps[i][11] > 20:\n",
    "        days20 += 1\n",
    "print(\"temperatura promedio al medio día: \", round(temp12/len(temps),1))\n",
    "print(\"dias con temperatura mayor a 20° al medio día: \", days20)\n",
    "max_temp = 0\n",
    "for i in range(31):\n",
    "    for j in range(24):\n",
    "        if temps[i][j] > max_temp:\n",
    "            max_temp = temps[i][j] \n",
    "print(\"maxima temperatura del mes: \", max_temp)"
   ]
  },
  {
   "source": [
    "# Matrices tridimencionales"
   ],
   "cell_type": "markdown",
   "metadata": {}
  },
  {
   "cell_type": "code",
   "execution_count": 107,
   "metadata": {},
   "outputs": [
    {
     "output_type": "stream",
     "name": "stdout",
     "text": [
      "[[[True, False, False, True, True, True, True, True, True, True, True, True, False, False, True, False, True, False, True, False], [False, True, True, True, False, False, True, True, True, True, False, True, False, False, False, True, False, False, False, True], [True, True, True, False, True, True, False, True, True, True, True, True, True, False, True, True, True, True, True, False], [False, True, True, True, True, False, False, True, True, False, False, True, False, False, False, False, True, False, True, False], [True, False, True, True, True, False, False, True, False, True, False, True, False, True, False, True, False, False, True, False], [True, True, False, True, False, True, False, True, True, False, True, True, False, True, False, False, False, False, True, False], [False, True, False, True, True, True, False, False, False, False, True, False, True, False, False, True, True, True, False, True], [True, False, True, False, False, False, True, True, False, True, False, False, False, True, False, False, True, True, True, False], [False, False, False, False, False, True, False, False, True, True, False, False, True, False, False, False, True, False, False, False], [True, True, True, False, False, True, True, True, False, False, True, False, False, True, True, True, True, False, False, False], [True, True, False, True, False, False, False, False, True, False, False, True, True, True, True, True, True, False, True, False], [True, False, True, True, True, False, True, True, False, True, True, False, False, False, False, True, False, True, False, False], [False, True, False, True, False, False, False, False, False, True, False, False, True, False, True, True, True, True, True, False], [True, False, False, True, False, False, True, True, True, True, True, True, True, False, False, False, False, False, False, True], [True, False, True, True, False, True, False, False, True, False, True, False, False, False, True, False, False, True, True, True]], [[True, True, False, False, False, True, True, True, True, False, False, True, True, True, True, True, True, False, False, False], [False, True, True, True, True, True, True, False, False, True, False, False, True, False, True, True, False, True, False, False], [False, True, False, True, True, True, False, True, False, False, False, False, False, False, True, True, False, False, True, False], [False, False, False, True, False, False, True, True, False, True, False, True, True, True, False, True, True, True, True, True], [True, True, True, False, False, True, False, True, False, True, True, False, True, True, True, True, False, True, False, False], [False, True, False, False, False, True, True, False, False, True, True, True, True, False, False, False, False, False, False, False], [False, True, False, False, False, True, False, False, False, True, True, False, False, False, True, True, True, False, False, True], [False, False, False, False, False, False, True, True, True, True, False, True, False, False, False, False, False, True, False, False], [True, True, True, False, True, False, True, False, False, False, False, True, True, True, False, True, False, True, False, True], [False, False, True, True, True, True, True, False, True, True, True, False, True, False, True, True, True, False, True, True], [False, False, False, False, False, False, True, False, True, False, True, True, True, True, True, False, True, False, True, True], [True, False, False, True, True, True, False, False, True, False, False, False, False, False, False, True, False, True, True, True], [True, True, False, False, False, True, True, False, False, True, True, True, False, False, False, False, True, False, True, False], [False, False, True, True, False, False, False, True, True, True, True, False, False, True, False, True, False, False, False, False], [False, True, True, False, False, False, True, True, True, False, True, True, False, True, False, False, True, True, False, False]], [[True, True, False, True, True, False, False, False, True, False, False, True, False, True, True, False, False, True, False, True], [False, True, True, False, True, False, False, False, False, False, False, True, True, True, False, True, True, True, False, False], [True, True, False, True, True, True, False, False, True, False, True, True, True, True, True, False, False, True, True, True], [False, False, False, True, False, True, True, False, True, False, True, False, True, True, False, False, True, True, False, False], [False, True, False, False, False, True, True, False, False, True, False, True, True, False, True, True, True, True, True, False], [False, True, False, True, False, False, True, False, False, False, False, True, False, False, True, True, True, False, True, True], [False, False, False, False, False, False, False, False, True, False, False, False, False, True, False, True, False, True, False, False], [False, False, True, False, True, True, False, True, True, False, True, False, True, True, True, True, True, True, False, False], [True, False, False, False, False, True, False, True, False, False, True, True, True, True, True, False, False, True, False, False], [False, False, False, False, False, False, True, False, True, True, False, True, False, True, False, False, True, True, True, True], [False, True, False, False, True, False, False, True, False, False, True, True, False, True, True, False, False, True, False, True], [True, True, True, False, True, False, False, True, True, False, False, True, True, True, False, True, False, True, True, True], [True, False, False, False, False, False, True, False, False, True, False, False, False, True, True, True, True, False, True, True], [False, False, True, False, False, True, False, True, True, False, False, True, True, True, False, False, True, False, False, True], [False, False, False, False, True, False, False, True, True, True, False, False, True, False, True, False, False, True, True, True]]]\n"
     ]
    }
   ],
   "source": [
    "rooms = [[[random.choice([True,False]) for r in range(20)] for f in range(15)] for t in range(3)]\n",
    "\n",
    "print(rooms)"
   ]
  },
  {
   "cell_type": "code",
   "execution_count": 108,
   "metadata": {},
   "outputs": [],
   "source": [
    "rooms[1][9][13]=True\n"
   ]
  },
  {
   "cell_type": "code",
   "execution_count": 111,
   "metadata": {},
   "outputs": [
    {
     "output_type": "stream",
     "name": "stdout",
     "text": [
      "11\n"
     ]
    }
   ],
   "source": [
    "vacantes = 0\n",
    "for habitacion in range(20):\n",
    "    if not rooms[2][14][habitacion]:\n",
    "        vacantes += 1 \n",
    "\n",
    "print(vacantes)\n"
   ]
  }
 ]
}