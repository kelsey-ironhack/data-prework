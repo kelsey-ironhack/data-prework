stops = [(10, 0), (4, 1), (3, 5), (3, 4), (5, 1), (1, 5), (5, 8), (4, 6), (2, 3)]
num_stops = len(stops)
print("The number of stops is: %i" % num_stops)

occupation = 0
occupation_list = []

for stop in stops:
	occupation += stop[0] - stop[1]
	occupation_list.append(occupation)

print(occupation_list)

max_occupation = max(occupation_list)
print("The maximum occupation is: %i" % max_occupation)


average_occupation = sum(occupation_list)/len(occupation_list)
print("The average occupation is: %f" % average_occupation)

sq_deviation = sum((o - average_occupation) ** 2 for o in occupation_list)
print("The square deviation is: %f" % sq_deviation)

std_deviation = sq_deviation ** 0.5
print("The standard deviation is: %f" % std_deviation)






