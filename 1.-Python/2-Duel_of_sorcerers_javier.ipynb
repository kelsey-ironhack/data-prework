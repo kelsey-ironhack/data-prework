#FIRST ATTEMPT
gandalf = [10, 11, 13, 30, 22, 11, 10, 33, 22, 22]
saruman = [23, 66, 12, 43, 12, 10, 44, 23, 12, 17]

spells = len(gandalf)
clashes = zip(gandalf, saruman)
clashes_list = list(clashes)
print(clashes_list)

results_gandalf = []
results_saruman = []
for i, j in clashes_list:
    results_gandalf.append(i > j)
    results_saruman.append(i < j)

print(results_gandalf)
print(results_saruman)
print(sum(results_gandalf))
print(sum(results_saruman))

gandalf_wins = sum(results_gandalf)
saruman_wins = sum(results_saruman)

print("Gandalf wins: %i" % gandalf_wins)
print("Saruman wins: %i" % saruman_wins)

if gandalf_wins > saruman_wins:
	print("Gandalf wins duel!")
elif gandalf_wins < saruman_wins:
	print("Saruman wins duel!")
else:
	print("Tie")

#BONUS

POWER = {'Fireball': 50, 'Lightning bolt': 40, 'Magic arrow': 10, 'Black Tentacles': 25, 'Contagion': 45}
gandalf = ['Fireball', 'Lightning bolt', 'Lightning bolt', 'Magic arrow', 'Fireball', 
           'Magic arrow', 'Lightning bolt', 'Fireball', 'Fireball', 'Fireball']
saruman = ['Contagion', 'Contagion', 'Black Tentacles', 'Fireball', 'Black Tentacles', 
           'Lightning bolt', 'Magic arrow', 'Contagion', 'Magic arrow', 'Magic arrow']

gandalf_wins = 0
saruman = 0

gandalf_power = []
saruman_power = []

for power in gandalf:
	POWER[power]

print(gandalf_power)