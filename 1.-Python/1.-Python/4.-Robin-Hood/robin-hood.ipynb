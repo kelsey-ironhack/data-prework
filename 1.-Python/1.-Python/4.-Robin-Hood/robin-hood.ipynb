{
 "cells": [
  {
   "cell_type": "markdown",
   "metadata": {},
   "source": [
    "<img src=\"https://bit.ly/2VnXWr2\" width=\"100\" align=\"left\"/>"
   ]
  },
  {
   "cell_type": "markdown",
   "metadata": {},
   "source": [
    "# Robin Hood\n",
    "Robin Hood has entered a competition to win the archery contest in Sherwood. With his bow and arrows, he needs to shoot on a target and try to hit as close as possible to the center.\n",
    "\n",
    "![](images/arrows.jpg)\n",
    "\n",
    "## Context\n",
    "In this challenge, the landing position of arrows shot by archers in the competition will be represented using 2-dimensional coordinates. \n",
    "\n",
    "In the 2-dimensional space, a point can be defined by a pair of values that correspond to the horizontal coordinate (x) and the vertical coordinate (y). For example, in our case, an arrow that hits the center of the archery target will land in position (0, 0) on the coordinate axes. \n",
    "\n",
    "The space can be divided into 4 zones (quadrants): Q1, Q2, Q3, Q4. If a point is in Q1, both its x coordinate and y coordinate are positive. Any point with a null x or y coordinate is considered to not belong to any quadrant. \n",
    "\n",
    "If you want to know more about the cartesian coordinate system, you can check this [link](https://en.wikipedia.org/wiki/Cartesian_coordinate_system). \n",
    "\n",
    "## Tools\n",
    "You don't necessarily need to use all the tools. Maybe you opt to use some of them or completely different ones, they are given to help you shape the exercise. Programming exercises can be solved in many different ways.\n",
    "* Data structures: **lists, sets, tuples**\n",
    "* Conditional statements: **if-elif-else**\n",
    "* Loop: **while/for**\n",
    "* Minimum (optional sorting)\n",
    "\n",
    "## Tasks\n",
    "Robin Hood has hit the following points:"
   ]
  },
  {
   "cell_type": "code",
   "execution_count": 108,
   "metadata": {},
   "outputs": [
    {
     "name": "stdout",
     "output_type": "stream",
     "text": [
      "[(4, 5), (0, 2), (4, 7), (1, -3), (3, -2), (4, 5), (3, 2), (5, 7), (-5, 7), (2, 2), (-4, 5), (0, -2), (-4, 7), (-1, 3), (-3, 2), (-4, -5), (-3, 2), (5, 7), (5, 7), (2, 2), (9, 9), (-8, -9)]\n",
      "22\n"
     ]
    },
    {
     "data": {
      "text/plain": [
       "set"
      ]
     },
     "execution_count": 108,
     "metadata": {},
     "output_type": "execute_result"
    }
   ],
   "source": [
    "points = [(4, 5), (-0, 2), (4, 7), (1, -3), (3, -2), (4, 5), (3, 2), (5, 7), (-5, 7), (2, 2), (-4, 5), (0, -2),\n",
    "          (-4, 7), (-1, 3), (-3, 2), (-4, -5), (-3, 2), (5, 7), (5, 7), (2, 2), (9, 9), (-8, -9)]\n",
    "print(points)\n",
    "point=[4,6]\n",
    "print(len(points))\n",
    "\n",
    "set"
   ]
  },
  {
   "cell_type": "markdown",
   "metadata": {},
   "source": [
    "#### 1. Robin Hood is famous for hitting an arrow with another arrow. Find the coordinates of the points where an arrow hits another arrow."
   ]
  },
  {
   "cell_type": "code",
   "execution_count": 109,
   "metadata": {},
   "outputs": [
    {
     "name": "stdout",
     "output_type": "stream",
     "text": [
      "points\n",
      "[(4, 5), (0, 2), (4, 7), (1, -3), (3, -2), (4, 5), (3, 2), (5, 7), (-5, 7), (2, 2), (-4, 5), (0, -2), (-4, 7), (-1, 3), (-3, 2), (-4, -5), (-3, 2), (5, 7), (5, 7), (2, 2), (9, 9), (-8, -9)]\n",
      "22\n",
      "uniques\n",
      "{(-4, 5), (4, 7), (3, 2), (4, 5), (-1, 3), (5, 7), (9, 9), (3, -2), (-5, 7), (-3, 2), (0, -2), (-4, -5), (2, 2), (-8, -9), (1, -3), (-4, 7), (0, 2)}\n",
      "17\n",
      "uniques_2\n",
      "[]\n",
      "0\n",
      "duplicates\n",
      "[(4, 5), (0, 2), (4, 7), (1, -3), (3, -2), (4, 5), (3, 2), (5, 7), (-5, 7), (2, 2), (-4, 5), (0, -2), (-4, 7), (-1, 3), (-3, 2), (-4, -5), (-3, 2), (5, 7), (5, 7), (2, 2), (9, 9), (-8, -9)]\n",
      "22\n",
      "duplicates\n",
      "[(4, 5), (-3, 2), (5, 7), (2, 2), (5, 7)]\n",
      "5\n"
     ]
    }
   ],
   "source": [
    "uniques=set(points)\n",
    "\n",
    "uniques_2=[]\n",
    "duplicates=[]\n",
    "\n",
    "for i in points:\n",
    "    if i not in uniques: \n",
    "        uniques_2.add(i)\n",
    "    else:\n",
    "        duplicates.append(i)\n",
    "            \n",
    "print(\"points\")            \n",
    "print(points)\n",
    "print(len(points))\n",
    "\n",
    "print(\"uniques\")\n",
    "print(uniques)\n",
    "print(len(uniques))\n",
    "\n",
    "print(\"uniques_2\")\n",
    "print(uniques_2)\n",
    "print(len(uniques_2))\n",
    "\n",
    "print(\"duplicates\")\n",
    "print(duplicates)\n",
    "print(len(duplicates))\n",
    "\n",
    "duplicados=[(4,5),(-3,2),(5,7),(2,2),(5,7)]\n",
    "print(\"duplicates\")\n",
    "print(duplicados)\n",
    "print(len(duplicados))        "
   ]
  },
  {
   "cell_type": "markdown",
   "metadata": {},
   "source": [
    "\n",
    "\n",
    "#### 2. Calculate how many arrows have fallen in each quadrant. \n",
    "**Note**: the arrows that fall in the axis (x=0 or y=0) don't belong to any quadrant."
   ]
  },
  {
   "cell_type": "code",
   "execution_count": 87,
   "metadata": {},
   "outputs": [
    {
     "name": "stdout",
     "output_type": "stream",
     "text": [
      "Arrows in Q1: 10 Arrows in Q2: 2 Arrows in Q3: 2 Arrows in Q4: 8\n"
     ]
    }
   ],
   "source": [
    "quad1=0\n",
    "quad2=0\n",
    "quad3=0\n",
    "quad4=0\n",
    "for point in points:\n",
    "    if point[0]>0 and point[1]>0:\n",
    "        quad1+=1\n",
    "    elif point[0]>0 and point[1]<0:\n",
    "        quad2+=1\n",
    "    elif point[0]<0 and point[1]<0:\n",
    "        quad3+=1\n",
    "    else:\n",
    "        quad4+=1\n",
    "        \n",
    "print(\"Arrows in Q1:\",quad1,\"Arrows in Q2:\", quad2, \"Arrows in Q3:\", quad3, \"Arrows in Q4:\", quad4)\n",
    "        \n",
    "\n"
   ]
  },
  {
   "cell_type": "markdown",
   "metadata": {},
   "source": [
    "#### 3. Find the point closest to the center. Calculate its distance to the center. \n",
    "Take into account that there might be more than one point at the minimum distance to the center.\n",
    "\n",
    "**Hint**: Use the Euclidean distance. You can find more information about it [here](https://en.wikipedia.org/wiki/Euclidean_distance).  \n",
    "**Hint**: Defining a function that calculates the distance to the center can help."
   ]
  },
  {
   "cell_type": "code",
   "execution_count": 103,
   "metadata": {},
   "outputs": [
    {
     "name": "stdout",
     "output_type": "stream",
     "text": [
      "La lista de distancias respecto al centro es: [6.4031242374328485, 2.0, 8.06225774829855, 3.1622776601683795, 3.605551275463989, 6.4031242374328485, 3.605551275463989, 8.602325267042627, 8.602325267042627, 2.8284271247461903, 6.4031242374328485, 2.0, 8.06225774829855, 3.1622776601683795, 3.605551275463989, 6.4031242374328485, 3.605551275463989, 8.602325267042627, 8.602325267042627, 2.8284271247461903, 12.727922061357855, 12.041594578792296]\n",
      "La minima distancia al centro es: 2.0\n",
      "La flecha más próxima al centro es: (0, 2)\n"
     ]
    }
   ],
   "source": [
    "import math\n",
    "distance=[]\n",
    "y=0\n",
    "\n",
    "def Hipotenusa(a, b):\n",
    "    return(math.hypot(a,b))\n",
    "\n",
    "for point in points:\n",
    "    distancia=Hipotenusa(point[0],point[1])\n",
    "    distance.append(distancia)\n",
    "\n",
    "print(\"La lista de distancias respecto al centro es:\",distance)\n",
    "print(\"La minima distancia al centro es:\",min(distance))\n",
    "\n",
    "index_min=distance.index(min(distance))\n",
    "\n",
    "#print(index_min)\n",
    "\n",
    "print(\"La flecha más próxima al centro es:\",points[1])\n",
    "\n",
    "\n"
   ]
  },
  {
   "cell_type": "markdown",
   "metadata": {},
   "source": [
    "#### 4. If the archery target has a radius of 9, calculate the number of arrows that won't hit the target. \n",
    "**Hint**: Use the function created in step 3. "
   ]
  },
  {
   "cell_type": "code",
   "execution_count": 107,
   "metadata": {},
   "outputs": [
    {
     "name": "stdout",
     "output_type": "stream",
     "text": [
      "El número de flechas fuera del blanco es: 2\n"
     ]
    }
   ],
   "source": [
    "out_of_target=0\n",
    "\n",
    "for j in distance:\n",
    "    if j>9:\n",
    "        out_of_target+=1\n",
    "        \n",
    "print(\"El número de flechas fuera del blanco es:\", out_of_target)"
   ]
  }
 ],
 "metadata": {
  "kernelspec": {
   "display_name": "Python 3",
   "language": "python",
   "name": "python3"
  },
  "language_info": {
   "codemirror_mode": {
    "name": "ipython",
    "version": 3
   },
   "file_extension": ".py",
   "mimetype": "text/x-python",
   "name": "python",
   "nbconvert_exporter": "python",
   "pygments_lexer": "ipython3",
   "version": "3.7.6"
  }
 },
 "nbformat": 4,
 "nbformat_minor": 2
}
