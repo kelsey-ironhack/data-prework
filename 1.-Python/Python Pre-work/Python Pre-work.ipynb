{
 "cells": [
  {
   "cell_type": "code",
   "execution_count": 11,
   "metadata": {},
   "outputs": [
    {
     "name": "stdout",
     "output_type": "stream",
     "text": [
      "Snail is out of the well in  13 days.\n"
     ]
    }
   ],
   "source": [
    "# snail in a well\n",
    "\n",
    "well_height = 125\n",
    "daily_distance = 30\n",
    "nightly_distance = 20\n",
    "snail_position = 0\n",
    "days = 0\n",
    "\n",
    "while snail_position < 125 :\n",
    "    snail_position += (daily_distance - nightly_distance)\n",
    "    days += 1\n",
    "\n",
    "    if snail_position > well_height :\n",
    "        print(\"Snail is out of the well in \", days, \"days.\")"
   ]
  },
  {
   "cell_type": "code",
   "execution_count": 64,
   "metadata": {},
   "outputs": [
    {
     "name": "stdout",
     "output_type": "stream",
     "text": [
      "Total gandalf wins:  6\n",
      "Total saruman wins:  4\n",
      "Total ties:  0\n"
     ]
    }
   ],
   "source": [
    "# Sorcerers duel\n",
    "\n",
    "gandalf = [10, 11, 13, 30, 22, 11, 10, 33, 22, 22]\n",
    "saruman = [23, 66, 12, 43, 12, 10, 44, 23, 12, 17]\n",
    "spells = 0\n",
    "\n",
    "gandalf_wins = 0\n",
    "saruman_wins = 0\n",
    "tie = 0\n",
    "\n",
    "for i in range(10):\n",
    "    \n",
    "    if gandalf[i]>saruman[i]:\n",
    "        gandalf_wins += 1\n",
    "        spells += 1\n",
    "    elif saruman[i]>gandalf[i]:\n",
    "        saruman_wins += 1\n",
    "        spells += 1\n",
    "    else:\n",
    "        tie = 1\n",
    "        spells += 1\n",
    "\n",
    "print(\"Total gandalf wins: \", gandalf_wins)\n",
    "print(\"Total saruman wins: \", saruman_wins)\n",
    "print(\"Total ties: \", tie)"
   ]
  },
  {
   "cell_type": "code",
   "execution_count": 137,
   "metadata": {},
   "outputs": [
    {
     "name": "stdout",
     "output_type": "stream",
     "text": [
      "For the 0 stop, 10 passengers entered and 0 passengers left the bus and 10 total passengers on bus\n",
      "For the 1 stop, 4 passengers entered and 1 passengers left the bus and 13 total passengers on bus\n",
      "For the 2 stop, 3 passengers entered and 5 passengers left the bus and 11 total passengers on bus\n",
      "For the 3 stop, 3 passengers entered and 4 passengers left the bus and 10 total passengers on bus\n",
      "For the 4 stop, 5 passengers entered and 1 passengers left the bus and 14 total passengers on bus\n",
      "For the 5 stop, 1 passengers entered and 5 passengers left the bus and 10 total passengers on bus\n",
      "For the 6 stop, 5 passengers entered and 8 passengers left the bus and 7 total passengers on bus\n",
      "For the 7 stop, 4 passengers entered and 6 passengers left the bus and 5 total passengers on bus\n",
      "For the 8 stop, 2 passengers entered and 3 passengers left the bus and 4 total passengers on bus\n"
     ]
    }
   ],
   "source": [
    "stops = [(10, 0), (4, 1), (3, 5), (3, 4), (5, 1), (1, 5), (5, 8), (4, 6), (2, 3)]\n",
    "stop_number = len(stops)\n",
    "i=0\n",
    "total = 0\n",
    "\n",
    "while i < stop_number:\n",
    "    for stops in stops:\n",
    "            l = list(stops)\n",
    "            in_i = l[0]\n",
    "            out_i = l[1]\n",
    "            total += l[0]-l[1]\n",
    "            print(\"For the {0} stop, {1} passengers entered and {2} passengers left the bus and {3} total passengers on bus\".format(i, in_i, out_i, total) )\n",
    "            i += 1"
   ]
  },
  {
   "cell_type": "code",
   "execution_count": 146,
   "metadata": {},
   "outputs": [
    {
     "name": "stdout",
     "output_type": "stream",
     "text": [
      "Total passengers currently on bus: 10\n",
      "Total passengers currently on bus: 13\n",
      "Total passengers currently on bus: 11\n",
      "Total passengers currently on bus: 10\n",
      "Total passengers currently on bus: 14\n",
      "Total passengers currently on bus: 10\n",
      "Total passengers currently on bus: 7\n",
      "Total passengers currently on bus: 5\n",
      "Total passengers currently on bus: 4\n"
     ]
    }
   ],
   "source": [
    "# Bus\n",
    "\n",
    "stops = [(10, 0), (4, 1), (3, 5), (3, 4), (5, 1), (1, 5), (5, 8), (4, 6), (2, 3)]\n",
    "stop_number = len(stops)\n",
    "i=0\n",
    "total_passengers = 0\n",
    "\n",
    "while i < stop_number:\n",
    "    for stops in stops:\n",
    "        in_i = list(stops)[0]\n",
    "        out_i = list(stops)[1]\n",
    "        total_passengers += in_i - out_i\n",
    "        print(\"Total passengers currently on bus:\", total_passengers)\n",
    "        i += 1"
   ]
  },
  {
   "cell_type": "code",
   "execution_count": 168,
   "metadata": {},
   "outputs": [
    {
     "name": "stdout",
     "output_type": "stream",
     "text": [
      "Total passengers currently on bus: 10 Max occupancy so far: 10 Average occupancy so far: 10.0\n",
      "Total passengers currently on bus: 13 Max occupancy so far: 13 Average occupancy so far: 11.5\n",
      "Total passengers currently on bus: 11 Max occupancy so far: 13 Average occupancy so far: 11.33\n",
      "Total passengers currently on bus: 10 Max occupancy so far: 13 Average occupancy so far: 11.0\n",
      "Total passengers currently on bus: 14 Max occupancy so far: 14 Average occupancy so far: 11.6\n",
      "Total passengers currently on bus: 10 Max occupancy so far: 14 Average occupancy so far: 11.33\n",
      "Total passengers currently on bus: 7 Max occupancy so far: 14 Average occupancy so far: 10.71\n",
      "Total passengers currently on bus: 5 Max occupancy so far: 14 Average occupancy so far: 10.0\n",
      "Total passengers currently on bus: 4 Max occupancy so far: 14 Average occupancy so far: 9.33\n"
     ]
    }
   ],
   "source": [
    "# Bus\n",
    "\n",
    "stops = [(10, 0), (4, 1), (3, 5), (3, 4), (5, 1), (1, 5), (5, 8), (4, 6), (2, 3)]\n",
    "stop_number = len(stops)\n",
    "i=0\n",
    "total_passengers = 0\n",
    "occupancy = []\n",
    "\n",
    "while i < stop_number:\n",
    "    for stops in stops:\n",
    "        in_i = list(stops)[0]\n",
    "        out_i = list(stops)[1]\n",
    "        total_passengers += in_i - out_i\n",
    "        occupancy.append(total_passengers)\n",
    "        print(\"Total passengers currently on bus:\", total_passengers, \"Max occupancy so far:\", max(occupancy), \"Average occupancy so far:\",round(sum(occupancy)/(i+1),2))\n",
    "        i += 1"
   ]
  },
  {
   "cell_type": "code",
   "execution_count": 3,
   "metadata": {},
   "outputs": [
    {
     "data": {
      "text/plain": [
       "{(4, 5): 2,\n",
       " (0, 2): 1,\n",
       " (4, 7): 1,\n",
       " (1, -3): 1,\n",
       " (3, -2): 1,\n",
       " (3, 2): 1,\n",
       " (5, 7): 3,\n",
       " (-5, 7): 1,\n",
       " (2, 2): 2,\n",
       " (-4, 5): 1,\n",
       " (0, -2): 1,\n",
       " (-4, 7): 1,\n",
       " (-1, 3): 1,\n",
       " (-3, 2): 2,\n",
       " (-4, -5): 1,\n",
       " (9, 9): 1,\n",
       " (-8, -9): 1}"
      ]
     },
     "execution_count": 3,
     "metadata": {},
     "output_type": "execute_result"
    }
   ],
   "source": [
    "# Robin Hood\n",
    "\n",
    "points = [(4, 5), (-0, 2), (4, 7), (1, -3), (3, -2), (4, 5), (3, 2), (5, 7), (-5, 7), (2, 2), (-4, 5), (0, -2),\n",
    "          (-4, 7), (-1, 3), (-3, 2), (-4, -5), (-3, 2), (5, 7), (5, 7), (2, 2), (9, 9), (-8, -9)]\n",
    "i = len(points)\n",
    "\n",
    "dict((i, points.count(i)) for i in points)\n"
   ]
  },
  {
   "cell_type": "code",
   "execution_count": 17,
   "metadata": {},
   "outputs": [
    {
     "data": {
      "text/plain": [
       "[((4, 5), 2),\n",
       " ((0, 2), 1),\n",
       " ((4, 7), 1),\n",
       " ((1, -3), 1),\n",
       " ((3, -2), 1),\n",
       " ((4, 5), 2),\n",
       " ((3, 2), 1),\n",
       " ((5, 7), 3),\n",
       " ((-5, 7), 1),\n",
       " ((2, 2), 2),\n",
       " ((-4, 5), 1),\n",
       " ((0, -2), 1),\n",
       " ((-4, 7), 1),\n",
       " ((-1, 3), 1),\n",
       " ((-3, 2), 2),\n",
       " ((-4, -5), 1),\n",
       " ((-3, 2), 2),\n",
       " ((5, 7), 3),\n",
       " ((5, 7), 3),\n",
       " ((2, 2), 2),\n",
       " ((9, 9), 1),\n",
       " ((-8, -9), 1)]"
      ]
     },
     "execution_count": 17,
     "metadata": {},
     "output_type": "execute_result"
    }
   ],
   "source": [
    "points = [(4, 5), (-0, 2), (4, 7), (1, -3), (3, -2), (4, 5), (3, 2), (5, 7), (-5, 7), (2, 2), (-4, 5), (0, -2),\n",
    "          (-4, 7), (-1, 3), (-3, 2), (-4, -5), (-3, 2), (5, 7), (5, 7), (2, 2), (9, 9), (-8, -9)]\n",
    "\n"
   ]
  },
  {
   "cell_type": "code",
   "execution_count": null,
   "metadata": {},
   "outputs": [],
   "source": []
  }
 ],
 "metadata": {
  "kernelspec": {
   "display_name": "Python 3",
   "language": "python",
   "name": "python3"
  },
  "language_info": {
   "codemirror_mode": {
    "name": "ipython",
    "version": 3
   },
   "file_extension": ".py",
   "mimetype": "text/x-python",
   "name": "python",
   "nbconvert_exporter": "python",
   "pygments_lexer": "ipython3",
   "version": "3.8.3"
  }
 },
 "nbformat": 4,
 "nbformat_minor": 4
}
