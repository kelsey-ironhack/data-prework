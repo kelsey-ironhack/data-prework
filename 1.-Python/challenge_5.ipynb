{
 "cells": [
  {
   "cell_type": "code",
   "execution_count": 59,
   "metadata": {},
   "outputs": [
    {
     "name": "stdout",
     "output_type": "stream",
     "text": [
      "The minimum temperature is 0 degrees\n",
      "The maximum temperature is 90 degrees\n",
      "[70, 76, 80, 81, 80, 83, 90, 79]\n",
      "Average temperature is 60.25 degrees\n",
      "My estimation is the average, 60.25\n",
      "[33, 66, 65, 60, 59, 60, 62, 64, 70, 76, 80, 81, 80, 83, 90, 79, 61, 53, 50, 49, 53, 48, 45, 39]\n",
      "[91, 150, 149, 32, 138, 140, 143, 147, 158, 168, 176, 177, 176, 181, 194, 174, 141, 127, 122, 120, 127, 118, 113, 102]\n",
      "Cooling system needs to be changed\n"
     ]
    }
   ],
   "source": [
    "temperatures_C = [33, 66, 65, 0, 59, 60, 62, 64, 70, 76, 80, 81, 80, 83, 90, 79, 61, 53, 50, 49, 53, 48, 45, 39]\n",
    "\n",
    "#1\n",
    "\n",
    "min_temp=min(temperatures_C)\n",
    "print(\"The minimum temperature is\",min_temp, \"degrees\")\n",
    "\n",
    "#2\n",
    "\n",
    "max_temp=max(temperatures_C)\n",
    "print(\"The maximum temperature is\",max_temp, \"degrees\")\n",
    "\n",
    "#3\n",
    "\n",
    "listtemp70=[]                   \n",
    "\n",
    "for temp in temperatures_C:\n",
    "    if temp>=70:\n",
    "        listtemp70.append(temp)\n",
    "\n",
    "print(listtemp70)\n",
    "\n",
    "#4\n",
    "\n",
    "average=sum(temperatures_C)/len(temperatures_C)\n",
    "print(\"The average temperature is\",average, \"degrees\")\n",
    "\n",
    "#5\n",
    "\n",
    "estimation=average\n",
    "print(\"My estimation is the average,\",estimation)\n",
    "\n",
    "temperatures_C[3]=int(estimation)\n",
    "print(temperatures_C)\n",
    "\n",
    "#6 bonus\n",
    "\n",
    "temperatures_C = [33, 66, 65, 0, 59, 60, 62, 64, 70, 76, 80, 81, 80, 83, 90, 79, 61, 53, 50, 49, 53, 48, 45, 39]\n",
    "total_temp_F=[]\n",
    "\n",
    "for temp in temperatures_C:\n",
    "    total_temp_F.append(int((1.8*temp) + 32)) \n",
    "print(total_temp_F)\n",
    "\n",
    "#7\n",
    "\n",
    "if (len(listtemp70) > 4) or (temperatures_C > 80) or (average >65):\n",
    "    print(\"Cooling system needs to be changed\")\n",
    "else:\n",
    "    print(\"Cooling system doesn´t need to be changed\")"
   ]
  },
  {
   "cell_type": "code",
   "execution_count": 63,
   "metadata": {},
   "outputs": [
    {
     "name": "stdout",
     "output_type": "stream",
     "text": [
      "[8, 9, 10, 11, 12, 13, 14, 15]\n",
      "If the list has more than 4 consequetive hours, True, otherwise False. Result: True\n",
      "Cooling system needs to be changed\n",
      "The average temperature in Celsius is 60.25 degrees\n",
      "The average temperature in Fahrenheit is 140.16666666666666 degrees\n",
      "The standard deviation in Celsius is 19.700474503223873\n",
      "The standard deviation in Fahrenheit is 35.41636402257733\n"
     ]
    }
   ],
   "source": [
    "#bonus\n",
    "\n",
    "#1 \n",
    "\n",
    "temperatures_C = [33, 66, 65, 0, 59, 60, 62, 64, 70, 76, 80, 81, 80, 83, 90, 79, 61, 53, 50, 49, 53, 48, 45, 39]\n",
    "\n",
    "\n",
    "hours_list=[h for h,temp in enumerate(temperatures_C) if temp >= 70]\n",
    "print (hours_list)\n",
    "\n",
    "#2\n",
    "\n",
    "t=0\n",
    "Has_4=True\n",
    "\n",
    "for t in range(len(hours_list)-1):\n",
    "    if hours_list[t]==hours_list[t-1]+1==hours_list[t-2]+2==hours_list[t-3]+3:\n",
    "        t+=1\n",
    "        Has_4=True\n",
    "    else:\n",
    "        Has_4=False\n",
    "        \n",
    "print(\"If the list has more than 4 consequetive hours, True, otherwise False. Result:\",Has_4)\n",
    "\n",
    "#3\n",
    "\n",
    "\n",
    "if (Has_4==True) or (temperatures_C>80) or (average>65):\n",
    "    print (\"Cooling system needs to be changed\")\n",
    "else:\n",
    "    print(\"Cooling system does not need to be changed\")\n",
    "    \n",
    "#4\n",
    "\n",
    "print(\"The average temperature in Celsius is\",average, \"degrees\")\n",
    "\n",
    "average_F=sum(total_temp_F)/len(total_temp_F)\n",
    "print(\"The average temperature in Fahrenheit is\",average_F, \"degrees\")\n",
    "\n",
    "#Result of the average in Fahrenheit is 1.8 times the average in Celsius plus 32\n",
    "\n",
    "#5\n",
    "\n",
    "import statistics\n",
    "\n",
    "print (\"The standard deviation in Celsius is\", statistics.stdev(temperatures_C))\n",
    "print (\"The standard deviation in Fahrenheit is\", statistics.stdev(total_temp_F))\n",
    "\n",
    "#Result of the standard deviation in Fahrenheit is 1.8 times the standard deviation in Celsius"
   ]
  },
  {
   "cell_type": "code",
   "execution_count": null,
   "metadata": {},
   "outputs": [],
   "source": []
  }
 ],
 "metadata": {
  "kernelspec": {
   "display_name": "Python 3",
   "language": "python",
   "name": "python3"
  },
  "language_info": {
   "codemirror_mode": {
    "name": "ipython",
    "version": 3
   },
   "file_extension": ".py",
   "mimetype": "text/x-python",
   "name": "python",
   "nbconvert_exporter": "python",
   "pygments_lexer": "ipython3",
   "version": "3.7.6"
  }
 },
 "nbformat": 4,
 "nbformat_minor": 4
}
