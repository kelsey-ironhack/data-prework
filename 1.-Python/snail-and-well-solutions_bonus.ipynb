{
 "cells": [
  {
   "cell_type": "markdown",
   "metadata": {},
   "source": [
    "<img src=\"https://bit.ly/2VnXWr2\" width=\"100\" align=\"left\">"
   ]
  },
  {
   "cell_type": "markdown",
   "metadata": {},
   "source": [
    "# The Snail and the Well\n",
    "\n",
    "A snail falls at the bottom of a 125 cm well. Each day the snail rises 30 cm. But at night, while sleeping, slides 20 cm because the walls are wet. How many days does it take for the snail to escape the well?\n",
    "\n",
    "**Hint**: The snail gets out of the well when it surpasses the 125cm of height.\n",
    "\n",
    "## Tools\n",
    "\n",
    "1. Loop: **while**\n",
    "2. Conditional statements: **if-else**\n",
    "3. Function: **print()**\n",
    "\n",
    "## Tasks\n",
    "\n",
    "#### 1. Assign the challenge data to variables with representative names: `well_height`, `daily_distance`, `nightly_distance` and `snail_position`."
   ]
  },
  {
   "cell_type": "code",
   "execution_count": 2,
   "metadata": {},
   "outputs": [],
   "source": [
    "well_height = 125\n",
    "daily_distance = 30\n",
    "nightly_distance = 20\n",
    "snail_position = 0"
   ]
  },
  {
   "cell_type": "markdown",
   "metadata": {},
   "source": [
    "#### 2. Create a variable `days` to keep count of the days that pass until the snail escapes the well. "
   ]
  },
  {
   "cell_type": "code",
   "execution_count": 3,
   "metadata": {},
   "outputs": [],
   "source": [
    "days = well_height/(daily_distance - nightly_distance)"
   ]
  },
  {
   "cell_type": "markdown",
   "metadata": {},
   "source": [
    "#### 3. Find the solution to the challenge using the variables defined above. "
   ]
  },
  {
   "cell_type": "code",
   "execution_count": 4,
   "metadata": {},
   "outputs": [
    {
     "name": "stdout",
     "output_type": "stream",
     "text": [
      "Snail falls to the bottom of a well.\n",
      "Snail has not yet escaped the well.\n",
      "Snail has not yet escaped the well.\n",
      "Snail has not yet escaped the well.\n",
      "Snail has not yet escaped the well.\n",
      "Snail has not yet escaped the well.\n",
      "Snail has not yet escaped the well.\n",
      "Snail has not yet escaped the well.\n",
      "Snail has not yet escaped the well.\n",
      "Snail has not yet escaped the well.\n",
      "Snail has not yet escaped the well.\n",
      "Snail has not yet escaped the well.\n",
      "Snail has not yet escaped the well.\n",
      "Snail escapes the well!\n"
     ]
    }
   ],
   "source": [
    "print(\"Snail falls to the bottom of a well.\")\n",
    "snail_position += (daily_distance - nightly_distance)\n",
    "\n",
    "while snail_position < well_height:\n",
    "    print(\"Snail has not yet escaped the well.\")\n",
    "    snail_position += (daily_distance - nightly_distance)\n",
    "print(\"Snail escapes the well!\")"
   ]
  },
  {
   "cell_type": "markdown",
   "metadata": {},
   "source": [
    "#### 4. Print the solution."
   ]
  },
  {
   "cell_type": "code",
   "execution_count": 5,
   "metadata": {},
   "outputs": [
    {
     "name": "stdout",
     "output_type": "stream",
     "text": [
      "12.5\n"
     ]
    }
   ],
   "source": [
    "print(days)"
   ]
  },
  {
   "cell_type": "markdown",
   "metadata": {},
   "source": [
    "## Bonus\n",
    "The distance traveled by the snail each day is now defined by a list.\n",
    "```\n",
    "advance_cm = [30, 21, 33, 77, 44, 45, 23, 45, 12, 34, 55]\n",
    "```\n",
    "On the first day, the snail rises 30cm but during the night it slides 20cm. On the second day, the snail rises 21cm but during the night it slides 20cm, and so on. \n",
    "\n",
    "#### 1. How many days does it take for the snail to escape the well?\n",
    "Follow the same guidelines as in the previous challenge.\n",
    "\n",
    "**Hint**: Remember that the snail gets out of the well when it surpasses the 125cm of height."
   ]
  },
  {
   "cell_type": "code",
   "execution_count": 36,
   "metadata": {},
   "outputs": [
    {
     "name": "stdout",
     "output_type": "stream",
     "text": [
      "Snail escapes!\n",
      "Snail escapes!\n",
      "Snail escapes!\n",
      "Snail escapes!\n",
      "Snail escapes!\n",
      "Snail escapes!\n",
      "[45, 23, 45, 12, 34, 55]\n",
      "It takes  5 days for the snail to escape.\n"
     ]
    }
   ],
   "source": [
    "advance_cm = [30, 21, 33, 77, 44, 45, 23, 45, 12, 34, 55]\n",
    "advance_escaped = []\n",
    "snail_position = 0\n",
    "wall_height = 125\n",
    "\n",
    "for i in advance_cm:\n",
    "    snail_position += (i - nightly_distance)\n",
    "    if snail_position > wall_height:\n",
    "        print(\"Snail escapes!\") # see at which index the snail was higher than the wall height of 125\n",
    "        advance_escaped.append(i) # append the superfluous advances to new list\n",
    "       \n",
    "print(advance_escaped)\n",
    "    \n",
    "days_til_escape = len(advance_cm) - len(advance_escaped) # If we know all the advances that were superfluous because the snail\n",
    " #has already escaped, then we can just find the differences in the 2 lists, and know how many days the snail advanced before reaching the necessary height.\n",
    "\n",
    "print(\"It takes \", days_til_escape, \"days for the snail to escape.\")\n"
   ]
  },
  {
   "cell_type": "markdown",
   "metadata": {},
   "source": [
    "#### 2. What is its maximum displacement in one day? And its minimum? Calculate the displacement using only the travel distance of the days used to get out of the well. \n",
    "**Hint**: Remember that displacement means the total distance risen taking into account that the snail slides at night.  "
   ]
  },
  {
   "cell_type": "code",
   "execution_count": 47,
   "metadata": {},
   "outputs": [
    {
     "name": "stdout",
     "output_type": "stream",
     "text": [
      "[30, 21, 33, 77, 44]\n",
      "[10, 1, 13, 57, 24]\n",
      "The maximum displacement in one day is:  57 cm\n",
      "The minimum displacement in one day is:  1 cm\n"
     ]
    }
   ],
   "source": [
    "for i in advance_escaped:\n",
    "    if i in advance_cm:\n",
    "        advance_cm.remove(i) #this gives us a new advance_cm list up until the point of escape, getting rid of the displacement not important to the task\n",
    "print(advance_cm)\n",
    "\n",
    "displacement_values = [] # displacement is the total distance risen (minus the night slides)\n",
    "\n",
    "for i in advance_cm:\n",
    "    displacement = i - nightly_distance\n",
    "    displacement_values.append(displacement)\n",
    "\n",
    "print(displacement_values)\n",
    "\n",
    "print(\"The maximum displacement in one day is: \", max(displacement_values), \"cm\")\n",
    "print(\"The minimum displacement in one day is: \", min(displacement_values), \"cm\")\n"
   ]
  },
  {
   "cell_type": "markdown",
   "metadata": {},
   "source": [
    "#### 3. What is its average progress? Take into account the snail slides at night."
   ]
  },
  {
   "cell_type": "code",
   "execution_count": 49,
   "metadata": {},
   "outputs": [
    {
     "name": "stdout",
     "output_type": "stream",
     "text": [
      "Average progress is:  21.0 cm\n"
     ]
    }
   ],
   "source": [
    "avg_progress = sum(displacement_values)/len(displacement_values)\n",
    "\n",
    "print(\"Average progress is: \", avg_progress, \"cm\")"
   ]
  },
  {
   "cell_type": "markdown",
   "metadata": {},
   "source": [
    "#### 4. What is the standard deviation of its displacement? Take into account the snail slides at night."
   ]
  },
  {
   "cell_type": "code",
   "execution_count": 53,
   "metadata": {},
   "outputs": [
    {
     "name": "stdout",
     "output_type": "stream",
     "text": [
      "The standard deviation of its displacement is:  21.737065119284157\n"
     ]
    }
   ],
   "source": [
    "import statistics\n",
    "std_dev_displacement = statistics.stdev(displacement_values)\n",
    "\n",
    "print(\"The standard deviation of its displacement is: \", std_dev_displacement)\n",
    "\n"
   ]
  }
 ],
 "metadata": {
  "kernelspec": {
   "display_name": "Python 3",
   "language": "python",
   "name": "python3"
  },
  "language_info": {
   "codemirror_mode": {
    "name": "ipython",
    "version": 3
   },
   "file_extension": ".py",
   "mimetype": "text/x-python",
   "name": "python",
   "nbconvert_exporter": "python",
   "pygments_lexer": "ipython3",
   "version": "3.8.2"
  }
 },
 "nbformat": 4,
 "nbformat_minor": 2
}
