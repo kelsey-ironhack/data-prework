{
 "cells": [
  {
   "cell_type": "markdown",
   "id": "sharing-heart",
   "metadata": {},
   "source": [
    "# 0 Conditional and Loops"
   ]
  },
  {
   "cell_type": "code",
   "execution_count": 2,
   "id": "compact-bikini",
   "metadata": {},
   "outputs": [
    {
     "name": "stdout",
     "output_type": "stream",
     "text": [
      "Happy variables is set to  True\n"
     ]
    }
   ],
   "source": [
    "happy = True\n",
    "print(\"Happy variables is set to \", happy)"
   ]
  },
  {
   "cell_type": "code",
   "execution_count": 5,
   "id": "figured-medline",
   "metadata": {},
   "outputs": [
    {
     "data": {
      "text/plain": [
       "True"
      ]
     },
     "execution_count": 5,
     "metadata": {},
     "output_type": "execute_result"
    }
   ],
   "source": [
    "5 + 5 == 10"
   ]
  },
  {
   "cell_type": "code",
   "execution_count": 6,
   "id": "worthy-anchor",
   "metadata": {},
   "outputs": [
    {
     "data": {
      "text/plain": [
       "True"
      ]
     },
     "execution_count": 6,
     "metadata": {},
     "output_type": "execute_result"
    }
   ],
   "source": [
    "'apple' != 'orange'"
   ]
  },
  {
   "cell_type": "code",
   "execution_count": 7,
   "id": "artistic-window",
   "metadata": {},
   "outputs": [
    {
     "data": {
      "text/plain": [
       "True"
      ]
     },
     "execution_count": 7,
     "metadata": {},
     "output_type": "execute_result"
    }
   ],
   "source": [
    "100>75"
   ]
  },
  {
   "cell_type": "code",
   "execution_count": 8,
   "id": "comic-effort",
   "metadata": {},
   "outputs": [
    {
     "data": {
      "text/plain": [
       "True"
      ]
     },
     "execution_count": 8,
     "metadata": {},
     "output_type": "execute_result"
    }
   ],
   "source": [
    "93<100"
   ]
  },
  {
   "cell_type": "code",
   "execution_count": 9,
   "id": "interesting-accused",
   "metadata": {},
   "outputs": [
    {
     "data": {
      "text/plain": [
       "True"
      ]
     },
     "execution_count": 9,
     "metadata": {},
     "output_type": "execute_result"
    }
   ],
   "source": [
    "3 in [1,2,3]"
   ]
  },
  {
   "cell_type": "code",
   "execution_count": 11,
   "id": "english-diversity",
   "metadata": {},
   "outputs": [
    {
     "data": {
      "text/plain": [
       "False"
      ]
     },
     "execution_count": 11,
     "metadata": {},
     "output_type": "execute_result"
    }
   ],
   "source": [
    "4 not in [1,2,3,4]"
   ]
  },
  {
   "cell_type": "code",
   "execution_count": 13,
   "id": "quick-letters",
   "metadata": {},
   "outputs": [
    {
     "data": {
      "text/plain": [
       "False"
      ]
     },
     "execution_count": 13,
     "metadata": {},
     "output_type": "execute_result"
    }
   ],
   "source": [
    "(5+5 == 10) & ('1'=='2')"
   ]
  },
  {
   "cell_type": "code",
   "execution_count": 18,
   "id": "figured-houston",
   "metadata": {},
   "outputs": [
    {
     "name": "stdout",
     "output_type": "stream",
     "text": [
      "Number is less than 10\n"
     ]
    }
   ],
   "source": [
    "number = 1\n",
    "\n",
    "if number < 10:\n",
    "    print(\"Number is less than 10\")\n",
    "elif number > 10:\n",
    "    print(\"Number is greater than 10\")\n",
    "elif number == 10:\n",
    "    print(\"Number is exactly 10\")\n",
    "else:\n",
    "    print(\"Number is probably not a number at all\")"
   ]
  },
  {
   "cell_type": "code",
   "execution_count": 45,
   "id": "differential-black",
   "metadata": {},
   "outputs": [
    {
     "name": "stdout",
     "output_type": "stream",
     "text": [
      "Número es mayor a 10\n"
     ]
    }
   ],
   "source": [
    "numero = 110.5\n",
    "if numero <10:\n",
    "    print(\"Número menor a 10\")\n",
    "elif numero > 10:\n",
    "    print(\"Número es mayor a 10\")\n",
    "elif numero == 10:\n",
    "    print(\"Número es 10\")\n",
    "else:\n",
    "    print(\"no sé que número es\")"
   ]
  },
  {
   "cell_type": "code",
   "execution_count": 22,
   "id": "sustained-vegetable",
   "metadata": {},
   "outputs": [
    {
     "name": "stdout",
     "output_type": "stream",
     "text": [
      "Your total commute time is expected to be 30 minutes.\n"
     ]
    }
   ],
   "source": [
    "commute = 30\n",
    "rain = False\n",
    "traffic = False\n",
    "\n",
    "if (rain == True) | (traffic == True):\n",
    "    if (rain == True) & (traffic == True):\n",
    "        total_commute = commute + 15 + 20\n",
    "    elif (rain == True) & (traffic == False):\n",
    "        total_commute = commute + 15\n",
    "    elif (rain == False) & (traffic == True):\n",
    "        total_commute = commute + 20\n",
    "else:\n",
    "    total_commute = commute\n",
    "\n",
    "print(\"Your total commute time is expected to be\", total_commute, \"minutes.\")\n"
   ]
  },
  {
   "cell_type": "code",
   "execution_count": 59,
   "id": "fewer-notice",
   "metadata": {},
   "outputs": [
    {
     "name": "stdout",
     "output_type": "stream",
     "text": [
      "Tiempo necesario para llegar a destino 30 minutos.\n"
     ]
    }
   ],
   "source": [
    "tiempo = 10\n",
    "lluvia = True\n",
    "trafico = False\n",
    "\n",
    "if (lluvia == True) | (trafico == True):\n",
    "    if (lluvia == True) & (trafico == False):\n",
    "        ttime = tiempo + 20\n",
    "    elif (lluvia == False) & (trafico == True):\n",
    "        ttime = tiempo + 10\n",
    "    elif (lluvia == True) & (trafico == True):\n",
    "        ttime = tiempo + 30\n",
    "else:\n",
    "    ttime = tiempo\n",
    "\n",
    "print(\"Tiempo necesario para llegar a destino\", ttime, \"minutos.\")"
   ]
  },
  {
   "cell_type": "code",
   "execution_count": 23,
   "id": "thorough-noise",
   "metadata": {},
   "outputs": [
    {
     "data": {
      "text/plain": [
       "range(0, 10)"
      ]
     },
     "execution_count": 23,
     "metadata": {},
     "output_type": "execute_result"
    }
   ],
   "source": [
    "range(10)"
   ]
  },
  {
   "cell_type": "code",
   "execution_count": 24,
   "id": "relative-satin",
   "metadata": {},
   "outputs": [
    {
     "data": {
      "text/plain": [
       "range(0, 10)"
      ]
     },
     "execution_count": 24,
     "metadata": {},
     "output_type": "execute_result"
    }
   ],
   "source": [
    "range(0,10)"
   ]
  },
  {
   "cell_type": "code",
   "execution_count": 25,
   "id": "extraordinary-following",
   "metadata": {},
   "outputs": [
    {
     "data": {
      "text/plain": [
       "range(5, 15)"
      ]
     },
     "execution_count": 25,
     "metadata": {},
     "output_type": "execute_result"
    }
   ],
   "source": [
    "range(5,15)"
   ]
  },
  {
   "cell_type": "code",
   "execution_count": 27,
   "id": "funky-syndicate",
   "metadata": {},
   "outputs": [
    {
     "data": {
      "text/plain": [
       "10"
      ]
     },
     "execution_count": 27,
     "metadata": {},
     "output_type": "execute_result"
    }
   ],
   "source": [
    "len(range(5,15))"
   ]
  },
  {
   "cell_type": "code",
   "execution_count": 28,
   "id": "tender-trouble",
   "metadata": {},
   "outputs": [
    {
     "name": "stdout",
     "output_type": "stream",
     "text": [
      "5\n",
      "6\n",
      "7\n",
      "8\n",
      "9\n",
      "10\n",
      "11\n",
      "12\n",
      "13\n",
      "14\n"
     ]
    }
   ],
   "source": [
    "for i in range(5,15):\n",
    "    print(i)\n"
   ]
  },
  {
   "cell_type": "code",
   "execution_count": 33,
   "id": "impressive-canon",
   "metadata": {},
   "outputs": [
    {
     "name": "stdout",
     "output_type": "stream",
     "text": [
      "apple\n",
      "orange\n",
      "banana\n",
      "grapes\n",
      "pineapple\n"
     ]
    }
   ],
   "source": [
    "fruits = ['apple', 'orange','banana', 'grapes','pineapple']\n",
    "for fruit in fruits:\n",
    "    print(fruit)\n",
    "  "
   ]
  },
  {
   "cell_type": "code",
   "execution_count": 34,
   "id": "focal-shepherd",
   "metadata": {},
   "outputs": [],
   "source": [
    "ages = {'Brian':23, \n",
    "        'Amy':32,\n",
    "        'Darlene':47,\n",
    "        'Ralph':32,\n",
    "        'Jordan':28,\n",
    "        'Stephanie':35\n",
    "       }"
   ]
  },
  {
   "cell_type": "code",
   "execution_count": 37,
   "id": "color-delaware",
   "metadata": {},
   "outputs": [
    {
     "name": "stdout",
     "output_type": "stream",
     "text": [
      "Brian is 23 years old\n",
      "Amy is 32 years old\n",
      "Darlene is 47 years old\n",
      "Ralph is 32 years old\n",
      "Jordan is 28 years old\n",
      "Stephanie is 35 years old\n"
     ]
    }
   ],
   "source": [
    "for name, age in ages.items():\n",
    "    print(name, \"is\", age, \"years old\")"
   ]
  },
  {
   "cell_type": "code",
   "execution_count": 76,
   "id": "further-muslim",
   "metadata": {},
   "outputs": [
    {
     "name": "stdout",
     "output_type": "stream",
     "text": [
      "Total acumulado 34\n",
      "Total acumulado 46\n",
      "Total acumulado 139\n",
      "Total acumulado 922\n",
      "Total acumulado 1252\n",
      "Total acumulado 2148\n",
      "Total acumulado 2149\n",
      "Total acumulado 2204\n"
     ]
    }
   ],
   "source": [
    "num_list = [34, 12, 93, 783, 330, 896, 1, 55]\n",
    "total = 0\n",
    "\n",
    "for i in num_list:\n",
    "    total += i\n",
    "    print(\"Total acumulado\", total)"
   ]
  },
  {
   "cell_type": "code",
   "execution_count": 78,
   "id": "handled-dominant",
   "metadata": {},
   "outputs": [
    {
     "name": "stdout",
     "output_type": "stream",
     "text": [
      "[1, 4, 9, 16, 25, 36, 49, 64, 81, 100]\n"
     ]
    }
   ],
   "source": [
    "new_list = []\n",
    "for i in range(1,11):\n",
    "    squere = i**2\n",
    "    new_list.append(squere)\n",
    "print(new_list)"
   ]
  },
  {
   "cell_type": "code",
   "execution_count": 83,
   "id": "variable-drilling",
   "metadata": {},
   "outputs": [
    {
     "name": "stdout",
     "output_type": "stream",
     "text": [
      "El pastel esta en el horno\n",
      "El pastel no esta listo\n",
      "El pastel no esta listo\n",
      "El pastel no esta listo\n",
      "El pastel esta listo\n"
     ]
    }
   ],
   "source": [
    "tiempoDeCoccion = 60\n",
    "minutosDeEspera = 0\n",
    "tiempoDeEspera  = 15\n",
    "\n",
    "print(\"El pastel esta en el horno\")\n",
    "minutosDeEspera += tiempoDeEspera\n",
    "\n",
    "while minutosDeEspera < tiempoDeCoccion:\n",
    "    print(\"El pastel no esta listo\")\n",
    "    minutosDeEspera += tiempoDeEspera\n",
    "print(\"El pastel esta listo\")    \n"
   ]
  }
 ],
 "metadata": {
  "kernelspec": {
   "display_name": "Python 3",
   "language": "python",
   "name": "python3"
  },
  "language_info": {
   "codemirror_mode": {
    "name": "ipython",
    "version": 3
   },
   "file_extension": ".py",
   "mimetype": "text/x-python",
   "name": "python",
   "nbconvert_exporter": "python",
   "pygments_lexer": "ipython3",
   "version": "3.9.1"
  }
 },
 "nbformat": 4,
 "nbformat_minor": 5
}
