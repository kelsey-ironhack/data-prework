{
 "cells": [
  {
   "cell_type": "markdown",
   "metadata": {},
   "source": [
    "# Apocalipsis zombie\n",
    "\n",
    "![](./images/thewalkingdead.jpeg)\n",
    "\n",
    "Cargas un arsenal de armas y una mochila con cargadores de munición de tamaño variable para algunos tipos de armas. ¿Cuántos zombies puedes matar antes de tener que echar a correr por tu vida? Deberás imprimir el resultado de cada caso que corresponde al número de balas que tienes de las armas que cargas.  \n",
    "\n",
    "ALGORITMO: Por cada arma diferente que cargas, tienes que comprobar si portas cargadores para ella. Si esto es afirmativo deberás sumar el total de balas que podrás disparar. "
   ]
  },
  {
   "cell_type": "markdown",
   "metadata": {},
   "source": [
    "## Caso 0: Ejemplo simple"
   ]
  },
  {
   "cell_type": "code",
   "execution_count": 2,
   "metadata": {},
   "outputs": [
    {
     "name": "stdout",
     "output_type": "stream",
     "text": [
      "30\n"
     ]
    }
   ],
   "source": [
    "armas = ['pistola','escopeta']\n",
    "\n",
    "cargadores = {\n",
    "    'pistola': [10, 10], \n",
    "    'escopeta': [2, 2, 2, 2, 2]\n",
    "}\n",
    "\n",
    "# your code\n",
    "Balas=sum(cargadores[\"pistola\"])+sum(cargadores[\"escopeta\"])\n",
    "print(total_1)\n"
   ]
  },
  {
   "cell_type": "markdown",
   "metadata": {},
   "source": [
    "**Output esperado** -> 30"
   ]
  },
  {
   "cell_type": "markdown",
   "metadata": {},
   "source": [
    "## Caso 1: Mismas armas que municiones"
   ]
  },
  {
   "cell_type": "code",
   "execution_count": 5,
   "metadata": {},
   "outputs": [
    {
     "name": "stdout",
     "output_type": "stream",
     "text": [
      "158\n"
     ]
    }
   ],
   "source": [
    "armas = ['pistola', 'ametralladora', 'escopeta', 'fusil de francotirador']\n",
    "\n",
    "cargadores = {\n",
    "    'pistola': [12, 13, 4, 5, 20, 17], \n",
    "    'ametralladora': [33, 40], \n",
    "    'escopeta': [2, 2, 2, 1], \n",
    "    'fusil de francotirador': [1, 2, 4]\n",
    "}\n",
    "\n",
    "# your code\n",
    "Balas=0\n",
    "total_balas=0\n",
    "for a in armas:\n",
    "    Balas=(cargadores[a])\n",
    "    total_balas=total_balas+sum(Balas)\n",
    "    \n",
    "print(total_balas)"
   ]
  },
  {
   "cell_type": "markdown",
   "metadata": {},
   "source": [
    "## Caso 2: Más tipos de munición que armas"
   ]
  },
  {
   "cell_type": "code",
   "execution_count": 7,
   "metadata": {},
   "outputs": [
    {
     "name": "stdout",
     "output_type": "stream",
     "text": [
      "no tenemos el arma bazoka\n",
      "158\n"
     ]
    }
   ],
   "source": [
    "armas = ['pistola', 'ametralladora', 'escopeta', 'fusil de francotirador']\n",
    "\n",
    "cargadores = {\n",
    "    'pistola': [12, 13, 4, 5, 20, 17], \n",
    "    'ametralladora': [33, 40], \n",
    "    'escopeta': [2, 2, 2, 1], \n",
    "    'fusil de francotirador': [1, 2, 4], \n",
    "    'bazoka': [1, 1]\n",
    "}\n",
    "\n",
    "# your code\n",
    "for i in cargadores:\n",
    "    if i not in armas:\n",
    "        print(\"no tenemos el arma\",i)\n",
    "\n",
    "\n",
    "Balas_3=0\n",
    "total_balas_3=0\n",
    "for a in armas:\n",
    "    Balas_3=(cargadores[a])\n",
    "    total_balas_3=total_balas_3+sum(Balas_3)\n",
    "    \n",
    "print(total_balas_3)"
   ]
  },
  {
   "cell_type": "markdown",
   "metadata": {},
   "source": [
    "## Caso 3: Más armas que tipos de munición"
   ]
  },
  {
   "cell_type": "code",
   "execution_count": 9,
   "metadata": {},
   "outputs": [
    {
     "ename": "NameError",
     "evalue": "name 'total_Balas_4' is not defined",
     "output_type": "error",
     "traceback": [
      "\u001b[0;31m---------------------------------------------------------------------------\u001b[0m",
      "\u001b[0;31mNameError\u001b[0m                                 Traceback (most recent call last)",
      "\u001b[0;32m<ipython-input-9-dd3b822bbf5a>\u001b[0m in \u001b[0;36m<module>\u001b[0;34m\u001b[0m\n\u001b[1;32m     14\u001b[0m \u001b[0;32mfor\u001b[0m \u001b[0mi\u001b[0m \u001b[0;32min\u001b[0m \u001b[0mcargadores\u001b[0m\u001b[0;34m.\u001b[0m\u001b[0mkeys\u001b[0m\u001b[0;34m(\u001b[0m\u001b[0;34m)\u001b[0m\u001b[0;34m:\u001b[0m\u001b[0;34m\u001b[0m\u001b[0;34m\u001b[0m\u001b[0m\n\u001b[1;32m     15\u001b[0m     \u001b[0mBalas_4\u001b[0m\u001b[0;34m=\u001b[0m\u001b[0;34m(\u001b[0m\u001b[0mcargadores\u001b[0m\u001b[0;34m[\u001b[0m\u001b[0mi\u001b[0m\u001b[0;34m]\u001b[0m\u001b[0;34m)\u001b[0m\u001b[0;34m\u001b[0m\u001b[0;34m\u001b[0m\u001b[0m\n\u001b[0;32m---> 16\u001b[0;31m     \u001b[0mtotal_Balas_4\u001b[0m\u001b[0;34m=\u001b[0m\u001b[0mtotal_Balas_4\u001b[0m\u001b[0;34m+\u001b[0m\u001b[0msum\u001b[0m\u001b[0;34m(\u001b[0m\u001b[0mBalas_4\u001b[0m\u001b[0;34m)\u001b[0m\u001b[0;34m\u001b[0m\u001b[0;34m\u001b[0m\u001b[0m\n\u001b[0m\u001b[1;32m     17\u001b[0m \u001b[0;34m\u001b[0m\u001b[0m\n\u001b[1;32m     18\u001b[0m \u001b[0mprint\u001b[0m\u001b[0;34m(\u001b[0m\u001b[0mtotal_Balas_4\u001b[0m\u001b[0;34m)\u001b[0m\u001b[0;34m\u001b[0m\u001b[0;34m\u001b[0m\u001b[0m\n",
      "\u001b[0;31mNameError\u001b[0m: name 'total_Balas_4' is not defined"
     ]
    }
   ],
   "source": [
    "armas = ['pistola', 'ametralladora', 'escopeta', 'fusil de francotirador']\n",
    "\n",
    "cargadores = {\n",
    "    'pistola': [12, 13, 4, 5, 20, 17], \n",
    "    'ametralladora': [33, 40], \n",
    "    'escopeta': [2, 2, 2, 1] \n",
    "}\n",
    "\n",
    "# your code\n",
    "\n",
    "Balas_4=0\n",
    "total_Balas_3=0\n",
    "\n",
    "for i in cargadores.keys():\n",
    "    Balas_4=(cargadores[i])\n",
    "    total_Balas_4=total_Balas_4+sum(Balas_4)\n",
    "    \n",
    "print(total_Balas_4)\n"
   ]
  },
  {
   "cell_type": "code",
   "execution_count": null,
   "metadata": {},
   "outputs": [],
   "source": []
  }
 ],
 "metadata": {
  "kernelspec": {
   "display_name": "Python 3",
   "language": "python",
   "name": "python3"
  },
  "language_info": {
   "codemirror_mode": {
    "name": "ipython",
    "version": 3
   },
   "file_extension": ".py",
   "mimetype": "text/x-python",
   "name": "python",
   "nbconvert_exporter": "python",
   "pygments_lexer": "ipython3",
   "version": "3.8.2"
  }
 },
 "nbformat": 4,
 "nbformat_minor": 2
}
