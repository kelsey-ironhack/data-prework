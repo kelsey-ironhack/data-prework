{
 "cells": [
  {
   "cell_type": "markdown",
   "metadata": {},
   "source": [
    "<img src=\"https://bit.ly/2VnXWr2\" width=\"100\" align=\"left\"/>"
   ]
  },
  {
   "cell_type": "markdown",
   "metadata": {},
   "source": [
    "# Robin Hood\n",
    "Robin Hood has entered a competition to win the archery contest in Sherwood. With his bow and arrows, he needs to shoot on a target and try to hit as close as possible to the center.\n",
    "\n",
    "![](images/arrows.jpg)\n",
    "\n",
    "## Context\n",
    "In this challenge, the landing position of arrows shot by archers in the competition will be represented using 2-dimensional coordinates. \n",
    "\n",
    "In the 2-dimensional space, a point can be defined by a pair of values that correspond to the horizontal coordinate (x) and the vertical coordinate (y). For example, in our case, an arrow that hits the center of the archery target will land in position (0, 0) on the coordinate axes. \n",
    "\n",
    "The space can be divided into 4 zones (quadrants): Q1, Q2, Q3, Q4. If a point is in Q1, both its x coordinate and y coordinate are positive. Any point with a null x or y coordinate is considered to not belong to any quadrant. \n",
    "\n",
    "If you want to know more about the cartesian coordinate system, you can check this [link](https://en.wikipedia.org/wiki/Cartesian_coordinate_system). \n",
    "\n",
    "## Tools\n",
    "You don't necessarily need to use all the tools. Maybe you opt to use some of them or completely different ones, they are given to help you shape the exercise. Programming exercises can be solved in many different ways.\n",
    "* Data structures: **lists, sets, tuples**\n",
    "* Conditional statements: **if-elif-else**\n",
    "* Loop: **while/for**\n",
    "* Minimum (optional sorting)\n",
    "\n",
    "## Tasks\n",
    "Robin Hood has hit the following points:"
   ]
  },
  {
   "cell_type": "code",
   "execution_count": 1,
   "metadata": {},
   "outputs": [],
   "source": [
    "points = [(4, 5), (-0, 2), (4, 7), (1, -3), (3, -2), (4, 5), (3, 2), (5, 7), (-5, 7), (2, 2), (-4, 5), (0, -2),\n",
    "          (-4, 7), (-1, 3), (-3, 2), (-4, -5), (-3, 2), (5, 7), (5, 7), (2, 2), (9, 9), (-8, -9)]"
   ]
  },
  {
   "cell_type": "markdown",
   "metadata": {},
   "source": [
    "#### 1. Robin Hood is famous for hitting an arrow with another arrow. Find the coordinates of the points where an arrow hits another arrow."
   ]
  },
  {
   "cell_type": "code",
   "execution_count": 1,
   "metadata": {},
   "outputs": [
    {
     "name": "stdout",
     "output_type": "stream",
     "text": [
      "An arrow hits another arrow at points:  {(-3, 2), (4, 5), (5, 7), (2, 2)}\n"
     ]
    }
   ],
   "source": [
    "points = [(4, 5), (-0, 2), (4, 7), (1, -3), (3, -2), (4, 5), (3, 2), (5, 7), (-5, 7), (2, 2), (-4, 5), (0, -2),\n",
    "          (-4, 7), (-1, 3), (-3, 2), (-4, -5), (-3, 2), (5, 7), (5, 7), (2, 2), (9, 9), (-8, -9)]\n",
    "uniques = list(set(points)) # if you make the set into a list, can you compare more easily?\n",
    "dupes = [] # define new list to collect duplicated points\n",
    "for point in points: \n",
    "    if points.count(point) > 1: # use this to count the elements in a list. If element count is greater than one, it's a duplicate. \n",
    "        dupes.append(point)\n",
    "    #print(dupes) # but this gives you a list with many duplicates. Take the set of this to isolate the points.\n",
    "unique_dupes = set(dupes)\n",
    "print(\"An arrow hits another arrow at points: \", unique_dupes)"
   ]
  },
  {
   "cell_type": "markdown",
   "metadata": {},
   "source": [
    "#### 2. Calculate how many arrows have fallen in each quadrant. \n",
    "**Note**: the arrows that fall in the axis (x=0 or y=0) don't belong to any quadrant."
   ]
  },
  {
   "cell_type": "code",
   "execution_count": 4,
   "metadata": {},
   "outputs": [
    {
     "name": "stdout",
     "output_type": "stream",
     "text": [
      "Quadrant 1 points:  [(4, 5), (4, 7), (4, 5), (3, 2), (5, 7), (2, 2), (5, 7), (5, 7), (2, 2), (9, 9)]\n",
      "Quadrant 2 points:  [(-5, 7), (-4, 5), (-4, 7), (-1, 3), (-3, 2), (-3, 2)]\n",
      "Quadrant 3 points:  [(-4, -5), (-8, -9)]\n",
      "Quadrant 4 points:  [(1, -3), (3, -2)]\n",
      "Axis hits:  [(0, 2), (0, -2)]\n",
      "There are  10 arrows in quadrant 1.\n",
      "There are  6 arrows in quadrant 2.\n",
      "There are  2 arrows in quardant 3.\n",
      "There are  2 arrows in quadrant 4.\n"
     ]
    }
   ],
   "source": [
    "points = [(4, 5), (-0, 2), (4, 7), (1, -3), (3, -2), (4, 5), (3, 2), (5, 7), (-5, 7), (2, 2), (-4, 5), (0, -2),\n",
    "          (-4, 7), (-1, 3), (-3, 2), (-4, -5), (-3, 2), (5, 7), (5, 7), (2, 2), (9, 9), (-8, -9)]\n",
    "\n",
    "quad_1 = [] # quadrant 1 = x, y\n",
    "quad_2 = [] # quadrant 2 = -x, y\n",
    "quad_3 = [] # quadrant 3 = -x, -y\n",
    "quad_4 = [] # quadrant 4 = x, -y\n",
    "axis_hit = [] \n",
    "\n",
    "for point in points:\n",
    "    if (point[0] > 0) & (point[1] > 0):\n",
    "        quad_1.append(point)\n",
    "    elif (point[0] < 0) & (point[1] > 0):\n",
    "        quad_2.append(point)\n",
    "    elif (point[0] < 0) & (point[1] < 0):\n",
    "        quad_3.append(point)\n",
    "    elif (point[0] > 0) & (point[1] < 0):\n",
    "        quad_4.append(point)\n",
    "    else:\n",
    "        axis_hit.append(point)\n",
    "\n",
    "print(\"Quadrant 1 points: \", quad_1) \n",
    "print(\"Quadrant 2 points: \", quad_2) \n",
    "print(\"Quadrant 3 points: \", quad_3) \n",
    "print(\"Quadrant 4 points: \", quad_4) \n",
    "print(\"Axis hits: \", axis_hit) \n",
    "\n",
    "print(\"There are \", len(quad_1), \"arrows in quadrant 1.\")\n",
    "print(\"There are \", len(quad_2), \"arrows in quadrant 2.\")\n",
    "print(\"There are \", len(quad_3), \"arrows in quardant 3.\")\n",
    "print(\"There are \", len(quad_4), \"arrows in quadrant 4.\")"
   ]
  },
  {
   "cell_type": "markdown",
   "metadata": {},
   "source": [
    "#### 3. Find the point closest to the center. Calculate its distance to the center. \n",
    "Take into account that there might be more than one point at the minimum distance to the center.\n",
    "\n",
    "**Hint**: Use the Euclidean distance. You can find more information about it [here](https://en.wikipedia.org/wiki/Euclidean_distance).  \n",
    "**Hint**: Defining a function that calculates the distance to the center can help."
   ]
  },
  {
   "cell_type": "code",
   "execution_count": 9,
   "metadata": {},
   "outputs": [
    {
     "name": "stdout",
     "output_type": "stream",
     "text": [
      "The points closest to center are:  [(0, 2), (0, -2), (0, 2), (0, -2), (0, 2), (0, -2), (0, 2), (0, -2)]\n"
     ]
    }
   ],
   "source": [
    "def hypotenuse(x, y):\n",
    "    return ((x**2) + (y**2)) ** 0.5 \n",
    "\n",
    "for point in points: # compare each point to center p=(0, 0)\n",
    "    list_of_distances_to_center.append(hypotenuse(point[0], point[1])) # appending each point's distance from center by storing the diff. hypotenuse values\n",
    "# print(list_of_distances_to_center) before moving to second loop to make sure it works.\n",
    "\n",
    "for point in points: \n",
    "    if hypotenuse(point[0], point[1]) == min(list_of_distances_to_center): # with previous for loop, you can see the closest point to center by seeing the min value of the list.\n",
    "        closest_points_to_center.append(point)\n",
    "print(\"The points closest to center are: \", closest_points_to_center)"
   ]
  },
  {
   "cell_type": "markdown",
   "metadata": {},
   "source": [
    "#### 4. If the archery target has a radius of 9, calculate the number of arrows that won't hit the target. \n",
    "**Hint**: Use the function created in step 3. "
   ]
  },
  {
   "cell_type": "code",
   "execution_count": 12,
   "metadata": {},
   "outputs": [
    {
     "name": "stdout",
     "output_type": "stream",
     "text": [
      "There are 2 arrows that don't hit the target.\n"
     ]
    }
   ],
   "source": [
    "outside_target = []\n",
    "for point in points:\n",
    "    if hypotenuse(point[0], point[1]) > 9:\n",
    "        outside_target.append(point)\n",
    "print(\"There are\", len(outside_target), \"arrows that don't hit the target.\")"
   ]
  }
 ],
 "metadata": {
  "kernelspec": {
   "display_name": "Python 3",
   "language": "python",
   "name": "python3"
  },
  "language_info": {
   "codemirror_mode": {
    "name": "ipython",
    "version": 3
   },
   "file_extension": ".py",
   "mimetype": "text/x-python",
   "name": "python",
   "nbconvert_exporter": "python",
   "pygments_lexer": "ipython3",
   "version": "3.8.2"
  }
 },
 "nbformat": 4,
 "nbformat_minor": 2
}
