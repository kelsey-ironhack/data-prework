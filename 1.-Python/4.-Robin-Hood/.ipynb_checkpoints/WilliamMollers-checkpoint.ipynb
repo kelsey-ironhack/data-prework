{
 "cells": [
  {
   "cell_type": "markdown",
   "metadata": {},
   "source": [
    "<img src=\"https://bit.ly/2VnXWr2\" width=\"100\" align=\"left\"/>"
   ]
  },
  {
   "cell_type": "markdown",
   "metadata": {},
   "source": [
    "# Robin Hood\n",
    "Robin Hood has entered a competition to win the archery contest in Sherwood. With his bow and arrows, he needs to shoot on a target and try to hit as close as possible to the center.\n",
    "\n",
    "![](images/arrows.jpg)\n",
    "\n",
    "## Context\n",
    "In this challenge, the landing position of arrows shot by archers in the competition will be represented using 2-dimensional coordinates. \n",
    "\n",
    "In the 2-dimensional space, a point can be defined by a pair of values that correspond to the horizontal coordinate (x) and the vertical coordinate (y). For example, in our case, an arrow that hits the center of the archery target will land in position (0, 0) on the coordinate axes. \n",
    "\n",
    "The space can be divided into 4 zones (quadrants): Q1, Q2, Q3, Q4. If a point is in Q1, both its x coordinate and y coordinate are positive. Any point with a null x or y coordinate is considered to not belong to any quadrant. \n",
    "\n",
    "If you want to know more about the cartesian coordinate system, you can check this [link](https://en.wikipedia.org/wiki/Cartesian_coordinate_system). \n",
    "\n",
    "## Tools\n",
    "You don't necessarily need to use all the tools. Maybe you opt to use some of them or completely different ones, they are given to help you shape the exercise. Programming exercises can be solved in many different ways.\n",
    "* Data structures: **lists, sets, tuples**\n",
    "* Conditional statements: **if-elif-else**\n",
    "* Loop: **while/for**\n",
    "* Minimum (optional sorting)\n",
    "\n",
    "## Tasks\n",
    "Robin Hood has hit the following points:"
   ]
  },
  {
   "cell_type": "code",
   "execution_count": 27,
   "metadata": {},
   "outputs": [],
   "source": [
    "points = [(4, 5), (-0, 2), (4, 7), (1, -3), (3, -2), (4, 5), (3, 2), (5, 7), (-5, 7), (2, 2), (-4, 5), (0, -2),\n",
    "          (-4, 7), (-1, 3), (-3, 2), (-4, -5), (-3, 2), (5, 7), (5, 7), (2, 2), (9, 9), (-8, -9)]"
   ]
  },
  {
   "cell_type": "markdown",
   "metadata": {},
   "source": [
    "#### 1. Robin Hood is famous for hitting an arrow with another arrow. Find the coordinates of the points where an arrow hits another arrow."
   ]
  },
  {
   "cell_type": "code",
   "execution_count": 28,
   "metadata": {},
   "outputs": [
    {
     "name": "stdout",
     "output_type": "stream",
     "text": [
      "[(-3, 2), (2, 2), (4, 5), (5, 7)] are the coordinates where an arrow hits another arrow\n"
     ]
    }
   ],
   "source": [
    "points.sort()\n",
    "arrowhitarrow = []\n",
    "uniqarrows = {}\n",
    "for x in points:\n",
    "   if x not in uniqarrows:\n",
    "      uniqarrows[x] = 1\n",
    "   else:\n",
    "      if uniqarrows[x] == 1:\n",
    "         arrowhitarrow.append(x)\n",
    "      uniqarrows[x] += 1\n",
    "print(arrowhitarrow, \"are the coordinates where an arrow hits another arrow\")\n"
   ]
  },
  {
   "cell_type": "markdown",
   "metadata": {},
   "source": [
    "#### 2. Calculate how many arrows have fallen in each quadrant. \n",
    "**Note**: the arrows that fall in the axis (x=0 or y=0) don't belong to any quadrant."
   ]
  },
  {
   "cell_type": "code",
   "execution_count": 30,
   "metadata": {},
   "outputs": [
    {
     "name": "stdout",
     "output_type": "stream",
     "text": [
      "10 arrows landed in the 1st Quadrant\n",
      "6 arrows landed in the 2nd Quadrant\n",
      "2 arrows landed in the 3rd Quadrant\n",
      "2 arrows landed in the 4th Quadrant\n"
     ]
    }
   ],
   "source": [
    "i=0\n",
    "q1 = []\n",
    "q2 = []\n",
    "q3 = []\n",
    "q4 = []\n",
    "center = []\n",
    "for i in range(len(points)):\n",
    "    if (points[i][0] > 0) & (points[i][1] > 0):\n",
    "        q1.append(points[i])\n",
    "    elif (points[i][0] < 0) & (points[i][1] > 0):\n",
    "        q2.append(points[i])\n",
    "    elif (points[i][0] < 0) & (points[i][1] < 0):\n",
    "        q3.append(points[i])\n",
    "    \n",
    "    elif (points[i][0] > 0) & (points[i][1] < 0):\n",
    "        q4.append(points[i])\n",
    "    else:\n",
    "        center.append(points[i])\n",
    "        \n",
    "print((len(q1)),\"arrows landed in the 1st Quadrant\")\n",
    "print((len(q2)),\"arrows landed in the 2nd Quadrant\")\n",
    "print((len(q3)),\"arrows landed in the 3rd Quadrant\")\n",
    "print((len(q4)),\"arrows landed in the 4th Quadrant\")\n"
   ]
  },
  {
   "cell_type": "markdown",
   "metadata": {},
   "source": [
    "#### 3. Find the point closest to the center. Calculate its distance to the center. \n",
    "Take into account that there might be more than one point at the minimum distance to the center.\n",
    "\n",
    "**Hint**: Use the Euclidean distance. You can find more information about it [here](https://en.wikipedia.org/wiki/Euclidean_distance).  \n",
    "**Hint**: Defining a function that calculates the distance to the center can help."
   ]
  },
  {
   "cell_type": "code",
   "execution_count": 32,
   "metadata": {},
   "outputs": [
    {
     "name": "stdout",
     "output_type": "stream",
     "text": [
      "There are two points which are equal closest to the centre and they are: (0, -2) and (0, 2)\n",
      "The distance of the two points closest to the centre is equal to: 2.0\n"
     ]
    }
   ],
   "source": [
    "distancefromcentre = []\n",
    "import math\n",
    "def calculatedistancefromcentre(x1,y1,x2,y2):\n",
    "     dist = math.hypot(x2 - x1, y2 - y1)\n",
    "     return dist,x2,y2\n",
    "for i in range(len(points)):\n",
    "    distancefromcentre.append(calculatedistancefromcentre(0,0,(points[i][0]),(points[i][1])))\n",
    "\n",
    "    \n",
    "closecentre = min(distancefromcentre, key=lambda x: x[0])[0]\n",
    "closecentrelist = [x for x in distancefromcentre if x[0] == closecentre]\n",
    "print(\"There are two points which are equal closest to the centre and they are:\", closecentrelist[0][1:3], \"and\", closecentrelist[1][1:3])\n",
    "\n",
    "print(\"The distance of the two points closest to the centre is equal to:\", closecentrelist[0][0])"
   ]
  },
  {
   "cell_type": "markdown",
   "metadata": {},
   "source": [
    "#### 4. If the archery target has a radius of 9, calculate the number of arrows that won't hit the target. \n",
    "**Hint**: Use the function created in step 3. "
   ]
  },
  {
   "cell_type": "code",
   "execution_count": 34,
   "metadata": {},
   "outputs": [
    {
     "name": "stdout",
     "output_type": "stream",
     "text": [
      "There are exactly 2 arrows that won't hit the target\n"
     ]
    }
   ],
   "source": [
    "misstarget = []\n",
    "for i in range(len(distancefromcentre)):\n",
    "    if distancefromcentre[i][0] > 9:\n",
    "        misstarget.append(distancefromcentre[i])\n",
    "print(\"There are exactly\", len(misstarget), \"arrows that won't hit the target\")"
   ]
  },
  {
   "cell_type": "code",
   "execution_count": null,
   "metadata": {},
   "outputs": [],
   "source": []
  }
 ],
 "metadata": {
  "kernelspec": {
   "display_name": "Python 3",
   "language": "python",
   "name": "python3"
  },
  "language_info": {
   "codemirror_mode": {
    "name": "ipython",
    "version": 3
   },
   "file_extension": ".py",
   "mimetype": "text/x-python",
   "name": "python",
   "nbconvert_exporter": "python",
   "pygments_lexer": "ipython3",
   "version": "3.7.6"
  }
 },
 "nbformat": 4,
 "nbformat_minor": 2
}
