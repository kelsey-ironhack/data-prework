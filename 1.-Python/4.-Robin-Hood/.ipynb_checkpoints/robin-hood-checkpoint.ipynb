{
 "cells": [
  {
   "cell_type": "markdown",
   "metadata": {},
   "source": [
    "<img src=\"https://bit.ly/2VnXWr2\" width=\"100\" align=\"left\"/>"
   ]
  },
  {
   "cell_type": "markdown",
   "metadata": {},
   "source": [
    "# Robin Hood\n",
    "Robin Hood has entered a competition to win the archery contest in Sherwood. With his bow and arrows, he needs to shoot on a target and try to hit as close as possible to the center.\n",
    "\n",
    "![](images/arrows.jpg)\n",
    "\n",
    "## Context\n",
    "In this challenge, the landing position of arrows shot by archers in the competition will be represented using 2-dimensional coordinates. \n",
    "\n",
    "In the 2-dimensional space, a point can be defined by a pair of values that correspond to the horizontal coordinate (x) and the vertical coordinate (y). For example, in our case, an arrow that hits the center of the archery target will land in position (0, 0) on the coordinate axes. \n",
    "\n",
    "The space can be divided into 4 zones (quadrants): Q1, Q2, Q3, Q4. If a point is in Q1, both its x coordinate and y coordinate are positive. Any point with a null x or y coordinate is considered to not belong to any quadrant. \n",
    "\n",
    "If you want to know more about the cartesian coordinate system, you can check this [link](https://en.wikipedia.org/wiki/Cartesian_coordinate_system). \n",
    "\n",
    "## Tools\n",
    "You don't necessarily need to use all the tools. Maybe you opt to use some of them or completely different ones, they are given to help you shape the exercise. Programming exercises can be solved in many different ways.\n",
    "* Data structures: **lists, sets, tuples**\n",
    "* Conditional statements: **if-elif-else**\n",
    "* Loop: **while/for**\n",
    "* Minimum (optional sorting)\n",
    "\n",
    "## Tasks\n",
    "Robin Hood has hit the following points:"
   ]
  },
  {
   "cell_type": "code",
   "execution_count": 1,
   "metadata": {},
   "outputs": [],
   "source": [
    "points = [(4, 5), (0, 2), (4, 7), (1, -3), (3, -2), (4, 5), (3, 2), (5, 7), (-5, 7), (2, 2), (-4, 5), (0, -2),\n",
    "          (-4, 7), (-1, 3), (-3, 2), (-4, -5), (-3, 2), (5, 7), (5, 7), (2, 2), (9, 9), (-8, -9)]"
   ]
  },
  {
   "cell_type": "markdown",
   "metadata": {},
   "source": [
    "#### 1. Robin Hood is famous for hitting an arrow with another arrow. Find the coordinates of the points where an arrow hits another arrow."
   ]
  },
  {
   "cell_type": "code",
   "execution_count": 2,
   "metadata": {},
   "outputs": [
    {
     "name": "stdout",
     "output_type": "stream",
     "text": [
      "Corrd with more than one arrow:  {(-3, 2), (4, 5), (5, 7), (2, 2)}\n"
     ]
    }
   ],
   "source": [
    "points.sort()\n",
    "double_hit = []\n",
    "for t in range(len(points)):\n",
    "    if t == 0:\n",
    "        anterior = points[t]\n",
    "    else:\n",
    "        actual = points[t]\n",
    "        if anterior == actual:\n",
    "            double_hit.append(anterior)\n",
    "            anterior = actual\n",
    "        else:\n",
    "            anterior = actual\n",
    "            \n",
    "coord_reps = set(double_hit)\n",
    "\n",
    "print('Corrd with more than one arrow: ', coord_reps)"
   ]
  },
  {
   "cell_type": "markdown",
   "metadata": {},
   "source": [
    "#### 2. Calculate how many arrows have fallen in each quadrant. \n",
    "**Note**: the arrows that fall in the axis (x=0 or y=0) don't belong to any quadrant."
   ]
  },
  {
   "cell_type": "code",
   "execution_count": 3,
   "metadata": {},
   "outputs": [
    {
     "name": "stdout",
     "output_type": "stream",
     "text": [
      "Quadrant 1:  10\n",
      "Quadrant 2:  2\n",
      "Quadrant 3:  2\n",
      "Quadrant 4:  6\n"
     ]
    }
   ],
   "source": [
    "q1 = 0\n",
    "q2 = 0\n",
    "q3 = 0\n",
    "q4 = 0\n",
    "for t in range(len(points)):\n",
    "    hit = points[t]\n",
    "    if hit[0] > 0 and hit[1] > 0:\n",
    "        q1 += 1\n",
    "    elif hit[0] > 0 and hit[1] < 0:\n",
    "        q2 += 1\n",
    "    elif hit[0] < 0 and hit[1] < 0:\n",
    "        q3 += 1\n",
    "    elif hit[0] < 0 and hit[1] > 0:\n",
    "        q4 += 1\n",
    "\n",
    "print('Quadrant 1: ', q1)\n",
    "print('Quadrant 2: ', q2)\n",
    "print('Quadrant 3: ', q3)\n",
    "print('Quadrant 4: ', q4)\n"
   ]
  },
  {
   "cell_type": "markdown",
   "metadata": {},
   "source": [
    "#### 3. Find the point closest to the center. Calculate its distance to the center. \n",
    "Take into account that there might be more than one point at the minimum distance to the center.\n",
    "\n",
    "**Hint**: Use the Euclidean distance. You can find more information about it [here](https://en.wikipedia.org/wiki/Euclidean_distance).  \n",
    "**Hint**: Defining a function that calculates the distance to the center can help."
   ]
  },
  {
   "cell_type": "code",
   "execution_count": 7,
   "metadata": {},
   "outputs": [
    {
     "name": "stdout",
     "output_type": "stream",
     "text": [
      "Closest distance to center:  2.0\n",
      "Points closests to the center:  [(0, -2), (0, 2)]\n"
     ]
    }
   ],
   "source": [
    "def distance(x, y):\n",
    "    from math import sqrt\n",
    "    return sqrt((x**2) + (y**2))\n",
    "\n",
    "dist = 0\n",
    "coordenadas = []\n",
    "for t in range(len(points)):\n",
    "    hit = points[t]\n",
    "    dist = distance(hit[0], hit[1])\n",
    "\n",
    "    if t == 0:\n",
    "        dist_ant = dist\n",
    "    else:\n",
    "        dist_act = dist\n",
    "        if dist_act <= dist_ant:\n",
    "            dist_ant = dist_act\n",
    "\n",
    "dist_min  = dist_ant\n",
    "print('Closest distance to center: ', dist_min)\n",
    "\n",
    "for t in range(len(points)):\n",
    "    hit = points[t]\n",
    "    dist = distance(hit[0], hit[1])\n",
    "    if dist == dist_min:\n",
    "        coordenadas.append(points[t])\n",
    "\n",
    "print('Points closests to the center: ', coordenadas)"
   ]
  },
  {
   "cell_type": "markdown",
   "metadata": {},
   "source": [
    "#### 4. If the archery target has a radius of 9, calculate the number of arrows that won't hit the target. \n",
    "**Hint**: Use the function created in step 3. "
   ]
  },
  {
   "cell_type": "code",
   "execution_count": 8,
   "metadata": {},
   "outputs": [
    {
     "name": "stdout",
     "output_type": "stream",
     "text": [
      "Number or arrows missed 2\n"
     ]
    }
   ],
   "source": [
    "def distance(x, y):\n",
    "    from math import sqrt\n",
    "    return sqrt((x**2) + (y**2))\n",
    "\n",
    "miss_arrows = 0\n",
    "radius = 9\n",
    "for t in range(len(points)):\n",
    "    hit = points[t]\n",
    "    dist = distance(hit[0], hit[1])\n",
    "    if dist >= radius:\n",
    "        miss_arrows += 1\n",
    "\n",
    "print('Number or arrows missed',miss_arrows)"
   ]
  }
 ],
 "metadata": {
  "kernelspec": {
   "display_name": "Python 3",
   "language": "python",
   "name": "python3"
  },
  "language_info": {
   "codemirror_mode": {
    "name": "ipython",
    "version": 3
   },
   "file_extension": ".py",
   "mimetype": "text/x-python",
   "name": "python",
   "nbconvert_exporter": "python",
   "pygments_lexer": "ipython3",
   "version": "3.8.5"
  }
 },
 "nbformat": 4,
 "nbformat_minor": 2
}
