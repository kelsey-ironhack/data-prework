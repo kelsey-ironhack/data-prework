{
 "cells": [
  {
   "cell_type": "markdown",
   "metadata": {},
   "source": [
    "<img src=\"https://bit.ly/2VnXWr2\" width=\"100\" align=\"left\"/>"
   ]
  },
  {
   "cell_type": "markdown",
   "metadata": {},
   "source": [
    "# Robin Hood\n",
    "Robin Hood has entered a competition to win the archery contest in Sherwood. With his bow and arrows, he needs to shoot on a target and try to hit as close as possible to the center.\n",
    "\n",
    "![](images/arrows.jpg)\n",
    "\n",
    "## Context\n",
    "In this challenge, the landing position of arrows shot by archers in the competition will be represented using 2-dimensional coordinates. \n",
    "\n",
    "In the 2-dimensional space, a point can be defined by a pair of values that correspond to the horizontal coordinate (x) and the vertical coordinate (y). For example, in our case, an arrow that hits the center of the archery target will land in position (0, 0) on the coordinate axes. \n",
    "\n",
    "The space can be divided into 4 zones (quadrants): Q1, Q2, Q3, Q4. If a point is in Q1, both its x coordinate and y coordinate are positive. Any point with a null x or y coordinate is considered to not belong to any quadrant. \n",
    "\n",
    "If you want to know more about the cartesian coordinate system, you can check this [link](https://en.wikipedia.org/wiki/Cartesian_coordinate_system). \n",
    "\n",
    "## Tools\n",
    "You don't necessarily need to use all the tools. Maybe you opt to use some of them or completely different ones, they are given to help you shape the exercise. Programming exercises can be solved in many different ways.\n",
    "* Data structures: **lists, sets, tuples**\n",
    "* Conditional statements: **if-elif-else**\n",
    "* Loop: **while/for**\n",
    "* Minimum (optional sorting)\n",
    "\n",
    "## Tasks\n",
    "Robin Hood has hit the following points:"
   ]
  },
  {
   "cell_type": "code",
   "execution_count": 2,
   "metadata": {},
   "outputs": [],
   "source": [
    "points = [(4, 5), (-0, 2), (4, 7), (1, -3), (3, -2), (4, 5), (3, 2), (5, 7), (-5, 7), (2, 2), (-4, 5), (0, -2),\n",
    "          (-4, 7), (-1, 3), (-3, 2), (-4, -5), (-3, 2), (5, 7), (5, 7), (2, 2), (9, 9), (-8, -9)]"
   ]
  },
  {
   "cell_type": "markdown",
   "metadata": {},
   "source": [
    "#### 1. Robin Hood is famous for hitting an arrow with another arrow. Find the coordinates of the points where an arrow hits another arrow."
   ]
  },
  {
   "cell_type": "code",
   "execution_count": 3,
   "metadata": {},
   "outputs": [
    {
     "name": "stdout",
     "output_type": "stream",
     "text": [
      "Where arrow hits another arrow:\n",
      " {(-5, 7), (3, -2), (-4, 7), (-4, 5), (9, 9), (5, 7), (4, 5), (0, 2), (1, -3), (-1, 3), (-4, -5), (2, 2), (-3, 2), (3, 2), (-8, -9), (0, -2), (4, 7)}\n"
     ]
    }
   ],
   "source": [
    "duplicates = set(points)\n",
    "\n",
    "print (\"Where arrow hits another arrow:\\n\",duplicates)"
   ]
  },
  {
   "cell_type": "markdown",
   "metadata": {},
   "source": [
    "#### 2. Calculate how many arrows have fallen in each quadrant. \n",
    "**Note**: the arrows that fall in the axis (x=0 or y=0) don't belong to any quadrant."
   ]
  },
  {
   "cell_type": "code",
   "execution_count": 31,
   "metadata": {},
   "outputs": [
    {
     "name": "stdout",
     "output_type": "stream",
     "text": [
      "no_quadrant: 2\n",
      "q1: 10\n",
      "q2: 6\n",
      "q3: 2\n",
      "q4: 2\n",
      "sum check: True\n"
     ]
    }
   ],
   "source": [
    "\n",
    "n=0\n",
    "q1 = 0\n",
    "q2 = 0\n",
    "q3 = 0\n",
    "q4 = 0\n",
    "no_quadrant = 0\n",
    "\n",
    "x_cord = [x for x,y in points ]\n",
    "y_cord = [y for x,y in points ]\n",
    "\n",
    "\n",
    "for i,j in zip(x_cord,y_cord):\n",
    "    if i == 0 or j == 0:\n",
    "        no_quadrant +=1\n",
    "    elif i > 0 and j > 0:\n",
    "        q1 +=1 \n",
    "    elif i < 0 and j > 0:\n",
    "        q2 +=1\n",
    "    elif i < 0 and j < 0:\n",
    "        q3 +=1\n",
    "    elif i > 0 and j < 0:\n",
    "        q4 += 1\n",
    "    else: \n",
    "        print(\"something else wrong brooo\")\n",
    "        \n",
    "        \n",
    "print(\"no_quadrant:\",no_quadrant)\n",
    "print (\"q1:\",q1)\n",
    "print (\"q2:\",q2)\n",
    "print (\"q3:\",q3)\n",
    "print (\"q4:\",q4)\n",
    "print(\"sum check:\", no_quadrant + q1 + q2 + q3 + q4 == len(points))\n",
    "\n"
   ]
  },
  {
   "cell_type": "markdown",
   "metadata": {},
   "source": [
    "#### 3. Find the point closest to the center. Calculate its distance to the center. \n",
    "Take into account that there might be more than one point at the minimum distance to the center.\n",
    "\n",
    "**Hint**: Use the Euclidean distance. You can find more information about it [here](https://en.wikipedia.org/wiki/Euclidean_distance).  \n",
    "**Hint**: Defining a function that calculates the distance to the center can help."
   ]
  },
  {
   "cell_type": "code",
   "execution_count": 75,
   "metadata": {},
   "outputs": [
    {
     "name": "stdout",
     "output_type": "stream",
     "text": [
      "(0, 2) : 2.0\n"
     ]
    }
   ],
   "source": [
    "\n",
    "#(4, 5) from (0,0)\n",
    "\n",
    "point_one_distance = (((4)**2)+((5))**2)**0.5\n",
    "\n",
    "#dynamic without function\n",
    "distance = []\n",
    "\n",
    "for index,tuple in enumerate(points):\n",
    "    x = (((tuple[0])**2)+((tuple[1]))**2)**0.5\n",
    "    distance.append(x)\n",
    "    \n",
    "which_point = distance.index(min(distance))\n",
    "\n",
    "print(points[which_point],\":\",min(distance))\n",
    "\n"
   ]
  },
  {
   "cell_type": "code",
   "execution_count": 80,
   "metadata": {},
   "outputs": [
    {
     "name": "stdout",
     "output_type": "stream",
     "text": [
      "(0, 2) : 2.0\n"
     ]
    }
   ],
   "source": [
    "#with function\n",
    "\n",
    "distance_points=[]\n",
    "\n",
    "def euclidean_distance (points):\n",
    "    return ((x**2+y**2))**0.5\n",
    "\n",
    "for (x,y) in (points): \n",
    "    distance1=euclidean_distance(points)\n",
    "    distance_points.append(distance1)\n",
    "    \n",
    "which_point = distance_points.index(min(distance_points))\n",
    "\n",
    "print(points[which_point],\":\",min(distance_points))\n",
    "    "
   ]
  },
  {
   "cell_type": "markdown",
   "metadata": {},
   "source": [
    "#### 4. If the archery target has a radius of 9, calculate the number of arrows that won't hit the target. \n",
    "**Hint**: Use the function created in step 3. "
   ]
  },
  {
   "cell_type": "code",
   "execution_count": 81,
   "metadata": {},
   "outputs": [
    {
     "data": {
      "text/plain": [
       "2"
      ]
     },
     "execution_count": 81,
     "metadata": {},
     "output_type": "execute_result"
    }
   ],
   "source": [
    "miss_target = 0\n",
    "\n",
    "for i in distance_points:\n",
    "    if i > 9:\n",
    "        miss_target += 1\n",
    "        \n",
    "miss_target\n",
    "    \n"
   ]
  },
  {
   "cell_type": "code",
   "execution_count": null,
   "metadata": {},
   "outputs": [],
   "source": []
  }
 ],
 "metadata": {
  "kernelspec": {
   "display_name": "Python 3",
   "language": "python",
   "name": "python3"
  },
  "language_info": {
   "codemirror_mode": {
    "name": "ipython",
    "version": 3
   },
   "file_extension": ".py",
   "mimetype": "text/x-python",
   "name": "python",
   "nbconvert_exporter": "python",
   "pygments_lexer": "ipython3",
   "version": "3.9.1"
  }
 },
 "nbformat": 4,
 "nbformat_minor": 2
}
