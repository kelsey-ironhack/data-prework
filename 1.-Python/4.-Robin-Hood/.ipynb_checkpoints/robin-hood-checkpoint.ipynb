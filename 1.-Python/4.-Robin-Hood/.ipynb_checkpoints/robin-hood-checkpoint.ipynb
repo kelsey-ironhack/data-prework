{
 "cells": [
  {
   "cell_type": "markdown",
   "metadata": {},
   "source": [
    "<img src=\"https://bit.ly/2VnXWr2\" width=\"100\" align=\"left\"/>"
   ]
  },
  {
   "cell_type": "markdown",
   "metadata": {},
   "source": [
    "# Robin Hood\n",
    "Robin Hood has entered a competition to win the archery contest in Sherwood. With his bow and arrows, he needs to shoot on a target and try to hit as close as possible to the center.\n",
    "\n",
    "![](images/arrows.jpg)\n",
    "\n",
    "## Context\n",
    "In this challenge, the landing position of arrows shot by archers in the competition will be represented using 2-dimensional coordinates. \n",
    "\n",
    "In the 2-dimensional space, a point can be defined by a pair of values that correspond to the horizontal coordinate (x) and the vertical coordinate (y). For example, in our case, an arrow that hits the center of the archery target will land in position (0, 0) on the coordinate axes. \n",
    "\n",
    "The space can be divided into 4 zones (quadrants): Q1, Q2, Q3, Q4. If a point is in Q1, both its x coordinate and y coordinate are positive. Any point with a null x or y coordinate is considered to not belong to any quadrant. \n",
    "\n",
    "If you want to know more about the cartesian coordinate system, you can check this [link](https://en.wikipedia.org/wiki/Cartesian_coordinate_system). \n",
    "\n",
    "## Tools\n",
    "You don't necessarily need to use all the tools. Maybe you opt to use some of them or completely different ones, they are given to help you shape the exercise. Programming exercises can be solved in many different ways.\n",
    "* Data structures: **lists, sets, tuples**\n",
    "* Conditional statements: **if-elif-else**\n",
    "* Loop: **while/for**\n",
    "* Minimum (optional sorting)\n",
    "\n",
    "## Tasks\n",
    "Robin Hood has hit the following points:"
   ]
  },
  {
   "cell_type": "code",
   "execution_count": 1,
   "metadata": {},
   "outputs": [],
   "source": [
    "points = [(4, 5), (-0, 2), (4, 7), (1, -3), (3, -2), (4, 5), (3, 2), (5, 7), (-5, 7), (2, 2), (-4, 5), (0, -2),\n",
    "          (-4, 7), (-1, 3), (-3, 2), (-4, -5), (-3, 2), (5, 7), (5, 7), (2, 2), (9, 9), (-8, -9)]"
   ]
  },
  {
   "cell_type": "markdown",
   "metadata": {},
   "source": [
    "#### 1. Robin Hood is famous for hitting an arrow with another arrow. Find the coordinates of the points where an arrow hits another arrow."
   ]
  },
  {
   "cell_type": "code",
   "execution_count": 2,
   "metadata": {},
   "outputs": [
    {
     "name": "stdout",
     "output_type": "stream",
     "text": [
      "[[4, 5], [0, 2], [4, 7], [1, -3], [3, -2], [4, 5], [3, 2], [5, 7], [-5, 7], [2, 2], [-4, 5], [0, -2], [-4, 7], [-1, 3], [-3, 2], [-4, -5], [-3, 2], [5, 7], [5, 7], [2, 2], [9, 9], [-8, -9]]\n"
     ]
    },
    {
     "data": {
      "text/plain": [
       "[[4, 5], [5, 7], [5, 7], [2, 2], [-3, 2], [5, 7]]"
      ]
     },
     "execution_count": 2,
     "metadata": {},
     "output_type": "execute_result"
    }
   ],
   "source": [
    "points_list = []\n",
    "\n",
    "for i in points:\n",
    "    points_list.append([i[0],i[1]])\n",
    "print(points_list)\n",
    "\n",
    "arrow_hits_arrow = []\n",
    "\n",
    "for position in range(len(points_list)):\n",
    "    for check in range(position + 1, len(points_list)):\n",
    "        if points_list[position][0] == points_list[check][0] and points_list[position][1] == points_list[check][1]:\n",
    "            arrow_hits_arrow.append(points_list[position])\n",
    "            \n",
    "arrow_hits_arrow"
   ]
  },
  {
   "cell_type": "markdown",
   "metadata": {},
   "source": [
    "#### 2. Calculate how many arrows have fallen in each quadrant. \n",
    "**Note**: the arrows that fall in the axis (x=0 or y=0) don't belong to any quadrant."
   ]
  },
  {
   "cell_type": "code",
   "execution_count": 3,
   "metadata": {},
   "outputs": [
    {
     "name": "stdout",
     "output_type": "stream",
     "text": [
      "10 arrows have fallen into the first quadrant.\n",
      "6 arrows have fallen into the second quadrant.\n",
      "2 arrows have fallen into the third quadrant.\n",
      "4 arrows have fallen into the fourth quadrant.\n"
     ]
    }
   ],
   "source": [
    "quadrant_1 = []\n",
    "quadrant_2 = []\n",
    "quadrant_3 = []\n",
    "quadrant_4 = []\n",
    "\n",
    "for position in points_list:\n",
    "    if position[0] > 0 and position[1] > 0:\n",
    "        quadrant_1.append(position)\n",
    "    elif position[0] < 0 and position[1] > 0:\n",
    "        quadrant_2.append(position)\n",
    "    elif position[0] < 0 and position[1] < 0:\n",
    "        quadrant_3.append(position)\n",
    "    else:\n",
    "        quadrant_4.append(position)\n",
    "\n",
    "print(len(quadrant_1), \"arrows have fallen into the first quadrant.\")\n",
    "print(len(quadrant_2), \"arrows have fallen into the second quadrant.\")\n",
    "print(len(quadrant_3), \"arrows have fallen into the third quadrant.\")\n",
    "print(len(quadrant_4), \"arrows have fallen into the fourth quadrant.\")"
   ]
  },
  {
   "cell_type": "markdown",
   "metadata": {},
   "source": [
    "#### 3. Find the point closest to the center. Calculate its distance to the center. \n",
    "Take into account that there might be more than one point at the minimum distance to the center.\n",
    "\n",
    "**Hint**: Use the Euclidean distance. You can find more information about it [here](https://en.wikipedia.org/wiki/Euclidean_distance).  \n",
    "**Hint**: Defining a function that calculates the distance to the center can help."
   ]
  },
  {
   "cell_type": "code",
   "execution_count": 4,
   "metadata": {},
   "outputs": [
    {
     "name": "stdout",
     "output_type": "stream",
     "text": [
      "[6.4031242374328485, 2.0, 8.06225774829855, 3.1622776601683795, 3.605551275463989, 6.4031242374328485, 3.605551275463989, 8.602325267042627, 8.602325267042627, 2.8284271247461903, 6.4031242374328485, 2.0, 8.06225774829855, 3.1622776601683795, 3.605551275463989, 6.4031242374328485, 3.605551275463989, 8.602325267042627, 8.602325267042627, 2.8284271247461903, 12.727922061357855, 12.041594578792296]\n",
      "Minimum point has a distance of 2.0 to the center.\n"
     ]
    },
    {
     "data": {
      "text/plain": [
       "[0, 2]"
      ]
     },
     "execution_count": 4,
     "metadata": {},
     "output_type": "execute_result"
    }
   ],
   "source": [
    "def distance(x, y):\n",
    "    d = (x**2 + y**2)**(1/2)\n",
    "    return d\n",
    "\n",
    "points_distance = []\n",
    "for position in points_list:\n",
    "    points_distance.append(distance(position[0], position[1]))\n",
    "print(points_distance)\n",
    "\n",
    "print(\"Minimum point has a distance of\", min(points_distance), \"to the center.\")\n",
    "\n",
    "# Position of the minimum point in the list\n",
    "points_distance.index(min(points_distance))\n",
    "\n",
    "# Point with the minimum distance\n",
    "points_list[1]"
   ]
  },
  {
   "cell_type": "markdown",
   "metadata": {},
   "source": [
    "#### 4. If the archery target has a radius of 9, calculate the number of arrows that won't hit the target. \n",
    "**Hint**: Use the function created in step 3. "
   ]
  },
  {
   "cell_type": "code",
   "execution_count": 5,
   "metadata": {},
   "outputs": [
    {
     "name": "stdout",
     "output_type": "stream",
     "text": [
      "2 arrows wont hit the target.\n"
     ]
    }
   ],
   "source": [
    "failed_arrows = []\n",
    "\n",
    "for d in points_distance:\n",
    "    if d >= 9:\n",
    "        failed_arrows.append(d)\n",
    "\n",
    "print(len(failed_arrows), \"arrows wont hit the target.\")"
   ]
  }
 ],
 "metadata": {
  "kernelspec": {
   "display_name": "Python 3",
   "language": "python",
   "name": "python3"
  },
  "language_info": {
   "codemirror_mode": {
    "name": "ipython",
    "version": 3
   },
   "file_extension": ".py",
   "mimetype": "text/x-python",
   "name": "python",
   "nbconvert_exporter": "python",
   "pygments_lexer": "ipython3",
   "version": "3.8.3"
  }
 },
 "nbformat": 4,
 "nbformat_minor": 2
}
