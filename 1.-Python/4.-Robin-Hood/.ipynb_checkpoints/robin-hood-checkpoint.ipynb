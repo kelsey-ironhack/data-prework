{
 "cells": [
  {
   "cell_type": "markdown",
   "metadata": {},
   "source": [
    "<img src=\"https://bit.ly/2VnXWr2\" width=\"100\" align=\"left\"/>"
   ]
  },
  {
   "cell_type": "markdown",
   "metadata": {},
   "source": [
    "# Robin Hood\n",
    "Robin Hood has entered a competition to win the archery contest in Sherwood. With his bow and arrows, he needs to shoot on a target and try to hit as close as possible to the center.\n",
    "\n",
    "![](images/arrows.jpg)\n",
    "\n",
    "## Context\n",
    "In this challenge, the landing position of arrows shot by archers in the competition will be represented using 2-dimensional coordinates. \n",
    "\n",
    "In the 2-dimensional space, a point can be defined by a pair of values that correspond to the horizontal coordinate (x) and the vertical coordinate (y). For example, in our case, an arrow that hits the center of the archery target will land in position (0, 0) on the coordinate axes. \n",
    "\n",
    "The space can be divided into 4 zones (quadrants): Q1, Q2, Q3, Q4. If a point is in Q1, both its x coordinate and y coordinate are positive. Any point with a null x or y coordinate is considered to not belong to any quadrant. \n",
    "\n",
    "If you want to know more about the cartesian coordinate system, you can check this [link](https://en.wikipedia.org/wiki/Cartesian_coordinate_system). \n",
    "\n",
    "## Tools\n",
    "You don't necessarily need to use all the tools. Maybe you opt to use some of them or completely different ones, they are given to help you shape the exercise. Programming exercises can be solved in many different ways.\n",
    "* Data structures: **lists, sets, tuples**\n",
    "* Conditional statements: **if-elif-else**\n",
    "* Loop: **while/for**\n",
    "* Minimum (optional sorting)\n",
    "\n",
    "## Tasks\n",
    "Robin Hood has hit the following points:"
   ]
  },
  {
   "cell_type": "code",
   "execution_count": 1,
   "metadata": {},
   "outputs": [],
   "source": [
    "import math\n",
    "points = [(4, 5), (-0, 2), (4, 7), (1, -3), (3, -2), (4, 5), (3, 2), (5, 7), (-5, 7), (2, 2), (-4, 5), (0, -2),\n",
    "          (-4, 7), (-1, 3), (-3, 2), (-4, -5), (-3, 2), (5, 7), (5, 7), (2, 2), (9, 9), (-8, -9)]"
   ]
  },
  {
   "cell_type": "markdown",
   "metadata": {},
   "source": [
    "#### 1. Robin Hood is famous for hitting an arrow with another arrow. Find the coordinates of the points where an arrow hits another arrow."
   ]
  },
  {
   "cell_type": "code",
   "execution_count": 2,
   "metadata": {},
   "outputs": [
    {
     "name": "stdout",
     "output_type": "stream",
     "text": [
      " The coordinates of the points where an arrow hits another arrow:  [(-3, 2), (4, 5), (5, 7), (2, 2)]\n"
     ]
    }
   ],
   "source": [
    "coordinates_list = []\n",
    "for element in points:\n",
    "    if points.count(element) > 1:\n",
    "        coordinates_list.append(element)\n",
    "\n",
    "coordinates_set = set(coordinates_list)  \n",
    "coordinates = list(coordinates_set)\n",
    "print(\" The coordinates of the points where an arrow hits another arrow: \", coordinates)"
   ]
  },
  {
   "cell_type": "markdown",
   "metadata": {},
   "source": [
    "#### 2. Calculate how many arrows have fallen in each quadrant. \n",
    "**Note**: the arrows that fall in the axis (x=0 or y=0) don't belong to any quadrant."
   ]
  },
  {
   "cell_type": "code",
   "execution_count": 3,
   "metadata": {},
   "outputs": [
    {
     "name": "stdout",
     "output_type": "stream",
     "text": [
      "This (0, 2) doesnot belong to any quadrant\n",
      "This (0, -2) doesnot belong to any quadrant\n",
      "Number of arrows in each quadrants are Q1 = 10 arrows, Q2 = 6 arrows, Q3 = 2 arrows, Q4 = 2 arrows\n"
     ]
    }
   ],
   "source": [
    "quadrant_one = 0\n",
    "quadrant_two = 0\n",
    "quadrant_three = 0\n",
    "quadrant_four = 0\n",
    "\n",
    "for point in points:\n",
    "    x = 0\n",
    "    y = 1\n",
    "    \n",
    "    if ((point[x] > 0) & (point[y] > 0)):\n",
    "        quadrant_one += 1\n",
    "    elif ((point[x] < 0) & (point[y] > 0)):\n",
    "        quadrant_two += 1\n",
    "    elif ((point[x] < 0) & (point[y] < 0)):\n",
    "        quadrant_three += 1\n",
    "    elif ((point[x] > 0) & (point[y] < 0)):\n",
    "        quadrant_four += 1\n",
    "    else:\n",
    "        print(f\"This {point} doesnot belong to any quadrant\")\n",
    "\n",
    "\n",
    "print(f\"Number of arrows in each quadrants are Q1 = {quadrant_one} arrows, Q2 = {quadrant_two} arrows, Q3 = {quadrant_three} arrows, Q4 = {quadrant_four} arrows\")"
   ]
  },
  {
   "cell_type": "markdown",
   "metadata": {},
   "source": [
    "#### 3. Find the point closest to the center. Calculate its distance to the center. \n",
    "Take into account that there might be more than one point at the minimum distance to the center.\n",
    "\n",
    "**Hint**: Use the Euclidean distance. You can find more information about it [here](https://en.wikipedia.org/wiki/Euclidean_distance).  \n",
    "**Hint**: Defining a function that calculates the distance to the center can help."
   ]
  },
  {
   "cell_type": "code",
   "execution_count": 5,
   "metadata": {},
   "outputs": [
    {
     "name": "stdout",
     "output_type": "stream",
     "text": [
      "Closest point to the center is (0, 2)\n",
      "Closest points from our points list are [(0, 2), (0, -2)]\n",
      "Distance of closest point (0, 2) to the center is 2.0\n",
      "Distance of closest point (0, -2) to the center is 2.0\n"
     ]
    }
   ],
   "source": [
    "\"\"\"Point closest to the center\"\"\"\n",
    "x_coordinates_list = []\n",
    "y_coordinates_list = []\n",
    "for point in points:\n",
    "    x = 0\n",
    "    y = 1\n",
    "    x_coordinates_list.append(point[x])\n",
    "    y_coordinates_list.append(point[y])\n",
    "\n",
    "x_mean = int(sum(x_coordinates_list) / len(x_coordinates_list))\n",
    "y_mean = int(sum(y_coordinates_list) / len(y_coordinates_list))\n",
    "\n",
    "closest_point = (x_mean, y_mean)\n",
    "print(f\"Closest point to the center is {closest_point}\")\n",
    "\n",
    "closest_point_list = []\n",
    "for point in points:\n",
    "    x= 0\n",
    "    y = 1\n",
    "    if ((closest_point[x] & closest_point[y]) in point):\n",
    "        closest_point_list.append(point)\n",
    "\n",
    "print(f\"Closest points from our points list are {closest_point_list}\")\n",
    "\n",
    "\n",
    "\"\"\"Calculate distance to the center\"\"\"\n",
    "def distance_from_origin(point):\n",
    "    x = 0\n",
    "    y = 1\n",
    "    distance = math.sqrt((point[x])**2 + (point[y])**2)\n",
    "    return distance\n",
    "\n",
    "for point in closest_point_list:\n",
    "    print(f\"Distance of closest point {point} to the center is {distance_from_origin(point)}\")"
   ]
  },
  {
   "cell_type": "markdown",
   "metadata": {},
   "source": [
    "#### 4. If the archery target has a radius of 9, calculate the number of arrows that won't hit the target. \n",
    "**Hint**: Use the function created in step 3. "
   ]
  },
  {
   "cell_type": "code",
   "execution_count": 7,
   "metadata": {},
   "outputs": [
    {
     "name": "stdout",
     "output_type": "stream",
     "text": [
      "The arrow (4, 5) that hits the target\n",
      "The arrow (0, 2) that hits the target\n",
      "The arrow (4, 7) that hits the target\n",
      "The arrow (1, -3) that hits the target\n",
      "The arrow (3, -2) that hits the target\n",
      "The arrow (4, 5) that hits the target\n",
      "The arrow (3, 2) that hits the target\n",
      "The arrow (5, 7) that hits the target\n",
      "The arrow (-5, 7) that hits the target\n",
      "The arrow (2, 2) that hits the target\n",
      "The arrow (-4, 5) that hits the target\n",
      "The arrow (0, -2) that hits the target\n",
      "The arrow (-4, 7) that hits the target\n",
      "The arrow (-1, 3) that hits the target\n",
      "The arrow (-3, 2) that hits the target\n",
      "The arrow (-4, -5) that hits the target\n",
      "The arrow (-3, 2) that hits the target\n",
      "The arrow (5, 7) that hits the target\n",
      "The arrow (5, 7) that hits the target\n",
      "The arrow (2, 2) that hits the target\n",
      "The arrow (9, 9) that won't hit the target\n",
      "The arrow (-8, -9) that won't hit the target\n",
      "The number of arrows that won't hit the target are 2\n"
     ]
    }
   ],
   "source": [
    "\n",
    "\"\"\"If the archery target has a radius of 9, calculate the number of arrows that won't hit the target.\"\"\"\n",
    "counter = 0\n",
    "for point in points:\n",
    "    if distance_from_origin(point) > 9:\n",
    "        print(f\"The arrow {point} that won't hit the target\")\n",
    "        counter += 1\n",
    "    else:\n",
    "        print(f\"The arrow {point} that hits the target\")\n",
    "print(f\"The number of arrows that won't hit the target are {counter}\")"
   ]
  },
  {
   "cell_type": "code",
   "execution_count": null,
   "metadata": {},
   "outputs": [],
   "source": []
  }
 ],
 "metadata": {
  "kernelspec": {
   "display_name": "Python 3",
   "language": "python",
   "name": "python3"
  },
  "language_info": {
   "codemirror_mode": {
    "name": "ipython",
    "version": 3
   },
   "file_extension": ".py",
   "mimetype": "text/x-python",
   "name": "python",
   "nbconvert_exporter": "python",
   "pygments_lexer": "ipython3",
   "version": "3.8.5"
  }
 },
 "nbformat": 4,
 "nbformat_minor": 2
}
