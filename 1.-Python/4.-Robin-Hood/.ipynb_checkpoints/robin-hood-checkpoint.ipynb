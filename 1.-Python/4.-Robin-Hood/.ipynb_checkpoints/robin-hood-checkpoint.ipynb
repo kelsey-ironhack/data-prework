{
 "cells": [
  {
   "cell_type": "markdown",
   "metadata": {},
   "source": [
    "<img src=\"https://bit.ly/2VnXWr2\" width=\"100\" align=\"left\"/>"
   ]
  },
  {
   "cell_type": "markdown",
   "metadata": {},
   "source": [
    "# Robin Hood\n",
    "Robin Hood has entered a competition to win the archery contest in Sherwood. With his bow and arrows, he needs to shoot on a target and try to hit as close as possible to the center.\n",
    "\n",
    "![](images/arrows.jpg)\n",
    "\n",
    "## Context\n",
    "In this challenge, the landing position of arrows shot by archers in the competition will be represented using 2-dimensional coordinates. \n",
    "\n",
    "In the 2-dimensional space, a point can be defined by a pair of values that correspond to the horizontal coordinate (x) and the vertical coordinate (y). For example, in our case, an arrow that hits the center of the archery target will land in position (0, 0) on the coordinate axes. \n",
    "\n",
    "The space can be divided into 4 zones (quadrants): Q1, Q2, Q3, Q4. If a point is in Q1, both its x coordinate and y coordinate are positive. Any point with a null x or y coordinate is considered to not belong to any quadrant. \n",
    "\n",
    "If you want to know more about the cartesian coordinate system, you can check this [link](https://en.wikipedia.org/wiki/Cartesian_coordinate_system). \n",
    "\n",
    "## Tools\n",
    "You don't necessarily need to use all the tools. Maybe you opt to use some of them or completely different ones, they are given to help you shape the exercise. Programming exercises can be solved in many different ways.\n",
    "* Data structures: **lists, sets, tuples**\n",
    "* Conditional statements: **if-elif-else**\n",
    "* Loop: **while/for**\n",
    "* Minimum (optional sorting)\n",
    "\n",
    "## Tasks\n",
    "Robin Hood has hit the following points:"
   ]
  },
  {
   "cell_type": "code",
   "execution_count": 2,
   "metadata": {},
   "outputs": [],
   "source": [
    "points = [(4, 5), (-0, 2), (4, 7), (1, -3), (3, -2), (4, 5), (3, 2), (5, 7), (-5, 7), (2, 2), (-4, 5), (0, -2),\n",
    "          (-4, 7), (-1, 3), (-3, 2), (-4, -5), (-3, 2), (5, 7), (5, 7), (2, 2), (9, 9), (-8, -9)]"
   ]
  },
  {
   "cell_type": "markdown",
   "metadata": {},
   "source": [
    "#### 1. Robin Hood is famous for hitting an arrow with another arrow. Find the coordinates of the points where an arrow hits another arrow."
   ]
  },
  {
   "cell_type": "code",
   "execution_count": 40,
   "metadata": {},
   "outputs": [
    {
     "name": "stdout",
     "output_type": "stream",
     "text": [
      "[[-3, 2], [2, 2], [4, 5], [5, 7], [5, 7]]\n",
      "[[-3, 2], [2, 2], [4, 5], [5, 7]]\n"
     ]
    }
   ],
   "source": [
    "new=[]\n",
    "for a in points:\n",
    "    new.append(list(a))\n",
    "\n",
    "new.sort()\n",
    "\n",
    "list_another=[]\n",
    "\n",
    "for i in range(len(new)-1):\n",
    "    if new[i] == new[i+1]:\n",
    "        list_another.append(new[i])\n",
    "\n",
    "print(list_another)\n",
    "\n",
    "list_no_duplicates = []\n",
    "for coord in list_another:\n",
    "    if coord not in list_no_duplicates:\n",
    "        list_no_duplicates.append(coord)\n",
    "        \n",
    "print(list_no_duplicates)\n"
   ]
  },
  {
   "cell_type": "markdown",
   "metadata": {},
   "source": [
    "#### 2. Calculate how many arrows have fallen in each quadrant. \n",
    "**Note**: the arrows that fall in the axis (x=0 or y=0) don't belong to any quadrant."
   ]
  },
  {
   "cell_type": "code",
   "execution_count": 46,
   "metadata": {},
   "outputs": [
    {
     "name": "stdout",
     "output_type": "stream",
     "text": [
      "10 6 4 2\n"
     ]
    }
   ],
   "source": [
    "first_quadrant=0\n",
    "second_quadrant=0\n",
    "third_quadrant=0\n",
    "fourth_quadrant=0\n",
    "\n",
    "for element in new:\n",
    "    if element[0]>0 and element[1]>0:\n",
    "        first_quadrant+=1\n",
    "    elif element[0]>0 and element[1]<0:\n",
    "        fourth_quadrant+=1\n",
    "    elif element[0]<0 and element[1]>0:\n",
    "        second_quadrant+=1\n",
    "    else:\n",
    "        third_quadrant+=1\n",
    "\n",
    "print(first_quadrant, second_quadrant, third_quadrant, fourth_quadrant)"
   ]
  },
  {
   "cell_type": "markdown",
   "metadata": {},
   "source": [
    "#### 3. Find the point closest to the center. Calculate its distance to the center. \n",
    "Take into account that there might be more than one point at the minimum distance to the center.\n",
    "\n",
    "**Hint**: Use the Euclidean distance. You can find more information about it [here](https://en.wikipedia.org/wiki/Euclidean_distance).  \n",
    "**Hint**: Defining a function that calculates the distance to the center can help."
   ]
  },
  {
   "cell_type": "code",
   "execution_count": 61,
   "metadata": {},
   "outputs": [
    {
     "name": "stdout",
     "output_type": "stream",
     "text": [
      "4\n",
      "[0, -2] [0, 2]\n"
     ]
    }
   ],
   "source": [
    "# Center has coordinates (0,0).\n",
    "\n",
    "eucl_distance=[]\n",
    "\n",
    "for element in new:\n",
    "    eucl_distance.append((element[0]**2)+(element[1]**2))\n",
    "\n",
    "print(min(eucl_distance))\n",
    "\n",
    "index_final=[]\n",
    "\n",
    "for i in range(len(eucl_distance)):\n",
    "    if eucl_distance[i] == 4:\n",
    "        index_final.append(i)\n",
    "\n",
    "print(new[8], new[9])\n",
    "    "
   ]
  },
  {
   "cell_type": "markdown",
   "metadata": {},
   "source": [
    "#### 4. If the archery target has a radius of 9, calculate the number of arrows that won't hit the target. \n",
    "**Hint**: Use the function created in step 3. "
   ]
  },
  {
   "cell_type": "code",
   "execution_count": 69,
   "metadata": {},
   "outputs": [
    {
     "name": "stdout",
     "output_type": "stream",
     "text": [
      "[4, 4, 8, 8]\n",
      "18\n"
     ]
    }
   ],
   "source": [
    "target=[]\n",
    "\n",
    "for i in eucl_distance:\n",
    "    if i>9:\n",
    "        continue\n",
    "    else:\n",
    "        target.append(i)\n",
    "        \n",
    "print(target)\n",
    "\n",
    "no_target=len(eucl_distance)-len(target)\n",
    "print(no_target)"
   ]
  }
 ],
 "metadata": {
  "kernelspec": {
   "display_name": "Python 3",
   "language": "python",
   "name": "python3"
  },
  "language_info": {
   "codemirror_mode": {
    "name": "ipython",
    "version": 3
   },
   "file_extension": ".py",
   "mimetype": "text/x-python",
   "name": "python",
   "nbconvert_exporter": "python",
   "pygments_lexer": "ipython3",
   "version": "3.8.5"
  }
 },
 "nbformat": 4,
 "nbformat_minor": 2
}
