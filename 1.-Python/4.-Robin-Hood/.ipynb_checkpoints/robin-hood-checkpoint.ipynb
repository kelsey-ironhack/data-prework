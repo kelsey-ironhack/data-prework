{
 "cells": [
  {
   "cell_type": "markdown",
   "metadata": {},
   "source": [
    "<img src=\"https://bit.ly/2VnXWr2\" width=\"100\" align=\"left\"/>"
   ]
  },
  {
   "cell_type": "markdown",
   "metadata": {},
   "source": [
    "# Robin Hood\n",
    "Robin Hood has entered a competition to win the archery contest in Sherwood. With his bow and arrows, he needs to shoot on a target and try to hit as close as possible to the center.\n",
    "\n",
    "![](images/arrows.jpg)\n",
    "\n",
    "## Context\n",
    "In this challenge, the landing position of arrows shot by archers in the competition will be represented using 2-dimensional coordinates. \n",
    "\n",
    "In the 2-dimensional space, a point can be defined by a pair of values that correspond to the horizontal coordinate (x) and the vertical coordinate (y). For example, in our case, an arrow that hits the center of the archery target will land in position (0, 0) on the coordinate axes. \n",
    "\n",
    "The space can be divided into 4 zones (quadrants): Q1, Q2, Q3, Q4. If a point is in Q1, both its x coordinate and y coordinate are positive. Any point with a null x or y coordinate is considered to not belong to any quadrant. \n",
    "\n",
    "If you want to know more about the cartesian coordinate system, you can check this [link](https://en.wikipedia.org/wiki/Cartesian_coordinate_system). \n",
    "\n",
    "## Tools\n",
    "You don't necessarily need to use all the tools. Maybe you opt to use some of them or completely different ones, they are given to help you shape the exercise. Programming exercises can be solved in many different ways.\n",
    "* Data structures: **lists, sets, tuples**\n",
    "* Conditional statements: **if-elif-else**\n",
    "* Loop: **while/for**\n",
    "* Minimum (optional sorting)\n",
    "\n",
    "## Tasks\n",
    "Robin Hood has hit the following points:"
   ]
  },
  {
   "cell_type": "code",
   "execution_count": 1,
   "metadata": {},
   "outputs": [],
   "source": [
    "points = [(4, 5), (-0, 2), (4, 7), (1, -3), (3, -2), (4, 5), (3, 2), (5, 7), (-5, 7), (2, 2), (-4, 5), (0, -2),\n",
    "          (-4, 7), (-1, 3), (-3, 2), (-4, -5), (-3, 2), (5, 7), (5, 7), (2, 2), (9, 9), (-8, -9)]"
   ]
  },
  {
   "cell_type": "markdown",
   "metadata": {},
   "source": [
    "#### 1. Robin Hood is famous for hitting an arrow with another arrow. Find the coordinates of the points where an arrow hits another arrow."
   ]
  },
  {
   "cell_type": "code",
   "execution_count": 2,
   "metadata": {},
   "outputs": [
    {
     "name": "stdout",
     "output_type": "stream",
     "text": [
      "Coordinates of the points where an arrow hits another arrow are:  [(5, 7), (4, 5), (2, 2), (-3, 2)]\n"
     ]
    }
   ],
   "source": [
    "unique_points = set(points)\n",
    "arrow_hitting = []\n",
    "\n",
    "for arrow in unique_points:\n",
    "    if points.count(arrow) > 1:\n",
    "        arrow_hitting.append(arrow)\n",
    "        \n",
    "print (\"Coordinates of the points where an arrow hits another arrow are: \", arrow_hitting)\n",
    "    "
   ]
  },
  {
   "cell_type": "markdown",
   "metadata": {},
   "source": [
    "#### 2. Calculate how many arrows have fallen in each quadrant. \n",
    "**Note**: the arrows that fall in the axis (x=0 or y=0) don't belong to any quadrant."
   ]
  },
  {
   "cell_type": "code",
   "execution_count": 3,
   "metadata": {},
   "outputs": [
    {
     "name": "stdout",
     "output_type": "stream",
     "text": [
      "Total arrow have fallen in Q1 : 10\n",
      "Total arrow have fallen in Q2 : 6\n",
      "Total arrow have fallen in Q3 : 2\n",
      "Total arrow have fallen in Q4 : 2\n"
     ]
    }
   ],
   "source": [
    "quadrantes = {'Q1': 0, 'Q2':0, 'Q3':0, 'Q4':0}\n",
    "for arrow in points:\n",
    "    (x, y) = arrow\n",
    "    if x > 0 and y > 0:\n",
    "        quadrantes['Q1'] += 1\n",
    "            \n",
    "    elif x < 0 and y > 0:\n",
    "        quadrantes['Q2'] += 1 \n",
    "            \n",
    "    elif x < 0 and y < 0:           \n",
    "        quadrantes['Q3'] += 1\n",
    "        \n",
    "    elif x > 0 and y < 0:\n",
    "        quadrantes['Q4'] += 1         \n",
    "          \n",
    "for quadrante, total in quadrantes.items():\n",
    "    print (\"Total arrow have fallen in %s : %d\" %(quadrante, total))"
   ]
  },
  {
   "cell_type": "markdown",
   "metadata": {},
   "source": [
    "#### 3. Find the point closest to the center. Calculate its distance to the center. \n",
    "Take into account that there might be more than one point at the minimum distance to the center.\n",
    "\n",
    "**Hint**: Use the Euclidean distance. You can find more information about it [here](https://en.wikipedia.org/wiki/Euclidean_distance).  \n",
    "**Hint**: Defining a function that calculates the distance to the center can help."
   ]
  },
  {
   "attachments": {
    "image.png": {
     "image/png": "[encoded data removed]"
    }
   },
   "cell_type": "markdown",
   "metadata": {},
   "source": [
    "Given endpoints p1(x1,y1) and p2(x2,y2), the distance between two points is given by\n",
    "![image.png](attachment:image.png)\n",
    "\n",
    "if the central point is p1(0,0) then the formula will be sqrt(x2 ** 2 + y2 **2)\n",
    "        \n",
    "    \n"
   ]
  },
  {
   "cell_type": "code",
   "execution_count": 71,
   "metadata": {
    "scrolled": true
   },
   "outputs": [
    {
     "name": "stdout",
     "output_type": "stream",
     "text": [
      "The point closest to the center will be [[ 0  2]\n",
      " [ 0 -2]]\n"
     ]
    }
   ],
   "source": [
    "import math\n",
    "import numpy as np\n",
    "\n",
    "point_list = list(unique_points)\n",
    "arrow_distance = []\n",
    "arrow_closest = []\n",
    "\n",
    "for arrow in point_list:\n",
    "    (x,y) = arrow\n",
    "    distance = math.sqrt(x** 2 + y**2)        \n",
    "    arrow_distance.append(distance)\n",
    "          \n",
    "closest = min(arrow_distance)\n",
    "idx = np.array(arrow_distance) == closest \n",
    "arrow_closest = np.array(point_list)[idx]\n",
    "\n",
    "print ('The point closest to the center will be', arrow_closest)\n"
   ]
  },
  {
   "cell_type": "markdown",
   "metadata": {},
   "source": [
    "#### 4. If the archery target has a radius of 9, calculate the number of arrows that won't hit the target. \n",
    "**Hint**: Use the function created in step 3.\n"
   ]
  },
  {
   "cell_type": "markdown",
   "metadata": {},
   "source": [
    "Given that in arrow_distance we have all the distance between arrow point and origin point (coordinates (0,0)), we have already the radius for arrow point at all. If this radius is high than 9, the arrow will be out of target."
   ]
  },
  {
   "cell_type": "code",
   "execution_count": 78,
   "metadata": {},
   "outputs": [
    {
     "name": "stdout",
     "output_type": "stream",
     "text": [
      "The number of arrows that won't hit the target: 2\n",
      "The arrow point that won't hit the target:: [[ 9  9]\n",
      " [-8 -9]]\n"
     ]
    }
   ],
   "source": [
    "idx = np.where(np.array(arrow_distance) > 9)  #tuple 2D => 1 row, colunm = all index\n",
    "\n",
    "print (\"The number of arrows that won't hit the target:\", len(idx[0]))\n",
    "print (\"The arrow point that won't hit the target::\", np.array(point_list)[idx[0]])   \n"
   ]
  }
 ],
 "metadata": {
  "kernelspec": {
   "display_name": "Python 3",
   "language": "python",
   "name": "python3"
  },
  "language_info": {
   "codemirror_mode": {
    "name": "ipython",
    "version": 3
   },
   "file_extension": ".py",
   "mimetype": "text/x-python",
   "name": "python",
   "nbconvert_exporter": "python",
   "pygments_lexer": "ipython3",
   "version": "3.8.5"
  }
 },
 "nbformat": 4,
 "nbformat_minor": 2
}
