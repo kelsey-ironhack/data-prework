{
 "cells": [
  {
   "cell_type": "markdown",
   "metadata": {},
   "source": [
    "<img src=\"https://bit.ly/2VnXWr2\" width=\"100\" align=\"left\"/>"
   ]
  },
  {
   "cell_type": "markdown",
   "metadata": {},
   "source": [
    "# Robin Hood\n",
    "Robin Hood has entered a competition to win the archery contest in Sherwood. With his bow and arrows, he needs to shoot on a target and try to hit as close as possible to the center.\n",
    "\n",
    "![](images/arrows.jpg)\n",
    "\n",
    "## Context\n",
    "In this challenge, the landing position of arrows shot by archers in the competition will be represented using 2-dimensional coordinates. \n",
    "\n",
    "In the 2-dimensional space, a point can be defined by a pair of values that correspond to the horizontal coordinate (x) and the vertical coordinate (y). For example, in our case, an arrow that hits the center of the archery target will land in position (0, 0) on the coordinate axes. \n",
    "\n",
    "The space can be divided into 4 zones (quadrants): Q1, Q2, Q3, Q4. If a point is in Q1, both its x coordinate and y coordinate are positive. Any point with a null x or y coordinate is considered to not belong to any quadrant. \n",
    "\n",
    "If you want to know more about the cartesian coordinate system, you can check this [link](https://en.wikipedia.org/wiki/Cartesian_coordinate_system). \n",
    "\n",
    "## Tools\n",
    "You don't necessarily need to use all the tools. Maybe you opt to use some of them or completely different ones, they are given to help you shape the exercise. Programming exercises can be solved in many different ways.\n",
    "* Data structures: **lists, sets, tuples**\n",
    "* Conditional statements: **if-elif-else**\n",
    "* Loop: **while/for**\n",
    "* Minimum (optional sorting)\n",
    "\n",
    "## Tasks\n",
    "Robin Hood has hit the following points:"
   ]
  },
  {
   "cell_type": "code",
   "execution_count": 216,
   "metadata": {},
   "outputs": [],
   "source": [
    "points = [(4, 5), (0, 2), (4, 7), (1, -3), (3, -2), (4, 5), (3, 2), (5, 7), (-5, 7), (2, 2), (-4, 5), (0, -2),\n",
    "          (-4, 7), (-1, 3), (-3, 2), (-4, -5), (-3, 2), (5, 7), (5, 7), (2, 2), (9, 9), (-8, -9)]"
   ]
  },
  {
   "cell_type": "markdown",
   "metadata": {},
   "source": [
    "#### 1. Robin Hood is famous for hitting an arrow with another arrow. Find the coordinates of the points where an arrow hits another arrow."
   ]
  },
  {
   "cell_type": "code",
   "execution_count": 217,
   "metadata": {},
   "outputs": [
    {
     "name": "stdout",
     "output_type": "stream",
     "text": [
      "the coordinates of the points are {(-3, 2), (4, 5), (5, 7), (2, 2)}\n"
     ]
    }
   ],
   "source": [
    "arrow=[]\n",
    "\n",
    "for i in range(len(points)):\n",
    "    for j in range((i+1),len(points)):\n",
    "        if (points[j][0]==points[i][0])&(points[j][1]==points[i][1]):\n",
    "            arrow.append(points[i])\n",
    "unique=set(arrow)\n",
    "print(\"the coordinates of the points are\",unique)\n",
    "       "
   ]
  },
  {
   "cell_type": "markdown",
   "metadata": {},
   "source": [
    "#### 2. Calculate how many arrows have fallen in each quadrant. \n",
    "**Note**: the arrows that fall in the axis (x=0 or y=0) don't belong to any quadrant."
   ]
  },
  {
   "cell_type": "code",
   "execution_count": 220,
   "metadata": {},
   "outputs": [
    {
     "name": "stdout",
     "output_type": "stream",
     "text": [
      "number of arrows in first quadrant: 10\n",
      "number of arrows in second quadrant: 6\n",
      "number of arrows in third quadrant: 2\n",
      "number of arrows in fourth quadrant: 2\n"
     ]
    }
   ],
   "source": [
    "q1=[]\n",
    "for i in range(len(points)):\n",
    "    if (points[i][0]>0)&(points[i][1]>0):\n",
    "        q1.append(points[i]) \n",
    "print(\"number of arrows in first quadrant:\",len(q1))\n",
    "\n",
    "q2=[]\n",
    "for i in range(len(points)):\n",
    "    if (points[i][0]<0)&(points[i][1]>0):\n",
    "         q2.append(points[i])      \n",
    "print(\"number of arrows in second quadrant:\",len(q2))\n",
    "\n",
    "q3=[]\n",
    "for i in range(len(points)):\n",
    "    if (points[i][0]<0)&(points[i][1]<0):\n",
    "        q3.append(points[i])      \n",
    "print(\"number of arrows in third quadrant:\",len(q3))\n",
    "\n",
    "q4=[]\n",
    "for i in range(len(points)):\n",
    "    if (points[i][0]>0)&(points[i][1]<0):\n",
    "        q4.append(points[i])      \n",
    "print(\"number of arrows in fourth quadrant:\",len(q4))"
   ]
  },
  {
   "cell_type": "markdown",
   "metadata": {},
   "source": [
    "#### 3. Find the point closest to the center. Calculate its distance to the center. \n",
    "Take into account that there might be more than one point at the minimum distance to the center.\n",
    "\n",
    "**Hint**: Use the Euclidean distance. You can find more information about it [here](https://en.wikipedia.org/wiki/Euclidean_distance).  \n",
    "**Hint**: Defining a function that calculates the distance to the center can help."
   ]
  },
  {
   "cell_type": "code",
   "execution_count": 414,
   "metadata": {},
   "outputs": [
    {
     "name": "stdout",
     "output_type": "stream",
     "text": [
      "the closest points to the origin are: [(0, 2), (0, -2)]\n"
     ]
    }
   ],
   "source": [
    "xcoords=[]\n",
    "ycoords=[]\n",
    "\n",
    "for i in range(len(points)):\n",
    "    x=points[i][0]**2\n",
    "    y=points[i][1]**2\n",
    "    xcoords.append(x)\n",
    "    ycoords.append(y)\n",
    "    for i in range(len(xcoords)):\n",
    "        predistance=[sum(i) for i in zip(xcoords,ycoords)]\n",
    "        distance=[]\n",
    "        for i in range(len(predistance)):\n",
    "            dis=predistance[i]**(1/2)\n",
    "            distance.append(dis)\n",
    "min(distance)\n",
    "origin=[]\n",
    "for i in range(len(distance)):\n",
    "    if distance[i]==2.0:\n",
    "        origin.append(points[i])\n",
    "print(\"the closest points to the origin are:\",origin)\n",
    "        "
   ]
  },
  {
   "cell_type": "markdown",
   "metadata": {},
   "source": [
    "#### 4. If the archery target has a radius of 9, calculate the number of arrows that won't hit the target. \n",
    "**Hint**: Use the function created in step 3. "
   ]
  },
  {
   "cell_type": "code",
   "execution_count": 413,
   "metadata": {},
   "outputs": [
    {
     "name": "stdout",
     "output_type": "stream",
     "text": [
      "there are 2 arrows that won't hit the target\n"
     ]
    }
   ],
   "source": [
    "out=[]\n",
    "for i in range(len(distance)):\n",
    "    if distance[i]>9:\n",
    "        out.append(i)\n",
    "print(\"there are\",len(out),\"arrows that won't hit the target\")\n"
   ]
  }
 ],
 "metadata": {
  "kernelspec": {
   "display_name": "Python 3",
   "language": "python",
   "name": "python3"
  },
  "language_info": {
   "codemirror_mode": {
    "name": "ipython",
    "version": 3
   },
   "file_extension": ".py",
   "mimetype": "text/x-python",
   "name": "python",
   "nbconvert_exporter": "python",
   "pygments_lexer": "ipython3",
   "version": "3.8.2"
  }
 },
 "nbformat": 4,
 "nbformat_minor": 2
}
