{
 "cells": [
  {
   "cell_type": "markdown",
   "metadata": {},
   "source": [
    "<img src=\"https://bit.ly/2VnXWr2\" width=\"100\" align=\"left\"/>"
   ]
  },
  {
   "cell_type": "markdown",
   "metadata": {},
   "source": [
    "# Robin Hood\n",
    "Robin Hood has entered a competition to win the archery contest in Sherwood. With his bow and arrows, he needs to shoot on a target and try to hit as close as possible to the center.\n",
    "\n",
    "![](images/arrows.jpg)\n",
    "\n",
    "## Context\n",
    "In this challenge, the landing position of arrows shot by archers in the competition will be represented using 2-dimensional coordinates. \n",
    "\n",
    "In the 2-dimensional space, a point can be defined by a pair of values that correspond to the horizontal coordinate (x) and the vertical coordinate (y). For example, in our case, an arrow that hits the center of the archery target will land in position (0, 0) on the coordinate axes. \n",
    "\n",
    "The space can be divided into 4 zones (quadrants): Q1, Q2, Q3, Q4. If a point is in Q1, both its x coordinate and y coordinate are positive. Any point with a null x or y coordinate is considered to not belong to any quadrant. \n",
    "\n",
    "If you want to know more about the cartesian coordinate system, you can check this [link](https://en.wikipedia.org/wiki/Cartesian_coordinate_system). \n",
    "\n",
    "## Tools\n",
    "You don't necessarily need to use all the tools. Maybe you opt to use some of them or completely different ones, they are given to help you shape the exercise. Programming exercises can be solved in many different ways.\n",
    "* Data structures: **lists, sets, tuples**\n",
    "* Conditional statements: **if-elif-else**\n",
    "* Loop: **while/for**\n",
    "* Minimum (optional sorting)\n",
    "\n",
    "## Tasks\n",
    "Robin Hood has hit the following points:"
   ]
  },
  {
   "cell_type": "code",
   "execution_count": 118,
   "metadata": {},
   "outputs": [],
   "source": [
    "points = [(4, 5), (-0, 2), (4, 7), (1, -3), (3, -2), (4, 5), (3, 2), (5, 7), (-5, 7), (2, 2), (-4, 5), (0, -2),\n",
    "          (-4, 7), (-1, 3), (-3, 2), (-4, -5), (-3, 2), (5, 7), (5, 7), (2, 2), (9, 9), (-8, -9)]"
   ]
  },
  {
   "cell_type": "markdown",
   "metadata": {},
   "source": [
    "#### 1. Robin Hood is famous for hitting an arrow with another arrow. Find the coordinates of the points where an arrow hits another arrow."
   ]
  },
  {
   "cell_type": "code",
   "execution_count": 119,
   "metadata": {},
   "outputs": [
    {
     "name": "stdout",
     "output_type": "stream",
     "text": [
      "Arrow with coordinates 4,5 and arrow with coordinates 4, 5 hit each other : \n",
      "Arrow with coordinates -3,2 and arrow with coordinates -3, 2 hit each other : \n",
      "Arrow with coordinates 5,7 and arrow with coordinates 5, 7 hit each other : \n",
      "Arrow with coordinates 5,7 and arrow with coordinates 5, 7 hit each other : \n",
      "Arrow with coordinates 5,7 and arrow with coordinates 5, 7 hit each other : \n",
      "Arrow with coordinates 2,2 and arrow with coordinates 2, 2 hit each other : \n"
     ]
    }
   ],
   "source": [
    "l = len(points)\n",
    "for i in range(l):\n",
    "    selectPoint = points[i]\n",
    "    \n",
    "    for k in range(i):\n",
    "        oldArrow = points[k]\n",
    "        if selectPoint[0] == oldArrow[0] and selectPoint[1] == oldArrow[1]:\n",
    "            print (\"Arrow with coordinates {},{} and arrow with coordinates {}, {} hit each other : \".format(selectPoint[0],selectPoint[1],oldArrow[0],oldArrow[1]))\n",
    "        \n"
   ]
  },
  {
   "cell_type": "markdown",
   "metadata": {},
   "source": [
    "#### 2. Calculate how many arrows have fallen in each quadrant. \n",
    "**Note**: the arrows that fall in the axis (x=0 or y=0) don't belong to any quadrant."
   ]
  },
  {
   "cell_type": "code",
   "execution_count": 120,
   "metadata": {},
   "outputs": [
    {
     "name": "stdout",
     "output_type": "stream",
     "text": [
      "q1 10\n",
      "q2 6\n",
      "q3 2\n",
      "q4 2\n",
      "noQuadrant 2\n"
     ]
    }
   ],
   "source": [
    "countArrows = 0\n",
    "q1 = []\n",
    "q2 = []\n",
    "q3 = []\n",
    "q4 = []\n",
    "noQuadrant = []\n",
    "\n",
    "\n",
    "#  \n",
    "#   2    |    1\n",
    "# -----(0,0)------\n",
    "#   3    |    4\n",
    "#\n",
    "\n",
    "\n",
    "for point in points:\n",
    "    \n",
    "    x = point[0]\n",
    "    y = point[1]\n",
    "    \n",
    "    if x>0 and y>0: \n",
    "        #Q1\n",
    "        q1.append(point)\n",
    "\n",
    "    elif x<0 and y>0: \n",
    "        #Q2\n",
    "        q2.append(point)\n",
    "    \n",
    "    elif x>0 and y<0:\n",
    "        #Q3\n",
    "        q3.append(point)\n",
    "    \n",
    "    elif x<0 and y<0:\n",
    "         #Q4\n",
    "        q4.append(point)\n",
    "    \n",
    "    else:\n",
    "        noQuadrant.append(point)\n",
    "\n",
    "print (\"q1\", len(q1))\n",
    "print (\"q2\", len(q2))\n",
    "print (\"q3\", len(q3))\n",
    "print (\"q4\", len(q4))\n",
    "print (\"noQuadrant\", len(noQuadrant))"
   ]
  },
  {
   "cell_type": "markdown",
   "metadata": {},
   "source": [
    "#### 3. Find the point closest to the center. Calculate its distance to the center. \n",
    "Take into account that there might be more than one point at the minimum distance to the center.\n",
    "\n",
    "**Hint**: Use the Euclidean distance. You can find more information about it [here](https://en.wikipedia.org/wiki/Euclidean_distance).  \n",
    "**Hint**: Defining a function that calculates the distance to the center can help."
   ]
  },
  {
   "cell_type": "code",
   "execution_count": 127,
   "metadata": {},
   "outputs": [
    {
     "name": "stdout",
     "output_type": "stream",
     "text": [
      "[(4, 5), (0, 2), (4, 7), (1, -3), (3, -2), (4, 5), (3, 2), (5, 7), (-5, 7), (2, 2), (-4, 5), (0, -2), (-4, 7), (-1, 3), (-3, 2), (-4, -5), (-3, 2), (5, 7), (5, 7), (2, 2), (9, 9), (-8, -9)]\n",
      "\n",
      "[(4, 5, 6.4031242374328485), (0, 2, 2.0), (4, 7, 8.06225774829855), (1, -3, 3.1622776601683795), (3, -2, 3.605551275463989), (4, 5, 6.4031242374328485), (3, 2, 3.605551275463989), (5, 7, 8.602325267042627), (-5, 7, 8.602325267042627), (2, 2, 2.8284271247461903), (-4, 5, 6.4031242374328485), (0, -2, 2.0), (-4, 7, 8.06225774829855), (-1, 3, 3.1622776601683795), (-3, 2, 3.605551275463989), (-4, -5, 6.4031242374328485), (-3, 2, 3.605551275463989), (5, 7, 8.602325267042627), (5, 7, 8.602325267042627), (2, 2, 2.8284271247461903), (9, 9, 12.727922061357855), (-8, -9, 12.041594578792296)]\n",
      "\n",
      "[(0, 2, 2.0), (0, -2, 2.0), (2, 2, 2.8284271247461903), (2, 2, 2.8284271247461903), (1, -3, 3.1622776601683795), (-1, 3, 3.1622776601683795), (3, -2, 3.605551275463989), (3, 2, 3.605551275463989), (-3, 2, 3.605551275463989), (-3, 2, 3.605551275463989), (4, 5, 6.4031242374328485), (4, 5, 6.4031242374328485), (-4, 5, 6.4031242374328485), (-4, -5, 6.4031242374328485), (4, 7, 8.06225774829855), (-4, 7, 8.06225774829855), (5, 7, 8.602325267042627), (-5, 7, 8.602325267042627), (5, 7, 8.602325267042627), (5, 7, 8.602325267042627), (-8, -9, 12.041594578792296), (9, 9, 12.727922061357855)]\n",
      "\n",
      "[(0, 2, 2.0), (0, -2, 2.0)]\n"
     ]
    }
   ],
   "source": [
    "import math\n",
    "\n",
    "xa = 0\n",
    "ya = 0\n",
    "\n",
    "result = list()\n",
    "\n",
    "def diffToZero(point):\n",
    "    xb = point[0]\n",
    "    yb = point[1]\n",
    "    \n",
    "    m = (xb-xa)\n",
    "    n = (yb-ya)\n",
    "    \n",
    "    return math.sqrt((m ** 2) + (n ** 2))\n",
    "\n",
    "print(points)\n",
    "print(\"\")\n",
    "\n",
    "for point in points:\n",
    "    x = point[0]\n",
    "    y = point[1]\n",
    "    result.append((x, y, diffToZero(point)))\n",
    "\n",
    "print(result)\n",
    "print(\"\")\n",
    "\n",
    "    \n",
    "    \n",
    "# sorting the list by distance\n",
    "result.sort(key = lambda x: x[2]) \n",
    "\n",
    "print(result)\n",
    "print(\"\")\n",
    "\n",
    "# list for points with the smallest distance\n",
    "smallestDistancePoints = list()\n",
    "\n",
    "# smallest distance, the distance of the first point in the sorted result list\n",
    "smallestDistance = result[0][2]\n",
    "\n",
    "# iteration over all results\n",
    "for p in result:\n",
    "    \n",
    "    # check if the distance of the point is greater or even then the smallest distance\n",
    "    if p[2] > smallestDistance:\n",
    "        break;\n",
    "    else:\n",
    "        smallestDistancePoints.append(p)\n",
    "        \n",
    "print(smallestDistancePoints)\n",
    "        \n",
    "\n"
   ]
  },
  {
   "cell_type": "markdown",
   "metadata": {},
   "source": [
    "#### 4. If the archery target has a radius of 9, calculate the number of arrows that won't hit the target. \n",
    "**Hint**: Use the function created in step 3. "
   ]
  },
  {
   "cell_type": "code",
   "execution_count": 130,
   "metadata": {},
   "outputs": [
    {
     "name": "stdout",
     "output_type": "stream",
     "text": [
      "[(-8, -9, 12.041594578792296), (9, 9, 12.727922061357855)]\n"
     ]
    }
   ],
   "source": [
    "arrowsOut=[]\n",
    "\n",
    "for p in result:\n",
    "    if p[2]>9:\n",
    "        arrowsOut.append(p)\n",
    "    \n",
    "print (arrowsOut)\n",
    "        "
   ]
  },
  {
   "cell_type": "code",
   "execution_count": null,
   "metadata": {},
   "outputs": [],
   "source": []
  }
 ],
 "metadata": {
  "kernelspec": {
   "display_name": "Python 3",
   "language": "python",
   "name": "python3"
  },
  "language_info": {
   "codemirror_mode": {
    "name": "ipython",
    "version": 3
   },
   "file_extension": ".py",
   "mimetype": "text/x-python",
   "name": "python",
   "nbconvert_exporter": "python",
   "pygments_lexer": "ipython3",
   "version": "3.7.7"
  }
 },
 "nbformat": 4,
 "nbformat_minor": 2
}
