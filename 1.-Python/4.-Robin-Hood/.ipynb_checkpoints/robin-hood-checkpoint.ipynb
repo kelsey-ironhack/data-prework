{
 "cells": [
  {
   "cell_type": "markdown",
   "metadata": {},
   "source": [
    "<img src=\"https://bit.ly/2VnXWr2\" width=\"100\" align=\"left\"/>"
   ]
  },
  {
   "cell_type": "markdown",
   "metadata": {},
   "source": [
    "# Robin Hood\n",
    "Robin Hood has entered a competition to win the archery contest in Sherwood. With his bow and arrows, he needs to shoot on a target and try to hit as close as possible to the center.\n",
    "\n",
    "![](images/arrows.jpg)\n",
    "\n",
    "## Context\n",
    "In this challenge, the landing position of arrows shot by archers in the competition will be represented using 2-dimensional coordinates. \n",
    "\n",
    "In the 2-dimensional space, a point can be defined by a pair of values that correspond to the horizontal coordinate (x) and the vertical coordinate (y). For example, in our case, an arrow that hits the center of the archery target will land in position (0, 0) on the coordinate axes. \n",
    "\n",
    "The space can be divided into 4 zones (quadrants): Q1, Q2, Q3, Q4. If a point is in Q1, both its x coordinate and y coordinate are positive. Any point with a null x or y coordinate is considered to not belong to any quadrant. \n",
    "\n",
    "If you want to know more about the cartesian coordinate system, you can check this [link](https://en.wikipedia.org/wiki/Cartesian_coordinate_system). \n",
    "\n",
    "## Tools\n",
    "You don't necessarily need to use all the tools. Maybe you opt to use some of them or completely different ones, they are given to help you shape the exercise. Programming exercises can be solved in many different ways.\n",
    "* Data structures: **lists, sets, tuples**\n",
    "* Conditional statements: **if-elif-else**\n",
    "* Loop: **while/for**\n",
    "* Minimum (optional sorting)\n",
    "\n",
    "## Tasks\n",
    "Robin Hood has hit the following points:"
   ]
  },
  {
   "cell_type": "code",
   "execution_count": 1,
   "metadata": {},
   "outputs": [],
   "source": [
    "points = [(4, 5), (-0, 2), (4, 7), (1, -3), (3, -2), (4, 5), (3, 2), (5, 7), (-5, 7), (2, 2), (-4, 5), (0, -2),\n",
    "          (-4, 7), (-1, 3), (-3, 2), (-4, -5), (-3, 2), (5, 7), (5, 7), (2, 2), (9, 9), (-8, -9)]"
   ]
  },
  {
   "cell_type": "markdown",
   "metadata": {},
   "source": [
    "#### 1. Robin Hood is famous for hitting an arrow with another arrow. Find the coordinates of the points where an arrow hits another arrow."
   ]
  },
  {
   "cell_type": "code",
   "execution_count": 19,
   "metadata": {},
   "outputs": [
    {
     "name": "stdout",
     "output_type": "stream",
     "text": [
      "Coordinates for arrows hitting previous arrows are: [(4, 5), (5, 7), (-3, 2), (2, 2)]\n"
     ]
    }
   ],
   "source": [
    "arrow_in_arrow = []\n",
    "arrow_in_arrow = list(set([a for a in points\n",
    "            if points.count(a) > 1]))\n",
    "print(\"Coordinates for arrows hitting previous arrows are:\", arrow_in_arrow)"
   ]
  },
  {
   "cell_type": "markdown",
   "metadata": {},
   "source": [
    "#### 2. Calculate how many arrows have fallen in each quadrant. \n",
    "**Note**: the arrows that fall in the axis (x=0 or y=0) don't belong to any quadrant."
   ]
  },
  {
   "cell_type": "code",
   "execution_count": 33,
   "metadata": {},
   "outputs": [
    {
     "name": "stdout",
     "output_type": "stream",
     "text": [
      "Number of elements in Quadrant 1 = 10\n",
      "Number of elements in Quadrant 2 = 6\n",
      "Number of elements in Quadrant 3 = 2\n",
      "Number of elements in Quadrant 4 = 2\n"
     ]
    }
   ],
   "source": [
    "Q1 = []\n",
    "Q2 = []\n",
    "Q3 = []\n",
    "Q4 = []\n",
    "for i in points:\n",
    "    if (i[0]>0) & (i[1]>0):\n",
    "        Q1.append(i)\n",
    "    elif (i[0]<0) & (i[1]>0):\n",
    "        Q2.append(i)\n",
    "    elif (i[0]<0) & (i[1]<0):\n",
    "        Q3.append(i)    \n",
    "    elif (i[0]>0) & (i[1]<0):\n",
    "        Q4.append(i)\n",
    "print(\"Number of elements in Quadrant 1 =\", len(Q1))\n",
    "print(\"Number of elements in Quadrant 2 =\", len(Q2))\n",
    "print(\"Number of elements in Quadrant 3 =\", len(Q3))\n",
    "print(\"Number of elements in Quadrant 4 =\", len(Q4))\n"
   ]
  },
  {
   "cell_type": "markdown",
   "metadata": {},
   "source": [
    "#### 3. Find the point closest to the center. Calculate its distance to the center. \n",
    "Take into account that there might be more than one point at the minimum distance to the center.\n",
    "\n",
    "**Hint**: Use the Euclidean distance. You can find more information about it [here](https://en.wikipedia.org/wiki/Euclidean_distance).  \n",
    "**Hint**: Defining a function that calculates the distance to the center can help."
   ]
  },
  {
   "cell_type": "code",
   "execution_count": 46,
   "metadata": {},
   "outputs": [
    {
     "name": "stdout",
     "output_type": "stream",
     "text": [
      "The shortest distance to the center is:  2.0\n",
      "The closest point to the center is:  [(0, 2), (0, -2)]\n"
     ]
    }
   ],
   "source": [
    "import math\n",
    "r = []\n",
    "closest_coor = []\n",
    "def euclidean(coordinates):\n",
    "    for x in coordinates:\n",
    "        r.append(math.sqrt(pow(x[0],2) + pow(x[1],2)))\n",
    "    closest = min(r)\n",
    "    print(\"The shortest distance to the center is: \", closest)\n",
    "    for i in coordinates:\n",
    "        coordinates = (math.sqrt(pow(i[0],2) + pow(i[1],2)))\n",
    "        if closest == coordinates:\n",
    "            closest_coor.append(i)\n",
    "    print(\"The closest point to the center is: \", closest_coor)\n",
    "    #print(r)\n",
    "        \n",
    "\n",
    "euclidean(points)\n",
    "\n"
   ]
  },
  {
   "cell_type": "markdown",
   "metadata": {},
   "source": [
    "#### 4. If the archery target has a radius of 9, calculate the number of arrows that won't hit the target. \n",
    "**Hint**: Use the function created in step 3. "
   ]
  },
  {
   "cell_type": "code",
   "execution_count": 44,
   "metadata": {},
   "outputs": [
    {
     "name": "stdout",
     "output_type": "stream",
     "text": [
      "Arrows out of target:  [(-8, -9), (-8, -9)]\n",
      "The number of arrows out of target is:  2\n"
     ]
    }
   ],
   "source": [
    "arrows_out = []\n",
    "for j in r:\n",
    "    if j > 9:\n",
    "        arrows_out.append(i)\n",
    "print(\"Arrows out of target: \", arrows_out)\n",
    "num_arrows_out = len(arrows_out)\n",
    "print(\"The number of arrows out of target is: \", num_arrows_out)\n",
    "        "
   ]
  },
  {
   "cell_type": "code",
   "execution_count": null,
   "metadata": {},
   "outputs": [],
   "source": []
  }
 ],
 "metadata": {
  "kernelspec": {
   "display_name": "Python 3",
   "language": "python",
   "name": "python3"
  },
  "language_info": {
   "codemirror_mode": {
    "name": "ipython",
    "version": 3
   },
   "file_extension": ".py",
   "mimetype": "text/x-python",
   "name": "python",
   "nbconvert_exporter": "python",
   "pygments_lexer": "ipython3",
   "version": "3.7.6"
  }
 },
 "nbformat": 4,
 "nbformat_minor": 2
}
