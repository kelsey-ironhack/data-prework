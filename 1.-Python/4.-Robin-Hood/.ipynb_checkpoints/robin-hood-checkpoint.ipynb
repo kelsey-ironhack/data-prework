{
 "cells": [
  {
   "cell_type": "markdown",
   "metadata": {},
   "source": [
    "<img src=\"https://bit.ly/2VnXWr2\" width=\"100\" align=\"left\"/>"
   ]
  },
  {
   "cell_type": "markdown",
   "metadata": {},
   "source": [
    "# Robin Hood\n",
    "Robin Hood has entered a competition to win the archery contest in Sherwood. With his bow and arrows, he needs to shoot on a target and try to hit as close as possible to the center.\n",
    "\n",
    "![](images/arrows.jpg)\n",
    "\n",
    "## Context\n",
    "In this challenge, the landing position of arrows shot by archers in the competition will be represented using 2-dimensional coordinates. \n",
    "\n",
    "In the 2-dimensional space, a point can be defined by a pair of values that correspond to the horizontal coordinate (x) and the vertical coordinate (y). For example, in our case, an arrow that hits the center of the archery target will land in position (0, 0) on the coordinate axes. \n",
    "\n",
    "The space can be divided into 4 zones (quadrants): Q1, Q2, Q3, Q4. If a point is in Q1, both its x coordinate and y coordinate are positive. Any point with a null x or y coordinate is considered to not belong to any quadrant. \n",
    "\n",
    "If you want to know more about the cartesian coordinate system, you can check this [link](https://en.wikipedia.org/wiki/Cartesian_coordinate_system). \n",
    "\n",
    "## Tools\n",
    "You don't necessarily need to use all the tools. Maybe you opt to use some of them or completely different ones, they are given to help you shape the exercise. Programming exercises can be solved in many different ways.\n",
    "* Data structures: **lists, sets, tuples**\n",
    "* Conditional statements: **if-elif-else**\n",
    "* Loop: **while/for**\n",
    "* Minimum (optional sorting)\n",
    "\n",
    "## Tasks\n",
    "Robin Hood has hit the following points:"
   ]
  },
  {
   "cell_type": "code",
   "execution_count": 2,
   "metadata": {},
   "outputs": [],
   "source": [
    "points = [(4, 5), (-0, 2), (4, 7), (1, -3), (3, -2), (4, 5), (3, 2), (5, 7), (-5, 7), (2, 2), (-4, 5), (0, -2),\n",
    "          (-4, 7), (-1, 3), (-3, 2), (-4, -5), (-3, 2), (5, 7), (5, 7), (2, 2), (9, 9), (-8, -9)]"
   ]
  },
  {
   "cell_type": "markdown",
   "metadata": {},
   "source": [
    "#### 1. Robin Hood is famous for hitting an arrow with another arrow. Find the coordinates of the points where an arrow hits another arrow."
   ]
  },
  {
   "cell_type": "code",
   "execution_count": 64,
   "metadata": {},
   "outputs": [],
   "source": [
    "points_unique = list(set(points))\n",
    "duplicates = []"
   ]
  },
  {
   "cell_type": "code",
   "execution_count": 3,
   "metadata": {},
   "outputs": [],
   "source": [
    "points = [(4, 5), (-0, 2), (4, 7), (1, -3), (3, -2), (4, 5), (3, 2), (5, 7), (-5, 7), (2, 2), (-4, 5), (0, -2),\n",
    "          (-4, 7), (-1, 3), (-3, 2), (-4, -5), (-3, 2), (5, 7), (5, 7), (2, 2), (9, 9), (-8, -9)]\n",
    "points_unique = list(set(points))\n",
    "duplicates = []\n",
    "for up in points_unique:\n",
    "    counter = 0 \n",
    "    for point in points:\n",
    "        if up == point:\n",
    "            counter += 1\n",
    "    if counter > 1:\n",
    "        duplicates.append(up)"
   ]
  },
  {
   "cell_type": "code",
   "execution_count": 66,
   "metadata": {},
   "outputs": [
    {
     "data": {
      "text/plain": [
       "[(4, 5), (5, 7), (-3, 2), (2, 2)]"
      ]
     },
     "execution_count": 66,
     "metadata": {},
     "output_type": "execute_result"
    }
   ],
   "source": [
    "duplicates"
   ]
  },
  {
   "cell_type": "markdown",
   "metadata": {},
   "source": [
    "#### 2. Calculate how many arrows have fallen in each quadrant. \n",
    "**Note**: the arrows that fall in the axis (x=0 or y=0) don't belong to any quadrant."
   ]
  },
  {
   "cell_type": "code",
   "execution_count": 10,
   "metadata": {},
   "outputs": [
    {
     "name": "stdout",
     "output_type": "stream",
     "text": [
      "Quadrant 1:  10\n",
      "Quadrant 2:  6\n",
      "Quadrant 3:  2\n",
      "Quadrant 4:  2\n"
     ]
    }
   ],
   "source": [
    "points = [(4, 5), (-0, 2), (4, 7), (1, -3), (3, -2), (4, 5), (3, 2), (5, 7), (-5, 7), (2, 2), (-4, 5), (0, -2),\n",
    "          (-4, 7), (-1, 3), (-3, 2), (-4, -5), (-3, 2), (5, 7), (5, 7), (2, 2), (9, 9), (-8, -9)]\n",
    "q1 = 0\n",
    "q2 = 0\n",
    "q3 = 0\n",
    "q4 = 0\n",
    "\n",
    "for point in points:\n",
    "    #eval 1st q\n",
    "    if (point[0] > 0) & ( point[1] > 0):\n",
    "        q1 += 1\n",
    "    # eval 2nd q\n",
    "    elif (point[0] < 0) & ( point[1] > 0):\n",
    "        q2 += 1\n",
    "    # eval 3rd q\n",
    "    elif (point[0] < 0) & ( point[1] < 0):\n",
    "        q3 += 1\n",
    "    # eval 4th q\n",
    "    elif (point[0] > 0) & ( point[1] < 0):\n",
    "        q4 += 1\n",
    "\n",
    "print(\"Quadrant 1: \", q1)\n",
    "print(\"Quadrant 2: \", q2)\n",
    "print(\"Quadrant 3: \", q3)\n",
    "print(\"Quadrant 4: \", q4)"
   ]
  },
  {
   "cell_type": "markdown",
   "metadata": {},
   "source": [
    "#### 3. Find the point closest to the center. Calculate its distance to the center. \n",
    "Take into account that there might be more than one point at the minimum distance to the center.\n",
    "\n",
    "**Hint**: Use the Euclidean distance. You can find more information about it [here](https://en.wikipedia.org/wiki/Euclidean_distance).  \n",
    "**Hint**: Defining a function that calculates the distance to the center can help."
   ]
  },
  {
   "cell_type": "code",
   "execution_count": 7,
   "metadata": {},
   "outputs": [
    {
     "name": "stdout",
     "output_type": "stream",
     "text": [
      "[(6.4031242374328485, (4, 5)), (2.0, (0, 2)), (8.06225774829855, (4, 7)), (3.1622776601683795, (1, -3)), (3.605551275463989, (3, -2)), (6.4031242374328485, (4, 5)), (3.605551275463989, (3, 2)), (8.602325267042627, (5, 7)), (8.602325267042627, (-5, 7)), (2.8284271247461903, (2, 2)), (6.4031242374328485, (-4, 5)), (2.0, (0, -2)), (8.06225774829855, (-4, 7)), (3.1622776601683795, (-1, 3)), (3.605551275463989, (-3, 2)), (6.4031242374328485, (-4, -5)), (3.605551275463989, (-3, 2)), (8.602325267042627, (5, 7)), (8.602325267042627, (5, 7)), (2.8284271247461903, (2, 2)), (12.727922061357855, (9, 9)), (12.041594578792296, (-8, -9))]\n",
      "Minimum distance:  2.0\n",
      "Closest points:  [(0, 2), (0, -2)]\n",
      "12.727922061357855\n"
     ]
    }
   ],
   "source": [
    "import math\n",
    "\n",
    "def distance_to_center(point1, point2):\n",
    "    euclidean_distance = math.sqrt( (point1[0]-point2[0])**2 + (point1[1]-point2[1])**2 )\n",
    "    return euclidean_distance\n",
    "\n",
    "distance_list = []\n",
    "distance_list_point= []\n",
    "\n",
    "for point in points:\n",
    "    x = distance_to_center((0,0), point)\n",
    "    distance_list.append(x)\n",
    "    distance_list_point.append((x, point))\n",
    "\n",
    "print(distance_list_point)\n",
    "\n",
    "print(\"Minimum distance: \", min(distance_list))\n",
    "\n",
    "closest_point = []\n",
    "for x in distance_list_point:\n",
    "    if x[0] == 2.0:\n",
    "        closest_point.append((x[1]))\n",
    "\n",
    "print(\"Closest points: \", closest_point)\n",
    "print(distance_to_center((0,0),(9,9)))"
   ]
  },
  {
   "cell_type": "markdown",
   "metadata": {},
   "source": [
    "#### 4. If the archery target has a radius of 9, calculate the number of arrows that won't hit the target. \n",
    "**Hint**: Use the function created in step 3. "
   ]
  },
  {
   "cell_type": "code",
   "execution_count": 12,
   "metadata": {},
   "outputs": [
    {
     "name": "stdout",
     "output_type": "stream",
     "text": [
      "Arrows out of target:  [(9, 9), (-8, -9)]\n",
      "Number of arrows that won't hit the target:  2\n"
     ]
    }
   ],
   "source": [
    "out_of_target = []\n",
    "num_out_target = 0\n",
    "for x in distance_list_point:\n",
    "    if x[0] > 9.0:\n",
    "        out_of_target.append((x[1]))\n",
    "        num_out_target += 1\n",
    "        \n",
    "print(\"Arrows out of target: \" , out_of_target)\n",
    "print(\"Number of arrows that won't hit the target: \",num_out_target)"
   ]
  },
  {
   "cell_type": "code",
   "execution_count": null,
   "metadata": {},
   "outputs": [],
   "source": []
  }
 ],
 "metadata": {
  "kernelspec": {
   "display_name": "Python 3",
   "language": "python",
   "name": "python3"
  },
  "language_info": {
   "codemirror_mode": {
    "name": "ipython",
    "version": 3
   },
   "file_extension": ".py",
   "mimetype": "text/x-python",
   "name": "python",
   "nbconvert_exporter": "python",
   "pygments_lexer": "ipython3",
   "version": "3.7.4"
  }
 },
 "nbformat": 4,
 "nbformat_minor": 2
}
