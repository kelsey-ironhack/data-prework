{
 "cells": [
  {
   "cell_type": "markdown",
   "metadata": {},
   "source": [
    "<img src=\"https://bit.ly/2VnXWr2\" width=\"100\" align=\"left\"/>"
   ]
  },
  {
   "cell_type": "markdown",
   "metadata": {},
   "source": [
    "# Robin Hood\n",
    "Robin Hood has entered a competition to win the archery contest in Sherwood. With his bow and arrows, he needs to shoot on a target and try to hit as close as possible to the center.\n",
    "\n",
    "![](images/arrows.jpg)\n",
    "\n",
    "## Context\n",
    "In this challenge, the landing position of arrows shot by archers in the competition will be represented using 2-dimensional coordinates. \n",
    "\n",
    "In the 2-dimensional space, a point can be defined by a pair of values that correspond to the horizontal coordinate (x) and the vertical coordinate (y). For example, in our case, an arrow that hits the center of the archery target will land in position (0, 0) on the coordinate axes. \n",
    "\n",
    "The space can be divided into 4 zones (quadrants): Q1, Q2, Q3, Q4. If a point is in Q1, both its x coordinate and y coordinate are positive. Any point with a null x or y coordinate is considered to not belong to any quadrant. \n",
    "\n",
    "If you want to know more about the cartesian coordinate system, you can check this [link](https://en.wikipedia.org/wiki/Cartesian_coordinate_system). \n",
    "\n",
    "## Tools\n",
    "You don't necessarily need to use all the tools. Maybe you opt to use some of them or completely different ones, they are given to help you shape the exercise. Programming exercises can be solved in many different ways.\n",
    "* Data structures: **lists, sets, tuples**\n",
    "* Conditional statements: **if-elif-else**\n",
    "* Loop: **while/for**\n",
    "* Minimum (optional sorting)\n",
    "\n",
    "## Tasks\n",
    "Robin Hood has hit the following points:"
   ]
  },
  {
   "cell_type": "code",
   "execution_count": 11,
   "metadata": {},
   "outputs": [
    {
     "data": {
      "text/plain": [
       "[(4, 5),\n",
       " (0, 2),\n",
       " (4, 7),\n",
       " (1, -3),\n",
       " (3, -2),\n",
       " (4, 5),\n",
       " (3, 2),\n",
       " (5, 7),\n",
       " (-5, 7),\n",
       " (2, 2),\n",
       " (-4, 5),\n",
       " (0, -2),\n",
       " (-4, 7),\n",
       " (-1, 3),\n",
       " (-3, 2),\n",
       " (-4, -5),\n",
       " (-3, 2),\n",
       " (5, 7),\n",
       " (5, 7),\n",
       " (2, 2),\n",
       " (9, 9),\n",
       " (-8, -9)]"
      ]
     },
     "execution_count": 11,
     "metadata": {},
     "output_type": "execute_result"
    }
   ],
   "source": [
    "points = [(4, 5), (-0, 2), (4, 7), (1, -3), (3, -2), (4, 5), (3, 2), (5, 7), (-5, 7), (2, 2), (-4, 5), (0, -2),\n",
    "          (-4, 7), (-1, 3), (-3, 2), (-4, -5), (-3, 2), (5, 7), (5, 7), (2, 2), (9, 9), (-8, -9)]\n",
    "points"
   ]
  },
  {
   "cell_type": "code",
   "execution_count": 7,
   "metadata": {},
   "outputs": [
    {
     "data": {
      "text/plain": [
       "22"
      ]
     },
     "execution_count": 7,
     "metadata": {},
     "output_type": "execute_result"
    }
   ],
   "source": [
    "shots = len(points)\n",
    "shots"
   ]
  },
  {
   "cell_type": "markdown",
   "metadata": {},
   "source": [
    "#### 1. Robin Hood is famous for hitting an arrow with another arrow. Find the coordinates of the points where an arrow hits another arrow."
   ]
  },
  {
   "cell_type": "code",
   "execution_count": 8,
   "metadata": {},
   "outputs": [
    {
     "name": "stdout",
     "output_type": "stream",
     "text": [
      "coordinates of the arrow hits another arrow \n",
      " [(-3, 2), (4, 5), (5, 7), (2, 2)]\n"
     ]
    }
   ],
   "source": [
    "coord_dup = list(set([point for point in points \n",
    "            if points.count(point) > 1])) \n",
    "print(\"coordinates of the arrow hits another arrow \\n\",coord_dup)"
   ]
  },
  {
   "cell_type": "markdown",
   "metadata": {},
   "source": [
    "#### 2. Calculate how many arrows have fallen in each quadrant. \n",
    "**Note**: the arrows that fall in the axis (x=0 or y=0) don't belong to any quadrant."
   ]
  },
  {
   "cell_type": "code",
   "execution_count": 12,
   "metadata": {},
   "outputs": [
    {
     "name": "stdout",
     "output_type": "stream",
     "text": [
      "Arrows in Q1 10\n",
      "Arrows in Q2 2\n",
      "Arrows in Q3 6\n",
      "Arrows in Q4 2\n",
      "Arrows undefined 2\n"
     ]
    }
   ],
   "source": [
    "q0 = 0 \n",
    "q1 = 0\n",
    "q2 = 0\n",
    "q3 = 0\n",
    "q4 = 0\n",
    "for point in points:\n",
    "    x = point[0]\n",
    "    y = point[1]\n",
    "    if x > 0 and y > 0:\n",
    "        q1 += 1\n",
    "    elif x > 0 and y < 0:\n",
    "        q2 += 1\n",
    "    elif x < 0 and y > 0:\n",
    "        q3 += 1\n",
    "    elif x < 0 and y < 0:\n",
    "        q4 += 1\n",
    "    else:\n",
    "        q0 += 1\n",
    "print(\"Arrows in Q1\",q1)\n",
    "print(\"Arrows in Q2\",q2)\n",
    "print(\"Arrows in Q3\",q3)\n",
    "print(\"Arrows in Q4\",q4)\n",
    "print(\"Arrows undefined\",q0)"
   ]
  },
  {
   "cell_type": "markdown",
   "metadata": {},
   "source": [
    "#### 3. Find the point closest to the center. Calculate its distance to the center. \n",
    "Take into account that there might be more than one point at the minimum distance to the center.\n",
    "\n",
    "**Hint**: Use the Euclidean distance. You can find more information about it [here](https://en.wikipedia.org/wiki/Euclidean_distance).  \n",
    "**Hint**: Defining a function that calculates the distance to the center can help."
   ]
  },
  {
   "cell_type": "code",
   "execution_count": 13,
   "metadata": {},
   "outputs": [],
   "source": [
    "from math import sqrt"
   ]
  },
  {
   "cell_type": "code",
   "execution_count": 16,
   "metadata": {},
   "outputs": [
    {
     "data": {
      "text/plain": [
       "[(4, 5),\n",
       " (0, 2),\n",
       " (4, 7),\n",
       " (1, -3),\n",
       " (3, -2),\n",
       " (4, 5),\n",
       " (3, 2),\n",
       " (5, 7),\n",
       " (-5, 7),\n",
       " (2, 2),\n",
       " (-4, 5),\n",
       " (0, -2),\n",
       " (-4, 7),\n",
       " (-1, 3),\n",
       " (-3, 2),\n",
       " (-4, -5),\n",
       " (-3, 2),\n",
       " (5, 7),\n",
       " (5, 7),\n",
       " (2, 2),\n",
       " (9, 9),\n",
       " (-8, -9)]"
      ]
     },
     "execution_count": 16,
     "metadata": {},
     "output_type": "execute_result"
    }
   ],
   "source": [
    "points"
   ]
  },
  {
   "cell_type": "markdown",
   "metadata": {},
   "source": [
    "$$ d(x,y) = \\sqrt{(x2 - x1)^2 + (y2 - y1)^2} $$"
   ]
  },
  {
   "cell_type": "code",
   "execution_count": 34,
   "metadata": {},
   "outputs": [
    {
     "data": {
      "text/plain": [
       "[6.382828526601667,\n",
       " 1.9901004999748129,\n",
       " 8.043662101306841,\n",
       " 3.1655173352866033,\n",
       " 3.594509702309899,\n",
       " 6.382828526601667,\n",
       " 3.5833643409511127,\n",
       " 8.582569545305184,\n",
       " 8.605841039666023,\n",
       " 2.8072228269234345,\n",
       " 6.4078467522249625,\n",
       " 2.010099500024812,\n",
       " 8.06352900410236,\n",
       " 3.1591929349123333,\n",
       " 3.616697388502389,\n",
       " 6.423433661212669,\n",
       " 3.616697388502389,\n",
       " 8.582569545305184,\n",
       " 8.582569545305184,\n",
       " 2.8072228269234345,\n",
       " 12.706710825386718,\n",
       " 12.06235880746382]"
      ]
     },
     "execution_count": 34,
     "metadata": {},
     "output_type": "execute_result"
    }
   ],
   "source": [
    "point_dist = []\n",
    "point_coord = []\n",
    "x1 = .02\n",
    "y1 = .01\n",
    "for point in points:\n",
    "    x2 = point[0]\n",
    "    y2 = point[1]\n",
    "    dist = sqrt((x2-x1)**2 + (y2-y1)**2)\n",
    "    point_dist.append(dist)\n",
    "    coord = ((x2,y2), dist)\n",
    "    point_coord.append(coord)\n",
    "point_dist"
   ]
  },
  {
   "cell_type": "code",
   "execution_count": 36,
   "metadata": {},
   "outputs": [
    {
     "name": "stdout",
     "output_type": "stream",
     "text": [
      "Point most close 1.9901004999748129\n"
     ]
    }
   ],
   "source": [
    "dist_min = min(point_dist)\n",
    "print(\"Point most close\",dist_min)"
   ]
  },
  {
   "cell_type": "markdown",
   "metadata": {},
   "source": [
    "#### 4. If the archery target has a radius of 9, calculate the number of arrows that won't hit the target. \n",
    "**Hint**: Use the function created in step 3. "
   ]
  },
  {
   "cell_type": "code",
   "execution_count": 39,
   "metadata": {},
   "outputs": [
    {
     "name": "stdout",
     "output_type": "stream",
     "text": [
      "Shots that don't hit the target 2\n"
     ]
    }
   ],
   "source": [
    "fail_shots = 0\n",
    "for shot_dist in point_dist:\n",
    "    if shot_dist > 9:\n",
    "        fail_shots += 1\n",
    "print(\"Shots that don't hit the target\", fail_shots)        \n"
   ]
  }
 ],
 "metadata": {
  "kernelspec": {
   "display_name": "Python 3",
   "language": "python",
   "name": "python3"
  },
  "language_info": {
   "codemirror_mode": {
    "name": "ipython",
    "version": 3
   },
   "file_extension": ".py",
   "mimetype": "text/x-python",
   "name": "python",
   "nbconvert_exporter": "python",
   "pygments_lexer": "ipython3",
   "version": "3.9.1"
  }
 },
 "nbformat": 4,
 "nbformat_minor": 2
}
