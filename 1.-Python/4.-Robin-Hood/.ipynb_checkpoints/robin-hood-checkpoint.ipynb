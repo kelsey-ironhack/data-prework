{
 "cells": [
  {
   "cell_type": "markdown",
   "metadata": {},
   "source": [
    "<img src=\"https://bit.ly/2VnXWr2\" width=\"100\" align=\"left\"/>"
   ]
  },
  {
   "cell_type": "markdown",
   "metadata": {},
   "source": [
    "# Robin Hood\n",
    "Robin Hood has entered a competition to win the archery contest in Sherwood. With his bow and arrows, he needs to shoot on a target and try to hit as close as possible to the center.\n",
    "\n",
    "![](images/arrows.jpg)\n",
    "\n",
    "## Context\n",
    "In this challenge, the landing position of arrows shot by archers in the competition will be represented using 2-dimensional coordinates. \n",
    "\n",
    "In the 2-dimensional space, a point can be defined by a pair of values that correspond to the horizontal coordinate (x) and the vertical coordinate (y). For example, in our case, an arrow that hits the center of the archery target will land in position (0, 0) on the coordinate axes. \n",
    "\n",
    "The space can be divided into 4 zones (quadrants): Q1, Q2, Q3, Q4. If a point is in Q1, both its x coordinate and y coordinate are positive. Any point with a null x or y coordinate is considered to not belong to any quadrant. \n",
    "\n",
    "If you want to know more about the cartesian coordinate system, you can check this [link](https://en.wikipedia.org/wiki/Cartesian_coordinate_system). \n",
    "\n",
    "## Tools\n",
    "You don't necessarily need to use all the tools. Maybe you opt to use some of them or completely different ones, they are given to help you shape the exercise. Programming exercises can be solved in many different ways.\n",
    "* Data structures: **lists, sets, tuples**\n",
    "* Conditional statements: **if-elif-else**\n",
    "* Loop: **while/for**\n",
    "* Minimum (optional sorting)\n",
    "\n",
    "## Tasks\n",
    "Robin Hood has hit the following points:"
   ]
  },
  {
   "cell_type": "code",
   "execution_count": 5,
   "metadata": {},
   "outputs": [
    {
     "name": "stdout",
     "output_type": "stream",
     "text": [
      "22\n"
     ]
    }
   ],
   "source": [
    "points = [(4, 5), (-0, 2), (4, 7), (1, -3), (3, -2), (4, 5), (3, 2), (5, 7), (-5, 7), (2, 2), (-4, 5), (0, -2),\n",
    "          (-4, 7), (-1, 3), (-3, 2), (-4, -5), (-3, 2), (5, 7), (5, 7), (2, 2), (9, 9), (-8, -9)]"
   ]
  },
  {
   "cell_type": "markdown",
   "metadata": {},
   "source": [
    "#### 1. Robin Hood is famous for hitting an arrow with another arrow. Find the coordinates of the points where an arrow hits another arrow."
   ]
  },
  {
   "cell_type": "code",
   "execution_count": 4,
   "metadata": {},
   "outputs": [
    {
     "name": "stdout",
     "output_type": "stream",
     "text": [
      "[(4, 5), (5, 7), (2, 2), (-3, 2)]\n"
     ]
    }
   ],
   "source": [
    "def Repeat(points): \n",
    "    size = len(points) \n",
    "    repeated_hits = [] \n",
    "    for i in range(size): \n",
    "        k = i + 1\n",
    "        for j in range(k, size): \n",
    "            if points[i] == points[j] and points[i] not in repeated_hits: \n",
    "                repeated_hits.append(points[i]) \n",
    "    return repeated_hits \n",
    "\n",
    "\n",
    "print(Repeat(points))"
   ]
  },
  {
   "cell_type": "markdown",
   "metadata": {},
   "source": [
    "#### 2. Calculate how many arrows have fallen in each quadrant. \n",
    "**Note**: the arrows that fall in the axis (x=0 or y=0) don't belong to any quadrant."
   ]
  },
  {
   "cell_type": "code",
   "execution_count": 3,
   "metadata": {},
   "outputs": [
    {
     "name": "stdout",
     "output_type": "stream",
     "text": [
      "Q1: 10 Q2: 6 Q3: 2 Q4: 2\n"
     ]
    }
   ],
   "source": [
    "quadrant1 = 0\n",
    "quadrant2 = 0\n",
    "quadrant3 = 0\n",
    "quadrant4 = 0\n",
    "\n",
    "for point in points:\n",
    "    if (point[0] > 0) & (point[1] > 0):\n",
    "        quadrant1 += 1\n",
    "    \n",
    "    elif (point[0] < 0) & (point[1] < 0):\n",
    "        quadrant3 += 1 \n",
    "    \n",
    "    elif (point[0] > 0) & (point[1] < 0):\n",
    "        quadrant4 += 1\n",
    "        \n",
    "    elif (point[0] < 0) & (point[1] > 0):\n",
    "        quadrant2 += 1\n",
    "        \n",
    "        \n",
    "print(\"Q1:\", quadrant1,\n",
    "      \"Q2:\", quadrant2,\n",
    "      \"Q3:\", quadrant3,\n",
    "      \"Q4:\", quadrant4)"
   ]
  },
  {
   "cell_type": "markdown",
   "metadata": {},
   "source": [
    "#### 3. Find the point closest to the center. Calculate its distance to the center. \n",
    "Take into account that there might be more than one point at the minimum distance to the center.\n",
    "\n",
    "**Hint**: Use the Euclidean distance. You can find more information about it [here](https://en.wikipedia.org/wiki/Euclidean_distance).  \n",
    "**Hint**: Defining a function that calculates the distance to the center can help."
   ]
  },
  {
   "cell_type": "code",
   "execution_count": 6,
   "metadata": {},
   "outputs": [
    {
     "name": "stdout",
     "output_type": "stream",
     "text": [
      "The point/s closest to the center is/are: [(0, 2), (0, -2)]\n",
      "[6.4031242374328485, 2.0, 8.06225774829855, 3.1622776601683795, 3.605551275463989, 6.4031242374328485, 3.605551275463989, 8.602325267042627, 8.602325267042627, 2.8284271247461903, 6.4031242374328485, 2.0, 8.06225774829855, 3.1622776601683795, 3.605551275463989, 6.4031242374328485, 3.605551275463989, 8.602325267042627, 8.602325267042627, 2.8284271247461903, 12.727922061357855, 12.041594578792296]\n"
     ]
    }
   ],
   "source": [
    "import numpy as np\n",
    "\n",
    "origin = (0,0)\n",
    "\n",
    "distance_center = []\n",
    "\n",
    "def Euclidean(x,y):\n",
    "    distance_points = np.sqrt(((x[0]-y[0])**2)+((y[1]-x[1])**2))\n",
    "    return distance_points\n",
    "\n",
    "for point in points:\n",
    "    distance_center.append(Euclidean(point,origin))\n",
    "    \n",
    "dict_create = zip(points, distance_center)\n",
    "dict_points_distancetocenter = dict(dict_create) \n",
    "\n",
    "points_closest_center = []\n",
    "\n",
    "for point, dist in dict_points_distancetocenter.items():\n",
    "    if dist == min(distance_center):\n",
    "        points_closest_center.append(point)\n",
    "\n",
    "print(\"The point/s closest to the center is/are:\", points_closest_center)"
   ]
  },
  {
   "cell_type": "markdown",
   "metadata": {},
   "source": [
    "#### 4. If the archery target has a radius of 9, calculate the number of arrows that won't hit the target. \n",
    "**Hint**: Use the function created in step 3. "
   ]
  },
  {
   "cell_type": "code",
   "execution_count": 5,
   "metadata": {},
   "outputs": [
    {
     "name": "stdout",
     "output_type": "stream",
     "text": [
      "The number of arrows that won't hit the target is/are: 2\n"
     ]
    }
   ],
   "source": [
    "shots_missed = 0\n",
    "shots_hit = 0\n",
    "\n",
    "for dist in distance_center:\n",
    "    if dist > 9:\n",
    "        shots_missed += 1\n",
    "    else:\n",
    "        shots_hit += 1\n",
    "        \n",
    "print(\"The number of arrows that won't hit the target is/are:\", shots_missed)"
   ]
  },
  {
   "cell_type": "code",
   "execution_count": null,
   "metadata": {},
   "outputs": [],
   "source": []
  }
 ],
 "metadata": {
  "kernelspec": {
   "display_name": "Python 3",
   "language": "python",
   "name": "python3"
  },
  "language_info": {
   "codemirror_mode": {
    "name": "ipython",
    "version": 3
   },
   "file_extension": ".py",
   "mimetype": "text/x-python",
   "name": "python",
   "nbconvert_exporter": "python",
   "pygments_lexer": "ipython3",
   "version": "3.7.4"
  }
 },
 "nbformat": 4,
 "nbformat_minor": 2
}
