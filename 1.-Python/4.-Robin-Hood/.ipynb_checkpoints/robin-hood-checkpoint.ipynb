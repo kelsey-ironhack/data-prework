{
 "cells": [
  {
   "cell_type": "markdown",
   "metadata": {},
   "source": [
    "<img src=\"https://bit.ly/2VnXWr2\" width=\"100\" align=\"left\"/>"
   ]
  },
  {
   "cell_type": "markdown",
   "metadata": {},
   "source": [
    "# Robin Hood\n",
    "Robin Hood has entered a competition to win the archery contest in Sherwood. With his bow and arrows, he needs to shoot on a target and try to hit as close as possible to the center.\n",
    "\n",
    "![](images/arrows.jpg)\n",
    "\n",
    "## Context\n",
    "In this challenge, the landing position of arrows shot by archers in the competition will be represented using 2-dimensional coordinates. \n",
    "\n",
    "In the 2-dimensional space, a point can be defined by a pair of values that correspond to the horizontal coordinate (x) and the vertical coordinate (y). For example, in our case, an arrow that hits the center of the archery target will land in position (0, 0) on the coordinate axes. \n",
    "\n",
    "The space can be divided into 4 zones (quadrants): Q1, Q2, Q3, Q4. If a point is in Q1, both its x coordinate and y coordinate are positive. Any point with a null x or y coordinate is considered to not belong to any quadrant. \n",
    "\n",
    "If you want to know more about the cartesian coordinate system, you can check this [link](https://en.wikipedia.org/wiki/Cartesian_coordinate_system). \n",
    "\n",
    "## Tools\n",
    "You don't necessarily need to use all the tools. Maybe you opt to use some of them or completely different ones, they are given to help you shape the exercise. Programming exercises can be solved in many different ways.\n",
    "* Data structures: **lists, sets, tuples**\n",
    "* Conditional statements: **if-elif-else**\n",
    "* Loop: **while/for**\n",
    "* Minimum (optional sorting)\n",
    "\n",
    "## Tasks\n",
    "Robin Hood has hit the following points:"
   ]
  },
  {
   "cell_type": "code",
   "execution_count": 29,
   "metadata": {},
   "outputs": [],
   "source": [
    "points = [(4, 5), (-0, 2), (4, 7), (1, -3), (3, -2), (4, 5), (3, 2), (5, 7), (-5, 7), (2, 2), (-4, 5), (0, -2),\n",
    "          (-4, 7), (-1, 3), (-3, 2), (-4, -5), (-3, 2), (5, 7), (5, 7), (2, 2), (9, 9), (-8, -9)]"
   ]
  },
  {
   "cell_type": "markdown",
   "metadata": {},
   "source": [
    "#### 1. Robin Hood is famous for hitting an arrow with another arrow. Find the coordinates of the points where an arrow hits another arrow."
   ]
  },
  {
   "cell_type": "code",
   "execution_count": 20,
   "metadata": {},
   "outputs": [
    {
     "name": "stdout",
     "output_type": "stream",
     "text": [
      "2 (4, 5)\n",
      "3 (5, 7)\n",
      "2 (2, 2)\n",
      "2 (-3, 2)\n",
      "\n",
      "\n",
      "[(4, 5), (0, 2), (4, 7), (1, -3), (3, -2), (3, 2), (5, 7), (-5, 7), (2, 2), (-4, 5), (0, -2), (-4, 7), (-1, 3), (-3, 2), (-4, -5), (9, 9), (-8, -9)]\n",
      "\n",
      "\n",
      "The coordinates of the points where an arrow hits another arrow are:\n",
      "[(4, 5), (5, 7), (2, 2), (-3, 2)]\n"
     ]
    }
   ],
   "source": [
    "no_dupe_point_list = []\n",
    "fallen_arrows = []\n",
    "for point in points: \n",
    "    if point not in no_dupe_point_list:\n",
    "        no_dupe_point_list.append(point)\n",
    "        dupe = points.count(point)\n",
    "        if dupe > 1:\n",
    "            fallen_arrows.append(point)\n",
    "            print(dupe, point)\n",
    "print(\"\\n\")\n",
    "print(no_dupe_point_list)\n",
    "print(\"\\n\")\n",
    "print(\"The coordinates of the points where an arrow hits another arrow are:\\n\" + str(fallen_arrows))"
   ]
  },
  {
   "cell_type": "markdown",
   "metadata": {},
   "source": [
    "#### 2. Calculate how many arrows have fallen in each quadrant. \n",
    "**Note**: the arrows that fall in the axis (x=0 or y=0) don't belong to any quadrant."
   ]
  },
  {
   "cell_type": "code",
   "execution_count": 21,
   "metadata": {},
   "outputs": [
    {
     "name": "stdout",
     "output_type": "stream",
     "text": [
      "The arrows that fallen ito Quadrat 1 are:\n",
      " [(4, 5), (4, 7), (4, 5), (3, 2), (5, 7), (2, 2), (5, 7), (5, 7), (2, 2), (9, 9)]\n",
      "10\n",
      "\n",
      "\n",
      "The arrows that fallen ito Quadrat 1 are:\n",
      " [(-5, 7), (-4, 5), (-4, 7), (-1, 3), (-3, 2), (-3, 2)]\n",
      "6\n",
      "\n",
      "\n",
      "The arrows that fallen ito Quadrat 1 are:\n",
      " [(-4, -5), (-8, -9)]\n",
      "2\n",
      "\n",
      "\n",
      "The arrows that fallen ito Quadrat 1 are:\n",
      " [(1, -3), (3, -2)]\n",
      "2\n",
      "\n",
      "\n",
      "This arrows don´t belong to any Quadrant:\n",
      " [(0, 2), (0, -2)]\n"
     ]
    }
   ],
   "source": [
    "# If the question referes to all the arrows shoot:\n",
    "\n",
    "arrows_in_Q_1 = 0\n",
    "arrows_in_Q_2 = 0\n",
    "arrows_in_Q_3 = 0\n",
    "arrows_in_Q_4 = 0\n",
    "\n",
    "q1 = []\n",
    "q2 =[]\n",
    "q3 = []\n",
    "q4 = []\n",
    "no_quadrant = []\n",
    "\n",
    "for arrow in points:\n",
    "    x = arrow[0] \n",
    "    y = arrow[1]\n",
    "    if x > 0 and y > 0:\n",
    "        arrows_in_Q_1 += 1\n",
    "        q1.append(arrow)\n",
    "    elif x < 0 and y > 0:\n",
    "        arrows_in_Q_2 += 1\n",
    "        q2.append(arrow)\n",
    "    elif x < 0 and y < 0:\n",
    "        arrows_in_Q_3 += 1\n",
    "        q3.append(arrow)\n",
    "    elif x > 0 and y < 0:\n",
    "        arrows_in_Q_4 += 1\n",
    "        q4.append(arrow)\n",
    "    else:\n",
    "        no_quadrant.append(arrow)\n",
    "\n",
    "\n",
    "print(\"The arrows that fallen ito Quadrat 1 are:\\n\",q1)\n",
    "print(arrows_in_Q_1)\n",
    "print(\"\\n\")\n",
    "print(\"The arrows that fallen ito Quadrat 1 are:\\n\",q2)\n",
    "print(arrows_in_Q_2)\n",
    "print(\"\\n\")\n",
    "print(\"The arrows that fallen ito Quadrat 1 are:\\n\",q3)\n",
    "print(arrows_in_Q_3)\n",
    "print(\"\\n\")\n",
    "print(\"The arrows that fallen ito Quadrat 1 are:\\n\",q4)\n",
    "print(arrows_in_Q_4)\n",
    "print(\"\\n\")\n",
    "print(\"This arrows don´t belong to any Quadrant:\\n\",no_quadrant)\n",
    "\n"
   ]
  },
  {
   "cell_type": "code",
   "execution_count": 22,
   "metadata": {
    "scrolled": true
   },
   "outputs": [
    {
     "name": "stdout",
     "output_type": "stream",
     "text": [
      "The arrows that fallen ito Quadrat 1 are:\n",
      " [(4, 5), (5, 7), (2, 2)]\n",
      "3\n",
      "\n",
      "\n",
      "The arrows that fallen ito Quadrat 1 are:\n",
      " [(-3, 2)]\n",
      "1\n",
      "\n",
      "\n",
      "The arrows that fallen ito Quadrat 1 are:\n",
      " []\n",
      "0\n",
      "\n",
      "\n",
      "The arrows that fallen ito Quadrat 1 are:\n",
      " []\n",
      "0\n",
      "\n",
      "\n",
      "This arrows don´t belong to any Quadrant:\n",
      " []\n"
     ]
    }
   ],
   "source": [
    "# If the question referes to only the arrows that fall because where hit by another arrow then:\n",
    "\n",
    "\n",
    "arrows_in_Q_1 = 0\n",
    "arrows_in_Q_2 = 0\n",
    "arrows_in_Q_3 = 0\n",
    "arrows_in_Q_4 = 0\n",
    "\n",
    "q1 = []\n",
    "q2 =[]\n",
    "q3 = []\n",
    "q4 = []\n",
    "no_quadrant = []\n",
    "\n",
    "for arrow in fallen_arrows:\n",
    "    x = arrow[0] \n",
    "    y = arrow[1]\n",
    "    if x > 0 and y > 0:\n",
    "        arrows_in_Q_1 += 1\n",
    "        q1.append(arrow)\n",
    "    elif x < 0 and y > 0:\n",
    "        arrows_in_Q_2 += 1\n",
    "        q2.append(arrow)\n",
    "    elif x < 0 and y < 0:\n",
    "        arrows_in_Q_3 += 1\n",
    "        q3.append(arrow)\n",
    "    elif x > 0 and y < 0:\n",
    "        arrows_in_Q_4 += 1\n",
    "        q4.append(arrow)\n",
    "    else:\n",
    "        no_quadrant.append(arrow)\n",
    "\n",
    "        \n",
    "print(\"The arrows that fallen ito Quadrat 1 are:\\n\",q1)\n",
    "print(arrows_in_Q_1)\n",
    "print(\"\\n\")\n",
    "print(\"The arrows that fallen ito Quadrat 1 are:\\n\",q2)\n",
    "print(arrows_in_Q_2)\n",
    "print(\"\\n\")\n",
    "print(\"The arrows that fallen ito Quadrat 1 are:\\n\",q3)\n",
    "print(arrows_in_Q_3)\n",
    "print(\"\\n\")\n",
    "print(\"The arrows that fallen ito Quadrat 1 are:\\n\",q4)\n",
    "print(arrows_in_Q_4)\n",
    "print(\"\\n\")\n",
    "print(\"This arrows don´t belong to any Quadrant:\\n\",no_quadrant)\n",
    "\n"
   ]
  },
  {
   "cell_type": "markdown",
   "metadata": {},
   "source": [
    "#### 3. Find the point closest to the center. Calculate its distance to the center. \n",
    "Take into account that there might be more than one point at the minimum distance to the center.\n",
    "\n",
    "**Hint**: Use the Euclidean distance. You can find more information about it [here](https://en.wikipedia.org/wiki/Euclidean_distance).  \n",
    "**Hint**: Defining a function that calculates the distance to the center can help."
   ]
  },
  {
   "cell_type": "code",
   "execution_count": 23,
   "metadata": {},
   "outputs": [
    {
     "name": "stdout",
     "output_type": "stream",
     "text": [
      "\n",
      "\n",
      "This is a dictionary with the coordenates as keys and the distances as values:\n",
      "\n",
      " {(4, 5): 6.4031242374328485, (0, 2): 2.0, (4, 7): 8.06225774829855, (1, -3): 3.1622776601683795, (3, -2): 3.605551275463989, (3, 2): 3.605551275463989, (5, 7): 8.602325267042627, (-5, 7): 8.602325267042627, (2, 2): 2.8284271247461903, (-4, 5): 6.4031242374328485, (0, -2): 2.0, (-4, 7): 8.06225774829855, (-1, 3): 3.1622776601683795, (-3, 2): 3.605551275463989, (-4, -5): 6.4031242374328485, (9, 9): 12.727922061357855, (-8, -9): 12.041594578792296}\n",
      "2.0\n",
      "\n",
      "\n",
      "This is a dictioray with the coordenates of the arrows nearest to the center as keys and the distances as values\n",
      ": {(0, 2): 2.0, (0, -2): 2.0}\n",
      "\n",
      "\n",
      "The points near to the center are: \n",
      " dict_keys([(0, 2), (0, -2)])\n",
      "\n",
      "\n",
      "The points nearest to the center are dict_keys([(0, 2), (0, -2)]), whit a value of 2.0\n"
     ]
    }
   ],
   "source": [
    "#points = [(4, 5), (-0, 2), (1, 1), (1, -1), (-1, -1), (-1, 1), (3, 2), (1, 1), (-5, 7), (2, 2), (-4, 5), (0, -2),\n",
    "          #(-4, 7), (-1, 3), (-1, 1), (-4, -5), (-3, 2), (5, 7), (5, 7), (2, 2), (9, 9), (-8, -9)]\n",
    "euc_distance = {}\n",
    "p1 = 0\n",
    "p2 = 0\n",
    "for point in points:\n",
    "    q1 = point[0]\n",
    "    q2 = point[1]\n",
    "    distance = (((q1-p1)**2)+ ((q2-p2)**2))**(1/2)\n",
    "    euc_distance[point] = distance\n",
    "\n",
    "\n",
    "print(\"\\n\")\n",
    "print(\"This is a dictionary with the coordenates as keys and the distances as values:\\n\\n\",euc_distance)\n",
    "\n",
    "min_value = min(euc_distance.values())\n",
    "print(min_value)\n",
    "print(\"\\n\")\n",
    "dic_new = {}\n",
    "for key, value in euc_distance.items():\n",
    "    if value == min_value:\n",
    "        dic_new[key] = value\n",
    "        \n",
    "print(\"This is a dictioray with the coordenates of the arrows nearest to the center as keys and the distances as values\\n:\",dic_new)\n",
    "print(\"\\n\")\n",
    "near_to_center = dic_new.keys()\n",
    "print (\"The points near to the center are: \\n\",near_to_center)\n",
    "\n",
    "        \n",
    "print(\"\\n\")\n",
    "print(\"The points nearest to the center are \" + str(near_to_center) + \", whit a value of\",min_value)"
   ]
  },
  {
   "cell_type": "markdown",
   "metadata": {},
   "source": [
    "#### 4. If the archery target has a radius of 9, calculate the number of arrows that won't hit the target. \n",
    "**Hint**: Use the function created in step 3. "
   ]
  },
  {
   "cell_type": "code",
   "execution_count": 30,
   "metadata": {
    "scrolled": true
   },
   "outputs": [
    {
     "name": "stdout",
     "output_type": "stream",
     "text": [
      "The number of missed arrows are 2\n",
      "\n",
      "\n",
      "[(9, 9), (-8, -9)]\n",
      "\n",
      "\n",
      "This dictoray as for keys the cordinates of the arrows that missed the target and the number of misses for keys in order of shoting {(9, 9): 1, (-8, -9): 2}\n"
     ]
    },
    {
     "data": {
      "text/plain": [
       "\"QUESTION: DOES ADDING VALUES TO A DICTIONARY, ADD THEM IN ORDER? IN THIS CASE FOR EXAMPLE WE\\nWE GO THROUH THE TUPLES IN THE POINTS LIST AND ADD THEM AS KEYS FOR OUR NEWLY CREATED DICTIONARY\\nAND AT THE SAME TIME WE ADD THE NUMER OF MISSES, WHICH INCREMENTES BY ONE FOR CONSECUTIVE COORDENATES\\nSO I'M WONDERING IF WE KEEP ADDING VALUES THEY WILL GO TO THE DICTIONARY IN THE ORDER THEY\\nAPPEAR IN THE LIST?\\nQUESTION 2: DOES AS THE VELUES IN IT IN ORDER\""
      ]
     },
     "execution_count": 30,
     "metadata": {},
     "output_type": "execute_result"
    }
   ],
   "source": [
    "miss_arrow = 0\n",
    "missed_arrows_cord = []\n",
    "dic_missed = {}\n",
    "\n",
    "\n",
    "for arrow in points:\n",
    "    x = arrow[0] \n",
    "    y = arrow[1]\n",
    "    if ((x - 0)**2) + ((y - 0)**2) >= (9**2):\n",
    "        miss_arrow += 1\n",
    "        missed_arrows_cord.append(arrow)\n",
    "        dic_missed[arrow] = miss_arrow\n",
    "\n",
    "\n",
    "print(\"The number of missed arrows are\",miss_arrow)\n",
    "print(\"\\n\")\n",
    "print(missed_arrows_cord)\n",
    "print(\"\\n\")\n",
    "print(\"This dictoray as for keys the cordinates of the arrows that missed the target and the number of misses for keys in order of shoting\", dic_missed) \n",
    "\n",
    "\"\"\"QUESTION: DOES ADDING VALUES TO A DICTIONARY, ADD THEM IN ORDER? IN THIS CASE FOR EXAMPLE WE\n",
    "WE GO THROUH THE TUPLES IN THE POINTS LIST AND ADD THEM AS KEYS FOR OUR NEWLY CREATED DICTIONARY\n",
    "AND AT THE SAME TIME WE ADD THE NUMER OF MISSES, WHICH INCREMENTES BY ONE FOR CONSECUTIVE COORDENATES\n",
    "SO I'M WONDERING IF WE KEEP ADDING VALUES THEY WILL GO TO THE DICTIONARY IN THE ORDER THEY\n",
    "APPEAR IN THE LIST?\n",
    "QUESTION 2: DOES AS THE VELUES IN IT IN ORDER\"\"\" \n"
   ]
  },
  {
   "cell_type": "code",
   "execution_count": null,
   "metadata": {},
   "outputs": [],
   "source": []
  }
 ],
 "metadata": {
  "kernelspec": {
   "display_name": "Python 3",
   "language": "python",
   "name": "python3"
  },
  "language_info": {
   "codemirror_mode": {
    "name": "ipython",
    "version": 3
   },
   "file_extension": ".py",
   "mimetype": "text/x-python",
   "name": "python",
   "nbconvert_exporter": "python",
   "pygments_lexer": "ipython3",
   "version": "3.7.6"
  }
 },
 "nbformat": 4,
 "nbformat_minor": 2
}
