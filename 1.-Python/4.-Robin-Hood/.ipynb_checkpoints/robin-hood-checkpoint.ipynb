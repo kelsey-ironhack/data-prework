{
 "cells": [
  {
   "cell_type": "markdown",
   "metadata": {},
   "source": [
    "<img src=\"https://bit.ly/2VnXWr2\" width=\"100\" align=\"left\"/>"
   ]
  },
  {
   "cell_type": "markdown",
   "metadata": {},
   "source": [
    "# Robin Hood\n",
    "Robin Hood has entered a competition to win the archery contest in Sherwood. With his bow and arrows, he needs to shoot on a target and try to hit as close as possible to the center.\n",
    "\n",
    "![](images/arrows.jpg)\n",
    "\n",
    "## Context\n",
    "In this challenge, the landing position of arrows shot by archers in the competition will be represented using 2-dimensional coordinates. \n",
    "\n",
    "In the 2-dimensional space, a point can be defined by a pair of values that correspond to the horizontal coordinate (x) and the vertical coordinate (y). For example, in our case, an arrow that hits the center of the archery target will land in position (0, 0) on the coordinate axes. \n",
    "\n",
    "The space can be divided into 4 zones (quadrants): Q1, Q2, Q3, Q4. If a point is in Q1, both its x coordinate and y coordinate are positive. Any point with a null x or y coordinate is considered to not belong to any quadrant. \n",
    "\n",
    "If you want to know more about the cartesian coordinate system, you can check this [link](https://en.wikipedia.org/wiki/Cartesian_coordinate_system). \n",
    "\n",
    "## Tools\n",
    "You don't necessarily need to use all the tools. Maybe you opt to use some of them or completely different ones, they are given to help you shape the exercise. Programming exercises can be solved in many different ways.\n",
    "* Data structures: **lists, sets, tuples**\n",
    "* Conditional statements: **if-elif-else**\n",
    "* Loop: **while/for**\n",
    "* Minimum (optional sorting)\n",
    "\n",
    "## Tasks\n",
    "Robin Hood has hit the following points:"
   ]
  },
  {
   "cell_type": "code",
   "execution_count": 19,
   "metadata": {},
   "outputs": [],
   "source": [
    "points = [(4, 5), (-0, 2), (4, 7), (1, -3), (3, -2), (4, 5), (3, 2), (5, 7), (-5, 7), (2, 2), (-4, 5), (0, -2),\n",
    "          (-4, 7), (-1, 3), (-3, 2), (-4, -5), (-3, 2), (5, 7), (5, 7), (2, 2), (9, 9), (-8, -9)]\n"
   ]
  },
  {
   "cell_type": "markdown",
   "metadata": {},
   "source": [
    "#### 1. Robin Hood is famous for hitting an arrow with another arrow. Find the coordinates of the points where an arrow hits another arrow."
   ]
  },
  {
   "cell_type": "code",
   "execution_count": 35,
   "metadata": {},
   "outputs": [
    {
     "name": "stdout",
     "output_type": "stream",
     "text": [
      "The 6 arrow hit the same point as the number 1\n",
      "The 1 arrow hit the same point as the number 6\n",
      "The 18 arrow hit the same point as the number 8\n",
      "The 19 arrow hit the same point as the number 8\n",
      "The 20 arrow hit the same point as the number 10\n",
      "The 17 arrow hit the same point as the number 15\n",
      "The 15 arrow hit the same point as the number 17\n",
      "The 8 arrow hit the same point as the number 18\n",
      "The 19 arrow hit the same point as the number 18\n",
      "The 8 arrow hit the same point as the number 19\n",
      "The 18 arrow hit the same point as the number 19\n",
      "The 10 arrow hit the same point as the number 20\n",
      "These are the coordinates where more than one arrow hit the same point:\n",
      " [[4, 5], [5, 7], [2, 2], [-3, 2]]\n"
     ]
    }
   ],
   "source": [
    "point = ()\n",
    "same_coordinates=[]\n",
    "for i in range(len(points)):\n",
    "    point = points[i]\n",
    "    for j in range(len(points)):\n",
    "        if (i!=j) & (point == points[j]):\n",
    "            print(f'The {j+1} arrow hit the same point as the number {i+1}')\n",
    "            if list(point) not in same_coordinates:\n",
    "                same_coordinates.append(list(point))\n",
    "print(\"These are the coordinates where more than one arrow hit the same point:\\n\",same_coordinates)"
   ]
  },
  {
   "cell_type": "markdown",
   "metadata": {},
   "source": [
    "#### 2. Calculate how many arrows have fallen in each quadrant. \n",
    "**Note**: the arrows that fall in the axis (x=0 or y=0) don't belong to any quadrant."
   ]
  },
  {
   "cell_type": "code",
   "execution_count": 18,
   "metadata": {},
   "outputs": [
    {
     "name": "stdout",
     "output_type": "stream",
     "text": [
      "Arrows in Q1: 10\n",
      "Arrows in Q2: 6\n",
      "Arrows in Q3: 2\n",
      "Arrows in Q4: 2\n",
      "Arrows in no quadrant: 2\n"
     ]
    }
   ],
   "source": [
    "point = ()\n",
    "quadrants =[0,0,0,0,0]\n",
    "for i in range(len(points)):\n",
    "    if (points[i][0]>0)&((points[i][1]>0)):\n",
    "        quadrants[0]+=1\n",
    "    elif(points[i][0]<0)&((points[i][1]>0)):\n",
    "        quadrants[1]+=1\n",
    "    elif(points[i][0]<0)&((points[i][1]<0)):\n",
    "        quadrants[2]+=1\n",
    "    elif(points[i][0]>0)&((points[i][1]<0)):\n",
    "        quadrants[3]+=1\n",
    "    else:\n",
    "        quadrants[4]+=1\n",
    "print(\"Arrows in Q1:\",quadrants[0])\n",
    "print(\"Arrows in Q2:\",quadrants[1])\n",
    "print(\"Arrows in Q3:\",quadrants[2])\n",
    "print(\"Arrows in Q4:\",quadrants[3])\n",
    "print(\"Arrows in no quadrant:\",quadrants[4])"
   ]
  },
  {
   "cell_type": "markdown",
   "metadata": {},
   "source": [
    "#### 3. Find the point closest to the center. Calculate its distance to the center. \n",
    "Take into account that there might be more than one point at the minimum distance to the center.\n",
    "\n",
    "**Hint**: Use the Euclidean distance. You can find more information about it [here](https://en.wikipedia.org/wiki/Euclidean_distance).  \n",
    "**Hint**: Defining a function that calculates the distance to the center can help."
   ]
  },
  {
   "cell_type": "code",
   "execution_count": 32,
   "metadata": {},
   "outputs": [
    {
     "name": "stdout",
     "output_type": "stream",
     "text": [
      "[6.4031242374328485, 2.0, 8.06225774829855, 3.1622776601683795, 3.605551275463989, 6.4031242374328485, 3.605551275463989, 8.602325267042627, 8.602325267042627, 2.8284271247461903, 6.4031242374328485, 2.0, 8.06225774829855, 3.1622776601683795, 3.605551275463989, 6.4031242374328485, 3.605551275463989, 8.602325267042627, 8.602325267042627, 2.8284271247461903, 12.727922061357855, 12.041594578792296]\n",
      "The closest arrow is 2.0 from the center\n"
     ]
    }
   ],
   "source": [
    "# q is where the arrow hit and p, in this case will be (0,0)\n",
    "# Euclidean distance formula: \n",
    "def equ_dist_to_zero(x):\n",
    "    euq_dist = (x[0]**2+x[1]**2)**(1/2)\n",
    "    return euq_dist\n",
    "\n",
    "dist_to_center = []\n",
    "\n",
    "for i in range(len(points)):\n",
    "    dist_to_center.append(equ_dist_to_zero(points[i]))\n",
    "\n",
    "print(dist_to_center)\n",
    "print(f\"The closest arrow is {min(dist_to_center)} from the center\")"
   ]
  },
  {
   "cell_type": "markdown",
   "metadata": {},
   "source": [
    "#### 4. If the archery target has a radius of 9, calculate the number of arrows that won't hit the target. \n",
    "**Hint**: Use the function created in step 3. "
   ]
  },
  {
   "cell_type": "code",
   "execution_count": 34,
   "metadata": {},
   "outputs": [
    {
     "name": "stdout",
     "output_type": "stream",
     "text": [
      "Arrows out of target: 2\n"
     ]
    }
   ],
   "source": [
    "arrows_out=0\n",
    "for i in range(len(points)):\n",
    "    if dist_to_center[i]>9:\n",
    "        arrows_out+=1\n",
    "print(\"Arrows out of target:\",arrows_out)"
   ]
  },
  {
   "cell_type": "code",
   "execution_count": null,
   "metadata": {},
   "outputs": [],
   "source": []
  }
 ],
 "metadata": {
  "kernelspec": {
   "display_name": "Python 3",
   "language": "python",
   "name": "python3"
  },
  "language_info": {
   "codemirror_mode": {
    "name": "ipython",
    "version": 3
   },
   "file_extension": ".py",
   "mimetype": "text/x-python",
   "name": "python",
   "nbconvert_exporter": "python",
   "pygments_lexer": "ipython3",
   "version": "3.7.4"
  }
 },
 "nbformat": 4,
 "nbformat_minor": 2
}
