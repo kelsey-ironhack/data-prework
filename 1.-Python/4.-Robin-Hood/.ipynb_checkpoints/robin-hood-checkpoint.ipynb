{
 "cells": [
  {
   "cell_type": "markdown",
   "metadata": {},
   "source": [
    "<img src=\"https://bit.ly/2VnXWr2\" width=\"100\" align=\"left\"/>"
   ]
  },
  {
   "cell_type": "markdown",
   "metadata": {},
   "source": [
    "# Robin Hood\n",
    "Robin Hood has entered a competition to win the archery contest in Sherwood. With his bow and arrows, he needs to shoot on a target and try to hit as close as possible to the center.\n",
    "\n",
    "![](images/arrows.jpg)\n",
    "\n",
    "## Context\n",
    "In this challenge, the landing position of arrows shot by archers in the competition will be represented using 2-dimensional coordinates. \n",
    "\n",
    "In the 2-dimensional space, a point can be defined by a pair of values that correspond to the horizontal coordinate (x) and the vertical coordinate (y). For example, in our case, an arrow that hits the center of the archery target will land in position (0, 0) on the coordinate axes. \n",
    "\n",
    "The space can be divided into 4 zones (quadrants): Q1, Q2, Q3, Q4. If a point is in Q1, both its x coordinate and y coordinate are positive. Any point with a null x or y coordinate is considered to not belong to any quadrant. \n",
    "\n",
    "If you want to know more about the cartesian coordinate system, you can check this [link](https://en.wikipedia.org/wiki/Cartesian_coordinate_system). \n",
    "\n",
    "## Tools\n",
    "You don't necessarily need to use all the tools. Maybe you opt to use some of them or completely different ones, they are given to help you shape the exercise. Programming exercises can be solved in many different ways.\n",
    "* Data structures: **lists, sets, tuples**\n",
    "* Conditional statements: **if-elif-else**\n",
    "* Loop: **while/for**\n",
    "* Minimum (optional sorting)\n",
    "\n",
    "## Tasks\n",
    "Robin Hood has hit the following points:"
   ]
  },
  {
   "cell_type": "code",
   "execution_count": 4,
   "metadata": {},
   "outputs": [],
   "source": [
    "points = [(4, 5), (-0, 2), (4, 7), (1, -3), (3, -2), (4, 5), (3, 2), (5, 7), (-5, 7), (2, 2), (-4, 5), (0, -2),\n",
    "          (-4, 7), (-1, 3), (-3, 2), (-4, -5), (-3, 2), (5, 7), (5, 7), (2, 2), (9, 9), (-8, -9)]"
   ]
  },
  {
   "cell_type": "markdown",
   "metadata": {},
   "source": [
    "#### 1. Robin Hood is famous for hitting an arrow with another arrow. Find the coordinates of the points where an arrow hits another arrow."
   ]
  },
  {
   "cell_type": "code",
   "execution_count": 5,
   "metadata": {},
   "outputs": [
    {
     "name": "stdout",
     "output_type": "stream",
     "text": [
      "[(4, 5), (5, 7), (2, 2), (-3, 2)]\n"
     ]
    }
   ],
   "source": [
    "same_points = []\n",
    "same = 0\n",
    "for i in points:\n",
    "    x = i\n",
    "    for i in points:\n",
    "        if x == i:\n",
    "            same +=1\n",
    "        else:\n",
    "            continue\n",
    "        if same >= 2 and x not in same_points:\n",
    "            same_points.append(x)\n",
    "        else:\n",
    "            continue\n",
    "    same = 0\n",
    "print(same_points)\n",
    "        \n",
    "    "
   ]
  },
  {
   "cell_type": "markdown",
   "metadata": {},
   "source": [
    "#### 2. Calculate how many arrows have fallen in each quadrant. \n",
    "**Note**: the arrows that fall in the axis (x=0 or y=0) don't belong to any quadrant."
   ]
  },
  {
   "cell_type": "code",
   "execution_count": 8,
   "metadata": {},
   "outputs": [
    {
     "name": "stdout",
     "output_type": "stream",
     "text": [
      "[(4, 5), (4, 7), (4, 5), (3, 2), (5, 7), (2, 2), (5, 7), (5, 7), (2, 2), (9, 9)]\n",
      "[(-5, 7), (-4, 5), (-4, 7), (-1, 3), (-3, 2), (-3, 2)]\n",
      "[(-4, -5), (-8, -9)]\n",
      "[(1, -3), (3, -2)]\n",
      "In quadrant 1 fall 10 arrows\n",
      "In quadrant 2 fall 6 arrows\n",
      "In quadrant 3 fall 2 arrows\n",
      "In quadrant 4 fall 2 arrows\n"
     ]
    }
   ],
   "source": [
    "q1 = []\n",
    "q2 = []\n",
    "q3 = []\n",
    "q4 = []\n",
    "\n",
    "for i in points:\n",
    "    if i[0] > 0:\n",
    "        if i[1] >0:\n",
    "            q1.append(i)\n",
    "        elif i[1] < 0:\n",
    "            q4.append(i)\n",
    "        else:\n",
    "            continue\n",
    "    elif i[0] < 0:\n",
    "        if i[1] >0:\n",
    "            q2.append(i)\n",
    "        elif i[1] <0:\n",
    "            q3.append(i)\n",
    "        else: \n",
    "            continue\n",
    "    else:\n",
    "        continue\n",
    "\n",
    "print (q1)\n",
    "print(q2)\n",
    "print(q3)\n",
    "print(q4)\n",
    "\n",
    "print(\"In quadrant 1 fall\", len(q1), \"arrows\")\n",
    "print(\"In quadrant 2 fall\", len(q2), \"arrows\")\n",
    "print(\"In quadrant 3 fall\", len(q3), \"arrows\")\n",
    "print(\"In quadrant 4 fall\", len(q4), \"arrows\")"
   ]
  },
  {
   "cell_type": "markdown",
   "metadata": {},
   "source": [
    "#### 3. Find the point closest to the center. Calculate its distance to the center. \n",
    "Take into account that there might be more than one point at the minimum distance to the center.\n",
    "\n",
    "**Hint**: Use the Euclidean distance. You can find more information about it [here](https://en.wikipedia.org/wiki/Euclidean_distance).  \n",
    "**Hint**: Defining a function that calculates the distance to the center can help."
   ]
  },
  {
   "cell_type": "code",
   "execution_count": 29,
   "metadata": {},
   "outputs": [
    {
     "name": "stdout",
     "output_type": "stream",
     "text": [
      "{(4, 5): 6.4031242374328485, (0, 2): 2.0, (4, 7): 8.06225774829855, (1, -3): 3.1622776601683795, (3, -2): 3.605551275463989, (3, 2): 3.605551275463989, (5, 7): 8.602325267042627, (-5, 7): 8.602325267042627, (2, 2): 2.8284271247461903, (-4, 5): 6.4031242374328485, (0, -2): 2.0, (-4, 7): 8.06225774829855, (-1, 3): 3.1622776601683795, (-3, 2): 3.605551275463989, (-4, -5): 6.4031242374328485, (9, 9): 12.727922061357855, (-8, -9): 12.041594578792296}\n",
      "2.0\n",
      "The point closest to the center is (0, 2)\n",
      "The point closest to the center is (0, -2)\n"
     ]
    }
   ],
   "source": [
    "distance_points = dict.fromkeys(points,0)\n",
    "\n",
    "for i in points:\n",
    "    result = ((i[0]-0)**2 + (i[1]-0)**2)**0.5\n",
    "    distance_points[i] = result\n",
    "print (distance_points)\n",
    "distance_list = [v for v in distance_points.values()]\n",
    "\n",
    "minimum_distance = min (distance_list)\n",
    "print(minimum_distance)\n",
    "\n",
    "for point, distance in distance_points.items():\n",
    "    if distance == minimum_distance:\n",
    "        print (\"The point closest to the center is\", point)\n"
   ]
  },
  {
   "cell_type": "markdown",
   "metadata": {},
   "source": [
    "#### 4. If the archery target has a radius of 9, calculate the number of arrows that won't hit the target. \n",
    "**Hint**: Use the function created in step 3. "
   ]
  },
  {
   "cell_type": "code",
   "execution_count": 30,
   "metadata": {},
   "outputs": [
    {
     "name": "stdout",
     "output_type": "stream",
     "text": [
      "2\n"
     ]
    }
   ],
   "source": [
    "miss = 0\n",
    "for i in distance_list:\n",
    "    if i >9:\n",
    "        miss += 1\n",
    "print (miss)"
   ]
  },
  {
   "cell_type": "code",
   "execution_count": null,
   "metadata": {},
   "outputs": [],
   "source": []
  }
 ],
 "metadata": {
  "kernelspec": {
   "display_name": "Python 3",
   "language": "python",
   "name": "python3"
  },
  "language_info": {
   "codemirror_mode": {
    "name": "ipython",
    "version": 3
   },
   "file_extension": ".py",
   "mimetype": "text/x-python",
   "name": "python",
   "nbconvert_exporter": "python",
   "pygments_lexer": "ipython3",
   "version": "3.7.6"
  }
 },
 "nbformat": 4,
 "nbformat_minor": 2
}
