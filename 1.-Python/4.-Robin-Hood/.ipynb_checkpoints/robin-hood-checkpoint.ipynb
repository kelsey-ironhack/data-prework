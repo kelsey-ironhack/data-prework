{
 "cells": [
  {
   "cell_type": "markdown",
   "metadata": {},
   "source": [
    "<img src=\"https://bit.ly/2VnXWr2\" width=\"100\" align=\"left\"/>"
   ]
  },
  {
   "cell_type": "markdown",
   "metadata": {},
   "source": [
    "# Robin Hood\n",
    "Robin Hood has entered a competition to win the archery contest in Sherwood. With his bow and arrows, he needs to shoot on a target and try to hit as close as possible to the center.\n",
    "\n",
    "![](images/arrows.jpg)\n",
    "\n",
    "## Context\n",
    "In this challenge, the landing position of arrows shot by archers in the competition will be represented using 2-dimensional coordinates. \n",
    "\n",
    "In the 2-dimensional space, a point can be defined by a pair of values that correspond to the horizontal coordinate (x) and the vertical coordinate (y). For example, in our case, an arrow that hits the center of the archery target will land in position (0, 0) on the coordinate axes. \n",
    "\n",
    "The space can be divided into 4 zones (quadrants): Q1, Q2, Q3, Q4. If a point is in Q1, both its x coordinate and y coordinate are positive. Any point with a null x or y coordinate is considered to not belong to any quadrant. \n",
    "\n",
    "If you want to know more about the cartesian coordinate system, you can check this [link](https://en.wikipedia.org/wiki/Cartesian_coordinate_system). \n",
    "\n",
    "## Tools\n",
    "You don't necessarily need to use all the tools. Maybe you opt to use some of them or completely different ones, they are given to help you shape the exercise. Programming exercises can be solved in many different ways.\n",
    "* Data structures: **lists, sets, tuples**\n",
    "* Conditional statements: **if-elif-else**\n",
    "* Loop: **while/for**\n",
    "* Minimum (optional sorting)\n",
    "\n",
    "## Tasks\n",
    "Robin Hood has hit the following points:"
   ]
  },
  {
   "cell_type": "code",
   "execution_count": 1,
   "metadata": {},
   "outputs": [],
   "source": [
    "points = [(4, 5), (-0, 2), (4, 7), (1, -3), (3, -2), (4, 5), (3, 2), (5, 7), (-5, 7), (2, 2), (-4, 5), (0, -2),\n",
    "          (-4, 7), (-1, 3), (-3, 2), (-4, -5), (-3, 2), (5, 7), (5, 7), (2, 2), (9, 9), (-8, -9)]"
   ]
  },
  {
   "cell_type": "markdown",
   "metadata": {},
   "source": [
    "#### 1. Robin Hood is famous for hitting an arrow with another arrow. Find the coordinates of the points where an arrow hits another arrow."
   ]
  },
  {
   "cell_type": "code",
   "execution_count": 5,
   "metadata": {},
   "outputs": [
    {
     "name": "stdout",
     "output_type": "stream",
     "text": [
      "The coordinates are:  (4, 5)  and the index are:  [0, 5]\n",
      "The coordinates are:  (4, 5)  and the index are:  [5, 0]\n",
      "The coordinates are:  (5, 7)  and the index are:  [7, 17]\n",
      "The coordinates are:  (5, 7)  and the index are:  [7, 18]\n",
      "The coordinates are:  (2, 2)  and the index are:  [9, 19]\n",
      "The coordinates are:  (-3, 2)  and the index are:  [14, 16]\n",
      "The coordinates are:  (-3, 2)  and the index are:  [16, 14]\n",
      "The coordinates are:  (5, 7)  and the index are:  [17, 7]\n",
      "The coordinates are:  (5, 7)  and the index are:  [17, 18]\n",
      "The coordinates are:  (5, 7)  and the index are:  [18, 7]\n",
      "The coordinates are:  (5, 7)  and the index are:  [18, 17]\n",
      "The coordinates are:  (2, 2)  and the index are:  [19, 9]\n"
     ]
    }
   ],
   "source": [
    "for i in range(len(points)):\n",
    "    for k in range(len(points)):\n",
    "        if i!=k:\n",
    "            if points[i]==points[k]:\n",
    "                index_double=[i,k]\n",
    "                print(\"The coordinates are: \", points[i],\" and the index are: \",index_double)"
   ]
  },
  {
   "cell_type": "markdown",
   "metadata": {},
   "source": [
    "#### 2. Calculate how many arrows have fallen in each quadrant. \n",
    "**Note**: the arrows that fall in the axis (x=0 or y=0) don't belong to any quadrant."
   ]
  },
  {
   "cell_type": "code",
   "execution_count": 7,
   "metadata": {},
   "outputs": [
    {
     "name": "stdout",
     "output_type": "stream",
     "text": [
      "q1 ->  10   q2 -> 6   q3 -> 2   q4 -> 0\n"
     ]
    }
   ],
   "source": [
    "q1=0\n",
    "q2=0\n",
    "q3=0\n",
    "q4=0\n",
    "for i in range(len(points)):\n",
    "    if points[i][0]>0 and points[i][1]>0:\n",
    "        q1=q1+1\n",
    "    elif points[i][0]<0 and points[i][1]>0:\n",
    "        q2=q2+1\n",
    "    elif points[i][0]<0 and points[i][1]<0:\n",
    "        q3=q3+1\n",
    "    elif points[i][0]>0 and points[i][1]<0:\n",
    "        q4\n",
    "        \n",
    "print(\"q1 -> \", q1,\"  q2 ->\",q2,\"  q3 ->\",q3,\"  q4 ->\",q4)"
   ]
  },
  {
   "cell_type": "markdown",
   "metadata": {},
   "source": [
    "#### 3. Find the point closest to the center. Calculate its distance to the center. \n",
    "Take into account that there might be more than one point at the minimum distance to the center.\n",
    "\n",
    "**Hint**: Use the Euclidean distance. You can find more information about it [here](https://en.wikipedia.org/wiki/Euclidean_distance).  \n",
    "**Hint**: Defining a function that calculates the distance to the center can help."
   ]
  },
  {
   "cell_type": "code",
   "execution_count": 20,
   "metadata": {},
   "outputs": [
    {
     "name": "stdout",
     "output_type": "stream",
     "text": [
      "the index of the points with minimum distance to center are: [1, 11]\n"
     ]
    }
   ],
   "source": [
    "def distance(x,y):\n",
    "    return (x**2+y**2)**0.5\n",
    "    \n",
    "distance_calc=[0]*len(points)\n",
    "for i in range(len(points)):\n",
    "    distance_calc[i]=distance(points[i][0],points[i][1])\n",
    "    \n",
    "min_distance=min(distance_calc)\n",
    "min_index=[i for i in range(len(distance_calc)) if distance_calc[i]==min_distance]\n",
    "print(\"the index of the points with minimum distance to center are:\",min_index)"
   ]
  },
  {
   "cell_type": "markdown",
   "metadata": {},
   "source": [
    "#### 4. If the archery target has a radius of 9, calculate the number of arrows that won't hit the target. \n",
    "**Hint**: Use the function created in step 3. "
   ]
  },
  {
   "cell_type": "code",
   "execution_count": 25,
   "metadata": {},
   "outputs": [
    {
     "name": "stdout",
     "output_type": "stream",
     "text": [
      "the number of arrow out of the target are:  2\n"
     ]
    }
   ],
   "source": [
    "out_target=[i for i in range(len(distance_calc)) if distance_calc[i]>9]\n",
    "print(\"the number of arrow out of the target are: \",len(out_target))"
   ]
  }
 ],
 "metadata": {
  "kernelspec": {
   "display_name": "Python 3",
   "language": "python",
   "name": "python3"
  },
  "language_info": {
   "codemirror_mode": {
    "name": "ipython",
    "version": 3
   },
   "file_extension": ".py",
   "mimetype": "text/x-python",
   "name": "python",
   "nbconvert_exporter": "python",
   "pygments_lexer": "ipython3",
   "version": "3.6.9"
  }
 },
 "nbformat": 4,
 "nbformat_minor": 2
}
