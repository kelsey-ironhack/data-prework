{
 "cells": [
  {
   "cell_type": "markdown",
   "metadata": {},
   "source": [
    "<img src=\"https://bit.ly/2VnXWr2\" width=\"100\" align=\"left\"/>"
   ]
  },
  {
   "cell_type": "markdown",
   "metadata": {},
   "source": [
    "# Robin Hood\n",
    "Robin Hood has entered a competition to win the archery contest in Sherwood. With his bow and arrows, he needs to shoot on a target and try to hit as close as possible to the center.\n",
    "\n",
    "![](images/arrows.jpg)\n",
    "\n",
    "## Context\n",
    "In this challenge, the landing position of arrows shot by archers in the competition will be represented using 2-dimensional coordinates. \n",
    "\n",
    "In the 2-dimensional space, a point can be defined by a pair of values that correspond to the horizontal coordinate (x) and the vertical coordinate (y). For example, in our case, an arrow that hits the center of the archery target will land in position (0, 0) on the coordinate axes. \n",
    "\n",
    "The space can be divided into 4 zones (quadrants): Q1, Q2, Q3, Q4. If a point is in Q1, both its x coordinate and y coordinate are positive. Any point with a null x or y coordinate is considered to not belong to any quadrant. \n",
    "\n",
    "If you want to know more about the cartesian coordinate system, you can check this [link](https://en.wikipedia.org/wiki/Cartesian_coordinate_system). \n",
    "\n",
    "## Tools\n",
    "You don't necessarily need to use all the tools. Maybe you opt to use some of them or completely different ones, they are given to help you shape the exercise. Programming exercises can be solved in many different ways.\n",
    "* Data structures: **lists, sets, tuples**\n",
    "* Conditional statements: **if-elif-else**\n",
    "* Loop: **while/for**\n",
    "* Minimum (optional sorting)\n",
    "\n",
    "## Tasks\n",
    "Robin Hood has hit the following points:"
   ]
  },
  {
   "cell_type": "code",
   "execution_count": 2,
   "metadata": {},
   "outputs": [],
   "source": [
    "points = [(4, 5), (-0, 2), (4, 7), (1, -3), (3, -2), (4, 5), (3, 2), (5, 7), (-5, 7), (2, 2), (-4, 5), (0, -2),\n",
    "          (-4, 7), (-1, 3), (-3, 2), (-4, -5), (-3, 2), (5, 7), (5, 7), (2, 2), (9, 9), (-8, -9)]"
   ]
  },
  {
   "cell_type": "markdown",
   "metadata": {},
   "source": [
    "#### 1. Robin Hood is famous for hitting an arrow with another arrow. Find the coordinates of the points where an arrow hits another arrow."
   ]
  },
  {
   "cell_type": "code",
   "execution_count": 2,
   "metadata": {},
   "outputs": [
    {
     "name": "stdout",
     "output_type": "stream",
     "text": [
      "Duplicates: [(-3, 2), (2, 2), (4, 5), (5, 7), (5, 7)]\n"
     ]
    }
   ],
   "source": [
    "duplicates = []\n",
    "i = 0\n",
    "points.sort()\n",
    "\n",
    "while i < len(points):\n",
    "    if (points[i]) == (points[i-1]):\n",
    "        duplicates.append(points[i])\n",
    "        i +=1\n",
    "    else:\n",
    "        i +=1\n",
    "\n",
    "print(\"Duplicates:\", duplicates)"
   ]
  },
  {
   "cell_type": "markdown",
   "metadata": {},
   "source": [
    "#### 2. Calculate how many arrows have fallen in each quadrant. \n",
    "**Note**: the arrows that fall in the axis (x=0 or y=0) don't belong to any quadrant."
   ]
  },
  {
   "cell_type": "code",
   "execution_count": 3,
   "metadata": {},
   "outputs": [
    {
     "name": "stdout",
     "output_type": "stream",
     "text": [
      "Q1: 10 \n",
      "Q2: 6 \n",
      "Q3: 2 \n",
      "Q4: 2\n"
     ]
    }
   ],
   "source": [
    "i = 0\n",
    "q1 = 0\n",
    "q2 = 0\n",
    "q3 = 0\n",
    "q4 = 0\n",
    "\n",
    "while i < len(points):\n",
    "    if points[i][0] > 0 and points[i][1] > 0:\n",
    "        q1 += 1\n",
    "        i += 1\n",
    "    elif points[i][0] < 0 and points[i][1] > 0:\n",
    "        q2 += 1\n",
    "        i += 1\n",
    "    elif points[i][0] < 0 and points[i][1] < 0:\n",
    "        q3 +=1\n",
    "        i += 1\n",
    "    elif points[i][0] > 0 and points[i][1] < 0:\n",
    "        q4 +=1\n",
    "        i += 1\n",
    "    else:\n",
    "        i += 1\n",
    "\n",
    "print(\"Q1:\", q1, \"\\nQ2:\", q2, \"\\nQ3:\", q3, \"\\nQ4:\", q4)"
   ]
  },
  {
   "cell_type": "markdown",
   "metadata": {},
   "source": [
    "#### 3. Find the point closest to the center. Calculate its distance to the center. \n",
    "Take into account that there might be more than one point at the minimum distance to the center.\n",
    "\n",
    "**Hint**: Use the Euclidean distance. You can find more information about it [here](https://en.wikipedia.org/wiki/Euclidean_distance).  \n",
    "**Hint**: Defining a function that calculates the distance to the center can help."
   ]
  },
  {
   "cell_type": "code",
   "execution_count": 6,
   "metadata": {},
   "outputs": [
    {
     "name": "stdout",
     "output_type": "stream",
     "text": [
      "The point closest to the center (0, -2) , distance: 2.0\n",
      "The point closest to the center (0, 2) , distance: 2.0\n"
     ]
    }
   ],
   "source": [
    "dist = []\n",
    "i = 0\n",
    "\n",
    "while i < len(points):\n",
    "    distance = ( ((points[i][0])**2 + (points[i][1])**2)**(1/2) )\n",
    "    dist.append(distance)\n",
    "    i += 1\n",
    "\n",
    "k = 0\n",
    "\n",
    "while k < len(dist):\n",
    "    if dist[k] == min(dist):\n",
    "        print(\"The point closest to the center\",points[k], \", distance:\", dist[k])\n",
    "        k += 1\n",
    "    else:\n",
    "        k += 1\n"
   ]
  },
  {
   "cell_type": "markdown",
   "metadata": {},
   "source": [
    "#### 4. If the archery target has a radius of 9, calculate the number of arrows that won't hit the target. \n",
    "**Hint**: Use the function created in step 3. "
   ]
  },
  {
   "cell_type": "code",
   "execution_count": 7,
   "metadata": {},
   "outputs": [
    {
     "name": "stdout",
     "output_type": "stream",
     "text": [
      "The number of arrows that won't hit the target: 2\n"
     ]
    }
   ],
   "source": [
    "i = 0\n",
    "beyond = 0\n",
    "radius = 9\n",
    "\n",
    "while i < len(dist):\n",
    "    if dist[i] > radius:\n",
    "        beyond +=1 \n",
    "    i += 1\n",
    "\n",
    "print(\"The number of arrows that won't hit the target:\",  beyond)"
   ]
  },
  {
   "cell_type": "code",
   "execution_count": null,
   "metadata": {},
   "outputs": [],
   "source": []
  }
 ],
 "metadata": {
  "kernelspec": {
   "display_name": "Python 3",
   "language": "python",
   "name": "python3"
  },
  "language_info": {
   "codemirror_mode": {
    "name": "ipython",
    "version": 3
   },
   "file_extension": ".py",
   "mimetype": "text/x-python",
   "name": "python",
   "nbconvert_exporter": "python",
   "pygments_lexer": "ipython3",
   "version": "3.7.7"
  }
 },
 "nbformat": 4,
 "nbformat_minor": 2
}
