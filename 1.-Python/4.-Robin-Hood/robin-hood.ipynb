{
 "cells": [
  {
   "cell_type": "markdown",
   "metadata": {},
   "source": [
    "<img src=\"https://bit.ly/2VnXWr2\" width=\"100\" align=\"left\"/>"
   ]
  },
  {
   "cell_type": "markdown",
   "metadata": {},
   "source": [
    "# Robin Hood\n",
    "Robin Hood has entered a competition to win the archery contest in Sherwood. With his bow and arrows, he needs to shoot on a target and try to hit as close as possible to the center.\n",
    "\n",
    "![](images/arrows.jpg)\n",
    "\n",
    "## Context\n",
    "In this challenge, the landing position of arrows shot by archers in the competition will be represented using 2-dimensional coordinates. \n",
    "\n",
    "In the 2-dimensional space, a point can be defined by a pair of values that correspond to the horizontal coordinate (x) and the vertical coordinate (y). For example, in our case, an arrow that hits the center of the archery target will land in position (0, 0) on the coordinate axes. \n",
    "\n",
    "The space can be divided into 4 zones (quadrants): Q1, Q2, Q3, Q4. If a point is in Q1, both its x coordinate and y coordinate are positive. Any point with a null x or y coordinate is considered to not belong to any quadrant. \n",
    "\n",
    "If you want to know more about the cartesian coordinate system, you can check this [link](https://en.wikipedia.org/wiki/Cartesian_coordinate_system). \n",
    "\n",
    "## Tools\n",
    "You don't necessarily need to use all the tools. Maybe you opt to use some of them or completely different ones, they are given to help you shape the exercise. Programming exercises can be solved in many different ways.\n",
    "* Data structures: **lists, sets, tuples**\n",
    "* Conditional statements: **if-elif-else**\n",
    "* Loop: **while/for**\n",
    "* Minimum (optional sorting)\n",
    "\n",
    "## Tasks\n",
    "Robin Hood has hit the following points:"
   ]
  },
  {
   "cell_type": "code",
   "execution_count": null,
   "metadata": {},
   "outputs": [],
   "source": [
    "points = [(4, 5), (-0, 2), (4, 7), (1, -3), (3, -2), (4, 5), (3, 2), (5, 7), (-5, 7), (2, 2), (-4, 5), (0, -2),\n",
    "          (-4, 7), (-1, 3), (-3, 2), (-4, -5), (-3, 2), (5, 7), (5, 7), (2, 2), (9, 9), (-8, -9)]"
   ]
  },
  {
   "cell_type": "markdown",
   "metadata": {},
   "source": [
    "#### 1. Robin Hood is famous for hitting an arrow with another arrow. Find the coordinates of the points where an arrow hits another arrow."
   ]
  },
  {
   "cell_type": "code",
   "execution_count": null,
   "metadata": {},
   "outputs": [],
   "source": [
    "Opción 1:\n",
    "    \n",
    "print([i for i in set(points) if points.count(i) > 1])\n",
    "\n",
    "Opción 2: \n",
    "    \n",
    "Duplicates = []\n",
    "for i in set(points):\n",
    "    if points.count(i) > 1:\n",
    "        Duplicates.append(i)\n",
    "\n",
    "print(Duplicates)"
   ]
  },
  {
   "cell_type": "markdown",
   "metadata": {},
   "source": [
    "#### 2. Calculate how many arrows have fallen in each quadrant. \n",
    "**Note**: the arrows that fall in the axis (x=0 or y=0) don't belong to any quadrant."
   ]
  },
  {
   "cell_type": "code",
   "execution_count": null,
   "metadata": {},
   "outputs": [],
   "source": [
    "Opción 1: \n",
    "    \n",
    "Quadrant1 = []\n",
    "Quadrant2 = []\n",
    "Quadrant3 = []\n",
    "Quadrant4 = []\n",
    "No_quadrant = []\n",
    "\n",
    "for i in points: \n",
    "        if i[0]>0 and i[1]>0:\n",
    "            Quadrant1.append(i)\n",
    "        elif i[0]<0 and i[1]>0:\n",
    "            Quadrant2.append(i)\n",
    "        elif i[0]<0 and i[1]<0:\n",
    "            Quadrant3.append(i)\n",
    "        elif i[0]>0 and i[1]<0:\n",
    "            Quadrant4.append(i)\n",
    "        else: \n",
    "            No_quadrant.append(i)\n",
    "\n",
    "print(\"Quadrant 1 has\", len(Quadrant1),\"arrows\")\n",
    "print(\"Quadrant 2 has\", len(Quadrant2),\"arrows\")\n",
    "print(\"Quadrant 3 has\", len(Quadrant3),\"arrows\")\n",
    "print(\"Quadrant 4 has\", len(Quadrant4),\"arrows\")\n",
    "            \n",
    "Opción 2:\n",
    "    \n",
    "Quadrant1 = 0\n",
    "Quadrant2 = 0\n",
    "Quadrant3 = 0\n",
    "Quadrant4 = 0\n",
    "No_quadrant = 0\n",
    "\n",
    "for i in points: \n",
    "        if i[0]>0 and i[1]>0:\n",
    "            Quadrant1 += 1\n",
    "        elif i[0]<0 and i[1]>0:\n",
    "            Quadrant2 += 1\n",
    "        elif i[0]<0 and i[1]<0:\n",
    "            Quadrant3 +=1\n",
    "        elif i[0]>0 and i[1]<0:\n",
    "            Quadrant4 +=1\n",
    "        else: \n",
    "            No_quadrant +=1\n",
    "\n",
    "print(\"Quadrant 1 has\", Quadrant1,\"arrows\")\n",
    "print(\"Quadrant 2 has\", Quadrant2,\"arrows\")\n",
    "print(\"Quadrant 3 has\", Quadrant3,\"arrows\")\n",
    "print(\"Quadrant 4 has\", Quadrant4,\"arrows\")\n"
   ]
  },
  {
   "cell_type": "markdown",
   "metadata": {},
   "source": [
    "#### 3. Find the point closest to the center. Calculate its distance to the center. \n",
    "Take into account that there might be more than one point at the minimum distance to the center.\n",
    "\n",
    "**Hint**: Use the Euclidean distance. You can find more information about it [here](https://en.wikipedia.org/wiki/Euclidean_distance).  \n",
    "**Hint**: Defining a function that calculates the distance to the center can help."
   ]
  },
  {
   "cell_type": "code",
   "execution_count": null,
   "metadata": {},
   "outputs": [],
   "source": [
    "Opción a: \n",
    "    \n",
    "ED = []\n",
    "\n",
    "for i in points:\n",
    "    e = ((i[0]**2) + (i[1]**2))**(1/2)\n",
    "    ED.append(e)\n",
    "\n",
    "min(ED)\n",
    "\n",
    "Distances = dict(zip(points,ED))\n",
    "\n",
    "for k, v in Distances.items(): \n",
    "    if v == min(Distances.values()):\n",
    "        print(k)\n",
    "\n",
    "Opción b:\n",
    "    \n",
    "ED = [((i[0]**2) + (i[1]**2))**(1/2) for i in points]\n",
    "\n",
    "Distances = dict(zip(points,ED))\n",
    "\n",
    "for k, v in Distances.items(): \n",
    "    if v == min(Distances.values()):\n",
    "        print(k)\n",
    "        \n",
    "    "
   ]
  },
  {
   "cell_type": "markdown",
   "metadata": {},
   "source": [
    "#### 4. If the archery target has a radius of 9, calculate the number of arrows that won't hit the target. \n",
    "**Hint**: Use the function created in step 3. "
   ]
  },
  {
   "cell_type": "code",
   "execution_count": null,
   "metadata": {},
   "outputs": [],
   "source": [
    "for k, v in Distances.items(): \n",
    "    if v > 9:\n",
    "        print(k)"
   ]
  }
 ],
 "metadata": {
  "kernelspec": {
   "display_name": "Python 3",
   "language": "python",
   "name": "python3"
  },
  "language_info": {
   "codemirror_mode": {
    "name": "ipython",
    "version": 3
   },
   "file_extension": ".py",
   "mimetype": "text/x-python",
   "name": "python",
   "nbconvert_exporter": "python",
   "pygments_lexer": "ipython3",
   "version": "3.8.5"
  }
 },
 "nbformat": 4,
 "nbformat_minor": 2
}
