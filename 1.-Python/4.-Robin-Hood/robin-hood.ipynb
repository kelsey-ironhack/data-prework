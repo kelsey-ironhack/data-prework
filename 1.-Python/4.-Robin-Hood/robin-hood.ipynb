{
 "cells": [
  {
   "cell_type": "markdown",
   "metadata": {},
   "source": [
    "<img src=\"https://bit.ly/2VnXWr2\" width=\"100\" align=\"left\"/>"
   ]
  },
  {
   "cell_type": "markdown",
   "metadata": {},
   "source": [
    "# Robin Hood\n",
    "Robin Hood has entered a competition to win the archery contest in Sherwood. With his bow and arrows, he needs to shoot on a target and try to hit as close as possible to the center.\n",
    "\n",
    "![](images/arrows.jpg)\n",
    "\n",
    "## Context\n",
    "In this challenge, the landing position of arrows shot by archers in the competition will be represented using 2-dimensional coordinates. \n",
    "\n",
    "In the 2-dimensional space, a point can be defined by a pair of values that correspond to the horizontal coordinate (x) and the vertical coordinate (y). For example, in our case, an arrow that hits the center of the archery target will land in position (0, 0) on the coordinate axes. \n",
    "\n",
    "The space can be divided into 4 zones (quadrants): Q1, Q2, Q3, Q4. If a point is in Q1, both its x coordinate and y coordinate are positive. Any point with a null x or y coordinate is considered to not belong to any quadrant. \n",
    "\n",
    "If you want to know more about the cartesian coordinate system, you can check this [link](https://en.wikipedia.org/wiki/Cartesian_coordinate_system). \n",
    "\n",
    "## Tools\n",
    "You don't necessarily need to use all the tools. Maybe you opt to use some of them or completely different ones, they are given to help you shape the exercise. Programming exercises can be solved in many different ways.\n",
    "* Data structures: **lists, sets, tuples**\n",
    "* Conditional statements: **if-elif-else**\n",
    "* Loop: **while/for**\n",
    "* Minimum (optional sorting)\n",
    "\n",
    "## Tasks\n",
    "Robin Hood has hit the following points:"
   ]
  },
  {
   "cell_type": "code",
   "execution_count": null,
   "metadata": {},
   "outputs": [],
   "source": [
    "points = [(4, 5), (-0, 2), (4, 7), (1, -3), (3, -2), (4, 5), (3, 2), (5, 7), (-5, 7), (2, 2), (-4, 5), (0, -2),\n",
    "          (-4, 7), (-1, 3), (-3, 2), (-4, -5), (-3, 2), (5, 7), (5, 7), (2, 2), (9, 9), (-8, -9)]"
   ]
  },
  {
   "cell_type": "markdown",
   "metadata": {},
   "source": [
    "#### 1. Robin Hood is famous for hitting an arrow with another arrow. Find the coordinates of the points where an arrow hits another arrow."
   ]
  },
  {
   "cell_type": "code",
   "execution_count": null,
   "metadata": {},
   "outputs": [],
   "source": [
    "repeated_coordinates = points.copy()\n",
    "\n",
    "for hit in set(points):\n",
    "    repeated_coordinates.remove(hit)\n",
    "print(f\"The coordinates where an arrow hits anoter arrow are: {set(repeated_coordinates)}.\")\n"
   ]
  },
  {
   "cell_type": "markdown",
   "metadata": {},
   "source": [
    "#### Alternative method"
   ]
  },
  {
   "cell_type": "code",
   "execution_count": null,
   "metadata": {},
   "outputs": [],
   "source": [
    "famous_hit=set({})\n",
    "for i, arrow1 in enumerate(points,1):\n",
    "    for arrow2 in points[i:]:\n",
    "        if arrow1==arrow2:\n",
    "            famous_hit.add(arrow2)\n",
    "print(f\"The famous hits at the coordinates: {famous_hit}.\")"
   ]
  },
  {
   "cell_type": "markdown",
   "metadata": {},
   "source": [
    "#### 2. Calculate how many arrows have fallen in each quadrant. \n",
    "**Note**: the arrows that fall in the axis (x=0 or y=0) don't belong to any quadrant."
   ]
  },
  {
   "cell_type": "code",
   "execution_count": null,
   "metadata": {},
   "outputs": [],
   "source": [
    "Q1, Q2, Q3, Q4 = 0, 0, 0, 0\n",
    "\n",
    "for x,y in points:\n",
    "    if x > 0:\n",
    "        if y > 0:\n",
    "            Q1 += 1\n",
    "        elif y < 0:\n",
    "            Q4 += 1\n",
    "    elif x < 0:\n",
    "        if y > 0:\n",
    "            Q2 += 1\n",
    "        elif y < 0:\n",
    "            Q3 += 1\n",
    "            \n",
    "print(f\"The arrows that fall in quadrant 1: {Q1}. \\nThe arrows that fall in quadrant 2: {Q2}. \\nThe arrows that fall in quadrant 3: {Q3}. \\nThe arrows that fall in quadrant 4: {Q4}.\")"
   ]
  },
  {
   "cell_type": "markdown",
   "metadata": {},
   "source": [
    "#### 3. Find the point closest to the center. Calculate its distance to the center. \n",
    "Take into account that there might be more than one point at the minimum distance to the center.\n",
    "\n",
    "**Hint**: Use the Euclidean distance. You can find more information about it [here](https://en.wikipedia.org/wiki/Euclidean_distance).  \n",
    "**Hint**: Defining a function that calculates the distance to the center can help."
   ]
  },
  {
   "cell_type": "code",
   "execution_count": null,
   "metadata": {},
   "outputs": [],
   "source": [
    "# function to calculate euclidean distance to (0,0)\n",
    "def distance(x,y):\n",
    "    c = (x**2 + y**2)**0.5\n",
    "    return c\n",
    "\n",
    "euclidean = [distance(x,y) for x,y in points]\n",
    "\n",
    "nearest_index = [i for i in range(len(euclidean)) if euclidean[i]==min(euclidean)]\n",
    "\n",
    "nearest_point = [points[i] for i in nearest_index]\n",
    "\n",
    "print(f\"The point closest to the center is {nearest_point}, and its distance to the center is {min(euclidean):.2f}\")"
   ]
  },
  {
   "cell_type": "markdown",
   "metadata": {},
   "source": [
    "#### Alternative method"
   ]
  },
  {
   "cell_type": "code",
   "execution_count": null,
   "metadata": {},
   "outputs": [],
   "source": [
    "import math\n",
    "\n",
    "# function to calculate euclidean distance\n",
    "def e_distance(i):\n",
    "    d = math.sqrt(i[0]**2 + i[1]**2)\n",
    "    return d\n",
    "\n",
    "coordinates = [points[0]]\n",
    "for i in points[1:]:\n",
    "    if e_distance(i) < e_distance(coordinates[-1]):\n",
    "        coordinates = [i]\n",
    "    elif e_distance(i) == e_distance(coordinates[-1]):\n",
    "        coordinates.append(i)\n",
    "        \n",
    "print(f\"The closest points to the center is {coordinates}, and its distance is {e_distance(coordinates[0])}\")"
   ]
  },
  {
   "cell_type": "markdown",
   "metadata": {},
   "source": [
    "#### 4. If the archery target has a radius of 9, calculate the number of arrows that won't hit the target. \n",
    "**Hint**: Use the function created in step 3. "
   ]
  },
  {
   "cell_type": "code",
   "execution_count": null,
   "metadata": {},
   "outputs": [],
   "source": [
    "on_target = 0\n",
    "for i, j in points:\n",
    "    if distance(i, j) > 9:\n",
    "        on_target += 1\n",
    "print(f\"The number of arrows that won't hit the target is {on_target}.\")"
   ]
  }
 ],
 "metadata": {
  "kernelspec": {
   "display_name": "Python 3",
   "language": "python",
   "name": "python3"
  },
  "language_info": {
   "codemirror_mode": {
    "name": "ipython",
    "version": 3
   },
   "file_extension": ".py",
   "mimetype": "text/x-python",
   "name": "python",
   "nbconvert_exporter": "python",
   "pygments_lexer": "ipython3",
   "version": "3.8.2"
  }
 },
 "nbformat": 4,
 "nbformat_minor": 2
}
