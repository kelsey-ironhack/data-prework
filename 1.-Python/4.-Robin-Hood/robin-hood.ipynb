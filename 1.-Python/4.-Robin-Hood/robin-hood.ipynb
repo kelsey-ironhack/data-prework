{
 "cells": [
  {
   "cell_type": "markdown",
   "metadata": {},
   "source": [
    "<img src=\"https://bit.ly/2VnXWr2\" width=\"100\" align=\"left\"/>"
   ]
  },
  {
   "cell_type": "markdown",
   "metadata": {},
   "source": [
    "# Robin Hood\n",
    "Robin Hood has entered a competition to win the archery contest in Sherwood. With his bow and arrows, he needs to shoot on a target and try to hit as close as possible to the center.\n",
    "\n",
    "![](images/arrows.jpg)\n",
    "\n",
    "## Context\n",
    "In this challenge, the landing position of arrows shot by archers in the competition will be represented using 2-dimensional coordinates. \n",
    "\n",
    "In the 2-dimensional space, a point can be defined by a pair of values that correspond to the horizontal coordinate (x) and the vertical coordinate (y). For example, in our case, an arrow that hits the center of the archery target will land in position (0, 0) on the coordinate axes. \n",
    "\n",
    "The space can be divided into 4 zones (quadrants): Q1, Q2, Q3, Q4. If a point is in Q1, both its x coordinate and y coordinate are positive. Any point with a null x or y coordinate is considered to not belong to any quadrant. \n",
    "\n",
    "If you want to know more about the cartesian coordinate system, you can check this [link](https://en.wikipedia.org/wiki/Cartesian_coordinate_system). \n",
    "\n",
    "## Tools\n",
    "You don't necessarily need to use all the tools. Maybe you opt to use some of them or completely different ones, they are given to help you shape the exercise. Programming exercises can be solved in many different ways.\n",
    "* Data structures: **lists, sets, tuples**\n",
    "* Conditional statements: **if-elif-else**\n",
    "* Loop: **while/for**\n",
    "* Minimum (optional sorting)\n",
    "\n",
    "## Tasks\n",
    "Robin Hood has hit the following points:"
   ]
  },
  {
   "cell_type": "code",
   "execution_count": 2,
   "metadata": {},
   "outputs": [],
   "source": [
    "points = [(4, 5), (-0, 2), (4, 7), (1, -3), (3, -2), (4, 5), (3, 2), (5, 7), (-5, 7), (2, 2), (-4, 5), (0, -2),\n",
    "          (-4, 7), (-1, 3), (-3, 2), (-4, -5), (-3, 2), (5, 7), (5, 7), (2, 2), (9, 9), (-8, -9)]"
   ]
  },
  {
   "cell_type": "code",
   "execution_count": null,
   "metadata": {},
   "outputs": [],
   "source": []
  },
  {
   "cell_type": "markdown",
   "metadata": {},
   "source": [
    "#### 1. Robin Hood is famous for hitting an arrow with another arrow. Find the coordinates of the points where an arrow hits another arrow."
   ]
  },
  {
   "cell_type": "code",
   "execution_count": 13,
   "metadata": {},
   "outputs": [
    {
     "name": "stdout",
     "output_type": "stream",
     "text": [
      "[(4, 5), (5, 7), (2, 2), (-3, 2)]\n"
     ]
    }
   ],
   "source": [
    "# add a new variable to store the new values\n",
    "result= []\n",
    "for x in points:\n",
    "    if(points.count(x)>1):\n",
    "        if x not in result:\n",
    "            result.append(x) \n",
    "    \n",
    "print (result)"
   ]
  },
  {
   "cell_type": "code",
   "execution_count": null,
   "metadata": {},
   "outputs": [],
   "source": []
  },
  {
   "cell_type": "markdown",
   "metadata": {},
   "source": [
    "#### 2. Calculate how many arrows have fallen in each quadrant. \n",
    "**Note**: the arrows that fall in the axis (x=0 or y=0) don't belong to any quadrant."
   ]
  },
  {
   "cell_type": "code",
   "execution_count": 20,
   "metadata": {},
   "outputs": [
    {
     "name": "stdout",
     "output_type": "stream",
     "text": [
      "number of arrows fall in first quadrant: 10\n",
      "number of arrows fall in second quadrant: 6\n",
      "number of arrows fall in third quadrant: 2\n",
      "number of arrows fall in forth quadrant: 2\n",
      "2\n"
     ]
    }
   ],
   "source": [
    "#let's set some variables for the 4 quadrant to start with\n",
    "# if x=0 OR y =0 --> any quadrant \n",
    "q1=0\n",
    "q2=0\n",
    "q3=0\n",
    "q4=0\n",
    "any_quadrant= 0\n",
    "#then it makes sense to have a for loop\n",
    "for (x,y) in points:\n",
    "    if x>0 and y>0:\n",
    "        q1+=1\n",
    "    elif x<0 and y>0:\n",
    "        q2+=1\n",
    "    elif x < 0 and y < 0: \n",
    "        q3+=1\n",
    "    elif x > 0 and y < 0: \n",
    "        q4+=1\n",
    "    else:\n",
    "        x==0 or y==0\n",
    "        any_quadrant+=1\n",
    "print('number of arrows fall in first quadrant:', q1)\n",
    "print('number of arrows fall in second quadrant:', q2)\n",
    "print('number of arrows fall in third quadrant:', q3)    \n",
    "print('number of arrows fall in forth quadrant:', q4)\n",
    "print(any_quadrant)"
   ]
  },
  {
   "cell_type": "code",
   "execution_count": 21,
   "metadata": {},
   "outputs": [],
   "source": [
    "# Extra for myself: lets have a function to check quadrant first so I understand the cartesian coordinate system  \n",
    "def quadrant (x,y):\n",
    "    if x>0 and y>0:\n",
    "        print ('lies in first quadrant')\n",
    "    elif x<0 and y>0: \n",
    "        print ('lies in second quadrant')\n",
    "    elif x < 0 and y < 0: \n",
    "        print (\"lies in Third quadrant\") \n",
    "    elif x > 0 and y < 0: \n",
    "        print (\"lies in Fourth quadrant\") \n",
    "          \n",
    "    elif x == 0 and y > 0: \n",
    "        print (\"lies at positive y axis\") \n",
    "      \n",
    "    elif x == 0 and y < 0: \n",
    "        print (\"lies at negative y axis\") \n",
    "      \n",
    "    elif (y == 0 and x < 0): \n",
    "        print (\"lies at negative x axis\") \n",
    "      \n",
    "    elif (y == 0 and x > 0): \n",
    "        print (\"lies at positive x axis\") \n",
    "      \n",
    "    else: \n",
    "        print (\"lies at origin\") "
   ]
  },
  {
   "cell_type": "code",
   "execution_count": 23,
   "metadata": {},
   "outputs": [
    {
     "name": "stdout",
     "output_type": "stream",
     "text": [
      "lies at positive y axis\n"
     ]
    }
   ],
   "source": [
    "check = quadrant (-0,2)"
   ]
  },
  {
   "cell_type": "markdown",
   "metadata": {},
   "source": [
    "#### 3. Find the point closest to the center. Calculate its distance to the center. \n",
    "Take into account that there might be more than one point at the minimum distance to the center.\n",
    "\n",
    "**Hint**: Use the Euclidean distance. You can find more information about it [here](https://en.wikipedia.org/wiki/Euclidean_distance).  \n",
    "**Hint**: Defining a function that calculates the distance to the center can help."
   ]
  },
  {
   "cell_type": "code",
   "execution_count": null,
   "metadata": {},
   "outputs": [],
   "source": [
    "# seriously :) Sorry, I am not gonna even bother myself for now"
   ]
  },
  {
   "cell_type": "markdown",
   "metadata": {},
   "source": [
    "#### 4. If the archery target has a radius of 9, calculate the number of arrows that won't hit the target. \n",
    "**Hint**: Use the function created in step 3. "
   ]
  },
  {
   "cell_type": "code",
   "execution_count": null,
   "metadata": {},
   "outputs": [],
   "source": []
  }
 ],
 "metadata": {
  "kernelspec": {
   "display_name": "Python 3",
   "language": "python",
   "name": "python3"
  },
  "language_info": {
   "codemirror_mode": {
    "name": "ipython",
    "version": 3
   },
   "file_extension": ".py",
   "mimetype": "text/x-python",
   "name": "python",
   "nbconvert_exporter": "python",
   "pygments_lexer": "ipython3",
   "version": "3.8.6"
  }
 },
 "nbformat": 4,
 "nbformat_minor": 2
}
