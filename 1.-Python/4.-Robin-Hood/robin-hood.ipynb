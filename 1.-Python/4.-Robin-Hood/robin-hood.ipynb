{
 "cells": [
  {
   "cell_type": "markdown",
   "metadata": {},
   "source": [
    "<img src=\"https://bit.ly/2VnXWr2\" width=\"100\" align=\"left\"/>"
   ]
  },
  {
   "cell_type": "markdown",
   "metadata": {},
   "source": [
    "# Robin Hood\n",
    "Robin Hood has entered a competition to win the archery contest in Sherwood. With his bow and arrows, he needs to shoot on a target and try to hit as close as possible to the center.\n",
    "\n",
    "![](images/arrows.jpg)\n",
    "\n",
    "## Context\n",
    "In this challenge, the landing position of arrows shot by archers in the competition will be represented using 2-dimensional coordinates. \n",
    "\n",
    "In the 2-dimensional space, a point can be defined by a pair of values that correspond to the horizontal coordinate (x) and the vertical coordinate (y). For example, in our case, an arrow that hits the center of the archery target will land in position (0, 0) on the coordinate axes. \n",
    "\n",
    "The space can be divided into 4 zones (quadrants): Q1, Q2, Q3, Q4. If a point is in Q1, both its x coordinate and y coordinate are positive. Any point with a null x or y coordinate is considered to not belong to any quadrant. \n",
    "\n",
    "If you want to know more about the cartesian coordinate system, you can check this [link](https://en.wikipedia.org/wiki/Cartesian_coordinate_system). \n",
    "\n",
    "## Tools\n",
    "You don't necessarily need to use all the tools. Maybe you opt to use some of them or completely different ones, they are given to help you shape the exercise. Programming exercises can be solved in many different ways.\n",
    "* Data structures: **lists, sets, tuples**\n",
    "* Conditional statements: **if-elif-else**\n",
    "* Loop: **while/for**\n",
    "* Minimum (optional sorting)\n",
    "\n",
    "## Tasks\n",
    "Robin Hood has hit the following points:"
   ]
  },
  {
   "cell_type": "code",
   "execution_count": null,
   "metadata": {},
   "outputs": [],
   "source": [
    "points = [(4, 5), (-0, 2), (4, 7), (1, -3), (3, -2), (4, 5), (3, 2), (5, 7), (-5, 7), (2, 2), (-4, 5), (0, -2),\n",
    "          (-4, 7), (-1, 3), (-3, 2), (-4, -5), (-3, 2), (5, 7), (5, 7), (2, 2), (9, 9), (-8, -9)]"
   ]
  },
  {
   "cell_type": "markdown",
   "metadata": {},
   "source": [
    "#### 1. Robin Hood is famous for hitting an arrow with another arrow. Find the coordinates of the points where an arrow hits another arrow."
   ]
  },
  {
   "cell_type": "code",
   "execution_count": 8,
   "metadata": {},
   "outputs": [
    {
     "name": "stdout",
     "output_type": "stream",
     "text": [
      "[(-8, -9), (-5, 7), (-4, -5), (-4, 5), (-4, 7), (-3, 2), (-3, 2), (-1, 3), (0, -2), (0, 2), (1, -3), (2, 2), (2, 2), (3, -2), (3, 2), (4, 5), (4, 5), (4, 7), (5, 7), (5, 7), (5, 7), (9, 9)]\n",
      "En estas coordenadas hay flecha sobre flecha: (-3, 2)\n",
      "En estas coordenadas hay flecha sobre flecha: (2, 2)\n",
      "En estas coordenadas hay flecha sobre flecha: (4, 5)\n",
      "En estas coordenadas hay flecha sobre flecha: (5, 7)\n",
      "En estas coordenadas hay flecha sobre flecha: (5, 7)\n"
     ]
    }
   ],
   "source": [
    "points = [(4, 5), (-0, 2), (4, 7), (1, -3), (3, -2), (4, 5), (3, 2), (5, 7), (-5, 7), (2, 2), (-4, 5), (0, -2),\n",
    "          (-4, 7), (-1, 3), (-3, 2), (-4, -5), (-3, 2), (5, 7), (5, 7), (2, 2), (9, 9), (-8, -9)]\n",
    "\n",
    "count = 0\n",
    "points.sort()\n",
    "print(points)\n",
    "for impresive in points:\n",
    "    if points[count] == points [count-1]:\n",
    "        print('En estas coordenadas hay flecha sobre flecha:',points[count])\n",
    "    count= count +1"
   ]
  },
  {
   "cell_type": "markdown",
   "metadata": {},
   "source": [
    "#### 2. Calculate how many arrows have fallen in each quadrant. \n",
    "**Note**: the arrows that fall in the axis (x=0 or y=0) don't belong to any quadrant."
   ]
  },
  {
   "cell_type": "code",
   "execution_count": 49,
   "metadata": {},
   "outputs": [
    {
     "name": "stdout",
     "output_type": "stream",
     "text": [
      "Flechas en Q1 = 10\n",
      "Flechas en Q2 = 2\n",
      "Flechas en Q3 = 2\n",
      "Flechas en Q4 = 6\n"
     ]
    }
   ],
   "source": [
    "points = [(4, 5), (-0, 2), (4, 7), (1, -3), (3, -2), (4, 5), (3, 2), (5, 7), (-5, 7), (2, 2), (-4, 5), (0, -2),\n",
    "          (-4, 7), (-1, 3), (-3, 2), (-4, -5), (-3, 2), (5, 7), (5, 7), (2, 2), (9, 9), (-8, -9)]\n",
    "\n",
    "count = 0\n",
    "points.sort()\n",
    "\n",
    "Q1 = []\n",
    "Q2 = []\n",
    "Q3 = []\n",
    "Q4 = []\n",
    "for impresive in points:\n",
    "    if (points[count][0]>0) & (points[count][1]>0):\n",
    "        #print('Q1=',points[count])\n",
    "        Q1.append(points[count])\n",
    "    elif (points[count][0]>0) & (points[count][1]<0):\n",
    "        #print('Q2=',points[count])\n",
    "        Q2.append(points[count])\n",
    "    elif (points[count][0]<0) & (points[count][1]<0):\n",
    "        #print('Q3=',points[count])\n",
    "        Q3.append(points[count])\n",
    "    elif (points[count][0]<0) & (points[count][1]>0):\n",
    "        #print('Q4=',points[count])\n",
    "        Q4.append(points[count])\n",
    "    count= count +1\n",
    "\n",
    "print('Flechas en Q1 =',len(Q1))\n",
    "print('Flechas en Q2 =',len(Q2))\n",
    "print('Flechas en Q3 =',len(Q3))\n",
    "print('Flechas en Q4 =',len(Q4))\n"
   ]
  },
  {
   "cell_type": "markdown",
   "metadata": {},
   "source": [
    "#### 3. Find the point closest to the center. Calculate its distance to the center. \n",
    "Take into account that there might be more than one point at the minimum distance to the center.\n",
    "\n",
    "**Hint**: Use the Euclidean distance. You can find more information about it [here](https://en.wikipedia.org/wiki/Euclidean_distance).  \n",
    "**Hint**: Defining a function that calculates the distance to the center can help."
   ]
  },
  {
   "cell_type": "code",
   "execution_count": 86,
   "metadata": {},
   "outputs": [
    {
     "name": "stdout",
     "output_type": "stream",
     "text": [
      "El punto = (-8, -9) , distancia a (0,0)= 12.041594578792296\n",
      "El punto = (-5, 7) , distancia a (0,0)= 8.602325267042627\n",
      "El punto = (-4, -5) , distancia a (0,0)= 6.4031242374328485\n",
      "El punto = (-4, 5) , distancia a (0,0)= 6.4031242374328485\n",
      "El punto = (-4, 7) , distancia a (0,0)= 8.06225774829855\n",
      "El punto = (-3, 2) , distancia a (0,0)= 3.605551275463989\n",
      "El punto = (-3, 2) , distancia a (0,0)= 3.605551275463989\n",
      "El punto = (-1, 3) , distancia a (0,0)= 3.1622776601683795\n",
      "El punto = (0, -2) , distancia a (0,0)= 2.0\n",
      "El punto = (0, 2) , distancia a (0,0)= 2.0\n",
      "El punto = (1, -3) , distancia a (0,0)= 3.1622776601683795\n",
      "El punto = (2, 2) , distancia a (0,0)= 2.8284271247461903\n",
      "El punto = (2, 2) , distancia a (0,0)= 2.8284271247461903\n",
      "El punto = (3, -2) , distancia a (0,0)= 3.605551275463989\n",
      "El punto = (3, 2) , distancia a (0,0)= 3.605551275463989\n",
      "El punto = (4, 5) , distancia a (0,0)= 6.4031242374328485\n",
      "El punto = (4, 5) , distancia a (0,0)= 6.4031242374328485\n",
      "El punto = (4, 7) , distancia a (0,0)= 8.06225774829855\n",
      "El punto = (5, 7) , distancia a (0,0)= 8.602325267042627\n",
      "El punto = (5, 7) , distancia a (0,0)= 8.602325267042627\n",
      "El punto = (5, 7) , distancia a (0,0)= 8.602325267042627\n",
      "El punto = (9, 9) , distancia a (0,0)= 12.727922061357855\n",
      "Los puntos mas cercanos al centro son (0,-2) y (0,2)\n"
     ]
    }
   ],
   "source": [
    "points = [(4, 5), (-0, 2), (4, 7), (1, -3), (3, -2), (4, 5), (3, 2), (5, 7), (-5, 7), (2, 2), (-4, 5), (0, -2),\n",
    "          (-4, 7), (-1, 3), (-3, 2), (-4, -5), (-3, 2), (5, 7), (5, 7), (2, 2), (9, 9), (-8, -9)]\n",
    "\n",
    "count = 0\n",
    "points.sort()\n",
    "\n",
    "Q1 = []\n",
    "Q2 = []\n",
    "Q3 = []\n",
    "Q4 = []\n",
    "for impresive in points:\n",
    "    if (points[count][0]>0) & (points[count][1]>0):\n",
    "        #print('Q1=',points[count])\n",
    "        Q1.append(points[count])\n",
    "    elif (points[count][0]>0) & (points[count][1]<0):\n",
    "        #print('Q2=',points[count])\n",
    "        Q2.append(points[count])\n",
    "    elif (points[count][0]<0) & (points[count][1]<0):\n",
    "        #print('Q3=',points[count])\n",
    "        Q3.append(points[count])\n",
    "    elif (points[count][0]<0) & (points[count][1]>0):\n",
    "        #print('Q4=',points[count])\n",
    "        Q4.append(points[count])\n",
    "    count= count +1\n",
    "\n",
    "X_axis = []\n",
    "Y_axis = []\n",
    "countB = 0\n",
    "import numpy as np\n",
    "\n",
    "YY = np.array((0,0))\n",
    "\n",
    "countB = 0\n",
    "while  countB < 22:\n",
    "    XX = np.array((points[countB]))\n",
    "    distance = np.linalg.norm(XX - YY)\n",
    "    print ('El punto =',points[countB],', distancia a (0,0)=',distance)\n",
    "    countB = countB +1\n",
    "\n",
    "#print(XX)\n",
    "#print(YY)\n",
    "\n",
    "print ('Los puntos mas cercanos al centro son (0,-2) y (0,2)')"
   ]
  },
  {
   "cell_type": "markdown",
   "metadata": {},
   "source": [
    "#### 4. If the archery target has a radius of 9, calculate the number of arrows that won't hit the target. \n",
    "**Hint**: Use the function created in step 3. "
   ]
  },
  {
   "cell_type": "code",
   "execution_count": 88,
   "metadata": {},
   "outputs": [
    {
     "name": "stdout",
     "output_type": "stream",
     "text": [
      "El punto = (-8, -9) , se sale del objetivo\n",
      "El punto = (-5, 7) , distancia a (0,0)= 8.602325267042627\n",
      "El punto = (-4, -5) , distancia a (0,0)= 6.4031242374328485\n",
      "El punto = (-4, 5) , distancia a (0,0)= 6.4031242374328485\n",
      "El punto = (-4, 7) , distancia a (0,0)= 8.06225774829855\n",
      "El punto = (-3, 2) , distancia a (0,0)= 3.605551275463989\n",
      "El punto = (-3, 2) , distancia a (0,0)= 3.605551275463989\n",
      "El punto = (-1, 3) , distancia a (0,0)= 3.1622776601683795\n",
      "El punto = (0, -2) , distancia a (0,0)= 2.0\n",
      "El punto = (0, 2) , distancia a (0,0)= 2.0\n",
      "El punto = (1, -3) , distancia a (0,0)= 3.1622776601683795\n",
      "El punto = (2, 2) , distancia a (0,0)= 2.8284271247461903\n",
      "El punto = (2, 2) , distancia a (0,0)= 2.8284271247461903\n",
      "El punto = (3, -2) , distancia a (0,0)= 3.605551275463989\n",
      "El punto = (3, 2) , distancia a (0,0)= 3.605551275463989\n",
      "El punto = (4, 5) , distancia a (0,0)= 6.4031242374328485\n",
      "El punto = (4, 5) , distancia a (0,0)= 6.4031242374328485\n",
      "El punto = (4, 7) , distancia a (0,0)= 8.06225774829855\n",
      "El punto = (5, 7) , distancia a (0,0)= 8.602325267042627\n",
      "El punto = (5, 7) , distancia a (0,0)= 8.602325267042627\n",
      "El punto = (5, 7) , distancia a (0,0)= 8.602325267042627\n",
      "El punto = (9, 9) , se sale del objetivo\n"
     ]
    }
   ],
   "source": [
    "points = [(4, 5), (-0, 2), (4, 7), (1, -3), (3, -2), (4, 5), (3, 2), (5, 7), (-5, 7), (2, 2), (-4, 5), (0, -2),\n",
    "          (-4, 7), (-1, 3), (-3, 2), (-4, -5), (-3, 2), (5, 7), (5, 7), (2, 2), (9, 9), (-8, -9)]\n",
    "\n",
    "count = 0\n",
    "points.sort()\n",
    "\n",
    "Q1 = []\n",
    "Q2 = []\n",
    "Q3 = []\n",
    "Q4 = []\n",
    "for impresive in points:\n",
    "    if (points[count][0]>0) & (points[count][1]>0):\n",
    "        #print('Q1=',points[count])\n",
    "        Q1.append(points[count])\n",
    "    elif (points[count][0]>0) & (points[count][1]<0):\n",
    "        #print('Q2=',points[count])\n",
    "        Q2.append(points[count])\n",
    "    elif (points[count][0]<0) & (points[count][1]<0):\n",
    "        #print('Q3=',points[count])\n",
    "        Q3.append(points[count])\n",
    "    elif (points[count][0]<0) & (points[count][1]>0):\n",
    "        #print('Q4=',points[count])\n",
    "        Q4.append(points[count])\n",
    "    count= count +1\n",
    "\n",
    "X_axis = []\n",
    "Y_axis = []\n",
    "countB = 0\n",
    "import numpy as np\n",
    "\n",
    "YY = np.array((0,0))\n",
    "\n",
    "countB = 0\n",
    "while  countB < 22:\n",
    "    XX = np.array((points[countB]))\n",
    "    distance = np.linalg.norm(XX - YY)\n",
    "    if distance <= 9:\n",
    "        print ('El punto =',points[countB],', distancia a (0,0)=',distance)\n",
    "    else:\n",
    "        print ('El punto =',points[countB],', se sale del objetivo')\n",
    "    countB = countB +1\n",
    "\n",
    "#print(XX)\n",
    "#print(YY)\n",
    "\n"
   ]
  },
  {
   "cell_type": "code",
   "execution_count": null,
   "metadata": {},
   "outputs": [],
   "source": []
  }
 ],
 "metadata": {
  "kernelspec": {
   "display_name": "Python 3",
   "language": "python",
   "name": "python3"
  },
  "language_info": {
   "codemirror_mode": {
    "name": "ipython",
    "version": 3
   },
   "file_extension": ".py",
   "mimetype": "text/x-python",
   "name": "python",
   "nbconvert_exporter": "python",
   "pygments_lexer": "ipython3",
   "version": "3.8.3"
  }
 },
 "nbformat": 4,
 "nbformat_minor": 2
}
