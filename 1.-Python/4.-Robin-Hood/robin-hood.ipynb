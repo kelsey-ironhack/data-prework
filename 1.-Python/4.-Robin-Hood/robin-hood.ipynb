{
 "cells": [
  {
   "cell_type": "markdown",
   "metadata": {},
   "source": [
    "<img src=\"https://bit.ly/2VnXWr2\" width=\"100\" align=\"left\"/>"
   ]
  },
  {
   "cell_type": "markdown",
   "metadata": {},
   "source": [
    "# Robin Hood\n",
    "Robin Hood has entered a competition to win the archery contest in Sherwood. With his bow and arrows, he needs to shoot on a target and try to hit as close as possible to the center.\n",
    "\n",
    "![](images/arrows.jpg)\n",
    "\n",
    "## Context\n",
    "In this challenge, the landing position of arrows shot by archers in the competition will be represented using 2-dimensional coordinates. \n",
    "\n",
    "In the 2-dimensional space, a point can be defined by a pair of values that correspond to the horizontal coordinate (x) and the vertical coordinate (y). For example, in our case, an arrow that hits the center of the archery target will land in position (0, 0) on the coordinate axes. \n",
    "\n",
    "The space can be divided into 4 zones (quadrants): Q1, Q2, Q3, Q4. If a point is in Q1, both its x coordinate and y coordinate are positive. Any point with a null x or y coordinate is considered to not belong to any quadrant. \n",
    "\n",
    "If you want to know more about the cartesian coordinate system, you can check this [link](https://en.wikipedia.org/wiki/Cartesian_coordinate_system). \n",
    "\n",
    "## Tools\n",
    "You don't necessarily need to use all the tools. Maybe you opt to use some of them or completely different ones, they are given to help you shape the exercise. Programming exercises can be solved in many different ways.\n",
    "* Data structures: **lists, sets, tuples**\n",
    "* Conditional statements: **if-elif-else**\n",
    "* Loop: **while/for**\n",
    "* Minimum (optional sorting)\n",
    "\n",
    "## Tasks\n",
    "Robin Hood has hit the following points:"
   ]
  },
  {
   "cell_type": "code",
   "execution_count": 1,
   "metadata": {},
   "outputs": [],
   "source": [
    "points = [(4, 5), (-0, 2), (4, 7), (1, -3), (3, -2), (4, 5), (3, 2), (5, 7), (-5, 7), (2, 2), (-4, 5), (0, -2),\n",
    "          (-4, 7), (-1, 3), (-3, 2), (-4, -5), (-3, 2), (5, 7), (5, 7), (2, 2), (9, 9), (-8, -9)]"
   ]
  },
  {
   "cell_type": "markdown",
   "metadata": {},
   "source": [
    "#### 1. Robin Hood is famous for hitting an arrow with another arrow. Find the coordinates of the points where an arrow hits another arrow."
   ]
  },
  {
   "cell_type": "code",
   "execution_count": 107,
   "metadata": {},
   "outputs": [
    {
     "name": "stdout",
     "output_type": "stream",
     "text": [
      "Coordinates where arrows hit each other:  [(4, 5), (-3, 2), (5, 7), (2, 2)]\n"
     ]
    }
   ],
   "source": [
    "coordinate_list = []\n",
    "new_list =[]\n",
    "for i in points:\n",
    "    if i not in coordinate_list:\n",
    "        coordinate_list.append(i)\n",
    "    else:\n",
    "        if i not in new_list:\n",
    "            new_list.append(i)\n",
    "        else:\n",
    "            continue\n",
    "\n",
    "print(\"Coordinates where arrows hit each other: \",new_list)"
   ]
  },
  {
   "cell_type": "markdown",
   "metadata": {},
   "source": [
    "#### 2. Calculate how many arrows have fallen in each quadrant. \n",
    "**Note**: the arrows that fall in the axis (x=0 or y=0) don't belong to any quadrant."
   ]
  },
  {
   "cell_type": "code",
   "execution_count": 122,
   "metadata": {},
   "outputs": [
    {
     "name": "stdout",
     "output_type": "stream",
     "text": [
      "Bull's eye:  0\n",
      "Quadrant 1:  10\n",
      "Quadrant 2:  6\n",
      "Quadrant 3:  2\n",
      "Quadrant 4:  2\n",
      "No Quadrant:  2\n"
     ]
    }
   ],
   "source": [
    "quadrant_1 = 0\n",
    "quadrant_2 = 0\n",
    "quadrant_3 = 0\n",
    "quadrant_4 = 0\n",
    "no_quadrant = 0\n",
    "bulls_eye = 0\n",
    "\n",
    "for i in points:\n",
    "    if (i[0]==0) & (i[1]==0):\n",
    "        bulls_eye += 1\n",
    "    elif (i[0]>0) & (i[1]>0):\n",
    "        quadrant_1 += 1\n",
    "    elif (i[0]<0) & (i[1]>0):\n",
    "        quadrant_2 += 1\n",
    "    elif (i[0]<0) & (i[1]<0):\n",
    "        quadrant_3 += 1\n",
    "    elif (i[0]>0) & (i[1]<0):\n",
    "        quadrant_4 += 1\n",
    "    else:\n",
    "        no_quadrant += 1\n",
    "\n",
    "print(\"Bull's eye: \",bulls_eye)\n",
    "print('Quadrant 1: ',quadrant_1) \n",
    "print('Quadrant 2: ',quadrant_2) \n",
    "print('Quadrant 3: ',quadrant_3) \n",
    "print('Quadrant 4: ',quadrant_4)\n",
    "print('No Quadrant: ',no_quadrant)\n",
    "        "
   ]
  },
  {
   "cell_type": "markdown",
   "metadata": {},
   "source": [
    "#### 3. Find the point closest to the center. Calculate its distance to the center. \n",
    "Take into account that there might be more than one point at the minimum distance to the center.\n",
    "\n",
    "**Hint**: Use the Euclidean distance. You can find more information about it [here](https://en.wikipedia.org/wiki/Euclidean_distance).  \n",
    "**Hint**: Defining a function that calculates the distance to the center can help."
   ]
  },
  {
   "cell_type": "code",
   "execution_count": 137,
   "metadata": {},
   "outputs": [
    {
     "name": "stdout",
     "output_type": "stream",
     "text": [
      "[(0, 2), (0, -2)]\n"
     ]
    }
   ],
   "source": [
    "arrow_distances = []\n",
    "coordinates_closest_arrows = []\n",
    "\n",
    "for i in points:\n",
    "    dist = ((i[0]-0)**2 + (i[1]-0)**2)**(1/2)\n",
    "    arrow_distances.append(dist)\n",
    "    \n",
    "min_dist = min(arrow_distances)\n",
    "\n",
    "for i in range(len(points)):\n",
    "    if arrow_distances[i] == min_dist:\n",
    "        coordinates_closest_arrows.append(points[i])\n",
    "\n",
    "print(coordinates_closest_arrows)\n"
   ]
  },
  {
   "cell_type": "code",
   "execution_count": 167,
   "metadata": {},
   "outputs": [
    {
     "name": "stdout",
     "output_type": "stream",
     "text": [
      "[(0, 2), (0, -2)]\n"
     ]
    }
   ],
   "source": [
    "# With a function:\n",
    "\n",
    "arrow_distances = {}\n",
    "\n",
    "def dist_calculator(x,y):\n",
    "    dist = ((x-0)**2 + (y-0)**2)**(1/2)\n",
    "    return dist\n",
    "    \n",
    "for i in points:\n",
    "    arrow_distances[i]=dist_calculator(i[0],i[1] )\n",
    "    \n",
    "print(list(filter(lambda x: arrow_distances[x]==(min(arrow_distances.values())), arrow_distances)))"
   ]
  },
  {
   "cell_type": "markdown",
   "metadata": {},
   "source": [
    "#### 4. If the archery target has a radius of 9, calculate the number of arrows that won't hit the target. \n",
    "**Hint**: Use the function created in step 3. "
   ]
  },
  {
   "cell_type": "code",
   "execution_count": 138,
   "metadata": {},
   "outputs": [
    {
     "name": "stdout",
     "output_type": "stream",
     "text": [
      "2\n"
     ]
    }
   ],
   "source": [
    "missed_arrows = 0\n",
    "\n",
    "for i in points:\n",
    "    dist = ((i[0]-0)**2 + (i[1]-0)**2)**(1/2)\n",
    "    if dist > 9:\n",
    "        missed_arrows += 1\n",
    "\n",
    "print(missed_arrows)"
   ]
  },
  {
   "cell_type": "code",
   "execution_count": 171,
   "metadata": {},
   "outputs": [
    {
     "name": "stdout",
     "output_type": "stream",
     "text": [
      "2\n"
     ]
    }
   ],
   "source": [
    "# With a function:\n",
    "missed_arrows = 0\n",
    "\n",
    "for x,y in points:\n",
    "    dist = dist_calculator(x,y)\n",
    "    if dist > 9:\n",
    "        missed_arrows += 1\n",
    "        \n",
    "print(missed_arrows)"
   ]
  },
  {
   "cell_type": "code",
   "execution_count": null,
   "metadata": {},
   "outputs": [],
   "source": []
  }
 ],
 "metadata": {
  "kernelspec": {
   "display_name": "Python 3",
   "language": "python",
   "name": "python3"
  },
  "language_info": {
   "codemirror_mode": {
    "name": "ipython",
    "version": 3
   },
   "file_extension": ".py",
   "mimetype": "text/x-python",
   "name": "python",
   "nbconvert_exporter": "python",
   "pygments_lexer": "ipython3",
   "version": "3.8.5"
  }
 },
 "nbformat": 4,
 "nbformat_minor": 2
}
