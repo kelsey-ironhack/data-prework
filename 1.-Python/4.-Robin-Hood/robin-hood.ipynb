{
 "cells": [
  {
   "cell_type": "markdown",
   "metadata": {},
   "source": [
    "<img src=\"https://bit.ly/2VnXWr2\" width=\"100\" align=\"left\"/>"
   ]
  },
  {
   "cell_type": "markdown",
   "metadata": {},
   "source": [
    "# Robin Hood\n",
    "Robin Hood has entered a competition to win the archery contest in Sherwood. With his bow and arrows, he needs to shoot on a target and try to hit as close as possible to the center.\n",
    "\n",
    "![](images/arrows.jpg)\n",
    "\n",
    "## Context\n",
    "In this challenge, the landing position of arrows shot by archers in the competition will be represented using 2-dimensional coordinates. \n",
    "\n",
    "In the 2-dimensional space, a point can be defined by a pair of values that correspond to the horizontal coordinate (x) and the vertical coordinate (y). For example, in our case, an arrow that hits the center of the archery target will land in position (0, 0) on the coordinate axes. \n",
    "\n",
    "The space can be divided into 4 zones (quadrants): Q1, Q2, Q3, Q4. If a point is in Q1, both its x coordinate and y coordinate are positive. Any point with a null x or y coordinate is considered to not belong to any quadrant. \n",
    "\n",
    "If you want to know more about the cartesian coordinate system, you can check this [link](https://en.wikipedia.org/wiki/Cartesian_coordinate_system). \n",
    "\n",
    "## Tools\n",
    "You don't necessarily need to use all the tools. Maybe you opt to use some of them or completely different ones, they are given to help you shape the exercise. Programming exercises can be solved in many different ways.\n",
    "* Data structures: **lists, sets, tuples**\n",
    "* Conditional statements: **if-elif-else**\n",
    "* Loop: **while/for**\n",
    "* Minimum (optional sorting)\n",
    "\n",
    "## Tasks\n",
    "Robin Hood has hit the following points:"
   ]
  },
  {
   "cell_type": "code",
   "execution_count": 1,
   "metadata": {},
   "outputs": [],
   "source": [
    "points = [(4, 5), (-0, 2), (4, 7), (1, -3), (3, -2), (4, 5), (3, 2), (5, 7), (-5, 7), (2, 2), (-4, 5), (0, -2),\n",
    "          (-4, 7), (-1, 3), (-3, 2), (-4, -5), (-3, 2), (5, 7), (5, 7), (2, 2), (9, 9), (-8, -9)]"
   ]
  },
  {
   "cell_type": "markdown",
   "metadata": {},
   "source": [
    "#### 1. Robin Hood is famous for hitting an arrow with another arrow. Find the coordinates of the points where an arrow hits another arrow."
   ]
  },
  {
   "cell_type": "code",
   "execution_count": 2,
   "metadata": {},
   "outputs": [
    {
     "name": "stdout",
     "output_type": "stream",
     "text": [
      "Here is a multiple_hit: (4, 5)\n",
      "Here is a multiple_hit: (5, 7)\n",
      "Here is a multiple_hit: (2, 2)\n",
      "Here is a multiple_hit: (-3, 2)\n"
     ]
    }
   ],
   "source": [
    "from collections import defaultdict\n",
    "\n",
    "duplicates = defaultdict(int)\n",
    "for item in points:\n",
    "    duplicates[item] += 1\n",
    "for multiple_hit, value in duplicates.items():\n",
    "    if value > 1:\n",
    "        print(f\"Here is a multiple_hit: {multiple_hit}\")\n"
   ]
  },
  {
   "cell_type": "markdown",
   "metadata": {},
   "source": [
    "#### 2. Calculate how many arrows have fallen in each quadrant. \n",
    "**Note**: the arrows that fall in the axis (x=0 or y=0) don't belong to any quadrant."
   ]
  },
  {
   "cell_type": "code",
   "execution_count": 3,
   "metadata": {},
   "outputs": [
    {
     "name": "stdout",
     "output_type": "stream",
     "text": [
      "('Q1', [(4, 5), (4, 7), (4, 5), (3, 2), (5, 7), (2, 2), (5, 7), (5, 7), (2, 2), (9, 9)])\n",
      "('Q2', [(1, -3), (3, -2)])\n",
      "('Q3', [(-4, -5), (-8, -9)])\n",
      "('Q4', [(-5, 7), (-4, 5), (-4, 7), (-1, 3), (-3, 2), (-3, 2)])\n"
     ]
    }
   ],
   "source": [
    "map_points = dict(Q1=[], Q2=[], Q3=[], Q4=[] )\n",
    "for one_point in (point for point in points if 0 not in point):\n",
    "    x, y = one_point\n",
    "    q1, q2, q3, q4 = x > 0 and y > 0, x > 0 and y < 0, x < 0 and y < 0, x < 0 and y > 0\n",
    "    if q1:\n",
    "        map_points['Q1'].append(one_point)\n",
    "    elif q2:\n",
    "        map_points['Q2'].append(one_point)\n",
    "    elif q3:\n",
    "        map_points['Q3'].append(one_point)\n",
    "    elif q4:\n",
    "        map_points['Q4'].append(one_point)\n",
    "\n",
    "print(*map_points.items(), sep='\\n')"
   ]
  },
  {
   "cell_type": "markdown",
   "metadata": {},
   "source": [
    "#### 3. Find the point closest to the center. Calculate its distance to the center. \n",
    "Take into account that there might be more than one point at the minimum distance to the center.\n",
    "\n",
    "**Hint**: Use the Euclidean distance. You can find more information about it [here](https://en.wikipedia.org/wiki/Euclidean_distance).  \n",
    "**Hint**: Defining a function that calculates the distance to the center can help."
   ]
  },
  {
   "cell_type": "code",
   "execution_count": 4,
   "metadata": {},
   "outputs": [
    {
     "name": "stdout",
     "output_type": "stream",
     "text": [
      "best_hit = 2.0\n"
     ]
    }
   ],
   "source": [
    "import typing\n",
    "from math import sqrt\n",
    "from itertools import repeat\n",
    "\n",
    "def euclidian_distance(sequence_p, sequence_q) -> typing.Generator[float, None, None]:\n",
    "    for points in zip(sequence_p, sequence_q):\n",
    "        (p_x, p_y), (q_x, q_y) = points\n",
    "        distance = sqrt( ((abs(p_x - q_x))**2 + (abs(p_y - q_y))**2))\n",
    "        yield round(distance, 2)\n",
    "\n",
    "best_hit = min(euclidian_distance(repeat((0,0)), points))\n",
    "        \n",
    "print(f'{best_hit = }')\n"
   ]
  },
  {
   "cell_type": "markdown",
   "metadata": {},
   "source": [
    "#### 4. If the archery target has a radius of 9, calculate the number of arrows that won't hit the target. \n",
    "**Hint**: Use the function created in step 3. "
   ]
  },
  {
   "cell_type": "code",
   "execution_count": 5,
   "metadata": {},
   "outputs": [
    {
     "name": "stdout",
     "output_type": "stream",
     "text": [
      "There are 2 arrows outside the target\n"
     ]
    }
   ],
   "source": [
    "target_radius = 9\n",
    "map_point_distance = zip(range(len(points)), points, euclidian_distance(repeat((0,0)), points) )\n",
    "\n",
    "outside_arrows = [arrow for arrow in map_point_distance \n",
    "                  for idx, coordinate, distance in map_point_distance \n",
    "                  if distance > target_radius]\n",
    "\n",
    "print(f'There are {len(outside_arrows)} arrows outside the target')"
   ]
  },
  {
   "cell_type": "code",
   "execution_count": null,
   "metadata": {},
   "outputs": [],
   "source": []
  }
 ],
 "metadata": {
  "kernelspec": {
   "display_name": "Python 3",
   "language": "python",
   "name": "python3"
  },
  "language_info": {
   "codemirror_mode": {
    "name": "ipython",
    "version": 3
   },
   "file_extension": ".py",
   "mimetype": "text/x-python",
   "name": "python",
   "nbconvert_exporter": "python",
   "pygments_lexer": "ipython3",
   "version": "3.8.3"
  }
 },
 "nbformat": 4,
 "nbformat_minor": 2
}
