{
 "cells": [
  {
   "cell_type": "markdown",
   "metadata": {},
   "source": [
    "<img src=\"https://bit.ly/2VnXWr2\" width=\"100\" align=\"left\"/>"
   ]
  },
  {
   "cell_type": "markdown",
   "metadata": {},
   "source": [
    "# Robin Hood\n",
    "Robin Hood has entered a competition to win the archery contest in Sherwood. With his bow and arrows, he needs to shoot on a target and try to hit as close as possible to the center.\n",
    "\n",
    "![](images/arrows.jpg)\n",
    "\n",
    "## Context\n",
    "In this challenge, the landing position of arrows shot by archers in the competition will be represented using 2-dimensional coordinates. \n",
    "\n",
    "In the 2-dimensional space, a point can be defined by a pair of values that correspond to the horizontal coordinate (x) and the vertical coordinate (y). For example, in our case, an arrow that hits the center of the archery target will land in position (0, 0) on the coordinate axes. \n",
    "\n",
    "The space can be divided into 4 zones (quadrants): Q1, Q2, Q3, Q4. If a point is in Q1, both its x coordinate and y coordinate are positive. Any point with a null x or y coordinate is considered to not belong to any quadrant. \n",
    "\n",
    "If you want to know more about the cartesian coordinate system, you can check this [link](https://en.wikipedia.org/wiki/Cartesian_coordinate_system). \n",
    "\n",
    "## Tools\n",
    "You don't necessarily need to use all the tools. Maybe you opt to use some of them or completely different ones, they are given to help you shape the exercise. Programming exercises can be solved in many different ways.\n",
    "* Data structures: **lists, sets, tuples**\n",
    "* Conditional statements: **if-elif-else**\n",
    "* Loop: **while/for**\n",
    "* Minimum (optional sorting)\n",
    "\n",
    "## Tasks\n",
    "Robin Hood has hit the following points:"
   ]
  },
  {
   "cell_type": "code",
   "execution_count": 1,
   "metadata": {},
   "outputs": [],
   "source": [
    "points = [(4, 5), (-0, 2), (4, 7), (1, -3), (3, -2), (4, 5), (3, 2), (5, 7), (-5, 7), (2, 2), (-4, 5), (0, -2),\n",
    "          (-4, 7), (-1, 3), (-3, 2), (-4, -5), (-3, 2), (5, 7), (5, 7), (2, 2), (9, 9), (-8, -9)]"
   ]
  },
  {
   "cell_type": "markdown",
   "metadata": {},
   "source": [
    "#### 1. Robin Hood is famous for hitting an arrow with another arrow. Find the coordinates of the points where an arrow hits another arrow."
   ]
  },
  {
   "cell_type": "code",
   "execution_count": 2,
   "metadata": {},
   "outputs": [
    {
     "name": "stdout",
     "output_type": "stream",
     "text": [
      "The coordinates of the points are: [(4, 5), (5, 7), (2, 2), (-3, 2)]\n"
     ]
    }
   ],
   "source": [
    "points = [(4, 5), (-0, 2), (4, 7), (1, -3), (3, -2), (4, 5), (3, 2), (5, 7), (-5, 7), (2, 2), (-4, 5), (0, -2),(-4, 7), (-1, 3), (-3, 2), (-4, -5), (-3, 2), (5, 7), (5, 7), (2, 2), (9, 9), (-8, -9)]\n",
    "h=0\n",
    "j=0\n",
    "arr_arr=[]\n",
    "for h in range(len(points)-1):\n",
    "    for j in range(h+1,len(points)):\n",
    "        if points[h]==points[j]:\n",
    "            if points[h] in arr_arr:\n",
    "                pass\n",
    "            else:\n",
    "                arr_arr.append(points[h])\n",
    "        else:\n",
    "            pass\n",
    "print(\"The coordinates of the points are:\",arr_arr)"
   ]
  },
  {
   "cell_type": "markdown",
   "metadata": {},
   "source": [
    "#### 2. Calculate how many arrows have fallen in each quadrant. \n",
    "**Note**: the arrows that fall in the axis (x=0 or y=0) don't belong to any quadrant."
   ]
  },
  {
   "cell_type": "code",
   "execution_count": 3,
   "metadata": {},
   "outputs": [
    {
     "name": "stdout",
     "output_type": "stream",
     "text": [
      "Quadrant one: 10 arrows\n",
      "Quadrant two: 6 arrows\n",
      "Quadrant three: 2 arrows\n",
      "Quadrant four: 2 arrows\n"
     ]
    }
   ],
   "source": [
    "m=0\n",
    "o=0\n",
    "cuad1=[]\n",
    "cuad2=[]\n",
    "cuad3=[]\n",
    "cuad4=[]\n",
    "for m in range(len(points)):\n",
    "    if points[m][0]>0:\n",
    "        if points[m][1]>0:\n",
    "            cuad1.append(points[m])\n",
    "        elif points[m][1]<0:\n",
    "            cuad4.append(points[m])\n",
    "        else:\n",
    "            pass\n",
    "    elif points[m][0]<0:\n",
    "        if points[m][1]>0:\n",
    "            cuad2.append(points[m])\n",
    "        elif points[m][1]<0:\n",
    "            cuad3.append(points[m])\n",
    "        else:\n",
    "            pass\n",
    "    else:\n",
    "        pass\n",
    "print(\"Quadrant one:\",len(cuad1),\"arrows\")\n",
    "print(\"Quadrant two:\",len(cuad2),\"arrows\")\n",
    "print(\"Quadrant three:\",len(cuad3),\"arrows\")\n",
    "print(\"Quadrant four:\",len(cuad4),\"arrows\")"
   ]
  },
  {
   "cell_type": "markdown",
   "metadata": {},
   "source": [
    "#### 3. Find the point closest to the center. Calculate its distance to the center. \n",
    "Take into account that there might be more than one point at the minimum distance to the center.\n",
    "\n",
    "**Hint**: Use the Euclidean distance. You can find more information about it [here](https://en.wikipedia.org/wiki/Euclidean_distance).  \n",
    "**Hint**: Defining a function that calculates the distance to the center can help."
   ]
  },
  {
   "cell_type": "code",
   "execution_count": 4,
   "metadata": {},
   "outputs": [
    {
     "name": "stdout",
     "output_type": "stream",
     "text": [
      "The point closest to the center: [(0, 2), (0, -2)]\n"
     ]
    }
   ],
   "source": [
    "def distance(x):\n",
    "    return (x[0]**2+x[1]**2)**(1/2)\n",
    "tam=0\n",
    "mini=100000\n",
    "distances=[]\n",
    "for tam in range(len(points)):\n",
    "    eucli=distance(points[tam])\n",
    "    if eucli>mini:\n",
    "        pass\n",
    "    elif eucli<mini:\n",
    "        mini=eucli\n",
    "        distances=[]\n",
    "        distances.append(points[tam])\n",
    "    else:\n",
    "        distances.append(points[tam])\n",
    "print(\"The point closest to the center:\",distances)"
   ]
  },
  {
   "cell_type": "markdown",
   "metadata": {},
   "source": [
    "#### 4. If the archery target has a radius of 9, calculate the number of arrows that won't hit the target. \n",
    "**Hint**: Use the function created in step 3. "
   ]
  },
  {
   "cell_type": "code",
   "execution_count": 5,
   "metadata": {},
   "outputs": [
    {
     "name": "stdout",
     "output_type": "stream",
     "text": [
      "2 arrows won't hit the target\n"
     ]
    }
   ],
   "source": [
    "a=0\n",
    "num=0\n",
    "for a in points:\n",
    "    if distance(a)<=9:\n",
    "        pass\n",
    "    else:\n",
    "        num+=1\n",
    "print(num,\"arrows won't hit the target\")"
   ]
  },
  {
   "cell_type": "code",
   "execution_count": null,
   "metadata": {},
   "outputs": [],
   "source": []
  }
 ],
 "metadata": {
  "kernelspec": {
   "display_name": "Python 3",
   "language": "python",
   "name": "python3"
  },
  "language_info": {
   "codemirror_mode": {
    "name": "ipython",
    "version": 3
   },
   "file_extension": ".py",
   "mimetype": "text/x-python",
   "name": "python",
   "nbconvert_exporter": "python",
   "pygments_lexer": "ipython3",
   "version": "3.7.6"
  }
 },
 "nbformat": 4,
 "nbformat_minor": 2
}
