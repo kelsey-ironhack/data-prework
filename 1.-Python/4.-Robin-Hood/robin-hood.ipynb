{
 "cells": [
  {
   "cell_type": "markdown",
   "metadata": {},
   "source": [
    "<img src=\"https://bit.ly/2VnXWr2\" width=\"100\" align=\"left\"/>"
   ]
  },
  {
   "cell_type": "markdown",
   "metadata": {},
   "source": [
    "# Robin Hood\n",
    "Robin Hood has entered a competition to win the archery contest in Sherwood. With his bow and arrows, he needs to shoot on a target and try to hit as close as possible to the center.\n",
    "\n",
    "![](images/arrows.jpg)\n",
    "\n",
    "## Context\n",
    "In this challenge, the landing position of arrows shot by archers in the competition will be represented using 2-dimensional coordinates. \n",
    "\n",
    "In the 2-dimensional space, a point can be defined by a pair of values that correspond to the horizontal coordinate (x) and the vertical coordinate (y). For example, in our case, an arrow that hits the center of the archery target will land in position (0, 0) on the coordinate axes. \n",
    "\n",
    "The space can be divided into 4 zones (quadrants): Q1, Q2, Q3, Q4. If a point is in Q1, both its x coordinate and y coordinate are positive. Any point with a null x or y coordinate is considered to not belong to any quadrant. \n",
    "\n",
    "If you want to know more about the cartesian coordinate system, you can check this [link](https://en.wikipedia.org/wiki/Cartesian_coordinate_system). \n",
    "\n",
    "## Tools\n",
    "You don't necessarily need to use all the tools. Maybe you opt to use some of them or completely different ones, they are given to help you shape the exercise. Programming exercises can be solved in many different ways.\n",
    "* Data structures: **lists, sets, tuples**\n",
    "* Conditional statements: **if-elif-else**\n",
    "* Loop: **while/for**\n",
    "* Minimum (optional sorting)\n",
    "\n",
    "## Tasks\n",
    "Robin Hood has hit the following points:"
   ]
  },
  {
   "cell_type": "code",
   "execution_count": 1,
   "metadata": {},
   "outputs": [],
   "source": [
    "points = [(4, 5), (-0, 2), (4, 7), (1, -3), (3, -2), (4, 5), (3, 2), (5, 7), (-5, 7), (2, 2), (-4, 5), (0, -2), (-4, 7), (-1, 3), (-3, 2), (-4, -5), (-3, 2), (5, 7), (5, 7), (2, 2), (9, 9), (-8, -9)]\n"
   ]
  },
  {
   "cell_type": "markdown",
   "metadata": {},
   "source": [
    "#### 1. Robin Hood is famous for hitting an arrow with another arrow. Find the coordinates of the points where an arrow hits another arrow."
   ]
  },
  {
   "cell_type": "code",
   "execution_count": 2,
   "metadata": {},
   "outputs": [
    {
     "name": "stdout",
     "output_type": "stream",
     "text": [
      "Hitting an arrow with another arrow:  [(4, 5), (5, 7), (2, 2), (-3, 2)]\n"
     ]
    }
   ],
   "source": [
    "g=0\n",
    "h=0\n",
    "tiros_repetidos=[]\n",
    "for g in range(len(points)-1):\n",
    "    for h in range(g+1,len(points)):\n",
    "        if points[g]==points[h]:\n",
    "            if points[g] in tiros_repetidos:\n",
    "                pass\n",
    "            else:\n",
    "                tiros_repetidos.append((points[g]))\n",
    "            break\n",
    "        else:\n",
    "            h+=1\n",
    "print(\"Hitting an arrow with another arrow: \",tiros_repetidos)"
   ]
  },
  {
   "cell_type": "markdown",
   "metadata": {},
   "source": [
    "#### 2. Calculate how many arrows have fallen in each quadrant. \n",
    "**Note**: the arrows that fall in the axis (x=0 or y=0) don't belong to any quadrant."
   ]
  },
  {
   "cell_type": "code",
   "execution_count": 3,
   "metadata": {},
   "outputs": [
    {
     "name": "stdout",
     "output_type": "stream",
     "text": [
      "Cuadrante X - Positivo, Y - Positivo:  [(4, 5), (4, 7), (4, 5), (3, 2), (5, 7), (2, 2), (5, 7), (5, 7), (2, 2), (9, 9)]\n",
      "Cuadrante X - Positivo, Y - Negativo:  [(1, -3), (3, -2)]\n",
      "Cuadrante X - Negativo, Y - Negativo:  [(-4, -5), (-8, -9)]\n",
      "Cuadrante X - Negativo, Y - Positivo:  [(-5, 7), (-4, 5), (-4, 7), (-1, 3), (-3, 2), (-3, 2)]\n"
     ]
    }
   ],
   "source": [
    "points = [(4, 5), (-0, 2), (4, 7), (1, -3), (3, -2), (4, 5), (3, 2), (5, 7), (-5, 7), (2, 2), (-4, 5), (0, -2),\n",
    "          (-4, 7), (-1, 3), (-3, 2), (-4, -5), (-3, 2), (5, 7), (5, 7), (2, 2), (9, 9), (-8, -9)]\n",
    "h=0\n",
    "g=0\n",
    "cuad_xpyp=[]\n",
    "cuad_xpyn=[]\n",
    "cuad_xnyn=[]\n",
    "cuad_xnyp=[]\n",
    "for h in range(len(points)):\n",
    "    if points[h][0] > 0:\n",
    "        if points[h][1]>0:\n",
    "            cuad_xpyp.append(points[h])\n",
    "        elif points[h][1]<0:\n",
    "            cuad_xpyn.append(points[h])\n",
    "        else: \n",
    "            pass\n",
    "    elif points[h][0]<0:\n",
    "        if points[h][1]>0:\n",
    "            cuad_xnyp.append(points[h])\n",
    "        elif points[h][1]<0:\n",
    "            cuad_xnyn.append(points[h])\n",
    "        else:\n",
    "            pass\n",
    "    else:\n",
    "        pass\n",
    "print(\"Cuadrante X - Positivo, Y - Positivo: \",cuad_xpyp)\n",
    "print(\"Cuadrante X - Positivo, Y - Negativo: \",cuad_xpyn)\n",
    "print(\"Cuadrante X - Negativo, Y - Negativo: \",cuad_xnyn)\n",
    "print(\"Cuadrante X - Negativo, Y - Positivo: \",cuad_xnyp)"
   ]
  },
  {
   "cell_type": "markdown",
   "metadata": {},
   "source": [
    "#### 3. Find the point closest to the center. Calculate its distance to the center. \n",
    "Take into account that there might be more than one point at the minimum distance to the center.\n",
    "\n",
    "**Hint**: Use the Euclidean distance. You can find more information about it [here](https://en.wikipedia.org/wiki/Euclidean_distance).  \n",
    "**Hint**: Defining a function that calculates the distance to the center can help."
   ]
  },
  {
   "cell_type": "code",
   "execution_count": 4,
   "metadata": {},
   "outputs": [
    {
     "name": "stdout",
     "output_type": "stream",
     "text": [
      "Points closest to the center:  [(0, 2), (0, -2)]\n"
     ]
    }
   ],
   "source": [
    "def distance(x):\n",
    "    return (x[0]**2+x[1]**2)**(1/2)\n",
    "g=0\n",
    "dm=100000\n",
    "distances=[]\n",
    "for g in range(len(points)):\n",
    "    nuevo_valor=distance(points[g])\n",
    "    if nuevo_valor>dm:\n",
    "        pass\n",
    "    elif nuevo_valor<dm:\n",
    "        dm=nuevo_valor\n",
    "        distances=[]\n",
    "        distances.append(points[g])\n",
    "    else:\n",
    "        distances.append(points[g])\n",
    "print(\"Points closest to the center: \", distances)"
   ]
  },
  {
   "cell_type": "markdown",
   "metadata": {},
   "source": [
    "#### 4. If the archery target has a radius of 9, calculate the number of arrows that won't hit the target. \n",
    "**Hint**: Use the function created in step 3. "
   ]
  },
  {
   "cell_type": "code",
   "execution_count": 5,
   "metadata": {},
   "outputs": [
    {
     "name": "stdout",
     "output_type": "stream",
     "text": [
      "Number of arrows that wont hit the target:  2\n"
     ]
    }
   ],
   "source": [
    "f=0\n",
    "no_entra=0\n",
    "for f in points:\n",
    "    if distance(f)<=9:\n",
    "        pass\n",
    "    else:\n",
    "        no_entra+=1\n",
    "print(\"Number of arrows that wont hit the target: \",no_entra)\n"
   ]
  },
  {
   "cell_type": "code",
   "execution_count": null,
   "metadata": {},
   "outputs": [],
   "source": []
  }
 ],
 "metadata": {
  "kernelspec": {
   "display_name": "Python 3",
   "language": "python",
   "name": "python3"
  },
  "language_info": {
   "codemirror_mode": {
    "name": "ipython",
    "version": 3
   },
   "file_extension": ".py",
   "mimetype": "text/x-python",
   "name": "python",
   "nbconvert_exporter": "python",
   "pygments_lexer": "ipython3",
   "version": "3.7.6"
  }
 },
 "nbformat": 4,
 "nbformat_minor": 2
}
