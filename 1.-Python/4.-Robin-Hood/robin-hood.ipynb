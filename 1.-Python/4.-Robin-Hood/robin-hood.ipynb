{
 "cells": [
  {
   "cell_type": "markdown",
   "metadata": {},
   "source": [
    "<img src=\"https://bit.ly/2VnXWr2\" width=\"100\" align=\"left\"/>"
   ]
  },
  {
   "cell_type": "markdown",
   "metadata": {},
   "source": [
    "# Robin Hood\n",
    "Robin Hood has entered a competition to win the archery contest in Sherwood. With his bow and arrows, he needs to shoot on a target and try to hit as close as possible to the center.\n",
    "\n",
    "![](images/arrows.jpg)\n",
    "\n",
    "## Context\n",
    "In this challenge, the landing position of arrows shot by archers in the competition will be represented using 2-dimensional coordinates. \n",
    "\n",
    "In the 2-dimensional space, a point can be defined by a pair of values that correspond to the horizontal coordinate (x) and the vertical coordinate (y). For example, in our case, an arrow that hits the center of the archery target will land in position (0, 0) on the coordinate axes. \n",
    "\n",
    "The space can be divided into 4 zones (quadrants): Q1, Q2, Q3, Q4. If a point is in Q1, both its x coordinate and y coordinate are positive. Any point with a null x or y coordinate is considered to not belong to any quadrant. \n",
    "\n",
    "If you want to know more about the cartesian coordinate system, you can check this [link](https://en.wikipedia.org/wiki/Cartesian_coordinate_system). \n",
    "\n",
    "## Tools\n",
    "You don't necessarily need to use all the tools. Maybe you opt to use some of them or completely different ones, they are given to help you shape the exercise. Programming exercises can be solved in many different ways.\n",
    "* Data structures: **lists, sets, tuples**\n",
    "* Conditional statements: **if-elif-else**\n",
    "* Loop: **while/for**\n",
    "* Minimum (optional sorting)\n",
    "\n",
    "## Tasks\n",
    "Robin Hood has hit the following points:"
   ]
  },
  {
   "cell_type": "code",
   "execution_count": 2,
   "metadata": {},
   "outputs": [],
   "source": [
    "points = [(4, 5), (-0, 2), (4, 7), (1, -3), (3, -2), (4, 5), (3, 2), (5, 7), (-5, 7), (2, 2), (-4, 5), (0, -2),\n",
    "          (-4, 7), (-1, 3), (-3, 2), (-4, -5), (-3, 2), (5, 7), (5, 7), (2, 2), (9, 9), (-8, -9)]"
   ]
  },
  {
   "cell_type": "markdown",
   "metadata": {},
   "source": [
    "#### 1. Robin Hood is famous for hitting an arrow with another arrow. Find the coordinates of the points where an arrow hits another arrow."
   ]
  },
  {
   "cell_type": "code",
   "execution_count": 3,
   "metadata": {},
   "outputs": [
    {
     "name": "stdout",
     "output_type": "stream",
     "text": [
      "22\n",
      "{(-3, 2), (4, 5), (5, 7), (2, 2)}\n"
     ]
    }
   ],
   "source": [
    "print(len(points))\n",
    "double_arrow =[]#nueva lista que va a tener las coordenadas que se repitan\n",
    "\n",
    "\n",
    "for hits in range(len(points)): #para los tiros en la lista de tiros coordenados:\n",
    "    if points[hits] in points[hits+1:]: #si el primer par de coordenadas en la lista de tiros coordenados:\n",
    "        double_arrow.append(points[hits]) #agrega esas coordenadas a la lista de double_arrow\n",
    "\n",
    "        \n",
    "print(set(double_arrow))\n",
    "\n",
    "    "
   ]
  },
  {
   "cell_type": "markdown",
   "metadata": {},
   "source": [
    "#### 2. Calculate how many arrows have fallen in each quadrant. \n",
    "**Note**: the arrows that fall in the axis (x=0 or y=0) don't belong to any quadrant."
   ]
  },
  {
   "cell_type": "code",
   "execution_count": 4,
   "metadata": {},
   "outputs": [
    {
     "name": "stdout",
     "output_type": "stream",
     "text": [
      "The number of arrows that fell in the first quadrant x(+) y(+) are: 10\n",
      "[[4, 5], [4, 7], [4, 5], [3, 2], [5, 7], [2, 2], [5, 7], [5, 7], [2, 2], [9, 9]]\n",
      "The number of arrows that fell in the second quadrant x(-) y(+) are: 6\n",
      "[[-5, 7], [-4, 5], [-4, 7], [-1, 3], [-3, 2], [-3, 2]]\n",
      "The number of arrows that fell in the third quadrant x(-) y(-) are: 2\n",
      "[[-4, -5], [-8, -9]]\n",
      "The number of arrows that fell in the fourth quadrant x(+) y(-) are: 2\n",
      "[[1, -3], [3, -2]]\n",
      "The number of arrows that fell in an axis x(0) or y(0) are: 2\n",
      "[[0, 2], [0, -2]]\n"
     ]
    }
   ],
   "source": [
    "quadrant_1=[]\n",
    "quadrant_2=[]\n",
    "quadrant_3=[]\n",
    "quadrant_4=[]\n",
    "no_quadrant=[]\n",
    "\n",
    "for each_point in points:\n",
    "    l = list(each_point)\n",
    "    \n",
    "    x =l[0]\n",
    "    y=l[1]\n",
    "    \n",
    "    if x >0 and y >0:\n",
    "        quadrant_1.append(l)\n",
    "    \n",
    "    elif x <0 and y >0:\n",
    "        quadrant_2.append(l)\n",
    "    \n",
    "    elif x <0 and y <0:\n",
    "        quadrant_3.append(l)\n",
    "    \n",
    "    elif x>0 and y <0:\n",
    "        quadrant_4.append(l)\n",
    "    \n",
    "    else:\n",
    "        no_quadrant.append(l)\n",
    "        \n",
    "    \n",
    "print(\"The number of arrows that fell in the first quadrant x(+) y(+) are:\",len(quadrant_1))\n",
    "print(quadrant_1)\n",
    "print(\"The number of arrows that fell in the second quadrant x(-) y(+) are:\",len(quadrant_2))\n",
    "print(quadrant_2)\n",
    "print(\"The number of arrows that fell in the third quadrant x(-) y(-) are:\",len(quadrant_3))\n",
    "print(quadrant_3)\n",
    "print(\"The number of arrows that fell in the fourth quadrant x(+) y(-) are:\",len(quadrant_4))\n",
    "print(quadrant_4)\n",
    "print(\"The number of arrows that fell in an axis x(0) or y(0) are:\",len(no_quadrant))\n",
    "print(no_quadrant)"
   ]
  },
  {
   "cell_type": "markdown",
   "metadata": {},
   "source": [
    "#### 3. Find the point closest to the center. Calculate its distance to the center. \n",
    "Take into account that there might be more than one point at the minimum distance to the center.\n",
    "\n",
    "**Hint**: Use the Euclidean distance. You can find more information about it [here](https://en.wikipedia.org/wiki/Euclidean_distance).  \n",
    "**Hint**: Defining a function that calculates the distance to the center can help."
   ]
  },
  {
   "cell_type": "code",
   "execution_count": 18,
   "metadata": {},
   "outputs": [
    {
     "name": "stdout",
     "output_type": "stream",
     "text": [
      "Closest shot: (0, 2)\n",
      "Distance of the closest shot:  2.0\n"
     ]
    }
   ],
   "source": [
    "import math\n",
    "def calculate_distance(each_point):\n",
    "    x=abs(each_point[0])#valor absoluto de la posición 0 en los valores\n",
    "    y=abs(each_point[1])#valor absoluto de la posición 1 en los valores\n",
    "    \n",
    "    distance = math.sqrt(x**2 + y**2)\n",
    "    return distance\n",
    "\n",
    "closest_point = [10,10]#establezco un extremo\n",
    "closest_distance = 100\n",
    "\n",
    "for each_point in points:\n",
    "    dist = calculate_distance(each_point)\n",
    "    if (dist < closest_distance):\n",
    "        closest_point = each_point\n",
    "        closest_distance = dist\n",
    "\n",
    "print(\"Closest shot:\",closest_point)\n",
    "print(\"Distance of the closest shot: \",closest_distance)\n",
    "\n"
   ]
  },
  {
   "cell_type": "markdown",
   "metadata": {},
   "source": [
    "#### 4. If the archery target has a radius of 9, calculate the number of arrows that won't hit the target. \n",
    "**Hint**: Use the function created in step 3. "
   ]
  },
  {
   "cell_type": "code",
   "execution_count": 19,
   "metadata": {},
   "outputs": [
    {
     "name": "stdout",
     "output_type": "stream",
     "text": [
      "Fail shots:  [(9, 9), (-8, -9)]\n",
      "Number of fail shots:  2\n"
     ]
    }
   ],
   "source": [
    "fail_shots = []\n",
    "for each_point in points:\n",
    "    if (abs(each_point[0]) >= 9 or abs(each_point[1]) >= 9):\n",
    "        fail_shots.append(each_point)\n",
    "\n",
    "print('Fail shots: ', fail_shots)\n",
    "print('Number of fail shots: ', len(fail_shots))"
   ]
  },
  {
   "cell_type": "code",
   "execution_count": null,
   "metadata": {},
   "outputs": [],
   "source": []
  }
 ],
 "metadata": {
  "kernelspec": {
   "display_name": "Python 3",
   "language": "python",
   "name": "python3"
  },
  "language_info": {
   "codemirror_mode": {
    "name": "ipython",
    "version": 3
   },
   "file_extension": ".py",
   "mimetype": "text/x-python",
   "name": "python",
   "nbconvert_exporter": "python",
   "pygments_lexer": "ipython3",
   "version": "3.8.3"
  }
 },
 "nbformat": 4,
 "nbformat_minor": 2
}
