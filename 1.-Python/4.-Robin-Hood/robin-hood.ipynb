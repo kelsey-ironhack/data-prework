{
 "cells": [
  {
   "cell_type": "markdown",
   "metadata": {},
   "source": [
    "<img src=\"https://bit.ly/2VnXWr2\" width=\"100\" align=\"left\"/>"
   ]
  },
  {
   "cell_type": "markdown",
   "metadata": {},
   "source": [
    "# Robin Hood\n",
    "Robin Hood has entered a competition to win the archery contest in Sherwood. With his bow and arrows, he needs to shoot on a target and try to hit as close as possible to the center.\n",
    "\n",
    "![](images/arrows.jpg)\n",
    "\n",
    "## Context\n",
    "In this challenge, the landing position of arrows shot by archers in the competition will be represented using 2-dimensional coordinates. \n",
    "\n",
    "In the 2-dimensional space, a point can be defined by a pair of values that correspond to the horizontal coordinate (x) and the vertical coordinate (y). For example, in our case, an arrow that hits the center of the archery target will land in position (0, 0) on the coordinate axes. \n",
    "\n",
    "The space can be divided into 4 zones (quadrants): Q1, Q2, Q3, Q4. If a point is in Q1, both its x coordinate and y coordinate are positive. Any point with a null x or y coordinate is considered to not belong to any quadrant. \n",
    "\n",
    "If you want to know more about the cartesian coordinate system, you can check this [link](https://en.wikipedia.org/wiki/Cartesian_coordinate_system). \n",
    "\n",
    "## Tools\n",
    "You don't necessarily need to use all the tools. Maybe you opt to use some of them or completely different ones, they are given to help you shape the exercise. Programming exercises can be solved in many different ways.\n",
    "* Data structures: **lists, sets, tuples**\n",
    "* Conditional statements: **if-elif-else**\n",
    "* Loop: **while/for**\n",
    "* Minimum (optional sorting)\n",
    "\n",
    "## Tasks\n",
    "Robin Hood has hit the following points:"
   ]
  },
  {
   "cell_type": "code",
   "execution_count": 1,
   "metadata": {},
   "outputs": [],
   "source": [
    "points = [(4, 5), (-0, 2), (4, 7), (1, -3), (3, -2), (4, 5), (3, 2), (5, 7), (-5, 7), (2, 2), (-4, 5), (0, -2),\n",
    "          (-4, 7), (-1, 3), (-3, 2), (-4, -5), (-3, 2), (5, 7), (5, 7), (2, 2), (9, 9), (-8, -9)]"
   ]
  },
  {
   "cell_type": "markdown",
   "metadata": {},
   "source": [
    "#### 1. Robin Hood is famous for hitting an arrow with another arrow. Find the coordinates of the points where an arrow hits another arrow."
   ]
  },
  {
   "cell_type": "code",
   "execution_count": 2,
   "metadata": {},
   "outputs": [
    {
     "name": "stdout",
     "output_type": "stream",
     "text": [
      "{(-3, 2), (4, 5), (5, 7), (2, 2)}\n"
     ]
    }
   ],
   "source": [
    "same_coordinates = []\n",
    "\n",
    "for i in points:\n",
    "    if points.count(i) > 1:\n",
    "        same_coordinates.append(i)\n",
    "\n",
    "unique_same_coordinates = set(same_coordinates)\n",
    "print(unique_same_coordinates)"
   ]
  },
  {
   "cell_type": "markdown",
   "metadata": {},
   "source": [
    "#### 2. Calculate how many arrows have fallen in each quadrant. \n",
    "**Note**: the arrows that fall in the axis (x=0 or y=0) don't belong to any quadrant."
   ]
  },
  {
   "cell_type": "code",
   "execution_count": 3,
   "metadata": {},
   "outputs": [
    {
     "name": "stdout",
     "output_type": "stream",
     "text": [
      "Quadrant 1 has 10 arrows.\n",
      "Quadrant 2 has 6 arrows.\n",
      "Quadrant 3 has 2 arrows.\n",
      "Quadrant 4 has 2 arrows.\n",
      "2 arrows fell in the axis.\n"
     ]
    }
   ],
   "source": [
    "quadrant_1 = 0\n",
    "quadrant_2 = 0\n",
    "quadrant_3 = 0\n",
    "quadrant_4 = 0\n",
    "on_axis = 0\n",
    "\n",
    "for i in points:\n",
    "    if (i[0] > 0) & (i[1] > 0):\n",
    "        quadrant_1 += 1\n",
    "    elif (i[0] < 0) & (i[1] > 0):\n",
    "        quadrant_2 += 1\n",
    "    elif (i[0] < 0) & (i[1] < 0):\n",
    "        quadrant_3 += 1\n",
    "    elif (i[0] > 0) & (i[1] < 0):\n",
    "        quadrant_4 += 1\n",
    "    else:\n",
    "        on_axis += 1\n",
    "        \n",
    "print(\"Quadrant 1 has \" + str(quadrant_1) + \" arrows.\")\n",
    "print(\"Quadrant 2 has \" + str(quadrant_2) + \" arrows.\")\n",
    "print(\"Quadrant 3 has \" + str(quadrant_3) + \" arrows.\")\n",
    "print(\"Quadrant 4 has \" + str(quadrant_4) + \" arrows.\")\n",
    "print(str(on_axis) + \" arrows fell in the axis.\")"
   ]
  },
  {
   "cell_type": "markdown",
   "metadata": {},
   "source": [
    "#### 3. Find the point closest to the center. Calculate its distance to the center. \n",
    "Take into account that there might be more than one point at the minimum distance to the center.\n",
    "\n",
    "**Hint**: Use the Euclidean distance. You can find more information about it [here](https://en.wikipedia.org/wiki/Euclidean_distance).  \n",
    "**Hint**: Defining a function that calculates the distance to the center can help."
   ]
  },
  {
   "cell_type": "code",
   "execution_count": 4,
   "metadata": {},
   "outputs": [
    {
     "name": "stdout",
     "output_type": "stream",
     "text": [
      "[1, 11]\n",
      "The closest points are (0, 2) and (0, -2)\n",
      "2.0\n"
     ]
    }
   ],
   "source": [
    "def euclidean_distance (x,y):\n",
    "    return ((x)**2 + (y )**2)**(1/2)\n",
    "\n",
    "distance_to_centre = []\n",
    "\n",
    "for i in points:\n",
    "    distance_to_centre.append(euclidean_distance(i[0], i[1]))\n",
    "\n",
    "indices = [i for i, x in enumerate(distance_to_centre) if x == min(distance_to_centre)]\n",
    "print(indices)\n",
    "print(\"The closest points are \" + str(points[1]) + \" and \" + str(points[11]))\n",
    "print(min(distance_to_centre))"
   ]
  },
  {
   "cell_type": "markdown",
   "metadata": {},
   "source": [
    "#### 4. If the archery target has a radius of 9, calculate the number of arrows that won't hit the target. \n",
    "**Hint**: Use the function created in step 3. "
   ]
  },
  {
   "cell_type": "code",
   "execution_count": 5,
   "metadata": {},
   "outputs": [
    {
     "name": "stdout",
     "output_type": "stream",
     "text": [
      "2\n"
     ]
    }
   ],
   "source": [
    "arrows_not_on_target = 0\n",
    "\n",
    "for i in distance_to_centre:\n",
    "    if i > 9:\n",
    "        arrows_not_on_target += 1\n",
    "        \n",
    "print(arrows_not_on_target)"
   ]
  }
 ],
 "metadata": {
  "kernelspec": {
   "display_name": "Python 3",
   "language": "python",
   "name": "python3"
  },
  "language_info": {
   "codemirror_mode": {
    "name": "ipython",
    "version": 3
   },
   "file_extension": ".py",
   "mimetype": "text/x-python",
   "name": "python",
   "nbconvert_exporter": "python",
   "pygments_lexer": "ipython3",
   "version": "3.8.3"
  }
 },
 "nbformat": 4,
 "nbformat_minor": 2
}
