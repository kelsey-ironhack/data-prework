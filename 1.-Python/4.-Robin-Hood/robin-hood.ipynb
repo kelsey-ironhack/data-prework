{
 "cells": [
  {
   "cell_type": "markdown",
   "metadata": {},
   "source": [
    "<img src=\"https://bit.ly/2VnXWr2\" width=\"100\" align=\"left\"/>"
   ]
  },
  {
   "cell_type": "markdown",
   "metadata": {},
   "source": [
    "# Robin Hood\n",
    "Robin Hood has entered a competition to win the archery contest in Sherwood. With his bow and arrows, he needs to shoot on a target and try to hit as close as possible to the center.\n",
    "\n",
    "![](images/arrows.jpg)\n",
    "\n",
    "## Context\n",
    "In this challenge, the landing position of arrows shot by archers in the competition will be represented using 2-dimensional coordinates. \n",
    "\n",
    "In the 2-dimensional space, a point can be defined by a pair of values that correspond to the horizontal coordinate (x) and the vertical coordinate (y). For example, in our case, an arrow that hits the center of the archery target will land in position (0, 0) on the coordinate axes. \n",
    "\n",
    "The space can be divided into 4 zones (quadrants): Q1, Q2, Q3, Q4. If a point is in Q1, both its x coordinate and y coordinate are positive. Any point with a null x or y coordinate is considered to not belong to any quadrant. \n",
    "\n",
    "If you want to know more about the cartesian coordinate system, you can check this [link](https://en.wikipedia.org/wiki/Cartesian_coordinate_system). \n",
    "\n",
    "## Tools\n",
    "You don't necessarily need to use all the tools. Maybe you opt to use some of them or completely different ones, they are given to help you shape the exercise. Programming exercises can be solved in many different ways.\n",
    "* Data structures: **lists, sets, tuples**\n",
    "* Conditional statements: **if-elif-else**\n",
    "* Loop: **while/for**\n",
    "* Minimum (optional sorting)\n",
    "\n",
    "## Tasks\n",
    "Robin Hood has hit the following points:"
   ]
  },
  {
   "cell_type": "code",
   "execution_count": 1,
   "metadata": {},
   "outputs": [
    {
     "data": {
      "text/plain": [
       "22"
      ]
     },
     "execution_count": 1,
     "metadata": {},
     "output_type": "execute_result"
    }
   ],
   "source": [
    "points = [(4, 5), (-0, 2), (4, 7), (1, -3), (3, -2), (4, 5), (3, 2), (5, 7), (-5, 7), (2, 2), (-4, 5), (0, -2),\n",
    "          (-4, 7), (-1, 3), (-3, 2), (-4, -5), (-3, 2), (5, 7), (5, 7), (2, 2), (9, 9), (-8, -9)]\n",
    "\n",
    "len(points)"
   ]
  },
  {
   "cell_type": "markdown",
   "metadata": {},
   "source": [
    "#### 1. Robin Hood is famous for hitting an arrow with another arrow. Find the coordinates of the points where an arrow hits another arrow."
   ]
  },
  {
   "cell_type": "code",
   "execution_count": 2,
   "metadata": {},
   "outputs": [
    {
     "name": "stdout",
     "output_type": "stream",
     "text": [
      "there are 6 equal shots\n"
     ]
    }
   ],
   "source": [
    "equal_shots = 0\n",
    "\n",
    "for i in range(len(points)):\n",
    "    \n",
    "    point1 = points[i]\n",
    "    for j in range(i+1):\n",
    "        point2 = points[j]\n",
    "\n",
    "        if point1 == point2  and i!=j:\n",
    "            equal_shots += 1\n",
    "    \n",
    "print(\"there are\", equal_shots, \"equal shots\")"
   ]
  },
  {
   "cell_type": "markdown",
   "metadata": {},
   "source": [
    "#### 2. Calculate how many arrows have fallen in each quadrant. \n",
    "**Note**: the arrows that fall in the axis (x=0 or y=0) don't belong to any quadrant."
   ]
  },
  {
   "cell_type": "code",
   "execution_count": 3,
   "metadata": {},
   "outputs": [
    {
     "name": "stdout",
     "output_type": "stream",
     "text": [
      "The following arroes fall in Quarter 1: 10 ; Quarter 2: 6 ; Quarter 3: 2 ; and Quarter 4: 2 .\n",
      "Arrows that don't fall in any quarter: 2\n"
     ]
    }
   ],
   "source": [
    "q1 = 0\n",
    "q2 = 0\n",
    "q3 = 0\n",
    "q4 = 0\n",
    "no_quarter = 0\n",
    "\n",
    "for i in range(len(points)):\n",
    "    if points[i][0] > 0 and points[i][1] > 0:\n",
    "        q1 += 1\n",
    "    elif points[i][0] < 0 and points[i][1] > 0:  \n",
    "        q2 += 1\n",
    "    elif points[i][0] > 0 and points[i][1] < 0:  \n",
    "        q3 += 1\n",
    "    elif points[i][0] < 0 and points[i][1] < 0:  \n",
    "        q4 += 1\n",
    "    elif points[i][0] == 0 or points[i][1] == 0:  \n",
    "        no_quarter += 1  \n",
    "print(\"The following arroes fall in Quarter 1:\", q1,\n",
    "      \"; Quarter 2:\", q2,\n",
    "      \"; Quarter 3:\", q3,\n",
    "      \"; and Quarter 4:\", q4, \".\")\n",
    "print(\"Arrows that don't fall in any quarter:\", no_quarter)\n"
   ]
  },
  {
   "cell_type": "markdown",
   "metadata": {},
   "source": [
    "#### 3. Find the point closest to the center. Calculate its distance to the center. \n",
    "Take into account that there might be more than one point at the minimum distance to the center.\n",
    "\n",
    "**Hint**: Use the Euclidean distance. You can find more information about it [here](https://en.wikipedia.org/wiki/Euclidean_distance).  \n",
    "**Hint**: Defining a function that calculates the distance to the center can help."
   ]
  },
  {
   "cell_type": "code",
   "execution_count": 4,
   "metadata": {},
   "outputs": [
    {
     "name": "stdout",
     "output_type": "stream",
     "text": [
      "minimum distance:  2.0  for point  (0, 2)\n",
      "other point with same distance (0, -2)\n"
     ]
    }
   ],
   "source": [
    "import math\n",
    "\n",
    "min_dist=None\n",
    "min_index=None\n",
    "\n",
    "def distance_to_center(p):\n",
    "    return math.sqrt(p[0]*p[0] + p[1]*p[1])\n",
    "\n",
    "for i in range(len(points)):\n",
    "    \n",
    "    p = points[i]\n",
    "    dist = distance_to_center(p)\n",
    "    \n",
    "    if min_dist==None:\n",
    "        min_dist=dist\n",
    "        min_index=i\n",
    "    elif dist<min_dist:\n",
    "        min_dist=dist\n",
    "        min_index=i\n",
    "\n",
    "print(\"minimum distance: \", min_dist, \" for point \", points[min_index])\n",
    "\n",
    "for i in range(len(points)):\n",
    "    p = points[i]\n",
    "    dist = distance_to_center(p)\n",
    " \n",
    "    if dist == min_dist and i != min_index:\n",
    "        print(\"other point with same distance\", p)"
   ]
  },
  {
   "cell_type": "markdown",
   "metadata": {},
   "source": [
    "\n",
    "#### 4. If the archery target has a radius of 9, calculate the number of arrows that won't hit the target. \n",
    "**Hint**: Use the function created in step 3. "
   ]
  },
  {
   "cell_type": "code",
   "execution_count": 5,
   "metadata": {},
   "outputs": [
    {
     "name": "stdout",
     "output_type": "stream",
     "text": [
      "Arrows that hit outside a radius of 9: 2\n"
     ]
    }
   ],
   "source": [
    "counter = 0\n",
    "for i in range(len(points)):\n",
    "    distances_3 = distance_to_center(points[i])\n",
    "    if distances_3 > 9:\n",
    "        counter += 1\n",
    "        \n",
    "print(\"Arrows that hit outside a radius of 9:\", counter)                                               "
   ]
  },
  {
   "cell_type": "code",
   "execution_count": null,
   "metadata": {},
   "outputs": [],
   "source": []
  }
 ],
 "metadata": {
  "kernelspec": {
   "display_name": "Python 3",
   "language": "python",
   "name": "python3"
  },
  "language_info": {
   "codemirror_mode": {
    "name": "ipython",
    "version": 3
   },
   "file_extension": ".py",
   "mimetype": "text/x-python",
   "name": "python",
   "nbconvert_exporter": "python",
   "pygments_lexer": "ipython3",
   "version": "3.9.4"
  }
 },
 "nbformat": 4,
 "nbformat_minor": 2
}
