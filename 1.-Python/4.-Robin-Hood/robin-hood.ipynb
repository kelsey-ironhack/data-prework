{
 "cells": [
  {
   "cell_type": "markdown",
   "metadata": {},
   "source": [
    "<img src=\"https://bit.ly/2VnXWr2\" width=\"100\" align=\"left\"/>"
   ]
  },
  {
   "cell_type": "markdown",
   "metadata": {},
   "source": [
    "# Robin Hood\n",
    "Robin Hood has entered a competition to win the archery contest in Sherwood. With his bow and arrows, he needs to shoot on a target and try to hit as close as possible to the center.\n",
    "\n",
    "![](images/arrows.jpg)\n",
    "\n",
    "## Context\n",
    "In this challenge, the landing position of arrows shot by archers in the competition will be represented using 2-dimensional coordinates. \n",
    "\n",
    "In the 2-dimensional space, a point can be defined by a pair of values that correspond to the horizontal coordinate (x) and the vertical coordinate (y). For example, in our case, an arrow that hits the center of the archery target will land in position (0, 0) on the coordinate axes. \n",
    "\n",
    "The space can be divided into 4 zones (quadrants): Q1, Q2, Q3, Q4. If a point is in Q1, both its x coordinate and y coordinate are positive. Any point with a null x or y coordinate is considered to not belong to any quadrant. \n",
    "\n",
    "If you want to know more about the cartesian coordinate system, you can check this [link](https://en.wikipedia.org/wiki/Cartesian_coordinate_system). \n",
    "\n",
    "## Tools\n",
    "You don't necessarily need to use all the tools. Maybe you opt to use some of them or completely different ones, they are given to help you shape the exercise. Programming exercises can be solved in many different ways.\n",
    "* Data structures: **lists, sets, tuples**\n",
    "* Conditional statements: **if-elif-else**\n",
    "* Loop: **while/for**\n",
    "* Minimum (optional sorting)\n",
    "\n",
    "## Tasks\n",
    "Robin Hood has hit the following points:"
   ]
  },
  {
   "cell_type": "code",
   "execution_count": 2,
   "metadata": {},
   "outputs": [],
   "source": [
    "points = [(4, 5), (-0, 2), (4, 7), (1, -3), (3, -2), (4, 5), (3, 2), (5, 7), (-5, 7), (2, 2), (-4, 5), (0, -2),\n",
    "          (-4, 7), (-1, 3), (-3, 2), (-4, -5), (-3, 2), (5, 7), (5, 7), (2, 2), (9, 9), (-8, -9)]"
   ]
  },
  {
   "cell_type": "markdown",
   "metadata": {},
   "source": [
    "#### 1. Robin Hood is famous for hitting an arrow with another arrow. Find the coordinates of the points where an arrow hits another arrow."
   ]
  },
  {
   "cell_type": "code",
   "execution_count": 3,
   "metadata": {},
   "outputs": [
    {
     "name": "stdout",
     "output_type": "stream",
     "text": [
      "{(-5, 7), (3, -2), (-4, 7), (-4, 5), (9, 9), (5, 7), (4, 5), (0, 2), (1, -3), (-1, 3), (-4, -5), (2, 2), (-3, 2), (3, 2), (-8, -9), (0, -2), (4, 7)}\n",
      "17\n",
      "22\n",
      "5\n"
     ]
    }
   ],
   "source": [
    "unique_points = set(points)\n",
    "print(unique_points)\n",
    "no_of_unique_points = len(unique_points)\n",
    "print(no_of_unique_points)\n",
    "no_of_points_inclrepeat = len(points)\n",
    "print(no_of_points_inclrepeat)\n",
    "no_double_impact_points = no_of_points_inclrepeat - no_of_unique_points\n",
    "print(no_double_impact_points)"
   ]
  },
  {
   "cell_type": "code",
   "execution_count": 153,
   "metadata": {},
   "outputs": [
    {
     "name": "stdout",
     "output_type": "stream",
     "text": [
      "first method:   [(4, 5), (4, 5), (4, 7), (5, 7), (2, 2), (9, 9), (4, 5), (4, 5), (4, 7), (5, 7), (5, 7), (5, 7), (5, 7), (4, 7), (4, 7), (4, 5), (9, 9), (5, 7), (1, -3), (4, 7), (4, 7), (5, 7), (4, 7), (4, 7), (5, 7), (5, 7), (5, 7), (5, 7), (5, 7), (5, 7), (4, 7), (4, 7), (2, 2), (-1, 3)]\n",
      "  \n",
      "second method:   [(5, 7), (4, 7), (5, 7), (5, 7), (4, 7), (2, 2)]\n"
     ]
    }
   ],
   "source": [
    "\n",
    "repeat =[]\n",
    "repeat_y =[]\n",
    "for i,j in points:\n",
    "    for k,l in points:\n",
    "        if i==k and l==j:\n",
    "            repeat.append(points[l])\n",
    "\n",
    "for i,j in points:   \n",
    "    #if points[i][1]==points[j][1]:\n",
    "            #repeat_x.append(points[i])\n",
    "    if points[i]== points[j]:\n",
    "            repeat_y.append(points[i])\n",
    "\n",
    "#repeat_x\n",
    "print(\"first method:  \",repeat)\n",
    "\n",
    "#print(points)\n",
    "print(\"  \")\n",
    "\n",
    "print(\"second method:  \",repeat_y)\n",
    "            \n",
    "        "
   ]
  },
  {
   "cell_type": "code",
   "execution_count": 92,
   "metadata": {},
   "outputs": [
    {
     "name": "stdout",
     "output_type": "stream",
     "text": [
      "[[4, 5], [0, 2], [1, -3], [3, -2], [5, 7], [-5, 7], [2, 2], [-4, 5], [-1, 3], [-3, 2], [9, 9], [-8, -9]]\n"
     ]
    }
   ],
   "source": [
    "\n",
    "#above solution doesn't make sense or is correct(like 2,2 isn't repeating), so just trying other methods here.\n",
    "#count_x = 0\n",
    "#count_y =0\n",
    "parse_x =[x[0]for x in points]\n",
    "parse_y =[x[1]for x in points]\n",
    "\n",
    "mydict ={}\n",
    "for a,b in points:\n",
    "    mydict[a] = mydict.get(a,b)\n",
    "    #if mydict[a]\n",
    "el_coord_1 = [[key,value] for key,value in mydict.items()]\n",
    "#el_coord_2 = [[value,key] for key,value in mydict.items()]\n",
    "print(el_coord_1)\n",
    "#print(el_coord_2)\n",
    "\n",
    "#repeat = []\n",
    "#for a,b in parse_xy:\n",
    "#if (a,b)\n",
    "#from collections import Counter\n",
    "parse_xy = [(x,y)for x,y in points]\n",
    "#repeat = Counter()\n",
    "#for i,j in points:\n",
    "#    repeat.update({i,j})\n",
    "    \n",
    "#map_repeat =(list,repeat.items())\n",
    "\n",
    "#arrow_precision_y =[]\n",
    "#for i in range(0,len(points)):\n",
    "    #for j in range(0,2):\n",
    "        #if points[i][1] == points[j][1]: #and points[0][i]== points[0][i+j]:\n",
    "          #  count_x += 1\n",
    "          #  point_rep = points[i][1]\n",
    "           # arrow_precision_x.append(point_rep)\n",
    "       # elif points[0][i] == points[0][j]: #and points[0][i]== points[0][i+j]:\n",
    "         #   count_y += 1\n",
    "         #   point_rep = points[0][j]\n",
    "          #  arrow_precision_y.append(point_rep)\n",
    "       # else:\n",
    "         #   print(\"no repeat hits\")\n",
    "        \n",
    "\n",
    "#print(parse_x)\n",
    "#print(parse_y)\n",
    "#print(parse_xy)\n",
    "#print(\"Coordinates where arrow hits another arrow: \",map_repeat)\n",
    "#print(arrow_precision_y)\n",
    "#print(count)\n",
    "   \n",
    "    \n",
    "\n",
    "points = [(4, 5), (-0, 2), (4, 7), (1, -3), (3, -2), (4, 5), (3, 2), (5, 7), (-5, 7), (2, 2), (-4, 5), (0, -2),\n",
    "          (-4, 7), (-1, 3), (-3, 2), (-4, -5), (-3, 2), (5, 7), (5, 7), (2, 2), (9, 9), (-8, -9)]\n",
    "    "
   ]
  },
  {
   "cell_type": "markdown",
   "metadata": {},
   "source": [
    "#### 2. Calculate how many arrows have fallen in each quadrant. \n",
    "**Note**: the arrows that fall in the axis (x=0 or y=0) don't belong to any quadrant."
   ]
  },
  {
   "cell_type": "code",
   "execution_count": 132,
   "metadata": {},
   "outputs": [
    {
     "name": "stdout",
     "output_type": "stream",
     "text": [
      "count of no quad coordinates falling on x=0:  2\n",
      "count of no quad coordinates falling on y=0:  0\n",
      "Total points falling on axes:  2\n",
      "count of no quad coordinates falling on 1st quad:  10\n",
      "count of no quad coordinates falling on 2nd quad:  6\n",
      "count of no quad coordinates falling on 3rd quad:  2\n",
      "count of no quad coordinates falling on 4th quad:  2\n",
      "Total points falling on axes(2nd method):  2\n",
      "[(4, 5), (0, 2), (4, 7), (1, -3), (3, -2), (4, 5), (3, 2), (5, 7), (-5, 7), (2, 2), (-4, 5), (0, -2), (-4, 7), (-1, 3), (-3, 2), (-4, -5), (-3, 2), (5, 7), (5, 7), (2, 2), (9, 9), (-8, -9)]\n"
     ]
    }
   ],
   "source": [
    "parse_x =[x[0]for x in points]\n",
    "parse_y =[x[1]for x in points]\n",
    "\n",
    "parse_xy = [(x,y)for x,y in points]\n",
    "count_no_quad_x =0\n",
    "count_no_quad_y =0\n",
    "for i in parse_x:\n",
    "    if i== 0:\n",
    "        count_no_quad_x += 1\n",
    "    #elif [j]==0:\n",
    "        #count_no_quad += 1\n",
    "for i in parse_y:\n",
    "    if abs(i)==0:\n",
    "        count_no_quad_y += 1\n",
    "        \n",
    "print(\"count of no quad coordinates falling on x=0: \",count_no_quad_x)\n",
    "print(\"count of no quad coordinates falling on y=0: \",count_no_quad_y)\n",
    "print(\"Total points falling on axes: \",count_no_quad_x+count_no_quad_y)\n",
    "count_first_quad = 0\n",
    "count_fourth_quad = 0\n",
    "count_second_quad = 0\n",
    "count_third_quad = 0\n",
    "count_axes = 0\n",
    "\n",
    "for i,j in points:\n",
    "    if i>0 and j>0:\n",
    "        count_first_quad +=1\n",
    "    elif i>0 and j<0:\n",
    "        count_fourth_quad +=1\n",
    "    elif i<0 and j>0:\n",
    "        count_second_quad +=1\n",
    "    elif i<0 and j<0:\n",
    "        count_third_quad +=1\n",
    "    else:\n",
    "        count_axes +=1\n",
    "print(\"count of no quad coordinates falling on 1st quad: \",count_first_quad)\n",
    "print(\"count of no quad coordinates falling on 2nd quad: \",count_second_quad)\n",
    "print(\"count of no quad coordinates falling on 3rd quad: \",count_third_quad)\n",
    "print(\"count of no quad coordinates falling on 4th quad: \",count_fourth_quad)\n",
    "print(\"Total points falling on axes(2nd method): \",count_axes)\n",
    "        \n",
    "#print(parse_y)\n",
    "print(points)"
   ]
  },
  {
   "cell_type": "markdown",
   "metadata": {},
   "source": [
    "#### 3. Find the point closest to the center. Calculate its distance to the center. \n",
    "Take into account that there might be more than one point at the minimum distance to the center.\n",
    "\n",
    "**Hint**: Use the Euclidean distance. You can find more information about it [here](https://en.wikipedia.org/wiki/Euclidean_distance).  \n",
    "**Hint**: Defining a function that calculates the distance to the center can help."
   ]
  },
  {
   "cell_type": "code",
   "execution_count": 145,
   "metadata": {},
   "outputs": [
    {
     "name": "stdout",
     "output_type": "stream",
     "text": [
      "[6.4031242374328485, 2.0, 8.06225774829855, 3.1622776601683795, 3.605551275463989, 6.4031242374328485, 3.605551275463989, 8.602325267042627, 8.602325267042627, 2.8284271247461903, 6.4031242374328485, 2.0, 8.06225774829855, 3.1622776601683795, 3.605551275463989, 6.4031242374328485, 3.605551275463989, 8.602325267042627, 8.602325267042627, 2.8284271247461903, 12.727922061357855, 12.041594578792296]\n",
      "  \n",
      "minimum distance or closest to the center is   2.0\n"
     ]
    }
   ],
   "source": [
    "#print(parse_x)\n",
    "#print(parse_y)\n",
    "#euclidean distance = sqrt(sqr(p1-q1)+sqr(p2-q2)+...)\n",
    "from math import sqrt\n",
    "distance= []\n",
    "for i,j in parse_xy:\n",
    "    distance_to_origin_x = ((i-0)**2)\n",
    "    distance_to_origin_y = ((j-0)**2)\n",
    "    sum_dis_or_xy = distance_to_origin_x + distance_to_origin_y\n",
    "    distance_i = sqrt(sum_dis_or_xy)\n",
    "    distance.append(distance_i)\n",
    "\n",
    "print(distance)\n",
    "print(\"  \")\n",
    "min_distance = min(distance)\n",
    "print(\"minimum distance or closest to the center is  \",min_distance)\n",
    "                          "
   ]
  },
  {
   "cell_type": "code",
   "execution_count": 147,
   "metadata": {},
   "outputs": [
    {
     "name": "stdout",
     "output_type": "stream",
     "text": [
      "Coordinates that are closest to origin are:   (0, 2)   and    (0, -2)\n"
     ]
    }
   ],
   "source": [
    "#the corresponding coordinates from distance list to parse_xy or points list are points[1] and points[11]\n",
    "print(\"Coordinates that are closest to origin are:  \",points[1],\"  and   \",points[11])"
   ]
  },
  {
   "cell_type": "markdown",
   "metadata": {},
   "source": [
    "#### 4. If the archery target has a radius of 9, calculate the number of arrows that won't hit the target. \n",
    "**Hint**: Use the function created in step 3. "
   ]
  },
  {
   "cell_type": "code",
   "execution_count": 151,
   "metadata": {},
   "outputs": [
    {
     "name": "stdout",
     "output_type": "stream",
     "text": [
      "Number of arrows that will miss the target if the radius is 9 are:   2\n"
     ]
    }
   ],
   "source": [
    "#over_9_radis_miss = []\n",
    "count = 0\n",
    "for i in distance:\n",
    "    if i >9:\n",
    "        count+=1\n",
    "print(\"Number of arrows that will miss the target if the radius is 9 are:  \",count)\n",
    "        "
   ]
  },
  {
   "cell_type": "code",
   "execution_count": null,
   "metadata": {},
   "outputs": [],
   "source": []
  }
 ],
 "metadata": {
  "kernelspec": {
   "display_name": "Python 3",
   "language": "python",
   "name": "python3"
  },
  "language_info": {
   "codemirror_mode": {
    "name": "ipython",
    "version": 3
   },
   "file_extension": ".py",
   "mimetype": "text/x-python",
   "name": "python",
   "nbconvert_exporter": "python",
   "pygments_lexer": "ipython3",
   "version": "3.9.2"
  }
 },
 "nbformat": 4,
 "nbformat_minor": 2
}
