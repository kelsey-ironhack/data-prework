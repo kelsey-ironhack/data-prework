{
 "cells": [
  {
   "cell_type": "markdown",
   "metadata": {},
   "source": [
    "<img src=\"https://bit.ly/2VnXWr2\" width=\"100\" align=\"left\"/>"
   ]
  },
  {
   "cell_type": "markdown",
   "metadata": {},
   "source": [
    "# Robin Hood\n",
    "Robin Hood has entered a competition to win the archery contest in Sherwood. With his bow and arrows, he needs to shoot on a target and try to hit as close as possible to the center.\n",
    "\n",
    "![](images/arrows.jpg)\n",
    "\n",
    "## Context\n",
    "In this challenge, the landing position of arrows shot by archers in the competition will be represented using 2-dimensional coordinates. \n",
    "\n",
    "In the 2-dimensional space, a point can be defined by a pair of values that correspond to the horizontal coordinate (x) and the vertical coordinate (y). For example, in our case, an arrow that hits the center of the archery target will land in position (0, 0) on the coordinate axes. \n",
    "\n",
    "The space can be divided into 4 zones (quadrants): Q1, Q2, Q3, Q4. If a point is in Q1, both its x coordinate and y coordinate are positive. Any point with a null x or y coordinate is considered to not belong to any quadrant. \n",
    "\n",
    "If you want to know more about the cartesian coordinate system, you can check this [link](https://en.wikipedia.org/wiki/Cartesian_coordinate_system). \n",
    "\n",
    "## Tools\n",
    "You don't necessarily need to use all the tools. Maybe you opt to use some of them or completely different ones, they are given to help you shape the exercise. Programming exercises can be solved in many different ways.\n",
    "* Data structures: **lists, sets, tuples**\n",
    "* Conditional statements: **if-elif-else**\n",
    "* Loop: **while/for**\n",
    "* Minimum (optional sorting)\n",
    "\n",
    "## Tasks\n",
    "Robin Hood has hit the following points:"
   ]
  },
  {
   "cell_type": "code",
   "execution_count": 6,
   "metadata": {},
   "outputs": [],
   "source": [
    "points = [(4, 5), (-0, 2), (4, 7), (1, -3), (3, -2), (4, 5), (3, 2), (5, 7), (-5, 7), (2, 2), (-4, 5), (0, -2),\n",
    "          (-4, 7), (-1, 3), (-3, 2), (-4, -5), (-3, 2), (5, 7), (5, 7), (2, 2), (9, 9), (-8, -9)]"
   ]
  },
  {
   "cell_type": "markdown",
   "metadata": {},
   "source": [
    "#### 1. Robin Hood is famous for hitting an arrow with another arrow. Find the coordinates of the points where an arrow hits another arrow."
   ]
  },
  {
   "cell_type": "code",
   "execution_count": 7,
   "metadata": {},
   "outputs": [
    {
     "name": "stdout",
     "output_type": "stream",
     "text": [
      "The coordinates of the points where an arrow hits another were the next 4 : [(5, 7), (4, 5), (2, 2), (-3, 2)] and were hit [3, 2, 2, 2] times, respectively.\n"
     ]
    }
   ],
   "source": [
    "import operator\n",
    "\n",
    "def counting(points):\n",
    "    return {i:points.count(i) for i in points}\n",
    "\n",
    "result = counting(points) \n",
    "result_sort = sorted(result.items(),key = operator.itemgetter(1), reverse = True)\n",
    "list_arrowX2 = []\n",
    "list_arrowXnumber = []\n",
    "num_shots = len(points)\n",
    "\n",
    "for w in range(len(result_sort)):\n",
    "    if (result_sort[w][1])>1:\n",
    "        list_arrowX2.append(result_sort[w][0])\n",
    "        list_arrowXnumber.append(result_sort[w][1])\n",
    "\n",
    "print('The coordinates of the points where an arrow hits another were the next',len(list_arrowX2),':',str(list_arrowX2),'and were hit', str(list_arrowXnumber),'times, respectively.')"
   ]
  },
  {
   "cell_type": "markdown",
   "metadata": {},
   "source": [
    "#### 2. Calculate how many arrows have fallen in each quadrant. \n",
    "**Note**: the arrows that fall in the axis (x=0 or y=0) don't belong to any quadrant."
   ]
  },
  {
   "cell_type": "code",
   "execution_count": 8,
   "metadata": {},
   "outputs": [
    {
     "name": "stdout",
     "output_type": "stream",
     "text": [
      "The 22 shots had fallen in the next quadrants, Q1: 10 , Q2: 8 , Q3: 2 and Q4: 2 .\n",
      "There weren't shots in the center\n"
     ]
    }
   ],
   "source": [
    "center = []\n",
    "Q1 = []\n",
    "Q2 = []\n",
    "Q3 = []\n",
    "Q4 = []\n",
    "\n",
    "for z in range(len(points)):\n",
    "    if (points[z][0]) == 0 and (points[z][1]) == 0:\n",
    "        center.append(points[z])\n",
    "    elif((points[z][0]) > 0 and (points[z][1]) > 0):\n",
    "        Q1.append(points[z])\n",
    "    elif(points[z][0]) < 0 and (points[z][1]) < 0:\n",
    "        Q3.append(points[z])\n",
    "    elif(points[z][0]) > 0 and (points[z][1]) < 0:\n",
    "        Q4.append(points[z])\n",
    "    else:\n",
    "        Q2.append(points[z])\n",
    "\n",
    "print('The', len(points), 'shots had fallen in the next quadrants, Q1:', len(Q1),', Q2:',len(Q2),', Q3:',len(Q3), 'and Q4:',len(Q4),'.')\n",
    "if len(center) == 0:\n",
    "    print(\"There weren't shots in the center\")\n",
    "else:\n",
    "    print(\"There were\",len(center),\" shots in the center.\")"
   ]
  },
  {
   "cell_type": "markdown",
   "metadata": {},
   "source": [
    "#### 3. Find the point closest to the center. Calculate its distance to the center. \n",
    "Take into account that there might be more than one point at the minimum distance to the center.\n",
    "\n",
    "**Hint**: Use the Euclidean distance. You can find more information about it [here](https://en.wikipedia.org/wiki/Euclidean_distance).  \n",
    "**Hint**: Defining a function that calculates the distance to the center can help."
   ]
  },
  {
   "cell_type": "code",
   "execution_count": 9,
   "metadata": {},
   "outputs": [
    {
     "name": "stdout",
     "output_type": "stream",
     "text": [
      "17\n",
      "The closest distance to the center was 2.0  and it repeats 2 times.\n"
     ]
    }
   ],
   "source": [
    "center_2 = [0,0]\n",
    "x1 = []\n",
    "y1 = []\n",
    "x2 = []\n",
    "y2 = []\n",
    "distance_center = []\n",
    "\n",
    "for y in range(len(points)):\n",
    "        x1.append(points[y][0])\n",
    "        y1.append(points[y][1])\n",
    "        x2.append(center_2[0])\n",
    "        y2.append(center_2[1])\n",
    "\n",
    "for z in range(len(points)):\n",
    "        distance_center.append(((x2[z]-x1[z])**2 + (y2[z]-y1[z])**2)**.5)\n",
    "                \n",
    "d = dict(zip(points,distance_center))\n",
    "print(len(d))\n",
    "d_sort = sorted(d.items(),key=operator.itemgetter(1), reverse=False)\n",
    "list_d2 = []\n",
    "list_d2distance = []\n",
    "num_shots = len(points)\n",
    "\n",
    "for c in range(len(d_sort)):\n",
    "    if (d_sort[c][1]) > 1:\n",
    "        list_d2.append(d_sort[c][0])\n",
    "        list_d2distance.append(d_sort[c][1])\n",
    "\n",
    "min_repeat = 0\n",
    "for f in range(len(d_sort)):\n",
    "    if (list_d2distance[f]) == min(list_d2distance):\n",
    "        min_repeat += 1\n",
    "\n",
    "print('The closest distance to the center was',min(list_d2distance),' and it repeats',min_repeat,'times.')"
   ]
  },
  {
   "cell_type": "markdown",
   "metadata": {},
   "source": [
    "#### 4. If the archery target has a radius of 9, calculate the number of arrows that won't hit the target. \n",
    "**Hint**: Use the function created in step 3. "
   ]
  },
  {
   "cell_type": "code",
   "execution_count": 11,
   "metadata": {},
   "outputs": [
    {
     "name": "stdout",
     "output_type": "stream",
     "text": [
      "Robin Hood hit in the target 20 times of  22 shots\n"
     ]
    }
   ],
   "source": [
    "out9 = 0\n",
    "in9 = 0\n",
    "for k in range(len(distance_center)):\n",
    "    if(distance_center[k]) > 9:\n",
    "        out9 += 1\n",
    "    else:\n",
    "        in9 += 1\n",
    "\n",
    "print(\"Robin Hood hit in the target\", in9,\"times of \", len(distance_center),\"shots\")"
   ]
  },
  {
   "cell_type": "code",
   "execution_count": null,
   "metadata": {},
   "outputs": [],
   "source": []
  }
 ],
 "metadata": {
  "kernelspec": {
   "display_name": "Python 3",
   "language": "python",
   "name": "python3"
  },
  "language_info": {
   "codemirror_mode": {
    "name": "ipython",
    "version": 3
   },
   "file_extension": ".py",
   "mimetype": "text/x-python",
   "name": "python",
   "nbconvert_exporter": "python",
   "pygments_lexer": "ipython3",
   "version": "3.7.6"
  }
 },
 "nbformat": 4,
 "nbformat_minor": 2
}
