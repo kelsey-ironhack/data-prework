{
 "cells": [
  {
   "cell_type": "markdown",
   "metadata": {},
   "source": [
    "<img src=\"https://bit.ly/2VnXWr2\" width=\"100\" align=\"left\"/>"
   ]
  },
  {
   "cell_type": "markdown",
   "metadata": {},
   "source": [
    "# Robin Hood\n",
    "Robin Hood has entered a competition to win the archery contest in Sherwood. With his bow and arrows, he needs to shoot on a target and try to hit as close as possible to the center.\n",
    "\n",
    "![](images/arrows.jpg)\n",
    "\n",
    "## Context\n",
    "In this challenge, the landing position of arrows shot by archers in the competition will be represented using 2-dimensional coordinates. \n",
    "\n",
    "In the 2-dimensional space, a point can be defined by a pair of values that correspond to the horizontal coordinate (x) and the vertical coordinate (y). For example, in our case, an arrow that hits the center of the archery target will land in position (0, 0) on the coordinate axes. \n",
    "\n",
    "The space can be divided into 4 zones (quadrants): Q1, Q2, Q3, Q4. If a point is in Q1, both its x coordinate and y coordinate are positive. Any point with a null x or y coordinate is considered to not belong to any quadrant. \n",
    "\n",
    "If you want to know more about the cartesian coordinate system, you can check this [link](https://en.wikipedia.org/wiki/Cartesian_coordinate_system). \n",
    "\n",
    "## Tools\n",
    "You don't necessarily need to use all the tools. Maybe you opt to use some of them or completely different ones, they are given to help you shape the exercise. Programming exercises can be solved in many different ways.\n",
    "* Data structures: **lists, sets, tuples**\n",
    "* Conditional statements: **if-elif-else**\n",
    "* Loop: **while/for**\n",
    "* Minimum (optional sorting)\n",
    "\n",
    "## Tasks\n",
    "Robin Hood has hit the following points:"
   ]
  },
  {
   "cell_type": "code",
   "execution_count": 2,
   "metadata": {},
   "outputs": [],
   "source": [
    "points = [(4, 5), (-0, 2), (4, 7), (1, -3), (3, -2), (4, 5), (3, 2), (5, 7), (-5, 7), (2, 2), (-4, 5), (0, -2),\n",
    "          (-4, 7), (-1, 3), (-3, 2), (-4, -5), (-3, 2), (5, 7), (5, 7), (2, 2), (9, 9), (-8, -9)]"
   ]
  },
  {
   "cell_type": "markdown",
   "metadata": {},
   "source": [
    "#### 1. Robin Hood is famous for hitting an arrow with another arrow. Find the coordinates of the points where an arrow hits another arrow."
   ]
  },
  {
   "cell_type": "code",
   "execution_count": 17,
   "metadata": {},
   "outputs": [
    {
     "name": "stdout",
     "output_type": "stream",
     "text": [
      "Wow, Robin, you got these shots perfectly: [(-3, 2), (4, 5), (5, 7), (2, 2)]\n"
     ]
    }
   ],
   "source": [
    "robin_shot = list(set([i for i in points\n",
    "            if points.count(i) > 1])) \n",
    "print (\"Wow, Robin, you got these shots perfectly:\", robin_shot)"
   ]
  },
  {
   "cell_type": "markdown",
   "metadata": {},
   "source": [
    "#### 2. Calculate how many arrows have fallen in each quadrant. \n",
    "**Note**: the arrows that fall in the axis (x=0 or y=0) don't belong to any quadrant."
   ]
  },
  {
   "cell_type": "code",
   "execution_count": 16,
   "metadata": {},
   "outputs": [
    {
     "name": "stdout",
     "output_type": "stream",
     "text": [
      "There are 10 values in Q1.\n",
      "There are 6 values in Q2.\n",
      "There are 2 values in Q3.\n",
      "There are 2 values in Q4.\n",
      "2 values fall on either x or y axies, and thus don't belong to a quadrant\n"
     ]
    }
   ],
   "source": [
    "Q1 = 0\n",
    "Q2 = 0 \n",
    "Q3 = 0\n",
    "Q4 = 0\n",
    "none = 0\n",
    "\n",
    "for i in range(0, len(points)):\n",
    "    if (points [i][0] > 0) & (points [i][1] > 0):\n",
    "        Q1 += 1\n",
    "    elif (points [i][0] < 0) & (points [i][1] > 0):\n",
    "        Q2 += 1\n",
    "    elif (points [i][0] < 0) & (points [i][1] < 0):\n",
    "        Q3 += 1\n",
    "    elif (points [i][0] > 0) & (points [i][1] < 0):\n",
    "        Q4 += 1\n",
    "    else:\n",
    "        none += 1\n",
    "        \n",
    "print (\"There are\", Q1, \"values in Q1.\")\n",
    "print (\"There are\", Q2, \"values in Q2.\")\n",
    "print (\"There are\", Q3, \"values in Q3.\")\n",
    "print (\"There are\", Q4, \"values in Q4.\")\n",
    "print (none, \"values fall on either x or y axies, and thus don't belong to a quadrant\")\n",
    "        \n"
   ]
  },
  {
   "cell_type": "markdown",
   "metadata": {},
   "source": [
    "#### 3. Find the point closest to the center. Calculate its distance to the center. \n",
    "Take into account that there might be more than one point at the minimum distance to the center.\n",
    "\n",
    "**Hint**: Use the Euclidean distance. You can find more information about it [here](https://en.wikipedia.org/wiki/Euclidean_distance).  \n",
    "**Hint**: Defining a function that calculates the distance to the center can help."
   ]
  },
  {
   "cell_type": "code",
   "execution_count": 15,
   "metadata": {},
   "outputs": [
    {
     "name": "stdout",
     "output_type": "stream",
     "text": [
      "[6.4031242374328485, 2.0, 8.06225774829855, 3.1622776601683795, 3.605551275463989, 6.4031242374328485, 3.605551275463989, 8.602325267042627, 8.602325267042627, 2.8284271247461903, 6.4031242374328485, 2.0, 8.06225774829855, 3.1622776601683795, 3.605551275463989, 6.4031242374328485, 3.605551275463989, 8.602325267042627, 8.602325267042627, 2.8284271247461903, 12.727922061357855, 12.041594578792296]\n",
      "The minimum value is 2.0 and it is present 2 times\n"
     ]
    }
   ],
   "source": [
    "import math\n",
    "distances = []\n",
    "for i in range(0, len(points)):\n",
    "    dis = math.sqrt(((points [i][0])**2)+((points [i][1])**2))\n",
    "    distances.append(dis)\n",
    "print(distances)\n",
    "\n",
    "minimum = min(distances)\n",
    "indices = [i for i, v in enumerate(distances) if v == minimum]\n",
    "number_of_minimum = len(indices)\n",
    "print (\"The minimum value is\", minimum, \"and it is present\", number_of_minimum,\"times\")\n",
    "    \n",
    "    \n",
    "    "
   ]
  },
  {
   "cell_type": "markdown",
   "metadata": {},
   "source": [
    "#### 4. If the archery target has a radius of 9, calculate the number of arrows that won't hit the target. \n",
    "**Hint**: Use the function created in step 3. "
   ]
  },
  {
   "cell_type": "code",
   "execution_count": 19,
   "metadata": {},
   "outputs": [
    {
     "name": "stdout",
     "output_type": "stream",
     "text": [
      "2 shots were missed. And they hit exactly at these distances: [12.727922061357855, 12.041594578792296]\n"
     ]
    }
   ],
   "source": [
    "import math\n",
    "distances = []\n",
    "out_of_radius = []\n",
    "for i in range(0, len(points)):\n",
    "    dis = math.sqrt(((points [i][0])**2)+((points [i][1])**2))\n",
    "    distances.append(dis)\n",
    "\n",
    "for i in distances:\n",
    "    if i > 9:\n",
    "        out_of_radius.append(i)\n",
    "        \n",
    "print (len(out_of_radius),\"shots were missed. And they hit exactly at these distances:\", out_of_radius)\n",
    "        \n",
    "        "
   ]
  },
  {
   "cell_type": "code",
   "execution_count": null,
   "metadata": {},
   "outputs": [],
   "source": []
  }
 ],
 "metadata": {
  "kernelspec": {
   "display_name": "Python 3",
   "language": "python",
   "name": "python3"
  },
  "language_info": {
   "codemirror_mode": {
    "name": "ipython",
    "version": 3
   },
   "file_extension": ".py",
   "mimetype": "text/x-python",
   "name": "python",
   "nbconvert_exporter": "python",
   "pygments_lexer": "ipython3",
   "version": "3.8.5"
  }
 },
 "nbformat": 4,
 "nbformat_minor": 2
}
