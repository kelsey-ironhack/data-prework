{
 "cells": [
  {
   "cell_type": "markdown",
   "metadata": {},
   "source": [
    "<img src=\"https://bit.ly/2VnXWr2\" width=\"100\" align=\"left\"/>"
   ]
  },
  {
   "cell_type": "markdown",
   "metadata": {},
   "source": [
    "# Robin Hood\n",
    "Robin Hood has entered a competition to win the archery contest in Sherwood. With his bow and arrows, he needs to shoot on a target and try to hit as close as possible to the center.\n",
    "\n",
    "![](images/arrows.jpg)\n",
    "\n",
    "## Context\n",
    "In this challenge, the landing position of arrows shot by archers in the competition will be represented using 2-dimensional coordinates. \n",
    "\n",
    "In the 2-dimensional space, a point can be defined by a pair of values that correspond to the horizontal coordinate (x) and the vertical coordinate (y). For example, in our case, an arrow that hits the center of the archery target will land in position (0, 0) on the coordinate axes. \n",
    "\n",
    "The space can be divided into 4 zones (quadrants): Q1, Q2, Q3, Q4. If a point is in Q1, both its x coordinate and y coordinate are positive. Any point with a null x or y coordinate is considered to not belong to any quadrant. \n",
    "\n",
    "If you want to know more about the cartesian coordinate system, you can check this [link](https://en.wikipedia.org/wiki/Cartesian_coordinate_system). \n",
    "\n",
    "## Tools\n",
    "You don't necessarily need to use all the tools. Maybe you opt to use some of them or completely different ones, they are given to help you shape the exercise. Programming exercises can be solved in many different ways.\n",
    "* Data structures: **lists, sets, tuples**\n",
    "* Conditional statements: **if-elif-else**\n",
    "* Loop: **while/for**\n",
    "* Minimum (optional sorting)\n",
    "\n",
    "## Tasks\n",
    "Robin Hood has hit the following points:"
   ]
  },
  {
   "cell_type": "code",
   "execution_count": 1,
   "metadata": {},
   "outputs": [],
   "source": [
    "points = [(4, 5), (-0, 2), (4, 7), (1, -3), (3, -2), (4, 5), (3, 2), (5, 7), (-5, 7), (2, 2), (-4, 5), (0, -2),\n",
    "          (-4, 7), (-1, 3), (-3, 2), (-4, -5), (-3, 2), (5, 7), (5, 7), (2, 2), (9, 9), (-8, -9)]"
   ]
  },
  {
   "cell_type": "markdown",
   "metadata": {},
   "source": [
    "#### 1. Robin Hood is famous for hitting an arrow with another arrow. Find the coordinates of the points where an arrow hits another arrow."
   ]
  },
  {
   "cell_type": "code",
   "execution_count": 7,
   "metadata": {},
   "outputs": [
    {
     "name": "stdout",
     "output_type": "stream",
     "text": [
      "All coordinates of where an arrow hits another arrow are: [(4, 5), (5, 7), (-3, 2), (2, 2)]\n"
     ]
    }
   ],
   "source": [
    "dupes = list(set([i for i in points if points.count(i)>1]))\n",
    "\n",
    "print(\"All coordinates of where an arrow hits another arrow are:\", dupes)\n",
    "          "
   ]
  },
  {
   "cell_type": "markdown",
   "metadata": {},
   "source": [
    "#### 2. Calculate how many arrows have fallen in each quadrant. \n",
    "**Note**: the arrows that fall in the axis (x=0 or y=0) don't belong to any quadrant."
   ]
  },
  {
   "cell_type": "code",
   "execution_count": 118,
   "metadata": {},
   "outputs": [
    {
     "name": "stdout",
     "output_type": "stream",
     "text": [
      "Arrow in no Quadrant: 2 \n",
      "Arrows in the following Quadrants:\n",
      "Q1: 10 \n",
      "Q2: 6 \n",
      "Q3: 2 \n",
      "Q4: 2\n"
     ]
    }
   ],
   "source": [
    "Q1 = 0\n",
    "Q2 = 0\n",
    "Q3 = 0\n",
    "Q4 = 0\n",
    "Q0 = 0\n",
    "n = 0\n",
    "\n",
    "while n<len(points):\n",
    "    eachhit = list(points[n])\n",
    "    if 0 in eachhit:\n",
    "        Q0 +=1\n",
    "    elif eachhit[0]>0 and eachhit[1]>0:\n",
    "        Q1 +=1\n",
    "    elif eachhit[0]<0 and eachhit[1]>0:\n",
    "        Q2 +=1\n",
    "    elif eachhit[0]<0 and eachhit[1]<0:\n",
    "        Q3 +=1\n",
    "    else:\n",
    "        Q4 +=1\n",
    "    n+=1\n",
    "    \n",
    "print(\"Arrow in no Quadrant:\", Q0, \"\\nArrows in the following Quadrants:\\nQ1:\", Q1,\"\\nQ2:\", Q2,\"\\nQ3:\", Q3,\"\\nQ4:\", Q4)"
   ]
  },
  {
   "cell_type": "markdown",
   "metadata": {},
   "source": [
    "#### 3. Find the point closest to the center. Calculate its distance to the center. \n",
    "Take into account that there might be more than one point at the minimum distance to the center.\n",
    "\n",
    "**Hint**: Use the Euclidean distance. You can find more information about it [here](https://en.wikipedia.org/wiki/Euclidean_distance).  \n",
    "**Hint**: Defining a function that calculates the distance to the center can help."
   ]
  },
  {
   "cell_type": "code",
   "execution_count": 89,
   "metadata": {},
   "outputs": [
    {
     "name": "stdout",
     "output_type": "stream",
     "text": [
      "The minimum Euclidean distance to the center is: 2.0\n",
      "Amount of same Euclidean minimum distance points to the center: 2\n"
     ]
    }
   ],
   "source": [
    "from scipy.spatial import distance\n",
    "import numpy \n",
    "\n",
    "center = [(0,0)]\n",
    "\n",
    "arr = (numpy.array(distance.cdist(center, points, \"euclidean\")))\n",
    "\n",
    "print (\"The minimum Euclidean distance to the center is:\",(arr.min()))\n",
    "print (\"Amount of same Euclidean minimum distance points to the center:\", numpy.count_nonzero(arr == (arr.min())))"
   ]
  },
  {
   "cell_type": "markdown",
   "metadata": {},
   "source": [
    "#### 4. If the archery target has a radius of 9, calculate the number of arrows that won't hit the target. \n",
    "**Hint**: Use the function created in step 3. "
   ]
  },
  {
   "cell_type": "code",
   "execution_count": 116,
   "metadata": {},
   "outputs": [
    {
     "name": "stdout",
     "output_type": "stream",
     "text": [
      "These are all distances from the center in a list: [6.4, 2.0, 8.06, 3.16, 3.61, 6.4, 3.61, 8.6, 8.6, 2.83, 6.4, 2.0, 8.06, 3.16, 3.61, 6.4, 3.61, 8.6, 8.6, 2.83, 12.73, 12.04]\n",
      "Amount of arrows not hitting target: 2\n"
     ]
    }
   ],
   "source": [
    "print (\"These are all distances from the center in a list:\", (numpy.around((arr), decimals=2).ravel().tolist()))\n",
    "print (\"Amount of arrows not hitting target:\", numpy.count_nonzero(arr >= 9))"
   ]
  },
  {
   "cell_type": "code",
   "execution_count": null,
   "metadata": {},
   "outputs": [],
   "source": []
  }
 ],
 "metadata": {
  "kernelspec": {
   "display_name": "Python 3",
   "language": "python",
   "name": "python3"
  },
  "language_info": {
   "codemirror_mode": {
    "name": "ipython",
    "version": 3
   },
   "file_extension": ".py",
   "mimetype": "text/x-python",
   "name": "python",
   "nbconvert_exporter": "python",
   "pygments_lexer": "ipython3",
   "version": "3.7.4"
  }
 },
 "nbformat": 4,
 "nbformat_minor": 2
}
