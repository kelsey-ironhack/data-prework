{
 "cells": [
  {
   "cell_type": "code",
   "execution_count": 304,
   "metadata": {},
   "outputs": [],
   "source": [
    "points = [(4, 5), (-0, 2), (4, 7), (1, -3), (3, -2), (4, 5), (3, 2), (5, 7), (-5, 7), (2, 2), (-4, 5), (0, -2), (-4, 7), (-1, 3), (-3, 2), (-4, -5), (-3, 2), (5, 7), (5, 7), (2, 2), (9, 9), (-8, -9)]"
   ]
  },
  {
   "cell_type": "code",
   "execution_count": 305,
   "metadata": {},
   "outputs": [
    {
     "data": {
      "text/plain": [
       "22"
      ]
     },
     "execution_count": 305,
     "metadata": {},
     "output_type": "execute_result"
    }
   ],
   "source": [
    "len(points)"
   ]
  },
  {
   "cell_type": "code",
   "execution_count": 306,
   "metadata": {},
   "outputs": [
    {
     "name": "stdout",
     "output_type": "stream",
     "text": [
      "[(-8, -9), (-5, 7), (-4, -5), (-4, 5), (-4, 7), (-3, 2), (-3, 2), (-1, 3), (0, -2), (0, 2), (1, -3), (2, 2), (2, 2), (3, -2), (3, 2), (4, 5), (4, 5), (4, 7), (5, 7), (5, 7), (5, 7), (9, 9)]\n"
     ]
    }
   ],
   "source": [
    "points.sort()\n",
    "print(points)"
   ]
  },
  {
   "cell_type": "code",
   "execution_count": 307,
   "metadata": {},
   "outputs": [
    {
     "name": "stdout",
     "output_type": "stream",
     "text": [
      "[(-4, 5), (3, 2), (4, 7), (-1, 3), (2, 2), (4, 5), (1, -3), (5, 7), (9, 9), (3, -2), (-5, 7), (-3, 2), (-4, -5), (-8, -9), (0, -2), (-4, 7), (0, 2)]\n"
     ]
    }
   ],
   "source": [
    "unique_points = list(set(points))\n",
    "print(unique_points)"
   ]
  },
  {
   "cell_type": "code",
   "execution_count": 308,
   "metadata": {},
   "outputs": [],
   "source": [
    "same_coord = [(4,5), (5,7), (2,2), (-3,2)]"
   ]
  },
  {
   "cell_type": "code",
   "execution_count": 309,
   "metadata": {},
   "outputs": [],
   "source": [
    "Q1 = 0\n",
    "Q2 = 0\n",
    "Q3 = 0\n",
    "Q4 = 0\n",
    "any_quadrant = 0"
   ]
  },
  {
   "cell_type": "code",
   "execution_count": 310,
   "metadata": {},
   "outputs": [],
   "source": [
    "for (x,y) in points:\n",
    "    if (x > 0) & (y > 0):\n",
    "        Q1 +=1\n",
    "    elif (x > 0) & (y < 0):\n",
    "        Q4 +=1\n",
    "    elif (x < 0) & (y > 0):\n",
    "        Q2 +=1\n",
    "    elif (x < 0) & (y > 0):\n",
    "        Q3 +=1\n",
    "    else:\n",
    "        any_quadrant +=1"
   ]
  },
  {
   "cell_type": "code",
   "execution_count": 311,
   "metadata": {},
   "outputs": [
    {
     "name": "stdout",
     "output_type": "stream",
     "text": [
      "There are 10 arrows in Q1.\n",
      "There are 6 arrows in Q2.\n",
      "There are 0 arrows in Q3.\n",
      "There are 2 arrows in Q4.\n",
      "There are 4 arrows that do not belong to any quadrant.\n"
     ]
    }
   ],
   "source": [
    "print(\"There are\",Q1,\"arrows in Q1.\")\n",
    "print(\"There are\",Q2,\"arrows in Q2.\")\n",
    "print(\"There are\",Q3,\"arrows in Q3.\")\n",
    "print(\"There are\",Q4,\"arrows in Q4.\")\n",
    "print(\"There are\",any_quadrant,\"arrows that do not belong to any quadrant.\")"
   ]
  },
  {
   "cell_type": "code",
   "execution_count": 451,
   "metadata": {},
   "outputs": [],
   "source": [
    "import math"
   ]
  },
  {
   "cell_type": "code",
   "execution_count": 452,
   "metadata": {},
   "outputs": [],
   "source": [
    "distances = []\n",
    "distancetocenter = 0\n",
    "dict = {}"
   ]
  },
  {
   "cell_type": "code",
   "execution_count": 453,
   "metadata": {},
   "outputs": [],
   "source": [
    "for (x,y) in points:\n",
    "    distancetocenter = int(math.sqrt(((0-x)**2)+((0-y)**2)))\n",
    "    distances.append(distancetocenter)\n",
    "    dict.update({(x,y) : distancetocenter})"
   ]
  },
  {
   "cell_type": "code",
   "execution_count": 455,
   "metadata": {},
   "outputs": [
    {
     "name": "stdout",
     "output_type": "stream",
     "text": [
      "[12, 8, 6, 6, 8, 3, 3, 3, 2, 2, 3, 2, 2, 3, 3, 6, 6, 8, 8, 8, 8, 12]\n"
     ]
    }
   ],
   "source": [
    "print(distances)"
   ]
  },
  {
   "cell_type": "code",
   "execution_count": 456,
   "metadata": {},
   "outputs": [
    {
     "name": "stdout",
     "output_type": "stream",
     "text": [
      "{(-8, -9): 12, (-5, 7): 8, (-4, -5): 6, (-4, 5): 6, (-4, 7): 8, (-3, 2): 3, (-1, 3): 3, (0, -2): 2, (0, 2): 2, (1, -3): 3, (2, 2): 2, (3, -2): 3, (3, 2): 3, (4, 5): 6, (4, 7): 8, (5, 7): 8, (9, 9): 12}\n"
     ]
    }
   ],
   "source": [
    "print(dict)"
   ]
  },
  {
   "cell_type": "code",
   "execution_count": 482,
   "metadata": {},
   "outputs": [
    {
     "name": "stdout",
     "output_type": "stream",
     "text": [
      "Minimum distance to the center is 2\n"
     ]
    }
   ],
   "source": [
    "min(distances)\n",
    "print(\"Minimum distance to the center is\",min(distances))"
   ]
  },
  {
   "cell_type": "code",
   "execution_count": 483,
   "metadata": {},
   "outputs": [
    {
     "name": "stdout",
     "output_type": "stream",
     "text": [
      "Point (0, -2) is one of the closest to the center.\n",
      "Point (0, 2) is one of the closest to the center.\n",
      "Point (2, 2) is one of the closest to the center.\n"
     ]
    }
   ],
   "source": [
    "for (x,y), distancetocenter in dict.items():\n",
    "    if distancetocenter == 2:\n",
    "        print(\"Point\",(x,y),\"is one of the closest to the center.\")"
   ]
  },
  {
   "cell_type": "code",
   "execution_count": 484,
   "metadata": {},
   "outputs": [],
   "source": [
    "if distances == 2:\n",
    "    print(dict.keys())"
   ]
  },
  {
   "cell_type": "code",
   "execution_count": 485,
   "metadata": {},
   "outputs": [],
   "source": [
    "arrows_out = 0"
   ]
  },
  {
   "cell_type": "code",
   "execution_count": 486,
   "metadata": {},
   "outputs": [
    {
     "name": "stdout",
     "output_type": "stream",
     "text": [
      "There will be 2 arrows out.\n"
     ]
    }
   ],
   "source": [
    "for i in distances:\n",
    "    if i >= 9:\n",
    "        arrows_out += 1\n",
    "        \n",
    "print(\"There will be\",arrows_out,\"arrows out.\")"
   ]
  },
  {
   "cell_type": "code",
   "execution_count": null,
   "metadata": {},
   "outputs": [],
   "source": []
  }
 ],
 "metadata": {
  "kernelspec": {
   "display_name": "Python 3",
   "language": "python",
   "name": "python3"
  },
  "language_info": {
   "codemirror_mode": {
    "name": "ipython",
    "version": 3
   },
   "file_extension": ".py",
   "mimetype": "text/x-python",
   "name": "python",
   "nbconvert_exporter": "python",
   "pygments_lexer": "ipython3",
   "version": "3.7.6"
  }
 },
 "nbformat": 4,
 "nbformat_minor": 4
}
