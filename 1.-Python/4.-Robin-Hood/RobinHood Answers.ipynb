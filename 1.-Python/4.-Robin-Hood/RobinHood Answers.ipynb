{
 "cells": [
  {
   "cell_type": "code",
   "execution_count": 2,
   "metadata": {},
   "outputs": [],
   "source": [
    "points = [(4, 5), (-0, 2), (4, 7), (1, -3), (3, -2), (4, 5), (3, 2), (5, 7), (-5, 7), (2, 2), (-4, 5), (0, -2),\n",
    "          (-4, 7), (-1, 3), (-3, 2), (-4, -5), (-3, 2), (5, 7), (5, 7), (2, 2), (9, 9), (-8, -9)]"
   ]
  },
  {
   "cell_type": "code",
   "execution_count": 3,
   "metadata": {},
   "outputs": [
    {
     "data": {
      "text/plain": [
       "[(-8, -9),\n",
       " (-5, 7),\n",
       " (-4, -5),\n",
       " (-4, 5),\n",
       " (-4, 7),\n",
       " (-3, 2),\n",
       " (-3, 2),\n",
       " (-1, 3),\n",
       " (0, -2),\n",
       " (0, 2),\n",
       " (1, -3),\n",
       " (2, 2),\n",
       " (2, 2),\n",
       " (3, -2),\n",
       " (3, 2),\n",
       " (4, 5),\n",
       " (4, 5),\n",
       " (4, 7),\n",
       " (5, 7),\n",
       " (5, 7),\n",
       " (5, 7),\n",
       " (9, 9)]"
      ]
     },
     "execution_count": 3,
     "metadata": {},
     "output_type": "execute_result"
    }
   ],
   "source": [
    "#Find the coordinates of the points where an arrow hits another arrow \n",
    "\n",
    "points.sort()\n",
    "points\n",
    "\n",
    "#Coordinates of points where an arrow hits another arrow are: (-3,2), (2,2), (4,5) & (5,7)"
   ]
  },
  {
   "cell_type": "code",
   "execution_count": 7,
   "metadata": {},
   "outputs": [
    {
     "name": "stdout",
     "output_type": "stream",
     "text": [
      "Q3\n",
      "Q2\n",
      "Q3\n",
      "Q2\n",
      "Q2\n",
      "Q2\n",
      "Q2\n",
      "Q2\n",
      "Dont belong to any quadrant\n",
      "Dont belong to any quadrant\n",
      "Q4\n",
      "Q1\n",
      "Q1\n",
      "Q4\n",
      "Q1\n",
      "Q1\n",
      "Q1\n",
      "Q1\n",
      "Q1\n",
      "Q1\n",
      "Q1\n",
      "Q1\n"
     ]
    }
   ],
   "source": [
    "#Calculate how many arrows have fallen in each quadrant\n",
    "\n",
    "if points [0][0] & points [0][1] < 0:\n",
    "    print ('Q3')\n",
    "\n",
    "if (points [1][0] < 0) & (points [1][1] > 0):\n",
    "    print ('Q2')\n",
    "\n",
    "if (points [2][0] < 0) & (points [2][1] < 0):\n",
    "    print ('Q3')\n",
    "\n",
    "if (points [3][0] < 0) & (points [3][1] > 0):\n",
    "    print ('Q2') \n",
    "\n",
    "if (points [4][0] < 0) & (points [4][1] > 0):\n",
    "    print ('Q2') \n",
    "    \n",
    "if (points [5][0] < 0) & (points [5][1] > 0):\n",
    "    print ('Q2') \n",
    "\n",
    "if (points [6][0] < 0) & (points [6][1] > 0):\n",
    "    print ('Q2') \n",
    "    \n",
    "if (points [7][0] < 0) & (points [7][1] > 0):\n",
    "    print ('Q2') \n",
    "\n",
    "if (points [8][0] <= 0) & (points [8][1] < 0):\n",
    "    print ('Dont belong to any quadrant')\n",
    "\n",
    "if (points [9][0] <= 0) & (points [9][1] > 0):\n",
    "    print ('Dont belong to any quadrant')\n",
    "\n",
    "if (points [10][0] > 0) & (points [10][1] < 0):\n",
    "    print ('Q4')\n",
    "\n",
    "if (points [11][0] > 0) & (points [11][1] > 0):\n",
    "    print ('Q1')\n",
    "    \n",
    "if (points [12][0] > 0) & (points [12][1] > 0):\n",
    "    print ('Q1')\n",
    "\n",
    "if (points [13][0] > 0) & (points [13][1] < 0):\n",
    "    print ('Q4')\n",
    "\n",
    "if (points [14][0] > 0) & (points [14][1] > 0):\n",
    "    print ('Q1')\n",
    "\n",
    "if (points [15][0] > 0) & (points [15][1] > 0):\n",
    "    print ('Q1')\n",
    "\n",
    "if (points [16][0] > 0) & (points [16][1] > 0):\n",
    "    print ('Q1')\n",
    "\n",
    "if (points [17][0] > 0) & (points [17][1] > 0):\n",
    "    print ('Q1')\n",
    "\n",
    "if (points [18][0] > 0) & (points [18][1] > 0):\n",
    "    print ('Q1')\n",
    "\n",
    "if (points [19][0] > 0) & (points [19][1] > 0):\n",
    "    print ('Q1')\n",
    "\n",
    "if (points [20][0] > 0) & (points [20][1] > 0):\n",
    "    print ('Q1')\n",
    "    \n",
    "if (points [-1][0] > 0) & (points [-1][1] > 0):\n",
    "    print ('Q1')"
   ]
  },
  {
   "cell_type": "code",
   "execution_count": null,
   "metadata": {},
   "outputs": [],
   "source": [
    "#Points closest to the center are (0, -2) & (0, 2)"
   ]
  }
 ],
 "metadata": {
  "kernelspec": {
   "display_name": "Python 3",
   "language": "python",
   "name": "python3"
  },
  "language_info": {
   "codemirror_mode": {
    "name": "ipython",
    "version": 3
   },
   "file_extension": ".py",
   "mimetype": "text/x-python",
   "name": "python",
   "nbconvert_exporter": "python",
   "pygments_lexer": "ipython3",
   "version": "3.8.5"
  }
 },
 "nbformat": 4,
 "nbformat_minor": 4
}
