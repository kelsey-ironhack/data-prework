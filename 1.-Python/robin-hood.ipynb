{
 "cells": [
  {
   "cell_type": "markdown",
   "metadata": {},
   "source": [
    "<img src=\"https://bit.ly/2VnXWr2\" width=\"100\" align=\"left\"/>"
   ]
  },
  {
   "cell_type": "markdown",
   "metadata": {},
   "source": [
    "# Robin Hood\n",
    "Robin Hood has entered a competition to win the archery contest in Sherwood. With his bow and arrows, he needs to shoot on a target and try to hit as close as possible to the center.\n",
    "\n",
    "![](images/arrows.jpg)\n",
    "\n",
    "## Context\n",
    "In this challenge, the landing position of arrows shot by archers in the competition will be represented using 2-dimensional coordinates. \n",
    "\n",
    "In the 2-dimensional space, a point can be defined by a pair of values that correspond to the horizontal coordinate (x) and the vertical coordinate (y). For example, in our case, an arrow that hits the center of the archery target will land in position (0, 0) on the coordinate axes. \n",
    "\n",
    "The space can be divided into 4 zones (quadrants): Q1, Q2, Q3, Q4. If a point is in Q1, both its x coordinate and y coordinate are positive. Any point with a null x or y coordinate is considered to not belong to any quadrant. \n",
    "\n",
    "If you want to know more about the cartesian coordinate system, you can check this [link](https://en.wikipedia.org/wiki/Cartesian_coordinate_system). \n",
    "\n",
    "## Tools\n",
    "You don't necessarily need to use all the tools. Maybe you opt to use some of them or completely different ones, they are given to help you shape the exercise. Programming exercises can be solved in many different ways.\n",
    "* Data structures: **lists, sets, tuples**\n",
    "* Conditional statements: **if-elif-else**\n",
    "* Loop: **while/for**\n",
    "* Minimum (optional sorting)\n",
    "\n",
    "## Tasks\n",
    "Robin Hood has hit the following points:"
   ]
  },
  {
   "cell_type": "code",
   "execution_count": 2,
   "metadata": {},
   "outputs": [],
   "source": [
    "points = [(4, 5), (-0, 2), (4, 7), (1, -3), (3, -2), (4, 5), (3, 2), (5, 7), (-5, 7), (2, 2), (-4, 5), (0, -2),\n",
    "          (-4, 7), (-1, 3), (-3, 2), (-4, -5), (-3, 2), (5, 7), (5, 7), (2, 2), (9, 9), (-8, -9)]"
   ]
  },
  {
   "cell_type": "markdown",
   "metadata": {},
   "source": [
    "#### 1. Robin Hood is famous for hitting an arrow with another arrow. Find the coordinates of the points where an arrow hits another arrow."
   ]
  },
  {
   "cell_type": "code",
   "execution_count": 4,
   "metadata": {},
   "outputs": [
    {
     "name": "stdout",
     "output_type": "stream",
     "text": [
      "[(-3, 2), (4, 5), (5, 7), (2, 2)]\n"
     ]
    }
   ],
   "source": [
    "doubled = list(set([a for a in points if points.count(a) > 1]))\n",
    "print(doubled)"
   ]
  },
  {
   "cell_type": "markdown",
   "metadata": {},
   "source": [
    "#### 2. Calculate how many arrows have fallen in each quadrant. \n",
    "**Note**: the arrows that fall in the axis (x=0 or y=0) don't belong to any quadrant."
   ]
  },
  {
   "cell_type": "code",
   "execution_count": 5,
   "metadata": {},
   "outputs": [
    {
     "name": "stdout",
     "output_type": "stream",
     "text": [
      "lies in First quadrant\n",
      "doesn`t belong to any quadrant\n",
      "lies in First quadrant\n",
      "lies in Fourth quadrant\n",
      "lies in Fourth quadrant\n",
      "lies in First quadrant\n",
      "lies in First quadrant\n",
      "lies in First quadrant\n",
      "lies in Second quadrant\n",
      "lies in First quadrant\n",
      "lies in Second quadrant\n",
      "doesn`t belong to any quadrant\n",
      "lies in Second quadrant\n",
      "lies in Second quadrant\n",
      "lies in Second quadrant\n",
      "lies in Third quadrant\n",
      "lies in Second quadrant\n",
      "lies in First quadrant\n",
      "lies in First quadrant\n",
      "lies in First quadrant\n",
      "lies in First quadrant\n",
      "lies in Third quadrant\n",
      "arrows in first quad:  10\n",
      "arrows in second quad:  6\n",
      "arrows in third quad:  2\n",
      "arrows in fourth quad:  2\n"
     ]
    }
   ],
   "source": [
    "First_quad = 0\n",
    "Second_quad = 0\n",
    "Third_quad = 0\n",
    "Fourth_quad = 0\n",
    "\n",
    "for i, j in points:\n",
    "    x = i\n",
    "    y = j\n",
    "\n",
    "    if (x > 0 and y > 0):\n",
    "        First_quad += 1\n",
    "        print(\"lies in First quadrant\")\n",
    "    elif (x < 0 and y > 0):\n",
    "        Second_quad += 1\n",
    "        print(\"lies in Second quadrant\")\n",
    "    elif (x < 0 and y < 0):\n",
    "        Third_quad += 1\n",
    "        print(\"lies in Third quadrant\")\n",
    "    elif (x > 0 and y < 0):\n",
    "        Fourth_quad += 1\n",
    "        print(\"lies in Fourth quadrant\")\n",
    "    elif (x == 0 and y > 0):\n",
    "        print(\"doesn`t belong to any quadrant\")\n",
    "    elif (x == 0 and y < 0):\n",
    "        print(\"doesn`t belong to any quadrant\")\n",
    "    elif (y == 0 and x < 0):\n",
    "        print(\"ldoesn`t belong to any quadrant\")\n",
    "    elif (y == 0 and x > 0):\n",
    "        print(\"doesn`t belong to any quadrant\")\n",
    "    else:\n",
    "        print(\"doesn`t belong to any quadrant\")\n",
    "\n",
    "print(\"arrows in first quad: \", First_quad)\n",
    "print(\"arrows in second quad: \", Second_quad)\n",
    "print(\"arrows in third quad: \", Third_quad)\n",
    "print(\"arrows in fourth quad: \", Fourth_quad)"
   ]
  },
  {
   "cell_type": "markdown",
   "metadata": {},
   "source": [
    "#### 3. Find the point closest to the center. Calculate its distance to the center. \n",
    "Take into account that there might be more than one point at the minimum distance to the center.\n",
    "\n",
    "**Hint**: Use the Euclidean distance. You can find more information about it [here](https://en.wikipedia.org/wiki/Euclidean_distance).  \n",
    "**Hint**: Defining a function that calculates the distance to the center can help."
   ]
  },
  {
   "cell_type": "code",
   "execution_count": 7,
   "metadata": {},
   "outputs": [
    {
     "name": "stdout",
     "output_type": "stream",
     "text": [
      "[2.0, 2.0, 2.8284271247461903, 2.8284271247461903, 3.1622776601683795, 3.1622776601683795, 3.605551275463989, 3.605551275463989, 3.605551275463989, 3.605551275463989, 6.4031242374328485, 6.4031242374328485, 6.4031242374328485, 6.4031242374328485, 8.06225774829855, 8.06225774829855, 8.602325267042627, 8.602325267042627, 8.602325267042627, 8.602325267042627, 12.041594578792296, 12.727922061357855]\n"
     ]
    }
   ],
   "source": [
    "import math\n",
    "result = []\n",
    "for i, j in points:\n",
    "    x = i\n",
    "    y = j\n",
    "\n",
    "\n",
    "    total = (x ** 2) + (y ** 2)\n",
    "    resultant = math.sqrt(total)\n",
    "    result.append(resultant)\n",
    "\n",
    "result.sort()\n",
    "print(result)"
   ]
  },
  {
   "cell_type": "markdown",
   "metadata": {},
   "source": [
    "#### 4. If the archery target has a radius of 9, calculate the number of arrows that won't hit the target. \n",
    "**Hint**: Use the function created in step 3. "
   ]
  },
  {
   "cell_type": "code",
   "execution_count": 8,
   "metadata": {},
   "outputs": [
    {
     "name": "stdout",
     "output_type": "stream",
     "text": [
      "[12.041594578792296, 12.727922061357855]\n"
     ]
    }
   ],
   "source": [
    "neueliste= []\n",
    "for n in result:\n",
    "    if float(n) > 9:\n",
    "       neueliste.append(n)\n",
    "print(neueliste)"
   ]
  },
  {
   "cell_type": "code",
   "execution_count": null,
   "metadata": {},
   "outputs": [],
   "source": []
  }
 ],
 "metadata": {
  "kernelspec": {
   "display_name": "Python 3",
   "language": "python",
   "name": "python3"
  },
  "language_info": {
   "codemirror_mode": {
    "name": "ipython",
    "version": 3
   },
   "file_extension": ".py",
   "mimetype": "text/x-python",
   "name": "python",
   "nbconvert_exporter": "python",
   "pygments_lexer": "ipython3",
   "version": "3.8.5"
  }
 },
 "nbformat": 4,
 "nbformat_minor": 2
}
