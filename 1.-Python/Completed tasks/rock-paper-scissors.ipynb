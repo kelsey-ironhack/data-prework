{
 "cells": [
  {
   "cell_type": "markdown",
   "metadata": {},
   "source": [
    "<img src=\"https://bit.ly/2VnXWr2\" width=\"100\" align=\"left\">"
   ]
  },
  {
   "cell_type": "markdown",
   "metadata": {},
   "source": [
    "# Rock, Paper & Scissors\n",
    "\n",
    "Let's play the famous game against our computer. You can check the rules [here](https://en.wikipedia.org/wiki/Rock%E2%80%93paper%E2%80%93scissors). \n",
    "\n",
    "## Task\n",
    "Create a program that imitates the playability of the well known game of rock, paper, scissors. Follow the guidelines provided.\n",
    "\n",
    "## Tools\n",
    "1. Loop: **for/while**\n",
    "2. Functions: **input(), print()...**\n",
    "3. Conditional statements: **if, elif, else**\n",
    "4. Definition of functions. Modular programming\n",
    "5. Import modules\n",
    "\n",
    "**To solve this challenge, the use of functions is recommended.**\n",
    "\n",
    "#### 1. Import the choice function of the random module."
   ]
  },
  {
   "cell_type": "code",
   "execution_count": 15,
   "metadata": {},
   "outputs": [],
   "source": [
    "import random"
   ]
  },
  {
   "cell_type": "markdown",
   "metadata": {},
   "source": [
    "#### 2. Create a list that includes the 3 possible gesture options of the game: 'rock', 'paper' or 'scissors'. Store the list in a variable called `gestures`."
   ]
  },
  {
   "cell_type": "code",
   "execution_count": 16,
   "metadata": {},
   "outputs": [],
   "source": [
    "gestures = ['rock', 'paper', 'scissors']"
   ]
  },
  {
   "cell_type": "markdown",
   "metadata": {},
   "source": [
    "#### 3. Create a variable called `n_rounds` to store the maximum number of rounds to play in a game. \n",
    "Remember that the number of rounds must be odd: 1, 3, 5, ..."
   ]
  },
  {
   "cell_type": "code",
   "execution_count": 17,
   "metadata": {},
   "outputs": [],
   "source": [
    "n_rounds = 5"
   ]
  },
  {
   "cell_type": "markdown",
   "metadata": {},
   "source": [
    "#### 4. Create a variable called `rounds_to_win` to store the number of rounds that a player must win to win the game.\n",
    "**Hint**: the value stored in `rounds_to_win` depends on the value of `n_rounds`. "
   ]
  },
  {
   "cell_type": "code",
   "execution_count": 18,
   "metadata": {},
   "outputs": [],
   "source": [
    "rounds_to_win = (n_rounds + 1)/2"
   ]
  },
  {
   "cell_type": "markdown",
   "metadata": {},
   "source": [
    "#### 5. Create two variables to store the number of rounds that the computer and the player have won. Call these variables `cpu_score` and `player_score`."
   ]
  },
  {
   "cell_type": "code",
   "execution_count": 19,
   "metadata": {},
   "outputs": [],
   "source": [
    "cpu_score = 0\n",
    "player_score = 0"
   ]
  },
  {
   "cell_type": "markdown",
   "metadata": {},
   "source": [
    "#### 6. Define a function that randomly returns one of the 3 gesture options.\n",
    "You will use this function to simulate the gesture choice of the computer. "
   ]
  },
  {
   "cell_type": "code",
   "execution_count": 20,
   "metadata": {},
   "outputs": [],
   "source": [
    "cpu_gesture = random.choice(gestures)"
   ]
  },
  {
   "cell_type": "markdown",
   "metadata": {},
   "source": [
    "#### 7. Define a function that asks the player which is the gesture he or she wants to show: 'rock', 'paper' or 'scissors'.\n",
    "The player should only be allowed to choose one of the 3 gesture options. If the player's choice is not rock, paper or scissors, keep asking until it is."
   ]
  },
  {
   "cell_type": "code",
   "execution_count": 21,
   "metadata": {},
   "outputs": [
    {
     "name": "stdout",
     "output_type": "stream",
     "text": [
      "Choose: rock, paper or scissors... rock\n",
      "Choose: rock, paper or scissors... rock\n"
     ]
    }
   ],
   "source": [
    "human_gesture = input(\"Choose: rock, paper or scissors... \")\n",
    "\n",
    "if input != 'rock' or 'paper' or 'scissors':\n",
    "    human_gesture = input(\"Choose: rock, paper or scissors... \")\n",
    "\n",
    "else:\n",
    "    pass\n",
    "\n",
    "# Not sure why output is asking for an input twice no matter what the input is..."
   ]
  },
  {
   "cell_type": "markdown",
   "metadata": {},
   "source": [
    "#### 8. Define a function that checks who won a round. \n",
    "The function should return 0 if there is a tie, 1 if the computer wins and 2 if the player wins."
   ]
  },
  {
   "cell_type": "code",
   "execution_count": 23,
   "metadata": {},
   "outputs": [],
   "source": [
    "if (cpu_gesture == 'rock') and (human_gesture == 'rock'):\n",
    "    round_winner = 0\n",
    "elif (cpu_gesture == 'paper') and (human_gesture == 'paper'):\n",
    "    round_winner = 0\n",
    "elif (cpu_gesture == 'scissors') and (human_gesture == 'scissors'):\n",
    "    round_winner = 0\n",
    "elif (cpu_gesture == 'rock') and (human_gesture == 'paper'):\n",
    "    round_winner = 2\n",
    "elif (cpu_gesture == 'rock') and (human_gesture == 'scissors'):\n",
    "    round_winner = 1\n",
    "elif (cpu_gesture == 'paper') and (human_gesture == 'rock'):\n",
    "    round_winner = 1\n",
    "elif (cpu_gesture == 'paper') and (human_gesture == 'scissors'):\n",
    "    round_winner = 2\n",
    "elif (cpu_gesture == 'scissors') and (human_gesture == 'rock'):\n",
    "    round_winner = 2\n",
    "elif (cpu_gesture == 'scissors') and (human_gesture == 'paper'):\n",
    "    round_winner = 1\n",
    "else:\n",
    "    pass"
   ]
  },
  {
   "cell_type": "markdown",
   "metadata": {},
   "source": [
    "#### 9. Define a function that prints the choice of the computer, the choice of the player and a message that announces who won the current round. \n",
    "You should also use this function to update the variables that count the number of rounds that the computer and the player have won. The score of the winner increases by one point. If there is a tie, the score does not increase."
   ]
  },
  {
   "cell_type": "code",
   "execution_count": 24,
   "metadata": {},
   "outputs": [
    {
     "name": "stdout",
     "output_type": "stream",
     "text": [
      "The computer chose paper\n",
      "The human chose rock\n",
      "The computer won this round\n"
     ]
    }
   ],
   "source": [
    "print(\"The computer chose\", cpu_gesture)\n",
    "print(\"The human chose\", human_gesture)\n",
    "if round_winner == 0:\n",
    "    print(\"This round was a tie\")\n",
    "elif round_winner == 1:\n",
    "    print(\"The computer won this round\")\n",
    "    cpu_score +=1\n",
    "elif round_winner == 2:\n",
    "    print(\"The human won this round\")\n",
    "    human_score +=1"
   ]
  },
  {
   "cell_type": "markdown",
   "metadata": {},
   "source": [
    "#### 10. Now it's time to code the execution of the game using the functions and variables you defined above. \n",
    "\n",
    "First, create a loop structure that repeats while no player reaches the minimum score necessary to win and the number of rounds is less than the maximum number of rounds to play in a game.  \n",
    "\n",
    "Inside the loop, use the functions and variables above to create the execution of a round: ask for the player's choice, generate the random choice of the computer, show the round results, update the scores, etc. "
   ]
  },
  {
   "cell_type": "code",
   "execution_count": 26,
   "metadata": {},
   "outputs": [
    {
     "name": "stdout",
     "output_type": "stream",
     "text": [
      "Choose: rock, paper or scissors... rock\n",
      "Choose: rock, paper or scissors... rock\n",
      "WE HAVE A RESULT!\n"
     ]
    }
   ],
   "source": [
    "import random\n",
    "n_rounds = 5\n",
    "rounds_to_win = (n_rounds + 1)/2\n",
    "rounds_played = 0\n",
    "cpu_score = 0\n",
    "player_score = 0\n",
    "\n",
    "if (cpu_score < rounds_to_win) and (player_score < rounds_to_win) and (rounds_played < n_rounds):\n",
    "\n",
    "    gestures = ['rock', 'paper', 'scissors']\n",
    "    cpu_gesture = random.choice(gestures)\n",
    "    human_gesture = input(\"Choose: rock, paper or scissors... \")\n",
    "    if input != 'rock' or 'paper' or 'scissors':\n",
    "        human_gesture = input(\"Choose: rock, paper or scissors... \")\n",
    "\n",
    "    else:\n",
    "        if (cpu_gesture == 'rock') and (human_gesture == 'rock'):\n",
    "            print(\"The computer chose\", cpu_gesture)\n",
    "            print(\"The human chose\", human_gesture)\n",
    "            print(\"This round was a tie\")\n",
    "            cpu_score +=1\n",
    "            player_score +=1\n",
    "            rounds_played +=1\n",
    "        elif (cpu_gesture == 'paper') and (human_gesture == 'paper'):\n",
    "            print(\"The computer chose\", cpu_gesture)\n",
    "            print(\"The human chose\", human_gesture)\n",
    "            print(\"This round was a tie\")\n",
    "            cpu_score +=1                \n",
    "            player_score +=1\n",
    "            rounds_played +=1\n",
    "        elif (cpu_gesture == 'scissors') and (human_gesture == 'scissors'):\n",
    "            print(\"The computer chose\", cpu_gesture)\n",
    "            print(\"The human chose\", human_gesture)\n",
    "            print(\"This round was a tie\")\n",
    "            cpu_score +=1\n",
    "            player_score +=1\n",
    "            rounds_played +=1\n",
    "        elif (cpu_gesture == 'rock') and (human_gesture == 'paper'):\n",
    "            print(\"The computer chose\", cpu_gesture)\n",
    "            print(\"The human chose\", human_gesture)\n",
    "            print(\"The human won this round\")\n",
    "            player_score +=1\n",
    "            rounds_played +=1\n",
    "        elif (cpu_gesture == 'rock') and (human_gesture == 'scissors'):\n",
    "            print(\"The computer chose\", cpu_gesture)\n",
    "            print(\"The human chose\", human_gesture)\n",
    "            print(\"The computer won this round\")\n",
    "            cpu_score +=1\n",
    "            rounds_played +=1\n",
    "        elif (cpu_gesture == 'paper') and (human_gesture == 'rock'):\n",
    "            print(\"The computer chose\", cpu_gesture)\n",
    "            print(\"The human chose\", human_gesture)\n",
    "            print(\"The computer won this round\")\n",
    "            cpu_score +=1\n",
    "            rounds_played +=1\n",
    "        elif (cpu_gesture == 'paper') and (human_gesture == 'scissors'):\n",
    "            print(\"The computer chose\", cpu_gesture)\n",
    "            print(\"The human chose\", human_gesture)\n",
    "            print(\"The human won this round\")\n",
    "            player_score +=1\n",
    "            rounds_played +=1\n",
    "        elif (cpu_gesture == 'scissors') and (human_gesture == 'rock'):\n",
    "            print(\"The computer chose\", cpu_gesture)\n",
    "            print(\"The human chose\", human_gesture)\n",
    "            print(\"The human won this round\")\n",
    "            player_score +=1                \n",
    "            rounds_played +=1\n",
    "        elif (cpu_gesture == 'scissors') and (human_gesture == 'paper'):\n",
    "            print(\"The computer chose\", cpu_gesture)\n",
    "            print(\"The human chose\", human_gesture)\n",
    "            print(\"The computer won this round\")\n",
    "            cpu_score +=1\n",
    "            rounds_played +=1\n",
    "\n",
    "print(\"WE HAVE A RESULT!\")\n",
    "\n",
    "# Still having problems with human input being requested twice..."
   ]
  },
  {
   "cell_type": "markdown",
   "metadata": {},
   "source": [
    "#### 11. Print the winner of the game based on who won more rounds.\n",
    "Remember that the game might be tied. "
   ]
  },
  {
   "cell_type": "code",
   "execution_count": 28,
   "metadata": {},
   "outputs": [
    {
     "name": "stdout",
     "output_type": "stream",
     "text": [
      "The game is a tie!\n"
     ]
    }
   ],
   "source": [
    "if cpu_score > player_score:\n",
    "    print(\"The computer wins the game!\")\n",
    "elif player_score > cpu_score:\n",
    "    print(\"The human wins the game!\")\n",
    "else:\n",
    "    print(\"The game is a tie!\")"
   ]
  },
  {
   "cell_type": "markdown",
   "metadata": {},
   "source": [
    "# Bonus: Rock, Paper, Scissors, Lizard & Spock\n",
    "![](images/rpsls.jpg)\n",
    "\n",
    "In this challenge, you need to improve the previous game by adding two new options. To know more about the rules of the improved version of rock, paper, scissors, check this [link](http://www.samkass.com/theories/RPSSL.html). \n",
    "\n",
    "In addition, you will also need to improve how the game interacts with the player: the number of rounds to play, which must be an odd number, will be requested to the user until a valid number is entered. Define a new function to make that request.\n",
    "\n",
    "**Hint**: Try to reuse the code that you already coded in the previous challenge. If your code is efficient, this bonus will only consist of simple modifications to the original game."
   ]
  },
  {
   "cell_type": "code",
   "execution_count": null,
   "metadata": {},
   "outputs": [],
   "source": []
  }
 ],
 "metadata": {
  "kernelspec": {
   "display_name": "Python 3",
   "language": "python",
   "name": "python3"
  },
  "language_info": {
   "codemirror_mode": {
    "name": "ipython",
    "version": 3
   },
   "file_extension": ".py",
   "mimetype": "text/x-python",
   "name": "python",
   "nbconvert_exporter": "python",
   "pygments_lexer": "ipython3",
   "version": "3.8.3"
  }
 },
 "nbformat": 4,
 "nbformat_minor": 2
}
