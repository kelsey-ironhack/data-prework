{
 "cells": [
  {
   "cell_type": "markdown",
   "metadata": {},
   "source": [
    "<img src=\"https://bit.ly/2VnXWr2\" width=\"100\" align=\"left\">"
   ]
  },
  {
   "cell_type": "markdown",
   "metadata": {},
   "source": [
    "# Rock, Paper & Scissors\n",
    "\n",
    "Let's play the famous game against our computer. You can check the rules [here](https://en.wikipedia.org/wiki/Rock%E2%80%93paper%E2%80%93scissors). \n",
    "\n",
    "## Task\n",
    "Create a program that imitates the playability of the well known game of rock, paper, scissors. Follow the guidelines provided.\n",
    "\n",
    "## Tools\n",
    "1. Loop: **for/while**\n",
    "2. Functions: **input(), print()...**\n",
    "3. Conditional statements: **if, elif, else**\n",
    "4. Definition of functions. Modular programming\n",
    "5. Import modules\n",
    "\n",
    "**To solve this challenge, the use of functions is recommended.**\n",
    "\n",
    "#### 1. Import the choice function of the random module."
   ]
  },
  {
   "cell_type": "code",
   "execution_count": 1,
   "metadata": {},
   "outputs": [],
   "source": [
    "import random\n",
    "random.choice(['rock', 'paper', 'scissors'])"
   ]
  },
  {
   "cell_type": "markdown",
   "metadata": {},
   "source": [
    "#### 2. Create a list that includes the 3 possible gesture options of the game: 'rock', 'paper' or 'scissors'. Store the list in a variable called `gestures`."
   ]
  },
  {
   "cell_type": "code",
   "execution_count": 2,
   "metadata": {},
   "outputs": [],
   "source": [
    "gestures = ['rock', 'paper', 'scissors']"
   ]
  },
  {
   "cell_type": "markdown",
   "metadata": {},
   "source": [
    "#### 3. Create a variable called `n_rounds` to store the maximum number of rounds to play in a game. \n",
    "Remember that the number of rounds must be odd: 1, 3, 5, ..."
   ]
  },
  {
   "cell_type": "code",
   "execution_count": 3,
   "metadata": {},
   "outputs": [],
   "source": [
    "n_rounds = 3 # each game consists of 3 rounds. "
   ]
  },
  {
   "cell_type": "markdown",
   "metadata": {},
   "source": [
    "#### 4. Create a variable called `rounds_to_win` to store the number of rounds that a player must win to win the game.\n",
    "**Hint**: the value stored in `rounds_to_win` depends on the value of `n_rounds`. "
   ]
  },
  {
   "cell_type": "code",
   "execution_count": 4,
   "metadata": {},
   "outputs": [],
   "source": [
    "rounds_to_win = 2 # the player needs to win 2/3 rounds to win the game. "
   ]
  },
  {
   "cell_type": "markdown",
   "metadata": {},
   "source": [
    "#### 5. Create two variables to store the number of rounds that the computer and the player have won. Call these variables `cpu_score` and `player_score`."
   ]
  },
  {
   "cell_type": "code",
   "execution_count": 5,
   "metadata": {},
   "outputs": [],
   "source": [
    "cpu_score = 0\n",
    "player_score = 0"
   ]
  },
  {
   "cell_type": "markdown",
   "metadata": {},
   "source": [
    "#### 6. Define a function that randomly returns one of the 3 gesture options.\n",
    "You will use this function to simulate the gesture choice of the computer. "
   ]
  },
  {
   "cell_type": "code",
   "execution_count": 6,
   "metadata": {},
   "outputs": [],
   "source": [
    "def cpu_gesture():\n",
    "    return random.choice(gestures)\n",
    "cpu_gesture()\n",
    "\n",
    "cpu_move = cpu_gesture()"
   ]
  },
  {
   "cell_type": "markdown",
   "metadata": {},
   "source": [
    "#### 7. Define a function that asks the player which is the gesture he or she wants to show: 'rock', 'paper' or 'scissors'.\n",
    "The player should only be allowed to choose one of the 3 gesture options. If the player's choice is not rock, paper or scissors, keep asking until it is."
   ]
  },
  {
   "cell_type": "code",
   "execution_count": 7,
   "metadata": {},
   "outputs": [
    {
     "name": "stdout",
     "output_type": "stream",
     "text": [
      "Choose your gesture (either rock, paper or scissors): rock\n"
     ]
    }
   ],
   "source": [
    "def player_gesture():\n",
    "    gesture = input(\"Choose your gesture (either rock, paper or scissors): \")\n",
    "    if gesture in gestures:\n",
    "        return gesture\n",
    "    else:\n",
    "        input(\"Please enter either 'rock', 'paper', or 'scissors'.\")\n",
    "        \n",
    "player_move = player_gesture()"
   ]
  },
  {
   "cell_type": "markdown",
   "metadata": {},
   "source": [
    "#### 8. Define a function that checks who won a round. \n",
    "The function should return 0 if there is a tie, 1 if the computer wins and 2 if the player wins."
   ]
  },
  {
   "cell_type": "code",
   "execution_count": 8,
   "metadata": {},
   "outputs": [
    {
     "name": "stdout",
     "output_type": "stream",
     "text": [
      "Choose your gesture (either rock, paper or scissors): paper\n",
      "2\n"
     ]
    }
   ],
   "source": [
    "def winner_of_round(): # should return either 0 (tie), 1 (computer wins), or 2 (player wins)\n",
    "    player_move = player_gesture() \n",
    "    cpu_move = random.choice(gestures) # same reasoning as above. \n",
    "    if player_move == cpu_move:\n",
    "        return 0 # Tie\n",
    "    elif player_move == 'rock' and cpu_move == 'paper':\n",
    "        return 1 # computer wins\n",
    "    elif player_move == 'paper' and cpu_move == 'scissors':\n",
    "        return 1 # computer wins\n",
    "    elif player_move == 'scissors' and cpu_move == 'rock':\n",
    "        return 1 # computer wins\n",
    "    elif player_move == 'rock' and cpu_move == 'scissors':\n",
    "        return 2 # player wins\n",
    "    elif player_move == 'paper' and cpu_move == 'rock':\n",
    "        return 2 # player wins\n",
    "    elif player_move == 'scissors' and cpu_move == 'paper':\n",
    "        return 2 # player wins\n",
    "    else:\n",
    "        return print(\"Rematch! Invalid gestures.\")\n",
    "\n",
    "round_winner = winner_of_round()\n",
    "print(round_winner)"
   ]
  },
  {
   "cell_type": "markdown",
   "metadata": {},
   "source": [
    "#### 9. Define a function that prints the choice of the computer, the choice of the player and a message that announces who won the current round. \n",
    "You should also use this function to update the variables that count the number of rounds that the computer and the player have won. The score of the winner increases by one point. If there is a tie, the score does not increase."
   ]
  },
  {
   "cell_type": "code",
   "execution_count": 13,
   "metadata": {},
   "outputs": [
    {
     "name": "stdout",
     "output_type": "stream",
     "text": [
      "Choose your gesture (either rock, paper or scissors): rock\n",
      "You chose:  rock\n",
      "The computer chose:  paper\n",
      "The computer wins this round!\n",
      "(1, 0)\n"
     ]
    }
   ],
   "source": [
    "def play_round(cpu_move, player_move): # Function to print the player_move, the cpu_move, and the winner_of_round\n",
    "    player_move = player_gesture()\n",
    "    cpu_move = cpu_gesture()\n",
    "    cpu_score = 0\n",
    "    player_score = 0\n",
    "    print(\"You chose: \", player_move)\n",
    "    print(\"The computer chose: \", cpu_move)\n",
    "    \n",
    "    if player_move == cpu_move:\n",
    "        return \"This round was a tie!\"\n",
    "    elif player_move == 'rock' and cpu_move == 'paper':\n",
    "        print(\"The computer wins this round!\") \n",
    "        cpu_score += 1\n",
    "    elif player_move == 'paper' and cpu_move == 'scissors':\n",
    "        print(\"The computer wins this round!\") \n",
    "        cpu_score += 1\n",
    "    elif player_move == 'scissors' and cpu_move == 'rock':\n",
    "        print(\"The computer wins this round!\") \n",
    "        cpu_score += 1\n",
    "    elif player_move == 'rock' and cpu_move == 'scissors':\n",
    "        print(\"Nice! You won this round!\")\n",
    "        player_score += 1\n",
    "    elif player_move == 'paper' and cpu_move == 'rock':\n",
    "        print(\"Nice! You won this round!\")\n",
    "        player_score += 1\n",
    "    elif player_move == 'scissors' and cpu_move == 'paper':\n",
    "        print(\"Nice! You won this round!\")\n",
    "        player_score += 1\n",
    "    else:\n",
    "        return \"Rematch! Invalid gestures.\"\n",
    "\n",
    "    return cpu_score, player_score\n",
    "    \n",
    "\n",
    "x = play_round(cpu_move, player_move)    \n",
    "print(x)\n",
    "\n"
   ]
  },
  {
   "cell_type": "markdown",
   "metadata": {},
   "source": [
    "#### 10. Now it's time to code the execution of the game using the functions and variables you defined above. \n",
    "\n",
    "First, create a loop structure that repeats while no player reaches the minimum score necessary to win and the number of rounds is less than the maximum number of rounds to play in a game.  \n",
    "\n",
    "Inside the loop, use the functions and variables above to create the execution of a round: ask for the player's choice, generate the random choice of the computer, show the round results, update the scores, etc. "
   ]
  },
  {
   "cell_type": "code",
   "execution_count": 20,
   "metadata": {},
   "outputs": [
    {
     "name": "stdout",
     "output_type": "stream",
     "text": [
      "Choose your gesture (either rock, paper or scissors): rock\n",
      "You chose:  rock\n",
      "The computer chose:  rock\n",
      "Choose your gesture (either rock, paper or scissors): rock\n",
      "You chose:  rock\n",
      "The computer chose:  paper\n",
      "The computer wins this round!\n",
      "Computer wins one round!\n",
      "Choose your gesture (either rock, paper or scissors): rock\n",
      "You chose:  rock\n",
      "The computer chose:  scissors\n",
      "Nice! You won this round!\n",
      "You win one round!\n",
      "Choose your gesture (either rock, paper or scissors): rock\n",
      "You chose:  rock\n",
      "The computer chose:  rock\n",
      "Choose your gesture (either rock, paper or scissors): rock\n",
      "You chose:  rock\n",
      "The computer chose:  scissors\n",
      "Nice! You won this round!\n",
      "You win one round!\n",
      "Well done! You win the game!\n"
     ]
    }
   ],
   "source": [
    "n_rounds = 3 # each game consists of 3 rounds. \n",
    "rounds_to_win = 2 # the player needs to win 2/3 rounds to win the game. \n",
    "cpu_score = 0\n",
    "player_score = 0\n",
    "\n",
    "while (cpu_score < rounds_to_win) & (player_score < rounds_to_win): \n",
    "    x = play_round(cpu_move, player_move)\n",
    "    if x == (1,0):\n",
    "        cpu_score += 1\n",
    "        print(\"Computer wins one round!\")\n",
    "    elif x == (0,1):\n",
    "        player_score += 1\n",
    "        print(\"You win one round!\")\n",
    "  \n",
    "if cpu_score == 2:\n",
    "    print(\"Uh oh, the computer wins!\")\n",
    "elif player_score == 2:\n",
    "    print(\"Well done! You win the game!\")\n",
    "      "
   ]
  },
  {
   "cell_type": "markdown",
   "metadata": {},
   "source": [
    "#### 11. Print the winner of the game based on who won more rounds.\n",
    "Remember that the game might be tied. "
   ]
  },
  {
   "cell_type": "code",
   "execution_count": 21,
   "metadata": {},
   "outputs": [
    {
     "name": "stdout",
     "output_type": "stream",
     "text": [
      "Well done! You win the game!\n"
     ]
    }
   ],
   "source": [
    "if cpu_score > player_score:\n",
    "    print(\"Uh oh, the computer wins the game!\")\n",
    "elif player_score > cpu_score:\n",
    "    print(\"Well done! You win the game!\")"
   ]
  },
  {
   "cell_type": "markdown",
   "metadata": {},
   "source": [
    "# Bonus: Rock, Paper, Scissors, Lizard & Spock\n",
    "![](images/rpsls.jpg)\n",
    "\n",
    "In this challenge, you need to improve the previous game by adding two new options. To know more about the rules of the improved version of rock, paper, scissors, check this [link](http://www.samkass.com/theories/RPSSL.html). \n",
    "\n",
    "In addition, you will also need to improve how the game interacts with the player: the number of rounds to play, which must be an odd number, will be requested to the user until a valid number is entered. Define a new function to make that request.\n",
    "\n",
    "**Hint**: Try to reuse the code that you already coded in the previous challenge. If your code is efficient, this bonus will only consist of simple modifications to the original game."
   ]
  },
  {
   "cell_type": "code",
   "execution_count": null,
   "metadata": {},
   "outputs": [],
   "source": []
  }
 ],
 "metadata": {
  "kernelspec": {
   "display_name": "Python 3",
   "language": "python",
   "name": "python3"
  },
  "language_info": {
   "codemirror_mode": {
    "name": "ipython",
    "version": 3
   },
   "file_extension": ".py",
   "mimetype": "text/x-python",
   "name": "python",
   "nbconvert_exporter": "python",
   "pygments_lexer": "ipython3",
   "version": "3.8.2"
  }
 },
 "nbformat": 4,
 "nbformat_minor": 2
}
