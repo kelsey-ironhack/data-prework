temp_C = [33, 66, 65, 0, 59, 60, 62, 64, 70, 76, 80, 81, 80, 83, 90, 79, 61, 53, 50, 49, 53, 48, 45, 39]
min_temp_C = min(temp_C)
print(min_temp_C)
max_temp_C = max(temp_C)
print(max_temp_C)

above_seventy = []
for t in temp_C:
	if t > 70:
		above_seventy.append(t)
print(above_seventy)

average_temp_C = sum(temp_C) / len(temp_C)
print(average_temp_C)

temp_F = []
for t in temp_C:
	temp_F.append(1.8*t+32)

print(temp_F)

change_cooler = False
read_temp = []
temp_seventy = []
for t in temp_C:
	read_temp.append(t)
	if t > 80:
		change_cooler = True
		break
	average_change = sum(read_temp)/len(read_temp)
	if average_change >= 65:
		change_cooler = True
		break
	if t >= 70:
		temp_seventy.append(t)
		if len(temp_seventy) > 4:
			change_cooler = True
			break

if change_cooler == True:
	print("The cooling system needs to be replaced")