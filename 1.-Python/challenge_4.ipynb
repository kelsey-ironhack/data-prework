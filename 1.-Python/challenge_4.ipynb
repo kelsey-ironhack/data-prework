{
 "cells": [
  {
   "cell_type": "code",
   "execution_count": 39,
   "metadata": {
    "scrolled": true
   },
   "outputs": [
    {
     "name": "stdout",
     "output_type": "stream",
     "text": [
      "[(4, 5), (-3, 2), (5, 7), (2, 2)]\n",
      "Q1: 10 Q2: 6 Q3: 2 Q4: 2\n",
      "[(0, 2), (0, -2)]\n",
      "The distance to the center of the point that is closest to it is 2.0\n",
      "The number of arrows which won´t hit the target is 2\n"
     ]
    }
   ],
   "source": [
    "points = [(4, 5), (-0, 2), (4, 7), (1, -3), (3, -2), (4, 5), (3, 2), (5, 7), (-5, 7), (2, 2), (-4, 5), (0, -2),\n",
    "          (-4, 7), (-1, 3), (-3, 2), (-4, -5), (-3, 2), (5, 7), (5, 7), (2, 2), (9, 9), (-8, -9)]\n",
    "\n",
    "#1 would like to have a feedback if there is a simplified version\n",
    "\n",
    "seen = {}\n",
    "duplicates = []\n",
    "\n",
    "for x in points:            #personal note: checks points list\n",
    "    if x not in seen:       #check if list element its not dictionary key\n",
    "        seen[x] = 1          #if it is not, it ads the key with value 1 \n",
    "    else:                   #if its in the dictionary\n",
    "        if seen[x] == 1:        #we check if it is equal to 1\n",
    "            duplicates.append(x)    #if yes, we add to the list the duplicates \n",
    "        seen[x] += 1             #incrementing the number of X that are repeated\n",
    "print (duplicates)\n",
    "\n",
    "\n",
    "#2\n",
    "\n",
    "q1=0\n",
    "q2=0\n",
    "q3=0\n",
    "q4=0\n",
    "\n",
    "for a,b in points:\n",
    "    if a>0 and b>0:\n",
    "        q1+=1\n",
    "    elif a<0 and b>0:\n",
    "        q2+=1\n",
    "    elif a<0 and b<0:\n",
    "        q3+=1\n",
    "    elif a>0 and b<0:\n",
    "        q4+=1\n",
    "        \n",
    "print (\"Q1:\",q1,\"Q2:\",q2,\"Q3:\",q3,\"Q4:\",q4)\n",
    "\n",
    "# 3\n",
    "\n",
    "def euclidean_distance_to_origin(x,y):    \n",
    "    euc=math.sqrt((x**2)+(y**2))\n",
    "    return euc\n",
    "\n",
    "total_dist_euc_list=[]\n",
    "\n",
    "for a,b in points:\n",
    "    elist=euclidean_distance_to_origin(a,b)\n",
    "    total_dist_euc_list.append(elist)\n",
    "\n",
    "min_dist=min(total_dist_euc_list)\n",
    "\n",
    "list_points_closer_center=[]\n",
    "\n",
    "for d,e in zip(total_dist_euc_list,points):\n",
    "    if d<=min_dist:\n",
    "        list_points_closer_center.append(e)\n",
    "\n",
    "print(list_points_closer_center)\n",
    "\n",
    "print(\"The distance to the center of the point that is closest to it is\",min_dist)\n",
    "\n",
    "#4 \n",
    "\n",
    "count_arrows=0\n",
    "\n",
    "for d,e in points:\n",
    "    ed=euclidean_distance_to_origin(d,e)\n",
    "    if ed>9:\n",
    "        count_arrows+=1\n",
    "print(\"The number of arrows which won´t hit the target is\",count_arrows)\n",
    "\n",
    "\n",
    "\n",
    "\n",
    "\n",
    "\n",
    "\n",
    "                           \n",
    "    \n",
    "\n"
   ]
  },
  {
   "cell_type": "code",
   "execution_count": 40,
   "metadata": {},
   "outputs": [
    {
     "name": "stdout",
     "output_type": "stream",
     "text": [
      "The closest point is (0, 2)\n"
     ]
    }
   ],
   "source": [
    "#3 - not really correct, would like to have a feedback if it is possible this way somehow\n",
    "\n",
    "import math\n",
    "\n",
    "def euclidean_distance_to_origin(x,y):    \n",
    "    euc=math.sqrt((x**2)+(y**2))\n",
    "    return euc\n",
    "\n",
    "\n",
    "minimum=10000000               \n",
    "closest_point=()\n",
    "\n",
    "for a,b in points:\n",
    "    feuc=euclidean_distance_to_origin(a,b)\n",
    "    if feuc<minimum:\n",
    "        minimum=feuc\n",
    "        closest_point = a,b\n",
    "\n",
    "print(\"The closest point is\", closest_point)\n",
    "\n",
    "    \n",
    "    \n",
    "    \n",
    "\n"
   ]
  },
  {
   "cell_type": "code",
   "execution_count": null,
   "metadata": {},
   "outputs": [],
   "source": []
  }
 ],
 "metadata": {
  "kernelspec": {
   "display_name": "Python 3",
   "language": "python",
   "name": "python3"
  },
  "language_info": {
   "codemirror_mode": {
    "name": "ipython",
    "version": 3
   },
   "file_extension": ".py",
   "mimetype": "text/x-python",
   "name": "python",
   "nbconvert_exporter": "python",
   "pygments_lexer": "ipython3",
   "version": "3.7.6"
  }
 },
 "nbformat": 4,
 "nbformat_minor": 4
}
