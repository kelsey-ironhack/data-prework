hits = [(4, 5), (-0, 2), (4, 7), (1, -3), (3, -2), (4, 5), (3, 2), (5, 7), (-5, 7), (2, 2), (-4, 5), (0, -2),
          (-4, 7), (-1, 3), (-3, 2), (-4, -5), (-3, 2), (5, 7), (5, 7), (2, 2), (9, 9), (-8, -9)]
total = len(hits)
print("Robin Hood shoots %i hits" % total)
same_hits = []
for hit in hits:
	if hits.count(hit) > 1:
		same_hits.append(hit)
print(same_hits)

first_q = []
second_q = []
third_q = []
fourth_q = []
for hit in hits:
	a = hit[0]
	b = hit[1]
	if a > 0:
		if b > 0:
			first_q.append(hit)
		else:
			second_q.append(hit)
	else:
		if b > 0:
			third_q.append(hit)
		else:
			fourth_q.append(hit)

print("%i have fallen in Q1" % len(first_q))
print("%i have fallen in Q2" % len(second_q))
print("%i have fallen in Q3" % len(third_q))
print("%i have fallen in Q4" % len(fourth_q))

center = [0, 0]
distance_list = []
for hit in hits:
	a = hit[0]
	b = hit[1]
	c = 0
	d = 0
	distance = ((a - c)**2 + (b - d)**2)**0.5
	distance_list.append(round(distance, 1))

min_ = min(distance_list)
max_ = max(distance_list)
idx_min = distance_list.index(min_)
idx_max = distance_list.index(max_)

print(idx_min)
print(idx_max)

print("The point", hits[1], "has the shortest distance to the center:", min_)

