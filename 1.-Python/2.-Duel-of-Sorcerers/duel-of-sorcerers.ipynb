{
 "cells": [
  {
   "cell_type": "markdown",
   "metadata": {},
   "source": [
    "<img src=\"https://bit.ly/2VnXWr2\" width=\"100\" align=\"left\">"
   ]
  },
  {
   "cell_type": "markdown",
   "metadata": {},
   "source": [
    "# Duel of Sorcerers\n",
    "You are witnessing an epic battle between two powerful sorcerers: Gandalf and Saruman. Each sorcerer has 10 spells of variable power in their mind and they are going to throw them one after the other. The winner of the duel will be the one who wins more of those clashes between spells. Spells are represented as a list of 10 integers whose value equals the power of the spell.\n",
    "```\n",
    "gandalf = [10, 11, 13, 30, 22, 11, 10, 33, 22, 22]\n",
    "saruman = [23, 66, 12, 43, 12, 10, 44, 23, 12, 17]\n",
    "```\n",
    "For example:\n",
    "- The first clash is won by Saruman: 10 against 23.\n",
    "- The second clash is won by Saruman: 11 against 66.\n",
    "- ...\n",
    "\n",
    "You will create two variables, one for each sorcerer, where the sum of clashes won will be stored. Depending on which variable is greater at the end of the duel, you will show one of the following three results on the screen:\n",
    "* Gandalf wins\n",
    "* Saruman wins\n",
    "* Tie\n",
    "\n",
    "<img src=\"images/content_lightning_bolt_big.jpg\" width=\"400\">"
   ]
  },
  {
   "cell_type": "markdown",
   "metadata": {},
   "source": [
    "## Tools\n",
    "You don't necessarily need to use all the tools. Maybe you opt to use some of them or completely different ones, they are given to help you shape the exercise. Programming exercises can be solved in many different ways.\n",
    "\n",
    "1. Data structures: **lists, dictionaries**\n",
    "2. Loop: **for loop**\n",
    "3. Conditional statements: **if-elif-else**\n",
    "4. Functions: **range(), len(), print()**\n",
    "\n",
    "## Tasks\n",
    "\n",
    "#### 1. Create two variables called `gandalf` and `saruman` and assign them the spell power lists. Create a variable called `spells` to store the number of spells that the sorcerers cast. "
   ]
  },
  {
   "cell_type": "code",
   "execution_count": 49,
   "metadata": {},
   "outputs": [],
   "source": [
    "gandalf = [10, 11, 13, 30, 22, 11, 10, 33, 22, 22]\n",
    "saruman = [23, 66, 12, 43, 12, 10, 44, 23, 12, 17]\n",
    "spells = 0"
   ]
  },
  {
   "cell_type": "markdown",
   "metadata": {},
   "source": [
    "#### 2. Create two variables called `gandalf_wins` and `saruman_wins`. Set both of them to 0. \n",
    "You will use these variables to count the number of clashes each sorcerer wins. "
   ]
  },
  {
   "cell_type": "code",
   "execution_count": 50,
   "metadata": {},
   "outputs": [],
   "source": [
    "gandalf_wins = 0\n",
    "saruman_wins = 0\n",
    "ties = 0"
   ]
  },
  {
   "cell_type": "markdown",
   "metadata": {},
   "source": [
    "#### 3. Using the lists of spells of both sorcerers, update variables `gandalf_wins` and `saruman_wins` to count the number of times each sorcerer wins a clash. "
   ]
  },
  {
   "cell_type": "code",
   "execution_count": 51,
   "metadata": {},
   "outputs": [
    {
     "name": "stdout",
     "output_type": "stream",
     "text": [
      "Even match numbers. Let battle commence!\n",
      "Battle: 1 Saruman Wins.\n",
      "Battle: 2 Saruman Wins.\n",
      "Battle: 3 Gandalf Wins.\n",
      "Battle: 4 Saruman Wins.\n",
      "Battle: 5 Gandalf Wins.\n",
      "Battle: 6 Gandalf Wins.\n",
      "Battle: 7 Saruman Wins.\n",
      "Battle: 8 Gandalf Wins.\n",
      "Battle: 9 Gandalf Wins.\n",
      "Battle: 10 Gandalf Wins.\n"
     ]
    }
   ],
   "source": [
    "if len(gandalf) == len(saruman):\n",
    "    print(\"Even match numbers. Let battle commence!\")\n",
    "    number_of_battles = len(gandalf)\n",
    "    while spells < number_of_battles:\n",
    "        if gandalf[spells] > saruman[spells]:\n",
    "            print(\"Battle: \" + str(spells + 1) + \" Gandalf Wins.\")\n",
    "            gandalf_wins += 1\n",
    "        elif gandalf[spells] < saruman[spells]:\n",
    "            print(\"Battle: \" + str(spells + 1) + \" Saruman Wins.\")\n",
    "            saruman_wins += 1\n",
    "        elif gandalf[spells] == saruman[spells]:\n",
    "            print(\"Battle is a tie.\")\n",
    "            ties += 1\n",
    "        spells += 1\n",
    "        \n",
    "else:\n",
    "    print(\"Uneven match numbers.\")"
   ]
  },
  {
   "cell_type": "markdown",
   "metadata": {},
   "source": [
    "#### 4. Who won the battle?\n",
    "Print `Gandalf wins`, `Saruman wins` or `Tie` depending on the result. "
   ]
  },
  {
   "cell_type": "code",
   "execution_count": 52,
   "metadata": {},
   "outputs": [
    {
     "name": "stdout",
     "output_type": "stream",
     "text": [
      "Gandalf wins 6 matches.\n",
      "Saruman wins 4 matches.\n",
      "There were 0 tied matches.\n",
      "The battle is won by Gandalf.\n"
     ]
    }
   ],
   "source": [
    "print(\"Gandalf wins \" + str(gandalf_wins) + \" matches.\")\n",
    "print(\"Saruman wins \" + str(saruman_wins) + \" matches.\")\n",
    "print(\"There were \" + str(ties) + \" tied matches.\")\n",
    "if gandalf_wins > saruman_wins:\n",
    "    print(\"The battle is won by Gandalf.\")\n",
    "elif gandalf_wins < saruman_wins:\n",
    "    print(\"The battle is won by Saruman.\")\n",
    "else:\n",
    "    print(\"The battle is tied.\")"
   ]
  },
  {
   "cell_type": "markdown",
   "metadata": {},
   "source": [
    "## Bonus\n",
    "\n",
    "In this bonus challenge, you'll need to check the winner of the battle but this time, a sorcerer wins if he succeeds in winning 3 spell clashes in a row.\n",
    "\n",
    "Also, the spells now have a name and there is a dictionary that associates that name to a power.\n",
    "\n",
    "```\n",
    "POWER = {\n",
    "    'Fireball': 50, \n",
    "    'Lightning bolt': 40, \n",
    "    'Magic arrow': 10, \n",
    "    'Black Tentacles': 25, \n",
    "    'Contagion': 45\n",
    "}\n",
    "\n",
    "gandalf = ['Fireball', 'Lightning bolt', 'Lightning bolt', 'Magic arrow', 'Fireball', \n",
    "           'Magic arrow', 'Lightning bolt', 'Fireball', 'Fireball', 'Fireball']\n",
    "saruman = ['Contagion', 'Contagion', 'Black Tentacles', 'Fireball', 'Black Tentacles', \n",
    "           'Lightning bolt', 'Magic arrow', 'Contagion', 'Magic arrow', 'Magic arrow']\n",
    "```\n",
    "\n",
    "#### 1. Create variables `POWER`, `gandalf` and `saruman` as seen above. Create a variable called `spells` to store the number of spells that the sorcerers cast. "
   ]
  },
  {
   "cell_type": "code",
   "execution_count": 53,
   "metadata": {},
   "outputs": [],
   "source": [
    "POWER = {\n",
    "    'Fireball': 50, \n",
    "    'Lightning bolt': 40, \n",
    "    'Magic arrow': 10, \n",
    "    'Black Tentacles': 25, \n",
    "    'Contagion': 45\n",
    "}\n",
    "\n",
    "gandalf = ['Fireball', 'Lightning bolt', 'Lightning bolt', 'Magic arrow', 'Fireball', \n",
    "           'Magic arrow', 'Lightning bolt', 'Fireball', 'Fireball', 'Fireball']\n",
    "saruman = ['Contagion', 'Contagion', 'Black Tentacles', 'Fireball', 'Black Tentacles', \n",
    "           'Lightning bolt', 'Magic arrow', 'Contagion', 'Magic arrow', 'Magic arrow']"
   ]
  },
  {
   "cell_type": "markdown",
   "metadata": {},
   "source": [
    "#### 2. Create two variables called `gandalf_wins` and `saruman_wins`. Set both of them to 0. "
   ]
  },
  {
   "cell_type": "code",
   "execution_count": 54,
   "metadata": {},
   "outputs": [],
   "source": [
    "gandalf_wins = 0\n",
    "saruman_wins = 0\n",
    "ties = 0"
   ]
  },
  {
   "cell_type": "markdown",
   "metadata": {},
   "source": [
    "#### 3. Create two variables called `gandalf_power` and `saruman_power` to store the list of spell powers of each sorcerer."
   ]
  },
  {
   "cell_type": "code",
   "execution_count": 55,
   "metadata": {},
   "outputs": [
    {
     "name": "stdout",
     "output_type": "stream",
     "text": [
      "[50, 40, 40, 10, 50, 10, 40, 50, 50, 50]\n",
      "[45, 45, 25, 50, 25, 40, 10, 45, 10, 10]\n"
     ]
    }
   ],
   "source": [
    "gandalf_power = []\n",
    "saruman_power = []\n",
    "for x in gandalf:\n",
    "    gandalf_power.append(POWER[x])\n",
    "print(gandalf_power)\n",
    "for x in saruman:\n",
    "    saruman_power.append(POWER[x])\n",
    "print(saruman_power)"
   ]
  },
  {
   "cell_type": "markdown",
   "metadata": {},
   "source": [
    "#### 4. The battle starts! Using the variables you've created above, code the execution of spell clashes. Remember that a sorcerer wins if he succeeds in winning 3 spell clashes in a row. \n",
    "If a clash ends up in a tie, the counter of wins in a row is not restarted to 0. Remember to print who is the winner of the battle. "
   ]
  },
  {
   "cell_type": "code",
   "execution_count": 56,
   "metadata": {},
   "outputs": [
    {
     "name": "stdout",
     "output_type": "stream",
     "text": [
      "Even match numbers. Let battle commence!\n",
      "Battle: 1 Gandalf Wins.\n",
      "Battle: 2 Saruman Wins.\n",
      "Battle: 3 Gandalf Wins.\n",
      "Battle: 4 Saruman Wins.\n",
      "Battle: 5 Gandalf Wins.\n",
      "Battle: 6 Saruman Wins.\n",
      "Battle: 7 Gandalf Wins.\n",
      "Battle: 8 Gandalf Wins.\n",
      "Battle: 9 Gandalf Wins.\n",
      "Gandalf is the champion with 3 wins in a row.\n"
     ]
    }
   ],
   "source": [
    "if len(gandalf_power) == len(saruman_power):\n",
    "    print(\"Even match numbers. Let battle commence!\")\n",
    "    number_of_battles = len(gandalf_power)\n",
    "    spells = 0\n",
    "    while spells < number_of_battles:\n",
    "        if gandalf_power[spells] > saruman_power[spells]:\n",
    "            print(\"Battle: \" + str(spells + 1) + \" Gandalf Wins.\")\n",
    "            gandalf_wins += 1\n",
    "            saruman_wins = 0\n",
    "        elif gandalf_power[spells] < saruman_power[spells]:\n",
    "            print(\"Battle: \" + str(spells + 1) + \" Saruman Wins.\")\n",
    "            saruman_wins += 1\n",
    "            gandalf_wins = 0\n",
    "        elif gandalf_power[spells] == saruman_power[spells]:\n",
    "            print(\"Battle is a tie.\")\n",
    "            ties += 1\n",
    "        spells += 1\n",
    "        if gandalf_wins == 3:\n",
    "            print(\"Gandalf is the champion with 3 wins in a row.\")\n",
    "            break\n",
    "        elif saruman_wins == 3:\n",
    "            print(\"Sarumanis is the champion with 3 wins in a row.\")\n",
    "            break\n",
    "        \n",
    "else:\n",
    "    print(\"Uneven match numbers.\")"
   ]
  },
  {
   "cell_type": "markdown",
   "metadata": {},
   "source": [
    "#### 5. Find the average spell power of Gandalf and Saruman. "
   ]
  },
  {
   "cell_type": "code",
   "execution_count": 57,
   "metadata": {},
   "outputs": [
    {
     "name": "stdout",
     "output_type": "stream",
     "text": [
      "The average power for Gandalf is: 39.0\n",
      "The average power for Saruman is: 30.5\n"
     ]
    }
   ],
   "source": [
    "def Average(lst): \n",
    "    return sum(lst) / len(lst)\n",
    "average_gandalf = Average(gandalf_power)\n",
    "print(\"The average power for Gandalf is: \" + str(average_gandalf))\n",
    "average_saruman = Average(saruman_power)\n",
    "print(\"The average power for Saruman is: \" + str(average_saruman))\n"
   ]
  },
  {
   "cell_type": "markdown",
   "metadata": {},
   "source": [
    "#### 6. Find the standard deviation of the spell power of Gandalf and Saruman. "
   ]
  },
  {
   "cell_type": "code",
   "execution_count": 58,
   "metadata": {},
   "outputs": [
    {
     "name": "stdout",
     "output_type": "stream",
     "text": [
      "Standard Deviation for Gandalf: 15.132745950421556\n",
      "Standard Deviation for Saruman: 15.56438241627338\n"
     ]
    }
   ],
   "source": [
    "import numpy as np\n",
    "print('Standard Deviation for Gandalf:', np.std(gandalf_power))\n",
    "print('Standard Deviation for Saruman:', np.std(saruman_power))\n"
   ]
  },
  {
   "cell_type": "code",
   "execution_count": null,
   "metadata": {},
   "outputs": [],
   "source": []
  }
 ],
 "metadata": {
  "kernelspec": {
   "display_name": "Python 3",
   "language": "python",
   "name": "python3"
  },
  "language_info": {
   "codemirror_mode": {
    "name": "ipython",
    "version": 3
   },
   "file_extension": ".py",
   "mimetype": "text/x-python",
   "name": "python",
   "nbconvert_exporter": "python",
   "pygments_lexer": "ipython3",
   "version": "3.7.6"
  }
 },
 "nbformat": 4,
 "nbformat_minor": 2
}
