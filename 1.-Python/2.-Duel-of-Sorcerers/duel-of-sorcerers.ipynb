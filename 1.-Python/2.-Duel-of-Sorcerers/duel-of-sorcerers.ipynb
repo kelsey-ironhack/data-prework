{
 "cells": [
  {
   "cell_type": "markdown",
   "metadata": {},
   "source": [
    "<img src=\"https://bit.ly/2VnXWr2\" width=\"100\" align=\"left\">"
   ]
  },
  {
   "cell_type": "markdown",
   "metadata": {},
   "source": [
    "# Duel of Sorcerers\n",
    "You are witnessing an epic battle between two powerful sorcerers: Gandalf and Saruman. Each sorcerer has 10 spells of variable power in their mind and they are going to throw them one after the other. The winner of the duel will be the one who wins more of those clashes between spells. Spells are represented as a list of 10 integers whose value equals the power of the spell.\n",
    "```\n",
    "gandalf = [10, 11, 13, 30, 22, 11, 10, 33, 22, 22]\n",
    "saruman = [23, 66, 12, 43, 12, 10, 44, 23, 12, 17]\n",
    "```\n",
    "For example:\n",
    "- The first clash is won by Saruman: 10 against 23.\n",
    "- The second clash is won by Saruman: 11 against 66.\n",
    "- ...\n",
    "\n",
    "You will create two variables, one for each sorcerer, where the sum of clashes won will be stored. Depending on which variable is greater at the end of the duel, you will show one of the following three results on the screen:\n",
    "* Gandalf wins\n",
    "* Saruman wins\n",
    "* Tie\n",
    "\n",
    "<img src=\"images/content_lightning_bolt_big.jpg\" width=\"400\">"
   ]
  },
  {
   "cell_type": "markdown",
   "metadata": {},
   "source": [
    "## Tools\n",
    "You don't necessarily need to use all the tools. Maybe you opt to use some of them or completely different ones, they are given to help you shape the exercise. Programming exercises can be solved in many different ways.\n",
    "\n",
    "1. Data structures: **lists, dictionaries**\n",
    "2. Loop: **for loop**\n",
    "3. Conditional statements: **if-elif-else**\n",
    "4. Functions: **range(), len(), print()**\n",
    "\n",
    "## Tasks\n",
    "\n",
    "#### 1. Create two variables called `gandalf` and `saruman` and assign them the spell power lists. Create a variable called `spells` to store the number of spells that the sorcerers cast. "
   ]
  },
  {
   "cell_type": "code",
   "execution_count": 1,
   "metadata": {},
   "outputs": [],
   "source": [
    "gandalf = [10, 11, 13, 30, 22, 11, 10, 33, 22, 22]\n",
    "saruman = [23, 66, 12, 43, 12, 10, 44, 23, 12, 17]\n",
    "spells = 0"
   ]
  },
  {
   "cell_type": "markdown",
   "metadata": {},
   "source": [
    "#### 2. Create two variables called `gandalf_wins` and `saruman_wins`. Set both of them to 0. \n",
    "You will use these variables to count the number of clashes each sorcerer wins. "
   ]
  },
  {
   "cell_type": "code",
   "execution_count": 2,
   "metadata": {},
   "outputs": [],
   "source": [
    "gandalf_wins = 0\n",
    "saruman_wins = 0"
   ]
  },
  {
   "cell_type": "markdown",
   "metadata": {},
   "source": [
    "#### 3. Using the lists of spells of both sorcerers, update variables `gandalf_wins` and `saruman_wins` to count the number of times each sorcerer wins a clash. "
   ]
  },
  {
   "cell_type": "code",
   "execution_count": 3,
   "metadata": {},
   "outputs": [
    {
     "name": "stdout",
     "output_type": "stream",
     "text": [
      "The clash is won by Saruman: 10 against 23\n",
      "  SARUMAN HAVE 1 WINS\n",
      "\n",
      "The clash is won by Saruman: 11 against 66\n",
      "  SARUMAN HAVE 2 WINS\n",
      "\n",
      "The clash is won by Gandalf: 13 against 12\n",
      "  GANDALF HAVE 1 WINS\n",
      "\n",
      "The clash is won by Saruman: 30 against 43\n",
      "  SARUMAN HAVE 3 WINS\n",
      "\n",
      "The clash is won by Gandalf: 22 against 12\n",
      "  GANDALF HAVE 2 WINS\n",
      "\n",
      "The clash is won by Gandalf: 11 against 10\n",
      "  GANDALF HAVE 3 WINS\n",
      "\n",
      "The clash is won by Saruman: 10 against 44\n",
      "  SARUMAN HAVE 4 WINS\n",
      "\n",
      "The clash is won by Gandalf: 33 against 23\n",
      "  GANDALF HAVE 4 WINS\n",
      "\n",
      "The clash is won by Gandalf: 22 against 12\n",
      "  GANDALF HAVE 5 WINS\n",
      "\n",
      "The clash is won by Gandalf: 22 against 17\n",
      "  GANDALF HAVE 6 WINS\n",
      "\n"
     ]
    }
   ],
   "source": [
    "for (gandalf_spell,saruman_spell) in zip(gandalf,saruman):\n",
    "    if(gandalf_spell < saruman_spell):\n",
    "        print(\"The clash is won by Saruman:\", gandalf_spell,\"against\",saruman_spell)\n",
    "        saruman_wins += 1\n",
    "        print(\"  SARUMAN HAVE\", saruman_wins,\"WINS\\n\")\n",
    "    elif(gandalf_spell > saruman_spell):\n",
    "        print(\"The clash is won by Gandalf:\", gandalf_spell,\"against\",saruman_spell)\n",
    "        gandalf_wins += 1\n",
    "        print(\"  GANDALF HAVE\", gandalf_wins,\"WINS\\n\")"
   ]
  },
  {
   "cell_type": "markdown",
   "metadata": {},
   "source": [
    "#### 4. Who won the battle?\n",
    "Print `Gandalf wins`, `Saruman wins` or `Tie` depending on the result. "
   ]
  },
  {
   "cell_type": "code",
   "execution_count": 4,
   "metadata": {},
   "outputs": [
    {
     "name": "stdout",
     "output_type": "stream",
     "text": [
      "GANDALF DESTROYED SARUMAN!\n"
     ]
    }
   ],
   "source": [
    "if (gandalf_wins > saruman_wins):\n",
    "    print(\"GANDALF DESTROYED SARUMAN!\")\n",
    "elif (gandalf_wins < saruman_wins):\n",
    "    print(\"SARUMAN ANIHILATED GANDALF!\")\n",
    "else: \n",
    "    print(\"TIE! WHAT A WONDERFUL MATCHUP\")\n",
    "    \n",
    "saruman_wins = 0\n",
    "gandalf_wins = 0"
   ]
  },
  {
   "cell_type": "markdown",
   "metadata": {},
   "source": [
    "## Bonus\n",
    "\n",
    "In this bonus challenge, you'll need to check the winner of the battle but this time, a sorcerer wins if he succeeds in winning 3 spell clashes in a row.\n",
    "\n",
    "Also, the spells now have a name and there is a dictionary that associates that name to a power.\n",
    "\n",
    "```\n",
    "POWER = {\n",
    "    'Fireball': 50, \n",
    "    'Lightning bolt': 40, \n",
    "    'Magic arrow': 10, \n",
    "    'Black Tentacles': 25, \n",
    "    'Contagion': 45\n",
    "}\n",
    "\n",
    "gandalf = ['Fireball', 'Lightning bolt', 'Lightning bolt', 'Magic arrow', 'Fireball', \n",
    "           'Magic arrow', 'Lightning bolt', 'Fireball', 'Fireball', 'Fireball']\n",
    "saruman = ['Contagion', 'Contagion', 'Black Tentacles', 'Fireball', 'Black Tentacles', \n",
    "           'Lightning bolt', 'Magic arrow', 'Contagion', 'Magic arrow', 'Magic arrow']\n",
    "```\n",
    "\n",
    "#### 1. Create variables `POWER`, `gandalf` and `saruman` as seen above. Create a variable called `spells` to store the number of spells that the sorcerers cast. "
   ]
  },
  {
   "cell_type": "code",
   "execution_count": 5,
   "metadata": {},
   "outputs": [],
   "source": [
    "POWER = {\n",
    "    'Fireball': 50, \n",
    "    'Lightning bolt': 40, \n",
    "    'Magic arrow': 10, \n",
    "    'Black Tentacles': 25, \n",
    "    'Contagion': 45\n",
    "}\n",
    "\n",
    "gandalf = ['Fireball', 'Lightning bolt', 'Lightning bolt', 'Magic arrow', 'Fireball', \n",
    "           'Magic arrow', 'Lightning bolt', 'Fireball', 'Fireball', 'Fireball']\n",
    "saruman = ['Contagion', 'Contagion', 'Black Tentacles', 'Fireball', 'Black Tentacles', \n",
    "           'Lightning bolt', 'Magic arrow', 'Contagion', 'Magic arrow', 'Magic arrow']"
   ]
  },
  {
   "cell_type": "markdown",
   "metadata": {},
   "source": [
    "#### 2. Create two variables called `gandalf_wins` and `saruman_wins`. Set both of them to 0. "
   ]
  },
  {
   "cell_type": "code",
   "execution_count": 6,
   "metadata": {},
   "outputs": [],
   "source": [
    "gandalf_wins = 0\n",
    "saruman_wins = 0"
   ]
  },
  {
   "cell_type": "markdown",
   "metadata": {},
   "source": [
    "#### 3. Create two variables called `gandalf_power` and `saruman_power` to store the list of spell powers of each sorcerer."
   ]
  },
  {
   "cell_type": "code",
   "execution_count": 7,
   "metadata": {},
   "outputs": [],
   "source": [
    "gandalf_power = []\n",
    "    \n",
    "saruman_power = []"
   ]
  },
  {
   "cell_type": "markdown",
   "metadata": {},
   "source": [
    "#### 4. The battle starts! Using the variables you've created above, code the execution of spell clashes. Remember that a sorcerer wins if he succeeds in winning 3 spell clashes in a row. \n",
    "If a clash ends up in a tie, the counter of wins in a row is not restarted to 0. Remember to print who is the winner of the battle. "
   ]
  },
  {
   "cell_type": "code",
   "execution_count": 13,
   "metadata": {},
   "outputs": [
    {
     "name": "stdout",
     "output_type": "stream",
     "text": [
      "The clash is won by Gandalf: Fireball vs Contagion\n",
      "  GANDALF HAVE 9 WINS\n",
      "\n",
      "The clash is won by Saruman: Lightning bolt vs Contagion\n",
      "  SARUMAN HAVE 4 WINS\n",
      "\n",
      "The clash is won by Gandalf: Lightning bolt vs Black Tentacles\n",
      "  GANDALF HAVE 10 WINS\n",
      "\n",
      "The clash is won by Saruman: Magic arrow vs Fireball\n",
      "  SARUMAN HAVE 5 WINS\n",
      "\n",
      "The clash is won by Gandalf: Fireball vs Black Tentacles\n",
      "  GANDALF HAVE 11 WINS\n",
      "\n",
      "The clash is won by Saruman: Magic arrow vs Lightning bolt\n",
      "  SARUMAN HAVE 6 WINS\n",
      "\n",
      "The clash is won by Gandalf: Lightning bolt vs Magic arrow\n",
      "  GANDALF HAVE 12 WINS\n",
      "\n",
      "The clash is won by Gandalf: Fireball vs Contagion\n",
      "  GANDALF HAVE 13 WINS\n",
      "\n",
      "The clash is won by Gandalf: Fireball vs Magic arrow\n",
      "  GANDALF HAVE 14 WINS\n",
      "\n",
      "The clash is won by Gandalf: Fireball vs Magic arrow\n",
      "  GANDALF HAVE 15 WINS\n",
      "\n"
     ]
    }
   ],
   "source": [
    "for (gandalf_spell,saruman_spell) in zip(gandalf,saruman):\n",
    "    \n",
    "    if(POWER[gandalf_spell] < POWER[saruman_spell]):\n",
    "        print(\"The clash is won by Saruman:\", gandalf_spell,\"vs\",saruman_spell)\n",
    "        saruman_wins += 1\n",
    "        print(\"  SARUMAN HAVE\", saruman_wins,\"WINS\\n\")\n",
    "        \n",
    "    elif(POWER [gandalf_spell] > POWER[saruman_spell]):\n",
    "        print(\"The clash is won by Gandalf:\", gandalf_spell,\"vs\",saruman_spell)\n",
    "        gandalf_wins += 1\n",
    "        print(\"  GANDALF HAVE\", gandalf_wins,\"WINS\\n\")\n",
    "        \n",
    "    gandalf_power.append(POWER[gandalf_spell])\n",
    "    saruman_power.append(POWER[saruman_spell])"
   ]
  },
  {
   "cell_type": "code",
   "execution_count": 14,
   "metadata": {},
   "outputs": [
    {
     "name": "stdout",
     "output_type": "stream",
     "text": [
      "[50, 40, 40, 10, 50, 10, 40, 50, 50, 50, 50, 40, 40, 10, 50, 10, 40, 50, 50, 50]\n",
      "[45, 45, 25, 50, 25, 40, 10, 45, 10, 10, 45, 45, 25, 50, 25, 40, 10, 45, 10, 10]\n"
     ]
    }
   ],
   "source": [
    "print(gandalf_power)\n",
    "print(saruman_power)"
   ]
  },
  {
   "cell_type": "markdown",
   "metadata": {},
   "source": [
    "#### 5. Find the average spell power of Gandalf and Saruman. "
   ]
  },
  {
   "cell_type": "code",
   "execution_count": 15,
   "metadata": {},
   "outputs": [
    {
     "name": "stdout",
     "output_type": "stream",
     "text": [
      "AVG GANDALF POWER: 39.0\n",
      "AVG SARUMAN POWER: 30.5\n"
     ]
    }
   ],
   "source": [
    "avg_gandalf_power= sum(gandalf_power)/len(gandalf_power)\n",
    "avg_saruman_power= sum(saruman_power)/len(saruman_power)\n",
    "\n",
    "print(\"AVG GANDALF POWER:\",avg_gandalf_power)\n",
    "print(\"AVG SARUMAN POWER:\",avg_saruman_power)"
   ]
  },
  {
   "cell_type": "markdown",
   "metadata": {},
   "source": [
    "#### 6. Find the standard deviation of the spell power of Gandalf and Saruman. "
   ]
  },
  {
   "cell_type": "code",
   "execution_count": 12,
   "metadata": {},
   "outputs": [
    {
     "name": "stdout",
     "output_type": "stream",
     "text": [
      "STANDARD DEVIATION GANDALF POWER: 15.951314818673865\n",
      "STANDARD DEVIATION SARUMAN POWER: 16.40629960309962\n"
     ]
    }
   ],
   "source": [
    "import statistics\n",
    "\n",
    "stdev_gandalf_power = statistics.stdev(gandalf_power)\n",
    "stdev_saruman_power = statistics.stdev(saruman_power)\n",
    "\n",
    "print(\"STANDARD DEVIATION GANDALF POWER:\",stdev_gandalf_power)\n",
    "print(\"STANDARD DEVIATION SARUMAN POWER:\",stdev_saruman_power)\n"
   ]
  }
 ],
 "metadata": {
  "kernelspec": {
   "display_name": "Python 3",
   "language": "python",
   "name": "python3"
  },
  "language_info": {
   "codemirror_mode": {
    "name": "ipython",
    "version": 3
   },
   "file_extension": ".py",
   "mimetype": "text/x-python",
   "name": "python",
   "nbconvert_exporter": "python",
   "pygments_lexer": "ipython3",
   "version": "3.7.6"
  }
 },
 "nbformat": 4,
 "nbformat_minor": 2
}
