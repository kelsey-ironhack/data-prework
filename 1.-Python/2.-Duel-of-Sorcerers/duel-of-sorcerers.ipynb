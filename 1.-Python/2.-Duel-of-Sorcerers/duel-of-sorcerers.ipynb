{
 "cells": [
  {
   "cell_type": "markdown",
   "metadata": {},
   "source": [
    "<img src=\"https://bit.ly/2VnXWr2\" width=\"100\" align=\"left\">"
   ]
  },
  {
   "cell_type": "markdown",
   "metadata": {},
   "source": [
    "# Duel of Sorcerers\n",
    "You are witnessing an epic battle between two powerful sorcerers: Gandalf and Saruman. Each sorcerer has 10 spells of variable power in their mind and they are going to throw them one after the other. The winner of the duel will be the one who wins more of those clashes between spells. Spells are represented as a list of 10 integers whose value equals the power of the spell.\n",
    "```\n",
    "gandalf = [10, 11, 13, 30, 22, 11, 10, 33, 22, 22]\n",
    "saruman = [23, 66, 12, 43, 12, 10, 44, 23, 12, 17]\n",
    "```\n",
    "For example:\n",
    "- The first clash is won by Saruman: 10 against 23.\n",
    "- The second clash is won by Saruman: 11 against 66.\n",
    "- ...\n",
    "\n",
    "You will create two variables, one for each sorcerer, where the sum of clashes won will be stored. Depending on which variable is greater at the end of the duel, you will show one of the following three results on the screen:\n",
    "* Gandalf wins\n",
    "* Saruman wins\n",
    "* Tie\n",
    "\n",
    "<img src=\"images/content_lightning_bolt_big.jpg\" width=\"400\">"
   ]
  },
  {
   "cell_type": "markdown",
   "metadata": {},
   "source": [
    "## Tools\n",
    "You don't necessarily need to use all the tools. Maybe you opt to use some of them or completely different ones, they are given to help you shape the exercise. Programming exercises can be solved in many different ways.\n",
    "\n",
    "1. Data structures: **lists, dictionaries**\n",
    "2. Loop: **for loop**\n",
    "3. Conditional statements: **if-elif-else**\n",
    "4. Functions: **range(), len(), print()**\n",
    "\n",
    "## Tasks\n",
    "\n",
    "#### 1. Create two variables called `gandalf` and `saruman` and assign them the spell power lists. Create a variable called `spells` to store the number of spells that the sorcerers cast. "
   ]
  },
  {
   "cell_type": "code",
   "execution_count": 1,
   "metadata": {},
   "outputs": [],
   "source": [
    "gandalf=[10,11,13,30,22,11,10,33,22,22]\n",
    "saruman=[23,66,12,43,12,10,44,23,12,17]\n",
    "spells=len(gandalf)+len(saruman)\n",
    "print(spells)"
   ]
  },
  {
   "cell_type": "markdown",
   "metadata": {},
   "source": [
    "#### 2. Create two variables called `gandalf_wins` and `saruman_wins`. Set both of them to 0. \n",
    "You will use these variables to count the number of clashes each sorcerer wins. "
   ]
  },
  {
   "cell_type": "code",
   "execution_count": 2,
   "metadata": {},
   "outputs": [],
   "source": [
    "gandalf_wins=0\n",
    "saruman_wins=0"
   ]
  },
  {
   "cell_type": "markdown",
   "metadata": {},
   "source": [
    "#### 3. Using the lists of spells of both sorcerers, update variables `gandalf_wins` and `saruman_wins` to count the number of times each sorcerer wins a clash. "
   ]
  },
  {
   "cell_type": "code",
   "execution_count": 3,
   "metadata": {},
   "outputs": [
    {
     "name": "stdout",
     "output_type": "stream",
     "text": [
      "0 gandalf win\n",
      "1 saruman win\n",
      "0 gandalf win\n",
      "2 saruman win\n",
      "1 gandalf win\n",
      "2 saruman win\n",
      "1 gandalf win\n",
      "3 saruman win\n",
      "2 gandalf win\n",
      "3 saruman win\n",
      "3 gandalf win\n",
      "3 saruman win\n",
      "3 gandalf win\n",
      "4 saruman win\n",
      "4 gandalf win\n",
      "4 saruman win\n",
      "5 gandalf win\n",
      "4 saruman win\n",
      "6 gandalf win\n",
      "4 saruman win\n"
     ]
    }
   ],
   "source": [
    "gandalf_wins=0\n",
    "saruman_wins=0\n",
    "gandalf=[10,11,13,30,22,11,10,33,22,22]\n",
    "saruman=[23,66,12,43,12,10,44,23,12,17]\n",
    "for i in range(0,len(gandalf)):\n",
    "    if gandalf[i]>saruman[i]:\n",
    "        gandalf_wins+=1\n",
    "    else :\n",
    "        saruman_wins+=1\n",
    "    \n",
    "    print(gandalf_wins,\"gandalf win\")\n",
    "    print(saruman_wins, \"saruman win\")"
   ]
  },
  {
   "cell_type": "markdown",
   "metadata": {},
   "source": [
    "#### 4. Who won the battle?\n",
    "Print `Gandalf wins`, `Saruman wins` or `Tie` depending on the result. "
   ]
  },
  {
   "cell_type": "code",
   "execution_count": 4,
   "metadata": {},
   "outputs": [
    {
     "name": "stdout",
     "output_type": "stream",
     "text": [
      "Saruman wins\n"
     ]
    }
   ],
   "source": [
    "gandalf=[10,11,13,30,22,11,10,33,22,22]\n",
    "saruman=[23,66,12,43,12,10,44,23,12,17]\n",
    "total_gandalf=sum(gandalf)\n",
    "total_saruman=sum(saruman)\n",
    "\n",
    "battle_win= total_gandalf - total_saruman\n",
    "if battle_win > 0:\n",
    "    print(\"Gandalf wins\")\n",
    "elif battle_win < 0:\n",
    "    print(\"Saruman wins\")\n",
    "else:\n",
    "    print(\"Tie\")\n"
   ]
  },
  {
   "cell_type": "markdown",
   "metadata": {},
   "source": [
    "## Bonus\n",
    "\n",
    "In this bonus challenge, you'll need to check the winner of the battle but this time, a sorcerer wins if he succeeds in winning 3 spell clashes in a row.\n",
    "\n",
    "Also, the spells now have a name and there is a dictionary that associates that name to a power.\n",
    "\n",
    "```\n",
    "POWER = {\n",
    "    'Fireball': 50, \n",
    "    'Lightning bolt': 40, \n",
    "    'Magic arrow': 10, \n",
    "    'Black Tentacles': 25, \n",
    "    'Contagion': 45\n",
    "}\n",
    "\n",
    "gandalf = ['Fireball', 'Lightning bolt', 'Lightning bolt', 'Magic arrow', 'Fireball', \n",
    "           'Magic arrow', 'Lightning bolt', 'Fireball', 'Fireball', 'Fireball']\n",
    "saruman = ['Contagion', 'Contagion', 'Black Tentacles', 'Fireball', 'Black Tentacles', \n",
    "           'Lightning bolt', 'Magic arrow', 'Contagion', 'Magic arrow', 'Magic arrow']\n",
    "```\n",
    "\n",
    "#### 1. Create variables `POWER`, `gandalf` and `saruman` as seen above. Create a variable called `spells` to store the number of spells that the sorcerers cast. "
   ]
  },
  {
   "cell_type": "code",
   "execution_count": 5,
   "metadata": {},
   "outputs": [
    {
     "name": "stdout",
     "output_type": "stream",
     "text": [
      "10 gandalf spells\n",
      "10 saruman spells\n",
      "20 total spells\n"
     ]
    }
   ],
   "source": [
    "POWER = {'fireball':50, 'lightning bolt':40, 'magic arrow':10, 'black tentacles':25, 'contagion':45}\n",
    "gandalf = ['fireball','lightning bolt','lightning bolt', 'magic arrow', 'fireball', 'magic arrow', 'lightning bolt', 'fireball', 'fireball', 'fireball']\n",
    "saruman = ['contagion', 'contagion', 'black tentacles', 'fireball', 'black tentacles', 'lightning bolt', 'magic arrow', 'contagion', 'magic arrow', 'magic arrow']\n",
    "gandalf_spells=len(gandalf)\n",
    "saruman_spells=len(saruman)\n",
    "total_spells= gandalf_spells + saruman_spells\n",
    "print(gandalf_spells,'gandalf spells')\n",
    "print(saruman_spells,'saruman spells')\n",
    "print(total_spells,'total spells')"
   ]
  },
  {
   "cell_type": "markdown",
   "metadata": {},
   "source": [
    "#### 2. Create two variables called `gandalf_wins` and `saruman_wins`. Set both of them to 0. "
   ]
  },
  {
   "cell_type": "code",
   "execution_count": 6,
   "metadata": {},
   "outputs": [],
   "source": [
    "gandalf_wins=0\n",
    "saruman_wins=0"
   ]
  },
  {
   "cell_type": "markdown",
   "metadata": {},
   "source": [
    "#### 3. Create two variables called `gandalf_power` and `saruman_power` to store the list of spell powers of each sorcerer."
   ]
  },
  {
   "cell_type": "code",
   "execution_count": 7,
   "metadata": {},
   "outputs": [
    {
     "name": "stdout",
     "output_type": "stream",
     "text": [
      "[50, 40, 40, 10, 50, 10, 40, 50, 50, 50] gandalf_power list\n",
      "[45, 45, 25, 50, 25, 40, 10, 45, 10, 10] saruman_power list\n"
     ]
    }
   ],
   "source": [
    "#POWER = {'fireball':50, 'lightning bolt':40, 'magic arrow':10, 'black tentacles':25, 'contagion':45}\n",
    "#gandalf = ['fireball','lightning bolt','lightning bolt', 'magic arrow', 'fireball', 'magic arrow', 'lightning bolt', 'fireball', 'fireball', 'fireball']\n",
    "#saruman = ['contagion', 'contagion', 'black tentacles', 'fireball', 'black tentacles', 'lightning bolt', 'magic arrow', 'contagion', 'magic arrow', 'magic arrow']\n",
    "gandalf_power = list()\n",
    "saruman_power = list()\n",
    "for spell in gandalf:\n",
    "    gandalf_power.append(POWER[spell])\n",
    "for spell in saruman:\n",
    "    saruman_power.append(POWER[spell])\n",
    "\n",
    "print(gandalf_power,'gandalf_power list')\n",
    "print(saruman_power,'saruman_power list')\n"
   ]
  },
  {
   "cell_type": "markdown",
   "metadata": {},
   "source": [
    "#### 4. The battle starts! Using the variables you've created above, code the execution of spell clashes. Remember that a sorcerer wins if he succeeds in winning 3 spell clashes in a row. \n",
    "If a clash ends up in a tie, the counter of wins in a row is not restarted to 0. Remember to print who is the winner of the battle. "
   ]
  },
  {
   "cell_type": "code",
   "execution_count": 8,
   "metadata": {},
   "outputs": [
    {
     "name": "stdout",
     "output_type": "stream",
     "text": [
      "Gandalf wins\n"
     ]
    }
   ],
   "source": [
    "gandalf_wins=0\n",
    "saruman_wins=0\n",
    "winner=False\n",
    "while  not winner:\n",
    "    for spells in range(0,len(gandalf_power)):\n",
    "        if gandalf_power[spells]>saruman_power[spells]:\n",
    "            gandalf_wins += 1\n",
    "            saruman_wins = 0\n",
    "        elif gandalf_power[spells]<saruman_power[spells]:\n",
    "            saruman_wins += 1\n",
    "            gandalf_wins = 0\n",
    "        if gandalf_wins == 3:\n",
    "            winner=True\n",
    "            print('Gandalf wins')\n",
    "            break\n",
    "        elif saruman_wins == 3:\n",
    "            winner=True\n",
    "            print('Saruman wins')\n",
    "            break"
   ]
  },
  {
   "cell_type": "markdown",
   "metadata": {},
   "source": [
    "#### 5. Find the average spell power of Gandalf and Saruman. "
   ]
  },
  {
   "cell_type": "code",
   "execution_count": 9,
   "metadata": {},
   "outputs": [
    {
     "name": "stdout",
     "output_type": "stream",
     "text": [
      "30.5 Saruman Average\n",
      "39.0 Gandalf Average\n"
     ]
    }
   ],
   "source": [
    "gandalf_average=sum(gandalf_power)/len(gandalf_power)\n",
    "saruman_average=sum(saruman_power)/len(saruman_power)\n",
    "print(saruman_average, 'Saruman Average')\n",
    "print(gandalf_average,'Gandalf Average')"
   ]
  },
  {
   "cell_type": "markdown",
   "metadata": {},
   "source": [
    "#### 6. Find the standard deviation of the spell power of Gandalf and Saruman. "
   ]
  },
  {
   "cell_type": "code",
   "execution_count": 10,
   "metadata": {},
   "outputs": [
    {
     "name": "stdout",
     "output_type": "stream",
     "text": [
      "15.951314818673865 Gandalf standard deviation\n",
      "16.40629960309962 Saruman standard deviation\n"
     ]
    }
   ],
   "source": [
    "import statistics\n",
    "\n",
    "Gandalf_standev= statistics.stdev(gandalf_power)\n",
    "Saruman_standev= statistics.stdev(saruman_power)\n",
    "\n",
    "print(Gandalf_standev,'Gandalf standard deviation')\n",
    "print(Saruman_standev,'Saruman standard deviation')"
   ]
  },
  {
   "cell_type": "code",
   "execution_count": null,
   "metadata": {},
   "outputs": [],
   "source": []
  }
 ],
 "metadata": {
  "kernelspec": {
   "display_name": "Python 3",
   "language": "python",
   "name": "python3"
  },
  "language_info": {
   "codemirror_mode": {
    "name": "ipython",
    "version": 3
   },
   "file_extension": ".py",
   "mimetype": "text/x-python",
   "name": "python",
   "nbconvert_exporter": "python",
   "pygments_lexer": "ipython3",
   "version": "3.8.3"
  }
 },
 "nbformat": 4,
 "nbformat_minor": 2
}
