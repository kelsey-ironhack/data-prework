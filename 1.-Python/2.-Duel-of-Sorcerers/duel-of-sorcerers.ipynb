{
 "cells": [
  {
   "cell_type": "markdown",
   "metadata": {},
   "source": [
    "<img src=\"https://bit.ly/2VnXWr2\" width=\"100\" align=\"left\">"
   ]
  },
  {
   "cell_type": "markdown",
   "metadata": {},
   "source": [
    "# Duel of Sorcerers\n",
    "You are witnessing an epic battle between two powerful sorcerers: Gandalf and Saruman. Each sorcerer has 10 spells of variable power in their mind and they are going to throw them one after the other. The winner of the duel will be the one who wins more of those clashes between spells. Spells are represented as a list of 10 integers whose value equals the power of the spell.\n",
    "```\n",
    "gandalf = [10, 11, 13, 30, 22, 11, 10, 33, 22, 22]\n",
    "saruman = [23, 66, 12, 43, 12, 10, 44, 23, 12, 17]\n",
    "```\n",
    "For example:\n",
    "- The first clash is won by Saruman: 10 against 23.\n",
    "- The second clash is won by Saruman: 11 against 66.\n",
    "- ...\n",
    "\n",
    "You will create two variables, one for each sorcerer, where the sum of clashes won will be stored. Depending on which variable is greater at the end of the duel, you will show one of the following three results on the screen:\n",
    "* Gandalf wins\n",
    "* Saruman wins\n",
    "* Tie\n",
    "\n",
    "<img src=\"images/content_lightning_bolt_big.jpg\" width=\"400\">"
   ]
  },
  {
   "cell_type": "markdown",
   "metadata": {},
   "source": [
    "## Tools\n",
    "You don't necessarily need to use all the tools. Maybe you opt to use some of them or completely different ones, they are given to help you shape the exercise. Programming exercises can be solved in many different ways.\n",
    "\n",
    "1. Data structures: **lists, dictionaries**\n",
    "2. Loop: **for loop**\n",
    "3. Conditional statements: **if-elif-else**\n",
    "4. Functions: **range(), len(), print()**\n",
    "\n",
    "## Tasks\n",
    "\n",
    "#### 1. Create two variables called `gandalf` and `saruman` and assign them the spell power lists. Create a variable called `spells` to store the number of spells that the sorcerers cast. "
   ]
  },
  {
   "cell_type": "code",
   "execution_count": 79,
   "metadata": {},
   "outputs": [],
   "source": [
    "gandalf = [10, 11, 13, 30, 22, 11, 10, 33, 22, 22]\n",
    "saruman = [23, 66, 12, 43, 12, 10, 44, 23, 12, 17]\n",
    "spells = len(gandalf) #no of spells are same for both sorcerers in this example\n",
    "#spell_diff = cmp(gandalf,saruman)\n",
    "#spell_diff\n",
    "#list should iterate over each and find spells_diff = gandalf-saruman"
   ]
  },
  {
   "cell_type": "markdown",
   "metadata": {},
   "source": [
    "#### 2. Create two variables called `gandalf_wins` and `saruman_wins`. Set both of them to 0. \n",
    "You will use these variables to count the number of clashes each sorcerer wins. "
   ]
  },
  {
   "cell_type": "code",
   "execution_count": 80,
   "metadata": {},
   "outputs": [],
   "source": [
    "gandalf_wins = 0\n",
    "saruman_wins = 0\n",
    "tie = 0"
   ]
  },
  {
   "cell_type": "markdown",
   "metadata": {},
   "source": [
    "#### 3. Using the lists of spells of both sorcerers, update variables `gandalf_wins` and `saruman_wins` to count the number of times each sorcerer wins a clash. "
   ]
  },
  {
   "cell_type": "code",
   "execution_count": 81,
   "metadata": {},
   "outputs": [],
   "source": [
    "for i in range(0,spells):\n",
    "    #spells_diff = saruman.index(i) - gandalf.index(i)\n",
    "    #spells_1 = i \n",
    "    #spells_diff = i - j\n",
    "    if saruman[i] < gandalf[i]:\n",
    "        gandalf_wins += 1\n",
    "    elif saruman[i] > gandalf[i]:\n",
    "        saruman_wins += 1\n",
    "    else:\n",
    "        tie +=1\n",
    "    #i +=1\n",
    "\n",
    "    #spells.append(spells_diff)\n",
    "        \n",
    "\n",
    "    "
   ]
  },
  {
   "cell_type": "markdown",
   "metadata": {},
   "source": [
    "#### 4. Who won the battle?\n",
    "Print `Gandalf wins`, `Saruman wins` or `Tie` depending on the result. "
   ]
  },
  {
   "cell_type": "code",
   "execution_count": 82,
   "metadata": {},
   "outputs": [
    {
     "name": "stdout",
     "output_type": "stream",
     "text": [
      "Tie:  0\n",
      "Gandalf wins:  6\n",
      "Saruman wins:  4\n"
     ]
    }
   ],
   "source": [
    "print(\"Tie: \", tie)\n",
    "print(\"Gandalf wins: \",gandalf_wins)\n",
    "print(\"Saruman wins: \",saruman_wins)"
   ]
  },
  {
   "cell_type": "markdown",
   "metadata": {},
   "source": [
    "## Bonus\n",
    "\n",
    "In this bonus challenge, you'll need to check the winner of the battle but this time, a sorcerer wins if he succeeds in winning 3 spell clashes in a row.\n",
    "\n",
    "Also, the spells now have a name and there is a dictionary that associates that name to a power.\n",
    "\n",
    "```\n",
    "POWER = {\n",
    "    'Fireball': 50, \n",
    "    'Lightning bolt': 40, \n",
    "    'Magic arrow': 10, \n",
    "    'Black Tentacles': 25, \n",
    "    'Contagion': 45\n",
    "}\n",
    "\n",
    "gandalf = ['Fireball', 'Lightning bolt', 'Lightning bolt', 'Magic arrow', 'Fireball', \n",
    "           'Magic arrow', 'Lightning bolt', 'Fireball', 'Fireball', 'Fireball']\n",
    "saruman = ['Contagion', 'Contagion', 'Black Tentacles', 'Fireball', 'Black Tentacles', \n",
    "           'Lightning bolt', 'Magic arrow', 'Contagion', 'Magic arrow', 'Magic arrow']\n",
    "```\n",
    "\n",
    "#### 1. Create variables `POWER`, `gandalf` and `saruman` as seen above. Create a variable called `spells` to store the number of spells that the sorcerers cast. "
   ]
  },
  {
   "cell_type": "code",
   "execution_count": 1,
   "metadata": {},
   "outputs": [],
   "source": [
    "power = {\n",
    "    'Fireball': 50, \n",
    "    'Lightning bolt': 40, \n",
    "    'Magic arrow': 10, \n",
    "    'Black Tentacles': 25, \n",
    "    'Contagion': 45\n",
    "}\n",
    "\n",
    "gandalf_move = ['Fireball', 'Lightning bolt', 'Lightning bolt', 'Magic arrow', 'Fireball', \n",
    "           'Magic arrow', 'Lightning bolt', 'Fireball', 'Fireball', 'Fireball']\n",
    "saruman_move = ['Contagion', 'Contagion', 'Black Tentacles', 'Fireball', 'Black Tentacles', \n",
    "           'Lightning bolt', 'Magic arrow', 'Contagion', 'Magic arrow', 'Magic arrow']\n",
    "\n",
    "spells = len(gandalf_move) "
   ]
  },
  {
   "cell_type": "markdown",
   "metadata": {},
   "source": [
    "#### 2. Create two variables called `gandalf_wins` and `saruman_wins`. Set both of them to 0. "
   ]
  },
  {
   "cell_type": "code",
   "execution_count": 2,
   "metadata": {},
   "outputs": [],
   "source": [
    "gandalf_wins = 0\n",
    "saruman_wins = 0\n",
    "tie = 0"
   ]
  },
  {
   "cell_type": "markdown",
   "metadata": {},
   "source": [
    "#### 3. Create two variables called `gandalf_power` and `saruman_power` to store the list of spell powers of each sorcerer."
   ]
  },
  {
   "cell_type": "code",
   "execution_count": 3,
   "metadata": {},
   "outputs": [],
   "source": [
    "gandalf_power = [50, 40, 40, 10, 50, 10, 40, 50, 50, 50]\n",
    "saruman_power = [45, 45, 25, 50, 25, 40, 10, 45, 10, 10] \n",
    "\n",
    "#gandalf_power\n",
    "\n",
    "#tried to build these lists by using code below but got error \"black tentacles\"is not in the list\n",
    "#will try it again later to see if i can figure out another way\n",
    "#for i in power:\n",
    "    #if gandalf.index(i) == power.keys():\n",
    "      #  gandalf_power_val == power.value()\n",
    "      #  gandalf_power.append(gandalf_power_val)\n",
    "    #elif saruman.index(i)== power.keys():\n",
    "      #  saruman_power_val == power.value()\n",
    "      #  saruman_power.append(saruman_power_val)\n",
    "    #else:\n",
    "       # print('not found')\n",
    "\n"
   ]
  },
  {
   "cell_type": "markdown",
   "metadata": {},
   "source": [
    "#### 4. The battle starts! Using the variables you've created above, code the execution of spell clashes. Remember that a sorcerer wins if he succeeds in winning 3 spell clashes in a row. \n",
    "If a clash ends up in a tie, the counter of wins in a row is not restarted to 0. Remember to print who is the winner of the battle. "
   ]
  },
  {
   "cell_type": "code",
   "execution_count": 22,
   "metadata": {},
   "outputs": [
    {
     "name": "stdout",
     "output_type": "stream",
     "text": [
      "[1, 2, 1, 2, 1, 2, 1, 1, 1, 1]\n",
      "it's a tie.\n",
      "it's a tie.\n",
      "it's a tie.\n",
      "it's a tie.\n",
      "it's a tie.\n",
      "it's a tie.\n",
      "the winner counter value is:  1\n",
      "Your winner is: Gandalf\n",
      "the winner counter value is:  1\n",
      "Your winner is: Gandalf\n"
     ]
    }
   ],
   "source": [
    "#assigning win value of 1 to Gandalf, and 2 to Saruman.\n",
    "win_power_counter = []\n",
    "\n",
    "for i in range(0,spells):\n",
    "    #spells_diff = saruman.index(i) - gandalf.index(i)\n",
    "    #spells_1 = i \n",
    "    #spells_diff = i - j\n",
    "    if saruman_power[i] < gandalf_power[i]:\n",
    "        gandalf_wins += 1\n",
    "        win_power_counter.append(1)\n",
    "    elif saruman_power[i] > gandalf_power[i]:\n",
    "        saruman_wins += 1\n",
    "        win_power_counter.append(2)\n",
    "    else:\n",
    "        tie +=1\n",
    "        win_power_counter.append(2)\n",
    "    \n",
    "\n",
    "print(win_power_counter)\n",
    "size_of_comp = len(win_power_counter)\n",
    "for i in range(size_of_comp-2):\n",
    "    if win_power_counter[i]== win_power_counter[i+1] and win_power_counter[i+1]== win_power_counter[i+2]:\n",
    "        print(\"the winner counter value is: \", win_power_counter[i])\n",
    "        if win_power_counter[i]==1:\n",
    "            print(\"Your winner is: Gandalf\")\n",
    "        elif win_power_counter[i]==2:\n",
    "            print(\"Your winner is: Saruman\",)\n",
    "        else:\n",
    "            print(\"No winner found \")\n",
    "    else:\n",
    "        print(\"it's a tie.\")\n",
    "        \n",
    "    \n",
    "#for i in range(0,spells):\n",
    "    #spells_diff = saruman.index(i) - gandalf.index(i)\n",
    "    #spells_1 = i \n",
    "    #spells_diff = i - j\n",
    "    #if saruman[i] < gandalf[i]:\n",
    "        #gandalf_wins += 1\n",
    "    #elif saruman[i] > gandalf[i]:\n",
    "        #saruman_wins += 1\n",
    "    #else:\n",
    "        #tie +=1\n",
    "    #i +=1\n",
    "    "
   ]
  },
  {
   "cell_type": "markdown",
   "metadata": {},
   "source": [
    "#### 5. Find the average spell power of Gandalf and Saruman. "
   ]
  },
  {
   "cell_type": "code",
   "execution_count": 23,
   "metadata": {},
   "outputs": [
    {
     "name": "stdout",
     "output_type": "stream",
     "text": [
      "39.0\n",
      "30.5\n"
     ]
    }
   ],
   "source": [
    "avg_gandalf_sp = sum(gandalf_power)/len(gandalf_power)\n",
    "avg_saruman_sp = sum(saruman_power)/len(saruman_power)\n",
    "print(avg_gandalf_sp)\n",
    "print(avg_saruman_sp)\n"
   ]
  },
  {
   "cell_type": "markdown",
   "metadata": {},
   "source": [
    "#### 6. Find the standard deviation of the spell power of Gandalf and Saruman. "
   ]
  },
  {
   "cell_type": "code",
   "execution_count": 25,
   "metadata": {},
   "outputs": [
    {
     "name": "stdout",
     "output_type": "stream",
     "text": [
      "Stdev of Gandalf spell power:  15.132745950421556\n",
      "Stdev of Saruman spell power:  15.56438241627338\n"
     ]
    }
   ],
   "source": [
    "import math\n",
    "\n",
    "#for the population list (overall)\n",
    "list_gan = []\n",
    "for i in gandalf_power:\n",
    "    diff_mean_obs = i - avg_gandalf_sp\n",
    "    diff_mean_obs_sq = diff_mean_obs**2\n",
    "    list_gan.append(diff_mean_obs_sq)\n",
    "\n",
    "sum_gan = sum(list_gan)\n",
    "div_obs_no = sum_gan/len(list_gan)\n",
    "stdev_gan = math.sqrt(div_obs_no)\n",
    "\n",
    "print(\"Stdev of Gandalf spell power: \",stdev_gan)\n",
    "\n",
    "#for the observations (only when snaily was in the well)\n",
    "list_sar = []\n",
    "for i in saruman_power:\n",
    "    diff_mean_obs_dw = i - avg_saruman_sp\n",
    "    diff_mean_obs_sq_dw = diff_mean_obs_dw**2\n",
    "    list_sar.append(diff_mean_obs_sq_dw)\n",
    "\n",
    "sum_sar = sum(list_sar)\n",
    "div_obs_no_dw = sum_sar/len(list_sar)\n",
    "stdev_sar = math.sqrt(div_obs_no_dw)\n",
    "\n",
    "print(\"Stdev of Saruman spell power: \",stdev_sar)"
   ]
  },
  {
   "cell_type": "code",
   "execution_count": null,
   "metadata": {},
   "outputs": [],
   "source": []
  }
 ],
 "metadata": {
  "kernelspec": {
   "display_name": "Python 3",
   "language": "python",
   "name": "python3"
  },
  "language_info": {
   "codemirror_mode": {
    "name": "ipython",
    "version": 3
   },
   "file_extension": ".py",
   "mimetype": "text/x-python",
   "name": "python",
   "nbconvert_exporter": "python",
   "pygments_lexer": "ipython3",
   "version": "3.9.2"
  }
 },
 "nbformat": 4,
 "nbformat_minor": 2
}
