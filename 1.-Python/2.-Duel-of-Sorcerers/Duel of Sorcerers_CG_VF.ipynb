{
 "cells": [
  {
   "cell_type": "code",
   "execution_count": 36,
   "metadata": {},
   "outputs": [
    {
     "name": "stdout",
     "output_type": "stream",
     "text": [
      "Gandalf wins.\n"
     ]
    }
   ],
   "source": [
    "gandalf = [10, 11, 13, 30, 22, 11, 10, 33, 22, 22]\n",
    "saruman = [23, 66, 12, 43, 12, 10, 44, 23, 12, 17]\n",
    "spells = len(gandalf)\n",
    "\n",
    "gandalf_wins = 0\n",
    "saruman_wins = 0\n",
    "\n",
    "for i in range(spells):\n",
    "\n",
    " if saruman[i] > gandalf[i]:\n",
    "    saruman_wins += 1\n",
    "    \n",
    " elif saruman[i] < gandalf[i]: \n",
    "    gandalf_wins += 1\n",
    "               \n",
    " else: \n",
    "    print(\"Tie\")\n",
    "    \n",
    "if gandalf_wins < saruman_wins:\n",
    "    print(\"Saruman wins.\")\n",
    "    \n",
    "elif gandalf_wins > saruman_wins:\n",
    "    print(\"Gandalf wins.\")\n",
    "    \n",
    "else: \n",
    "    print(\"Tie\")      "
   ]
  },
  {
   "cell_type": "code",
   "execution_count": 37,
   "metadata": {},
   "outputs": [],
   "source": [
    "POWER = {'Fireball': 50, 'Lightning bolt': 40, 'Magic arrow': 10, 'Black Tentacles': 25, 'Contagion': 45}\n",
    "gandalf = ['Fireball', 'Lightning bolt', 'Lightning bolt', 'Magic arrow', 'Fireball','Magic arrow', 'Lightning bolt', 'Fireball', 'Fireball', 'Fireball']\n",
    "saruman = ['Contagion', 'Contagion', 'Black Tentacles', 'Fireball', 'Black Tentacles', 'Lightning bolt', 'Magic arrow', 'Contagion', 'Magic arrow', 'Magic arrow']\n",
    "spells = len(gandalf)"
   ]
  },
  {
   "cell_type": "code",
   "execution_count": 38,
   "metadata": {},
   "outputs": [],
   "source": [
    "gandalf_wins = 0\n",
    "saruman_wins = 0"
   ]
  },
  {
   "cell_type": "code",
   "execution_count": 39,
   "metadata": {},
   "outputs": [],
   "source": [
    "gandalf_power = [50, 40, 40, 10, 50, 10, 40, 50, 50, 50]\n",
    "saruman_power = [45, 45, 25, 50, 25, 40, 10, 45, 10, 10]\n",
    "spells = len(gandalf)"
   ]
  },
  {
   "cell_type": "code",
   "execution_count": 44,
   "metadata": {},
   "outputs": [],
   "source": [
    "for i in range(spells):\n",
    "    \n",
    "    while gandalf_wins <= 3 | saruman_wins <= 3:\n",
    "    \n",
    "        if saruman_power > gandalf_power: \n",
    "                saruman_wins += 1\n",
    "                gandalf_wins == 0\n",
    "                i += 1\n",
    "        \n",
    "        elif saruman_power < gandalf_power:        \n",
    "                gandalf_wins += 1\n",
    "                saruman_wins == 0\n",
    "                i += 1\n",
    "            \n",
    "        else: \n",
    "            print(\"Tie\")"
   ]
  },
  {
   "cell_type": "code",
   "execution_count": 45,
   "metadata": {},
   "outputs": [
    {
     "name": "stdout",
     "output_type": "stream",
     "text": [
      "Gandalf wins.\n"
     ]
    }
   ],
   "source": [
    "if saruman_wins > gandalf_wins:\n",
    "    print(\"Saruman wins.\")\n",
    "        \n",
    "elif gandalf_wins > saruman_wins:\n",
    "    print(\"Gandalf wins.\")\n",
    "\n",
    "else:\n",
    "    print('yo')"
   ]
  },
  {
   "cell_type": "code",
   "execution_count": 48,
   "metadata": {},
   "outputs": [
    {
     "name": "stdout",
     "output_type": "stream",
     "text": [
      "39.0\n"
     ]
    }
   ],
   "source": [
    "avg_gandalf_power = sum(gandalf_power)/len(gandalf_power)\n",
    "print(avg_gandalf_power)"
   ]
  },
  {
   "cell_type": "code",
   "execution_count": 49,
   "metadata": {},
   "outputs": [
    {
     "name": "stdout",
     "output_type": "stream",
     "text": [
      "30.5\n"
     ]
    }
   ],
   "source": [
    "avg_saruman_power = sum(saruman_power)/len(saruman_power)\n",
    "print(avg_saruman_power)"
   ]
  },
  {
   "cell_type": "code",
   "execution_count": 51,
   "metadata": {},
   "outputs": [
    {
     "data": {
      "text/plain": [
       "15.951314818673865"
      ]
     },
     "execution_count": 51,
     "metadata": {},
     "output_type": "execute_result"
    }
   ],
   "source": [
    "import statistics\n",
    "\n",
    "statistics.stdev(gandalf_power)"
   ]
  },
  {
   "cell_type": "code",
   "execution_count": 52,
   "metadata": {},
   "outputs": [
    {
     "data": {
      "text/plain": [
       "16.40629960309962"
      ]
     },
     "execution_count": 52,
     "metadata": {},
     "output_type": "execute_result"
    }
   ],
   "source": [
    "statistics.stdev(saruman_power)"
   ]
  },
  {
   "cell_type": "code",
   "execution_count": null,
   "metadata": {},
   "outputs": [],
   "source": []
  }
 ],
 "metadata": {
  "kernelspec": {
   "display_name": "Python 3",
   "language": "python",
   "name": "python3"
  },
  "language_info": {
   "codemirror_mode": {
    "name": "ipython",
    "version": 3
   },
   "file_extension": ".py",
   "mimetype": "text/x-python",
   "name": "python",
   "nbconvert_exporter": "python",
   "pygments_lexer": "ipython3",
   "version": "3.7.6"
  }
 },
 "nbformat": 4,
 "nbformat_minor": 4
}
