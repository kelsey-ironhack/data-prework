{
 "cells": [
  {
   "cell_type": "markdown",
   "metadata": {},
   "source": [
    "<img src=\"https://bit.ly/2VnXWr2\" width=\"100\" align=\"left\">"
   ]
  },
  {
   "cell_type": "markdown",
   "metadata": {},
   "source": [
    "# Duel of Sorcerers\n",
    "You are witnessing an epic battle between two powerful sorcerers: Gandalf and Saruman. Each sorcerer has 10 spells of variable power in their mind and they are going to throw them one after the other. The winner of the duel will be the one who wins more of those clashes between spells. Spells are represented as a list of 10 integers whose value equals the power of the spell.\n",
    "```\n",
    "gandalf = [10, 11, 13, 30, 22, 11, 10, 33, 22, 22]\n",
    "saruman = [23, 66, 12, 43, 12, 10, 44, 23, 12, 17]\n",
    "```\n",
    "For example:\n",
    "- The first clash is won by Saruman: 10 against 23.\n",
    "- The second clash is won by Saruman: 11 against 66.\n",
    "- ...\n",
    "\n",
    "You will create two variables, one for each sorcerer, where the sum of clashes won will be stored. Depending on which variable is greater at the end of the duel, you will show one of the following three results on the screen:\n",
    "* Gandalf wins\n",
    "* Saruman wins\n",
    "* Tie\n",
    "\n",
    "<img src=\"images/content_lightning_bolt_big.jpg\" width=\"400\">"
   ]
  },
  {
   "cell_type": "markdown",
   "metadata": {},
   "source": [
    "## Tools\n",
    "You don't necessarily need to use all the tools. Maybe you opt to use some of them or completely different ones, they are given to help you shape the exercise. Programming exercises can be solved in many different ways.\n",
    "\n",
    "1. Data structures: **lists, dictionaries**\n",
    "2. Loop: **for loop**\n",
    "3. Conditional statements: **if-elif-else**\n",
    "4. Functions: **range(), len(), print()**\n",
    "\n",
    "## Tasks\n",
    "\n",
    "#### 1. Create two variables called `gandalf` and `saruman` and assign them the spell power lists. Create a variable called `spells` to store the number of spells that the sorcerers cast. "
   ]
  },
  {
   "cell_type": "code",
   "execution_count": 1,
   "metadata": {},
   "outputs": [],
   "source": [
    "gandalf = [10, 11, 13, 30, 22, 11, 10, 33, 22, 22]\n",
    "saruman = [23, 66, 12, 43, 12, 10, 44, 23, 12, 17]\n",
    "hechizos = 0\n"
   ]
  },
  {
   "cell_type": "markdown",
   "metadata": {},
   "source": [
    "#### 2. Create two variables called `gandalf_wins` and `saruman_wins`. Set both of them to 0. \n",
    "You will use these variables to count the number of clashes each sorcerer wins. "
   ]
  },
  {
   "cell_type": "code",
   "execution_count": 2,
   "metadata": {},
   "outputs": [],
   "source": [
    "gandalf_wins = 0\n",
    "saruman_wins = 0"
   ]
  },
  {
   "cell_type": "markdown",
   "metadata": {},
   "source": [
    "#### 3. Using the lists of spells of both sorcerers, update variables `gandalf_wins` and `saruman_wins` to count the number of times each sorcerer wins a clash. "
   ]
  },
  {
   "cell_type": "code",
   "execution_count": 3,
   "metadata": {},
   "outputs": [],
   "source": [
    "while hechizos <= 10:\n",
    "\tfor i in range(len(gandalf)):\n",
    "\t\tg,s = (gandalf[i],saruman[i])\n",
    "\t\tif g > s:\n",
    "\t\t\tgandalf_wins += 1\n",
    "\t\t\thechizos += 2\n",
    "\n",
    "\t\telse:\n",
    "\t\t\tsaruman_wins += 1\n",
    "\t\t\thechizos += 2"
   ]
  },
  {
   "cell_type": "markdown",
   "metadata": {},
   "source": [
    "#### 4. Who won the battle?\n",
    "Print `Gandalf wins`, `Saruman wins` or `Tie` depending on the result. "
   ]
  },
  {
   "cell_type": "code",
   "execution_count": 4,
   "metadata": {},
   "outputs": [
    {
     "name": "stdout",
     "output_type": "stream",
     "text": [
      "Gandalf gana por 6 hechizos.\n"
     ]
    }
   ],
   "source": [
    "if gandalf_wins > saruman_wins:\n",
    "\tprint(\"Gandalf gana por\", gandalf_wins, \"hechizos.\")\n",
    "\n",
    "elif saruman_wins > gandalf_wins:\n",
    "\tprint(\"Saruman gana por\", saruman_wins, \"hechizos.\")\n",
    "\n",
    "else:\n",
    "\tprint(\"Los dos empataron\")\n"
   ]
  },
  {
   "cell_type": "markdown",
   "metadata": {},
   "source": [
    "## Bonus\n",
    "\n",
    "In this bonus challenge, you'll need to check the winner of the battle but this time, a sorcerer wins if he succeeds in winning 3 spell clashes in a row.\n",
    "\n",
    "Also, the spells now have a name and there is a dictionary that associates that name to a power.\n",
    "\n",
    "```\n",
    "POWER = {\n",
    "    'Fireball': 50, \n",
    "    'Lightning bolt': 40, \n",
    "    'Magic arrow': 10, \n",
    "    'Black Tentacles': 25, \n",
    "    'Contagion': 45\n",
    "}\n",
    "\n",
    "gandalf = ['Fireball', 'Lightning bolt', 'Lightning bolt', 'Magic arrow', 'Fireball', \n",
    "           'Magic arrow', 'Lightning bolt', 'Fireball', 'Fireball', 'Fireball']\n",
    "saruman = ['Contagion', 'Contagion', 'Black Tentacles', 'Fireball', 'Black Tentacles', \n",
    "           'Lightning bolt', 'Magic arrow', 'Contagion', 'Magic arrow', 'Magic arrow']\n",
    "```\n",
    "\n",
    "#### 1. Create variables `POWER`, `gandalf` and `saruman` as seen above. Create a variable called `spells` to store the number of spells that the sorcerers cast. "
   ]
  },
  {
   "cell_type": "code",
   "execution_count": 1,
   "metadata": {},
   "outputs": [],
   "source": [
    "POTENCIA = {\n",
    "    'Bola de fuego': 50,\n",
    "    'Rayo': 40,\n",
    "    'Flecha mágica': 10,\n",
    "    'Tentáculos negros': 25,\n",
    "    'Contagio': 45\n",
    "}\n",
    "\n",
    "gandalf = ['Bola de fuego', 'Rayo', 'Rayo', 'Flecha mágica', 'Bola de fuego',\n",
    "           'Flecha mágica', 'Rayo', 'Bola de fuego', 'Bola de fuego', 'Bola de fuego']\n",
    "saruman = ['Contagio', 'Contagio', 'Tentáculos negros', 'Bola de fuego', 'Tentáculos negros',\n",
    "           'Rayo', 'Flecha mágica', 'Contagio', 'Flecha mágica', 'Flecha mágica']\n",
    "\n",
    "hechizos = 0"
   ]
  },
  {
   "cell_type": "markdown",
   "metadata": {},
   "source": [
    "#### 2. Create two variables called `gandalf_wins` and `saruman_wins`. Set both of them to 0. "
   ]
  },
  {
   "cell_type": "code",
   "execution_count": 2,
   "metadata": {},
   "outputs": [],
   "source": [
    "gandalf_wins = 0\n",
    "saruman_wins = 0"
   ]
  },
  {
   "cell_type": "markdown",
   "metadata": {},
   "source": [
    "#### 3. Create two variables called `gandalf_power` and `saruman_power` to store the list of spell powers of each sorcerer."
   ]
  },
  {
   "cell_type": "code",
   "execution_count": 3,
   "metadata": {},
   "outputs": [],
   "source": [
    "gandalf_valores = [50,40,40,10,50,10,40,50,50,50]\n",
    "saruman_valores = [45,45,25,50,25,40,10,45,10,10]\n",
    "               "
   ]
  },
  {
   "cell_type": "markdown",
   "metadata": {},
   "source": [
    "#### 4. The battle starts! Using the variables you've created above, code the execution of spell clashes. Remember that a sorcerer wins if he succeeds in winning 3 spell clashes in a row. \n",
    "If a clash ends up in a tie, the counter of wins in a row is not restarted to 0. Remember to print who is the winner of the battle. "
   ]
  },
  {
   "cell_type": "code",
   "execution_count": null,
   "metadata": {},
   "outputs": [
    {
     "name": "stdout",
     "output_type": "stream",
     "text": [
      "Gana gandalf con 1 victoria.\n"
     ]
    }
   ],
   "source": [
    "\n",
    "Gana_gandalf = 0\n",
    "Gana_saruman = 0\n",
    "\n",
    "while hechizos <= 10:\n",
    "\tfor i in range(len(gandalf_valores)):\n",
    "\t\tg,s = (gandalf_valores[i],saruman_valores[i])\n",
    "\t\tif g > s:\n",
    "\t\t\thechizos =+2\n",
    "\t\t\tgandalf_wins += 1\n",
    "\t\t\tsaruman_wins -= 1\n",
    "\t\t\tif gandalf_wins == 3:\n",
    "\t\t\t\tGana_gandalf += 1\n",
    "\t\t\t\tprint(\"Gana gandalf con\", Gana_gandalf, \"victoria.\")\n",
    "\t\telif s > g:\n",
    "\t\t\thechizos +=2\n",
    "\t\t\tgandalf_wins -= 1\n",
    "\t\t\tsaruman_wins += 1\n",
    "\t\t\tif saruman_wins == 3:\n",
    "\t\t\t\tGana_saruman += 1\n",
    "\t\t\t\tprint(\"Gana saruman con\", Gana_saruman, \"victoria.\")\n",
    "\t\t\n",
    "\t\t\n",
    "\t\telse:\n",
    "\t\t\tprint(\"hay un empate\")\n",
    "\n",
    "\t\t\t\n",
    "\t\t\n",
    "\t\t\t\n",
    "\n"
   ]
  },
  {
   "cell_type": "markdown",
   "metadata": {},
   "source": [
    "#### 5. Find the average spell power of Gandalf and Saruman. "
   ]
  },
  {
   "cell_type": "code",
   "execution_count": 1,
   "metadata": {},
   "outputs": [
    {
     "name": "stdout",
     "output_type": "stream",
     "text": [
      "39.0\n",
      "30.5\n"
     ]
    }
   ],
   "source": [
    "gandalf_valores = [50,40,40,10,50,10,40,50,50,50]\n",
    "saruman_valores = [45,45,25,50,25,40,10,45,10,10]\n",
    "\n",
    "media_gandalf = sum(gandalf_valores)/10\n",
    "media_saruman = sum(saruman_valores)/10\n",
    "print(media_gandalf)\n",
    "print(media_saruman)"
   ]
  },
  {
   "cell_type": "markdown",
   "metadata": {},
   "source": [
    "#### 6. Find the standard deviation of the spell power of Gandalf and Saruman. "
   ]
  },
  {
   "cell_type": "code",
   "execution_count": 2,
   "metadata": {},
   "outputs": [
    {
     "name": "stdout",
     "output_type": "stream",
     "text": [
      "15.951314818673865\n",
      "16.40629960309962\n"
     ]
    }
   ],
   "source": [
    "\n",
    "acumulador_gandalf = 0\n",
    "for i in gandalf_valores:\n",
    "\ti = i - media_gandalf\n",
    "\ti = i**2\n",
    "\tacumulador_gandalf += i\n",
    "\n",
    "\n",
    "operacion_gandalf = acumulador_gandalf/(10-1)\n",
    "\n",
    "\n",
    "raiz_cuadrada_gandalf = operacion_gandalf**(.5)\n",
    "print(raiz_cuadrada_gandalf)\n",
    "\n",
    "\n",
    "\n",
    "acumulador_saruman = 0\n",
    "for i in saruman_valores:\n",
    "\ti = i - media_saruman\n",
    "\ti = i**2\n",
    "\tacumulador_saruman += i\n",
    "\n",
    "operacion_saruman = acumulador_saruman/(10-1)\n",
    "\n",
    "raiz_cuadrada_saruman = operacion_saruman**(.5)\n",
    "print(raiz_cuadrada_saruman)"
   ]
  }
 ],
 "metadata": {
  "kernelspec": {
   "display_name": "Python 3",
   "language": "python",
   "name": "python3"
  },
  "language_info": {
   "codemirror_mode": {
    "name": "ipython",
    "version": 3
   },
   "file_extension": ".py",
   "mimetype": "text/x-python",
   "name": "python",
   "nbconvert_exporter": "python",
   "pygments_lexer": "ipython3",
   "version": "3.7.6"
  }
 },
 "nbformat": 4,
 "nbformat_minor": 2
}
