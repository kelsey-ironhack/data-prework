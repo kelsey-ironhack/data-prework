{
 "cells": [
  {
   "cell_type": "markdown",
   "metadata": {},
   "source": [
    "<img src=\"https://bit.ly/2VnXWr2\" width=\"100\" align=\"left\">"
   ]
  },
  {
   "cell_type": "markdown",
   "metadata": {},
   "source": [
    "# Duel of Sorcerers\n",
    "You are witnessing an epic battle between two powerful sorcerers: Gandalf and Saruman. Each sorcerer has 10 spells of variable power in their mind and they are going to throw them one after the other. The winner of the duel will be the one who wins more of those clashes between spells. Spells are represented as a list of 10 integers whose value equals the power of the spell.\n",
    "```\n",
    "gandalf = [10, 11, 13, 30, 22, 11, 10, 33, 22, 22]\n",
    "saruman = [23, 66, 12, 43, 12, 10, 44, 23, 12, 17]\n",
    "```\n",
    "For example:\n",
    "- The first clash is won by Saruman: 10 against 23.\n",
    "- The second clash is won by Saruman: 11 against 66.\n",
    "- ...\n",
    "\n",
    "You will create two variables, one for each sorcerer, where the sum of clashes won will be stored. Depending on which variable is greater at the end of the duel, you will show one of the following three results on the screen:\n",
    "* Gandalf wins\n",
    "* Saruman wins\n",
    "* Tie\n",
    "\n",
    "<img src=\"images/content_lightning_bolt_big.jpg\" width=\"400\">"
   ]
  },
  {
   "cell_type": "markdown",
   "metadata": {},
   "source": [
    "## Tools\n",
    "You don't necessarily need to use all the tools. Maybe you opt to use some of them or completely different ones, they are given to help you shape the exercise. Programming exercises can be solved in many different ways.\n",
    "\n",
    "1. Data structures: **lists, dictionaries**\n",
    "2. Loop: **for loop**\n",
    "3. Conditional statements: **if-elif-else**\n",
    "4. Functions: **range(), len(), print()**\n",
    "\n",
    "## Tasks\n",
    "\n",
    "#### 1. Create two variables called `gandalf` and `saruman` and assign them the spell power lists. Create a variable called `spells` to store the number of spells that the sorcerers cast. "
   ]
  },
  {
   "cell_type": "code",
   "execution_count": 34,
   "metadata": {},
   "outputs": [],
   "source": [
    "gandalf = [10, 11, 13, 30, 22, 11, 10, 33, 22, 22]\n",
    "saruman = [23, 66, 12, 43, 12, 10, 44, 23, 12, 17]\n",
    "spells = 0\n",
    "\n"
   ]
  },
  {
   "cell_type": "markdown",
   "metadata": {},
   "source": [
    "#### 2. Create two variables called `gandalf_wins` and `saruman_wins`. Set both of them to 0. \n",
    "You will use these variables to count the number of clashes each sorcerer wins. "
   ]
  },
  {
   "cell_type": "code",
   "execution_count": null,
   "metadata": {},
   "outputs": [],
   "source": [
    "gandalf_wins = 0\n",
    "saruman_wins = 0"
   ]
  },
  {
   "cell_type": "markdown",
   "metadata": {},
   "source": [
    "#### 3. Using the lists of spells of both sorcerers, update variables `gandalf_wins` and `saruman_wins` to count the number of times each sorcerer wins a clash. "
   ]
  },
  {
   "cell_type": "code",
   "execution_count": 15,
   "metadata": {},
   "outputs": [
    {
     "name": "stdout",
     "output_type": "stream",
     "text": [
      "Duel Starts!\n",
      "\n",
      "Fight!!!\n",
      "\n",
      "The first clash is won by Saruman: 23 against 10\n",
      "The second clash is won by Saruman: 66 against 11\n",
      "The third clash is won by Gandalf: 13 against 12\n",
      "The fourth clash is won by Saruman: 43 against 30\n",
      "The fifth clash is won by Gandalf: 22 against 12\n",
      "The sixth clash is won by Gandalf: 11 against 10\n",
      "The seventh clash is won by Saruman: 44 against 10\n",
      "The eighth clash is won by Gandalf: 33 against 23\n",
      "The ninth clash is won by Gandalf: 22 against 12\n",
      "The tenth clash is won by Gandalf: 22 against 17\n",
      "\n",
      "\n",
      "Gandalf won the battle because he won 6 clashes\n"
     ]
    }
   ],
   "source": [
    "gandalf = [10, 11, 13, 30, 22, 11, 10, 33, 22, 22]\n",
    "saruman = [23, 66, 12, 43, 12, 10, 44, 23, 12, 17]\n",
    "spells = 0\n",
    "gandalf_wins = 0\n",
    "saruman_wins = 0\n",
    "ordinal = [\"first\", \"second\", \"third\", \"fourth\", \"fifth\", \"sixth\", \"seventh\", \"eighth\", \"ninth\", \"tenth\"]\n",
    "\n",
    "#Title\n",
    "print(\"Duel Starts!\\n\\nFight!!!\\n\")\n",
    "\n",
    "#Check clash victory\n",
    "\n",
    "for spell in range(len(gandalf)):\n",
    "    spells += 1   \n",
    "    #print(f\"Gandalf casts his spell #{ordinal[spell]} with spell power of {gandalf[spell]}. Saruman casts his spell # {spells} with spell power of {saruman[spell]}.\")\n",
    "      \n",
    "    if gandalf[spell] == saruman[spell]:\n",
    "        print(f\"We have a TIE on the {ordinal[spell]} clash: {gandalf[spell]} against {saruman[spell]}\")            \n",
    "    \n",
    "    elif gandalf[spell] > saruman[spell]:\n",
    "        gandalf_wins += 1\n",
    "        print(f\"The {ordinal[spell]} clash is won by Gandalf: {gandalf[spell]} against {saruman[spell]}\")\n",
    "                \n",
    "    elif gandalf[spell] < saruman[spell]:\n",
    "        saruman_wins +=1\n",
    "        print(f\"The {ordinal[spell]} clash is won by Saruman: {saruman[spell]} against {gandalf[spell]}\")\n",
    "        \n",
    "#Check battle victory\n",
    "\n",
    "if gandalf_wins > saruman_wins:\n",
    "    print(f\"\\n\\nGandalf won the battle because he won {gandalf_wins} clashes\")\n",
    "\n",
    "elif gandalf_wins < saruman_wins:\n",
    "    print(f\"\\n\\Saruman won the battle because he won {saruman_wins} clashes\")\n",
    "\n",
    "elif gandalf_wins == saruman_wins:\n",
    "    print(\"It's a TIE\")    \n",
    "     \n"
   ]
  },
  {
   "cell_type": "markdown",
   "metadata": {},
   "source": [
    "#### 4. Who won the battle?\n",
    "Print `Gandalf wins`, `Saruman wins` or `Tie` depending on the result. "
   ]
  },
  {
   "cell_type": "code",
   "execution_count": 5,
   "metadata": {},
   "outputs": [
    {
     "name": "stdout",
     "output_type": "stream",
     "text": [
      "\n",
      "\n",
      "Gandalf won the battle because he won 6 clashes\n"
     ]
    }
   ],
   "source": [
    "if gandalf_wins > saruman_wins:\n",
    "    print(f\"\\n\\nGandalf won the battle because he won {gandalf_wins} clashes\")\n",
    "\n",
    "if gandalf_wins < saruman_wins:\n",
    "    print(f\"\\n\\Saruman won the battle because he won {saruman_wins} clashes\")\n",
    "\n",
    "if gandalf_wins == saruman_wins:\n",
    "    print(\"It's a TIE\")"
   ]
  },
  {
   "cell_type": "markdown",
   "metadata": {},
   "source": [
    "## Bonus\n",
    "\n",
    "In this bonus challenge, you'll need to check the winner of the battle but this time, a sorcerer wins if he succeeds in winning 3 spell clashes in a row.\n",
    "\n",
    "Also, the spells now have a name and there is a dictionary that associates that name to a power.\n",
    "\n",
    "```\n",
    "POWER = {\n",
    "    'Fireball': 50, \n",
    "    'Lightning bolt': 40, \n",
    "    'Magic arrow': 10, \n",
    "    'Black Tentacles': 25, \n",
    "    'Contagion': 45\n",
    "}\n",
    "\n",
    "gandalf = ['Fireball', 'Lightning bolt', 'Lightning bolt', 'Magic arrow', 'Fireball', \n",
    "           'Magic arrow', 'Lightning bolt', 'Fireball', 'Fireball', 'Fireball']\n",
    "saruman = ['Contagion', 'Contagion', 'Black Tentacles', 'Fireball', 'Black Tentacles', \n",
    "           'Lightning bolt', 'Magic arrow', 'Contagion', 'Magic arrow', 'Magic arrow']\n",
    "```\n",
    "\n",
    "#### 1. Create variables `POWER`, `gandalf` and `saruman` as seen above. Create a variable called `spells` to store the number of spells that the sorcerers cast. "
   ]
  },
  {
   "cell_type": "code",
   "execution_count": 43,
   "metadata": {},
   "outputs": [],
   "source": [
    "POWER = {\n",
    "    'Fireball': 50, \n",
    "    'Lightning bolt': 40, \n",
    "    'Magic arrow': 10, \n",
    "    'Black Tentacles': 25, \n",
    "    'Contagion': 45\n",
    "}\n",
    "\n",
    "gandalf = ['Fireball', 'Lightning bolt', 'Lightning bolt', 'Magic arrow', 'Fireball', \n",
    "           'Magic arrow', 'Lightning bolt', 'Fireball', 'Fireball', 'Fireball']\n",
    "saruman = ['Contagion', 'Contagion', 'Black Tentacles', 'Fireball', 'Black Tentacles', \n",
    "           'Lightning bolt', 'Magic arrow', 'Contagion', 'Magic arrow', 'Magic arrow']\n",
    "\n",
    "spells = 0"
   ]
  },
  {
   "cell_type": "markdown",
   "metadata": {},
   "source": [
    "#### 2. Create two variables called `gandalf_wins` and `saruman_wins`. Set both of them to 0. "
   ]
  },
  {
   "cell_type": "code",
   "execution_count": 44,
   "metadata": {},
   "outputs": [],
   "source": [
    "gandalf_wins = 0\n",
    "saruman_wins = 0"
   ]
  },
  {
   "cell_type": "markdown",
   "metadata": {},
   "source": [
    "#### 3. Create two variables called `gandalf_power` and `saruman_power` to store the list of spell powers of each sorcerer."
   ]
  },
  {
   "cell_type": "code",
   "execution_count": 39,
   "metadata": {},
   "outputs": [
    {
     "name": "stdout",
     "output_type": "stream",
     "text": [
      "[50, 40, 40, 10, 50, 10, 40, 50, 50, 50]\n",
      "[45, 45, 25, 50, 25, 40, 10, 45, 10, 10]\n"
     ]
    }
   ],
   "source": [
    "gandalf_power = []\n",
    "saruman_power = []\n",
    "\n",
    "for spell in gandalf:\n",
    "    gandalf_power.append(POWER[spell])\n",
    "   \n",
    "for spell in saruman:\n",
    "    saruman_power.append(POWER[spell])\n",
    "\n",
    "print(gandalf_power)\n",
    "print(saruman_power)\n"
   ]
  },
  {
   "cell_type": "markdown",
   "metadata": {},
   "source": [
    "#### 4. The battle starts! Using the variables you've created above, code the execution of spell clashes. Remember that a sorcerer wins if he succeeds in winning 3 spell clashes in a row. \n",
    "If a clash ends up in a tie, the counter of wins in a row is not restarted to 0. Remember to print who is the winner of the battle. "
   ]
  },
  {
   "cell_type": "code",
   "execution_count": 33,
   "metadata": {},
   "outputs": [
    {
     "name": "stdout",
     "output_type": "stream",
     "text": [
      "The first clash is won by Gandalf: 50 against 45\n",
      "The second clash is won by Saruman: 45 against 40\n",
      "The third clash is won by Gandalf: 40 against 25\n",
      "The fourth clash is won by Saruman: 50 against 10\n",
      "The fifth clash is won by Gandalf: 50 against 25\n",
      "The sixth clash is won by Saruman: 40 against 10\n",
      "The seventh clash is won by Gandalf: 40 against 10\n",
      "The eighth clash is won by Gandalf: 50 against 45\n",
      "The ninth clash is won by Gandalf: 50 against 10\n",
      "The tenth clash is won by Gandalf: 50 against 10\n",
      "Gandalf wins the battle winning 4 clashes in a row\n"
     ]
    }
   ],
   "source": [
    "POWER = {\n",
    "    'Fireball': 50, \n",
    "    'Lightning bolt': 40, \n",
    "    'Magic arrow': 10, \n",
    "    'Black Tentacles': 25, \n",
    "    'Contagion': 45\n",
    "}\n",
    "\n",
    "gandalf = ['Fireball', 'Lightning bolt', 'Lightning bolt', 'Magic arrow', 'Fireball', \n",
    "           'Magic arrow', 'Lightning bolt', 'Fireball', 'Fireball', 'Fireball']\n",
    "saruman = ['Contagion', 'Contagion', 'Black Tentacles', 'Fireball', 'Black Tentacles', \n",
    "           'Lightning bolt', 'Magic arrow', 'Contagion', 'Magic arrow', 'Magic arrow']\n",
    "\n",
    "ordinal = [\"first\", \"second\", \"third\", \"fourth\", \"fifth\", \"sixth\", \"seventh\", \"eighth\", \"ninth\", \"tenth\"]\n",
    "spells = 0\n",
    "gandalf_wins = 0\n",
    "saruman_wins = 0\n",
    "\n",
    "#Extract spells powers\n",
    "\n",
    "gandalf_power = []\n",
    "saruman_power = []\n",
    "\n",
    "for spell in gandalf:\n",
    "    gandalf_power.append(int(POWER[spell]))\n",
    "    \n",
    "for spell in saruman:\n",
    "    saruman_power.append(int(POWER[spell]))\n",
    "    \n",
    "for index in range(len(gandalf_power)):\n",
    "    #print(f\"Gandalf casts his spell #{ordinal[index]} with spell power of {gandalf_power[index]}. Saruman casts his spell # {ordinal[index]} with spell power of {saruman_power[index]}.\")\n",
    "\n",
    "    \n",
    "#Battles\n",
    "\n",
    "    if gandalf_power[index] == saruman_power[index]:\n",
    "        print(f\"We have a TIE on the {ordinal[index]} clash: {gandalf_power[index]} against {saruman_power[index]}\")  \n",
    "          \n",
    "    elif gandalf_power[index] > saruman_power[index]:\n",
    "        print(f\"The {ordinal[index]} clash is won by Gandalf: {gandalf_power[index]} against {saruman_power[index]}\")\n",
    "        saruman_wins = 0\n",
    "        gandalf_wins += 1\n",
    "                \n",
    "    elif gandalf_power[index] < saruman_power[index]:\n",
    "        print(f\"The {ordinal[index]} clash is won by Saruman: {saruman_power[index]} against {gandalf_power[index]}\")\n",
    "        gandalf_wins = 0\n",
    "        saruman_wins += 1\n",
    "\n",
    "#Check Victory\n",
    "\n",
    "if gandalf_wins > 3:\n",
    "    print(f\"Gandalf wins the battle winning {gandalf_wins} clashes in a row\")\n",
    "\n",
    "elif saruman_wins > 3:\n",
    "    print(f\"Saruman wins the battle winning {saruman_wins} clashes in a row\")   "
   ]
  },
  {
   "cell_type": "markdown",
   "metadata": {},
   "source": [
    "#### 5. Find the average spell power of Gandalf and Saruman. "
   ]
  },
  {
   "cell_type": "code",
   "execution_count": 32,
   "metadata": {},
   "outputs": [
    {
     "name": "stdout",
     "output_type": "stream",
     "text": [
      "Gandalf's average spell power is 39.0\n",
      "Saruman's average spell power is 30.5\n"
     ]
    }
   ],
   "source": [
    "avg_sp_gandalf = (sum(gandalf_power)/(len(gandalf_power)))\n",
    "avg_sp_saruman = (sum(saruman_power)/(len(saruman_power)))\n",
    "\n",
    "print(f\"Gandalf's average spell power is {avg_sp_gandalf}\")\n",
    "print(f\"Saruman's average spell power is {avg_sp_saruman}\")"
   ]
  },
  {
   "cell_type": "markdown",
   "metadata": {},
   "source": [
    "#### 6. Find the standard deviation of the spell power of Gandalf and Saruman. "
   ]
  },
  {
   "cell_type": "code",
   "execution_count": 38,
   "metadata": {},
   "outputs": [
    {
     "name": "stdout",
     "output_type": "stream",
     "text": [
      "Variance of spell power of Gandalf is: 229.0\n",
      "Standard deviation of spell power of Gandalf is: 15.132745950421556\n",
      "\n",
      "\n",
      "Variance of spell power of Saruman is: 242.25\n",
      "Standard deviation of spell power of Saruman is: 15.56438241627338\n"
     ]
    }
   ],
   "source": [
    "sqr_dev_mean_gan = []\n",
    "sqr_dev_mean_sar = []\n",
    "\n",
    "for x in gandalf_power:\n",
    "    y = (x - avg_sp_gandalf)**2\n",
    "    sqr_dev_mean_gan.append(y)\n",
    "    ig = sum(sqr_dev_mean_gan)\n",
    "    ng = len(sqr_dev_mean_gan)\n",
    "    variance_gan = ig / ng\n",
    "    std_dev_gan = variance_gan**(.5)\n",
    "print(f\"Variance of spell power of Gandalf is: {variance_gan}\\nStandard deviation of spell power of Gandalf is: {std_dev_gan}\\n\\n\")\n",
    "\n",
    "for x in saruman_power:\n",
    "    y = (x - avg_sp_saruman)**2\n",
    "    sqr_dev_mean_sar.append(y)\n",
    "    isa = sum(sqr_dev_mean_sar)\n",
    "    ns = len(sqr_dev_mean_sar)\n",
    "    variance_sar = isa / ns\n",
    "    std_dev_sar = variance_sar**(.5)\n",
    "print(f\"Variance of spell power of Saruman is: {variance_sar}\\nStandard deviation of spell power of Saruman is: {std_dev_sar}\")"
   ]
  },
  {
   "cell_type": "code",
   "execution_count": 41,
   "metadata": {},
   "outputs": [
    {
     "name": "stdout",
     "output_type": "stream",
     "text": [
      "The first clash is won by Gandalf: 50 against 45\n",
      "The second clash is won by Saruman: 45 against 40\n",
      "The third clash is won by Gandalf: 40 against 25\n",
      "The fourth clash is won by Saruman: 50 against 10\n",
      "The fifth clash is won by Gandalf: 50 against 25\n",
      "The sixth clash is won by Saruman: 40 against 10\n",
      "The seventh clash is won by Gandalf: 40 against 10\n",
      "The eighth clash is won by Gandalf: 50 against 45\n",
      "The ninth clash is won by Gandalf: 50 against 10\n",
      "The tenth clash is won by Gandalf: 50 against 10\n",
      "Gandalf wins the battle winning 4 clashes in a row\n",
      "\n",
      "\n",
      "Gandalf's average spell power is 39.0\n",
      "\n",
      "\n",
      "Saruman's average spell power is 30.5\n",
      "\n",
      "\n",
      "Variance of spell power of Gandalf is: 229.0\n",
      "Standard deviation of spell power of Gandalf is: 15.132745950421556\n",
      "\n",
      "\n",
      "Variance of spell power of Saruman is: 242.25\n",
      "Standard deviation of spell power of Saruman is: 15.56438241627338\n"
     ]
    }
   ],
   "source": [
    "POWER = {\n",
    "    'Fireball': 50, \n",
    "    'Lightning bolt': 40, \n",
    "    'Magic arrow': 10, \n",
    "    'Black Tentacles': 25, \n",
    "    'Contagion': 45\n",
    "}\n",
    "\n",
    "gandalf = ['Fireball', 'Lightning bolt', 'Lightning bolt', 'Magic arrow', 'Fireball', \n",
    "           'Magic arrow', 'Lightning bolt', 'Fireball', 'Fireball', 'Fireball']\n",
    "saruman = ['Contagion', 'Contagion', 'Black Tentacles', 'Fireball', 'Black Tentacles', \n",
    "           'Lightning bolt', 'Magic arrow', 'Contagion', 'Magic arrow', 'Magic arrow']\n",
    "\n",
    "ordinal = [\"first\", \"second\", \"third\", \"fourth\", \"fifth\", \"sixth\", \"seventh\", \"eighth\", \"ninth\", \"tenth\"]\n",
    "spells = 0\n",
    "gandalf_wins = 0\n",
    "saruman_wins = 0\n",
    "\n",
    "#Extract spells powers\n",
    "\n",
    "gandalf_power = []\n",
    "saruman_power = []\n",
    "\n",
    "for spell in gandalf:\n",
    "    gandalf_power.append(int(POWER[spell]))\n",
    "    \n",
    "for spell in saruman:\n",
    "    saruman_power.append(int(POWER[spell]))\n",
    "    \n",
    "for index in range(len(gandalf_power)):\n",
    "    #print(f\"Gandalf casts his spell #{ordinal[index]} with spell power of {gandalf_power[index]}. Saruman casts his spell # {ordinal[index]} with spell power of {saruman_power[index]}.\")\n",
    "\n",
    "    \n",
    "#Battles\n",
    "\n",
    "    if gandalf_power[index] == saruman_power[index]:\n",
    "        print(f\"We have a TIE on the {ordinal[index]} clash: {gandalf_power[index]} against {saruman_power[index]}\")  \n",
    "          \n",
    "    elif gandalf_power[index] > saruman_power[index]:\n",
    "        print(f\"The {ordinal[index]} clash is won by Gandalf: {gandalf_power[index]} against {saruman_power[index]}\")\n",
    "        saruman_wins = 0\n",
    "        gandalf_wins += 1\n",
    "                \n",
    "    elif gandalf_power[index] < saruman_power[index]:\n",
    "        print(f\"The {ordinal[index]} clash is won by Saruman: {saruman_power[index]} against {gandalf_power[index]}\")\n",
    "        gandalf_wins = 0\n",
    "        saruman_wins += 1\n",
    "\n",
    "#Check Victory\n",
    "\n",
    "if gandalf_wins > 3:\n",
    "    print(f\"Gandalf wins the battle winning {gandalf_wins} clashes in a row\")\n",
    "\n",
    "elif saruman_wins > 3:\n",
    "    print(f\"Saruman wins the battle winning {saruman_wins} clashes in a row\")   \n",
    "    \n",
    "avg_sp_gandalf = (sum(gandalf_power)/(len(gandalf_power)))\n",
    "avg_sp_saruman = (sum(saruman_power)/(len(saruman_power)))\n",
    "\n",
    "print(f\"\\n\\nGandalf's average spell power is {avg_sp_gandalf}\")\n",
    "print(f\"\\n\\nSaruman's average spell power is {avg_sp_saruman}\")\n",
    "\n",
    "sqr_dev_mean_gan = []\n",
    "sqr_dev_mean_sar = []\n",
    "\n",
    "for x in gandalf_power:\n",
    "    y = (x - avg_sp_gandalf)**2\n",
    "    sqr_dev_mean_gan.append(y)\n",
    "    ig = sum(sqr_dev_mean_gan)\n",
    "    ng = len(sqr_dev_mean_gan)\n",
    "    variance_gan = ig / ng\n",
    "    std_dev_gan = variance_gan**(.5)\n",
    "print(f\"\\n\\nVariance of spell power of Gandalf is: {variance_gan}\\nStandard deviation of spell power of Gandalf is: {std_dev_gan}\\n\\n\")\n",
    "\n",
    "for x in saruman_power:\n",
    "    y = (x - avg_sp_saruman)**2\n",
    "    sqr_dev_mean_sar.append(y)\n",
    "    isa = sum(sqr_dev_mean_sar)\n",
    "    ns = len(sqr_dev_mean_sar)\n",
    "    variance_sar = isa / ns\n",
    "    std_dev_sar = variance_sar**(.5)\n",
    "print(f\"Variance of spell power of Saruman is: {variance_sar}\\nStandard deviation of spell power of Saruman is: {std_dev_sar}\")"
   ]
  },
  {
   "cell_type": "code",
   "execution_count": null,
   "metadata": {},
   "outputs": [],
   "source": []
  }
 ],
 "metadata": {
  "kernelspec": {
   "display_name": "Python 3 (ipykernel)",
   "language": "python",
   "name": "python3"
  },
  "language_info": {
   "codemirror_mode": {
    "name": "ipython",
    "version": 3
   },
   "file_extension": ".py",
   "mimetype": "text/x-python",
   "name": "python",
   "nbconvert_exporter": "python",
   "pygments_lexer": "ipython3",
   "version": "3.9.7"
  }
 },
 "nbformat": 4,
 "nbformat_minor": 2
}
