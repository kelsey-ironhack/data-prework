{
 "cells": [
  {
   "cell_type": "markdown",
   "metadata": {},
   "source": [
    "<img src=\"https://bit.ly/2VnXWr2\" width=\"100\" align=\"left\">"
   ]
  },
  {
   "cell_type": "markdown",
   "metadata": {},
   "source": [
    "# Duel of Sorcerers\n",
    "You are witnessing an epic battle between two powerful sorcerers: Gandalf and Saruman. Each sorcerer has 10 spells of variable power in their mind and they are going to throw them one after the other. The winner of the duel will be the one who wins more of those clashes between spells. Spells are represented as a list of 10 integers whose value equals the power of the spell.\n",
    "```\n",
    "gandalf = [10, 11, 13, 30, 22, 11, 10, 33, 22, 22]\n",
    "saruman = [23, 66, 12, 43, 12, 10, 44, 23, 12, 17]\n",
    "```\n",
    "For example:\n",
    "- The first clash is won by Saruman: 10 against 23.\n",
    "- The second clash is won by Saruman: 11 against 66.\n",
    "- ...\n",
    "\n",
    "You will create two variables, one for each sorcerer, where the sum of clashes won will be stored. Depending on which variable is greater at the end of the duel, you will show one of the following three results on the screen:\n",
    "* Gandalf wins\n",
    "* Saruman wins\n",
    "* Tie\n",
    "\n",
    "<img src=\"images/content_lightning_bolt_big.jpg\" width=\"400\">"
   ]
  },
  {
   "cell_type": "markdown",
   "metadata": {},
   "source": [
    "## Tools\n",
    "You don't necessarily need to use all the tools. Maybe you opt to use some of them or completely different ones, they are given to help you shape the exercise. Programming exercises can be solved in many different ways.\n",
    "\n",
    "1. Data structures: **lists, dictionaries**\n",
    "2. Loop: **for loop**\n",
    "3. Conditional statements: **if-elif-else**\n",
    "4. Functions: **range(), len(), print()**\n",
    "\n",
    "## Tasks\n",
    "\n",
    "#### 1. Create two variables called `gandalf` and `saruman` and assign them the spell power lists. Create a variable called `spells` to store the number of spells that the sorcerers cast. "
   ]
  },
  {
   "cell_type": "code",
   "execution_count": 1,
   "metadata": {},
   "outputs": [],
   "source": [
    "gandalf = [10, 11, 13, 30, 22, 11, 10, 33, 22, 22]\n",
    "saruman = [23, 66, 12, 43, 12, 10, 44, 23, 12, 17]\n",
    "spells = 0"
   ]
  },
  {
   "cell_type": "markdown",
   "metadata": {},
   "source": [
    "#### 2. Create two variables called `gandalf_wins` and `saruman_wins`. Set both of them to 0. \n",
    "You will use these variables to count the number of clashes each sorcerer wins. "
   ]
  },
  {
   "cell_type": "code",
   "execution_count": 2,
   "metadata": {},
   "outputs": [],
   "source": [
    "gandalf_wins = 0\n",
    "saruman_wins = 0"
   ]
  },
  {
   "cell_type": "markdown",
   "metadata": {},
   "source": [
    "#### 3. Using the lists of spells of both sorcerers, update variables `gandalf_wins` and `saruman_wins` to count the number of times each sorcerer wins a clash. "
   ]
  },
  {
   "cell_type": "code",
   "execution_count": 3,
   "metadata": {},
   "outputs": [],
   "source": [
    "for i in range(len(gandalf)):\n",
    "    if gandalf[spells] > saruman[spells]:\n",
    "        gandalf_wins += 1\n",
    "    elif gandalf[spells] < saruman[spells]:\n",
    "        saruman_wins += 1\n",
    "    else:\n",
    "        continue\n",
    "    spells += 1\n"
   ]
  },
  {
   "cell_type": "markdown",
   "metadata": {},
   "source": [
    "#### 4. Who won the battle?\n",
    "Print `Gandalf wins`, `Saruman wins` or `Tie` depending on the result. "
   ]
  },
  {
   "cell_type": "code",
   "execution_count": 4,
   "metadata": {},
   "outputs": [],
   "source": [
    "if gandalf_wins > saruman_wins:\n",
    "    print(\"Gandalf wins.\")\n",
    "elif gandalf_wins < saruman_wins:\n",
    "    print(\"Saruman wins.\")\n",
    "else:\n",
    "    print(\"Tie.\")"
   ]
  },
  {
   "cell_type": "markdown",
   "metadata": {},
   "source": [
    "## Bonus\n",
    "\n",
    "In this bonus challenge, you'll need to check the winner of the battle but this time, a sorcerer wins if he succeeds in winning 3 spell clashes in a row.\n",
    "\n",
    "Also, the spells now have a name and there is a dictionary that associates that name to a power.\n",
    "\n",
    "```\n",
    "POWER = {\n",
    "    'Fireball': 50, \n",
    "    'Lightning bolt': 40, \n",
    "    'Magic arrow': 10, \n",
    "    'Black Tentacles': 25, \n",
    "    'Contagion': 45\n",
    "}\n",
    "\n",
    "gandalf = ['Fireball', 'Lightning bolt', 'Lightning bolt', 'Magic arrow', 'Fireball', \n",
    "           'Magic arrow', 'Lightning bolt', 'Fireball', 'Fireball', 'Fireball']\n",
    "saruman = ['Contagion', 'Contagion', 'Black Tentacles', 'Fireball', 'Black Tentacles', \n",
    "           'Lightning bolt', 'Magic arrow', 'Contagion', 'Magic arrow', 'Magic arrow']\n",
    "```\n",
    "\n",
    "#### 1. Create variables `POWER`, `gandalf` and `saruman` as seen above. Create a variable called `spells` to store the number of spells that the sorcerers cast. "
   ]
  },
  {
   "cell_type": "code",
   "execution_count": 5,
   "metadata": {},
   "outputs": [],
   "source": [
    "POWER = {\n",
    "    'Fireball': 50, \n",
    "    'Lightning bolt': 40, \n",
    "    'Magic arrow': 10, \n",
    "    'Black Tentacles': 25, \n",
    "    'Contagion': 45\n",
    "}\n",
    "\n",
    "gandalf = ['Fireball', 'Lightning bolt', 'Lightning bolt', 'Magic arrow', 'Fireball', \n",
    "           'Magic arrow', 'Lightning bolt', 'Fireball', 'Fireball', 'Fireball']\n",
    "saruman = ['Contagion', 'Contagion', 'Black Tentacles', 'Fireball', 'Black Tentacles', \n",
    "           'Lightning bolt', 'Magic arrow', 'Contagion', 'Magic arrow', 'Magic arrow']\n",
    "spells = 0"
   ]
  },
  {
   "cell_type": "markdown",
   "metadata": {},
   "source": [
    "#### 2. Create two variables called `gandalf_wins` and `saruman_wins`. Set both of them to 0. "
   ]
  },
  {
   "cell_type": "code",
   "execution_count": 6,
   "metadata": {},
   "outputs": [],
   "source": [
    "gandalf_wins = 0\n",
    "saruman_wins = 0"
   ]
  },
  {
   "cell_type": "markdown",
   "metadata": {},
   "source": [
    "#### 3. Create two variables called `gandalf_power` and `saruman_power` to store the list of spell powers of each sorcerer."
   ]
  },
  {
   "cell_type": "code",
   "execution_count": 7,
   "metadata": {},
   "outputs": [],
   "source": [
    "gandalf_power = [POWER[i] for i in gandalf]\n",
    "saruman_power = [POWER[i] for i in saruman]"
   ]
  },
  {
   "cell_type": "markdown",
   "metadata": {},
   "source": [
    "#### 4. The battle starts! Using the variables you've created above, code the execution of spell clashes. Remember that a sorcerer wins if he succeeds in winning 3 spell clashes in a row. \n",
    "If a clash ends up in a tie, the counter of wins in a row is not restarted to 0. Remember to print who is the winner of the battle. "
   ]
  },
  {
   "cell_type": "code",
   "execution_count": 8,
   "metadata": {},
   "outputs": [
    {
     "name": "stdout",
     "output_type": "stream",
     "text": [
      "Gandalf wins.\n"
     ]
    }
   ],
   "source": [
    "for i in range(len(gandalf_power)):\n",
    "    # spell clashes stage\n",
    "    if gandalf_power[spells] > saruman_power[spells]:\n",
    "        gandalf_wins += 1\n",
    "        saruman_wins = 0\n",
    "    elif gandalf_power[spells] < saruman_power[spells]:\n",
    "        saruman_wins += 1\n",
    "        gandalf_wins = 0\n",
    "    else:\n",
    "        continue\n",
    "    spells += 1\n",
    "    # check if there are 3 consecutive wins by either of the party\n",
    "    if gandalf_wins == 3:\n",
    "        print(\"Gandalf wins.\")\n",
    "        break\n",
    "    elif saruman_wins == 3:\n",
    "        print(\"Saruman wins.\")\n",
    "        break\n",
    "    else:     \n",
    "        continue\n"
   ]
  },
  {
   "cell_type": "markdown",
   "metadata": {},
   "source": [
    "#### 5. Find the average spell power of Gandalf and Saruman. "
   ]
  },
  {
   "cell_type": "code",
   "execution_count": 9,
   "metadata": {},
   "outputs": [
    {
     "name": "stdout",
     "output_type": "stream",
     "text": [
      "The average spell power of Gandalf is 39.00.\n",
      "The average spell power of Saruman is 30.50.\n",
      "The average casted spell power of Gandalf is 37.78.\n",
      "The average casted spell power of Saruman is 32.78.\n"
     ]
    }
   ],
   "source": [
    "gandalf_average = sum(gandalf_power)/len(gandalf_power)\n",
    "print(f\"The average spell power of Gandalf is {gandalf_average:.2f}.\")\n",
    "saruman_average = sum(saruman_power)/len(saruman_power)\n",
    "print(f\"The average spell power of Saruman is {saruman_average:.2f}.\")\n",
    "\n",
    "gandalf_casted_average = sum(gandalf_power[:spells])/len(gandalf_power[:spells])\n",
    "print(f\"The average casted spell power of Gandalf is {gandalf_casted_average:.2f}.\")\n",
    "saruman_casted_average = sum(saruman_power[:spells])/len(saruman_power[:spells])\n",
    "print(f\"The average casted spell power of Saruman is {saruman_casted_average:.2f}.\")"
   ]
  },
  {
   "cell_type": "markdown",
   "metadata": {},
   "source": [
    "#### 6. Find the standard deviation of the spell power of Gandalf and Saruman. "
   ]
  },
  {
   "cell_type": "code",
   "execution_count": 10,
   "metadata": {},
   "outputs": [
    {
     "name": "stdout",
     "output_type": "stream",
     "text": [
      "The standard deviation of Gandalf's spell power is 15.1327.\n",
      "The standard deviation of Saruman's spell power is 15.5644.\n"
     ]
    }
   ],
   "source": [
    "gandalf_variance = 0\n",
    "for i in range(len(gandalf_power)):\n",
    "    gandalf_variance += (gandalf_power[i]-gandalf_average)**2\n",
    "\n",
    "gandalf_sd = (gandalf_variance / len(gandalf_power))**0.5\n",
    "\n",
    "saruman_variance = 0\n",
    "for i in range(len(saruman_power)):\n",
    "    saruman_variance += (saruman_power[i]-saruman_average)**2\n",
    "\n",
    "saruman_sd = (saruman_variance / len(saruman_power))**0.5\n",
    "\n",
    "print(f\"The standard deviation of Gandalf's spell power is {gandalf_sd:.4f}.\")\n",
    "print(f\"The standard deviation of Saruman's spell power is {saruman_sd:.4f}.\")"
   ]
  },
  {
   "cell_type": "code",
   "execution_count": 11,
   "metadata": {},
   "outputs": [
    {
     "name": "stdout",
     "output_type": "stream",
     "text": [
      "The standard deviation of Gandalf's casted spell power is 16.4148.\n",
      "The standard deviation of Saruman's casted spell power is 15.6347.\n"
     ]
    }
   ],
   "source": [
    "gandalf_casted_variance = 0\n",
    "for i in range(len(gandalf_power[:spells])):\n",
    "    gandalf_casted_variance += (gandalf_power[i]-gandalf_casted_average)**2\n",
    "\n",
    "gandalf_casted_sd = (gandalf_casted_variance / (len(gandalf_power[:spells])-1))**0.5\n",
    "\n",
    "saruman_casted_variance = 0\n",
    "for i in range(len(saruman_power[:spells])):\n",
    "    saruman_casted_variance += (saruman_power[i]-saruman_casted_average)**2\n",
    "\n",
    "saruman_casted_sd = (saruman_casted_variance / (len(saruman_power[:spells])-1))**0.5\n",
    "\n",
    "print(f\"The standard deviation of Gandalf's casted spell power is {gandalf_casted_sd:.4f}.\")\n",
    "print(f\"The standard deviation of Saruman's casted spell power is {saruman_casted_sd:.4f}.\")"
   ]
  },
  {
   "cell_type": "markdown",
   "metadata": {},
   "source": [
    "#### Alternative method"
   ]
  },
  {
   "cell_type": "code",
   "execution_count": 12,
   "metadata": {},
   "outputs": [
    {
     "name": "stdout",
     "output_type": "stream",
     "text": [
      "The average spell power of Gandalf is 39.00. \n",
      "The standard deviation of Gandalf's spell power is 15.9513.\n",
      "\n",
      "The average casted spell power of Gandalf is 37.78. \n",
      "The standard deviation of Gandalf's casted power is 16.4148.\n",
      "\n",
      "The average spell power of Saruman is 30.50. \n",
      "The standard deviation of Saruman's spell power is 16.4063.\n",
      "\n",
      "The average casted spell power of Saruman is 32.78. \n",
      "The standard deviation of Saruman's casted power is 15.6347.\n"
     ]
    }
   ],
   "source": [
    "from statistics import stdev, mean\n",
    "\n",
    "print(f\"The average spell power of Gandalf is {mean(gandalf_power):.2f}. \\nThe standard deviation of Gandalf's spell power is {stdev(gandalf_power):.4f}.\\n\\nThe average casted spell power of Gandalf is {mean(gandalf_power[:spells]):.2f}. \\nThe standard deviation of Gandalf's casted power is {stdev(gandalf_power[:spells]):.4f}.\\n\")\n",
    "\n",
    "print(f\"The average spell power of Saruman is {mean(saruman_power):.2f}. \\nThe standard deviation of Saruman's spell power is {stdev(saruman_power):.4f}.\\n\\nThe average casted spell power of Saruman is {mean(saruman_power[:spells]):.2f}. \\nThe standard deviation of Saruman's casted power is {stdev(saruman_power[:spells]):.4f}.\")"
   ]
  }
 ],
 "metadata": {
  "kernelspec": {
   "display_name": "Python 3",
   "language": "python",
   "name": "python3"
  },
  "language_info": {
   "codemirror_mode": {
    "name": "ipython",
    "version": 3
   },
   "file_extension": ".py",
   "mimetype": "text/x-python",
   "name": "python",
   "nbconvert_exporter": "python",
   "pygments_lexer": "ipython3",
   "version": "3.8.2"
  }
 },
 "nbformat": 4,
 "nbformat_minor": 2
}
