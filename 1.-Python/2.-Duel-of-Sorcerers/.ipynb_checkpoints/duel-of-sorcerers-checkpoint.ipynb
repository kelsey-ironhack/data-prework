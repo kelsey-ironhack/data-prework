{
 "cells": [
  {
   "cell_type": "markdown",
   "metadata": {},
   "source": [
    "<img src=\"https://bit.ly/2VnXWr2\" width=\"100\" align=\"left\">"
   ]
  },
  {
   "cell_type": "markdown",
   "metadata": {},
   "source": [
    "# Duel of Sorcerers\n",
    "You are witnessing an epic battle between two powerful sorcerers: Gandalf and Saruman. Each sorcerer has 10 spells of variable power in their mind and they are going to throw them one after the other. The winner of the duel will be the one who wins more of those clashes between spells. Spells are represented as a list of 10 integers whose value equals the power of the spell.\n",
    "```\n",
    "gandalf = [10, 11, 13, 30, 22, 11, 10, 33, 22, 22]\n",
    "saruman = [23, 66, 12, 43, 12, 10, 44, 23, 12, 17]\n",
    "```\n",
    "For example:\n",
    "- The first clash is won by Saruman: 10 against 23.\n",
    "- The second clash is won by Saruman: 11 against 66.\n",
    "- ...\n",
    "\n",
    "You will create two variables, one for each sorcerer, where the sum of clashes won will be stored. Depending on which variable is greater at the end of the duel, you will show one of the following three results on the screen:\n",
    "* Gandalf wins\n",
    "* Saruman wins\n",
    "* Tie\n",
    "\n",
    "<img src=\"images/content_lightning_bolt_big.jpg\" width=\"400\">"
   ]
  },
  {
   "cell_type": "markdown",
   "metadata": {},
   "source": [
    "## Tools\n",
    "You don't necessarily need to use all the tools. Maybe you opt to use some of them or completely different ones, they are given to help you shape the exercise. Programming exercises can be solved in many different ways.\n",
    "\n",
    "1. Data structures: **lists, dictionaries**\n",
    "2. Loop: **for loop**\n",
    "3. Conditional statements: **if-elif-else**\n",
    "4. Functions: **range(), len(), print()**\n",
    "\n",
    "## Tasks\n",
    "\n",
    "#### 1. Create two variables called `gandalf` and `saruman` and assign them the spell power lists. Create a variable called `spells` to store the number of spells that the sorcerers cast. "
   ]
  },
  {
   "cell_type": "code",
   "execution_count": 2,
   "metadata": {},
   "outputs": [],
   "source": [
    "gandalf = [10, 11, 13, 30, 22, 11, 10, 33, 22, 22]\n",
    "saruman = [23, 66, 12, 43, 12, 10, 44, 23, 12, 17]\n",
    "spells = range(0,len(gandalf))"
   ]
  },
  {
   "cell_type": "markdown",
   "metadata": {},
   "source": [
    "#### 2. Create two variables called `gandalf_wins` and `saruman_wins`. Set both of them to 0. \n",
    "You will use these variables to count the number of clashes each sorcerer wins. "
   ]
  },
  {
   "cell_type": "code",
   "execution_count": 3,
   "metadata": {},
   "outputs": [],
   "source": [
    "gandalf_wins = 0\n",
    "saruman_wins = 0\n"
   ]
  },
  {
   "cell_type": "markdown",
   "metadata": {},
   "source": [
    "#### 3. Using the lists of spells of both sorcerers, update variables `gandalf_wins` and `saruman_wins` to count the number of times each sorcerer wins a clash. "
   ]
  },
  {
   "cell_type": "code",
   "execution_count": 4,
   "metadata": {},
   "outputs": [],
   "source": [
    "for spell in spells:\n",
    "    if gandalf[spell] > saruman[spell]:\n",
    "        gandalf_wins += 1\n",
    "    elif gandalf[spell] < saruman[spell]:\n",
    "        saruman_wins += 1\n",
    "        "
   ]
  },
  {
   "cell_type": "markdown",
   "metadata": {},
   "source": [
    "#### 4. Who won the battle?\n",
    "Print `Gandalf wins`, `Saruman wins` or `Tie` depending on the result. "
   ]
  },
  {
   "cell_type": "code",
   "execution_count": 5,
   "metadata": {},
   "outputs": [
    {
     "name": "stdout",
     "output_type": "stream",
     "text": [
      "Gandalf wins\n"
     ]
    }
   ],
   "source": [
    "if gandalf_wins > saruman_wins:\n",
    "    print(\"Gandalf wins\")\n",
    "elif gandalf_wins < saruman_wins:\n",
    "    print(\"Saruman wins\")\n",
    "else:\n",
    "    print(\"Tie\")"
   ]
  },
  {
   "cell_type": "markdown",
   "metadata": {},
   "source": [
    "## Bonus\n",
    "\n",
    "In this bonus challenge, you'll need to check the winner of the battle but this time, a sorcerer wins if he succeeds in winning 3 spell clashes in a row.\n",
    "\n",
    "Also, the spells now have a name and there is a dictionary that associates that name to a power.\n",
    "\n",
    "```\n",
    "POWER = {\n",
    "    'Fireball': 50, \n",
    "    'Lightning bolt': 40, \n",
    "    'Magic arrow': 10, \n",
    "    'Black Tentacles': 25, \n",
    "    'Contagion': 45\n",
    "}\n",
    "\n",
    "gandalf = ['Fireball', 'Lightning bolt', 'Lightning bolt', 'Magic arrow', 'Fireball', \n",
    "           'Magic arrow', 'Lightning bolt', 'Fireball', 'Fireball', 'Fireball']\n",
    "saruman = ['Contagion', 'Contagion', 'Black Tentacles', 'Fireball', 'Black Tentacles', \n",
    "           'Lightning bolt', 'Magic arrow', 'Contagion', 'Magic arrow', 'Magic arrow']\n",
    "```\n",
    "\n",
    "#### 1. Create variables `POWER`, `gandalf` and `saruman` as seen above. Create a variable called `spells` to store the number of spells that the sorcerers cast. "
   ]
  },
  {
   "cell_type": "code",
   "execution_count": 90,
   "metadata": {},
   "outputs": [
    {
     "name": "stdout",
     "output_type": "stream",
     "text": [
      "10\n",
      "range(0, 10)\n"
     ]
    }
   ],
   "source": [
    "POWER = {\n",
    "    'Fireball': 50, \n",
    "    'Lightning bolt': 40, \n",
    "    'Magic arrow': 10, \n",
    "    'Black Tentacles': 25, \n",
    "    'Contagion': 45\n",
    "}\n",
    "\n",
    "gandalf = ['Fireball', 'Lightning bolt', 'Lightning bolt', 'Magic arrow', 'Fireball', \n",
    "           'Magic arrow', 'Lightning bolt', 'Fireball', 'Fireball', 'Fireball']\n",
    "\n",
    "saruman = ['Contagion', 'Contagion', 'Black Tentacles', 'Fireball', 'Black Tentacles', \n",
    "           'Lightning bolt', 'Magic arrow', 'Contagion', 'Magic arrow', 'Magic arrow']\n",
    "\n",
    "spells = range(len(gandalf))\n",
    "print (len(gandalf))\n",
    "print(spells)"
   ]
  },
  {
   "cell_type": "markdown",
   "metadata": {},
   "source": [
    "#### 2. Create two variables called `gandalf_wins` and `saruman_wins`. Set both of them to 0. "
   ]
  },
  {
   "cell_type": "code",
   "execution_count": 80,
   "metadata": {},
   "outputs": [],
   "source": [
    "gandalf_wins = 0\n",
    "saruman_wins = 0"
   ]
  },
  {
   "cell_type": "markdown",
   "metadata": {},
   "source": [
    "#### 3. Create two variables called `gandalf_power` and `saruman_power` to store the list of spell powers of each sorcerer."
   ]
  },
  {
   "cell_type": "code",
   "execution_count": 92,
   "metadata": {},
   "outputs": [
    {
     "name": "stdout",
     "output_type": "stream",
     "text": [
      "[50, 40, 40, 10, 50, 10, 40, 50, 50, 50]\n",
      "[45, 45, 25, 50, 25, 40, 10, 45, 10, 10]\n"
     ]
    }
   ],
   "source": [
    "gandalf_power = []\n",
    "saruman_power = []\n",
    "\n",
    "for spell in spells: \n",
    "    g_damage = POWER[gandalf[spell]]\n",
    "    gandalf_power.append(g_damage)\n",
    "    s_damage = POWER[saruman[spell]]\n",
    "    saruman_power.append(s_damage)\n",
    "    \n",
    "print(gandalf_power)\n",
    "print(saruman_power)"
   ]
  },
  {
   "cell_type": "markdown",
   "metadata": {},
   "source": [
    "#### 4. The battle starts! Using the variables you've created above, code the execution of spell clashes. Remember that a sorcerer wins if he succeeds in winning 3 spell clashes in a row. \n",
    "If a clash ends up in a tie, the counter of wins in a row is not restarted to 0. Remember to print who is the winner of the battle. "
   ]
  },
  {
   "cell_type": "code",
   "execution_count": 93,
   "metadata": {},
   "outputs": [
    {
     "name": "stdout",
     "output_type": "stream",
     "text": [
      "Gandalf wins\n"
     ]
    }
   ],
   "source": [
    "gandalf_wins = 0\n",
    "saruman_wins = 0\n",
    "\n",
    "#gandalf_power = [50, 40, 40, 60, 50, 60, 40, 50, 50, 50] for testing ties uncomment this two lines \n",
    "#saruman_power = [50, 40, 25, 50, 50, 40, 10, 45, 10, 10] for testing ties uncomment this two lines \n",
    "\n",
    "for spell in spells:\n",
    "    if gandalf_power[spell] > saruman_power[spell]:\n",
    "        gandalf_wins += 1\n",
    "        #print(\"G wins this one spell battle\")\n",
    "        saruman_wins = 0\n",
    "        if gandalf_wins >=3:\n",
    "            print(\"Gandalf wins\")\n",
    "            break\n",
    "    elif gandalf_power[spell] < saruman_power[spell]:\n",
    "        saruman_wins += 1\n",
    "        #print(\"S wins this one spell battle\")\n",
    "        gandalf_wins = 0\n",
    "        if saruman_wins >= 3:\n",
    "            print(\"Saruman wins\")\n",
    "            break\n",
    "            \n",
    "if saruman_wins == gandalf_wins:\n",
    "    print(\"It's a tie\")\n",
    "\n"
   ]
  },
  {
   "cell_type": "markdown",
   "metadata": {},
   "source": [
    "#### 5. Find the average spell power of Gandalf and Saruman. "
   ]
  },
  {
   "cell_type": "code",
   "execution_count": 10,
   "metadata": {},
   "outputs": [
    {
     "name": "stdout",
     "output_type": "stream",
     "text": [
      "39.0\n",
      "\n",
      "\n",
      "30.5\n"
     ]
    }
   ],
   "source": [
    "avg_gandalf_spell_power = sum(gandalf_power)/ len(gandalf_power)\n",
    "print(avg_gandalf_spell_power)\n",
    "print(\"\\n\")\n",
    "avg_saruman_spell_power = sum(saruman_power)/ len(saruman_power)\n",
    "print(avg_saruman_spell_power)"
   ]
  },
  {
   "cell_type": "markdown",
   "metadata": {},
   "source": [
    "#### 6. Find the standard deviation of the spell power of Gandalf and Saruman. "
   ]
  },
  {
   "cell_type": "code",
   "execution_count": 11,
   "metadata": {},
   "outputs": [
    {
     "name": "stdout",
     "output_type": "stream",
     "text": [
      "This is the power spells of Gandalf:[50, 40, 40, 10, 50, 10, 40, 50, 50, 50]\n",
      "\n",
      "This is the numerators of the STD for Gandalf [121.0, 1.0, 1.0, 841.0, 121.0, 841.0, 1.0, 121.0, 121.0, 121.0]\n",
      "\n",
      "\n",
      "The standard deviation of the power of Gandalf is: 15.951314818673865\n",
      "\n",
      "\n",
      "\n",
      "\n",
      "This is the power spell of Saruman: [45, 45, 25, 50, 25, 40, 10, 45, 10, 10]\n",
      "\n",
      "This is the numerators of the STD for Saruman [380.25, 90.25, 90.25, 420.25, 380.25, 420.25, 90.25, 380.25, 380.25, 380.25]\n",
      "\n",
      "\n",
      "The standard deviation of the power of Saruman is: 18.29541533341679\n"
     ]
    }
   ],
   "source": [
    "#This lines code for the standart deviation of the spell power of Gandalf \n",
    "\n",
    "print(\"This is the power spells of Gandalf:\" + str(gandalf_power))\n",
    "print()\n",
    "numerator = 0\n",
    "new_list = []\n",
    "for power in gandalf_power:\n",
    "    num = (power - avg_gandalf_spell_power)**2\n",
    "    new_list.append(num)\n",
    "    numerator += num\n",
    "\n",
    "print(\"This is the numerators of the STD for Gandalf\", new_list)\n",
    "\n",
    "std_for_Gandalf = ((numerator)/(len(gandalf_power) -1)) **(1/2)\n",
    "print(\"\\n\")\n",
    "print(\"The standard deviation of the power of Gandalf is:\",std_for_Gandalf)\n",
    "\n",
    "print(\"\\n\")\n",
    "print(\"\\n\")\n",
    "\n",
    "\n",
    "print(\"This is the power spell of Saruman:\", saruman_power)\n",
    "print()\n",
    "numerator = 0\n",
    "new_list_2 = []\n",
    "for power in gandalf_power:\n",
    "    num = (power - avg_saruman_spell_power)**2\n",
    "    new_list_2.append(num)\n",
    "    numerator += num\n",
    "\n",
    "print(\"This is the numerators of the STD for Saruman\", new_list_2)\n",
    "\n",
    "std_for_Saruman = ((numerator)/(len(saruman_power) -1)) **(1/2)\n",
    "print(\"\\n\")\n",
    "print(\"The standard deviation of the power of Saruman is:\",std_for_Saruman)"
   ]
  },
  {
   "cell_type": "code",
   "execution_count": 98,
   "metadata": {},
   "outputs": [],
   "source": [
    "gandalf = [10, 11, 13, 30, 22, 11, 10, 33, 22, 22]\n",
    "saruman = [23, 66, 12, 43, 12, 10, 44, 23, 12, 17]\n",
    "spells = 0"
   ]
  },
  {
   "cell_type": "code",
   "execution_count": 99,
   "metadata": {},
   "outputs": [],
   "source": [
    "gandalf_wins = 0\n",
    "saruman_wins = 0"
   ]
  },
  {
   "cell_type": "code",
   "execution_count": 100,
   "metadata": {},
   "outputs": [
    {
     "name": "stdout",
     "output_type": "stream",
     "text": [
      "6\n",
      "4\n"
     ]
    }
   ],
   "source": [
    "index = 0\n",
    "while spells <= len(saruman)-1: #I don't understade why len should (len(...) - 1 ) in ordern not to be our of range\n",
    "    if gandalf[index] > saruman[index]:\n",
    "        gandalf_wins += 1\n",
    "    elif gandalf[index] < saruman[index]:\n",
    "        saruman_wins +=1\n",
    "    index += 1\n",
    "    spells += 1\n",
    "\n",
    "print(gandalf_wins)\n",
    "print(saruman_wins)"
   ]
  }
 ],
 "metadata": {
  "kernelspec": {
   "display_name": "Python 3",
   "language": "python",
   "name": "python3"
  },
  "language_info": {
   "codemirror_mode": {
    "name": "ipython",
    "version": 3
   },
   "file_extension": ".py",
   "mimetype": "text/x-python",
   "name": "python",
   "nbconvert_exporter": "python",
   "pygments_lexer": "ipython3",
   "version": "3.7.6"
  }
 },
 "nbformat": 4,
 "nbformat_minor": 2
}
