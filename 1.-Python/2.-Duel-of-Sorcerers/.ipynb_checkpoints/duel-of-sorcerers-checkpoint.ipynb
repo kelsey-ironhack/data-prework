{
 "cells": [
  {
   "cell_type": "markdown",
   "metadata": {},
   "source": [
    "<img src=\"https://bit.ly/2VnXWr2\" width=\"100\" align=\"left\">"
   ]
  },
  {
   "cell_type": "markdown",
   "metadata": {},
   "source": [
    "# Duel of Sorcerers\n",
    "You are witnessing an epic battle between two powerful sorcerers: Gandalf and Saruman. Each sorcerer has 10 spells of variable power in their mind and they are going to throw them one after the other. The winner of the duel will be the one who wins more of those clashes between spells. Spells are represented as a list of 10 integers whose value equals the power of the spell.\n",
    "```\n",
    "gandalf = [10, 11, 13, 30, 22, 11, 10, 33, 22, 22]\n",
    "saruman = [23, 66, 12, 43, 12, 10, 44, 23, 12, 17]\n",
    "```\n",
    "For example:\n",
    "- The first clash is won by Saruman: 10 against 23.\n",
    "- The second clash is won by Saruman: 11 against 66.\n",
    "- ...\n",
    "\n",
    "You will create two variables, one for each sorcerer, where the sum of clashes won will be stored. Depending on which variable is greater at the end of the duel, you will show one of the following three results on the screen:\n",
    "* Gandalf wins\n",
    "* Saruman wins\n",
    "* Tie\n",
    "\n",
    "<img src=\"images/content_lightning_bolt_big.jpg\" width=\"400\">"
   ]
  },
  {
   "cell_type": "markdown",
   "metadata": {},
   "source": [
    "## Tools\n",
    "You don't necessarily need to use all the tools. Maybe you opt to use some of them or completely different ones, they are given to help you shape the exercise. Programming exercises can be solved in many different ways.\n",
    "\n",
    "1. Data structures: **lists, dictionaries**\n",
    "2. Loop: **for loop**\n",
    "3. Conditional statements: **if-elif-else**\n",
    "4. Functions: **range(), len(), print()**\n",
    "\n",
    "## Tasks\n",
    "\n",
    "#### 1. Create two variables called `gandalf` and `saruman` and assign them the spell power lists. Create a variable called `spells` to store the number of spells that the sorcerers cast. "
   ]
  },
  {
   "cell_type": "code",
   "execution_count": 8,
   "metadata": {},
   "outputs": [],
   "source": [
    "gandalf = [10, 11, 13, 30, 22, 11, 10, 33, 22, 22]\n",
    "saruman = [23, 66, 12, 43, 12, 10, 44, 23, 12, 17]\n",
    "\n",
    "spells = 2"
   ]
  },
  {
   "cell_type": "markdown",
   "metadata": {},
   "source": [
    "#### 2. Create two variables called `gandalf_wins` and `saruman_wins`. Set both of them to 0. \n",
    "You will use these variables to count the number of clashes each sorcerer wins. "
   ]
  },
  {
   "cell_type": "code",
   "execution_count": 9,
   "metadata": {},
   "outputs": [],
   "source": [
    "gandalf_wins = 0\n",
    "saruman_wins = 0"
   ]
  },
  {
   "cell_type": "markdown",
   "metadata": {},
   "source": [
    "#### 3. Using the lists of spells of both sorcerers, update variables `gandalf_wins` and `saruman_wins` to count the number of times each sorcerer wins a clash. "
   ]
  },
  {
   "cell_type": "code",
   "execution_count": 14,
   "metadata": {},
   "outputs": [
    {
     "name": "stdout",
     "output_type": "stream",
     "text": [
      "Saruman the white wins the clash 10 vs 23\n",
      "Saruman the white wins the clash 11 vs 66\n"
     ]
    }
   ],
   "source": [
    "for i in range(0,spells):\n",
    "    if(gandalf[i] > saruman[i]):\n",
    "        gandalf_wins += 1\n",
    "        print(\"Gandalf the grey wins the clash \" + str(gandalf[i]) + \" vs \" + str(saruman[i]))\n",
    "    elif(gandalf[i] < saruman[i]):\n",
    "        saruman_wins += 1\n",
    "        print(\"Saruman the white wins the clash \" + str(gandalf[i]) + \" vs \" + str(saruman[i]))\n",
    "    else:\n",
    "        print(\"its tie possible? :( \")"
   ]
  },
  {
   "cell_type": "markdown",
   "metadata": {},
   "source": [
    "#### 4. Who won the battle?\n",
    "Print `Gandalf wins`, `Saruman wins` or `Tie` depending on the result. "
   ]
  },
  {
   "cell_type": "code",
   "execution_count": 15,
   "metadata": {},
   "outputs": [
    {
     "name": "stdout",
     "output_type": "stream",
     "text": [
      "Saruman wins\n"
     ]
    }
   ],
   "source": [
    "if(gandalf_wins > saruman_wins):\n",
    "    print(\"Gandalf wins\")\n",
    "elif(gandalf_wins < saruman_wins):\n",
    "    print(\"Saruman wins\")\n",
    "else:\n",
    "    print(\"Tie\")"
   ]
  },
  {
   "cell_type": "markdown",
   "metadata": {},
   "source": [
    "## Bonus\n",
    "\n",
    "In this bonus challenge, you'll need to check the winner of the battle but this time, a sorcerer wins if he succeeds in winning 3 spell clashes in a row.\n",
    "\n",
    "Also, the spells now have a name and there is a dictionary that associates that name to a power.\n",
    "\n",
    "```\n",
    "POWER = {\n",
    "    'Fireball': 50, \n",
    "    'Lightning bolt': 40, \n",
    "    'Magic arrow': 10, \n",
    "    'Black Tentacles': 25, \n",
    "    'Contagion': 45\n",
    "}\n",
    "\n",
    "gandalf = ['Fireball', 'Lightning bolt', 'Lightning bolt', 'Magic arrow', 'Fireball', \n",
    "           'Magic arrow', 'Lightning bolt', 'Fireball', 'Fireball', 'Fireball']\n",
    "saruman = ['Contagion', 'Contagion', 'Black Tentacles', 'Fireball', 'Black Tentacles', \n",
    "           'Lightning bolt', 'Magic arrow', 'Contagion', 'Magic arrow', 'Magic arrow']\n",
    "```\n",
    "\n",
    "#### 1. Create variables `POWER`, `gandalf` and `saruman` as seen above. Create a variable called `spells` to store the number of spells that the sorcerers cast. "
   ]
  },
  {
   "cell_type": "code",
   "execution_count": 16,
   "metadata": {},
   "outputs": [],
   "source": [
    "POWER = {\n",
    "    'Fireball': 50, \n",
    "    'Lightning bolt': 40, \n",
    "    'Magic arrow': 10, \n",
    "    'Black Tentacles': 25, \n",
    "    'Contagion': 45\n",
    "}\n",
    "\n",
    "gandalf = ['Fireball', 'Lightning bolt', 'Lightning bolt', 'Magic arrow', 'Fireball', \n",
    "           'Magic arrow', 'Lightning bolt', 'Fireball', 'Fireball', 'Fireball']\n",
    "saruman = ['Contagion', 'Contagion', 'Black Tentacles', 'Fireball', 'Black Tentacles', \n",
    "           'Lightning bolt', 'Magic arrow', 'Contagion', 'Magic arrow', 'Magic arrow']\n",
    "\n",
    "spells = 9\n"
   ]
  },
  {
   "cell_type": "markdown",
   "metadata": {},
   "source": [
    "#### 2. Create two variables called `gandalf_wins` and `saruman_wins`. Set both of them to 0. "
   ]
  },
  {
   "cell_type": "code",
   "execution_count": 17,
   "metadata": {},
   "outputs": [],
   "source": [
    "gandalf_wins = 0\n",
    "saruman_wins = 0"
   ]
  },
  {
   "cell_type": "markdown",
   "metadata": {},
   "source": [
    "#### 3. Create two variables called `gandalf_power` and `saruman_power` to store the list of spell powers of each sorcerer."
   ]
  },
  {
   "cell_type": "code",
   "execution_count": 18,
   "metadata": {},
   "outputs": [],
   "source": [
    "gandalf_power = 0\n",
    "saruman_power = 0"
   ]
  },
  {
   "cell_type": "markdown",
   "metadata": {},
   "source": [
    "#### 4. The battle starts! Using the variables you've created above, code the execution of spell clashes. Remember that a sorcerer wins if he succeeds in winning 3 spell clashes in a row. \n",
    "If a clash ends up in a tie, the counter of wins in a row is not restarted to 0. Remember to print who is the winner of the battle. "
   ]
  },
  {
   "cell_type": "code",
   "execution_count": 38,
   "metadata": {},
   "outputs": [
    {
     "name": "stdout",
     "output_type": "stream",
     "text": [
      "Gandalf the grey wins the clash 50 vs 45\n",
      "[1, 0]\n",
      "Saruman the white wins the clash 40 vs 45\n",
      "[0, 1]\n",
      "Gandalf the grey wins the clash 40 vs 25\n",
      "[1, 0]\n",
      "Saruman the white wins the clash 10 vs 50\n",
      "[0, 1]\n",
      "Gandalf the grey wins the clash 50 vs 25\n",
      "[1, 0]\n",
      "Saruman the white wins the clash 10 vs 40\n",
      "[0, 1]\n",
      "Gandalf the grey wins the clash 40 vs 10\n",
      "[1, 0]\n",
      "Gandalf the grey wins the clash 50 vs 45\n",
      "[2, 0]\n",
      "Gandalf the grey wins the clash 50 vs 10\n",
      "[3, 0]\n",
      "GANDALF WINS\n"
     ]
    }
   ],
   "source": [
    "win_counter = [0,0]\n",
    "match_end = 0\n",
    "\n",
    "for i in range(0,spells):\n",
    "    if(match_end == 0):\n",
    "        gandalf_power = POWER[gandalf[i]]\n",
    "        saruman_power = POWER[saruman[i]] \n",
    "\n",
    "        if(gandalf_power > saruman_power):\n",
    "            win_counter[0] += 1 ##update counter for gandalf\n",
    "            win_counter[1] = 0  ##reset saruman counter cuz he lost\n",
    "            print(\"Gandalf the grey wins the clash \" + str(gandalf_power) + \" vs \" + str(saruman_power))\n",
    "        elif(gandalf_power < saruman_power):\n",
    "            win_counter[0] = 0  ##reset gandalf counter cuz he lost \n",
    "            win_counter[1] += 1 ##update counter for saruman\n",
    "            print(\"Saruman the white wins the clash \" + str(gandalf_power) + \" vs \" + str(saruman_power))\n",
    "        else:\n",
    "            print(\"Tie\")\n",
    "\n",
    "        print(win_counter)\n",
    "            \n",
    "        if win_counter[0] == 3:\n",
    "            match_end = 1\n",
    "            print(\"GANDALF WINS\")\n",
    "        elif win_counter[1] == 3:\n",
    "            match_end = 1\n",
    "            print(\"GANDALF WINS\")"
   ]
  },
  {
   "cell_type": "markdown",
   "metadata": {},
   "source": [
    "#### 5. Find the average spell power of Gandalf and Saruman. "
   ]
  },
  {
   "cell_type": "code",
   "execution_count": 40,
   "metadata": {},
   "outputs": [
    {
     "name": "stdout",
     "output_type": "stream",
     "text": [
      "Gandalf avrg = 39.0\n",
      "Saruman avrg = 30.5\n"
     ]
    }
   ],
   "source": [
    "gandalf_total_power = 0\n",
    "for i in range(0,len(gandalf)):\n",
    "    gandalf_total_power += POWER[gandalf[i]] ##Add every spell power to the total\n",
    "    \n",
    "gandalf_average_power = gandalf_total_power / len(gandalf)\n",
    "\n",
    "saruman_total_power = 0\n",
    "for i in range(0,len(saruman)):\n",
    "    saruman_total_power += POWER[saruman[i]]\n",
    "saruman_average_power = saruman_total_power / len(saruman)  \n",
    "\n",
    "print(\"Gandalf avrg = \" + str(gandalf_average_power))\n",
    "print(\"Saruman avrg = \" + str(saruman_average_power))\n",
    "    \n"
   ]
  },
  {
   "cell_type": "markdown",
   "metadata": {},
   "source": [
    "#### 6. Find the standard deviation of the spell power of Gandalf and Saruman. "
   ]
  },
  {
   "cell_type": "code",
   "execution_count": 45,
   "metadata": {},
   "outputs": [
    {
     "name": "stdout",
     "output_type": "stream",
     "text": [
      "Gandalf SD =15.951314818673865\n",
      "Saruman SD = 16.40629960309962\n"
     ]
    }
   ],
   "source": [
    "import statistics\n",
    "\n",
    "gandalf_power_list = []\n",
    "for i in range(0,len(gandalf)):\n",
    "    gandalf_power_list.append(POWER[gandalf[i]]) ##Add every spell power to the total\n",
    "    \n",
    "print(\"Gandalf SD =\" + str(statistics.stdev(gandalf_power_list)))\n",
    "\n",
    "saruman_power_list = []\n",
    "for i in range(0,len(saruman)):\n",
    "    saruman_power_list.append(POWER[saruman[i]]) ##Add every spell power to the total\n",
    "    \n",
    "print(\"Saruman SD = \" + str(statistics.stdev(saruman_power_list)))"
   ]
  },
  {
   "cell_type": "code",
   "execution_count": null,
   "metadata": {},
   "outputs": [],
   "source": []
  }
 ],
 "metadata": {
  "kernelspec": {
   "display_name": "Python 3",
   "language": "python",
   "name": "python3"
  },
  "language_info": {
   "codemirror_mode": {
    "name": "ipython",
    "version": 3
   },
   "file_extension": ".py",
   "mimetype": "text/x-python",
   "name": "python",
   "nbconvert_exporter": "python",
   "pygments_lexer": "ipython3",
   "version": "3.8.7"
  }
 },
 "nbformat": 4,
 "nbformat_minor": 2
}
