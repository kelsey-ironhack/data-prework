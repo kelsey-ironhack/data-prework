{
 "cells": [
  {
   "cell_type": "code",
   "execution_count": 1,
   "metadata": {},
   "outputs": [
    {
     "name": "stdout",
     "output_type": "stream",
     "text": [
      "number of days to escape the well:  13 days\n"
     ]
    }
   ],
   "source": [
    "#1\n",
    "\n",
    "well_height=125\n",
    "daily_distance=30\n",
    "nightly_distance=-20\n",
    "snail_position=0\n",
    "\n",
    "#2\n",
    "\n",
    "days=0\n",
    "\n",
    "#3\n",
    "\n",
    "snail_steps=daily_distance+nightly_distance\n",
    "\n",
    "\n",
    "while snail_position < well_height+1:\n",
    "    snail_position +=snail_steps\n",
    "    days += 1\n",
    "\n",
    "#4\n",
    "\n",
    "print(\"number of days to escape the well: \", days, \"days\")"
   ]
  },
  {
   "cell_type": "code",
   "execution_count": 6,
   "metadata": {},
   "outputs": [
    {
     "name": "stdout",
     "output_type": "stream",
     "text": [
      "the snail escapes the well in 6 days\n",
      "[30, 21, 33, 77, 44, 45]\n",
      "maximum displacement is 57\n",
      "minimum displacement is 1\n",
      "[10, 1, 13, 57, 24, 25]\n",
      "the average progress is 21.666666666666668\n",
      "the standard deviation is 19.510680835549195\n"
     ]
    }
   ],
   "source": [
    "#bonus\n",
    "\n",
    "#1\n",
    "\n",
    "well_height=125\n",
    "advance_cm = [30, 21, 33, 77, 44, 45, 23, 45, 12, 34, 55]\n",
    "nightly_distance=-20\n",
    "\n",
    "snail_position=0\n",
    "days=0\n",
    "\n",
    "\n",
    "for advance in advance_cm:\n",
    "    if snail_position <126:                   #not sure if 125 included or not\n",
    "        snail_position+=advance+nightly_distance\n",
    "        days+=1\n",
    "    \n",
    "print(\"the snail escapes the well in\",days, \"days\")\n",
    "\n",
    "#2 \n",
    "\n",
    "\n",
    "advance_cm_new=advance_cm[:6]\n",
    "\n",
    "print(advance_cm_new)\n",
    "\n",
    "print(\"maximum displacement is\",(max(advance_cm_new)+nightly_distance))\n",
    "\n",
    "print(\"minimum displacement is\",(min(advance_cm_new)+nightly_distance))\n",
    "\n",
    "\n",
    "#3\n",
    "\n",
    "advance_cm_new_20= [x + nightly_distance for x in advance_cm_new] # personal note: it sums the nightly_distance to each element of the list advance_cm_new and creates a new list. For is read firstly (list comprehension)\n",
    "print(advance_cm_new_20)\n",
    "\n",
    "average=sum(advance_cm_new_20)/len(advance_cm_new_20)\n",
    "\n",
    "print(\"the average progress is\",average)\n",
    "\n",
    "#4\n",
    "\n",
    "import statistics\n",
    "\n",
    "advance_cm_new_20= [10, 1, 13, 57, 24, 25]\n",
    "\n",
    "print (\"the standard deviation is\", statistics.stdev(advance_cm_new_20))\n",
    "\n",
    "    "
   ]
  },
  {
   "cell_type": "code",
   "execution_count": 7,
   "metadata": {},
   "outputs": [
    {
     "name": "stdout",
     "output_type": "stream",
     "text": [
      "the snail escape the well in 6 days\n"
     ]
    }
   ],
   "source": [
    "#bonus - would like to have a feedback on this possibility, not sure if list comprehensions are better performance wise\n",
    "\n",
    "well_height=125\n",
    "advance_cm = [30, 21, 33, 77, 44, 45, 23, 45, 12, 34, 55]\n",
    "nightly_distance=-20\n",
    "\n",
    "snail_position=0\n",
    "days=0\n",
    "i=0\n",
    "\n",
    "while (snail_position<well_height+1) and (i<len(advance_cm)-1):\n",
    "    snail_position+=advance_cm[i]+nightly_distance\n",
    "    i+=1\n",
    "    days+=1\n",
    "\n",
    "    \n",
    "print(\"the snail escapes the well in\",days, \"days\")\n",
    "    "
   ]
  }
 ],
 "metadata": {
  "kernelspec": {
   "display_name": "Python 3",
   "language": "python",
   "name": "python3"
  },
  "language_info": {
   "codemirror_mode": {
    "name": "ipython",
    "version": 3
   },
   "file_extension": ".py",
   "mimetype": "text/x-python",
   "name": "python",
   "nbconvert_exporter": "python",
   "pygments_lexer": "ipython3",
   "version": "3.7.6"
  }
 },
 "nbformat": 4,
 "nbformat_minor": 4
}
