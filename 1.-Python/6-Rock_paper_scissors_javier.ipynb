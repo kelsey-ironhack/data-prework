from random import randint
gestures = ["rock", "paper", "scissors"]
n_rounds = 5
rounds_to_win = (n_rounds + 1)/2

choice_cpu = gestures[randint(0, 2)]
print("My choice is %s" % (choice_cpu))

print("Choose between rock, paper, scissors")
wrong_choice = True
while wrong_choice:
	choice_player = input()
	if choice_player == 'rock' or choice_player == 'paper' or choice_player == 'scissors':
		wrong_choice = False
	else:
		print("Choose again. Only between rock, paper, scissors.")
