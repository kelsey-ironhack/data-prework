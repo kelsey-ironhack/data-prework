{
 "cells": [
  {
   "cell_type": "markdown",
   "metadata": {},
   "source": [
    "<img src=\"https://bit.ly/2VnXWr2\" width=\"100\" align=\"left\">"
   ]
  },
  {
   "cell_type": "markdown",
   "metadata": {},
   "source": [
    "# Rock, Paper & Scissors\n",
    "\n",
    "Let's play the famous game against our computer. You can check the rules [here](https://en.wikipedia.org/wiki/Rock%E2%80%93paper%E2%80%93scissors). \n",
    "\n",
    "## Task\n",
    "Create a program that imitates the playability of the well known game of rock, paper, scissors. Follow the guidelines provided.\n",
    "\n",
    "## Tools\n",
    "1. Loop: **for/while**\n",
    "2. Functions: **input(), print()...**\n",
    "3. Conditional statements: **if, elif, else**\n",
    "4. Definition of functions. Modular programming\n",
    "5. Import modules\n",
    "\n",
    "**To solve this challenge, the use of functions is recommended.**\n",
    "\n",
    "#### 1. Import the choice function of the random module."
   ]
  },
  {
   "cell_type": "code",
   "execution_count": 7,
   "metadata": {},
   "outputs": [],
   "source": [
    "import random\n"
   ]
  },
  {
   "cell_type": "markdown",
   "metadata": {},
   "source": [
    "#### 2. Create a list that includes the 3 possible gesture options of the game: 'rock', 'paper' or 'scissors'. Store the list in a variable called `gestures`."
   ]
  },
  {
   "cell_type": "code",
   "execution_count": 8,
   "metadata": {},
   "outputs": [
    {
     "data": {
      "text/plain": [
       "'rock'"
      ]
     },
     "execution_count": 8,
     "metadata": {},
     "output_type": "execute_result"
    }
   ],
   "source": [
    "gestures=[\"rock\",\"paper\",\"sissors\"]\n",
    "random.choice(gestures)"
   ]
  },
  {
   "cell_type": "markdown",
   "metadata": {},
   "source": [
    "#### 3. Create a variable called `n_rounds` to store the maximum number of rounds to play in a game. \n",
    "Remember that the number of rounds must be odd: 1, 3, 5, ..."
   ]
  },
  {
   "cell_type": "code",
   "execution_count": 9,
   "metadata": {},
   "outputs": [
    {
     "name": "stdout",
     "output_type": "stream",
     "text": [
      "Set the number of rounds:3\n",
      "You chose 3 rounds to play.\n"
     ]
    }
   ],
   "source": [
    "n_rounds=int(input(\"Set the number of rounds:\"))\n",
    "if n_rounds%2==0:\n",
    "    n_rounds+=1\n",
    "else:\n",
    "    n_rounds+=0\n",
    "print(\"You chose\",n_rounds,\"rounds to play.\")\n",
    "cpu_score=0\n",
    "player_score=0\n"
   ]
  },
  {
   "cell_type": "markdown",
   "metadata": {},
   "source": [
    "#### 4. Create a variable called `rounds_to_win` to store the number of rounds that a player must win to win the game.\n",
    "**Hint**: the value stored in `rounds_to_win` depends on the value of `n_rounds`. "
   ]
  },
  {
   "cell_type": "code",
   "execution_count": null,
   "metadata": {},
   "outputs": [],
   "source": []
  },
  {
   "cell_type": "markdown",
   "metadata": {},
   "source": [
    "#### 5. Create two variables to store the number of rounds that the computer and the player have won. Call these variables `cpu_score` and `player_score`."
   ]
  },
  {
   "cell_type": "code",
   "execution_count": 10,
   "metadata": {},
   "outputs": [],
   "source": [
    "cpu_score=0\n",
    "player_score=0"
   ]
  },
  {
   "cell_type": "markdown",
   "metadata": {},
   "source": [
    "#### 6. Define a function that randomly returns one of the 3 gesture options.\n",
    "You will use this function to simulate the gesture choice of the computer. "
   ]
  },
  {
   "cell_type": "code",
   "execution_count": 11,
   "metadata": {},
   "outputs": [],
   "source": [
    "cpu_move=random.choice(gestures)"
   ]
  },
  {
   "cell_type": "markdown",
   "metadata": {},
   "source": [
    "#### 7. Define a function that asks the player which is the gesture he or she wants to show: 'rock', 'paper' or 'scissors'.\n",
    "The player should only be allowed to choose one of the 3 gesture options. If the player's choice is not rock, paper or scissors, keep asking until it is."
   ]
  },
  {
   "cell_type": "code",
   "execution_count": 12,
   "metadata": {},
   "outputs": [
    {
     "name": "stdout",
     "output_type": "stream",
     "text": [
      "Enter your move:Rock\n"
     ]
    }
   ],
   "source": [
    "player_move=(input(\"Enter your move:\"))\n"
   ]
  },
  {
   "cell_type": "markdown",
   "metadata": {},
   "source": [
    "#### 8. Define a function that checks who won a round. \n",
    "The function should return 0 if there is a tie, 1 if the computer wins and 2 if the player wins."
   ]
  },
  {
   "cell_type": "code",
   "execution_count": 13,
   "metadata": {},
   "outputs": [],
   "source": [
    "round_winner=0"
   ]
  },
  {
   "cell_type": "markdown",
   "metadata": {},
   "source": [
    "#### 9. Define a function that prints the choice of the computer, the choice of the player and a message that announces who won the current round. \n",
    "You should also use this function to update the variables that count the number of rounds that the computer and the player have won. The score of the winner increases by one point. If there is a tie, the score does not increase."
   ]
  },
  {
   "cell_type": "code",
   "execution_count": null,
   "metadata": {},
   "outputs": [],
   "source": []
  },
  {
   "cell_type": "markdown",
   "metadata": {},
   "source": [
    "#### 10. Now it's time to code the execution of the game using the functions and variables you defined above. \n",
    "\n",
    "First, create a loop structure that repeats while no player reaches the minimum score necessary to win and the number of rounds is less than the maximum number of rounds to play in a game.  \n",
    "\n",
    "Inside the loop, use the functions and variables above to create the execution of a round: ask for the player's choice, generate the random choice of the computer, show the round results, update the scores, etc. "
   ]
  },
  {
   "cell_type": "code",
   "execution_count": 2,
   "metadata": {},
   "outputs": [
    {
     "name": "stdout",
     "output_type": "stream",
     "text": [
      "Set the number of rounds:1\n",
      "You chose 1 rounds to play.\n",
      "Enter your move:Paper\n",
      "\n",
      "The clash: CPU Rock vs Paper YOU\n",
      "YOU won the clash\n",
      "\n",
      "\n"
     ]
    }
   ],
   "source": [
    "import random\n",
    "r=0\n",
    "\n",
    "n_rounds=int(input(\"Set the number of rounds:\"))\n",
    "if n_rounds%2==0:\n",
    "    n_rounds+=1\n",
    "else:\n",
    "    n_rounds+=0\n",
    "print(\"You chose\",n_rounds,\"rounds to play.\")\n",
    "cpu_wins=0\n",
    "player_wins=0\n",
    "ties=0\n",
    "\n",
    "round_winner=0\n",
    "r=0\n",
    "while r<n_rounds:\n",
    "    gestures=[\"Rock\",\"Paper\",\"Sissors\"]\n",
    "    cpu_move=random.choice(gestures)\n",
    "    player_move=(input(\"Enter your move:\"))\n",
    "    print(\"\")\n",
    "    print(\"The clash: CPU\",cpu_move,\"vs\",player_move,\"YOU\")\n",
    "    if ((cpu_move== \"Rock\" and player_move==\"Sissors\") | (cpu_move==\"Sissors\" and player_move==\"Paper\") | (cpu_move==\"Paper\" and player_move==\"Rock\")):\n",
    "        print(\"CPU won the clash\")\n",
    "        print(\"\")\n",
    "        round_winner=1\n",
    "    if((player_move==\"Rock\" and cpu_move==\"Sissors\") | (player_move==\"Sissors\" and cpu_move==\"Paper\") | (player_move==\"Paper\" and cpu_move==\"Rock\")):\n",
    "        print(\"YOU won the clash\")\n",
    "        print(\"\")\n",
    "        round_winner=2\n",
    "    if player_move==cpu_move:\n",
    "        print(\"The clash was a tie\")\n",
    "        print(\"\")\n",
    "        round_winner=0\n",
    "    else:\n",
    "        print(\"\")\n",
    "    r+=1  \n",
    "\n",
    "    "
   ]
  },
  {
   "cell_type": "markdown",
   "metadata": {},
   "source": [
    "#### 11. Print the winner of the game based on who won more rounds.\n",
    "Remember that the game might be tied. "
   ]
  },
  {
   "cell_type": "code",
   "execution_count": null,
   "metadata": {},
   "outputs": [],
   "source": [
    "if player_move==\"Rock\":\n",
    "        a=1\n",
    "    elif player_move==\"Sissors\":\n",
    "        a=2\n",
    "    elif player_move==\"Paper\":\n",
    "        a=3\n",
    "    elif cpu_move==\"Rock\":\n",
    "        b=1\n",
    "    elif cpu_move==\"Sissors\":\n",
    "        b=2\n",
    "    elif cpu_move==\"Paper\":\n",
    "        b=3\n",
    "    \n",
    "    ##round winner 1:cpu; 2:player; 3:tie \n",
    "        if ((b==1 & a==2) | (b==2 & a==3) | (b==3 & a==1)):\n",
    "            round_winner==1\n",
    "        elif((a==1 & b==2) | (a==2 & b==3) | (a==3 & b==1)):\n",
    "            round_winner==2\n",
    "        else:\n",
    "            round_winner==0\n",
    "            \n",
    "    \n",
    "    print(\"The clash: CPU\",cpu_move,\"vs\",player_move,\"YOU\")"
   ]
  },
  {
   "cell_type": "markdown",
   "metadata": {},
   "source": [
    "# Bonus: Rock, Paper, Scissors, Lizard & Spock\n",
    "![](images/rpsls.jpg)\n",
    "\n",
    "In this challenge, you need to improve the previous game by adding two new options. To know more about the rules of the improved version of rock, paper, scissors, check this [link](http://www.samkass.com/theories/RPSSL.html). \n",
    "\n",
    "In addition, you will also need to improve how the game interacts with the player: the number of rounds to play, which must be an odd number, will be requested to the user until a valid number is entered. Define a new function to make that request.\n",
    "\n",
    "**Hint**: Try to reuse the code that you already coded in the previous challenge. If your code is efficient, this bonus will only consist of simple modifications to the original game."
   ]
  },
  {
   "cell_type": "code",
   "execution_count": null,
   "metadata": {},
   "outputs": [],
   "source": []
  }
 ],
 "metadata": {
  "kernelspec": {
   "display_name": "Python 3",
   "language": "python",
   "name": "python3"
  },
  "language_info": {
   "codemirror_mode": {
    "name": "ipython",
    "version": 3
   },
   "file_extension": ".py",
   "mimetype": "text/x-python",
   "name": "python",
   "nbconvert_exporter": "python",
   "pygments_lexer": "ipython3",
   "version": "3.7.6"
  }
 },
 "nbformat": 4,
 "nbformat_minor": 2
}
