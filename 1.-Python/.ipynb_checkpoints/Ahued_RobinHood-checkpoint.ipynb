{
 "cells": [
  {
   "cell_type": "markdown",
   "metadata": {},
   "source": [
    "<img src=\"https://bit.ly/2VnXWr2\" width=\"100\" align=\"left\"/>"
   ]
  },
  {
   "cell_type": "markdown",
   "metadata": {},
   "source": [
    "# Robin Hood\n",
    "Robin Hood has entered a competition to win the archery contest in Sherwood. With his bow and arrows, he needs to shoot on a target and try to hit as close as possible to the center.\n",
    "\n",
    "![](images/arrows.jpg)\n",
    "\n",
    "## Context\n",
    "In this challenge, the landing position of arrows shot by archers in the competition will be represented using 2-dimensional coordinates. \n",
    "\n",
    "In the 2-dimensional space, a point can be defined by a pair of values that correspond to the horizontal coordinate (x) and the vertical coordinate (y). For example, in our case, an arrow that hits the center of the archery target will land in position (0, 0) on the coordinate axes. \n",
    "\n",
    "The space can be divided into 4 zones (quadrants): Q1, Q2, Q3, Q4. If a point is in Q1, both its x coordinate and y coordinate are positive. Any point with a null x or y coordinate is considered to not belong to any quadrant. \n",
    "\n",
    "If you want to know more about the cartesian coordinate system, you can check this [link](https://en.wikipedia.org/wiki/Cartesian_coordinate_system). \n",
    "\n",
    "## Tools\n",
    "You don't necessarily need to use all the tools. Maybe you opt to use some of them or completely different ones, they are given to help you shape the exercise. Programming exercises can be solved in many different ways.\n",
    "* Data structures: **lists, sets, tuples**\n",
    "* Conditional statements: **if-elif-else**\n",
    "* Loop: **while/for**\n",
    "* Minimum (optional sorting)\n",
    "\n",
    "## Tasks\n",
    "Robin Hood has hit the following points:"
   ]
  },
  {
   "cell_type": "code",
   "execution_count": 18,
   "metadata": {},
   "outputs": [],
   "source": [
    "points = [(4, 5), (-0, 2), (4, 7), (1, -3), (3, -2), (4, 5), (3, 2), (5, 7), (-5, 7), (2, 2), (-4, 5), (0, -2),\n",
    "          (-4, 7), (-1, 3), (-3, 2), (-4, -5), (-3, 2), (5, 7), (5, 7), (2, 2), (9, 9), (-8, -9)]"
   ]
  },
  {
   "cell_type": "markdown",
   "metadata": {},
   "source": [
    "#### 1. Robin Hood is famous for hitting an arrow with another arrow. Find the coordinates of the points where an arrow hits another arrow."
   ]
  },
  {
   "cell_type": "code",
   "execution_count": 19,
   "metadata": {},
   "outputs": [
    {
     "name": "stdout",
     "output_type": "stream",
     "text": [
      "These are the coordinates where an arrow hit another arrow [(4, 5), (5, 7), (-3, 2), (2, 2)]\n"
     ]
    }
   ],
   "source": [
    "##Utilizando las funciones set y count se crea un bucle para encontrar los puntos repetidos,\n",
    "##el count identifica cuando un tuple es mayor a 1 y lo ingresa a la lista\n",
    "arrow_hits_arrow = list(set([i for i in points \n",
    "            if points.count(i) > 1]))\n",
    "print(\"These are the coordinates where an arrow hit another arrow\",arrow_hits_arrow)"
   ]
  },
  {
   "cell_type": "markdown",
   "metadata": {},
   "source": [
    "#### 2. Calculate how many arrows have fallen in each quadrant. \n",
    "**Note**: the arrows that fall in the axis (x=0 or y=0) don't belong to any quadrant."
   ]
  },
  {
   "cell_type": "code",
   "execution_count": 21,
   "metadata": {},
   "outputs": [
    {
     "name": "stdout",
     "output_type": "stream",
     "text": [
      "[4, 0, 4, 1, 3, 4, 3, 5, -5, 2, -4, 0, -4, -1, -3, -4, -3, 5, 5, 2, 9, -8]\n",
      "[5, 2, 7, -3, -2, 5, 2, 7, 7, 2, 5, -2, 7, 3, 2, -5, 2, 7, 7, 2, 9, -9]\n",
      "\n",
      "The 1 ° shot belongs to quadrant 1\n",
      "The 2 ° shot got out of range\n",
      "The 3 ° shot belongs to quadrant 1\n",
      "The 4 ° shot belongs to quadrant 4\n",
      "The 5 ° shot belongs to quadrant 4\n",
      "The 6 ° shot belongs to quadrant 1\n",
      "The 7 ° shot belongs to quadrant 1\n",
      "The 8 ° shot belongs to quadrant 1\n",
      "The 9 ° shot belongs to quadrant 2\n",
      "The 10 ° shot belongs to quadrant 1\n",
      "The 11 ° shot belongs to quadrant 2\n",
      "The 12 ° shot got out of range\n",
      "The 13 ° shot belongs to quadrant 2\n",
      "The 14 ° shot belongs to quadrant 2\n",
      "The 15 ° shot belongs to quadrant 2\n",
      "The 16 ° shot belongs to quadrant 3\n",
      "The 17 ° shot belongs to quadrant 2\n",
      "The 18 ° shot belongs to quadrant 1\n",
      "The 19 ° shot belongs to quadrant 1\n",
      "The 20 ° shot belongs to quadrant 1\n",
      "The 21 ° shot belongs to quadrant 1\n",
      "The 22 ° shot belongs to quadrant 3\n",
      "\n",
      "There were 10 shots in the first qudrant\n",
      "There were 6 shots in the second qudrant\n",
      "There were 2 shots in the third qudrant\n",
      "There were 2 shots in the fourth qudrant\n",
      "There were 2 out of range\n"
     ]
    }
   ],
   "source": [
    "##Separar las coordenadas first second\n",
    "fc = [i[0] for i in points] \n",
    "sc = [i[1] for i in points] \n",
    "print(fc)\n",
    "print(sc)\n",
    "print(\"\")\n",
    "e=0\n",
    "shots=0\n",
    "q1=0\n",
    "q2=0\n",
    "q3=0\n",
    "q4=0\n",
    "n=1\n",
    "while shots<len(points):\n",
    "    if fc[e]>0 and sc[e]>0:\n",
    "        print(\"The\",n,\"° shot belongs to quadrant 1\")\n",
    "\n",
    "        q1+=1\n",
    "\n",
    "    elif fc[e]<0 and sc[e]>0:\n",
    "        print(\"The\",n,\"° shot belongs to quadrant 2\")\n",
    "\n",
    "        q2+=1\n",
    "\n",
    "    elif fc[e]<0 and sc[e]<0:\n",
    "        print(\"The\",n,\"° shot belongs to quadrant 3\")\n",
    "\n",
    "        q3+=1\n",
    "\n",
    "    elif fc[e]>0 and sc[e]<0:\n",
    "        print(\"The\",n,\"° shot belongs to quadrant 4\")\n",
    "\n",
    "        q4+=1\n",
    "\n",
    "    else:\n",
    "        print(\"The\",n,\"° shot got out of range\")\n",
    "    \n",
    "    e+=1\n",
    "    shots+=1\n",
    "    n+=1\n",
    "print(\"\")\n",
    "print(\"There were\",q1,\"shots in the first qudrant\")\n",
    "print(\"There were\",q2,\"shots in the second qudrant\")\n",
    "print(\"There were\",q3,\"shots in the third qudrant\")\n",
    "print(\"There were\",q3,\"shots in the fourth qudrant\")    \n",
    "print(\"There were\",shots-(q1+q2+q3+q4),\"out of range\")\n",
    "    \n"
   ]
  },
  {
   "cell_type": "markdown",
   "metadata": {},
   "source": [
    "#### 3. Find the point closest to the center. Calculate its distance to the center. \n",
    "Take into account that there might be more than one point at the minimum distance to the center.\n",
    "\n",
    "**Hint**: Use the Euclidean distance. You can find more information about it [here](https://en.wikipedia.org/wiki/Euclidean_distance).  \n",
    "**Hint**: Defining a function that calculates the distance to the center can help."
   ]
  },
  {
   "cell_type": "code",
   "execution_count": 22,
   "metadata": {},
   "outputs": [
    {
     "name": "stdout",
     "output_type": "stream",
     "text": [
      "The following dictionary shows the point and the Euclidean distance to the center of each one {(4, 5): 20.5, (0, 2): 2.0, (4, 7): 32.5, (1, -3): 5.0, (3, -2): 6.5, (3, 2): 6.5, (5, 7): 37.0, (-5, 7): 37.0, (2, 2): 4.0, (-4, 5): 20.5, (0, -2): 2.0, (-4, 7): 32.5, (-1, 3): 5.0, (-3, 2): 6.5, (-4, -5): 20.5, (9, 9): 81.0, (-8, -9): 72.5}\n",
      "\n",
      "The point(s) closest to the center is/are [(0, 2), (0, -2)]\n"
     ]
    }
   ],
   "source": [
    "\n",
    "l=0\n",
    "#Lista\n",
    "results = []\n",
    "shots=0\n",
    "min_points=[]\n",
    "\n",
    "while shots<len(points):\n",
    "    f=((fc[l])**2+(sc[l])**2)**1/2\n",
    "    shots+=1\n",
    "    l+=1\n",
    "    #Agregando a lista\n",
    "    results.append(f)\n",
    "points_distance=dict(zip(points,results))\n",
    "print(\"The following dictionary shows the point and the Euclidean distance to the center of each one\",points_distance)\n",
    "##utilizando la iteracion list comprehension\n",
    "pts = [key  for (key, value) in points_distance.items() if value == 2]\n",
    "print(\"\")\n",
    "print(\"The point(s) closest to the center is/are\",pts)\n"
   ]
  },
  {
   "cell_type": "markdown",
   "metadata": {},
   "source": [
    "#### 4. If the archery target has a radius of 9, calculate the number of arrows that won't hit the target. \n",
    "**Hint**: Use the function created in step 3. "
   ]
  },
  {
   "cell_type": "code",
   "execution_count": 16,
   "metadata": {},
   "outputs": [
    {
     "name": "stdout",
     "output_type": "stream",
     "text": [
      "There were 12 arrows off target.\n",
      "There were 10 arrows on target.\n"
     ]
    }
   ],
   "source": [
    "off_target=0\n",
    "on_target=0\n",
    "z=0\n",
    "while z<len(points):\n",
    "    if results[z]>9:\n",
    "        off_target+=1\n",
    "    else:\n",
    "        on_target+=1\n",
    "        \n",
    "    z+=1\n",
    "    \n",
    "print(\"There were\",off_target,\"arrows off target.\")\n",
    "print(\"There were\",on_target,\"arrows on target.\")\n",
    "        "
   ]
  }
 ],
 "metadata": {
  "kernelspec": {
   "display_name": "Python 3",
   "language": "python",
   "name": "python3"
  },
  "language_info": {
   "codemirror_mode": {
    "name": "ipython",
    "version": 3
   },
   "file_extension": ".py",
   "mimetype": "text/x-python",
   "name": "python",
   "nbconvert_exporter": "python",
   "pygments_lexer": "ipython3",
   "version": "3.7.6"
  }
 },
 "nbformat": 4,
 "nbformat_minor": 2
}
