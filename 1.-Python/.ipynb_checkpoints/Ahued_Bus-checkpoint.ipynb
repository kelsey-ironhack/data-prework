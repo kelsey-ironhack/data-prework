{
 "cells": [
  {
   "cell_type": "markdown",
   "metadata": {},
   "source": [
    "<img src=\"https://bit.ly/2VnXWr2\" width=\"100\" align=\"left\">"
   ]
  },
  {
   "cell_type": "markdown",
   "metadata": {},
   "source": [
    "# Bus\n",
    "\n",
    "This bus has a passenger entry and exit control system to monitor the number of occupants it carries and thus detect when there are too many.\n",
    "\n",
    "At each stop, the entry and exit of passengers is represented by a tuple consisting of two integer numbers.\n",
    "```\n",
    "bus_stop = (in, out)\n",
    "```\n",
    "The succession of stops is represented by a list of these tuples.\n",
    "```\n",
    "stops = [(in1, out1), (in2, out2), (in3, out3), (in4, out4)]\n",
    "```\n",
    "\n",
    "## Tools\n",
    "You don't necessarily need to use all the tools. Maybe you opt to use some of them or completely different ones, they are given to help you shape the exercise. Programming exercises can be solved in many different ways.\n",
    "* Data structures: **lists, tuples**\n",
    "* Loop: **while/for loops**\n",
    "* Functions: **min, max, len**\n",
    "\n",
    "## Tasks"
   ]
  },
  {
   "cell_type": "code",
   "execution_count": 2,
   "metadata": {},
   "outputs": [],
   "source": [
    "# Variables\n",
    "stops = [(10, 0), (4, 1), (3, 5), (3, 4), (5, 1), (1, 5), (5, 8), (4, 6), (2, 3)]"
   ]
  },
  {
   "cell_type": "markdown",
   "metadata": {},
   "source": [
    "#### 1. Calculate the number of stops."
   ]
  },
  {
   "cell_type": "code",
   "execution_count": 81,
   "metadata": {},
   "outputs": [
    {
     "name": "stdout",
     "output_type": "stream",
     "text": [
      "There are 9 stops.\n"
     ]
    }
   ],
   "source": [
    "print(\"There are\",len(stops),\"stops.\")"
   ]
  },
  {
   "cell_type": "markdown",
   "metadata": {},
   "source": [
    "#### 2. Assign to a variable a list whose elements are the number of passengers at each stop (in-out).\n",
    "Each item depends on the previous item in the list + in - out."
   ]
  },
  {
   "cell_type": "code",
   "execution_count": 6,
   "metadata": {},
   "outputs": [
    {
     "name": "stdout",
     "output_type": "stream",
     "text": [
      "The ins: [10, 4, 3, 3, 5, 1, 5, 4, 2]\n",
      "The outs [0, 1, 5, 4, 1, 5, 8, 6, 3]\n",
      "\n",
      "The passengers per stop [10, 3, -2, -1, 4, -4, -3, -2, -1]\n"
     ]
    }
   ],
   "source": [
    "ins = [i[0] for i in stops] \n",
    "outs = [i[1] for i in stops]\n",
    "print(\"The ins:\",ins)\n",
    "print(\"The outs\",outs)\n",
    "#Convertir los outs en negativo, porque son salidas de gente\n",
    "b=[-i for i in outs]\n",
    "##Para sumar las dos listas elemento por elemento se utiliza zip()\n",
    "passengers=[sum(x) for x in zip(ins,b)]\n",
    "print(\"\")\n",
    "print(\"The passengers per stop\",passengers)"
   ]
  },
  {
   "cell_type": "markdown",
   "metadata": {},
   "source": [
    "#### 3. Find the maximum occupation of the bus."
   ]
  },
  {
   "cell_type": "code",
   "execution_count": 5,
   "metadata": {},
   "outputs": [
    {
     "name": "stdout",
     "output_type": "stream",
     "text": [
      "10\n",
      "13\n",
      "11\n",
      "10\n",
      "14\n",
      "10\n",
      "7\n",
      "5\n",
      "4\n",
      "[10, 13, 11, 10, 14, 10, 7, 5, 4]\n",
      "\n",
      "The maximum occupation of the bus is 14 people.\n"
     ]
    }
   ],
   "source": [
    "occupation=[]\n",
    "f=0\n",
    "t = 0\n",
    "##Sumando cada elemento de la lisa para ir acumulando la ocupación del bus\n",
    "for i in passengers:\n",
    "    t += i\n",
    "    print(t) \n",
    "    occupation.append(t)\n",
    "print(occupation)\n",
    "print(\"\")\n",
    "print(\"The maximum occupation of the bus is\",max(occupation),\"people.\")\n",
    "\n",
    "\n",
    "        "
   ]
  },
  {
   "cell_type": "markdown",
   "metadata": {},
   "source": [
    "#### 4. Calculate the average occupation. And the standard deviation."
   ]
  },
  {
   "cell_type": "code",
   "execution_count": 84,
   "metadata": {},
   "outputs": [
    {
     "name": "stdout",
     "output_type": "stream",
     "text": [
      "The average occupation of the bus is 9.333333333333334 people\n",
      "The standard deviation of the bus is 3.391164991562634\n"
     ]
    }
   ],
   "source": [
    "print(\"The average occupation of the bus is\",sum(occupation)/len(occupation),\"people\")\n",
    "import statistics\n",
    "print(\"The standard deviation of the bus is\",statistics.stdev(occupation))"
   ]
  }
 ],
 "metadata": {
  "kernelspec": {
   "display_name": "Python 3",
   "language": "python",
   "name": "python3"
  },
  "language_info": {
   "codemirror_mode": {
    "name": "ipython",
    "version": 3
   },
   "file_extension": ".py",
   "mimetype": "text/x-python",
   "name": "python",
   "nbconvert_exporter": "python",
   "pygments_lexer": "ipython3",
   "version": "3.7.6"
  }
 },
 "nbformat": 4,
 "nbformat_minor": 2
}
