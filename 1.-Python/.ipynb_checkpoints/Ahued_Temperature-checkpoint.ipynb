{
 "cells": [
  {
   "cell_type": "markdown",
   "metadata": {},
   "source": [
    "<img src=\"https://bit.ly/2VnXWr2\" width=\"100\" align=\"left\">"
   ]
  },
  {
   "cell_type": "markdown",
   "metadata": {},
   "source": [
    "# Temperature Sensor\n",
    "\n",
    "There is a temperature sensor in the processor of your company's server. The company wants to analyze the data provided by the sensor to decide if they should change the cooling system for a better one. As changing the cooling system is expensive and you are an excellent data analyst, you can't make a decision without basis.\n",
    "\n",
    "## Tools\n",
    "You don't necessarily need to use all the tools. Maybe you opt to use some of them or completely different ones, they are given to help you shape the exercise. Programming exercises can be solved in many different ways.\n",
    "1. Data structures: **lists**\n",
    "2. Loops: **list comprehension**\n",
    "3. Functions: **min, max, print, len**\n",
    "4. Conditional statements: **if-elif-else**\n",
    "\n",
    "## Tasks\n",
    "The temperatures measured throughout the 24 hours of a day are:"
   ]
  },
  {
   "cell_type": "code",
   "execution_count": 2,
   "metadata": {},
   "outputs": [],
   "source": [
    "temperatures_C = [33, 66, 65, 0, 59, 60, 62, 64, 70, 76, 80, 81, 80, 83, 90, 79, 61, 53, 50, 49, 53, 48, 45, 39]"
   ]
  },
  {
   "cell_type": "markdown",
   "metadata": {},
   "source": [
    "The first element of the list is the temperature at 12am, the second element is the temperature at 1am, and so on. \n",
    "\n",
    "The company has decided that if one of the following events occurs, then the cooling system needs to be replaced for a new one to avoid damaging the processor.\n",
    "* More than 4 temperatures are greater than or equal to 70ºC.\n",
    "* Any temperature is above 80ºC.\n",
    "* The average temperature exceeds 65ºC.\n",
    "\n",
    "Follow the steps so that you can make the decision.\n",
    "\n",
    "#### 1. Find the minimum temperature of the day and store it in a variable."
   ]
  },
  {
   "cell_type": "code",
   "execution_count": 3,
   "metadata": {},
   "outputs": [
    {
     "name": "stdout",
     "output_type": "stream",
     "text": [
      "The minimum temperature of the day is: 0 °C\n"
     ]
    }
   ],
   "source": [
    "temperatures_C = [33, 66, 65, 0, 59, 60, 62, 64, 70, 76, 80, 81, 80, 83, 90, 79, 61, 53, 50, 49, 53, 48, 45, 39]\n",
    "print(\"The minimum temperature of the day is:\",min(temperatures_C),\"°C\")"
   ]
  },
  {
   "cell_type": "markdown",
   "metadata": {},
   "source": [
    "#### 2. Find the maximum temperature of the day and store it in a variable."
   ]
  },
  {
   "cell_type": "code",
   "execution_count": 4,
   "metadata": {},
   "outputs": [
    {
     "name": "stdout",
     "output_type": "stream",
     "text": [
      "The minimum temperature of the day is: 90 °C\n"
     ]
    }
   ],
   "source": [
    "temperatures_C = [33, 66, 65, 0, 59, 60, 62, 64, 70, 76, 80, 81, 80, 83, 90, 79, 61, 53, 50, 49, 53, 48, 45, 39]\n",
    "print(\"The minimum temperature of the day is:\",max(temperatures_C),\"°C\")"
   ]
  },
  {
   "cell_type": "markdown",
   "metadata": {},
   "source": [
    "#### 3. Create a list with the temperatures that are greater than or equal to 70ºC. Store it in a variable."
   ]
  },
  {
   "cell_type": "code",
   "execution_count": 4,
   "metadata": {},
   "outputs": [
    {
     "name": "stdout",
     "output_type": "stream",
     "text": [
      "The list is: [70, 76, 80, 81, 80, 83, 90, 79]\n"
     ]
    }
   ],
   "source": [
    "seventy_or_more=[]\n",
    "for i in temperatures_C:\n",
    "    if i>=70:\n",
    "        seventy_or_more.append(i)\n",
    "print(\"The list is:\",seventy_or_more)"
   ]
  },
  {
   "cell_type": "markdown",
   "metadata": {},
   "source": [
    "#### 4. Find the average temperature of the day and store it in a variable."
   ]
  },
  {
   "cell_type": "code",
   "execution_count": 5,
   "metadata": {},
   "outputs": [
    {
     "name": "stdout",
     "output_type": "stream",
     "text": [
      "The average temperature is 60.25 °C\n"
     ]
    }
   ],
   "source": [
    "print(\"The average temperature is\",sum(temperatures_C)/len(temperatures_C),\"°C\")"
   ]
  },
  {
   "cell_type": "markdown",
   "metadata": {},
   "source": [
    "#### 5. Imagine that there was a sensor failure at 3am and the data for that specific hour was not recorded. How would you estimate the missing value? Replace the current value of the list at 3am for an estimation. "
   ]
  },
  {
   "cell_type": "code",
   "execution_count": 12,
   "metadata": {},
   "outputs": [
    {
     "name": "stdout",
     "output_type": "stream",
     "text": [
      "[12, 13, 14, 15, 16, 17, 18, 19, 20, 21, 22, 23, 24, 1, 2, 3, 4, 5, 6, 7, 8, 9, 10, 11]\n",
      "This dictionary assigns the hour to the temperature: {12: 33, 13: 66, 14: 65, 15: 0, 16: 59, 17: 60, 18: 62, 19: 64, 20: 70, 21: 76, 22: 80, 23: 81, 24: 80, 1: 83, 2: 90, 3: 79, 4: 61, 5: 53, 6: 50, 7: 49, 8: 53, 9: 48, 10: 45, 11: 39}\n",
      "\n",
      "The corrected list: {12: 33, 13: 66, 14: 65, 15: 0, 16: 59, 17: 60, 18: 62, 19: 64, 20: 70, 21: 76, 22: 80, 23: 81, 24: 80, 1: 83, 2: 90, 3: 0, 4: 61, 5: 53, 6: 50, 7: 49, 8: 53, 9: 48, 10: 45, 11: 39}\n",
      "\n",
      "The list with the 3 am estimated value {12: 33, 13: 66, 14: 65, 15: 0, 16: 59, 17: 60, 18: 62, 19: 64, 20: 70, 21: 76, 22: 80, 23: 81, 24: 80, 1: 83, 2: 90, 3: 75.5, 4: 61, 5: 53, 6: 50, 7: 49, 8: 53, 9: 48, 10: 45, 11: 39}\n"
     ]
    }
   ],
   "source": [
    "##Agregando las horas del dia a una lista\n",
    "a=list(range(12,25))\n",
    "b=list(range(1,12))\n",
    "c=a+b\n",
    "print(c)\n",
    "##Asociarlas las horas y la medición de temp a cada hora \n",
    "temps=dict(zip(c,temperatures_C))\n",
    "print(\"This dictionary assigns the hour to the temperature:\",temps)\n",
    "print(\"\")\n",
    "##Remplazando temperatura de 3 am\n",
    "for key, value in temps.items():\n",
    "    temps[3] = 0\n",
    "print(\"The corrected list:\",temps)\n",
    "print(\"\")\n",
    "##Almacenando temperatura a las 2 y 4 am\n",
    "two_am=(list(temps.values())[list(temps.keys()).index(2)])\n",
    "four_am=(list(temps.values())[list(temps.keys()).index(4)])\n",
    "##otra forma podria ser: two_am = [value  for (key, value) in temps.items() if key == 2]  pero no es posible porque en la parte\n",
    "##de abajo se requiere una suma, y es mejor tenerlo como listas\n",
    "\n",
    "##Se determina las 3 am con el promedio entre las 2am y 4am\n",
    "three_am=(two_am+four_am)/2\n",
    "##Se agrega al diccionario\n",
    "for key, value in temps.items():\n",
    "    temps[3] = three_am\n",
    "print(\"The list with the 3 am estimated value\",temps)\n"
   ]
  },
  {
   "cell_type": "markdown",
   "metadata": {},
   "source": [
    "#### 6. Bonus: the maintenance staff is from the United States and does not understand the international metric system. Help them by converting the temperatures from Celsius to Fahrenheit.\n",
    "To know more about temperature conversion check this [link](https://en.wikipedia.org/wiki/Conversion_of_units_of_temperature).\n",
    "\n",
    "**Formula**: \n",
    "\n",
    "$F = 1.8 * C + 32$"
   ]
  },
  {
   "cell_type": "code",
   "execution_count": 50,
   "metadata": {},
   "outputs": [
    {
     "name": "stdout",
     "output_type": "stream",
     "text": [
      "The temperatures on F° are [91.4, 150.8, 149.0, 32.0, 138.2, 140.0, 143.60000000000002, 147.2, 158.0, 168.8, 176.0, 177.8, 176.0, 181.4, 194.0, 174.20000000000002, 141.8, 127.4, 122.0, 120.2, 127.4, 118.4, 113.0, 102.2]\n"
     ]
    }
   ],
   "source": [
    "t=0\n",
    "f=[]\n",
    "temperatures_F=[]\n",
    "while t<len(temperatures_C):\n",
    "    if temperatures_C[t]>=0:\n",
    "        f=temperatures_C[t]*1.8+32\n",
    "        t+=1\n",
    "    temperatures_F.append(f)\n",
    "\n",
    "    \n",
    "print(\"The temperatures on F° are\",temperatures_F)\n",
    "        "
   ]
  },
  {
   "cell_type": "markdown",
   "metadata": {},
   "source": [
    "#### 7. Make a decision!\n",
    "Now it's time to make a decision taking into account what you have seen until now. \n",
    "\n",
    "Remember that if one of the following events occurs, then the cooling system needs to be replaced for a new one to avoid damaging the processor.\n",
    "* More than 4 temperatures are greater than or equal to 70ºC.\n",
    "* Any temperature is above 80ºC.\n",
    "* The average temperature exceeds 65ºC.\n",
    "\n",
    "#### To make your decision, check if any of the three conditions above is met. You might need to use some of the variables you created in steps 1 to 6. Print a message to show if the cooling system needs to be changed or not."
   ]
  },
  {
   "cell_type": "code",
   "execution_count": 9,
   "metadata": {},
   "outputs": [
    {
     "name": "stdout",
     "output_type": "stream",
     "text": [
      "[33, 66, 65, 0, 59, 60, 62, 64, 70, 76, 80, 81, 80, 83, 90, 79, 61, 53, 50, 49, 53, 48, 45, 39]\n",
      "The cooling system needs to be replaced\n"
     ]
    }
   ],
   "source": [
    "print(temperatures_C)\n",
    "average=sum(temperatures_C)/len(temperatures_C)\n",
    "grtr_svty=0\n",
    "t=0\n",
    "f=0\n",
    "not_r=0\n",
    "while t<len(temperatures_C):\n",
    "    if grtr_svty==4:\n",
    "        print(\"The cooling system needs to be replaced\")\n",
    "        break\n",
    "    elif temperatures_C[f]>=70:\n",
    "        grtr_svty+=1\n",
    "        \n",
    "    elif temperatures_C[f]>=80:\n",
    "        print(\"The cooling system needs to be replaced\")\n",
    "        break\n",
    "        \n",
    "    elif average>65:\n",
    "            print(\"The cooling system needs to be replaced\")\n",
    "            break\n",
    "    else:\n",
    "        not_r+=1\n",
    "        if not_r==len(temperatures_C):\n",
    "            print(\"The cooling system does not need to be replaced\")\n",
    "        else:\n",
    "            print(\"The cooling system needs to be replaced\")\n",
    "            break\n",
    "        \n",
    "        \n",
    "         \n",
    "    f+=1\n",
    "    t+=1\n",
    "        \n",
    "    \n",
    "    "
   ]
  },
  {
   "cell_type": "markdown",
   "metadata": {},
   "source": [
    "## Bonus\n",
    "\n",
    "The company has decided that the decision you made is not valid. They want you to analyze the data again but this time, the conditions that need to be met in order to change the cooling system are different.\n",
    "\n",
    "This time, if one of the following events occurs, then the cooling system needs to be replaced:\n",
    "* The temperature is greater than 70ºC during more than 4 consecutive hours.\n",
    "* Any temperature is above 80ºC.\n",
    "* The average temperature exceeds 65ºC.\n",
    "\n",
    "Follow the steps so that you can make the decision.\n",
    "\n",
    "#### 1. Create a list with the hours where the temperature is greater than 70ºC. Store it in a variable."
   ]
  },
  {
   "cell_type": "code",
   "execution_count": 20,
   "metadata": {},
   "outputs": [
    {
     "name": "stdout",
     "output_type": "stream",
     "text": [
      "The list is: [76, 80, 81, 80, 83, 90, 79]\n"
     ]
    }
   ],
   "source": [
    "\n",
    "more_than_seventy_C=[]\n",
    "for i in temperatures_C:\n",
    "    if i>70:\n",
    "        more_than_seventy_C.append(i)\n",
    "print(\"The list is:\",more_than_seventy_C)"
   ]
  },
  {
   "cell_type": "markdown",
   "metadata": {},
   "source": [
    "#### 2. Check if the list you created in step 1 has more than 4 consecutive hours. "
   ]
  },
  {
   "cell_type": "code",
   "execution_count": 22,
   "metadata": {},
   "outputs": [
    {
     "name": "stdout",
     "output_type": "stream",
     "text": [
      "{12: 33, 13: 66, 14: 65, 15: 0, 16: 59, 17: 60, 18: 62, 19: 64, 20: 70, 21: 76, 22: 80, 23: 81, 24: 80, 1: 83, 2: 90, 3: 75.5, 4: 61, 5: 53, 6: 50, 7: 49, 8: 53, 9: 48, 10: 45, 11: 39}\n",
      "\n",
      "[76, 80, 81, 80, 83, 90, 79]\n",
      "[23]\n"
     ]
    }
   ],
   "source": [
    "print(temps)\n",
    "print(\"\")\n",
    "print(more_than_seventy_C)\n",
    "i=0\n",
    "while i>=len(more_than_seventy_C):\n",
    "    G=[key  for (key, value) in temps.items() if value == more_than_seventy_C[i]]\n",
    "\n",
    "i+=1\n",
    "print(G)"
   ]
  },
  {
   "cell_type": "markdown",
   "metadata": {},
   "source": [
    "#### 3. Make the decision!\n",
    "To make your decision, check if any of the three conditions is met. Print a message to show if the cooling system needs to be changed or not."
   ]
  },
  {
   "cell_type": "code",
   "execution_count": 57,
   "metadata": {},
   "outputs": [
    {
     "name": "stdout",
     "output_type": "stream",
     "text": [
      "[76, 80, 81, 80, 83, 90, 79]\n",
      "The cooling system needs to be replaced\n"
     ]
    }
   ],
   "source": [
    "print(more_than_seventy_C)\n",
    "average=sum(more_than_seventy_C)/len(more_than_seventy_C)\n",
    "grtr_svty=0\n",
    "t=0\n",
    "f=0\n",
    "not_r=0\n",
    "while t<len(more_than_seventy_C):\n",
    "    ##Se mantiene igual esta condición, no es necesario reiniciar el contador, porque todas las temperaturas son mayores a 70°\n",
    "    if grtr_svty==4:\n",
    "        print(\"The cooling system needs to be replaced\")\n",
    "        break\n",
    "    elif more_than_seventy_C[f]>=70:\n",
    "        grtr_svty+=1\n",
    "    ##Se modifica el >= 80 a >80    \n",
    "    elif more_than_seventy_C[f]>80:\n",
    "        print(\"The cooling system needs to be replaced\")\n",
    "        break\n",
    "        \n",
    "    elif average>65:\n",
    "            print(\"The cooling system needs to be replaced\")\n",
    "            break\n",
    "    else:\n",
    "        not_r+=1\n",
    "        if not_r==len(more_than_seventy_C):\n",
    "            print(\"The cooling system does not need to be replaced\")\n",
    "        else:\n",
    "            print(\"The cooling system needs to be replaced\")\n",
    "            break"
   ]
  },
  {
   "cell_type": "markdown",
   "metadata": {},
   "source": [
    "#### 4. Find the average value of the temperature lists (ºC and ºF). What is the relation between both average values?"
   ]
  },
  {
   "cell_type": "code",
   "execution_count": 77,
   "metadata": {},
   "outputs": [
    {
     "name": "stdout",
     "output_type": "stream",
     "text": [
      "These are the temperatures on °C [33, 66, 65, 0, 59, 60, 62, 64, 70, 76, 80, 81, 80, 83, 90, 79, 61, 53, 50, 49, 53, 48, 45, 39]\n",
      "\n",
      "These are the temperatures on °F [91.4, 150.8, 149.0, 32.0, 138.2, 140.0, 143.60000000000002, 147.2, 158.0, 168.8, 176.0, 177.8, 176.0, 181.4, 194.0, 174.20000000000002, 141.8, 127.4, 122.0, 120.2, 127.4, 118.4, 113.0, 102.2]\n",
      "\n",
      "These are the more than 70° temperatures on °C [76, 80, 81, 80, 83, 90, 79]\n",
      "\n",
      "These are the more than 158° temperatures on °F [168.8, 176.0, 177.8, 176.0, 181.4, 194.0, 174.20000000000002]\n",
      "\n",
      "These are the averages printed in the same order as above [60.25, 140.45, 81.28571428571429, 178.31428571428572]\n",
      "\n",
      "The relation between the °C lists is the following 1.3491404860699467\n",
      "\n",
      "The relation between the °F lists is the following 1.2695926359151708\n"
     ]
    }
   ],
   "source": [
    "print(\"These are the temperatures on °C\",temperatures_C)\n",
    "print(\"\")\n",
    "print(\"These are the temperatures on °F\",temperatures_F)\n",
    "print(\"\")\n",
    "print(\"These are the more than 70° temperatures on °C\",more_than_seventy_C)\n",
    "print(\"\")\n",
    "t=0\n",
    "f=[]\n",
    "more_than_seventy_F=[]\n",
    "while t<len(more_than_seventy_C):\n",
    "    if more_than_seventy_C[t]>=0:\n",
    "        f=more_than_seventy_C[t]*1.8+32\n",
    "        t+=1\n",
    "    more_than_seventy_F.append(f)\n",
    "print(\"These are the more than 158° temperatures on °F\",more_than_seventy_F)\n",
    "print(\"\")\n",
    "averages=[(sum(temperatures_C)/len(temperatures_C)),(sum(temperatures_F)/len(temperatures_F)),(sum(more_than_seventy_C)/len(more_than_seventy_C)),(sum(more_than_seventy_F)/len(more_than_seventy_F))]\n",
    "print(\"These are the averages printed in the same order as above\",averages)\n",
    "print(\"\")\n",
    "print(\"The relation between the °C lists is the following\",(sum(more_than_seventy_C)/len(more_than_seventy_C))/(sum(temperatures_C)/len(temperatures_C)))\n",
    "print(\"\")\n",
    "print(\"The relation between the °F lists is the following\",(sum(more_than_seventy_F)/len(more_than_seventy_F))/(sum(temperatures_F)/len(temperatures_F)))\n",
    "\n"
   ]
  },
  {
   "cell_type": "markdown",
   "metadata": {},
   "source": [
    "#### 5. Find the standard deviation of the temperature lists (ºC and ºF). What is the relation between both standard deviations?"
   ]
  },
  {
   "cell_type": "code",
   "execution_count": 84,
   "metadata": {},
   "outputs": [
    {
     "name": "stdout",
     "output_type": "stream",
     "text": [
      "This is the °C list standard deviation 19.700474503223873\n",
      "\n",
      "This is the °F list standard deviation 35.46085410580297\n",
      "\n",
      "This is the more than 70°C list standard deviation 4.386125310350269\n",
      "\n",
      "This is the more than 158°F list standard deviation 7.89502555863048\n",
      "\n",
      "The relation between the °C lists is the following 4.491543927560662\n",
      "The relation between the °F lists is the following 4.491543927560664\n"
     ]
    }
   ],
   "source": [
    "import statistics\n",
    "print(\"This is the °C list standard deviation\",statistics.stdev(temperatures_C))\n",
    "print(\"\")\n",
    "print(\"This is the °F list standard deviation\",statistics.stdev(temperatures_F))\n",
    "print(\"\")\n",
    "print(\"This is the more than 70°C list standard deviation\",statistics.stdev(more_than_seventy_C))\n",
    "print(\"\")\n",
    "print(\"This is the more than 158°F list standard deviation\",statistics.stdev(more_than_seventy_F))\n",
    "print(\"\")\n",
    "print(\"The relation between the °C lists is the following\",statistics.stdev(temperatures_C)/statistics.stdev(more_than_seventy_C))\n",
    "print(\"The relation between the °F lists is the following\",statistics.stdev(temperatures_F)/statistics.stdev(more_than_seventy_F))\n"
   ]
  },
  {
   "cell_type": "code",
   "execution_count": null,
   "metadata": {},
   "outputs": [],
   "source": []
  }
 ],
 "metadata": {
  "kernelspec": {
   "display_name": "Python 3",
   "language": "python",
   "name": "python3"
  },
  "language_info": {
   "codemirror_mode": {
    "name": "ipython",
    "version": 3
   },
   "file_extension": ".py",
   "mimetype": "text/x-python",
   "name": "python",
   "nbconvert_exporter": "python",
   "pygments_lexer": "ipython3",
   "version": "3.7.6"
  }
 },
 "nbformat": 4,
 "nbformat_minor": 2
}
