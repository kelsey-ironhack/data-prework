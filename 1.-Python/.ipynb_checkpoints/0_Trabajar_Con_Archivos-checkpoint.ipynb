{
 "cells": [
  {
   "cell_type": "markdown",
   "id": "fourth-bruce",
   "metadata": {},
   "source": [
    "# Trabajar Con Archivos"
   ]
  },
  {
   "cell_type": "code",
   "execution_count": 1,
   "id": "surprising-marketplace",
   "metadata": {},
   "outputs": [],
   "source": [
    "import os # biblioteca de sitema operativo"
   ]
  },
  {
   "cell_type": "code",
   "execution_count": 3,
   "id": "direct-action",
   "metadata": {},
   "outputs": [
    {
     "data": {
      "text/plain": [
       "'C:\\\\Users\\\\lgutierrez\\\\Documents\\\\Desarrollo\\\\data-prework\\\\1.-Python'"
      ]
     },
     "execution_count": 3,
     "metadata": {},
     "output_type": "execute_result"
    }
   ],
   "source": [
    "os.getcwd()"
   ]
  },
  {
   "cell_type": "code",
   "execution_count": 4,
   "id": "widespread-acrylic",
   "metadata": {},
   "outputs": [],
   "source": [
    "os.chdir(\"1.-Snail-and-Well\")"
   ]
  },
  {
   "cell_type": "code",
   "execution_count": 5,
   "id": "requested-arthritis",
   "metadata": {},
   "outputs": [
    {
     "data": {
      "text/plain": [
       "'C:\\\\Users\\\\lgutierrez\\\\Documents\\\\Desarrollo\\\\data-prework\\\\1.-Python\\\\1.-Snail-and-Well'"
      ]
     },
     "execution_count": 5,
     "metadata": {},
     "output_type": "execute_result"
    }
   ],
   "source": [
    "os.getcwd()"
   ]
  },
  {
   "cell_type": "code",
   "execution_count": 6,
   "id": "united-fleece",
   "metadata": {},
   "outputs": [],
   "source": [
    "os.chdir(\"../\")"
   ]
  },
  {
   "cell_type": "code",
   "execution_count": 7,
   "id": "conventional-disney",
   "metadata": {},
   "outputs": [
    {
     "data": {
      "text/plain": [
       "'C:\\\\Users\\\\lgutierrez\\\\Documents\\\\Desarrollo\\\\data-prework\\\\1.-Python'"
      ]
     },
     "execution_count": 7,
     "metadata": {},
     "output_type": "execute_result"
    }
   ],
   "source": [
    "os.getcwd()"
   ]
  },
  {
   "cell_type": "code",
   "execution_count": 8,
   "id": "welsh-terrain",
   "metadata": {},
   "outputs": [
    {
     "data": {
      "text/plain": [
       "'c\\\\ironhack\\\\modulo9\\\\python\\\\data'"
      ]
     },
     "execution_count": 8,
     "metadata": {},
     "output_type": "execute_result"
    }
   ],
   "source": [
    "root = 'c'\n",
    "level1='ironhack'\n",
    "level2='modulo9'\n",
    "level3='python'\n",
    "level4='data'\n",
    "os.path.join(root, level1, level2, level3, level4)"
   ]
  },
  {
   "cell_type": "code",
   "execution_count": 9,
   "id": "cooked-august",
   "metadata": {},
   "outputs": [
    {
     "data": {
      "text/plain": [
       "'C:\\\\Users\\\\lgutierrez\\\\Documents\\\\Desarrollo\\\\data-prework\\\\1.-Python'"
      ]
     },
     "execution_count": 9,
     "metadata": {},
     "output_type": "execute_result"
    }
   ],
   "source": [
    "os.getcwd()"
   ]
  },
  {
   "cell_type": "code",
   "execution_count": 10,
   "id": "radical-violation",
   "metadata": {},
   "outputs": [],
   "source": [
    "folder = \"Nueva_Carpeta\"\n",
    "if os.path.exists(folder) == False:\n",
    "    os.makedirs(folder)"
   ]
  },
  {
   "cell_type": "code",
   "execution_count": 11,
   "id": "innovative-immune",
   "metadata": {},
   "outputs": [
    {
     "data": {
      "text/plain": [
       "['.ipynb_checkpoints',\n",
       " '0_Conditional_and_Logig_Loops.ipynb',\n",
       " '0_Trabajar_Con_Archivos.ipynb',\n",
       " '1.-Snail-and-Well',\n",
       " '2.-Duel-of-Sorcerers',\n",
       " '3.-Bus',\n",
       " '4.-Robin-Hood',\n",
       " '5.-Temperature-Processor',\n",
       " '6.-Rock–Paper–Scissors',\n",
       " 'Nueva_Carpeta',\n",
       " 'README.md']"
      ]
     },
     "execution_count": 11,
     "metadata": {},
     "output_type": "execute_result"
    }
   ],
   "source": [
    "os.listdir()"
   ]
  },
  {
   "cell_type": "code",
   "execution_count": 14,
   "id": "strange-holiday",
   "metadata": {},
   "outputs": [],
   "source": [
    "with open(\"archivoEjemplo.txt\",\"w\") as f:\n",
    "    f.write(\"Hola mundo! \\n\")\n",
    "    f.write(\"Como estan? \\n\")\n",
    "    f.write(\"yo estoy bien... \\n\")"
   ]
  },
  {
   "cell_type": "code",
   "execution_count": 15,
   "id": "minimal-wrong",
   "metadata": {},
   "outputs": [
    {
     "data": {
      "text/plain": [
       "['.ipynb_checkpoints',\n",
       " '0_Conditional_and_Logig_Loops.ipynb',\n",
       " '0_Trabajar_Con_Archivos.ipynb',\n",
       " '1.-Snail-and-Well',\n",
       " '2.-Duel-of-Sorcerers',\n",
       " '3.-Bus',\n",
       " '4.-Robin-Hood',\n",
       " '5.-Temperature-Processor',\n",
       " '6.-Rock–Paper–Scissors',\n",
       " 'archivoEjemplo.txt',\n",
       " 'Nueva_Carpeta',\n",
       " 'README.md']"
      ]
     },
     "execution_count": 15,
     "metadata": {},
     "output_type": "execute_result"
    }
   ],
   "source": [
    "os.listdir()"
   ]
  },
  {
   "cell_type": "code",
   "execution_count": 16,
   "id": "august-mailing",
   "metadata": {},
   "outputs": [
    {
     "name": "stdout",
     "output_type": "stream",
     "text": [
      "Hola mundo! \n",
      "\n",
      "Como estan? \n",
      "\n",
      "yo estoy bien... \n",
      "\n"
     ]
    }
   ],
   "source": [
    "with open(\"archivoEjemplo.txt\",\"r\") as f:\n",
    "    lines = f.readlines()\n",
    "    for line in lines:\n",
    "        print(line)"
   ]
  },
  {
   "cell_type": "code",
   "execution_count": 17,
   "id": "occupational-workplace",
   "metadata": {},
   "outputs": [],
   "source": [
    "data = []\n",
    "with open(\"weight_height.csv\") as f:\n",
    "    lines = f.readlines()\n",
    "    for line in lines:\n",
    "        data.append(line.split()[0].split(\",\"))"
   ]
  },
  {
   "cell_type": "code",
   "execution_count": 18,
   "id": "delayed-psychiatry",
   "metadata": {},
   "outputs": [
    {
     "data": {
      "text/plain": [
       "[['gender',\n",
       "  'actual_weight',\n",
       "  'actual_height',\n",
       "  'reported_weight',\n",
       "  'reported_height'],\n",
       " ['M', '77', '182', '77', '180'],\n",
       " ['F', '58', '161', '51', '159'],\n",
       " ['F', '53', '161', '54', '158'],\n",
       " ['M', '68', '177', '70', '175'],\n",
       " ['F', '59', '157', '59', '155'],\n",
       " ['M', '76', '170', '76', '165'],\n",
       " ['M', '76', '167', '77', '165'],\n",
       " ['M', '69', '186', '73', '180'],\n",
       " ['M', '71', '178', '71', '175'],\n",
       " ['M', '65', '171', '64', '170'],\n",
       " ['M', '70', '175', '75', '174'],\n",
       " ['F', '166', '57', '56', '163'],\n",
       " ['F', '51', '161', '52', '158'],\n",
       " ['F', '64', '168', '64', '165'],\n",
       " ['F', '52', '163', '57', '160'],\n",
       " ['F', '65', '166', '66', '165'],\n",
       " ['M', '92', '187', '101', '185'],\n",
       " ['F', '62', '168', '62', '165'],\n",
       " ['M', '76', '197', '75', '200'],\n",
       " ['F', '61', '175', '61', '171'],\n",
       " ['M', '119', '180', '124', '178'],\n",
       " ['F', '61', '170', '61', '170'],\n",
       " ['M', '65', '175', '66', '173'],\n",
       " ['M', '66', '173', '70', '170'],\n",
       " ['F', '54', '171', '59', '168'],\n",
       " ['F', '50', '166', '50', '165'],\n",
       " ['F', '63', '169', '61', '168'],\n",
       " ['F', '58', '166', '60', '160'],\n",
       " ['F', '39', '157', '41', '153'],\n",
       " ['M', '101', '183', '100', '180'],\n",
       " ['F', '71', '166', '71', '165'],\n",
       " ['M', '75', '178', '73', '175'],\n",
       " ['M', '79', '173', '76', '173'],\n",
       " ['F', '52', '164', '52', '161'],\n",
       " ['F', '68', '169', '63', '170'],\n",
       " ['M', '64', '176', '65', '175'],\n",
       " ['F', '56', '166', '54', '165'],\n",
       " ['M', '69', '174', '69', '171'],\n",
       " ['M', '88', '178', '86', '175'],\n",
       " ['M', '65', '187', '67', '188'],\n",
       " ['F', '54', '164', '53', '160'],\n",
       " ['M', '80', '178', '80', '178'],\n",
       " ['F', '63', '163', '59', '159'],\n",
       " ['M', '78', '183', '80', '180'],\n",
       " ['M', '85', '179', '82', '175'],\n",
       " ['F', '54', '160', '55', '158'],\n",
       " ['F', '54', '174', '56', '173'],\n",
       " ['F', '75', '162', '75', '158'],\n",
       " ['M', '82', '182', '85', '183'],\n",
       " ['F', '56', '165', '57', '163'],\n",
       " ['M', '74', '169', '73', '170'],\n",
       " ['M', '102', '185', '107', '185'],\n",
       " ['M', '65', '176', '64', '172'],\n",
       " ['M', '73', '183', '74', '180'],\n",
       " ['M', '75', '172', '70', '169'],\n",
       " ['M', '57', '173', '58', '170'],\n",
       " ['M', '68', '165', '69', '165'],\n",
       " ['M', '71', '177', '71', '170'],\n",
       " ['M', '71', '180', '76', '175'],\n",
       " ['F', '78', '173', '75', '169'],\n",
       " ['M', '97', '189', '98', '185'],\n",
       " ['F', '60', '162', '59', '160'],\n",
       " ['F', '64', '165', '63', '163'],\n",
       " ['F', '64', '164', '62', '161'],\n",
       " ['F', '52', '158', '51', '155'],\n",
       " ['M', '80', '178', '76', '175'],\n",
       " ['F', '62', '175', '61', '171'],\n",
       " ['M', '66', '173', '66', '175'],\n",
       " ['F', '55', '165', '54', '163'],\n",
       " ['F', '56', '163', '57', '159'],\n",
       " ['F', '50', '166', '50', '161'],\n",
       " ['F', '50', '160', '55', '150'],\n",
       " ['F', '63', '160', '64', '158'],\n",
       " ['M', '69', '182', '70', '180'],\n",
       " ['M', '69', '183', '70', '183'],\n",
       " ['F', '61', '165', '60', '163'],\n",
       " ['M', '55', '168', '56', '170'],\n",
       " ['F', '53', '169', '52', '175'],\n",
       " ['F', '60', '167', '55', '163'],\n",
       " ['F', '56', '170', '56', '170'],\n",
       " ['M', '59', '182', '61', '183'],\n",
       " ['M', '62', '178', '66', '175'],\n",
       " ['F', '53', '165', '53', '165'],\n",
       " ['F', '57', '163', '59', '160'],\n",
       " ['F', '57', '162', '56', '160'],\n",
       " ['M', '70', '173', '68', '170'],\n",
       " ['F', '56', '161', '56', '161'],\n",
       " ['M', '84', '184', '86', '183'],\n",
       " ['M', '69', '180', '71', '180'],\n",
       " ['M', '88', '189', '87', '185'],\n",
       " ['F', '56', '165', '57', '160'],\n",
       " ['M', '103', '185', '101', '182'],\n",
       " ['F', '50', '169', '50', '165'],\n",
       " ['F', '52', '159', '52', '153'],\n",
       " ['F', '55', '164', '55', '163'],\n",
       " ['M', '63', '178', '63', '175'],\n",
       " ['F', '47', '163', '47', '160'],\n",
       " ['F', '45', '163', '45', '160'],\n",
       " ['F', '62', '175', '63', '173'],\n",
       " ['F', '53', '164', '51', '160'],\n",
       " ['F', '52', '152', '51', '150'],\n",
       " ['F', '57', '167', '55', '164'],\n",
       " ['F', '64', '166', '64', '165'],\n",
       " ['F', '59', '166', '55', '163'],\n",
       " ['M', '84', '183', '90', '183'],\n",
       " ['M', '79', '179', '79', '171'],\n",
       " ['F', '55', '174', '57', '171'],\n",
       " ['M', '67', '179', '67', '179'],\n",
       " ['F', '76', '167', '77', '165'],\n",
       " ['F', '62', '168', '62', '163'],\n",
       " ['M', '83', '184', '83', '181'],\n",
       " ['M', '96', '184', '94', '183'],\n",
       " ['M', '75', '169', '76', '165'],\n",
       " ['M', '65', '178', '66', '178'],\n",
       " ['M', '78', '178', '77', '175'],\n",
       " ['M', '69', '167', '73', '165'],\n",
       " ['F', '68', '178', '68', '175'],\n",
       " ['F', '55', '165', '55', '163'],\n",
       " ['F', '52', '169', '56', 'NA'],\n",
       " ['F', '45', '157', '45', '153'],\n",
       " ['F', '68', '171', '68', '169'],\n",
       " ['F', '44', '157', '44', '155'],\n",
       " ['F', '62', '166', '61', '163'],\n",
       " ['M', '87', '185', '89', '185'],\n",
       " ['F', '56', '160', '53', '158'],\n",
       " ['F', '50', '148', '47', '148'],\n",
       " ['M', '83', '177', '84', '175'],\n",
       " ['F', '53', '162', '53', '160'],\n",
       " ['F', '64', '172', '62', '168'],\n",
       " ['M', '90', '188', '91', '185'],\n",
       " ['M', '85', '191', '83', '188'],\n",
       " ['M', '66', '175', '68', '175'],\n",
       " ['F', '52', '163', '53', '160'],\n",
       " ['F', '53', '165', '55', '163'],\n",
       " ['F', '54', '176', '55', '176'],\n",
       " ['F', '64', '171', '66', '171'],\n",
       " ['F', '55', '160', '55', '155'],\n",
       " ['F', '55', '165', '55', '165'],\n",
       " ['F', '59', '157', '55', '158'],\n",
       " ['F', '70', '173', '67', '170'],\n",
       " ['M', '88', '184', '86', '183'],\n",
       " ['F', '57', '168', '58', '165'],\n",
       " ['F', '47', '162', '47', '160'],\n",
       " ['F', '47', '150', '45', '152'],\n",
       " ['F', '48', '163', '44', '160'],\n",
       " ['M', '54', '169', '58', '165'],\n",
       " ['M', '69', '172', '68', '174'],\n",
       " ['F', '57', '167', '56', '165'],\n",
       " ['F', '51', '163', '50', '160'],\n",
       " ['F', '54', '161', '54', '160'],\n",
       " ['F', '53', '162', '52', '158'],\n",
       " ['F', '59', '172', '58', '171'],\n",
       " ['M', '56', '163', '58', '161'],\n",
       " ['F', '59', '159', '59', '155'],\n",
       " ['F', '63', '170', '62', '168'],\n",
       " ['F', '66', '166', '66', '165'],\n",
       " ['M', '96', '191', '95', '188'],\n",
       " ['F', '53', '158', '50', '155'],\n",
       " ['M', '76', '169', '75', '165'],\n",
       " ['M', '61', '170', '61', '170'],\n",
       " ['M', '62', '168', '64', '168'],\n",
       " ['M', '71', '178', '68', '178'],\n",
       " ['M', '66', '170', '67', '165'],\n",
       " ['M', '81', '178', '82', '175'],\n",
       " ['M', '68', '174', '68', '173'],\n",
       " ['M', '80', '176', '78', '175'],\n",
       " ['F', '63', '165', '59', '160'],\n",
       " ['M', '70', '173', '70', '173'],\n",
       " ['F', '56', '162', '56', '160'],\n",
       " ['F', '60', '172', '55', '168'],\n",
       " ['F', '58', '169', '54', '166'],\n",
       " ['M', '76', '183', '75', '180'],\n",
       " ['F', '50', '158', '49', '155'],\n",
       " ['M', '88', '185', '93', '188'],\n",
       " ['M', '89', '173', '86', '173'],\n",
       " ['F', '59', '164', '59', '165'],\n",
       " ['F', '51', '156', '51', '158'],\n",
       " ['F', '62', '164', '61', '161'],\n",
       " ['M', '74', '175', '71', '175'],\n",
       " ['M', '83', '180', '80', '180'],\n",
       " ['M', '90', '181', '91', '178'],\n",
       " ['M', '79', '177', '81', '178']]"
      ]
     },
     "execution_count": 18,
     "metadata": {},
     "output_type": "execute_result"
    }
   ],
   "source": [
    "data"
   ]
  },
  {
   "cell_type": "code",
   "execution_count": 19,
   "id": "generic-marshall",
   "metadata": {},
   "outputs": [
    {
     "data": {
      "text/plain": [
       "['gender',\n",
       " 'actual_weight',\n",
       " 'actual_height',\n",
       " 'reported_weight',\n",
       " 'reported_height']"
      ]
     },
     "execution_count": 19,
     "metadata": {},
     "output_type": "execute_result"
    }
   ],
   "source": [
    "data[0]"
   ]
  },
  {
   "cell_type": "code",
   "execution_count": 20,
   "id": "least-point",
   "metadata": {},
   "outputs": [
    {
     "data": {
      "text/plain": [
       "'M'"
      ]
     },
     "execution_count": 20,
     "metadata": {},
     "output_type": "execute_result"
    }
   ],
   "source": [
    "data[1][0]"
   ]
  },
  {
   "cell_type": "code",
   "execution_count": 21,
   "id": "german-toronto",
   "metadata": {},
   "outputs": [],
   "source": [
    "alturas = []\n",
    "for persona in data[1:]:\n",
    "    altura = int(persona[2])\n",
    "    alturas.append(altura)"
   ]
  },
  {
   "cell_type": "code",
   "execution_count": 23,
   "id": "after-thompson",
   "metadata": {},
   "outputs": [
    {
     "data": {
      "text/plain": [
       "[182,\n",
       " 161,\n",
       " 161,\n",
       " 177,\n",
       " 157,\n",
       " 170,\n",
       " 167,\n",
       " 186,\n",
       " 178,\n",
       " 171,\n",
       " 175,\n",
       " 57,\n",
       " 161,\n",
       " 168,\n",
       " 163,\n",
       " 166,\n",
       " 187,\n",
       " 168,\n",
       " 197,\n",
       " 175,\n",
       " 180,\n",
       " 170,\n",
       " 175,\n",
       " 173,\n",
       " 171,\n",
       " 166,\n",
       " 169,\n",
       " 166,\n",
       " 157,\n",
       " 183,\n",
       " 166,\n",
       " 178,\n",
       " 173,\n",
       " 164,\n",
       " 169,\n",
       " 176,\n",
       " 166,\n",
       " 174,\n",
       " 178,\n",
       " 187,\n",
       " 164,\n",
       " 178,\n",
       " 163,\n",
       " 183,\n",
       " 179,\n",
       " 160,\n",
       " 174,\n",
       " 162,\n",
       " 182,\n",
       " 165,\n",
       " 169,\n",
       " 185,\n",
       " 176,\n",
       " 183,\n",
       " 172,\n",
       " 173,\n",
       " 165,\n",
       " 177,\n",
       " 180,\n",
       " 173,\n",
       " 189,\n",
       " 162,\n",
       " 165,\n",
       " 164,\n",
       " 158,\n",
       " 178,\n",
       " 175,\n",
       " 173,\n",
       " 165,\n",
       " 163,\n",
       " 166,\n",
       " 160,\n",
       " 160,\n",
       " 182,\n",
       " 183,\n",
       " 165,\n",
       " 168,\n",
       " 169,\n",
       " 167,\n",
       " 170,\n",
       " 182,\n",
       " 178,\n",
       " 165,\n",
       " 163,\n",
       " 162,\n",
       " 173,\n",
       " 161,\n",
       " 184,\n",
       " 180,\n",
       " 189,\n",
       " 165,\n",
       " 185,\n",
       " 169,\n",
       " 159,\n",
       " 164,\n",
       " 178,\n",
       " 163,\n",
       " 163,\n",
       " 175,\n",
       " 164,\n",
       " 152,\n",
       " 167,\n",
       " 166,\n",
       " 166,\n",
       " 183,\n",
       " 179,\n",
       " 174,\n",
       " 179,\n",
       " 167,\n",
       " 168,\n",
       " 184,\n",
       " 184,\n",
       " 169,\n",
       " 178,\n",
       " 178,\n",
       " 167,\n",
       " 178,\n",
       " 165,\n",
       " 169,\n",
       " 157,\n",
       " 171,\n",
       " 157,\n",
       " 166,\n",
       " 185,\n",
       " 160,\n",
       " 148,\n",
       " 177,\n",
       " 162,\n",
       " 172,\n",
       " 188,\n",
       " 191,\n",
       " 175,\n",
       " 163,\n",
       " 165,\n",
       " 176,\n",
       " 171,\n",
       " 160,\n",
       " 165,\n",
       " 157,\n",
       " 173,\n",
       " 184,\n",
       " 168,\n",
       " 162,\n",
       " 150,\n",
       " 163,\n",
       " 169,\n",
       " 172,\n",
       " 167,\n",
       " 163,\n",
       " 161,\n",
       " 162,\n",
       " 172,\n",
       " 163,\n",
       " 159,\n",
       " 170,\n",
       " 166,\n",
       " 191,\n",
       " 158,\n",
       " 169,\n",
       " 170,\n",
       " 168,\n",
       " 178,\n",
       " 170,\n",
       " 178,\n",
       " 174,\n",
       " 176,\n",
       " 165,\n",
       " 173,\n",
       " 162,\n",
       " 172,\n",
       " 169,\n",
       " 183,\n",
       " 158,\n",
       " 185,\n",
       " 173,\n",
       " 164,\n",
       " 156,\n",
       " 164,\n",
       " 175,\n",
       " 180,\n",
       " 181,\n",
       " 177]"
      ]
     },
     "execution_count": 23,
     "metadata": {},
     "output_type": "execute_result"
    }
   ],
   "source": [
    "alturas"
   ]
  },
  {
   "cell_type": "code",
   "execution_count": 24,
   "id": "usual-culture",
   "metadata": {},
   "outputs": [
    {
     "data": {
      "text/plain": [
       "170.14835164835165"
      ]
     },
     "execution_count": 24,
     "metadata": {},
     "output_type": "execute_result"
    }
   ],
   "source": [
    "alturaMedia = sum(alturas)/len(alturas)\n",
    "alturaMedia"
   ]
  },
  {
   "cell_type": "code",
   "execution_count": 26,
   "id": "incident-bulletin",
   "metadata": {},
   "outputs": [
    {
     "name": "stdout",
     "output_type": "stream",
     "text": [
      "Altura promedio hombres :  178.0121951219512\n",
      "Altura promedio mujers :  163.7\n"
     ]
    }
   ],
   "source": [
    "alturaHombre = []\n",
    "alturaMujer= []\n",
    "\n",
    "for persona in data[1:]:\n",
    "    altura = int(persona[2])\n",
    "    if persona[0]=='M':\n",
    "        alturaHombre.append(altura)\n",
    "    elif persona[0]=='F':\n",
    "        alturaMujer.append(altura)\n",
    "        \n",
    "MediaAlturaHombre = sum(alturaHombre)/len(alturaHombre)\n",
    "MediaAlturaMujer = sum(alturaMujer)/len(alturaMujer)\n",
    "\n",
    "print(\"Altura promedio hombres : \",MediaAlturaHombre)\n",
    "print(\"Altura promedio mujers : \",MediaAlturaMujer)\n"
   ]
  }
 ],
 "metadata": {
  "kernelspec": {
   "display_name": "Python 3",
   "language": "python",
   "name": "python3"
  },
  "language_info": {
   "codemirror_mode": {
    "name": "ipython",
    "version": 3
   },
   "file_extension": ".py",
   "mimetype": "text/x-python",
   "name": "python",
   "nbconvert_exporter": "python",
   "pygments_lexer": "ipython3",
   "version": "3.9.1"
  }
 },
 "nbformat": 4,
 "nbformat_minor": 5
}
