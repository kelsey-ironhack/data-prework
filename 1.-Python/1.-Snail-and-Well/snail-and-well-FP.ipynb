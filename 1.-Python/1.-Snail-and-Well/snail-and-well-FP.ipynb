{
 "cells": [
  {
   "cell_type": "markdown",
   "metadata": {},
   "source": [
    "<img src=\"https://bit.ly/2VnXWr2\" width=\"100\" align=\"left\">"
   ]
  },
  {
   "cell_type": "markdown",
   "metadata": {},
   "source": [
    "# The Snail and the Well\n",
    "\n",
    "A snail falls at the bottom of a 125 cm well. Each day the snail rises 30 cm. But at night, while sleeping, slides 20 cm because the walls are wet. How many days does it take for the snail to escape the well?\n",
    "\n",
    "**Hint**: The snail gets out of the well when it surpasses the 125cm of height.\n",
    "\n",
    "## Tools\n",
    "\n",
    "1. Loop: **while**\n",
    "2. Conditional statements: **if-else**\n",
    "3. Function: **print()**\n",
    "\n",
    "## Tasks\n",
    "\n",
    "#### 1. Assign the challenge data to variables with representative names: `well_height`, `daily_distance`, `nightly_distance` and `snail_position`."
   ]
  },
  {
   "cell_type": "code",
   "execution_count": 1,
   "metadata": {},
   "outputs": [],
   "source": [
    "well_height = 125\n",
    "daily_distance = 30\n",
    "nightly_distance = -20\n",
    "snail_position = 0"
   ]
  },
  {
   "cell_type": "markdown",
   "metadata": {},
   "source": [
    "#### 2. Create a variable `days` to keep count of the days that pass until the snail escapes the well. "
   ]
  },
  {
   "cell_type": "code",
   "execution_count": 2,
   "metadata": {},
   "outputs": [],
   "source": [
    "days = 0"
   ]
  },
  {
   "cell_type": "markdown",
   "metadata": {},
   "source": [
    "#### 3. Find the solution to the challenge using the variables defined above. "
   ]
  },
  {
   "cell_type": "code",
   "execution_count": 3,
   "metadata": {},
   "outputs": [
    {
     "name": "stdout",
     "output_type": "stream",
     "text": [
      "Its morning, time to climb! Days passed: 0\n",
      "I am feeling sleepy...\n",
      "Its morning, time to climb! Days passed: 1.0\n",
      "I am feeling sleepy...\n",
      "Its morning, time to climb! Days passed: 2.0\n",
      "I am feeling sleepy...\n",
      "Its morning, time to climb! Days passed: 3.0\n",
      "I am feeling sleepy...\n",
      "Its morning, time to climb! Days passed: 4.0\n",
      "I am feeling sleepy...\n",
      "Its morning, time to climb! Days passed: 5.0\n",
      "I am feeling sleepy...\n",
      "Its morning, time to climb! Days passed: 6.0\n",
      "I am feeling sleepy...\n",
      "Its morning, time to climb! Days passed: 7.0\n",
      "I am feeling sleepy...\n",
      "Its morning, time to climb! Days passed: 8.0\n",
      "I am feeling sleepy...\n",
      "Its morning, time to climb! Days passed: 9.0\n",
      "I am feeling sleepy...\n",
      "Its morning, time to climb! Days passed: 10.0\n",
      "Congratulations, you escaped! Days passed: 10.5\n"
     ]
    }
   ],
   "source": [
    "while snail_position <= well_height:\n",
    "    print(\"Its morning, time to climb!\", \"Days passed:\", str(days))\n",
    "    snail_position += daily_distance\n",
    "    days += 0.5\n",
    "    \n",
    "    if snail_position <= well_height:\n",
    "        print(\"I am feeling sleepy...\")\n",
    "        snail_position += nightly_distance\n",
    "        days += 0.5       \n",
    "    else:\n",
    "        print(\"Congratulations, you escaped!\", \"Days passed: \" + str(days))\n",
    "\n",
    "    \n",
    "    "
   ]
  },
  {
   "cell_type": "markdown",
   "metadata": {},
   "source": [
    "#### 4. Print the solution."
   ]
  },
  {
   "cell_type": "code",
   "execution_count": 4,
   "metadata": {},
   "outputs": [
    {
     "name": "stdout",
     "output_type": "stream",
     "text": [
      "The snail gets out of the well in: 10.5 days\n"
     ]
    }
   ],
   "source": [
    "print(\"The snail gets out of the well in:\", days, \"days\")"
   ]
  },
  {
   "cell_type": "markdown",
   "metadata": {},
   "source": [
    "## Bonus\n",
    "The distance traveled by the snail each day is now defined by a list.\n",
    "```\n",
    "advance_cm = [30, 21, 33, 77, 44, 45, 23, 45, 12, 34, 55]\n",
    "```\n",
    "On the first day, the snail rises 30cm but during the night it slides 20cm. On the second day, the snail rises 21cm but during the night it slides 20cm, and so on. \n",
    "\n",
    "#### 1. How many days does it take for the snail to escape the well?\n",
    "Follow the same guidelines as in the previous challenge.\n",
    "\n",
    "**Hint**: Remember that the snail gets out of the well when it surpasses the 125cm of height."
   ]
  },
  {
   "cell_type": "code",
   "execution_count": 5,
   "metadata": {},
   "outputs": [
    {
     "name": "stdout",
     "output_type": "stream",
     "text": [
      "Its morning, time to climb! Days passed: 0\n",
      "I am feeling sleepy...\n",
      "Its morning, time to climb! Days passed: 1.0\n",
      "I am feeling sleepy...\n",
      "Its morning, time to climb! Days passed: 2.0\n",
      "I am feeling sleepy...\n",
      "Its morning, time to climb! Days passed: 3.0\n",
      "I am feeling sleepy...\n",
      "Its morning, time to climb! Days passed: 4.0\n",
      "I am feeling sleepy...\n",
      "Its morning, time to climb! Days passed: 5.0\n",
      "Congratulations, you escaped! Days passed: 5.5\n"
     ]
    }
   ],
   "source": [
    "advance_cm = [30, 21, 33, 77, 44, 45, 23, 45, 12, 34, 55]\n",
    "well_height = 125\n",
    "snail_position_bonus = 0\n",
    "days_bonus = 0\n",
    "days_used_to_getout = 0\n",
    "\n",
    "\n",
    "for daily_advance in advance_cm:\n",
    "    if snail_position_bonus <= well_height:\n",
    "        print(\"Its morning, time to climb!\", \"Days passed:\", days_bonus)\n",
    "        snail_position_bonus += daily_advance\n",
    "        days_bonus += 0.5\n",
    "        days_used_to_getout += 1\n",
    "        \n",
    "        if snail_position_bonus > well_height:\n",
    "            print(\"Congratulations, you escaped!\", \"Days passed:\", days_bonus)\n",
    "            break\n",
    "        else:\n",
    "            print(\"I am feeling sleepy...\")\n",
    "            snail_position_bonus += nightly_distance\n",
    "            days_bonus += 0.5  \n"
   ]
  },
  {
   "cell_type": "markdown",
   "metadata": {},
   "source": [
    "#### 2. What is its maximum displacement in one day? And its minimum? Calculate the displacement using only the travel distance of the days used to get out of the well. \n",
    "**Hint**: Remember that displacement means the total distance risen taking into account that the snail slides at night.  "
   ]
  },
  {
   "cell_type": "code",
   "execution_count": 19,
   "metadata": {},
   "outputs": [
    {
     "name": "stdout",
     "output_type": "stream",
     "text": [
      "Displacement list: [10, 1, 13, 57, 24, 25]\n",
      "Max Displacement: 57\n",
      "Min Displacement: 1\n"
     ]
    }
   ],
   "source": [
    "advance_cm = [30, 21, 33, 77, 44, 45, 23, 45, 12, 34, 55]\n",
    "advance_cm_short = []\n",
    "nightly_distance = -20\n",
    "advance_cm_short = advance_cm[0:days_used_to_getout]\n",
    "displacement = []\n",
    "\n",
    "for daily_advance in advance_cm_short:\n",
    "    displacement.append(daily_advance + nightly_distance)\n",
    "    \n",
    "print(\"Displacement list:\", displacement) # list of displacement\n",
    "print(\"Max Displacement:\", max(displacement)) # as maximum displacement in one day\n",
    "print(\"Min Displacement:\", min(displacement)) # minimum displacement in one day"
   ]
  },
  {
   "cell_type": "markdown",
   "metadata": {},
   "source": [
    "3. What is its average progress? Take into account the snail slides at night."
   ]
  },
  {
   "cell_type": "code",
   "execution_count": null,
   "metadata": {},
   "outputs": [],
   "source": [
    "avg_displacement = sum(displacement)/len(displacement)\n",
    "print(\"Average Displacement:\", avg_displacement) # average displacement progress per day"
   ]
  },
  {
   "cell_type": "markdown",
   "metadata": {},
   "source": [
    "#### 4. What is the standard deviation of its displacement? Take into account the snail slides at night."
   ]
  },
  {
   "cell_type": "code",
   "execution_count": null,
   "metadata": {},
   "outputs": [],
   "source": [
    "import math\n",
    "\n",
    "mean_subtract_set = []\n",
    "for daily_displacement in displacement:\n",
    "    mean_subtract_set.append(daily_displacement - avg_displacement)\n",
    "\n",
    "squared_set = []\n",
    "for calculation in mean_subtract_set:\n",
    "    squared_set.append(calculation**2)\n",
    "    \n",
    "sum_squaredif_set = sum(squared_set)\n",
    "\n",
    "variance = sum_squaredif_set/len(squared_set)\n",
    "\n",
    "stdeviation = math.sqrt(variance)\n",
    "\n",
    "print('Standard Deviation:', stdeviation)\n",
    "\n",
    "#or\n",
    "\n",
    "print(\"We can just use numpy to save us time...\")\n",
    "import numpy as np\n",
    "print('Standard Deviation:', np.std(displacement))\n",
    "\n"
   ]
  },
  {
   "cell_type": "code",
   "execution_count": null,
   "metadata": {},
   "outputs": [],
   "source": []
  },
  {
   "cell_type": "code",
   "execution_count": null,
   "metadata": {},
   "outputs": [],
   "source": []
  },
  {
   "cell_type": "code",
   "execution_count": null,
   "metadata": {},
   "outputs": [],
   "source": []
  }
 ],
 "metadata": {
  "kernelspec": {
   "display_name": "Python 3",
   "language": "python",
   "name": "python3"
  },
  "language_info": {
   "codemirror_mode": {
    "name": "ipython",
    "version": 3
   },
   "file_extension": ".py",
   "mimetype": "text/x-python",
   "name": "python",
   "nbconvert_exporter": "python",
   "pygments_lexer": "ipython3",
   "version": "3.7.4"
  }
 },
 "nbformat": 4,
 "nbformat_minor": 2
}
