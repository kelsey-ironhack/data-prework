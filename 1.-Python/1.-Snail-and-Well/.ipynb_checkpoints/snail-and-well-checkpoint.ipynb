{
 "cells": [
  {
   "cell_type": "markdown",
   "metadata": {},
   "source": [
    "<img src=\"https://bit.ly/2VnXWr2\" width=\"100\" align=\"left\">"
   ]
  },
  {
   "cell_type": "markdown",
   "metadata": {},
   "source": [
    "# The Snail and the Well\n",
    "\n",
    "A snail falls at the bottom of a 125 cm well. Each day the snail rises 30 cm. But at night, while sleeping, slides 20 cm because the walls are wet. How many days does it take for the snail to escape the well?\n",
    "\n",
    "**Hint**: The snail gets out of the well when it surpasses the 125cm of height.\n",
    "\n",
    "## Tools\n",
    "\n",
    "1. Loop: **while**\n",
    "2. Conditional statements: **if-else**\n",
    "3. Function: **print()**\n",
    "\n",
    "## Tasks\n",
    "\n",
    "#### 1. Assign the challenge data to variables with representative names: `well_height`, `daily_distance`, `nightly_distance` and `snail_position`."
   ]
  },
  {
   "cell_type": "code",
   "execution_count": 1,
   "metadata": {},
   "outputs": [],
   "source": [
    "well_height = 125\n",
    "daily_distance = 30\n",
    "nightly_distance = -20\n",
    "snail_position = 0"
   ]
  },
  {
   "cell_type": "markdown",
   "metadata": {},
   "source": [
    "#### 2. Create a variable `days` to keep count of the days that pass until the snail escapes the well. "
   ]
  },
  {
   "cell_type": "code",
   "execution_count": 2,
   "metadata": {},
   "outputs": [],
   "source": [
    "days = 0"
   ]
  },
  {
   "cell_type": "markdown",
   "metadata": {},
   "source": [
    "#### 3. Find the solution to the challenge using the variables defined above. "
   ]
  },
  {
   "cell_type": "code",
   "execution_count": 3,
   "metadata": {},
   "outputs": [
    {
     "name": "stdout",
     "output_type": "stream",
     "text": [
      "day: 1 snail position: 10\n",
      "day: 2 snail position: 20\n",
      "day: 3 snail position: 30\n",
      "day: 4 snail position: 40\n",
      "day: 5 snail position: 50\n",
      "day: 6 snail position: 60\n",
      "day: 7 snail position: 70\n",
      "day: 8 snail position: 80\n",
      "day: 9 snail position: 90\n",
      "day: 10 snail position: 100\n",
      "day: 11 snail position: 110\n",
      "day: 12 snail position: 120\n",
      "day: 13 snail position: 130\n"
     ]
    }
   ],
   "source": [
    "while snail_position < 125:\n",
    "   snail_position += daily_distance + nightly_distance\n",
    "   days += 1\n",
    "   print(\"day:\",days, \"snail position:\",snail_position,)"
   ]
  },
  {
   "cell_type": "markdown",
   "metadata": {},
   "source": [
    "#### 4. Print the solution."
   ]
  },
  {
   "cell_type": "code",
   "execution_count": 4,
   "metadata": {},
   "outputs": [
    {
     "name": "stdout",
     "output_type": "stream",
     "text": [
      "Snail and Well solution: 13 days to get out\n"
     ]
    }
   ],
   "source": [
    "print(\"Snail and Well solution:\", days, \"days to get out\")"
   ]
  },
  {
   "cell_type": "markdown",
   "metadata": {},
   "source": [
    "## Bonus\n",
    "The distance traveled by the snail each day is now defined by a list.\n",
    "```\n",
    "advance_cm = [30, 21, 33, 77, 44, 45, 23, 45, 12, 34, 55]\n",
    "```\n",
    "On the first day, the snail rises 30cm but during the night it slides 20cm. On the second day, the snail rises 21cm but during the night it slides 20cm, and so on. \n",
    "\n",
    "#### 1. How many days does it take for the snail to escape the well?\n",
    "Follow the same guidelines as in the previous challenge.\n",
    "\n",
    "**Hint**: Remember that the snail gets out of the well when it surpasses the 125cm of height."
   ]
  },
  {
   "cell_type": "code",
   "execution_count": 5,
   "metadata": {},
   "outputs": [
    {
     "name": "stdout",
     "output_type": "stream",
     "text": [
      "day: 1 snail position:  10\n",
      "10\n",
      "day: 2 snail position:  11\n",
      "1\n",
      "day: 3 snail position:  24\n",
      "13\n",
      "day: 4 snail position:  81\n",
      "57\n",
      "day: 5 snail position:  105\n",
      "24\n",
      "day: 6 snail position:  130\n",
      "25\n",
      "Snail and Well Bonus solution: 6 days to get out\n"
     ]
    }
   ],
   "source": [
    "well_height = 125\n",
    "daily_distance = 30\n",
    "nightly_distance = -20\n",
    "snail_position = 0\n",
    "days = 0\n",
    "\n",
    "advance_cm = [30, 21, 33, 77, 44, 45, 23, 45, 12, 34, 55]\n",
    "cm_position = 0\n",
    "displ_list = []\n",
    "\n",
    "while snail_position < 125:\n",
    "  displacement = advance_cm[cm_position] + nightly_distance\n",
    "  \n",
    "  displ_list.append(displacement)\n",
    "\n",
    "  snail_position += displacement\n",
    "  cm_position += 1\n",
    "  days += 1\n",
    "  \n",
    "  print(\"day:\",days,\"snail position: \",snail_position)\n",
    "  print(displacement)\n",
    "\n",
    "print(\"Snail and Well Bonus solution:\", days, \"days to get out\")"
   ]
  },
  {
   "cell_type": "markdown",
   "metadata": {},
   "source": [
    "#### 2. What is its maximum displacement in one day? And its minimum? Calculate the displacement using only the travel distance of the days used to get out of the well. \n",
    "**Hint**: Remember that displacement means the total distance risen taking into account that the snail slides at night.  "
   ]
  },
  {
   "cell_type": "code",
   "execution_count": 6,
   "metadata": {},
   "outputs": [
    {
     "name": "stdout",
     "output_type": "stream",
     "text": [
      "Max displacement: 57\n",
      "Min displacement: 1\n"
     ]
    }
   ],
   "source": [
    "max_displacement = max(displ_list)\n",
    "min_displacement= min(displ_list)\n",
    "mean_displacement = sum(displ_list)/len(displ_list)\n",
    "\n",
    "print(\"Max displacement:\",max_displacement)\n",
    "print(\"Min displacement:\", min_displacement)"
   ]
  },
  {
   "cell_type": "markdown",
   "metadata": {},
   "source": [
    "#### 3. What is its average progress? Take into account the snail slides at night."
   ]
  },
  {
   "cell_type": "code",
   "execution_count": 7,
   "metadata": {},
   "outputs": [
    {
     "name": "stdout",
     "output_type": "stream",
     "text": [
      "avg. progress: 21.666666666666668\n"
     ]
    }
   ],
   "source": [
    "print(\"avg. progress:\", mean_displacement)"
   ]
  },
  {
   "cell_type": "markdown",
   "metadata": {},
   "source": [
    "#### 4. What is the standard deviation of its displacement? Take into account the snail slides at night."
   ]
  },
  {
   "cell_type": "code",
   "execution_count": 8,
   "metadata": {},
   "outputs": [
    {
     "name": "stdout",
     "output_type": "stream",
     "text": [
      "17.81073334319006\n"
     ]
    }
   ],
   "source": [
    "sqr_diff_list = []\n",
    "\n",
    "for i in displ_list :\n",
    "  sqr_diff = (i - mean_displacement)**2\n",
    "  sqr_diff_list.append(sqr_diff)\n",
    "\n",
    "variance_displ = sum(sqr_diff_list)/len(sqr_diff_list)\n",
    "\n",
    "stdev_displacement = variance_displ ** 0.5\n",
    "\n",
    "print(stdev_displacement)"
   ]
  },
  {
   "cell_type": "code",
   "execution_count": null,
   "metadata": {},
   "outputs": [],
   "source": []
  }
 ],
 "metadata": {
  "kernelspec": {
   "display_name": "Python 3",
   "language": "python",
   "name": "python3"
  },
  "language_info": {
   "codemirror_mode": {
    "name": "ipython",
    "version": 3
   },
   "file_extension": ".py",
   "mimetype": "text/x-python",
   "name": "python",
   "nbconvert_exporter": "python",
   "pygments_lexer": "ipython3",
   "version": "3.8.3"
  }
 },
 "nbformat": 4,
 "nbformat_minor": 2
}
