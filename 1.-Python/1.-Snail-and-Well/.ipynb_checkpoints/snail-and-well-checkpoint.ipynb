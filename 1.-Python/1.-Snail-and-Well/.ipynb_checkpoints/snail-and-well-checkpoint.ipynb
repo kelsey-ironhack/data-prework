{
 "cells": [
  {
   "cell_type": "markdown",
   "metadata": {},
   "source": [
    "<img src=\"https://bit.ly/2VnXWr2\" width=\"100\" align=\"left\">"
   ]
  },
  {
   "cell_type": "markdown",
   "metadata": {},
   "source": [
    "# The Snail and the Well\n",
    "\n",
    "A snail falls at the bottom of a 125 cm well. Each day the snail rises 30 cm. But at night, while sleeping, slides 20 cm because the walls are wet. How many days does it take for the snail to escape the well?\n",
    "\n",
    "**Hint**: The snail gets out of the well when it surpasses the 125cm of height.\n",
    "\n",
    "## Tools\n",
    "\n",
    "1. Loop: **while**\n",
    "2. Conditional statements: **if-else**\n",
    "3. Function: **print()**\n",
    "\n",
    "## Tasks\n",
    "\n",
    "#### 1. Assign the challenge data to variables with representative names: `well_height`, `daily_distance`, `nightly_distance` and `snail_position`."
   ]
  },
  {
   "cell_type": "code",
   "execution_count": 2,
   "metadata": {},
   "outputs": [],
   "source": [
    "#assigning data to variables with representative names. DD\n",
    "\n",
    "#distance from top of well to the bottom of well\n",
    "well_height = 125 \n",
    "#distance snail climbs up each day\n",
    "daily_distance = 30 \n",
    "#distance snail slips each night due to wet surface\n",
    "nightly_distance = 20 \n",
    "#snail is at the bottom on the first day\n",
    "snail_position = 0 \n"
   ]
  },
  {
   "cell_type": "markdown",
   "metadata": {},
   "source": [
    "#### 2. Create a variable `days` to keep count of the days that pass until the snail escapes the well. \n"
   ]
  },
  {
   "cell_type": "code",
   "execution_count": 3,
   "metadata": {},
   "outputs": [],
   "source": [
    "days = 1 #considering first day as day 1 when snaily embarks on the climb"
   ]
  },
  {
   "cell_type": "markdown",
   "metadata": {},
   "source": [
    "#### 3. Find the solution to the challenge using the variables defined above. "
   ]
  },
  {
   "cell_type": "code",
   "execution_count": 4,
   "metadata": {},
   "outputs": [],
   "source": [
    "#print(\"Snaily at rock bottom.\")\n",
    "\n",
    "distance_difference = daily_distance - nightly_distance\n",
    "\n",
    "snail_position += distance_difference\n",
    "\n",
    "while snail_position < well_height:\n",
    "    snail_position += distance_difference\n",
    "    days = days + 1\n",
    "    #print(\"Snaily still climbing...\")\n",
    "    \n",
    "#print(\"Snaily climbed and is out in \", days,\"!!!\")\n",
    "    \n",
    "    "
   ]
  },
  {
   "cell_type": "markdown",
   "metadata": {},
   "source": [
    "#### 4. Print the solution."
   ]
  },
  {
   "cell_type": "code",
   "execution_count": 5,
   "metadata": {},
   "outputs": [
    {
     "name": "stdout",
     "output_type": "stream",
     "text": [
      "Snaily made it to the top on the  13 th day!!!\n"
     ]
    }
   ],
   "source": [
    "if snail_position < well_height:\n",
    "    print(\"Snaily still climbing...\")\n",
    "elif snail_position == well_height:\n",
    "    print(\"Snaily almost there\")\n",
    "else:\n",
    "    print(\"Snaily made it to the top on the \", days,\"th day!!!\")\n"
   ]
  },
  {
   "cell_type": "markdown",
   "metadata": {},
   "source": [
    "## Bonus\n",
    "The distance traveled by the snail each day is now defined by a list.\n",
    "```\n",
    "advance_cm = [30, 21, 33, 77, 44, 45, 23, 45, 12, 34, 55]\n",
    "```\n",
    "On the first day, the snail rises 30cm but during the night it slides 20cm. On the second day, the snail rises 21cm but during the night it slides 20cm, and so on. \n",
    "\n",
    "#### 1. How many days does it take for the snail to escape the well?\n",
    "Follow the same guidelines as in the previous challenge.\n",
    "\n",
    "**Hint**: Remember that the snail gets out of the well when it surpasses the 125cm of height."
   ]
  },
  {
   "cell_type": "code",
   "execution_count": 6,
   "metadata": {},
   "outputs": [
    {
     "name": "stdout",
     "output_type": "stream",
     "text": [
      "Still climbing! 115 cm more to go!\n",
      "Still climbing! 114 cm more to go!\n",
      "Still climbing! 101 cm more to go!\n",
      "Still climbing! 44 cm more to go!\n",
      "Still climbing! 20 cm more to go!\n",
      "Snaily out of the well!! 130  cm climbed in 6 days\n",
      "Snaily out of the well!! 133  cm climbed in 7 days\n",
      "Snaily out of the well!! 158  cm climbed in 8 days\n",
      "Snaily out of the well!! 150  cm climbed in 9 days\n",
      "Snaily out of the well!! 164  cm climbed in 10 days\n",
      "Snaily out of the well!! 199  cm climbed in 11 days\n"
     ]
    }
   ],
   "source": [
    "advance_cm = [30,21,33,77,44,45,23,45,12,34,55]\n",
    "days = 0\n",
    "climb_acc = 0\n",
    "well_height_a = well_height + 1\n",
    "\n",
    "#while (i < len(advance_cm)): \n",
    "for i in advance_cm:\n",
    "    climb_acc += i - 20\n",
    "    left_acc = 125 - climb_acc\n",
    "    days = days + 1\n",
    "    #i += 1\n",
    "    #while climb_acc < well_height_a:\n",
    "    #print(\"Still climbing!\",left_acc,\"cm more to go!\")    \n",
    "    if climb_acc < well_height:\n",
    "        print(\"Still climbing!\",left_acc,\"cm more to go!\")\n",
    "    elif climb_acc > well_height:\n",
    "        print(\"Snaily out of the well!!\", climb_acc,\" cm climbed in\", days, \"days\")\n",
    "        \n",
    "        #while climb_acc < well_height_a:\n",
    "            #print(\"Done and dusted!\", climb_acc,\" cm climbed in\", days, \"days\")\n",
    "    else:\n",
    "        print(\"Snaily has already escaped, and on this\", days, \"th day he just kept moving\")\n",
    "\n",
    "    \n",
    "        \n",
    "    #print(\"test\", days, climb_acc)\n"
   ]
  },
  {
   "cell_type": "markdown",
   "metadata": {},
   "source": [
    "#### 2. What is its maximum displacement in one day? And its minimum? Calculate the displacement using only the travel distance of the days used to get out of the well. \n",
    "**Hint**: Remember that displacement means the total distance risen taking into account that the snail slides at night.  "
   ]
  },
  {
   "cell_type": "code",
   "execution_count": 7,
   "metadata": {},
   "outputs": [
    {
     "name": "stdout",
     "output_type": "stream",
     "text": [
      "[10, 1, 13, 57, 24, 25, 3, 25, -8, 14, 35]\n",
      "Maximum displacement:  57\n",
      "Minimum displacement:  1\n"
     ]
    }
   ],
   "source": [
    "displacement_acc_list = []\n",
    "#distance travelled is total (irrespective of direction), displacement is the shortest distance traveled.\n",
    "#assuming here that the question and hint means displacement = advance_cm - slide_cm\n",
    "for i in advance_cm:\n",
    "        displacement_per_day = i-20\n",
    "        displacement_acc_list.append(displacement_per_day)\n",
    "        \n",
    "print(displacement_acc_list) #displacement list printing\n",
    "\n",
    "list_only_in_well = displacement_acc_list[:6]\n",
    "list_only_in_well\n",
    "\n",
    "print(\"Maximum displacement: \",max(list_only_in_well))\n",
    "print(\"Minimum displacement: \",min(list_only_in_well))"
   ]
  },
  {
   "cell_type": "markdown",
   "metadata": {},
   "source": [
    "#### 3. What is its average progress? Take into account the snail slides at night."
   ]
  },
  {
   "cell_type": "code",
   "execution_count": 8,
   "metadata": {},
   "outputs": [
    {
     "name": "stdout",
     "output_type": "stream",
     "text": [
      "Average progress while climbing up the well:  21.666666666666668\n",
      "Average progress overall:  18.09090909090909\n"
     ]
    }
   ],
   "source": [
    "#Assumption: Progess is gain in terms of old_position vs new_postion,displacement and/or left_to_climb\n",
    "#since we have been dealing with displacement, proceeding with average progress in terms of displacement as it also accounts for sliding at night\n",
    "\n",
    "average_progress_during_well = sum(list_only_in_well)/len(list_only_in_well)\n",
    "average_progress_overall = sum(displacement_acc_list)/len(displacement_acc_list)\n",
    "\n",
    "print(\"Average progress while climbing up the well: \", average_progress_during_well)\n",
    "print(\"Average progress overall: \", average_progress_overall)\n"
   ]
  },
  {
   "cell_type": "markdown",
   "metadata": {},
   "source": [
    "#### 4. What is the standard deviation of its displacement? Take into account the snail slides at night."
   ]
  },
  {
   "cell_type": "code",
   "execution_count": 9,
   "metadata": {},
   "outputs": [],
   "source": [
    "import math\n",
    "\n",
    "#for the population list (including distance traveled by snaily after the great escape)\n",
    "list_1 = []\n",
    "for i in displacement_acc_list:\n",
    "    diff_mean_obs = i - average_progress_overall\n",
    "    diff_mean_obs_sq = diff_mean_obs**2\n",
    "    list_1.append(diff_mean_obs_sq)\n",
    "\n",
    "sum_1 = sum(list_1)\n",
    "div_obs_no = sum_1/len(list_1)\n",
    "stdev_1 = math.sqrt(div_obs_no)\n",
    "\n",
    "\n",
    "\n",
    "#for the observations (before snaily's great escape)\n",
    "list_2 = []\n",
    "for i in list_only_in_well:\n",
    "    diff_mean_obs_dw = i - average_progress_during_well\n",
    "    diff_mean_obs_sq_dw = diff_mean_obs_dw**2\n",
    "    list_2.append(diff_mean_obs_sq_dw)\n",
    "\n",
    "sum_2 = sum(list_2)\n",
    "div_obs_no_dw = sum_2/len(list_2)\n",
    "stdev_2 = math.sqrt(div_obs_no_dw)\n",
    "\n",
    "\n",
    "\n"
   ]
  },
  {
   "cell_type": "code",
   "execution_count": 10,
   "metadata": {},
   "outputs": [
    {
     "name": "stdout",
     "output_type": "stream",
     "text": [
      "standard deviation of displacement (population):  17.159437082600803\n",
      "standard deviation of displacement (only observations during well):  17.81073334319006\n"
     ]
    }
   ],
   "source": [
    "print(\"standard deviation of displacement (population): \",stdev_1)\n",
    "print(\"standard deviation of displacement (only observations during well): \",stdev_2)"
   ]
  },
  {
   "cell_type": "code",
   "execution_count": null,
   "metadata": {},
   "outputs": [],
   "source": []
  }
 ],
 "metadata": {
  "kernelspec": {
   "display_name": "Python 3",
   "language": "python",
   "name": "python3"
  },
  "language_info": {
   "codemirror_mode": {
    "name": "ipython",
    "version": 3
   },
   "file_extension": ".py",
   "mimetype": "text/x-python",
   "name": "python",
   "nbconvert_exporter": "python",
   "pygments_lexer": "ipython3",
   "version": "3.9.2"
  }
 },
 "nbformat": 4,
 "nbformat_minor": 2
}
