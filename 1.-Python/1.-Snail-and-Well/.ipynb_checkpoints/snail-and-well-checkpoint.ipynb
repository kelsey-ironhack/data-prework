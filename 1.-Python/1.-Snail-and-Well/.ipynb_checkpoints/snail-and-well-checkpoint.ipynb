{
 "cells": [
  {
   "cell_type": "markdown",
   "metadata": {},
   "source": [
    "<img src=\"https://bit.ly/2VnXWr2\" width=\"100\" align=\"left\">"
   ]
  },
  {
   "cell_type": "markdown",
   "metadata": {},
   "source": [
    "# The Snail and the Well\n",
    "\n",
    "A snail falls at the bottom of a 125 cm well. Each day the snail rises 30 cm. But at night, while sleeping, slides 20 cm because the walls are wet. How many days does it take for the snail to escape the well?\n",
    "\n",
    "**Hint**: The snail gets out of the well when it surpasses the 125cm of height.\n",
    "\n",
    "## Tools\n",
    "\n",
    "1. Loop: **while**\n",
    "2. Conditional statements: **if-else**\n",
    "3. Function: **print()**\n",
    "\n",
    "## Tasks\n",
    "\n",
    "#### 1. Assign the challenge data to variables with representative names: `well_height`, `daily_distance`, `nightly_distance` and `snail_position`."
   ]
  },
  {
   "cell_type": "code",
   "execution_count": 22,
   "metadata": {},
   "outputs": [],
   "source": [
    "well_height = 125\n",
    "daily_distance = 30\n",
    "nightly_distance = 20\n",
    "snail_position=0"
   ]
  },
  {
   "cell_type": "markdown",
   "metadata": {},
   "source": [
    "#### 2. Create a variable `days` to keep count of the days that pass until the snail escapes the well. "
   ]
  },
  {
   "cell_type": "code",
   "execution_count": 23,
   "metadata": {},
   "outputs": [],
   "source": [
    "days=0"
   ]
  },
  {
   "cell_type": "markdown",
   "metadata": {},
   "source": [
    "#### 3. Find the solution to the challenge using the variables defined above. "
   ]
  },
  {
   "cell_type": "code",
   "execution_count": 24,
   "metadata": {},
   "outputs": [],
   "source": [
    "while snail_position < 125:\n",
    "    days +=1\n",
    "    snail_position = snail_position + daily_distance\n",
    "    if snail_position > 125: \n",
    "        break\n",
    "    else:\n",
    "        snail_position = snail_position - nightly_distance"
   ]
  },
  {
   "cell_type": "markdown",
   "metadata": {},
   "source": [
    "#### 4. Print the solution."
   ]
  },
  {
   "cell_type": "code",
   "execution_count": 25,
   "metadata": {},
   "outputs": [
    {
     "name": "stdout",
     "output_type": "stream",
     "text": [
      "The snake, after 11 days, scaped the well.\n"
     ]
    }
   ],
   "source": [
    "print(\"The snake, after\", days, \"days, scaped the well.\")"
   ]
  },
  {
   "cell_type": "markdown",
   "metadata": {},
   "source": [
    "## Bonus\n",
    "The distance traveled by the snail each day is now defined by a list.\n",
    "```\n",
    "advance_cm = [30, 21, 33, 77, 44, 45, 23, 45, 12, 34, 55]\n",
    "```\n",
    "On the first day, the snail rises 30cm but during the night it slides 20cm. On the second day, the snail rises 21cm but during the night it slides 20cm, and so on. \n",
    "\n",
    "#### 1. How many days does it take for the snail to escape the well?\n",
    "Follow the same guidelines as in the previous challenge.\n",
    "\n",
    "**Hint**: Remember that the snail gets out of the well when it surpasses the 125cm of height."
   ]
  },
  {
   "cell_type": "code",
   "execution_count": 9,
   "metadata": {},
   "outputs": [
    {
     "name": "stdout",
     "output_type": "stream",
     "text": [
      "1º day 30 cm.\n",
      "2º day 31 cm.\n",
      "3º day 44 cm.\n",
      "4º day 101 cm.\n",
      "5º day 125 cm.\n",
      "6º day 150 cm.\n",
      "The snake, after 6 days, scaped the well.\n"
     ]
    }
   ],
   "source": [
    "# Distance traveled.\n",
    "\n",
    "advance_cm = [30, 21, 33, 77, 44, 45, 23, 45, 12, 34, 55]\n",
    "\n",
    "# The variables are declared.\n",
    "\n",
    "days = 0\n",
    "snail_position = 0\n",
    "well_height = 125\n",
    "nightly_distance = 20\n",
    "\n",
    "# While loop where the days are calculated.\n",
    "\n",
    "while snail_position < 125:\n",
    "    daily_distance = advance_cm[days]\n",
    "    snail_position = snail_position + daily_distance\n",
    "    days +=1\n",
    "    print(str(days)+'º day', snail_position, \"cm.\")\n",
    "    if snail_position > 125: \n",
    "        break\n",
    "    else:\n",
    "        snail_position = snail_position - nightly_distance\n",
    "        \n",
    "print(\"The snake, after\", days, \"days, scaped the well.\")"
   ]
  },
  {
   "cell_type": "markdown",
   "metadata": {},
   "source": [
    "#### 2. What is its maximum displacement in one day? And its minimum? Calculate the displacement using only the travel distance of the days used to get out of the well. \n",
    "**Hint**: Remember that displacement means the total distance risen taking into account that the snail slides at night.  "
   ]
  },
  {
   "cell_type": "code",
   "execution_count": 2,
   "metadata": {},
   "outputs": [
    {
     "name": "stdout",
     "output_type": "stream",
     "text": [
      "The maximun displacement is 57.\n"
     ]
    }
   ],
   "source": [
    "# The variables are defined.\n",
    "\n",
    "advance_cm = [30, 21, 33, 77, 44, 45, 23, 45, 12, 34, 55]\n",
    "nightly_distance = 20\n",
    "displacements=[]\n",
    "days = 0\n",
    "\n",
    "# The new array, Displacements, is filled.\n",
    "\n",
    "while days < 6:\n",
    "    displacements.append(advance_cm[days]-nightly_distance)\n",
    "    days +=1\n",
    "    \n",
    "print(\"The maximun displacement is\", str(max(displacements))+\".\")\n"
   ]
  },
  {
   "cell_type": "markdown",
   "metadata": {},
   "source": [
    "#### 3. What is its average progress? Take into account the snail slides at night."
   ]
  },
  {
   "cell_type": "code",
   "execution_count": 3,
   "metadata": {},
   "outputs": [
    {
     "name": "stdout",
     "output_type": "stream",
     "text": [
      "The average progress is 21.67cm.\n"
     ]
    }
   ],
   "source": [
    "from statistics import mean \n",
    "\n",
    "avg_progress = mean(displacements)\n",
    "\n",
    "print(\"The average progress is\", str(\"{:.2f}\".format(avg_progress))+\"cm.\")"
   ]
  },
  {
   "cell_type": "markdown",
   "metadata": {},
   "source": [
    "#### 4. What is the standard deviation of its displacement? Take into account the snail slides at night."
   ]
  },
  {
   "cell_type": "code",
   "execution_count": 8,
   "metadata": {},
   "outputs": [
    {
     "name": "stdout",
     "output_type": "stream",
     "text": [
      "The Standard Deviation (without numpy) is: 17.81073334319006\n",
      "The Standard Deviation (with numpy) is: 17.81073334319006\n"
     ]
    }
   ],
   "source": [
    "# Without numpy:\n",
    "\n",
    "std_numerator = 0\n",
    "\n",
    "for displacement in displacements:\n",
    "    std_numerator = std_numerator + (displacement - avg_progress)**2\n",
    "\n",
    "std = (std_numerator/len(displacements))**0.5\n",
    "\n",
    "print(\"The Standard Deviation (without numpy) is:\", std)\n",
    "    \n",
    "    \n",
    "\n",
    "# With numpy:\n",
    "\n",
    "import numpy as np\n",
    "\n",
    "print('The Standard Deviation (with numpy) is:', np.std(displacements))"
   ]
  },
  {
   "cell_type": "code",
   "execution_count": null,
   "metadata": {},
   "outputs": [],
   "source": []
  }
 ],
 "metadata": {
  "kernelspec": {
   "display_name": "Python 3",
   "language": "python",
   "name": "python3"
  },
  "language_info": {
   "codemirror_mode": {
    "name": "ipython",
    "version": 3
   },
   "file_extension": ".py",
   "mimetype": "text/x-python",
   "name": "python",
   "nbconvert_exporter": "python",
   "pygments_lexer": "ipython3",
   "version": "3.8.2"
  }
 },
 "nbformat": 4,
 "nbformat_minor": 2
}
