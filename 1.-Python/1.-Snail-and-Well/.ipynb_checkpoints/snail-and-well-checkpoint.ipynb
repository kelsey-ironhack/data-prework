{
 "cells": [
  {
   "cell_type": "markdown",
   "metadata": {},
   "source": [
    "<img src=\"https://bit.ly/2VnXWr2\" width=\"100\" align=\"left\">"
   ]
  },
  {
   "cell_type": "markdown",
   "metadata": {},
   "source": [
    "# The Snail and the Well\n",
    "\n",
    "A snail falls at the bottom of a 125 cm well. Each day the snail rises 30 cm. But at night, while sleeping, slides 20 cm because the walls are wet. How many days does it take for the snail to escape the well?\n",
    "\n",
    "**Hint**: The snail gets out of the well when it surpasses the 125cm of height.\n",
    "\n",
    "## Tools\n",
    "\n",
    "1. Loop: **while**\n",
    "2. Conditional statements: **if-else**\n",
    "3. Function: **print()**\n",
    "\n",
    "## Tasks\n",
    "\n",
    "#### 1. Assign the challenge data to variables with representative names: `well_height`, `daily_distance`, `nightly_distance` and `snail_position`."
   ]
  },
  {
   "cell_type": "code",
   "execution_count": 1,
   "metadata": {},
   "outputs": [],
   "source": [
    "well_height = 125\n",
    "daily_distance = 30\n",
    "nightly_distance = -20\n",
    "day_night_distance = daily_distance + nightly_distance\n",
    "total_distance = 0\n",
    "day = 0\n",
    "\n",
    "max_distance = total_distance + daily_distance\n",
    "\n",
    "\n",
    "\n",
    "\n",
    "\n",
    "\n"
   ]
  },
  {
   "cell_type": "markdown",
   "metadata": {},
   "source": [
    "#### 2. Create a variable `days` to keep count of the days that pass until the snail escapes the well. "
   ]
  },
  {
   "cell_type": "code",
   "execution_count": 2,
   "metadata": {},
   "outputs": [
    {
     "name": "stdout",
     "output_type": "stream",
     "text": [
      "The Snake is in the well on day 1\n",
      "The Snake is in the well on day 2\n",
      "The Snake is in the well on day 3\n",
      "The Snake is in the well on day 4\n",
      "The Snake is in the well on day 5\n",
      "The Snake is in the well on day 6\n",
      "The Snake is in the well on day 7\n",
      "The Snake is in the well on day 8\n",
      "The Snake is in the well on day 9\n",
      "The Snake is in the well on day 10\n",
      "The Snake escapes\n"
     ]
    }
   ],
   "source": [
    "#already the solution. Snake stays for 10 days and leaves on the 11th\n",
    "well_height = 125\n",
    "daily_distance = 30\n",
    "nightly_distance = -20\n",
    "day_night_distance = daily_distance + nightly_distance\n",
    "total_distance = 0\n",
    "day = 0\n",
    "\n",
    "max_distance = total_distance + daily_distance\n",
    "\n",
    "\n",
    "\n",
    "while total_distance <= well_height and max_distance <= well_height:\n",
    "    max_distance = total_distance + daily_distance # just for me to know if calculation is correct\n",
    "    total_distance = total_distance + day_night_distance # just for me to check if calculation is correct\n",
    "    day += 1\n",
    "    if total_distance <= well_height and max_distance <= well_height:\n",
    "        print(\"The Snake is in the well on day\", day) \n",
    "\n",
    "print(\"The Snake escapes\")"
   ]
  },
  {
   "cell_type": "markdown",
   "metadata": {},
   "source": [
    "#### 3. Find the solution to the challenge using the variables defined above. "
   ]
  },
  {
   "cell_type": "code",
   "execution_count": 3,
   "metadata": {},
   "outputs": [
    {
     "name": "stdout",
     "output_type": "stream",
     "text": [
      "The Snake is in the well on day 1\n",
      "The Snake's highest position on this day was 30\n",
      "The Snake's position at the end of the day was 10\n",
      "The Snake is in the well on day 2\n",
      "The Snake's highest position on this day was 40\n",
      "The Snake's position at the end of the day was 20\n",
      "The Snake is in the well on day 3\n",
      "The Snake's highest position on this day was 50\n",
      "The Snake's position at the end of the day was 30\n",
      "The Snake is in the well on day 4\n",
      "The Snake's highest position on this day was 60\n",
      "The Snake's position at the end of the day was 40\n",
      "The Snake is in the well on day 5\n",
      "The Snake's highest position on this day was 70\n",
      "The Snake's position at the end of the day was 50\n",
      "The Snake is in the well on day 6\n",
      "The Snake's highest position on this day was 80\n",
      "The Snake's position at the end of the day was 60\n",
      "The Snake is in the well on day 7\n",
      "The Snake's highest position on this day was 90\n",
      "The Snake's position at the end of the day was 70\n",
      "The Snake is in the well on day 8\n",
      "The Snake's highest position on this day was 100\n",
      "The Snake's position at the end of the day was 80\n",
      "The Snake is in the well on day 9\n",
      "The Snake's highest position on this day was 110\n",
      "The Snake's position at the end of the day was 90\n",
      "The Snake is in the well on day 10\n",
      "The Snake's highest position on this day was 120\n",
      "The Snake's position at the end of the day was 100\n",
      "The Snake escapes\n"
     ]
    }
   ],
   "source": [
    "# this solution includes the highest postion of the snake at every day as well as the position at the end of the day (including the night)\n",
    "well_height = 125\n",
    "daily_distance = 30\n",
    "nightly_distance = -20\n",
    "day_night_distance = daily_distance + nightly_distance\n",
    "total_distance = 0\n",
    "day = 0\n",
    "\n",
    "max_distance = total_distance + daily_distance\n",
    "\n",
    "\n",
    "\n",
    "while total_distance <= well_height and max_distance <= well_height:\n",
    "    max_distance = total_distance + daily_distance \n",
    "    total_distance = total_distance + day_night_distance \n",
    "    day += 1\n",
    "    if total_distance <= well_height and max_distance <= well_height:\n",
    "        print(\"The Snake is in the well on day\", day) \n",
    "        print(\"The Snake's highest position on this day was\", max_distance)# just for me to know if calculation is correct\n",
    "        print(\"The Snake's position at the end of the day was\", total_distance)# just for me to check if calculation is correct\n",
    "    \n",
    "\n",
    "print(\"The Snake escapes\")"
   ]
  },
  {
   "cell_type": "markdown",
   "metadata": {},
   "source": [
    "#### 4. Print the solution."
   ]
  },
  {
   "cell_type": "code",
   "execution_count": 4,
   "metadata": {},
   "outputs": [
    {
     "name": "stdout",
     "output_type": "stream",
     "text": [
      "The Snake is in the well on day 1\n",
      "The Snake is in the well on day 2\n",
      "The Snake is in the well on day 3\n",
      "The Snake is in the well on day 4\n",
      "The Snake is in the well on day 5\n",
      "The Snake is in the well on day 6\n",
      "The Snake is in the well on day 7\n",
      "The Snake is in the well on day 8\n",
      "The Snake is in the well on day 9\n",
      "The Snake is in the well on day 10\n",
      "The Snake finally escaped\n"
     ]
    }
   ],
   "source": [
    "# solution that I've already printed under 2nd\n",
    "well_height = 125\n",
    "daily_distance = 30\n",
    "nightly_distance = -20\n",
    "day_night_distance = daily_distance + nightly_distance\n",
    "total_distance = 0\n",
    "day = 0\n",
    "\n",
    "max_distance = total_distance + daily_distance\n",
    "\n",
    "\n",
    "\n",
    "while total_distance <= well_height and max_distance <= well_height:\n",
    "    max_distance = total_distance + daily_distance # just for me to know if calculation is correct\n",
    "    total_distance = total_distance + day_night_distance # just for me to check if calculation is correct\n",
    "    day += 1\n",
    "    if total_distance <= well_height and max_distance <= well_height:\n",
    "        print(\"The Snake is in the well on day\", day) \n",
    "    # Prior issue fixed with the if condition.\n",
    "\n",
    "print(\"The Snake finally escaped\")"
   ]
  },
  {
   "cell_type": "markdown",
   "metadata": {},
   "source": [
    "## Bonus\n",
    "The distance traveled by the snail each day is now defined by a list.\n",
    "```\n",
    "advance_cm = [30, 21, 33, 77, 44, 45, 23, 45, 12, 34, 55]\n",
    "```\n",
    "On the first day, the snail rises 30cm but during the night it slides 20cm. On the second day, the snail rises 21cm but during the night it slides 20cm, and so on. \n",
    "\n",
    "#### 1. How many days does it take for the snail to escape the well?\n",
    "Follow the same guidelines as in the previous challenge.\n",
    "\n",
    "**Hint**: Remember that the snail gets out of the well when it surpasses the 125cm of height."
   ]
  },
  {
   "cell_type": "code",
   "execution_count": null,
   "metadata": {},
   "outputs": [],
   "source": []
  },
  {
   "cell_type": "markdown",
   "metadata": {},
   "source": [
    "#### 2. What is its maximum displacement in one day? And its minimum? Calculate the displacement using only the travel distance of the days used to get out of the well. \n",
    "**Hint**: Remember that displacement means the total distance risen taking into account that the snail slides at night.  "
   ]
  },
  {
   "cell_type": "code",
   "execution_count": null,
   "metadata": {},
   "outputs": [],
   "source": []
  },
  {
   "cell_type": "markdown",
   "metadata": {},
   "source": [
    "#### 3. What is its average progress? Take into account the snail slides at night."
   ]
  },
  {
   "cell_type": "code",
   "execution_count": null,
   "metadata": {},
   "outputs": [],
   "source": []
  },
  {
   "cell_type": "markdown",
   "metadata": {},
   "source": [
    "#### 4. What is the standard deviation of its displacement? Take into account the snail slides at night."
   ]
  },
  {
   "cell_type": "code",
   "execution_count": null,
   "metadata": {},
   "outputs": [],
   "source": []
  }
 ],
 "metadata": {
  "kernelspec": {
   "display_name": "Python 3",
   "language": "python",
   "name": "python3"
  },
  "language_info": {
   "codemirror_mode": {
    "name": "ipython",
    "version": 3
   },
   "file_extension": ".py",
   "mimetype": "text/x-python",
   "name": "python",
   "nbconvert_exporter": "python",
   "pygments_lexer": "ipython3",
   "version": "3.7.6"
  }
 },
 "nbformat": 4,
 "nbformat_minor": 2
}
