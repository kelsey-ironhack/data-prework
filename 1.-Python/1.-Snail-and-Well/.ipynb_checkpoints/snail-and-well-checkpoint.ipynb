{
 "cells": [
  {
   "cell_type": "markdown",
   "metadata": {},
   "source": [
    "<img src=\"https://bit.ly/2VnXWr2\" width=\"100\" align=\"left\">"
   ]
  },
  {
   "cell_type": "markdown",
   "metadata": {},
   "source": [
    "# The Snail and the Well\n",
    "\n",
    "A snail falls at the bottom of a 125 cm well. Each day the snail rises 30 cm. But at night, while sleeping, slides 20 cm because the walls are wet. How many days does it take for the snail to escape the well?\n",
    "\n",
    "**Hint**: The snail gets out of the well when it surpasses the 125cm of height.\n",
    "\n",
    "## Tools\n",
    "\n",
    "1. Loop: **while**\n",
    "2. Conditional statements: **if-else**\n",
    "3. Function: **print()**\n",
    "\n",
    "## Tasks\n",
    "\n",
    "#### 1. Assign the challenge data to variables with representative names: `well_height`, `daily_distance`, `nightly_distance` and `snail_position`."
   ]
  },
  {
   "cell_type": "code",
   "execution_count": 63,
   "metadata": {},
   "outputs": [],
   "source": [
    "well_height = 125\n",
    "daily_distance = 30\n",
    "nightly_distance = -20\n",
    "snail_position = 0"
   ]
  },
  {
   "cell_type": "markdown",
   "metadata": {},
   "source": [
    "#### 2. Create a variable `days` to keep count of the days that pass until the snail escapes the well. "
   ]
  },
  {
   "cell_type": "code",
   "execution_count": 64,
   "metadata": {},
   "outputs": [],
   "source": [
    "days = 0"
   ]
  },
  {
   "cell_type": "markdown",
   "metadata": {},
   "source": [
    "#### 3. Find the solution to the challenge using the variables defined above. "
   ]
  },
  {
   "cell_type": "code",
   "execution_count": 61,
   "metadata": {},
   "outputs": [],
   "source": [
    "while snail_position <= well_height:\n",
    "    days += 1\n",
    "    snail_position += daily_distance\n",
    "    if snail_position > well_height:\n",
    "        break\n",
    "    snail_position += nightly_distance\n",
    "    "
   ]
  },
  {
   "cell_type": "markdown",
   "metadata": {},
   "source": [
    "#### 4. Print the solution."
   ]
  },
  {
   "cell_type": "code",
   "execution_count": 62,
   "metadata": {},
   "outputs": [
    {
     "name": "stdout",
     "output_type": "stream",
     "text": [
      "The snale took  11  days and cleared the well by  5  cm\n"
     ]
    }
   ],
   "source": [
    "print(\"The snale took \", days, \" days and cleared the well by \", snail_position-well_height, \" cm\")"
   ]
  },
  {
   "cell_type": "markdown",
   "metadata": {},
   "source": [
    "## Bonus\n",
    "The distance traveled by the snail each day is now defined by a list.\n",
    "```\n",
    "advance_cm = [30, 21, 33, 77, 44, 45, 23, 45, 12, 34, 55]\n",
    "```\n",
    "On the first day, the snail rises 30cm but during the night it slides 20cm. On the second day, the snail rises 21cm but during the night it slides 20cm, and so on. \n",
    "\n",
    "#### 1. How many days does it take for the snail to escape the well?\n",
    "Follow the same guidelines as in the previous challenge.\n",
    "\n",
    "**Hint**: Remember that the snail gets out of the well when it surpasses the 125cm of height."
   ]
  },
  {
   "cell_type": "code",
   "execution_count": 65,
   "metadata": {},
   "outputs": [
    {
     "name": "stdout",
     "output_type": "stream",
     "text": [
      "The snale took  6  days and cleared the well by  25  cm\n"
     ]
    }
   ],
   "source": [
    "advance_cm = [30, 21, 33, 77, 44, 45, 23, 45, 12, 34, 55]\n",
    "\n",
    "while snail_position <= well_height:\n",
    "    snail_position += advance_cm[days]\n",
    "    days += 1\n",
    "    if snail_position > well_height:\n",
    "        break\n",
    "    snail_position += nightly_distance\n",
    "    \n",
    "print(\"The snale took \", days, \" days and cleared the well by \", snail_position-well_height, \" cm\")"
   ]
  },
  {
   "cell_type": "markdown",
   "metadata": {},
   "source": [
    "#### 2. What is its maximum displacement in one day? And its minimum? Calculate the displacement using only the travel distance of the days used to get out of the well. \n",
    "**Hint**: Remember that displacement means the total distance risen taking into account that the snail slides at night.  "
   ]
  },
  {
   "cell_type": "code",
   "execution_count": 58,
   "metadata": {},
   "outputs": [
    {
     "name": "stdout",
     "output_type": "stream",
     "text": [
      "The snale took  6  days and cleared the well by  25  cm\n",
      "Its maximum displacement during it's escape was:  57  cm, achieved on day  4\n",
      "Its minumum displacement during it's escape was:  1  cm, achieved on day  2\n"
     ]
    }
   ],
   "source": [
    "displacement = []\n",
    "\n",
    "while snail_position <= well_height:\n",
    "    snail_position += advance_cm[days]\n",
    "    displacement.append(advance_cm[days])\n",
    "    days += 1\n",
    "    if snail_position > well_height:\n",
    "        break\n",
    "    snail_position += nightly_distance\n",
    "    displacement[days-1] += nightly_distance\n",
    "    \n",
    "    \n",
    "print(\"The snale took \", days, \" days and cleared the well by \", snail_position-well_height, \" cm\")\n",
    "print(\"Its maximum displacement during it's escape was: \",max(displacement), \" cm, achieved on day \", displacement.index(max(displacement))+1)\n",
    "print(\"Its minumum displacement during it's escape was: \",min(displacement), \" cm, achieved on day \", displacement.index(min(displacement))+1)"
   ]
  },
  {
   "cell_type": "markdown",
   "metadata": {},
   "source": [
    "#### 3. What is its average progress? Take into account the snail slides at night."
   ]
  },
  {
   "cell_type": "code",
   "execution_count": 69,
   "metadata": {},
   "outputs": [
    {
     "name": "stdout",
     "output_type": "stream",
     "text": [
      "Average progress is:  25.0  cm\n"
     ]
    }
   ],
   "source": [
    "# takes in to account on the day of escape it will not slide back down.\n",
    "print(\"Average progress is: \", sum(displacement)/len(displacement), \" cm\")"
   ]
  },
  {
   "cell_type": "markdown",
   "metadata": {},
   "source": [
    "#### 4. What is the standard deviation of its displacement? Take into account the snail slides at night."
   ]
  },
  {
   "cell_type": "code",
   "execution_count": 102,
   "metadata": {},
   "outputs": [
    {
     "name": "stdout",
     "output_type": "stream",
     "text": [
      "Standard deviation of displacement:  21.77154105707724\n",
      "Population standard deviation of displacement:  19.87460691435179\n",
      "Standard deviation of displacement (using statistics import):  21.77154105707724\n",
      "Population standard deviation of displacement (using statistics import):  19.87460691435179\n"
     ]
    }
   ],
   "source": [
    "import math\n",
    "avg_displacement = sum(displacement)/len(displacement)\n",
    "variance_displacement = []\n",
    "x = 0\n",
    "\n",
    "for i in displacement:\n",
    "    variance_displacement.append(float(i-avg_displacement))\n",
    "    variance_displacement[x] **= 2\n",
    "    x+=1  \n",
    "\n",
    "print(\"Standard deviation of displacement: \", math.sqrt(sum(variance_displacement)/(len(variance_displacement)-1)))\n",
    "print(\"Population standard deviation of displacement: \", math.sqrt(sum(variance_displacement)/len(variance_displacement)))\n",
    "\n",
    "import statistics\n",
    "print(\"Standard deviation of displacement (using statistics import): \", statistics.stdev(displacement))\n",
    "print(\"Population standard deviation of displacement (using statistics import): \", statistics.pstdev(displacement))\n"
   ]
  }
 ],
 "metadata": {
  "kernelspec": {
   "display_name": "Python 3",
   "language": "python",
   "name": "python3"
  },
  "language_info": {
   "codemirror_mode": {
    "name": "ipython",
    "version": 3
   },
   "file_extension": ".py",
   "mimetype": "text/x-python",
   "name": "python",
   "nbconvert_exporter": "python",
   "pygments_lexer": "ipython3",
   "version": "3.8.8"
  }
 },
 "nbformat": 4,
 "nbformat_minor": 2
}
