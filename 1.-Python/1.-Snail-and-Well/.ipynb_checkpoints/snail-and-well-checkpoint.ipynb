{
 "cells": [
  {
   "cell_type": "markdown",
   "metadata": {},
   "source": [
    "<img src=\"https://bit.ly/2VnXWr2\" width=\"100\" align=\"left\">"
   ]
  },
  {
   "cell_type": "markdown",
   "metadata": {},
   "source": [
    "# The Snail and the Well\n",
    "\n",
    "A snail falls at the bottom of a 125 cm well. Each day the snail rises 30 cm. But at night, while sleeping, slides 20 cm because the walls are wet. How many days does it take for the snail to escape the well?\n",
    "\n",
    "**Hint**: The snail gets out of the well when it surpasses the 125cm of height.\n",
    "\n",
    "## Tools\n",
    "\n",
    "1. Loop: **while**\n",
    "2. Conditional statements: **if-else**\n",
    "3. Function: **print()**\n",
    "\n",
    "## Tasks\n",
    "\n",
    "#### 1. Assign the challenge data to variables with representative names: `well_height`, `daily_distance`, `nightly_distance` and `snail_position`."
   ]
  },
  {
   "cell_type": "code",
   "execution_count": 38,
   "metadata": {},
   "outputs": [],
   "source": [
    "daily_distance=30\n",
    "nightly_distance=20\n",
    "advance_cm=0"
   ]
  },
  {
   "cell_type": "markdown",
   "metadata": {},
   "source": [
    "#### 2. Create a variable `days` to keep count of the days that pass until the snail escapes the well. "
   ]
  },
  {
   "cell_type": "code",
   "execution_count": 39,
   "metadata": {},
   "outputs": [],
   "source": [
    "days=0"
   ]
  },
  {
   "cell_type": "markdown",
   "metadata": {},
   "source": [
    "#### 3. Find the solution to the challenge using the variables defined above. "
   ]
  },
  {
   "cell_type": "code",
   "execution_count": 40,
   "metadata": {},
   "outputs": [
    {
     "name": "stdout",
     "output_type": "stream",
     "text": [
      "La vibora ha avanzado 10 cm en 1 días\n",
      "La vibora ha avanzado 20 cm en 2 días\n",
      "La vibora ha avanzado 30 cm en 3 días\n",
      "La vibora ha avanzado 40 cm en 4 días\n",
      "La vibora ha avanzado 50 cm en 5 días\n",
      "La vibora ha avanzado 60 cm en 6 días\n",
      "La vibora ha avanzado 70 cm en 7 días\n",
      "La vibora ha avanzado 80 cm en 8 días\n",
      "La vibora ha avanzado 90 cm en 9 días\n",
      "La vibora ha avanzado 100 cm en 10 días\n",
      "La vibora ha avanzado 110 cm en 11 días\n",
      "La vibora ha avanzado 120 cm en 12 días\n",
      "La vibora ha avanzado 130 cm en 13 días\n"
     ]
    }
   ],
   "source": [
    " while advance_cm < 125:\n",
    "        \n",
    "        advance_cm += (daily_distance-nightly_distance)\n",
    "        days +=1\n",
    "        print(\"El caracol ha avanzado\",advance_cm,\"cm en\",days,\"días\")"
   ]
  },
  {
   "cell_type": "markdown",
   "metadata": {},
   "source": [
    "#### 4. Print the solution."
   ]
  },
  {
   "cell_type": "code",
   "execution_count": 41,
   "metadata": {},
   "outputs": [
    {
     "name": "stdout",
     "output_type": "stream",
     "text": [
      "A la vibora le toma  13 días salir del pozo\n"
     ]
    }
   ],
   "source": [
    "print(\"Al caracol le toma \",days,\"días salir del pozo\")"
   ]
  },
  {
   "cell_type": "markdown",
   "metadata": {},
   "source": [
    "## Bonus\n",
    "The distance traveled by the snail each day is now defined by a list.\n",
    "```\n",
    "advance_cm = [30, 21, 33, 77, 44, 45, 23, 45, 12, 34, 55]\n",
    "```\n",
    "On the first day, the snail rises 30cm but during the night it slides 20cm. On the second day, the snail rises 21cm but during the night it slides 20cm, and so on. \n",
    "\n",
    "#### 1. How many days does it take for the snail to escape the well?\n",
    "Follow the same guidelines as in the previous challenge.\n",
    "\n",
    "**Hint**: Remember that the snail gets out of the well when it surpasses the 125cm of height."
   ]
  },
  {
   "cell_type": "code",
   "execution_count": 73,
   "metadata": {},
   "outputs": [
    {
     "name": "stdout",
     "output_type": "stream",
     "text": [
      "La vibora ha avanzado 10 cm en 1 días\n",
      "La vibora ha avanzado 11 cm en 2 días\n",
      "La vibora ha avanzado 24 cm en 3 días\n",
      "La vibora ha avanzado 81 cm en 4 días\n",
      "La vibora ha avanzado 105 cm en 5 días\n",
      "La vibora ha avanzado 130 cm en 6 días\n",
      "A la vibora le toma  6 días salir del pozo\n"
     ]
    }
   ],
   "source": [
    "import statistics\n",
    "nightly_distance=20\n",
    "advance_cm=[30, 21, 33, 77, 44, 45, 23, 45, 12, 34, 55]\n",
    "days=0\n",
    "count=0\n",
    "total_cm=0\n",
    "displacement = []\n",
    "\n",
    "\n",
    "while total_cm < 125:\n",
    "    total_cm += advance_cm[count]-nightly_distance\n",
    "    displacement.append(advance_cm[count]-nightly_distance)\n",
    "    days +=1\n",
    "    count+=1\n",
    "    print(\"El caracol ha avanzado\",total_cm,\"cm en\",days,\"días\")\n",
    "    \n",
    "    \n",
    "    \n",
    "    \n",
    "print(\"Al caracol le toma \",days,\"días salir del pozo\")\n"
   ]
  },
  {
   "cell_type": "markdown",
   "metadata": {},
   "source": [
    "#### 2. What is its maximum displacement in one day? And its minimum? Calculate the displacement using only the travel distance of the days used to get out of the well. \n",
    "**Hint**: Remember that displacement means the total distance risen taking into account that the snail slides at night.  "
   ]
  },
  {
   "cell_type": "code",
   "execution_count": 70,
   "metadata": {},
   "outputs": [
    {
     "name": "stdout",
     "output_type": "stream",
     "text": [
      "[10, 1, 13, 57, 24, 25]\n",
      "El desplazamiento máximo fue de 57 cm en un día\n",
      "El desplazamiento mínimo fue de 1 cm en un día\n"
     ]
    }
   ],
   "source": [
    "print(displacement)\n",
    "print(\"El desplazamiento máximo fue de\",max(displacement),\"cm en un día\")\n",
    "print(\"El desplazamiento mínimo fue de\",min(displacement),\"cm en un día\")"
   ]
  },
  {
   "cell_type": "markdown",
   "metadata": {},
   "source": [
    "#### 3. What is its average progress? Take into account the snail slides at night."
   ]
  },
  {
   "cell_type": "code",
   "execution_count": 72,
   "metadata": {},
   "outputs": [
    {
     "name": "stdout",
     "output_type": "stream",
     "text": [
      "El avance promedio de la víbora es de 21.666666666666668 cm por día\n"
     ]
    }
   ],
   "source": [
    "average_progress =sum(displacement)/days\n",
    "print(\"El avance promedio del caracol es de\",average_progress,\"cm por día\")"
   ]
  },
  {
   "cell_type": "markdown",
   "metadata": {},
   "source": [
    "#### 4. What is the standard deviation of its displacement? Take into account the snail slides at night."
   ]
  },
  {
   "cell_type": "code",
   "execution_count": 76,
   "metadata": {},
   "outputs": [
    {
     "name": "stdout",
     "output_type": "stream",
     "text": [
      "La desviación estandar de los desplazamientos de la vibora fue de  19.510680835549195 cm\n"
     ]
    }
   ],
   "source": [
    "std_dev = statistics.stdev(displacement)\n",
    "print(\"La desviación estandar de los desplazamientos del caracol fue de \",std_dev,\"cm\")"
   ]
  },
  {
   "cell_type": "code",
   "execution_count": null,
   "metadata": {},
   "outputs": [],
   "source": []
  }
 ],
 "metadata": {
  "kernelspec": {
   "display_name": "Python 3",
   "language": "python",
   "name": "python3"
  },
  "language_info": {
   "codemirror_mode": {
    "name": "ipython",
    "version": 3
   },
   "file_extension": ".py",
   "mimetype": "text/x-python",
   "name": "python",
   "nbconvert_exporter": "python",
   "pygments_lexer": "ipython3",
   "version": "3.8.3"
  }
 },
 "nbformat": 4,
 "nbformat_minor": 2
}
