{
 "cells": [
  {
   "cell_type": "markdown",
   "metadata": {},
   "source": [
    "<img src=\"https://bit.ly/2VnXWr2\" width=\"100\" align=\"left\">"
   ]
  },
  {
   "cell_type": "markdown",
   "metadata": {},
   "source": [
    "# The Snail and the Well\n",
    "\n",
    "A snail falls at the bottom of a 125 cm well. Each day the snail rises 30 cm. But at night, while sleeping, slides 20 cm because the walls are wet. How many days does it take for the snail to escape the well?\n",
    "\n",
    "**Hint**: The snail gets out of the well when it surpasses the 125cm of height.\n",
    "\n",
    "## Tools\n",
    "\n",
    "1. Loop: **while**\n",
    "2. Conditional statements: **if-else**\n",
    "3. Function: **print()**\n",
    "\n",
    "## Tasks\n",
    "\n",
    "#### 1. Assign the challenge data to variables with representative names: `well_height`, `daily_distance`, `nightly_distance` and `snail_position`."
   ]
  },
  {
   "cell_type": "code",
   "execution_count": 48,
   "metadata": {},
   "outputs": [
    {
     "name": "stdout",
     "output_type": "stream",
     "text": [
      "snail_position : 0  cm\n",
      "snail_position : 10  cm\n",
      "snail_position : 20  cm\n",
      "snail_position : 30  cm\n",
      "snail_position : 40  cm\n",
      "snail_position : 50  cm\n",
      "snail_position : 60  cm\n",
      "snail_position : 70  cm\n",
      "snail_position : 80  cm\n",
      "snail_position : 90  cm\n",
      "snail_position : 100  cm\n",
      "snail_position : 130  cm\n",
      "Freedom : True\n"
     ]
    }
   ],
   "source": [
    "freedom = False\n",
    "height_reached = 0\n",
    "well_height = 125\n",
    "snail_position = 0\n",
    "daily_distance = 30\n",
    "nightly_distance = 20\n",
    "print(\"snail_position :\",snail_position, \" cm\")\n",
    "\n",
    "while freedom == False:\n",
    "    snail_position += daily_distance\n",
    "    if snail_position <= well_height:\n",
    "        snail_position -= nightly_distance\n",
    "        print(\"snail_position :\",snail_position, \" cm\")        \n",
    "    else:\n",
    "        freedom = True\n",
    "        print(\"snail_position :\",snail_position, \" cm\")\n",
    "        print(\"Freedom :\",freedom)\n",
    "    "
   ]
  },
  {
   "cell_type": "markdown",
   "metadata": {},
   "source": [
    "#### 2. Create a variable `days` to keep count of the days that pass until the snail escapes the well. "
   ]
  },
  {
   "cell_type": "code",
   "execution_count": 49,
   "metadata": {},
   "outputs": [],
   "source": [
    "days = 0"
   ]
  },
  {
   "cell_type": "markdown",
   "metadata": {},
   "source": [
    "#### 3. Find the solution to the challenge using the variables defined above. "
   ]
  },
  {
   "cell_type": "code",
   "execution_count": 55,
   "metadata": {},
   "outputs": [
    {
     "name": "stdout",
     "output_type": "stream",
     "text": [
      "day:  6 ; snail_position : 0  cm\n",
      "day:  7 ; snail_position : 10  cm\n",
      "day:  8 ; snail_position : 20  cm\n",
      "day:  9 ; snail_position : 30  cm\n",
      "day:  10 ; snail_position : 40  cm\n",
      "day:  11 ; snail_position : 50  cm\n",
      "day:  12 ; snail_position : 60  cm\n",
      "day:  13 ; snail_position : 70  cm\n",
      "day:  14 ; snail_position : 80  cm\n",
      "day:  15 ; snail_position : 90  cm\n",
      "day:  16 ; snail_position : 100  cm\n",
      "day:  17 ; snail_position : 130  cm\n",
      "Freedom : True\n"
     ]
    }
   ],
   "source": [
    "freedom = False\n",
    "height_reached = 0\n",
    "well_height = 125\n",
    "snail_position = 0\n",
    "daily_distance = 30\n",
    "nightly_distance = 20\n",
    "print(\"day: \",days,\"; snail_position :\",snail_position, \" cm\")\n",
    "\n",
    "while freedom == False:\n",
    "    days = days+1\n",
    "    snail_position += daily_distance\n",
    "    if snail_position <= well_height:\n",
    "        snail_position -= nightly_distance\n",
    "        print(\"day: \",days,\"; snail_position :\",snail_position, \" cm\")        \n",
    "    else:\n",
    "        freedom = True\n",
    "        print(\"day: \",days,\"; snail_position :\",snail_position, \" cm\")\n",
    "        print(\"Freedom :\",freedom)"
   ]
  },
  {
   "cell_type": "markdown",
   "metadata": {},
   "source": [
    "#### 4. Print the solution."
   ]
  },
  {
   "cell_type": "code",
   "execution_count": 57,
   "metadata": {},
   "outputs": [
    {
     "name": "stdout",
     "output_type": "stream",
     "text": [
      "The snail is free from the hole on day:  11\n"
     ]
    }
   ],
   "source": [
    "freedom = False\n",
    "days=0\n",
    "height_reached = 0\n",
    "well_height = 125\n",
    "snail_position = 0\n",
    "daily_distance = 30\n",
    "nightly_distance = 20\n",
    "\n",
    "while freedom == False:\n",
    "    days += 1\n",
    "    snail_position += daily_distance\n",
    "    if snail_position <= well_height:\n",
    "        snail_position -= nightly_distance\n",
    "    else:\n",
    "        freedom = True\n",
    "        print(\"The snail is free from the hole on day: \",days)"
   ]
  },
  {
   "cell_type": "markdown",
   "metadata": {},
   "source": [
    "## Bonus\n",
    "The distance traveled by the snail each day is now defined by a list.\n",
    "```\n",
    "advance_cm = [30, 21, 33, 77, 44, 45, 23, 45, 12, 34, 55]\n",
    "```\n",
    "On the first day, the snail rises 30cm but during the night it slides 20cm. On the second day, the snail rises 21cm but during the night it slides 20cm, and so on. \n",
    "\n",
    "#### 1. How many days does it take for the snail to escape the well?\n",
    "Follow the same guidelines as in the previous challenge.\n",
    "\n",
    "**Hint**: Remember that the snail gets out of the well when it surpasses the 125cm of height."
   ]
  },
  {
   "cell_type": "code",
   "execution_count": 59,
   "metadata": {},
   "outputs": [
    {
     "name": "stdout",
     "output_type": "stream",
     "text": [
      "day:  0 ; snail_position : 0  cm\n",
      "day:  1 ; snail_position : 10  cm\n",
      "day:  2 ; snail_position : 11  cm\n",
      "day:  3 ; snail_position : 24  cm\n",
      "day:  4 ; snail_position : 81  cm\n",
      "day:  5 ; snail_position : 105  cm\n",
      "day:  6 ; snail_position : 150  cm\n",
      "Freedom : True\n",
      "The snail is free on  day:  6\n"
     ]
    }
   ],
   "source": [
    "freedom = False\n",
    "days=0\n",
    "height_reached = 0\n",
    "well_height = 125\n",
    "snail_position = 0\n",
    "nightly_distance = 20\n",
    "advance_cm = [30, 21, 33, 77, 44, 45, 23, 45, 12, 34, 55]\n",
    "print(\"day: \",days,\"; snail_position :\",snail_position, \" cm\")\n",
    "\n",
    "while freedom == False:\n",
    "    snail_position += advance_cm[days]\n",
    "    days += 1\n",
    "    if snail_position <= well_height:\n",
    "        snail_position -= nightly_distance\n",
    "        print(\"day: \",days,\"; snail_position :\",snail_position, \" cm\")        \n",
    "    else:\n",
    "        freedom = True\n",
    "        print(\"day: \",days,\"; snail_position :\",snail_position, \" cm\")\n",
    "        print(\"Freedom :\",freedom)\n",
    "        print(\"The snail is free on  day: \",days)"
   ]
  },
  {
   "cell_type": "markdown",
   "metadata": {},
   "source": [
    "#### 2. What is its maximum displacement in one day? And its minimum? Calculate the displacement using only the travel distance of the days used to get out of the well. \n",
    "**Hint**: Remember that displacement means the total distance risen taking into account that the snail slides at night.  "
   ]
  },
  {
   "cell_type": "code",
   "execution_count": 69,
   "metadata": {},
   "outputs": [
    {
     "name": "stdout",
     "output_type": "stream",
     "text": [
      "minimum daily displacement = -8\n",
      "maximum daily displacement = 57\n"
     ]
    }
   ],
   "source": [
    "displacement=[]\n",
    "for i in advance_cm:\n",
    "    disp = i-20\n",
    "    displacement.append(disp)\n",
    "\n",
    "print(\"minimum daily displacement =\", min(displacement))\n",
    "print(\"maximum daily displacement =\", max(displacement))"
   ]
  },
  {
   "cell_type": "markdown",
   "metadata": {},
   "source": [
    "#### 3. What is its average progress? Take into account the snail slides at night."
   ]
  },
  {
   "cell_type": "code",
   "execution_count": 77,
   "metadata": {},
   "outputs": [
    {
     "name": "stdout",
     "output_type": "stream",
     "text": [
      "Average daily progress:  18.09  cm\n"
     ]
    }
   ],
   "source": [
    "progress=[]\n",
    "for i in advance_cm:\n",
    "    prog = i-20\n",
    "    progress.append(prog)\n",
    "print(\"Average daily progress: \",round(sum(progress)/len(progress),2),\" cm\")"
   ]
  },
  {
   "cell_type": "markdown",
   "metadata": {},
   "source": [
    "#### 4. What is the standard deviation of its displacement? Take into account the snail slides at night."
   ]
  },
  {
   "cell_type": "code",
   "execution_count": 107,
   "metadata": {},
   "outputs": [
    {
     "name": "stdout",
     "output_type": "stream",
     "text": [
      "The standard deviation of the daily progress is:  17.16\n"
     ]
    }
   ],
   "source": [
    "progress=[]\n",
    "\n",
    "for i in advance_cm:\n",
    "    prog = i-20\n",
    "    progress.append(prog)\n",
    "\n",
    "progress_mean = sum(progress)/len(progress)\n",
    "sqr_distance_to_mean_list = []\n",
    "\n",
    "for i in progress:\n",
    "    sqr_distance_to_mean = (i-progress_mean)**2\n",
    "    sqr_distance_to_mean_list.append(sqr_distance_to_mean)\n",
    "\n",
    "standard_deviation = ((sum(sqr_distance_to_mean_list)/len(sqr_distance_to_mean_list))**(1/2))\n",
    "\n",
    "print(\"The standard deviation of the daily progress is: \",round(standard_deviation,2),\" cm\")"
   ]
  },
  {
   "cell_type": "code",
   "execution_count": 109,
   "metadata": {},
   "outputs": [
    {
     "name": "stdout",
     "output_type": "stream",
     "text": [
      "The standard deviation of the daily progress with numpy is:  17.16  cm\n"
     ]
    }
   ],
   "source": [
    "# Alternatively with numpy\n",
    "\n",
    "import numpy as np\n",
    "\n",
    "progress=[]\n",
    "\n",
    "for i in advance_cm:\n",
    "    prog = i-20\n",
    "    progress.append(prog)\n",
    "print(\"The standard deviation of the daily progress with numpy is: \",round(np.std(progress),2),\" cm\")"
   ]
  },
  {
   "cell_type": "code",
   "execution_count": null,
   "metadata": {},
   "outputs": [],
   "source": []
  }
 ],
 "metadata": {
  "kernelspec": {
   "display_name": "Python 3",
   "language": "python",
   "name": "python3"
  },
  "language_info": {
   "codemirror_mode": {
    "name": "ipython",
    "version": 3
   },
   "file_extension": ".py",
   "mimetype": "text/x-python",
   "name": "python",
   "nbconvert_exporter": "python",
   "pygments_lexer": "ipython3",
   "version": "3.8.5"
  }
 },
 "nbformat": 4,
 "nbformat_minor": 2
}
