{
 "cells": [
  {
   "cell_type": "markdown",
   "metadata": {},
   "source": [
    "<img src=\"https://bit.ly/2VnXWr2\" width=\"100\" align=\"left\">"
   ]
  },
  {
   "cell_type": "markdown",
   "metadata": {},
   "source": [
    "# The Snail and the Well\n",
    "\n",
    "A snail falls at the bottom of a 125 cm well. Each day the snail rises 30 cm. But at night, while sleeping, slides 20 cm because the walls are wet. How many days does it take for the snail to escape the well?\n",
    "\n",
    "**Hint**: The snail gets out of the well when it surpasses the 125cm of height.\n",
    "\n",
    "## Tools\n",
    "\n",
    "1. Loop: **while**\n",
    "2. Conditional statements: **if-else**\n",
    "3. Function: **print()**\n",
    "\n",
    "## Tasks\n",
    "\n",
    "#### 1. Assign the challenge data to variables with representative names: `well_height`, `daily_distance`, `nightly_distance` and `snail_position`."
   ]
  },
  {
   "cell_type": "code",
   "execution_count": 7,
   "metadata": {},
   "outputs": [],
   "source": [
    "well_height=125\n",
    "daily_distance=30\n",
    "nightly_distance=-20\n",
    "snail_position=0"
   ]
  },
  {
   "cell_type": "markdown",
   "metadata": {},
   "source": [
    "#### 2. Create a variable `days` to keep count of the days that pass until the snail escapes the well. "
   ]
  },
  {
   "cell_type": "code",
   "execution_count": 8,
   "metadata": {},
   "outputs": [],
   "source": [
    "days=0"
   ]
  },
  {
   "cell_type": "markdown",
   "metadata": {},
   "source": [
    "#### 3. Find the solution to the challenge using the variables defined above. "
   ]
  },
  {
   "cell_type": "code",
   "execution_count": 9,
   "metadata": {},
   "outputs": [
    {
     "name": "stdout",
     "output_type": "stream",
     "text": [
      "day 1\n",
      "day 2\n",
      "day 3\n",
      "day 4\n",
      "day 5\n",
      "day 6\n",
      "day 7\n",
      "day 8\n",
      "day 9\n",
      "day 10\n",
      "day 11\n",
      "day 12\n",
      "day 13\n"
     ]
    }
   ],
   "source": [
    "advance=daily_distance+nightly_distance\n",
    "\n",
    "if snail_position<well_height:\n",
    "    \n",
    " while snail_position < well_height:\n",
    "     snail_position+=advance\n",
    "     days+=1\n",
    "     print(\"day\", days)\n",
    "        \n",
    "else:\n",
    "    print(\"Something's wrong\")\n"
   ]
  },
  {
   "cell_type": "markdown",
   "metadata": {},
   "source": [
    "#### 4. Print the solution."
   ]
  },
  {
   "cell_type": "code",
   "execution_count": 10,
   "metadata": {},
   "outputs": [
    {
     "name": "stdout",
     "output_type": "stream",
     "text": [
      "the snail came out after 13 days\n"
     ]
    }
   ],
   "source": [
    "print(\"the snail came out after\",days,\"days\")"
   ]
  },
  {
   "cell_type": "markdown",
   "metadata": {},
   "source": [
    "## Bonus\n",
    "The distance traveled by the snail each day is now defined by a list.\n",
    "```\n",
    "advance_cm = [30, 21, 33, 77, 44, 45, 23, 45, 12, 34, 55]\n",
    "```\n",
    "On the first day, the snail rises 30cm but during the night it slides 20cm. On the second day, the snail rises 21cm but during the night it slides 20cm, and so on. \n",
    "\n",
    "#### 1. How many days does it take for the snail to escape the well?\n",
    "Follow the same guidelines as in the previous challenge.\n",
    "\n",
    "**Hint**: Remember that the snail gets out of the well when it surpasses the 125cm of height."
   ]
  },
  {
   "cell_type": "code",
   "execution_count": 11,
   "metadata": {},
   "outputs": [
    {
     "name": "stdout",
     "output_type": "stream",
     "text": [
      "The total distance advanced per day is show in the table: [10, 1, 13, 57, 24, 25, 3, 25, -8, 14, 35]\n",
      "At the day 1 the snail has advanced 10 cm.\n",
      "At the day 2 the snail has advanced 11 cm.\n",
      "At the day 3 the snail has advanced 24 cm.\n",
      "At the day 4 the snail has advanced 81 cm.\n",
      "At the day 5 the snail has advanced 105 cm.\n",
      "At the day 6 the snail has advanced 130 cm.\n",
      "The snail came out the day 6\n"
     ]
    }
   ],
   "source": [
    "advance_cm = [30, 21, 33, 77, 44, 45, 23, 45, 12, 34, 55]\n",
    "efecadva= []\n",
    "distance=0\n",
    "days2=0\n",
    "g=0\n",
    "\n",
    "for i in advance_cm:\n",
    "    \n",
    "    advance= i-20\n",
    "    efecadva.append(advance)\n",
    "print (\"The total distance advanced per day is show in the table:\", efecadva)\n",
    "\n",
    "while distance<125:\n",
    "    distance+=efecadva[g]\n",
    "    g+=1\n",
    "    days2+=1\n",
    "    print(\"At the day\",days2,\"the snail has advanced\",distance,\"cm.\")\n",
    "\n",
    "print(\"The snail came out the day\", days2)\n"
   ]
  },
  {
   "cell_type": "markdown",
   "metadata": {},
   "source": [
    "#### 2. What is its maximum displacement in one day? And its minimum? Calculate the displacement using only the travel distance of the days used to get out of the well. \n",
    "**Hint**: Remember that displacement means the total distance risen taking into account that the snail slides at night.  "
   ]
  },
  {
   "cell_type": "code",
   "execution_count": 12,
   "metadata": {},
   "outputs": [
    {
     "name": "stdout",
     "output_type": "stream",
     "text": [
      "The maximum advance is:  57\n",
      "The maximum advance is:  -8\n"
     ]
    }
   ],
   "source": [
    "print(\"The maximum advance is: \", max (efecadva))\n",
    "print(\"The maximum advance is: \", min (efecadva))"
   ]
  },
  {
   "cell_type": "markdown",
   "metadata": {},
   "source": [
    "#### 3. What is its average progress? Take into account the snail slides at night."
   ]
  },
  {
   "cell_type": "code",
   "execution_count": 13,
   "metadata": {},
   "outputs": [
    {
     "name": "stdout",
     "output_type": "stream",
     "text": [
      "The standard deviation is:  18.09090909090909\n"
     ]
    }
   ],
   "source": [
    "print(\"The standard deviation is: \", sum (efecadva)/len(efecadva))"
   ]
  },
  {
   "cell_type": "markdown",
   "metadata": {},
   "source": [
    "#### 4. What is the standard deviation of its displacement? Take into account the snail slides at night."
   ]
  },
  {
   "cell_type": "code",
   "execution_count": 15,
   "metadata": {},
   "outputs": [
    {
     "name": "stdout",
     "output_type": "stream",
     "text": [
      "The standard deviation is 17.996969441850734\n"
     ]
    }
   ],
   "source": [
    "import statistics as st\n",
    "\n",
    "print(\"The standard deviation is\",st.stdev(efecadva))"
   ]
  },
  {
   "cell_type": "code",
   "execution_count": null,
   "metadata": {},
   "outputs": [],
   "source": []
  }
 ],
 "metadata": {
  "kernelspec": {
   "display_name": "Python 3",
   "language": "python",
   "name": "python3"
  },
  "language_info": {
   "codemirror_mode": {
    "name": "ipython",
    "version": 3
   },
   "file_extension": ".py",
   "mimetype": "text/x-python",
   "name": "python",
   "nbconvert_exporter": "python",
   "pygments_lexer": "ipython3",
   "version": "3.9.2"
  }
 },
 "nbformat": 4,
 "nbformat_minor": 2
}
