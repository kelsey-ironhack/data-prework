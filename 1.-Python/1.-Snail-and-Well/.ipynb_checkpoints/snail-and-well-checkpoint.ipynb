{
 "cells": [
  {
   "cell_type": "markdown",
   "metadata": {},
   "source": [
    "#### <img src=\"https://bit.ly/2VnXWr2\" width=\"100\" align=\"left\">"
   ]
  },
  {
   "cell_type": "markdown",
   "metadata": {},
   "source": [
    "# The Snail and the Well\n",
    "\n",
    "A snail falls at the bottom of a 125 cm well. Each day the snail rises 30 cm. But at night, while sleeping, slides 20 cm because the walls are wet. How many days does it take for the snail to escape the well?\n",
    "\n",
    "**Hint**: The snail gets out of the well when it surpasses the 125cm of height.\n",
    "\n",
    "## Tools\n",
    "\n",
    "1. Loop: **while**\n",
    "2. Conditional statements: **if-else**\n",
    "3. Function: **print()**\n",
    "\n",
    "## Tasks\n",
    "\n",
    "#### 1. Assign the challenge data to variables with representative names: `well_height`, `daily_distance`, `nightly_distance` and `snail_position`."
   ]
  },
  {
   "cell_type": "code",
   "execution_count": 8,
   "metadata": {},
   "outputs": [],
   "source": [
    "well_height = 125\n",
    "daily_distance = 30\n",
    "nightly_distance = 20\n",
    "snail_position = 0\n"
   ]
  },
  {
   "cell_type": "markdown",
   "metadata": {},
   "source": [
    "#### 2. Create a variable `days` to keep count of the days that pass until the snail escapes the well. "
   ]
  },
  {
   "cell_type": "code",
   "execution_count": 9,
   "metadata": {},
   "outputs": [],
   "source": [
    "#dia = (sol/2) + (estrela/2)\n",
    "#sol = 0\n",
    "#estrela = 0\n",
    "days = 0\n",
    "\n",
    "#Why does the result for dia in exercise 4 goes 0 if the order I place the varibles\n",
    "#here is diferente. like:\n",
    "#sol = 0\n",
    "#estrela = 0\n",
    "#days = 0\n",
    "#dia = (sol/2) + (estrela/2)"
   ]
  },
  {
   "cell_type": "markdown",
   "metadata": {},
   "source": [
    "#### 3. Find the solution to the challenge using the variables defined above. "
   ]
  },
  {
   "cell_type": "code",
   "execution_count": 10,
   "metadata": {},
   "outputs": [],
   "source": [
    "while snail_position <= well_height:\n",
    "    if snail_position + daily_distance >= well_height:\n",
    "        days += 1\n",
    "        break\n",
    "    else: \n",
    "        snail_position = snail_position + daily_distance - nightly_distance\n",
    "    days += 1\n",
    "\n",
    "#while snail_position <= well_height:\n",
    "    #if snail_position + daily_distance >= well_height:\n",
    "        #sol += 1\n",
    "        #break\n",
    "    #else:\n",
    "        #snail_position = snail_position + daily_distance - nightly_distance \n",
    "    #estrela += 1\n",
    "    #sol += 1\n"
   ]
  },
  {
   "cell_type": "markdown",
   "metadata": {},
   "source": [
    "#### 4. Print the solution."
   ]
  },
  {
   "cell_type": "code",
   "execution_count": 11,
   "metadata": {},
   "outputs": [
    {
     "name": "stdout",
     "output_type": "stream",
     "text": [
      "11\n"
     ]
    }
   ],
   "source": [
    "print(days)\n",
    "#print(dia)"
   ]
  },
  {
   "cell_type": "markdown",
   "metadata": {},
   "source": [
    "## Bonus\n",
    "The distance traveled by the snail each day is now defined by a list.\n",
    "```\n",
    "advance_cm = [30, 21, 33, 77, 44, 45, 23, 45, 12, 34, 55]\n",
    "```\n",
    "On the first day, the snail rises 30cm but during the night it slides 20cm. On the second day, the snail rises 21cm but during the night it slides 20cm, and so on. \n",
    "\n",
    "#### 1. How many days does it take for the snail to escape the well?\n",
    "Follow the same guidelines as in the previous challenge.\n",
    "\n",
    "**Hint**: Remember that the snail gets out of the well when it surpasses the 125cm of height."
   ]
  },
  {
   "cell_type": "code",
   "execution_count": 238,
   "metadata": {},
   "outputs": [
    {
     "name": "stdout",
     "output_type": "stream",
     "text": [
      "5\n"
     ]
    }
   ],
   "source": [
    "days_1 = 0\n",
    "snail_position_2 = 0\n",
    "\n",
    "advance_cm = [30, 21, 33, 77, 44, 45, 23, 45, 12, 34, 55]\n",
    "#while snail_position_2 <= well_height:\n",
    "for position in advance_cm:\n",
    "    if snail_position_2 + position >= well_height:\n",
    "        days_1 += 1\n",
    "        break\n",
    "    elif snail_position_2 <= well_height:\n",
    "        snail_position_2 += position\n",
    "        snail_position_2 -= nightly_distance\n",
    "        days_1 += 1\n",
    "\n",
    "print(days_1)"
   ]
  },
  {
   "cell_type": "markdown",
   "metadata": {},
   "source": [
    "#### 2. What is its maximum displacement in one day? And its minimum? Calculate the displacement using only the travel distance of the days used to get out of the well. \n",
    "**Hint**: Remember that displacement means the total distance risen taking into account that the snail slides at night.  "
   ]
  },
  {
   "cell_type": "code",
   "execution_count": 12,
   "metadata": {},
   "outputs": [
    {
     "name": "stdout",
     "output_type": "stream",
     "text": [
      "The list of displacementes is: \n",
      " [10, 1, 13, 57, 24, 25, 3, 25, -8, 14, 35]\n",
      "\n",
      "\n",
      "The max displacmente is: 57\n",
      "\n",
      "\n",
      "The min displacmente is: -8\n"
     ]
    }
   ],
   "source": [
    "advance_cm = [30, 21, 33, 77, 44, 45, 23, 45, 12, 34, 55]\n",
    "displacementes = []\n",
    "for i in advance_cm:\n",
    "    displacemente = i - nightly_distance\n",
    "    displacementes.append(displacemente)\n",
    "\n",
    "print(\"The list of displacementes is: \\n\",displacementes)\n",
    "print(\"\\n\") \n",
    "      \n",
    "max_displacemente = max(displacementes)\n",
    "min_displacemente = min(displacementes)\n",
    "\n",
    "print(\"The max displacmente is:\", max_displacemente)\n",
    "print(\"\\n\")\n",
    "print(\"The min displacmente is:\", min_displacemente)"
   ]
  },
  {
   "cell_type": "markdown",
   "metadata": {},
   "source": [
    "#### 3. What is its average progress? Take into account the snail slides at night."
   ]
  },
  {
   "cell_type": "code",
   "execution_count": 33,
   "metadata": {},
   "outputs": [
    {
     "name": "stdout",
     "output_type": "stream",
     "text": [
      "18.09090909090909\n"
     ]
    }
   ],
   "source": [
    "avg_progress = sum(displacementes)/ len(displacementes)\n",
    "print(avg_progress)"
   ]
  },
  {
   "cell_type": "markdown",
   "metadata": {},
   "source": [
    "#### 4. What is the standard deviation of its displacement? Take into account the snail slides at night."
   ]
  },
  {
   "cell_type": "code",
   "execution_count": 40,
   "metadata": {},
   "outputs": [
    {
     "name": "stdout",
     "output_type": "stream",
     "text": [
      "[10, 1, 13, 57, 24, 25, 3, 25, -8, 14, 35]\n",
      "\n",
      "\n",
      "[65.46280991735536, 292.09917355371897, 25.91735537190082, 1513.9173553719006, 34.91735537190084, 47.73553719008266, 227.73553719008262, 47.73553719008266, 680.7355371900826, 16.73553719008264, 285.91735537190084]\n",
      "\n",
      "\n",
      "17.996969441850734\n"
     ]
    }
   ],
   "source": [
    "print(displacementes)\n",
    "print(\"\\n\")\n",
    "\n",
    "\n",
    "numerator = 0\n",
    "new_list = []\n",
    "for dis in displacementes:\n",
    "    num = (dis - avg_progress)**2\n",
    "    new_list.append(num)\n",
    "    numerator += num\n",
    "\n",
    "print(new_list)\n",
    "\n",
    "std = ((numerator)/(len(displacementes) -1)) **(1/2)\n",
    "print(\"\\n\")\n",
    "print(std)"
   ]
  },
  {
   "cell_type": "code",
   "execution_count": null,
   "metadata": {},
   "outputs": [],
   "source": []
  }
 ],
 "metadata": {
  "kernelspec": {
   "display_name": "Python 3",
   "language": "python",
   "name": "python3"
  },
  "language_info": {
   "codemirror_mode": {
    "name": "ipython",
    "version": 3
   },
   "file_extension": ".py",
   "mimetype": "text/x-python",
   "name": "python",
   "nbconvert_exporter": "python",
   "pygments_lexer": "ipython3",
   "version": "3.7.6"
  }
 },
 "nbformat": 4,
 "nbformat_minor": 2
}
