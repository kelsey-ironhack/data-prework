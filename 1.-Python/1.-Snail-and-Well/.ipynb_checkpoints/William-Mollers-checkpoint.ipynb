{
 "cells": [
  {
   "cell_type": "markdown",
   "metadata": {},
   "source": [
    "<img src=\"https://bit.ly/2VnXWr2\" width=\"100\" align=\"left\">"
   ]
  },
  {
   "cell_type": "markdown",
   "metadata": {},
   "source": [
    "# The Snail and the Well\n",
    "\n",
    "A snail falls at the bottom of a 125 cm well. Each day the snail rises 30 cm. But at night, while sleeping, slides 20 cm because the walls are wet. How many days does it take for the snail to escape the well?\n",
    "\n",
    "**Hint**: The snail gets out of the well when it surpasses the 125cm of height.\n",
    "\n",
    "## Tools\n",
    "\n",
    "1. Loop: **while**\n",
    "2. Conditional statements: **if-else**\n",
    "3. Function: **print()**\n",
    "\n",
    "## Tasks\n",
    "\n",
    "#### 1. Assign the challenge data to variables with representative names: `well_height`, `daily_distance`, `nightly_distance` and `snail_position`."
   ]
  },
  {
   "cell_type": "code",
   "execution_count": 33,
   "metadata": {},
   "outputs": [],
   "source": [
    "well_height = 125\n",
    "daily_distance = 30\n",
    "nightly_distance = 20\n",
    "snail_position = 0"
   ]
  },
  {
   "cell_type": "markdown",
   "metadata": {},
   "source": [
    "#### 2. Create a variable `days` to keep count of the days that pass until the snail escapes the well. "
   ]
  },
  {
   "cell_type": "code",
   "execution_count": 34,
   "metadata": {},
   "outputs": [],
   "source": [
    "days = 0"
   ]
  },
  {
   "cell_type": "markdown",
   "metadata": {},
   "source": [
    "#### 3. Find the solution to the challenge using the variables defined above. "
   ]
  },
  {
   "cell_type": "code",
   "execution_count": 35,
   "metadata": {},
   "outputs": [
    {
     "name": "stdout",
     "output_type": "stream",
     "text": [
      "The snail is not out of the well yet.\n",
      "The snail is not out of the well yet.\n",
      "The snail is not out of the well yet.\n",
      "The snail is not out of the well yet.\n",
      "The snail is not out of the well yet.\n",
      "The snail is not out of the well yet.\n",
      "The snail is not out of the well yet.\n",
      "The snail is not out of the well yet.\n",
      "The snail is not out of the well yet.\n",
      "The snail is not out of the well yet.\n",
      "The snail is not out of the well yet.\n",
      "The snail is not out of the well yet.\n",
      "The snail is free!\n"
     ]
    }
   ],
   "source": [
    "snail_position += daily_distance - nightly_distance\n",
    "\n",
    "while snail_position < well_height:\n",
    "    print(\"The snail is not out of the well yet.\")\n",
    "    snail_position += daily_distance - nightly_distance\n",
    "    days += 1\n",
    "\n",
    "print(\"The snail is free!\")\n",
    "        \n",
    "        "
   ]
  },
  {
   "cell_type": "markdown",
   "metadata": {},
   "source": [
    "#### 4. Print the solution."
   ]
  },
  {
   "cell_type": "code",
   "execution_count": 36,
   "metadata": {},
   "outputs": [
    {
     "name": "stdout",
     "output_type": "stream",
     "text": [
      "The total number of days it took the snail to be free was: 12\n"
     ]
    }
   ],
   "source": [
    "print(\"The total number of days it took the snail to be free was:\", days)"
   ]
  },
  {
   "cell_type": "markdown",
   "metadata": {},
   "source": [
    "## Bonus\n",
    "The distance traveled by the snail each day is now defined by a list.\n",
    "```\n",
    "advance_cm = [30, 21, 33, 77, 44, 45, 23, 45, 12, 34, 55]\n",
    "```\n",
    "On the first day, the snail rises 30cm but during the night it slides 20cm. On the second day, the snail rises 21cm but during the night it slides 20cm, and so on. \n",
    "\n",
    "#### 1. How many days does it take for the snail to escape the well?\n",
    "Follow the same guidelines as in the previous challenge.\n",
    "\n",
    "**Hint**: Remember that the snail gets out of the well when it surpasses the 125cm of height."
   ]
  },
  {
   "cell_type": "code",
   "execution_count": 38,
   "metadata": {},
   "outputs": [
    {
     "name": "stdout",
     "output_type": "stream",
     "text": [
      "The snail is not out of the well yet.\n",
      "The snail is not out of the well yet.\n",
      "The snail is not out of the well yet.\n",
      "The snail is not out of the well yet.\n",
      "The snail is not out of the well yet.\n",
      "The snail is free!\n",
      "The total number of days it took the snail to be free was: 6\n"
     ]
    }
   ],
   "source": [
    "advance_cm = [30, 21, 33, 77, 44, 45, 23, 45, 12, 34, 55]\n",
    "well_height = 125\n",
    "nightly_distance = 20\n",
    "snail_position = 0\n",
    "days = 0 \n",
    "\n",
    "\n",
    "for y in advance_cm:\n",
    "    snail_position += y - nightly_distance \n",
    "    days += 1\n",
    "    \n",
    "    if snail_position < well_height:\n",
    "        print(\"The snail is not out of the well yet.\")\n",
    "        \n",
    "    else:\n",
    "        break \n",
    "\n",
    "print(\"The snail is free!\")\n",
    "print(\"The total number of days it took the snail to be free was:\", days)"
   ]
  },
  {
   "cell_type": "markdown",
   "metadata": {},
   "source": [
    "#### 2. What is its maximum displacement in one day? And its minimum? Calculate the displacement using only the travel distance of the days used to get out of the well. \n",
    "**Hint**: Remember that displacement means the total distance risen taking into account that the snail slides at night.  "
   ]
  },
  {
   "cell_type": "code",
   "execution_count": 47,
   "metadata": {},
   "outputs": [
    {
     "name": "stdout",
     "output_type": "stream",
     "text": [
      "The snail is not out of the well yet.\n",
      "The snail is not out of the well yet.\n",
      "The snail is not out of the well yet.\n",
      "The snail is not out of the well yet.\n",
      "The snail is not out of the well yet.\n",
      "[10, 1, 13, 57, 24, 25]\n",
      "The minimum displacement is: 1\n",
      "The maximum displacement is: 57\n"
     ]
    }
   ],
   "source": [
    "advance_cm = [30, 21, 33, 77, 44, 45, 23, 45, 12, 34, 55]\n",
    "well_height = 125\n",
    "nightly_distance = 20\n",
    "snail_position = 0\n",
    "\n",
    "days = 0 \n",
    "displacements = []\n",
    "\n",
    "for y in advance_cm:\n",
    "    displacement = y - nightly_distance \n",
    "    snail_position += displacement \n",
    "    displacements.append(displacement)\n",
    "    days += 1\n",
    "    \n",
    "    if snail_position < well_height:\n",
    "        print(\"The snail is not out of the well yet.\")\n",
    "        \n",
    "    else:\n",
    "        break \n",
    "\n",
    "print(displacements)\n",
    "\n",
    "print (\"The minimum displacement is:\", min(displacements))\n",
    "\n",
    "print (\"The maximum displacement is:\", max(displacements))"
   ]
  },
  {
   "cell_type": "markdown",
   "metadata": {},
   "source": [
    "#### 3. What is its average progress? Take into account the snail slides at night."
   ]
  },
  {
   "cell_type": "code",
   "execution_count": 48,
   "metadata": {},
   "outputs": [
    {
     "data": {
      "text/plain": [
       "21.666666666666668"
      ]
     },
     "execution_count": 48,
     "metadata": {},
     "output_type": "execute_result"
    }
   ],
   "source": [
    "sum(displacements)/len(displacements)"
   ]
  },
  {
   "cell_type": "markdown",
   "metadata": {},
   "source": [
    "#### 4. What is the standard deviation of its displacement? Take into account the snail slides at night."
   ]
  },
  {
   "cell_type": "code",
   "execution_count": 51,
   "metadata": {},
   "outputs": [
    {
     "name": "stdout",
     "output_type": "stream",
     "text": [
      "The standard deviation of the displacements is: 17.81073334319006\n"
     ]
    }
   ],
   "source": [
    "import statistics \n",
    "stdvdisplacements = statistics.pstdev(displacements)\n",
    "\n",
    "print(\"The standard deviation of the displacements is:\", stdvdisplacements)"
   ]
  }
 ],
 "metadata": {
  "kernelspec": {
   "display_name": "Python 3",
   "language": "python",
   "name": "python3"
  },
  "language_info": {
   "codemirror_mode": {
    "name": "ipython",
    "version": 3
   },
   "file_extension": ".py",
   "mimetype": "text/x-python",
   "name": "python",
   "nbconvert_exporter": "python",
   "pygments_lexer": "ipython3",
   "version": "3.7.6"
  }
 },
 "nbformat": 4,
 "nbformat_minor": 2
}
