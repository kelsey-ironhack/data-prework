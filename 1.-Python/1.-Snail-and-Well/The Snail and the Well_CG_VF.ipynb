{
 "cells": [
  {
   "cell_type": "code",
   "execution_count": 20,
   "metadata": {
    "scrolled": true
   },
   "outputs": [
    {
     "name": "stdout",
     "output_type": "stream",
     "text": [
      "The snail is trying to escape.\n",
      "On day 0 the snail has reached 0 cms.\n",
      "On day 1 the snail has reached 10 cms.\n",
      "On day 2 the snail has reached 20 cms.\n",
      "On day 3 the snail has reached 30 cms.\n",
      "On day 4 the snail has reached 40 cms.\n",
      "On day 5 the snail has reached 50 cms.\n",
      "On day 6 the snail has reached 60 cms.\n",
      "On day 7 the snail has reached 70 cms.\n",
      "On day 8 the snail has reached 80 cms.\n",
      "On day 9 the snail has reached 90 cms.\n",
      "On day 10 the snail has reached 100 cms.\n",
      "On day 11 the snail has reached 110 cms.\n",
      "On day 12 the snail has reached 120 cms.\n",
      "The snail is out. It took it 13 days to escape the well.\n"
     ]
    }
   ],
   "source": [
    "well_height = 125\n",
    "daily_distance = 30\n",
    "nightly_distance = -20\n",
    "snail_position = 0\n",
    "days = 0\n",
    "\n",
    "if snail_position >=0:\n",
    " print (\"The snail is trying to escape.\")\n",
    "\n",
    " while snail_position <= well_height:\n",
    "  print (\"On day\", int(days), \"the snail has reached\", snail_position, \"cms.\")\n",
    "  snail_position += daily_distance + nightly_distance\n",
    "  days += 1\n",
    "\n",
    " print (\"The snail is out. It took it\", int(days), \"days to escape the well.\")\n",
    "    \n",
    "else:\n",
    "    print (\"The snail is not out yet.\")"
   ]
  },
  {
   "cell_type": "code",
   "execution_count": 67,
   "metadata": {},
   "outputs": [],
   "source": [
    "well_height = 125\n",
    "advance_cm = [30, 21, 33, 77, 44, 45, 23, 45, 12, 34, 55]\n",
    "nightly_distance = - 20\n",
    "days = 0\n",
    "snail_position = 0"
   ]
  },
  {
   "cell_type": "code",
   "execution_count": 68,
   "metadata": {},
   "outputs": [
    {
     "name": "stdout",
     "output_type": "stream",
     "text": [
      "On day 1 the snail has reached 10 cms.\n",
      "On day 2 the snail has reached 11 cms.\n",
      "On day 3 the snail has reached 24 cms.\n",
      "On day 4 the snail has reached 81 cms.\n",
      "On day 5 the snail has reached 105 cms.\n",
      "The snail is out. It took it 6 days to escape the well.\n",
      "The snail is out. It took it 7 days to escape the well.\n",
      "The snail is out. It took it 8 days to escape the well.\n",
      "The snail is out. It took it 9 days to escape the well.\n",
      "The snail is out. It took it 10 days to escape the well.\n",
      "The snail is out. It took it 11 days to escape the well.\n"
     ]
    }
   ],
   "source": [
    "for daily_distance in advance_cm:\n",
    "    snail_position += daily_distance + nightly_distance\n",
    "    days += 1\n",
    "    \n",
    "    if snail_position <= well_height:\n",
    "        print(\"On day\", int(days),\"the snail has reached\", snail_position, \"cms.\")\n",
    "    \n",
    "    else:\n",
    "        print(\"The snail is out. It took it\", int(days), \"days to escape the well.\")"
   ]
  },
  {
   "cell_type": "code",
   "execution_count": 85,
   "metadata": {},
   "outputs": [
    {
     "name": "stdout",
     "output_type": "stream",
     "text": [
      "10\n",
      "1\n",
      "13\n",
      "57\n",
      "24\n",
      "25\n"
     ]
    }
   ],
   "source": [
    "advance_cm = [30, 21, 33, 77, 44, 45]\n",
    "daily_distance = 0\n",
    "nightly_distance = -20\n",
    "\n",
    "for daily_distance in advance_cm:\n",
    "    daily_displacement = daily_distance + nightly_distance\n",
    "    print(daily_displacement)"
   ]
  },
  {
   "cell_type": "code",
   "execution_count": 2,
   "metadata": {},
   "outputs": [],
   "source": [
    "daily_displacement = [10, 1, 13, 57, 24, 25]"
   ]
  },
  {
   "cell_type": "code",
   "execution_count": 3,
   "metadata": {},
   "outputs": [
    {
     "data": {
      "text/plain": [
       "57"
      ]
     },
     "execution_count": 3,
     "metadata": {},
     "output_type": "execute_result"
    }
   ],
   "source": [
    "max(daily_displacement)"
   ]
  },
  {
   "cell_type": "code",
   "execution_count": 4,
   "metadata": {},
   "outputs": [
    {
     "name": "stdout",
     "output_type": "stream",
     "text": [
      "Maximum displacement in one day is 57 cms.\n"
     ]
    }
   ],
   "source": [
    "print(\"Maximum displacement in one day is\", max(daily_displacement), \"cms.\")"
   ]
  },
  {
   "cell_type": "code",
   "execution_count": 5,
   "metadata": {},
   "outputs": [
    {
     "data": {
      "text/plain": [
       "1"
      ]
     },
     "execution_count": 5,
     "metadata": {},
     "output_type": "execute_result"
    }
   ],
   "source": [
    "min(daily_displacement)"
   ]
  },
  {
   "cell_type": "code",
   "execution_count": 6,
   "metadata": {},
   "outputs": [
    {
     "name": "stdout",
     "output_type": "stream",
     "text": [
      "Minimum displacement in one day is 1 cm.\n"
     ]
    }
   ],
   "source": [
    "print(\"Minimum displacement in one day is\", min(daily_displacement), \"cm.\")"
   ]
  },
  {
   "cell_type": "code",
   "execution_count": 7,
   "metadata": {},
   "outputs": [],
   "source": [
    "avg_progress = sum(daily_displacement)/len(daily_displacement)"
   ]
  },
  {
   "cell_type": "code",
   "execution_count": 8,
   "metadata": {},
   "outputs": [
    {
     "name": "stdout",
     "output_type": "stream",
     "text": [
      "21\n"
     ]
    }
   ],
   "source": [
    "print(int(avg_progress))"
   ]
  },
  {
   "cell_type": "code",
   "execution_count": 16,
   "metadata": {},
   "outputs": [
    {
     "name": "stdout",
     "output_type": "stream",
     "text": [
      "The snail has an average progress of 21 cms per day.\n"
     ]
    }
   ],
   "source": [
    "print(\"The snail has an average progress of\", int(avg_progress), \"cms per day.\")"
   ]
  },
  {
   "cell_type": "code",
   "execution_count": 17,
   "metadata": {},
   "outputs": [
    {
     "data": {
      "text/plain": [
       "19.510680835549195"
      ]
     },
     "execution_count": 17,
     "metadata": {},
     "output_type": "execute_result"
    }
   ],
   "source": [
    "import statistics\n",
    "\n",
    "statistics.stdev(daily_displacement)"
   ]
  },
  {
   "cell_type": "code",
   "execution_count": 18,
   "metadata": {},
   "outputs": [
    {
     "name": "stdout",
     "output_type": "stream",
     "text": [
      "Its displacement has a standard deviation of 19 cms.\n"
     ]
    }
   ],
   "source": [
    "print(\"Its displacement has a standard deviation of\", int(statistics.stdev(daily_displacement)), \"cms.\")"
   ]
  },
  {
   "cell_type": "code",
   "execution_count": null,
   "metadata": {},
   "outputs": [],
   "source": []
  }
 ],
 "metadata": {
  "kernelspec": {
   "display_name": "Python 3",
   "language": "python",
   "name": "python3"
  },
  "language_info": {
   "codemirror_mode": {
    "name": "ipython",
    "version": 3
   },
   "file_extension": ".py",
   "mimetype": "text/x-python",
   "name": "python",
   "nbconvert_exporter": "python",
   "pygments_lexer": "ipython3",
   "version": "3.7.6"
  }
 },
 "nbformat": 4,
 "nbformat_minor": 4
}
