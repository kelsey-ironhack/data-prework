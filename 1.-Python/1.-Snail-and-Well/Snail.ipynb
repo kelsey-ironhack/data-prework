{
 "cells": [
  {
   "cell_type": "code",
   "execution_count": 72,
   "metadata": {},
   "outputs": [
    {
     "name": "stdout",
     "output_type": "stream",
     "text": [
      "Snail is at the bottom\n",
      "Snail is on the way\n",
      "Snail is on the way\n",
      "Snail is on the way\n",
      "Snail is on the way\n",
      "Snail is on the way\n",
      "Snail is on the way\n",
      "Snail is on the way\n",
      "Snail is on the way\n",
      "Snail is on the way\n",
      "Snail is on the way\n",
      "Snail is on the way\n",
      "Snail is on the way\n",
      "Snail is out\n",
      "10\n",
      "1\n",
      "13\n",
      "57\n",
      "24\n",
      "25\n",
      "3\n",
      "25\n",
      "-8\n",
      "14\n",
      "35\n",
      "57\n",
      "1\n",
      "18.09090909090909\n",
      "-11.661908339594287\n"
     ]
    }
   ],
   "source": [
    "#1 Assign data variables\n",
    "well_height = 125\n",
    "daily_distance = 30\n",
    "nightly_distance = -20 \n",
    "snail_position = 0\n",
    "total_distance = daily_distance + nightly_distance\n",
    "\n",
    "#2 Create variable days\n",
    "days = (well_height)/(total_distance)\n",
    "\n",
    "#3 Find the solution(s) & print\n",
    "print ('Snail is at the bottom')\n",
    "snail_position += total_distance\n",
    "\n",
    "while snail_position < well_height: \n",
    "    print ('Snail is on the way')\n",
    "    snail_position += total_distance\n",
    "\n",
    "print ('Snail is out')\n",
    "\n",
    "#BONUS\n",
    "advance_cm = [30, 21, 33, 77, 44, 45, 23, 45, 12, 34, 55]\n",
    "\n",
    "for i in advance_cm:\n",
    "    i = i - 20\n",
    "    print (i)\n",
    "        \n",
    "#How many days does it take the snail to escape the well?\n",
    "newlist= [10, 1, 13, 57, 24, 25, 3, 25, -8, 14, 35]\n",
    "sum (newlist [:6])\n",
    "\n",
    "#What are the maximum & minimum displacement in one day?\n",
    "#Calculate the displacemente using only the travel distance used to get out of the well\n",
    "maximum = max(newlist [:6])\n",
    "print(maximum)\n",
    "\n",
    "minimum= min(newlist [:6])\n",
    "print (minimum)\n",
    "\n",
    "#What its average progress?\n",
    "average= (sum(newlist))/(11)\n",
    "print(average)\n",
    "\n",
    "#What is the standard deviation of its displacement?\n",
    "deviation = (((sum(newlist)) - ((average)**2))/11)\n",
    "print(deviation)\n",
    "\n",
    "\n"
   ]
  },
  {
   "cell_type": "code",
   "execution_count": null,
   "metadata": {},
   "outputs": [],
   "source": []
  }
 ],
 "metadata": {
  "kernelspec": {
   "display_name": "Python 3",
   "language": "python",
   "name": "python3"
  },
  "language_info": {
   "codemirror_mode": {
    "name": "ipython",
    "version": 3
   },
   "file_extension": ".py",
   "mimetype": "text/x-python",
   "name": "python",
   "nbconvert_exporter": "python",
   "pygments_lexer": "ipython3",
   "version": "3.8.5"
  }
 },
 "nbformat": 4,
 "nbformat_minor": 4
}
