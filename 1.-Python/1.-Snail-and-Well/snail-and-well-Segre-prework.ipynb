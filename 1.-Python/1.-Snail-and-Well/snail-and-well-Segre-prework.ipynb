{
 "cells": [
  {
   "cell_type": "markdown",
   "metadata": {},
   "source": [
    "<img src=\"https://bit.ly/2VnXWr2\" width=\"100\" align=\"left\">"
   ]
  },
  {
   "cell_type": "markdown",
   "metadata": {},
   "source": [
    "# The Snail and the Well\n",
    "\n",
    "A snail falls at the bottom of a 125 cm well. Each day the snail rises 30 cm. But at night, while sleeping, slides 20 cm because the walls are wet. How many days does it take for the snail to escape the well?\n",
    "\n",
    "**Hint**: The snail gets out of the well when it surpasses the 125cm of height.\n",
    "\n",
    "## Tools\n",
    "\n",
    "1. Loop: **while**\n",
    "2. Conditional statements: **if-else**\n",
    "3. Function: **print()**\n",
    "\n",
    "## Tasks\n",
    "\n",
    "#### 1. Assign the challenge data to variables with representative names: `well_height`, `daily_distance`, `nightly_distance` and `snail_position`."
   ]
  },
  {
   "cell_type": "code",
   "execution_count": 2,
   "metadata": {},
   "outputs": [],
   "source": [
    "well_height = 125\n",
    "daily_distance = 30\n",
    "nightly_distance = 20\n",
    "snail_position = 0\n",
    "snail_not_escaped = True"
   ]
  },
  {
   "cell_type": "markdown",
   "metadata": {},
   "source": [
    "#### 2. Create a variable `days` to keep count of the days that pass until the snail escapes the well. "
   ]
  },
  {
   "cell_type": "code",
   "execution_count": 3,
   "metadata": {},
   "outputs": [],
   "source": [
    "days = 0"
   ]
  },
  {
   "cell_type": "markdown",
   "metadata": {},
   "source": [
    "#### 3. Find the solution to the challenge using the variables defined above. "
   ]
  },
  {
   "cell_type": "code",
   "execution_count": 4,
   "metadata": {},
   "outputs": [
    {
     "name": "stdout",
     "output_type": "stream",
     "text": [
      "Still Climbing!\n",
      "Still Climbing!\n",
      "Still Climbing!\n",
      "Still Climbing!\n",
      "Still Climbing!\n",
      "Still Climbing!\n",
      "Still Climbing!\n",
      "Still Climbing!\n",
      "Still Climbing!\n",
      "Still Climbing!\n",
      "Still Climbing!\n"
     ]
    }
   ],
   "source": [
    "while snail_position <= well_height:\n",
    "    print (\"Still Climbing!\")\n",
    "    \n",
    "    days = days + 1\n",
    "    snail_position = snail_position + daily_distance\n",
    "    if snail_position >= well_height:\n",
    "        snail_not_escaped = False\n",
    "        break\n",
    "    snail_position =  snail_position - nightly_distance"
   ]
  },
  {
   "cell_type": "markdown",
   "metadata": {},
   "source": [
    "#### 4. Print the solution."
   ]
  },
  {
   "cell_type": "code",
   "execution_count": 5,
   "metadata": {},
   "outputs": [
    {
     "name": "stdout",
     "output_type": "stream",
     "text": [
      "Our snail finally got out after  11\n"
     ]
    }
   ],
   "source": [
    "print(\"Our snail finally got out after \", days)"
   ]
  },
  {
   "cell_type": "markdown",
   "metadata": {},
   "source": [
    "## Bonus\n",
    "The distance traveled by the snail each day is now defined by a list.\n",
    "```\n",
    "advance_cm = [30, 21, 33, 77, 44, 45, 23, 45, 12, 34, 55]\n",
    "```\n",
    "On the first day, the snail rises 30cm but during the night it slides 20cm. On the second day, the snail rises 21cm but during the night it slides 20cm, and so on. \n",
    "\n",
    "#### 1. How many days does it take for the snail to escape the well?\n",
    "Follow the same guidelines as in the previous challenge.\n",
    "\n",
    "**Hint**: Remember that the snail gets out of the well when it surpasses the 125cm of height."
   ]
  },
  {
   "cell_type": "code",
   "execution_count": 6,
   "metadata": {},
   "outputs": [
    {
     "name": "stdout",
     "output_type": "stream",
     "text": [
      "Still Climbing!\n",
      "Still Climbing!\n",
      "Still Climbing!\n",
      "Still Climbing!\n",
      "Still Climbing!\n",
      "Our snail finally got out after  5\n"
     ]
    }
   ],
   "source": [
    "advance_cm = [30, 21, 33, 77, 44, 45, 23, 45, 12, 34, 55]\n",
    "well_height = 125\n",
    "nightly_distance = 20\n",
    "snail_position = 0\n",
    "days = 0\n",
    "snail_not_escaped = True\n",
    "\n",
    "while snail_position <= well_height:\n",
    "    snail_position = (advance_cm[days]) + snail_position\n",
    "    days += 1\n",
    "    print (\"Still Climbing!\")\n",
    "    if snail_position >= well_height:\n",
    "        snail_not_escaped = False\n",
    "        break\n",
    "    snail_position = snail_position - nightly_distance\n",
    "print(\"Our snail finally got out after \", days)"
   ]
  },
  {
   "cell_type": "markdown",
   "metadata": {},
   "source": [
    "#### 2. What is its maximum displacement in one day? And its minimum? Calculate the displacement using only the travel distance of the days used to get out of the well. \n",
    "**Hint**: Remember that displacement means the total distance risen taking into account that the snail slides at night.  "
   ]
  },
  {
   "cell_type": "code",
   "execution_count": 14,
   "metadata": {},
   "outputs": [
    {
     "name": "stdout",
     "output_type": "stream",
     "text": [
      "Calculating\n",
      "Calculating\n",
      "Calculating\n",
      "Calculating\n",
      "Calculating\n",
      "[30, 21, 33, 77, 44]\n",
      "77\n",
      "21\n"
     ]
    }
   ],
   "source": [
    "advance_cm = [30, 21, 33, 77, 44, 45, 23, 45, 12, 34, 55]\n",
    "well_height = 125\n",
    "nightly_distance = 20\n",
    "snail_position = 0\n",
    "days = 0\n",
    "snail_not_escaped = True\n",
    "lst=[]\n",
    "\n",
    "while snail_position <= well_height:\n",
    "    snail_position = (advance_cm[days]) + snail_position\n",
    "    lst.append(advance_cm[days])\n",
    "    print (\"Calculating\")\n",
    "    days += 1\n",
    "    if snail_position >= well_height:\n",
    "        snail_not_escaped = False\n",
    "        print (lst)\n",
    "        print (max(lst))\n",
    "        print (min(lst))\n",
    "        break\n",
    "    snail_position = snail_position - nightly_distance"
   ]
  },
  {
   "cell_type": "markdown",
   "metadata": {},
   "source": [
    "#### 3. What is its average progress? Take into account the snail slides at night."
   ]
  },
  {
   "cell_type": "code",
   "execution_count": 15,
   "metadata": {},
   "outputs": [
    {
     "name": "stdout",
     "output_type": "stream",
     "text": [
      "Calculating\n",
      "Calculating\n",
      "Calculating\n",
      "Calculating\n",
      "Calculating\n",
      "25.0\n"
     ]
    }
   ],
   "source": [
    "advance_cm = [30, 21, 33, 77, 44, 45, 23, 45, 12, 34, 55]\n",
    "well_height = 125\n",
    "nightly_distance = 20\n",
    "snail_position = 0\n",
    "days = 0\n",
    "snail_not_escaped = True\n",
    "lst=[]\n",
    "sum_lst=[]\n",
    "\n",
    "while snail_position <= well_height:\n",
    "    snail_position = (advance_cm[days]) + snail_position\n",
    "    lst.append(advance_cm[days])\n",
    "    days += 1\n",
    "    print (\"Calculating\")\n",
    "    if snail_position >= well_height:\n",
    "        snail_not_escaped = False\n",
    "        break\n",
    "    snail_position = snail_position - nightly_distance\n",
    "    sum_lst.append(snail_position)\n",
    "\n",
    "clear_progress = sum_lst[-1] + lst[-1]\n",
    "clearing_element = clear_progress - well_height\n",
    "sum_avrg = sum(lst) - (nightly_distance * len(sum_lst)) - clearing_element\n",
    "average = sum_avrg / len(lst)\n",
    "print (average)\n",
    "\n",
    "#we could have also simply taken the well_height and divided that by the number of days to get the progress performed to leave\n",
    "#I assumed it did not matter that the last may have a longer progress, and the calculation should just be stopped altogether once snail is out\n",
    "#in case we wanted to calculate full progress - leaving well AND move further away - then it should be different\n",
    "#also, I was not sure whether you wanted the average progress of days and nights, or simply days.\n",
    "#To calculate the average with night we could have probably used average = sum_avrg / (len(lst) + len(sum_lst))?"
   ]
  },
  {
   "cell_type": "markdown",
   "metadata": {},
   "source": [
    "#### 4. What is the standard deviation of its displacement? Take into account the snail slides at night."
   ]
  },
  {
   "cell_type": "code",
   "execution_count": 34,
   "metadata": {},
   "outputs": [
    {
     "name": "stdout",
     "output_type": "stream",
     "text": [
      "Calculating\n",
      "Calculating\n",
      "Calculating\n",
      "Calculating\n",
      "Calculating\n",
      "[30, 21, 33, 77, 44]\n",
      "28.151376520518493\n"
     ]
    }
   ],
   "source": [
    "#I have found the possibility using import statistics --> std_dev = statistics.stdev\n",
    "#However, I assumed you wanted us to get comfortable with calculations, thus performed them\n",
    "\n",
    "import math\n",
    "advance_cm = [30, 21, 33, 77, 44, 45, 23, 45, 12, 34, 55]\n",
    "well_height = 125\n",
    "nightly_distance = 20\n",
    "snail_position = 0\n",
    "days = 0\n",
    "snail_not_escaped = True\n",
    "lst=[]\n",
    "under_root=[]\n",
    "\n",
    "while snail_position <= well_height:\n",
    "    snail_position = (advance_cm[days]) + snail_position\n",
    "    lst.append(advance_cm[days])\n",
    "    days += 1\n",
    "    print (\"Calculating\")\n",
    "    if snail_position >= well_height:\n",
    "        snail_not_escaped = False\n",
    "        print (lst)\n",
    "        break\n",
    "    snail_position = snail_position - nightly_distance\n",
    "        \n",
    "average = well_height / len(lst) #simplified version of daily progress with 5 days and 125 cm well\n",
    "\n",
    "for i in lst: #split the two calculations, elements of sommatory\n",
    "    i = (i - average)**2\n",
    "    under_root.append(i)\n",
    "\n",
    "total_under_root = sum(under_root)/(len(under_root)-1) #sum divided elements in list -1\n",
    "SD = math.sqrt(total_under_root) #final square root to obtain standard deviation\n",
    "    \n",
    "print (SD)"
   ]
  },
  {
   "cell_type": "code",
   "execution_count": null,
   "metadata": {},
   "outputs": [],
   "source": []
  },
  {
   "cell_type": "code",
   "execution_count": null,
   "metadata": {},
   "outputs": [],
   "source": []
  },
  {
   "cell_type": "code",
   "execution_count": null,
   "metadata": {},
   "outputs": [],
   "source": []
  }
 ],
 "metadata": {
  "kernelspec": {
   "display_name": "Python 3",
   "language": "python",
   "name": "python3"
  },
  "language_info": {
   "codemirror_mode": {
    "name": "ipython",
    "version": 3
   },
   "file_extension": ".py",
   "mimetype": "text/x-python",
   "name": "python",
   "nbconvert_exporter": "python",
   "pygments_lexer": "ipython3",
   "version": "3.8.5"
  }
 },
 "nbformat": 4,
 "nbformat_minor": 2
}
