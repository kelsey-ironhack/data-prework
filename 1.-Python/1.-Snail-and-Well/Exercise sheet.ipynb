{
 "cells": [
  {
   "cell_type": "code",
   "execution_count": 20,
   "metadata": {
    "scrolled": true
   },
   "outputs": [
    {
     "name": "stdout",
     "output_type": "stream",
     "text": [
      "11\n"
     ]
    }
   ],
   "source": [
    "well_height = 125\n",
    "daily_distance = 30\n",
    "nightly_distance = 20\n",
    "snail_position = 30\n",
    "days = 1\n",
    "\n",
    "while snail_position < well_height:\n",
    "    snail_position = snail_position - nightly_distance + daily_distance\n",
    "    days += 1\n",
    "print(days)"
   ]
  },
  {
   "cell_type": "code",
   "execution_count": 21,
   "metadata": {},
   "outputs": [
    {
     "name": "stdout",
     "output_type": "stream",
     "text": [
      "5\n"
     ]
    }
   ],
   "source": [
    "well_height = 125\n",
    "advance_cm = [30, 21, 33, 77, 44, 45, 23, 45, 12, 34, 55]\n",
    "nightly_distance = 20\n",
    "snail_position = 30\n",
    "days = 1\n",
    "\n",
    "while snail_position < well_height:\n",
    "    snail_position = snail_position - nightly_distance + advance_cm[days]\n",
    "    days += 1\n",
    "print(days)"
   ]
  },
  {
   "cell_type": "code",
   "execution_count": 49,
   "metadata": {},
   "outputs": [
    {
     "name": "stdout",
     "output_type": "stream",
     "text": [
      "[10, 1, 13, 57, 24, 25]\n",
      "Maximum displacement: 57\n",
      "Minimum displacement: 1\n",
      "Average progress: 21.67\n",
      "[136.11111111111114, 427.11111111111114, 75.11111111111113, 1248.4444444444441, 5.444444444444439, 11.111111111111104]\n",
      "Standard deviation: 17.81\n"
     ]
    }
   ],
   "source": [
    "advance_cm = [30, 21, 33, 77, 44, 45, 23, 45, 12, 34, 55]\n",
    "\n",
    "daily_distance_eachday = advance_cm[:6]\n",
    "\n",
    "displacement = []\n",
    "for number in daily_distance_eachday:\n",
    "    displacement.append(number - 20)\n",
    "    \n",
    "print(displacement)\n",
    "print(\"Maximum displacement:\", max(displacement))\n",
    "print(\"Minimum displacement:\", min(displacement))\n",
    "\n",
    "avg = sum(displacement)/len(displacement)\n",
    "print(\"Average progress:\", round(avg, 2))\n",
    "\n",
    "squared_difference = []\n",
    "\n",
    "for number in displacement:\n",
    "    squared_difference.append((number - avg)**2)\n",
    "    \n",
    "print(squared_difference)\n",
    "stdev = (sum(squared_difference)/len(squared_difference))**(1/2)\n",
    "print(\"Standard deviation:\", round(stdev, 2))"
   ]
  },
  {
   "cell_type": "code",
   "execution_count": 60,
   "metadata": {},
   "outputs": [
    {
     "name": "stdout",
     "output_type": "stream",
     "text": [
      "Gandalf wins: 6\n",
      "Saruman wins: 4\n",
      "Gandalf wins.\n"
     ]
    }
   ],
   "source": [
    "gandalf = [10, 11, 13, 30, 22, 11, 10, 33, 22, 22]\n",
    "saruman = [23, 66, 12, 43, 12, 10, 44, 23, 12, 17]\n",
    "spells = 0\n",
    "tie = 0\n",
    "\n",
    "gandalf_wins = 0\n",
    "saruman_wins = 0\n",
    "\n",
    "for i in gandalf:\n",
    "    if gandalf[spells] > saruman[spells]:\n",
    "        gandalf_wins += 1\n",
    "    elif gandalf[spells] < saruman[spells]:\n",
    "        saruman_wins += 1\n",
    "    else:\n",
    "        tie += 1 \n",
    "    spells += 1\n",
    "\n",
    "print(\"Gandalf wins:\", gandalf_wins)\n",
    "print(\"Saruman wins:\", saruman_wins)\n",
    "\n",
    "if gandalf_wins > saruman_wins:\n",
    "    print(\"Gandalf wins.\")\n",
    "elif gandalf_wins < saruman_wins:\n",
    "    print(\"Saruman wins.\")\n",
    "else:\n",
    "    print(\"Tie.\")"
   ]
  },
  {
   "cell_type": "code",
   "execution_count": 86,
   "metadata": {},
   "outputs": [
    {
     "name": "stdout",
     "output_type": "stream",
     "text": [
      "[50, 40, 40, 10, 50, 10, 40, 50, 50, 50]\n",
      "[45, 45, 25, 50, 25, 40, 10, 45, 10, 10]\n",
      "['Gandalf', 'Saruman', 'Gandalf', 'Saruman', 'Gandalf', 'Saruman', 'Gandalf', 'Gandalf', 'Gandalf', 'Gandalf']\n",
      "Gandalf wins the match.\n",
      "Average power of Gandalf: 39.0\n",
      "Average power of Saruman: 30.5\n",
      "[121.0, 1.0, 1.0, 841.0, 121.0, 841.0, 1.0, 121.0, 121.0, 121.0]\n",
      "Standard deviation of Gandalf power: 15.13\n",
      "[210.25, 210.25, 30.25, 380.25, 30.25, 90.25, 420.25, 210.25, 420.25, 420.25]\n",
      "Standard deviation of Saruman power: 15.56\n"
     ]
    }
   ],
   "source": [
    "POWER = {\n",
    "    'Fireball': 50, \n",
    "    'Lightning bolt': 40, \n",
    "    'Magic arrow': 10, \n",
    "    'Black Tentacles': 25, \n",
    "    'Contagion': 45\n",
    "}\n",
    "\n",
    "gandalf = ['Fireball', 'Lightning bolt', 'Lightning bolt', 'Magic arrow', 'Fireball', \n",
    "           'Magic arrow', 'Lightning bolt', 'Fireball', 'Fireball', 'Fireball']\n",
    "saruman = ['Contagion', 'Contagion', 'Black Tentacles', 'Fireball', 'Black Tentacles', \n",
    "           'Lightning bolt', 'Magic arrow', 'Contagion', 'Magic arrow', 'Magic arrow']\n",
    "\n",
    "spells = 0\n",
    "\n",
    "gandalf_wins = 0\n",
    "saruman_wins = 0\n",
    "\n",
    "gandalf_power = []\n",
    "saruman_power = []\n",
    "\n",
    "for i in gandalf:\n",
    "    gandalf_power.append(POWER[i])\n",
    "print(gandalf_power)\n",
    "\n",
    "for i in saruman:\n",
    "    saruman_power.append(POWER[i])\n",
    "print(saruman_power)\n",
    "\n",
    "winning_list = []\n",
    "for spellclash in gandalf_power:\n",
    "    if gandalf_power[spells] > saruman_power[spells]:\n",
    "        winning_list.append(\"Gandalf\")\n",
    "    elif gandalf_power[spells] < saruman_power[spells]:\n",
    "        winning_list.append(\"Saruman\")\n",
    "    else:\n",
    "        winning_list.append(\"Tie\")\n",
    "    spells += 1\n",
    "        \n",
    "print(winning_list)\n",
    "\n",
    "\n",
    "spells = 0\n",
    "for winner in winning_list:\n",
    "    if spells + 2 >= 10:\n",
    "        break\n",
    "        \n",
    "    if (winning_list[spells + 1] == winner) and (winning_list[spells + 2] == winner):\n",
    "        print(winner, \"wins the match.\")\n",
    "        break\n",
    "        \n",
    "    spells += 1 \n",
    "\n",
    "    \n",
    "avg_power_gandalf = sum(gandalf_power)/len(gandalf_power)\n",
    "print(\"Average power of Gandalf:\", round(avg_power_gandalf, 2))\n",
    "\n",
    "avg_power_saruman = sum(saruman_power)/len(saruman_power)\n",
    "print(\"Average power of Saruman:\", round(avg_power_saruman, 2))\n",
    "\n",
    "\n",
    "squared_difference_power_gandalf = []\n",
    "for number in gandalf_power:\n",
    "    squared_difference_power_gandalf.append((number - avg_power_gandalf)**2)\n",
    "print(squared_difference_power_gandalf)\n",
    "stdev_power_gandalf = (sum(squared_difference_power_gandalf)/len(squared_difference_power_gandalf))**(1/2)\n",
    "print(\"Standard deviation of Gandalf power:\", round(stdev_power_gandalf, 2))\n",
    "\n",
    "squared_difference_power_saruman = []\n",
    "for number in saruman_power:\n",
    "    squared_difference_power_saruman.append((number - avg_power_saruman)**2)\n",
    "print(squared_difference_power_saruman)\n",
    "stdev_power_saruman = (sum(squared_difference_power_saruman)/len(squared_difference_power_saruman))**(1/2)\n",
    "print(\"Standard deviation of Saruman power:\", round(stdev_power_saruman, 2))"
   ]
  },
  {
   "cell_type": "code",
   "execution_count": 145,
   "metadata": {},
   "outputs": [
    {
     "data": {
      "text/plain": [
       "9"
      ]
     },
     "execution_count": 145,
     "metadata": {},
     "output_type": "execute_result"
    }
   ],
   "source": [
    "stops = [(10, 0), (4, 1), (3, 5), (3, 4), (5, 1), (1, 5), (5, 8), (4, 6), (2, 3)]\n",
    "len(stops)"
   ]
  },
  {
   "cell_type": "code",
   "execution_count": 214,
   "metadata": {},
   "outputs": [
    {
     "name": "stdout",
     "output_type": "stream",
     "text": [
      "[[10, 0], [4, 1], [3, 5], [3, 4], [5, 1], [1, 5], [5, 8], [4, 6], [2, 3]]\n",
      "[10, 3, -2, -1, 4, -4, -3, -2, -1]\n",
      "[10, 13, 11, 10, 14, 10, 7, 5, 4]\n"
     ]
    }
   ],
   "source": [
    "stops = [(10, 0), (4, 1), (3, 5), (3, 4), (5, 1), (1, 5), (5, 8), (4, 6), (2, 3)]\n",
    "\n",
    "stops_list = []\n",
    "for i in stops:\n",
    "    stops_list.append([i[0],i[1]])\n",
    "\n",
    "print(stops_list)\n",
    "\n",
    "number_passenger = []\n",
    "\n",
    "for i in stops_list:\n",
    "    number_passenger.append(i[0] - i[1])\n",
    "    \n",
    "print(number_passenger)\n",
    "\n",
    "passengers = 10\n",
    "total_passenger = []\n",
    "total_passenger.append(passengers)\n",
    "\n",
    "for i in range(1, len(number_passenger)):\n",
    "    total_passenger.append(number_passenger[i] + total_passenger[i-1])\n",
    "\n",
    "print(total_passenger)"
   ]
  },
  {
   "cell_type": "code",
   "execution_count": 217,
   "metadata": {},
   "outputs": [
    {
     "name": "stdout",
     "output_type": "stream",
     "text": [
      "Maximum occupation of the bus: 14\n",
      "Average occupation of the bus is: 9.33\n",
      "[0.44444444444444364, 13.44444444444444, 2.777777777777776, 0.44444444444444364, 21.77777777777777, 0.44444444444444364, 5.444444444444447, 18.777777777777782, 28.44444444444445]\n",
      "Standard deviation of bus occupation is 3.2\n"
     ]
    }
   ],
   "source": [
    "max(total_passenger)\n",
    "print(\"Maximum occupation of the bus:\", max(total_passenger))\n",
    "\n",
    "avg_occupation = sum(total_passenger)/len(total_passenger)\n",
    "print(\"Average occupation of the bus is:\", round(avg_occupation, 2))\n",
    "\n",
    "squared_difference_occupation = []\n",
    "for i in total_passenger:\n",
    "    squared_difference_occupation.append((i - avg_occupation)**2)\n",
    "print(squared_difference_occupation)\n",
    "\n",
    "stdev_occupation = (sum(squared_difference_occupation)/len(squared_difference_occupation))**(1/2)\n",
    "print(\"Standard deviation of bus occupation is\", round(stdev_occupation, 2))"
   ]
  },
  {
   "cell_type": "code",
   "execution_count": 220,
   "metadata": {},
   "outputs": [
    {
     "name": "stdout",
     "output_type": "stream",
     "text": [
      "[[4, 5], [0, 2], [4, 7], [1, -3], [3, -2], [4, 5], [3, 2], [5, 7], [-5, 7], [2, 2], [-4, 5], [0, -2], [-4, 7], [-1, 3], [-3, 2], [-4, -5], [-3, 2], [5, 7], [5, 7], [2, 2], [9, 9], [-8, -9]]\n"
     ]
    },
    {
     "data": {
      "text/plain": [
       "[[4, 5], [5, 7], [5, 7], [2, 2], [-3, 2], [5, 7]]"
      ]
     },
     "execution_count": 220,
     "metadata": {},
     "output_type": "execute_result"
    }
   ],
   "source": [
    "points = [(4, 5), (-0, 2), (4, 7), (1, -3), (3, -2), (4, 5), (3, 2), (5, 7), (-5, 7), (2, 2), (-4, 5), (0, -2),\n",
    "          (-4, 7), (-1, 3), (-3, 2), (-4, -5), (-3, 2), (5, 7), (5, 7), (2, 2), (9, 9), (-8, -9)]\n",
    "\n",
    "points_list = []\n",
    "\n",
    "for i in points:\n",
    "    points_list.append([i[0],i[1]])\n",
    "print(points_list)\n",
    "\n",
    "arrow_hits_arrow = []\n",
    "\n",
    "for position in range(len(points_list)):\n",
    "    for check in range(position + 1, len(points_list)):\n",
    "        if points_list[position][0] == points_list[check][0] and points_list[position][1] == points_list[check][1]:\n",
    "            arrow_hits_arrow.append(points_list[position])\n",
    "            \n",
    "arrow_hits_arrow"
   ]
  },
  {
   "cell_type": "code",
   "execution_count": 235,
   "metadata": {},
   "outputs": [
    {
     "name": "stdout",
     "output_type": "stream",
     "text": [
      "10 arrows have fallen into the first quadrant.\n",
      "6 arrows have fallen into the second quadrant.\n",
      "2 arrows have fallen into the third quadrant.\n",
      "4 arrows have fallen into the fourth quadrant.\n"
     ]
    }
   ],
   "source": [
    "quadrant_1 = []\n",
    "quadrant_2 = []\n",
    "quadrant_3 = []\n",
    "quadrant_4 = []\n",
    "\n",
    "for position in points_list:\n",
    "    if position[0] > 0 and position[1] > 0:\n",
    "        quadrant_1.append(position)\n",
    "    elif position[0] < 0 and position[1] > 0:\n",
    "        quadrant_2.append(position)\n",
    "    elif position[0] < 0 and position[1] < 0:\n",
    "        quadrant_3.append(position)\n",
    "    else:\n",
    "        quadrant_4.append(position)\n",
    "\n",
    "print(len(quadrant_1), \"arrows have fallen into the first quadrant.\")\n",
    "print(len(quadrant_2), \"arrows have fallen into the second quadrant.\")\n",
    "print(len(quadrant_3), \"arrows have fallen into the third quadrant.\")\n",
    "print(len(quadrant_4), \"arrows have fallen into the fourth quadrant.\")"
   ]
  },
  {
   "cell_type": "code",
   "execution_count": 262,
   "metadata": {},
   "outputs": [
    {
     "name": "stdout",
     "output_type": "stream",
     "text": [
      "[6.4031242374328485, 2.0, 8.06225774829855, 3.1622776601683795, 3.605551275463989, 6.4031242374328485, 3.605551275463989, 8.602325267042627, 8.602325267042627, 2.8284271247461903, 6.4031242374328485, 2.0, 8.06225774829855, 3.1622776601683795, 3.605551275463989, 6.4031242374328485, 3.605551275463989, 8.602325267042627, 8.602325267042627, 2.8284271247461903, 12.727922061357855, 12.041594578792296]\n",
      "Minimum point has a distance of 2.0 to the center.\n"
     ]
    },
    {
     "data": {
      "text/plain": [
       "[0, 2]"
      ]
     },
     "execution_count": 262,
     "metadata": {},
     "output_type": "execute_result"
    }
   ],
   "source": [
    "def distance(x, y):\n",
    "    d = (x**2 + y**2)**(1/2)\n",
    "    return d\n",
    "\n",
    "points_distance = []\n",
    "for position in points_list:\n",
    "    points_distance.append(distance(position[0], position[1]))\n",
    "print(points_distance)\n",
    "\n",
    "print(\"Minimum point has a distance of\", min(points_distance), \"to the center.\")\n",
    "\n",
    "# Position of the minimum point in the list\n",
    "points_distance.index(min(points_distance))\n",
    "\n",
    "# Point with the minimum distance\n",
    "points_list[1]Lam Tuyen"
   ]
  },
  {
   "cell_type": "code",
   "execution_count": 283,
   "metadata": {},
   "outputs": [
    {
     "name": "stdout",
     "output_type": "stream",
     "text": [
      "[[9, 9], [-8, -9]]\n"
     ]
    }
   ],
   "source": [
    "# failed_arrows = []\n",
    "\n",
    "# for position in points_list:\n",
    "    if abs(position[0]) >= 9 or abs(position[1]) >= 9:\n",
    "        failed_arrows.append(position)\n",
    "     \n",
    "# print(failed_arrows)\n"
   ]
  },
  {
   "cell_type": "code",
   "execution_count": 291,
   "metadata": {},
   "outputs": [
    {
     "name": "stdout",
     "output_type": "stream",
     "text": [
      "2 arrows wont hit the target.\n"
     ]
    }
   ],
   "source": [
    "failed_arrows = []\n",
    "\n",
    "for d in points_distance:\n",
    "    if d >= 9:\n",
    "        failed_arrows.append(d)\n",
    "     \n",
    "len(failed_arrows)\n",
    "print(len(failed_arrows), \"arrows wont hit the target.\")"
   ]
  },
  {
   "cell_type": "code",
   "execution_count": 302,
   "metadata": {},
   "outputs": [
    {
     "name": "stdout",
     "output_type": "stream",
     "text": [
      "0 90\n",
      "[70, 76, 80, 81, 80, 83, 90, 79]\n",
      "60.25\n"
     ]
    }
   ],
   "source": [
    "temperatures_C = [33, 66, 65, 0, 59, 60, 62, 64, 70, 76, 80, 81, 80, 83, 90, 79, 61, 53, 50, 49, 53, 48, 45, 39]\n",
    "\n",
    "min_temp = min(temperatures_C)\n",
    "max_temp = max(temperatures_C)\n",
    "\n",
    "print(min_temp, max_temp)\n",
    "\n",
    "temp_greater_equal_70 = []\n",
    "for temp in temperatures_C:\n",
    "    if temp >= 70:\n",
    "        temp_greater_equal_70.append(temp)\n",
    "print(temp_greater_equal_70)\n",
    "\n",
    "avg_temp = sum(temperatures_C)/len(temperatures_C)\n",
    "print(avg_temp)"
   ]
  },
  {
   "cell_type": "code",
   "execution_count": 324,
   "metadata": {
    "scrolled": true
   },
   "outputs": [
    {
     "name": "stdout",
     "output_type": "stream",
     "text": [
      "59.0\n",
      "[33, 66, 65, 59.0, 59, 60, 62, 64, 70, 76, 80, 81, 80, 83, 90, 79, 61, 53, 50, 49, 53, 48, 45, 39]\n"
     ]
    }
   ],
   "source": [
    "temp_3am = temperatures_C[2] + (temperatures_C[4] - temperatures_C[2])/(4-2)*(4-2)\n",
    "print(temp_3am)\n",
    "\n",
    "# Replace temperature at 3am with temp_3am\n",
    "temperatures_C[3] = temp_3am\n",
    "print(temperatures_C)"
   ]
  },
  {
   "cell_type": "code",
   "execution_count": 325,
   "metadata": {},
   "outputs": [
    {
     "name": "stdout",
     "output_type": "stream",
     "text": [
      "[91.4, 150.8, 149.0, 138.2, 138.2, 140.0, 143.60000000000002, 147.2, 158.0, 168.8, 176.0, 177.8, 176.0, 181.4, 194.0, 174.20000000000002, 141.8, 127.4, 122.0, 120.2, 127.4, 118.4, 113.0, 102.2]\n"
     ]
    }
   ],
   "source": [
    "temperatures_Fahrenheit = [(1.8 * temp + 32) for temp in temperatures_C]\n",
    "print(temperatures_Fahrenheit)"
   ]
  },
  {
   "cell_type": "code",
   "execution_count": 343,
   "metadata": {},
   "outputs": [
    {
     "name": "stdout",
     "output_type": "stream",
     "text": [
      "0 33\n",
      "1 66\n",
      "2 65\n",
      "3 59.0\n",
      "4 59\n",
      "5 60\n",
      "6 62\n",
      "7 64\n",
      "8 70\n",
      "9 76\n",
      "10 80\n",
      "11 81\n",
      "12 80\n",
      "13 83\n",
      "14 90\n",
      "15 79\n",
      "16 61\n",
      "17 53\n",
      "18 50\n",
      "19 49\n",
      "20 53\n",
      "21 48\n",
      "22 45\n",
      "23 39\n"
     ]
    }
   ],
   "source": [
    "for hour, temp in enumerate(temperatures_C):\n",
    "    print(hour, temp)"
   ]
  },
  {
   "cell_type": "code",
   "execution_count": 344,
   "metadata": {},
   "outputs": [
    {
     "name": "stdout",
     "output_type": "stream",
     "text": [
      "[9, 10, 11, 12, 13, 14, 15]\n"
     ]
    }
   ],
   "source": [
    "hour_temp_greater_70 = []\n",
    "for hour, temp in enumerate(temperatures_C):\n",
    "    if temp > 70:\n",
    "        hour_temp_greater_70.append(hour)\n",
    "\n",
    "print(hour_temp_greater_70)"
   ]
  },
  {
   "cell_type": "code",
   "execution_count": 365,
   "metadata": {},
   "outputs": [
    {
     "name": "stdout",
     "output_type": "stream",
     "text": [
      "Cooling system above 70C from hour  9  to  13 ! That's more than 4 consecutive hours.\n",
      "Cooling system above 70C from hour  10  to  14 ! That's more than 4 consecutive hours.\n",
      "Cooling system above 70C from hour  11  to  15 ! That's more than 4 consecutive hours.\n"
     ]
    }
   ],
   "source": [
    "# Variante 1\n",
    "for index, hour in enumerate(hour_temp_greater_70):\n",
    "    \n",
    "    for index, checking_hour in enumerate(hour_temp_greater_70[index+1:]):\n",
    "        if checking_hour - hour == 1 + index and index > 2:\n",
    "            print(\"Cooling system above 70C from hour \", hour, \" to \", checking_hour, \"! That's more than 4 consecutive hours.\")\n",
    "            break"
   ]
  },
  {
   "cell_type": "code",
   "execution_count": 369,
   "metadata": {},
   "outputs": [
    {
     "name": "stdout",
     "output_type": "stream",
     "text": [
      "Cooling system above 70C from hour  9  to  13 ! That's more than 4 consecutive hours.\n",
      "Cooling system above 70C from hour  10  to  14 ! That's more than 4 consecutive hours.\n",
      "Cooling system above 70C from hour  11  to  15 ! That's more than 4 consecutive hours.\n"
     ]
    }
   ],
   "source": [
    "# Variante 2\n",
    "C_70_for_4h = False\n",
    "for index, hour in enumerate(hour_temp_greater_70):\n",
    "    \n",
    "    # Liste nur bis zum Ende prüfen\n",
    "    if index+4 >= len(hour_temp_greater_70):\n",
    "        break\n",
    "        \n",
    "    if hour_temp_greater_70[index+1] - hour_temp_greater_70[index] == 1 \\\n",
    "    and hour_temp_greater_70[index+2] - hour_temp_greater_70[index+1] == 1 \\\n",
    "    and hour_temp_greater_70[index+3] - hour_temp_greater_70[index+2] == 1 \\\n",
    "    and hour_temp_greater_70[index+4] - hour_temp_greater_70[index+3] == 1:\n",
    "        print(\"Cooling system above 70C from hour \", hour_temp_greater_70[index], \" to \", hour_temp_greater_70[index+4], \"! That's more than 4 consecutive hours.\")\n",
    "        C_70_for_4h = True"
   ]
  },
  {
   "cell_type": "code",
   "execution_count": 371,
   "metadata": {},
   "outputs": [
    {
     "name": "stdout",
     "output_type": "stream",
     "text": [
      "Cooling system needs to be changed.\n"
     ]
    }
   ],
   "source": [
    "if C_70_for_4h == True or any(temp > 80 for temp in temperatures_C) or sum(temperatures_C)/len(temperatures_C) > 65:\n",
    "    print(\"Cooling system needs to be changed.\")\n",
    "else:\n",
    "    print(\"Cooling system doesn't need to be changed.\")"
   ]
  },
  {
   "cell_type": "code",
   "execution_count": 372,
   "metadata": {},
   "outputs": [
    {
     "name": "stdout",
     "output_type": "stream",
     "text": [
      "62.708333333333336 144.875\n"
     ]
    }
   ],
   "source": [
    "avg_C = sum(temperatures_C)/len(temperatures_C)\n",
    "avg_Fahrenheit = sum(temperatures_Fahrenheit)/len(temperatures_Fahrenheit)\n",
    "\n",
    "print(avg_C, avg_Fahrenheit)"
   ]
  },
  {
   "cell_type": "code",
   "execution_count": 381,
   "metadata": {},
   "outputs": [
    {
     "name": "stdout",
     "output_type": "stream",
     "text": [
      "Fahrenheit = 1.8 * Celsius + 32.\n"
     ]
    }
   ],
   "source": [
    "# 𝐹 = 1.8 * 𝐶 + 32\n",
    "\n",
    "if avg_Fahrenheit == 1.8 * avg_C + 32:\n",
    "    print(\"Fahrenheit = 1.8 * Celsius + 32.\")\n",
    " "
   ]
  },
  {
   "cell_type": "code",
   "execution_count": 377,
   "metadata": {},
   "outputs": [
    {
     "name": "stdout",
     "output_type": "stream",
     "text": [
      "[882.5850694444446, 10.835069444444429, 5.2517361111111, 13.751736111111128, 13.751736111111128, 7.335069444444457, 0.5017361111111145, 1.6684027777777717, 53.16840277777774, 176.66840277777771, 299.00173611111103, 334.58506944444434, 299.00173611111103, 411.75173611111103, 744.8350694444443, 265.4184027777777, 2.9184027777777857, 94.25173611111116, 161.50173611111117, 187.91840277777786, 94.25173611111116, 216.3350694444445, 313.5850694444445, 562.0850694444446]\n",
      "Standard deviation of temperatures in Celsius is 14.65 .\n"
     ]
    }
   ],
   "source": [
    "squared_difference_temp_C = []\n",
    "\n",
    "for temp in temperatures_C:\n",
    "    squared_difference_temp_C.append((temp - avg_C)**2)\n",
    "\n",
    "print(squared_difference_temp_C)\n",
    "\n",
    "stdev_temp_C = (sum(squared_difference_temp_C)/len(squared_difference_temp_C))**(1/2)\n",
    "print(\"Standard deviation of temperatures in Celsius is\", round(stdev_temp_C, 2), \".\")"
   ]
  },
  {
   "cell_type": "code",
   "execution_count": 379,
   "metadata": {},
   "outputs": [
    {
     "name": "stdout",
     "output_type": "stream",
     "text": [
      "[2859.5756249999995, 35.10562500000013, 17.015625, 44.55562500000015, 44.55562500000015, 23.765625, 1.625624999999942, 5.405624999999947, 172.265625, 572.4056250000006, 968.765625, 1084.0556250000006, 968.765625, 1334.0756250000004, 2413.265625, 859.955625000001, 9.45562499999993, 305.3756249999998, 523.265625, 608.8556249999998, 305.3756249999998, 700.9256249999997, 1016.015625, 1821.1556249999996]\n",
      "Standard deviation of temperatures in Fahrenheit is 26.38 .\n"
     ]
    }
   ],
   "source": [
    "squared_difference_temp_Fahrenheit = []\n",
    "\n",
    "for temp in temperatures_Fahrenheit:\n",
    "    squared_difference_temp_Fahrenheit.append((temp - avg_Fahrenheit)**2)\n",
    "\n",
    "print(squared_difference_temp_Fahrenheit)\n",
    "\n",
    "stdev_temp_Fahrenheit = (sum(squared_difference_temp_Fahrenheit)/len(squared_difference_temp_Fahrenheit))**(1/2)\n",
    "print(\"Standard deviation of temperatures in Fahrenheit is\", round(stdev_temp_Fahrenheit, 2), \".\")"
   ]
  },
  {
   "cell_type": "code",
   "execution_count": 392,
   "metadata": {},
   "outputs": [
    {
     "name": "stdout",
     "output_type": "stream",
     "text": [
      "Fahrenheit = 1.8 * Celsius.\n"
     ]
    }
   ],
   "source": [
    "# 𝐹 = 1.8 * 𝐶 + 32\n",
    "\n",
    "if round(stdev_temp_Fahrenheit, 2) == round(1.8 * stdev_temp_C, 2):\n",
    "    print(\"Fahrenheit = 1.8 * Celsius.\")"
   ]
  },
  {
   "cell_type": "code",
   "execution_count": 388,
   "metadata": {},
   "outputs": [
    {
     "name": "stdout",
     "output_type": "stream",
     "text": [
      "26.37516587625564\n"
     ]
    }
   ],
   "source": [
    "y = stdev_temp_C * 1.8\n",
    "print(y)"
   ]
  },
  {
   "cell_type": "code",
   "execution_count": 406,
   "metadata": {},
   "outputs": [
    {
     "name": "stdout",
     "output_type": "stream",
     "text": [
      "49\n"
     ]
    }
   ],
   "source": [
    "from random import choice\n",
    "print(random.choice(temperatures_C))"
   ]
  },
  {
   "cell_type": "code",
   "execution_count": 414,
   "metadata": {},
   "outputs": [],
   "source": [
    "gestures = ['rock', 'paper', 'scissors']"
   ]
  },
  {
   "cell_type": "code",
   "execution_count": 410,
   "metadata": {},
   "outputs": [
    {
     "name": "stdout",
     "output_type": "stream",
     "text": [
      "5\n"
     ]
    }
   ],
   "source": [
    "n_rounds = input()\n",
    "import math\n",
    "rounds_to_win = math.ceil(int(n_rounds)/2)\n",
    "\n",
    "cpu_score = 0\n",
    "player_score = 0"
   ]
  },
  {
   "cell_type": "code",
   "execution_count": 421,
   "metadata": {},
   "outputs": [
    {
     "name": "stdout",
     "output_type": "stream",
     "text": [
      "scissors\n"
     ]
    }
   ],
   "source": [
    "def random_gesture():\n",
    "    return random.choice(gestures)\n",
    "print(random_gesture())"
   ]
  },
  {
   "cell_type": "code",
   "execution_count": 424,
   "metadata": {},
   "outputs": [
    {
     "name": "stdout",
     "output_type": "stream",
     "text": [
      "What is your choice between rock, paper and scissors?\n",
      "conrad\n",
      "What is your choice between rock, paper and scissors?\n",
      "gbztb\n",
      "What is your choice between rock, paper and scissors?\n",
      "zgbztbz\n",
      "What is your choice between rock, paper and scissors?\n",
      "paper\n"
     ]
    }
   ],
   "source": [
    "def player_choice():\n",
    "    while True:\n",
    "        print(\"What is your choice between rock, paper and scissors?\")\n",
    "        choice = input()\n",
    "        if choice == 'rock' or choice == 'paper' or choice == 'scissors':\n",
    "            break\n",
    "            \n",
    "player_choice()"
   ]
  },
  {
   "cell_type": "code",
   "execution_count": 425,
   "metadata": {},
   "outputs": [],
   "source": [
    "def who_wins(player, cpu):\n",
    "    if player == cpu:\n",
    "        return 0 # Tie\n",
    "    elif player == 'rock':\n",
    "        if cpu == 'scissors':\n",
    "            return 2 # Player wins\n",
    "        elif cpu == 'paper':\n",
    "            return 1 #cpu wins\n",
    "    elif player == 'paper':\n",
    "        if cpu == 'scissors':\n",
    "            return 1 #cpu wins\n",
    "        elif cpu == 'rock':\n",
    "            return 2 # Player wins\n",
    "    elif player == 'scissors':\n",
    "        if cpu == 'rock':\n",
    "            return 1 #cpu wins\n",
    "        elif cpu == 'paper':\n",
    "            return 2 #player wins"
   ]
  },
  {
   "cell_type": "code",
   "execution_count": 430,
   "metadata": {},
   "outputs": [
    {
     "name": "stdout",
     "output_type": "stream",
     "text": [
      "The choice of the player was:  rock\n",
      "The choice of the CPU was:  paper\n",
      "CPU wins this round.\n",
      "3\n"
     ]
    }
   ],
   "source": [
    "def print_result(winner, player, cpu):\n",
    "    global cpu_score\n",
    "    global player_score\n",
    "    print (\"The choice of the player was: \", player)\n",
    "    print (\"The choice of the CPU was: \", cpu)\n",
    "    if winner == 0:\n",
    "        print (\"It's a tie.\")\n",
    "    elif winner == 1:\n",
    "        print (\"CPU wins this round.\")\n",
    "        cpu_score += 1\n",
    "    elif winner == 2:\n",
    "        print (\"Player wins this round. Congratulations!\")\n",
    "        player_score +=1\n",
    "        \n",
    "print_result(1, 'rock', 'paper')\n",
    "print (cpu_score)"
   ]
  },
  {
   "cell_type": "code",
   "execution_count": null,
   "metadata": {},
   "outputs": [
    {
     "name": "stdout",
     "output_type": "stream",
     "text": [
      "How many rounds should we play?\n",
      "It must be an odd number (1, 3, 5, ...)\n",
      "3\n",
      "What is your choice between rock, paper and scissors?\n",
      "rock\n",
      "The choice of the player was:  rock\n",
      "The choice of the CPU was:  rock\n",
      "It's a tie.\n",
      "What is your choice between rock, paper and scissors?\n"
     ]
    }
   ],
   "source": [
    "import random\n",
    "import math\n",
    "\n",
    "# gestures available\n",
    "gestures = ['rock', 'paper', 'scissors']\n",
    "\n",
    "n_rounds = 0\n",
    "cpu_score = 0\n",
    "player_score = 0\n",
    "\n",
    "# how many rounds do we want to play?\n",
    "def ask_for_rounds():\n",
    "    global n_rounds\n",
    "    while True:\n",
    "        print (\"How many rounds should we play?\")\n",
    "        print (\"It must be an odd number (1, 3, 5, ...)\")\n",
    "        n_rounds = input()\n",
    "        if not (n_rounds.isdigit()): # Did the user enter a number at all?\n",
    "            print (\"Only numbers allowed.\")\n",
    "            continue\n",
    "        elif (int(n_rounds) % 2 == 0): #User entered an even number\n",
    "            print (\"Only odd numbers allowed.\")\n",
    "            continue\n",
    "        else:\n",
    "            #accept user input and continue (but convert to int)\n",
    "            n_rounds = int(n_rounds)\n",
    "            break\n",
    "\n",
    "def random_gesture():\n",
    "    return random.choice(gestures)\n",
    "\n",
    "def player_choice():\n",
    "    while True:\n",
    "        print(\"What is your choice between rock, paper and scissors?\")\n",
    "        choice = input()\n",
    "        if choice == 'rock' or choice == 'paper' or choice == 'scissors':\n",
    "            return choice\n",
    "            \n",
    "def who_wins(player, cpu):\n",
    "    if player == cpu:\n",
    "        return 0 # Tie\n",
    "    elif player == 'rock':\n",
    "        if cpu == 'scissors':\n",
    "            return 2 # Player wins\n",
    "        elif cpu == 'paper':\n",
    "            return 1 #cpu wins\n",
    "    elif player == 'paper':\n",
    "        if cpu == 'scissors':\n",
    "            return 1 #cpu wins\n",
    "        elif cpu == 'rock':\n",
    "            return 2 # Player wins\n",
    "    elif player == 'scissors':\n",
    "        if cpu == 'rock':\n",
    "            return 1 #cpu wins\n",
    "        elif cpu == 'paper':\n",
    "            return 2 #player wins\n",
    "\n",
    "def print_result(winner, player, cpu):\n",
    "    global cpu_score\n",
    "    global player_score\n",
    "    print (\"The choice of the player was: \", player)\n",
    "    print (\"The choice of the CPU was: \", cpu)\n",
    "    if winner == 0:\n",
    "        print (\"It's a tie.\")\n",
    "    elif winner == 1:\n",
    "        print (\"CPU wins this round.\")\n",
    "        cpu_score += 1\n",
    "    elif winner == 2:\n",
    "        print (\"Player wins this round. Congratulations!\")\n",
    "        player_score +=1\n",
    "        \n",
    "# Time to play!\n",
    "rounds_played = 0\n",
    "\n",
    "ask_for_rounds()\n",
    "\n",
    "rounds_to_win = math.ceil(int(n_rounds)/2)\n",
    "\n",
    "# We play as long as no one has reached the minimum score necessary\n",
    "while player_score <= rounds_to_win and cpu_score <= rounds_to_win and rounds_played < n_rounds:\n",
    "    #player first\n",
    "    player_choice_this_round = player_choice()\n",
    "    \n",
    "    # cpu next\n",
    "    cpu_choice_this_round = random_gesture()\n",
    "    \n",
    "    # who's the winner of this round?\n",
    "    winner = who_wins(player_choice_this_round, cpu_choice_this_round)\n",
    "    \n",
    "    # and the results and counting the score\n",
    "    print_result(winner, player_choice_this_round, cpu_choice_this_round)\n",
    "\n",
    "    rounds_played += 1\n",
    "    \n",
    "\n",
    "print(\"====== GAME RESULTS ========\")    \n",
    "if (player_score > cpu_score):\n",
    "    print (\"And the winner of the game is the Player! Congratulations!\")\n",
    "elif (cpu_score > player_score):\n",
    "    print (\"And the winner of the game is the CPU. Better luck next time!\")\n",
    "else:\n",
    "    print (\"The game is a tie.\")"
   ]
  },
  {
   "cell_type": "code",
   "execution_count": 2,
   "metadata": {},
   "outputs": [
    {
     "name": "stdout",
     "output_type": "stream",
     "text": [
      "How many rounds should we play?\n",
      "It must be an odd number (1, 3, 5, ...)\n",
      "3\n",
      "What is your choice between rock, paper, scissors, lizard and spock?\n",
      "rock\n",
      "The choice of the player was:  rock\n",
      "The choice of the CPU was:  lizard\n",
      "Player wins this round. Congratulations!\n",
      "What is your choice between rock, paper, scissors, lizard and spock?\n",
      "rock\n",
      "The choice of the player was:  rock\n",
      "The choice of the CPU was:  paper\n",
      "CPU wins this round.\n",
      "What is your choice between rock, paper, scissors, lizard and spock?\n",
      "rock\n",
      "The choice of the player was:  rock\n",
      "The choice of the CPU was:  rock\n",
      "It's a tie.\n",
      "====== GAME RESULTS ========\n",
      "The game is a tie.\n"
     ]
    }
   ],
   "source": [
    "import random\n",
    "import math\n",
    "\n",
    "# gestures available\n",
    "gestures = ['rock', 'paper', 'scissors', 'lizard', 'spock']\n",
    "\n",
    "n_rounds = 0\n",
    "cpu_score = 0\n",
    "player_score = 0\n",
    "\n",
    "# how many rounds do we want to play?\n",
    "def ask_for_rounds():\n",
    "    global n_rounds\n",
    "    while True:\n",
    "        print (\"How many rounds should we play?\")\n",
    "        print (\"It must be an odd number (1, 3, 5, ...)\")\n",
    "        n_rounds = input()\n",
    "        if not (n_rounds.isdigit()): # Did the user enter a number at all?\n",
    "            print (\"Only numbers allowed.\")\n",
    "            continue\n",
    "        elif (int(n_rounds) % 2 == 0): #User entered an even number\n",
    "            print (\"Only odd numbers allowed.\")\n",
    "            continue\n",
    "        else:\n",
    "            #accept user input and continue (but convert to int)\n",
    "            n_rounds = int(n_rounds)\n",
    "            break\n",
    "\n",
    "def random_gesture():\n",
    "    return random.choice(gestures)\n",
    "\n",
    "def player_choice():\n",
    "    while True:\n",
    "        print(\"What is your choice between rock, paper, scissors, lizard and spock?\")\n",
    "        choice = input()\n",
    "        if choice in gestures:\n",
    "            return choice\n",
    "            \n",
    "def who_wins(player, cpu):\n",
    "    if player == cpu:\n",
    "        return 0 # Tie\n",
    "    \n",
    "    elif player == 'rock':\n",
    "        if cpu == 'paper' or cpu == 'spock':\n",
    "            return 1 #cpu wins\n",
    "        elif cpu == 'scissors' or cpu == 'lizard':\n",
    "            return 2 # Player wins\n",
    "        \n",
    "    elif player == 'paper':\n",
    "        if cpu == 'scissors' or cpu == 'lizard':\n",
    "            return 1 #cpu wins\n",
    "        elif cpu == 'rock' or cpu == 'spock':\n",
    "            return 2 # Player wins\n",
    "        \n",
    "    elif player == 'scissors':\n",
    "        if cpu == 'rock' or cpu == 'spock':\n",
    "            return 1 #cpu wins\n",
    "        elif cpu == 'paper' or cpu == 'lizard':\n",
    "            return 2 #player wins\n",
    "        \n",
    "    elif player == 'lizard':\n",
    "        if cpu == 'scissors' or cpu == 'rock':\n",
    "            return 1 #cpu wins\n",
    "        elif cpu == 'spock' or cpu == 'paper':\n",
    "            return 2 #player wins\n",
    "        \n",
    "    elif player == 'spock':\n",
    "        if cpu == 'lizard' or cpu == 'paper':\n",
    "            return 1 #cpu wins\n",
    "        elif cpu == 'rock' or cpu == 'scissors':\n",
    "            return 2 #player wins\n",
    "\n",
    "def print_result(winner, player, cpu):\n",
    "    global cpu_score\n",
    "    global player_score\n",
    "    print (\"The choice of the player was: \", player)\n",
    "    print (\"The choice of the CPU was: \", cpu)\n",
    "    if winner == 0:\n",
    "        print (\"It's a tie.\")\n",
    "    elif winner == 1:\n",
    "        print (\"CPU wins this round.\")\n",
    "        cpu_score += 1\n",
    "    elif winner == 2:\n",
    "        print (\"Player wins this round. Congratulations!\")\n",
    "        player_score +=1\n",
    "        \n",
    "# Time to play!\n",
    "rounds_played = 0\n",
    "\n",
    "ask_for_rounds()\n",
    "\n",
    "rounds_to_win = math.ceil(int(n_rounds)/2)\n",
    "\n",
    "# We play as long as no one has reached the minimum score necessary\n",
    "while player_score <= rounds_to_win and cpu_score <= rounds_to_win and rounds_played < n_rounds:\n",
    "    #player first\n",
    "    player_choice_this_round = player_choice()\n",
    "    \n",
    "    # cpu next\n",
    "    cpu_choice_this_round = random_gesture()\n",
    "    \n",
    "    # who's the winner of this round?\n",
    "    winner = who_wins(player_choice_this_round, cpu_choice_this_round)\n",
    "    \n",
    "    # and the results and counting the score\n",
    "    print_result(winner, player_choice_this_round, cpu_choice_this_round)\n",
    "\n",
    "    rounds_played += 1\n",
    "    \n",
    "\n",
    "print(\"====== GAME RESULTS ========\")    \n",
    "if (player_score > cpu_score):\n",
    "    print (\"And the winner of the game is the Player! Congratulations!\")\n",
    "elif (cpu_score > player_score):\n",
    "    print (\"And the winner of the game is the CPU. Better luck next time!\")\n",
    "else:\n",
    "    print (\"The game is a tie.\")"
   ]
  },
  {
   "cell_type": "code",
   "execution_count": null,
   "metadata": {},
   "outputs": [],
   "source": []
  }
 ],
 "metadata": {
  "kernelspec": {
   "display_name": "Python 3",
   "language": "python",
   "name": "python3"
  }
 },
 "nbformat": 4,
 "nbformat_minor": 4
}
