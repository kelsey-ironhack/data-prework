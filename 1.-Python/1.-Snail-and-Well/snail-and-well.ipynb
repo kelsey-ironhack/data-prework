{
 "cells": [
  {
   "cell_type": "markdown",
   "metadata": {},
   "source": [
    "<img src=\"https://bit.ly/2VnXWr2\" width=\"100\" align=\"left\">"
   ]
  },
  {
   "cell_type": "markdown",
   "metadata": {},
   "source": [
    "# The Snail and the Well\n",
    "\n",
    "A snail falls at the bottom of a 125 cm well. Each day the snail rises 30 cm. But at night, while sleeping, slides 20 cm because the walls are wet. How many days does it take for the snail to escape the well?\n",
    "\n",
    "**Hint**: The snail gets out of the well when it surpasses the 125cm of height.\n",
    "\n",
    "## Tools\n",
    "\n",
    "1. Loop: **while**\n",
    "2. Conditional statements: **if-else**\n",
    "3. Function: **print()**\n",
    "\n",
    "## Tasks\n",
    "\n",
    "#### 1. Assign the challenge data to variables with representative names: `well_height`, `daily_distance`, `nightly_distance` and `snail_position`."
   ]
  },
  {
   "cell_type": "code",
   "execution_count": 1,
   "metadata": {},
   "outputs": [],
   "source": [
    "well_height = 125\n",
    "daily_distance = 30\n",
    "nightly_distance = -20\n",
    "snail_position = 0\n",
    "distance_top = 0"
   ]
  },
  {
   "cell_type": "markdown",
   "metadata": {},
   "source": [
    "#### 2. Create a variable `days` to keep count of the days that pass until the snail escapes the well. "
   ]
  },
  {
   "cell_type": "code",
   "execution_count": 2,
   "metadata": {},
   "outputs": [],
   "source": [
    "days = 0"
   ]
  },
  {
   "cell_type": "markdown",
   "metadata": {},
   "source": [
    "#### 3. Find the solution to the challenge using the variables defined above. "
   ]
  },
  {
   "cell_type": "code",
   "execution_count": 3,
   "metadata": {},
   "outputs": [
    {
     "name": "stdout",
     "output_type": "stream",
     "text": [
      "Snail position 30 ||Days passed 0\n",
      "Snail position 10\n",
      "Snail position 40 ||Days passed 1\n",
      "Snail position 20\n",
      "Snail position 50 ||Days passed 2\n",
      "Snail position 30\n",
      "Snail position 60 ||Days passed 3\n",
      "Snail position 40\n",
      "Snail position 70 ||Days passed 4\n",
      "Snail position 50\n",
      "Snail position 80 ||Days passed 5\n",
      "Snail position 60\n",
      "Snail position 90 ||Days passed 6\n",
      "Snail position 70\n",
      "Snail position 100 ||Days passed 7\n",
      "Snail position 80\n",
      "Snail position 110 ||Days passed 8\n",
      "Snail position 90\n",
      "Snail position 120 ||Days passed 9\n",
      "Snail position 100\n",
      "Snail position 130 ||Days passed 10\n",
      "THE SNAIL MADE IT TO THE TOP!\n"
     ]
    }
   ],
   "source": [
    "day = True\n",
    "night = False\n",
    "while(snail_position < well_height):\n",
    "    if(day == True):\n",
    "        snail_position += daily_distance\n",
    "        day = False\n",
    "        night=True\n",
    "        distance_top = (well_height - snail_position)\n",
    "        print(\"Snail position\",snail_position,\"||Days passed\",days)\n",
    "    elif(night == True):\n",
    "        snail_position += nightly_distance\n",
    "        day = True\n",
    "        night = False\n",
    "        distance_top = (well_height - snail_position)\n",
    "        print(\"Snail position\",snail_position)\n",
    "        days += 1\n",
    "print(\"THE SNAIL MADE IT TO THE TOP!\")"
   ]
  },
  {
   "cell_type": "markdown",
   "metadata": {},
   "source": [
    "#### 4. Print the solution."
   ]
  },
  {
   "cell_type": "code",
   "execution_count": null,
   "metadata": {},
   "outputs": [],
   "source": []
  },
  {
   "cell_type": "markdown",
   "metadata": {},
   "source": [
    "## Bonus\n",
    "The distance traveled by the snail each day is now defined by a list.\n",
    "```\n",
    "advance_cm = [30, 21, 33, 77, 44, 45, 23, 45, 12, 34, 55]\n",
    "```\n",
    "On the first day, the snail rises 30cm but during the night it slides 20cm. On the second day, the snail rises 21cm but during the night it slides 20cm, and so on. \n",
    "\n",
    "#### 1. How many days does it take for the snail to escape the well?\n",
    "Follow the same guidelines as in the previous challenge.\n",
    "\n",
    "**Hint**: Remember that the snail gets out of the well when it surpasses the 125cm of height."
   ]
  },
  {
   "cell_type": "code",
   "execution_count": 4,
   "metadata": {},
   "outputs": [
    {
     "name": "stdout",
     "output_type": "stream",
     "text": [
      "Snail position 30 ||Days passed 0\n",
      "Snail position 10\n",
      "Snail position 31 ||Days passed 1\n",
      "Snail position 11\n",
      "Snail position 44 ||Days passed 2\n",
      "Snail position 24\n",
      "Snail position 101 ||Days passed 3\n",
      "Snail position 81\n",
      "Snail position 125 ||Days passed 4\n",
      "Snail position 105\n",
      "Snail position 150 ||Days passed 5\n",
      "THE SNAIL MADE IT TO THE TOP IN 5 DAYS\n"
     ]
    }
   ],
   "source": [
    "well_height = 126\n",
    "advance_cm = [30, 21, 33, 77, 44, 45, 23, 45, 12, 34, 55]\n",
    "nightly_distance = -20\n",
    "snail_position = 0\n",
    "days = 0\n",
    "day = True\n",
    "night = False\n",
    "i = 0\n",
    "\n",
    "while(snail_position < well_height):\n",
    "    if(day == True):\n",
    "        snail_position += advance_cm[i]       \n",
    "        day = False\n",
    "        night= True   \n",
    "        print(\"Snail position\",snail_position,\"||Days passed\",days)\n",
    "    elif(night == True):\n",
    "        snail_position += nightly_distance\n",
    "        day = True\n",
    "        night= False\n",
    "        days += 1\n",
    "        i+= 1\n",
    "        print(\"Snail position\",snail_position)\n",
    "        \n",
    "print(\"THE SNAIL MADE IT TO THE TOP IN\",days,\"DAYS\")"
   ]
  },
  {
   "cell_type": "markdown",
   "metadata": {},
   "source": [
    "#### 2. What is its maximum displacement in one day? And its minimum? Calculate the displacement using only the travel distance of the days used to get out of the well. \n",
    "**Hint**: Remember that displacement means the total distance risen taking into account that the snail slides at night.  "
   ]
  },
  {
   "cell_type": "code",
   "execution_count": 10,
   "metadata": {},
   "outputs": [
    {
     "name": "stdout",
     "output_type": "stream",
     "text": [
      "Snail position 30\n",
      "Snail position 10 ||Displacement [116]\n",
      "Snail position 31\n",
      "Snail position 11 ||Displacement [116, 115]\n",
      "Snail position 44\n",
      "Snail position 24 ||Displacement [116, 115, 102]\n",
      "Snail position 101\n",
      "Snail position 81 ||Displacement [116, 115, 102, 45]\n",
      "Snail position 125\n",
      "Snail position 105 ||Displacement [116, 115, 102, 45, 21]\n",
      "Snail position 150\n",
      "THE MAXIMUM DISPLACEMENT WAS 116 CM, AND THE MINIMUM WAS 21 CM\n"
     ]
    }
   ],
   "source": [
    "displacements = []\n",
    "well_height = 126\n",
    "advance_cm = [30, 21, 33, 77, 44, 45, 23, 45, 12, 34, 55]\n",
    "nightly_distance = -20\n",
    "snail_position = 0\n",
    "days = 0\n",
    "day = True\n",
    "night = False\n",
    "i = 0\n",
    "\n",
    "while(snail_position < well_height):\n",
    "    if(day == True):\n",
    "        snail_position += advance_cm[i]       \n",
    "        day = False\n",
    "        night= True   \n",
    "        print(\"Snail position\",snail_position)\n",
    "    elif(night == True):\n",
    "        snail_position += nightly_distance\n",
    "        day = True\n",
    "        night= False\n",
    "        i+= 1\n",
    "        displacements.append(well_height - snail_position)\n",
    "        print(\"Snail position\",snail_position ,\"||Displacement\",displacements) \n",
    "        \n",
    "print(\"THE MAXIMUM DISPLACEMENT WAS\",max(displacements),\"CM, AND THE MINIMUM WAS\",min(displacements),\"CM\")"
   ]
  },
  {
   "cell_type": "markdown",
   "metadata": {},
   "source": [
    "#### 3. What is its average progress? Take into account the snail slides at night."
   ]
  },
  {
   "cell_type": "code",
   "execution_count": 11,
   "metadata": {},
   "outputs": [
    {
     "name": "stdout",
     "output_type": "stream",
     "text": [
      "THE AVERAGE PROGRESS IS 79.8 CM PER DAY\n"
     ]
    }
   ],
   "source": [
    "avg_progress = sum(displacements)/len(displacements)\n",
    "print(\"THE AVERAGE PROGRESS IS\",(avg_progress),\"CM PER DAY\")"
   ]
  },
  {
   "cell_type": "markdown",
   "metadata": {},
   "source": [
    "#### 4. What is the standard deviation of its displacement? Take into account the snail slides at night."
   ]
  },
  {
   "cell_type": "code",
   "execution_count": 16,
   "metadata": {},
   "outputs": [
    {
     "name": "stdout",
     "output_type": "stream",
     "text": [
      "THE STANDARD DEVIATION IS 39.270345045593885 CM\n"
     ]
    }
   ],
   "source": [
    "import statistics \n",
    "\n",
    "print(\"THE STANDARD DEVIATION IS\",statistics.pstdev( displacements), \"CM\")"
   ]
  }
 ],
 "metadata": {
  "kernelspec": {
   "display_name": "Python 3.7 (tensorflow)",
   "language": "python",
   "name": "tensorflow"
  },
  "language_info": {
   "codemirror_mode": {
    "name": "ipython",
    "version": 3
   },
   "file_extension": ".py",
   "mimetype": "text/x-python",
   "name": "python",
   "nbconvert_exporter": "python",
   "pygments_lexer": "ipython3",
   "version": "3.7.7"
  }
 },
 "nbformat": 4,
 "nbformat_minor": 2
}
