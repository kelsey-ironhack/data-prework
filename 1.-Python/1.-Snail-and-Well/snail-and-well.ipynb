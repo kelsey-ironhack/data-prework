{
 "cells": [
  {
   "cell_type": "markdown",
   "metadata": {},
   "source": [
    "<img src=\"https://bit.ly/2VnXWr2\" width=\"100\" align=\"left\">"
   ]
  },
  {
   "cell_type": "markdown",
   "metadata": {},
   "source": [
    "# The Snail and the Well\n",
    "\n",
    "A snail falls at the bottom of a 125 cm well. Each day the snail rises 30 cm. But at night, while sleeping, slides 20 cm because the walls are wet. How many days does it take for the snail to escape the well?\n",
    "\n",
    "**Hint**: The snail gets out of the well when it surpasses the 125cm of height.\n",
    "\n",
    "## Tools\n",
    "\n",
    "1. Loop: **while**\n",
    "2. Conditional statements: **if-else**\n",
    "3. Function: **print()**\n",
    "\n",
    "## Tasks\n",
    "\n",
    "#### 1. Assign the challenge data to variables with representative names: `well_height`, `daily_distance`, `nightly_distance` and `snail_position`."
   ]
  },
  {
   "cell_type": "code",
   "execution_count": 4,
   "metadata": {},
   "outputs": [],
   "source": [
    "well_height=125\n",
    "daily_distance=30\n",
    "nightly_distance=20\n",
    "snail_position=0"
   ]
  },
  {
   "cell_type": "markdown",
   "metadata": {},
   "source": [
    "#### 2. Create a variable `days` to keep count of the days that pass until the snail escapes the well. "
   ]
  },
  {
   "cell_type": "code",
   "execution_count": 5,
   "metadata": {},
   "outputs": [],
   "source": [
    "days=0"
   ]
  },
  {
   "cell_type": "markdown",
   "metadata": {},
   "source": [
    "#### 3. Find the solution to the challenge using the variables defined above. "
   ]
  },
  {
   "cell_type": "code",
   "execution_count": 6,
   "metadata": {},
   "outputs": [
    {
     "name": "stdout",
     "output_type": "stream",
     "text": [
      "Day 1 :\n",
      "The snail has climbed 30 cm.\n",
      "The snail has fallen 20 cm.\n",
      "Day 2 :\n",
      "The snail has climbed 30 cm.\n",
      "The snail has fallen 20 cm.\n",
      "Day 3 :\n",
      "The snail has climbed 30 cm.\n",
      "The snail has fallen 20 cm.\n",
      "Day 4 :\n",
      "The snail has climbed 30 cm.\n",
      "The snail has fallen 20 cm.\n",
      "Day 5 :\n",
      "The snail has climbed 30 cm.\n",
      "The snail has fallen 20 cm.\n",
      "Day 6 :\n",
      "The snail has climbed 30 cm.\n",
      "The snail has fallen 20 cm.\n",
      "Day 7 :\n",
      "The snail has climbed 30 cm.\n",
      "The snail has fallen 20 cm.\n",
      "Day 8 :\n",
      "The snail has climbed 30 cm.\n",
      "The snail has fallen 20 cm.\n",
      "Day 9 :\n",
      "The snail has climbed 30 cm.\n",
      "The snail has fallen 20 cm.\n",
      "Day 10 :\n",
      "The snail has climbed 30 cm.\n",
      "The snail has fallen 20 cm.\n",
      "Day 11 :\n",
      "The snail has climbed 30 cm.\n"
     ]
    }
   ],
   "source": [
    "while snail_position<well_height:\n",
    "    print(\"Day\",days+1,\":\")\n",
    "    snail_position=snail_position+daily_distance\n",
    "    print(\"The snail has climbed\",daily_distance,\"cm.\")\n",
    "    if snail_position<well_height:\n",
    "        snail_position=snail_position-nightly_distance\n",
    "        print(\"The snail has fallen\",nightly_distance,\"cm.\")\n",
    "    days=days+1"
   ]
  },
  {
   "cell_type": "markdown",
   "metadata": {},
   "source": [
    "#### 4. Print the solution."
   ]
  },
  {
   "cell_type": "code",
   "execution_count": 7,
   "metadata": {},
   "outputs": [
    {
     "name": "stdout",
     "output_type": "stream",
     "text": [
      "The snail has climbed the well! It only took it 11 days\n"
     ]
    }
   ],
   "source": [
    "print(\"The snail has climbed the well! It only took it\",days,\"days\")"
   ]
  },
  {
   "cell_type": "markdown",
   "metadata": {},
   "source": [
    "## Bonus\n",
    "The distance traveled by the snail each day is now defined by a list.\n",
    "```\n",
    "advance_cm = [30, 21, 33, 77, 44, 45, 23, 45, 12, 34, 55]\n",
    "```\n",
    "On the first day, the snail rises 30cm but during the night it slides 20cm. On the second day, the snail rises 21cm but during the night it slides 20cm, and so on. \n",
    "\n",
    "#### 1. How many days does it take for the snail to escape the well?\n",
    "Follow the same guidelines as in the previous challenge.\n",
    "\n",
    "**Hint**: Remember that the snail gets out of the well when it surpasses the 125cm of height."
   ]
  },
  {
   "cell_type": "code",
   "execution_count": 13,
   "metadata": {},
   "outputs": [
    {
     "name": "stdout",
     "output_type": "stream",
     "text": [
      "Day 1 :\n",
      "The snail has climbed 30 cm.\n",
      "The snail has fallen 20 cm.\n",
      "Day 2 :\n",
      "The snail has climbed 21 cm.\n",
      "The snail has fallen 20 cm.\n",
      "Day 3 :\n",
      "The snail has climbed 33 cm.\n",
      "The snail has fallen 20 cm.\n",
      "Day 4 :\n",
      "The snail has climbed 77 cm.\n",
      "The snail has fallen 20 cm.\n",
      "Day 5 :\n",
      "The snail has climbed 44 cm.\n",
      "The snail has climbed the well! It only took it 5 days\n"
     ]
    }
   ],
   "source": [
    "advance_cm = [30, 21, 33, 77, 44, 45, 23, 45, 12, 34, 55]\n",
    "nightly_distance=20\n",
    "snail_position=0\n",
    "days=0\n",
    "displacement=[]\n",
    "while snail_position<well_height:\n",
    "    print(\"Day\",days+1,\":\")\n",
    "    snail_position=snail_position+advance_cm[days]\n",
    "    print(\"The snail has climbed\",advance_cm[days],\"cm.\")\n",
    "    if snail_position<well_height:\n",
    "        snail_position=snail_position-nightly_distance\n",
    "        print(\"The snail has fallen\",nightly_distance,\"cm.\")\n",
    "        displacement.append(advance_cm[days]-nightly_distance)\n",
    "    days=days+1\n",
    "displacement.append(advance_cm[days])\n",
    "print(\"The snail has climbed the well! It only took it\",days,\"days\")"
   ]
  },
  {
   "cell_type": "markdown",
   "metadata": {},
   "source": [
    "#### 2. What is its maximum displacement in one day? And its minimum? Calculate the displacement using only the travel distance of the days used to get out of the well. \n",
    "**Hint**: Remember that displacement means the total distance risen taking into account that the snail slides at night.  "
   ]
  },
  {
   "cell_type": "code",
   "execution_count": 14,
   "metadata": {},
   "outputs": [
    {
     "name": "stdout",
     "output_type": "stream",
     "text": [
      "The maximum displacement in one day was 57 cm\n",
      "The minimum displacement in one day was 1 cm\n"
     ]
    }
   ],
   "source": [
    "print(\"The maximum displacement in one day was\",max(displacement),\"cm\")\n",
    "print(\"The minimum displacement in one day was\",min(displacement),\"cm\")"
   ]
  },
  {
   "cell_type": "markdown",
   "metadata": {},
   "source": [
    "#### 3. What is its average progress? Take into account the snail slides at night."
   ]
  },
  {
   "cell_type": "code",
   "execution_count": 15,
   "metadata": {},
   "outputs": [
    {
     "name": "stdout",
     "output_type": "stream",
     "text": [
      "The average progress was 25.2 cm\n"
     ]
    }
   ],
   "source": [
    "print(\"The average progress was\",sum(displacement)/len(displacement),\"cm\")"
   ]
  },
  {
   "cell_type": "markdown",
   "metadata": {},
   "source": [
    "#### 4. What is the standard deviation of its displacement? Take into account the snail slides at night."
   ]
  },
  {
   "cell_type": "code",
   "execution_count": 18,
   "metadata": {},
   "outputs": [
    {
     "name": "stdout",
     "output_type": "stream",
     "text": [
      "The standard deviation of its displacement was 24.335159748807897 cm\n"
     ]
    }
   ],
   "source": [
    "import statistics\n",
    "print(\"The standard deviation of its displacement was\",statistics.stdev(displacement),\"cm\")"
   ]
  }
 ],
 "metadata": {
  "kernelspec": {
   "display_name": "Python 3",
   "language": "python",
   "name": "python3"
  },
  "language_info": {
   "codemirror_mode": {
    "name": "ipython",
    "version": 3
   },
   "file_extension": ".py",
   "mimetype": "text/x-python",
   "name": "python",
   "nbconvert_exporter": "python",
   "pygments_lexer": "ipython3",
   "version": "3.8.8"
  }
 },
 "nbformat": 4,
 "nbformat_minor": 2
}
