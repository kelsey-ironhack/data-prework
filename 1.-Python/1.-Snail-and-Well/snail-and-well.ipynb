{
 "cells": [
  {
   "cell_type": "markdown",
   "metadata": {},
   "source": [
    "<img src=\"https://bit.ly/2VnXWr2\" width=\"100\" align=\"left\">"
   ]
  },
  {
   "cell_type": "markdown",
   "metadata": {},
   "source": [
    "# The Snail and the Well\n",
    "\n",
    "A snail falls at the bottom of a 125 cm well. Each day the snail rises 30 cm. But at night, while sleeping, slides 20 cm because the walls are wet. How many days does it take for the snail to escape the well?\n",
    "\n",
    "**Hint**: The snail gets out of the well when it surpasses the 125cm of height.\n",
    "\n",
    "## Tools\n",
    "\n",
    "1. Loop: **while**\n",
    "2. Conditional statements: **if-else**\n",
    "3. Function: **print()**\n",
    "\n",
    "## Tasks\n",
    "\n",
    "#### 1. Assign the challenge data to variables with representative names: `well_height`, `daily_distance`, `nightly_distance` and `snail_position`."
   ]
  },
  {
   "cell_type": "code",
   "execution_count": 2,
   "metadata": {},
   "outputs": [],
   "source": [
    "well_height = 125\n",
    "daily_distance = 30\n",
    "nightly_distance = 20\n",
    "snail_position = 0"
   ]
  },
  {
   "cell_type": "markdown",
   "metadata": {},
   "source": [
    "#### 2. Create a variable `days` to keep count of the days that pass until the snail escapes the well. "
   ]
  },
  {
   "cell_type": "code",
   "execution_count": 3,
   "metadata": {},
   "outputs": [],
   "source": [
    "days = 0"
   ]
  },
  {
   "cell_type": "markdown",
   "metadata": {},
   "source": [
    "#### 3. Find the solution to the challenge using the variables defined above. "
   ]
  },
  {
   "cell_type": "code",
   "execution_count": 34,
   "metadata": {},
   "outputs": [
    {
     "name": "stdout",
     "output_type": "stream",
     "text": [
      "Dia 1: El caracol esta en el fondo\n",
      "10\n",
      "Dia: 2 , posicion del caracol: 20 cm\n",
      "Dia: 3 , posicion del caracol: 30 cm\n",
      "Dia: 4 , posicion del caracol: 40 cm\n",
      "Dia: 5 , posicion del caracol: 50 cm\n",
      "Dia: 6 , posicion del caracol: 60 cm\n",
      "Dia: 7 , posicion del caracol: 70 cm\n",
      "Dia: 8 , posicion del caracol: 80 cm\n",
      "Dia: 9 , posicion del caracol: 90 cm\n",
      "Dia: 10 , posicion del caracol: 100 cm\n",
      "Dia: 11 , posicion del caracol: 110 cm\n",
      "Dia: 12 , posicion del caracol: 120 cm\n",
      "Dia: 13 , el caracol salio del pozo\n"
     ]
    }
   ],
   "source": [
    "well_height = 125\n",
    "daily_distance = 30\n",
    "nightly_distance = 20\n",
    "snail_position = 0\n",
    "\n",
    "days = 0\n",
    "\n",
    "print (\"Dia 1: El caracol esta en el fondo\")\n",
    "days = 1\n",
    "snail_position = snail_position + (daily_distance - nightly_distance)\n",
    "print (snail_position)\n",
    "\n",
    "while snail_position < well_height:\n",
    "    days = days + 1\n",
    "    snail_position = snail_position + (daily_distance - nightly_distance)\n",
    "    if snail_position > 125:\n",
    "        print ('Dia:',days,', el caracol salio del pozo')\n",
    "    else:\n",
    "        print ('Dia:',days,', posicion del caracol:',snail_position, \"cm\")\n"
   ]
  },
  {
   "cell_type": "markdown",
   "metadata": {},
   "source": [
    "#### 4. Print the solution."
   ]
  },
  {
   "cell_type": "code",
   "execution_count": 35,
   "metadata": {},
   "outputs": [
    {
     "name": "stdout",
     "output_type": "stream",
     "text": [
      "El caracol sale del pozo en el dia 13, al superar los 125 cm del pozo\n"
     ]
    }
   ],
   "source": [
    "print ('El caracol sale del pozo en el dia 13, al superar los 125 cm del pozo')"
   ]
  },
  {
   "cell_type": "markdown",
   "metadata": {},
   "source": [
    "## Bonus\n",
    "The distance traveled by the snail each day is now defined by a list.\n",
    "```\n",
    "advance_cm = [30, 21, 33, 77, 44, 45, 23, 45, 12, 34, 55]\n",
    "```\n",
    "On the first day, the snail rises 30cm but during the night it slides 20cm. On the second day, the snail rises 21cm but during the night it slides 20cm, and so on. \n",
    "\n",
    "#### 1. How many days does it take for the snail to escape the well?\n",
    "Follow the same guidelines as in the previous challenge.\n",
    "\n",
    "**Hint**: Remember that the snail gets out of the well when it surpasses the 125cm of height."
   ]
  },
  {
   "cell_type": "code",
   "execution_count": 50,
   "metadata": {},
   "outputs": [
    {
     "name": "stdout",
     "output_type": "stream",
     "text": [
      "Dia: 1 , posicion del caracol: 10 cm\n",
      "Dia: 2 , posicion del caracol: 11 cm\n",
      "Dia: 3 , posicion del caracol: 24 cm\n",
      "Dia: 4 , posicion del caracol: 81 cm\n",
      "Dia: 5 , posicion del caracol: 105 cm\n",
      "Dia: 6 , el caracol salio del pozo\n",
      "Dia: 7 , el caracol salio del pozo\n",
      "Dia: 8 , el caracol salio del pozo\n",
      "Dia: 9 , el caracol salio del pozo\n",
      "Dia: 10 , el caracol salio del pozo\n",
      "Dia: 11 , el caracol salio del pozo\n"
     ]
    }
   ],
   "source": [
    "advance_cm = [30, 21, 33, 77, 44, 45, 23, 45, 12, 34, 55]\n",
    "snail_position = 0\n",
    "days = 0\n",
    "\n",
    "for cm in advance_cm:\n",
    "    days = days + 1\n",
    "    cm = cm-20\n",
    "    snail_position= snail_position + cm\n",
    "    if snail_position < 125:\n",
    "        print ('Dia:', days,', posicion del caracol:',snail_position, 'cm')\n",
    "    elif snail_position > 125 & days != days +1:\n",
    "        print ('Dia:',days,', el caracol salio del pozo')"
   ]
  },
  {
   "cell_type": "markdown",
   "metadata": {},
   "source": [
    "#### 2. What is its maximum displacement in one day? And its minimum? Calculate the displacement using only the travel distance of the days used to get out of the well. \n",
    "**Hint**: Remember that displacement means the total distance risen taking into account that the snail slides at night.  "
   ]
  },
  {
   "cell_type": "code",
   "execution_count": 87,
   "metadata": {},
   "outputs": [
    {
     "name": "stdout",
     "output_type": "stream",
     "text": [
      "Avance total del caracol por dia en cm [10, 1, 13, 57, 24, 25, 3, 25, 0, 14, 35]\n",
      "Dia: 1 , posicion del caracol: 10 cm\n",
      "Dia: 2 , posicion del caracol: 11 cm\n",
      "Dia: 3 , posicion del caracol: 24 cm\n",
      "Dia: 4 , posicion del caracol: 81 cm\n",
      "Dia: 5 , posicion del caracol: 105 cm\n",
      "Dia: 6 , el caracol salio, sobrando: 5 cm\n",
      "Avance total del caracol por dia hasta salir del pozo: [10, 1, 13, 57, 24, 25]\n",
      "Maximo desplazamiento del caracol: 57 cm, Minimo: 1 cm\n"
     ]
    }
   ],
   "source": [
    "advance_cm = [30, 21, 33, 77, 44, 45, 23, 45, 12, 34, 55]\n",
    "total_advance = []\n",
    "snail_position = 0\n",
    "days = 0\n",
    "well_height = 125\n",
    "\n",
    "for cm in advance_cm:\n",
    "    cm = cm-20\n",
    "    if cm > 0:\n",
    "        total_advance.append(cm)\n",
    "    else:\n",
    "        total_advance.append(0)\n",
    "       \n",
    "\n",
    "\n",
    "print ('Avance total del caracol por dia en cm',total_advance)\n",
    "\n",
    "days = 1\n",
    "snail_position = snail_position + total_advance[0]\n",
    "print (\"Dia:\",days,\", posicion del caracol:\",snail_position, 'cm')\n",
    "\n",
    "while snail_position < well_height:\n",
    "    \n",
    "    snail_position = snail_position + total_advance[days]\n",
    "    days = days + 1\n",
    "    if snail_position < 125:\n",
    "        print ('Dia:',days,', posicion del caracol:',snail_position, \"cm\")\n",
    "        \n",
    "print (\"Dia:\", days,', el caracol salio, sobrando:',snail_position-well_height,'cm')\n",
    "\n",
    "print ('Avance total del caracol por dia hasta salir del pozo:',total_advance[:6])\n",
    "print ('Maximo desplazamiento del caracol: 57 cm, Minimo: 1 cm')\n",
    "   "
   ]
  },
  {
   "cell_type": "markdown",
   "metadata": {},
   "source": [
    "#### 3. What is its average progress? Take into account the snail slides at night."
   ]
  },
  {
   "cell_type": "code",
   "execution_count": 93,
   "metadata": {},
   "outputs": [
    {
     "name": "stdout",
     "output_type": "stream",
     "text": [
      "Promedio: 21.666666666666668\n"
     ]
    }
   ],
   "source": [
    "total_advance[:6]\n",
    "print('Promedio:',sum(total_advance[:6])/len(total_advance[:6]))\n"
   ]
  },
  {
   "cell_type": "markdown",
   "metadata": {},
   "source": [
    "#### 4. What is the standard deviation of its displacement? Take into account the snail slides at night."
   ]
  },
  {
   "cell_type": "code",
   "execution_count": 98,
   "metadata": {},
   "outputs": [
    {
     "data": {
      "text/plain": [
       "19.510680835549195"
      ]
     },
     "execution_count": 98,
     "metadata": {},
     "output_type": "execute_result"
    }
   ],
   "source": [
    "import statistics\n",
    "statistics.stdev(total_advance[:6])"
   ]
  },
  {
   "cell_type": "code",
   "execution_count": null,
   "metadata": {},
   "outputs": [],
   "source": []
  }
 ],
 "metadata": {
  "kernelspec": {
   "display_name": "Python 3",
   "language": "python",
   "name": "python3"
  },
  "language_info": {
   "codemirror_mode": {
    "name": "ipython",
    "version": 3
   },
   "file_extension": ".py",
   "mimetype": "text/x-python",
   "name": "python",
   "nbconvert_exporter": "python",
   "pygments_lexer": "ipython3",
   "version": "3.8.3"
  }
 },
 "nbformat": 4,
 "nbformat_minor": 2
}
