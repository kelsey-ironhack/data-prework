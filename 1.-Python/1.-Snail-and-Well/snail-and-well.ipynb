{
 "cells": [
  {
   "cell_type": "markdown",
   "metadata": {},
   "source": [
    "<img src=\"https://bit.ly/2VnXWr2\" width=\"100\" align=\"left\">"
   ]
  },
  {
   "cell_type": "markdown",
   "metadata": {},
   "source": [
    "# The Snail and the Well\n",
    "\n",
    "A snail falls at the bottom of a 125 cm well. Each day the snail rises 30 cm. But at night, while sleeping, slides 20 cm because the walls are wet. How many days does it take for the snail to escape the well?\n",
    "\n",
    "**Hint**: The snail gets out of the well when it surpasses the 125cm of height.\n",
    "\n",
    "## Tools\n",
    "\n",
    "1. Loop: **while**\n",
    "2. Conditional statements: **if-else**\n",
    "3. Function: **print()**\n",
    "\n",
    "## Tasks\n",
    "\n",
    "#### 1. Assign the challenge data to variables with representative names: `well_height`, `daily_distance`, `nightly_distance` and `snail_position`."
   ]
  },
  {
   "cell_type": "code",
   "execution_count": 1,
   "metadata": {},
   "outputs": [],
   "source": [
    "well_height = 125\n",
    "daily_distance = 30\n",
    "nightly_distance = 20\n",
    "snail_position = 0"
   ]
  },
  {
   "cell_type": "markdown",
   "metadata": {},
   "source": [
    "#### 2. Create a variable `days` to keep count of the days that pass until the snail escapes the well. "
   ]
  },
  {
   "cell_type": "code",
   "execution_count": 2,
   "metadata": {},
   "outputs": [],
   "source": [
    "days = 0"
   ]
  },
  {
   "cell_type": "markdown",
   "metadata": {},
   "source": [
    "#### 3. Find the solution to the challenge using the variables defined above. "
   ]
  },
  {
   "cell_type": "code",
   "execution_count": 3,
   "metadata": {},
   "outputs": [
    {
     "name": "stdout",
     "output_type": "stream",
     "text": [
      "Day 1, snail covered 10\n",
      "Day 2, snail covered 20\n",
      "Day 3, snail covered 30\n",
      "Day 4, snail covered 40\n",
      "Day 5, snail covered 50\n",
      "Day 6, snail covered 60\n",
      "Day 7, snail covered 70\n",
      "Day 8, snail covered 80\n",
      "Day 9, snail covered 90\n",
      "Day 10, snail covered 100\n"
     ]
    }
   ],
   "source": [
    "while snail_position < well_height:\n",
    "    days += 1\n",
    "    snail_position += daily_distance\n",
    "    if snail_position >= well_height:\n",
    "        break\n",
    "    snail_position -= nightly_distance\n",
    "    print(\"Day \" + str(days) + \", snail covered \" + str(snail_position))"
   ]
  },
  {
   "cell_type": "markdown",
   "metadata": {},
   "source": [
    "#### 4. Print the solution."
   ]
  },
  {
   "cell_type": "code",
   "execution_count": 4,
   "metadata": {},
   "outputs": [
    {
     "name": "stdout",
     "output_type": "stream",
     "text": [
      "The snail gets out of the well on day 11\n"
     ]
    }
   ],
   "source": [
    "print(\"The snail gets out of the well on day \" + str(days))"
   ]
  },
  {
   "cell_type": "markdown",
   "metadata": {},
   "source": [
    "## Bonus\n",
    "The distance traveled by the snail each day is now defined by a list.\n",
    "```\n",
    "advance_cm = [30, 21, 33, 77, 44, 45, 23, 45, 12, 34, 55]\n",
    "```\n",
    "On the first day, the snail rises 30cm but during the night it slides 20cm. On the second day, the snail rises 21cm but during the night it slides 20cm, and so on. \n",
    "\n",
    "#### 1. How many days does it take for the snail to escape the well?\n",
    "Follow the same guidelines as in the previous challenge.\n",
    "\n",
    "**Hint**: Remember that the snail gets out of the well when it surpasses the 125cm of height."
   ]
  },
  {
   "cell_type": "code",
   "execution_count": 5,
   "metadata": {},
   "outputs": [
    {
     "name": "stdout",
     "output_type": "stream",
     "text": [
      "Day 1 the snail travelled 10\n",
      "Day 2 the snail travelled 11\n",
      "Day 3 the snail travelled 24\n",
      "Day 4 the snail travelled 81\n",
      "The snail escapes on day 5\n"
     ]
    }
   ],
   "source": [
    "advance_cm = [30, 21, 33, 77, 44, 45, 23, 45, 12, 34, 55]\n",
    "advance_days = 0\n",
    "advance_position = 0\n",
    "for height in advance_cm:\n",
    "    advance_days += 1\n",
    "    advance_position += height\n",
    "    if advance_position >= well_height:\n",
    "        break\n",
    "    advance_position -= nightly_distance\n",
    "    print(\"Day \" + str(advance_days) + \" the snail travelled \" + str(advance_position))\n",
    "print(\"The snail escapes on day \" + str(advance_days))"
   ]
  },
  {
   "cell_type": "markdown",
   "metadata": {},
   "source": [
    "#### 2. What is its maximum displacement in one day? And its minimum? Calculate the displacement using only the travel distance of the days used to get out of the well. \n",
    "**Hint**: Remember that displacement means the total distance risen taking into account that the snail slides at night.  "
   ]
  },
  {
   "cell_type": "code",
   "execution_count": 7,
   "metadata": {},
   "outputs": [
    {
     "name": "stdout",
     "output_type": "stream",
     "text": [
      "[30, 21, 33, 77, 44]\n",
      "[10, 1, 13, 57, 44]\n",
      "The minimum displacement is 1\n",
      "The maximum displacement is 57\n"
     ]
    }
   ],
   "source": [
    "displacement = []\n",
    "active_days = advance_cm[0:5]\n",
    "print(active_days)\n",
    "height_travelled = 0\n",
    "for day in active_days:\n",
    "    height_travelled += day\n",
    "    if height_travelled < well_height:\n",
    "        displacement.append(day - nightly_distance)\n",
    "        height_travelled -= nightly_distance\n",
    "    elif height_travelled >= well_height:\n",
    "        displacement.append(day)\n",
    "print(displacement)\n",
    "mindisp = min(displacement)\n",
    "maxdisp = max(displacement)\n",
    "print(\"The minimum displacement is: \" + str(mindisp))\n",
    "print(\"The maximum displacement is :\" + str(maxdisp))"
   ]
  },
  {
   "cell_type": "markdown",
   "metadata": {},
   "source": [
    "#### 3. What is its average progress? Take into account the snail slides at night."
   ]
  },
  {
   "cell_type": "code",
   "execution_count": 8,
   "metadata": {},
   "outputs": [
    {
     "name": "stdout",
     "output_type": "stream",
     "text": [
      "The average progress is: 25.0\n"
     ]
    }
   ],
   "source": [
    "def Average(lst): \n",
    "    return sum(lst) / len(lst)\n",
    "average_progress = Average(displacement)\n",
    "print(\"The average progress is: \" + str(average_progress))"
   ]
  },
  {
   "cell_type": "markdown",
   "metadata": {},
   "source": [
    "#### 4. What is the standard deviation of its displacement? Take into account the snail slides at night."
   ]
  },
  {
   "cell_type": "code",
   "execution_count": 11,
   "metadata": {},
   "outputs": [
    {
     "name": "stdout",
     "output_type": "stream",
     "text": [
      "The standard deviation is: 21.587033144922902\n"
     ]
    }
   ],
   "source": [
    "import numpy as np\n",
    "standard_deviation = np.std(displacement)\n",
    "print(\"The standard deviation is: \" + str(standard_deviation))"
   ]
  }
 ],
 "metadata": {
  "kernelspec": {
   "display_name": "Python 3",
   "language": "python",
   "name": "python3"
  },
  "language_info": {
   "codemirror_mode": {
    "name": "ipython",
    "version": 3
   },
   "file_extension": ".py",
   "mimetype": "text/x-python",
   "name": "python",
   "nbconvert_exporter": "python",
   "pygments_lexer": "ipython3",
   "version": "3.7.6"
  }
 },
 "nbformat": 4,
 "nbformat_minor": 2
}
