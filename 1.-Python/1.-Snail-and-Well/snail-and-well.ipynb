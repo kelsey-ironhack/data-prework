{
 "cells": [
  {
   "cell_type": "markdown",
   "metadata": {},
   "source": [
    "<img src=\"https://bit.ly/2VnXWr2\" width=\"100\" align=\"left\">"
   ]
  },
  {
   "cell_type": "markdown",
   "metadata": {},
   "source": [
    "# The Snail and the Well\n",
    "\n",
    "A snail falls at the bottom of a 125 cm well. Each day the snail rises 30 cm. But at night, while sleeping, slides 20 cm because the walls are wet. How many days does it take for the snail to escape the well?\n",
    "\n",
    "**Hint**: The snail gets out of the well when it surpasses the 125cm of height.\n",
    "\n",
    "## Tools\n",
    "\n",
    "1. Loop: **while**\n",
    "2. Conditional statements: **if-else**\n",
    "3. Function: **print()**\n",
    "\n",
    "## Tasks\n",
    "\n",
    "#### 1. Assign the challenge data to variables with representative names: `well_height`, `daily_distance`, `nightly_distance` and `snail_position`."
   ]
  },
  {
   "cell_type": "code",
   "execution_count": 3,
   "metadata": {},
   "outputs": [],
   "source": [
    "well_height=125\n",
    "daily_distance=30\n",
    "nightly_distance=20\n",
    "snail_position=0\n"
   ]
  },
  {
   "cell_type": "markdown",
   "metadata": {},
   "source": [
    "#### 2. Create a variable `days` to keep count of the days that pass until the snail escapes the well. "
   ]
  },
  {
   "cell_type": "code",
   "execution_count": 4,
   "metadata": {},
   "outputs": [],
   "source": [
    "days=0\n"
   ]
  },
  {
   "cell_type": "markdown",
   "metadata": {},
   "source": [
    "#### 3. Find the solution to the challenge using the variables defined above. "
   ]
  },
  {
   "cell_type": "code",
   "execution_count": 5,
   "metadata": {},
   "outputs": [],
   "source": [
    "cms_per_day=daily_distance-nightly_distance\n",
    "while snail_position<well_height:\n",
    "    snail_position += cms_per_day\n",
    "    days += 1\n",
    "\n",
    "\n",
    "        "
   ]
  },
  {
   "cell_type": "markdown",
   "metadata": {},
   "source": [
    "#### 4. Print the solution."
   ]
  },
  {
   "cell_type": "code",
   "execution_count": 6,
   "metadata": {},
   "outputs": [
    {
     "name": "stdout",
     "output_type": "stream",
     "text": [
      "It took 13 days\n"
     ]
    }
   ],
   "source": [
    "print(\"It took\", days, \"days\")"
   ]
  },
  {
   "cell_type": "markdown",
   "metadata": {},
   "source": [
    "## Bonus\n",
    "The distance traveled by the snail each day is now defined by a list.\n",
    "```\n",
    "advance_cm = [30, 21, 33, 77, 44, 45, 23, 45, 12, 34, 55]\n",
    "```\n",
    "On the first day, the snail rises 30cm but during the night it slides 20cm. On the second day, the snail rises 21cm but during the night it slides 20cm, and so on. \n",
    "\n",
    "#### 1. How many days does it take for the snail to escape the well?\n",
    "Follow the same guidelines as in the previous challenge.\n",
    "\n",
    "**Hint**: Remember that the snail gets out of the well when it surpasses the 125cm of height."
   ]
  },
  {
   "cell_type": "code",
   "execution_count": 7,
   "metadata": {},
   "outputs": [
    {
     "name": "stdout",
     "output_type": "stream",
     "text": [
      "It took 6 days\n"
     ]
    }
   ],
   "source": [
    "well_height=125\n",
    "advance_cm=[30,21,33,77,44,45,23,45,12,34,55]\n",
    "nightly_distance=20\n",
    "snail_position=0\n",
    "days=0\n",
    "advance=[]\n",
    "for i in advance_cm:\n",
    "    total = i-nightly_distance\n",
    "    advance.append(total)\n",
    "if advance[0]<=well_height:\n",
    "    days=days+1\n",
    "else:\n",
    "    days=days\n",
    "if advance[0]+advance[1]<=well_height:\n",
    "    days=days+1\n",
    "else:\n",
    "    days=days\n",
    "if advance[0]+advance[1]+advance[2]<=well_height:\n",
    "    days=days+1\n",
    "else:\n",
    "    days=days\n",
    "if advance[0]+advance[1]+advance[2]+advance[3]<=well_height:\n",
    "    days=days+1\n",
    "else:\n",
    "    days=days\n",
    "if advance[0]+advance[1]+advance[2]+advance[3]+advance[4]<=well_height:\n",
    "    days=days+1\n",
    "else:\n",
    "    days=days\n",
    "if advance[0]+advance[1]+advance[2]+advance[3]+advance[4]<=well_height:\n",
    "    days=days+1\n",
    "else:\n",
    "    days=days\n",
    "if advance[0]+advance[1]+advance[2]+advance[3]+advance[4]+advance[5]<=well_height:\n",
    "    days=days+1\n",
    "else:\n",
    "    days=days\n",
    "if advance[0]+advance[1]+advance[2]+advance[3]+advance[4]+advance[5]+advance[6]<=well_height:\n",
    "    days=days+1\n",
    "else:\n",
    "    days=days\n",
    "if advance[0]+advance[1]+advance[2]+advance[3]+advance[4]+advance[5]+advance[6]+advance[7]<=well_height:\n",
    "    days=days+1\n",
    "else:\n",
    "    days=days\n",
    "if advance[0]+advance[1]+advance[2]+advance[3]+advance[4]+advance[5]+advance[6]+advance[7]+advance[8]<=well_height:\n",
    "    days=days+1\n",
    "else:\n",
    "    days=days\n",
    "if advance[0]+advance[1]+advance[2]+advance[3]+advance[4]+advance[5]+advance[6]+advance[7]+advance[8]+advance[9]<=well_height:\n",
    "    days=days+1\n",
    "else:\n",
    "    days=days\n",
    "if advance[0]+advance[1]+advance[2]+advance[3]+advance[4]+advance[5]+advance[6]+advance[7]+advance[8]+advance[9]+advance[10]<=well_height:\n",
    "    days=days+1\n",
    "else:\n",
    "    days=days\n",
    "print(\"It took\",days,\"days\")"
   ]
  },
  {
   "cell_type": "markdown",
   "metadata": {},
   "source": [
    "#### 2. What is its maximum displacement in one day? And its minimum? Calculate the displacement using only the travel distance of the days used to get out of the well. \n",
    "**Hint**: Remember that displacement means the total distance risen taking into account that the snail slides at night.  "
   ]
  },
  {
   "cell_type": "code",
   "execution_count": 8,
   "metadata": {},
   "outputs": [
    {
     "name": "stdout",
     "output_type": "stream",
     "text": [
      "[10, 1, 13, 57, 24, 25]\n",
      "The maximum displacement in one day is 57\n",
      "The minimum displacement in one day is 1\n"
     ]
    }
   ],
   "source": [
    "print(advance[0:6])\n",
    "max_displacement=max(advance[0:6])\n",
    "min_displacement=min(advance[0:6])\n",
    "print(\"The maximum displacement in one day is\",max_displacement)\n",
    "print(\"The minimum displacement in one day is\",min_displacement)"
   ]
  },
  {
   "cell_type": "markdown",
   "metadata": {},
   "source": [
    "#### 3. What is its average progress? Take into account the snail slides at night."
   ]
  },
  {
   "cell_type": "code",
   "execution_count": 12,
   "metadata": {},
   "outputs": [
    {
     "name": "stdout",
     "output_type": "stream",
     "text": [
      "The avarage progress of its displacement of the days used to get out of the well is  21.666666666666668\n"
     ]
    }
   ],
   "source": [
    "avg_advance=sum(advance[0:6])/len(advance[0:6])\n",
    "print(\"The avarage progress of its displacement of the days used to get out of the well is \",avg_advance)\n"
   ]
  },
  {
   "cell_type": "markdown",
   "metadata": {},
   "source": [
    "#### 4. What is the standard deviation of its displacement? Take into account the snail slides at night."
   ]
  },
  {
   "cell_type": "code",
   "execution_count": null,
   "metadata": {},
   "outputs": [],
   "source": []
  },
  {
   "cell_type": "code",
   "execution_count": 13,
   "metadata": {},
   "outputs": [],
   "source": [
    "import statistics\n",
    "stdv_advance=statistics.stdev(advance[0:6])\n"
   ]
  },
  {
   "cell_type": "code",
   "execution_count": 14,
   "metadata": {},
   "outputs": [
    {
     "name": "stdout",
     "output_type": "stream",
     "text": [
      "The standard deviation of its displacement of the days used to get out of the well is  19.510680835549195\n"
     ]
    }
   ],
   "source": [
    "print(\"The standard deviation of its displacement of the days used to get out of the well is \",stdv_advance)\n"
   ]
  },
  {
   "cell_type": "code",
   "execution_count": null,
   "metadata": {},
   "outputs": [],
   "source": []
  }
 ],
 "metadata": {
  "kernelspec": {
   "display_name": "Python 3",
   "language": "python",
   "name": "python3"
  },
  "language_info": {
   "codemirror_mode": {
    "name": "ipython",
    "version": 3
   },
   "file_extension": ".py",
   "mimetype": "text/x-python",
   "name": "python",
   "nbconvert_exporter": "python",
   "pygments_lexer": "ipython3",
   "version": "3.8.3"
  }
 },
 "nbformat": 4,
 "nbformat_minor": 2
}
