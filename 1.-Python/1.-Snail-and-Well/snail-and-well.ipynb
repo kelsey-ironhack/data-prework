{
  "nbformat": 4,
  "nbformat_minor": 0,
  "metadata": {
    "kernelspec": {
      "display_name": "Python 3",
      "language": "python",
      "name": "python3"
    },
    "language_info": {
      "codemirror_mode": {
        "name": "ipython",
        "version": 3
      },
      "file_extension": ".py",
      "mimetype": "text/x-python",
      "name": "python",
      "nbconvert_exporter": "python",
      "pygments_lexer": "ipython3",
      "version": "3.7.2"
    },
    "colab": {
      "name": "snail-and-well.ipynb",
      "provenance": []
    }
  },
  "cells": [
    {
      "cell_type": "markdown",
      "metadata": {
        "id": "t3IR-fi_cuUY"
      },
      "source": [
        "<img src=\"https://bit.ly/2VnXWr2\" width=\"100\" align=\"left\">"
      ]
    },
    {
      "cell_type": "markdown",
      "metadata": {
        "id": "aiiwtz5qcuUf"
      },
      "source": [
        "# The Snail and the Well\n",
        "\n",
        "A snail falls at the bottom of a 125 cm well. Each day the snail rises 30 cm. But at night, while sleeping, slides 20 cm because the walls are wet. How many days does it take for the snail to escape the well?\n",
        "\n",
        "**Hint**: The snail gets out of the well when it surpasses the 125cm of height.\n",
        "\n",
        "## Tools\n",
        "\n",
        "1. Loop: **while**\n",
        "2. Conditional statements: **if-else**\n",
        "3. Function: **print()**\n",
        "\n",
        "## Tasks\n",
        "\n",
        "#### 1. Assign the challenge data to variables with representative names: `well_height`, `daily_distance`, `nightly_distance` and `snail_position`."
      ]
    },
    {
      "cell_type": "code",
      "metadata": {
        "id": "lkrJWkYPcuUh"
      },
      "source": [
        "well_height = 125\n",
        "daily_distance = 30\n",
        "nightly_distance = 20\n",
        "snail_position = 0"
      ],
      "execution_count": 1,
      "outputs": []
    },
    {
      "cell_type": "markdown",
      "metadata": {
        "id": "8TYYAMvkcuUj"
      },
      "source": [
        "#### 2. Create a variable `days` to keep count of the days that pass until the snail escapes the well. "
      ]
    },
    {
      "cell_type": "code",
      "metadata": {
        "id": "pn6aSYtMcuUk"
      },
      "source": [
        "days = 0"
      ],
      "execution_count": 2,
      "outputs": []
    },
    {
      "cell_type": "markdown",
      "metadata": {
        "id": "DQPuRPmlcuUk"
      },
      "source": [
        "#### 3. Find the solution to the challenge using the variables defined above. "
      ]
    },
    {
      "cell_type": "code",
      "metadata": {
        "id": "p9dWhmaLcuUl"
      },
      "source": [
        "while True:\n",
        "    days += 1\n",
        "    snail_position += daily_distance\n",
        "    if snail_position >= well_height:\n",
        "        break\n",
        "    snail_position -= nightly_distance\n"
      ],
      "execution_count": 3,
      "outputs": []
    },
    {
      "cell_type": "markdown",
      "metadata": {
        "id": "x-qxoqr1cuUm"
      },
      "source": [
        "#### 4. Print the solution."
      ]
    },
    {
      "cell_type": "code",
      "metadata": {
        "colab": {
          "base_uri": "https://localhost:8080/"
        },
        "id": "WMNZokjocuUn",
        "outputId": "402462f1-2bb6-48a2-f6b7-b8006537ae70"
      },
      "source": [
        "print(days)"
      ],
      "execution_count": 4,
      "outputs": [
        {
          "output_type": "stream",
          "text": [
            "11\n"
          ],
          "name": "stdout"
        }
      ]
    },
    {
      "cell_type": "markdown",
      "metadata": {
        "id": "ST5OEgo-cuUn"
      },
      "source": [
        "## Bonus\n",
        "The distance traveled by the snail each day is now defined by a list.\n",
        "```\n",
        "advance_cm = [30, 21, 33, 77, 44, 45, 23, 45, 12, 34, 55]\n",
        "```\n",
        "On the first day, the snail rises 30cm but during the night it slides 20cm. On the second day, the snail rises 21cm but during the night it slides 20cm, and so on. \n",
        "\n",
        "#### 1. How many days does it take for the snail to escape the well?\n",
        "Follow the same guidelines as in the previous challenge.\n",
        "\n",
        "**Hint**: Remember that the snail gets out of the well when it surpasses the 125cm of height."
      ]
    },
    {
      "cell_type": "code",
      "metadata": {
        "colab": {
          "base_uri": "https://localhost:8080/"
        },
        "id": "phDzTBUjcuUo",
        "outputId": "f2ed6fcc-5c19-45ba-9176-c78e1e4a8dd5"
      },
      "source": [
        "advance_cm = [30, 21, 33, 77, 44, 45, 23, 45, 12, 34, 55]\n",
        "print(len(advance_cm))\n"
      ],
      "execution_count": 5,
      "outputs": [
        {
          "output_type": "stream",
          "text": [
            "11\n"
          ],
          "name": "stdout"
        }
      ]
    },
    {
      "cell_type": "markdown",
      "metadata": {
        "id": "9yDTFImycuUp"
      },
      "source": [
        "#### 2. What is its maximum displacement in one day? And its minimum? Calculate the displacement using only the travel distance of the days used to get out of the well. \n",
        "**Hint**: Remember that displacement means the total distance risen taking into account that the snail slides at night.  "
      ]
    },
    {
      "cell_type": "code",
      "metadata": {
        "colab": {
          "base_uri": "https://localhost:8080/"
        },
        "id": "S4WgF__ZcuUp",
        "outputId": "24edd603-a818-48c7-d4bc-b23c90288437"
      },
      "source": [
        "advance_cm = [30, 21, 33, 77, 44, 45, 23, 45, 12, 34, 55]\n",
        "print(max(advance_cm))"
      ],
      "execution_count": 6,
      "outputs": [
        {
          "output_type": "stream",
          "text": [
            "77\n"
          ],
          "name": "stdout"
        }
      ]
    },
    {
      "cell_type": "markdown",
      "metadata": {
        "id": "ZvcXEZZ_cuUq"
      },
      "source": [
        "#### 3. What is its average progress? Take into account the snail slides at night."
      ]
    },
    {
      "cell_type": "code",
      "metadata": {
        "colab": {
          "base_uri": "https://localhost:8080/"
        },
        "id": "TyTm03S2cuUq",
        "outputId": "04fb2b8a-f725-4b5c-f524-13a087cf766b"
      },
      "source": [
        "advance_cm =[30, 21, 33, 77, 44, 45, 23, 45, 12, 34, 55]\n",
        "num = sum(advance_cm)\n",
        "den = len(advance_cm)\n",
        "avg =  num / den\n",
        "print(avg)\n"
      ],
      "execution_count": 7,
      "outputs": [
        {
          "output_type": "stream",
          "text": [
            "38.09090909090909\n"
          ],
          "name": "stdout"
        }
      ]
    },
    {
      "cell_type": "markdown",
      "metadata": {
        "id": "CP--AUP5cuUr"
      },
      "source": [
        "#### 4. What is the standard deviation of its displacement? Take into account the snail slides at night."
      ]
    },
    {
      "cell_type": "code",
      "metadata": {
        "colab": {
          "base_uri": "https://localhost:8080/"
        },
        "id": "JeyUTfgWcuUr",
        "outputId": "fa289c0e-3f35-48fe-9958-73de131969a2"
      },
      "source": [
        "import numpy as np\n",
        "advance_cm =[30, 21, 33, 77, 44, 45, 23, 45, 12, 34, 55]\n",
        "print(np.std(advance_cm))"
      ],
      "execution_count": 8,
      "outputs": [
        {
          "output_type": "stream",
          "text": [
            "17.159437082600803\n"
          ],
          "name": "stdout"
        }
      ]
    }
  ]
}