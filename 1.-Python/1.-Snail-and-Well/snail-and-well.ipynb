{
 "cells": [
  {
   "cell_type": "markdown",
   "metadata": {},
   "source": [
    "<img src=\"https://bit.ly/2VnXWr2\" width=\"100\" align=\"left\">"
   ]
  },
  {
   "cell_type": "markdown",
   "metadata": {},
   "source": [
    "# The Snail and the Well\n",
    "\n",
    "A snail falls at the bottom of a 125 cm well. Each day the snail rises 30 cm. But at night, while sleeping, slides 20 cm because the walls are wet. How many days does it take for the snail to escape the well?\n",
    "\n",
    "**Hint**: The snail gets out of the well when it surpasses the 125cm of height.\n",
    "\n",
    "## Tools\n",
    "\n",
    "1. Loop: **while**\n",
    "2. Conditional statements: **if-else**\n",
    "3. Function: **print()**\n",
    "\n",
    "## Tasks\n",
    "\n",
    "#### 1. Assign the challenge data to variables with representative names: `well_height`, `daily_distance`, `nightly_distance` and `snail_position`."
   ]
  },
  {
   "cell_type": "code",
   "execution_count": 1,
   "metadata": {},
   "outputs": [],
   "source": [
    "well_height = 125\n",
    "daily_distance = 30\n",
    "nightly_distance = -20\n",
    "snail_position = 0"
   ]
  },
  {
   "cell_type": "markdown",
   "metadata": {},
   "source": [
    "#### 2. Create a variable `days` to keep count of the days that pass until the snail escapes the well. "
   ]
  },
  {
   "cell_type": "code",
   "execution_count": 2,
   "metadata": {},
   "outputs": [],
   "source": [
    "days = 0"
   ]
  },
  {
   "cell_type": "markdown",
   "metadata": {},
   "source": [
    "#### 3. Find the solution to the challenge using the variables defined above. "
   ]
  },
  {
   "cell_type": "code",
   "execution_count": 3,
   "metadata": {},
   "outputs": [
    {
     "name": "stdout",
     "output_type": "stream",
     "text": [
      "1 30 True\n",
      "2 40 True\n",
      "3 50 True\n",
      "4 60 True\n",
      "5 70 True\n",
      "6 80 True\n",
      "7 90 True\n",
      "8 100 True\n",
      "9 110 True\n",
      "10 120 True\n",
      "11 130 False\n",
      "It will take the snail 11 days to escape the well\n"
     ]
    }
   ],
   "source": [
    "while snail_position <= well_height:\n",
    "    days += 1\n",
    "    snail_position += daily_distance\n",
    "    print(days, snail_position, snail_position <= well_height)\n",
    "    if snail_position <= well_height:\n",
    "        snail_position += nightly_distance\n",
    "    else:\n",
    "        print(\"It will take the snail\", days, \"days to escape the well\")"
   ]
  },
  {
   "cell_type": "markdown",
   "metadata": {},
   "source": [
    "#### 4. Print the solution."
   ]
  },
  {
   "cell_type": "code",
   "execution_count": 5,
   "metadata": {},
   "outputs": [
    {
     "name": "stdout",
     "output_type": "stream",
     "text": [
      "It will take the snail 11 days to escape the well\n"
     ]
    }
   ],
   "source": [
    "print(\"It will take the snail\", days, \"days to escape the well\")"
   ]
  },
  {
   "cell_type": "markdown",
   "metadata": {},
   "source": [
    "## Bonus\n",
    "The distance traveled by the snail each day is now defined by a list.\n",
    "```\n",
    "advance_cm = [30, 21, 33, 77, 44, 45, 23, 45, 12, 34, 55]\n",
    "```\n",
    "On the first day, the snail rises 30cm but during the night it slides 20cm. On the second day, the snail rises 21cm but during the night it slides 20cm, and so on. \n",
    "\n",
    "#### 1. How many days does it take for the snail to escape the well?\n",
    "Follow the same guidelines as in the previous challenge.\n",
    "\n",
    "**Hint**: Remember that the snail gets out of the well when it surpasses the 125cm of height."
   ]
  },
  {
   "cell_type": "code",
   "execution_count": 6,
   "metadata": {
    "scrolled": true
   },
   "outputs": [
    {
     "name": "stdout",
     "output_type": "stream",
     "text": [
      "1 1 30\n",
      "2 2 21\n",
      "3 3 33\n",
      "4 4 77\n",
      "5 5 44\n",
      "6 6 45\n",
      "It will take the snail 6 days to escape the well\n"
     ]
    }
   ],
   "source": [
    "well_height = 125\n",
    "nightly_distance = -20\n",
    "snail_position = 0\n",
    "days = 0\n",
    "advance_cm = [30, 21, 33, 77, 44, 45, 23, 45, 12, 34, 55]\n",
    "\n",
    "while snail_position <= well_height:\n",
    "    days += 1\n",
    "    snail_position += advance_cm[days-1]\n",
    "    print(days, days, advance_cm[days-1])\n",
    "    #snail_position += advance_cm[days-1]\n",
    "    if snail_position <= well_height:\n",
    "        snail_position += nightly_distance\n",
    "    else:\n",
    "        print(\"It will take the snail\", days, \"days to escape the well\")"
   ]
  },
  {
   "cell_type": "markdown",
   "metadata": {},
   "source": [
    "#### 2. What is its maximum displacement in one day? And its minimum? Calculate the displacement using only the travel distance of the days used to get out of the well. \n",
    "**Hint**: Remember that displacement means the total distance risen taking into account that the snail slides at night.  "
   ]
  },
  {
   "cell_type": "code",
   "execution_count": 8,
   "metadata": {},
   "outputs": [
    {
     "name": "stdout",
     "output_type": "stream",
     "text": [
      "maximum displacement in one day is 57 and minimum displacement in one day is 1\n"
     ]
    }
   ],
   "source": [
    "max_displacement=max(advance_cm[:6]) + nightly_distance\n",
    "min_displacement=min(advance_cm[:6]) + nightly_distance\n",
    "print(\"maximum displacement in one day is\", max_displacement, \"and minimum displacement in one day is\", min_displacement)"
   ]
  },
  {
   "cell_type": "markdown",
   "metadata": {},
   "source": [
    "#### 3. What is its average progress? Take into account the snail slides at night."
   ]
  },
  {
   "cell_type": "code",
   "execution_count": 9,
   "metadata": {},
   "outputs": [
    {
     "name": "stdout",
     "output_type": "stream",
     "text": [
      "average displacement in one day is 21.666666666666664\n"
     ]
    }
   ],
   "source": [
    "average_displacement= sum(advance_cm[:6])/len(advance_cm[:6]) + nightly_distance\n",
    "print(\"average displacement in one day is\", average_displacement)"
   ]
  },
  {
   "cell_type": "markdown",
   "metadata": {},
   "source": [
    "#### 4. What is the standard deviation of its displacement? Take into account the snail slides at night."
   ]
  },
  {
   "cell_type": "code",
   "execution_count": 18,
   "metadata": {},
   "outputs": [
    {
     "name": "stdout",
     "output_type": "stream",
     "text": [
      "The standard deviation of its displacement is 23.752937085800994\n"
     ]
    }
   ],
   "source": [
    "import math \n",
    "\n",
    "advance_std_dv = 0\n",
    "\n",
    "for cms in advance_cm:\n",
    "    advance_std_dv += (average_displacement - cms)**2 \n",
    "    \n",
    "advance_std_dv = advance_std_dv / len(advance_cm) \n",
    "\n",
    "advance_std_dv = math.sqrt(advance_std_dv)\n",
    "print(\"The standard deviation of its displacement is\", advance_std_dv)"
   ]
  },
  {
   "cell_type": "code",
   "execution_count": null,
   "metadata": {},
   "outputs": [],
   "source": []
  }
 ],
 "metadata": {
  "kernelspec": {
   "display_name": "Python 3",
   "language": "python",
   "name": "python3"
  },
  "language_info": {
   "codemirror_mode": {
    "name": "ipython",
    "version": 3
   },
   "file_extension": ".py",
   "mimetype": "text/x-python",
   "name": "python",
   "nbconvert_exporter": "python",
   "pygments_lexer": "ipython3",
   "version": "3.9.4"
  }
 },
 "nbformat": 4,
 "nbformat_minor": 2
}
