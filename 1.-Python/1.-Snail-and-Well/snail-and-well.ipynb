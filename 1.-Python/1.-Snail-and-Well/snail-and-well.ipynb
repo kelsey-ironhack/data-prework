{
 "cells": [
  {
   "cell_type": "markdown",
   "metadata": {},
   "source": [
    "<img src=\"https://bit.ly/2VnXWr2\" width=\"100\" align=\"left\">"
   ]
  },
  {
   "cell_type": "markdown",
   "metadata": {},
   "source": [
    "# The Snail and the Well\n",
    "\n",
    "A snail falls at the bottom of a 125 cm well. Each day the snail rises 30 cm. But at night, while sleeping, slides 20 cm because the walls are wet. How many days does it take for the snail to escape the well?\n",
    "\n",
    "**Hint**: The snail gets out of the well when it surpasses the 125cm of height.\n",
    "\n",
    "## Tools\n",
    "\n",
    "1. Loop: **while**\n",
    "2. Conditional statements: **if-else**\n",
    "3. Function: **print()**\n",
    "\n",
    "## Tasks\n",
    "\n",
    "#### 1. Assign the challenge data to variables with representative names: `well_height`, `daily_distance`, `nightly_distance` and `snail_position`."
   ]
  },
  {
   "cell_type": "code",
   "execution_count": 7,
   "metadata": {},
   "outputs": [],
   "source": [
    "well_height= 125\n",
    "daily_distance = 30\n",
    "nightly_distance = 20\n",
    "snail_position = 0\n"
   ]
  },
  {
   "cell_type": "markdown",
   "metadata": {},
   "source": [
    "#### 2. Create a variable `days` to keep count of the days that pass until the snail escapes the well. "
   ]
  },
  {
   "cell_type": "code",
   "execution_count": 8,
   "metadata": {},
   "outputs": [],
   "source": [
    "days = snail_position/(daily_distance - nightly_distance)"
   ]
  },
  {
   "cell_type": "markdown",
   "metadata": {},
   "source": [
    "#### 3. Find the solution to the challenge using the variables defined above. "
   ]
  },
  {
   "cell_type": "code",
   "execution_count": 9,
   "metadata": {},
   "outputs": [
    {
     "name": "stdout",
     "output_type": "stream",
     "text": [
      "journey begins:\n",
      " 0\n",
      "10\n",
      "20\n",
      "30\n",
      "40\n",
      "50\n",
      "60\n",
      "70\n",
      "80\n",
      "90\n",
      "100\n",
      "110\n",
      "120\n",
      "125\n",
      "snail made it\n"
     ]
    }
   ],
   "source": [
    "print(\"journey begins:\\n\",snail_position)\n",
    "snail_position += (daily_distance - nightly_distance)\n",
    "print(snail_position)\n",
    "\n",
    "while snail_position < well_height:\n",
    "    snail_position += (daily_distance - nightly_distance)\n",
    "    print(snail_position)\n",
    "    \n",
    "    if snail_position == 120:\n",
    "        snail_position += 5\n",
    "        print(snail_position)\n",
    "    \n",
    "else:\n",
    "    print(\"snail made it\")\n",
    "\n",
    "\n",
    "\n",
    "    "
   ]
  },
  {
   "cell_type": "markdown",
   "metadata": {},
   "source": [
    "#### 4. Print the solution."
   ]
  },
  {
   "cell_type": "code",
   "execution_count": 46,
   "metadata": {},
   "outputs": [
    {
     "name": "stdout",
     "output_type": "stream",
     "text": [
      "12.5\n"
     ]
    }
   ],
   "source": [
    "print(snail_position/(daily_distance - nightly_distance))"
   ]
  },
  {
   "cell_type": "markdown",
   "metadata": {},
   "source": [
    "## Bonus\n",
    "The distance traveled by the snail each day is now defined by a list.\n",
    "```\n",
    "advance_cm = [30, 21, 33, 77, 44, 45, 23, 45, 12, 34, 55]\n",
    "```\n",
    "On the first day, the snail rises 30cm but during the night it slides 20cm. On the second day, the snail rises 21cm but during the night it slides 20cm, and so on. \n",
    "\n",
    "#### 1. How many days does it take for the snail to escape the well?\n",
    "Follow the same guidelines as in the previous challenge.\n",
    "\n",
    "**Hint**: Remember that the snail gets out of the well when it surpasses the 125cm of height."
   ]
  },
  {
   "cell_type": "code",
   "execution_count": 70,
   "metadata": {},
   "outputs": [
    {
     "name": "stdout",
     "output_type": "stream",
     "text": [
      "journey_begins:\n",
      " 0 n= 0\n",
      "10 n= 1\n",
      "11 n= 2\n",
      "24 n= 3\n",
      "81 n= 4\n",
      "105 n= 5\n",
      "130 n= 6\n",
      "snail made it in:\n",
      "6 days\n"
     ]
    }
   ],
   "source": [
    "advance_cm = [30, 21, 33, 77, 44, 45, 23, 45, 12, 34, 55]\n",
    "slide_cm = [20, 20, 20, 20, 20, 20, 20, 20, 20, 20, 20]\n",
    "\n",
    "bonus_well_height= 125\n",
    "bonus_snail_position = 0\n",
    "n=0\n",
    "\n",
    "\n",
    "print(\"journey_begins:\\n\",bonus_snail_position,\"n=\",n)\n",
    "bonus_snail_position += (advance_cm[n] - slide_cm[n])\n",
    "n += 1\n",
    "print(bonus_snail_position,\"n=\",n)\n",
    "\n",
    "while bonus_snail_position < bonus_well_height:\n",
    "    bonus_snail_position += (advance_cm[n] - slide_cm[n])\n",
    "    n += 1\n",
    "    print(bonus_snail_position,\"n=\",n)\n",
    "    \n",
    "else: \n",
    "    print(\"snail made it in:\")\n",
    "\n",
    "days = bonus_snail_position / n\n",
    "          \n",
    "print(n,\"days\")"
   ]
  },
  {
   "cell_type": "markdown",
   "metadata": {},
   "source": [
    "#### 2. What is its maximum displacement in one day? And its minimum? Calculate the displacement using only the travel distance of the days used to get out of the well. \n",
    "**Hint**: Remember that displacement means the total distance risen taking into account that the snail slides at night.  "
   ]
  },
  {
   "cell_type": "code",
   "execution_count": 13,
   "metadata": {},
   "outputs": [
    {
     "name": "stdout",
     "output_type": "stream",
     "text": [
      "[30, 21, 33, 77, 44, 45, 23, 45, 12, 34, 55]\n",
      "[20, 20, 20, 20, 20, 20, 20, 20, 20, 20, 20]\n",
      "[10, 1, 13, 57, 24, 25, 3, 25, -8, 14, 35]\n",
      "max displacement:  57\n",
      "min displacement:  1\n"
     ]
    }
   ],
   "source": [
    "advance = [30, 21, 33, 77, 44, 45, 23, 45, 12, 34, 55]\n",
    "slide = [20, 20, 20, 20, 20, 20, 20, 20, 20, 20, 20]\n",
    "\n",
    "print(advance)\n",
    "print(slide)\n",
    "daily_advance = []\n",
    "\n",
    "\n",
    "\n",
    "zip_object = zip(advance, slide)\n",
    "for advance_i, slide_i in zip_object:\n",
    "    daily_advance.append(advance_i - slide_i)\n",
    "    \n",
    "print(daily_advance)\n",
    "print(\"max displacement: \",max(daily_advance[0:7]))\n",
    "print(\"min displacement: \",min(daily_advance[0:7]))"
   ]
  },
  {
   "cell_type": "markdown",
   "metadata": {},
   "source": [
    "#### 3. What is its average progress? Take into account the snail slides at night."
   ]
  },
  {
   "cell_type": "code",
   "execution_count": 15,
   "metadata": {},
   "outputs": [
    {
     "name": "stdout",
     "output_type": "stream",
     "text": [
      "18.09090909090909\n"
     ]
    }
   ],
   "source": [
    "average_progress = sum(daily_advance)/len(daily_advance)\n",
    "\n",
    "print(average_progress)"
   ]
  },
  {
   "cell_type": "markdown",
   "metadata": {},
   "source": [
    "#### 4. What is the standard deviation of its displacement? Take into account the snail slides at night."
   ]
  },
  {
   "cell_type": "code",
   "execution_count": 16,
   "metadata": {},
   "outputs": [
    {
     "ename": "NameError",
     "evalue": "name 'stdev' is not defined",
     "output_type": "error",
     "traceback": [
      "\u001b[0;31m---------------------------------------------------------------------------\u001b[0m",
      "\u001b[0;31mNameError\u001b[0m                                 Traceback (most recent call last)",
      "\u001b[0;32m<ipython-input-16-b268192987d5>\u001b[0m in \u001b[0;36m<module>\u001b[0;34m\u001b[0m\n\u001b[0;32m----> 1\u001b[0;31m \u001b[0mstan\u001b[0m \u001b[0;34m=\u001b[0m \u001b[0mstdev\u001b[0m\u001b[0;34m(\u001b[0m\u001b[0mdaily_advance\u001b[0m\u001b[0;34m)\u001b[0m\u001b[0;34m\u001b[0m\u001b[0;34m\u001b[0m\u001b[0m\n\u001b[0m\u001b[1;32m      2\u001b[0m \u001b[0mstan\u001b[0m\u001b[0;34m\u001b[0m\u001b[0;34m\u001b[0m\u001b[0m\n",
      "\u001b[0;31mNameError\u001b[0m: name 'stdev' is not defined"
     ]
    }
   ],
   "source": [
    "stan = stdev(daily_advance)\n",
    "stan\n"
   ]
  },
  {
   "cell_type": "code",
   "execution_count": null,
   "metadata": {},
   "outputs": [],
   "source": []
  }
 ],
 "metadata": {
  "kernelspec": {
   "display_name": "Python 3",
   "language": "python",
   "name": "python3"
  },
  "language_info": {
   "codemirror_mode": {
    "name": "ipython",
    "version": 3
   },
   "file_extension": ".py",
   "mimetype": "text/x-python",
   "name": "python",
   "nbconvert_exporter": "python",
   "pygments_lexer": "ipython3",
   "version": "3.9.1"
  }
 },
 "nbformat": 4,
 "nbformat_minor": 2
}
