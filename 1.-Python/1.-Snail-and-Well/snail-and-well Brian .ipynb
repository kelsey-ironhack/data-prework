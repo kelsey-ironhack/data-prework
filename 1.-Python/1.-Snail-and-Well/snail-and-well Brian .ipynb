{
 "cells": [
  {
   "cell_type": "markdown",
   "metadata": {},
   "source": [
    "<img src=\"https://bit.ly/2VnXWr2\" width=\"100\" align=\"left\">"
   ]
  },
  {
   "cell_type": "markdown",
   "metadata": {},
   "source": [
    "# The Snail and the Well\n",
    "\n",
    "A snail falls at the bottom of a 125 cm well. Each day the snail rises 30 cm. But at night, while sleeping, slides 20 cm because the walls are wet. How many days does it take for the snail to escape the well?\n",
    "\n",
    "**Hint**: The snail gets out of the well when it surpasses the 125cm of height.\n",
    "\n",
    "## Tools\n",
    "\n",
    "1. Loop: **while**\n",
    "2. Conditional statements: **if-else**\n",
    "3. Function: **print()**\n",
    "\n",
    "## Tasks\n",
    "\n",
    "#### 1. Assign the challenge data to variables with representative names: `well_height`, `daily_distance`, `nightly_distance` and `snail_position`."
   ]
  },
  {
   "cell_type": "code",
   "execution_count": 42,
   "metadata": {},
   "outputs": [],
   "source": [
    "well_height = 125\n",
    "daily_distance = 30\n",
    "nightly_distance = 20\n",
    "snail_position = 0"
   ]
  },
  {
   "cell_type": "markdown",
   "metadata": {},
   "source": [
    "#### 2. Create a variable `days` to keep count of the days that pass until the snail escapes the well. "
   ]
  },
  {
   "cell_type": "code",
   "execution_count": 43,
   "metadata": {},
   "outputs": [],
   "source": [
    "days = 0"
   ]
  },
  {
   "cell_type": "markdown",
   "metadata": {},
   "source": [
    "#### 3. Find the solution to the challenge using the variables defined above. "
   ]
  },
  {
   "cell_type": "code",
   "execution_count": 44,
   "metadata": {},
   "outputs": [],
   "source": [
    "while snail_position <= well_height:\n",
    "    if days == 0:\n",
    "        snail_position = daily_distance\n",
    "    elif days >0:\n",
    "        snail_position -= (nightly_distance - daily_distance)\n",
    "    days += 1"
   ]
  },
  {
   "cell_type": "markdown",
   "metadata": {},
   "source": [
    "#### 4. Print the solution."
   ]
  },
  {
   "cell_type": "code",
   "execution_count": 45,
   "metadata": {},
   "outputs": [
    {
     "name": "stdout",
     "output_type": "stream",
     "text": [
      "The snale required 11 days until it escaped the well.\n"
     ]
    }
   ],
   "source": [
    "print(\"The snale required\", days, \"days until it escaped the well.\")"
   ]
  },
  {
   "cell_type": "markdown",
   "metadata": {},
   "source": [
    "## Bonus\n",
    "The distance traveled by the snail each day is now defined by a list.\n",
    "```\n",
    "advance_cm = [30, 21, 33, 77, 44, 45, 23, 45, 12, 34, 55]\n",
    "```\n",
    "On the first day, the snail rises 30cm but during the night it slides 20cm. On the second day, the snail rises 21cm but during the night it slides 20cm, and so on. \n",
    "\n",
    "#### 1. How many days does it take for the snail to escape the well?\n",
    "Follow the same guidelines as in the previous challenge.\n",
    "\n",
    "**Hint**: Remember that the snail gets out of the well when it surpasses the 125cm of height."
   ]
  },
  {
   "cell_type": "code",
   "execution_count": 95,
   "metadata": {},
   "outputs": [
    {
     "name": "stdout",
     "output_type": "stream",
     "text": [
      "The snale required 6 days until it escaped the well.\n"
     ]
    }
   ],
   "source": [
    "days = 0\n",
    "advance_cm = [30, 21, 33, 77, 44, 45, 23, 45, 12, 34, 55]\n",
    "well_height = 125\n",
    "daily_distance = 30\n",
    "nightly_distance = 20\n",
    "snail_position = 0\n",
    "daydistance = []\n",
    "\n",
    "while snail_position <= well_height:\n",
    "    if days == 0:\n",
    "        snail_position = advance_cm[0]\n",
    "    elif days >0:\n",
    "        snail_position -= (nightly_distance - advance_cm[days])\n",
    "    daydistance.append(snail_position)\n",
    "    if max(daydistance)>125:\n",
    "        daydistance.pop()\n",
    "        daydistance.append(126)\n",
    "    days += 1\n",
    "    \n",
    "print(\"The snale required\", days, \"days until it escaped the well.\")"
   ]
  },
  {
   "cell_type": "markdown",
   "metadata": {},
   "source": [
    "#### 2. What is its maximum displacement in one day? And its minimum? Calculate the displacement using only the travel distance of the days used to get out of the well. \n",
    "**Hint**: Remember that displacement means the total distance risen taking into account that the snail slides at night.  "
   ]
  },
  {
   "cell_type": "code",
   "execution_count": 96,
   "metadata": {},
   "outputs": [
    {
     "name": "stdout",
     "output_type": "stream",
     "text": [
      "These are the distances achieved after each day [30, 31, 44, 101, 125, 126]\n",
      "These are the differences of the distances to the previous day, after progress [1, 13, 57, 24, 1]\n",
      "The maximum displacement between two days is 57 .\n",
      "The minimum displacement between two days is 1 .\n"
     ]
    }
   ],
   "source": [
    "index = 1\n",
    "displacements = []\n",
    "\n",
    "while index <= (len(daydistance)-1):\n",
    "    displacements.append((daydistance[index] - daydistance[index-1]))\n",
    "    index += 1\n",
    "\n",
    "print(\"These are the distances achieved after each day\", daydistance)\n",
    "print(\"These are the differences of the distances to the previous day, after progress\", displacements)\n",
    "print (\"The maximum displacement between two days is\",max(displacements),\".\")\n",
    "print (\"The minimum displacement between two days is\",min(displacements),\".\")\n",
    "    "
   ]
  },
  {
   "cell_type": "markdown",
   "metadata": {},
   "source": [
    "#### 3. What is its average progress? Take into account the snail slides at night."
   ]
  },
  {
   "cell_type": "code",
   "execution_count": 105,
   "metadata": {},
   "outputs": [
    {
     "name": "stdout",
     "output_type": "stream",
     "text": [
      "The total progress was 126 cm, accounting for the last centimeter out of the well.\n",
      "The average progress per day, accounting for the first day, is 21 cm.\n"
     ]
    }
   ],
   "source": [
    "av_progress = (((daydistance[0] + sum(displacements))/days))\n",
    "\n",
    "print(\"The total progress was\", daydistance[0] + sum(displacements),\"cm, accounting for the last centimeter out of the well.\")\n",
    "print(\"The average progress per day, accounting for the first day, is\" , int(av_progress),\"cm.\")"
   ]
  },
  {
   "cell_type": "markdown",
   "metadata": {},
   "source": [
    "#### 4. What is the standard deviation of its displacement? Take into account the snail slides at night."
   ]
  },
  {
   "cell_type": "code",
   "execution_count": 110,
   "metadata": {},
   "outputs": [
    {
     "name": "stdout",
     "output_type": "stream",
     "text": [
      "The st. dev, accounting for the displacement of the last day, not exceeding the well height of 125cm +1cm was 20.75 cm.\n"
     ]
    }
   ],
   "source": [
    "import statistics\n",
    "\n",
    "print(\"The st. dev, accounting for the displacement of the last day, not exceeding the well height of 125cm +1cm was\", round(statistics.pstdev(displacements), 2), \"cm.\")\n",
    "\n"
   ]
  },
  {
   "cell_type": "code",
   "execution_count": null,
   "metadata": {},
   "outputs": [],
   "source": []
  }
 ],
 "metadata": {
  "kernelspec": {
   "display_name": "Python 3",
   "language": "python",
   "name": "python3"
  },
  "language_info": {
   "codemirror_mode": {
    "name": "ipython",
    "version": 3
   },
   "file_extension": ".py",
   "mimetype": "text/x-python",
   "name": "python",
   "nbconvert_exporter": "python",
   "pygments_lexer": "ipython3",
   "version": "3.7.4"
  }
 },
 "nbformat": 4,
 "nbformat_minor": 2
}
