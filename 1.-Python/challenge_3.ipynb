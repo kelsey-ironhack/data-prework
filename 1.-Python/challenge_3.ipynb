{
 "cells": [
  {
   "cell_type": "code",
   "execution_count": 7,
   "metadata": {},
   "outputs": [
    {
     "name": "stdout",
     "output_type": "stream",
     "text": [
      "the number of stops is  9\n",
      "[10, 13, 11, 10, 14, 10, 7, 5, 4]\n",
      "The maximum occupation is  14\n",
      "The average ocupation is 9.333333333333334\n",
      "The standard deviation is 3.391164991562634\n"
     ]
    }
   ],
   "source": [
    "stops = [(10, 0), (4, 1), (3, 5), (3, 4), (5, 1), (1, 5), (5, 8), (4, 6), (2, 3)]\n",
    "\n",
    "#1\n",
    "\n",
    "number_stops=len(stops)\n",
    "print(\"the number of stops is\",number_stops)\n",
    "\n",
    "#2\n",
    "\n",
    "listinout=[]\n",
    "element=0\n",
    "\n",
    "for a,b in stops:\n",
    "    element += a-b\n",
    "    listinout.append(element)\n",
    "    \n",
    "print(listinout)\n",
    "\n",
    "#3\n",
    "\n",
    "max_ocupation=max(listinout)\n",
    "print(\"The maximum occupation is \",max_ocupation)\n",
    "\n",
    "#4\n",
    "\n",
    "average_ocupation=sum(listinout)/len(listinout)\n",
    "print(\"The average ocupation is\",average_ocupation)\n",
    "\n",
    "import statistics\n",
    "\n",
    "print(\"The standard deviation is\",statistics.stdev(listinout))\n",
    "\n"
   ]
  },
  {
   "cell_type": "code",
   "execution_count": null,
   "metadata": {},
   "outputs": [],
   "source": []
  },
  {
   "cell_type": "code",
   "execution_count": null,
   "metadata": {},
   "outputs": [],
   "source": []
  }
 ],
 "metadata": {
  "kernelspec": {
   "display_name": "Python 3",
   "language": "python",
   "name": "python3"
  },
  "language_info": {
   "codemirror_mode": {
    "name": "ipython",
    "version": 3
   },
   "file_extension": ".py",
   "mimetype": "text/x-python",
   "name": "python",
   "nbconvert_exporter": "python",
   "pygments_lexer": "ipython3",
   "version": "3.7.6"
  }
 },
 "nbformat": 4,
 "nbformat_minor": 4
}
