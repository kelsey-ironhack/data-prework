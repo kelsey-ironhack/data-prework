{
 "cells": [
  {
   "cell_type": "markdown",
   "metadata": {},
   "source": [
    "<img src=\"https://bit.ly/2VnXWr2\" width=\"100\" align=\"left\">"
   ]
  },
  {
   "cell_type": "markdown",
   "metadata": {},
   "source": [
    "# Temperature Sensor\n",
    "\n",
    "There is a temperature sensor in the processor of your company's server. The company wants to analyze the data provided by the sensor to decide if they should change the cooling system for a better one. As changing the cooling system is expensive and you are an excellent data analyst, you can't make a decision without basis.\n",
    "\n",
    "## Tools\n",
    "You don't necessarily need to use all the tools. Maybe you opt to use some of them or completely different ones, they are given to help you shape the exercise. Programming exercises can be solved in many different ways.\n",
    "1. Data structures: **lists**\n",
    "2. Loops: **list comprehension**\n",
    "3. Functions: **min, max, print, len**\n",
    "4. Conditional statements: **if-elif-else**\n",
    "\n",
    "## Tasks\n",
    "The temperatures measured throughout the 24 hours of a day are:"
   ]
  },
  {
   "cell_type": "code",
   "execution_count": 9,
   "metadata": {},
   "outputs": [],
   "source": [
    "temperatures_C = [33, 66, 65, 0, 59, 60, 62, 64, 70, 76, 80, 81, 80, 83, 90, 79, 61, 53, 50, 49, 53, 48, 45, 39]"
   ]
  },
  {
   "cell_type": "markdown",
   "metadata": {},
   "source": [
    "The first element of the list is the temperature at 12am, the second element is the temperature at 1am, and so on. \n",
    "\n",
    "The company has decided that if one of the following events occurs, then the cooling system needs to be replaced for a new one to avoid damaging the processor.\n",
    "* More than 4 temperatures are greater than or equal to 70ºC.\n",
    "* Any temperature is above 80ºC.\n",
    "* The average temperature exceeds 65ºC.\n",
    "\n",
    "Follow the steps so that you can make the decision.\n",
    "\n",
    "#### 1. Find the minimum temperature of the day and store it in a variable."
   ]
  },
  {
   "cell_type": "code",
   "execution_count": 10,
   "metadata": {},
   "outputs": [],
   "source": [
    "temp_min = min(temperatures_C)"
   ]
  },
  {
   "cell_type": "markdown",
   "metadata": {},
   "source": [
    "#### 2. Find the maximum temperature of the day and store it in a variable."
   ]
  },
  {
   "cell_type": "code",
   "execution_count": 11,
   "metadata": {},
   "outputs": [],
   "source": [
    "temp_max = max(temperatures_C)"
   ]
  },
  {
   "cell_type": "markdown",
   "metadata": {},
   "source": [
    "#### 3. Create a list with the temperatures that are greater than or equal to 70ºC. Store it in a variable."
   ]
  },
  {
   "cell_type": "code",
   "execution_count": 12,
   "metadata": {},
   "outputs": [],
   "source": [
    "temp_goe70=[]"
   ]
  },
  {
   "cell_type": "markdown",
   "metadata": {},
   "source": [
    "#### 4. Find the average temperature of the day and store it in a variable."
   ]
  },
  {
   "cell_type": "code",
   "execution_count": 13,
   "metadata": {},
   "outputs": [],
   "source": [
    "aver_tempd=sum(temperatures_C)/len(temperatures_C)"
   ]
  },
  {
   "cell_type": "markdown",
   "metadata": {},
   "source": [
    "#### 5. Imagine that there was a sensor failure at 3am and the data for that specific hour was not recorded. How would you estimate the missing value? Replace the current value of the list at 3am for an estimation. "
   ]
  },
  {
   "cell_type": "code",
   "execution_count": 14,
   "metadata": {},
   "outputs": [
    {
     "name": "stdout",
     "output_type": "stream",
     "text": [
      "Minimum temperature of the day:  0  ˚C\n",
      "Maximum temperature of the day:  90  ˚C\n",
      "Temperatures that are greater than or equal to 70ºC:  [70, 76, 80, 81, 80, 83, 90, 79]  ˚C\n",
      "Average temperature of the day:  60.25  ˚C\n",
      "Temperature estimate at 3am:  62.0  ˚C\n"
     ]
    }
   ],
   "source": [
    "h=0\n",
    "for h in range(len(temperatures_C)):\n",
    "    if temperatures_C[h]>=70:\n",
    "        temp_goe70.append(temperatures_C[h])\n",
    "    else:\n",
    "        pass    \n",
    "print(\"Minimum temperature of the day: \",temp_min,\" ˚C\")\n",
    "print(\"Maximum temperature of the day: \",temp_max,\" ˚C\")\n",
    "print(\"Temperatures that are greater than or equal to 70ºC: \",temp_goe70,\" ˚C\")\n",
    "aver_tempd=sum(temperatures_C)/len(temperatures_C)\n",
    "print(\"Average temperature of the day: \",aver_tempd,\" ˚C\")\n",
    "temperatures_C[3]=(temperatures_C[2]+temperatures_C[4])/2\n",
    "print(\"Temperature estimate at 3am: \",temperatures_C[3],\" ˚C\")\n",
    "temperatures_F = []\n",
    "temp_F=0"
   ]
  },
  {
   "cell_type": "markdown",
   "metadata": {},
   "source": [
    "#### 6. Bonus: the maintenance staff is from the United States and does not understand the international metric system. Help them by converting the temperatures from Celsius to Fahrenheit.\n",
    "To know more about temperature conversion check this [link](https://en.wikipedia.org/wiki/Conversion_of_units_of_temperature).\n",
    "\n",
    "**Formula**: \n",
    "\n",
    "$F = 1.8 * C + 32$"
   ]
  },
  {
   "cell_type": "code",
   "execution_count": 15,
   "metadata": {},
   "outputs": [
    {
     "name": "stdout",
     "output_type": "stream",
     "text": [
      "Temperatures in Fahrenheit:  [91.4, 150.8, 149.0, 143.60000000000002, 138.2, 140.0, 143.60000000000002, 147.2, 158.0, 168.8, 176.0, 177.8, 176.0, 181.4, 194.0, 174.20000000000002, 141.8, 127.4, 122.0, 120.2, 127.4, 118.4, 113.0, 102.2]  ˚F\n"
     ]
    }
   ],
   "source": [
    "for h in range(len(temperatures_C)):\n",
    "    temp_F=(1.8*temperatures_C[h])+32\n",
    "    temperatures_F.append(temp_F)\n",
    "print (\"Temperatures in Fahrenheit: \",temperatures_F,\" ˚F\")"
   ]
  },
  {
   "cell_type": "markdown",
   "metadata": {},
   "source": [
    "#### 7. Make a decision!\n",
    "Now it's time to make a decision taking into account what you have seen until now. \n",
    "\n",
    "Remember that if one of the following events occurs, then the cooling system needs to be replaced for a new one to avoid damaging the processor.\n",
    "* More than 4 temperatures are greater than or equal to 70ºC.\n",
    "* Any temperature is above 80ºC.\n",
    "* The average temperature exceeds 65ºC.\n",
    "\n",
    "#### To make your decision, check if any of the three conditions above is met. You might need to use some of the variables you created in steps 1 to 6. Print a message to show if the cooling system needs to be changed or not."
   ]
  },
  {
   "cell_type": "code",
   "execution_count": 16,
   "metadata": {},
   "outputs": [
    {
     "name": "stdout",
     "output_type": "stream",
     "text": [
      "El sistema necesita ser cambiado\n"
     ]
    }
   ],
   "source": [
    "if (len(temp_goe70)>4 or temp_max>80 or aver_tempd>65)==True:\n",
    "    print(\"El sistema necesita ser cambiado\")\n",
    "else:\n",
    "    print(\"El sistema no necesita ser cambiado\")"
   ]
  },
  {
   "cell_type": "markdown",
   "metadata": {},
   "source": [
    "## Bonus\n",
    "\n",
    "The company has decided that the decision you made is not valid. They want you to analyze the data again but this time, the conditions that need to be met in order to change the cooling system are different.\n",
    "\n",
    "This time, if one of the following events occurs, then the cooling system needs to be replaced:\n",
    "* The temperature is greater than 70ºC during more than 4 consecutive hours.\n",
    "* Any temperature is above 80ºC.\n",
    "* The average temperature exceeds 65ºC.\n",
    "\n",
    "Follow the steps so that you can make the decision.\n",
    "\n",
    "#### 1. Create a list with the hours where the temperature is greater than 70ºC. Store it in a variable."
   ]
  },
  {
   "cell_type": "code",
   "execution_count": 17,
   "metadata": {},
   "outputs": [
    {
     "name": "stdout",
     "output_type": "stream",
     "text": [
      "The Hours where the temperatures are greater then 70˚C:  [9, 10, 11, 12, 13, 14, 15]\n"
     ]
    }
   ],
   "source": [
    "g=0\n",
    "hour_tempg70=[]\n",
    "for g in range (len(temperatures_C)):\n",
    "    if temperatures_C[g]>70:\n",
    "        hour_tempg70.append(g)\n",
    "    else:\n",
    "        pass\n",
    "print(\"The Hours where the temperatures are greater then 70˚C: \",hour_tempg70)"
   ]
  },
  {
   "cell_type": "markdown",
   "metadata": {},
   "source": [
    "#### 2. Check if the list you created in step 1 has more than 4 consecutive hours. "
   ]
  },
  {
   "cell_type": "code",
   "execution_count": 18,
   "metadata": {},
   "outputs": [
    {
     "name": "stdout",
     "output_type": "stream",
     "text": [
      "The list has more than 4 consecutive hours\n"
     ]
    }
   ],
   "source": [
    "hora_previa=-10\n",
    "cont=1\n",
    "h=0\n",
    "for r in hour_tempg70:\n",
    "    if r!=hora_previa+1:\n",
    "        cont=1\n",
    "        hora_previa=r\n",
    "    else:\n",
    "        cont+=1\n",
    "        hora_previa=r\n",
    "        if cont>4:\n",
    "            print(\"The list has more than 4 consecutive hours\")\n",
    "            break\n",
    "        else:\n",
    "            pass"
   ]
  },
  {
   "cell_type": "markdown",
   "metadata": {},
   "source": [
    "#### 3. Make the decision!\n",
    "To make your decision, check if any of the three conditions is met. Print a message to show if the cooling system needs to be changed or not."
   ]
  },
  {
   "cell_type": "code",
   "execution_count": 19,
   "metadata": {},
   "outputs": [
    {
     "name": "stdout",
     "output_type": "stream",
     "text": [
      "El sistema necesita ser cambiado\n"
     ]
    }
   ],
   "source": [
    "if (cont>4 or temp_max>80 or aver_tempd>65)==True:\n",
    "    print(\"El sistema necesita ser cambiado\")\n",
    "else:\n",
    "    print(\"El sistema no necesita ser cambiado\")"
   ]
  },
  {
   "cell_type": "markdown",
   "metadata": {},
   "source": [
    "#### 4. Find the average value of the temperature lists (ºC and ºF). What is the relation between both average values?"
   ]
  },
  {
   "cell_type": "code",
   "execution_count": 20,
   "metadata": {},
   "outputs": [
    {
     "name": "stdout",
     "output_type": "stream",
     "text": [
      "Average temperature of the day:  62.833333333333336  ˚C\n",
      "Average temperature of the day:  145.1  ˚F\n",
      "Relation between both average values:  0.4330346887204227\n"
     ]
    }
   ],
   "source": [
    "aver_tempdC=sum(temperatures_C)/len(temperatures_C)\n",
    "print(\"Average temperature of the day: \",aver_tempdC,\" ˚C\")\n",
    "aver_tempdF=sum(temperatures_F)/len(temperatures_F)\n",
    "print(\"Average temperature of the day: \",aver_tempdF,\" ˚F\")\n",
    "print(\"Relation between both average values: \", aver_tempdC/aver_tempdF)"
   ]
  },
  {
   "cell_type": "markdown",
   "metadata": {},
   "source": [
    "#### 5. Find the standard deviation of the temperature lists (ºC and ºF). What is the relation between both standard deviations?"
   ]
  },
  {
   "cell_type": "code",
   "execution_count": 21,
   "metadata": {},
   "outputs": [
    {
     "name": "stdout",
     "output_type": "stream",
     "text": [
      "The relation between the two standar deviation:  0.5555555555555556\n"
     ]
    }
   ],
   "source": [
    "cuadrados_C=0\n",
    "cuadrados_F=0\n",
    "desvest_C=0\n",
    "desvest_F=0\n",
    "h=0\n",
    "for h in range(len(temperatures_C)):\n",
    "    cuadrados_C+=(temperatures_C[h]-aver_tempdC)**2\n",
    "    cuadrados_F+=(temperatures_F[h]-aver_tempdF)**2\n",
    "    \n",
    "desvest_C=(cuadrados_C/len(temperatures_C))**(1/2)\n",
    "desvest_F=(cuadrados_F/len(temperatures_F))**(1/2)\n",
    "print(\"The relation between the two standar deviation: \",desvest_C/desvest_F)"
   ]
  },
  {
   "cell_type": "code",
   "execution_count": null,
   "metadata": {},
   "outputs": [],
   "source": []
  }
 ],
 "metadata": {
  "kernelspec": {
   "display_name": "Python 3",
   "language": "python",
   "name": "python3"
  },
  "language_info": {
   "codemirror_mode": {
    "name": "ipython",
    "version": 3
   },
   "file_extension": ".py",
   "mimetype": "text/x-python",
   "name": "python",
   "nbconvert_exporter": "python",
   "pygments_lexer": "ipython3",
   "version": "3.7.6"
  }
 },
 "nbformat": 4,
 "nbformat_minor": 2
}
