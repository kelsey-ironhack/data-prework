{
 "cells": [
  {
   "cell_type": "markdown",
   "metadata": {},
   "source": [
    "<img src=\"https://bit.ly/2VnXWr2\" width=\"100\" align=\"left\">"
   ]
  },
  {
   "cell_type": "markdown",
   "metadata": {},
   "source": [
    "# Temperature Sensor\n",
    "\n",
    "There is a temperature sensor in the processor of your company's server. The company wants to analyze the data provided by the sensor to decide if they should change the cooling system for a better one. As changing the cooling system is expensive and you are an excellent data analyst, you can't make a decision without basis.\n",
    "\n",
    "## Tools\n",
    "You don't necessarily need to use all the tools. Maybe you opt to use some of them or completely different ones, they are given to help you shape the exercise. Programming exercises can be solved in many different ways.\n",
    "1. Data structures: **lists**\n",
    "2. Loops: **list comprehension**\n",
    "3. Functions: **min, max, print, len**\n",
    "4. Conditional statements: **if-elif-else**\n",
    "\n",
    "## Tasks\n",
    "The temperatures measured throughout the 24 hours of a day are:"
   ]
  },
  {
   "cell_type": "code",
   "execution_count": 1,
   "metadata": {},
   "outputs": [],
   "source": [
    "temperatures_C = [33, 66, 65, 0, 59, 60, 62, 64, 70, 76, 80, 81, 80, 83, 90, 79, 61, 53, 50, 49, 53, 48, 45, 39]"
   ]
  },
  {
   "cell_type": "markdown",
   "metadata": {},
   "source": [
    "The first element of the list is the temperature at 12am, the second element is the temperature at 1am, and so on. \n",
    "\n",
    "The company has decided that if one of the following events occurs, then the cooling system needs to be replaced for a new one to avoid damaging the processor.\n",
    "* More than 4 temperatures are greater than or equal to 70ºC.\n",
    "* Any temperature is above 80ºC.\n",
    "* The average temperature exceeds 65ºC.\n",
    "\n",
    "Follow the steps so that you can make the decision.\n",
    "\n",
    "#### 1. Find the minimum temperature of the day and store it in a variable."
   ]
  },
  {
   "cell_type": "code",
   "execution_count": 2,
   "metadata": {},
   "outputs": [
    {
     "name": "stdout",
     "output_type": "stream",
     "text": [
      "Minimum temperature is  0\n"
     ]
    }
   ],
   "source": [
    "min_temp = min(temperatures_C)\n",
    "\n",
    "print(\"Minimum temperature is \", min_temp)"
   ]
  },
  {
   "cell_type": "markdown",
   "metadata": {},
   "source": [
    "#### 2. Find the maximum temperature of the day and store it in a variable."
   ]
  },
  {
   "cell_type": "code",
   "execution_count": 3,
   "metadata": {},
   "outputs": [
    {
     "name": "stdout",
     "output_type": "stream",
     "text": [
      "Mimaxum temperature is  90\n"
     ]
    }
   ],
   "source": [
    "max_temp = max(temperatures_C)\n",
    "\n",
    "print(\"Mimaxum temperature is \", max_temp)"
   ]
  },
  {
   "cell_type": "markdown",
   "metadata": {},
   "source": [
    "#### 3. Create a list with the temperatures that are greater than or equal to 70ºC. Store it in a variable."
   ]
  },
  {
   "cell_type": "code",
   "execution_count": 4,
   "metadata": {},
   "outputs": [
    {
     "name": "stdout",
     "output_type": "stream",
     "text": [
      "Temperatures above 70: \n",
      " [70, 76, 80, 81, 80, 83, 90, 79]\n"
     ]
    }
   ],
   "source": [
    "temps_above_70 = []\n",
    "\n",
    "for temp in temperatures_C:\n",
    "    if temp >= 70:\n",
    "        temps_above_70.append(temp)\n",
    "        \n",
    "print(\"Temperatures above 70: \\n\", temps_above_70)"
   ]
  },
  {
   "cell_type": "markdown",
   "metadata": {},
   "source": [
    "#### 4. Find the average temperature of the day and store it in a variable."
   ]
  },
  {
   "cell_type": "code",
   "execution_count": 5,
   "metadata": {},
   "outputs": [
    {
     "name": "stdout",
     "output_type": "stream",
     "text": [
      "Average temperature is  60.25\n"
     ]
    }
   ],
   "source": [
    "avg_temp = sum(temperatures_C)/len(temperatures_C)\n",
    "\n",
    "print(\"Average temperature is \", avg_temp)"
   ]
  },
  {
   "cell_type": "markdown",
   "metadata": {},
   "source": [
    "#### 5. Imagine that there was a sensor failure at 3am and the data for that specific hour was not recorded. How would you estimate the missing value? Replace the current value of the list at 3am for an estimation. "
   ]
  },
  {
   "cell_type": "code",
   "execution_count": 6,
   "metadata": {},
   "outputs": [
    {
     "name": "stdout",
     "output_type": "stream",
     "text": [
      "[33, 66, 65, 62, 59, 60, 62, 64, 70, 76, 80, 81, 80, 83, 90, 79, 61, 53, 50, 49, 53, 48, 45, 39]\n"
     ]
    }
   ],
   "source": [
    "temperatures_C[3] = int((temperatures_C[2] + temperatures_C[4]) / 2)\n",
    "\n",
    "print(temperatures_C)"
   ]
  },
  {
   "cell_type": "markdown",
   "metadata": {},
   "source": [
    "#### 6. Bonus: the maintenance staff is from the United States and does not understand the international metric system. Help them by converting the temperatures from Celsius to Fahrenheit.\n",
    "To know more about temperature conversion check this [link](https://en.wikipedia.org/wiki/Conversion_of_units_of_temperature).\n",
    "\n",
    "**Formula**: \n",
    "\n",
    "$F = 1.8 * C + 32$"
   ]
  },
  {
   "cell_type": "code",
   "execution_count": 7,
   "metadata": {},
   "outputs": [
    {
     "name": "stdout",
     "output_type": "stream",
     "text": [
      "[91.4, 150.8, 149.0, 143.60000000000002, 138.2, 140.0, 143.60000000000002, 147.2, 158.0, 168.8, 176.0, 177.8, 176.0, 181.4, 194.0, 174.20000000000002, 141.8, 127.4, 122.0, 120.2, 127.4, 118.4, 113.0, 102.2]\n"
     ]
    }
   ],
   "source": [
    "temps_f = []\n",
    "\n",
    "for temp in temperatures_C:\n",
    "    temps_f.append(1.8 * temp + 32)\n",
    "    \n",
    "print(temps_f)"
   ]
  },
  {
   "cell_type": "markdown",
   "metadata": {},
   "source": [
    "#### 7. Make a decision!\n",
    "Now it's time to make a decision taking into account what you have seen until now. \n",
    "\n",
    "Remember that if one of the following events occurs, then the cooling system needs to be replaced for a new one to avoid damaging the processor.\n",
    "* More than 4 temperatures are greater than or equal to 70ºC.\n",
    "* Any temperature is above 80ºC.\n",
    "* The average temperature exceeds 65ºC.\n",
    "\n",
    "#### To make your decision, check if any of the three conditions above is met. You might need to use some of the variables you created in steps 1 to 6. Print a message to show if the cooling system needs to be changed or not."
   ]
  },
  {
   "cell_type": "code",
   "execution_count": 8,
   "metadata": {},
   "outputs": [
    {
     "name": "stdout",
     "output_type": "stream",
     "text": [
      "Number of times temperature is 70 or above:  8\n",
      "Mimixum temperature is  90\n",
      "Average temperature is  62.833333333333336\n",
      "The cooling system should be replaced.\n"
     ]
    }
   ],
   "source": [
    "temps_above_70 = []\n",
    "\n",
    "for temp in temperatures_C:\n",
    "    if temp >= 70:\n",
    "        temps_above_70.append(temp)\n",
    "        \n",
    "number_of_temps_over_70 = len(temps_above_70)\n",
    "print(\"Number of times temperature is 70 or above: \", number_of_temps_over_70)\n",
    "\n",
    "max_temp = max(temperatures_C)\n",
    "print(\"Mimixum temperature is \", max_temp)\n",
    "\n",
    "avg_temp = sum(temperatures_C)/len(temperatures_C)\n",
    "print(\"Average temperature is \", avg_temp)\n",
    "\n",
    "if number_of_temps_over_70 > 4 or max_temp > 80 or avg_temp > 65:\n",
    "    print(\"The cooling system should be replaced.\")\n",
    "else:\n",
    "    print(\"The cooling system does not currently need to be replaced.\")\n"
   ]
  },
  {
   "cell_type": "markdown",
   "metadata": {},
   "source": [
    "## Bonus\n",
    "\n",
    "The company has decided that the decision you made is not valid. They want you to analyze the data again but this time, the conditions that need to be met in order to change the cooling system are different.\n",
    "\n",
    "This time, if one of the following events occurs, then the cooling system needs to be replaced:\n",
    "* The temperature is greater than 70ºC during more than 4 consecutive hours.\n",
    "* Any temperature is above 80ºC.\n",
    "* The average temperature exceeds 65ºC.\n",
    "\n",
    "Follow the steps so that you can make the decision.\n",
    "\n",
    "#### 1. Create a list with the hours where the temperature is greater than 70ºC. Store it in a variable."
   ]
  },
  {
   "cell_type": "code",
   "execution_count": 9,
   "metadata": {},
   "outputs": [
    {
     "name": "stdout",
     "output_type": "stream",
     "text": [
      "Times the temp is above 70 degrees:\n",
      "[9, 10, 11, 12, 13, 14, 15]\n"
     ]
    }
   ],
   "source": [
    "hours_temp_above_70 = []\n",
    "\n",
    "temp_index = 0\n",
    "\n",
    "while temp_index < len(temperatures_C):\n",
    "    if temperatures_C[temp_index] > 70:\n",
    "        hours_temp_above_70.append(temp_index)\n",
    "    temp_index += 1\n",
    "\n",
    "print(\"Times the temp is above 70 degrees:\")\n",
    "print(hours_temp_above_70)\n"
   ]
  },
  {
   "cell_type": "markdown",
   "metadata": {},
   "source": [
    "#### 2. Check if the list you created in step 1 has more than 4 consecutive hours. "
   ]
  },
  {
   "cell_type": "code",
   "execution_count": 10,
   "metadata": {},
   "outputs": [
    {
     "name": "stdout",
     "output_type": "stream",
     "text": [
      "There are more than 4 consecutive hours above 70 degrees, starting at  9\n",
      "There are more than 4 consecutive hours above 70 degrees, starting at  10\n",
      "There are more than 4 consecutive hours above 70 degrees, starting at  11\n"
     ]
    }
   ],
   "source": [
    "number_of_hours_over_70 = len(hours_temp_above_70)\n",
    "more_than_4_consecutive_hours = False\n",
    "hours_index = 0\n",
    "\n",
    "while hours_index < number_of_hours_over_70 and hours_index < (number_of_hours_over_70 - 4):\n",
    "    if hours_temp_above_70[hours_index] == (hours_temp_above_70[hours_index+1] - 1):\n",
    "        if hours_temp_above_70[hours_index+1] == (hours_temp_above_70[hours_index+2] - 1):\n",
    "            if hours_temp_above_70[hours_index+2] == (hours_temp_above_70[hours_index+3] - 1):\n",
    "                if hours_temp_above_70[hours_index+3] == (hours_temp_above_70[hours_index+4] - 1):\n",
    "                    print(\"There are more than 4 consecutive hours above 70 degrees, starting at \", hours_temp_above_70[hours_index])\n",
    "                    more_than_4_consecutive_hours = True\n",
    "\n",
    "    hours_index += 1"
   ]
  },
  {
   "cell_type": "markdown",
   "metadata": {},
   "source": [
    "#### 3. Make the decision!\n",
    "To make your decision, check if any of the three conditions is met. Print a message to show if the cooling system needs to be changed or not."
   ]
  },
  {
   "cell_type": "code",
   "execution_count": 11,
   "metadata": {},
   "outputs": [
    {
     "name": "stdout",
     "output_type": "stream",
     "text": [
      "The cooling system should be replaced.\n"
     ]
    }
   ],
   "source": [
    "if more_than_4_consecutive_hours == True or max_temp > 80 or avg_temp > 65:\n",
    "    print(\"The cooling system should be replaced.\")\n",
    "else:\n",
    "    print(\"The cooling system does not currently need to be replaced.\")"
   ]
  },
  {
   "cell_type": "markdown",
   "metadata": {},
   "source": [
    "#### 4. Find the average value of the temperature lists (ºC and ºF). What is the relation between both average values?"
   ]
  },
  {
   "cell_type": "code",
   "execution_count": 15,
   "metadata": {},
   "outputs": [
    {
     "name": "stdout",
     "output_type": "stream",
     "text": [
      "Average temp for ºC:  62.833333333333336\n",
      "Average temp for ºF:  145.1\n",
      "Using the standard conversion of ºC to ºF you get the same number:  145.10000000000002\n"
     ]
    }
   ],
   "source": [
    "def Average_temp(list):\n",
    "    return sum(list)/len(list)\n",
    "\n",
    "print(\"Average temp for ºC: \", Average_temp(temperatures_C))\n",
    "\n",
    "print(\"Average temp for ºF: \", Average_temp(temps_f))\n",
    "\n",
    "print(\"Using the standard conversion of ºC to ºF you get the same number: \", Average_temp(temperatures_C)*1.8 +32)"
   ]
  },
  {
   "cell_type": "markdown",
   "metadata": {},
   "source": [
    "#### 5. Find the standard deviation of the temperature lists (ºC and ºF). What is the relation between both standard deviations?"
   ]
  },
  {
   "cell_type": "code",
   "execution_count": 16,
   "metadata": {},
   "outputs": [
    {
     "name": "stdout",
     "output_type": "stream",
     "text": [
      "Standard Deviation for ºC is  14.633485192833897\n",
      "Standard Deviation for ºF is  26.34027334710101\n",
      "26.340273347101014\n",
      "The standard deviation is 1.8 times larger for ºF than ºC, because the the additional 32 does not effect \n",
      "the spread of the data.\n"
     ]
    }
   ],
   "source": [
    "import numpy as np\n",
    "\n",
    "standard_deviation_c = np.std(temperatures_C)\n",
    "print(\"Standard Deviation for ºC is \", standard_deviation_c)\n",
    "\n",
    "standard_deviation_f = np.std(temps_f)\n",
    "print(\"Standard Deviation for ºF is \", standard_deviation_f)\n",
    "\n",
    "print(standard_deviation_c * 1.8)\n",
    "print(\"The standard deviation is 1.8 times larger for ºF than ºC, because the the additional 32 does not effect \\nthe spread of the data.\")"
   ]
  },
  {
   "cell_type": "code",
   "execution_count": null,
   "metadata": {},
   "outputs": [],
   "source": []
  }
 ],
 "metadata": {
  "kernelspec": {
   "display_name": "Python 3",
   "language": "python",
   "name": "python3"
  },
  "language_info": {
   "codemirror_mode": {
    "name": "ipython",
    "version": 3
   },
   "file_extension": ".py",
   "mimetype": "text/x-python",
   "name": "python",
   "nbconvert_exporter": "python",
   "pygments_lexer": "ipython3",
   "version": "3.7.6"
  }
 },
 "nbformat": 4,
 "nbformat_minor": 2
}
