{
 "cells": [
  {
   "cell_type": "markdown",
   "metadata": {},
   "source": [
    "<img src=\"https://bit.ly/2VnXWr2\" width=\"100\" align=\"left\">"
   ]
  },
  {
   "cell_type": "markdown",
   "metadata": {},
   "source": [
    "# Temperature Sensor\n",
    "\n",
    "There is a temperature sensor in the processor of your company's server. The company wants to analyze the data provided by the sensor to decide if they should change the cooling system for a better one. As changing the cooling system is expensive and you are an excellent data analyst, you can't make a decision without basis.\n",
    "\n",
    "## Tools\n",
    "You don't necessarily need to use all the tools. Maybe you opt to use some of them or completely different ones, they are given to help you shape the exercise. Programming exercises can be solved in many different ways.\n",
    "1. Data structures: **lists**\n",
    "2. Loops: **list comprehension**\n",
    "3. Functions: **min, max, print, len**\n",
    "4. Conditional statements: **if-elif-else**\n",
    "\n",
    "## Tasks\n",
    "The temperatures measured throughout the 24 hours of a day are:"
   ]
  },
  {
   "cell_type": "code",
   "execution_count": null,
   "metadata": {},
   "outputs": [],
   "source": [
    "temperatures_C = [33, 66, 65, 0, 59, 60, 62, 64, 70, 76, 80, 81, 80, 83, 90, 79, 61, 53, 50, 49, 53, 48, 45, 39]"
   ]
  },
  {
   "cell_type": "markdown",
   "metadata": {},
   "source": [
    "The first element of the list is the temperature at 12am, the second element is the temperature at 1am, and so on. \n",
    "\n",
    "The company has decided that if one of the following events occurs, then the cooling system needs to be replaced for a new one to avoid damaging the processor.\n",
    "* More than 4 temperatures are greater than or equal to 70ºC.\n",
    "* Any temperature is above 80ºC.\n",
    "* The average temperature exceeds 65ºC.\n",
    "\n",
    "Follow the steps so that you can make the decision.\n",
    "\n",
    "#### 1. Find the minimum temperature of the day and store it in a variable."
   ]
  },
  {
   "cell_type": "code",
   "execution_count": 24,
   "metadata": {},
   "outputs": [
    {
     "name": "stdout",
     "output_type": "stream",
     "text": [
      "Min Temp= 0\n"
     ]
    }
   ],
   "source": [
    "temperatures_C = [33, 66, 65, 0, 59, 60, 62, 64, 70, 76, 80, 81, 80, 83, 90, 79, 61, 53, 50, 49, 53, 48, 45, 39]\n",
    "temperatures_C.sort()\n",
    "temp_min = temperatures_C[0]\n",
    "print('Min Temp=',temp_min)\n",
    " "
   ]
  },
  {
   "cell_type": "markdown",
   "metadata": {},
   "source": [
    "#### 2. Find the maximum temperature of the day and store it in a variable."
   ]
  },
  {
   "cell_type": "code",
   "execution_count": 8,
   "metadata": {},
   "outputs": [
    {
     "name": "stdout",
     "output_type": "stream",
     "text": [
      "Max Temp= 90\n"
     ]
    }
   ],
   "source": [
    "temperatures_C = [33, 66, 65, 0, 59, 60, 62, 64, 70, 76, 80, 81, 80, 83, 90, 79, 61, 53, 50, 49, 53, 48, 45, 39]\n",
    "temperatures_C.sort(reverse=True)\n",
    "temp_max = temperatures_C[0]\n",
    "print('Temp Max=',temp_max)"
   ]
  },
  {
   "cell_type": "markdown",
   "metadata": {},
   "source": [
    "#### 3. Create a list with the temperatures that are greater than or equal to 70ºC. Store it in a variable."
   ]
  },
  {
   "cell_type": "code",
   "execution_count": 18,
   "metadata": {},
   "outputs": [
    {
     "name": "stdout",
     "output_type": "stream",
     "text": [
      "Temperaturas mayores o iguales a 70= [70, 76, 80, 81, 80, 83, 90, 79]\n"
     ]
    }
   ],
   "source": [
    "greater_70 = []\n",
    "temperatures_C = [33, 66, 65, 0, 59, 60, 62, 64, 70, 76, 80, 81, 80, 83, 90, 79, 61, 53, 50, 49, 53, 48, 45, 39]\n",
    "count = 0\n",
    "\n",
    "for temp in temperatures_C:\n",
    "    if temperatures_C[count] >= 70:\n",
    "        greater_70.append(temperatures_C[count])\n",
    "    count = count +1\n",
    "    \n",
    "print('Temperaturas mayores o iguales a 70=',greater_70)      "
   ]
  },
  {
   "cell_type": "markdown",
   "metadata": {},
   "source": [
    "#### 4. Find the average temperature of the day and store it in a variable."
   ]
  },
  {
   "cell_type": "code",
   "execution_count": 21,
   "metadata": {},
   "outputs": [
    {
     "name": "stdout",
     "output_type": "stream",
     "text": [
      "Promedio de temperaturas=  60.25\n"
     ]
    }
   ],
   "source": [
    "temperatures_C = [33, 66, 65, 0, 59, 60, 62, 64, 70, 76, 80, 81, 80, 83, 90, 79, 61, 53, 50, 49, 53, 48, 45, 39]\n",
    "print('Promedio de temperaturas= ',sum(temperatures_C)/len(temperatures_C))"
   ]
  },
  {
   "cell_type": "markdown",
   "metadata": {},
   "source": [
    "#### 5. Imagine that there was a sensor failure at 3am and the data for that specific hour was not recorded. How would you estimate the missing value? Replace the current value of the list at 3am for an estimation. "
   ]
  },
  {
   "cell_type": "code",
   "execution_count": 22,
   "metadata": {},
   "outputs": [
    {
     "name": "stdout",
     "output_type": "stream",
     "text": [
      "Promedio de temperaturas=  62.760416666666664\n"
     ]
    }
   ],
   "source": [
    "temperatures_C = [33, 66, 65, 60.25, 59, 60, 62, 64, 70, 76, 80, 81, 80, 83, 90, 79, 61, 53, 50, 49, 53, 48, 45, 39]\n",
    "print('Se reemplazo el valor 0 por el promedio de 60.25, se aproxima a la mediana de 61')\n",
    "print('Promedio de temperaturas= ',sum(temperatures_C)/len(temperatures_C))"
   ]
  },
  {
   "cell_type": "markdown",
   "metadata": {},
   "source": [
    "#### 6. Bonus: the maintenance staff is from the United States and does not understand the international metric system. Help them by converting the temperatures from Celsius to Fahrenheit.\n",
    "To know more about temperature conversion check this [link](https://en.wikipedia.org/wiki/Conversion_of_units_of_temperature).\n",
    "\n",
    "**Formula**: \n",
    "\n",
    "$F = 1.8 * C + 32$"
   ]
  },
  {
   "cell_type": "code",
   "execution_count": 69,
   "metadata": {},
   "outputs": [
    {
     "name": "stdout",
     "output_type": "stream",
     "text": [
      "Temperaturas en F= [91.4, 150.8, 149.0, 140.45, 138.2, 140.0, 143.60000000000002, 147.2, 158.0, 168.8, 176.0, 177.8, 176.0, 181.4, 194.0, 174.20000000000002, 141.8, 127.4, 122.0, 120.2, 127.4, 118.4, 113.0, 102.2]\n"
     ]
    }
   ],
   "source": [
    "temperatures_C = [33, 66, 65, 60.25, 59, 60, 62, 64, 70, 76, 80, 81, 80, 83, 90, 79, 61, 53, 50, 49, 53, 48, 45, 39]\n",
    "temperatures_F = []\n",
    "count = 0\n",
    "\n",
    "for temp in temperatures_C:\n",
    "    temperatures_F.append((1.8*temperatures_C[count])+32)\n",
    "    count = count +1\n",
    "    \n",
    "print('Temperaturas en F=',temperatures_F)"
   ]
  },
  {
   "cell_type": "markdown",
   "metadata": {},
   "source": [
    "#### 7. Make a decision!\n",
    "Now it's time to make a decision taking into account what you have seen until now. \n",
    "\n",
    "Remember that if one of the following events occurs, then the cooling system needs to be replaced for a new one to avoid damaging the processor.\n",
    "* More than 4 temperatures are greater than or equal to 70ºC.\n",
    "* Any temperature is above 80ºC.\n",
    "* The average temperature exceeds 65ºC.\n",
    "\n",
    "#### To make your decision, check if any of the three conditions above is met. You might need to use some of the variables you created in steps 1 to 6. Print a message to show if the cooling system needs to be changed or not."
   ]
  },
  {
   "cell_type": "code",
   "execution_count": 49,
   "metadata": {},
   "outputs": [
    {
     "name": "stdout",
     "output_type": "stream",
     "text": [
      "Hay temperaturas mayores a 80 grados= 81\n",
      "Hay temperaturas mayores a 80 grados= 83\n",
      "Hay temperaturas mayores a 80 grados= 90\n",
      "Hay mas de 4 temperaturas mayores o iguales a 70 grados\n",
      "El promedio = 62.760416666666664 no excede el limite de 65 grados\n",
      "Se cumplen una o mas de las condiciones para cambiar el equipo, proceder a cambio\n"
     ]
    }
   ],
   "source": [
    "temperatures_C = [33, 66, 65, 60.25, 59, 60, 62, 64, 70, 76, 80, 81, 80, 83, 90, 79, 61, 53, 50, 49, 53, 48, 45, 39]\n",
    "temperatures_four = []\n",
    "temperatures_above = []\n",
    "count = 0\n",
    "changeA = 0\n",
    "changeB = 0\n",
    "changeC = 0\n",
    "\n",
    "for temp in temperatures_C:\n",
    "    if temperatures_C[count] >= 70:\n",
    "        temperatures_four.append(temperatures_C[count])\n",
    "    if temperatures_C[count] > 80:\n",
    "        print ('Hay temperaturas mayores a 80 grados=', temperatures_C[count])\n",
    "        changeA = 1\n",
    "    count = count +1\n",
    "    \n",
    "if len(temperatures_four) > 4:\n",
    "    print ('Hay mas de 4 temperaturas mayores o iguales a 70 grados')\n",
    "    changeB = 1\n",
    "        \n",
    "if (sum(temperatures_C)/len(temperatures_C)) > 65:\n",
    "    print('El promedio =',sum(temperatures_C)/len(temperatures_C), 'excede el limite de 65 grados')\n",
    "    changeC = 1\n",
    "else:\n",
    "    print ('El promedio =',sum(temperatures_C)/len(temperatures_C), 'no excede el limite de 65 grados')\n",
    "    \n",
    "if (changeA+changeB+changeC) >0:\n",
    "    print('Se cumplen una o mas de las condiciones para cambiar el equipo, proceder a cambio')\n",
    "else:\n",
    "    print('No se cumple ninguna condicion para cambiar el equipo de enfriamiento')"
   ]
  },
  {
   "cell_type": "markdown",
   "metadata": {},
   "source": [
    "## Bonus\n",
    "\n",
    "The company has decided that the decision you made is not valid. They want you to analyze the data again but this time, the conditions that need to be met in order to change the cooling system are different.\n",
    "\n",
    "This time, if one of the following events occurs, then the cooling system needs to be replaced:\n",
    "* The temperature is greater than 70ºC during more than 4 consecutive hours.\n",
    "* Any temperature is above 80ºC.\n",
    "* The average temperature exceeds 65ºC.\n",
    "\n",
    "Follow the steps so that you can make the decision.\n",
    "\n",
    "#### 1. Create a list with the hours where the temperature is greater than 70ºC. Store it in a variable."
   ]
  },
  {
   "cell_type": "code",
   "execution_count": null,
   "metadata": {},
   "outputs": [],
   "source": [
    "temperatures_C = [33, 66, 65, 60.25, 59, 60, 62, 64, 70, 76, 80, 81, 80, 83, 90, 79, 61, 53, 50, 49, 53, 48, 45, 39]\n"
   ]
  },
  {
   "cell_type": "markdown",
   "metadata": {},
   "source": [
    "#### 2. Check if the list you created in step 1 has more than 4 consecutive hours. "
   ]
  },
  {
   "cell_type": "code",
   "execution_count": 65,
   "metadata": {},
   "outputs": [
    {
     "name": "stdout",
     "output_type": "stream",
     "text": [
      "Hay temperaturas mayores a 80 grados= 81\n",
      "Hay temperaturas mayores a 80 grados= 83\n",
      "Hay temperaturas mayores a 80 grados= 90\n",
      "Hay mas de 4 horas consecutivas con temp. mayor a 70 grados= [76, 80, 81, 80, 83, 90, 79]\n",
      "El promedio = 62.760416666666664 no excede el limite de 65 grados\n"
     ]
    }
   ],
   "source": [
    "temperatures_C = [33, 66, 65, 60.25, 59, 60, 62, 64, 70, 76, 80, 81, 80, 83, 90, 79, 61, 53, 50, 49, 53, 48, 45, 39]\n",
    "count = 0\n",
    "temp_list = []\n",
    "changeA = 0\n",
    "changeB = 0\n",
    "changeC = 0\n",
    "\n",
    "for temp in temperatures_C:\n",
    "    if (temperatures_C[count] >70) | (temperatures_C[count-1]>70):\n",
    "        if(temperatures_C[count]>70):\n",
    "            temp_list.append(temperatures_C[count])\n",
    "    if (temperatures_C[count]>80):\n",
    "        print('Hay temperaturas mayores a 80 grados=',temperatures_C[count])\n",
    "        changeA = 1\n",
    "    count= count +1\n",
    "         \n",
    "if len(temp_list)>4:\n",
    "    print('Hay mas de 4 horas consecutivas con temp. mayor a 70 grados=',temp_list)\n",
    "    changeB = 1\n",
    "else:\n",
    "    print('No hay mas de 4 horas consecutivas con temp. mayor a 70 grados')\n",
    "    \n",
    "if (sum(temperatures_C)/len(temperatures_C)) > 65:\n",
    "    print('El promedio =',sum(temperatures_C)/len(temperatures_C), 'excede el limite de 65 grados')\n",
    "    changeC = 1\n",
    "else:\n",
    "    print ('El promedio =',sum(temperatures_C)/len(temperatures_C), 'no excede el limite de 65 grados')\n",
    "  \n",
    "\n"
   ]
  },
  {
   "cell_type": "markdown",
   "metadata": {},
   "source": [
    "#### 3. Make the decision!\n",
    "To make your decision, check if any of the three conditions is met. Print a message to show if the cooling system needs to be changed or not."
   ]
  },
  {
   "cell_type": "code",
   "execution_count": 66,
   "metadata": {},
   "outputs": [
    {
     "name": "stdout",
     "output_type": "stream",
     "text": [
      "Hay temperaturas mayores a 80 grados= 81\n",
      "Hay temperaturas mayores a 80 grados= 83\n",
      "Hay temperaturas mayores a 80 grados= 90\n",
      "Hay mas de 4 horas consecutivas con temp. mayor a 70 grados= [76, 80, 81, 80, 83, 90, 79]\n",
      "El promedio = 62.760416666666664 no excede el limite de 65 grados\n",
      "Se cumplen una o mas de las condiciones para cambiar el equipo, proceder a cambio\n"
     ]
    }
   ],
   "source": [
    "temperatures_C = [33, 66, 65, 60.25, 59, 60, 62, 64, 70, 76, 80, 81, 80, 83, 90, 79, 61, 53, 50, 49, 53, 48, 45, 39]\n",
    "count = 0\n",
    "temp_list = []\n",
    "changeA = 0\n",
    "changeB = 0\n",
    "changeC = 0\n",
    "\n",
    "for temp in temperatures_C:\n",
    "    if (temperatures_C[count] >70) | (temperatures_C[count-1]>70):\n",
    "        if(temperatures_C[count]>70):\n",
    "            temp_list.append(temperatures_C[count])\n",
    "    if (temperatures_C[count]>80):\n",
    "        print('Hay temperaturas mayores a 80 grados=',temperatures_C[count])\n",
    "        changeA = 1\n",
    "    count= count +1\n",
    "         \n",
    "if len(temp_list)>4:\n",
    "    print('Hay mas de 4 horas consecutivas con temp. mayor a 70 grados=',temp_list)\n",
    "    changeB = 1\n",
    "else:\n",
    "    print('No hay mas de 4 horas consecutivas con temp. mayor a 70 grados')\n",
    "    \n",
    "if (sum(temperatures_C)/len(temperatures_C)) > 65:\n",
    "    print('El promedio =',sum(temperatures_C)/len(temperatures_C), 'excede el limite de 65 grados')\n",
    "    changeC = 1\n",
    "else:\n",
    "    print ('El promedio =',sum(temperatures_C)/len(temperatures_C), 'no excede el limite de 65 grados')\n",
    "    \n",
    "if (changeA+changeB+changeC) >0:\n",
    "    print('Se cumplen una o mas de las condiciones para cambiar el equipo, proceder a cambio')\n",
    "else:\n",
    "    print('No se cumple ninguna condicion para cambiar el equipo de enfriamiento')\n"
   ]
  },
  {
   "cell_type": "markdown",
   "metadata": {},
   "source": [
    "#### 4. Find the average value of the temperature lists (ºC and ºF). What is the relation between both average values?"
   ]
  },
  {
   "cell_type": "code",
   "execution_count": 72,
   "metadata": {},
   "outputs": [
    {
     "name": "stdout",
     "output_type": "stream",
     "text": [
      "Celcius= [33, 66, 65, 60.25, 59, 60, 62, 64, 70, 76, 80, 81, 80, 83, 90, 79, 61, 53, 50, 49, 53, 48, 45, 39]\n",
      "Farenheit= [91.4, 150.8, 149.0, 140.45, 138.2, 140.0, 143.60000000000002, 147.2, 158.0, 168.8, 176.0, 177.8, 176.0, 181.4, 194.0, 174.20000000000002, 141.8, 127.4, 122.0, 120.2, 127.4, 118.4, 113.0, 102.2]\n",
      "Promedio C= 62.760416666666664\n",
      "Promedio F= 144.96875\n",
      "La relacion es que F y C son proporcionales entre si\n"
     ]
    }
   ],
   "source": [
    "temperatures_C = [33, 66, 65, 60.25, 59, 60, 62, 64, 70, 76, 80, 81, 80, 83, 90, 79, 61, 53, 50, 49, 53, 48, 45, 39]\n",
    "temperatures_F = []\n",
    "count = 0\n",
    "\n",
    "for temp in temperatures_C:\n",
    "    temperatures_F.append((1.8*temperatures_C[count])+32)\n",
    "    count = count +1\n",
    "print('Celcius=',temperatures_C)\n",
    "print('Farenheit=',temperatures_F)\n",
    "    \n",
    "print('Promedio C=',sum(temperatures_C)/len(temperatures_C))\n",
    "print('Promedio F=',sum(temperatures_F)/len(temperatures_F))\n",
    "print('La relacion es que F y C son proporcionales entre si')"
   ]
  },
  {
   "cell_type": "markdown",
   "metadata": {},
   "source": [
    "#### 5. Find the standard deviation of the temperature lists (ºC and ºF). What is the relation between both standard deviations?"
   ]
  },
  {
   "cell_type": "code",
   "execution_count": 75,
   "metadata": {},
   "outputs": [
    {
     "name": "stdout",
     "output_type": "stream",
     "text": [
      "Desviacion estandar C= 14.956727286515202\n",
      "Desviacion estandar F= 26.922109115727363\n",
      "Al igual que con los promedios, las desviaciones siguen siendo proporcionales\n"
     ]
    }
   ],
   "source": [
    "temperatures_C = [33, 66, 65, 60.25, 59, 60, 62, 64, 70, 76, 80, 81, 80, 83, 90, 79, 61, 53, 50, 49, 53, 48, 45, 39]\n",
    "temperatures_F = []\n",
    "count = 0\n",
    "\n",
    "for temp in temperatures_C:\n",
    "    temperatures_F.append((1.8*temperatures_C[count])+32)\n",
    "    count = count +1\n",
    "    \n",
    "import statistics\n",
    "\n",
    "print('Desviacion estandar C=',statistics.stdev(temperatures_C))\n",
    "print('Desviacion estandar F=',statistics.stdev(temperatures_F))\n",
    "print('Al igual que con los promedios, las desviaciones siguen siendo proporcionales')"
   ]
  },
  {
   "cell_type": "code",
   "execution_count": null,
   "metadata": {},
   "outputs": [],
   "source": []
  }
 ],
 "metadata": {
  "kernelspec": {
   "display_name": "Python 3",
   "language": "python",
   "name": "python3"
  },
  "language_info": {
   "codemirror_mode": {
    "name": "ipython",
    "version": 3
   },
   "file_extension": ".py",
   "mimetype": "text/x-python",
   "name": "python",
   "nbconvert_exporter": "python",
   "pygments_lexer": "ipython3",
   "version": "3.8.3"
  }
 },
 "nbformat": 4,
 "nbformat_minor": 2
}
