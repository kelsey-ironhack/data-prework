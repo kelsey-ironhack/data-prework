{
 "cells": [
  {
   "cell_type": "markdown",
   "metadata": {},
   "source": [
    "<img src=\"https://bit.ly/2VnXWr2\" width=\"100\" align=\"left\">"
   ]
  },
  {
   "cell_type": "markdown",
   "metadata": {},
   "source": [
    "# Temperature Sensor\n",
    "\n",
    "There is a temperature sensor in the processor of your company's server. The company wants to analyze the data provided by the sensor to decide if they should change the cooling system for a better one. As changing the cooling system is expensive and you are an excellent data analyst, you can't make a decision without basis.\n",
    "\n",
    "## Tools\n",
    "You don't necessarily need to use all the tools. Maybe you opt to use some of them or completely different ones, they are given to help you shape the exercise. Programming exercises can be solved in many different ways.\n",
    "1. Data structures: **lists**\n",
    "2. Loops: **list comprehension**\n",
    "3. Functions: **min, max, print, len**\n",
    "4. Conditional statements: **if-elif-else**\n",
    "\n",
    "## Tasks\n",
    "The temperatures measured throughout the 24 hours of a day are:"
   ]
  },
  {
   "cell_type": "code",
   "execution_count": 1,
   "metadata": {},
   "outputs": [],
   "source": [
    "temperatures_C = [33, 66, 65, 0, 59, 60, 62, 64, 70, 76, 80, 81, 80, 83, 90, 79, 61, 53, 50, 49, 53, 48, 45, 39]"
   ]
  },
  {
   "cell_type": "markdown",
   "metadata": {},
   "source": [
    "The first element of the list is the temperature at 12am, the second element is the temperature at 1am, and so on. \n",
    "\n",
    "The company has decided that if one of the following events occurs, then the cooling system needs to be replaced for a new one to avoid damaging the processor.\n",
    "* More than 4 temperatures are greater than or equal to 70ºC.\n",
    "* Any temperature is above 80ºC.\n",
    "* The average temperature exceeds 65ºC.\n",
    "\n",
    "Follow the steps so that you can make the decision.\n",
    "\n",
    "#### 1. Find the minimum temperature of the day and store it in a variable."
   ]
  },
  {
   "cell_type": "code",
   "execution_count": 2,
   "metadata": {},
   "outputs": [
    {
     "data": {
      "text/plain": [
       "0"
      ]
     },
     "execution_count": 2,
     "metadata": {},
     "output_type": "execute_result"
    }
   ],
   "source": [
    "temperature_min=min(temperatures_C)\n",
    "temperature_min"
   ]
  },
  {
   "cell_type": "markdown",
   "metadata": {},
   "source": [
    "#### 2. Find the maximum temperature of the day and store it in a variable."
   ]
  },
  {
   "cell_type": "code",
   "execution_count": 3,
   "metadata": {},
   "outputs": [
    {
     "data": {
      "text/plain": [
       "90"
      ]
     },
     "execution_count": 3,
     "metadata": {},
     "output_type": "execute_result"
    }
   ],
   "source": [
    "temperature_max=max(temperatures_C)\n",
    "temperature_max"
   ]
  },
  {
   "cell_type": "markdown",
   "metadata": {},
   "source": [
    "#### 3. Create a list with the temperatures that are greater than or equal to 70ºC. Store it in a variable."
   ]
  },
  {
   "cell_type": "code",
   "execution_count": 4,
   "metadata": {},
   "outputs": [
    {
     "name": "stdout",
     "output_type": "stream",
     "text": [
      "[70, 76, 80, 81, 80, 83, 90, 79]\n"
     ]
    }
   ],
   "source": [
    "high_temperatures=[]\n",
    "for temperature in temperatures_C:\n",
    "    if temperature>=70:\n",
    "        high_temperatures.append(temperature)\n",
    "print(high_temperatures)"
   ]
  },
  {
   "cell_type": "markdown",
   "metadata": {},
   "source": [
    "#### 4. Find the average temperature of the day and store it in a variable."
   ]
  },
  {
   "cell_type": "code",
   "execution_count": 5,
   "metadata": {},
   "outputs": [
    {
     "data": {
      "text/plain": [
       "60.25"
      ]
     },
     "execution_count": 5,
     "metadata": {},
     "output_type": "execute_result"
    }
   ],
   "source": [
    "avg_temperature=sum(temperatures_C)/len(temperatures_C)\n",
    "avg_temperature"
   ]
  },
  {
   "cell_type": "markdown",
   "metadata": {},
   "source": [
    "#### 5. Imagine that there was a sensor failure at 3am and the data for that specific hour was not recorded. How would you estimate the missing value? Replace the current value of the list at 3am for an estimation. "
   ]
  },
  {
   "cell_type": "code",
   "execution_count": 6,
   "metadata": {},
   "outputs": [
    {
     "name": "stdout",
     "output_type": "stream",
     "text": [
      "[33, 66, 65, 62, 59, 60, 62, 64, 70, 76, 80, 81, 80, 83, 90, 79, 61, 53, 50, 49, 53, 48, 45, 39]\n"
     ]
    }
   ],
   "source": [
    "#Linear Interpolation\n",
    "missing_value=3\n",
    "missing_value_estimation=(temperatures_C[missing_value+1]-temperatures_C[missing_value-1])/(missing_value+1-missing_value+1)*(missing_value-missing_value+1)\n",
    "missing_value_estimation=missing_value_estimation+temperatures_C[missing_value-1]\n",
    "temperatures_C[missing_value]=int(missing_value_estimation)\n",
    "print(temperatures_C)"
   ]
  },
  {
   "cell_type": "markdown",
   "metadata": {},
   "source": [
    "#### 6. Bonus: the maintenance staff is from the United States and does not understand the international metric system. Help them by converting the temperatures from Celsius to Fahrenheit.\n",
    "To know more about temperature conversion check this [link](https://en.wikipedia.org/wiki/Conversion_of_units_of_temperature).\n",
    "\n",
    "**Formula**: \n",
    "\n",
    "$F = 1.8 * C + 32$"
   ]
  },
  {
   "cell_type": "code",
   "execution_count": 7,
   "metadata": {},
   "outputs": [
    {
     "name": "stdout",
     "output_type": "stream",
     "text": [
      "[91, 151, 149, 144, 138, 140, 144, 147, 158, 169, 176, 178, 176, 181, 194, 174, 142, 127, 122, 120, 127, 118, 113, 102]\n"
     ]
    }
   ],
   "source": [
    "temperatures_F=[]\n",
    "for temperature in temperatures_C:\n",
    "    temperatures_F.append(round(((temperature*1.8)+32)))\n",
    "print(temperatures_F)"
   ]
  },
  {
   "cell_type": "markdown",
   "metadata": {},
   "source": [
    "#### 7. Make a decision!\n",
    "Now it's time to make a decision taking into account what you have seen until now. \n",
    "\n",
    "Remember that if one of the following events occurs, then the cooling system needs to be replaced for a new one to avoid damaging the processor.\n",
    "* More than 4 temperatures are greater than or equal to 70ºC.\n",
    "* Any temperature is above 80ºC.\n",
    "* The average temperature exceeds 65ºC.\n",
    "\n",
    "#### To make your decision, check if any of the three conditions above is met. You might need to use some of the variables you created in steps 1 to 6. Print a message to show if the cooling system needs to be changed or not."
   ]
  },
  {
   "cell_type": "code",
   "execution_count": 8,
   "metadata": {},
   "outputs": [
    {
     "name": "stdout",
     "output_type": "stream",
     "text": [
      "The cooling system needs to be changed since 2 of the conditions have been met\n"
     ]
    }
   ],
   "source": [
    "avg_temperature=sum(temperatures_C)/len(temperatures_C)\n",
    "system_fails=0\n",
    "if len(high_temperatures)>4:\n",
    "    system_fails=system_fails+1\n",
    "if temperature_max>80:\n",
    "    system_fails=system_fails+1\n",
    "if avg_temperature>65:\n",
    "    system_fails=system_fails+1\n",
    "if system_fails>0:\n",
    "    print(\"The cooling system needs to be changed since\",system_fails,\"of the conditions have been met\")\n",
    "elif system_fails<=0:\n",
    "    print(\"There is no need to replace the cooling system since none of the conditions have been met\")"
   ]
  },
  {
   "cell_type": "markdown",
   "metadata": {},
   "source": [
    "## Bonus\n",
    "\n",
    "The company has decided that the decision you made is not valid. They want you to analyze the data again but this time, the conditions that need to be met in order to change the cooling system are different.\n",
    "\n",
    "This time, if one of the following events occurs, then the cooling system needs to be replaced:\n",
    "* The temperature is greater than 70ºC during more than 4 consecutive hours.\n",
    "* Any temperature is above 80ºC.\n",
    "* The average temperature exceeds 65ºC.\n",
    "\n",
    "Follow the steps so that you can make the decision.\n",
    "\n",
    "#### 1. Create a list with the hours where the temperature is greater than 70ºC. Store it in a variable."
   ]
  },
  {
   "cell_type": "code",
   "execution_count": 9,
   "metadata": {},
   "outputs": [
    {
     "name": "stdout",
     "output_type": "stream",
     "text": [
      "[9, 10, 11, 12, 13, 14, 15]\n"
     ]
    }
   ],
   "source": [
    "hot_hours=[]\n",
    "for i in range(len(temperatures_C)):\n",
    "    if temperatures_C[i]>70:\n",
    "        hot_hours.append(i)\n",
    "print(hot_hours)"
   ]
  },
  {
   "cell_type": "markdown",
   "metadata": {},
   "source": [
    "#### 2. Check if the list you created in step 1 has more than 4 consecutive hours. "
   ]
  },
  {
   "cell_type": "code",
   "execution_count": 10,
   "metadata": {},
   "outputs": [
    {
     "name": "stdout",
     "output_type": "stream",
     "text": [
      "The number of consecutive hours with temperatures over 70ºC is 6\n"
     ]
    }
   ],
   "source": [
    "consecutive_hot_hours=0\n",
    "dummy=0\n",
    "for hour in hot_hours:\n",
    "    if dummy==0:\n",
    "        dummy=hour\n",
    "    elif dummy!=0:\n",
    "        if hour-dummy==1:\n",
    "            consecutive_hot_hours=consecutive_hot_hours+1\n",
    "        elif hour-dummy!=1:\n",
    "            consecutive_hot_hours=0\n",
    "        dummy=hour\n",
    "print(\"The number of consecutive hours with temperatures over 70ºC is\",consecutive_hot_hours)"
   ]
  },
  {
   "cell_type": "markdown",
   "metadata": {},
   "source": [
    "#### 3. Make the decision!\n",
    "To make your decision, check if any of the three conditions is met. Print a message to show if the cooling system needs to be changed or not."
   ]
  },
  {
   "cell_type": "code",
   "execution_count": 11,
   "metadata": {},
   "outputs": [
    {
     "name": "stdout",
     "output_type": "stream",
     "text": [
      "The cooling system needs to be changed since 2 of the conditions have been met\n"
     ]
    }
   ],
   "source": [
    "system_fails=0\n",
    "if consecutive_hot_hours>4:\n",
    "    system_fails=system_fails+1\n",
    "if temperature_max>80:\n",
    "    system_fails=system_fails+1\n",
    "if avg_temperature>65:\n",
    "    system_fails=system_fails+1\n",
    "if system_fails>0:\n",
    "    print(\"The cooling system needs to be changed since\",system_fails,\"of the conditions have been met\")\n",
    "elif system_fails<=0:\n",
    "    print(\"There is no need to replace the cooling system since none of the conditions have been met\")"
   ]
  },
  {
   "cell_type": "markdown",
   "metadata": {},
   "source": [
    "#### 4. Find the average value of the temperature lists (ºC and ºF). What is the relation between both average values?"
   ]
  },
  {
   "cell_type": "code",
   "execution_count": 12,
   "metadata": {},
   "outputs": [
    {
     "name": "stdout",
     "output_type": "stream",
     "text": [
      "The average temperature in ºC is 62.833333333333336 and in ºF is 145.04166666666666\n",
      "The relation between both is that the average of converting each individual temperature from ºC to ºF is almost the same as\n",
      "converting the average of all the temperatures from ºC to ºF\n",
      "Which would be 145.10000000000002\n",
      "Also since both are calculated depending on the other their correlation is direct\n",
      "Meaning that if one increases the other one will increase as well\n"
     ]
    }
   ],
   "source": [
    "avg_temperature_F=sum(temperatures_F)/len(temperatures_F)\n",
    "print(\"The average temperature in ºC is\",avg_temperature,\"and in ºF is\",avg_temperature_F)\n",
    "print(\"The relation between both is that the average of converting each individual temperature from ºC to ºF is almost the same as\") \n",
    "print(\"converting the average of all the temperatures from ºC to ºF\")\n",
    "print(\"Which would be\",avg_temperature*1.8+32)\n",
    "print(\"Also since both are calculated depending on the other their correlation is direct\")\n",
    "print(\"Meaning that if one increases the other one will increase as well\")"
   ]
  },
  {
   "cell_type": "markdown",
   "metadata": {},
   "source": [
    "#### 5. Find the standard deviation of the temperature lists (ºC and ºF). What is the relation between both standard deviations?"
   ]
  },
  {
   "cell_type": "code",
   "execution_count": 13,
   "metadata": {},
   "outputs": [
    {
     "name": "stdout",
     "output_type": "stream",
     "text": [
      "The standard deviation of the temperature lists are 14.94821980579356 ºC and 26.990302874835667 ºF\n",
      "They also have a direct correlation, meaning if one of them increases the other one will increase as well\n"
     ]
    }
   ],
   "source": [
    "import statistics\n",
    "print(\"The standard deviation of the temperature lists are\",statistics.stdev(temperatures_C),\"ºC and\",statistics.stdev(temperatures_F),\"ºF\")\n",
    "print(\"They also have a direct correlation, meaning if one of them increases the other one will increase as well\")"
   ]
  }
 ],
 "metadata": {
  "kernelspec": {
   "display_name": "Python 3",
   "language": "python",
   "name": "python3"
  },
  "language_info": {
   "codemirror_mode": {
    "name": "ipython",
    "version": 3
   },
   "file_extension": ".py",
   "mimetype": "text/x-python",
   "name": "python",
   "nbconvert_exporter": "python",
   "pygments_lexer": "ipython3",
   "version": "3.8.8"
  }
 },
 "nbformat": 4,
 "nbformat_minor": 2
}
