{
 "cells": [
  {
   "cell_type": "markdown",
   "metadata": {},
   "source": [
    "<img src=\"https://bit.ly/2VnXWr2\" width=\"100\" align=\"left\">"
   ]
  },
  {
   "cell_type": "markdown",
   "metadata": {},
   "source": [
    "# Temperature Sensor\n",
    "\n",
    "There is a temperature sensor in the processor of your company's server. The company wants to analyze the data provided by the sensor to decide if they should change the cooling system for a better one. As changing the cooling system is expensive and you are an excellent data analyst, you can't make a decision without basis.\n",
    "\n",
    "## Tools\n",
    "You don't necessarily need to use all the tools. Maybe you opt to use some of them or completely different ones, they are given to help you shape the exercise. Programming exercises can be solved in many different ways.\n",
    "1. Data structures: **lists**\n",
    "2. Loops: **list comprehension**\n",
    "3. Functions: **min, max, print, len**\n",
    "4. Conditional statements: **if-elif-else**\n",
    "\n",
    "## Tasks\n",
    "The temperatures measured throughout the 24 hours of a day are:"
   ]
  },
  {
   "cell_type": "code",
   "execution_count": 2,
   "metadata": {},
   "outputs": [],
   "source": [
    "import math\n",
    "temperatures_C = [33, 66, 65, 0, 59, 60, 62, 64, 70, 76, 80, 81, 80, 83, 90, 79, 61, 53, 50, 49, 53, 48, 45, 39]"
   ]
  },
  {
   "cell_type": "markdown",
   "metadata": {},
   "source": [
    "The first element of the list is the temperature at 12am, the second element is the temperature at 1am, and so on. \n",
    "\n",
    "The company has decided that if one of the following events occurs, then the cooling system needs to be replaced for a new one to avoid damaging the processor.\n",
    "* More than 4 temperatures are greater than or equal to 70ºC.\n",
    "* Any temperature is above 80ºC.\n",
    "* The average temperature exceeds 65ºC.\n",
    "\n",
    "Follow the steps so that you can make the decision.\n",
    "\n",
    "#### 1. Find the minimum temperature of the day and store it in a variable."
   ]
  },
  {
   "cell_type": "code",
   "execution_count": 3,
   "metadata": {},
   "outputs": [],
   "source": [
    "minimum_temp = min(temperatures_C)"
   ]
  },
  {
   "cell_type": "markdown",
   "metadata": {},
   "source": [
    "#### 2. Find the maximum temperature of the day and store it in a variable."
   ]
  },
  {
   "cell_type": "code",
   "execution_count": 4,
   "metadata": {},
   "outputs": [],
   "source": [
    "maximum_temp = max(temperatures_C)"
   ]
  },
  {
   "cell_type": "markdown",
   "metadata": {},
   "source": [
    "#### 3. Create a list with the temperatures that are greater than or equal to 70ºC. Store it in a variable."
   ]
  },
  {
   "cell_type": "code",
   "execution_count": 5,
   "metadata": {},
   "outputs": [
    {
     "name": "stdout",
     "output_type": "stream",
     "text": [
      "[70, 76, 80, 81, 80, 83, 90, 79]\n"
     ]
    }
   ],
   "source": [
    "temp_greater_than_70 = []\n",
    "for temp in temperatures_C:\n",
    "    if (temp >= 70):\n",
    "        temp_greater_than_70.append(temp)\n",
    "\n",
    "print(temp_greater_than_70)"
   ]
  },
  {
   "cell_type": "markdown",
   "metadata": {},
   "source": [
    "#### 4. Find the average temperature of the day and store it in a variable."
   ]
  },
  {
   "cell_type": "code",
   "execution_count": 6,
   "metadata": {},
   "outputs": [
    {
     "name": "stdout",
     "output_type": "stream",
     "text": [
      "60.25\n"
     ]
    }
   ],
   "source": [
    "average_temp = sum(temperatures_C) / len(temperatures_C)\n",
    "print(average_temp)"
   ]
  },
  {
   "cell_type": "markdown",
   "metadata": {},
   "source": [
    "#### 5. Imagine that there was a sensor failure at 3am and the data for that specific hour was not recorded. How would you estimate the missing value? Replace the current value of the list at 3am for an estimation. "
   ]
  },
  {
   "cell_type": "code",
   "execution_count": 7,
   "metadata": {},
   "outputs": [
    {
     "name": "stdout",
     "output_type": "stream",
     "text": [
      "Estimate value:  62\n",
      "After changing the estimate value in the list:  [33, 66, 65, 62, 59, 60, 62, 64, 70, 76, 80, 81, 80, 83, 90, 79, 61, 53, 50, 49, 53, 48, 45, 39]\n",
      "Original Temperature list:  [33, 66, 65, 0, 59, 60, 62, 64, 70, 76, 80, 81, 80, 83, 90, 79, 61, 53, 50, 49, 53, 48, 45, 39]\n"
     ]
    }
   ],
   "source": [
    "def estimate_missing_value(list, item):\n",
    "    estimated_list = []\n",
    "    for element in list:\n",
    "        if element == item:\n",
    "            estimate = sum(list) - item\n",
    "            estimate_value = int(estimate / (len(list) - 1))\n",
    "            element = estimate_value\n",
    "            estimated_list.append(element)\n",
    "        else:\n",
    "            estimated_list.append(element)\n",
    "        \n",
    "    print(\"Estimate value: \", estimate_value)\n",
    "    print(\"After changing the estimate value in the list: \", estimated_list)\n",
    "\n",
    "estimate_missing_value(temperatures_C, temperatures_C[3])\n",
    "print(\"Original Temperature list: \", temperatures_C)"
   ]
  },
  {
   "cell_type": "markdown",
   "metadata": {},
   "source": [
    "#### 6. Bonus: the maintenance staff is from the United States and does not understand the international metric system. Help them by converting the temperatures from Celsius to Fahrenheit.\n",
    "To know more about temperature conversion check this [link](https://en.wikipedia.org/wiki/Conversion_of_units_of_temperature).\n",
    "\n",
    "**Formula**: \n",
    "\n",
    "$F = 1.8 * C + 32$"
   ]
  },
  {
   "cell_type": "code",
   "execution_count": 8,
   "metadata": {},
   "outputs": [
    {
     "name": "stdout",
     "output_type": "stream",
     "text": [
      "[91.4, 150.8, 149.0, 32.0, 138.2, 140.0, 143.6, 147.2, 158.0, 168.8, 176.0, 177.8, 176.0, 181.4, 194.0, 174.2, 141.8, 127.4, 122.0, 120.2, 127.4, 118.4, 113.0, 102.2]\n"
     ]
    }
   ],
   "source": [
    "temperatures_F = []\n",
    "for temp in temperatures_C:\n",
    "    F = 1.8 * temp + 32\n",
    "    temperatures_F.append(float(\"%.2f\" % F))\n",
    "print(temperatures_F)"
   ]
  },
  {
   "cell_type": "markdown",
   "metadata": {},
   "source": [
    "#### 7. Make a decision!\n",
    "Now it's time to make a decision taking into account what you have seen until now. \n",
    "\n",
    "Remember that if one of the following events occurs, then the cooling system needs to be replaced for a new one to avoid damaging the processor.\n",
    "* More than 4 temperatures are greater than or equal to 70ºC.\n",
    "* Any temperature is above 80ºC.\n",
    "* The average temperature exceeds 65ºC.\n",
    "\n",
    "#### To make your decision, check if any of the three conditions above is met. You might need to use some of the variables you created in steps 1 to 6. Print a message to show if the cooling system needs to be changed or not."
   ]
  },
  {
   "cell_type": "code",
   "execution_count": 9,
   "metadata": {},
   "outputs": [
    {
     "name": "stdout",
     "output_type": "stream",
     "text": [
      "Condition met! Temperature above 80 celsius, cooling system needs to be changed.\n"
     ]
    }
   ],
   "source": [
    "counter = 0\n",
    "for temp in temp_greater_than_70:\n",
    "    if temp > 80:\n",
    "        print(\"Condition met! Temperature above 80 celsius, cooling system needs to be changed.\")\n",
    "        break\n",
    "    elif temp >= 70:\n",
    "        counter += 1\n",
    "        if counter > 4:\n",
    "            print(\"Condition met! Temperature equals or above 70 celsius, cooling system needs to be changed.\")\n",
    "            break\n",
    "    elif average_temp > 65:\n",
    "        print(\"Condition met! average temperature exceed 65 celsius, cooling system needs to be changed.\")\n",
    "    else:\n",
    "        print(\"Cooling system doesnot need to be changed.\")\n"
   ]
  },
  {
   "cell_type": "markdown",
   "metadata": {},
   "source": [
    "## Bonus\n",
    "\n",
    "The company has decided that the decision you made is not valid. They want you to analyze the data again but this time, the conditions that need to be met in order to change the cooling system are different.\n",
    "\n",
    "This time, if one of the following events occurs, then the cooling system needs to be replaced:\n",
    "* The temperature is greater than 70ºC during more than 4 consecutive hours.\n",
    "* Any temperature is above 80ºC.\n",
    "* The average temperature exceeds 65ºC.\n",
    "\n",
    "Follow the steps so that you can make the decision.\n",
    "\n",
    "#### 1. Create a list with the hours where the temperature is greater than 70ºC. Store it in a variable."
   ]
  },
  {
   "cell_type": "code",
   "execution_count": 10,
   "metadata": {},
   "outputs": [
    {
     "name": "stdout",
     "output_type": "stream",
     "text": [
      "Hours list is  [(33, 0), (66, 1), (65, 2), (0, 3), (59, 4), (60, 5), (62, 6), (64, 7), (70, 8), (76, 9), (80, 10), (81, 11), (80, 12), (83, 13), (90, 14), (79, 15), (61, 16), (53, 17), (50, 18), (49, 19), (53, 20), (48, 21), (45, 22), (39, 23)]\n",
      "The list with the hours where the temperature is greater than 70ºC [9, 10, 11, 12, 13, 14, 15]\n"
     ]
    }
   ],
   "source": [
    "hours = []\n",
    "hours_greater_than_70 = []\n",
    "for i in range(len(temperatures_C)):\n",
    "    lst = (temperatures_C[i], i)\n",
    "    hours.append(lst)\n",
    "print(\"Hours list is \", hours) \n",
    "for item in hours:\n",
    "    x = 0\n",
    "    y = 1\n",
    "    if item[x] >70:\n",
    "        hours_greater_than_70.append(item[y])\n",
    "print(\"The list with the hours where the temperature is greater than 70ºC\", hours_greater_than_70)\n"
   ]
  },
  {
   "cell_type": "markdown",
   "metadata": {},
   "source": [
    "#### 2. Check if the list you created in step 1 has more than 4 consecutive hours. "
   ]
  },
  {
   "cell_type": "code",
   "execution_count": 11,
   "metadata": {},
   "outputs": [
    {
     "name": "stdout",
     "output_type": "stream",
     "text": [
      "List has more than 4 consecutive hours\n"
     ]
    }
   ],
   "source": [
    "count = 0\n",
    "sorted_list = sorted(hours_greater_than_70)\n",
    "range_list = list(range(min(hours_greater_than_70), max(hours_greater_than_70)+1))\n",
    "for i in range(len(sorted_list)):\n",
    "    if sorted_list[i] == range_list[i]:\n",
    "        count += 1\n",
    "        if count > 4:\n",
    "            print(\"List has more than 4 consecutive hours\")\n",
    "            break\n",
    "    else:\n",
    "        count = 0"
   ]
  },
  {
   "cell_type": "markdown",
   "metadata": {},
   "source": [
    "#### 3. Make the decision!\n",
    "To make your decision, check if any of the three conditions is met. Print a message to show if the cooling system needs to be changed or not."
   ]
  },
  {
   "cell_type": "code",
   "execution_count": 12,
   "metadata": {},
   "outputs": [
    {
     "name": "stdout",
     "output_type": "stream",
     "text": [
      "Condition met! Temperature above 80 celsius, cooling system needs to be changed.\n"
     ]
    }
   ],
   "source": [
    "counter_for_bonus_case = 0\n",
    "for temp in temp_greater_than_70:\n",
    "    if temp > 80:\n",
    "        counter_for_bonus_case = 0\n",
    "        print(\"Condition met! Temperature above 80 celsius, cooling system needs to be changed.\")\n",
    "        break\n",
    "    elif temp >= 70:\n",
    "        counter_for_bonus_case += 1\n",
    "        if counter_for_bonus_case > 4:\n",
    "            print(\"Condition met! The temperature is greater than 70ºC during more than 4 consecutive hours, cooling system needs to be changed.\")\n",
    "            break\n",
    "    elif average_temp > 65:\n",
    "        counter_for_bonus_case = 0\n",
    "        print(\"Condition met! Average temperature exceed 65 celsius, cooling system needs to be changed.\")\n",
    "    else:\n",
    "        print(\"Cooling system doesnot need to be changed.\")\n",
    "\n"
   ]
  },
  {
   "cell_type": "markdown",
   "metadata": {},
   "source": [
    "#### 4. Find the average value of the temperature lists (ºC and ºF). What is the relation between both average values?"
   ]
  },
  {
   "cell_type": "code",
   "execution_count": 13,
   "metadata": {},
   "outputs": [
    {
     "name": "stdout",
     "output_type": "stream",
     "text": [
      "Average Temperature in Celsius:  60.25\n",
      "Average Temperature in Fahrenheit:  140.45\n"
     ]
    },
    {
     "data": {
      "text/plain": [
       "'The relation between both average values is average_temp_F = 1.8 * average_temp_C + 32'"
      ]
     },
     "execution_count": 13,
     "metadata": {},
     "output_type": "execute_result"
    }
   ],
   "source": [
    "average_temp_C = sum(temperatures_C) / len(temperatures_C)\n",
    "print(\"Average Temperature in Celsius: \",average_temp_C)\n",
    "\n",
    "average_temp_F = sum(temperatures_F) / len(temperatures_F)\n",
    "print(\"Average Temperature in Fahrenheit: \",average_temp_F)\n",
    "\n",
    "\"\"\"the relation between both average values\"\"\"\n",
    "#  F = 1.8 * C + 32\n",
    "fahrenheit = 1.8 * (average_temp_C) + 32\n",
    "# print(fahrenheit)\n",
    " \n",
    "\"\"\"The relation between both average values is average_temp_F = 1.8 * average_temp_C + 32\"\"\"\n"
   ]
  },
  {
   "cell_type": "markdown",
   "metadata": {},
   "source": [
    "#### 5. Find the standard deviation of the temperature lists (ºC and ºF). What is the relation between both standard deviations?"
   ]
  },
  {
   "cell_type": "code",
   "execution_count": 14,
   "metadata": {},
   "outputs": [
    {
     "name": "stdout",
     "output_type": "stream",
     "text": [
      "Standard Deviation for temperature in celsius:  19.29\n",
      "Standard Deviation for temperature in fahrenheit:  34.71\n"
     ]
    },
    {
     "data": {
      "text/plain": [
       "'The relation between both standard deviations is standard_deviation_temp_F = 1.8 * standard_deviation_temp_C'"
      ]
     },
     "execution_count": 14,
     "metadata": {},
     "output_type": "execute_result"
    }
   ],
   "source": [
    "variance_list_temp_C= []\n",
    "variance_list_temp_F= []\n",
    "\n",
    "for x in temperatures_C:\n",
    "    squared_difference = (x - average_temp_C) ** 2\n",
    "    variance_list_temp_C.append(squared_difference)\n",
    "\n",
    "variance_temp_C = sum(variance_list_temp_C) / len(variance_list_temp_C)\n",
    "standard_deviation_temp_C = variance_temp_C ** 0.5\n",
    "print(\"Standard Deviation for temperature in celsius: \", float(\"%.2f\" % standard_deviation_temp_C))\n",
    "\n",
    "\n",
    "\n",
    "for x in temperatures_F:\n",
    "    squared_difference = (x - average_temp_F) ** 2\n",
    "    variance_list_temp_F.append(squared_difference)\n",
    "\n",
    "variance_temp_F = sum(variance_list_temp_F) / len(variance_list_temp_F)\n",
    "standard_deviation_temp_F = variance_temp_F ** 0.5\n",
    "print(\"Standard Deviation for temperature in fahrenheit: \", float(\"%.2f\" % standard_deviation_temp_F))\n",
    "\"\"\"The relation between both standard deviations is standard_deviation_temp_F = 1.8 * standard_deviation_temp_C\"\"\""
   ]
  },
  {
   "cell_type": "code",
   "execution_count": null,
   "metadata": {},
   "outputs": [],
   "source": []
  }
 ],
 "metadata": {
  "kernelspec": {
   "display_name": "Python 3",
   "language": "python",
   "name": "python3"
  },
  "language_info": {
   "codemirror_mode": {
    "name": "ipython",
    "version": 3
   },
   "file_extension": ".py",
   "mimetype": "text/x-python",
   "name": "python",
   "nbconvert_exporter": "python",
   "pygments_lexer": "ipython3",
   "version": "3.8.5"
  }
 },
 "nbformat": 4,
 "nbformat_minor": 2
}
