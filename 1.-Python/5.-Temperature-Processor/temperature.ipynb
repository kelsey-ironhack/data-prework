{
 "cells": [
  {
   "cell_type": "markdown",
   "metadata": {},
   "source": [
    "<img src=\"https://bit.ly/2VnXWr2\" width=\"100\" align=\"left\">"
   ]
  },
  {
   "cell_type": "markdown",
   "metadata": {},
   "source": [
    "# Temperature Sensor\n",
    "\n",
    "There is a temperature sensor in the processor of your company's server. The company wants to analyze the data provided by the sensor to decide if they should change the cooling system for a better one. As changing the cooling system is expensive and you are an excellent data analyst, you can't make a decision without basis.\n",
    "\n",
    "## Tools\n",
    "You don't necessarily need to use all the tools. Maybe you opt to use some of them or completely different ones, they are given to help you shape the exercise. Programming exercises can be solved in many different ways.\n",
    "1. Data structures: **lists**\n",
    "2. Loops: **list comprehension**\n",
    "3. Functions: **min, max, print, len**\n",
    "4. Conditional statements: **if-elif-else**\n",
    "\n",
    "## Tasks\n",
    "The temperatures measured throughout the 24 hours of a day are:"
   ]
  },
  {
   "cell_type": "code",
   "execution_count": 1,
   "metadata": {},
   "outputs": [],
   "source": [
    "temperatures_C = [33, 66, 65, 0, 59, 60, 62, 64, 70, 76, 80, 81, 80, 83, 90, 79, 61, 53, 50, 49, 53, 48, 45, 39]"
   ]
  },
  {
   "cell_type": "markdown",
   "metadata": {},
   "source": [
    "The first element of the list is the temperature at 12am, the second element is the temperature at 1am, and so on. \n",
    "\n",
    "The company has decided that if one of the following events occurs, then the cooling system needs to be replaced for a new one to avoid damaging the processor.\n",
    "* More than 4 temperatures are greater than or equal to 70ºC.\n",
    "* Any temperature is above 80ºC.\n",
    "* The average temperature exceeds 65ºC.\n",
    "\n",
    "Follow the steps so that you can make the decision.\n",
    "\n",
    "#### 1. Find the minimum temperature of the day and store it in a variable."
   ]
  },
  {
   "cell_type": "code",
   "execution_count": 7,
   "metadata": {},
   "outputs": [],
   "source": [
    "min(temperatures_C) \n",
    "\n",
    "\n",
    "min_temperatures = 0"
   ]
  },
  {
   "cell_type": "markdown",
   "metadata": {},
   "source": [
    "#### 2. Find the maximum temperature of the day and store it in a variable."
   ]
  },
  {
   "cell_type": "code",
   "execution_count": 8,
   "metadata": {},
   "outputs": [],
   "source": [
    "max(temperatures_C)  \n",
    "\n",
    "\n",
    "max_temperature = 90"
   ]
  },
  {
   "cell_type": "markdown",
   "metadata": {},
   "source": [
    "#### 3. Create a list with the temperatures that are greater than or equal to 70ºC. Store it in a variable."
   ]
  },
  {
   "cell_type": "code",
   "execution_count": 25,
   "metadata": {},
   "outputs": [
    {
     "name": "stdout",
     "output_type": "stream",
     "text": [
      "[0, 33, 39, 45, 48, 49, 50, 53, 53, 59, 60, 61, 62, 64, 65, 66, 70, 76, 79, 80, 80, 81, 83, 90]\n",
      "16\n",
      "[70, 76, 79, 80, 80, 81, 83, 90]\n"
     ]
    }
   ],
   "source": [
    "temperatures_C = [33, 66, 65, 0, 59, 60, 62, 64, 70, 76, 80, 81, 80, 83, 90, 79, 61, 53, 50, 49, 53, 48, 45, 39]\n",
    "\n",
    "temperatures_C.sort()\n",
    "\n",
    "print (temperatures_C)\n",
    "\n",
    "print(temperatures_C.index(70))\n",
    "\n",
    "print (temperatures_C[16:])\n",
    "\n",
    "High_temperatures = [70, 76, 79, 80, 80, 81, 83, 90]\n",
    "    \n",
    "    \n",
    " \n",
    "\n",
    "\n"
   ]
  },
  {
   "cell_type": "markdown",
   "metadata": {},
   "source": [
    "#### 4. Find the average temperature of the day and store it in a variable."
   ]
  },
  {
   "cell_type": "code",
   "execution_count": 21,
   "metadata": {},
   "outputs": [
    {
     "data": {
      "text/plain": [
       "60.25"
      ]
     },
     "execution_count": 21,
     "metadata": {},
     "output_type": "execute_result"
    }
   ],
   "source": [
    "sum(temperatures_C)/ len(temperatures_C)\n",
    "\n",
    "average_temperature = 60.25"
   ]
  },
  {
   "cell_type": "markdown",
   "metadata": {},
   "source": [
    "#### 5. Imagine that there was a sensor failure at 3am and the data for that specific hour was not recorded. How would you estimate the missing value? Replace the current value of the list at 3am for an estimation. "
   ]
  },
  {
   "cell_type": "code",
   "execution_count": 3,
   "metadata": {},
   "outputs": [
    {
     "name": "stdout",
     "output_type": "stream",
     "text": [
      "[33, 66, 65, 62, 59, 60, 62, 64, 70, 76, 80, 81, 80, 83, 90, 79, 61, 53, 50, 49, 53, 48, 45, 39]\n"
     ]
    }
   ],
   "source": [
    "temperatures_C = [33, 66, 65, 0, 59, 60, 62, 64, 70, 76, 80, 81, 80, 83, 90, 79, 61, 53, 50, 49, 53, 48, 45, 39]\n",
    "\n",
    "temperatures_C[3] = 62\n",
    "\n",
    "print (temperatures_C)\n",
    "\n",
    "\n",
    "\n"
   ]
  },
  {
   "cell_type": "markdown",
   "metadata": {},
   "source": [
    "#### 6. Bonus: the maintenance staff is from the United States and does not understand the international metric system. Help them by converting the temperatures from Celsius to Fahrenheit.\n",
    "To know more about temperature conversion check this [link](https://en.wikipedia.org/wiki/Conversion_of_units_of_temperature).\n",
    "\n",
    "**Formula**: \n",
    "\n",
    "$F = 1.8 * C + 32$"
   ]
  },
  {
   "cell_type": "code",
   "execution_count": 38,
   "metadata": {},
   "outputs": [
    {
     "name": "stdout",
     "output_type": "stream",
     "text": [
      "[91, 151, 149, 144, 138, 140, 144, 147, 158, 169, 176, 178, 176, 181, 194, 174, 142, 127, 122, 120, 127, 118, 113, 102]\n"
     ]
    }
   ],
   "source": [
    "temperatures_F = [r * 1.8 + 32 for r in temperatures_C]\n",
    "temperatures_F1 = [round(num) for num in temperatures_F]\n",
    "\n",
    "print (temperatures_F1)"
   ]
  },
  {
   "cell_type": "markdown",
   "metadata": {},
   "source": [
    "#### 7. Make a decision!\n",
    "Now it's time to make a decision taking into account what you have seen until now. \n",
    "\n",
    "Remember that if one of the following events occurs, then the cooling system needs to be replaced for a new one to avoid damaging the processor.\n",
    "* More than 4 temperatures are greater than or equal to 70ºC.\n",
    "* Any temperature is above 80ºC.\n",
    "* The average temperature exceeds 65ºC.\n",
    "\n",
    "#### To make your decision, check if any of the three conditions above is met. You might need to use some of the variables you created in steps 1 to 6. Print a message to show if the cooling system needs to be changed or not."
   ]
  },
  {
   "cell_type": "code",
   "execution_count": 30,
   "metadata": {},
   "outputs": [
    {
     "name": "stdout",
     "output_type": "stream",
     "text": [
      "Change processors\n"
     ]
    }
   ],
   "source": [
    "average_temperature = 60.25\n",
    "t_list = [70, 76, 79, 80, 80, 81, 83, 90]\n",
    "res = False\n",
    "\n",
    "high_temps = [1 for t in t_list if t > 70]\n",
    "if len(high_temps):\n",
    "    res = True\n",
    "\n",
    "for a in temperatures_C:\n",
    "    if a > 80:\n",
    "         res = True\n",
    "    \n",
    "if average_temperature >= 65:\n",
    "    res = True\n",
    "\n",
    "if res:\n",
    "    print (\"Change processors\")\n",
    "else:\n",
    "    print (\"Don't change processor\")\n",
    "    \n"
   ]
  },
  {
   "cell_type": "markdown",
   "metadata": {},
   "source": [
    "## Bonus\n",
    "\n",
    "The company has decided that the decision you made is not valid. They want you to analyze the data again but this time, the conditions that need to be met in order to change the cooling system are different.\n",
    "\n",
    "This time, if one of the following events occurs, then the cooling system needs to be replaced:\n",
    "* The temperature is greater than 70ºC during more than 4 consecutive hours.\n",
    "* Any temperature is above 80ºC.\n",
    "* The average temperature exceeds 65ºC.\n",
    "\n",
    "Follow the steps so that you can make the decision.\n",
    "\n",
    "#### 1. Create a list with the hours where the temperature is greater than 70ºC. Store it in a variable."
   ]
  },
  {
   "cell_type": "code",
   "execution_count": 63,
   "metadata": {},
   "outputs": [],
   "source": [
    "hours = [8, 9, 10, 11, 12, 13, 14]\n",
    "\n",
    "\n",
    "\n"
   ]
  },
  {
   "cell_type": "markdown",
   "metadata": {},
   "source": [
    "#### 2. Check if the list you created in step 1 has more than 4 consecutive hours. "
   ]
  },
  {
   "cell_type": "code",
   "execution_count": 78,
   "metadata": {},
   "outputs": [
    {
     "name": "stdout",
     "output_type": "stream",
     "text": [
      "hours has consecutive numbers\n"
     ]
    }
   ],
   "source": [
    "hours = [8, 9, 10, 11, 12, 13, 14]\n",
    "sorted_list = sorted(hours)\n",
    "\n",
    "range_list=list(range(min(hours), max(hours)+1))\n",
    "if sorted_list == range_list:\n",
    "   print(\"hours has consecutive numbers\")\n",
    "else:\n",
    "   print(\"hours has no consecutive numbers\")"
   ]
  },
  {
   "cell_type": "markdown",
   "metadata": {},
   "source": [
    "#### 3. Make the decision!\n",
    "To make your decision, check if any of the three conditions is met. Print a message to show if the cooling system needs to be changed or not."
   ]
  },
  {
   "cell_type": "code",
   "execution_count": 3,
   "metadata": {},
   "outputs": [
    {
     "name": "stdout",
     "output_type": "stream",
     "text": [
      "Change processors\n"
     ]
    }
   ],
   "source": [
    "average_temperature = 60.25\n",
    "hours = [8, 9, 10, 11, 12, 13, 14]\n",
    "sorted_list = sorted(hours)\n",
    "res = False\n",
    "\n",
    "range_list=list(range(min(hours), max(hours)+1))\n",
    "if sorted_list == range_list:\n",
    "    res = True\n",
    "    \n",
    "for a in temperatures_C:\n",
    "    if a > 80:\n",
    "         res = True\n",
    "    \n",
    "if average_temperature >= 65:\n",
    "    res = True\n",
    "\n",
    "if res:\n",
    "    print (\"Change processors\")\n",
    "else:\n",
    "    print (\"Don't change processor\")\n",
    "    \n",
    "\n",
    "\n",
    "\n",
    "\n"
   ]
  },
  {
   "cell_type": "markdown",
   "metadata": {},
   "source": [
    "#### 4. Find the average value of the temperature lists (ºC and ºF). What is the relation between both average values?"
   ]
  },
  {
   "cell_type": "code",
   "execution_count": 65,
   "metadata": {},
   "outputs": [
    {
     "name": "stdout",
     "output_type": "stream",
     "text": [
      "62.833333333333336\n",
      "145.1\n"
     ]
    }
   ],
   "source": [
    "print (sum(temperatures_C)/ len(temperatures_C))\n",
    "\n",
    "print (sum(temperatures_F)/ len(temperatures_F))\n",
    "\n",
    "# Celsius and Fareneith are directly proportational. If one increase the other also increase and vice versa. \n",
    "#The water boiling point in F is 32° and Celsius is 0°. Therefore, the conversion factor is not just a moltiplication because\n",
    "#starts at 0 and the other at 32 (for positive temperatures). The 1.8 is the difference is slope of the two functions.\n"
   ]
  },
  {
   "cell_type": "markdown",
   "metadata": {},
   "source": [
    "#### 5. Find the standard deviation of the temperature lists (ºC and ºF). What is the relation between both standard deviations?"
   ]
  },
  {
   "cell_type": "code",
   "execution_count": 66,
   "metadata": {},
   "outputs": [
    {
     "name": "stdout",
     "output_type": "stream",
     "text": [
      "14.633485192833897\n",
      "26.34027334710101\n"
     ]
    }
   ],
   "source": [
    "import numpy as np\n",
    "print (np.std(temperatures_C))\n",
    "print (np.std(temperatures_F))\n",
    "\n",
    "# The standard deviation of F (how far the datas are from the mean) is bigger than the C cause the data of F are higher numbers \n",
    "# as C and F do not have a ratio (just being moltiplied by a number) but 32 is always added to convert any data. "
   ]
  },
  {
   "cell_type": "code",
   "execution_count": null,
   "metadata": {},
   "outputs": [],
   "source": []
  }
 ],
 "metadata": {
  "kernelspec": {
   "display_name": "Python 3",
   "language": "python",
   "name": "python3"
  },
  "language_info": {
   "codemirror_mode": {
    "name": "ipython",
    "version": 3
   },
   "file_extension": ".py",
   "mimetype": "text/x-python",
   "name": "python",
   "nbconvert_exporter": "python",
   "pygments_lexer": "ipython3",
   "version": "3.8.3"
  }
 },
 "nbformat": 4,
 "nbformat_minor": 2
}
