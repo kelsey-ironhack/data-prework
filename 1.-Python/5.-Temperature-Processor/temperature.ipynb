{
 "cells": [
  {
   "cell_type": "markdown",
   "metadata": {},
   "source": [
    "<img src=\"https://bit.ly/2VnXWr2\" width=\"100\" align=\"left\">"
   ]
  },
  {
   "cell_type": "markdown",
   "metadata": {},
   "source": [
    "# Temperature Sensor\n",
    "\n",
    "There is a temperature sensor in the processor of your company's server. The company wants to analyze the data provided by the sensor to decide if they should change the cooling system for a better one. As changing the cooling system is expensive and you are an excellent data analyst, you can't make a decision without basis.\n",
    "\n",
    "## Tools\n",
    "You don't necessarily need to use all the tools. Maybe you opt to use some of them or completely different ones, they are given to help you shape the exercise. Programming exercises can be solved in many different ways.\n",
    "1. Data structures: **lists**\n",
    "2. Loops: **list comprehension**\n",
    "3. Functions: **min, max, print, len**\n",
    "4. Conditional statements: **if-elif-else**\n",
    "\n",
    "## Tasks\n",
    "The temperatures measured throughout the 24 hours of a day are:"
   ]
  },
  {
   "cell_type": "code",
   "execution_count": 1,
   "metadata": {},
   "outputs": [],
   "source": [
    "temperatures_C = [33, 66, 65, 0, 59, 60, 62, 64, 70, 76, 80, 81, 80, 83, 90, 79, 61, 53, 50, 49, 53, 48, 45, 39]"
   ]
  },
  {
   "cell_type": "markdown",
   "metadata": {},
   "source": [
    "The first element of the list is the temperature at 12am, the second element is the temperature at 1am, and so on. \n",
    "\n",
    "The company has decided that if one of the following events occurs, then the cooling system needs to be replaced for a new one to avoid damaging the processor.\n",
    "* More than 4 temperatures are greater than or equal to 70ºC.\n",
    "* Any temperature is above 80ºC.\n",
    "* The average temperature exceeds 65ºC.\n",
    "\n",
    "Follow the steps so that you can make the decision.\n",
    "\n",
    "#### 1. Find the minimum temperature of the day and store it in a variable."
   ]
  },
  {
   "cell_type": "code",
   "execution_count": 2,
   "metadata": {},
   "outputs": [],
   "source": [
    "minimum_temperature = min(temperatures_C)"
   ]
  },
  {
   "cell_type": "markdown",
   "metadata": {},
   "source": [
    "#### 2. Find the maximum temperature of the day and store it in a variable."
   ]
  },
  {
   "cell_type": "code",
   "execution_count": 3,
   "metadata": {},
   "outputs": [],
   "source": [
    "maximum_temperature = max(temperatures_C)"
   ]
  },
  {
   "cell_type": "markdown",
   "metadata": {},
   "source": [
    "#### 3. Create a list with the temperatures that are greater than or equal to 70ºC. Store it in a variable."
   ]
  },
  {
   "cell_type": "code",
   "execution_count": 4,
   "metadata": {},
   "outputs": [],
   "source": [
    "high_temperatures = [item for item in temperatures_C if item >= 70]"
   ]
  },
  {
   "cell_type": "markdown",
   "metadata": {},
   "source": [
    "#### 4. Find the average temperature of the day and store it in a variable."
   ]
  },
  {
   "cell_type": "code",
   "execution_count": 5,
   "metadata": {},
   "outputs": [],
   "source": [
    "avg_temp = int(sum(temperatures_C) / len(temperatures_C))"
   ]
  },
  {
   "cell_type": "markdown",
   "metadata": {},
   "source": [
    "#### 5. Imagine that there was a sensor failure at 3am and the data for that specific hour was not recorded. How would you estimate the missing value? Replace the current value of the list at 3am for an estimation. "
   ]
  },
  {
   "cell_type": "code",
   "execution_count": 6,
   "metadata": {},
   "outputs": [],
   "source": [
    "corrected_temperatures_C = [item if item not in[0, None] else avg_temp  for item in temperatures_C]"
   ]
  },
  {
   "cell_type": "markdown",
   "metadata": {},
   "source": [
    "#### 6. Bonus: the maintenance staff is from the United States and does not understand the international metric system. Help them by converting the temperatures from Celsius to Fahrenheit.\n",
    "To know more about temperature conversion check this [link](https://en.wikipedia.org/wiki/Conversion_of_units_of_temperature).\n",
    "\n",
    "**Formula**: \n",
    "\n",
    "$F = 1.8 * C + 32$"
   ]
  },
  {
   "cell_type": "code",
   "execution_count": 7,
   "metadata": {},
   "outputs": [],
   "source": [
    "corrected_temperatures_F = [int(1.8 * item +32) for item in corrected_temperatures_C]"
   ]
  },
  {
   "cell_type": "markdown",
   "metadata": {},
   "source": [
    "#### 7. Make a decision!\n",
    "Now it's time to make a decision taking into account what you have seen until now. \n",
    "\n",
    "Remember that if one of the following events occurs, then the cooling system needs to be replaced for a new one to avoid damaging the processor.\n",
    "* More than 4 temperatures are greater than or equal to 70ºC.\n",
    "* Any temperature is above 80ºC.\n",
    "* The average temperature exceeds 65ºC.\n",
    "\n",
    "#### To make your decision, check if any of the three conditions above is met. You might need to use some of the variables you created in steps 1 to 6. Print a message to show if the cooling system needs to be changed or not."
   ]
  },
  {
   "cell_type": "code",
   "execution_count": 8,
   "metadata": {},
   "outputs": [
    {
     "name": "stdout",
     "output_type": "stream",
     "text": [
      "Alert, please consider changing the cooling system\n",
      "<Alerte type: unique_limit = 80> -> triggered with one measurement at 81°C\n"
     ]
    }
   ],
   "source": [
    "# My understanding of the task is to find a function for existing data and not to manage a stream.\n",
    "# come back to me if it's not the case.\n",
    "\n",
    "\n",
    "def alert(sequence, avg_limit=65, unique_limit=80, sample_limit=70, size_sample=4):\n",
    "    sample_deque = list()\n",
    "    cumulate_temperatures = list()\n",
    "    alert = 'Alert, please consider changing the cooling system'\n",
    "    \n",
    "    for one_temp in sequence:\n",
    "        cumulate_temperatures.append(one_temp)\n",
    "        actual_avg = sum(cumulate_temperatures) /len(cumulate_temperatures)\n",
    "        \n",
    "        if one_temp > unique_limit:\n",
    "            return alert, f'<Alerte type: {unique_limit = }> -> triggered with one measurement at {one_temp}°C'\n",
    "        \n",
    "        if actual_avg > avg_limit:\n",
    "            return alert,  f'<Alerte type: {avg_limit = }> -> triggered with an average temp of {actual_avg}°C'\n",
    "        \n",
    "        elif one_temp >= sample_limit:\n",
    "            sample_deque.append(one_temp)\n",
    "            if len(sample_deque) > size_sample:\n",
    "                return alert, f'<Alerte type: {sample_limit = }> -> triggered with the following temps : {*sample_deque,}'\n",
    "        \n",
    "        # uncomment the next 2 lines for the task \"3. Make the decision!\"\n",
    "        #else:\n",
    "            #sample_deque = list()\n",
    "            \n",
    "print(*alert(corrected_temperatures_C), sep='\\n')"
   ]
  },
  {
   "cell_type": "markdown",
   "metadata": {},
   "source": [
    "## Bonus\n",
    "\n",
    "The company has decided that the decision you made is not valid. They want you to analyze the data again but this time, the conditions that need to be met in order to change the cooling system are different.\n",
    "\n",
    "This time, if one of the following events occurs, then the cooling system needs to be replaced:\n",
    "* The temperature is greater than 70ºC during more than 4 consecutive hours.\n",
    "* Any temperature is above 80ºC.\n",
    "* The average temperature exceeds 65ºC.\n",
    "\n",
    "Follow the steps so that you can make the decision.\n",
    "\n",
    "#### 1. Create a list with the hours where the temperature is greater than 70ºC. Store it in a variable."
   ]
  },
  {
   "cell_type": "code",
   "execution_count": 9,
   "metadata": {},
   "outputs": [],
   "source": [
    "high_temperatures = [item for item in corrected_temperatures_C if item > 70]"
   ]
  },
  {
   "cell_type": "markdown",
   "metadata": {},
   "source": [
    "#### 2. Check if the list you created in step 1 has more than 4 consecutive hours. "
   ]
  },
  {
   "cell_type": "code",
   "execution_count": 10,
   "metadata": {},
   "outputs": [
    {
     "name": "stdout",
     "output_type": "stream",
     "text": [
      "Alert, please consider changing the cooling system\n",
      "<Alerte type: treshold = 4> -> triggered with the following temps : (76, 80, 81, 80)\n"
     ]
    }
   ],
   "source": [
    "def target_following_temps(temps_sequence):\n",
    "    # collecting the index to track the following ones\n",
    "    high_temperatures_idx = [idx for idx, temp in enumerate(temps_sequence) if temp > 70]\n",
    "    alert = 'Alert, please consider changing the cooling system'\n",
    "    treshold = 4\n",
    "    followings = list()\n",
    "    # loopint through a Zip of n with n+1 indexes\n",
    "    for n, n_1 in zip(high_temperatures_idx, high_temperatures_idx[1:]):\n",
    "        if n_1 - n == 1:\n",
    "            followings.append(n)\n",
    "            if len(followings) > 4:\n",
    "                sample_idx = slice(followings[0], followings[-1])\n",
    "                sample_deque = temps_sequence[sample_idx]\n",
    "                return alert, f'<Alerte type: {treshold = }> -> triggered with the following temps : {*sample_deque,}'\n",
    "\n",
    "\n",
    "print(*target_following_temps(corrected_temperatures_C), sep='\\n')\n",
    "\n",
    "\n",
    "\n",
    "\n"
   ]
  },
  {
   "cell_type": "markdown",
   "metadata": {},
   "source": [
    "#### 3. Make the decision!\n",
    "To make your decision, check if any of the three conditions is met. Print a message to show if the cooling system needs to be changed or not."
   ]
  },
  {
   "cell_type": "code",
   "execution_count": 11,
   "metadata": {},
   "outputs": [],
   "source": [
    "# Please uncomment the last 2 line in the question 7 alert function, the solution seems more straight forward with reseting the stack of followings temps > 70°C"
   ]
  },
  {
   "cell_type": "markdown",
   "metadata": {},
   "source": [
    "#### 4. Find the average value of the temperature lists (ºC and ºF). What is the relation between both average values?"
   ]
  },
  {
   "cell_type": "code",
   "execution_count": 30,
   "metadata": {},
   "outputs": [
    {
     "name": "stdout",
     "output_type": "stream",
     "text": [
      "Averages are identical with one being the equivalence of the other within the C/F correspondance relationship\n"
     ]
    }
   ],
   "source": [
    "def avg_func(sequence:list):\n",
    "    return sum(sequence) / len(sequence)\n",
    "\n",
    "def convert_c_to_f(value: float) -> int:\n",
    "    return int(value * 1.8 + 32)\n",
    "\n",
    "avg_c, avg_f = avg_func(corrected_temperatures_C), avg_func(corrected_temperatures_F)\n",
    "ratio = avg_c / avg_f\n",
    "print('Averages are identical with one being the equivalence of the other within the C/F correspondance relationship' \\\n",
    "      if (equivalence := (convert_c_to_f(avg_c) == int(avg_f))) else f'Average are differents with {ratio = }')"
   ]
  },
  {
   "cell_type": "markdown",
   "metadata": {},
   "source": [
    "#### 5. Find the standard deviation of the temperature lists (ºC and ºF). What is the relation between both standard deviations?"
   ]
  },
  {
   "cell_type": "code",
   "execution_count": 39,
   "metadata": {},
   "outputs": [
    {
     "name": "stdout",
     "output_type": "stream",
     "text": [
      "14.64 26.35\n",
      "Average are differents with ratio = 1.86\n"
     ]
    }
   ],
   "source": [
    "from math import sqrt\n",
    "import typing\n",
    "\n",
    "def std_dev(seq: typing.List[float]) -> int:\n",
    "    mean = sum(seq) / len(seq)\n",
    "    first_term = [abs(item-mean)**2 for item in seq]\n",
    "    return round(sqrt(sum(first_term) /len(seq)), 2)\n",
    "\n",
    "std_c, std_f = std_dev(corrected_temperatures_C), std_dev(corrected_temperatures_F)\n",
    "print(std_c, std_f)\n",
    "\n",
    "print('Averages are identical' if (ratio := round(int(std_f) / int(std_c), 2)) == 1 else f'Average are differents with {ratio = }')\n"
   ]
  },
  {
   "cell_type": "code",
   "execution_count": null,
   "metadata": {},
   "outputs": [],
   "source": []
  }
 ],
 "metadata": {
  "kernelspec": {
   "display_name": "Python 3",
   "language": "python",
   "name": "python3"
  },
  "language_info": {
   "codemirror_mode": {
    "name": "ipython",
    "version": 3
   },
   "file_extension": ".py",
   "mimetype": "text/x-python",
   "name": "python",
   "nbconvert_exporter": "python",
   "pygments_lexer": "ipython3",
   "version": "3.8.3"
  }
 },
 "nbformat": 4,
 "nbformat_minor": 2
}
