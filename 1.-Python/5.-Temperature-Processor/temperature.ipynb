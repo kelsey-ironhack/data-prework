{
 "cells": [
  {
   "cell_type": "markdown",
   "metadata": {},
   "source": [
    "<img src=\"https://bit.ly/2VnXWr2\" width=\"100\" align=\"left\">"
   ]
  },
  {
   "cell_type": "markdown",
   "metadata": {},
   "source": [
    "# Temperature Sensor\n",
    "\n",
    "There is a temperature sensor in the processor of your company's server. The company wants to analyze the data provided by the sensor to decide if they should change the cooling system for a better one. As changing the cooling system is expensive and you are an excellent data analyst, you can't make a decision without basis.\n",
    "\n",
    "## Tools\n",
    "You don't necessarily need to use all the tools. Maybe you opt to use some of them or completely different ones, they are given to help you shape the exercise. Programming exercises can be solved in many different ways.\n",
    "1. Data structures: **lists**\n",
    "2. Loops: **list comprehension**\n",
    "3. Functions: **min, max, print, len**\n",
    "4. Conditional statements: **if-elif-else**\n",
    "\n",
    "## Tasks\n",
    "The temperatures measured throughout the 24 hours of a day are:"
   ]
  },
  {
   "cell_type": "code",
   "execution_count": 1,
   "metadata": {},
   "outputs": [],
   "source": [
    "temperatures_C = [33, 66, 65, 0, 59, 60, 62, 64, 70, 76, 80, 81, 80, 83, 90, 79, 61, 53, 50, 49, 53, 48, 45, 39]"
   ]
  },
  {
   "cell_type": "markdown",
   "metadata": {},
   "source": [
    "The first element of the list is the temperature at 12am, the second element is the temperature at 1am, and so on. \n",
    "\n",
    "The company has decided that if one of the following events occurs, then the cooling system needs to be replaced for a new one to avoid damaging the processor.\n",
    "* More than 4 temperatures are greater than or equal to 70ºC.\n",
    "* Any temperature is above 80ºC.\n",
    "* The average temperature exceeds 65ºC.\n",
    "\n",
    "Follow the steps so that you can make the decision.\n",
    "\n",
    "#### 1. Find the minimum temperature of the day and store it in a variable."
   ]
  },
  {
   "cell_type": "code",
   "execution_count": 2,
   "metadata": {},
   "outputs": [
    {
     "name": "stdout",
     "output_type": "stream",
     "text": [
      "0\n"
     ]
    }
   ],
   "source": [
    "min_temp = min(temperatures_C)\n",
    "print(min_temp)"
   ]
  },
  {
   "cell_type": "markdown",
   "metadata": {},
   "source": [
    "#### 2. Find the maximum temperature of the day and store it in a variable."
   ]
  },
  {
   "cell_type": "code",
   "execution_count": 3,
   "metadata": {},
   "outputs": [
    {
     "name": "stdout",
     "output_type": "stream",
     "text": [
      "90\n"
     ]
    }
   ],
   "source": [
    "max_temp = max(temperatures_C)\n",
    "print(max_temp)"
   ]
  },
  {
   "cell_type": "markdown",
   "metadata": {},
   "source": [
    "#### 3. Create a list with the temperatures that are greater than or equal to 70ºC. Store it in a variable."
   ]
  },
  {
   "cell_type": "code",
   "execution_count": 4,
   "metadata": {},
   "outputs": [
    {
     "name": "stdout",
     "output_type": "stream",
     "text": [
      "[70, 76, 80, 81, 80, 83, 90, 79]\n"
     ]
    }
   ],
   "source": [
    "threshold = 70\n",
    "high_temperatures = []\n",
    "for temperature in temperatures_C:\n",
    "    if(temperature >= threshold):\n",
    "        high_temperatures.append(temperature)\n",
    "print(high_temperatures)"
   ]
  },
  {
   "cell_type": "markdown",
   "metadata": {},
   "source": [
    "#### 4. Find the average temperature of the day and store it in a variable."
   ]
  },
  {
   "cell_type": "code",
   "execution_count": 5,
   "metadata": {},
   "outputs": [
    {
     "name": "stdout",
     "output_type": "stream",
     "text": [
      "60.25\n"
     ]
    }
   ],
   "source": [
    "avrg_temp = sum(temperatures_C)/len(temperatures_C)\n",
    "print(avrg_temp)"
   ]
  },
  {
   "cell_type": "markdown",
   "metadata": {},
   "source": [
    "#### 5. Imagine that there was a sensor failure at 3am and the data for that specific hour was not recorded. How would you estimate the missing value? Replace the current value of the list at 3am for an estimation. "
   ]
  },
  {
   "cell_type": "code",
   "execution_count": 6,
   "metadata": {},
   "outputs": [],
   "source": [
    "#I'll put in the average temperature... so:\n",
    "# 3 am is the third index since 12=0, 1=1, 2=2, 3=3\n",
    "temperatures_C[3] = avrg_temp"
   ]
  },
  {
   "cell_type": "markdown",
   "metadata": {},
   "source": [
    "#### 6. Bonus: the maintenance staff is from the United States and does not understand the international metric system. Help them by converting the temperatures from Celsius to Fahrenheit.\n",
    "To know more about temperature conversion check this [link](https://en.wikipedia.org/wiki/Conversion_of_units_of_temperature).\n",
    "\n",
    "**Formula**: \n",
    "\n",
    "$F = 1.8 * C + 32$"
   ]
  },
  {
   "cell_type": "code",
   "execution_count": 7,
   "metadata": {},
   "outputs": [
    {
     "name": "stdout",
     "output_type": "stream",
     "text": [
      "Temperatures on Farenheit are: [91.4, 150.8, 149.0, 140.45, 138.2, 140.0, 143.60000000000002, 147.2, 158.0, 168.8, 176.0, 177.8, 176.0, 181.4, 194.0, 174.20000000000002, 141.8, 127.4, 122.0, 120.2, 127.4, 118.4, 113.0, 102.2]\n"
     ]
    }
   ],
   "source": [
    "def toFarenheit(temperature_C):\n",
    "    f = 1.8 * temperature_C + 32\n",
    "    return f\n",
    "\n",
    "temperatures_F = []\n",
    "for temperature in temperatures_C:\n",
    "    temperatures_F.append(toFarenheit(temperature))\n",
    "\n",
    "print(\"Temperatures on Farenheit are:\", temperatures_F)"
   ]
  },
  {
   "cell_type": "markdown",
   "metadata": {},
   "source": [
    "#### 7. Make a decision!\n",
    "Now it's time to make a decision taking into account what you have seen until now. \n",
    "\n",
    "Remember that if one of the following events occurs, then the cooling system needs to be replaced for a new one to avoid damaging the processor.\n",
    "* More than 4 temperatures are greater than or equal to 70ºC.\n",
    "* Any temperature is above 80ºC.\n",
    "* The average temperature exceeds 65ºC.\n",
    "\n",
    "#### To make your decision, check if any of the three conditions above is met. You might need to use some of the variables you created in steps 1 to 6. Print a message to show if the cooling system needs to be changed or not."
   ]
  },
  {
   "cell_type": "code",
   "execution_count": 8,
   "metadata": {},
   "outputs": [
    {
     "name": "stdout",
     "output_type": "stream",
     "text": [
      "The system needs to be replaced\n"
     ]
    }
   ],
   "source": [
    "count_threshold = 4\n",
    "high_threshold = 80\n",
    "avrg_threshold = 65\n",
    "replace_system = False\n",
    "\n",
    "if( len(high_temperatures) > 4 or max_temp > high_threshold or avrg_temp > avrg_threshold ):\n",
    "    replace_system = True\n",
    "\n",
    "if(replace_system):\n",
    "    print(\"The system needs to be replaced\")\n",
    "else:\n",
    "    print(\"No need to replace the system\")"
   ]
  },
  {
   "cell_type": "markdown",
   "metadata": {},
   "source": [
    "## Bonus\n",
    "\n",
    "The company has decided that the decision you made is not valid. They want you to analyze the data again but this time, the conditions that need to be met in order to change the cooling system are different.\n",
    "\n",
    "This time, if one of the following events occurs, then the cooling system needs to be replaced:\n",
    "* The temperature is greater than 70ºC during more than 4 consecutive hours.\n",
    "* Any temperature is above 80ºC.\n",
    "* The average temperature exceeds 65ºC.\n",
    "\n",
    "Follow the steps so that you can make the decision.\n",
    "\n",
    "#### 1. Create a list with the hours where the temperature is greater than 70ºC. Store it in a variable."
   ]
  },
  {
   "cell_type": "code",
   "execution_count": 9,
   "metadata": {},
   "outputs": [
    {
     "name": "stdout",
     "output_type": "stream",
     "text": [
      "[9, 10, 11, 12, 13, 14, 15]\n"
     ]
    }
   ],
   "source": [
    "#Hour in military time\n",
    "high_temp_hours = []\n",
    "threshold = 70\n",
    "\n",
    "i = 0 #just a counter\n",
    "for temperature in temperatures_C:\n",
    "    if(temperature > threshold):\n",
    "        high_temp_hours.append(i)\n",
    "    i += 1\n",
    "print(high_temp_hours)"
   ]
  },
  {
   "cell_type": "markdown",
   "metadata": {},
   "source": [
    "#### 2. Check if the list you created in step 1 has more than 4 consecutive hours. "
   ]
  },
  {
   "cell_type": "code",
   "execution_count": 10,
   "metadata": {},
   "outputs": [],
   "source": [
    "#Some constants and variables\n",
    "replace_consecutive_hours = False\n",
    "consecutive_hours_threshold = 4\n",
    "consecutive_hours = 0\n",
    "last_high_hour = high_temp_hours[0]\n",
    "\n",
    "for temp in high_temp_hours[1:len(high_temp_hours)]:\n",
    "    if((temp - last_high_hour) == 1):\n",
    "        consecutive_hours += 1\n",
    "    else:\n",
    "        consecutive_hours = 0\n",
    "    last_high_hour = temp\n",
    "    #check if consecutive hours is over threshold\n",
    "    if (consecutive_hours > consecutive_hours_threshold):\n",
    "        replace_consecutive_hours = True\n",
    "        break\n",
    "    \n"
   ]
  },
  {
   "cell_type": "markdown",
   "metadata": {},
   "source": [
    "#### 3. Make the decision!\n",
    "To make your decision, check if any of the three conditions is met. Print a message to show if the cooling system needs to be changed or not."
   ]
  },
  {
   "cell_type": "code",
   "execution_count": 11,
   "metadata": {},
   "outputs": [
    {
     "name": "stdout",
     "output_type": "stream",
     "text": [
      "The system needs to be replaced\n"
     ]
    }
   ],
   "source": [
    "high_threshold = 80\n",
    "avrg_threshold = 65\n",
    "replace_system = False\n",
    "\n",
    "if( replace_consecutive_hours or max_temp > high_threshold or avrg_temp > avrg_threshold ):\n",
    "    replace_system = True\n",
    "\n",
    "if(replace_system):\n",
    "    print(\"The system needs to be replaced\")\n",
    "else:\n",
    "    print(\"No need to replace the system\")"
   ]
  },
  {
   "cell_type": "markdown",
   "metadata": {},
   "source": [
    "#### 4. Find the average value of the temperature lists (ºC and ºF). What is the relation between both average values?"
   ]
  },
  {
   "cell_type": "code",
   "execution_count": 12,
   "metadata": {},
   "outputs": [
    {
     "name": "stdout",
     "output_type": "stream",
     "text": [
      "The average temperature in Celsius is: 62.760416666666664\n",
      "The average temperature in Farenheit is: 144.96875\n",
      "If we use our 'toFarenheit' function to turn celsius to farenheit, we can see the relation between both temperatures is equal to the conversion formula:\n",
      "Celsius to Farenheit average = 144.96875\n"
     ]
    }
   ],
   "source": [
    "avrg_celsius = sum(temperatures_C)/len(temperatures_C)\n",
    "print(\"The average temperature in Celsius is:\", avrg_celsius)\n",
    "\n",
    "avrg_farenheit = sum(temperatures_F)/len(temperatures_F)\n",
    "print(\"The average temperature in Farenheit is:\", avrg_farenheit)\n",
    "\n",
    "print(\"If we use our 'toFarenheit' function to turn celsius to farenheit, we can see the relation between both temperatures is equal to the conversion formula:\")\n",
    "converted_average_C_to_F = toFarenheit(avrg_celsius)\n",
    "print(\"Celsius to Farenheit average =\", converted_average_C_to_F)"
   ]
  },
  {
   "cell_type": "markdown",
   "metadata": {},
   "source": [
    "#### 5. Find the standard deviation of the temperature lists (ºC and ºF). What is the relation between both standard deviations?"
   ]
  },
  {
   "cell_type": "code",
   "execution_count": 13,
   "metadata": {},
   "outputs": [
    {
     "name": "stdout",
     "output_type": "stream",
     "text": [
      "Std dev for temperatures on C: 14.956727286515202\n",
      "Std dev for temperatures on F: 26.922109115727363\n",
      "The relation between both deviations is: 1.8\n",
      "This relation is given by the conversion formula; the +32 is a constant for all values that doesn't affect the deviation\n"
     ]
    }
   ],
   "source": [
    "import statistics\n",
    "std_dev_celsius = statistics.stdev(temperatures_C)\n",
    "print(\"Std dev for temperatures on C:\", std_dev_celsius)\n",
    "\n",
    "std_dev_farenheit = statistics.stdev(temperatures_F)\n",
    "print(\"Std dev for temperatures on F:\", std_dev_farenheit)\n",
    "\n",
    "\n",
    "print(\"The relation between both deviations is:\", std_dev_farenheit/std_dev_celsius)\n",
    "print(\"This relation is given by the conversion formula; the +32 is a constant for all values that doesn't affect the deviation\")"
   ]
  }
 ],
 "metadata": {
  "kernelspec": {
   "display_name": "Python 3",
   "language": "python",
   "name": "python3"
  },
  "language_info": {
   "codemirror_mode": {
    "name": "ipython",
    "version": 3
   },
   "file_extension": ".py",
   "mimetype": "text/x-python",
   "name": "python",
   "nbconvert_exporter": "python",
   "pygments_lexer": "ipython3",
   "version": "3.7.6"
  }
 },
 "nbformat": 4,
 "nbformat_minor": 2
}
