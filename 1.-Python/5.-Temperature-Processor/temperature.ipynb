{
 "cells": [
  {
   "cell_type": "markdown",
   "metadata": {},
   "source": [
    "<img src=\"https://bit.ly/2VnXWr2\" width=\"100\" align=\"left\">"
   ]
  },
  {
   "cell_type": "markdown",
   "metadata": {},
   "source": [
    "# Temperature Sensor\n",
    "\n",
    "There is a temperature sensor in the processor of your company's server. The company wants to analyze the data provided by the sensor to decide if they should change the cooling system for a better one. As changing the cooling system is expensive and you are an excellent data analyst, you can't make a decision without basis.\n",
    "\n",
    "## Tools\n",
    "You don't necessarily need to use all the tools. Maybe you opt to use some of them or completely different ones, they are given to help you shape the exercise. Programming exercises can be solved in many different ways.\n",
    "1. Data structures: **lists**\n",
    "2. Loops: **list comprehension**\n",
    "3. Functions: **min, max, print, len**\n",
    "4. Conditional statements: **if-elif-else**\n",
    "\n",
    "## Tasks\n",
    "The temperatures measured throughout the 24 hours of a day are:"
   ]
  },
  {
   "cell_type": "code",
   "execution_count": 1,
   "metadata": {},
   "outputs": [],
   "source": [
    "temperatures_C = [33, 66, 65, 0, 59, 60, 62, 64, 70, 76, 80, 81, 80, 83, 90, 79, 61, 53, 50, 49, 53, 48, 45, 39]"
   ]
  },
  {
   "cell_type": "markdown",
   "metadata": {},
   "source": [
    "The first element of the list is the temperature at 12am, the second element is the temperature at 1am, and so on. \n",
    "\n",
    "The company has decided that if one of the following events occurs, then the cooling system needs to be replaced for a new one to avoid damaging the processor.\n",
    "* More than 4 temperatures are greater than or equal to 70ºC.\n",
    "* Any temperature is above 80ºC.\n",
    "* The average temperature exceeds 65ºC.\n",
    "\n",
    "Follow the steps so that you can make the decision.\n",
    "\n",
    "#### 1. Find the minimum temperature of the day and store it in a variable."
   ]
  },
  {
   "cell_type": "code",
   "execution_count": 8,
   "metadata": {},
   "outputs": [
    {
     "data": {
      "text/plain": [
       "0"
      ]
     },
     "execution_count": 8,
     "metadata": {},
     "output_type": "execute_result"
    }
   ],
   "source": [
    "min_temp = min(temperatures_C)\n",
    "\n",
    "min_temp"
   ]
  },
  {
   "cell_type": "markdown",
   "metadata": {},
   "source": [
    "#### 2. Find the maximum temperature of the day and store it in a variable."
   ]
  },
  {
   "cell_type": "code",
   "execution_count": 7,
   "metadata": {},
   "outputs": [
    {
     "data": {
      "text/plain": [
       "90"
      ]
     },
     "execution_count": 7,
     "metadata": {},
     "output_type": "execute_result"
    }
   ],
   "source": [
    "max_temp = max(temperatures_C)\n",
    "\n",
    "max_temp"
   ]
  },
  {
   "cell_type": "markdown",
   "metadata": {},
   "source": [
    "#### 3. Create a list with the temperatures that are greater than or equal to 70ºC. Store it in a variable."
   ]
  },
  {
   "cell_type": "code",
   "execution_count": 6,
   "metadata": {},
   "outputs": [
    {
     "data": {
      "text/plain": [
       "[70, 76, 80, 81, 80, 83, 90, 79]"
      ]
     },
     "execution_count": 6,
     "metadata": {},
     "output_type": "execute_result"
    }
   ],
   "source": [
    "temp_greater70 = []\n",
    "\n",
    "for temp in temperatures_C:\n",
    "    if temp >= 70:\n",
    "        temp_greater70.append(temp)\n",
    "        \n",
    "temp_greater70"
   ]
  },
  {
   "cell_type": "markdown",
   "metadata": {},
   "source": [
    "#### 4. Find the average temperature of the day and store it in a variable."
   ]
  },
  {
   "cell_type": "code",
   "execution_count": 9,
   "metadata": {},
   "outputs": [
    {
     "data": {
      "text/plain": [
       "60.25"
      ]
     },
     "execution_count": 9,
     "metadata": {},
     "output_type": "execute_result"
    }
   ],
   "source": [
    "avg_temp = sum(temperatures_C)/len(temperatures_C)\n",
    "\n",
    "avg_temp"
   ]
  },
  {
   "cell_type": "markdown",
   "metadata": {},
   "source": [
    "#### 5. Imagine that there was a sensor failure at 3am and the data for that specific hour was not recorded. How would you estimate the missing value? Replace the current value of the list at 3am for an estimation. "
   ]
  },
  {
   "cell_type": "code",
   "execution_count": 11,
   "metadata": {},
   "outputs": [
    {
     "data": {
      "text/plain": [
       "[33,\n",
       " 66,\n",
       " 65,\n",
       " 62.869565217391305,\n",
       " 59,\n",
       " 60,\n",
       " 62,\n",
       " 64,\n",
       " 70,\n",
       " 76,\n",
       " 80,\n",
       " 81,\n",
       " 80,\n",
       " 83,\n",
       " 90,\n",
       " 79,\n",
       " 61,\n",
       " 53,\n",
       " 50,\n",
       " 49,\n",
       " 53,\n",
       " 48,\n",
       " 45,\n",
       " 39]"
      ]
     },
     "execution_count": 11,
     "metadata": {},
     "output_type": "execute_result"
    }
   ],
   "source": [
    "temperatures_C[3] = (sum(temperatures_C) - temperatures_C[3]) / (len(temperatures_C) - 1)\n",
    "\n",
    "temperatures_C"
   ]
  },
  {
   "cell_type": "markdown",
   "metadata": {},
   "source": [
    "#### 6. Bonus: the maintenance staff is from the United States and does not understand the international metric system. Help them by converting the temperatures from Celsius to Fahrenheit.\n",
    "To know more about temperature conversion check this [link](https://en.wikipedia.org/wiki/Conversion_of_units_of_temperature).\n",
    "\n",
    "**Formula**: \n",
    "\n",
    "$F = 1.8 * C + 32$"
   ]
  },
  {
   "cell_type": "code",
   "execution_count": 26,
   "metadata": {},
   "outputs": [
    {
     "data": {
      "text/plain": [
       "[91.4,\n",
       " 150.8,\n",
       " 149.0,\n",
       " 145.16521739130434,\n",
       " 138.2,\n",
       " 140.0,\n",
       " 143.60000000000002,\n",
       " 147.2,\n",
       " 158.0,\n",
       " 168.8,\n",
       " 176.0,\n",
       " 177.8,\n",
       " 176.0,\n",
       " 181.4,\n",
       " 194.0,\n",
       " 174.20000000000002,\n",
       " 141.8,\n",
       " 127.4,\n",
       " 122.0,\n",
       " 120.2,\n",
       " 127.4,\n",
       " 118.4,\n",
       " 113.0,\n",
       " 102.2]"
      ]
     },
     "execution_count": 26,
     "metadata": {},
     "output_type": "execute_result"
    }
   ],
   "source": [
    "temperatures_F = []\n",
    "\n",
    "for temp in temperatures_C:\n",
    "    temperatures_F.append(1.8 * temp + 32)\n",
    "    \n",
    "temperatures_F"
   ]
  },
  {
   "cell_type": "markdown",
   "metadata": {},
   "source": [
    "#### 7. Make a decision!\n",
    "Now it's time to make a decision taking into account what you have seen until now. \n",
    "\n",
    "Remember that if one of the following events occurs, then the cooling system needs to be replaced for a new one to avoid damaging the processor.\n",
    "* More than 4 temperatures are greater than or equal to 70ºC.\n",
    "* Any temperature is above 80ºC.\n",
    "* The average temperature exceeds 65ºC.\n",
    "\n",
    "#### To make your decision, check if any of the three conditions above is met. You might need to use some of the variables you created in steps 1 to 6. Print a message to show if the cooling system needs to be changed or not."
   ]
  },
  {
   "cell_type": "code",
   "execution_count": 12,
   "metadata": {},
   "outputs": [
    {
     "name": "stdout",
     "output_type": "stream",
     "text": [
      "The cooling system needs to be changed.\n"
     ]
    }
   ],
   "source": [
    "if len(temp_greater70) > 4 or max_temp > 80 or avg_temp > 65:\n",
    "    print('The cooling system needs to be changed.')\n",
    "    \n",
    "else:\n",
    "    print('The cooling system does not need to be changed.')"
   ]
  },
  {
   "cell_type": "markdown",
   "metadata": {},
   "source": [
    "## Bonus\n",
    "\n",
    "The company has decided that the decision you made is not valid. They want you to analyze the data again but this time, the conditions that need to be met in order to change the cooling system are different.\n",
    "\n",
    "This time, if one of the following events occurs, then the cooling system needs to be replaced:\n",
    "* The temperature is greater than 70ºC during more than 4 consecutive hours.\n",
    "* Any temperature is above 80ºC.\n",
    "* The average temperature exceeds 65ºC.\n",
    "\n",
    "Follow the steps so that you can make the decision.\n",
    "\n",
    "#### 1. Create a list with the hours where the temperature is greater than 70ºC. Store it in a variable."
   ]
  },
  {
   "cell_type": "code",
   "execution_count": 13,
   "metadata": {},
   "outputs": [
    {
     "data": {
      "text/plain": [
       "[9, 10, 11, 12, 13, 14, 15]"
      ]
     },
     "execution_count": 13,
     "metadata": {},
     "output_type": "execute_result"
    }
   ],
   "source": [
    "hours_greater70 = []\n",
    "max_hours = len(temperatures_C)\n",
    "\n",
    "for hour in range(max_hours):\n",
    "    if temperatures_C[hour] > 70:\n",
    "        hours_greater70.append(hour)\n",
    "        \n",
    "hours_greater70"
   ]
  },
  {
   "cell_type": "markdown",
   "metadata": {},
   "source": [
    "#### 2. Check if the list you created in step 1 has more than 4 consecutive hours. "
   ]
  },
  {
   "cell_type": "code",
   "execution_count": 15,
   "metadata": {},
   "outputs": [
    {
     "data": {
      "text/plain": [
       "6"
      ]
     },
     "execution_count": 15,
     "metadata": {},
     "output_type": "execute_result"
    }
   ],
   "source": [
    "consec_hour = 0\n",
    "hours =  len(hours_greater70)\n",
    "\n",
    "for hour in range(1, hours):\n",
    "    time_greater70 = hours_greater70[hour] - hours_greater70[hour-1]\n",
    "    \n",
    "    if time_greater70 == 1:\n",
    "        consec_hour +=1\n",
    "    elif consec_hour <= 4:\n",
    "        consec_hour = 0\n",
    "        \n",
    "consec_hour"
   ]
  },
  {
   "cell_type": "markdown",
   "metadata": {},
   "source": [
    "#### 3. Make the decision!\n",
    "To make your decision, check if any of the three conditions is met. Print a message to show if the cooling system needs to be changed or not."
   ]
  },
  {
   "cell_type": "code",
   "execution_count": 16,
   "metadata": {},
   "outputs": [
    {
     "name": "stdout",
     "output_type": "stream",
     "text": [
      "The cooling system needs to be changed.\n"
     ]
    }
   ],
   "source": [
    "if consec_hour > 4 or max_temp > 80 or avg_temp > 65:\n",
    "    print('The cooling system needs to be changed.')\n",
    "    \n",
    "else:\n",
    "    print('The cooling system does not need to be changed.')"
   ]
  },
  {
   "cell_type": "markdown",
   "metadata": {},
   "source": [
    "#### 4. Find the average value of the temperature lists (ºC and ºF). What is the relation between both average values?"
   ]
  },
  {
   "cell_type": "code",
   "execution_count": 27,
   "metadata": {},
   "outputs": [
    {
     "name": "stdout",
     "output_type": "stream",
     "text": [
      "Celsius:  62.869565217391305  Fahrenheit:  145.16521739130434\n",
      "Celsius:  62.869565217391305  Fahrenheit:  145.16521739130434\n"
     ]
    }
   ],
   "source": [
    "avg_temp_C = sum(temperatures_C)/len(temperatures_C)\n",
    "avg_temp_F = sum(temperatures_F)/len(temperatures_F)\n",
    "\n",
    "print(\"Celsius: \", avg_temp_C, \" Fahrenheit: \", avg_temp_F)\n",
    "\n",
    "avg_temp_F2 = 1.8 * avg_temp_C + 32\n",
    "\n",
    "print(\"Celsius: \", avg_temp_C, \" Fahrenheit: \", avg_temp_F2)"
   ]
  },
  {
   "cell_type": "markdown",
   "metadata": {},
   "source": [
    "#### 5. Find the standard deviation of the temperature lists (ºC and ºF). What is the relation between both standard deviations?"
   ]
  },
  {
   "cell_type": "code",
   "execution_count": 29,
   "metadata": {},
   "outputs": [
    {
     "name": "stdout",
     "output_type": "stream",
     "text": [
      "Celsius:  14.947165931245344  Fahrenheit:  26.904898676241622\n",
      "Fahrenheit / Celsius:  1.8000000000000003\n"
     ]
    }
   ],
   "source": [
    "std_temp_C = 0\n",
    "std_temp_F = 0\n",
    "\n",
    "for temp in temperatures_C:\n",
    "    std_temp_C = std_temp_C + (temp - avg_temp_C) ** 2\n",
    "    \n",
    "std_temp_C = (std_temp_C / (len(temperatures_C)-1)) ** 0.5\n",
    "\n",
    "for temp in temperatures_F:\n",
    "    std_temp_F = std_temp_F + (temp - avg_temp_F) ** 2\n",
    "    \n",
    "std_temp_F = (std_temp_F / (len(temperatures_F)-1)) ** 0.5\n",
    "\n",
    "print(\"Celsius: \", std_temp_C, \" Fahrenheit: \", std_temp_F)\n",
    "\n",
    "print(\"Fahrenheit / Celsius: \", std_temp_F / std_temp_C)"
   ]
  }
 ],
 "metadata": {
  "kernelspec": {
   "display_name": "Python 3",
   "language": "python",
   "name": "python3"
  },
  "language_info": {
   "codemirror_mode": {
    "name": "ipython",
    "version": 3
   },
   "file_extension": ".py",
   "mimetype": "text/x-python",
   "name": "python",
   "nbconvert_exporter": "python",
   "pygments_lexer": "ipython3",
   "version": "3.8.8"
  }
 },
 "nbformat": 4,
 "nbformat_minor": 2
}
