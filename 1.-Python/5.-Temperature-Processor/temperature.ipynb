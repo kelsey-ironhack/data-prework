{
 "cells": [
  {
   "cell_type": "markdown",
   "metadata": {},
   "source": [
    "<img src=\"https://bit.ly/2VnXWr2\" width=\"100\" align=\"left\">"
   ]
  },
  {
   "cell_type": "markdown",
   "metadata": {},
   "source": [
    "# Temperature Sensor\n",
    "\n",
    "There is a temperature sensor in the processor of your company's server. The company wants to analyze the data provided by the sensor to decide if they should change the cooling system for a better one. As changing the cooling system is expensive and you are an excellent data analyst, you can't make a decision without basis.\n",
    "\n",
    "## Tools\n",
    "You don't necessarily need to use all the tools. Maybe you opt to use some of them or completely different ones, they are given to help you shape the exercise. Programming exercises can be solved in many different ways.\n",
    "1. Data structures: **lists**\n",
    "2. Loops: **list comprehension**\n",
    "3. Functions: **min, max, print, len**\n",
    "4. Conditional statements: **if-elif-else**\n",
    "\n",
    "## Tasks\n",
    "The temperatures measured throughout the 24 hours of a day are:"
   ]
  },
  {
   "cell_type": "code",
   "execution_count": 1,
   "metadata": {},
   "outputs": [],
   "source": [
    "temperatures_C = [33, 66, 65, 0, 59, 60, 62, 64, 70, 76, 80, 81, 80, 83, 90, 79, 61, 53, 50, 49, 53, 48, 45, 39]"
   ]
  },
  {
   "cell_type": "markdown",
   "metadata": {},
   "source": [
    "The first element of the list is the temperature at 12am, the second element is the temperature at 1am, and so on. \n",
    "\n",
    "The company has decided that if one of the following events occurs, then the cooling system needs to be replaced for a new one to avoid damaging the processor.\n",
    "* More than 4 temperatures are greater than or equal to 70ºC.\n",
    "* Any temperature is above 80ºC.\n",
    "* The average temperature exceeds 65ºC.\n",
    "\n",
    "Follow the steps so that you can make the decision.\n",
    "\n",
    "#### 1. Find the minimum temperature of the day and store it in a variable."
   ]
  },
  {
   "cell_type": "code",
   "execution_count": 2,
   "metadata": {},
   "outputs": [
    {
     "name": "stdout",
     "output_type": "stream",
     "text": [
      "0\n"
     ]
    }
   ],
   "source": [
    "min_temp = min(temperatures_C)\n",
    "print(min_temp)"
   ]
  },
  {
   "cell_type": "markdown",
   "metadata": {},
   "source": [
    "#### 2. Find the maximum temperature of the day and store it in a variable."
   ]
  },
  {
   "cell_type": "code",
   "execution_count": 3,
   "metadata": {},
   "outputs": [
    {
     "name": "stdout",
     "output_type": "stream",
     "text": [
      "90\n"
     ]
    }
   ],
   "source": [
    "max_temp = max(temperatures_C)\n",
    "print(max_temp)"
   ]
  },
  {
   "cell_type": "markdown",
   "metadata": {},
   "source": [
    "#### 3. Create a list with the temperatures that are greater than or equal to 70ºC. Store it in a variable."
   ]
  },
  {
   "cell_type": "code",
   "execution_count": 4,
   "metadata": {},
   "outputs": [
    {
     "name": "stdout",
     "output_type": "stream",
     "text": [
      "70\n",
      "76\n",
      "80\n",
      "81\n",
      "80\n",
      "83\n",
      "90\n",
      "79\n",
      "[70, 76, 80, 81, 80, 83, 90, 79]\n"
     ]
    }
   ],
   "source": [
    "temps_70 = []\n",
    "\n",
    "for temp in temperatures_C:\n",
    "    if (temp >= 70):\n",
    "        print(temp)\n",
    "        temps_70.append(temp)\n",
    "\n",
    "print(temps_70)"
   ]
  },
  {
   "cell_type": "markdown",
   "metadata": {},
   "source": [
    "#### 4. Find the average temperature of the day and store it in a variable."
   ]
  },
  {
   "cell_type": "code",
   "execution_count": 5,
   "metadata": {},
   "outputs": [
    {
     "name": "stdout",
     "output_type": "stream",
     "text": [
      "60.25\n"
     ]
    }
   ],
   "source": [
    "avg_temp = sum(temperatures_C) / len(temperatures_C)\n",
    "\n",
    "print(avg_temp)"
   ]
  },
  {
   "cell_type": "markdown",
   "metadata": {},
   "source": [
    "#### 5. Imagine that there was a sensor failure at 3am and the data for that specific hour was not recorded. How would you estimate the missing value? Replace the current value of the list at 3am for an estimation. "
   ]
  },
  {
   "cell_type": "code",
   "execution_count": 6,
   "metadata": {},
   "outputs": [
    {
     "name": "stdout",
     "output_type": "stream",
     "text": [
      "[33, 66, 65, 60, 59, 60, 62, 64, 70, 76, 80, 81, 80, 83, 90, 79, 61, 53, 50, 49, 53, 48, 45, 39]\n"
     ]
    }
   ],
   "source": [
    "for n,temp in enumerate(temperatures_C):\n",
    "    if temp == 0:\n",
    "        temperatures_C[n] = int(avg_temp)\n",
    "print(temperatures_C)"
   ]
  },
  {
   "cell_type": "markdown",
   "metadata": {},
   "source": [
    "#### 6. Bonus: the maintenance staff is from the United States and does not understand the international metric system. Help them by converting the temperatures from Celsius to Fahrenheit.\n",
    "To know more about temperature conversion check this [link](https://en.wikipedia.org/wiki/Conversion_of_units_of_temperature).\n",
    "\n",
    "**Formula**: \n",
    "\n",
    "$F = 1.8 * C + 32$"
   ]
  },
  {
   "cell_type": "code",
   "execution_count": 7,
   "metadata": {},
   "outputs": [
    {
     "name": "stdout",
     "output_type": "stream",
     "text": [
      "Celsius: 33 -> Farenheit 91.4\n",
      "Celsius: 66 -> Farenheit 150.8\n",
      "Celsius: 65 -> Farenheit 149.0\n",
      "Celsius: 60 -> Farenheit 140.0\n",
      "Celsius: 59 -> Farenheit 138.2\n",
      "Celsius: 60 -> Farenheit 140.0\n",
      "Celsius: 62 -> Farenheit 143.60000000000002\n",
      "Celsius: 64 -> Farenheit 147.2\n",
      "Celsius: 70 -> Farenheit 158.0\n",
      "Celsius: 76 -> Farenheit 168.8\n",
      "Celsius: 80 -> Farenheit 176.0\n",
      "Celsius: 81 -> Farenheit 177.8\n",
      "Celsius: 80 -> Farenheit 176.0\n",
      "Celsius: 83 -> Farenheit 181.4\n",
      "Celsius: 90 -> Farenheit 194.0\n",
      "Celsius: 79 -> Farenheit 174.20000000000002\n",
      "Celsius: 61 -> Farenheit 141.8\n",
      "Celsius: 53 -> Farenheit 127.4\n",
      "Celsius: 50 -> Farenheit 122.0\n",
      "Celsius: 49 -> Farenheit 120.2\n",
      "Celsius: 53 -> Farenheit 127.4\n",
      "Celsius: 48 -> Farenheit 118.4\n",
      "Celsius: 45 -> Farenheit 113.0\n",
      "Celsius: 39 -> Farenheit 102.2\n"
     ]
    }
   ],
   "source": [
    "temperatures_F = []\n",
    "\n",
    "for temp in temperatures_C:\n",
    "    temp_F = (1.8*temp)+32\n",
    "    print (\"Celsius:\",temp,\"-> Farenheit\",temp_F)\n",
    "    temperatures_F.append(temp_F)"
   ]
  },
  {
   "cell_type": "markdown",
   "metadata": {},
   "source": [
    "#### 7. Make a decision!\n",
    "Now it's time to make a decision taking into account what you have seen until now. \n",
    "\n",
    "Remember that if one of the following events occurs, then the cooling system needs to be replaced for a new one to avoid damaging the processor.\n",
    "* More than 4 temperatures are greater than or equal to 70ºC.\n",
    "* Any temperature is above 80ºC.\n",
    "* The average temperature exceeds 65ºC.\n",
    "\n",
    "#### To make your decision, check if any of the three conditions above is met. You might need to use some of the variables you created in steps 1 to 6. Print a message to show if the cooling system needs to be changed or not."
   ]
  },
  {
   "cell_type": "code",
   "execution_count": 8,
   "metadata": {},
   "outputs": [
    {
     "name": "stdout",
     "output_type": "stream",
     "text": [
      "COOLER NEED REPLACEMENT! MORE THAN 4 TEMPS ARE >= 70C\n"
     ]
    }
   ],
   "source": [
    "if(len(temps_70) > 4):\n",
    "    print(\"COOLER NEED REPLACEMENT! MORE THAN 4 TEMPS ARE >= 70C\")\n",
    "\n",
    "elif(avg_temp > 65):\n",
    "    print(\"COOLER NEED REPLACEMENT! THE AVERAGE TEMP IS > 65C\")\n",
    "    \n",
    "else:\n",
    "    for temp in temps_70:\n",
    "        if (temp > 80):\n",
    "            print(\"COOLER NEED REPLACEMENT! ONE TEMP IS > 80C\")"
   ]
  },
  {
   "cell_type": "markdown",
   "metadata": {},
   "source": [
    "## Bonus\n",
    "\n",
    "The company has decided that the decision you made is not valid. They want you to analyze the data again but this time, the conditions that need to be met in order to change the cooling system are different.\n",
    "\n",
    "This time, if one of the following events occurs, then the cooling system needs to be replaced:\n",
    "* The temperature is greater than 70ºC during more than 4 consecutive hours.\n",
    "* Any temperature is above 80ºC.\n",
    "* The average temperature exceeds 65ºC.\n",
    "\n",
    "Follow the steps so that you can make the decision.\n",
    "\n",
    "#### 1. Create a list with the hours where the temperature is greater than 70ºC. Store it in a variable."
   ]
  },
  {
   "cell_type": "code",
   "execution_count": 9,
   "metadata": {},
   "outputs": [
    {
     "name": "stdout",
     "output_type": "stream",
     "text": [
      "70\n",
      "76\n",
      "80\n",
      "81\n",
      "80\n",
      "83\n",
      "90\n",
      "79\n",
      "[33, 66, 65, 60, 59, 60, 62, 64, 70, 76, 80, 81, 80, 83, 90, 79, 61, 53, 50, 49, 53, 48, 45, 39]\n",
      "[8, 9, 10, 11, 12, 13, 14, 15]\n"
     ]
    }
   ],
   "source": [
    "hours_temp_70 = []\n",
    "\n",
    "for (temp,n) in zip(temperatures_C, range(len(temperatures_C))):\n",
    "    if (temp >= 70):\n",
    "        print(temp)\n",
    "        hours_temp_70.append(n)\n",
    "        \n",
    "print(temperatures_C)\n",
    "print(hours_temp_70)   "
   ]
  },
  {
   "cell_type": "markdown",
   "metadata": {},
   "source": [
    "#### 2. Check if the list you created in step 1 has more than 4 consecutive hours. "
   ]
  },
  {
   "cell_type": "code",
   "execution_count": 16,
   "metadata": {},
   "outputs": [
    {
     "data": {
      "text/plain": [
       "[8]"
      ]
     },
     "execution_count": 16,
     "metadata": {},
     "output_type": "execute_result"
    }
   ],
   "source": [
    "def countlist(random_list):\n",
    "    count = 1\n",
    "    retlist = []\n",
    "    \n",
    "    for i in range(len(random_list) - 1):\n",
    "        \n",
    "        if random_list[i] + 1 == random_list[i+1]:\n",
    "            count += 1\n",
    "        else:\n",
    "            retlist.append(count)\n",
    "            count = 1\n",
    "    retlist.append(count)\n",
    "    \n",
    "    return retlist\n",
    "\n",
    "countlist(hours_temp_70)"
   ]
  },
  {
   "cell_type": "markdown",
   "metadata": {},
   "source": [
    "#### 3. Make the decision!\n",
    "To make your decision, check if any of the three conditions is met. Print a message to show if the cooling system needs to be changed or not."
   ]
  },
  {
   "cell_type": "code",
   "execution_count": 23,
   "metadata": {},
   "outputs": [
    {
     "name": "stdout",
     "output_type": "stream",
     "text": [
      "COOLER NEED REPLACEMENT! THE TEMP IS > 70C IN 8 CONSECUTIVE HOURS\n"
     ]
    }
   ],
   "source": [
    "for n in countlist(hours_temp_70):\n",
    "    if n > 4:\n",
    "        print(\"COOLER NEED REPLACEMENT! THE TEMP IS > 70C IN\", n, \"CONSECUTIVE HOURS\")\n",
    "\n",
    "    elif(avg_temp > 65):\n",
    "         print(\"COOLER NEED REPLACEMENT! THE AVERAGE TEMP IS > 65C\")\n",
    "    \n",
    "    else:\n",
    "        for temp in temps_70:\n",
    "            if (temp > 80):\n",
    "                print(\"COOLER NEED REPLACEMENT! ONE TEMP IS > 80C\")        "
   ]
  },
  {
   "cell_type": "markdown",
   "metadata": {},
   "source": [
    "#### 4. Find the average value of the temperature lists (ºC and ºF). What is the relation between both average values?"
   ]
  },
  {
   "cell_type": "code",
   "execution_count": 28,
   "metadata": {},
   "outputs": [
    {
     "name": "stdout",
     "output_type": "stream",
     "text": [
      "62.75\n",
      "144.95\n"
     ]
    }
   ],
   "source": [
    "avg_tempC = sum(temperatures_C)/len(temperatures_C)\n",
    "print(avg_tempC)\n",
    "avg_tempF = sum(temperatures_F)/len(temperatures_F)\n",
    "print(avg_tempF)"
   ]
  },
  {
   "cell_type": "markdown",
   "metadata": {},
   "source": [
    "#### 5. Find the standard deviation of the temperature lists (ºC and ºF). What is the relation between both standard deviations?"
   ]
  },
  {
   "cell_type": "code",
   "execution_count": 29,
   "metadata": {},
   "outputs": [
    {
     "name": "stdout",
     "output_type": "stream",
     "text": [
      "14.958638626733965\n",
      "26.925549528121138\n"
     ]
    }
   ],
   "source": [
    "import statistics\n",
    "deviation_tempC = statistics.stdev(temperatures_C)\n",
    "deviation_tempF = statistics.stdev(temperatures_F)\n",
    "print(deviation_tempC)\n",
    "print(deviation_tempF)"
   ]
  }
 ],
 "metadata": {
  "kernelspec": {
   "display_name": "Python 3.7 (tensorflow)",
   "language": "python",
   "name": "tensorflow"
  },
  "language_info": {
   "codemirror_mode": {
    "name": "ipython",
    "version": 3
   },
   "file_extension": ".py",
   "mimetype": "text/x-python",
   "name": "python",
   "nbconvert_exporter": "python",
   "pygments_lexer": "ipython3",
   "version": "3.7.7"
  }
 },
 "nbformat": 4,
 "nbformat_minor": 2
}
