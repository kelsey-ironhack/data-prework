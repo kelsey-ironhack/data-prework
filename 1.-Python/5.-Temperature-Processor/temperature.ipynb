{
 "cells": [
  {
   "cell_type": "markdown",
   "metadata": {},
   "source": [
    "<img src=\"https://bit.ly/2VnXWr2\" width=\"100\" align=\"left\">"
   ]
  },
  {
   "cell_type": "markdown",
   "metadata": {},
   "source": [
    "# Temperature Sensor\n",
    "\n",
    "There is a temperature sensor in the processor of your company's server. The company wants to analyze the data provided by the sensor to decide if they should change the cooling system for a better one. As changing the cooling system is expensive and you are an excellent data analyst, you can't make a decision without basis.\n",
    "\n",
    "## Tools\n",
    "You don't necessarily need to use all the tools. Maybe you opt to use some of them or completely different ones, they are given to help you shape the exercise. Programming exercises can be solved in many different ways.\n",
    "1. Data structures: **lists**\n",
    "2. Loops: **list comprehension**\n",
    "3. Functions: **min, max, print, len**\n",
    "4. Conditional statements: **if-elif-else**\n",
    "\n",
    "## Tasks\n",
    "The temperatures measured throughout the 24 hours of a day are:"
   ]
  },
  {
   "cell_type": "code",
   "execution_count": 9,
   "metadata": {},
   "outputs": [],
   "source": [
    "temperatures_C = [33, 66, 65, 0, 59, 60, 62, 64, 70, 76, 80, 81, 80, 83, 90, 79, 61, 53, 50, 49, 53, 48, 45, 39]"
   ]
  },
  {
   "cell_type": "markdown",
   "metadata": {},
   "source": [
    "The first element of the list is the temperature at 12am, the second element is the temperature at 1am, and so on. \n",
    "\n",
    "The company has decided that if one of the following events occurs, then the cooling system needs to be replaced for a new one to avoid damaging the processor.\n",
    "* More than 4 temperatures are greater than or equal to 70ºC.\n",
    "* Any temperature is above 80ºC.\n",
    "* The average temperature exceeds 65ºC.\n",
    "\n",
    "Follow the steps so that you can make the decision.\n",
    "\n",
    "#### 1. Find the minimum temperature of the day and store it in a variable."
   ]
  },
  {
   "cell_type": "code",
   "execution_count": 3,
   "metadata": {},
   "outputs": [
    {
     "name": "stdout",
     "output_type": "stream",
     "text": [
      "Minimum temperature 0\n"
     ]
    }
   ],
   "source": [
    "min_temp = min(temperatures_C)\n",
    "print('Minimum temperature',min_temp)"
   ]
  },
  {
   "cell_type": "markdown",
   "metadata": {},
   "source": [
    "#### 2. Find the maximum temperature of the day and store it in a variable."
   ]
  },
  {
   "cell_type": "code",
   "execution_count": 4,
   "metadata": {},
   "outputs": [
    {
     "name": "stdout",
     "output_type": "stream",
     "text": [
      "Maximum temperature 90\n"
     ]
    }
   ],
   "source": [
    "max_temp = max(temperatures_C)\n",
    "print('Maximum temperature',max_temp)"
   ]
  },
  {
   "cell_type": "markdown",
   "metadata": {},
   "source": [
    "#### 3. Create a list with the temperatures that are greater than or equal to 70ºC. Store it in a variable."
   ]
  },
  {
   "cell_type": "code",
   "execution_count": 5,
   "metadata": {},
   "outputs": [
    {
     "name": "stdout",
     "output_type": "stream",
     "text": [
      "Temperatures greater than 70 [76, 80, 81, 80, 83, 90, 79]\n"
     ]
    }
   ],
   "source": [
    "temps_gt70 = []\n",
    "for temp in range(len(temperatures_C)):\n",
    "    if temperatures_C[temp] > 70:\n",
    "        temps_gt70.append(temperatures_C[temp])\n",
    "        \n",
    "print('Temperatures greater than 70',temps_gt70)"
   ]
  },
  {
   "cell_type": "markdown",
   "metadata": {},
   "source": [
    "#### 4. Find the average temperature of the day and store it in a variable."
   ]
  },
  {
   "cell_type": "code",
   "execution_count": 6,
   "metadata": {},
   "outputs": [
    {
     "name": "stdout",
     "output_type": "stream",
     "text": [
      "Average temperature of the day:  60.25\n"
     ]
    }
   ],
   "source": [
    "temp_avg = sum(temperatures_C) / len(temperatures_C)\n",
    "print('Average temperature of the day: ', temp_avg)"
   ]
  },
  {
   "cell_type": "markdown",
   "metadata": {},
   "source": [
    "#### 5. Imagine that there was a sensor failure at 3am and the data for that specific hour was not recorded. How would you estimate the missing value? Replace the current value of the list at 3am for an estimation. "
   ]
  },
  {
   "cell_type": "code",
   "execution_count": 10,
   "metadata": {},
   "outputs": [
    {
     "name": "stdout",
     "output_type": "stream",
     "text": [
      "Missing value now is:  60.25\n",
      "At  3  hours\n",
      "[33, 66, 65, 60.25, 59, 60, 62, 64, 70, 76, 80, 81, 80, 83, 90, 79, 61, 53, 50, 49, 53, 48, 45, 39]\n"
     ]
    }
   ],
   "source": [
    "temp_miss = sum(temperatures_C) / len(temperatures_C)\n",
    "place = 0\n",
    "\n",
    "for temp in range(len(temperatures_C)):\n",
    "    if temperatures_C[temp] == 0:\n",
    "        temperatures_C[temp] = temp_miss\n",
    "        place = temp\n",
    "        \n",
    "print('Missing value now is: ', temp_miss)\n",
    "print('At ', place, ' hours')\n",
    "print(temperatures_C)\n"
   ]
  },
  {
   "cell_type": "markdown",
   "metadata": {},
   "source": [
    "#### 6. Bonus: the maintenance staff is from the United States and does not understand the international metric system. Help them by converting the temperatures from Celsius to Fahrenheit.\n",
    "To know more about temperature conversion check this [link](https://en.wikipedia.org/wiki/Conversion_of_units_of_temperature).\n",
    "\n",
    "**Formula**: \n",
    "\n",
    "$F = 1.8 * C + 32$"
   ]
  },
  {
   "cell_type": "code",
   "execution_count": 12,
   "metadata": {},
   "outputs": [
    {
     "name": "stdout",
     "output_type": "stream",
     "text": [
      "Now, the temperatures has been converted to fahrenheit\n",
      "[91.4, 150.8, 149.0, 140.45, 138.2, 140.0, 143.60000000000002, 147.2, 158.0, 168.8, 176.0, 177.8, 176.0, 181.4, 194.0, 174.20000000000002, 141.8, 127.4, 122.0, 120.2, 127.4, 118.4, 113.0, 102.2]\n"
     ]
    }
   ],
   "source": [
    "temperatures_F = []\n",
    "fahrenheit = 0\n",
    "for temp in range(len(temperatures_C)):\n",
    "    fahrenheit = (1.8 * temperatures_C[temp]) + 32\n",
    "    temperatures_F.append(fahrenheit)\n",
    "    \n",
    "print('Now, the temperatures has been converted to fahrenheit')\n",
    "print(temperatures_F)"
   ]
  },
  {
   "cell_type": "markdown",
   "metadata": {},
   "source": [
    "#### 7. Make a decision!\n",
    "Now it's time to make a decision taking into account what you have seen until now. \n",
    "\n",
    "Remember that if one of the following events occurs, then the cooling system needs to be replaced for a new one to avoid damaging the processor.\n",
    "* More than 4 temperatures are greater than or equal to 70ºC.\n",
    "* Any temperature is above 80ºC.\n",
    "* The average temperature exceeds 65ºC.\n",
    "\n",
    "#### To make your decision, check if any of the three conditions above is met. You might need to use some of the variables you created in steps 1 to 6. Print a message to show if the cooling system needs to be changed or not."
   ]
  },
  {
   "cell_type": "code",
   "execution_count": 13,
   "metadata": {},
   "outputs": [
    {
     "name": "stdout",
     "output_type": "stream",
     "text": [
      "The cooling systems needs to be replaced\n"
     ]
    }
   ],
   "source": [
    "if (len(temps_gt70) > 4) or  (max_temp > 80) or (temp_avg > 65):\n",
    "    print('The cooling systems needs to be replaced')\n",
    "else:\n",
    "    print('the cooling system is not to be replaced')"
   ]
  },
  {
   "cell_type": "markdown",
   "metadata": {},
   "source": [
    "## Bonus\n",
    "\n",
    "The company has decided that the decision you made is not valid. They want you to analyze the data again but this time, the conditions that need to be met in order to change the cooling system are different.\n",
    "\n",
    "This time, if one of the following events occurs, then the cooling system needs to be replaced:\n",
    "* The temperature is greater than 70ºC during more than 4 consecutive hours.\n",
    "* Any temperature is above 80ºC.\n",
    "* The average temperature exceeds 65ºC.\n",
    "\n",
    "Follow the steps so that you can make the decision.\n",
    "\n",
    "#### 1. Create a list with the hours where the temperature is greater than 70ºC. Store it in a variable."
   ]
  },
  {
   "cell_type": "code",
   "execution_count": 21,
   "metadata": {},
   "outputs": [
    {
     "name": "stdout",
     "output_type": "stream",
     "text": [
      "Consecutive hours [9, 10, 11, 12, 13, 14, 15]\n"
     ]
    }
   ],
   "source": [
    "consecutives_hr = []\n",
    "for temp in range(len(temperatures_C)):\n",
    "    if temperatures_C[temp] > 70:\n",
    "        consecutives_hr.append(temp)\n",
    "\n",
    "print('Consecutive hours', consecutives_hr)"
   ]
  },
  {
   "cell_type": "markdown",
   "metadata": {},
   "source": [
    "    #### 2. Check if the list you created in step 1 has more than 4 consecutive hours. "
   ]
  },
  {
   "cell_type": "code",
   "execution_count": 22,
   "metadata": {},
   "outputs": [
    {
     "name": "stdout",
     "output_type": "stream",
     "text": [
      "Verifing list, consecutives hour:  6\n"
     ]
    }
   ],
   "source": [
    "hr_prev = 0\n",
    "hr_curr = 0\n",
    "counter = 0\n",
    "for temp in range(len(consecutives_hr)):\n",
    "    if temp == 0:\n",
    "        hr_prev = consecutives_hr[temp]\n",
    "    else:\n",
    "        hr_curr = consecutives_hr[temp]\n",
    "        if (hr_curr - hr_prev) == 1:\n",
    "            counter += 1\n",
    "            hr_prev = hr_curr\n",
    "        else:\n",
    "            counter = 0\n",
    "        \n",
    "        \n",
    "\n",
    "            \n",
    "print('Verifing list, consecutives hour: ', counter)"
   ]
  },
  {
   "cell_type": "markdown",
   "metadata": {},
   "source": [
    "#### 3. Make the decision!\n",
    "To make your decision, check if any of the three conditions is met. Print a message to show if the cooling system needs to be changed or not."
   ]
  },
  {
   "cell_type": "code",
   "execution_count": 23,
   "metadata": {},
   "outputs": [
    {
     "name": "stdout",
     "output_type": "stream",
     "text": [
      "The cooling systems needs to be replaced\n"
     ]
    }
   ],
   "source": [
    "if (len(consecutives_hr) > 4) or  (max_temp > 80) or (temp_avg > 65):\n",
    "    print('The cooling systems needs to be replaced')\n",
    "else:\n",
    "    print('the cooling system is not to be replaced')"
   ]
  },
  {
   "cell_type": "markdown",
   "metadata": {},
   "source": [
    "#### 4. Find the average value of the temperature lists (ºC and ºF). What is the relation between both average values?"
   ]
  },
  {
   "cell_type": "code",
   "execution_count": 26,
   "metadata": {},
   "outputs": [
    {
     "name": "stdout",
     "output_type": "stream",
     "text": [
      "average C:  62.760416666666664\n",
      "average F:  144.96875\n",
      "The relation between both temperatures is the conversion formula\n"
     ]
    }
   ],
   "source": [
    "avg_C = 0\n",
    "avg_F = 0\n",
    "\n",
    "avg_C = sum(temperatures_C) / len(temperatures_C)\n",
    "avg_F = sum(temperatures_F) / len(temperatures_F)\n",
    "\n",
    "print('average C: ', avg_C)\n",
    "print('average F: ', avg_F)\n",
    "print('The relation between both temperatures is the conversion formula')"
   ]
  },
  {
   "cell_type": "markdown",
   "metadata": {},
   "source": [
    "#### 5. Find the standard deviation of the temperature lists (ºC and ºF). What is the relation between both standard deviations?"
   ]
  },
  {
   "cell_type": "code",
   "execution_count": 30,
   "metadata": {},
   "outputs": [
    {
     "name": "stdout",
     "output_type": "stream",
     "text": [
      "standard deviation of celcius temp is:  14.64181354863719\n",
      "standard deviation of fahrenheit temp is:  26.35526438754694\n",
      "Theres no relation because the standar deviations is about of a temperature sample\n"
     ]
    }
   ],
   "source": [
    "limit = len(temperatures_C)\n",
    "sumatoria = 0\n",
    "        \n",
    "media = sum(temperatures_C)/len(temperatures_C)\n",
    "\n",
    "for temps in range(limit):\n",
    "        sumatoria = ((temperatures_C[temps] - media)**2) + sumatoria\n",
    "        \n",
    "prom_item = sumatoria / limit\n",
    "\n",
    "from math import sqrt\n",
    "raizC = sqrt(prom_item)\n",
    "\n",
    "print('standard deviation of celcius temp is: ',raizC)\n",
    "\n",
    "limit = len(temperatures_F)\n",
    "sumatoria = 0\n",
    "        \n",
    "media = sum(temperatures_F)/len(temperatures_F)\n",
    "\n",
    "for temps in range(limit):\n",
    "        sumatoria = ((temperatures_F[temps] - media)**2) + sumatoria\n",
    "        \n",
    "prom_item = sumatoria / limit\n",
    "\n",
    "from math import sqrt\n",
    "raizF = sqrt(prom_item)\n",
    "\n",
    "print('standard deviation of fahrenheit temp is: ',raizF)\n",
    "print('Theres no relation because the standar deviations is about of a temperature sample')"
   ]
  },
  {
   "cell_type": "code",
   "execution_count": null,
   "metadata": {},
   "outputs": [],
   "source": []
  }
 ],
 "metadata": {
  "kernelspec": {
   "display_name": "Python 3",
   "language": "python",
   "name": "python3"
  },
  "language_info": {
   "codemirror_mode": {
    "name": "ipython",
    "version": 3
   },
   "file_extension": ".py",
   "mimetype": "text/x-python",
   "name": "python",
   "nbconvert_exporter": "python",
   "pygments_lexer": "ipython3",
   "version": "3.8.5"
  }
 },
 "nbformat": 4,
 "nbformat_minor": 2
}
