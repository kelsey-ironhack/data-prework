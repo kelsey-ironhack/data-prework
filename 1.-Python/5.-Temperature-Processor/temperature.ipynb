{
 "cells": [
  {
   "cell_type": "markdown",
   "metadata": {},
   "source": [
    "<img src=\"https://bit.ly/2VnXWr2\" width=\"100\" align=\"left\">"
   ]
  },
  {
   "cell_type": "markdown",
   "metadata": {},
   "source": [
    "# Temperature Sensor\n",
    "\n",
    "There is a temperature sensor in the processor of your company's server. The company wants to analyze the data provided by the sensor to decide if they should change the cooling system for a better one. As changing the cooling system is expensive and you are an excellent data analyst, you can't make a decision without basis.\n",
    "\n",
    "## Tools\n",
    "You don't necessarily need to use all the tools. Maybe you opt to use some of them or completely different ones, they are given to help you shape the exercise. Programming exercises can be solved in many different ways.\n",
    "1. Data structures: **lists**\n",
    "2. Loops: **list comprehension**\n",
    "3. Functions: **min, max, print, len**\n",
    "4. Conditional statements: **if-elif-else**\n",
    "\n",
    "## Tasks\n",
    "The temperatures measured throughout the 24 hours of a day are:"
   ]
  },
  {
   "cell_type": "code",
   "execution_count": 2,
   "metadata": {},
   "outputs": [],
   "source": [
    "temperatures_C = [33, 66, 65, 0, 59, 60, 62, 64, 70, 76, 80, 81, 80, 83, 90, 79, 61, 53, 50, 49, 53, 48, 45, 39]"
   ]
  },
  {
   "cell_type": "markdown",
   "metadata": {},
   "source": [
    "The first element of the list is the temperature at 12am, the second element is the temperature at 1am, and so on. \n",
    "\n",
    "The company has decided that if one of the following events occurs, then the cooling system needs to be replaced for a new one to avoid damaging the processor.\n",
    "* More than 4 temperatures are greater than or equal to 70ºC.\n",
    "* Any temperature is above 80ºC.\n",
    "* The average temperature exceeds 65ºC.\n",
    "\n",
    "Follow the steps so that you can make the decision.\n",
    "\n",
    "#### 1. Find the minimum temperature of the day and store it in a variable."
   ]
  },
  {
   "cell_type": "code",
   "execution_count": 3,
   "metadata": {},
   "outputs": [
    {
     "name": "stdout",
     "output_type": "stream",
     "text": [
      "The minumum terperature of the day is: 0\n"
     ]
    }
   ],
   "source": [
    "min_temp=min(temperatures_C)\n",
    "print(\"The minumum terperature of the day is:\",min_temp)"
   ]
  },
  {
   "cell_type": "markdown",
   "metadata": {},
   "source": [
    "#### 2. Find the maximum temperature of the day and store it in a variable."
   ]
  },
  {
   "cell_type": "code",
   "execution_count": 4,
   "metadata": {},
   "outputs": [
    {
     "name": "stdout",
     "output_type": "stream",
     "text": [
      "The maximim terperature of the day is: 90\n"
     ]
    }
   ],
   "source": [
    "max_temp=max(temperatures_C)\n",
    "print(\"The maximim terperature of the day is:\",max_temp)\n"
   ]
  },
  {
   "cell_type": "markdown",
   "metadata": {},
   "source": [
    "#### 3. Create a list with the temperatures that are greater than or equal to 70ºC. Store it in a variable."
   ]
  },
  {
   "cell_type": "code",
   "execution_count": 5,
   "metadata": {},
   "outputs": [
    {
     "name": "stdout",
     "output_type": "stream",
     "text": [
      "[70, 76, 80, 81, 80, 83, 90, 79]\n"
     ]
    }
   ],
   "source": [
    "temp_great=[]\n",
    "for i in range(0,24):\n",
    "    if temperatures_C[i]>=70:\n",
    "        temp_great.append(temperatures_C[i])\n",
    "print(temp_great)\n",
    "\n",
    "\n",
    "\n",
    "    "
   ]
  },
  {
   "cell_type": "markdown",
   "metadata": {},
   "source": [
    "#### 4. Find the average temperature of the day and store it in a variable."
   ]
  },
  {
   "cell_type": "code",
   "execution_count": 6,
   "metadata": {},
   "outputs": [
    {
     "name": "stdout",
     "output_type": "stream",
     "text": [
      "The average temperature of the day was: 60.25\n"
     ]
    }
   ],
   "source": [
    "avg_temp=sum(temperatures_C)/len(temperatures_C)\n",
    "print(\"The average temperature of the day was:\",avg_temp)"
   ]
  },
  {
   "cell_type": "markdown",
   "metadata": {},
   "source": [
    "#### 5. Imagine that there was a sensor failure at 3am and the data for that specific hour was not recorded. How would you estimate the missing value? Replace the current value of the list at 3am for an estimation. "
   ]
  },
  {
   "cell_type": "code",
   "execution_count": 7,
   "metadata": {},
   "outputs": [
    {
     "name": "stdout",
     "output_type": "stream",
     "text": [
      "[33, 66, 65, 65, 59, 60, 62, 64, 70, 76, 80, 81, 80, 83, 90, 79, 61, 53, 50, 49, 53, 48, 45, 39]\n"
     ]
    }
   ],
   "source": [
    "#the estimator will be the previous hour\n",
    "temperatures=[]\n",
    "for i in range(0,24):\n",
    "    if temperatures_C[i]!=0:\n",
    "        temperatures.append(temperatures_C[i])\n",
    "    elif temperatures_C[i]==0:\n",
    "        temperatures.append(temperatures_C[i-1])\n",
    "temperatures_C=temperatures[:]        \n",
    "print(temperatures_C)"
   ]
  },
  {
   "cell_type": "markdown",
   "metadata": {},
   "source": [
    "#### 6. Bonus: the maintenance staff is from the United States and does not understand the international metric system. Help them by converting the temperatures from Celsius to Fahrenheit.\n",
    "To know more about temperature conversion check this [link](https://en.wikipedia.org/wiki/Conversion_of_units_of_temperature).\n",
    "\n",
    "**Formula**: \n",
    "\n",
    "$F = 1.8 * C + 32$"
   ]
  },
  {
   "cell_type": "code",
   "execution_count": 8,
   "metadata": {},
   "outputs": [
    {
     "name": "stdout",
     "output_type": "stream",
     "text": [
      "[91.4, 150.8, 149.0, 149.0, 138.2, 140.0, 143.60000000000002, 147.2, 158.0, 168.8, 176.0, 177.8, 176.0, 181.4, 194.0, 174.20000000000002, 141.8, 127.4, 122.0, 120.2, 127.4, 118.4, 113.0, 102.2]\n"
     ]
    }
   ],
   "source": [
    "temperatures_F=[]\n",
    "for i in temperatures_C:\n",
    "    temperatures_F.append((i*1.8)+32)\n",
    "print(temperatures_F)"
   ]
  },
  {
   "cell_type": "markdown",
   "metadata": {},
   "source": [
    "#### 7. Make a decision!\n",
    "Now it's time to make a decision taking into account what you have seen until now. \n",
    "\n",
    "Remember that if one of the following events occurs, then the cooling system needs to be replaced for a new one to avoid damaging the processor.\n",
    "* More than 4 temperatures are greater than or equal to 70ºC.\n",
    "* Any temperature is above 80ºC.\n",
    "* The average temperature exceeds 65ºC.\n",
    "\n",
    "#### To make your decision, check if any of the three conditions above is met. You might need to use some of the variables you created in steps 1 to 6. Print a message to show if the cooling system needs to be changed or not."
   ]
  },
  {
   "cell_type": "code",
   "execution_count": 9,
   "metadata": {},
   "outputs": [
    {
     "name": "stdout",
     "output_type": "stream",
     "text": [
      "The cooling system needs to be replaced because there are more than 4 temperatures greater than or equal to 70 °C [70, 76, 80, 81, 80, 83, 90, 79]\n",
      "The cooling system needs to be replaced because there are one or more temperatures greater than 80 °C [81, 83, 90]\n"
     ]
    }
   ],
   "source": [
    "temp_great=[]\n",
    "for i in range(0,24):\n",
    "    if temperatures_C[i]>=70:\n",
    "        temp_great.append(temperatures_C[i])\n",
    "if len(temp_great)>4:\n",
    "    print(\"The cooling system needs to be replaced because there are more than 4 temperatures greater than or equal to 70 °C\",temp_great)\n",
    "\n",
    "temp_great80=[]\n",
    "for i in range(0,24):\n",
    "    if temperatures_C[i]>80:\n",
    "        temp_great80.append(temperatures_C[i])\n",
    "if len(temp_great80)>=1:\n",
    "    print(\"The cooling system needs to be replaced because there is one or more temperatures greater than 80 °C\",temp_great80)\n",
    "\n",
    "avg_temp=sum(temperatures_C)/len(temperatures_C)\n",
    "if avg_temp>65:\n",
    "    print(\"The average temperature exceeds 65°C, it is:\",avg_temp)\n"
   ]
  },
  {
   "cell_type": "markdown",
   "metadata": {},
   "source": [
    "## Bonus\n",
    "\n",
    "The company has decided that the decision you made is not valid. They want you to analyze the data again but this time, the conditions that need to be met in order to change the cooling system are different.\n",
    "\n",
    "This time, if one of the following events occurs, then the cooling system needs to be replaced:\n",
    "* The temperature is greater than 70ºC during more than 4 consecutive hours.\n",
    "* Any temperature is above 80ºC.\n",
    "* The average temperature exceeds 65ºC.\n",
    "\n",
    "Follow the steps so that you can make the decision.\n",
    "\n",
    "#### 1. Create a list with the hours where the temperature is greater than 70ºC. Store it in a variable."
   ]
  },
  {
   "cell_type": "code",
   "execution_count": 10,
   "metadata": {},
   "outputs": [
    {
     "name": "stdout",
     "output_type": "stream",
     "text": [
      "[9, 10, 11, 12, 13, 14, 15]\n"
     ]
    }
   ],
   "source": [
    "temp_great70=[]\n",
    "for i in range(0,24):\n",
    "    if temperatures_C[i]>70:\n",
    "        temp_great70.append(i)\n",
    "print(temp_great70)"
   ]
  },
  {
   "cell_type": "markdown",
   "metadata": {},
   "source": [
    "#### 2. Check if the list you created in step 1 has more than 4 consecutive hours. "
   ]
  },
  {
   "cell_type": "code",
   "execution_count": 20,
   "metadata": {},
   "outputs": [
    {
     "name": "stdout",
     "output_type": "stream",
     "text": [
      "The are 4 consecutives temperatures greater than 70 °C in hours: 9 10 11 12\n",
      "The are 4 consecutives temperatures greater than 70 °C in hours: 10 11 12 13\n",
      "The are 4 consecutives temperatures greater than 70 °C in hours: 11 12 13 14\n",
      "The are 4 consecutives temperatures greater than 70 °C in hours: 12 13 14 15\n"
     ]
    }
   ],
   "source": [
    "consecutives=[]\n",
    "for i in range(0,24):\n",
    "    if temperatures_C[i]>70:\n",
    "        consecutives.append(1)\n",
    "    else:\n",
    "        consecutives.append(0)\n",
    "\n",
    "for i in range(0,24):\n",
    "    if consecutives[i]==1:\n",
    "        if consecutives[i]+consecutives[i-1]+consecutives[i-2]+consecutives[i-3]==4:\n",
    "            print(\"The are 4 consecutives temperatures greater than 70 °C in hours:\",i-3,i-2,i-1,i)\n",
    "        \n",
    "        \n",
    "        "
   ]
  },
  {
   "cell_type": "markdown",
   "metadata": {},
   "source": [
    "#### 3. Make the decision!\n",
    "To make your decision, check if any of the three conditions is met. Print a message to show if the cooling system needs to be changed or not."
   ]
  },
  {
   "cell_type": "code",
   "execution_count": 23,
   "metadata": {},
   "outputs": [
    {
     "name": "stdout",
     "output_type": "stream",
     "text": [
      "The are 4 consecutives temperatures greater than 70 °C, so the cooling system needs to be replaced\n",
      "The cooling system needs to be replaced because there is one or more temperatures greater than 80 °C [81, 83, 90]\n"
     ]
    }
   ],
   "source": [
    "consecutives=[]\n",
    "for i in range(0,24):\n",
    "    if temperatures_C[i]>70:\n",
    "        consecutives.append(1)\n",
    "    else:\n",
    "        consecutives.append(0)\n",
    "\n",
    "for i in range(0,24):\n",
    "    if consecutives[i]==1:\n",
    "        if consecutives[i]+consecutives[i-1]+consecutives[i-2]+consecutives[i-3]==4:\n",
    "            print(\"The are 4 consecutives temperatures greater than 70 °C, so the cooling system needs to be replaced\")\n",
    "            break\n",
    "\n",
    "temp_great80=[]\n",
    "for i in range(0,24):\n",
    "    if temperatures_C[i]>80:\n",
    "        temp_great80.append(temperatures_C[i])\n",
    "if len(temp_great80)>=1:\n",
    "    print(\"The cooling system needs to be replaced because there is one or more temperatures greater than 80 °C\",temp_great80)\n",
    "\n",
    "avg_temp=sum(temperatures_C)/len(temperatures_C)\n",
    "if avg_temp>65:\n",
    "    print(\"The average temperature exceeds 65°C, it is:\",avg_temp)"
   ]
  },
  {
   "cell_type": "markdown",
   "metadata": {},
   "source": [
    "#### 4. Find the average value of the temperature lists (ºC and ºF). What is the relation between both average values?"
   ]
  },
  {
   "cell_type": "code",
   "execution_count": 35,
   "metadata": {},
   "outputs": [
    {
     "name": "stdout",
     "output_type": "stream",
     "text": [
      "The average value of temperatures in °C is: 62.958333333333336\n",
      "The average value of temperatures in °F is: 145.325\n",
      "The relation between both average values is: 145.325 °F = (1.8 * 62.958333333333336 °C)+32\n"
     ]
    }
   ],
   "source": [
    "avg_tempc=sum(temperatures_C)/len(temperatures_C)\n",
    "print(\"The average value of temperatures in °C is:\",avg_tempc)\n",
    "avg_tempf=sum(temperatures_F)/len(temperatures_F)\n",
    "print(\"The average value of temperatures in °F is:\",avg_tempf)\n",
    "print(\"The relation between both average values is:\",avg_tempf,\"°F = (1.8 *\",avg_tempc,\"°C)+32\")"
   ]
  },
  {
   "cell_type": "markdown",
   "metadata": {},
   "source": [
    "#### 5. Find the standard deviation of the temperature lists (ºC and ºF). What is the relation between both standard deviations?"
   ]
  },
  {
   "cell_type": "code",
   "execution_count": 36,
   "metadata": {},
   "outputs": [
    {
     "name": "stdout",
     "output_type": "stream",
     "text": [
      "The standard deviation of temperatures in °C is: 14.953490698093573\n",
      "The standard deviation of temperatures in °F is: 26.916283256568434\n",
      "The relation between both standard deviations is: 14.953490698093573 °C = 0.556 * 26.916283256568434 °F\n"
     ]
    }
   ],
   "source": [
    "import statistics\n",
    "std_dev_c=statistics.stdev(temperatures_C)\n",
    "print(\"The standard deviation of temperatures in °C is:\",std_dev_c)\n",
    "std_dev_f=statistics.stdev(temperatures_F)\n",
    "print(\"The standard deviation of temperatures in °F is:\",std_dev_f)\n",
    "print(\"The relation between both standard deviations is:\",std_dev_c,\"°C = 0.556 *\",std_dev_f,\"°F\")"
   ]
  },
  {
   "cell_type": "code",
   "execution_count": null,
   "metadata": {},
   "outputs": [],
   "source": []
  }
 ],
 "metadata": {
  "kernelspec": {
   "display_name": "Python 3",
   "language": "python",
   "name": "python3"
  },
  "language_info": {
   "codemirror_mode": {
    "name": "ipython",
    "version": 3
   },
   "file_extension": ".py",
   "mimetype": "text/x-python",
   "name": "python",
   "nbconvert_exporter": "python",
   "pygments_lexer": "ipython3",
   "version": "3.8.3"
  }
 },
 "nbformat": 4,
 "nbformat_minor": 2
}
