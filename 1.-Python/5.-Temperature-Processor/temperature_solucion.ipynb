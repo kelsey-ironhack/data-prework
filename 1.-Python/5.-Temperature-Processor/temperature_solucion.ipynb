{
 "cells": [
  {
   "cell_type": "markdown",
   "metadata": {},
   "source": [
    "<img src=\"https://bit.ly/2VnXWr2\" width=\"100\" align=\"left\">"
   ]
  },
  {
   "cell_type": "markdown",
   "metadata": {},
   "source": [
    "# Temperature Sensor\n",
    "\n",
    "There is a temperature sensor in the processor of your company's server. The company wants to analyze the data provided by the sensor to decide if they should change the cooling system for a better one. As changing the cooling system is expensive and you are an excellent data analyst, you can't make a decision without basis.\n",
    "\n",
    "## Tools\n",
    "You don't necessarily need to use all the tools. Maybe you opt to use some of them or completely different ones, they are given to help you shape the exercise. Programming exercises can be solved in many different ways.\n",
    "1. Data structures: **lists**\n",
    "2. Loops: **list comprehension**\n",
    "3. Functions: **min, max, print, len**\n",
    "4. Conditional statements: **if-elif-else**\n",
    "\n",
    "## Tasks\n",
    "The temperatures measured throughout the 24 hours of a day are:"
   ]
  },
  {
   "cell_type": "code",
   "execution_count": 1,
   "metadata": {},
   "outputs": [],
   "source": [
    "temperatures_C = [33, 66, 65, 0, 59, 60, 62, 64, 70, 76, 80, 81, 80, 83, 90, 79, 61, 53, 50, 49, 53, 48, 45, 39]"
   ]
  },
  {
   "cell_type": "markdown",
   "metadata": {},
   "source": [
    "The first element of the list is the temperature at 12am, the second element is the temperature at 1am, and so on. \n",
    "\n",
    "The company has decided that if one of the following events occurs, then the cooling system needs to be replaced for a new one to avoid damaging the processor.\n",
    "* More than 4 temperatures are greater than or equal to 70ºC.\n",
    "* Any temperature is above 80ºC.\n",
    "* The average temperature exceeds 65ºC.\n",
    "\n",
    "Follow the steps so that you can make the decision.\n",
    "\n",
    "#### 1. Find the minimum temperature of the day and store it in a variable."
   ]
  },
  {
   "cell_type": "code",
   "execution_count": 2,
   "metadata": {},
   "outputs": [
    {
     "data": {
      "text/plain": [
       "0"
      ]
     },
     "execution_count": 2,
     "metadata": {},
     "output_type": "execute_result"
    }
   ],
   "source": [
    "min(temperatures_C)\n"
   ]
  },
  {
   "cell_type": "markdown",
   "metadata": {},
   "source": [
    "#### 2. Find the maximum temperature of the day and store it in a variable."
   ]
  },
  {
   "cell_type": "code",
   "execution_count": 3,
   "metadata": {},
   "outputs": [
    {
     "data": {
      "text/plain": [
       "90"
      ]
     },
     "execution_count": 3,
     "metadata": {},
     "output_type": "execute_result"
    }
   ],
   "source": [
    "max(temperatures_C)"
   ]
  },
  {
   "cell_type": "markdown",
   "metadata": {},
   "source": [
    "#### 3. Create a list with the temperatures that are greater than or equal to 70ºC. Store it in a variable."
   ]
  },
  {
   "cell_type": "code",
   "execution_count": 4,
   "metadata": {},
   "outputs": [
    {
     "name": "stdout",
     "output_type": "stream",
     "text": [
      "[70, 76, 80, 81, 80, 83, 90, 79]\n"
     ]
    }
   ],
   "source": [
    "lista_70 = []\n",
    "for i in temperatures_C:\n",
    "\tif i >= 70:\n",
    "\t\tlista_70.append(i)\n",
    "print(lista_70)"
   ]
  },
  {
   "cell_type": "markdown",
   "metadata": {},
   "source": [
    "#### 4. Find the average temperature of the day and store it in a variable."
   ]
  },
  {
   "cell_type": "code",
   "execution_count": 5,
   "metadata": {},
   "outputs": [
    {
     "data": {
      "text/plain": [
       "60.25"
      ]
     },
     "execution_count": 5,
     "metadata": {},
     "output_type": "execute_result"
    }
   ],
   "source": [
    " sum(temperatures_C)/24"
   ]
  },
  {
   "cell_type": "markdown",
   "metadata": {},
   "source": [
    "#### 5. Imagine that there was a sensor failure at 3am and the data for that specific hour was not recorded. How would you estimate the missing value? Replace the current value of the list at 3am for an estimation. "
   ]
  },
  {
   "cell_type": "code",
   "execution_count": 6,
   "metadata": {},
   "outputs": [
    {
     "name": "stdout",
     "output_type": "stream",
     "text": [
      "62.869565217391305\n",
      "[33, 66, 65, 63, 59, 60, 62, 64, 70, 76, 80, 81, 80, 83, 90, 79, 61, 53, 50, 49, 53, 48, 45, 39]\n"
     ]
    }
   ],
   "source": [
    "promedio_estimado = sum(temperatures_C)/23\n",
    "print(promedio_estimado)\n",
    "temperatures_C[3]= round(promedio_estimado)\n",
    "print(temperatures_C)"
   ]
  },
  {
   "cell_type": "markdown",
   "metadata": {},
   "source": [
    "#### 6. Bonus: the maintenance staff is from the United States and does not understand the international metric system. Help them by converting the temperatures from Celsius to Fahrenheit.\n",
    "To know more about temperature conversion check this [link](https://en.wikipedia.org/wiki/Conversion_of_units_of_temperature).\n",
    "\n",
    "**Formula**: \n",
    "\n",
    "$F = 1.8 * C + 32$"
   ]
  },
  {
   "cell_type": "code",
   "execution_count": 7,
   "metadata": {},
   "outputs": [
    {
     "name": "stdout",
     "output_type": "stream",
     "text": [
      "[91, 150, 149, 145, 138, 140, 143, 147, 158, 168, 176, 177, 176, 181, 194, 174, 141, 127, 122, 120, 127, 118, 113, 102]\n"
     ]
    }
   ],
   "source": [
    "lista_fahrenheit = []\n",
    "for f in temperatures_C:\n",
    "\tf = int((f*1.8) +32)\n",
    "\tlista_fahrenheit.append(f)\n",
    "print(lista_fahrenheit)"
   ]
  },
  {
   "cell_type": "markdown",
   "metadata": {},
   "source": [
    "#### 7. Make a decision!\n",
    "Now it's time to make a decision taking into account what you have seen until now. \n",
    "\n",
    "Remember that if one of the following events occurs, then the cooling system needs to be replaced for a new one to avoid damaging the processor.\n",
    "* More than 4 temperatures are greater than or equal to 70ºC.\n",
    "* Any temperature is above 80ºC.\n",
    "* The average temperature exceeds 65ºC.\n",
    "\n",
    "#### To make your decision, check if any of the three conditions above is met. You might need to use some of the variables you created in steps 1 to 6. Print a message to show if the cooling system needs to be changed or not."
   ]
  },
  {
   "cell_type": "code",
   "execution_count": 8,
   "metadata": {},
   "outputs": [
    {
     "name": "stdout",
     "output_type": "stream",
     "text": [
      "Hay que reemplazar el refrigerador\n"
     ]
    }
   ],
   "source": [
    "media = round(sum(temperatures_C)/24)\n",
    "\n",
    "contador = 0\n",
    "for i in lista_70:\n",
    "\ti >= 70\n",
    "\tcontador+= 1\n",
    "\n",
    "contador_80 = 0\n",
    "for x in temperatures_C:\n",
    "\tif x > 80:\n",
    "\t\tcontador_80 += 1\n",
    "\n",
    "if contador_80 >= 1 == True or media > 65 == True or contador > 4 == True:\n",
    "\tprint(\"Hay que reemplazar el refrigerador\")"
   ]
  },
  {
   "cell_type": "markdown",
   "metadata": {},
   "source": [
    "## Bonus\n",
    "\n",
    "The company has decided that the decision you made is not valid. They want you to analyze the data again but this time, the conditions that need to be met in order to change the cooling system are different.\n",
    "\n",
    "This time, if one of the following events occurs, then the cooling system needs to be replaced:\n",
    "* The temperature is greater than 70ºC during more than 4 consecutive hours.\n",
    "* Any temperature is above 80ºC.\n",
    "* The average temperature exceeds 65ºC.\n",
    "\n",
    "Follow the steps so that you can make the decision.\n",
    "\n",
    "#### 1. Create a list with the hours where the temperature is greater than 70ºC. Store it in a variable."
   ]
  },
  {
   "cell_type": "code",
   "execution_count": 9,
   "metadata": {},
   "outputs": [
    {
     "name": "stdout",
     "output_type": "stream",
     "text": [
      "[76, 80, 81, 80, 83, 90, 79]\n"
     ]
    }
   ],
   "source": [
    "lista_mayor_70 = []\n",
    "for i in temperatures_C:\n",
    "\tif i > 70:\n",
    "\t\tlista_mayor_70.append(i)\n",
    "print(lista_mayor_70)"
   ]
  },
  {
   "cell_type": "markdown",
   "metadata": {},
   "source": [
    "#### 2. Check if the list you created in step 1 has more than 4 consecutive hours. "
   ]
  },
  {
   "cell_type": "code",
   "execution_count": 10,
   "metadata": {},
   "outputs": [
    {
     "name": "stdout",
     "output_type": "stream",
     "text": [
      "[[[9, 76], 'Am'], [[10, 80], 'Am'], [[11, 81], 'Am'], [[12, 80], 'Pm'], [[13, 83], 'Pm'], [[14, 90], 'Pm'], [[15, 79], 'Pm']]\n"
     ]
    }
   ],
   "source": [
    "conteo = -1\n",
    "\n",
    "horarios = []\n",
    "for i in temperatures_C:\n",
    "\tconteo += 1\n",
    "\thoras = [conteo, i]\n",
    "\thorarios.append(horas)\n",
    "lista_temp = []\n",
    "for x in horarios:\n",
    "\tif x[1] > 70:\n",
    "\t\tlista_temp.append(x)\n",
    "\n",
    "am = \"Am\"\n",
    "pm = \"Pm\"\n",
    "nueva = []\n",
    "for z in lista_temp:\n",
    "\tif z[0] >= 0 and z[0] <= 11:\n",
    "\t\tAM =[z,am]\n",
    "\t\tnueva.append(AM)\n",
    "\telif z[0]>= 12 and z[0] <=23:\n",
    "\t\tPM = [z,pm]\n",
    "\t\tnueva.append(PM)\n",
    "print(nueva)\n"
   ]
  },
  {
   "cell_type": "markdown",
   "metadata": {},
   "source": [
    "#### 3. Make the decision!\n",
    "To make your decision, check if any of the three conditions is met. Print a message to show if the cooling system needs to be changed or not."
   ]
  },
  {
   "cell_type": "code",
   "execution_count": 11,
   "metadata": {},
   "outputs": [
    {
     "name": "stdout",
     "output_type": "stream",
     "text": [
      "Hay que reemplazar el refrigerador\n"
     ]
    }
   ],
   "source": [
    "contador_mas70 = 0\n",
    "for z in lista_temp:\n",
    "\tz[1] > 70\n",
    "\tcontador_mas70 += 1\n",
    "if contador_mas70 > 4 or contador_80 >1 or media > 65:\n",
    "\tprint(\"Hay que reemplazar el refrigerador\")"
   ]
  },
  {
   "cell_type": "markdown",
   "metadata": {},
   "source": [
    "#### 4. Find the average value of the temperature lists (ºC and ºF). What is the relation between both average values?"
   ]
  },
  {
   "cell_type": "code",
   "execution_count": 12,
   "metadata": {},
   "outputs": [
    {
     "name": "stdout",
     "output_type": "stream",
     "text": [
      "la media de grados centigrados 63 pasada a fahrentein 145.4 es igual a la media de los grados fahrentein 144.875\n"
     ]
    }
   ],
   "source": [
    "media_fahrenheit = (sum(lista_fahrenheit)/24)\n",
    "\n",
    "\n",
    "conversion = (media*1.8) + 32\n",
    "\n",
    "print(\"la media de grados centigrados\" ,media,\"pasada a fahrentein\",conversion,\"es igual a la media de los grados fahrentein\",media_fahrenheit)"
   ]
  },
  {
   "cell_type": "markdown",
   "metadata": {},
   "source": [
    "#### 5. Find the standard deviation of the temperature lists (ºC and ºF). What is the relation between both standard deviations?"
   ]
  },
  {
   "cell_type": "code",
   "execution_count": 13,
   "metadata": {},
   "outputs": [
    {
     "name": "stdout",
     "output_type": "stream",
     "text": [
      "desviacion estandar fahrenheit\n",
      "26.312722683143225\n",
      "Desviacion estandar centigrados\n",
      "14.598801320656433\n",
      "Si multiplicamos la desviación estandar de los grados centigrados por 1.8 nos da la desviacion estandar de los grados fahrenheit y si dividimos la desviacion estandar de los g fahrenheit entre 1.8 nos da la desviacion estandar de los grados centigrados.\n"
     ]
    }
   ],
   "source": [
    "print(\"desviacion estandar fahrenheit\")\n",
    "media_fahrenheit = sum(lista_fahrenheit)/24\n",
    "acumulador_farenheit = 0\n",
    "for i in lista_fahrenheit:\n",
    "\ti = i - media_fahrenheit\n",
    "\ti = i**2\n",
    "\tacumulador_farenheit += i\n",
    "\n",
    "operacion_farenheit = (acumulador_farenheit)/24-1\n",
    "\n",
    "raiz_cuadrada_farenheit = operacion_farenheit**(.5)\n",
    "print(raiz_cuadrada_farenheit)\n",
    "\n",
    "print(\"Desviacion estandar centigrados\")\n",
    "\n",
    "acumulador_centigrados = 0\n",
    "for i in temperatures_C:\n",
    "\ti = i - media\n",
    "\ti = i**2\n",
    "\tacumulador_centigrados += i\n",
    "\n",
    "operacion_centigrados = (acumulador_centigrados)/24-1\n",
    "\n",
    "raiz_cuadrada_centigrados = operacion_centigrados**(.5)\n",
    "print(raiz_cuadrada_centigrados)\n",
    "\n",
    "print(\"Si multiplicamos la desviación estandar de los grados centigrados por 1.8 nos da la desviacion estandar de los grados fahrenheit y si dividimos la desviacion estandar de los g fahrenheit entre 1.8 nos da la desviacion estandar de los grados centigrados.\")\n"
   ]
  }
 ],
 "metadata": {
  "kernelspec": {
   "display_name": "Python 3",
   "language": "python",
   "name": "python3"
  },
  "language_info": {
   "codemirror_mode": {
    "name": "ipython",
    "version": 3
   },
   "file_extension": ".py",
   "mimetype": "text/x-python",
   "name": "python",
   "nbconvert_exporter": "python",
   "pygments_lexer": "ipython3",
   "version": "3.7.6"
  }
 },
 "nbformat": 4,
 "nbformat_minor": 2
}
