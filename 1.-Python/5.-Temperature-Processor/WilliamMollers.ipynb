{
 "cells": [
  {
   "cell_type": "markdown",
   "metadata": {},
   "source": [
    "<img src=\"https://bit.ly/2VnXWr2\" width=\"100\" align=\"left\">"
   ]
  },
  {
   "cell_type": "markdown",
   "metadata": {},
   "source": [
    "# Temperature Sensor\n",
    "\n",
    "There is a temperature sensor in the processor of your company's server. The company wants to analyze the data provided by the sensor to decide if they should change the cooling system for a better one. As changing the cooling system is expensive and you are an excellent data analyst, you can't make a decision without basis.\n",
    "\n",
    "## Tools\n",
    "You don't necessarily need to use all the tools. Maybe you opt to use some of them or completely different ones, they are given to help you shape the exercise. Programming exercises can be solved in many different ways.\n",
    "1. Data structures: **lists**\n",
    "2. Loops: **list comprehension**\n",
    "3. Functions: **min, max, print, len**\n",
    "4. Conditional statements: **if-elif-else**\n",
    "\n",
    "## Tasks\n",
    "The temperatures measured throughout the 24 hours of a day are:"
   ]
  },
  {
   "cell_type": "code",
   "execution_count": 58,
   "metadata": {},
   "outputs": [],
   "source": [
    "temperatures_c = [33, 66, 65, 0, 59, 60, 62, 64, 70, 76, 80, 81, 80, 83, 90, 79, 61, 53, 50, 49, 53, 48, 45, 39]"
   ]
  },
  {
   "cell_type": "markdown",
   "metadata": {},
   "source": [
    "The first element of the list is the temperature at 12am, the second element is the temperature at 1am, and so on. \n",
    "\n",
    "The company has decided that if one of the following events occurs, then the cooling system needs to be replaced for a new one to avoid damaging the processor.\n",
    "* More than 4 temperatures are greater than or equal to 70ºC.\n",
    "* Any temperature is above 80ºC.\n",
    "* The average temperature exceeds 65ºC.\n",
    "\n",
    "Follow the steps so that you can make the decision.\n",
    "\n",
    "#### 1. Find the minimum temperature of the day and store it in a variable."
   ]
  },
  {
   "cell_type": "code",
   "execution_count": 59,
   "metadata": {},
   "outputs": [
    {
     "name": "stdout",
     "output_type": "stream",
     "text": [
      "The minimum temperature for today was: 0 degrees celsius\n"
     ]
    }
   ],
   "source": [
    "mintemptoday = min(temperatures_c)\n",
    "print(\"The minimum temperature for today was:\", min(temperatures_c), \"degrees celsius\")\n"
   ]
  },
  {
   "cell_type": "markdown",
   "metadata": {},
   "source": [
    "#### 2. Find the maximum temperature of the day and store it in a variable."
   ]
  },
  {
   "cell_type": "code",
   "execution_count": 60,
   "metadata": {},
   "outputs": [
    {
     "name": "stdout",
     "output_type": "stream",
     "text": [
      "The maximum temperature for today was: 90 degrees celsius\n"
     ]
    }
   ],
   "source": [
    "maxtemptoday = max(temperatures_c)\n",
    "print(\"The maximum temperature for today was:\", max(temperatures_c), \"degrees celsius\")\n"
   ]
  },
  {
   "cell_type": "markdown",
   "metadata": {},
   "source": [
    "#### 3. Create a list with the temperatures that are greater than or equal to 70ºC. Store it in a variable."
   ]
  },
  {
   "cell_type": "code",
   "execution_count": 61,
   "metadata": {},
   "outputs": [
    {
     "name": "stdout",
     "output_type": "stream",
     "text": [
      "These are the values that are equal to or over seventy degrees celsius: [70, 76, 80, 81, 80, 83, 90, 79]\n"
     ]
    }
   ],
   "source": [
    "seventyplus = []\n",
    "\n",
    "for t in temperatures_c:\n",
    "    if t >= 70:\n",
    "        seventyplus.append(t)\n",
    "\n",
    "print(\"These are the values that are equal to or over seventy degrees celsius:\", seventyplus)\n",
    "    "
   ]
  },
  {
   "cell_type": "markdown",
   "metadata": {},
   "source": [
    "#### 4. Find the average temperature of the day and store it in a variable."
   ]
  },
  {
   "cell_type": "code",
   "execution_count": 62,
   "metadata": {},
   "outputs": [
    {
     "name": "stdout",
     "output_type": "stream",
     "text": [
      "60.25\n"
     ]
    }
   ],
   "source": [
    "avgtemptoday=sum(temperatures_c)/len(temperatures_c)\n",
    "print(avgtemptoday)"
   ]
  },
  {
   "cell_type": "markdown",
   "metadata": {},
   "source": [
    "#### 5. Imagine that there was a sensor failure at 3am and the data for that specific hour was not recorded. How would you estimate the missing value? Replace the current value of the list at 3am for an estimation. "
   ]
  },
  {
   "cell_type": "code",
   "execution_count": 63,
   "metadata": {},
   "outputs": [
    {
     "name": "stdout",
     "output_type": "stream",
     "text": [
      "The list of temperatures before adding the estimation is: [33, 66, 65, 0, 59, 60, 62, 64, 70, 76, 80, 81, 80, 83, 90, 79, 61, 53, 50, 49, 53, 48, 45, 39]\n",
      "The list of temperatures after adding the estimation is: [33, 66, 65, 60.25, 59, 60, 62, 64, 70, 76, 80, 81, 80, 83, 90, 79, 61, 53, 50, 49, 53, 48, 45, 39]\n",
      "The updated average temperature including the estimated value at index 3 is 62.760416666666664\n"
     ]
    }
   ],
   "source": [
    "#I would take the avgtemptoday and insert that into the element that == 0 in temperatures_c. This is a reasonable estimate as to the temperature at that time. \n",
    "\n",
    "print(\"The list of temperatures before adding the estimation is:\", temperatures_c)\n",
    "\n",
    "temperatures_c[3] = 60.25\n",
    "\n",
    "print (\"The list of temperatures after adding the estimation is:\",temperatures_c)\n",
    "\n",
    "avgtemptoday=sum(temperatures_c)/len(temperatures_c)\n",
    "print(\"The updated average temperature including the estimated value at index 3 is\", avgtemptoday)"
   ]
  },
  {
   "cell_type": "markdown",
   "metadata": {},
   "source": [
    "#### 6. Bonus: the maintenance staff is from the United States and does not understand the international metric system. Help them by converting the temperatures from Celsius to Fahrenheit.\n",
    "To know more about temperature conversion check this [link](https://en.wikipedia.org/wiki/Conversion_of_units_of_temperature).\n",
    "\n",
    "**Formula**: \n",
    "\n",
    "$F = 1.8 * C + 32$"
   ]
  },
  {
   "cell_type": "code",
   "execution_count": 64,
   "metadata": {},
   "outputs": [
    {
     "name": "stdout",
     "output_type": "stream",
     "text": [
      "[91.4, 150.8, 149.0, 140.45, 138.2, 140.0, 143.60000000000002, 147.2, 158.0, 168.8, 176.0, 177.8, 176.0, 181.4, 194.0, 174.20000000000002, 141.8, 127.4, 122.0, 120.2, 127.4, 118.4, 113.0, 102.2]\n"
     ]
    }
   ],
   "source": [
    "temperatures_f = []\n",
    "\n",
    "for temperature in temperatures_c:\n",
    "    temperatures_f.append((temperature*1.8)+32)\n",
    "    \n",
    "print(temperatures_f)"
   ]
  },
  {
   "cell_type": "markdown",
   "metadata": {},
   "source": [
    "#### 7. Make a decision!\n",
    "Now it's time to make a decision taking into account what you have seen until now. \n",
    "\n",
    "Remember that if one of the following events occurs, then the cooling system needs to be replaced for a new one to avoid damaging the processor.\n",
    "* More than 4 temperatures are greater than or equal to 70ºC.\n",
    "* Any temperature is above 80ºC.\n",
    "* The average temperature exceeds 65ºC.\n",
    "\n",
    "#### To make your decision, check if any of the three conditions above is met. You might need to use some of the variables you created in steps 1 to 6. Print a message to show if the cooling system needs to be changed or not."
   ]
  },
  {
   "cell_type": "code",
   "execution_count": 65,
   "metadata": {},
   "outputs": [
    {
     "name": "stdout",
     "output_type": "stream",
     "text": [
      "Change the cooling system!\n"
     ]
    }
   ],
   "source": [
    "for temperature in temperatures_c:\n",
    "    if len(seventyplus) >= 4:\n",
    "        print(\"Change the cooling system!\")\n",
    "        break \n",
    "    elif temperature > 80:\n",
    "        print(\"Change the cooling system!\")\n",
    "        break\n",
    "    elif avgtemptoday > 65:\n",
    "        print(\"Change the cooling system!\")\n",
    "        break\n",
    "    else:\n",
    "        print(\"Our current cooling system is adequate!\")"
   ]
  },
  {
   "cell_type": "markdown",
   "metadata": {},
   "source": [
    "## Bonus\n",
    "\n",
    "The company has decided that the decision you made is not valid. They want you to analyze the data again but this time, the conditions that need to be met in order to change the cooling system are different.\n",
    "\n",
    "This time, if one of the following events occurs, then the cooling system needs to be replaced:\n",
    "* The temperature is greater than 70ºC during more than 4 consecutive hours.\n",
    "* Any temperature is above 80ºC.\n",
    "* The average temperature exceeds 65ºC.\n",
    "\n",
    "Follow the steps so that you can make the decision.\n",
    "\n",
    "#### 1. Create a list with the hours where the temperature is greater than 70ºC. Store it in a variable."
   ]
  },
  {
   "cell_type": "code",
   "execution_count": 66,
   "metadata": {},
   "outputs": [
    {
     "name": "stdout",
     "output_type": "stream",
     "text": [
      "These are the values that are over seventy degrees celsius: [76, 80, 81, 80, 83, 90, 79]\n"
     ]
    }
   ],
   "source": [
    "aboveseventy = []\n",
    "\n",
    "for t in temperatures_c:\n",
    "    if t > 70:\n",
    "        aboveseventy.append(t)\n",
    "\n",
    "print(\"These are the values that are over seventy degrees celsius:\", aboveseventy)"
   ]
  },
  {
   "cell_type": "markdown",
   "metadata": {},
   "source": [
    "#### 2. Check if the list you created in step 1 has more than 4 consecutive hours. "
   ]
  },
  {
   "cell_type": "code",
   "execution_count": 67,
   "metadata": {},
   "outputs": [
    {
     "name": "stdout",
     "output_type": "stream",
     "text": [
      "There are more than four hours in a row of greater than 70 C temperatures and there were in fact a minimum of 5 hours in a row of such hot temperatures\n"
     ]
    }
   ],
   "source": [
    "fourinarow = 0\n",
    "for t in temperatures_c:\n",
    "    if fourinarow > 4:\n",
    "        break\n",
    "    elif t > 70:\n",
    "        fourinarow += 1\n",
    "    elif t < 70:\n",
    "        fourinarow = 0\n",
    "\n",
    "print(\"There are more than four hours in a row of greater than 70 C temperatures and there were in fact a minimum of\", fourinarow, \"hours in a row of such hot temperatures\")\n"
   ]
  },
  {
   "cell_type": "markdown",
   "metadata": {},
   "source": [
    "#### 3. Make the decision!\n",
    "To make your decision, check if any of the three conditions is met. Print a message to show if the cooling system needs to be changed or not."
   ]
  },
  {
   "cell_type": "code",
   "execution_count": 68,
   "metadata": {},
   "outputs": [
    {
     "name": "stdout",
     "output_type": "stream",
     "text": [
      "Change the cooling system!\n"
     ]
    }
   ],
   "source": [
    "for t in temperatures_c:\n",
    "    if  fourinarow > 4:\n",
    "        print(\"Change the cooling system!\")\n",
    "        break \n",
    "    elif temperature > 80:\n",
    "        print(\"Change the cooling system!\")\n",
    "        break\n",
    "    elif avgtemptoday > 65:\n",
    "        print(\"Change the cooling system!\")\n",
    "        break\n",
    "    else:\n",
    "        print(\"Our current cooling system is adequate!\")"
   ]
  },
  {
   "cell_type": "markdown",
   "metadata": {},
   "source": [
    "#### 4. Find the average value of the temperature lists (ºC and ºF). What is the relation between both average values?"
   ]
  },
  {
   "cell_type": "code",
   "execution_count": 70,
   "metadata": {},
   "outputs": [
    {
     "name": "stdout",
     "output_type": "stream",
     "text": [
      "The average temperature in C is: 62.760416666666664\n",
      "The average temperature in F is: 144.96875\n"
     ]
    }
   ],
   "source": [
    "avgtemp_c=sum(temperatures_c)/len(temperatures_c)\n",
    "print(\"The average temperature in C is:\", avgtemp_c)\n",
    "\n",
    "avgtemp_f=sum(temperatures_f)/len(temperatures_f)\n",
    "print(\"The average temperature in F is:\", avgtemp_f)\n",
    "\n",
    "#No idea what the relation between both should be, other than the above equation to convert one to another...\n",
    "#Another way of saying this is that every t in F is 2.31x greater than every t in C or every t in C is 43% of the size of every t in F. \n",
    "#Why is Fahreneheit still even used? We live in Germany, can we please stick to Metric. Thank you!\n"
   ]
  },
  {
   "cell_type": "markdown",
   "metadata": {},
   "source": [
    "#### 5. Find the standard deviation of the temperature lists (ºC and ºF). What is the relation between both standard deviations?"
   ]
  },
  {
   "cell_type": "code",
   "execution_count": 72,
   "metadata": {},
   "outputs": [
    {
     "name": "stdout",
     "output_type": "stream",
     "text": [
      "The standard deviation of the temperature list in Celsius is: 14.641813548637188\n",
      "The standard deviation of the temperature list in Fahrenheit is: 26.35526438754694\n"
     ]
    }
   ],
   "source": [
    "import statistics \n",
    "stdvtemperatures_c = statistics.pstdev(temperatures_c)\n",
    "stdvtemperatures_f = statistics.pstdev(temperatures_f)\n",
    "\n",
    "print(\"The standard deviation of the temperature list in Celsius is:\", stdvtemperatures_c)\n",
    "print(\"The standard deviation of the temperature list in Fahrenheit is:\", stdvtemperatures_f)\n",
    "\n",
    "#This question is not well written and the required answer is unclear. As above, the StDv of F is 1.8 times that of C's StDv and the StDv of C is 56% of the value of F's StDv."
   ]
  }
 ],
 "metadata": {
  "kernelspec": {
   "display_name": "Python 3",
   "language": "python",
   "name": "python3"
  },
  "language_info": {
   "codemirror_mode": {
    "name": "ipython",
    "version": 3
   },
   "file_extension": ".py",
   "mimetype": "text/x-python",
   "name": "python",
   "nbconvert_exporter": "python",
   "pygments_lexer": "ipython3",
   "version": "3.7.6"
  }
 },
 "nbformat": 4,
 "nbformat_minor": 2
}
