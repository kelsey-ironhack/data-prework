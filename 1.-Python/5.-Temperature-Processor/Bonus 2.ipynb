{
 "cells": [
  {
   "cell_type": "code",
   "execution_count": 11,
   "metadata": {},
   "outputs": [
    {
     "name": "stdout",
     "output_type": "stream",
     "text": [
      "[70, 76, 80, 81, 80, 83, 90, 79]\n",
      "The cooling system needs to be replaced\n",
      "The cooling system needs to be replaced\n",
      "The cooling system needs to be replaced\n",
      "The cooling system needs to be replaced\n",
      "The cooling system needs to be replaced\n"
     ]
    }
   ],
   "source": [
    "temperaturas_C = [33, 66, 65, 60, 59, 60, 62, 64, 70, 76, 80, 81, 80, 83, 90, 79, 61, 53, 50, 49, 53, 48, 45, 39]\n",
    "\n",
    "temp_altas = [70, 76, 80, 81, 80, 83, 90, 79]\n",
    "#Make a decision \n",
    "\n",
    "over70 = []\n",
    "\n",
    "for i in temp_altas:\n",
    "    if i >= 70:\n",
    "        over70.append(i)\n",
    "print(over70)\n",
    "\n",
    "if len(over70) >= 4:\n",
    "    print ('The cooling system needs to be replaced')\n",
    "\n",
    "for i in temp_altas:\n",
    "    if i > 80:\n",
    "        print('The cooling system needs to be replaced')\n",
    "\n",
    "import statistics\n",
    "\n",
    "if statistics.mean(temp_altas) > 65:\n",
    "    print ('The cooling system needs to be replaced')\n",
    "    "
   ]
  },
  {
   "cell_type": "code",
   "execution_count": null,
   "metadata": {},
   "outputs": [],
   "source": []
  }
 ],
 "metadata": {
  "kernelspec": {
   "display_name": "Python 3",
   "language": "python",
   "name": "python3"
  },
  "language_info": {
   "codemirror_mode": {
    "name": "ipython",
    "version": 3
   },
   "file_extension": ".py",
   "mimetype": "text/x-python",
   "name": "python",
   "nbconvert_exporter": "python",
   "pygments_lexer": "ipython3",
   "version": "3.8.5"
  }
 },
 "nbformat": 4,
 "nbformat_minor": 4
}
