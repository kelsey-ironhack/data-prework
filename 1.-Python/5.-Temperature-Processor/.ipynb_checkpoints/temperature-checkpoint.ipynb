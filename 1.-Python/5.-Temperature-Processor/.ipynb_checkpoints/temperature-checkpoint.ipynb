{
 "cells": [
  {
   "cell_type": "markdown",
   "metadata": {},
   "source": [
    "<img src=\"https://bit.ly/2VnXWr2\" width=\"100\" align=\"left\">"
   ]
  },
  {
   "cell_type": "markdown",
   "metadata": {},
   "source": [
    "# Temperature Sensor\n",
    "\n",
    "There is a temperature sensor in the processor of your company's server. The company wants to analyze the data provided by the sensor to decide if they should change the cooling system for a better one. As changing the cooling system is expensive and you are an excellent data analyst, you can't make a decision without basis.\n",
    "\n",
    "## Tools\n",
    "You don't necessarily need to use all the tools. Maybe you opt to use some of them or completely different ones, they are given to help you shape the exercise. Programming exercises can be solved in many different ways.\n",
    "1. Data structures: **lists**\n",
    "2. Loops: **list comprehension**\n",
    "3. Functions: **min, max, print, len**\n",
    "4. Conditional statements: **if-elif-else**\n",
    "\n",
    "## Tasks\n",
    "The temperatures measured throughout the 24 hours of a day are:"
   ]
  },
  {
   "cell_type": "code",
   "execution_count": 1,
   "metadata": {},
   "outputs": [],
   "source": [
    "temperatures_C = [33, 66, 65, 0, 59, 60, 62, 64, 70, 76, 80, 81, 80, 83, 90, 79, 61, 53, 50, 49, 53, 48, 45, 39]"
   ]
  },
  {
   "cell_type": "markdown",
   "metadata": {},
   "source": [
    "The first element of the list is the temperature at 12am, the second element is the temperature at 1am, and so on. \n",
    "\n",
    "The company has decided that if one of the following events occurs, then the cooling system needs to be replaced for a new one to avoid damaging the processor.\n",
    "* More than 4 temperatures are greater than or equal to 70ºC.\n",
    "* Any temperature is above 80ºC.\n",
    "* The average temperature exceeds 65ºC.\n",
    "\n",
    "Follow the steps so that you can make the decision.\n",
    "\n",
    "#### 1. Find the minimum temperature of the day and store it in a variable."
   ]
  },
  {
   "cell_type": "code",
   "execution_count": 2,
   "metadata": {},
   "outputs": [
    {
     "name": "stdout",
     "output_type": "stream",
     "text": [
      "0\n"
     ]
    }
   ],
   "source": [
    "temperatures_C = [33, 66, 65, 0, 59, 60, 62, 64, 70, 76, 80, 81, 80, 83, 90, 79, 61, 53, 50, 49, 53, 48, 45, 39]\n",
    "minimum_temp = min(temperatures_C)\n",
    "print(minimum_temp)"
   ]
  },
  {
   "cell_type": "markdown",
   "metadata": {},
   "source": [
    "#### 2. Find the maximum temperature of the day and store it in a variable."
   ]
  },
  {
   "cell_type": "code",
   "execution_count": 3,
   "metadata": {},
   "outputs": [
    {
     "name": "stdout",
     "output_type": "stream",
     "text": [
      "90\n"
     ]
    }
   ],
   "source": [
    "maximum_temp = max(temperatures_C)\n",
    "print(maximum_temp)"
   ]
  },
  {
   "cell_type": "markdown",
   "metadata": {},
   "source": [
    "#### 3. Create a list with the temperatures that are greater than or equal to 70ºC. Store it in a variable."
   ]
  },
  {
   "cell_type": "code",
   "execution_count": 4,
   "metadata": {},
   "outputs": [
    {
     "name": "stdout",
     "output_type": "stream",
     "text": [
      "[70, 76, 80, 81, 80, 83, 90, 79]\n"
     ]
    }
   ],
   "source": [
    "temp_70 = []\n",
    "for grades in temperatures_C:\n",
    "    if grades >= 70:\n",
    "        temp_70.append(grades)\n",
    "        \n",
    "print(temp_70)\n"
   ]
  },
  {
   "cell_type": "markdown",
   "metadata": {},
   "source": [
    "#### 4. Find the average temperature of the day and store it in a variable."
   ]
  },
  {
   "cell_type": "code",
   "execution_count": 5,
   "metadata": {},
   "outputs": [
    {
     "name": "stdout",
     "output_type": "stream",
     "text": [
      "60.25\n"
     ]
    }
   ],
   "source": [
    "av_temp = sum(temperatures_C)/len(temperatures_C)\n",
    "print(av_temp)"
   ]
  },
  {
   "cell_type": "markdown",
   "metadata": {},
   "source": [
    "#### 5. Imagine that there was a sensor failure at 3am and the data for that specific hour was not recorded. How would you estimate the missing value? Replace the current value of the list at 3am for an estimation. "
   ]
  },
  {
   "cell_type": "code",
   "execution_count": 6,
   "metadata": {},
   "outputs": [
    {
     "name": "stdout",
     "output_type": "stream",
     "text": [
      "[33, 66, 65, 62, 59, 60, 62, 64, 70, 76, 80, 81, 80, 83, 90, 79, 61, 53, 50, 49, 53, 48, 45, 39]\n"
     ]
    }
   ],
   "source": [
    "temperatures_C[3] = 62\n",
    "print(temperatures_C)"
   ]
  },
  {
   "cell_type": "markdown",
   "metadata": {},
   "source": [
    "#### 6. Bonus: the maintenance staff is from the United States and does not understand the international metric system. Help them by converting the temperatures from Celsius to Fahrenheit.\n",
    "To know more about temperature conversion check this [link](https://en.wikipedia.org/wiki/Conversion_of_units_of_temperature).\n",
    "\n",
    "**Formula**: \n",
    "\n",
    "$F = 1.8 * C + 32$"
   ]
  },
  {
   "cell_type": "code",
   "execution_count": 7,
   "metadata": {},
   "outputs": [
    {
     "name": "stdout",
     "output_type": "stream",
     "text": [
      "[91.4, 150.8, 149.0, 143.60000000000002, 138.2, 140.0, 143.60000000000002, 147.2, 158.0, 168.8, 176.0, 177.8, 176.0, 181.4, 194.0, 174.20000000000002, 141.8, 127.4, 122.0, 120.2, 127.4, 118.4, 113.0, 102.2]\n"
     ]
    }
   ],
   "source": [
    "temperatures_F = []\n",
    "for C in temperatures_C:\n",
    "    F = 1.8*C + 32\n",
    "    temperatures_F.append(F)\n",
    "\n",
    "print(temperatures_F)"
   ]
  },
  {
   "cell_type": "markdown",
   "metadata": {},
   "source": [
    "#### 7. Make a decision!\n",
    "Now it's time to make a decision taking into account what you have seen until now. \n",
    "\n",
    "Remember that if one of the following events occurs, then the cooling system needs to be replaced for a new one to avoid damaging the processor.\n",
    "* More than 4 temperatures are greater than or equal to 70ºC.\n",
    "* Any temperature is above 80ºC.\n",
    "* The average temperature exceeds 65ºC.\n",
    "\n",
    "#### To make your decision, check if any of the three conditions above is met. You might need to use some of the variables you created in steps 1 to 6. Print a message to show if the cooling system needs to be changed or not."
   ]
  },
  {
   "cell_type": "code",
   "execution_count": 8,
   "metadata": {},
   "outputs": [
    {
     "name": "stdout",
     "output_type": "stream",
     "text": [
      "More than 4 temperatures are greater than or equal to 70ºC. Replace processor.\n",
      "Any temperature is above 80º. Replace processor.\n",
      "The average temperature does not exceeds 65º. Do not replace processor.\n"
     ]
    }
   ],
   "source": [
    "temperatures_C = [33, 66, 65, 0, 59, 60, 62, 64, 70, 76, 80, 81, 80, 83, 90, 79, 61, 53, 50, 49, 53, 48, 45, 39]\n",
    "av_temp = sum(temperatures_C)/len(temperatures_C)\n",
    "temp_70 = [70, 76, 80, 81, 80, 83, 90, 79]\n",
    "maximun_temp = max(temperatures_C)\n",
    "\n",
    "\n",
    "\n",
    "if len(temp_70) >= 4:\n",
    "    print(\"More than 4 temperatures are greater than or equal to 70ºC. Replace processor.\")\n",
    "elif len(temp_70) <= 4:\n",
    "    print(\"Less than 4 temperatures are greater than or equal to 70ºC. Do not replace processor.\")\n",
    "    \n",
    "\n",
    "if maximun_temp > 80:\n",
    "    print(\"Any temperature is above 80º. Replace processor.\")\n",
    "elif maximun_temp <= 80:\n",
    "    print(\"All temperatures are not above 80º. Do not replace proccesor.\")\n",
    "        \n",
    "    \n",
    "if av_temp > 65:\n",
    "    print(\"The average temperature exceeds 65º. Replace processor.\")\n",
    "elif av_temp <= 65:\n",
    "    print(\"The average temperature does not exceeds 65º. Do not replace processor.\")\n",
    "        "
   ]
  },
  {
   "cell_type": "markdown",
   "metadata": {},
   "source": [
    "## Bonus\n",
    "\n",
    "The company has decided that the decision you made is not valid. They want you to analyze the data again but this time, the conditions that need to be met in order to change the cooling system are different.\n",
    "\n",
    "This time, if one of the following events occurs, then the cooling system needs to be replaced:\n",
    "* The temperature is greater than 70ºC during more than 4 consecutive hours.\n",
    "* Any temperature is above 80ºC.\n",
    "* The average temperature exceeds 65ºC.\n",
    "\n",
    "Follow the steps so that you can make the decision.\n",
    "\n",
    "#### 1. Create a list with the hours where the temperature is greater than 70ºC. Store it in a variable."
   ]
  },
  {
   "cell_type": "code",
   "execution_count": 9,
   "metadata": {},
   "outputs": [
    {
     "name": "stdout",
     "output_type": "stream",
     "text": [
      "[70, 76, 80, 81, 80, 83, 90, 79]\n"
     ]
    }
   ],
   "source": [
    "temp_70 = []\n",
    "for grades in temperatures_C:\n",
    "    if grades >= 70:\n",
    "        temp_70.append(grades)\n",
    "print(temp_70)"
   ]
  },
  {
   "cell_type": "markdown",
   "metadata": {},
   "source": [
    "#### 2. Check if the list you created in step 1 has more than 4 consecutive hours. "
   ]
  },
  {
   "cell_type": "code",
   "execution_count": 10,
   "metadata": {},
   "outputs": [
    {
     "name": "stdout",
     "output_type": "stream",
     "text": [
      "[70, 76, 80, 81]\n"
     ]
    }
   ],
   "source": [
    "temp_consecutive_70 = []\n",
    "consecutive_temp = 0\n",
    "for grades in temperatures_C:\n",
    "    if grades>=70:\n",
    "        consecutive_temp +=1\n",
    "        temp_consecutive_70.append(grades)\n",
    "        if consecutive_temp == 4:\n",
    "            break\n",
    "    elif grades < 70:\n",
    "        consecutive_temp = 0\n",
    "        \n",
    "print(temp_consecutive_70)\n",
    "        "
   ]
  },
  {
   "cell_type": "markdown",
   "metadata": {},
   "source": [
    "#### 3. Make the decision!\n",
    "To make your decision, check if any of the three conditions is met. Print a message to show if the cooling system needs to be changed or not."
   ]
  },
  {
   "cell_type": "code",
   "execution_count": 11,
   "metadata": {},
   "outputs": [
    {
     "name": "stdout",
     "output_type": "stream",
     "text": [
      "More than 4 consecutives temperatures are greater than or equal to 70ºC. Replace processor.\n",
      "Any temperature is above 80º. Replace processor.\n",
      "The average temperature does not exceeds 65º. Do not replace processor.\n"
     ]
    }
   ],
   "source": [
    "if len(temp_consecutive_70) >=4:\n",
    "    print(\"More than 4 consecutives temperatures are greater than or equal to 70ºC. Replace processor.\")\n",
    "elif len(temp_consecutive_70) <= 4:\n",
    "    print(\"Less than 4 consecutives temperatures are greater than or equal to 70ºC. Do not replace processor.\")\n",
    "    \n",
    "\n",
    "if maximun_temp > 80:\n",
    "    print(\"Any temperature is above 80º. Replace processor.\")\n",
    "elif maximun_temp <= 80:\n",
    "    print(\"All temperatures are not above 80º. Do not replace proccesor.\")\n",
    "        \n",
    "    \n",
    "if av_temp > 65:\n",
    "    print(\"The average temperature exceeds 65º. Replace processor.\")\n",
    "elif av_temp <= 65:\n",
    "    print(\"The average temperature does not exceeds 65º. Do not replace processor.\")"
   ]
  },
  {
   "cell_type": "markdown",
   "metadata": {},
   "source": [
    "#### 4. Find the average value of the temperature lists (ºC and ºF). What is the relation between both average values?"
   ]
  },
  {
   "cell_type": "code",
   "execution_count": 12,
   "metadata": {
    "scrolled": true
   },
   "outputs": [
    {
     "name": "stdout",
     "output_type": "stream",
     "text": [
      "145.1\n",
      "60.25\n",
      "ºF is greater than ºC\n"
     ]
    }
   ],
   "source": [
    "av_temp_F = sum(temperatures_F)/len(temperatures_F)\n",
    "print(av_temp_F)\n",
    "print(av_temp)\n",
    "if av_temp_F > av_temp:\n",
    "    print(\"ºF is greater than ºC\")\n",
    "elif av_temp_F < av_temp:\n",
    "    print(\"ºC is greater than ºF\")\n",
    "else:\n",
    "    print(\"ºC and ºF are the same\")\n",
    "    "
   ]
  },
  {
   "cell_type": "markdown",
   "metadata": {},
   "source": [
    "#### 5. Find the standard deviation of the temperature lists (ºC and ºF). What is the relation between both standard deviations?"
   ]
  },
  {
   "cell_type": "code",
   "execution_count": 13,
   "metadata": {},
   "outputs": [
    {
     "name": "stdout",
     "output_type": "stream",
     "text": [
      "19.285681216902866\n",
      "26.34027334710101\n",
      "Standard desviation in F is greater than in C\n"
     ]
    }
   ],
   "source": [
    "import math\n",
    "temp_C_media = []\n",
    "temp_F_media = []\n",
    "for C in temperatures_C:\n",
    "    C_des = (C - av_temp)**2\n",
    "    temp_C_media.append(C_des)\n",
    "    sum_tempC_media = sum(temp_C_media)\n",
    "    standard_desviation_C = math.sqrt(sum_tempC_media / len(temperatures_C))\n",
    "    \n",
    "for F in temperatures_F:\n",
    "    F_des = (F - av_temp_F)**2\n",
    "    temp_F_media.append(F_des)\n",
    "    sum_tempF_media = sum(temp_F_media)\n",
    "    standard_desviation_F = math.sqrt(sum_tempF_media / len(temperatures_C))\n",
    "                                    \n",
    "print(standard_desviation_C)\n",
    "print(standard_desviation_F)\n",
    "\n",
    "if standard_desviation_F < standard_desviation_C:\n",
    "    print(\"Standard desviation in C is greater than in F\")\n",
    "elif standard_desviation_F > standard_desviation_C:\n",
    "    print(\"Standard desviation in F is greater than in C\")\n",
    "else:\n",
    "    print(\"Standard desviations are the same in both temperatures\")\n",
    "    \n"
   ]
  },
  {
   "cell_type": "code",
   "execution_count": null,
   "metadata": {},
   "outputs": [],
   "source": []
  }
 ],
 "metadata": {
  "kernelspec": {
   "display_name": "Python 3",
   "language": "python",
   "name": "python3"
  },
  "language_info": {
   "codemirror_mode": {
    "name": "ipython",
    "version": 3
   },
   "file_extension": ".py",
   "mimetype": "text/x-python",
   "name": "python",
   "nbconvert_exporter": "python",
   "pygments_lexer": "ipython3",
   "version": "3.9.0"
  }
 },
 "nbformat": 4,
 "nbformat_minor": 2
}
