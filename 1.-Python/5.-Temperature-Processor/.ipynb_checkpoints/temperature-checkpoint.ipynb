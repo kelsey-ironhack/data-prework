{
 "cells": [
  {
   "cell_type": "markdown",
   "metadata": {},
   "source": [
    "<img src=\"https://bit.ly/2VnXWr2\" width=\"100\" align=\"left\">"
   ]
  },
  {
   "cell_type": "markdown",
   "metadata": {},
   "source": [
    "# Temperature Sensor\n",
    "\n",
    "There is a temperature sensor in the processor of your company's server. The company wants to analyze the data provided by the sensor to decide if they should change the cooling system for a better one. As changing the cooling system is expensive and you are an excellent data analyst, you can't make a decision without basis.\n",
    "\n",
    "## Tools\n",
    "You don't necessarily need to use all the tools. Maybe you opt to use some of them or completely different ones, they are given to help you shape the exercise. Programming exercises can be solved in many different ways.\n",
    "1. Data structures: **lists**\n",
    "2. Loops: **list comprehension**\n",
    "3. Functions: **min, max, print, len**\n",
    "4. Conditional statements: **if-elif-else**\n",
    "\n",
    "## Tasks\n",
    "The temperatures measured throughout the 24 hours of a day are:"
   ]
  },
  {
   "cell_type": "code",
   "execution_count": 1,
   "metadata": {},
   "outputs": [
    {
     "name": "stdout",
     "output_type": "stream",
     "text": [
      "24\n"
     ]
    }
   ],
   "source": [
    "temperatures_C = [33, 66, 65, 0, 59, 60, 62, 64, 70, 76, 80, 81, 80, 83, 90, 79, 61, 53, 50, 49, 53, 48, 45, 39]\n",
    "print(len(temperatures_C))"
   ]
  },
  {
   "cell_type": "markdown",
   "metadata": {},
   "source": [
    "The first element of the list is the temperature at 12am, the second element is the temperature at 1am, and so on. \n",
    "\n",
    "The company has decided that if one of the following events occurs, then the cooling system needs to be replaced for a new one to avoid damaging the processor.\n",
    "* More than 4 temperatures are greater than or equal to 70ºC.\n",
    "* Any temperature is above 80ºC.\n",
    "* The average temperature exceeds 65ºC.\n",
    "\n",
    "Follow the steps so that you can make the decision.\n",
    "\n",
    "#### 1. Find the minimum temperature of the day and store it in a variable."
   ]
  },
  {
   "cell_type": "code",
   "execution_count": 2,
   "metadata": {},
   "outputs": [
    {
     "name": "stdout",
     "output_type": "stream",
     "text": [
      "0\n"
     ]
    }
   ],
   "source": [
    "minimum_temperature=min(temperatures_C)\n",
    "print(minimum_temperature)"
   ]
  },
  {
   "cell_type": "markdown",
   "metadata": {},
   "source": [
    "#### 2. Find the maximum temperature of the day and store it in a variable."
   ]
  },
  {
   "cell_type": "code",
   "execution_count": 3,
   "metadata": {},
   "outputs": [
    {
     "name": "stdout",
     "output_type": "stream",
     "text": [
      "90\n"
     ]
    }
   ],
   "source": [
    "maximum_temperature=max(temperatures_C)\n",
    "print(maximum_temperature)"
   ]
  },
  {
   "cell_type": "markdown",
   "metadata": {},
   "source": [
    "#### 3. Create a list with the temperatures that are greater than or equal to 70ºC. Store it in a variable."
   ]
  },
  {
   "cell_type": "code",
   "execution_count": 4,
   "metadata": {},
   "outputs": [
    {
     "name": "stdout",
     "output_type": "stream",
     "text": [
      "Temperatures greater than or equal to 70:  [70, 76, 80, 81, 80, 83, 90, 79]\n"
     ]
    }
   ],
   "source": [
    "Greater_than_70=[]\n",
    "for temp in temperatures_C:\n",
    "    if (temp>=70):\n",
    "        Greater_than_70.append(temp)\n",
    "\n",
    "print(\"Temperatures greater than or equal to 70: \",Greater_than_70)\n",
    "        \n",
    "        "
   ]
  },
  {
   "cell_type": "markdown",
   "metadata": {},
   "source": [
    "#### 4. Find the average temperature of the day and store it in a variable."
   ]
  },
  {
   "cell_type": "code",
   "execution_count": 5,
   "metadata": {},
   "outputs": [
    {
     "name": "stdout",
     "output_type": "stream",
     "text": [
      "Average temperature is: 60.25\n"
     ]
    }
   ],
   "source": [
    "average_temp=sum(temperatures_C)/len(temperatures_C)\n",
    "print(\"Average temperature is:\",average_temp)\n"
   ]
  },
  {
   "cell_type": "markdown",
   "metadata": {},
   "source": [
    "#### 5. Imagine that there was a sensor failure at 3am and the data for that specific hour was not recorded. How would you estimate the missing value? Replace the current value of the list at 3am for an estimation. "
   ]
  },
  {
   "cell_type": "code",
   "execution_count": 6,
   "metadata": {},
   "outputs": [
    {
     "name": "stdout",
     "output_type": "stream",
     "text": [
      "24\n",
      "[33, 66, 65, 59, 60, 62, 64, 70, 76, 80, 81, 80, 83, 90, 79, 61, 53, 50, 49, 53, 48, 45, 39]\n",
      "1446\n",
      "23\n",
      "24\n",
      "60.25\n",
      "0.0\n",
      "number estimated is:  0.0\n"
     ]
    }
   ],
   "source": [
    "print(len(temperatures_C))\n",
    "temperatures_3_Calculation=temperatures_C.copy()\n",
    "var_remove=temperatures_C[3]\n",
    "temperatures_3_Calculation.remove(var_remove)\n",
    "print(temperatures_3_Calculation)\n",
    "print(sum(temperatures_3_Calculation))\n",
    "print(len(temperatures_3_Calculation))\n",
    "print(len(temperatures_C))\n",
    "print(average_temp)\n",
    "temperature_3=(average_temp*len(temperatures_C))-sum(temperatures_3_Calculation)\n",
    "print(temperature_3)\n",
    "temperatures_C[3]=average_temp\n",
    "\n",
    "print(\"number estimated is: \",temperature_3)"
   ]
  },
  {
   "cell_type": "markdown",
   "metadata": {},
   "source": [
    "#### 6. Bonus: the maintenance staff is from the United States and does not understand the international metric system. Help them by converting the temperatures from Celsius to Fahrenheit.\n",
    "To know more about temperature conversion check this [link](https://en.wikipedia.org/wiki/Conversion_of_units_of_temperature).\n",
    "\n",
    "**Formula**: \n",
    "\n",
    "$F = 1.8 * C + 32$"
   ]
  },
  {
   "cell_type": "code",
   "execution_count": 7,
   "metadata": {},
   "outputs": [
    {
     "name": "stdout",
     "output_type": "stream",
     "text": [
      "Temperatures in Farenheit are:  [91.4, 150.8, 149.0, 140.45, 138.2, 140.0, 143.60000000000002, 147.2, 158.0, 168.8, 176.0, 177.8, 176.0, 181.4, 194.0, 174.20000000000002, 141.8, 127.4, 122.0, 120.2, 127.4, 118.4, 113.0, 102.2]\n"
     ]
    }
   ],
   "source": [
    "temperatures_F=[]\n",
    "for temp in temperatures_C:\n",
    "    temperatures_F.append((1.8*temp)+32)\n",
    "    \n",
    "print(\"Temperatures in Farenheit are: \",temperatures_F)"
   ]
  },
  {
   "cell_type": "markdown",
   "metadata": {},
   "source": [
    "#### 7. Make a decision!\n",
    "Now it's time to make a decision taking into account what you have seen until now. \n",
    "\n",
    "Remember that if one of the following events occurs, then the cooling system needs to be replaced for a new one to avoid damaging the processor.\n",
    "* More than 4 temperatures are greater than or equal to 70ºC.\n",
    "* Any temperature is above 80ºC.\n",
    "* The average temperature exceeds 65ºC.\n",
    "\n",
    "#### To make your decision, check if any of the three conditions above is met. You might need to use some of the variables you created in steps 1 to 6. Print a message to show if the cooling system needs to be changed or not."
   ]
  },
  {
   "cell_type": "code",
   "execution_count": 8,
   "metadata": {},
   "outputs": [
    {
     "name": "stdout",
     "output_type": "stream",
     "text": [
      "System needs to be replaced\n"
     ]
    }
   ],
   "source": [
    "Replace=False\n",
    "if len(Greater_than_70)>4:\n",
    "    Replace=True\n",
    "for element in Greater_than_70:\n",
    "    if element>80:\n",
    "        Replace=True\n",
    "if average_temp>65:\n",
    "    Replace=True\n",
    "    \n",
    "if Replace==True:\n",
    "    print(\"System needs to be replaced\")\n",
    "else:\n",
    "    print(\"System doesn't need to be replaced\")\n"
   ]
  },
  {
   "cell_type": "markdown",
   "metadata": {},
   "source": [
    "## Bonus\n",
    "\n",
    "The company has decided that the decision you made is not valid. They want you to analyze the data again but this time, the conditions that need to be met in order to change the cooling system are different.\n",
    "\n",
    "This time, if one of the following events occurs, then the cooling system needs to be replaced:\n",
    "* The temperature is greater than 70ºC during more than 4 consecutive hours.\n",
    "* Any temperature is above 80ºC.\n",
    "* The average temperature exceeds 65ºC.\n",
    "\n",
    "Follow the steps so that you can make the decision.\n",
    "\n",
    "#### 1. Create a list with the hours where the temperature is greater than 70ºC. Store it in a variable."
   ]
  },
  {
   "cell_type": "code",
   "execution_count": 9,
   "metadata": {},
   "outputs": [
    {
     "name": "stdout",
     "output_type": "stream",
     "text": [
      "[33, 66, 65, 60.25, 59, 60, 62, 64, 70, 76, 80, 81, 80, 83, 90, 79, 61, 53, 50, 49, 53, 48, 45, 39]\n",
      "Temperatures greater than or equal to 70:  [76, 80, 81, 80, 83, 90, 79]\n",
      "Hours where temperature is greater than 70 are: [9, 10, 11, 12, 13, 14, 15]\n"
     ]
    }
   ],
   "source": [
    "print(temperatures_C)\n",
    "Greater_than_70=[]\n",
    "Hours_Greater_than_70=[]\n",
    "i=0\n",
    "for temp in temperatures_C:\n",
    "    if (temp>70):\n",
    "        Greater_than_70.append(temp)\n",
    "        Hours_Greater_than_70.append(i)\n",
    "    i+=1\n",
    "        \n",
    "    \n",
    "print(\"Temperatures greater than or equal to 70: \",Greater_than_70)\n",
    "print(\"Hours where temperature is greater than 70 are:\",Hours_Greater_than_70)        \n",
    "        "
   ]
  },
  {
   "cell_type": "markdown",
   "metadata": {},
   "source": [
    "#### 2. Check if the list you created in step 1 has more than 4 consecutive hours. "
   ]
  },
  {
   "cell_type": "code",
   "execution_count": 10,
   "metadata": {},
   "outputs": [
    {
     "name": "stdout",
     "output_type": "stream",
     "text": [
      "[1, 1, 1, 1, 1, 1]\n",
      "There are the following consecutive hours above 70:  6\n"
     ]
    }
   ],
   "source": [
    "diff=[]\n",
    "for x in range(0,len(Hours_Greater_than_70)-1):\n",
    "    diff.append(Hours_Greater_than_70[x+1]-Hours_Greater_than_70[x])\n",
    "\n",
    "consecutive_count=0\n",
    "for dif in diff:\n",
    "    if dif==1:\n",
    "        consecutive_count+=1\n",
    "    else:\n",
    "        consecutive_count=0\n",
    "print(diff)\n",
    "print(\"There are the following consecutive hours above 70: \", consecutive_count)"
   ]
  },
  {
   "cell_type": "markdown",
   "metadata": {},
   "source": [
    "#### 3. Make the decision!\n",
    "To make your decision, check if any of the three conditions is met. Print a message to show if the cooling system needs to be changed or not."
   ]
  },
  {
   "cell_type": "code",
   "execution_count": 11,
   "metadata": {},
   "outputs": [
    {
     "name": "stdout",
     "output_type": "stream",
     "text": [
      "System needs to be replaced\n"
     ]
    }
   ],
   "source": [
    "Replace=False\n",
    "if consecutive_count>4:\n",
    "    Replace=True\n",
    "for element in Greater_than_70:\n",
    "    if element>80:\n",
    "        Replace=True\n",
    "if average_temp>65:\n",
    "    Replace=True\n",
    "    \n",
    "if Replace==True:\n",
    "    print(\"System needs to be replaced\")\n",
    "else:\n",
    "    print(\"System doesn't need to be replaced\")\n"
   ]
  },
  {
   "cell_type": "markdown",
   "metadata": {},
   "source": [
    "#### 4. Find the average value of the temperature lists (ºC and ºF). What is the relation between both average values?"
   ]
  },
  {
   "cell_type": "code",
   "execution_count": 25,
   "metadata": {},
   "outputs": [
    {
     "name": "stdout",
     "output_type": "stream",
     "text": [
      "Temperature C average:  62.760416666666664\n",
      "Temperature F average:  144.96875\n",
      "relation average formula to convert farenheit to celcius: 144.96875\n"
     ]
    }
   ],
   "source": [
    "temperature_C_average=sum(temperatures_C)/len(temperatures_C)\n",
    "temperature_F_average=sum(temperatures_F)/len(temperatures_F)\n",
    "print(\"Temperature C average: \",temperature_C_average)\n",
    "print(\"Temperature F average: \",temperature_F_average)\n",
    "\n",
    "temperature_F_average_Relation=temperature_C_average*1.8+32\n",
    "print(\"relation average formula to convert farenheit to celcius:\",temperature_F_average )"
   ]
  },
  {
   "cell_type": "markdown",
   "metadata": {},
   "source": [
    "#### 5. Find the standard deviation of the temperature lists (ºC and ºF). What is the relation between both standard deviations?"
   ]
  },
  {
   "cell_type": "code",
   "execution_count": 17,
   "metadata": {},
   "outputs": [
    {
     "name": "stdout",
     "output_type": "stream",
     "text": [
      "Standard deviation temperature in C: 14.64181354863719\n",
      "Standard deviation of temperature in F: 26.35526438754694\n",
      "relation average:  0.5555555555555556\n"
     ]
    }
   ],
   "source": [
    "n = len(temperatures_C)    \n",
    "mean = sum(temperatures_C) / n\n",
    "deviations = [(x - mean) ** 2 for x in temperatures_C]\n",
    "variance = sum(deviations) / n\n",
    "standard_deviation_C=variance**0.5\n",
    "print(\"Standard deviation temperature in C:\",standard_deviation_C)\n",
    "\n",
    "n = len(temperatures_F)    \n",
    "mean = sum(temperatures_F) / n\n",
    "deviations = [(x - mean) ** 2 for x in temperatures_F]\n",
    "variance = sum(deviations) / n\n",
    "standard_deviation_F=variance**0.5\n",
    "print(\"Standard deviation of temperature in F:\",standard_deviation_F)\n",
    "\n",
    "relation_standard_deviation=standard_deviation_C/standard_deviation_F\n",
    "print(\"relation average: \", relation_standard_deviation)"
   ]
  },
  {
   "cell_type": "code",
   "execution_count": null,
   "metadata": {},
   "outputs": [],
   "source": []
  }
 ],
 "metadata": {
  "kernelspec": {
   "display_name": "Python 3",
   "language": "python",
   "name": "python3"
  },
  "language_info": {
   "codemirror_mode": {
    "name": "ipython",
    "version": 3
   },
   "file_extension": ".py",
   "mimetype": "text/x-python",
   "name": "python",
   "nbconvert_exporter": "python",
   "pygments_lexer": "ipython3",
   "version": "3.8.3"
  }
 },
 "nbformat": 4,
 "nbformat_minor": 2
}
