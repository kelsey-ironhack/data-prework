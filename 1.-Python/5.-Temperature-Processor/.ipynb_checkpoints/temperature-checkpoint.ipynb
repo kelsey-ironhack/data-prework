{
 "cells": [
  {
   "cell_type": "markdown",
   "metadata": {},
   "source": [
    "<img src=\"https://bit.ly/2VnXWr2\" width=\"100\" align=\"left\">"
   ]
  },
  {
   "cell_type": "markdown",
   "metadata": {},
   "source": [
    "# Temperature Sensor\n",
    "\n",
    "There is a temperature sensor in the processor of your company's server. The company wants to analyze the data provided by the sensor to decide if they should change the cooling system for a better one. As changing the cooling system is expensive and you are an excellent data analyst, you can't make a decision without basis.\n",
    "\n",
    "## Tools\n",
    "You don't necessarily need to use all the tools. Maybe you opt to use some of them or completely different ones, they are given to help you shape the exercise. Programming exercises can be solved in many different ways.\n",
    "1. Data structures: **lists**\n",
    "2. Loops: **list comprehension**\n",
    "3. Functions: **min, max, print, len**\n",
    "4. Conditional statements: **if-elif-else**\n",
    "\n",
    "## Tasks\n",
    "The temperatures measured throughout the 24 hours of a day are:"
   ]
  },
  {
   "cell_type": "code",
   "execution_count": null,
   "metadata": {},
   "outputs": [],
   "source": [
    "temperatures_C = [33, 66, 65, 0, 59, 60, 62, 64, 70, 76, 80, 81, 80, 83, 90, 79, 61, 53, 50, 49, 53, 48, 45, 39]"
   ]
  },
  {
   "cell_type": "markdown",
   "metadata": {},
   "source": [
    "The first element of the list is the temperature at 12am, the second element is the temperature at 1am, and so on. \n",
    "\n",
    "The company has decided that if one of the following events occurs, then the cooling system needs to be replaced for a new one to avoid damaging the processor.\n",
    "* More than 4 temperatures are greater than or equal to 70ºC.\n",
    "* Any temperature is above 80ºC.\n",
    "* The average temperature exceeds 65ºC.\n",
    "\n",
    "Follow the steps so that you can make the decision.\n",
    "\n",
    "#### 1. Find the minimum temperature of the day and store it in a variable."
   ]
  },
  {
   "cell_type": "code",
   "execution_count": 2,
   "metadata": {},
   "outputs": [
    {
     "name": "stdout",
     "output_type": "stream",
     "text": [
      "minimum temperature 0\n"
     ]
    }
   ],
   "source": [
    "temperatures_C = [33, 66, 65, 0, 59, 60, 62, 64, 70, 76, 80, 81, 80, 83, 90, 79, 61, 53, 50, 49, 53, 48, 45, 39]\n",
    "print(\"minimum temperature\",min(temperatures_C))"
   ]
  },
  {
   "cell_type": "markdown",
   "metadata": {},
   "source": [
    "#### 2. Find the maximum temperature of the day and store it in a variable."
   ]
  },
  {
   "cell_type": "code",
   "execution_count": 3,
   "metadata": {},
   "outputs": [
    {
     "name": "stdout",
     "output_type": "stream",
     "text": [
      "maximum temperature 90\n"
     ]
    }
   ],
   "source": [
    "temperatures_C = [33, 66, 65, 0, 59, 60, 62, 64, 70, 76, 80, 81, 80, 83, 90, 79, 61, 53, 50, 49, 53, 48, 45, 39]\n",
    "print(\"maximum temperature\",max(temperatures_C))"
   ]
  },
  {
   "cell_type": "markdown",
   "metadata": {},
   "source": [
    "#### 3. Create a list with the temperatures that are greater than or equal to 70ºC. Store it in a variable."
   ]
  },
  {
   "cell_type": "code",
   "execution_count": 4,
   "metadata": {},
   "outputs": [
    {
     "name": "stdout",
     "output_type": "stream",
     "text": [
      "temprature more than 70 [76, 80, 81, 80, 83, 90, 79]\n"
     ]
    }
   ],
   "source": [
    "temperatures_C = [33, 66, 65, 0, 59, 60, 62, 64, 70, 76, 80, 81, 80, 83, 90, 79, 61, 53, 50, 49, 53, 48, 45, 39]\n",
    "t_70=[]\n",
    "for i in temperatures_C:\n",
    "    if i>70:\n",
    "        t_70.append(i)\n",
    "print(\"temprature more than 70\",str(t_70))\n"
   ]
  },
  {
   "cell_type": "markdown",
   "metadata": {},
   "source": [
    "#### 4. Find the average temperature of the day and store it in a variable."
   ]
  },
  {
   "cell_type": "code",
   "execution_count": 5,
   "metadata": {},
   "outputs": [
    {
     "name": "stdout",
     "output_type": "stream",
     "text": [
      "the average is 60.25\n"
     ]
    }
   ],
   "source": [
    "temperatures_C = [33, 66, 65, 0, 59, 60, 62, 64, 70, 76, 80, 81, 80, 83, 90, 79, 61, 53, 50, 49, 53, 48, 45, 39]\n",
    "print(\"the average is\",sum(temperatures_C)/len(temperatures_C))"
   ]
  },
  {
   "cell_type": "markdown",
   "metadata": {},
   "source": [
    "#### 5. Imagine that there was a sensor failure at 3am and the data for that specific hour was not recorded. How would you estimate the missing value? Replace the current value of the list at 3am for an estimation. "
   ]
  },
  {
   "cell_type": "code",
   "execution_count": 7,
   "metadata": {},
   "outputs": [
    {
     "name": "stdout",
     "output_type": "stream",
     "text": [
      "estimate temp is 62.0\n",
      "list of the corrected temp including 3 am is [33, 66, 65, 62.0, 59, 60, 62, 64, 70, 76, 80, 81, 80, 83, 90, 79, 61, 53, 50, 49, 53, 48, 45, 39]\n"
     ]
    }
   ],
   "source": [
    "temperatures_C = [33, 66, 65, 0, 59, 60, 62, 64, 70, 76, 80, 81, 80, 83, 90, 79, 61, 53, 50, 49, 53, 48, 45, 39]\n",
    "t_2=temperatures_C[2]\n",
    "t_4=temperatures_C[4]\n",
    "t_3=(t_2+t_4)/2\n",
    "print(\"estimate temp is\",str(t_3))\n",
    "corrected_temp=temperatures_C\n",
    "corrected_temp.pop(3)\n",
    "corrected_temp.insert(3,t_3)\n",
    "print(\"list of the corrected temp including 3 am is\",str(corrected_temp))\n"
   ]
  },
  {
   "cell_type": "markdown",
   "metadata": {},
   "source": [
    "#### 6. Bonus: the maintenance staff is from the United States and does not understand the international metric system. Help them by converting the temperatures from Celsius to Fahrenheit.\n",
    "To know more about temperature conversion check this [link](https://en.wikipedia.org/wiki/Conversion_of_units_of_temperature).\n",
    "\n",
    "**Formula**: \n",
    "\n",
    "$F = 1.8 * C + 32$"
   ]
  },
  {
   "cell_type": "code",
   "execution_count": 9,
   "metadata": {},
   "outputs": [
    {
     "name": "stdout",
     "output_type": "stream",
     "text": [
      "the list of temp in F is [91.4, 150.8, 149.0, 143.6, 138.2, 140.0, 143.6, 147.2, 158.0, 168.8, 176.0, 177.8, 176.0, 181.4, 194.0, 174.2, 141.8, 127.4, 122.0, 120.2, 127.4, 118.4, 113.0, 102.2]\n"
     ]
    }
   ],
   "source": [
    "temperatures_C = [33, 66, 65, 0, 59, 60, 62, 64, 70, 76, 80, 81, 80, 83, 90, 79, 61, 53, 50, 49, 53, 48, 45, 39]\n",
    "t_2=temperatures_C[2]\n",
    "t_4=temperatures_C[4]\n",
    "t_3=(t_2+t_4)/2\n",
    "corrected_temp=temperatures_C\n",
    "corrected_temp.pop(3)\n",
    "corrected_temp.insert(3,t_3)\n",
    "\n",
    "t_F=[]\n",
    "t_FC=0\n",
    "for i in corrected_temp:\n",
    "    t_FC=1.8*i+32\n",
    "    t_F.append(round(t_FC,1))\n",
    "print(\"the list of temp in F is\",t_F)\n",
    "\n"
   ]
  },
  {
   "cell_type": "markdown",
   "metadata": {},
   "source": [
    "#### 7. Make a decision!\n",
    "Now it's time to make a decision taking into account what you have seen until now. \n",
    "\n",
    "Remember that if one of the following events occurs, then the cooling system needs to be replaced for a new one to avoid damaging the processor.\n",
    "* More than 4 temperatures are greater than or equal to 70ºC.\n",
    "* Any temperature is above 80ºC.\n",
    "* The average temperature exceeds 65ºC.\n",
    "\n",
    "#### To make your decision, check if any of the three conditions above is met. You might need to use some of the variables you created in steps 1 to 6. Print a message to show if the cooling system needs to be changed or not."
   ]
  },
  {
   "cell_type": "code",
   "execution_count": 10,
   "metadata": {},
   "outputs": [
    {
     "name": "stdout",
     "output_type": "stream",
     "text": [
      "replace the cooling system\n"
     ]
    }
   ],
   "source": [
    "corrected_temp=[33, 66, 65, 62, 59, 60, 62, 64, 70, 76, 80, 81, 80, 83, 90, 79, 61, 53, 50, 49, 53, 48, 45, 39]\n",
    "t=0\n",
    "t_4=0\n",
    "t_avg=0\n",
    "t_80=0\n",
    "\n",
    "for t in corrected_temp:\n",
    "    if t>70:\n",
    "        t_4+=1\n",
    "t_avg=sum(corrected_temp)/len(corrected_temp)\n",
    "for t in corrected_temp:\n",
    "    if t>80:\n",
    "        t_80+=1\n",
    "\n",
    "if t_4>4 or t_avg>65 or t_80>1:\n",
    "    cooling_system=True\n",
    "else:\n",
    "    cooling_system=False\n",
    "if cooling_system==True:\n",
    "    print(\"replace the cooling system\")\n",
    "    \n",
    "else:\n",
    "    print(\"sit back relax and do nothing\")\n",
    "    \n"
   ]
  },
  {
   "cell_type": "markdown",
   "metadata": {},
   "source": [
    "## Bonus\n",
    "\n",
    "The company has decided that the decision you made is not valid. They want you to analyze the data again but this time, the conditions that need to be met in order to change the cooling system are different.\n",
    "\n",
    "This time, if one of the following events occurs, then the cooling system needs to be replaced:\n",
    "* The temperature is greater than 70ºC during more than 4 consecutive hours.\n",
    "* Any temperature is above 80ºC.\n",
    "* The average temperature exceeds 65ºC.\n",
    "\n",
    "Follow the steps so that you can make the decision.\n",
    "\n",
    "#### 1. Create a list with the hours where the temperature is greater than 70ºC. Store it in a variable."
   ]
  },
  {
   "cell_type": "code",
   "execution_count": 12,
   "metadata": {},
   "outputs": [
    {
     "name": "stdout",
     "output_type": "stream",
     "text": [
      "the temp was more than 70 in this hours [9, 10, 11, 12, 13, 14, 15]\n"
     ]
    }
   ],
   "source": [
    "corrected_temp=[33, 66, 65, 62, 59, 60, 62, 64, 70, 76, 80, 81, 80, 83, 90, 79, 61, 53, 50, 49, 53, 48, 45, 39]\n",
    "time=[]\n",
    "time_temp=[]\n",
    "x=0\n",
    "y=0\n",
    "\n",
    "\n",
    "for i in range(0,24):\n",
    "    time.append(i)\n",
    "for x,y in zip(time,corrected_temp):\n",
    "    if y>70:\n",
    "        time_temp.append(x)\n",
    "print(\"the temp was more than 70 in this hours\",str(time_temp))\n",
    "    "
   ]
  },
  {
   "cell_type": "markdown",
   "metadata": {},
   "source": [
    "#### 2. Check if the list you created in step 1 has more than 4 consecutive hours. "
   ]
  },
  {
   "cell_type": "code",
   "execution_count": 1,
   "metadata": {},
   "outputs": [
    {
     "name": "stdout",
     "output_type": "stream",
     "text": [
      "4 or more temp was over 70 in a row\n"
     ]
    }
   ],
   "source": [
    "corrected_temperature = [33, 66, 65, 62, 59, 60, 62, 64, 70, 76, 80, 81, 80, 83, 90, 79, 61, 53, 50, 49, 53, 48, 45, 39]\n",
    "time=[]\n",
    "in_row=0\n",
    "x=0\n",
    "y=0\n",
    "\n",
    "for y in corrected_temperature:\n",
    "    if in_row >4:\n",
    "        print(\"4 or more temp was over 70 in a row\")\n",
    "        break\n",
    "    elif y>70:\n",
    "        in_row +=1\n",
    "    else:\n",
    "        in_row =0"
   ]
  },
  {
   "cell_type": "markdown",
   "metadata": {},
   "source": [
    "#### 3. Make the decision!\n",
    "To make your decision, check if any of the three conditions is met. Print a message to show if the cooling system needs to be changed or not."
   ]
  },
  {
   "cell_type": "code",
   "execution_count": 2,
   "metadata": {},
   "outputs": [
    {
     "name": "stdout",
     "output_type": "stream",
     "text": [
      "replace the cooling system\n"
     ]
    }
   ],
   "source": [
    "corrected_temp=[33, 66, 65, 62, 59, 60, 62, 64, 70, 76, 80, 81, 80, 83, 90, 79, 61, 53, 50, 49, 53, 48, 45, 39]\n",
    "t=0\n",
    "t_4=0\n",
    "t_avg=0\n",
    "t_80=0\n",
    "\n",
    "for t in corrected_temp:\n",
    "    if t>70:\n",
    "        t_4+=1\n",
    "t_avg=sum(corrected_temp)/len(corrected_temp)\n",
    "for t in corrected_temp:\n",
    "    if t>80:\n",
    "        t_80+=1\n",
    "\n",
    "if t_4>4 or t_avg>65 or t_80>1:\n",
    "    cooling_system=True\n",
    "else:\n",
    "    cooling_system=False\n",
    "if cooling_system==True:\n",
    "    print(\"replace the cooling system\")\n",
    "    \n",
    "else:\n",
    "    print(\"sit back relax and do nothing\")"
   ]
  },
  {
   "cell_type": "markdown",
   "metadata": {},
   "source": [
    "#### 4. Find the average value of the temperature lists (ºC and ºF). What is the relation between both average values?"
   ]
  },
  {
   "cell_type": "code",
   "execution_count": 5,
   "metadata": {},
   "outputs": [
    {
     "name": "stdout",
     "output_type": "stream",
     "text": [
      "The relation between AVG of Celsius and Farenheit is 0.43\n"
     ]
    }
   ],
   "source": [
    "temp_C = [33, 66, 65, 62, 59, 60, 62, 64, 70, 76, 80, 81, 80, 83, 90, 79, 61, 53, 50, 49, 53, 48, 45, 39]\n",
    "temp_F =[91.4, 150.8, 149.0, 143.6, 138.2, 140.0, 143.6, 147.2, 158.0, 168.8, 176.0, 177.8, 176.0, 181.4, 194.0, 174.2,141.8, 127.4, 122.0, 120.2, 127.4, 118.4, 113.0, 102.2]\n",
    "\n",
    "AVG_C = sum(temp_C)/len(temp_C)\n",
    "AVG_F = sum(temp_F)/len(temp_F)\n",
    "\n",
    "relation_CF = AVG_C / AVG_F\n",
    "\n",
    "print(\"The relation between AVG of Celsius and Farenheit is\",str(round(relation_CF,2)))"
   ]
  },
  {
   "cell_type": "markdown",
   "metadata": {},
   "source": [
    "#### 5. Find the standard deviation of the temperature lists (ºC and ºF). What is the relation between both standard deviations?"
   ]
  },
  {
   "cell_type": "code",
   "execution_count": 7,
   "metadata": {},
   "outputs": [
    {
     "name": "stdout",
     "output_type": "stream",
     "text": [
      "The relation between Celsius and Farenheit standard deviations is  0.56\n"
     ]
    }
   ],
   "source": [
    "import math as m\n",
    "\n",
    "Temp_C = [33, 66, 65, 62.0, 59, 60, 62, 64, 70, 76, 80, 81, 80,83, 90, 79, 61, 53, 50, 49, 53, 48,45, 39]\n",
    "Temp_F = [91.4, 150.8, 149.0, 143.6, 138.2, 140.0, 143.6, 147.2, 158.0, 168.8, 176.0, 177.8, 176.0, 181.4, 194.0, 174.2,141.8, 127.4, 122.0, 120.2, 127.4, 118.4, 113.0, 102.2]\n",
    "\n",
    "AVG_Temp_C = sum (Temp_C)/ len (Temp_C)\n",
    "AVG_Temp_F = sum (Temp_F)/ len (Temp_F)\n",
    "\n",
    "relation_desv = 0\n",
    "d = 0\n",
    "desv_TempC = 0\n",
    "desv_TempF = 0\n",
    "\n",
    "for d in Temp_C:\n",
    "    desv_TempC = m.sqrt((d-AVG_Temp_C)**2/len(Temp_C))  \n",
    "\n",
    "for d in Temp_F:\n",
    "    desv_TempF = m.sqrt((d-AVG_Temp_F)**2/len(Temp_F))\n",
    "\n",
    "relation_desv = round(desv_TempC/desv_TempF,2)\n",
    "\n",
    "print (\"The relation between Celsius and Farenheit standard deviations is \",str(round(relation_desv,2)))"
   ]
  },
  {
   "cell_type": "code",
   "execution_count": null,
   "metadata": {},
   "outputs": [],
   "source": []
  }
 ],
 "metadata": {
  "kernelspec": {
   "display_name": "Python 3",
   "language": "python",
   "name": "python3"
  },
  "language_info": {
   "codemirror_mode": {
    "name": "ipython",
    "version": 3
   },
   "file_extension": ".py",
   "mimetype": "text/x-python",
   "name": "python",
   "nbconvert_exporter": "python",
   "pygments_lexer": "ipython3",
   "version": "3.7.6"
  }
 },
 "nbformat": 4,
 "nbformat_minor": 2
}
