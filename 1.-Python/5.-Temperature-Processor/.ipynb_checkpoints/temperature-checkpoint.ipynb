{
 "cells": [
  {
   "cell_type": "markdown",
   "metadata": {},
   "source": [
    "<img src=\"https://bit.ly/2VnXWr2\" width=\"100\" align=\"left\">"
   ]
  },
  {
   "cell_type": "markdown",
   "metadata": {},
   "source": [
    "# Temperature Sensor\n",
    "\n",
    "There is a temperature sensor in the processor of your company's server. The company wants to analyze the data provided by the sensor to decide if they should change the cooling system for a better one. As changing the cooling system is expensive and you are an excellent data analyst, you can't make a decision without basis.\n",
    "\n",
    "## Tools\n",
    "You don't necessarily need to use all the tools. Maybe you opt to use some of them or completely different ones, they are given to help you shape the exercise. Programming exercises can be solved in many different ways.\n",
    "1. Data structures: **lists**\n",
    "2. Loops: **list comprehension**\n",
    "3. Functions: **min, max, print, len**\n",
    "4. Conditional statements: **if-elif-else**\n",
    "\n",
    "## Tasks\n",
    "The temperatures measured throughout the 24 hours of a day are:"
   ]
  },
  {
   "cell_type": "code",
   "execution_count": 1,
   "metadata": {},
   "outputs": [],
   "source": [
    "temperatures_C = [33, 66, 65, 0, 59, 60, 62, 64, 70, 76, 80, 81, 80, 83, 90, 79, 61, 53, 50, 49, 53, 48, 45, 39]\n"
   ]
  },
  {
   "cell_type": "markdown",
   "metadata": {},
   "source": [
    "The first element of the list is the temperature at 12am, the second element is the temperature at 1am, and so on. \n",
    "\n",
    "The company has decided that if one of the following events occurs, then the cooling system needs to be replaced for a new one to avoid damaging the processor.\n",
    "* More than 4 temperatures are greater than or equal to 70ºC.\n",
    "* Any temperature is above 80ºC.\n",
    "* The average temperature exceeds 65ºC.\n",
    "\n",
    "Follow the steps so that you can make the decision.\n",
    "\n",
    "#### 1. Find the minimum temperature of the day and store it in a variable."
   ]
  },
  {
   "cell_type": "code",
   "execution_count": 2,
   "metadata": {},
   "outputs": [],
   "source": [
    "min_temp = min(temperatures_C)\n",
    "print(min_temp)"
   ]
  },
  {
   "cell_type": "markdown",
   "metadata": {},
   "source": [
    "#### 2. Find the maximum temperature of the day and store it in a variable."
   ]
  },
  {
   "cell_type": "code",
   "execution_count": 3,
   "metadata": {},
   "outputs": [
    {
     "name": "stdout",
     "output_type": "stream",
     "text": [
      "90\n"
     ]
    }
   ],
   "source": [
    "max_temp = max(temperatures_C)\n",
    "print(max_temp)"
   ]
  },
  {
   "cell_type": "markdown",
   "metadata": {},
   "source": [
    "#### 3. Create a list with the temperatures that are greater than or equal to 70ºC. Store it in a variable."
   ]
  },
  {
   "cell_type": "code",
   "execution_count": 4,
   "metadata": {},
   "outputs": [
    {
     "name": "stdout",
     "output_type": "stream",
     "text": [
      "[70, 76, 80, 81, 80, 83, 90, 79]\n"
     ]
    }
   ],
   "source": [
    "temp_higher70 = []\n",
    "\n",
    "for temp in temperatures_C:\n",
    "    if temp >= 70:\n",
    "        temp_higher70.append(temp)\n",
    "        \n",
    "print(temp_higher70)"
   ]
  },
  {
   "cell_type": "markdown",
   "metadata": {},
   "source": [
    "#### 4. Find the average temperature of the day and store it in a variable."
   ]
  },
  {
   "cell_type": "code",
   "execution_count": 5,
   "metadata": {},
   "outputs": [
    {
     "name": "stdout",
     "output_type": "stream",
     "text": [
      "60.25\n"
     ]
    }
   ],
   "source": [
    "avg_temp = sum(temperatures_C)/len(temperatures_C)\n",
    "\n",
    "print(avg_temp)"
   ]
  },
  {
   "cell_type": "markdown",
   "metadata": {},
   "source": [
    "#### 5. Imagine that there was a sensor failure at 3am and the data for that specific hour was not recorded. How would you estimate the missing value? Replace the current value of the list at 3am for an estimation. "
   ]
  },
  {
   "cell_type": "code",
   "execution_count": 6,
   "metadata": {},
   "outputs": [
    {
     "name": "stdout",
     "output_type": "stream",
     "text": [
      "Mean: 62.87 Standard Deviation: 14.947\n",
      "We have a 68.2% certain/probability that the real value is comprised within 47.922 >= x >= 77.817\n",
      "My Estimation for the temperature at 3am is: 62.1\n"
     ]
    }
   ],
   "source": [
    "#first I would remove bad data\n",
    "temperatures_C = [33, 66, 65, 59, 60, 62, 64, 70, 76, 80, 81, 80, 83, 90, 79, 61, 53, 50, 49, 53, 48, 45, 39]\n",
    "\n",
    "import numpy as np\n",
    "\n",
    "mean = np.mean(temperatures_C)\n",
    "std = np.std(temperatures_C)\n",
    "\n",
    "print(\"Mean:\", round(mean,3), \"Standard Deviation:\", round(std,3))\n",
    "\n",
    "upper_bound = mean + std\n",
    "lower_bound = mean - std\n",
    "\n",
    "#We have a 68.2% certain that the real value is comprised within  47.9 => x >= 77.8\n",
    "\n",
    "print(\"We have a 68.2% certain/probability that the real value is comprised within\", round(lower_bound,3), \">= x >=\", round(upper_bound,3))\n",
    "\n",
    "# In order to estimate, I will be using an weighted moving average where I consider the last 3 periods weightening (10%, 30%, 60%)\n",
    "\n",
    "weighted_ma = []\n",
    "latest_period = 0.6\n",
    "mid_period = 0.3\n",
    "last_period = 0.1\n",
    "temperatureit = []\n",
    "\n",
    "for temp in temperatures_C:\n",
    "    temperatureit.append(temp)\n",
    "    if len(temperatureit) >= 3:\n",
    "        weighted_ma.append(temperatureit[-1]*latest_period + temperatureit[-2]*mid_period + temperatureit[-3]*last_period)\n",
    "\n",
    "weighted_ma_rounded = [round(num, 2) for num in weighted_ma]\n",
    "\n",
    "\n",
    "print(\"My Estimation for the temperature at 3am is:\", weighted_ma_rounded[0])\n",
    "\n",
    "#replacement\n",
    "temperatures_C = [33, 66, 65, 0, 59, 60, 62, 64, 70, 76, 80, 81, 80, 83, 90, 79, 61, 53, 50, 49, 53, 48, 45, 39]\n",
    "temperatures_C[3] = round(weighted_ma_rounded[0])\n",
    "\n",
    "\n",
    "\n",
    "    "
   ]
  },
  {
   "cell_type": "markdown",
   "metadata": {},
   "source": [
    "#### 6. Bonus: the maintenance staff is from the United States and does not understand the international metric system. Help them by converting the temperatures from Celsius to Fahrenheit.\n",
    "To know more about temperature conversion check this [link](https://en.wikipedia.org/wiki/Conversion_of_units_of_temperature).\n",
    "\n",
    "**Formula**: \n",
    "\n",
    "$F = 1.8 * C + 32$"
   ]
  },
  {
   "cell_type": "code",
   "execution_count": 7,
   "metadata": {},
   "outputs": [
    {
     "name": "stdout",
     "output_type": "stream",
     "text": [
      "[91, 151, 149, 144, 138, 140, 144, 147, 158, 169, 176, 178, 176, 181, 194, 174, 142, 127, 122, 120, 127, 118, 113, 102]\n"
     ]
    }
   ],
   "source": [
    "temperatures_F = []\n",
    "for temp in temperatures_C:\n",
    "    temperatures_F.append(round(1.8 * temp + 32))\n",
    "print(temperatures_F)"
   ]
  },
  {
   "cell_type": "markdown",
   "metadata": {},
   "source": [
    "#### 7. Make a decision!\n",
    "Now it's time to make a decision taking into account what you have seen until now. \n",
    "\n",
    "Remember that if one of the following events occurs, then the cooling system needs to be replaced for a new one to avoid damaging the processor.\n",
    "* More than 4 temperatures are greater than or equal to 70ºC.\n",
    "* Any temperature is above 80ºC.\n",
    "* The average temperature exceeds 65ºC.\n",
    "\n",
    "#### To make your decision, check if any of the three conditions above is met. You might need to use some of the variables you created in steps 1 to 6. Print a message to show if the cooling system needs to be changed or not."
   ]
  },
  {
   "cell_type": "code",
   "execution_count": 8,
   "metadata": {},
   "outputs": [
    {
     "name": "stdout",
     "output_type": "stream",
     "text": [
      "The cooling system needs to be replaced!\n"
     ]
    }
   ],
   "source": [
    "daily_avg_temp = sum(temperatures_C)/len(temperatures_C)\n",
    "\n",
    "for temp in temperatures_C:\n",
    "    if (temp > 80) or (daily_avg_temp > 65) or len(temp_higher70) > 4:\n",
    "        print(\"The cooling system needs to be replaced!\")\n",
    "        break\n",
    "     \n",
    "    else:\n",
    "        print(\"The cooling system does not need to be replaced!\")"
   ]
  },
  {
   "cell_type": "markdown",
   "metadata": {},
   "source": [
    "## Bonus\n",
    "\n",
    "The company has decided that the decision you made is not valid. They want you to analyze the data again but this time, the conditions that need to be met in order to change the cooling system are different.\n",
    "\n",
    "This time, if one of the following events occurs, then the cooling system needs to be replaced:\n",
    "* The temperature is greater than 70ºC during more than 4 consecutive hours.\n",
    "* Any temperature is above 80ºC.\n",
    "* The average temperature exceeds 65ºC.\n",
    "\n",
    "Follow the steps so that you can make the decision.\n",
    "\n",
    "#### 1. Create a list with the hours where the temperature is greater than 70ºC. Store it in a variable."
   ]
  },
  {
   "cell_type": "code",
   "execution_count": 9,
   "metadata": {},
   "outputs": [
    {
     "name": "stdout",
     "output_type": "stream",
     "text": [
      "['9am', '10am', '11am', '12pm', '13pm', '14pm', '15pm']\n"
     ]
    }
   ],
   "source": [
    "import itertools\n",
    "\n",
    "hours = []\n",
    "hours_numbers = []\n",
    "\n",
    "for i in range(0,24):\n",
    "    if i < 12:\n",
    "        hours.append(str(i) + \"am\")\n",
    "        hours_numbers.append(i)\n",
    "    \n",
    "    elif i >= 12:\n",
    "        hours.append(str(i) + \"pm\")\n",
    "        hours_numbers.append(i)\n",
    "        \n",
    "\n",
    "hours_temphigh70 = []\n",
    "\n",
    "dict_hours_temp = dict(zip(hours, temperatures_C)) \n",
    "\n",
    "for hour, temp in dict_hours_temp.items():\n",
    "    if temp > 70:\n",
    "        hours_temphigh70.append(hour)\n",
    "\n",
    "print(hours_temphigh70)"
   ]
  },
  {
   "cell_type": "markdown",
   "metadata": {},
   "source": [
    "#### 2. Check if the list you created in step 1 has more than 4 consecutive hours. "
   ]
  },
  {
   "cell_type": "code",
   "execution_count": 10,
   "metadata": {},
   "outputs": [
    {
     "name": "stdout",
     "output_type": "stream",
     "text": [
      "It has more than 4 consecutive hours\n"
     ]
    }
   ],
   "source": [
    "dict_hours_temp_numb = dict(zip(hours_numbers, temperatures_C))\n",
    "\n",
    "hours_temphigh70_numb = []\n",
    "consec_hours = []\n",
    "\n",
    "for hour, temp in dict_hours_temp_numb.items():\n",
    "    if temp > 70:\n",
    "        hours_temphigh70_numb.append(hour)\n",
    "\n",
    "for H in hours_temphigh70_numb:\n",
    "    consec_hours.append(H)\n",
    "    if len(consec_hours) >=4:\n",
    "        if H == consec_hours[-2]+1 and H == consec_hours[-3]+2 and H == consec_hours[-4]+3:\n",
    "            print(\"It has more than 4 consecutive hours\")\n",
    "            break\n",
    "\n",
    "        else:\n",
    "            print(\"It does not have consecutive hours\")\n",
    "            break\n",
    "\n",
    "\n",
    "    \n"
   ]
  },
  {
   "cell_type": "markdown",
   "metadata": {},
   "source": [
    "#### 3. Make the decision!\n",
    "To make your decision, check if any of the three conditions is met. Print a message to show if the cooling system needs to be changed or not."
   ]
  },
  {
   "cell_type": "code",
   "execution_count": 11,
   "metadata": {},
   "outputs": [
    {
     "name": "stdout",
     "output_type": "stream",
     "text": [
      "[33, 66, 65, 62, 59, 60, 62, 64, 70, 76, 80, 81, 80, 83, 90, 79, 61, 53, 50, 49, 53, 48, 45, 39]\n",
      "The cooling system does not need to be replaced!\n",
      "The cooling system does not need to be replaced!\n",
      "The cooling system does not need to be replaced!\n",
      "The cooling system does not need to be replaced!\n",
      "The cooling system does not need to be replaced!\n",
      "The cooling system does not need to be replaced!\n",
      "The cooling system does not need to be replaced!\n",
      "The cooling system does not need to be replaced!\n",
      "The cooling system does not need to be replaced!\n",
      "The cooling system does not need to be replaced!\n",
      "The cooling system does not need to be replaced!\n",
      "The cooling system needs to be replaced!\n"
     ]
    }
   ],
   "source": [
    "daily_avg_temp = sum(temperatures_C)/len(temperatures_C)\n",
    "\n",
    "print(temperatures_C)\n",
    "\n",
    "symb_is_temp70 = []\n",
    "\n",
    "consecutive = True\n",
    "\n",
    "for temp in temperatures_C:\n",
    "    if temp > 70: \n",
    "        symb_is_temp70.append(\"Y\")\n",
    "    elif temp <= 70:\n",
    "        symb_is_temp70.append(\"N\")\n",
    "    if symb_is_temp70[-4:] == [\"Y\",\"Y\",\"Y\",\"Y\"]:\n",
    "        consecutive = True\n",
    "        \n",
    "    else:\n",
    "        consecutive = False\n",
    "        \n",
    "\n",
    "for temp in temperatures_C:\n",
    "    if (temp > 80) or (daily_avg_temp > 65) or consecutive == True:\n",
    "        print(\"The cooling system needs to be replaced!\")\n",
    "        break\n",
    "     \n",
    "    else:\n",
    "        print(\"The cooling system does not need to be replaced!\")"
   ]
  },
  {
   "cell_type": "markdown",
   "metadata": {},
   "source": [
    "#### 4. Find the average value of the temperature lists (ºC and ºF). What is the relation between both average values?"
   ]
  },
  {
   "cell_type": "code",
   "execution_count": 12,
   "metadata": {},
   "outputs": [
    {
     "name": "stdout",
     "output_type": "stream",
     "text": [
      "62.833333333333336\n",
      "145.04166666666666\n"
     ]
    },
    {
     "data": {
      "text/plain": [
       "False"
      ]
     },
     "execution_count": 12,
     "metadata": {},
     "output_type": "execute_result"
    }
   ],
   "source": [
    "avg_temp_C = sum(temperatures_C)/len(temperatures_C)\n",
    "print(avg_temp_C)\n",
    "\n",
    "avg_temp_F = sum(temperatures_F)/len(temperatures_F)\n",
    "print(avg_temp_F)\n",
    "\n",
    "#Both average values tells us the same thing, but in different metrics (Cº and F)\n",
    "\n",
    "\n",
    "    \n",
    "avg_temp_F == 1.8 * avg_temp_C + 32\n",
    "#Output = False, because it's an approximation and decimals don't match"
   ]
  },
  {
   "cell_type": "markdown",
   "metadata": {},
   "source": [
    "#### 5. Find the standard deviation of the temperature lists (ºC and ºF). What is the relation between both standard deviations?"
   ]
  },
  {
   "cell_type": "code",
   "execution_count": 13,
   "metadata": {},
   "outputs": [
    {
     "name": "stdout",
     "output_type": "stream",
     "text": [
      "14.633485192833897\n",
      "26.42202232776456\n"
     ]
    },
    {
     "data": {
      "text/plain": [
       "False"
      ]
     },
     "execution_count": 13,
     "metadata": {},
     "output_type": "execute_result"
    }
   ],
   "source": [
    "import numpy as np\n",
    "\n",
    "std_deviation_C = np.std(temperatures_C)\n",
    "std_deviation_F = np.std(temperatures_F)\n",
    "\n",
    "print(std_deviation_C)\n",
    "print(std_deviation_F)\n",
    "\n",
    "std_deviation_F == 1.8 * std_deviation_C + 32\n",
    "#Output = False, because it's an approximation and decimals don't match\n",
    "#Both standard deviations tells us the same thing, but in different metrics (Cº and F)"
   ]
  },
  {
   "cell_type": "code",
   "execution_count": null,
   "metadata": {},
   "outputs": [],
   "source": []
  }
 ],
 "metadata": {
  "kernelspec": {
   "display_name": "Python 3",
   "language": "python",
   "name": "python3"
  },
  "language_info": {
   "codemirror_mode": {
    "name": "ipython",
    "version": 3
   },
   "file_extension": ".py",
   "mimetype": "text/x-python",
   "name": "python",
   "nbconvert_exporter": "python",
   "pygments_lexer": "ipython3",
   "version": "3.7.4"
  }
 },
 "nbformat": 4,
 "nbformat_minor": 2
}
