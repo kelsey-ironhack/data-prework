{
 "cells": [
  {
   "cell_type": "markdown",
   "metadata": {},
   "source": [
    "<img src=\"https://bit.ly/2VnXWr2\" width=\"100\" align=\"left\">"
   ]
  },
  {
   "cell_type": "markdown",
   "metadata": {},
   "source": [
    "# Temperature Sensor\n",
    "\n",
    "There is a temperature sensor in the processor of your company's server. The company wants to analyze the data provided by the sensor to decide if they should change the cooling system for a better one. As changing the cooling system is expensive and you are an excellent data analyst, you can't make a decision without basis.\n",
    "\n",
    "## Tools\n",
    "You don't necessarily need to use all the tools. Maybe you opt to use some of them or completely different ones, they are given to help you shape the exercise. Programming exercises can be solved in many different ways.\n",
    "1. Data structures: **lists**\n",
    "2. Loops: **list comprehension**\n",
    "3. Functions: **min, max, print, len**\n",
    "4. Conditional statements: **if-elif-else**\n",
    "\n",
    "## Tasks\n",
    "The temperatures measured throughout the 24 hours of a day are:"
   ]
  },
  {
   "cell_type": "code",
   "execution_count": 3,
   "metadata": {},
   "outputs": [],
   "source": [
    "temperatures_C = [33, 66, 65, 0, 59, 60, 62, 64, 70, 76, 80, 81, 80, 83, 90, 79, 61, 53, 50, 49, 53, 48, 45, 39]"
   ]
  },
  {
   "cell_type": "markdown",
   "metadata": {},
   "source": [
    "The first element of the list is the temperature at 12am, the second element is the temperature at 1am, and so on. \n",
    "\n",
    "The company has decided that if one of the following events occurs, then the cooling system needs to be replaced for a new one to avoid damaging the processor.\n",
    "* More than 4 temperatures are greater than or equal to 70ºC.\n",
    "* Any temperature is above 80ºC.\n",
    "* The average temperature exceeds 65ºC.\n",
    "\n",
    "Follow the steps so that you can make the decision.\n",
    "\n",
    "#### 1. Find the minimum temperature of the day and store it in a variable."
   ]
  },
  {
   "cell_type": "code",
   "execution_count": 3,
   "metadata": {},
   "outputs": [
    {
     "name": "stdout",
     "output_type": "stream",
     "text": [
      "0\n"
     ]
    }
   ],
   "source": [
    "min_temp = min(temperatures_C)\n",
    "print(min_temp)"
   ]
  },
  {
   "cell_type": "markdown",
   "metadata": {},
   "source": [
    "#### 2. Find the maximum temperature of the day and store it in a variable."
   ]
  },
  {
   "cell_type": "code",
   "execution_count": 4,
   "metadata": {},
   "outputs": [
    {
     "name": "stdout",
     "output_type": "stream",
     "text": [
      "90\n"
     ]
    }
   ],
   "source": [
    "max_temp = max(temperatures_C)\n",
    "print(max_temp)"
   ]
  },
  {
   "cell_type": "markdown",
   "metadata": {},
   "source": [
    "#### 3. Create a list with the temperatures that are greater than or equal to 70ºC. Store it in a variable."
   ]
  },
  {
   "cell_type": "code",
   "execution_count": 5,
   "metadata": {},
   "outputs": [
    {
     "name": "stdout",
     "output_type": "stream",
     "text": [
      "[70, 76, 80, 81, 80, 83, 90, 79]\n"
     ]
    }
   ],
   "source": [
    "hot = []\n",
    "\n",
    "for temp in temperatures_C:\n",
    "    if temp >= 70:\n",
    "        hot.append(temp)\n",
    "\n",
    "print(hot)"
   ]
  },
  {
   "cell_type": "markdown",
   "metadata": {},
   "source": [
    "#### 4. Find the average temperature of the day and store it in a variable."
   ]
  },
  {
   "cell_type": "code",
   "execution_count": 6,
   "metadata": {},
   "outputs": [
    {
     "name": "stdout",
     "output_type": "stream",
     "text": [
      "60.25\n"
     ]
    }
   ],
   "source": [
    "avg_temp = sum(temperatures_C)/len(temperatures_C)\n",
    "print(avg_temp)"
   ]
  },
  {
   "cell_type": "markdown",
   "metadata": {},
   "source": [
    "#### 5. Imagine that there was a sensor failure at 3am and the data for that specific hour was not recorded. How would you estimate the missing value? Replace the current value of the list at 3am for an estimation. "
   ]
  },
  {
   "cell_type": "code",
   "execution_count": 30,
   "metadata": {},
   "outputs": [
    {
     "name": "stdout",
     "output_type": "stream",
     "text": [
      "Sensor failure detected!\n",
      "[33, 66, 65, 62, 59, 60, 62, 64, 70, 76, 80, 81, 80, 83, 90, 79, 61, 53, 50, 49, 53, 48, 45, 39]\n"
     ]
    }
   ],
   "source": [
    "temperatures_C = [33, 66, 65, 0, 59, 60, 62, 64, 70, 76, 80, 81, 80, 83, 90, 79, 61, 53, 50, 49, 53, 48, 45, 39]\n",
    "\n",
    "for temp in temperatures_C:\n",
    "    if temp <= 0:\n",
    "        \n",
    "        fail_temp_index = temperatures_C.index(temp)\n",
    "        \n",
    "        previous_index = (fail_temp_index - 1)\n",
    "       \n",
    "        next_index = (fail_temp_index + 1)\n",
    "       \n",
    "        previous_temp = temperatures_C[previous_index]\n",
    "        \n",
    "        next_temp = temperatures_C[next_index]\n",
    "        \n",
    "        correct_temp = (previous_temp + next_temp)/2\n",
    "        \n",
    "        temperatures_C[fail_temp_index] = int(correct_temp)\n",
    "        \n",
    "        print(temperatures_C)\n",
    "       \n",
    "        \n",
    "\n"
   ]
  },
  {
   "cell_type": "markdown",
   "metadata": {},
   "source": [
    "# 6. Bonus: the maintenance staff is from the United States and does not understand the international metric system. Help them by converting the temperatures from Celsius to Fahrenheit.\n",
    "To know more about temperature conversion check this [link](https://en.wikipedia.org/wiki/Conversion_of_units_of_temperature).\n",
    "\n",
    "**Formula**: \n",
    "\n",
    "$F = 1.8 * C + 32$"
   ]
  },
  {
   "cell_type": "code",
   "execution_count": 13,
   "metadata": {},
   "outputs": [
    {
     "name": "stdout",
     "output_type": "stream",
     "text": [
      "[91.4, 150.8, 149.0, 32.0, 138.2, 140.0, 143.60000000000002, 147.2, 158.0, 168.8, 176.0, 177.8, 176.0, 181.4, 194.0, 174.20000000000002, 141.8, 127.4, 122.0, 120.2, 127.4, 118.4, 113.0, 102.2]\n"
     ]
    }
   ],
   "source": [
    "temperatures_F = []\n",
    "\n",
    "for temp in temperatures_C:\n",
    "    temperatures_F.append((1.8 * temp) + 32)\n",
    "\n",
    "print(temperatures_F)"
   ]
  },
  {
   "cell_type": "markdown",
   "metadata": {},
   "source": [
    "#### 7. Make a decision!\n",
    "Now it's time to make a decision taking into account what you have seen until now. \n",
    "\n",
    "Remember that if one of the following events occurs, then the cooling system needs to be replaced for a new one to avoid damaging the processor.\n",
    "* More than 4 temperatures are greater than or equal to 70ºC.\n",
    "* Any temperature is above 80ºC.\n",
    "* The average temperature exceeds 65ºC.\n",
    "\n",
    "#### To make your decision, check if any of the three conditions above is met. You might need to use some of the variables you created in steps 1 to 6. Print a message to show if the cooling system needs to be changed or not."
   ]
  },
  {
   "cell_type": "code",
   "execution_count": 10,
   "metadata": {},
   "outputs": [
    {
     "name": "stdout",
     "output_type": "stream",
     "text": [
      "Cooling system needs to be replaced because:\n",
      "\n",
      "temperature is above 80 C!\n",
      "temperature exceeded 70 C for 7 hours in a day\n"
     ]
    }
   ],
   "source": [
    "high_temp = 0\n",
    "avg_temp = sum(temperatures_C)/len(temperatures_C)\n",
    "replacement = 0\n",
    "replace_high_avg = \"\"\n",
    "replace_high_temp = \"\"\n",
    "replace_consecutive = \"\"\n",
    "\n",
    "if avg_temp > 65:\n",
    "        replace_high_avg = (f\"average temperature is above {avg_temperature}!\")\n",
    "        replacement += 1\n",
    "        \n",
    "for temp in temperatures_C:\n",
    "       \n",
    "    if temp > 80:\n",
    "        replace_high_temp = (\"temperature is above 80 C!\")\n",
    "        replacement +=1\n",
    "            \n",
    "    if temp > 70:\n",
    "        high_temp += 1\n",
    "        replacement += 1\n",
    "        \n",
    "                        \n",
    "if high_temp > 4:\n",
    "    replace_consecutive = (f\"temperature exceeded 70 C for {high_temp} hours in a day\")\n",
    "\n",
    "if replacement != 0:\n",
    "    print(f\"Cooling system needs to be replaced because:\\n{replace_high_avg}\\n{replace_high_temp}\\n{replace_consecutive}\")\n",
    "\n",
    "if replacement == 0:\n",
    "    print(\"There's no need to replace cooling system\")\n",
    "\n",
    "\n",
    "    "
   ]
  },
  {
   "cell_type": "markdown",
   "metadata": {},
   "source": [
    "## Bonus\n",
    "\n",
    "The company has decided that the decision you made is not valid. They want you to analyze the data again but this time, the conditions that need to be met in order to change the cooling system are different.\n",
    "\n",
    "This time, if one of the following events occurs, then the cooling system needs to be replaced:\n",
    "* The temperature is greater than 70ºC during more than 4 consecutive hours.\n",
    "* Any temperature is above 80ºC.\n",
    "* The average temperature exceeds 65ºC.\n",
    "\n",
    "Follow the steps so that you can make the decision.\n",
    "\n",
    "#### 1. Create a list with the hours where the temperature is greater than 70ºC. Store it in a variable."
   ]
  },
  {
   "cell_type": "code",
   "execution_count": 11,
   "metadata": {},
   "outputs": [
    {
     "name": "stdout",
     "output_type": "stream",
     "text": [
      "[9, 10, 11, 12, 13, 14, 15]\n"
     ]
    }
   ],
   "source": [
    "hours_high_temp = []\n",
    "time = 0\n",
    "\n",
    "for x in temperatures_C:\n",
    "    if x > 70:\n",
    "        hours_high_temp.append(time)\n",
    "    time += 1\n",
    "print(hours_high_temp)\n",
    "    "
   ]
  },
  {
   "cell_type": "markdown",
   "metadata": {},
   "source": [
    "#### 2. Check if the list you created in step 1 has more than 4 consecutive hours. "
   ]
  },
  {
   "cell_type": "code",
   "execution_count": 15,
   "metadata": {},
   "outputs": [
    {
     "name": "stdout",
     "output_type": "stream",
     "text": [
      "List currently have 7 consecutive hours\n"
     ]
    }
   ],
   "source": [
    "hours_high_temp = []\n",
    "time = 0\n",
    "\n",
    "for x in temperatures_C:\n",
    "    if x > 70:\n",
    "        hours_high_temp.append(time)\n",
    "    time += 1\n",
    "\n",
    "consecutive = 1\n",
    "last = 0\n",
    "for hour in hours_high_temp:\n",
    "    if hours_high_temp.index(hour) > 0:\n",
    "        if hour -1 == last:\n",
    "            consecutive +=1\n",
    "\n",
    "    last = hour\n",
    "\n",
    "print(f\"List currently have {consecutive} consecutive hours\")\n",
    "    \n",
    "\n",
    "    "
   ]
  },
  {
   "cell_type": "markdown",
   "metadata": {},
   "source": [
    "#### 3. Make the decision!\n",
    "To make your decision, check if any of the three conditions is met. Print a message to show if the cooling system needs to be changed or not."
   ]
  },
  {
   "cell_type": "code",
   "execution_count": 16,
   "metadata": {},
   "outputs": [
    {
     "name": "stdout",
     "output_type": "stream",
     "text": [
      "Cooling system needs to be replaced because:\n",
      "\n",
      "temperature is above 80 C!\n",
      "temperature exceeded 70 C for 7 consecutive hours in a day\n"
     ]
    }
   ],
   "source": [
    "high_temp = 0\n",
    "avg_temp = sum(temperatures_C)/len(temperatures_C)\n",
    "replacement = 0\n",
    "replace_high_avg = \"\"\n",
    "replace_high_temp = \"\"\n",
    "replace_consecutive = \"\"\n",
    "hours_high_temp = []\n",
    "time = 0\n",
    "consecutive = 1\n",
    "last = 0\n",
    "\n",
    "if avg_temp > 65:\n",
    "        replace_high_avg = (f\"average temperature is above {avg_temperature}!\")\n",
    "        replacement += 1\n",
    "        \n",
    "for temp in temperatures_C:\n",
    "       \n",
    "    if temp > 80:\n",
    "        replace_high_temp = (\"temperature is above 80 C!\")\n",
    "        replacement +=1\n",
    "            \n",
    "for x in temperatures_C:\n",
    "    if x > 70:\n",
    "        hours_high_temp.append(time)\n",
    "    time += 1\n",
    "\n",
    "consecutive = 1\n",
    "last = 0\n",
    "for hour in hours_high_temp:\n",
    "    if hours_high_temp.index(hour) > 0:\n",
    "        if hour -1 == last:\n",
    "            consecutive +=1\n",
    "\n",
    "    last = hour\n",
    "        \n",
    "                        \n",
    "if consecutive > 4:\n",
    "    replace_consecutive = (f\"temperature exceeded 70 C for {consecutive} consecutive hours in a day\")\n",
    "\n",
    "if replacement != 0:\n",
    "    print(f\"Cooling system needs to be replaced because:\\n{replace_high_avg}\\n{replace_high_temp}\\n{replace_consecutive}\")\n",
    "\n",
    "if replacement == 0:\n",
    "    print(\"There's no need to replace cooling system\")"
   ]
  },
  {
   "cell_type": "markdown",
   "metadata": {},
   "source": [
    "#### 4. Find the average value of the temperature lists (ºC and ºF). What is the relation between both average values?"
   ]
  },
  {
   "cell_type": "code",
   "execution_count": 17,
   "metadata": {},
   "outputs": [
    {
     "name": "stdout",
     "output_type": "stream",
     "text": [
      "Average C temperature is 60.25\n",
      "Average F temperature is 140.45\n",
      "2.331120331950207\n"
     ]
    }
   ],
   "source": [
    "avg_temp_C = sum(temperatures_C)/len(temperatures_C)\n",
    "\n",
    "avg_temp_F = sum(temperatures_F)/len(temperatures_F)\n",
    "\n",
    "print(f\"Average C temperature is {avg_temp_C}\\nAverage F temperature is {avg_temp_F}\")\n",
    "\n",
    "relation = avg_temp_F / avg_temp_C\n",
    "\n",
    "print(relation)"
   ]
  },
  {
   "cell_type": "markdown",
   "metadata": {},
   "source": [
    "#### 5. Find the standard deviation of the temperature lists (ºC and ºF). What is the relation between both standard deviations?"
   ]
  },
  {
   "cell_type": "code",
   "execution_count": 26,
   "metadata": {},
   "outputs": [
    {
     "name": "stdout",
     "output_type": "stream",
     "text": [
      "Celsius Temperatures Variance is: 371.9375\n",
      "Celsius Temperatures Standard deviation is: 19.285681216902866\n",
      "\n",
      "Farenheit Temperatures Variance is: 1205.0774999999999\n",
      "Farenheit Temperatures Standard deviation is: 34.71422619042516\n",
      "\n",
      "The relation between both standar deviations is 1.8\n"
     ]
    }
   ],
   "source": [
    "sqr_dev_mean_C = []\n",
    "sqr_dev_mean_F = []\n",
    "std_dev_C = 0\n",
    "std_dev_F = 0\n",
    "\n",
    "for x in temperatures_C:\n",
    "    y = (x - avg_temp_C)**2\n",
    "    sqr_dev_mean_C.append(y)\n",
    "    ic = sum(sqr_dev_mean_C)\n",
    "    nc = len(sqr_dev_mean_C)\n",
    "    variance_C = ic / nc\n",
    "    std_dev_C = variance_C**(.5)\n",
    "print(f\"Celsius Temperatures Variance is: {variance_C}\\nCelsius Temperatures Standard deviation is: {std_dev_C}\\n\")\n",
    "\n",
    "for x in temperatures_F:\n",
    "    y = (x - avg_temp_F)**2\n",
    "    sqr_dev_mean_F.append(y)\n",
    "    iF = sum(sqr_dev_mean_F)\n",
    "    nf = len(sqr_dev_mean_F)\n",
    "    variance_F = iF / nf\n",
    "    std_dev_F = variance_F**(.5)\n",
    "print(f\"Farenheit Temperatures Variance is: {variance_F}\\nFarenheit Temperatures Standard deviation is: {std_dev_F}\\n\")\n",
    "\n",
    "relation_f_c = std_dev_F / std_dev_C\n",
    "\n",
    "print(f\"The relation between both standar deviations is {relation_f_c}\")"
   ]
  },
  {
   "cell_type": "code",
   "execution_count": null,
   "metadata": {},
   "outputs": [],
   "source": []
  }
 ],
 "metadata": {
  "kernelspec": {
   "display_name": "Python 3 (ipykernel)",
   "language": "python",
   "name": "python3"
  },
  "language_info": {
   "codemirror_mode": {
    "name": "ipython",
    "version": 3
   },
   "file_extension": ".py",
   "mimetype": "text/x-python",
   "name": "python",
   "nbconvert_exporter": "python",
   "pygments_lexer": "ipython3",
   "version": "3.9.7"
  }
 },
 "nbformat": 4,
 "nbformat_minor": 2
}
