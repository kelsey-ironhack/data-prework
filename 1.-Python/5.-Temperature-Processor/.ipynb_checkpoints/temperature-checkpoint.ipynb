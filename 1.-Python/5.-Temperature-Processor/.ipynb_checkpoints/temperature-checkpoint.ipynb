{
 "cells": [
  {
   "cell_type": "markdown",
   "metadata": {},
   "source": [
    "<img src=\"https://bit.ly/2VnXWr2\" width=\"100\" align=\"left\">"
   ]
  },
  {
   "cell_type": "markdown",
   "metadata": {},
   "source": [
    "# Temperature Sensor\n",
    "\n",
    "There is a temperature sensor in the processor of your company's server. The company wants to analyze the data provided by the sensor to decide if they should change the cooling system for a better one. As changing the cooling system is expensive and you are an excellent data analyst, you can't make a decision without basis.\n",
    "\n",
    "## Tools\n",
    "You don't necessarily need to use all the tools. Maybe you opt to use some of them or completely different ones, they are given to help you shape the exercise. Programming exercises can be solved in many different ways.\n",
    "1. Data structures: **lists**\n",
    "2. Loops: **list comprehension**\n",
    "3. Functions: **min, max, print, len**\n",
    "4. Conditional statements: **if-elif-else**\n",
    "\n",
    "## Tasks\n",
    "The temperatures measured throughout the 24 hours of a day are:"
   ]
  },
  {
   "cell_type": "code",
   "execution_count": 124,
   "metadata": {},
   "outputs": [],
   "source": [
    "temperatures_C = [33, 66, 65, 0, 59, 60, 62, 64, 70, 76, 80, 81, 80, 83, 90, 79, 61, 53, 50, 49, 53, 48, 45, 39]"
   ]
  },
  {
   "cell_type": "markdown",
   "metadata": {},
   "source": [
    "The first element of the list is the temperature at 12am, the second element is the temperature at 1am, and so on. \n",
    "\n",
    "The company has decided that if one of the following events occurs, then the cooling system needs to be replaced for a new one to avoid damaging the processor.\n",
    "* More than 4 temperatures are greater than or equal to 70ºC.\n",
    "* Any temperature is above 80ºC.\n",
    "* The average temperature exceeds 65ºC.\n",
    "\n",
    "Follow the steps so that you can make the decision.\n",
    "\n",
    "#### 1. Find the minimum temperature of the day and store it in a variable."
   ]
  },
  {
   "cell_type": "code",
   "execution_count": 125,
   "metadata": {},
   "outputs": [
    {
     "name": "stdout",
     "output_type": "stream",
     "text": [
      "[(0, 33), (1, 66), (2, 65), (3, 0), (4, 59), (5, 60), (6, 62), (7, 64), (8, 70), (9, 76), (10, 80), (11, 81), (12, 80), (13, 83), (14, 90), (15, 79), (16, 61), (17, 53), (18, 50), (19, 49), (20, 53), (21, 48), (22, 45), (23, 39)]\n",
      "The minimum temperature of the day is: 0\n"
     ]
    }
   ],
   "source": [
    "times_i=[]\n",
    "temp_70=[]\n",
    "i=0\n",
    "\n",
    "\n",
    "for i in range (0,len(temperatures_C)):\n",
    "  times_i.append(i)\n",
    "\n",
    "th=list(zip(times_i,temperatures_C))\n",
    "\n",
    "temp_min=min(temperatures_C)\n",
    "temp_max=max(temperatures_C)\n",
    "\n",
    "print(th)\n",
    "print(\"The minimum temperature of the day is:\", temp_min)"
   ]
  },
  {
   "cell_type": "markdown",
   "metadata": {},
   "source": [
    "#### 2. Find the maximum temperature of the day and store it in a variable."
   ]
  },
  {
   "cell_type": "code",
   "execution_count": 126,
   "metadata": {},
   "outputs": [
    {
     "name": "stdout",
     "output_type": "stream",
     "text": [
      "The maximum temperature of the day is: 90\n"
     ]
    }
   ],
   "source": [
    "print(\"The maximum temperature of the day is:\", temp_max)"
   ]
  },
  {
   "cell_type": "markdown",
   "metadata": {},
   "source": [
    "#### 3. Create a list with the temperatures that are greater than or equal to 70ºC. Store it in a variable."
   ]
  },
  {
   "cell_type": "code",
   "execution_count": 127,
   "metadata": {},
   "outputs": [
    {
     "name": "stdout",
     "output_type": "stream",
     "text": [
      "The temperatures greater than 70, are: [76, 80, 81, 80, 83, 90, 79]\n"
     ]
    }
   ],
   "source": [
    "\n",
    "temp_70=[x for x in temperatures_C if x>70]\n",
    "    \n",
    "print (\"The temperatures greater than 70, are:\", temp_70)"
   ]
  },
  {
   "cell_type": "markdown",
   "metadata": {},
   "source": [
    "#### 4. Find the average temperature of the day and store it in a variable."
   ]
  },
  {
   "cell_type": "code",
   "execution_count": 128,
   "metadata": {},
   "outputs": [
    {
     "name": "stdout",
     "output_type": "stream",
     "text": [
      "The average temperature is: 60.25\n"
     ]
    }
   ],
   "source": [
    "avg_temp=sum(temperatures_C)/len(temperatures_C)\n",
    "\n",
    "\n",
    "print(\"The average temperature is:\", avg_temp)"
   ]
  },
  {
   "cell_type": "markdown",
   "metadata": {},
   "source": [
    "#### 5. Imagine that there was a sensor failure at 3am and the data for that specific hour was not recorded. How would you estimate the missing value? Replace the current value of the list at 3am for an estimation. "
   ]
  },
  {
   "cell_type": "code",
   "execution_count": 129,
   "metadata": {
    "scrolled": true
   },
   "outputs": [
    {
     "name": "stdout",
     "output_type": "stream",
     "text": [
      "By using the linear regression:\n",
      "\n",
      "\n",
      "\n",
      "The M value is: -0.49263634892377406\n",
      "The V value is: 68.71694448939958\n",
      "The temperature mathematical function is: y= -0.49263634892377406 x + 68.71694448939958\n",
      "\n",
      "\n",
      "\n",
      "\n",
      "Now we assign the value x=3 and we get y=: 67.23903544262826\n",
      "THe stimated value o temperature for 3 am is: 67.24 C\n"
     ]
    }
   ],
   "source": [
    "print(\"By using the linear regression:\")\n",
    "print(\"\")\n",
    "print(\"\")\n",
    "print(\"\")\n",
    "\n",
    "xhour=[0, 1, 2, 4, 5, 6, 7, 8, 9, 10, 11, 12, 13, 14, 15, 16, 17, 18, 19, 20, 21, 22, 23]\n",
    "\n",
    "ytemp= [33, 66, 65, 59, 60, 62, 64, 70, 76, 80, 81, 80, 83, 90, 79, 61, 53, 50, 49, 53, 48, 45, 39]\n",
    "\n",
    "XY=[]\n",
    "XSQ=[]\n",
    "\n",
    "\n",
    "for num1, num2 in zip(xhour, ytemp):\n",
    "    XY.append(num1 * num2)\n",
    "\n",
    "for i in xhour:\n",
    "    XSQ.append(i**2)\n",
    "\n",
    "    \n",
    "sumxy=sum(XY)\n",
    "sumxh=sum(xhour)\n",
    "sumyt=sum(ytemp)\n",
    "sumxsq=sum(XSQ)\n",
    "\n",
    "\n",
    "m=((len(xhour)*sumxy)-(sumxh*sumyt))/((len(xhour)*sumxsq)-((sumxh**2)))\n",
    "\n",
    "b=(sumyt-(m*sumxh))/(len(ytemp))\n",
    "\n",
    "print(\"The M value is:\",m)\n",
    "print(\"The V value is:\",b)\n",
    "print(\"The temperature mathematical function is: y=\",m,\"x +\",b)\n",
    "print(\"\")\n",
    "print(\"\")\n",
    "print(\"\")\n",
    "print(\"\")\n",
    "\n",
    "y3=(-0.49263634892377406*3) + 68.71694448939958\n",
    "print(\"Now we assign the value x=3 and we get y=:\", y3)\n",
    "\n",
    "y3r=round(y3, 2)\n",
    "\n",
    "print(\"THe stimated value o temperature for 3 am is:\", y3r,\"C\")\n"
   ]
  },
  {
   "cell_type": "code",
   "execution_count": null,
   "metadata": {},
   "outputs": [],
   "source": [
    "\n",
    "                                      \n"
   ]
  },
  {
   "cell_type": "markdown",
   "metadata": {},
   "source": [
    "#### 6. Bonus: the maintenance staff is from the United States and does not understand the international metric system. Help them by converting the temperatures from Celsius to Fahrenheit.\n",
    "To know more about temperature conversion check this [link](https://en.wikipedia.org/wiki/Conversion_of_units_of_temperature).\n",
    "\n",
    "**Formula**: \n",
    "\n",
    "$F = 1.8 * C + 32$"
   ]
  },
  {
   "cell_type": "code",
   "execution_count": 130,
   "metadata": {},
   "outputs": [
    {
     "name": "stdout",
     "output_type": "stream",
     "text": [
      "The values in Farenheit are: [62.4, 121.8, 120.0, 3.0, 109.2, 111.0, 114.6, 118.2, 129.0, 139.8, 147.0, 148.8, 147.0, 152.4, 165.0, 145.2, 112.8, 98.4, 93.0, 91.2, 98.4, 89.4, 84.0, 73.2]\n"
     ]
    }
   ],
   "source": [
    "F=[]\n",
    "fr=0\n",
    "\n",
    "for i in temperatures_C:\n",
    "    fr=round(((1.8*i)+3),2)\n",
    "    F.append(fr)\n",
    "    \n",
    "    \n",
    "print(\"The values in Farenheit are:\", F)"
   ]
  },
  {
   "cell_type": "markdown",
   "metadata": {},
   "source": [
    "#### 7. Make a decision!\n",
    "Now it's time to make a decision taking into account what you have seen until now. \n",
    "\n",
    "Remember that if one of the following events occurs, then the cooling system needs to be replaced for a new one to avoid damaging the processor.\n",
    "* More than 4 temperatures are greater than or equal to 70ºC.\n",
    "* Any temperature is above 80ºC.\n",
    "* The average temperature exceeds 65ºC.\n",
    "\n",
    "#### To make your decision, check if any of the three conditions above is met. You might need to use some of the variables you created in steps 1 to 6. Print a message to show if the cooling system needs to be changed or not."
   ]
  },
  {
   "cell_type": "code",
   "execution_count": 131,
   "metadata": {
    "scrolled": true
   },
   "outputs": [
    {
     "name": "stdout",
     "output_type": "stream",
     "text": [
      "There is not maintenance required because there are more than four hours reporting temperature above 70ºC\n",
      "\n",
      "\n",
      "Maintenance requires: There ais not maintenance required because there is a temperature above 80ºC\n",
      "\n",
      "\n",
      "There is not maintenance required because the average temperature is lower tan 65 ºC\n"
     ]
    }
   ],
   "source": [
    "t70=0\n",
    "t80=0\n",
    "for x in temperatures_C:\n",
    "    if t70>=4:\n",
    "        if(x>70):\n",
    "            t70+=1\n",
    "            print(\"Maintenance requires: There are more than 4 hours reporting temperatures above 70\")\n",
    "print(\"There is not maintenance required because there are more than four hours reporting temperature above 70ºC\")\n",
    "print(\"\")\n",
    "print(\"\")\n",
    "\n",
    "for x in temperatures_C:\n",
    "    if t80>=1:\n",
    "        if(x>80):\n",
    "            t80+=1\n",
    "            print(\"The\",x,\"hour reports a temperature above 80ºC\")\n",
    "            \n",
    "print(\"Maintenance requires: There ais not maintenance required because there is a temperature above 80ºC\")            \n",
    "print(\"\")\n",
    "print(\"\")            \n",
    "\n",
    "\n",
    "\n",
    "if avg_temp>65:\n",
    "    print(\"Maintenance requires: The average temperature is more than 65 ºC\")\n",
    "else:\n",
    "    print(\"There is not maintenance required because the average temperature is lower tan 65 ºC\")\n",
    "            "
   ]
  },
  {
   "cell_type": "markdown",
   "metadata": {},
   "source": [
    "## Bonus\n",
    "\n",
    "The company has decided that the decision you made is not valid. They want you to analyze the data again but this time, the conditions that need to be met in order to change the cooling system are different.\n",
    "\n",
    "This time, if one of the following events occurs, then the cooling system needs to be replaced:\n",
    "* The temperature is greater than 70ºC during more than 4 consecutive hours.\n",
    "* Any temperature is above 80ºC.\n",
    "* The average temperature exceeds 65ºC.\n",
    "\n",
    "Follow the steps so that you can make the decision.\n",
    "\n",
    "#### 1. Create a list with the hours where the temperature is greater than 70ºC. Store it in a variable."
   ]
  },
  {
   "cell_type": "code",
   "execution_count": 132,
   "metadata": {},
   "outputs": [
    {
     "name": "stdout",
     "output_type": "stream",
     "text": [
      "The temperatures warmer than 70, are: [[9, 76], [10, 80], [11, 81], [12, 80], [13, 83], [14, 90], [15, 79]]\n",
      "7\n"
     ]
    }
   ],
   "source": [
    "th70=[]\n",
    "\n",
    "for i,x in th:\n",
    "    if x>70:\n",
    "        th70.append([i,x])\n",
    "    \n",
    "\n",
    "print (\"The temperatures warmer than 70, are:\", th70)\n",
    "print(len(th70))"
   ]
  },
  {
   "cell_type": "markdown",
   "metadata": {},
   "source": [
    "#### 2. Check if the list you created in step 1 has more than 4 consecutive hours. "
   ]
  },
  {
   "cell_type": "code",
   "execution_count": 133,
   "metadata": {},
   "outputs": [
    {
     "name": "stdout",
     "output_type": "stream",
     "text": [
      "The temperature at 9 is more than 70ºC\n",
      "1\n",
      "The temperature at 10 is more than 70ºC\n",
      "2\n",
      "The temperature at 11 is more than 70ºC\n",
      "3\n",
      "The temperature at 12 is more than 70ºC\n",
      "4\n"
     ]
    }
   ],
   "source": [
    "hr=0\n",
    "hr2=0\n",
    "cont=0\n",
    "\n",
    "for x,y in th70:\n",
    "    if cont<=3:    \n",
    "        if x==hr2+1 or x==9:\n",
    "            print(\"The temperature at\",x,\"is more than 70ºC\")\n",
    "            hr2=x\n",
    "            cont+=1\n",
    "            print(cont)\n",
    "        else:\n",
    "            cont=0\n",
    "    else:\n",
    "        if cont==3:\n",
    "            print(cont)\n",
    "            print(\"There are more than 4 hours consecutives with temperatures above 70ºC\")\n"
   ]
  },
  {
   "cell_type": "markdown",
   "metadata": {},
   "source": [
    "#### 3. Make the decision!\n",
    "To make your decision, check if any of the three conditions is met. Print a message to show if the cooling system needs to be changed or not."
   ]
  },
  {
   "cell_type": "code",
   "execution_count": 143,
   "metadata": {},
   "outputs": [
    {
     "name": "stdout",
     "output_type": "stream",
     "text": [
      "The average in Farenheit is: 111.44999999999999\n",
      "The average in Celsius is: 60.25\n"
     ]
    }
   ],
   "source": [
    "\n"
   ]
  },
  {
   "cell_type": "markdown",
   "metadata": {},
   "source": [
    "#### 4. Find the average value of the temperature lists (ºC and ºF). What is the relation between both average values?"
   ]
  },
  {
   "cell_type": "code",
   "execution_count": null,
   "metadata": {},
   "outputs": [],
   "source": [
    "fav = sum(F)/len(F)\n",
    "\n",
    "print(\"The average in Farenheit is:\", fav)\n",
    "print(\"The average in Celsius is:\", avg_temp )\n",
    "\n"
   ]
  },
  {
   "cell_type": "markdown",
   "metadata": {},
   "source": [
    "#### 5. Find the standard deviation of the temperature lists (ºC and ºF). What is the relation between both standard deviations?"
   ]
  },
  {
   "cell_type": "code",
   "execution_count": 144,
   "metadata": {},
   "outputs": [
    {
     "name": "stdout",
     "output_type": "stream",
     "text": [
      "The standard deviation of Farenheit is 35.46085410580297\n",
      "The standard deviation of Celsius is 15.283099244905932\n"
     ]
    }
   ],
   "source": [
    "import statistics as st\n",
    "\n",
    "print(\"The standard deviation of Farenheit is\",st.stdev(F))\n",
    "print(\"The standard deviation of Celsius is\",st.stdev(ytemp))"
   ]
  },
  {
   "cell_type": "code",
   "execution_count": null,
   "metadata": {},
   "outputs": [],
   "source": []
  }
 ],
 "metadata": {
  "kernelspec": {
   "display_name": "Python 3",
   "language": "python",
   "name": "python3"
  },
  "language_info": {
   "codemirror_mode": {
    "name": "ipython",
    "version": 3
   },
   "file_extension": ".py",
   "mimetype": "text/x-python",
   "name": "python",
   "nbconvert_exporter": "python",
   "pygments_lexer": "ipython3",
   "version": "3.9.2"
  }
 },
 "nbformat": 4,
 "nbformat_minor": 2
}
