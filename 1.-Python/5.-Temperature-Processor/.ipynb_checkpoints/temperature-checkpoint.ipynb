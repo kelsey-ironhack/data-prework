{
 "cells": [
  {
   "cell_type": "markdown",
   "metadata": {},
   "source": [
    "<img src=\"https://bit.ly/2VnXWr2\" width=\"100\" align=\"left\">"
   ]
  },
  {
   "cell_type": "markdown",
   "metadata": {},
   "source": [
    "# Temperature Sensor\n",
    "\n",
    "There is a temperature sensor in the processor of your company's server. The company wants to analyze the data provided by the sensor to decide if they should change the cooling system for a better one. As changing the cooling system is expensive and you are an excellent data analyst, you can't make a decision without basis.\n",
    "\n",
    "## Tools\n",
    "You don't necessarily need to use all the tools. Maybe you opt to use some of them or completely different ones, they are given to help you shape the exercise. Programming exercises can be solved in many different ways.\n",
    "1. Data structures: **lists**\n",
    "2. Loops: **list comprehension**\n",
    "3. Functions: **min, max, print, len**\n",
    "4. Conditional statements: **if-elif-else**\n",
    "\n",
    "## Tasks\n",
    "The temperatures measured throughout the 24 hours of a day are:"
   ]
  },
  {
   "cell_type": "code",
   "execution_count": 1,
   "metadata": {},
   "outputs": [],
   "source": [
    "temperatures_C = [33, 66, 65, 0, 59, 60, 62, 64, 70, 76, 80, 81, 80, 83, 90, 79, 61, 53, 50, 49, 53, 48, 45, 39]"
   ]
  },
  {
   "cell_type": "markdown",
   "metadata": {},
   "source": [
    "The first element of the list is the temperature at 12am, the second element is the temperature at 1am, and so on. \n",
    "\n",
    "The company has decided that if one of the following events occurs, then the cooling system needs to be replaced for a new one to avoid damaging the processor.\n",
    "* More than 4 temperatures are greater than or equal to 70ºC.\n",
    "* Any temperature is above 80ºC.\n",
    "* The average temperature exceeds 65ºC.\n",
    "\n",
    "Follow the steps so that you can make the decision.\n",
    "\n",
    "#### 1. Find the minimum temperature of the day and store it in a variable."
   ]
  },
  {
   "cell_type": "code",
   "execution_count": 2,
   "metadata": {},
   "outputs": [],
   "source": [
    "min_temp=min(temperatures_C)\n"
   ]
  },
  {
   "cell_type": "markdown",
   "metadata": {},
   "source": [
    "#### 2. Find the maximum temperature of the day and store it in a variable."
   ]
  },
  {
   "cell_type": "code",
   "execution_count": 3,
   "metadata": {},
   "outputs": [],
   "source": [
    "max_temp=max(temperatures_C)"
   ]
  },
  {
   "cell_type": "markdown",
   "metadata": {},
   "source": [
    "#### 3. Create a list with the temperatures that are greater than or equal to 70ºC. Store it in a variable."
   ]
  },
  {
   "cell_type": "code",
   "execution_count": 4,
   "metadata": {},
   "outputs": [
    {
     "name": "stdout",
     "output_type": "stream",
     "text": [
      "[70, 76, 80, 81, 80, 83, 90, 79]\n"
     ]
    }
   ],
   "source": [
    "temp_70more=[]\n",
    "\n",
    "for i in temperatures_C:\n",
    "    if i>=70:\n",
    "        temp_70more.append(i)\n",
    "\n",
    "print(temp_70more)"
   ]
  },
  {
   "cell_type": "markdown",
   "metadata": {},
   "source": [
    "#### 4. Find the average temperature of the day and store it in a variable."
   ]
  },
  {
   "cell_type": "code",
   "execution_count": 5,
   "metadata": {},
   "outputs": [
    {
     "name": "stdout",
     "output_type": "stream",
     "text": [
      "60.25\n"
     ]
    }
   ],
   "source": [
    "average_temp=sum(temperatures_C)/len(temperatures_C)\n",
    "\n",
    "print(average_temp)"
   ]
  },
  {
   "cell_type": "markdown",
   "metadata": {},
   "source": [
    "#### 5. Imagine that there was a sensor failure at 3am and the data for that specific hour was not recorded. How would you estimate the missing value? Replace the current value of the list at 3am for an estimation. "
   ]
  },
  {
   "cell_type": "code",
   "execution_count": 6,
   "metadata": {},
   "outputs": [
    {
     "name": "stdout",
     "output_type": "stream",
     "text": [
      "[33, 66, 65, 63, 59, 60, 62, 64, 70, 76, 80, 81, 80, 83, 90, 79, 61, 53, 50, 49, 53, 48, 45, 39]\n",
      "62.875\n"
     ]
    }
   ],
   "source": [
    "new_sum=sum(temperatures_C[0:3])+sum(temperatures_C[4:])\n",
    "new_avg=new_sum/(len(temperatures_C)-1)\n",
    "\n",
    "new_avg_round=round(new_avg)\n",
    "\n",
    "temperatures_C[3]=new_avg_round\n",
    "\n",
    "print(temperatures_C)\n",
    "\n",
    "last_avg=sum(temperatures_C)/len(temperatures_C)\n",
    "print(last_avg)"
   ]
  },
  {
   "cell_type": "markdown",
   "metadata": {},
   "source": [
    "#### 6. Bonus: the maintenance staff is from the United States and does not understand the international metric system. Help them by converting the temperatures from Celsius to Fahrenheit.\n",
    "To know more about temperature conversion check this [link](https://en.wikipedia.org/wiki/Conversion_of_units_of_temperature).\n",
    "\n",
    "**Formula**: \n",
    "\n",
    "$F = 1.8 * C + 32$"
   ]
  },
  {
   "cell_type": "code",
   "execution_count": 16,
   "metadata": {},
   "outputs": [
    {
     "data": {
      "text/plain": [
       "[91.4,\n",
       " 150.8,\n",
       " 149.0,\n",
       " 145.4,\n",
       " 138.2,\n",
       " 140.0,\n",
       " 143.60000000000002,\n",
       " 147.2,\n",
       " 158.0,\n",
       " 168.8,\n",
       " 176.0,\n",
       " 177.8,\n",
       " 176.0,\n",
       " 181.4,\n",
       " 194.0,\n",
       " 174.20000000000002,\n",
       " 141.8,\n",
       " 127.4,\n",
       " 122.0,\n",
       " 120.2,\n",
       " 127.4,\n",
       " 118.4,\n",
       " 113.0,\n",
       " 102.2]"
      ]
     },
     "execution_count": 16,
     "metadata": {},
     "output_type": "execute_result"
    }
   ],
   "source": [
    "def conversion(C):\n",
    "    F=[]\n",
    "    for i in range(len(C)):\n",
    "        F.append(1.8*C[i]+32)\n",
    "    return F\n",
    "\n",
    "conversion(temperatures_C)"
   ]
  },
  {
   "cell_type": "markdown",
   "metadata": {},
   "source": [
    "#### 7. Make a decision!\n",
    "Now it's time to make a decision taking into account what you have seen until now. \n",
    "\n",
    "Remember that if one of the following events occurs, then the cooling system needs to be replaced for a new one to avoid damaging the processor.\n",
    "* More than 4 temperatures are greater than or equal to 70ºC.\n",
    "* Any temperature is above 80ºC.\n",
    "* The average temperature exceeds 65ºC.\n",
    "\n",
    "#### To make your decision, check if any of the three conditions above is met. You might need to use some of the variables you created in steps 1 to 6. Print a message to show if the cooling system needs to be changed or not."
   ]
  },
  {
   "cell_type": "code",
   "execution_count": 8,
   "metadata": {},
   "outputs": [
    {
     "name": "stdout",
     "output_type": "stream",
     "text": [
      "The cooling system needs to be changed!\n"
     ]
    }
   ],
   "source": [
    "if len(temp_70more)>4:\n",
    "    print (\"The cooling system needs to be changed!\")\n",
    "elif max_temp>80:\n",
    "    print (\"The cooling system needs to be changed!\")\n",
    "elif last_avg>65:\n",
    "    print (\"The cooling system needs to be changed!\")\n",
    "else:\n",
    "    print (\"Working perfectly!\")\n"
   ]
  },
  {
   "cell_type": "markdown",
   "metadata": {},
   "source": [
    "## Bonus\n",
    "\n",
    "The company has decided that the decision you made is not valid. They want you to analyze the data again but this time, the conditions that need to be met in order to change the cooling system are different.\n",
    "\n",
    "This time, if one of the following events occurs, then the cooling system needs to be replaced:\n",
    "* The temperature is greater than 70ºC during more than 4 consecutive hours.\n",
    "* Any temperature is above 80ºC.\n",
    "* The average temperature exceeds 65ºC.\n",
    "\n",
    "Follow the steps so that you can make the decision.\n",
    "\n",
    "#### 1. Create a list with the hours where the temperature is greater than 70ºC. Store it in a variable."
   ]
  },
  {
   "cell_type": "code",
   "execution_count": 9,
   "metadata": {},
   "outputs": [
    {
     "name": "stdout",
     "output_type": "stream",
     "text": [
      "{24: 33, 1: 66, 2: 65, 3: 63, 4: 59, 5: 60, 6: 62, 7: 64, 8: 70, 9: 76, 10: 80, 11: 81, 12: 80, 13: 83, 14: 90, 15: 79, 16: 61, 17: 53, 18: 50, 19: 49, 20: 53, 21: 48, 22: 45, 23: 39}\n"
     ]
    },
    {
     "data": {
      "text/plain": [
       "[9, 10, 11, 12, 13, 14, 15]"
      ]
     },
     "execution_count": 9,
     "metadata": {},
     "output_type": "execute_result"
    }
   ],
   "source": [
    "hour=list(range(0,24))\n",
    "hour[0]=24\n",
    "\n",
    "dict_hour_temp={}\n",
    "\n",
    "for x in range(len(hour)):\n",
    "    dict_hour_temp[hour[x]]=temperatures_C[x]\n",
    "    \n",
    "print(dict_hour_temp)\n",
    "\n",
    "list_temp_70more=[]\n",
    "\n",
    "for i in dict_hour_temp.keys():\n",
    "    if dict_hour_temp[i]>70:\n",
    "        list_temp_70more.append(i)\n",
    "        \n",
    "list_temp_70more"
   ]
  },
  {
   "cell_type": "markdown",
   "metadata": {},
   "source": [
    "#### 2. Check if the list you created in step 1 has more than 4 consecutive hours. "
   ]
  },
  {
   "cell_type": "code",
   "execution_count": 10,
   "metadata": {},
   "outputs": [
    {
     "name": "stdout",
     "output_type": "stream",
     "text": [
      "6\n"
     ]
    }
   ],
   "source": [
    "w=0\n",
    "count=0\n",
    "\n",
    "while w<4:\n",
    "    for p in range(len(list_temp_70more)-1):\n",
    "        if list_temp_70more[p] < (list_temp_70more[p+1]+2):\n",
    "            count+=1\n",
    "        w+=1\n",
    "        \n",
    "print(count)"
   ]
  },
  {
   "cell_type": "markdown",
   "metadata": {},
   "source": [
    "#### 3. Make the decision!\n",
    "To make your decision, check if any of the three conditions is met. Print a message to show if the cooling system needs to be changed or not."
   ]
  },
  {
   "cell_type": "code",
   "execution_count": 12,
   "metadata": {},
   "outputs": [
    {
     "name": "stdout",
     "output_type": "stream",
     "text": [
      "Replace the cooling system!\n"
     ]
    }
   ],
   "source": [
    "if len(list_temp_70more)>4 or last_avg>65 or (i > 80 for i in list_temp_70more):\n",
    "    print (\"Replace the cooling system!\")"
   ]
  },
  {
   "cell_type": "markdown",
   "metadata": {},
   "source": [
    "#### 4. Find the average value of the temperature lists (ºC and ºF). What is the relation between both average values?"
   ]
  },
  {
   "cell_type": "code",
   "execution_count": 23,
   "metadata": {},
   "outputs": [
    {
     "name": "stdout",
     "output_type": "stream",
     "text": [
      "0.43309798519028764\n"
     ]
    }
   ],
   "source": [
    "Fahrenheit=conversion(temperatures_C)\n",
    "avg_F=sum(Farenheit)/len(Fahrenheit)\n",
    "\n",
    "print(last_avg/avg_F)"
   ]
  },
  {
   "cell_type": "markdown",
   "metadata": {},
   "source": [
    "#### 5. Find the standard deviation of the temperature lists (ºC and ºF). What is the relation between both standard deviations?"
   ]
  },
  {
   "cell_type": "code",
   "execution_count": 24,
   "metadata": {},
   "outputs": [
    {
     "name": "stdout",
     "output_type": "stream",
     "text": [
      "0.5555555555555556\n"
     ]
    }
   ],
   "source": [
    "sq_dist_mean_C=[]\n",
    "sq_dist_mean_F=[]\n",
    "\n",
    "for value in temperatures_C:\n",
    "    sq_dist_mean_C.append((value-last_avg)**2)\n",
    "    \n",
    "sq_dev_C=(sum(sq_dist_mean_C)/len(sq_dist_mean_C))**0.5\n",
    "\n",
    "for value in Fahrenheit:\n",
    "    sq_dist_mean_F.append((value-avg_F)**2)\n",
    "    \n",
    "sq_dev_F=(sum(sq_dist_mean_F)/len(sq_dist_mean_F))**0.5\n",
    "\n",
    "\n",
    "print(sq_dev_C/sq_dev_F)\n"
   ]
  }
 ],
 "metadata": {
  "kernelspec": {
   "display_name": "Python 3",
   "language": "python",
   "name": "python3"
  },
  "language_info": {
   "codemirror_mode": {
    "name": "ipython",
    "version": 3
   },
   "file_extension": ".py",
   "mimetype": "text/x-python",
   "name": "python",
   "nbconvert_exporter": "python",
   "pygments_lexer": "ipython3",
   "version": "3.8.5"
  }
 },
 "nbformat": 4,
 "nbformat_minor": 2
}
