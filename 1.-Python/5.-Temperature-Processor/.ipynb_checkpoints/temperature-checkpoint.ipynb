{
 "cells": [
  {
   "cell_type": "markdown",
   "metadata": {},
   "source": [
    "<img src=\"https://bit.ly/2VnXWr2\" width=\"100\" align=\"left\">"
   ]
  },
  {
   "cell_type": "markdown",
   "metadata": {},
   "source": [
    "# Temperature Sensor\n",
    "\n",
    "There is a temperature sensor in the processor of your company's server. The company wants to analyze the data provided by the sensor to decide if they should change the cooling system for a better one. As changing the cooling system is expensive and you are an excellent data analyst, you can't make a decision without basis.\n",
    "\n",
    "## Tools\n",
    "You don't necessarily need to use all the tools. Maybe you opt to use some of them or completely different ones, they are given to help you shape the exercise. Programming exercises can be solved in many different ways.\n",
    "1. Data structures: **lists**\n",
    "2. Loops: **list comprehension**\n",
    "3. Functions: **min, max, print, len**\n",
    "4. Conditional statements: **if-elif-else**\n",
    "\n",
    "## Tasks\n",
    "The temperatures measured throughout the 24 hours of a day are:"
   ]
  },
  {
   "cell_type": "code",
   "execution_count": 9,
   "metadata": {},
   "outputs": [],
   "source": [
    "temperatures_C = [33, 66, 65, 0, 59, 60, 62, 64, 70, 76, 80, 81, 80, 83, 90, 79, 61, 53, 50, 49, 53, 48, 45, 39]"
   ]
  },
  {
   "cell_type": "markdown",
   "metadata": {},
   "source": [
    "The first element of the list is the temperature at 12am, the second element is the temperature at 1am, and so on. \n",
    "\n",
    "The company has decided that if one of the following events occurs, then the cooling system needs to be replaced for a new one to avoid damaging the processor.\n",
    "* More than 4 temperatures are greater than or equal to 70ºC.\n",
    "* Any temperature is above 80ºC.\n",
    "* The average temperature exceeds 65ºC.\n",
    "\n",
    "Follow the steps so that you can make the decision.\n",
    "\n",
    "#### 1. Find the minimum temperature of the day and store it in a variable."
   ]
  },
  {
   "cell_type": "code",
   "execution_count": 10,
   "metadata": {},
   "outputs": [],
   "source": [
    "min_temp = min(temperatures_C)"
   ]
  },
  {
   "cell_type": "markdown",
   "metadata": {},
   "source": [
    "#### 2. Find the maximum temperature of the day and store it in a variable."
   ]
  },
  {
   "cell_type": "code",
   "execution_count": 11,
   "metadata": {},
   "outputs": [],
   "source": [
    "max_temp = max(temperatures_C)"
   ]
  },
  {
   "cell_type": "markdown",
   "metadata": {},
   "source": [
    "#### 3. Create a list with the temperatures that are greater than or equal to 70ºC. Store it in a variable."
   ]
  },
  {
   "cell_type": "code",
   "execution_count": 12,
   "metadata": {},
   "outputs": [],
   "source": [
    "temp_greater_equal_70 = []\n",
    "\n",
    "for temp in temperatures_C:\n",
    "    if temp >= 70:\n",
    "        temp_greater_equal_70.append(temp)"
   ]
  },
  {
   "cell_type": "markdown",
   "metadata": {},
   "source": [
    "#### 4. Find the average temperature of the day and store it in a variable."
   ]
  },
  {
   "cell_type": "code",
   "execution_count": 13,
   "metadata": {},
   "outputs": [],
   "source": [
    "average_temp = round(sum(temperatures_C)/len(temperatures_C),2)"
   ]
  },
  {
   "cell_type": "markdown",
   "metadata": {},
   "source": [
    "#### 5. Imagine that there was a sensor failure at 3am and the data for that specific hour was not recorded. How would you estimate the missing value? Replace the current value of the list at 3am for an estimation. "
   ]
  },
  {
   "cell_type": "code",
   "execution_count": 14,
   "metadata": {},
   "outputs": [],
   "source": [
    "temperatures_C[3]= int((temperatures_C[2] + temperatures_C[4]) / 2 )"
   ]
  },
  {
   "cell_type": "markdown",
   "metadata": {},
   "source": [
    "#### 6. Bonus: the maintenance staff is from the United States and does not understand the international metric system. Help them by converting the temperatures from Celsius to Fahrenheit.\n",
    "To know more about temperature conversion check this [link](https://en.wikipedia.org/wiki/Conversion_of_units_of_temperature).\n",
    "\n",
    "**Formula**: \n",
    "\n",
    "$F = 1.8 * C + 32$"
   ]
  },
  {
   "cell_type": "code",
   "execution_count": 15,
   "metadata": {},
   "outputs": [],
   "source": [
    "def conv_temp_fahrenheit(temp_c):\n",
    "    temp_fah = round(1.8*temp_c + 32, 2)\n",
    "    return temp_fah\n",
    "\n",
    "temperatures_F =[]\n",
    "for temp in temperatures_C:\n",
    "    temperatures_F.append(conv_temp_fahrenheit(temp))"
   ]
  },
  {
   "cell_type": "markdown",
   "metadata": {},
   "source": [
    "#### 7. Make a decision!\n",
    "Now it's time to make a decision taking into account what you have seen until now. \n",
    "\n",
    "Remember that if one of the following events occurs, then the cooling system needs to be replaced for a new one to avoid damaging the processor.\n",
    "* More than 4 temperatures are greater than or equal to 70ºC.\n",
    "* Any temperature is above 80ºC.\n",
    "* The average temperature exceeds 65ºC.\n",
    "\n",
    "#### To make your decision, check if any of the three conditions above is met. You might need to use some of the variables you created in steps 1 to 6. Print a message to show if the cooling system needs to be changed or not."
   ]
  },
  {
   "cell_type": "code",
   "execution_count": 16,
   "metadata": {},
   "outputs": [
    {
     "name": "stdout",
     "output_type": "stream",
     "text": [
      "- more than 4 temperatures exceed 70\n",
      "- a temperature is above 80ºC.\n",
      "the system must be replaced\n"
     ]
    }
   ],
   "source": [
    "cond = 0\n",
    "\n",
    "if len(temp_greater_equal_70) > 4:\n",
    "    print(\"- more than 4 temperatures exceed 70\")\n",
    "    cond += 1\n",
    "if max_temp > 80:\n",
    "    print(\"- a temperature is above 80ºC.\")\n",
    "    cond += 1\n",
    "if average_temp > 65:\n",
    "    print(\"- average temperature exceeds 65\")\n",
    "    cond += 1\n",
    "    \n",
    "    print(str(cond)+\" conditions are met\")\n",
    "if cond > 0:\n",
    "    print(\"the system must be replaced\")\n",
    "else:\n",
    "    print(\"the system does not need to be replaced\")"
   ]
  },
  {
   "cell_type": "markdown",
   "metadata": {},
   "source": [
    "## Bonus\n",
    "\n",
    "The company has decided that the decision you made is not valid. They want you to analyze the data again but this time, the conditions that need to be met in order to change the cooling system are different.\n",
    "\n",
    "This time, if one of the following events occurs, then the cooling system needs to be replaced:\n",
    "* The temperature is greater than 70ºC during more than 4 consecutive hours.\n",
    "* Any temperature is above 80ºC.\n",
    "* The average temperature exceeds 65ºC.\n",
    "\n",
    "Follow the steps so that you can make the decision.\n",
    "\n",
    "#### 1. Create a list with the hours where the temperature is greater than 70ºC. Store it in a variable."
   ]
  },
  {
   "cell_type": "code",
   "execution_count": 19,
   "metadata": {},
   "outputs": [
    {
     "name": "stdout",
     "output_type": "stream",
     "text": [
      "The hours where the T is greater than 70 are: [8, 9, 10, 11, 12, 13, 14, 15]\n"
     ]
    }
   ],
   "source": [
    "hours_temp_greater_70 = [i for i, v in enumerate(temperatures_C) if v >=70]\n",
    "print(\"The hours where the T is greater than 70 are:\", hours_temp_greater70)"
   ]
  },
  {
   "cell_type": "markdown",
   "metadata": {},
   "source": [
    "#### 2. Check if the list you created in step 1 has more than 4 consecutive hours. "
   ]
  },
  {
   "cell_type": "code",
   "execution_count": 20,
   "metadata": {},
   "outputs": [
    {
     "name": "stdout",
     "output_type": "stream",
     "text": [
      "The condition of more than 4 consecutive time periods with T<= 70 ºC is met.\n"
     ]
    }
   ],
   "source": [
    "consec_hours = 0\n",
    "\n",
    "for i in range(len(hours_temp_greater_70)-1):\n",
    "    if (hours_temp_greater_70[i+1] - hours_temp_greater_70[i] == 1):\n",
    "        consec_hours +=1\n",
    "    else: \n",
    "        consec_hours = 0 \n",
    "    if  consec_hours > 4: \n",
    "        print(\"The condition of more than 4 consecutive time periods with T<= 70 ºC is met.\")\n",
    "        break"
   ]
  },
  {
   "cell_type": "markdown",
   "metadata": {},
   "source": [
    "#### 3. Make the decision!\n",
    "To make your decision, check if any of the three conditions is met. Print a message to show if the cooling system needs to be changed or not."
   ]
  },
  {
   "cell_type": "code",
   "execution_count": 21,
   "metadata": {},
   "outputs": [
    {
     "name": "stdout",
     "output_type": "stream",
     "text": [
      "The condition of more than 4 consecutive time periods with T<= 70 ºC is met.\n",
      "- a temperature is above 80ºC.\n",
      "the system must be replaced\n"
     ]
    }
   ],
   "source": [
    "cond = 0\n",
    "\n",
    "if  consec_hours > 4:\n",
    "    print(\"The condition of more than 4 consecutive time periods with T<= 70 ºC is met.\")\n",
    "    cond += 1\n",
    "if max_temp > 80:\n",
    "    print(\"- a temperature is above 80ºC.\")\n",
    "    cond += 1\n",
    "if average_temp > 65:\n",
    "    print(\"- average temperature exceeds 65\")\n",
    "    cond += 1\n",
    "    print(str(cond)+\" conditions are met\")\n",
    "if cond > 0:\n",
    "    print(\"the system must be replaced\")\n",
    "else:\n",
    "    print(\"the system does not need to be replaced\")"
   ]
  },
  {
   "cell_type": "markdown",
   "metadata": {},
   "source": [
    "#### 4. Find the average value of the temperature lists (ºC and ºF). What is the relation between both average values?"
   ]
  },
  {
   "cell_type": "code",
   "execution_count": 22,
   "metadata": {},
   "outputs": [
    {
     "name": "stdout",
     "output_type": "stream",
     "text": [
      "The relationship between both average temperatures is: 2.31 and is given by the formula to convert degrees Celsius to Fahrenheit\n"
     ]
    }
   ],
   "source": [
    "average_temp_c = round(sum(temperatures_C)/len(temperatures_C),2)\n",
    "average_temp_f = round(sum(temperatures_F)/len(temperatures_F),2)\n",
    "temp_average_rel=round(average_temp_f/average_temp_c,2)\n",
    "\n",
    "print(\"The relationship between both average temperatures is: {} and is given by the formula to convert degrees Celsius to Fahrenheit\".format(temp_average_rel))\n"
   ]
  },
  {
   "cell_type": "markdown",
   "metadata": {},
   "source": [
    "#### 5. Find the standard deviation of the temperature lists (ºC and ºF). What is the relation between both standard deviations?"
   ]
  },
  {
   "cell_type": "code",
   "execution_count": 23,
   "metadata": {},
   "outputs": [
    {
     "name": "stdout",
     "output_type": "stream",
     "text": [
      "The Standard Deviation in Celsius is:  14.95\n",
      "The standard deviation in Fahrenheit is:  26.91\n",
      "The relationship between both standard deviations is: 1.8 and is given by the slope of the line that represents the relationship between Celsius and Fahrenheit, this value being 1.8\n"
     ]
    }
   ],
   "source": [
    "import statistics\n",
    "\n",
    "desv_c= round(statistics.stdev(temperatures_C),2)\n",
    "print(\"The Standard Deviation in Celsius is: \", desv_c)\n",
    "\n",
    "desv_f= round(statistics.stdev(temperatures_F),2)\n",
    "print(\"The standard deviation in Fahrenheit is: \", desv_f)\n",
    "\n",
    "desv_rel= round(desv_f/desv_c,2)\n",
    "print(\"The relationship between both standard deviations is: {} and is given by the slope of the line that represents the relationship between Celsius and Fahrenheit, this value being 1.8\".format(desv_rel))\n"
   ]
  },
  {
   "cell_type": "code",
   "execution_count": null,
   "metadata": {},
   "outputs": [],
   "source": []
  }
 ],
 "metadata": {
  "kernelspec": {
   "display_name": "Python 3 (ipykernel)",
   "language": "python",
   "name": "python3"
  },
  "language_info": {
   "codemirror_mode": {
    "name": "ipython",
    "version": 3
   },
   "file_extension": ".py",
   "mimetype": "text/x-python",
   "name": "python",
   "nbconvert_exporter": "python",
   "pygments_lexer": "ipython3",
   "version": "3.9.6"
  }
 },
 "nbformat": 4,
 "nbformat_minor": 2
}
