{
 "cells": [
  {
   "cell_type": "markdown",
   "metadata": {},
   "source": [
    "<img src=\"https://bit.ly/2VnXWr2\" width=\"100\" align=\"left\">"
   ]
  },
  {
   "cell_type": "markdown",
   "metadata": {},
   "source": [
    "# Temperature Sensor\n",
    "\n",
    "There is a temperature sensor in the processor of your company's server. The company wants to analyze the data provided by the sensor to decide if they should change the cooling system for a better one. As changing the cooling system is expensive and you are an excellent data analyst, you can't make a decision without basis.\n",
    "\n",
    "## Tools\n",
    "You don't necessarily need to use all the tools. Maybe you opt to use some of them or completely different ones, they are given to help you shape the exercise. Programming exercises can be solved in many different ways.\n",
    "1. Data structures: **lists**\n",
    "2. Loops: **list comprehension**\n",
    "3. Functions: **min, max, print, len**\n",
    "4. Conditional statements: **if-elif-else**\n",
    "\n",
    "## Tasks\n",
    "The temperatures measured throughout the 24 hours of a day are:"
   ]
  },
  {
   "cell_type": "code",
   "execution_count": null,
   "metadata": {},
   "outputs": [],
   "source": [
    "temperatures_C = [33, 66, 65, 0, 59, 60, 62, 64, 70, 76, 80, 81, 80, 83, 90, 79, 61, 53, 50, 49, 53, 48, 45, 39]"
   ]
  },
  {
   "cell_type": "markdown",
   "metadata": {},
   "source": [
    "The first element of the list is the temperature at 12am, the second element is the temperature at 1am, and so on. \n",
    "\n",
    "The company has decided that if one of the following events occurs, then the cooling system needs to be replaced for a new one to avoid damaging the processor.\n",
    "* More than 4 temperatures are greater than or equal to 70ºC.\n",
    "* Any temperature is above 80ºC.\n",
    "* The average temperature exceeds 65ºC.\n",
    "\n",
    "Follow the steps so that you can make the decision.\n",
    "\n",
    "#### 1. Find the minimum temperature of the day and store it in a variable."
   ]
  },
  {
   "cell_type": "code",
   "execution_count": 11,
   "metadata": {},
   "outputs": [
    {
     "name": "stdout",
     "output_type": "stream",
     "text": [
      "0\n",
      "The minimum temperature of the day is 0 ºC.\n"
     ]
    }
   ],
   "source": [
    "temperatures_C = [33, 66, 65, 0, 59, 60, 62, 64, 70, 76, 80, 81, 80, 83, 90, 79, 61, 53, 50, 49, 53, 48, 45, 39]\n",
    "\n",
    "min_temp = (min(temperatures_C))\n",
    "print(min_temp)\n",
    "\n",
    "print(\"The minimum temperature of the day is\", min_temp, \"ºC.\")"
   ]
  },
  {
   "cell_type": "markdown",
   "metadata": {},
   "source": [
    "#### 2. Find the maximum temperature of the day and store it in a variable."
   ]
  },
  {
   "cell_type": "code",
   "execution_count": 14,
   "metadata": {},
   "outputs": [
    {
     "name": "stdout",
     "output_type": "stream",
     "text": [
      "90\n",
      "The maximum temperature of the day is 90 ºC.\n"
     ]
    }
   ],
   "source": [
    "temperatures_C = [33, 66, 65, 0, 59, 60, 62, 64, 70, 76, 80, 81, 80, 83, 90, 79, 61, 53, 50, 49, 53, 48, 45, 39]\n",
    "\n",
    "max_temp = (max(temperatures_C))\n",
    "print(max_temp)\n",
    "\n",
    "print(\"The maximum temperature of the day is\", max_temp, \"ºC.\")"
   ]
  },
  {
   "cell_type": "markdown",
   "metadata": {},
   "source": [
    "#### 3. Create a list with the temperatures that are greater than or equal to 70ºC. Store it in a variable."
   ]
  },
  {
   "cell_type": "code",
   "execution_count": 21,
   "metadata": {},
   "outputs": [
    {
     "name": "stdout",
     "output_type": "stream",
     "text": [
      "[70, 76, 80, 81, 80, 83, 90, 79]\n",
      "The temperatures that are greater than or equal to 70ºC are [70, 76, 80, 81, 80, 83, 90, 79] .\n"
     ]
    }
   ],
   "source": [
    "temperatures_C = [33, 66, 65, 0, 59, 60, 62, 64, 70, 76, 80, 81, 80, 83, 90, 79, 61, 53, 50, 49, 53, 48, 45, 39]\n",
    "\n",
    "temp_greater_equal_70 = []\n",
    "for temperature_70 in temperatures_C:\n",
    "    if temperature_70 >= 70:\n",
    "        temp_greater_equal_70.append(temperature_70)\n",
    "print(temp_greater_equal_70)\n",
    "\n",
    "print(\"The temperatures that are greater than or equal to 70ºC are\", temp_greater_equal_70,\".\")\n"
   ]
  },
  {
   "cell_type": "markdown",
   "metadata": {},
   "source": [
    "#### 4. Find the average temperature of the day and store it in a variable."
   ]
  },
  {
   "cell_type": "code",
   "execution_count": 20,
   "metadata": {},
   "outputs": [
    {
     "name": "stdout",
     "output_type": "stream",
     "text": [
      "60.25\n",
      "The average temperature of the day is 60.25 .\n"
     ]
    }
   ],
   "source": [
    "temperatures_C = [33, 66, 65, 0, 59, 60, 62, 64, 70, 76, 80, 81, 80, 83, 90, 79, 61, 53, 50, 49, 53, 48, 45, 39]\n",
    "\n",
    "avg_temp_day = sum(temperatures_C)/len(temperatures_C)\n",
    "\n",
    "print(avg_temp_day)\n",
    "\n",
    "print(\"The average temperature of the day is\", avg_temp_day,\".\")\n"
   ]
  },
  {
   "cell_type": "markdown",
   "metadata": {},
   "source": [
    "#### 5. Imagine that there was a sensor failure at 3am and the data for that specific hour was not recorded. How would you estimate the missing value? Replace the current value of the list at 3am for an estimation. "
   ]
  },
  {
   "cell_type": "code",
   "execution_count": 47,
   "metadata": {},
   "outputs": [
    {
     "name": "stdout",
     "output_type": "stream",
     "text": [
      "62.5\n",
      "[33, 66, 65, 62.5, 60, 62, 64, 70, 76, 80, 81, 80, 83, 90, 79, 61, 53, 50, 49, 53, 48, 45, 39]\n"
     ]
    }
   ],
   "source": [
    "index = 3\n",
    "fault_value = (temperatures_C[index - 1] + temperatures_C[index + 1])/2\n",
    "print(fault_value)\n",
    "\n",
    "temperatures_C[3] = fault_value\n",
    "print(temperatures_C)"
   ]
  },
  {
   "cell_type": "markdown",
   "metadata": {},
   "source": [
    "#### 6. Bonus: the maintenance staff is from the United States and does not understand the international metric system. Help them by converting the temperatures from Celsius to Fahrenheit.\n",
    "To know more about temperature conversion check this [link](https://en.wikipedia.org/wiki/Conversion_of_units_of_temperature).\n",
    "\n",
    "**Formula**: \n",
    "\n",
    "$F = 1.8 * C + 32$"
   ]
  },
  {
   "cell_type": "code",
   "execution_count": 50,
   "metadata": {},
   "outputs": [
    {
     "name": "stdout",
     "output_type": "stream",
     "text": [
      "[91.4, 150.8, 149.0, 144.5, 140.0, 143.60000000000002, 147.2, 158.0, 168.8, 176.0, 177.8, 176.0, 181.4, 194.0, 174.20000000000002, 141.8, 127.4, 122.0, 120.2, 127.4, 118.4, 113.0, 102.2]\n",
      "The minimum temperature of the day is 91.4 ºF.\n",
      "The maximum temperature of the day is 194.0 ºF.\n",
      "The averagem temperature of the day is 145.4391304347826 ºF.\n"
     ]
    }
   ],
   "source": [
    "temperatures_F = []\n",
    "\n",
    "for temp_C in temperatures_C:\n",
    "    temp_F = 1.8 * temp_C + 32\n",
    "    temperatures_F.append(temp_F)\n",
    "    \n",
    "print(temperatures_F)\n",
    "\n",
    "temperatures_F = [91.4, 150.8, 149.0, 144.5, 140.0, 143.60000000000002, 147.2, 158.0, 168.8, 176.0, 177.8, 176.0, 181.4, 194.0, 174.20000000000002, 141.8, 127.4, 122.0, 120.2, 127.4, 118.4, 113.0, 102.2]\n",
    "\n",
    "min_temp = (min(temperatures_F))\n",
    "print(\"The minimum temperature of the day is\", min_temp, \"ºF.\")\n",
    "\n",
    "max_temp = (max(temperatures_F))\n",
    "print(\"The maximum temperature of the day is\", max_temp, \"ºF.\")\n",
    "\n",
    "avg_temp_day = sum(temperatures_F)/len(temperatures_F)\n",
    "print(\"The averagem temperature of the day is\", avg_temp_day, \"ºF.\")"
   ]
  },
  {
   "cell_type": "markdown",
   "metadata": {},
   "source": [
    "#### 7. Make a decision!\n",
    "Now it's time to make a decision taking into account what you have seen until now. \n",
    "\n",
    "Remember that if one of the following events occurs, then the cooling system needs to be replaced for a new one to avoid damaging the processor.\n",
    "* More than 4 temperatures are greater than or equal to 70ºC.\n",
    "* Any temperature is above 80ºC.\n",
    "* The average temperature exceeds 65ºC.\n",
    "\n",
    "#### To make your decision, check if any of the three conditions above is met. You might need to use some of the variables you created in steps 1 to 6. Print a message to show if the cooling system needs to be changed or not."
   ]
  },
  {
   "cell_type": "code",
   "execution_count": 58,
   "metadata": {},
   "outputs": [
    {
     "name": "stdout",
     "output_type": "stream",
     "text": [
      "Cooling System Replacement\n",
      "Cooling System Replacement\n",
      "Cooling System OK\n"
     ]
    }
   ],
   "source": [
    "more_than_4 = []\n",
    "for temp4 in temperatures_C:\n",
    "    if temp4 >= 4:\n",
    "        more_than_4.append(temp4)\n",
    "        \n",
    "if len(more_than_4) > 4:\n",
    "    print(\"Cooling System Replacement\")\n",
    "else:\n",
    "    print(\"Cooling System OK\")\n",
    "\n",
    "if max(temperatures_C) > 80:\n",
    "  print(\"Cooling System Replacement\")\n",
    "else:\n",
    "  print(\"Cooling System OK\")\n",
    "\n",
    "\n",
    "if (sum(temperatures_C)/len(temperatures_C)) > 65:\n",
    "    print(\"Cooling System Replacement\")\n",
    "else:\n",
    "  print(\"Cooling System OK\")"
   ]
  },
  {
   "cell_type": "markdown",
   "metadata": {},
   "source": [
    "## Bonus\n",
    "\n",
    "The company has decided that the decision you made is not valid. They want you to analyze the data again but this time, the conditions that need to be met in order to change the cooling system are different.\n",
    "\n",
    "This time, if one of the following events occurs, then the cooling system needs to be replaced:\n",
    "* The temperature is greater than 70ºC during more than 4 consecutive hours.\n",
    "* Any temperature is above 80ºC.\n",
    "* The average temperature exceeds 65ºC.\n",
    "\n",
    "Follow the steps so that you can make the decision.\n",
    "\n",
    "#### 1. Create a list with the hours where the temperature is greater than 70ºC. Store it in a variable."
   ]
  },
  {
   "cell_type": "code",
   "execution_count": 60,
   "metadata": {},
   "outputs": [
    {
     "name": "stdout",
     "output_type": "stream",
     "text": [
      "[9, 10, 11, 10, 13, 14, 15]\n"
     ]
    }
   ],
   "source": [
    "temperatures_C = [33, 66, 65, 0, 59, 60, 62, 64, 70, 76, 80, 81, 80, 83, 90, 79, 61, 53, 50, 49, 53, 48, 45, 39]\n",
    "\n",
    "hours_temperature_greater_70 = []\n",
    "\n",
    "for temperatures in temperatures_C:\n",
    "    if temperatures > 70:\n",
    "        index = temperatures_C.index(temperatures)\n",
    "        hours_temperature_greater_70.append(index)\n",
    "        \n",
    "print(hours_temperature_greater_70)\n",
    "\n",
    "\n"
   ]
  },
  {
   "cell_type": "markdown",
   "metadata": {},
   "source": [
    "#### 2. Check if the list you created in step 1 has more than 4 consecutive hours. "
   ]
  },
  {
   "cell_type": "code",
   "execution_count": 62,
   "metadata": {},
   "outputs": [
    {
     "name": "stdout",
     "output_type": "stream",
     "text": [
      "Less than 4 consecutive hours\n"
     ]
    }
   ],
   "source": [
    "list_4_hours = []\n",
    "index_number = 0\n",
    "for number in hours_temperature_greater_70:\n",
    "  if hours_temperature_greater_70[index_number] < hours_temperature_greater_70[index_number + 1]:\n",
    "    list_4_hours.append(number)\n",
    "    index_number = index_number + 1\n",
    "\n",
    "if len(list_4_hours) > 4:\n",
    "  print('More than 4 consecutive hours')\n",
    "else:\n",
    "  print('Less than 4 consecutive hours')"
   ]
  },
  {
   "cell_type": "markdown",
   "metadata": {},
   "source": [
    "#### 3. Make the decision!\n",
    "To make your decision, check if any of the three conditions is met. Print a message to show if the cooling system needs to be changed or not."
   ]
  },
  {
   "cell_type": "code",
   "execution_count": 65,
   "metadata": {},
   "outputs": [
    {
     "name": "stdout",
     "output_type": "stream",
     "text": [
      "Cooling System OK\n",
      "Cooling System Replacement\n",
      "Cooling System OK\n"
     ]
    }
   ],
   "source": [
    "#The temperature is greater than 70ºC during more than 4 consecutive hours\n",
    "list_4_hours = []\n",
    "index_number = 0\n",
    "for number in hours_temperature_greater_70:\n",
    "  if hours_temperature_greater_70[index_number] < hours_temperature_greater_70[index_number + 1]:\n",
    "    list_4_hours.append(number)\n",
    "    index_number = index_number + 1\n",
    "    \n",
    "if len(list_4_hours) > 4:\n",
    "    print('Cooling System Replacement')\n",
    "else:\n",
    "    print('Cooling System OK')\n",
    "    \n",
    "\n",
    "#Any temperature is above 80ºC\n",
    "\n",
    "if max(temperatures_C) > 80:\n",
    "    print('Cooling System Replacement')\n",
    "else:\n",
    "    print('Cooling System OK')\n",
    "    \n",
    "\n",
    "#The average temperature exceeds 65ºC\n",
    "\n",
    "if (sum(temperatures_C)/len(temperatures_C)) > 65:\n",
    "    print('Cooling System Replacement')\n",
    "else:\n",
    "    print('Cooling System OK')\n"
   ]
  },
  {
   "cell_type": "markdown",
   "metadata": {},
   "source": [
    "#### 4. Find the average value of the temperature lists (ºC and ºF). What is the relation between both average values?"
   ]
  },
  {
   "cell_type": "code",
   "execution_count": 67,
   "metadata": {},
   "outputs": [
    {
     "name": "stdout",
     "output_type": "stream",
     "text": [
      "60.25\n",
      "145.4391304347826\n"
     ]
    }
   ],
   "source": [
    "avg_Temperature_C = sum(temperatures_C)/len(temperatures_C)\n",
    "print(avg_Temperature_C)\n",
    "\n",
    "avg_Temperature_F = sum(temperatures_F)/len(temperatures_F)\n",
    "print(avg_Temperature_F)"
   ]
  },
  {
   "cell_type": "markdown",
   "metadata": {},
   "source": [
    "#### 5. Find the standard deviation of the temperature lists (ºC and ºF). What is the relation between both standard deviations?"
   ]
  },
  {
   "cell_type": "code",
   "execution_count": 69,
   "metadata": {},
   "outputs": [
    {
     "name": "stdout",
     "output_type": "stream",
     "text": [
      "The standard deviation for ºF is 27.46840729291537\n",
      "The standard deviation for ºC is 19.700474503223873\n"
     ]
    }
   ],
   "source": [
    "temperatures_F = [91.4, 150.8, 149.0, 144.5, 140.0, 143.60000000000002, 147.2, 158.0, 168.8, 176.0, 177.8, 176.0, 181.4, 194.0, 174.20000000000002, 141.8, 127.4, 122.0, 120.2, 127.4, 118.4, 113.0, 102.2]\n",
    "temperatures_C = [33, 66, 65, 0, 59, 60, 62, 64, 70, 76, 80, 81, 80, 83, 90, 79, 61, 53, 50, 49, 53, 48, 45, 39]\n",
    "\n",
    "from statistics import stdev\n",
    "standard_deviation_tempF = stdev(temperatures_F)\n",
    "print(\"The standard deviation for ºF is\", standard_deviation_tempF)\n",
    "\n",
    "standard_deviation_tempC = stdev(temperatures_C)\n",
    "print(\"The standard deviation for ºC is\", standard_deviation_tempC)"
   ]
  },
  {
   "cell_type": "code",
   "execution_count": null,
   "metadata": {},
   "outputs": [],
   "source": []
  }
 ],
 "metadata": {
  "kernelspec": {
   "display_name": "Python 3",
   "language": "python",
   "name": "python3"
  },
  "language_info": {
   "codemirror_mode": {
    "name": "ipython",
    "version": 3
   },
   "file_extension": ".py",
   "mimetype": "text/x-python",
   "name": "python",
   "nbconvert_exporter": "python",
   "pygments_lexer": "ipython3",
   "version": "3.9.1"
  }
 },
 "nbformat": 4,
 "nbformat_minor": 2
}
