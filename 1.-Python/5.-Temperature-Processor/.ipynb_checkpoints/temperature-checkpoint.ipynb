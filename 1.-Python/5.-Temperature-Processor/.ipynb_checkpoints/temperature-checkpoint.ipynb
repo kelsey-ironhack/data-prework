{
 "cells": [
  {
   "cell_type": "markdown",
   "metadata": {},
   "source": [
    "<img src=\"https://bit.ly/2VnXWr2\" width=\"100\" align=\"left\">"
   ]
  },
  {
   "cell_type": "markdown",
   "metadata": {},
   "source": [
    "# Temperature Sensor\n",
    "\n",
    "There is a temperature sensor in the processor of your company's server. The company wants to analyze the data provided by the sensor to decide if they should change the cooling system for a better one. As changing the cooling system is expensive and you are an excellent data analyst, you can't make a decision without basis.\n",
    "\n",
    "## Tools\n",
    "You don't necessarily need to use all the tools. Maybe you opt to use some of them or completely different ones, they are given to help you shape the exercise. Programming exercises can be solved in many different ways.\n",
    "1. Data structures: **lists**\n",
    "2. Loops: **list comprehension**\n",
    "3. Functions: **min, max, print, len**\n",
    "4. Conditional statements: **if-elif-else**\n",
    "\n",
    "## Tasks\n",
    "The temperatures measured throughout the 24 hours of a day are:"
   ]
  },
  {
   "cell_type": "code",
   "execution_count": 1,
   "metadata": {},
   "outputs": [],
   "source": [
    "temperatures_C = [33, 66, 65, 0, 59, 60, 62, 64, 70, 76, 80, 81, 80, 83, 90, 79, 61, 53, 50, 49, 53, 48, 45, 39]"
   ]
  },
  {
   "cell_type": "markdown",
   "metadata": {},
   "source": [
    "The first element of the list is the temperature at 12am, the second element is the temperature at 1am, and so on. \n",
    "\n",
    "The company has decided that if one of the following events occurs, then the cooling system needs to be replaced for a new one to avoid damaging the processor.\n",
    "* More than 4 temperatures are greater than or equal to 70ºC.\n",
    "* Any temperature is above 80ºC.\n",
    "* The average temperature exceeds 65ºC.\n",
    "\n",
    "Follow the steps so that you can make the decision.\n",
    "\n",
    "#### 1. Find the minimum temperature of the day and store it in a variable."
   ]
  },
  {
   "cell_type": "code",
   "execution_count": 2,
   "metadata": {},
   "outputs": [
    {
     "name": "stdout",
     "output_type": "stream",
     "text": [
      "The minimum temperature of the day is 0°C.\n"
     ]
    }
   ],
   "source": [
    "min_temp = min(temperatures_C)\n",
    "print(f\"The minimum temperature of the day is {min_temp}°C.\")"
   ]
  },
  {
   "cell_type": "markdown",
   "metadata": {},
   "source": [
    "#### 2. Find the maximum temperature of the day and store it in a variable."
   ]
  },
  {
   "cell_type": "code",
   "execution_count": 3,
   "metadata": {},
   "outputs": [
    {
     "name": "stdout",
     "output_type": "stream",
     "text": [
      "The maximum temperature of the day is 90°C.\n"
     ]
    }
   ],
   "source": [
    "max_temp = max(temperatures_C)\n",
    "print(f\"The maximum temperature of the day is {max_temp}°C.\")"
   ]
  },
  {
   "cell_type": "markdown",
   "metadata": {},
   "source": [
    "#### 3. Create a list with the temperatures that are greater than or equal to 70ºC. Store it in a variable."
   ]
  },
  {
   "cell_type": "code",
   "execution_count": 4,
   "metadata": {},
   "outputs": [
    {
     "name": "stdout",
     "output_type": "stream",
     "text": [
      "The temperatures that are greater than or equal to 70°C: [70, 76, 80, 81, 80, 83, 90, 79].\n"
     ]
    }
   ],
   "source": [
    "greater70 = []\n",
    "for i in temperatures_C:\n",
    "    if i >= 70:\n",
    "        greater70.append(i)\n",
    "\n",
    "print(f\"The temperatures that are greater than or equal to 70°C: {greater70}.\")"
   ]
  },
  {
   "cell_type": "markdown",
   "metadata": {},
   "source": [
    "#### Alternative method"
   ]
  },
  {
   "cell_type": "code",
   "execution_count": 5,
   "metadata": {},
   "outputs": [
    {
     "name": "stdout",
     "output_type": "stream",
     "text": [
      "List of temperatures that are greater than or equal to 70°C: [70, 76, 80, 81, 80, 83, 90, 79].\n"
     ]
    }
   ],
   "source": [
    "above70 = [i for i in temperatures_C if i >= 70]\n",
    "print(f\"List of temperatures that are greater than or equal to 70°C: {above70}.\")"
   ]
  },
  {
   "cell_type": "markdown",
   "metadata": {},
   "source": [
    "#### 4. Find the average temperature of the day and store it in a variable."
   ]
  },
  {
   "cell_type": "code",
   "execution_count": 6,
   "metadata": {},
   "outputs": [
    {
     "name": "stdout",
     "output_type": "stream",
     "text": [
      "The average temperature of the day is 60.25°C.\n"
     ]
    }
   ],
   "source": [
    "average_temp = sum(temperatures_C)/len(temperatures_C)\n",
    "print(f\"The average temperature of the day is {average_temp:.2f}°C.\")"
   ]
  },
  {
   "cell_type": "markdown",
   "metadata": {},
   "source": [
    "#### Alternative method"
   ]
  },
  {
   "cell_type": "code",
   "execution_count": 7,
   "metadata": {},
   "outputs": [
    {
     "name": "stdout",
     "output_type": "stream",
     "text": [
      "The average temperature of the day is 60.25°C.\n"
     ]
    }
   ],
   "source": [
    "from statistics import mean, stdev\n",
    "avg_temp = mean(temperatures_C)\n",
    "print(f\"The average temperature of the day is {avg_temp:.2f}°C.\")"
   ]
  },
  {
   "cell_type": "markdown",
   "metadata": {},
   "source": [
    "#### 5. Imagine that there was a sensor failure at 3am and the data for that specific hour was not recorded. How would you estimate the missing value? Replace the current value of the list at 3am for an estimation. "
   ]
  },
  {
   "cell_type": "code",
   "execution_count": 8,
   "metadata": {},
   "outputs": [
    {
     "name": "stdout",
     "output_type": "stream",
     "text": [
      "The estimated temperature for 3am is 62.50°C.\n"
     ]
    }
   ],
   "source": [
    "\"\"\"\n",
    "Using the average of the temperature at 1am, 2am, 4am and 5am to provide an etimate temperature for 3am\n",
    "an attempt to minimise the effect of a possible 'outliner'\n",
    "\"\"\"\n",
    "average_1to5 = (temperatures_C[1] + temperatures_C[2] + temperatures_C[4] + temperatures_C[5])/4\n",
    "\n",
    "temperatures_C[3] = average_1to5\n",
    "\n",
    "print(f\"The estimated temperature for 3am is {average_1to5:.2f}°C.\")"
   ]
  },
  {
   "cell_type": "markdown",
   "metadata": {},
   "source": [
    "#### 6. Bonus: the maintenance staff is from the United States and does not understand the international metric system. Help them by converting the temperatures from Celsius to Fahrenheit.\n",
    "To know more about temperature conversion check this [link](https://en.wikipedia.org/wiki/Conversion_of_units_of_temperature).\n",
    "\n",
    "**Formula**: \n",
    "\n",
    "$F = 1.8 * C + 32$"
   ]
  },
  {
   "cell_type": "code",
   "execution_count": 9,
   "metadata": {},
   "outputs": [
    {
     "name": "stdout",
     "output_type": "stream",
     "text": [
      "The temperatures in Fahrenheit: [91.4, 150.8, 149.0, 144.5, 138.2, 140.0, 143.6, 147.2, 158.0, 168.8, 176.0, 177.8, 176.0, 181.4, 194.0, 174.2, 141.8, 127.4, 122.0, 120.2, 127.4, 118.4, 113.0, 102.2].\n"
     ]
    }
   ],
   "source": [
    "def c_to_f (c):\n",
    "    f = 1.8 * c + 32\n",
    "    return f\n",
    "\n",
    "temperatures_F = [round(c_to_f(i), 2) for i in temperatures_C]\n",
    "print(f\"The temperatures in Fahrenheit: {temperatures_F}.\")"
   ]
  },
  {
   "cell_type": "markdown",
   "metadata": {},
   "source": [
    "#### 7. Make a decision!\n",
    "Now it's time to make a decision taking into account what you have seen until now. \n",
    "\n",
    "Remember that if one of the following events occurs, then the cooling system needs to be replaced for a new one to avoid damaging the processor.\n",
    "* More than 4 temperatures are greater than or equal to 70ºC.\n",
    "* Any temperature is above 80ºC.\n",
    "* The average temperature exceeds 65ºC.\n",
    "\n",
    "#### To make your decision, check if any of the three conditions above is met. You might need to use some of the variables you created in steps 1 to 6. Print a message to show if the cooling system needs to be changed or not."
   ]
  },
  {
   "cell_type": "code",
   "execution_count": 10,
   "metadata": {},
   "outputs": [
    {
     "name": "stdout",
     "output_type": "stream",
     "text": [
      "Cooling system needs to be changed.\n"
     ]
    }
   ],
   "source": [
    "if (max_temp > 80) | (len(greater70) >= 4) | (average_temp > 65):\n",
    "    print(\"Cooling system needs to be changed.\")\n",
    "else:\n",
    "    print(\"Cooling system does not need to be changed.\")"
   ]
  },
  {
   "cell_type": "markdown",
   "metadata": {},
   "source": [
    "## Bonus\n",
    "\n",
    "The company has decided that the decision you made is not valid. They want you to analyze the data again but this time, the conditions that need to be met in order to change the cooling system are different.\n",
    "\n",
    "This time, if one of the following events occurs, then the cooling system needs to be replaced:\n",
    "* The temperature is greater than 70ºC during more than 4 consecutive hours.\n",
    "* Any temperature is above 80ºC.\n",
    "* The average temperature exceeds 65ºC.\n",
    "\n",
    "Follow the steps so that you can make the decision.\n",
    "\n",
    "#### 1. Create a list with the hours where the temperature is greater than 70ºC. Store it in a variable."
   ]
  },
  {
   "cell_type": "code",
   "execution_count": 11,
   "metadata": {},
   "outputs": [
    {
     "name": "stdout",
     "output_type": "stream",
     "text": [
      "The hours where the temperatures is greater than 70°C: [9, 10, 11, 12, 13, 14, 15]\n"
     ]
    }
   ],
   "source": [
    "hours_greater70 = [i for i in range(len(temperatures_C)) if temperatures_C[i] > 70]\n",
    "print(f\"The hours where the temperatures is greater than 70°C: {hours_greater70}\")"
   ]
  },
  {
   "cell_type": "markdown",
   "metadata": {},
   "source": [
    "#### 2. Check if the list you created in step 1 has more than 4 consecutive hours. "
   ]
  },
  {
   "cell_type": "code",
   "execution_count": 12,
   "metadata": {},
   "outputs": [
    {
     "name": "stdout",
     "output_type": "stream",
     "text": [
      "The hours where the temperature is greater than 70°C is more than 4 consecutive hours.\n"
     ]
    }
   ],
   "source": [
    "count = 0\n",
    "for i, temp in enumerate(hours_greater70[1:]):\n",
    "    if temp - hours_greater70[i] == 1:\n",
    "        count += 1\n",
    "if count > 4:\n",
    "    print(\"The hours where the temperature is greater than 70°C is more than 4 consecutive hours.\")"
   ]
  },
  {
   "cell_type": "markdown",
   "metadata": {},
   "source": [
    "#### 3. Make the decision!\n",
    "To make your decision, check if any of the three conditions is met. Print a message to show if the cooling system needs to be changed or not."
   ]
  },
  {
   "cell_type": "code",
   "execution_count": 13,
   "metadata": {},
   "outputs": [
    {
     "name": "stdout",
     "output_type": "stream",
     "text": [
      "Cooling system needs to be changed.\n"
     ]
    }
   ],
   "source": [
    "if (max_temp > 80) | (count > 4) | (average_temp > 65):\n",
    "    print(\"Cooling system needs to be changed.\")\n",
    "else:\n",
    "    print(\"Cooling system does not need to be changed.\")"
   ]
  },
  {
   "cell_type": "markdown",
   "metadata": {},
   "source": [
    "#### 4. Find the average value of the temperature lists (ºC and ºF). What is the relation between both average values?"
   ]
  },
  {
   "cell_type": "code",
   "execution_count": 14,
   "metadata": {},
   "outputs": [
    {
     "name": "stdout",
     "output_type": "stream",
     "text": [
      "The average values of the temperature lists are 62.85°C and 145.14°F.\n",
      "The average temperature in °C can be converted into °F by using the conversion formula:\n",
      "F = 1.8*C + 32\n"
     ]
    }
   ],
   "source": [
    "average_C = mean(temperatures_C)\n",
    "average_F = mean(temperatures_F)\n",
    "\n",
    "print(f\"The average values of the temperature lists are {average_C:.2f}°C and {average_F:.2f}°F.\\nThe average temperature in °C can be converted into °F by using the conversion formula:\\nF = 1.8*C + 32\")"
   ]
  },
  {
   "cell_type": "markdown",
   "metadata": {},
   "source": [
    "#### 5. Find the standard deviation of the temperature lists (ºC and ºF). What is the relation between both standard deviations?"
   ]
  },
  {
   "cell_type": "code",
   "execution_count": 15,
   "metadata": {},
   "outputs": [
    {
     "name": "stdout",
     "output_type": "stream",
     "text": [
      "The standard deviation of temperature lists are 14.9474°C and 14.9474°F.\n",
      "The standard deviation of the temperature in °C cannot be converted into °F by using the conversion formula.\n",
      "But instead by:\n",
      "F = 1.8*C\n",
      "This is because standard deviation does not change when a constant is added.\n"
     ]
    }
   ],
   "source": [
    "sd_C = stdev(temperatures_C)\n",
    "sd_F = stdev(temperatures_F)\n",
    "\n",
    "print(f\"The standard deviation of temperature lists are {sd_C:.4f}°C and {sd_C:.4f}°F.\\nThe standard deviation of the temperature in °C cannot be converted into °F by using the conversion formula.\\nBut instead by:\\nF = 1.8*C\\nThis is because standard deviation does not change when a constant is added.\")"
   ]
  }
 ],
 "metadata": {
  "kernelspec": {
   "display_name": "Python 3",
   "language": "python",
   "name": "python3"
  },
  "language_info": {
   "codemirror_mode": {
    "name": "ipython",
    "version": 3
   },
   "file_extension": ".py",
   "mimetype": "text/x-python",
   "name": "python",
   "nbconvert_exporter": "python",
   "pygments_lexer": "ipython3",
   "version": "3.8.2"
  }
 },
 "nbformat": 4,
 "nbformat_minor": 2
}
