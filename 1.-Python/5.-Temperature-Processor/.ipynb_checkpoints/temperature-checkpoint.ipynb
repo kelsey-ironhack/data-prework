{
 "cells": [
  {
   "cell_type": "markdown",
   "metadata": {},
   "source": [
    "<img src=\"https://bit.ly/2VnXWr2\" width=\"100\" align=\"left\">"
   ]
  },
  {
   "cell_type": "markdown",
   "metadata": {},
   "source": [
    "# Temperature Sensor\n",
    "\n",
    "There is a temperature sensor in the processor of your company's server. The company wants to analyze the data provided by the sensor to decide if they should change the cooling system for a better one. As changing the cooling system is expensive and you are an excellent data analyst, you can't make a decision without basis.\n",
    "\n",
    "## Tools\n",
    "You don't necessarily need to use all the tools. Maybe you opt to use some of them or completely different ones, they are given to help you shape the exercise. Programming exercises can be solved in many different ways.\n",
    "1. Data structures: **lists**\n",
    "2. Loops: **list comprehension**\n",
    "3. Functions: **min, max, print, len**\n",
    "4. Conditional statements: **if-elif-else**\n",
    "\n",
    "## Tasks\n",
    "The temperatures measured throughout the 24 hours of a day are:"
   ]
  },
  {
   "cell_type": "code",
   "execution_count": 2,
   "metadata": {},
   "outputs": [],
   "source": [
    "temperatures_C = [33, 66, 65, 0, 59, 60, 62, 64, 70, 76, 80, 81, 80, 83, 90, 79, 61, 53, 50, 49, 53, 48, 45, 39]"
   ]
  },
  {
   "cell_type": "markdown",
   "metadata": {},
   "source": [
    "The first element of the list is the temperature at 12am, the second element is the temperature at 1am, and so on. \n",
    "\n",
    "The company has decided that if one of the following events occurs, then the cooling system needs to be replaced for a new one to avoid damaging the processor.\n",
    "* More than 4 temperatures are greater than or equal to 70ºC.\n",
    "* Any temperature is above 80ºC.\n",
    "* The average temperature exceeds 65ºC.\n",
    "\n",
    "Follow the steps so that you can make the decision.\n",
    "\n",
    "#### 1. Find the minimum temperature of the day and store it in a variable."
   ]
  },
  {
   "cell_type": "code",
   "execution_count": 3,
   "metadata": {},
   "outputs": [
    {
     "name": "stdout",
     "output_type": "stream",
     "text": [
      "0\n"
     ]
    }
   ],
   "source": [
    "min_temp = min(temperatures_C)\n",
    "print(min_temp)"
   ]
  },
  {
   "cell_type": "markdown",
   "metadata": {},
   "source": [
    "#### 2. Find the maximum temperature of the day and store it in a variable."
   ]
  },
  {
   "cell_type": "code",
   "execution_count": 4,
   "metadata": {},
   "outputs": [
    {
     "name": "stdout",
     "output_type": "stream",
     "text": [
      "90\n"
     ]
    }
   ],
   "source": [
    "max_temp = max(temperatures_C)\n",
    "print(max_temp)"
   ]
  },
  {
   "cell_type": "markdown",
   "metadata": {},
   "source": [
    "#### 3. Create a list with the temperatures that are greater than or equal to 70ºC. Store it in a variable."
   ]
  },
  {
   "cell_type": "code",
   "execution_count": 5,
   "metadata": {},
   "outputs": [
    {
     "name": "stdout",
     "output_type": "stream",
     "text": [
      "[70, 76, 80, 81, 80, 83, 90, 79]\n"
     ]
    }
   ],
   "source": [
    "temp_greater_equal_70 = []\n",
    "\n",
    "for temp in temperatures_C:\n",
    "    if temp >= 70:\n",
    "        temp_greater_equal_70.append(temp)\n",
    "\n",
    "print(temp_greater_equal_70)"
   ]
  },
  {
   "cell_type": "markdown",
   "metadata": {},
   "source": [
    "#### 4. Find the average temperature of the day and store it in a variable."
   ]
  },
  {
   "cell_type": "code",
   "execution_count": 6,
   "metadata": {},
   "outputs": [
    {
     "name": "stdout",
     "output_type": "stream",
     "text": [
      "60.25\n"
     ]
    }
   ],
   "source": [
    "avg_temp = sum(temperatures_C)/len(temperatures_C)\n",
    "print(avg_temp)"
   ]
  },
  {
   "cell_type": "markdown",
   "metadata": {},
   "source": [
    "#### 5. Imagine that there was a sensor failure at 3am and the data for that specific hour was not recorded. How would you estimate the missing value? Replace the current value of the list at 3am for an estimation. "
   ]
  },
  {
   "cell_type": "code",
   "execution_count": 9,
   "metadata": {},
   "outputs": [
    {
     "name": "stdout",
     "output_type": "stream",
     "text": [
      "59.0\n",
      "[33, 66, 65, 59.0, 59, 60, 62, 64, 70, 76, 80, 81, 80, 83, 90, 79, 61, 53, 50, 49, 53, 48, 45, 39]\n"
     ]
    }
   ],
   "source": [
    "temp_3am = temperatures_C[2] + (temperatures_C[4] - temperatures_C[2])/(4-2)*(4-2)\n",
    "print(temp_3am)\n",
    "\n",
    "# Replace temperature at 3am with temp_3am\n",
    "temperatures_C[3] = temp_3am\n",
    "print(temperatures_C)"
   ]
  },
  {
   "cell_type": "markdown",
   "metadata": {},
   "source": [
    "#### 6. Bonus: the maintenance staff is from the United States and does not understand the international metric system. Help them by converting the temperatures from Celsius to Fahrenheit.\n",
    "To know more about temperature conversion check this [link](https://en.wikipedia.org/wiki/Conversion_of_units_of_temperature).\n",
    "\n",
    "**Formula**: \n",
    "\n",
    "$F = 1.8 * C + 32$"
   ]
  },
  {
   "cell_type": "code",
   "execution_count": 10,
   "metadata": {},
   "outputs": [
    {
     "name": "stdout",
     "output_type": "stream",
     "text": [
      "[91.4, 150.8, 149.0, 138.2, 138.2, 140.0, 143.60000000000002, 147.2, 158.0, 168.8, 176.0, 177.8, 176.0, 181.4, 194.0, 174.20000000000002, 141.8, 127.4, 122.0, 120.2, 127.4, 118.4, 113.0, 102.2]\n"
     ]
    }
   ],
   "source": [
    "temperatures_Fahrenheit = [(1.8 * temp + 32) for temp in temperatures_C]\n",
    "print(temperatures_Fahrenheit)"
   ]
  },
  {
   "cell_type": "markdown",
   "metadata": {},
   "source": [
    "#### 7. Make a decision!\n",
    "Now it's time to make a decision taking into account what you have seen until now. \n",
    "\n",
    "Remember that if one of the following events occurs, then the cooling system needs to be replaced for a new one to avoid damaging the processor.\n",
    "* More than 4 temperatures are greater than or equal to 70ºC.\n",
    "* Any temperature is above 80ºC.\n",
    "* The average temperature exceeds 65ºC.\n",
    "\n",
    "#### To make your decision, check if any of the three conditions above is met. You might need to use some of the variables you created in steps 1 to 6. Print a message to show if the cooling system needs to be changed or not."
   ]
  },
  {
   "cell_type": "code",
   "execution_count": 11,
   "metadata": {},
   "outputs": [
    {
     "name": "stdout",
     "output_type": "stream",
     "text": [
      "Cooling system needs to be changed.\n"
     ]
    }
   ],
   "source": [
    "if len(temp_greater_equal_70) > 4 or any(temp > 80 for temp in temperatures_C) or sum(temperatures_C)/len(temperatures_C) > 65:\n",
    "    print(\"Cooling system needs to be changed.\")\n",
    "else:\n",
    "    print(\"Cooling system doesn't need to be changed.\")"
   ]
  },
  {
   "cell_type": "markdown",
   "metadata": {},
   "source": [
    "## Bonus\n",
    "\n",
    "The company has decided that the decision you made is not valid. They want you to analyze the data again but this time, the conditions that need to be met in order to change the cooling system are different.\n",
    "\n",
    "This time, if one of the following events occurs, then the cooling system needs to be replaced:\n",
    "* The temperature is greater than 70ºC during more than 4 consecutive hours.\n",
    "* Any temperature is above 80ºC.\n",
    "* The average temperature exceeds 65ºC.\n",
    "\n",
    "Follow the steps so that you can make the decision.\n",
    "\n",
    "#### 1. Create a list with the hours where the temperature is greater than 70ºC. Store it in a variable."
   ]
  },
  {
   "cell_type": "code",
   "execution_count": 12,
   "metadata": {},
   "outputs": [
    {
     "name": "stdout",
     "output_type": "stream",
     "text": [
      "[9, 10, 11, 12, 13, 14, 15]\n"
     ]
    }
   ],
   "source": [
    "hour_temp_greater_70 = []\n",
    "for hour, temp in enumerate(temperatures_C):\n",
    "    if temp > 70:\n",
    "        hour_temp_greater_70.append(hour)\n",
    "\n",
    "print(hour_temp_greater_70)"
   ]
  },
  {
   "cell_type": "markdown",
   "metadata": {},
   "source": [
    "#### 2. Check if the list you created in step 1 has more than 4 consecutive hours. "
   ]
  },
  {
   "cell_type": "code",
   "execution_count": 16,
   "metadata": {},
   "outputs": [
    {
     "name": "stdout",
     "output_type": "stream",
     "text": [
      "Cooling system above 70°C from hour  9  to  13 ! That's more than 4 consecutive hours.\n",
      "Cooling system above 70°C from hour  10  to  14 ! That's more than 4 consecutive hours.\n",
      "Cooling system above 70°C from hour  11  to  15 ! That's more than 4 consecutive hours.\n"
     ]
    }
   ],
   "source": [
    "# Variante 2\n",
    "C_70_for_4h = False\n",
    "for index, hour in enumerate(hour_temp_greater_70):\n",
    "    \n",
    "    # Liste nur bis zum Ende prüfen\n",
    "    if index+4 >= len(hour_temp_greater_70):\n",
    "        break\n",
    "        \n",
    "    if hour_temp_greater_70[index+1] - hour_temp_greater_70[index] == 1 \\\n",
    "    and hour_temp_greater_70[index+2] - hour_temp_greater_70[index+1] == 1 \\\n",
    "    and hour_temp_greater_70[index+3] - hour_temp_greater_70[index+2] == 1 \\\n",
    "    and hour_temp_greater_70[index+4] - hour_temp_greater_70[index+3] == 1:\n",
    "        print(\"Cooling system above 70°C from hour \", hour_temp_greater_70[index], \" to \", hour_temp_greater_70[index+4], \"! That's more than 4 consecutive hours.\")\n",
    "        C_70_for_4h = True"
   ]
  },
  {
   "cell_type": "markdown",
   "metadata": {},
   "source": [
    "#### 3. Make the decision!\n",
    "To make your decision, check if any of the three conditions is met. Print a message to show if the cooling system needs to be changed or not."
   ]
  },
  {
   "cell_type": "code",
   "execution_count": 17,
   "metadata": {
    "scrolled": true
   },
   "outputs": [
    {
     "name": "stdout",
     "output_type": "stream",
     "text": [
      "Cooling system needs to be changed.\n"
     ]
    }
   ],
   "source": [
    "if C_70_for_4h == True or any(temp > 80 for temp in temperatures_C) or sum(temperatures_C)/len(temperatures_C) > 65:\n",
    "    print(\"Cooling system needs to be changed.\")\n",
    "else:\n",
    "    print(\"Cooling system doesn't need to be changed.\")"
   ]
  },
  {
   "cell_type": "markdown",
   "metadata": {},
   "source": [
    "#### 4. Find the average value of the temperature lists (ºC and ºF). What is the relation between both average values?"
   ]
  },
  {
   "cell_type": "code",
   "execution_count": 20,
   "metadata": {},
   "outputs": [
    {
     "name": "stdout",
     "output_type": "stream",
     "text": [
      "62.708333333333336 °Celsius 144.875 Fahrenheit\n",
      "Average Fahrenheit = 1.8 * Average Celsius + 32.\n"
     ]
    }
   ],
   "source": [
    "avg_C = sum(temperatures_C)/len(temperatures_C)\n",
    "avg_Fahrenheit = sum(temperatures_Fahrenheit)/len(temperatures_Fahrenheit)\n",
    "\n",
    "print(avg_C, \"°Celsius\", avg_Fahrenheit, \"Fahrenheit\")\n",
    "\n",
    "# 𝐹 = 1.8 * 𝐶 + 32\n",
    "\n",
    "if avg_Fahrenheit == 1.8 * avg_C + 32:\n",
    "    print(\"Average Fahrenheit = 1.8 * Average Celsius + 32.\")"
   ]
  },
  {
   "cell_type": "markdown",
   "metadata": {},
   "source": [
    "#### 5. Find the standard deviation of the temperature lists (ºC and ºF). What is the relation between both standard deviations?"
   ]
  },
  {
   "cell_type": "code",
   "execution_count": 23,
   "metadata": {},
   "outputs": [
    {
     "name": "stdout",
     "output_type": "stream",
     "text": [
      "[882.5850694444446, 10.835069444444429, 5.2517361111111, 13.751736111111128, 13.751736111111128, 7.335069444444457, 0.5017361111111145, 1.6684027777777717, 53.16840277777774, 176.66840277777771, 299.00173611111103, 334.58506944444434, 299.00173611111103, 411.75173611111103, 744.8350694444443, 265.4184027777777, 2.9184027777777857, 94.25173611111116, 161.50173611111117, 187.91840277777786, 94.25173611111116, 216.3350694444445, 313.5850694444445, 562.0850694444446]\n",
      "Standard deviation of temperatures in Celsius is 14.65 .\n",
      "[2859.5756249999995, 35.10562500000013, 17.015625, 44.55562500000015, 44.55562500000015, 23.765625, 1.625624999999942, 5.405624999999947, 172.265625, 572.4056250000006, 968.765625, 1084.0556250000006, 968.765625, 1334.0756250000004, 2413.265625, 859.955625000001, 9.45562499999993, 305.3756249999998, 523.265625, 608.8556249999998, 305.3756249999998, 700.9256249999997, 1016.015625, 1821.1556249999996]\n",
      "Standard deviation of temperatures in Fahrenheit is 26.38 .\n",
      "Fahrenheit = 1.8 * Celsius.\n"
     ]
    }
   ],
   "source": [
    "squared_difference_temp_C = []\n",
    "\n",
    "for temp in temperatures_C:\n",
    "    squared_difference_temp_C.append((temp - avg_C)**2)\n",
    "\n",
    "print(squared_difference_temp_C)\n",
    "\n",
    "stdev_temp_C = (sum(squared_difference_temp_C)/len(squared_difference_temp_C))**(1/2)\n",
    "print(\"Standard deviation of temperatures in Celsius is\", round(stdev_temp_C, 2), \".\")\n",
    "\n",
    "squared_difference_temp_Fahrenheit = []\n",
    "\n",
    "for temp in temperatures_Fahrenheit:\n",
    "    squared_difference_temp_Fahrenheit.append((temp - avg_Fahrenheit)**2)\n",
    "\n",
    "print(squared_difference_temp_Fahrenheit)\n",
    "\n",
    "stdev_temp_Fahrenheit = (sum(squared_difference_temp_Fahrenheit)/len(squared_difference_temp_Fahrenheit))**(1/2)\n",
    "print(\"Standard deviation of temperatures in Fahrenheit is\", round(stdev_temp_Fahrenheit, 2), \".\")\n",
    "\n",
    "# Relation of Fahrenheit and Celsius standard deviation\n",
    "if round(stdev_temp_Fahrenheit, 2) == round(1.8 * stdev_temp_C, 2):\n",
    "    print(\"Fahrenheit = 1.8 * Celsius.\")"
   ]
  },
  {
   "cell_type": "code",
   "execution_count": null,
   "metadata": {},
   "outputs": [],
   "source": []
  }
 ],
 "metadata": {
  "kernelspec": {
   "display_name": "Python 3",
   "language": "python",
   "name": "python3"
  },
  "language_info": {
   "codemirror_mode": {
    "name": "ipython",
    "version": 3
   },
   "file_extension": ".py",
   "mimetype": "text/x-python",
   "name": "python",
   "nbconvert_exporter": "python",
   "pygments_lexer": "ipython3",
   "version": "3.8.3"
  }
 },
 "nbformat": 4,
 "nbformat_minor": 2
}
