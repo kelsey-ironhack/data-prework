{
 "cells": [
  {
   "cell_type": "markdown",
   "metadata": {},
   "source": [
    "<img src=\"https://bit.ly/2VnXWr2\" width=\"100\" align=\"left\">"
   ]
  },
  {
   "cell_type": "markdown",
   "metadata": {},
   "source": [
    "# Temperature Sensor\n",
    "\n",
    "There is a temperature sensor in the processor of your company's server. The company wants to analyze the data provided by the sensor to decide if they should change the cooling system for a better one. As changing the cooling system is expensive and you are an excellent data analyst, you can't make a decision without basis.\n",
    "\n",
    "## Tools\n",
    "You don't necessarily need to use all the tools. Maybe you opt to use some of them or completely different ones, they are given to help you shape the exercise. Programming exercises can be solved in many different ways.\n",
    "1. Data structures: **lists**\n",
    "2. Loops: **list comprehension**\n",
    "3. Functions: **min, max, print, len**\n",
    "4. Conditional statements: **if-elif-else**\n",
    "\n",
    "## Tasks\n",
    "The temperatures measured throughout the 24 hours of a day are:"
   ]
  },
  {
   "cell_type": "code",
   "execution_count": 98,
   "metadata": {},
   "outputs": [],
   "source": [
    "from statistics import mean, stdev\n",
    "temperatures_C = [33, 66, 65, 0, 59, 60, 62, 64, 70, 76, 80, 81, 80, 83, 90, 79, 61, 53, 50, 49, 53, 48, 45, 39]"
   ]
  },
  {
   "cell_type": "markdown",
   "metadata": {},
   "source": [
    "The first element of the list is the temperature at 12am, the second element is the temperature at 1am, and so on. \n",
    "\n",
    "The company has decided that if one of the following events occurs, then the cooling system needs to be replaced for a new one to avoid damaging the processor.\n",
    "* More than 4 temperatures are greater than or equal to 70ºC.\n",
    "* Any temperature is above 80ºC.\n",
    "* The average temperature exceeds 65ºC.\n",
    "\n",
    "Follow the steps so that you can make the decision.\n",
    "\n",
    "#### 1. Find the minimum temperature of the day and store it in a variable."
   ]
  },
  {
   "cell_type": "code",
   "execution_count": 99,
   "metadata": {},
   "outputs": [
    {
     "name": "stdout",
     "output_type": "stream",
     "text": [
      "The minimum temperature of the day: 0\n"
     ]
    }
   ],
   "source": [
    "min_temperature = min(temperatures_C)\n",
    "print(\"The minimum temperature of the day:\",min_temperature)"
   ]
  },
  {
   "cell_type": "markdown",
   "metadata": {},
   "source": [
    "#### 2. Find the maximum temperature of the day and store it in a variable."
   ]
  },
  {
   "cell_type": "code",
   "execution_count": 100,
   "metadata": {},
   "outputs": [
    {
     "name": "stdout",
     "output_type": "stream",
     "text": [
      "The maximum temperature of the day: 90\n"
     ]
    }
   ],
   "source": [
    "max_temperature = max(temperatures_C)\n",
    "print(\"The maximum temperature of the day:\",max_temperature)"
   ]
  },
  {
   "cell_type": "markdown",
   "metadata": {},
   "source": [
    "#### 3. Create a list with the temperatures that are greater than or equal to 70ºC. Store it in a variable."
   ]
  },
  {
   "cell_type": "code",
   "execution_count": 101,
   "metadata": {},
   "outputs": [
    {
     "name": "stdout",
     "output_type": "stream",
     "text": [
      "24\n"
     ]
    }
   ],
   "source": [
    "temp_list_grt_70 = []\n",
    "num_temp_taken = len(temperatures_C)\n",
    "print(num_temp_taken)"
   ]
  },
  {
   "cell_type": "code",
   "execution_count": 102,
   "metadata": {},
   "outputs": [
    {
     "name": "stdout",
     "output_type": "stream",
     "text": [
      "The temperatures greater than or equal to 70: [70, 76, 80, 81, 80, 83, 90, 79]\n"
     ]
    }
   ],
   "source": [
    "for i in range (0, num_temp_taken):\n",
    "    if temperatures_C [i] >= 70:\n",
    "        temp_list_grt_70.append(temperatures_C [i])\n",
    "print(\"The temperatures greater than or equal to 70:\",temp_list_grt_70)\n",
    "   "
   ]
  },
  {
   "cell_type": "markdown",
   "metadata": {},
   "source": [
    "#### 4. Find the average temperature of the day and store it in a variable."
   ]
  },
  {
   "cell_type": "code",
   "execution_count": 103,
   "metadata": {},
   "outputs": [
    {
     "name": "stdout",
     "output_type": "stream",
     "text": [
      "The average temperature of the day: 60.25\n"
     ]
    }
   ],
   "source": [
    "avg_temperature = mean(temperatures_C)\n",
    "print(\"The average temperature of the day:\",avg_temperature)"
   ]
  },
  {
   "cell_type": "markdown",
   "metadata": {},
   "source": [
    "#### 5. Imagine that there was a sensor failure at 3am and the data for that specific hour was not recorded. How would you estimate the missing value? Replace the current value of the list at 3am for an estimation. "
   ]
  },
  {
   "cell_type": "code",
   "execution_count": 104,
   "metadata": {},
   "outputs": [
    {
     "name": "stdout",
     "output_type": "stream",
     "text": [
      "The new temperatures are: [33, 66, 65, 60, 59, 60, 62, 64, 70, 76, 80, 81, 80, 83, 90, 79, 61, 53, 50, 49, 53, 48, 45, 39]\n"
     ]
    }
   ],
   "source": [
    "\"removing the value and replacing it with the average value will make sense, as it is the most reliable estimate\"\n",
    "\n",
    "temperatures_C.remove(temperatures_C[3])\n",
    "temperatures_C.insert(3, int (avg_temperature))\n",
    "print(\"The new temperatures are:\",temperatures_C)\n",
    "\n"
   ]
  },
  {
   "cell_type": "markdown",
   "metadata": {},
   "source": [
    "#### 6. Bonus: the maintenance staff is from the United States and does not understand the international metric system. Help them by converting the temperatures from Celsius to Fahrenheit.\n",
    "To know more about temperature conversion check this [link](https://en.wikipedia.org/wiki/Conversion_of_units_of_temperature).\n",
    "\n",
    "**Formula**: \n",
    "\n",
    "$F = 1.8 * C + 32$"
   ]
  },
  {
   "cell_type": "code",
   "execution_count": 105,
   "metadata": {},
   "outputs": [
    {
     "name": "stdout",
     "output_type": "stream",
     "text": [
      "The temperatures in Farhenheit are: [91, 150, 149, 140, 138, 140, 143, 147, 158, 168, 176, 177, 176, 181, 194, 174, 141, 127, 122, 120, 127, 118, 113, 102]\n"
     ]
    }
   ],
   "source": [
    "temperatures_F = []\n",
    "\n",
    "for i in range (0, num_temp_taken):\n",
    "    \n",
    "    temperatures_F.append ( int((temperatures_C [i] * 1.8) + 32))\n",
    "\n",
    "print(\"The temperatures in Farhenheit are:\",temperatures_F)\n",
    "    "
   ]
  },
  {
   "cell_type": "markdown",
   "metadata": {},
   "source": [
    "#### 7. Make a decision!\n",
    "Now it's time to make a decision taking into account what you have seen until now. \n",
    "\n",
    "Remember that if one of the following events occurs, then the cooling system needs to be replaced for a new one to avoid damaging the processor.\n",
    "* More than 4 temperatures are greater than or equal to 70ºC.\n",
    "* Any temperature is above 80ºC.\n",
    "* The average temperature exceeds 65ºC.\n",
    "\n",
    "#### To make your decision, check if any of the three conditions above is met. You might need to use some of the variables you created in steps 1 to 6. Print a message to show if the cooling system needs to be changed or not."
   ]
  },
  {
   "cell_type": "code",
   "execution_count": 119,
   "metadata": {},
   "outputs": [
    {
     "name": "stdout",
     "output_type": "stream",
     "text": [
      "Cooling system need change: Alert : Temperature > 80 for 3 times\n",
      "Cooling system need change: Alert : more than 4 temperatures >= 70\n"
     ]
    }
   ],
   "source": [
    "temp_grt_80 = 0\n",
    "\n",
    "for i in range (0, len(temp_list_grt_70)):\n",
    "    \n",
    "      if temp_list_grt_70[i] > 80 :\n",
    "         \n",
    "         temp_grt_80 += 1  \n",
    "        \n",
    "print(\"Cooling system need change: Alert : Temperature > 80 for\",temp_grt_80,\"times\")\n",
    "\n",
    "if len(temp_list_grt_70) > 4:\n",
    "      \n",
    "        print(\"Cooling system need change: Alert : more than 4 temperatures >= 70\")\n",
    "    \n",
    "elif avg_temperature > 65 :\n",
    "    \n",
    "        print(\" Cooling system need change: Alert : Average temperature is > 65\")\n",
    "else:\n",
    "        print(\"The cooling system does not need to change\")"
   ]
  },
  {
   "cell_type": "markdown",
   "metadata": {},
   "source": [
    "## Bonus\n",
    "\n",
    "The company has decided that the decision you made is not valid. They want you to analyze the data again but this time, the conditions that need to be met in order to change the cooling system are different.\n",
    "\n",
    "This time, if one of the following events occurs, then the cooling system needs to be replaced:\n",
    "* The temperature is greater than 70ºC during more than 4 consecutive hours.\n",
    "* Any temperature is above 80ºC.\n",
    "* The average temperature exceeds 65ºC.\n",
    "\n",
    "Follow the steps so that you can make the decision.\n",
    "\n",
    "#### 1. Create a list with the hours where the temperature is greater than 70ºC. Store it in a variable."
   ]
  },
  {
   "cell_type": "code",
   "execution_count": 111,
   "metadata": {},
   "outputs": [
    {
     "name": "stdout",
     "output_type": "stream",
     "text": [
      "The hours where the temperature is greater than 70: [9, 10, 11, 12, 13, 14, 15]\n"
     ]
    }
   ],
   "source": [
    "hours_temp_grt_70 = []\n",
    "for i in range (0, num_temp_taken):\n",
    "    if temperatures_C [i] > 70:\n",
    "        hours_temp_grt_70.append(i)\n",
    "print(\"The hours where the temperature is greater than 70:\",hours_temp_grt_70)"
   ]
  },
  {
   "cell_type": "markdown",
   "metadata": {},
   "source": [
    "#### 2. Check if the list you created in step 1 has more than 4 consecutive hours. "
   ]
  },
  {
   "cell_type": "code",
   "execution_count": 118,
   "metadata": {},
   "outputs": [
    {
     "name": "stdout",
     "output_type": "stream",
     "text": [
      "The consecutive hours are greater than four and it's: 5\n"
     ]
    }
   ],
   "source": [
    "consecutive_hrs = 0\n",
    "for i in range (0, len(hours_temp_grt_70)):\n",
    "    if hours_temp_grt_70 [i+1] == hours_temp_grt_70 [i] + 1:\n",
    "        consecutive_hrs += 1\n",
    "          \n",
    "        if consecutive_hrs > 4:\n",
    "               break\n",
    "print(\"The consecutive hours are greater than four and it's:\",consecutive_hrs)"
   ]
  },
  {
   "cell_type": "markdown",
   "metadata": {},
   "source": [
    "#### 3. Make the decision!\n",
    "To make your decision, check if any of the three conditions is met. Print a message to show if the cooling system needs to be changed or not."
   ]
  },
  {
   "cell_type": "code",
   "execution_count": 123,
   "metadata": {},
   "outputs": [
    {
     "name": "stdout",
     "output_type": "stream",
     "text": [
      "Cooling system need change: Alert : Temperature > 80 for 3 times\n",
      "Cooling system need change: Alert : Temperature > 70ºC for more than 5  consecutive hours.\n"
     ]
    }
   ],
   "source": [
    "temp_grt_80 = 0\n",
    "\n",
    "for i in range (0, len(temp_list_grt_70)):\n",
    "    \n",
    "      if temp_list_grt_70[i] > 80 :\n",
    "         \n",
    "         temp_grt_80 += 1  \n",
    "        \n",
    "print(\"Cooling system need change: Alert : Temperature > 80 for\",temp_grt_80,\"times\")\n",
    "\n",
    "if consecutive_hrs > 4:\n",
    "      \n",
    "        print(\"Cooling system need change: Alert : Temperature > 70ºC for more than\",consecutive_hrs,\"consecutive hours.\")\n",
    "    \n",
    "elif avg_temperature > 65 :\n",
    "    \n",
    "        print(\" Cooling system need change: Alert : Average temperature is > 65\")\n",
    "else:\n",
    "        print(\"The cooling system does not need to change\")"
   ]
  },
  {
   "cell_type": "markdown",
   "metadata": {},
   "source": [
    "#### 4. Find the average value of the temperature lists (ºC and ºF). What is the relation between both average values?"
   ]
  },
  {
   "cell_type": "code",
   "execution_count": 127,
   "metadata": {},
   "outputs": [
    {
     "name": "stdout",
     "output_type": "stream",
     "text": [
      "The average of temp list in Farhenheit:  144.66666666666666\n",
      "The average of temp list in Celcius:  62.75\n"
     ]
    }
   ],
   "source": [
    "print(\"The average of temp list in Farhenheit: \",mean(temperatures_F))\n",
    "print(\"The average of temp list in Celcius: \",mean(temperatures_C))\n",
    "\"relation still exists: F= 1.8*C+32\""
   ]
  },
  {
   "cell_type": "markdown",
   "metadata": {},
   "source": [
    "#### 5. Find the standard deviation of the temperature lists (ºC and ºF). What is the relation between both standard deviations?"
   ]
  },
  {
   "cell_type": "code",
   "execution_count": 126,
   "metadata": {},
   "outputs": [
    {
     "name": "stdout",
     "output_type": "stream",
     "text": [
      "The standard deviation of temp list in Farhenheit:  26.916403058789047\n",
      "The standard deviation of temp list in Celcius:  14.958638626733965\n"
     ]
    }
   ],
   "source": [
    "print(\"The standard deviation of temp list in Farhenheit: \",stdev(temperatures_F))\n",
    "print(\"The standard deviation of temp list in Celcius: \",stdev(temperatures_C))\n",
    "\"relation still exists: F= 1.8*C+32\""
   ]
  }
 ],
 "metadata": {
  "kernelspec": {
   "display_name": "Python 3",
   "language": "python",
   "name": "python3"
  },
  "language_info": {
   "codemirror_mode": {
    "name": "ipython",
    "version": 3
   },
   "file_extension": ".py",
   "mimetype": "text/x-python",
   "name": "python",
   "nbconvert_exporter": "python",
   "pygments_lexer": "ipython3",
   "version": "3.7.6"
  }
 },
 "nbformat": 4,
 "nbformat_minor": 2
}
