{
 "cells": [
  {
   "cell_type": "markdown",
   "metadata": {},
   "source": [
    "<img src=\"https://bit.ly/2VnXWr2\" width=\"100\" align=\"left\">"
   ]
  },
  {
   "cell_type": "markdown",
   "metadata": {},
   "source": [
    "# Temperature Sensor\n",
    "\n",
    "There is a temperature sensor in the processor of your company's server. The company wants to analyze the data provided by the sensor to decide if they should change the cooling system for a better one. As changing the cooling system is expensive and you are an excellent data analyst, you can't make a decision without basis.\n",
    "\n",
    "## Tools\n",
    "You don't necessarily need to use all the tools. Maybe you opt to use some of them or completely different ones, they are given to help you shape the exercise. Programming exercises can be solved in many different ways.\n",
    "1. Data structures: **lists**\n",
    "2. Loops: **list comprehension**\n",
    "3. Functions: **min, max, print, len**\n",
    "4. Conditional statements: **if-elif-else**\n",
    "\n",
    "## Tasks\n",
    "The temperatures measured throughout the 24 hours of a day are:"
   ]
  },
  {
   "cell_type": "code",
   "execution_count": 27,
   "metadata": {},
   "outputs": [],
   "source": [
    "temperatures_C = [33, 66, 65, 0, 59, 60, 62, 64, 70, 76, 80, 81, 80, 83, 90, 79, 61, 53, 50, 49, 53, 48, 45, 39]"
   ]
  },
  {
   "cell_type": "markdown",
   "metadata": {},
   "source": [
    "The first element of the list is the temperature at 12am, the second element is the temperature at 1am, and so on. \n",
    "\n",
    "The company has decided that if one of the following events occurs, then the cooling system needs to be replaced for a new one to avoid damaging the processor.\n",
    "* More than 4 temperatures are greater than or equal to 70ºC.\n",
    "* Any temperature is above 80ºC.\n",
    "* The average temperature exceeds 65ºC.\n",
    "\n",
    "Follow the steps so that you can make the decision.\n",
    "\n",
    "#### 1. Find the minimum temperature of the day and store it in a variable."
   ]
  },
  {
   "cell_type": "code",
   "execution_count": 15,
   "metadata": {},
   "outputs": [
    {
     "name": "stdout",
     "output_type": "stream",
     "text": [
      "0\n"
     ]
    }
   ],
   "source": [
    "min_temp = min(temperatures_C)\n",
    "print(min_temp)"
   ]
  },
  {
   "cell_type": "markdown",
   "metadata": {},
   "source": [
    "#### 2. Find the maximum temperature of the day and store it in a variable."
   ]
  },
  {
   "cell_type": "code",
   "execution_count": 16,
   "metadata": {},
   "outputs": [
    {
     "name": "stdout",
     "output_type": "stream",
     "text": [
      "90\n"
     ]
    }
   ],
   "source": [
    "max_temp = max(temperatures_C)\n",
    "print (max_temp)"
   ]
  },
  {
   "cell_type": "markdown",
   "metadata": {},
   "source": [
    "#### 3. Create a list with the temperatures that are greater than or equal to 70ºC. Store it in a variable."
   ]
  },
  {
   "cell_type": "code",
   "execution_count": 17,
   "metadata": {},
   "outputs": [
    {
     "name": "stdout",
     "output_type": "stream",
     "text": [
      "[76, 80, 81, 80, 83, 90, 79]\n",
      "\n",
      "\n",
      "[76, 80, 81, 80, 83, 90, 79]\n"
     ]
    }
   ],
   "source": [
    "temp_up_70 = []\n",
    "\n",
    "over_70 = [temp for temp in temperatures_C if temp>70]\n",
    "\n",
    "print(over_70)\n",
    "\n",
    "print(\"\\n\")\n",
    "#or\n",
    "\n",
    "temp_up_70 = []\n",
    "\n",
    "for temp in temperatures_C:\n",
    "    if temp > 70:\n",
    "        temp_up_70.append(temp)\n",
    "\n",
    "print(temp_up_70)"
   ]
  },
  {
   "cell_type": "markdown",
   "metadata": {},
   "source": [
    "#### 4. Find the average temperature of the day and store it in a variable."
   ]
  },
  {
   "cell_type": "code",
   "execution_count": 18,
   "metadata": {},
   "outputs": [
    {
     "name": "stdout",
     "output_type": "stream",
     "text": [
      "60.25\n"
     ]
    }
   ],
   "source": [
    "avg_temp = sum(temperatures_C)/len(temperatures_C)\n",
    "print(avg_temp)"
   ]
  },
  {
   "cell_type": "markdown",
   "metadata": {},
   "source": [
    "#### 5. Imagine that there was a sensor failure at 3am and the data for that specific hour was not recorded. How would you estimate the missing value? Replace the current value of the list at 3am for an estimation. "
   ]
  },
  {
   "cell_type": "code",
   "execution_count": 28,
   "metadata": {
    "scrolled": true
   },
   "outputs": [
    {
     "name": "stdout",
     "output_type": "stream",
     "text": [
      "3\n",
      "0\n",
      "65.5\n",
      "[33, 66, 65, 65.5, 59, 60, 62, 64, 70, 76, 80, 81, 80, 83, 90, 79, 61, 53, 50, 49, 53, 48, 45, 39]\n"
     ]
    }
   ],
   "source": [
    "if temperatures_C.index(0) >= 0 and temperatures_C.index(0) < len(temperatures_C):\n",
    "    missing_value_idx = temperatures_C.index(0)\n",
    "    print(missing_value_idx)\n",
    "\n",
    "    missing_value = temperatures_C[missing_value_idx]\n",
    "\n",
    "    print(missing_value)\n",
    "\n",
    "    est_miss_value = (temperatures_C[missing_value_idx - 1] + temperatures_C[missing_value_idx - 2])/2\n",
    "    print(est_miss_value)\n",
    "\n",
    "    temperatures_C[missing_value_idx] = est_miss_value\n",
    "\n",
    "    print(temperatures_C)"
   ]
  },
  {
   "cell_type": "markdown",
   "metadata": {},
   "source": [
    "#### 6. Bonus: the maintenance staff is from the United States and does not understand the international metric system. Help them by converting the temperatures from Celsius to Fahrenheit.\n",
    "To know more about temperature conversion check this [link](https://en.wikipedia.org/wiki/Conversion_of_units_of_temperature).\n",
    "\n",
    "**Formula**: \n",
    "\n",
    "$F = 1.8 * C + 32$"
   ]
  },
  {
   "cell_type": "code",
   "execution_count": 29,
   "metadata": {},
   "outputs": [
    {
     "name": "stdout",
     "output_type": "stream",
     "text": [
      "[91.4, 150.8, 149.0, 149.9, 138.2, 140.0, 143.60000000000002, 147.2, 158.0, 168.8, 176.0, 177.8, 176.0, 181.4, 194.0, 174.20000000000002, 141.8, 127.4, 122.0, 120.2, 127.4, 118.4, 113.0, 102.2]\n",
      "\n",
      "\n",
      "[91, 151, 149, 150, 138, 140, 144, 147, 158, 169, 176, 178, 176, 181, 194, 174, 142, 127, 122, 120, 127, 118, 113, 102]\n"
     ]
    }
   ],
   "source": [
    "temp_f_round= []\n",
    "temp_f = []\n",
    "\n",
    "for c in temperatures_C:\n",
    "    f = 1.8 * c + 32\n",
    "    temp_f_round.append(round(f))\n",
    "    temp_f.append(f)\n",
    "\n",
    "print(temp_f)\n",
    "print(\"\\n\")\n",
    "print(temp_f_round)"
   ]
  },
  {
   "cell_type": "markdown",
   "metadata": {},
   "source": [
    "#### 7. Make a decision!\n",
    "Now it's time to make a decision taking into account what you have seen until now. \n",
    "\n",
    "Remember that if one of the following events occurs, then the cooling system needs to be replaced for a new one to avoid damaging the processor.\n",
    "* More than 4 temperatures are greater than or equal to 70ºC.\n",
    "* Any temperature is above 80ºC.\n",
    "* The average temperature exceeds 65ºC.\n",
    "\n",
    "#### To make your decision, check if any of the three conditions above is met. You might need to use some of the variables you created in steps 1 to 6. Print a message to show if the cooling system needs to be changed or not."
   ]
  },
  {
   "cell_type": "code",
   "execution_count": 43,
   "metadata": {},
   "outputs": [
    {
     "name": "stdout",
     "output_type": "stream",
     "text": [
      "the cooling system needs to be changed because the temp was 4 times higher or equal to 70\n"
     ]
    }
   ],
   "source": [
    "temp_count = 0\n",
    "\n",
    "temperatures_C = [70.5, 71, 70, 40.5, 40, 39, 70, 64, 68, 68, 68, 68, 68, 73, 68, 68, 61, 68, 68, 68, 68, 68, 68, 68]\n",
    "\n",
    "avg_temp = sum(temperatures_C)/len(temperatures_C)\n",
    "\n",
    "if avg_temp > 65:\n",
    "    print(\"the cooling system needs to be changed because the avg temp is higher that 65\")\n",
    "elif avg_temp <= 65:     \n",
    "    for c in temperatures_C:\n",
    "        if c >= 70:\n",
    "            temp_count += 1\n",
    "            if temp_count >= 4:\n",
    "                print(\"the cooling system needs to be changed because the temp was 4 times higher or equal to 70\")\n",
    "                break\n",
    "            elif c > 80: \n",
    "                print(\"the cooling system needs to be changed beacause the temperature rise up to 80 ºC\")\n",
    "                break\n",
    "\n",
    "else:\n",
    "    print(\"the cooling system doesn´t need to be changed\")\n",
    "        \n",
    "        \n",
    "        \n",
    "\n",
    "            \n",
    "        "
   ]
  },
  {
   "cell_type": "markdown",
   "metadata": {},
   "source": [
    "## Bonus\n",
    "\n",
    "The company has decided that the decision you made is not valid. They want you to analyze the data again but this time, the conditions that need to be met in order to change the cooling system are different.\n",
    "\n",
    "This time, if one of the following events occurs, then the cooling system needs to be replaced:\n",
    "* The temperature is greater than 70ºC during more than 4 consecutive hours.\n",
    "* Any temperature is above 80ºC.\n",
    "* The average temperature exceeds 65ºC.\n",
    "\n",
    "Follow the steps so that you can make the decision.\n",
    "\n",
    "#### 1. Create a list with the hours where the temperature is greater than 70ºC. Store it in a variable."
   ]
  },
  {
   "cell_type": "code",
   "execution_count": 155,
   "metadata": {},
   "outputs": [
    {
     "name": "stdout",
     "output_type": "stream",
     "text": [
      "[9, 10, 11, 12, 13, 14, 15]\n"
     ]
    }
   ],
   "source": [
    "#temperatures_C = [33, 86, 65, 65.5, 59, 80, 62, 64, 70, 76, 80, 81, 80, 83, 90, 79, 61, 53, 50, 49, 53, 48, 45, 39]\n",
    "\n",
    "\n",
    "hour_list = []\n",
    "\n",
    "hour = 0\n",
    "\n",
    "for c in temperatures_C:\n",
    "    if c > 70:\n",
    "        hour_list.append(hour)\n",
    "    hour += 1\n",
    "        \n",
    "print(hour_list)\n"
   ]
  },
  {
   "cell_type": "markdown",
   "metadata": {},
   "source": [
    "#### 2. Check if the list you created in step 1 has more than 4 consecutive hours. "
   ]
  },
  {
   "cell_type": "code",
   "execution_count": 2,
   "metadata": {},
   "outputs": [
    {
     "name": "stdout",
     "output_type": "stream",
     "text": [
      "1\n"
     ]
    }
   ],
   "source": [
    "#hour_list = [9, 10, 11, 12, 13, 14, 15]\n",
    "\n",
    "hour_list = [1,2,5,6,11,12,16,17,20,21]\n",
    "\n",
    "list_len = len(hour_list)\n",
    "\n",
    "index = 1\n",
    "\n",
    "cons_hours_count = 0\n",
    "\n",
    "while index < list_len:\n",
    "    inc = hour_list[index - 1] - hour_list[index]\n",
    "    if inc == -1:\n",
    "        cons_hours_count += 1\n",
    "        if cons_hours_count > 4:\n",
    "            print(\"It has more than 4 consecutive hours\")\n",
    "            cons_hours_count = 0\n",
    "    else:\n",
    "        cons_hours_count = 0\n",
    "    index += 1\n",
    "\n",
    "    \n",
    "else:\n",
    "    False\n",
    "\n",
    "print(cons_hours_count)      "
   ]
  },
  {
   "cell_type": "markdown",
   "metadata": {},
   "source": [
    "#### 3. Make the decision!\n",
    "To make your decision, check if any of the three conditions is met. Print a message to show if the cooling system needs to be changed or not."
   ]
  },
  {
   "cell_type": "code",
   "execution_count": 157,
   "metadata": {},
   "outputs": [
    {
     "name": "stdout",
     "output_type": "stream",
     "text": [
      "change the cooling system\n"
     ]
    }
   ],
   "source": [
    "for c in temperatures_C:\n",
    "    if cons_hours > 4 or c > 80 or avg_temp > 65:\n",
    "        print(\"change the cooling system\")\n",
    "        break\n",
    "else:\n",
    "    print(\"the cooling system is ok\")\n",
    "    "
   ]
  },
  {
   "cell_type": "markdown",
   "metadata": {},
   "source": [
    "#### 4. Find the average value of the temperature lists (ºC and ºF). What is the relation between both average values?"
   ]
  },
  {
   "cell_type": "code",
   "execution_count": 170,
   "metadata": {},
   "outputs": [
    {
     "name": "stdout",
     "output_type": "stream",
     "text": [
      "62.979166666666664\n",
      "145.29166666666666\n"
     ]
    }
   ],
   "source": [
    "import statistics \n",
    "\n",
    "avg_c = statistics.mean(temperatures_C)\n",
    "avg_f = statistics.mean(temp_f)\n",
    "\n",
    "print(avg_c)\n",
    "print(avg_f)\n",
    "\n",
    "\n",
    "#the relation is avg_f == avg_c * (1.8) + 32)\n",
    "\n",
    "#I don't know what is mean by realtion between both menas? It's how they convert to each other?"
   ]
  },
  {
   "cell_type": "markdown",
   "metadata": {},
   "source": [
    "#### 5. Find the standard deviation of the temperature lists (ºC and ºF). What is the relation between both standard deviations?"
   ]
  },
  {
   "cell_type": "code",
   "execution_count": 171,
   "metadata": {},
   "outputs": [
    {
     "name": "stdout",
     "output_type": "stream",
     "text": [
      "14.956806772856956\n",
      "27.008016791584176\n"
     ]
    }
   ],
   "source": [
    "\n",
    "std_c = statistics.stdev(temperatures_C)\n",
    "std_f = statistics.stdev(temp_f)\n",
    "\n",
    "print(std_c)\n",
    "print(std_f)\n",
    "\n",
    "# the relation is std_f == std_c * (1.8))\n",
    "\n",
    "#I don't know what is mean by realtion between both standard deviations???"
   ]
  }
 ],
 "metadata": {
  "kernelspec": {
   "display_name": "Python 3",
   "language": "python",
   "name": "python3"
  },
  "language_info": {
   "codemirror_mode": {
    "name": "ipython",
    "version": 3
   },
   "file_extension": ".py",
   "mimetype": "text/x-python",
   "name": "python",
   "nbconvert_exporter": "python",
   "pygments_lexer": "ipython3",
   "version": "3.7.6"
  }
 },
 "nbformat": 4,
 "nbformat_minor": 2
}
