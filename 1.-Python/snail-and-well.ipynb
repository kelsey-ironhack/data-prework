{
 "cells": [
  {
   "cell_type": "markdown",
   "metadata": {},
   "source": [
    "<img src=\"https://bit.ly/2VnXWr2\" width=\"100\" align=\"left\">"
   ]
  },
  {
   "cell_type": "markdown",
   "metadata": {},
   "source": [
    "# The Snail and the Well\n",
    "\n",
    "A snail falls at the bottom of a 125 cm well. Each day the snail rises 30 cm. But at night, while sleeping, slides 20 cm because the walls are wet. How many days does it take for the snail to escape the well?\n",
    "\n",
    "**Hint**: The snail gets out of the well when it surpasses the 125cm of height.\n",
    "\n",
    "## Tools\n",
    "\n",
    "1. Loop: **while**\n",
    "2. Conditional statements: **if-else**\n",
    "3. Function: **print()**\n",
    "\n",
    "## Tasks\n",
    "\n",
    "#### 1. Assign the challenge data to variables with representative names: `well_height`, `daily_distance`, `nightly_distance` and `snail_position`."
   ]
  },
  {
   "cell_type": "code",
   "execution_count": 2,
   "metadata": {},
   "outputs": [],
   "source": [
    "well_height = -125\n",
    "daily_distance = 30\n",
    "nightly_distance = -20\n",
    "snail_position = -125"
   ]
  },
  {
   "cell_type": "markdown",
   "metadata": {},
   "source": [
    "#### 2. Create a variable `days` to keep count of the days that pass until the snail escapes the well. "
   ]
  },
  {
   "cell_type": "code",
   "execution_count": 3,
   "metadata": {},
   "outputs": [],
   "source": [
    "days = 0"
   ]
  },
  {
   "cell_type": "markdown",
   "metadata": {},
   "source": [
    "#### 3. Find the solution to the challenge using the variables defined above. "
   ]
  },
  {
   "cell_type": "code",
   "execution_count": 4,
   "metadata": {},
   "outputs": [
    {
     "name": "stdout",
     "output_type": "stream",
     "text": [
      "-115\n",
      "-105\n",
      "-95\n",
      "-85\n",
      "-75\n",
      "-65\n",
      "-55\n",
      "-45\n",
      "-35\n",
      "-25\n",
      "-15\n",
      "-5\n",
      "5\n"
     ]
    }
   ],
   "source": [
    "while snail_position<0:\n",
    "    days+=1\n",
    "    snail_position=(well_height)+(daily_distance*days)+(nightly_distance*days)\n",
    "    print(snail_position)"
   ]
  },
  {
   "cell_type": "markdown",
   "metadata": {},
   "source": [
    "#### 4. Print the solution."
   ]
  },
  {
   "cell_type": "code",
   "execution_count": 5,
   "metadata": {},
   "outputs": [
    {
     "name": "stdout",
     "output_type": "stream",
     "text": [
      "The snail escaped in 13 days\n"
     ]
    }
   ],
   "source": [
    "print(\"The snail escaped in\", days, \"days\")"
   ]
  },
  {
   "cell_type": "markdown",
   "metadata": {},
   "source": [
    "## Bonus\n",
    "The distance traveled by the snail each day is now defined by a list.\n",
    "```\n",
    "advance_cm = [30, 21, 33, 77, 44, 45, 23, 45, 12, 34, 55]\n",
    "```\n",
    "On the first day, the snail rises 30cm but during the night it slides 20cm. On the second day, the snail rises 21cm but during the night it slides 20cm, and so on. \n",
    "\n",
    "#### 1. How many days does it take for the snail to escape the well?\n",
    "Follow the same guidelines as in the previous challenge.\n",
    "\n",
    "**Hint**: Remember that the snail gets out of the well when it surpasses the 125cm of height."
   ]
  },
  {
   "cell_type": "code",
   "execution_count": 6,
   "metadata": {},
   "outputs": [
    {
     "name": "stdout",
     "output_type": "stream",
     "text": [
      "-115\n",
      "-123\n",
      "-86\n",
      "103\n",
      "The snail has lasted  4 days to reach the surface\n"
     ]
    }
   ],
   "source": [
    "advance_cm = [30, 21, 33, 77, 44, 45, 23, 45, 12, 34, 55]\n",
    "well_height=-125\n",
    "nightly_distance=-20\n",
    "snail_position=-125\n",
    "days=0\n",
    "\n",
    "days+=1\n",
    "while snail_position<0:\n",
    "    if (days<=len(advance_cm)) & (snail_position<0):\n",
    "        snail_position=(well_height)+(advance_cm[days-1]*(days))+(nightly_distance*(days))\n",
    "        if snail_position<0:\n",
    "            days+=1\n",
    "            print(snail_position)\n",
    "        else:\n",
    "            print(snail_position)\n",
    "            print(\"The snail has lasted \",days,\"days to reach the surface\")\n",
    "    elif (days<len(advance_cm)) & (snail_position>=0):\n",
    "        snail_position=(well_height)+(advance_cm[days-1]*(days))+(nightly_distance*(days))\n",
    "        print(snail_position)\n",
    "        print(\"The snail has lasted \",days,\"days to reach the surface\")\n",
    "    else:\n",
    "        print(\"The snail has not been able to scape from the well\")\n",
    "        snail_position=0"
   ]
  },
  {
   "cell_type": "markdown",
   "metadata": {},
   "source": [
    "#### 2. What is its maximum displacement in one day? And its minimum? Calculate the displacement using only the travel distance of the days used to get out of the well. \n",
    "**Hint**: Remember that displacement means the total distance risen taking into account that the snail slides at night.  "
   ]
  },
  {
   "cell_type": "code",
   "execution_count": 7,
   "metadata": {},
   "outputs": [],
   "source": [
    "advance_cm = [30, 21, 33, 77, 44, 45, 23, 45, 12, 34, 55]\n",
    "distance_max=advance_cm[0]\n",
    "distance_min=advance_cm[0]\n",
    "nightly_distance=-20\n",
    "\n",
    "for advance in advance_cm[:days]:\n",
    "    if advance>=distance_max:\n",
    "        distance_max=advance\n",
    "    elif advance<distance_min:\n",
    "        distance_min=advance"
   ]
  },
  {
   "cell_type": "code",
   "execution_count": 8,
   "metadata": {},
   "outputs": [],
   "source": [
    "distance_max=distance_max+nightly_distance\n",
    "distance_min=distance_min+nightly_distance"
   ]
  },
  {
   "cell_type": "code",
   "execution_count": 9,
   "metadata": {
    "scrolled": true
   },
   "outputs": [
    {
     "name": "stdout",
     "output_type": "stream",
     "text": [
      "The maximum displacement is 57 cm\n",
      "The minimum displacement is 1 cm\n"
     ]
    }
   ],
   "source": [
    "print(\"The maximum displacement is\", distance_max,\"cm\")\n",
    "print(\"The minimum displacement is\", distance_min,\"cm\")"
   ]
  },
  {
   "cell_type": "markdown",
   "metadata": {},
   "source": [
    "#### 3. What is its average progress? Take into account the snail slides at night."
   ]
  },
  {
   "cell_type": "code",
   "execution_count": 10,
   "metadata": {},
   "outputs": [
    {
     "name": "stdout",
     "output_type": "stream",
     "text": [
      "The average progress of displacement is 38.09090909090909\n"
     ]
    }
   ],
   "source": [
    "from statistics import mean\n",
    "print(\"The average progress of displacement is\", mean(advance_cm))"
   ]
  },
  {
   "cell_type": "markdown",
   "metadata": {},
   "source": [
    "#### 4. What is the standard deviation of its displacement? Take into account the snail slides at night."
   ]
  },
  {
   "cell_type": "code",
   "execution_count": 11,
   "metadata": {},
   "outputs": [
    {
     "name": "stdout",
     "output_type": "stream",
     "text": [
      "The standard deviation of displacement is 17.996969441850734\n"
     ]
    }
   ],
   "source": [
    "from statistics import stdev\n",
    "print(\"The standard deviation of displacement is\", stdev(advance_cm))"
   ]
  },
  {
   "cell_type": "code",
   "execution_count": null,
   "metadata": {},
   "outputs": [],
   "source": []
  }
 ],
 "metadata": {
  "kernelspec": {
   "display_name": "Python 3",
   "language": "python",
   "name": "python3"
  },
  "language_info": {
   "codemirror_mode": {
    "name": "ipython",
    "version": 3
   },
   "file_extension": ".py",
   "mimetype": "text/x-python",
   "name": "python",
   "nbconvert_exporter": "python",
   "pygments_lexer": "ipython3",
   "version": "3.7.3"
  }
 },
 "nbformat": 4,
 "nbformat_minor": 2
}
