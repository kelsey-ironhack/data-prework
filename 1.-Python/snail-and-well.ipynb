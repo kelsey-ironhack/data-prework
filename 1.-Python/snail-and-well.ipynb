{
 "cells": [
  {
   "cell_type": "markdown",
   "metadata": {},
   "source": [
    "<img src=\"https://bit.ly/2VnXWr2\" width=\"100\" align=\"left\">"
   ]
  },
  {
   "cell_type": "markdown",
   "metadata": {},
   "source": [
    "# The Snail and the Well\n",
    "\n",
    "A snail falls at the bottom of a 125 cm well. Each day the snail rises 30 cm. But at night, while sleeping, slides 20 cm because the walls are wet. How many days does it take for the snail to escape the well?\n",
    "\n",
    "**Hint**: The snail gets out of the well when it surpasses the 125cm of height.\n",
    "\n",
    "## Tools\n",
    "\n",
    "1. Loop: **while**\n",
    "2. Conditional statements: **if-else**\n",
    "3. Function: **print()**\n",
    "\n",
    "## Tasks\n",
    "\n",
    "#### 1. Assign the challenge data to variables with representative names: `well_height`, `daily_distance`, `nightly_distance` and `snail_position`."
   ]
  },
  {
   "cell_type": "code",
   "execution_count": 3,
   "metadata": {},
   "outputs": [],
   "source": [
    "wall_height = 125\n",
    "daily_distance = 30\n",
    "nightly_distance = -20\n",
    "snail_position = 0"
   ]
  },
  {
   "cell_type": "markdown",
   "metadata": {},
   "source": [
    "#### 2. Create a variable `days` to keep count of the days that pass until the snail escapes the well. "
   ]
  },
  {
   "cell_type": "code",
   "execution_count": 4,
   "metadata": {},
   "outputs": [],
   "source": [
    "days = 0 "
   ]
  },
  {
   "cell_type": "markdown",
   "metadata": {},
   "source": [
    "#### 3. Find the solution to the challenge using the variables defined above. "
   ]
  },
  {
   "cell_type": "code",
   "execution_count": 5,
   "metadata": {},
   "outputs": [
    {
     "name": "stdout",
     "output_type": "stream",
     "text": [
      "still climbing\n",
      "still climbing\n",
      "still climbing\n",
      "still climbing\n",
      "still climbing\n",
      "still climbing\n",
      "still climbing\n",
      "still climbing\n",
      "still climbing\n",
      "still climbing\n",
      "still climbing\n",
      "still climbing\n",
      "reached goal after:  13  days\n"
     ]
    }
   ],
   "source": [
    "while snail_position < wall_height:\n",
    "    snail_position += daily_distance + nightly_distance\n",
    "    days += 1\n",
    "    if snail_position < 125:\n",
    "        print(\"still climbing\")\n",
    "    else:\n",
    "        print(\"reached goal after: \", days, \" days\")"
   ]
  },
  {
   "cell_type": "markdown",
   "metadata": {},
   "source": [
    "#### 4. Print the solution."
   ]
  },
  {
   "cell_type": "code",
   "execution_count": 10,
   "metadata": {},
   "outputs": [
    {
     "name": "stdout",
     "output_type": "stream",
     "text": [
      "13\n"
     ]
    }
   ],
   "source": [
    "print(days)"
   ]
  },
  {
   "cell_type": "markdown",
   "metadata": {},
   "source": [
    "## Bonus\n",
    "The distance traveled by the snail each day is now defined by a list.\n",
    "```\n",
    "advance_cm = [30, 21, 33, 77, 44, 45, 23, 45, 12, 34, 55]\n",
    "```\n",
    "On the first day, the snail rises 30cm but during the night it slides 20cm. On the second day, the snail rises 21cm but during the night it slides 20cm, and so on. \n",
    "\n",
    "#### 1. How many days does it take for the snail to escape the well?\n",
    "Follow the same guidelines as in the previous challenge.\n",
    "\n",
    "**Hint**: Remember that the snail gets out of the well when it surpasses the 125cm of height."
   ]
  },
  {
   "cell_type": "code",
   "execution_count": 14,
   "metadata": {},
   "outputs": [
    {
     "name": "stdout",
     "output_type": "stream",
     "text": [
      "Today is day: 1\n",
      "Currently 10 cm\n",
      "Today is day: 2\n",
      "Currently 11 cm\n",
      "Today is day: 3\n",
      "Currently 24 cm\n",
      "Today is day: 4\n",
      "Currently 81 cm\n",
      "Today is day: 5\n",
      "Currently 105 cm\n",
      "Today is day: 6\n",
      "Currently 130 cm\n"
     ]
    }
   ],
   "source": [
    "wall_height = 125\n",
    "daily_distance = 30\n",
    "nightly_distance = -20\n",
    "snail_position = 0\n",
    "\n",
    "advance_cm = [30, 21, 33, 77, 44, 45, 23, 45, 12, 34, 55]\n",
    "\n",
    "days = 0\n",
    "\n",
    "while snail_position < wall_height:\n",
    "     for i in advance_cm:\n",
    "        if snail_position < wall_height:\n",
    "            days += 1\n",
    "            snail_position += i -20\n",
    "            print(\"Today is day:\", days)\n",
    "            print(\"Currently\", snail_position, \"cm\")"
   ]
  },
  {
   "cell_type": "markdown",
   "metadata": {},
   "source": [
    "#### 2. What is its maximum displacement in one day? And its minimum? Calculate the displacement using only the travel distance of the days used to get out of the well. \n",
    "**Hint**: Remember that displacement means the total distance risen taking into account that the snail slides at night.  "
   ]
  },
  {
   "cell_type": "code",
   "execution_count": 15,
   "metadata": {},
   "outputs": [
    {
     "name": "stdout",
     "output_type": "stream",
     "text": [
      "[10, 11, 24, 81, 105, 130]\n",
      "maximum in one day: 57\n",
      "minimum in one day: 1\n"
     ]
    }
   ],
   "source": [
    "wall_height = 125\n",
    "nightly_distance = -20\n",
    "snail_position = 0\n",
    "\n",
    "advance_cm = [30, 21, 33, 77, 44, 45]\n",
    "\n",
    "days = 0\n",
    "positions = []\n",
    "\n",
    "while snail_position < wall_height:\n",
    "     for i in advance_cm:\n",
    "        if snail_position < wall_height:\n",
    "            snail_position += i -20\n",
    "            positions.append(snail_position)\n",
    "print(positions)\n",
    "\n",
    "delta = [positions[i+1]-positions[i] for i in range(len(positions)-1)]\n",
    "\n",
    "print(\"maximum in one day:\", max(delta))\n",
    "\n",
    "print(\"minimum in one day:\", min(delta))"
   ]
  },
  {
   "cell_type": "markdown",
   "metadata": {},
   "source": [
    "#### 3. What is its average progress? Take into account the snail slides at night."
   ]
  },
  {
   "cell_type": "code",
   "execution_count": 16,
   "metadata": {},
   "outputs": [
    {
     "name": "stdout",
     "output_type": "stream",
     "text": [
      "average cm is: 24.0\n"
     ]
    }
   ],
   "source": [
    "average = sum(delta)/len(delta)\n",
    "print(\"average cm is:\", average)"
   ]
  },
  {
   "cell_type": "markdown",
   "metadata": {},
   "source": [
    "#### 4. What is the standard deviation of its displacement? Take into account the snail slides at night."
   ]
  },
  {
   "cell_type": "code",
   "execution_count": 17,
   "metadata": {},
   "outputs": [],
   "source": [
    "import statistics"
   ]
  },
  {
   "cell_type": "code",
   "execution_count": 18,
   "metadata": {},
   "outputs": [
    {
     "name": "stdout",
     "output_type": "stream",
     "text": [
      "Standard Deviation of sample is 20.85665361461421 \n"
     ]
    }
   ],
   "source": [
    "print(\"Standard Deviation of sample is % s \" \n",
    "                % (statistics.stdev(delta))) \n"
   ]
  },
  {
   "cell_type": "code",
   "execution_count": null,
   "metadata": {},
   "outputs": [],
   "source": []
  }
 ],
 "metadata": {
  "kernelspec": {
   "display_name": "Python 3",
   "language": "python",
   "name": "python3"
  },
  "language_info": {
   "codemirror_mode": {
    "name": "ipython",
    "version": 3
   },
   "file_extension": ".py",
   "mimetype": "text/x-python",
   "name": "python",
   "nbconvert_exporter": "python",
   "pygments_lexer": "ipython3",
   "version": "3.8.5"
  }
 },
 "nbformat": 4,
 "nbformat_minor": 2
}
