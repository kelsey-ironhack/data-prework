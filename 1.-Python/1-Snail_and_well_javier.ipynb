#FIRST ATTEMPT

well_height = 125
daily_distance = 30
nightly_distance = -20
total_distance_per_day = daily_distance + nightly_distance
days = 0

# snail position is the distance advanced daily
snail_position = (daily_distance * days) + (nightly_distance * (days - 1))

while snail_position <= 125:
    print(days)
    snail_position += total_distance_per_day
    days += 1

print("Yay! The snail escaped in", days, "days")


#BONUS

well_height = 125
advance_cm = [30, 21, 33, 77, 44, 45, 23, 45, 12, 34, 55]
nightly_distance = -20

snail_position = 0
days = 0
for a in advance_cm:
	if snail_position <= 125:
		total_distance_per_day = a + nightly_distance
		snail_position += total_distance_per_day
		days += 1
	else:
	    break

print("Yay! The snail escaped in", days, "days")

snail_position = 0
days = 0
displacement_list = []
for a in advance_cm:
	if snail_position <= 125:
		total_distance_per_day = a + nightly_distance
		snail_position += total_distance_per_day
		days += 1
		displacement = snail_position
		displacement_list.append(displacement)

print(displacement_list)
print("The maximum displacement in one day is", max(displacement_list), "cm")
print("The minimum displacement in one day is", min(displacement_list), "cm")

print("The average displacement is", sum(displacement_list)/len(displacement_list), "cm")