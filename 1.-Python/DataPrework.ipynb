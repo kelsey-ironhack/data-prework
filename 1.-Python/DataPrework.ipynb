{
 "cells": [
  {
   "cell_type": "markdown",
   "metadata": {},
   "source": [
    "Data exercises"
   ]
  },
  {
   "cell_type": "code",
   "execution_count": 16,
   "metadata": {},
   "outputs": [
    {
     "name": "stdout",
     "output_type": "stream",
     "text": [
      "Days are: 10\n"
     ]
    }
   ],
   "source": [
    "# SNAIL AND WELL\n",
    "cm=0\n",
    "ndays=0\n",
    "day=True\n",
    "while cm < 126:\n",
    "\n",
    "    if day==True:\n",
    "     cm+=30\n",
    "   \n",
    "    else:\n",
    "     cm-=20\n",
    "    if day ==True:\n",
    "        day=False\n",
    "    else:\n",
    "        day=True\n",
    "        ndays+=1\n",
    "\n",
    "print(\"Days are:\",ndays)"
   ]
  },
  {
   "cell_type": "code",
   "execution_count": 22,
   "metadata": {},
   "outputs": [
    {
     "name": "stdout",
     "output_type": "stream",
     "text": [
      "Gandalf wins\n"
     ]
    }
   ],
   "source": [
    "# Duel of Sorcerers\n",
    "gandalf=[10, 11, 13, 30, 22, 11, 10, 33, 22, 22]\n",
    "saruman=[23, 66, 12, 43, 12, 10, 44, 23, 12, 17]\n",
    "pointsgandalf=0\n",
    "pointssaruman=0\n",
    "for i in range (len(gandalf)):\n",
    "    if gandalf[i] > saruman[i]:\n",
    "        pointsgandalf+=1\n",
    "\n",
    "    else:\n",
    "        pointssaruman+=1\n",
    "if pointsgandalf>pointssaruman:\n",
    " print(\"Gandalf wins\")\n",
    "elif pointsofgandalf<pointssaruman:\n",
    " print(\"Saruman wins\")\n",
    "else:\n",
    "    print(\"Tie\")\n",
    "    \n",
    "\n",
    "\n",
    "    \n"
   ]
  },
  {
   "cell_type": "code",
   "execution_count": 31,
   "metadata": {},
   "outputs": [
    {
     "name": "stdout",
     "output_type": "stream",
     "text": [
      "4\n",
      "9\n",
      "9 5\n",
      "14\n",
      "14 5\n",
      "14\n",
      "14 5\n",
      "10\n",
      "14 5\n"
     ]
    }
   ],
   "source": [
    "#Bus stop\n",
    "# busstop = (in, out)\n",
    "stops = [(4, 0), (8, 3), (7, 7), (2, 6)]\n",
    "passengers=5\n",
    "maxm=passengers\n",
    "minm=passengers\n",
    "nstops=len(stops)\n",
    "print(nstops)\n",
    "for busstop in stops:\n",
    "    passengers+=busstop[0]\n",
    "    passengers-=busstop[1\n",
    "    print(passengers)]\n",
    "    if passengers>maxm:\n",
    "        maxm=passengers\n",
    "    if passengers<minm:\n",
    "        minm=passengers\n",
    "    print(maxm,minm)\n",
    "\n",
    "      \n",
    "     \n",
    "    "
   ]
  },
  {
   "cell_type": "code",
   "execution_count": null,
   "metadata": {},
   "outputs": [],
   "source": []
  },
  {
   "cell_type": "code",
   "execution_count": null,
   "metadata": {},
   "outputs": [],
   "source": []
  },
  {
   "cell_type": "code",
   "execution_count": null,
   "metadata": {},
   "outputs": [],
   "source": []
  }
 ],
 "metadata": {
  "kernelspec": {
   "display_name": "Python 3",
   "language": "python",
   "name": "python3"
  },
  "language_info": {
   "codemirror_mode": {
    "name": "ipython",
    "version": 3
   },
   "file_extension": ".py",
   "mimetype": "text/x-python",
   "name": "python",
   "nbconvert_exporter": "python",
   "pygments_lexer": "ipython3",
   "version": "3.7.4"
  }
 },
 "nbformat": 4,
 "nbformat_minor": 2
}
