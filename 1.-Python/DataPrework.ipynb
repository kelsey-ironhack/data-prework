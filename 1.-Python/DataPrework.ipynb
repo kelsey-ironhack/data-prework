{
 "cells": [
  {
   "cell_type": "markdown",
   "metadata": {},
   "source": [
    "Data exercises"
   ]
  },
  {
   "cell_type": "code",
   "execution_count": 16,
   "metadata": {},
   "outputs": [
    {
     "name": "stdout",
     "output_type": "stream",
     "text": [
      "Days are: 10\n"
     ]
    }
   ],
   "source": [
    "# SNAIL AND WELL\n",
    "cm=0\n",
    "ndays=0\n",
    "day=True\n",
    "while cm < 126:\n",
    "\n",
    "    if day==True:\n",
    "     cm+=30\n",
    "   \n",
    "    else:\n",
    "     cm-=20\n",
    "    if day ==True:\n",
    "        day=False\n",
    "    else:\n",
    "        day=True\n",
    "        ndays+=1\n",
    "\n",
    "print(\"Days are:\",ndays)"
   ]
  },
  {
   "cell_type": "code",
   "execution_count": 22,
   "metadata": {},
   "outputs": [
    {
     "name": "stdout",
     "output_type": "stream",
     "text": [
      "Gandalf wins\n"
     ]
    }
   ],
   "source": [
    "# Duel of Sorcerers\n",
    "gandalf=[10, 11, 13, 30, 22, 11, 10, 33, 22, 22]\n",
    "saruman=[23, 66, 12, 43, 12, 10, 44, 23, 12, 17]\n",
    "pointsgandalf=0\n",
    "pointssaruman=0\n",
    "for i in range (len(gandalf)):\n",
    "    if gandalf[i] > saruman[i]:\n",
    "        pointsgandalf+=1\n",
    "\n",
    "    else:\n",
    "        pointssaruman+=1\n",
    "if pointsgandalf>pointssaruman:\n",
    " print(\"Gandalf wins\")\n",
    "elif pointsofgandalf<pointssaruman:\n",
    " print(\"Saruman wins\")\n",
    "else:\n",
    "    print(\"Tie\")\n",
    "    \n",
    "\n",
    "\n",
    "    \n"
   ]
  },
  {
   "cell_type": "code",
   "execution_count": 31,
   "metadata": {},
   "outputs": [
    {
     "name": "stdout",
     "output_type": "stream",
     "text": [
      "4\n",
      "9\n",
      "9 5\n",
      "14\n",
      "14 5\n",
      "14\n",
      "14 5\n",
      "10\n",
      "14 5\n"
     ]
    }
   ],
   "source": [
    "#Bus stop\n",
    "# busstop = (in, out)\n",
    "stops = [(4, 0), (8, 3), (7, 7), (2, 6)]\n",
    "passengers=5\n",
    "maxm=passengers\n",
    "minm=passengers\n",
    "nstops=len(stops)\n",
    "print(nstops)\n",
    "for busstop in stops:\n",
    "    passengers+=busstop[0]\n",
    "    passengers-=busstop[1\n",
    "    print(passengers)]\n",
    "    if passengers>maxm:\n",
    "        maxm=passengers\n",
    "    if passengers<minm:\n",
    "        minm=passengers\n",
    "    print(maxm,minm)\n",
    "\n",
    "      \n",
    "     \n",
    "    "
   ]
  },
  {
   "cell_type": "code",
   "execution_count": 3,
   "metadata": {},
   "outputs": [
    {
     "name": "stdout",
     "output_type": "stream",
     "text": [
      "Flechas que han coincidido con otras flechas:\n",
      "{(4, 5), (5, 7), (-3, 2), (2, 2)}\n",
      "11 flechas en el cuadrante 1\n",
      "6 flechas en el cuadrante 2\n",
      "2 flechas en el cuadrante 3\n",
      "3 flechas en el cuadrante 4\n",
      "Los puntos más cercanos al centro son:\n",
      "[(0, 2), (0, -2)]\n",
      "El número de flechas que deben ser recogidas del bosque son 2\n"
     ]
    }
   ],
   "source": [
    "# Robin hood\n",
    "points = [(4, 5), (-0, 2), (4, 7), (1, -3), (3, -2), (4, 5),\n",
    "          (3, 2), (5, 7), (-5, 7), (2, 2), (-4, 5), (0, -2),\n",
    "          (-4, 7), (-1, 3), (-3, 2), (-4, -5), (-3, 2),\n",
    "          (5, 7), (5, 7), (2, 2), (9, 9), (-8, -9)]\n",
    "puntosRepetidos = []\n",
    "for point in points:\n",
    "    if points.count(point) > 1:\n",
    "        puntosRepetidos.append(point)\n",
    "print('Flechas que han coincidido con otras flechas:')\n",
    "print(set(puntosRepetidos))\n",
    "\n",
    "\n",
    "Q1 = []\n",
    "Q2 = []\n",
    "Q3 = []\n",
    "Q4 = []\n",
    "for point in points:\n",
    "    if point[0] >= 0 and point[1] >= 0:\n",
    "        Q1.append(point)\n",
    "    elif point[0] < 0 and point[1] >= 0:\n",
    "        Q2.append(point)\n",
    "    elif point[0] < 0 and point[1] < 0:\n",
    "        Q3.append(point)\n",
    "    elif point[0] >= 0 and point[1] < 0:\n",
    "        Q4.append(point)\n",
    "print(str(len(Q1)) + ' flechas en el cuadrante 1')\n",
    "print(str(len(Q2)) + ' flechas en el cuadrante 2')\n",
    "print(str(len(Q3)) + ' flechas en el cuadrante 3')\n",
    "print(str(len(Q4)) + ' flechas en el cuadrante 4')\n",
    "\n",
    "\n",
    "distanciaMenor = 100\n",
    "puntoMenor = []\n",
    "for point in points:\n",
    "    distancia = abs(point[0]) + abs(point[1])\n",
    "    if distanciaMenor > distancia:\n",
    "        distanciaMenor = distancia\n",
    "for point in points:\n",
    "    distancia = abs(point[0]) + abs(point[1])\n",
    "    if distanciaMenor == distancia:\n",
    "        puntoMenor.append(point)\n",
    "print('Los puntos más cercanos al centro son:')\n",
    "print(puntoMenor)\n",
    "\n",
    "\n",
    "flechasFuera = []\n",
    "radio = 9\n",
    "for point in points:\n",
    "    if point[0]**2 + point[1]**2 > radio**2:\n",
    "        flechasFuera.append(point)\n",
    "print('El número de flechas que deben ser recogidas del bosque son ' + str(len(flechasFuera)))"
   ]
  },
  {
   "cell_type": "code",
   "execution_count": 8,
   "metadata": {},
   "outputs": [
    {
     "name": "stdout",
     "output_type": "stream",
     "text": [
      "El valor mínimo de la lista es 0\n",
      "\n",
      "El valor mínimo de la lista es 83\n",
      "\n",
      "Valores mayores de 70:\n",
      "[76, 80, 80, 83, 79]\n",
      "\n",
      "La media de las temperaturas es 58.833333333333336\n",
      "\n",
      "Lista sin corregir:\n",
      "[33, 66, 65, 0, 59, 60, 62, 64, 70, 76, 80, 69, 80, 83, 68, 79, 61, 53, 50, 49, 53, 48, 45, 39]\n",
      "\n",
      "Lista corregida:\n",
      "[33, 66, 65, 62.0, 59, 60, 62, 64, 70, 76, 80, 69, 80, 83, 68, 79, 61, 53, 50, 49, 53, 48, 45, 39]\n",
      "\n",
      "Lista en Farenheit:\n",
      "[91.4, 150.8, 149.0, 143.6, 138.2, 140.0, 143.6, 147.2, 158.0, 168.8, 176.0, 156.2, 176.0, 181.4, 154.4, 174.2, 141.8, 127.4, 122.0, 120.2, 127.4, 118.4, 113.0, 102.2]\n",
      "\n",
      "True\n"
     ]
    }
   ],
   "source": [
    "# Temperature\n",
    "\n",
    "\n",
    "tempC = [33,66,65,0,59,60,62,64,70,76,80,69,80,83,68,79,61,53,50,49,53,48,45,39]\n",
    "\n",
    "print('El valor mínimo de la lista es ' + str(min(tempC)) + '\\n')\n",
    "\n",
    "print('El valor mínimo de la lista es ' + str(max(tempC)) + '\\n')\n",
    "\n",
    "valoresMasDe70 = []\n",
    "for valor in tempC:\n",
    "    if valor > 70:\n",
    "        valoresMasDe70.append(valor)\n",
    "print('Valores mayores de 70:')\n",
    "print(str(valoresMasDe70) + '\\n')\n",
    "\n",
    "import numpy\n",
    "print('La media de las temperaturas es ' + str(numpy.mean(tempC)) + '\\n')\n",
    "\n",
    "valorCorregido = (tempC[2] + tempC[4])/2\n",
    "print('Lista sin corregir:')\n",
    "print(str(tempC) + '\\n')\n",
    "\n",
    "\n",
    "tempC[3] = valorCorregido\n",
    "print('Lista corregida:')\n",
    "print(str(tempC) + '\\n')\n",
    "\n",
    "tempF = []\n",
    "for valor in tempC:\n",
    "    valorF = round(1.8*valor+32, 1)\n",
    "    tempF.append(valorF)\n",
    "print('Lista en Farenheit:')\n",
    "print(str(tempF) + '\\n')\n",
    "\n",
    "\n",
    "changeCoolingSystem = False\n",
    "\n",
    "valoresDemasiadoAltos = 0\n",
    "for valor in tempC:\n",
    "    if valor >= 70:\n",
    "        valoresDemasiadoAltos += 1\n",
    "if valoresDemasiadoAltos > 4:\n",
    "    changeCoolingSystem = True\n",
    "\n",
    "for valor in tempC:\n",
    "    if valor > 80:\n",
    "        changeCoolingSystem = True\n",
    "\n",
    "if numpy.mean(tempC) > 65:\n",
    "    changeCoolingSystem = True\n",
    "\n",
    "print(changeCoolingSystem)\n",
    "\n"
   ]
  },
  {
   "cell_type": "code",
   "execution_count": null,
   "metadata": {},
   "outputs": [
    {
     "name": "stdout",
     "output_type": "stream",
     "text": [
      "Rock, Paper, Scissors?rock\n",
      "That's not a valid play. Check your spelling!\n",
      "Rock, Paper, Scissors?Rock\n",
      "Tie!\n",
      "Rock, Paper, Scissors?Paper\n",
      "You win! Paper covers Rock\n"
     ]
    }
   ],
   "source": [
    "# Rock,Sciccors\n",
    "\n",
    "from random import randint\n",
    "\n",
    "t = [\"Rock\", \"Paper\", \"Scissors\"]\n",
    "\n",
    "computer = t[randint(0,2)]\n",
    "\n",
    "\n",
    "player = False\n",
    "\n",
    "while player == False:\n",
    "\n",
    "    player = input(\"Rock, Paper, Scissors?\")\n",
    "    if player == computer:\n",
    "        print(\"Tie!\")\n",
    "    elif player == \"Rock\":\n",
    "        if computer == \"Paper\":\n",
    "            print(\"You lose!\", computer, \"covers\", player)\n",
    "        else:\n",
    "            print(\"You win!\", player, \"smashes\", computer)\n",
    "    elif player == \"Paper\":\n",
    "        if computer == \"Scissors\":\n",
    "            print(\"You lose!\", computer, \"cut\", player)\n",
    "        else:\n",
    "            print(\"You win!\", player, \"covers\", computer)\n",
    "    elif player == \"Scissors\":\n",
    "        if computer == \"Rock\":\n",
    "            print(\"You lose...\", computer, \"smashes\", player)\n",
    "        else:\n",
    "            print(\"You win!\", player, \"cut\", computer)\n",
    "    else:\n",
    "        print(\"That's not a valid play. Check your spelling!\")\n",
    "    \n",
    "    player = False\n",
    "    computer = t[randint(0,2)]"
   ]
  },
  {
   "cell_type": "raw",
   "metadata": {},
   "source": []
  }
 ],
 "metadata": {
  "kernelspec": {
   "display_name": "Python 3",
   "language": "python",
   "name": "python3"
  },
  "language_info": {
   "codemirror_mode": {
    "name": "ipython",
    "version": 3
   },
   "file_extension": ".py",
   "mimetype": "text/x-python",
   "name": "python",
   "nbconvert_exporter": "python",
   "pygments_lexer": "ipython3",
   "version": "3.7.4"
  }
 },
 "nbformat": 4,
 "nbformat_minor": 2
}
