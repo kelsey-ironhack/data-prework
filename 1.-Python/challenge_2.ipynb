{
 "cells": [
  {
   "cell_type": "code",
   "execution_count": 55,
   "metadata": {},
   "outputs": [
    {
     "name": "stdout",
     "output_type": "stream",
     "text": [
      "Gandalf won 6 times\n",
      "Saruman won 4 times\n",
      "Gandalf won the battle\n"
     ]
    }
   ],
   "source": [
    "#1\n",
    "\n",
    "gandalf = [10, 11, 13, 30, 22, 11, 10, 33, 22, 22]\n",
    "saruman = [23, 66, 12, 43, 12, 10, 44, 23, 12, 17]\n",
    "spells = len(gandalf)+len(saruman)\n",
    "\n",
    "#2\n",
    "\n",
    "gandalf_wins=0\n",
    "saruman_wins=0\n",
    "\n",
    "#3\n",
    "\n",
    "for g,s in zip(gandalf,saruman):\n",
    "    if g>s: \n",
    "        gandalf_wins += 1\n",
    "    elif g<s:\n",
    "        saruman_wins += 1\n",
    "    else:\n",
    "        print (\"tie\")\n",
    "        \n",
    "print(\"Gandalf won\", gandalf_wins, \"times\")\n",
    "print(\"Saruman won\", saruman_wins, \"times\")\n",
    "\n",
    "#4\n",
    "\n",
    "if gandalf_wins > saruman_wins:\n",
    "    print(\"Gandalf won the battle\")\n",
    "elif saruman_wins > gandalf_wins:\n",
    "    print(\"Saruman won the battle\")\n",
    "else:\n",
    "    print(\"It´s a Tie\")\n",
    "\n"
   ]
  },
  {
   "cell_type": "code",
   "execution_count": 54,
   "metadata": {},
   "outputs": [
    {
     "name": "stdout",
     "output_type": "stream",
     "text": [
      "20\n",
      "[50, 40, 40, 10, 50, 10, 40, 50, 50, 50]\n",
      "[45, 45, 25, 50, 25, 40, 10, 45, 10, 10]\n",
      "[50, 40, 40, 10, 50, 10, 40, 50, 50, 50]\n",
      "[45, 45, 25, 50, 25, 40, 10, 45, 10, 10]\n",
      "If Gandalf is the winner, result is True. If Saruman is the winner, result is False. Result is True\n",
      "The average spell power of galdalf is 39.0\n",
      "The average spell power of galdalf is 30.5\n",
      "The standard deviation of Gandalf is 15.951314818673865\n",
      "The standard deviation of Saruman is 16.40629960309962\n"
     ]
    }
   ],
   "source": [
    "#Bonus\n",
    "\n",
    "#1\n",
    "\n",
    "POWER = {\n",
    "    'Fireball': 50, \n",
    "    'Lightning bolt': 40, \n",
    "    'Magic arrow': 10, \n",
    "    'Black Tentacles': 25, \n",
    "    'Contagion': 45\n",
    "}\n",
    "\n",
    "gandalf = ['Fireball', 'Lightning bolt', 'Lightning bolt', 'Magic arrow', 'Fireball', \n",
    "           'Magic arrow', 'Lightning bolt', 'Fireball', 'Fireball', 'Fireball']\n",
    "saruman = ['Contagion', 'Contagion', 'Black Tentacles', 'Fireball', 'Black Tentacles', \n",
    "           'Lightning bolt', 'Magic arrow', 'Contagion', 'Magic arrow', 'Magic arrow']\n",
    "\n",
    "spells = len(gandalf)+len(saruman)\n",
    "print(spells)\n",
    "\n",
    "#2\n",
    "\n",
    "gandalf_wins=0\n",
    "saruman_wins=0\n",
    "\n",
    "#3 option 1\n",
    "\n",
    "gandalf_power=[POWER[ele_g] for ele_g in gandalf]\n",
    "print(gandalf_power)\n",
    "\n",
    "saruman_power=[POWER[ele_s] for ele_s in saruman]\n",
    "print(saruman_power)\n",
    "\n",
    "#3 option 2 - feedback if any is preferible \n",
    "\n",
    "gandalf_power=[]\n",
    "saruman_power=[]\n",
    "\n",
    "for ele_g, ele_s in zip(gandalf, saruman):\n",
    "    gandalf_power.append(POWER[ele_g])\n",
    "    saruman_power.append(POWER[ele_s])\n",
    "print(gandalf_power)\n",
    "print (saruman_power)\n",
    "    \n",
    "#4 feedback for improvement needed \n",
    "\n",
    "i=0\n",
    "gandalf_winner=True\n",
    "\n",
    "for i in range(len(POWER)-1):\n",
    "    if (gandalf_power[i]>saruman_power[i]) and (gandalf_power[i+1]>saruman_power[i+1]) and (gandalf_power[i+2]>saruman_power[i+2]):\n",
    "        i+=1\n",
    "        gandalf_winner==True\n",
    "    elif (gandalf_power[i]<saruman_power[i]) and (gandalf_power[i+1]<saruman_power[i+1]) and (gandalf_power[i+2]<saruman_power[i+2]):\n",
    "        i+=1\n",
    "        gandalf_winner==False\n",
    "\n",
    "print(\"If Gandalf was the winner, result is True. If Saruman was the winner, result is False. Result is\",gandalf_winner)\n",
    "\n",
    "\n",
    "#5\n",
    "\n",
    "average_gandalf=sum(gandalf_power)/len(gandalf_power)\n",
    "print(\"The average spell power of galdalf is\",average_gandalf)\n",
    "\n",
    "average_saruman=sum(saruman_power)/len(saruman_power)\n",
    "print(\"The average spell power of galdalf is\",average_saruman)\n",
    "\n",
    "#6\n",
    "\n",
    "\n",
    "import statistics\n",
    "\n",
    "\n",
    "print (\"The standard deviation of Gandalf is\", statistics.stdev(gandalf_power))\n",
    "print (\"The standard deviation of Saruman is\", statistics.stdev(saruman_power))"
   ]
  },
  {
   "cell_type": "code",
   "execution_count": null,
   "metadata": {},
   "outputs": [],
   "source": []
  },
  {
   "cell_type": "code",
   "execution_count": null,
   "metadata": {},
   "outputs": [],
   "source": []
  },
  {
   "cell_type": "code",
   "execution_count": null,
   "metadata": {},
   "outputs": [],
   "source": []
  }
 ],
 "metadata": {
  "kernelspec": {
   "display_name": "Python 3",
   "language": "python",
   "name": "python3"
  },
  "language_info": {
   "codemirror_mode": {
    "name": "ipython",
    "version": 3
   },
   "file_extension": ".py",
   "mimetype": "text/x-python",
   "name": "python",
   "nbconvert_exporter": "python",
   "pygments_lexer": "ipython3",
   "version": "3.7.6"
  }
 },
 "nbformat": 4,
 "nbformat_minor": 4
}
