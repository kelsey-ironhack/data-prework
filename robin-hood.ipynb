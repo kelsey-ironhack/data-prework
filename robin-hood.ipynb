{
 "cells": [
  {
   "cell_type": "markdown",
   "metadata": {},
   "source": [
    "<img src=\"https://bit.ly/2VnXWr2\" width=\"100\" align=\"left\"/>"
   ]
  },
  {
   "cell_type": "markdown",
   "metadata": {},
   "source": [
    "# Robin Hood\n",
    "Robin Hood has entered a competition to win the archery contest in Sherwood. With his bow and arrows, he needs to shoot on a target and try to hit as close as possible to the center.\n",
    "\n",
    "![](images/arrows.jpg)\n",
    "\n",
    "## Context\n",
    "In this challenge, the landing position of arrows shot by archers in the competition will be represented using 2-dimensional coordinates. \n",
    "\n",
    "In the 2-dimensional space, a point can be defined by a pair of values that correspond to the horizontal coordinate (x) and the vertical coordinate (y). For example, in our case, an arrow that hits the center of the archery target will land in position (0, 0) on the coordinate axes. \n",
    "\n",
    "The space can be divided into 4 zones (quadrants): Q1, Q2, Q3, Q4. If a point is in Q1, both its x coordinate and y coordinate are positive. Any point with a null x or y coordinate is considered to not belong to any quadrant. \n",
    "\n",
    "If you want to know more about the cartesian coordinate system, you can check this [link](https://en.wikipedia.org/wiki/Cartesian_coordinate_system). \n",
    "\n",
    "## Tools\n",
    "You don't necessarily need to use all the tools. Maybe you opt to use some of them or completely different ones, they are given to help you shape the exercise. Programming exercises can be solved in many different ways.\n",
    "* Data structures: **lists, sets, tuples**\n",
    "* Conditional statements: **if-elif-else**\n",
    "* Loop: **while/for**\n",
    "* Minimum (optional sorting)\n",
    "\n",
    "## Tasks\n",
    "Robin Hood has hit the following points:"
   ]
  },
  {
   "cell_type": "code",
   "execution_count": null,
   "metadata": {},
   "outputs": [],
   "source": [
    "points = [(4, 5), (-0, 2), (4, 7), (1, -3), (3, -2), (4, 5), (3, 2), (5, 7), (-5, 7), (2, 2), (-4, 5), (0, -2),\n",
    "          (-4, 7), (-1, 3), (-3, 2), (-4, -5), (-3, 2), (5, 7), (5, 7), (2, 2), (9, 9), (-8, -9)]"
   ]
  },
  {
   "cell_type": "markdown",
   "metadata": {},
   "source": [
    "#### 1. Robin Hood is famous for hitting an arrow with another arrow. Find the coordinates of the points where an arrow hits another arrow."
   ]
  },
  {
   "cell_type": "code",
   "execution_count": 12,
   "metadata": {},
   "outputs": [
    {
     "name": "stdout",
     "output_type": "stream",
     "text": [
      "An arrow hits another arrow at the following coordinate: ( 2  ,  2 )\n",
      "An arrow hits another arrow at the following coordinate: ( 2  ,  2 )\n",
      "An arrow hits another arrow at the following coordinate: ( 9  ,  9 )\n"
     ]
    }
   ],
   "source": [
    "points = [(4, 5), (-0, 2), (4, 7), (1, -3), (3, -2), (4, 5), (3, 2), (5, 7), (-5, 7), (2, 2), (-4, 5), (0, -2),\n",
    "          (-4, 7), (-1, 3), (-3, 2), (-4, -5), (-3, 2), (5, 7), (5, 7), (2, 2), (9, 9), (-8, -9)]\n",
    "\n",
    "\n",
    "for a, b in points:\n",
    "    if ( a == b ):\n",
    "        print(\"An arrow hits another arrow at the following coordinate: (\", a, \" , \", b, \")\")"
   ]
  },
  {
   "cell_type": "markdown",
   "metadata": {},
   "source": [
    "#### 2. Calculate how many arrows have fallen in each quadrant. \n",
    "**Note**: the arrows that fall in the axis (x=0 or y=0) don't belong to any quadrant."
   ]
  },
  {
   "cell_type": "code",
   "execution_count": 4,
   "metadata": {},
   "outputs": [
    {
     "name": "stdout",
     "output_type": "stream",
     "text": [
      "Quadrant 1 has 10 arrows.\n",
      "Quadrant 2 has 6 arrows.\n",
      "Quadrant 3 has 2 arrows.\n",
      "Quadrant 4 has 2 arrows.\n"
     ]
    }
   ],
   "source": [
    "points = [(4, 5), (-0, 2), (4, 7), (1, -3), (3, -2), (4, 5), (3, 2), (5, 7), (-5, 7), (2, 2), (-4, 5), (0, -2), (-4, 7), (-1, 3), (-3, 2), (-4, -5), (-3, 2), (5, 7), (5, 7), (2, 2), (9, 9), (-8, -9)]\n",
    "\n",
    "#creating 2 separate lists and transforming them into dictionaires. Set key:value for x and y coordinates\n",
    "x_coordinates = []\n",
    "y_coordinates = []\n",
    "\n",
    "for a, b in points:\n",
    "    x_coordinates.append(a)\n",
    "    y_coordinates.append(b)\n",
    "#print(x_coordinates)\n",
    "#print(y_coordinates)\n",
    "\n",
    "x_coordinates = [4, 0, 4, 1, 3, 4, 3, 5, -5, 2, -4, 0, -4, -1, -3, -4, -3, 5, 5, 2, 9, -8]\n",
    "y_coordinates = [5, 2, 7, -3, -2, 5, 2, 7, 7, 2, 5, -2, 7, 3, 2, -5, 2, 7, 7, 2, 9, -9]\n",
    "\n",
    "#quadrant1 is x and y are positive\n",
    "#quadrant2 is x is negative and y is positive\n",
    "#quadrant3 is x is negative and y is negative\n",
    "#quadrant4 is x is positive and y is negative\n",
    "\n",
    "quadrant1 = 0\n",
    "quadrant2 = 0\n",
    "quadrant3 = 0\n",
    "quadrant4 = 0\n",
    "\n",
    "for coordinates in zip(x_coordinates, y_coordinates):\n",
    "    xcor = coordinates[0]\n",
    "    ycor = coordinates[1]\n",
    "    \n",
    "    if xcor > 0 and ycor > 0:\n",
    "        quadrant1 += 1\n",
    "    elif xcor < 0 and ycor > 0:\n",
    "        quadrant2 += 1\n",
    "    elif xcor < 0 and ycor < 0:\n",
    "        quadrant3 += 1\n",
    "    elif xcor > 0 and ycor < 0:\n",
    "        quadrant4 += 1\n",
    "        \n",
    "print(\"Quadrant 1 has\", quadrant1, \"arrows.\")\n",
    "print(\"Quadrant 2 has\", quadrant2, \"arrows.\")\n",
    "print(\"Quadrant 3 has\", quadrant3, \"arrows.\")\n",
    "print(\"Quadrant 4 has\", quadrant4, \"arrows.\")\n"
   ]
  },
  {
   "cell_type": "markdown",
   "metadata": {},
   "source": [
    "#### 3. Find the point closest to the center. Calculate its distance to the center. \n",
    "Take into account that there might be more than one point at the minimum distance to the center.\n",
    "\n",
    "**Hint**: Use the Euclidean distance. You can find more information about it [here](https://en.wikipedia.org/wiki/Euclidean_distance).  \n",
    "**Hint**: Defining a function that calculates the distance to the center can help."
   ]
  },
  {
   "cell_type": "code",
   "execution_count": 33,
   "metadata": {},
   "outputs": [
    {
     "ename": "ModuleNotFoundError",
     "evalue": "No module named 'numpy'",
     "output_type": "error",
     "traceback": [
      "\u001b[0;31m---------------------------------------------------------------------------\u001b[0m",
      "\u001b[0;31mModuleNotFoundError\u001b[0m                       Traceback (most recent call last)",
      "\u001b[0;32m<ipython-input-33-41b994726c9a>\u001b[0m in \u001b[0;36m<module>\u001b[0;34m\u001b[0m\n\u001b[1;32m     13\u001b[0m \u001b[0;31m#print (math.dist(x, y))\u001b[0m\u001b[0;34m\u001b[0m\u001b[0;34m\u001b[0m\u001b[0;34m\u001b[0m\u001b[0m\n\u001b[1;32m     14\u001b[0m \u001b[0;34m\u001b[0m\u001b[0m\n\u001b[0;32m---> 15\u001b[0;31m \u001b[0;32mimport\u001b[0m \u001b[0mnumpy\u001b[0m \u001b[0;32mas\u001b[0m \u001b[0mnp\u001b[0m\u001b[0;34m\u001b[0m\u001b[0;34m\u001b[0m\u001b[0m\n\u001b[0m\u001b[1;32m     16\u001b[0m \u001b[0;32mfrom\u001b[0m \u001b[0mscipy\u001b[0m\u001b[0;34m.\u001b[0m\u001b[0mspatial\u001b[0m\u001b[0;34m.\u001b[0m\u001b[0mdistance\u001b[0m \u001b[0;32mimport\u001b[0m \u001b[0mcdist\u001b[0m\u001b[0;34m\u001b[0m\u001b[0;34m\u001b[0m\u001b[0m\n\u001b[1;32m     17\u001b[0m \u001b[0ma\u001b[0m \u001b[0;34m=\u001b[0m \u001b[0mnp\u001b[0m\u001b[0;34m.\u001b[0m\u001b[0marray\u001b[0m\u001b[0;34m(\u001b[0m\u001b[0;34m[\u001b[0m\u001b[0;34m[\u001b[0m\u001b[0;36m0\u001b[0m\u001b[0;34m,\u001b[0m \u001b[0;36m0\u001b[0m\u001b[0;34m]\u001b[0m\u001b[0;34m]\u001b[0m\u001b[0;34m)\u001b[0m\u001b[0;34m\u001b[0m\u001b[0;34m\u001b[0m\u001b[0m\n",
      "\u001b[0;31mModuleNotFoundError\u001b[0m: No module named 'numpy'"
     ]
    }
   ],
   "source": [
    "#euclidean_distance = math.dist(point1, point2)\n",
    "\n",
    "points = [(4, 5), (-0, 2), (4, 7), (1, -3), (3, -2), (4, 5), (3, 2), (5, 7), (-5, 7), (2, 2), (-4, 5), (0, -2),\n",
    "          (-4, 7), (-1, 3), (-3, 2), (-4, -5), (-3, 2), (5, 7), (5, 7), (2, 2), (9, 9), (-8, -9)]\n",
    "\n",
    "center = (0,0)\n",
    "\n",
    "#import math\n",
    "\n",
    "#x_coordinates = [4, 0, 4, 1, 3, 4, 3, 5, -5, 2, -4, 0, -4, -1, -3, -4, -3, 5, 5, 2, 9, -8]\n",
    "#y_coordinates = [5, 2, 7, -3, -2, 5, 2, 7, 7, 2, 5, -2, 7, 3, 2, -5, 2, 7, 7, 2, 9, -9]\n",
    "#print (math.dist(x, y))\n",
    "\n",
    "#OPTION\n",
    "\n",
    "#import numpy as np\n",
    "#from scipy.spatial.distance import cdist\n",
    "#a = np.array([[0, 0]])\n",
    "#others = np.array([(4, 5), (-0, 2), (4, 7), (1, -3), (3, -2), (4, 5), (3, 2), (5, 7), (-5, 7), (2, 2), (-4, 5), (0, -2), (-4, 7), (-1, 3), (-3, 2), (-4, -5), (-3, 2), (5, 7), (5, 7), (2, 2), (9, 9), (-8, -9)])\n",
    "#def closest_point(pt, others):\n",
    "#    distances = cdist(pt, others)\n",
    "#    return others[distances.argmin()]\n",
    "#print(closest_point(a, others))\n",
    "\n",
    "#OPTION\n",
    "\n",
    "#def distance(p1, p2):\n",
    "#    return math.sqrt((p2[0] - p1[0]) ** 2 + (p2[1] - p1[1]) ** 2)\n",
    "\n",
    "#def closest(pt, others):\n",
    "#    return min(others, key = lambda i: distance(pt, i))\n",
    "\n",
    "#def avgDistance(pt, others):\n",
    "#    dists = [distance(pt, i) for i in others]\n",
    "#    return sum(dists) / len(dists)\n"
   ]
  },
  {
   "cell_type": "markdown",
   "metadata": {},
   "source": [
    "#### 4. If the archery target has a radius of 9, calculate the number of arrows that won't hit the target. \n",
    "**Hint**: Use the function created in step 3. "
   ]
  },
  {
   "cell_type": "code",
   "execution_count": 28,
   "metadata": {},
   "outputs": [
    {
     "ename": "SyntaxError",
     "evalue": "invalid syntax (<ipython-input-28-1aaee070ffbf>, line 1)",
     "output_type": "error",
     "traceback": [
      "\u001b[0;36m  File \u001b[0;32m\"<ipython-input-28-1aaee070ffbf>\"\u001b[0;36m, line \u001b[0;32m1\u001b[0m\n\u001b[0;31m    circle calculate 9\u001b[0m\n\u001b[0m           ^\u001b[0m\n\u001b[0;31mSyntaxError\u001b[0m\u001b[0;31m:\u001b[0m invalid syntax\n"
     ]
    }
   ],
   "source": [
    "#circle calculate 9 \n",
    "#first distance formula (2 wont hit target, furtherst 2 from 0)\n",
    "\n",
    "#import math\n",
    "\n",
    "#math.dist()\n",
    "\n",
    "#radius1 = 0\n",
    "#radius2 = 0\n",
    "\n",
    "#for i in points:\n",
    "#    if i < 9 \n",
    "#    within_radius = radius1 +1\n",
    "#else i >= 9 \n",
    "#    outside_radius = radius1 +1"
   ]
  },
  {
   "cell_type": "code",
   "execution_count": null,
   "metadata": {},
   "outputs": [],
   "source": []
  }
 ],
 "metadata": {
  "kernelspec": {
   "display_name": "Python 3",
   "language": "python",
   "name": "python3"
  },
  "language_info": {
   "codemirror_mode": {
    "name": "ipython",
    "version": 3
   },
   "file_extension": ".py",
   "mimetype": "text/x-python",
   "name": "python",
   "nbconvert_exporter": "python",
   "pygments_lexer": "ipython3",
   "version": "3.8.3"
  }
 },
 "nbformat": 4,
 "nbformat_minor": 2
}
