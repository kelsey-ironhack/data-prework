{
 "cells": [
  {
   "cell_type": "code",
   "execution_count": 1,
   "metadata": {},
   "outputs": [
    {
     "name": "stdout",
     "output_type": "stream",
     "text": [
      "True\n",
      "True\n",
      "True\n",
      "False\n",
      "True\n",
      "False\n"
     ]
    }
   ],
   "source": [
    "# Working with boolean data types\n",
    "\n",
    "print(5+5==10)\n",
    "print('apple' != 'orange')\n",
    "print(100 > 75)\n",
    "print(93 < 80)\n",
    "print(3 in [1,2,3,4,5])\n",
    "print(3 not in [1,2,3,4,5])"
   ]
  },
  {
   "cell_type": "code",
   "execution_count": 2,
   "metadata": {},
   "outputs": [
    {
     "name": "stdout",
     "output_type": "stream",
     "text": [
      "True\n",
      "False\n",
      "True\n",
      "False\n"
     ]
    }
   ],
   "source": [
    "# Evaluate two conditions\n",
    "\n",
    "print((5 + 5 == 10) and ('apple' != 'orange'))    # When evaluating more than one condition each condition needs to wrapped in parantheses\n",
    "print((100 > 75) and (93 < 80))\n",
    "print((100 > 75) or (93 < 80))\n",
    "print((93 < 80) or (3 not in [1,2,3,4,5]))\n"
   ]
  },
  {
   "cell_type": "code",
   "execution_count": 12,
   "metadata": {},
   "outputs": [
    {
     "name": "stdout",
     "output_type": "stream",
     "text": [
      "Insert number here: \n",
      "10\n",
      "Number is exactly 10\n"
     ]
    }
   ],
   "source": [
    "# Conditional statements if, elif and else\n",
    "\n",
    "print('Insert number here: ')\n",
    "number = int(input())\n",
    "\n",
    "if number < 10:\n",
    "    print('Number is less than 10')\n",
    "elif number > 10:\n",
    "    print('Number is greater than 10')\n",
    "elif number == 10:\n",
    "    print('Number is exactly 10')\n",
    "else:\n",
    "    print('Number is probably not a number at all')"
   ]
  },
  {
   "cell_type": "code",
   "execution_count": 18,
   "metadata": {},
   "outputs": [
    {
     "name": "stdout",
     "output_type": "stream",
     "text": [
      "Your total commute time is expected to be 45 minutes.\n"
     ]
    }
   ],
   "source": [
    "# Calculate time of commuting\n",
    "\n",
    "commute = 30\n",
    "rain = True\n",
    "traffic = False\n",
    "\n",
    "if (rain == True) or (traffic == True):\n",
    "    if (rain == True) and (traffic == True):\n",
    "        total_commute = commute + 15 + 20\n",
    "    elif (rain == True) and (traffic == False):\n",
    "        total_commute = commute + 15\n",
    "    elif (rain == False) and (traffic == True):\n",
    "        total_commute = commute + 20\n",
    "else:\n",
    "    total_commute = commute\n",
    "    \n",
    "print('Your total commute time is expected to be', total_commute, 'minutes.')"
   ]
  },
  {
   "cell_type": "code",
   "execution_count": 19,
   "metadata": {},
   "outputs": [
    {
     "name": "stdout",
     "output_type": "stream",
     "text": [
      "5\n",
      "6\n",
      "7\n",
      "8\n",
      "9\n",
      "10\n",
      "11\n",
      "12\n",
      "13\n",
      "14\n"
     ]
    }
   ],
   "source": [
    "# for loops\n",
    "\n",
    "for i in range(5, 15):\n",
    "    print(i)\n"
   ]
  },
  {
   "cell_type": "code",
   "execution_count": 20,
   "metadata": {},
   "outputs": [
    {
     "name": "stdout",
     "output_type": "stream",
     "text": [
      "apple\n",
      "orange\n",
      "banana\n",
      "grapes\n",
      "pinapple\n"
     ]
    }
   ],
   "source": [
    "fruits = ['apple', 'orange', 'banana', 'grapes', 'pinapple']\n",
    "\n",
    "for fruit in fruits:\n",
    "    print(fruit)"
   ]
  },
  {
   "cell_type": "code",
   "execution_count": 21,
   "metadata": {},
   "outputs": [
    {
     "name": "stdout",
     "output_type": "stream",
     "text": [
      "Brian is 23 years old.\n",
      "Amy is 22 years old.\n",
      "Darlene is 47 years old.\n",
      "Ralph is 32 years old.\n",
      "Jordan is 28 years old.\n",
      "Stephanie is 35 years old.\n"
     ]
    }
   ],
   "source": [
    "ages = {'Brian':23, 'Amy':22, 'Darlene':47, 'Ralph':32, 'Jordan':28, 'Stephanie':35}\n",
    "\n",
    "for name, age in ages.items():\n",
    "    print(name, 'is', age, 'years old.')"
   ]
  },
  {
   "cell_type": "code",
   "execution_count": 22,
   "metadata": {},
   "outputs": [
    {
     "name": "stdout",
     "output_type": "stream",
     "text": [
      "Total is currently 34\n",
      "Total is currently 46\n",
      "Total is currently 139\n",
      "Total is currently 922\n",
      "Total is currently 1252\n",
      "Total is currently 2148\n",
      "Total is currently 2149\n",
      "Total is currently 2204\n"
     ]
    }
   ],
   "source": [
    "# run total of values inside a loop\n",
    "\n",
    "num_list = [34, 12, 93, 783, 330, 896, 1, 55]\n",
    "\n",
    "total = 0\n",
    "\n",
    "for i in num_list:\n",
    "    total += i\n",
    "    print ('Total is currently', total)"
   ]
  },
  {
   "cell_type": "code",
   "execution_count": 23,
   "metadata": {},
   "outputs": [
    {
     "name": "stdout",
     "output_type": "stream",
     "text": [
      "[1, 4, 9, 16, 25, 36, 49, 64, 81, 100]\n"
     ]
    }
   ],
   "source": [
    "new_list = []\n",
    "\n",
    "for i in range(1, 11):\n",
    "    square = i**2\n",
    "    new_list.append(square)\n",
    "    \n",
    "print(new_list)"
   ]
  },
  {
   "cell_type": "code",
   "execution_count": 25,
   "metadata": {},
   "outputs": [
    {
     "name": "stdout",
     "output_type": "stream",
     "text": [
      "Cake is in the oven.\n",
      "Cake is not done yet.\n",
      "Cake is not done yet.\n",
      "Cake is not done yet.\n",
      "It is done. Lets eat cake!\n"
     ]
    }
   ],
   "source": [
    "# while loops\n",
    "\n",
    "total_time = 60\n",
    "minutes_elapsed = 0\n",
    "wait = 15\n",
    "\n",
    "print('Cake is in the oven.')\n",
    "minutes_elapsed += wait\n",
    "\n",
    "while minutes_elapsed < total_time:\n",
    "    print('Cake is not done yet.')\n",
    "    minutes_elapsed += wait\n",
    "    \n",
    "print('It is done. Lets eat cake!')"
   ]
  },
  {
   "cell_type": "code",
   "execution_count": 27,
   "metadata": {},
   "outputs": [
    {
     "data": {
      "text/plain": [
       "'/Users/siriamanda/Desktop/Ironhack/data-prework'"
      ]
     },
     "execution_count": 27,
     "metadata": {},
     "output_type": "execute_result"
    }
   ],
   "source": [
    "import os\n",
    "\n",
    "# Find out current working directory\n",
    "\n",
    "os.getcwd()"
   ]
  },
  {
   "cell_type": "code",
   "execution_count": 30,
   "metadata": {},
   "outputs": [
    {
     "data": {
      "text/plain": [
       "'/Users/siriamanda/Desktop'"
      ]
     },
     "execution_count": 30,
     "metadata": {},
     "output_type": "execute_result"
    }
   ],
   "source": [
    "# Change working directory\n",
    "\n",
    "os.chdir('/Users/siriamanda/Desktop')\n",
    "os.getcwd()"
   ]
  },
  {
   "cell_type": "code",
   "execution_count": 32,
   "metadata": {},
   "outputs": [
    {
     "data": {
      "text/plain": [
       "'C:/ironhack/module_0/python-beginner/data'"
      ]
     },
     "execution_count": 32,
     "metadata": {},
     "output_type": "execute_result"
    }
   ],
   "source": [
    "# Put together a path from strings\n",
    "\n",
    "root = 'C:'\n",
    "level_1 = 'ironhack'\n",
    "level_2 = 'module_0'\n",
    "level_3 = 'python-beginner'\n",
    "level_4 = 'data'\n",
    "\n",
    "os.path.join(root, level_1, level_2, level_3, level_4)"
   ]
  },
  {
   "cell_type": "code",
   "execution_count": 33,
   "metadata": {},
   "outputs": [],
   "source": [
    "# Create new folder\n",
    "\n",
    "folder_name = 'new_folder'\n",
    "\n",
    "if os.path.exists(folder_name) == False:\n",
    "    os.makedirs(folder_name)"
   ]
  },
  {
   "cell_type": "code",
   "execution_count": 34,
   "metadata": {},
   "outputs": [],
   "source": [
    "# Writing to files\n",
    "\n",
    "with open('example.txt', 'w') as f:\n",
    "    f.write('Hello World! \\n')\n",
    "    f.write('How are you? \\n')\n",
    "    f.write('I am fine.')"
   ]
  },
  {
   "cell_type": "code",
   "execution_count": 35,
   "metadata": {},
   "outputs": [
    {
     "name": "stdout",
     "output_type": "stream",
     "text": [
      "Hello World! \n",
      "\n",
      "How are you? \n",
      "\n",
      "I am fine.\n"
     ]
    }
   ],
   "source": [
    "# Reading files\n",
    "\n",
    "with open('example.txt', 'r') as f:\n",
    "    lines = f.readlines()\n",
    "    for line in lines:\n",
    "        print(line)\n"
   ]
  },
  {
   "cell_type": "code",
   "execution_count": 38,
   "metadata": {},
   "outputs": [
    {
     "name": "stdout",
     "output_type": "stream",
     "text": [
      "[['gender', 'actual_weight', 'actual_height', 'reported_weight', 'reported_height'], ['M', '77', '182', '77', '180'], ['F', '58', '161', '51', '159'], ['F', '53', '161', '54', '158'], ['M', '68', '177', '70', '175'], ['F', '59', '157', '59', '155'], ['M', '76', '170', '76', '165'], ['M', '76', '167', '77', '165'], ['M', '69', '186', '73', '180'], ['M', '71', '178', '71', '175'], ['M', '65', '171', '64', '170'], ['M', '70', '175', '75', '174'], ['F', '166', '57', '56', '163'], ['F', '51', '161', '52', '158'], ['F', '64', '168', '64', '165'], ['F', '52', '163', '57', '160'], ['F', '65', '166', '66', '165'], ['M', '92', '187', '101', '185'], ['F', '62', '168', '62', '165'], ['M', '76', '197', '75', '200'], ['F', '61', '175', '61', '171'], ['M', '119', '180', '124', '178'], ['F', '61', '170', '61', '170'], ['M', '65', '175', '66', '173'], ['M', '66', '173', '70', '170'], ['F', '54', '171', '59', '168'], ['F', '50', '166', '50', '165'], ['F', '63', '169', '61', '168'], ['F', '58', '166', '60', '160'], ['F', '39', '157', '41', '153'], ['M', '101', '183', '100', '180'], ['F', '71', '166', '71', '165'], ['M', '75', '178', '73', '175'], ['M', '79', '173', '76', '173'], ['F', '52', '164', '52', '161'], ['F', '68', '169', '63', '170'], ['M', '64', '176', '65', '175'], ['F', '56', '166', '54', '165'], ['M', '69', '174', '69', '171'], ['M', '88', '178', '86', '175'], ['M', '65', '187', '67', '188'], ['F', '54', '164', '53', '160'], ['M', '80', '178', '80', '178'], ['F', '63', '163', '59', '159'], ['M', '78', '183', '80', '180'], ['M', '85', '179', '82', '175'], ['F', '54', '160', '55', '158'], ['F', '54', '174', '56', '173'], ['F', '75', '162', '75', '158'], ['M', '82', '182', '85', '183'], ['F', '56', '165', '57', '163'], ['M', '74', '169', '73', '170'], ['M', '102', '185', '107', '185'], ['M', '65', '176', '64', '172'], ['M', '73', '183', '74', '180'], ['M', '75', '172', '70', '169'], ['M', '57', '173', '58', '170'], ['M', '68', '165', '69', '165'], ['M', '71', '177', '71', '170'], ['M', '71', '180', '76', '175'], ['F', '78', '173', '75', '169'], ['M', '97', '189', '98', '185'], ['F', '60', '162', '59', '160'], ['F', '64', '165', '63', '163'], ['F', '64', '164', '62', '161'], ['F', '52', '158', '51', '155'], ['M', '80', '178', '76', '175'], ['F', '62', '175', '61', '171'], ['M', '66', '173', '66', '175'], ['F', '55', '165', '54', '163'], ['F', '56', '163', '57', '159'], ['F', '50', '166', '50', '161'], ['F', '50', '160', '55', '150'], ['F', '63', '160', '64', '158'], ['M', '69', '182', '70', '180'], ['M', '69', '183', '70', '183'], ['F', '61', '165', '60', '163'], ['M', '55', '168', '56', '170'], ['F', '53', '169', '52', '175'], ['F', '60', '167', '55', '163'], ['F', '56', '170', '56', '170'], ['M', '59', '182', '61', '183'], ['M', '62', '178', '66', '175'], ['F', '53', '165', '53', '165'], ['F', '57', '163', '59', '160'], ['F', '57', '162', '56', '160'], ['M', '70', '173', '68', '170'], ['F', '56', '161', '56', '161'], ['M', '84', '184', '86', '183'], ['M', '69', '180', '71', '180'], ['M', '88', '189', '87', '185'], ['F', '56', '165', '57', '160'], ['M', '103', '185', '101', '182'], ['F', '50', '169', '50', '165'], ['F', '52', '159', '52', '153'], ['F', '55', '164', '55', '163'], ['M', '63', '178', '63', '175'], ['F', '47', '163', '47', '160'], ['F', '45', '163', '45', '160'], ['F', '62', '175', '63', '173'], ['F', '53', '164', '51', '160'], ['F', '52', '152', '51', '150'], ['F', '57', '167', '55', '164'], ['F', '64', '166', '64', '165'], ['F', '59', '166', '55', '163'], ['M', '84', '183', '90', '183'], ['M', '79', '179', '79', '171'], ['F', '55', '174', '57', '171'], ['M', '67', '179', '67', '179'], ['F', '76', '167', '77', '165'], ['F', '62', '168', '62', '163'], ['M', '83', '184', '83', '181'], ['M', '96', '184', '94', '183'], ['M', '75', '169', '76', '165'], ['M', '65', '178', '66', '178'], ['M', '78', '178', '77', '175'], ['M', '69', '167', '73', '165'], ['F', '68', '178', '68', '175'], ['F', '55', '165', '55', '163'], ['F', '52', '169', '56', 'NA'], ['F', '45', '157', '45', '153'], ['F', '68', '171', '68', '169'], ['F', '44', '157', '44', '155'], ['F', '62', '166', '61', '163'], ['M', '87', '185', '89', '185'], ['F', '56', '160', '53', '158'], ['F', '50', '148', '47', '148'], ['M', '83', '177', '84', '175'], ['F', '53', '162', '53', '160'], ['F', '64', '172', '62', '168'], ['M', '90', '188', '91', '185'], ['M', '85', '191', '83', '188'], ['M', '66', '175', '68', '175'], ['F', '52', '163', '53', '160'], ['F', '53', '165', '55', '163'], ['F', '54', '176', '55', '176'], ['F', '64', '171', '66', '171'], ['F', '55', '160', '55', '155'], ['F', '55', '165', '55', '165'], ['F', '59', '157', '55', '158'], ['F', '70', '173', '67', '170'], ['M', '88', '184', '86', '183'], ['F', '57', '168', '58', '165'], ['F', '47', '162', '47', '160'], ['F', '47', '150', '45', '152'], ['F', '48', '163', '44', '160'], ['M', '54', '169', '58', '165'], ['M', '69', '172', '68', '174'], ['F', '57', '167', '56', '165'], ['F', '51', '163', '50', '160'], ['F', '54', '161', '54', '160'], ['F', '53', '162', '52', '158'], ['F', '59', '172', '58', '171'], ['M', '56', '163', '58', '161'], ['F', '59', '159', '59', '155'], ['F', '63', '170', '62', '168'], ['F', '66', '166', '66', '165'], ['M', '96', '191', '95', '188'], ['F', '53', '158', '50', '155'], ['M', '76', '169', '75', '165'], ['M', '61', '170', '61', '170'], ['M', '62', '168', '64', '168'], ['M', '71', '178', '68', '178'], ['M', '66', '170', '67', '165'], ['M', '81', '178', '82', '175'], ['M', '68', '174', '68', '173'], ['M', '80', '176', '78', '175'], ['F', '63', '165', '59', '160'], ['M', '70', '173', '70', '173'], ['F', '56', '162', '56', '160'], ['F', '60', '172', '55', '168'], ['F', '58', '169', '54', '166'], ['M', '76', '183', '75', '180'], ['F', '50', '158', '49', '155'], ['M', '88', '185', '93', '188'], ['M', '89', '173', '86', '173'], ['F', '59', '164', '59', '165'], ['F', '51', '156', '51', '158'], ['F', '62', '164', '61', '161'], ['M', '74', '175', '71', '175'], ['M', '83', '180', '80', '180'], ['M', '90', '181', '91', '178'], ['M', '79', '177', '81', '178']]\n"
     ]
    }
   ],
   "source": [
    "os.chdir('/Users/siriamanda/Downloads')\n",
    "\n",
    "data = []\n",
    "\n",
    "with open('weight_height.csv', 'r') as f:\n",
    "    lines = f.readlines()\n",
    "    for line in lines:\n",
    "        data.append(line.split()[0].split(','))         # We use the split-function twice, first to split each row and second to seperate by each comma\n",
    "        \n",
    "print(data)"
   ]
  },
  {
   "cell_type": "code",
   "execution_count": 39,
   "metadata": {},
   "outputs": [
    {
     "data": {
      "text/plain": [
       "['gender',\n",
       " 'actual_weight',\n",
       " 'actual_height',\n",
       " 'reported_weight',\n",
       " 'reported_height']"
      ]
     },
     "execution_count": 39,
     "metadata": {},
     "output_type": "execute_result"
    }
   ],
   "source": [
    "data[0]"
   ]
  },
  {
   "cell_type": "code",
   "execution_count": 40,
   "metadata": {},
   "outputs": [
    {
     "data": {
      "text/plain": [
       "'M'"
      ]
     },
     "execution_count": 40,
     "metadata": {},
     "output_type": "execute_result"
    }
   ],
   "source": [
    "data[1][0]"
   ]
  },
  {
   "cell_type": "code",
   "execution_count": 41,
   "metadata": {},
   "outputs": [
    {
     "name": "stdout",
     "output_type": "stream",
     "text": [
      "[182, 161, 161, 177, 157, 170, 167, 186, 178, 171, 175, 57, 161, 168, 163, 166, 187, 168, 197, 175, 180, 170, 175, 173, 171, 166, 169, 166, 157, 183, 166, 178, 173, 164, 169, 176, 166, 174, 178, 187, 164, 178, 163, 183, 179, 160, 174, 162, 182, 165, 169, 185, 176, 183, 172, 173, 165, 177, 180, 173, 189, 162, 165, 164, 158, 178, 175, 173, 165, 163, 166, 160, 160, 182, 183, 165, 168, 169, 167, 170, 182, 178, 165, 163, 162, 173, 161, 184, 180, 189, 165, 185, 169, 159, 164, 178, 163, 163, 175, 164, 152, 167, 166, 166, 183, 179, 174, 179, 167, 168, 184, 184, 169, 178, 178, 167, 178, 165, 169, 157, 171, 157, 166, 185, 160, 148, 177, 162, 172, 188, 191, 175, 163, 165, 176, 171, 160, 165, 157, 173, 184, 168, 162, 150, 163, 169, 172, 167, 163, 161, 162, 172, 163, 159, 170, 166, 191, 158, 169, 170, 168, 178, 170, 178, 174, 176, 165, 173, 162, 172, 169, 183, 158, 185, 173, 164, 156, 164, 175, 180, 181, 177]\n"
     ]
    }
   ],
   "source": [
    "# Perform simple data analysis on heights\n",
    "\n",
    "heights = []              # Create empty list heights\n",
    "\n",
    "for person in data[1:]:   # Start loop from index 1\n",
    "    height = int(person[2])\n",
    "    heights.append(height)\n",
    "\n",
    "print(heights)"
   ]
  },
  {
   "cell_type": "code",
   "execution_count": 45,
   "metadata": {},
   "outputs": [
    {
     "name": "stdout",
     "output_type": "stream",
     "text": [
      "170.14835164835165\n"
     ]
    }
   ],
   "source": [
    "# Calculate average heights\n",
    "avg_height = sum(heights) / len(heights)\n",
    "print(avg_height)"
   ]
  },
  {
   "cell_type": "code",
   "execution_count": 46,
   "metadata": {},
   "outputs": [
    {
     "name": "stdout",
     "output_type": "stream",
     "text": [
      "Avg male height: 178.0121951219512\n",
      "Avg female height: 163.7\n"
     ]
    }
   ],
   "source": [
    "# Compare average height male and female \n",
    "\n",
    "male_heights = []\n",
    "female_heights = []\n",
    "\n",
    "for person in data[1:]:\n",
    "    height = int(person[2])\n",
    "    if person[0] == 'M':\n",
    "        male_heights.append(height)\n",
    "    elif person[0] == 'F':\n",
    "        female_heights.append(height)\n",
    "\n",
    "avg_male_height = sum(male_heights) / len(male_heights)\n",
    "avg_female_height = sum(female_heights) / len(female_heights)\n",
    "\n",
    "print('Avg male height:', avg_male_height)\n",
    "print('Avg female height:', avg_female_height)\n",
    "        "
   ]
  },
  {
   "cell_type": "code",
   "execution_count": null,
   "metadata": {},
   "outputs": [],
   "source": []
  }
 ],
 "metadata": {
  "kernelspec": {
   "display_name": "Python 3",
   "language": "python",
   "name": "python3"
  },
  "language_info": {
   "codemirror_mode": {
    "name": "ipython",
    "version": 3
   },
   "file_extension": ".py",
   "mimetype": "text/x-python",
   "name": "python",
   "nbconvert_exporter": "python",
   "pygments_lexer": "ipython3",
   "version": "3.7.6"
  }
 },
 "nbformat": 4,
 "nbformat_minor": 4
}
