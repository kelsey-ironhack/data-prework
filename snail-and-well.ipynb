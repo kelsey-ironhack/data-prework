{
 "cells": [
  {
   "cell_type": "markdown",
   "metadata": {},
   "source": [
    "<img src=\"https://bit.ly/2VnXWr2\" width=\"100\" align=\"left\">"
   ]
  },
  {
   "cell_type": "markdown",
   "metadata": {},
   "source": [
    "# The Snail and the Well\n",
    "\n",
    "A snail falls at the bottom of a 125 cm well. Each day the snail rises 30 cm. But at night, while sleeping, slides 20 cm because the walls are wet. How many days does it take for the snail to escape the well?\n",
    "\n",
    "**Hint**: The snail gets out of the well when it surpasses the 125cm of height.\n",
    "\n",
    "## Tools\n",
    "\n",
    "1. Loop: **while**\n",
    "2. Conditional statements: **if-else**\n",
    "3. Function: **print()**\n",
    "\n",
    "## Tasks\n",
    "\n",
    "#### 1. Assign the challenge data to variables with representative names: `well_height`, `daily_distance`, `nightly_distance` and `snail_position`."
   ]
  },
  {
   "cell_type": "code",
   "execution_count": null,
   "metadata": {},
   "outputs": [],
   "source": [
    "well_height = 125\n",
    "daily_distance = 30\n",
    "nightly_distance = -20 \n",
    "snail_position = 0"
   ]
  },
  {
   "cell_type": "markdown",
   "metadata": {},
   "source": [
    "#### 2. Create a variable `days` to keep count of the days that pass until the snail escapes the well. "
   ]
  },
  {
   "cell_type": "code",
   "execution_count": null,
   "metadata": {},
   "outputs": [],
   "source": [
    "days = 0"
   ]
  },
  {
   "cell_type": "markdown",
   "metadata": {},
   "source": [
    "#### 3. Find the solution to the challenge using the variables defined above. "
   ]
  },
  {
   "cell_type": "code",
   "execution_count": null,
   "metadata": {},
   "outputs": [],
   "source": [
    "well_height = 125\n",
    "daily_distance = 30\n",
    "nightly_distance = -20 \n",
    "snail_position = 0\n",
    "days = 0\n",
    "\n",
    "while snail_position < well_height:\n",
    "    days += 1\n",
    "    snail_position += daily_distance + nightly_distance"
   ]
  },
  {
   "cell_type": "markdown",
   "metadata": {},
   "source": [
    "#### 4. Print the solution."
   ]
  },
  {
   "cell_type": "code",
   "execution_count": 2,
   "metadata": {},
   "outputs": [
    {
     "name": "stdout",
     "output_type": "stream",
     "text": [
      "The snail got out of the well in 13 days.\n"
     ]
    }
   ],
   "source": [
    "well_height = 125\n",
    "daily_distance = 30\n",
    "nightly_distance = -20 \n",
    "snail_position = 0\n",
    "days = 0\n",
    "\n",
    "while snail_position < well_height:\n",
    "    days ¢\n",
    "    snail_position += daily_distance + nightly_distance\n",
    "    \n",
    "print(\"The snail got out of the well in\", days, \"days.\")"
   ]
  },
  {
   "cell_type": "markdown",
   "metadata": {},
   "source": [
    "## Bonus\n",
    "The distance traveled by the snail each day is now defined by a list.\n",
    "```\n",
    "advance_cm = [30, 21, 33, 77, 44, 45, 23, 45, 12, 34, 55]\n",
    "```\n",
    "On the first day, the snail rises 30cm but during the night it slides 20cm. On the second day, the snail rises 21cm but during the night it slides 20cm, and so on. \n",
    "\n",
    "#### 1. How many days does it take for the snail to escape the well?\n",
    "Follow the same guidelines as in the previous challenge.\n",
    "\n",
    "**Hint**: Remember that the snail gets out of the well when it surpasses the 125cm of height."
   ]
  },
  {
   "cell_type": "code",
   "execution_count": 35,
   "metadata": {},
   "outputs": [
    {
     "name": "stdout",
     "output_type": "stream",
     "text": [
      "[10, 1, 13, 57, 24, 25, 3, 25, -8, 14, 35]\n",
      "199\n",
      "11\n",
      "After 6 days the snail climbed out of the well.\n"
     ]
    }
   ],
   "source": [
    "well_height = 125\n",
    "days = 0\n",
    "snail_position = 0\n",
    "\n",
    "advance_cm = [30, 21, 33, 77, 44, 45, 23, 45, 12, 34, 55]\n",
    "decline_cm = [-20, -20, -20, -20, -20, -20, -20, -20, -20, -20, -20]\n",
    "\n",
    "#create a new list of the moving up and moving down of the snail = daily_displacement\n",
    "\n",
    "daily_displacement = [advance_cm[i] + decline_cm[i] for i in range(len(advance_cm))]\n",
    "print(daily_displacement)\n",
    "\n",
    "#can't figure out how to sum the elements of daily_displacement until well_height is reached. Trying it out manually\n",
    "\n",
    "print(sum(daily_displacement))\n",
    "print(len(daily_displacement))\n",
    "\n",
    "daily_displacement[0]\n",
    "daily_displacement[0] + daily_displacement[1]\n",
    "daily_displacement[0] + daily_displacement[1] + daily_displacement [2]\n",
    "daily_displacement[0] + daily_displacement[1] + daily_displacement [2] + daily_displacement [3] \n",
    "daily_displacement[0] + daily_displacement[1] + daily_displacement [2] + daily_displacement [3] + daily_displacement [4]\n",
    "daily_displacement[0] + daily_displacement[1] + daily_displacement [2] + daily_displacement [3] + daily_displacement [4] + daily_displacement [5]\n",
    "\n",
    "print(\"After 6 days the snail climbed out of the well.\")"
   ]
  },
  {
   "cell_type": "markdown",
   "metadata": {},
   "source": [
    "#### 2. What is its maximum displacement in one day? And its minimum? Calculate the displacement using only the travel distance of the days used to get out of the well. \n",
    "**Hint**: Remember that displacement means the total distance risen taking into account that the snail slides at night.  "
   ]
  },
  {
   "cell_type": "code",
   "execution_count": 36,
   "metadata": {},
   "outputs": [
    {
     "name": "stdout",
     "output_type": "stream",
     "text": [
      "[10, 1, 13, 57, 24, 25]\n",
      "The minimum displacement in one day is 1 cm and the maximum displacement is 57 cm.\n"
     ]
    }
   ],
   "source": [
    "#snail needs 6 days to get out of the well\n",
    "#using another method to get the displacement instead of the method used in question 1 (daily_displacement = [advance_cm[i] + decline_cm[i] for i in range(len(advance_cm))])\n",
    "\n",
    "advance_cm = [30, 21, 33, 77, 44, 45]\n",
    "advance_cm [:] = [advance_cm - 20 for advance_cm in advance_cm]\n",
    "print(advance_cm)\n",
    "\n",
    "print(\"The minimum displacement in one day is\", min(advance_cm), \"cm and the maximum displacement is\", max(advance_cm), \"cm.\")"
   ]
  },
  {
   "cell_type": "markdown",
   "metadata": {},
   "source": [
    "#### 3. What is its average progress? Take into account the snail slides at night."
   ]
  },
  {
   "cell_type": "code",
   "execution_count": 37,
   "metadata": {},
   "outputs": [
    {
     "name": "stdout",
     "output_type": "stream",
     "text": [
      "[10, 1, 13, 57, 24, 25]\n",
      "The average progress is 21.666666666666668 cm per day.\n"
     ]
    }
   ],
   "source": [
    "#snail needs 6 days to get out of the well\n",
    "\n",
    "advance_cm = [30, 21, 33, 77, 44, 45]\n",
    "advance_cm [:] = [advance_cm - 20 for advance_cm in advance_cm]\n",
    "\n",
    "print(\"The average progress is\", sum(advance_cm)/len(advance_cm), \"cm per day.\")"
   ]
  },
  {
   "cell_type": "markdown",
   "metadata": {},
   "source": [
    "#### 4. What is the standard deviation of its displacement? Take into account the snail slides at night."
   ]
  },
  {
   "cell_type": "code",
   "execution_count": 47,
   "metadata": {},
   "outputs": [
    {
     "name": "stdout",
     "output_type": "stream",
     "text": [
      "The mean subtracted from day 1 is -11.666666666666668 cm.\n",
      "The square of this result is 136.11111111111114 .\n",
      "19.510680835549195\n"
     ]
    }
   ],
   "source": [
    "displacement_cm = [10, 1, 13, 57, 24, 25]\n",
    "\n",
    "import statistics\n",
    "print(statistics.stdev(displacement_cm))"
   ]
  },
  {
   "cell_type": "code",
   "execution_count": null,
   "metadata": {},
   "outputs": [],
   "source": []
  }
 ],
 "metadata": {
  "kernelspec": {
   "display_name": "Python 3",
   "language": "python",
   "name": "python3"
  },
  "language_info": {
   "codemirror_mode": {
    "name": "ipython",
    "version": 3
   },
   "file_extension": ".py",
   "mimetype": "text/x-python",
   "name": "python",
   "nbconvert_exporter": "python",
   "pygments_lexer": "ipython3",
   "version": "3.8.3"
  }
 },
 "nbformat": 4,
 "nbformat_minor": 2
}
