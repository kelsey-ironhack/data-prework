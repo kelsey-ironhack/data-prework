{
 "cells": [
  {
   "cell_type": "markdown",
   "metadata": {},
   "source": [
    "<img src=\"https://bit.ly/2VnXWr2\" width=\"100\" align=\"left\">"
   ]
  },
  {
   "cell_type": "markdown",
   "metadata": {},
   "source": [
    "# Temperature Sensor\n",
    "\n",
    "There is a temperature sensor in the processor of your company's server. The company wants to analyze the data provided by the sensor to decide if they should change the cooling system for a better one. As changing the cooling system is expensive and you are an excellent data analyst, you can't make a decision without basis.\n",
    "\n",
    "## Tools\n",
    "You don't necessarily need to use all the tools. Maybe you opt to use some of them or completely different ones, they are given to help you shape the exercise. Programming exercises can be solved in many different ways.\n",
    "1. Data structures: **lists**\n",
    "2. Loops: **list comprehension**\n",
    "3. Functions: **min, max, print, len**\n",
    "4. Conditional statements: **if-elif-else**\n",
    "\n",
    "## Tasks\n",
    "The temperatures measured throughout the 24 hours of a day are:"
   ]
  },
  {
   "cell_type": "code",
   "execution_count": null,
   "metadata": {},
   "outputs": [],
   "source": [
    "temperatures_C = [33, 66, 65, 0, 59, 60, 62, 64, 70, 76, 80, 81, 80, 83, 90, 79, 61, 53, 50, 49, 53, 48, 45, 39]"
   ]
  },
  {
   "cell_type": "markdown",
   "metadata": {},
   "source": [
    "The first element of the list is the temperature at 12am, the second element is the temperature at 1am, and so on. \n",
    "\n",
    "The company has decided that if one of the following events occurs, then the cooling system needs to be replaced for a new one to avoid damaging the processor.\n",
    "* More than 4 temperatures are greater than or equal to 70ºC.\n",
    "* Any temperature is above 80ºC.\n",
    "* The average temperature exceeds 65ºC.\n",
    "\n",
    "Follow the steps so that you can make the decision.\n",
    "\n",
    "#### 1. Find the minimum temperature of the day and store it in a variable."
   ]
  },
  {
   "cell_type": "code",
   "execution_count": 2,
   "metadata": {},
   "outputs": [
    {
     "name": "stdout",
     "output_type": "stream",
     "text": [
      "The minimum temperature of the day is 0\n"
     ]
    }
   ],
   "source": [
    "temperatures_C = [33, 66, 65, 0, 59, 60, 62, 64, 70, 76, 80, 81, 80, 83, 90, 79, 61, 53, 50, 49, 53, 48, 45, 39]\n",
    "\n",
    "print(\"The minimum temperature of the day is\", min(temperatures_C))\n",
    "\n",
    "#min_temp = min(temperatures_C)\n",
    "\n",
    "min_temp = 0 "
   ]
  },
  {
   "cell_type": "markdown",
   "metadata": {},
   "source": [
    "#### 2. Find the maximum temperature of the day and store it in a variable."
   ]
  },
  {
   "cell_type": "code",
   "execution_count": 3,
   "metadata": {},
   "outputs": [
    {
     "name": "stdout",
     "output_type": "stream",
     "text": [
      "The maximum temperature of the day is 90\n"
     ]
    }
   ],
   "source": [
    "print(\"The maximum temperature of the day is\", max(temperatures_C))\n",
    "\n",
    "#max_temp = max(temperatures_C)\n",
    "\n",
    "max_temp = 90"
   ]
  },
  {
   "cell_type": "markdown",
   "metadata": {},
   "source": [
    "#### 3. Create a list with the temperatures that are greater than or equal to 70ºC. Store it in a variable."
   ]
  },
  {
   "cell_type": "code",
   "execution_count": 121,
   "metadata": {},
   "outputs": [
    {
     "name": "stdout",
     "output_type": "stream",
     "text": [
      "[70, 76, 80, 81, 80, 83, 90, 79]\n"
     ]
    }
   ],
   "source": [
    "#1st option creates all values below each other\n",
    "#for i in temperatures_C:\n",
    "#    if i >= 70:\n",
    "#        print(i)\n",
    "\n",
    "#2nd option of list comprehension creates a list type, which is easier to copy paste into a variable\n",
    "\n",
    "greater_70 = []\n",
    "for i in temperatures_C:\n",
    "    if i >= 70:\n",
    "        greater_70.append(i)\n",
    "print(greater_70)"
   ]
  },
  {
   "cell_type": "markdown",
   "metadata": {},
   "source": [
    "#### 4. Find the average temperature of the day and store it in a variable."
   ]
  },
  {
   "cell_type": "code",
   "execution_count": 4,
   "metadata": {},
   "outputs": [
    {
     "name": "stdout",
     "output_type": "stream",
     "text": [
      "The average temperature of the day is 60.25\n"
     ]
    }
   ],
   "source": [
    "print(\"The average temperature of the day is\", sum(temperatures_C) / len(temperatures_C))\n",
    "\n",
    "avg_temp = sum(temperatures_C) / len(temperatures_C)\n",
    "\n",
    "#avg_temp = 60.25"
   ]
  },
  {
   "cell_type": "markdown",
   "metadata": {},
   "source": [
    "#### 5. Imagine that there was a sensor failure at 3am and the data for that specific hour was not recorded. How would you estimate the missing value? Replace the current value of the list at 3am for an estimation. "
   ]
  },
  {
   "cell_type": "code",
   "execution_count": 52,
   "metadata": {},
   "outputs": [
    {
     "name": "stdout",
     "output_type": "stream",
     "text": [
      "[33, 66, 65, 59, 60, 62, 64, 70, 76, 80, 81, 80, 83, 90, 79, 61, 53, 50, 49, 53, 48, 45, 39]\n",
      "62.869565217391305\n",
      "[33, 66, 65, 62, 59, 60, 62, 64, 70, 76, 80, 81, 80, 83, 90, 79, 61, 53, 50, 49, 53, 48, 45, 39]\n"
     ]
    }
   ],
   "source": [
    "#3rd item of the list is the missing hour: temperatures_C[3]\n",
    "#since one temperature wasn't recorded, new_avg_temp is the sum of all temperatures / 23 \n",
    "#remove the unrecorded hour\n",
    "\n",
    "temperatures_C_again = [33, 66, 65, 0, 59, 60, 62, 64, 70, 76, 80, 81, 80, 83, 90, 79, 61, 53, 50, 49, 53, 48, 45, 39]\n",
    "temperatures_C_again.pop(3)\n",
    "print(temperatures_C_again)\n",
    "\n",
    "#new average\n",
    "new_avg_temp = sum(temperatures_C_again) / len(temperatures_C_again)\n",
    "print(new_avg_temp)\n",
    "\n",
    "#replace [3] with new average temperature\n",
    "temperatures_C[3] = int(new_avg_temp)\n",
    "print(temperatures_C)"
   ]
  },
  {
   "cell_type": "markdown",
   "metadata": {},
   "source": [
    "#### 6. Bonus: the maintenance staff is from the United States and does not understand the international metric system. Help them by converting the temperatures from Celsius to Fahrenheit.\n",
    "To know more about temperature conversion check this [link](https://en.wikipedia.org/wiki/Conversion_of_units_of_temperature).\n",
    "\n",
    "**Formula**: \n",
    "\n",
    "$F = 1.8 * C + 32$"
   ]
  },
  {
   "cell_type": "code",
   "execution_count": 23,
   "metadata": {
    "scrolled": false
   },
   "outputs": [
    {
     "name": "stdout",
     "output_type": "stream",
     "text": [
      "[91.4, 150.8, 149.0, 140.0, 138.2, 140.0, 143.60000000000002, 147.2, 158.0, 168.8, 176.0, 177.8, 176.0, 181.4, 194.0, 174.20000000000002, 141.8, 127.4, 122.0, 120.2, 127.4, 118.4, 113.0, 102.2]\n"
     ]
    }
   ],
   "source": [
    "temperatures_F = []\n",
    " \n",
    "for i in temperatures_C:\n",
    "    converted = i * 1.8 + 32\n",
    "    temperatures_F.append(converted)\n",
    "\n",
    "print(temperatures_F)\n",
    "\n",
    "temperatures_F = [91.4, 150.8, 149.0, 140.0, 138.2, 140.0, 143.60000000000002, 147.2, 158.0, 168.8, 176.0, 177.8, 176.0, 181.4, 194.0, 174.20000000000002, 141.8, 127.4, 122.0, 120.2, 127.4, 118.4, 113.0, 102.2]\n",
    " "
   ]
  },
  {
   "cell_type": "markdown",
   "metadata": {},
   "source": [
    "#### 7. Make a decision!\n",
    "Now it's time to make a decision taking into account what you have seen until now. \n",
    "\n",
    "Remember that if one of the following events occurs, then the cooling system needs to be replaced for a new one to avoid damaging the processor.\n",
    "* More than 4 temperatures are greater than or equal to 70ºC.\n",
    "* Any temperature is above 80ºC.\n",
    "* The average temperature exceeds 65ºC.\n",
    "\n",
    "#### To make your decision, check if any of the three conditions above is met. You might need to use some of the variables you created in steps 1 to 6. Print a message to show if the cooling system needs to be changed or not."
   ]
  },
  {
   "cell_type": "code",
   "execution_count": 76,
   "metadata": {},
   "outputs": [
    {
     "name": "stdout",
     "output_type": "stream",
     "text": [
      "The cooling system needs to be replaced.\n"
     ]
    }
   ],
   "source": [
    "#Couldn't make if statements work that include lists and mathematical symbols like = / < / >\n",
    "#Therefore solving it with a detour and creating new variables\n",
    "\n",
    "#Amount of temperatures in the greater_70 list: len(greater_70)\n",
    "len_greater_70 = 8\n",
    "\n",
    "#Amount of temperatures above 80: [el for el in temperatures_C if el > 80]\n",
    "#greater_80 = [81, 83, 90]\n",
    "#len(greater_80)\n",
    "len_greater_80 = 3\n",
    "\n",
    "avg_temp = 60.25\n",
    "\n",
    "if (len_greater_70 == 5) or (len_greater_70 == 6) or (len_greater_70 == 7) or (len_greater_70 == 8):\n",
    "    print(\"The cooling system needs to be replaced.\")\n",
    "elif (len_greater_80 == 1) or (len_greater_80 == 2) or (len_greater_80 == 3):\n",
    "    print(\"The cooling system needs to be replaced.\")\n",
    "elif (avg_temp > 65):\n",
    "    print(\"The cooling system needs to be replaced.\")\n",
    "else:\n",
    "    print(\"The cooling system doesn't need to be replaced.\")\n",
    "    \n",
    "\n",
    "    \n"
   ]
  },
  {
   "cell_type": "markdown",
   "metadata": {},
   "source": [
    "## Bonus\n",
    "\n",
    "The company has decided that the decision you made is not valid. They want you to analyze the data again but this time, the conditions that need to be met in order to change the cooling system are different.\n",
    "\n",
    "This time, if one of the following events occurs, then the cooling system needs to be replaced:\n",
    "* The temperature is greater than 70ºC during more than 4 consecutive hours.\n",
    "* Any temperature is above 80ºC.\n",
    "* The average temperature exceeds 65ºC.\n",
    "\n",
    "Follow the steps so that you can make the decision.\n",
    "\n",
    "#### 1. Create a list with the hours where the temperature is greater than 70ºC. Store it in a variable."
   ]
  },
  {
   "cell_type": "code",
   "execution_count": 34,
   "metadata": {},
   "outputs": [
    {
     "data": {
      "text/plain": [
       "[76, 80, 81, 80, 83, 90, 79]"
      ]
     },
     "execution_count": 34,
     "metadata": {},
     "output_type": "execute_result"
    }
   ],
   "source": [
    "temperatures_C = [33, 66, 65, 0, 59, 60, 62, 64, 70, 76, 80, 81, 80, 83, 90, 79, 61, 53, 50, 49, 53, 48, 45, 39]\n",
    "\n",
    "[el for el in temperatures_C if el > 70]\n",
    "\n",
    "over_70 = [70, 76, 80, 81, 80, 83, 90, 79]"
   ]
  },
  {
   "cell_type": "markdown",
   "metadata": {},
   "source": [
    "#### 2. Check if the list you created in step 1 has more than 4 consecutive hours. "
   ]
  },
  {
   "cell_type": "code",
   "execution_count": 98,
   "metadata": {},
   "outputs": [
    {
     "name": "stdout",
     "output_type": "stream",
     "text": [
      "There are more than 4 consecutive hours where the temperature is above 70\n"
     ]
    }
   ],
   "source": [
    "[i for i,val in enumerate(over_70) if val>=70]\n",
    "\n",
    "print(\"There are more than 4 consecutive hours where the temperature is above 70\")\n"
   ]
  },
  {
   "cell_type": "markdown",
   "metadata": {},
   "source": [
    "#### 3. Make the decision!\n",
    "To make your decision, check if any of the three conditions is met. Print a message to show if the cooling system needs to be changed or not."
   ]
  },
  {
   "cell_type": "code",
   "execution_count": 104,
   "metadata": {},
   "outputs": [
    {
     "name": "stdout",
     "output_type": "stream",
     "text": [
      "The cooling system needs to be replaced.\n"
     ]
    }
   ],
   "source": [
    "consecutive_over_70 = True\n",
    "len_greater_80 = 3\n",
    "avg_temp = 60.25\n",
    "\n",
    "if consecutive_over_70 == True:\n",
    "    print(\"The cooling system needs to be replaced.\")\n",
    "elif (len_greater_80 == 1) or (len_greater_80 == 2) or (len_greater_80 == 3):\n",
    "    print(\"The cooling system needs to be replaced.\")\n",
    "elif (avg_temp > 65):\n",
    "    print(\"The cooling system needs to be replaced.\")\n",
    "else:\n",
    "    print(\"The cooling system doesn't need to be replaced.\")"
   ]
  },
  {
   "cell_type": "markdown",
   "metadata": {},
   "source": [
    "#### 4. Find the average value of the temperature lists (ºC and ºF). What is the relation between both average values?"
   ]
  },
  {
   "cell_type": "code",
   "execution_count": 36,
   "metadata": {},
   "outputs": [
    {
     "name": "stdout",
     "output_type": "stream",
     "text": [
      "The average temperature of the Celcius list is 60.25\n",
      "The average temperature of the Fahrenheit list is 144.95\n"
     ]
    }
   ],
   "source": [
    "temperatures_C = [33, 66, 65, 0, 59, 60, 62, 64, 70, 76, 80, 81, 80, 83, 90, 79, 61, 53, 50, 49, 53, 48, 45, 39]\n",
    "temperatures_F = [91.4, 150.8, 149.0, 140.0, 138.2, 140.0, 143.60000000000002, 147.2, 158.0, 168.8, 176.0, 177.8, 176.0, 181.4, 194.0, 174.20000000000002, 141.8, 127.4, 122.0, 120.2, 127.4, 118.4, 113.0, 102.2]\n",
    "\n",
    "#average_celcius = sum(temperatures_C) / len(temperatures_C)\n",
    "\n",
    "avg_tempF = sum(temperatures_F) / len(temperatures_F)\n",
    "\n",
    "print(\"The average temperature of the Celcius list is\", avg_temp)\n",
    "print(\"The average temperature of the Fahrenheit list is\", avg_tempF)\n",
    "\n"
   ]
  },
  {
   "cell_type": "markdown",
   "metadata": {},
   "source": [
    "#### 5. Find the standard deviation of the temperature lists (ºC and ºF). What is the relation between both standard deviations?"
   ]
  },
  {
   "cell_type": "code",
   "execution_count": 40,
   "metadata": {},
   "outputs": [
    {
     "name": "stdout",
     "output_type": "stream",
     "text": [
      "The standard deviation of the Celcius list is 19.700474503223873\n",
      "The standard deviation of the Fahrenheit list is 26.925549528121138\n"
     ]
    }
   ],
   "source": [
    "#import statistics module to save time and work\n",
    "\n",
    "import statistics\n",
    "print(\"The standard deviation of the Celcius list is\",statistics.stdev(temperatures_C))\n",
    "\n",
    "import statistics\n",
    "print(\"The standard deviation of the Fahrenheit list is\", statistics.stdev(temperatures_F))\n",
    "\n",
    "\n"
   ]
  },
  {
   "cell_type": "code",
   "execution_count": null,
   "metadata": {},
   "outputs": [],
   "source": []
  }
 ],
 "metadata": {
  "kernelspec": {
   "display_name": "Python 3",
   "language": "python",
   "name": "python3"
  },
  "language_info": {
   "codemirror_mode": {
    "name": "ipython",
    "version": 3
   },
   "file_extension": ".py",
   "mimetype": "text/x-python",
   "name": "python",
   "nbconvert_exporter": "python",
   "pygments_lexer": "ipython3",
   "version": "3.8.3"
  }
 },
 "nbformat": 4,
 "nbformat_minor": 2
}
