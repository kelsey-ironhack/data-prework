{
  "nbformat": 4,
  "nbformat_minor": 0,
  "metadata": {
    "kernelspec": {
      "display_name": "Python 3",
      "language": "python",
      "name": "python3"
    },
    "language_info": {
      "codemirror_mode": {
        "name": "ipython",
        "version": 3
      },
      "file_extension": ".py",
      "mimetype": "text/x-python",
      "name": "python",
      "nbconvert_exporter": "python",
      "pygments_lexer": "ipython3",
      "version": "3.7.2"
    },
    "colab": {
      "name": "temperature.ipynb",
      "provenance": [],
      "include_colab_link": true
    }
  },
  "cells": [
    {
      "cell_type": "markdown",
      "metadata": {
        "id": "view-in-github",
        "colab_type": "text"
      },
      "source": [
        "<a href=\"https://colab.research.google.com/github/ronlicaj/data-prework/blob/master/temperature.ipynb\" target=\"_parent\"><img src=\"https://colab.research.google.com/assets/colab-badge.svg\" alt=\"Open In Colab\"/></a>"
      ]
    },
    {
      "cell_type": "markdown",
      "metadata": {
        "id": "k7vlVpG35PL-"
      },
      "source": [
        "<img src=\"https://bit.ly/2VnXWr2\" width=\"100\" align=\"left\">"
      ]
    },
    {
      "cell_type": "markdown",
      "metadata": {
        "id": "f0xX-O8k5PMD"
      },
      "source": [
        "# Temperature Sensor\n",
        "\n",
        "There is a temperature sensor in the processor of your company's server. The company wants to analyze the data provided by the sensor to decide if they should change the cooling system for a better one. As changing the cooling system is expensive and you are an excellent data analyst, you can't make a decision without basis.\n",
        "\n",
        "## Tools\n",
        "You don't necessarily need to use all the tools. Maybe you opt to use some of them or completely different ones, they are given to help you shape the exercise. Programming exercises can be solved in many different ways.\n",
        "1. Data structures: **lists**\n",
        "2. Loops: **list comprehension**\n",
        "3. Functions: **min, max, print, len**\n",
        "4. Conditional statements: **if-elif-else**\n",
        "\n",
        "## Tasks\n",
        "The temperatures measured throughout the 24 hours of a day are:"
      ]
    },
    {
      "cell_type": "code",
      "metadata": {
        "id": "48pARpD75PME"
      },
      "source": [
        "temperatures_C = [33, 66, 65, 0, 59, 60, 62, 64, 70, 76, 80, 81, 80, 83, 90, 79, 61, 53, 50, 49, 53, 48, 45, 39]"
      ],
      "execution_count": 1,
      "outputs": []
    },
    {
      "cell_type": "markdown",
      "metadata": {
        "id": "HE8xWI0_5PMF"
      },
      "source": [
        "The first element of the list is the temperature at 12am, the second element is the temperature at 1am, and so on. \n",
        "\n",
        "The company has decided that if one of the following events occurs, then the cooling system needs to be replaced for a new one to avoid damaging the processor.\n",
        "* More than 4 temperatures are greater than or equal to 70ºC.\n",
        "* Any temperature is above 80ºC.\n",
        "* The average temperature exceeds 65ºC.\n",
        "\n",
        "Follow the steps so that you can make the decision.\n",
        "\n",
        "#### 1. Find the minimum temperature of the day and store it in a variable."
      ]
    },
    {
      "cell_type": "code",
      "metadata": {
        "id": "jRH4OMSH5PMF"
      },
      "source": [
        "coldest = min(temperatures_C)"
      ],
      "execution_count": 2,
      "outputs": []
    },
    {
      "cell_type": "markdown",
      "metadata": {
        "id": "p9lwyJID5PMG"
      },
      "source": [
        "#### 2. Find the maximum temperature of the day and store it in a variable."
      ]
    },
    {
      "cell_type": "code",
      "metadata": {
        "id": "R9pMUpsi5PMG"
      },
      "source": [
        "hottest = max(temperatures_C)"
      ],
      "execution_count": 3,
      "outputs": []
    },
    {
      "cell_type": "markdown",
      "metadata": {
        "id": "QTHGCW535PMG"
      },
      "source": [
        "#### 3. Create a list with the temperatures that are greater than or equal to 70ºC. Store it in a variable."
      ]
    },
    {
      "cell_type": "code",
      "metadata": {
        "id": "jJKXSKST5PMH"
      },
      "source": [
        "hot_temps = [t for t in temperatures_C if t >= 70]"
      ],
      "execution_count": 5,
      "outputs": []
    },
    {
      "cell_type": "markdown",
      "metadata": {
        "id": "z1JICZsP5PMH"
      },
      "source": [
        "#### 4. Find the average temperature of the day and store it in a variable."
      ]
    },
    {
      "cell_type": "code",
      "metadata": {
        "id": "sbniE6pv5PMI"
      },
      "source": [
        "from statistics import mean\n",
        "average = round(mean(temperatures_C), 2)"
      ],
      "execution_count": 6,
      "outputs": []
    },
    {
      "cell_type": "markdown",
      "metadata": {
        "id": "R7RKovAj5PMI"
      },
      "source": [
        "#### 5. Imagine that there was a sensor failure at 3am and the data for that specific hour was not recorded. How would you estimate the missing value? Replace the current value of the list at 3am for an estimation. "
      ]
    },
    {
      "cell_type": "code",
      "metadata": {
        "colab": {
          "base_uri": "https://localhost:8080/"
        },
        "id": "n3RprhAu5PMJ",
        "outputId": "66f2f579-4cf3-4bc4-ed56-3710b390d87c"
      },
      "source": [
        "temperatures_C[3] = (temperatures_C[2] + temperatures_C[4])/2\n",
        "print(temperatures_C)"
      ],
      "execution_count": 7,
      "outputs": [
        {
          "output_type": "stream",
          "text": [
            "[33, 66, 65, 62.0, 59, 60, 62, 64, 70, 76, 80, 81, 80, 83, 90, 79, 61, 53, 50, 49, 53, 48, 45, 39]\n"
          ],
          "name": "stdout"
        }
      ]
    },
    {
      "cell_type": "markdown",
      "metadata": {
        "id": "pehKVIBg5PMJ"
      },
      "source": [
        "#### 6. Bonus: the maintenance staff is from the United States and does not understand the international metric system. Help them by converting the temperatures from Celsius to Fahrenheit.\n",
        "To know more about temperature conversion check this [link](https://en.wikipedia.org/wiki/Conversion_of_units_of_temperature).\n",
        "\n",
        "**Formula**: \n",
        "\n",
        "$F = 1.8 * C + 32$"
      ]
    },
    {
      "cell_type": "code",
      "metadata": {
        "colab": {
          "base_uri": "https://localhost:8080/"
        },
        "id": "mqIDXKSX5PMK",
        "outputId": "70fe17fe-379e-4171-a3d5-5c84222909f8"
      },
      "source": [
        "temperatures_F = [round(x*1.8 + 32) for x in temperatures_C]\n",
        "print(temperatures_F)"
      ],
      "execution_count": 8,
      "outputs": [
        {
          "output_type": "stream",
          "text": [
            "[91, 151, 149, 144, 138, 140, 144, 147, 158, 169, 176, 178, 176, 181, 194, 174, 142, 127, 122, 120, 127, 118, 113, 102]\n"
          ],
          "name": "stdout"
        }
      ]
    },
    {
      "cell_type": "markdown",
      "metadata": {
        "id": "7Qy15Nfl5PMK"
      },
      "source": [
        "#### 7. Make a decision!\n",
        "Now it's time to make a decision taking into account what you have seen until now. \n",
        "\n",
        "Remember that if one of the following events occurs, then the cooling system needs to be replaced for a new one to avoid damaging the processor.\n",
        "* More than 4 temperatures are greater than or equal to 70ºC.\n",
        "* Any temperature is above 80ºC.\n",
        "* The average temperature exceeds 65ºC.\n",
        "\n",
        "#### To make your decision, check if any of the three conditions above is met. You might need to use some of the variables you created in steps 1 to 6. Print a message to show if the cooling system needs to be changed or not."
      ]
    },
    {
      "cell_type": "code",
      "metadata": {
        "colab": {
          "base_uri": "https://localhost:8080/"
        },
        "id": "ZlkCvFa15PMK",
        "outputId": "fec76cfb-547d-4231-98da-cc2d20229b45"
      },
      "source": [
        "if len(hot_ones) >= 4 or m >= 80 in temperatures_C or average >= 65:\n",
        "    print(\"The Server is overheating. Cooling system need to be changed.\")\n",
        "else:\n",
        "    print(\"Your server is cool. The cooling system needs not to be cahnged.\")"
      ],
      "execution_count": 9,
      "outputs": [
        {
          "output_type": "stream",
          "text": [
            "The Server is overheating. Cooling system need to be changed.\n"
          ],
          "name": "stdout"
        }
      ]
    },
    {
      "cell_type": "markdown",
      "metadata": {
        "id": "jqHc7gQN5PMK"
      },
      "source": [
        "## Bonus\n",
        "\n",
        "The company has decided that the decision you made is not valid. They want you to analyze the data again but this time, the conditions that need to be met in order to change the cooling system are different.\n",
        "\n",
        "This time, if one of the following events occurs, then the cooling system needs to be replaced:\n",
        "* The temperature is greater than 70ºC during more than 4 consecutive hours.\n",
        "* Any temperature is above 80ºC.\n",
        "* The average temperature exceeds 65ºC.\n",
        "\n",
        "Follow the steps so that you can make the decision.\n",
        "\n",
        "#### 1. Create a list with the hours where the temperature is greater than 70ºC. Store it in a variable."
      ]
    },
    {
      "cell_type": "code",
      "metadata": {
        "colab": {
          "base_uri": "https://localhost:8080/"
        },
        "id": "RrKf9x8O5PMK",
        "outputId": "62db9cc7-ed15-4ea4-b70f-7b03da8d6f1c"
      },
      "source": [
        "beyond70 = []\n",
        "for i in range(len(temperatures_C)):\n",
        "    if temperatures_C[i] > 70:\n",
        "        if i == 0:\n",
        "            beyond70.append('12 A.M.')\n",
        "        elif i > 12:\n",
        "            beyond70.append(str(i - 12) + ' P.M.')\n",
        "        elif i == 12:\n",
        "            beyond70.append(str(i) + ' P.M.')\n",
        "        else:\n",
        "            beyond70.append(str(i) + ' A.M.')\n",
        "print(beyond70)"
      ],
      "execution_count": 10,
      "outputs": [
        {
          "output_type": "stream",
          "text": [
            "['9 A.M.', '10 A.M.', '11 A.M.', '12 P.M.', '1 P.M.', '2 P.M.', '3 P.M.']\n"
          ],
          "name": "stdout"
        }
      ]
    },
    {
      "cell_type": "markdown",
      "metadata": {
        "id": "7eqRa8GM5PML"
      },
      "source": [
        "#### 2. Check if the list you created in step 1 has more than 4 consecutive hours. "
      ]
    },
    {
      "cell_type": "code",
      "metadata": {
        "colab": {
          "base_uri": "https://localhost:8080/"
        },
        "id": "UMPFeTkY5PML",
        "outputId": "faf7a61a-6818-4ce9-abea-e7870b0c1efa"
      },
      "source": [
        "print(f'There were {len(beyond70)} hours with temperatures above 70 C.')"
      ],
      "execution_count": 11,
      "outputs": [
        {
          "output_type": "stream",
          "text": [
            "There were 7 hours with temperatures above 70 C.\n"
          ],
          "name": "stdout"
        }
      ]
    },
    {
      "cell_type": "markdown",
      "metadata": {
        "id": "fRZwk6Kc5PML"
      },
      "source": [
        "#### 3. Make the decision!\n",
        "To make your decision, check if any of the three conditions is met. Print a message to show if the cooling system needs to be changed or not."
      ]
    },
    {
      "cell_type": "code",
      "metadata": {
        "colab": {
          "base_uri": "https://localhost:8080/"
        },
        "id": "Iq8tx2JW5PML",
        "outputId": "c64deac4-104c-4f9b-ac0e-ffbddabddf01"
      },
      "source": [
        "consexecution = 0\n",
        "counter = 0\n",
        "while consexecution < 4 and len(temperatures_C) != (counter + 1):\n",
        "    if temperatures_C[counter] >= 70:\n",
        "        consexecution += 1\n",
        "    else:\n",
        "        consexecution = 0\n",
        "    counter += 1\n",
        "\n",
        "if consexecution >= 4 or m >= 80 in temperatures_C or average >= 65:\n",
        "    print(\"Server under overheating hazard. Please change the cooling system.\")\n",
        "else:\n",
        "    print(\"Cooling system effective. Your server is cool.\")"
      ],
      "execution_count": 12,
      "outputs": [
        {
          "output_type": "stream",
          "text": [
            "Server under overheating hazard. Please change the cooling system.\n"
          ],
          "name": "stdout"
        }
      ]
    },
    {
      "cell_type": "markdown",
      "metadata": {
        "id": "Il0EmrFe5PML"
      },
      "source": [
        "#### 4. Find the average value of the temperature lists (ºC and ºF). What is the relation between both average values?"
      ]
    },
    {
      "cell_type": "code",
      "metadata": {
        "colab": {
          "base_uri": "https://localhost:8080/"
        },
        "id": "WiYAUa9d5PML",
        "outputId": "b1c42bd9-5bc5-4060-b196-46b75426596f"
      },
      "source": [
        "from statistics import mean\n",
        "print(f'The average temperature in C is {round(mean(temperatures_C), 2)}, and the average temperature in F is {round(mean(temperatures_F), 2)}, \\nwhich means that, in average, the measured temperatures in F are {round(mean(temperatures_F)/mean(temperatures_C), 2)} greater than the temperatures in C.')"
      ],
      "execution_count": 13,
      "outputs": [
        {
          "output_type": "stream",
          "text": [
            "The average temperature in C is 62.83, and the average temperature in F is 145.04, \n",
            "which means that, in average, the measured temperatures in F are 2.31 greater than the temperatures in C.\n"
          ],
          "name": "stdout"
        }
      ]
    },
    {
      "cell_type": "markdown",
      "metadata": {
        "id": "owlqj1Pq5PML"
      },
      "source": [
        "#### 5. Find the standard deviation of the temperature lists (ºC and ºF). What is the relation between both standard deviations?"
      ]
    },
    {
      "cell_type": "code",
      "metadata": {
        "colab": {
          "base_uri": "https://localhost:8080/"
        },
        "id": "lku9116m5PMM",
        "outputId": "78064f9a-6940-4b81-c1a3-fa371027acfc"
      },
      "source": [
        "from statistics import stdev\n",
        "print(f'The standard deviation of the measured temperatures in C is {round(stdev(temperatures_C), 2)}, and the standard deviation in F is {round(stdev(temperatures_F), 2)}, \\nwhich means that the standard deviation in F is {round(stdev(temperatures_F)/stdev(temperatures_C), 2)} greater than with the temperatures in C.')"
      ],
      "execution_count": 14,
      "outputs": [
        {
          "output_type": "stream",
          "text": [
            "The standard deviation of the measured temperatures in C is 14.95, and the standard deviation in F is 26.99, \n",
            "which means that the standard deviation in F is 1.81 greater than with the temperatures in C.\n"
          ],
          "name": "stdout"
        }
      ]
    }
  ]
}