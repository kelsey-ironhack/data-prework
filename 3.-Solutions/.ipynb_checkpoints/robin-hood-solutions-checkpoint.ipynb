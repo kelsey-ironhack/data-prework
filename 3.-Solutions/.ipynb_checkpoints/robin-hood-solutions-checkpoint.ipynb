{
 "cells": [
  {
   "cell_type": "markdown",
   "metadata": {},
   "source": [
    "<img src=\"https://bit.ly/2VnXWr2\" width=\"100\" align=\"left\"/>"
   ]
  },
  {
   "cell_type": "markdown",
   "metadata": {},
   "source": [
    "# Robin Hood\n",
    "Robin Hood has entered a competition to win the archery contest in Sherwood. With his bow and arrows, he needs to shoot on a target and try to hit as close as possible to the center.\n",
    "\n",
    "![](images/arrows.jpg)\n",
    "\n",
    "## Context\n",
    "In this challenge, the landing position of arrows shot by archers in the competition will be represented using 2-dimensional coordinates. \n",
    "\n",
    "In the 2-dimensional space, a point can be defined by a pair of values that correspond to the horizontal coordinate (x) and the vertical coordinate (y). For example, in our case, an arrow that hits the center of the archery target will land in position (0, 0) on the coordinate axes. \n",
    "\n",
    "The space can be divided into 4 zones (quadrants): Q1, Q2, Q3, Q4. If a point is in Q1, both its x coordinate and y coordinate are positive. Any point with a null x or y coordinate is considered to not belong to any quadrant. \n",
    "\n",
    "If you want to know more about the cartesian coordinate system, you can check this [link](https://en.wikipedia.org/wiki/Cartesian_coordinate_system). \n",
    "\n",
    "## Tools\n",
    "You don't necessarily need to use all the tools. Maybe you opt to use some of them or completely different ones, they are given to help you shape the exercise. Programming exercises can be solved in many different ways.\n",
    "* Data structures: **lists, sets, tuples**\n",
    "* Conditional statements: **if-elif-else**\n",
    "* Loop: **while/for**\n",
    "* Minimum (optional sorting)\n",
    "\n",
    "## Tasks\n",
    "Robin Hood has hit the following points:"
   ]
  },
  {
   "cell_type": "code",
   "execution_count": 1,
   "metadata": {},
   "outputs": [],
   "source": [
    "points = [(4, 5), (-0, 2), (4, 7), (1, -3), (3, -2), (4, 5), (3, 2), (5, 7), (-5, 7), (2, 2), (-4, 5), (0, -2),\n",
    "          (-4, 7), (-1, 3), (-3, 2), (-4, -5), (-3, 2), (5, 7), (5, 7), (2, 2), (9, 9), (-8, -9)]"
   ]
  },
  {
   "cell_type": "markdown",
   "metadata": {},
   "source": [
    "#### 1. Robin Hood is famous for hitting an arrow with another arrow. Find the coordinates of the points where an arrow hits another arrow."
   ]
  },
  {
   "cell_type": "code",
   "execution_count": 2,
   "metadata": {},
   "outputs": [
    {
     "name": "stdout",
     "output_type": "stream",
     "text": [
      "Robin Hood has hit 5 arrows with another arrow.\n",
      "He did it at the following points: [(4, 5), (-3, 2), (5, 7), (5, 7), (2, 2)]\n"
     ]
    }
   ],
   "source": [
    "seen = set()\n",
    "arrow_convergence_points = []\n",
    "for coordinates in points:\n",
    "    if coordinates in seen:\n",
    "        arrow_convergence_points.append(coordinates)\n",
    "    else:\n",
    "        seen.add(coordinates)\n",
    "        \n",
    "print(f'''Robin Hood has hit {len(arrow_convergence_points)} arrows with another arrow.\n",
    "He did it at the following points: {arrow_convergence_points}''')"
   ]
  },
  {
   "cell_type": "markdown",
   "metadata": {},
   "source": [
    "#### 2. Calculate how many arrows have fallen in each quadrant. \n",
    "**Note**: the arrows that fall in the axis (x=0 or y=0) don't belong to any quadrant."
   ]
  },
  {
   "cell_type": "code",
   "execution_count": 3,
   "metadata": {},
   "outputs": [
    {
     "name": "stdout",
     "output_type": "stream",
     "text": [
      "The point (0, 2) lies at positive y axis.\n",
      "The point (0, -2) lies at negative y axis.\n",
      "Q1: 10, Q2: 6, Q3: 2, Q4: 2\n"
     ]
    }
   ],
   "source": [
    "q1 = 0\n",
    "q2 = 0\n",
    "q3 = 0\n",
    "q4 = 0\n",
    "\n",
    "for x, y in points:\n",
    "    if x > 0 and y > 0:\n",
    "        q1 += 1\n",
    "    elif x < 0 and y > 0:\n",
    "        q2 += 1\n",
    "    elif x < 0 and y < 0:\n",
    "        q3 += 1\n",
    "     \n",
    "    elif x > 0 and y < 0:\n",
    "        q4 += 1\n",
    "    elif x == 0 and y > 0:\n",
    "        print(\"The point (%d, %d) lies at positive y axis.\" %(x, y))\n",
    "    elif x == 0 and y < 0:\n",
    "        print(\"The point (%d, %d) lies at negative y axis.\" %(x, y))\n",
    "    elif x > 0 and y == 0:\n",
    "        print(\"The point (%d, %d) lies at positive x axis.\" %(x, y))\n",
    "    elif x < 0 and y == 0:\n",
    "        print(\"The point (%d, %d) lies at negative x axis.\" %(x, y))\n",
    "    else:\n",
    "        print(\"This point lies at origin.\")\n",
    "        \n",
    "print(\"Q1: %d, Q2: %d, Q3: %d, Q4: %d\" %(q1, q2, q3, q4))"
   ]
  },
  {
   "cell_type": "markdown",
   "metadata": {},
   "source": [
    "#### 3. Find the point closest to the center. Calculate its distance to the center. \n",
    "Take into account that there might be more than one point at the minimum distance to the center.\n",
    "\n",
    "**Hint**: Use the Euclidean distance. You can find more information about it [here](https://en.wikipedia.org/wiki/Euclidean_distance).  \n",
    "**Hint**: Defining a function that calculates the distance to the center can help."
   ]
  },
  {
   "cell_type": "code",
   "execution_count": 4,
   "metadata": {},
   "outputs": [
    {
     "name": "stdout",
     "output_type": "stream",
     "text": [
      "The distance of the closest point/s is 2.0.\n",
      "The point/points at this distance is/are:\n",
      "(0, -2)\n",
      "(0, 2)\n"
     ]
    }
   ],
   "source": [
    "def find_distance(point):\n",
    "    x, y = point\n",
    "    return (x ** 2 + y ** 2) ** 0.5\n",
    "\n",
    "unique_points = list(set(points))\n",
    "\n",
    "# Assumption: the first point is the closest. \n",
    "min_distance = find_distance(unique_points[0])\n",
    "min_points = [];\n",
    "\n",
    "# Comparison with the rest of points.\n",
    "for point in unique_points[1:]:\n",
    "    distance = find_distance(point)\n",
    "    if min_distance > distance:\n",
    "        min_distance = distance\n",
    "        min_points = [point]\n",
    "    elif min_distance == distance:\n",
    "        min_points.append(point)\n",
    "\n",
    "# Print results\n",
    "print(\"The distance of the closest point/s is {}.\".format(min_distance))\n",
    "print(\"The point/points at this distance is/are:\")\n",
    "print(*min_points, sep='\\n')"
   ]
  },
  {
   "cell_type": "markdown",
   "metadata": {},
   "source": [
    "#### 4. If the archery target has a radius of 9, calculate the number of arrows that won't hit the target. \n",
    "**Hint**: Use the function created in step 3. "
   ]
  },
  {
   "cell_type": "code",
   "execution_count": 5,
   "metadata": {},
   "outputs": [
    {
     "name": "stdout",
     "output_type": "stream",
     "text": [
      "There are 2 points outside the area of the target, which are: [(9, 9), (-8, -9)]\n",
      "We will have to fetch 2 arrows from the forest\n"
     ]
    }
   ],
   "source": [
    "points_outside_target = []\n",
    "\n",
    "for coordinates in points:\n",
    "    if (find_distance(coordinates) > 9):\n",
    "        points_outside_target.append(coordinates)\n",
    "arrows_missed = len(points_outside_target)\n",
    "\n",
    "print(\"There are %d points outside the area of the target, which are: %s\" %(arrows_missed, points_outside_target))\n",
    "print(\"We will have to fetch %d arrows from the forest\" %arrows_missed)"
   ]
  }
 ],
 "metadata": {
  "kernelspec": {
   "display_name": "Python 3",
   "language": "python",
   "name": "python3"
  },
  "language_info": {
   "codemirror_mode": {
    "name": "ipython",
    "version": 3
   },
   "file_extension": ".py",
   "mimetype": "text/x-python",
   "name": "python",
   "nbconvert_exporter": "python",
   "pygments_lexer": "ipython3",
   "version": "3.7.4"
  }
 },
 "nbformat": 4,
 "nbformat_minor": 4
}
