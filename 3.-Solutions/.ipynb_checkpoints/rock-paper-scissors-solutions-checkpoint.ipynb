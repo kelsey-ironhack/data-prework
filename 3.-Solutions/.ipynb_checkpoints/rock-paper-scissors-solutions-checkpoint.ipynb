{
 "cells": [
  {
   "cell_type": "markdown",
   "metadata": {},
   "source": [
    "<img src=\"https://bit.ly/2VnXWr2\" width=\"100\" align=\"left\">"
   ]
  },
  {
   "cell_type": "markdown",
   "metadata": {},
   "source": [
    "# Rock, Paper & Scissors\n",
    "\n",
    "Let's play the famous game against our computer. You can check the rules [here](https://en.wikipedia.org/wiki/Rock%E2%80%93paper%E2%80%93scissors). \n",
    "\n",
    "## Task\n",
    "Create a program that imitates the playability of the well known game of rock, paper, scissors. Follow the guidelines provided.\n",
    "\n",
    "## Tools\n",
    "1. Loop: **for/while**\n",
    "2. Functions: **input(), print()...**\n",
    "3. Conditional statements: **if, elif, else**\n",
    "4. Definition of functions. Modular programming\n",
    "5. Import modules\n",
    "\n",
    "**To solve this challenge, the use of functions is recommended.**\n",
    "\n",
    "#### 1. Import the choice function of the random module."
   ]
  },
  {
   "cell_type": "code",
   "execution_count": 1,
   "metadata": {},
   "outputs": [],
   "source": [
    "import random"
   ]
  },
  {
   "cell_type": "markdown",
   "metadata": {},
   "source": [
    "#### 2. Create a list that includes the 3 possible gesture options of the game: 'rock', 'paper' or 'scissors'. Store the list in a variable called `gestures`."
   ]
  },
  {
   "cell_type": "code",
   "execution_count": 2,
   "metadata": {},
   "outputs": [],
   "source": [
    "gestures = ['rock', 'paper', 'scissors']"
   ]
  },
  {
   "cell_type": "markdown",
   "metadata": {},
   "source": [
    "#### 3. Create a variable called `n_rounds` to store the maximum number of rounds to play in a game. \n",
    "Remember that the number of rounds must be odd: 1, 3, 5, ..."
   ]
  },
  {
   "cell_type": "code",
   "execution_count": 3,
   "metadata": {},
   "outputs": [],
   "source": [
    "n_rounds = 5"
   ]
  },
  {
   "cell_type": "markdown",
   "metadata": {},
   "source": [
    "#### 4. Create a variable called `rounds_to_win` to store the number of rounds that a player must win to win the game.\n",
    "**Hint**: the value stored in `rounds_to_win` depends on the value of `n_rounds`. "
   ]
  },
  {
   "cell_type": "code",
   "execution_count": 4,
   "metadata": {},
   "outputs": [],
   "source": [
    "rounds_to_win = n_rounds // 2 + 1"
   ]
  },
  {
   "cell_type": "markdown",
   "metadata": {},
   "source": [
    "#### 5. Create two variables to store the number of rounds that the computer and the player have won. Call these variables `cpu_score` and `player_score`."
   ]
  },
  {
   "cell_type": "code",
   "execution_count": 5,
   "metadata": {},
   "outputs": [],
   "source": [
    "cpu_score = 0\n",
    "player_score = 0"
   ]
  },
  {
   "cell_type": "markdown",
   "metadata": {},
   "source": [
    "#### 6. Define a function that randomly returns one of the 3 gesture options.\n",
    "You will use this function to simulate the gesture choice of the computer. "
   ]
  },
  {
   "cell_type": "code",
   "execution_count": 6,
   "metadata": {},
   "outputs": [],
   "source": [
    "def ask_cpu_choice(gestures):\n",
    "    return random.choice(gestures)"
   ]
  },
  {
   "cell_type": "markdown",
   "metadata": {},
   "source": [
    "#### 7. Define a function that asks the player which is the gesture he or she wants to show: 'rock', 'paper' or 'scissors'.\n",
    "The player should only be allowed to choose one of the 3 gesture options. If the player's choice is not rock, paper or scissors, keep asking until it is."
   ]
  },
  {
   "cell_type": "code",
   "execution_count": 7,
   "metadata": {},
   "outputs": [],
   "source": [
    "def ask_player_choice(gestures):\n",
    "    choice = input(\"What is your choice? Rock, paper or scissors? \").lower()\n",
    "    while choice not in gestures:\n",
    "        print(\"\\nPlease, choose one of the three options.\\n\")\n",
    "        choice = input(\"What is your choice? Rock, paper or scissors? \").lower()\n",
    "    return choice"
   ]
  },
  {
   "cell_type": "markdown",
   "metadata": {},
   "source": [
    "#### 8. Define a function that checks who won a round. \n",
    "The function should return 0 if there is a tie, 1 if the computer wins and 2 if the player wins."
   ]
  },
  {
   "cell_type": "code",
   "execution_count": 8,
   "metadata": {},
   "outputs": [],
   "source": [
    "def check_winner(cpu, player):\n",
    "    rules = {'rock': 'scissors', 'paper': 'rock', 'scissors':'paper'}\n",
    "    if rules[cpu] == player:\n",
    "        return 1\n",
    "    elif rules[player] == cpu:\n",
    "        return 2\n",
    "    return 0"
   ]
  },
  {
   "cell_type": "markdown",
   "metadata": {},
   "source": [
    "#### 9. Define a function that prints the choice of the computer, the choice of the player and a message that announces who won the current round. \n",
    "You should also use this function to update the variables that count the number of rounds that the computer and the player have won. The score of the winner increases by one point. If there is a tie, the score does not increase."
   ]
  },
  {
   "cell_type": "code",
   "execution_count": 9,
   "metadata": {},
   "outputs": [],
   "source": [
    "def show_results(cpu, player, cpu_score, player_score):\n",
    "    winner = check_winner(cpu, player)\n",
    "    print(f\"\\nPlayer showed {player}.\")\n",
    "    print(f\"CPU showed {cpu}.\")\n",
    "    if winner == 1:\n",
    "        print(\"CPU wins!\\n\")\n",
    "        cpu_score += 1\n",
    "    elif winner == 2:\n",
    "        print(\"Player wins!\\n\")\n",
    "        player_score += 1\n",
    "    else:  \n",
    "        print(\"There is a tie!\\n\")\n",
    "    return cpu_score, player_score"
   ]
  },
  {
   "cell_type": "markdown",
   "metadata": {},
   "source": [
    "#### 10. Now it's time to code the execution of the game using the functions and variables you defined above. \n",
    "\n",
    "First, create a loop structure that repeats while no player reaches the minimum score necessary to win and the number of rounds is less than the maximum number of rounds to play in a game.  \n",
    "\n",
    "Inside the loop, use the functions and variables above to create the execution of a round: ask for the player's choice, generate the random choice of the computer, show the round results, update the scores, etc. "
   ]
  },
  {
   "cell_type": "code",
   "execution_count": 10,
   "metadata": {},
   "outputs": [
    {
     "name": "stdout",
     "output_type": "stream",
     "text": [
      "What is your choice? Rock, paper or scissors? njksdfnjk\n",
      "\n",
      "Please, choose one of the three options.\n",
      "\n",
      "What is your choice? Rock, paper or scissors? rock\n",
      "\n",
      "Player showed rock.\n",
      "CPU showed scissors.\n",
      "Player wins!\n",
      "\n",
      "What is your choice? Rock, paper or scissors? paper\n",
      "\n",
      "Player showed paper.\n",
      "CPU showed paper.\n",
      "There is a tie!\n",
      "\n",
      "What is your choice? Rock, paper or scissors? scissors\n",
      "\n",
      "Player showed scissors.\n",
      "CPU showed scissors.\n",
      "There is a tie!\n",
      "\n",
      "What is your choice? Rock, paper or scissors? rock\n",
      "\n",
      "Player showed rock.\n",
      "CPU showed rock.\n",
      "There is a tie!\n",
      "\n",
      "What is your choice? Rock, paper or scissors? paper\n",
      "\n",
      "Player showed paper.\n",
      "CPU showed rock.\n",
      "Player wins!\n",
      "\n"
     ]
    }
   ],
   "source": [
    "rounds = 0\n",
    "\n",
    "while player_score < rounds_to_win and cpu_score < rounds_to_win and rounds < n_rounds:\n",
    "    cpu_choice = ask_cpu_choice(gestures)\n",
    "    player_choice = ask_player_choice(gestures)\n",
    "    cpu_score, player_score = show_results(cpu_choice, player_choice, cpu_score, player_score)\n",
    "    rounds += 1"
   ]
  },
  {
   "cell_type": "markdown",
   "metadata": {},
   "source": [
    "#### 11. Print the winner of the game based on who won more rounds.\n",
    "Remember that the game might be tied. "
   ]
  },
  {
   "cell_type": "code",
   "execution_count": 11,
   "metadata": {},
   "outputs": [
    {
     "name": "stdout",
     "output_type": "stream",
     "text": [
      "Player wins!\n",
      "CPU 0 - Player 2\n"
     ]
    }
   ],
   "source": [
    "if cpu_score > player_score:\n",
    "    print(\"CPU wins!\")\n",
    "elif cpu_score < player_score:\n",
    "    print(\"Player wins!\")\n",
    "else:\n",
    "    print('There is a tie!')\n",
    "    \n",
    "print(f\"CPU {cpu_score} - Player {player_score}\")"
   ]
  },
  {
   "cell_type": "markdown",
   "metadata": {},
   "source": [
    "# Bonus: Rock, Paper, Scissors, Lizard & Spock\n",
    "\n",
    "![](images/rpsls.jpg)\n",
    "\n",
    "In this challenge, you need to improve the previous game by adding two new options. To know more about the rules of the improved version of rock, paper, scissors, check this [link](http://www.samkass.com/theories/RPSSL.html). \n",
    "\n",
    "In addition, you will also need to improve how the game interacts with the player: the number of rounds to play, which must be an odd number, will be requested to the user until a valid number is entered. Define a new function to make that request.\n",
    "\n",
    "**Hint**: Try to reuse the code that you already coded in the previous challenge. If your code is efficient, this bonus will only consist of simple modifications to the original game."
   ]
  },
  {
   "cell_type": "code",
   "execution_count": 12,
   "metadata": {},
   "outputs": [
    {
     "name": "stdout",
     "output_type": "stream",
     "text": [
      "Enter the number of games to play? Number must be odd. 4\n",
      "\n",
      "Please, the input must be an odd integer.\n",
      "\n",
      "Enter the number of games to play? Number must be odd. 5\n",
      "What is your choice? Rock, paper or scissors? dfsf\n",
      "\n",
      "Please, choose one of the three options.\n",
      "\n",
      "What is your choice? Rock, paper or scissors? rock\n",
      "\n",
      "Player showed rock.\n",
      "CPU showed paper.\n",
      "CPU wins!\n",
      "\n",
      "What is your choice? Rock, paper or scissors? paper\n",
      "\n",
      "Player showed paper.\n",
      "CPU showed scissors.\n",
      "CPU wins!\n",
      "\n",
      "What is your choice? Rock, paper or scissors? scissors\n",
      "\n",
      "Player showed scissors.\n",
      "CPU showed paper.\n",
      "Player wins!\n",
      "\n",
      "What is your choice? Rock, paper or scissors? lizard\n",
      "\n",
      "Player showed lizard.\n",
      "CPU showed lizard.\n",
      "There is a tie!\n",
      "\n",
      "What is your choice? Rock, paper or scissors? spock\n",
      "\n",
      "Player showed spock.\n",
      "CPU showed paper.\n",
      "CPU wins!\n",
      "\n",
      "CPU wins!\n",
      "CPU 3 - Player 1\n"
     ]
    }
   ],
   "source": [
    "import random\n",
    "\n",
    "def ask_player_number_of_rounds():\n",
    "    choice = input(\"Enter the number of games to play? Number must be odd. \")\n",
    "    while not choice.isdigit() or int(choice) % 2 == 0:\n",
    "        print(\"\\nPlease, the input must be an odd integer.\\n\")\n",
    "        choice = input(\"Enter the number of games to play? Number must be odd. \")\n",
    "    return int(choice)\n",
    "\n",
    "def ask_cpu_choice(gestures):\n",
    "    return random.choice(gestures)\n",
    "\n",
    "def ask_player_choice(gestures):\n",
    "    choice = input(\"What is your choice? Rock, paper or scissors? \").lower()\n",
    "    while choice not in gestures:\n",
    "        print(\"\\nPlease, choose one of the three options.\\n\")\n",
    "        choice = input(\"What is your choice? Rock, paper or scissors? \").lower()\n",
    "    return choice\n",
    "\n",
    "def check_winner(cpu, player):\n",
    "    rules = {'rock': ['scissors', 'lizard'], 'paper': ['rock', 'spock'], 'scissors': ['paper', 'lizard'], \n",
    "             'lizard': ['paper', 'spock'], 'spock': ['rock','scissors']}\n",
    "    if player in rules[cpu]:\n",
    "        return 1\n",
    "    elif cpu in rules[player]:\n",
    "        return 2\n",
    "    return 0\n",
    "\n",
    "def show_results(cpu, player, cpu_score, player_score):\n",
    "    winner = check_winner(cpu, player)\n",
    "    print(f\"\\nPlayer showed {player}.\")\n",
    "    print(f\"CPU showed {cpu}.\")\n",
    "    if winner == 1:\n",
    "        print(\"CPU wins!\\n\")\n",
    "        cpu_score += 1\n",
    "    elif winner == 2:\n",
    "        print(\"Player wins!\\n\")\n",
    "        player_score += 1\n",
    "    else:  \n",
    "        print(\"There is a tie!\\n\")\n",
    "    return cpu_score, player_score\n",
    "\n",
    "gestures = ['rock', 'paper', 'scissors', 'lizard', 'spock']\n",
    "n_rounds = ask_player_number_of_rounds()\n",
    "rounds_to_win = n_rounds // 2 + 1\n",
    "cpu_score = 0\n",
    "player_score = 0\n",
    "rounds = 0\n",
    "\n",
    "while player_score < rounds_to_win and cpu_score < rounds_to_win and rounds < n_rounds:\n",
    "    cpu_choice = ask_cpu_choice(gestures)\n",
    "    player_choice = ask_player_choice(gestures)\n",
    "    cpu_score, player_score = show_results(cpu_choice, player_choice, cpu_score, player_score)\n",
    "    rounds += 1\n",
    "    \n",
    "if cpu_score > player_score:\n",
    "    print(\"CPU wins!\")\n",
    "elif cpu_score < player_score:\n",
    "    print(\"Player wins!\")\n",
    "else:\n",
    "    print('There is a tie!')\n",
    "    \n",
    "print(f\"CPU {cpu_score} - Player {player_score}\")"
   ]
  }
 ],
 "metadata": {
  "kernelspec": {
   "display_name": "Python 3",
   "language": "python",
   "name": "python3"
  },
  "language_info": {
   "codemirror_mode": {
    "name": "ipython",
    "version": 3
   },
   "file_extension": ".py",
   "mimetype": "text/x-python",
   "name": "python",
   "nbconvert_exporter": "python",
   "pygments_lexer": "ipython3",
   "version": "3.7.4"
  }
 },
 "nbformat": 4,
 "nbformat_minor": 4
}
