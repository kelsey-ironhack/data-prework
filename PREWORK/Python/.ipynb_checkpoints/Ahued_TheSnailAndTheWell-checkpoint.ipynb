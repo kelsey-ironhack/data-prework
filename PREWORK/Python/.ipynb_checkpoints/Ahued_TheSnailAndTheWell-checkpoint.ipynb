{
 "cells": [
  {
   "cell_type": "markdown",
   "metadata": {},
   "source": [
    "<img src=\"https://bit.ly/2VnXWr2\" width=\"100\" align=\"left\">"
   ]
  },
  {
   "cell_type": "markdown",
   "metadata": {},
   "source": [
    "# The Snail and the Well\n",
    "\n",
    "A snail falls at the bottom of a 125 cm well. Each day the snail rises 30 cm. But at night, while sleeping, slides 20 cm because the walls are wet. How many days does it take for the snail to escape the well?\n",
    "\n",
    "**Hint**: The snail gets out of the well when it surpasses the 125cm of height.\n",
    "\n",
    "## Tools\n",
    "\n",
    "1. Loop: **while**\n",
    "2. Conditional statements: **if-else**\n",
    "3. Function: **print()**\n",
    "\n",
    "## Tasks\n",
    "\n",
    "#### 1. Assign the challenge data to variables with representative names: `well_height`, `daily_distance`, `nightly_distance` and `snail_position`."
   ]
  },
  {
   "cell_type": "code",
   "execution_count": 10,
   "metadata": {},
   "outputs": [],
   "source": [
    "well_height=125\n",
    "daily_distance=30\n",
    "nightly_distance=-20\n",
    "snail_position=0"
   ]
  },
  {
   "cell_type": "markdown",
   "metadata": {},
   "source": [
    "#### 2. Create a variable `days` to keep count of the days that pass until the snail escapes the well. "
   ]
  },
  {
   "cell_type": "code",
   "execution_count": 11,
   "metadata": {},
   "outputs": [],
   "source": [
    "days=0"
   ]
  },
  {
   "cell_type": "markdown",
   "metadata": {},
   "source": [
    "#### 3. Find the solution to the challenge using the variables defined above. "
   ]
  },
  {
   "cell_type": "code",
   "execution_count": 12,
   "metadata": {},
   "outputs": [
    {
     "name": "stdout",
     "output_type": "stream",
     "text": [
      "The snail hasnt come out\n",
      "day  1\n",
      "The snail hasnt come out\n",
      "day  2\n",
      "The snail hasnt come out\n",
      "day  3\n",
      "The snail hasnt come out\n",
      "day  4\n",
      "The snail hasnt come out\n",
      "day  5\n",
      "The snail hasnt come out\n",
      "day  6\n",
      "The snail hasnt come out\n",
      "day  7\n",
      "The snail hasnt come out\n",
      "day  8\n",
      "The snail hasnt come out\n",
      "day  9\n",
      "The snail hasnt come out\n",
      "day  10\n",
      "The snail hasnt come out\n",
      "day  11\n",
      "The snail hasnt come out\n",
      "day  12\n",
      "The snail hasnt come out\n",
      "day  13\n"
     ]
    }
   ],
   "source": [
    "cms_advanced=daily_distance+nightly_distance\n",
    "##No estoy seguro de poner los prints en inglés o español.\n",
    "##Los pondre en inglés.\n",
    "while well_height>=snail_position:\n",
    "    print (\"The snail hasnt come out\")\n",
    "    snail_position+=cms_advanced\n",
    "    days+=1\n",
    "    print(\"day \",days)\n",
    "\n",
    "    \n",
    "    \n"
   ]
  },
  {
   "cell_type": "markdown",
   "metadata": {},
   "source": [
    "#### 4. Print the solution."
   ]
  },
  {
   "cell_type": "code",
   "execution_count": 8,
   "metadata": {},
   "outputs": [
    {
     "name": "stdout",
     "output_type": "stream",
     "text": [
      "The snail got out of the well after  13  days.\n"
     ]
    }
   ],
   "source": [
    " print(\"The snail got out of the well after \",days,\" days.\")"
   ]
  },
  {
   "cell_type": "markdown",
   "metadata": {},
   "source": [
    "## Bonus\n",
    "The distance traveled by the snail each day is now defined by a list.\n",
    "```\n",
    "advance_cm = [30, 21, 33, 77, 44, 45, 23, 45, 12, 34, 55]\n",
    "```\n",
    "On the first day, the snail rises 30cm but during the night it slides 20cm. On the second day, the snail rises 21cm but during the night it slides 20cm, and so on. \n",
    "\n",
    "#### 1. How many days does it take for the snail to escape the well?\n",
    "Follow the same guidelines as in the previous challenge.\n",
    "\n",
    "**Hint**: Remember that the snail gets out of the well when it surpasses the 125cm of height."
   ]
  },
  {
   "cell_type": "code",
   "execution_count": 13,
   "metadata": {},
   "outputs": [
    {
     "name": "stdout",
     "output_type": "stream",
     "text": [
      "This is the distance traveled each day, taking into account the night slide (in cm) [10, 1, 13, 57, 24, 25, 3, 25, -8, 14, 35]\n",
      "The snail hasnt come out\n",
      "day  1\n",
      "The snail hasnt come out\n",
      "day  2\n",
      "The snail hasnt come out\n",
      "day  3\n",
      "The snail hasnt come out\n",
      "day  4\n",
      "The snail hasnt come out\n",
      "day  5\n",
      "The snail hasnt come out\n",
      "day  6\n",
      "\n",
      "The snail got out of the well after 6 days.\n"
     ]
    }
   ],
   "source": [
    "well_height=125\n",
    "days_2=0\n",
    "snail_position_2=0\n",
    "advance_cm=[30, 21, 33, 77, 44, 45, 23, 45, 12, 34, 55]\n",
    "##Convirtiendo a la distancia por el slide nocturno\n",
    "real_advance=[i-20 for i in advance_cm]\n",
    "print(\"This is the distance traveled each day, taking into account the night slide (in cm)\",real_advance)\n",
    "f=0\n",
    "while well_height>=snail_position_2:\n",
    "    print (\"The snail hasnt come out\")\n",
    "    snail_position_2+=real_advance[f]\n",
    "    f+=1\n",
    "    days_2+=1\n",
    "    print(\"day \",days_2)\n",
    "print(\"\")\n",
    "print(\"The snail got out of the well after\",days_2,\"days.\")\n",
    "\n",
    "\n"
   ]
  },
  {
   "cell_type": "markdown",
   "metadata": {},
   "source": [
    "#### 2. What is its maximum displacement in one day? And its minimum? Calculate the displacement using only the travel distance of the days used to get out of the well. \n",
    "**Hint**: Remember that displacement means the total distance risen taking into account that the snail slides at night.  "
   ]
  },
  {
   "cell_type": "code",
   "execution_count": 23,
   "metadata": {},
   "outputs": [
    {
     "name": "stdout",
     "output_type": "stream",
     "text": [
      "The maximum displacement is 57 cm.\n",
      "The minimum displacement is -8 cm.\n"
     ]
    }
   ],
   "source": [
    "print(\"The maximum displacement is\",max(real_advance),\"cm.\")\n",
    "print(\"The minimum displacement is\",min(real_advance),\"cm.\")"
   ]
  },
  {
   "cell_type": "markdown",
   "metadata": {},
   "source": [
    "#### 3. What is its average progress? Take into account the snail slides at night."
   ]
  },
  {
   "cell_type": "code",
   "execution_count": 24,
   "metadata": {},
   "outputs": [
    {
     "name": "stdout",
     "output_type": "stream",
     "text": [
      "The averge progress is 18.09090909090909 cm.\n"
     ]
    }
   ],
   "source": [
    "average_progress=sum(real_advance)/len(real_advance)\n",
    "print(\"The averge progress is\",average_progress,\"cm.\")\n"
   ]
  },
  {
   "cell_type": "markdown",
   "metadata": {},
   "source": [
    "#### 4. What is the standard deviation of its displacement? Take into account the snail slides at night."
   ]
  },
  {
   "cell_type": "code",
   "execution_count": 25,
   "metadata": {},
   "outputs": [
    {
     "name": "stdout",
     "output_type": "stream",
     "text": [
      "The standard deviation of its displacement is 17.996969441850734\n"
     ]
    }
   ],
   "source": [
    "import statistics\n",
    "print(\"The standard deviation of its displacement is\",statistics.stdev(real_advance))"
   ]
  }
 ],
 "metadata": {
  "kernelspec": {
   "display_name": "Python 3",
   "language": "python",
   "name": "python3"
  },
  "language_info": {
   "codemirror_mode": {
    "name": "ipython",
    "version": 3
   },
   "file_extension": ".py",
   "mimetype": "text/x-python",
   "name": "python",
   "nbconvert_exporter": "python",
   "pygments_lexer": "ipython3",
   "version": "3.7.6"
  }
 },
 "nbformat": 4,
 "nbformat_minor": 2
}
