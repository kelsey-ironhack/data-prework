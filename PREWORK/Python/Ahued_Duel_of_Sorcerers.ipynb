{
 "cells": [
  {
   "cell_type": "markdown",
   "metadata": {},
   "source": [
    "<img src=\"https://bit.ly/2VnXWr2\" width=\"100\" align=\"left\">"
   ]
  },
  {
   "cell_type": "markdown",
   "metadata": {},
   "source": [
    "# Duel of Sorcerers\n",
    "You are witnessing an epic battle between two powerful sorcerers: Gandalf and Saruman. Each sorcerer has 10 spells of variable power in their mind and they are going to throw them one after the other. The winner of the duel will be the one who wins more of those clashes between spells. Spells are represented as a list of 10 integers whose value equals the power of the spell.\n",
    "```\n",
    "gandalf = [10, 11, 13, 30, 22, 11, 10, 33, 22, 22]\n",
    "saruman = [23, 66, 12, 43, 12, 10, 44, 23, 12, 17]\n",
    "```\n",
    "For example:\n",
    "- The first clash is won by Saruman: 10 against 23.\n",
    "- The second clash is won by Saruman: 11 against 66.\n",
    "- ...\n",
    "\n",
    "You will create two variables, one for each sorcerer, where the sum of clashes won will be stored. Depending on which variable is greater at the end of the duel, you will show one of the following three results on the screen:\n",
    "* Gandalf wins\n",
    "* Saruman wins\n",
    "* Tie\n",
    "\n",
    "<img src=\"images/content_lightning_bolt_big.jpg\" width=\"400\">"
   ]
  },
  {
   "cell_type": "markdown",
   "metadata": {},
   "source": [
    "## Tools\n",
    "You don't necessarily need to use all the tools. Maybe you opt to use some of them or completely different ones, they are given to help you shape the exercise. Programming exercises can be solved in many different ways.\n",
    "\n",
    "1. Data structures: **lists, dictionaries**\n",
    "2. Loop: **for loop**\n",
    "3. Conditional statements: **if-elif-else**\n",
    "4. Functions: **range(), len(), print()**\n",
    "\n",
    "## Tasks\n",
    "\n",
    "#### 1. Create two variables called `gandalf` and `saruman` and assign them the spell power lists. Create a variable called `spells` to store the number of spells that the sorcerers cast. "
   ]
  },
  {
   "cell_type": "code",
   "execution_count": 1,
   "metadata": {},
   "outputs": [],
   "source": [
    "gandalf=[10, 11, 13, 30, 22, 11, 10, 33, 22, 22]\n",
    "saruman=[23, 66, 12, 43, 12, 10, 44, 23, 12, 17]\n",
    "spells=0\n"
   ]
  },
  {
   "cell_type": "markdown",
   "metadata": {},
   "source": [
    "#### 2. Create two variables called `gandalf_wins` and `saruman_wins`. Set both of them to 0. \n",
    "You will use these variables to count the number of clashes each sorcerer wins. "
   ]
  },
  {
   "cell_type": "code",
   "execution_count": 2,
   "metadata": {},
   "outputs": [],
   "source": [
    "gandalf_wins=0\n",
    "saruman_wins=0"
   ]
  },
  {
   "cell_type": "markdown",
   "metadata": {},
   "source": [
    "#### 3. Using the lists of spells of both sorcerers, update variables `gandalf_wins` and `saruman_wins` to count the number of times each sorcerer wins a clash. "
   ]
  },
  {
   "cell_type": "code",
   "execution_count": 4,
   "metadata": {},
   "outputs": [
    {
     "name": "stdout",
     "output_type": "stream",
     "text": [
      "Saruman wins\n",
      "Saruman wins\n",
      "Gandalf wins\n",
      "Saruman wins\n",
      "Gandalf wins\n",
      "Gandalf wins\n",
      "Saruman wins\n",
      "Gandalf wins\n",
      "Gandalf wins\n",
      "Gandalf wins\n",
      "\n",
      "Gandalf won 6 figts.\n",
      "Saruman won 4 fights.\n",
      "There were 0 ties.\n"
     ]
    }
   ],
   "source": [
    "gandalf=[10, 11, 13, 30, 22, 11, 10, 33, 22, 22]\n",
    "saruman=[23, 66, 12, 43, 12, 10, 44, 23, 12, 17]\n",
    "spells=0\n",
    "gandalf_wins=0\n",
    "saruman_wins=0\n",
    "s = 0\n",
    "tie = 0\n",
    "while spells<=9:\n",
    "    \n",
    "    if gandalf[s]>saruman[s]:\n",
    "        print(\"Gandalf wins\")\n",
    "        gandalf_wins+=1\n",
    "    elif saruman[s]>gandalf[s]:\n",
    "        print(\"Saruman wins\")\n",
    "        saruman_wins+=1\n",
    "    else:\n",
    "        print(\"Its a tie\")\n",
    "        tie=+1\n",
    "    s+=1\n",
    "    spells+=1\n",
    "print(\"\")       \n",
    "print(\"Gandalf won\",gandalf_wins,\"figts.\")\n",
    "print(\"Saruman won\",saruman_wins,\"fights.\")\n",
    "print(\"There were\",tie,\"ties.\")\n",
    "    "
   ]
  },
  {
   "cell_type": "markdown",
   "metadata": {},
   "source": [
    "#### 4. Who won the battle?\n",
    "Print `Gandalf wins`, `Saruman wins` or `Tie` depending on the result. "
   ]
  },
  {
   "cell_type": "code",
   "execution_count": 4,
   "metadata": {},
   "outputs": [
    {
     "name": "stdout",
     "output_type": "stream",
     "text": [
      "The winner of the Isengard battle is Gandalf the Gray with 6 wins.\n"
     ]
    }
   ],
   "source": [
    "if gandalf_wins>saruman_wins:\n",
    "    print(\"The winner of the Isengard battle is Gandalf the Gray with\",gandalf_wins,\"wins.\")\n",
    "elif gandalf_wins<saruman_wins:\n",
    "    print(\"The winner of the Isengard battle is Saruman the White with\",saruman_wins,\"wins.\")\n",
    "else:\n",
    "    print(\"The battle ended up in a tie\")"
   ]
  },
  {
   "cell_type": "markdown",
   "metadata": {},
   "source": [
    "## Bonus\n",
    "\n",
    "In this bonus challenge, you'll need to check the winner of the battle but this time, a sorcerer wins if he succeeds in winning 3 spell clashes in a row.\n",
    "\n",
    "Also, the spells now have a name and there is a dictionary that associates that name to a power.\n",
    "\n",
    "```\n",
    "POWER = {\n",
    "    'Fireball': 50, \n",
    "    'Lightning bolt': 40, \n",
    "    'Magic arrow': 10, \n",
    "    'Black Tentacles': 25, \n",
    "    'Contagion': 45\n",
    "}\n",
    "\n",
    "gandalf = ['Fireball', 'Lightning bolt', 'Lightning bolt', 'Magic arrow', 'Fireball', \n",
    "           'Magic arrow', 'Lightning bolt', 'Fireball', 'Fireball', 'Fireball']\n",
    "saruman = ['Contagion', 'Contagion', 'Black Tentacles', 'Fireball', 'Black Tentacles', \n",
    "           'Lightning bolt', 'Magic arrow', 'Contagion', 'Magic arrow', 'Magic arrow']\n",
    "```\n",
    "\n",
    "#### 1. Create variables `POWER`, `gandalf` and `saruman` as seen above. Create a variable called `spells` to store the number of spells that the sorcerers cast. "
   ]
  },
  {
   "cell_type": "code",
   "execution_count": 5,
   "metadata": {},
   "outputs": [],
   "source": [
    "POWER = {\n",
    "    'Fireball': 50, \n",
    "    'Lightning bolt': 40, \n",
    "    'Magic arrow': 10, \n",
    "    'Black Tentacles': 25, \n",
    "    'Contagion': 45\n",
    "}\n",
    "\n",
    "gandalf = ['Fireball', 'Lightning bolt', 'Lightning bolt', 'Magic arrow', 'Fireball', \n",
    "           'Magic arrow', 'Lightning bolt', 'Fireball', 'Fireball', 'Fireball']\n",
    "saruman = ['Contagion', 'Contagion', 'Black Tentacles', 'Fireball', 'Black Tentacles', \n",
    "           'Lightning bolt', 'Magic arrow', 'Contagion', 'Magic arrow', 'Magic arrow']\n",
    "spells=0\n"
   ]
  },
  {
   "cell_type": "markdown",
   "metadata": {},
   "source": [
    "#### 2. Create two variables called `gandalf_wins` and `saruman_wins`. Set both of them to 0. "
   ]
  },
  {
   "cell_type": "code",
   "execution_count": 6,
   "metadata": {},
   "outputs": [],
   "source": [
    "gandalf_wins=0\n",
    "saruman_wins=0"
   ]
  },
  {
   "cell_type": "markdown",
   "metadata": {},
   "source": [
    "#### 3. Create two variables called `gandalf_power` and `saruman_power` to store the list of spell powers of each sorcerer."
   ]
  },
  {
   "cell_type": "code",
   "execution_count": 7,
   "metadata": {},
   "outputs": [
    {
     "name": "stdout",
     "output_type": "stream",
     "text": [
      "The values of Gandalf´s powers: [50, 40, 40, 10, 50, 10, 40, 50, 50, 50]\n",
      "The values of Saruman´s powers: [45, 45, 25, 50, 25, 40, 10, 45, 10, 10]\n"
     ]
    }
   ],
   "source": [
    "gandalf_powers=[]\n",
    "saruman_powers=[]\n",
    "\n",
    "##Asignar el valor de cada poder tomandolo desde el diccionario para crear las dos listas\n",
    "for i in gandalf:\n",
    "    gandalf_powers.append(POWER[i])\n",
    "\n",
    "for i in saruman:\n",
    "    saruman_powers.append(POWER[i])\n",
    "    \n",
    "print(\"The values of Gandalf´s powers:\",gandalf_powers)\n",
    "print(\"The values of Saruman´s powers:\",saruman_powers)\n",
    "    \n",
    "\n"
   ]
  },
  {
   "cell_type": "markdown",
   "metadata": {},
   "source": [
    "#### 4. The battle starts! Using the variables you've created above, code the execution of spell clashes. Remember that a sorcerer wins if he succeeds in winning 3 spell clashes in a row. \n",
    "If a clash ends up in a tie, the counter of wins in a row is not restarted to 0. Remember to print who is the winner of the battle. "
   ]
  },
  {
   "cell_type": "code",
   "execution_count": 11,
   "metadata": {},
   "outputs": [
    {
     "name": "stdout",
     "output_type": "stream",
     "text": [
      "Gandalf wins\n",
      "Saruman wins\n",
      "Gandalf wins\n",
      "Saruman wins\n",
      "Gandalf wins\n",
      "\n",
      "The winner is Gandalf, winning 3 fights in a row\n",
      "\n",
      "Gandalf won 3 figts.\n",
      "Saruman won 2 fights.\n",
      "There were 0 ties.\n"
     ]
    }
   ],
   "source": [
    "spells=0\n",
    "gandalf_wins=0\n",
    "saruman_wins=0\n",
    "s = 0\n",
    "tie = 0\n",
    "g_row=0\n",
    "s_row=0\n",
    "while spells<=9:\n",
    "    if g_row==3:\n",
    "        print(\"\")\n",
    "        print(\"The winner is Gandalf, winning 3 fights in a row\")\n",
    "        break\n",
    "    elif s_row==3:\n",
    "        print(\"\")\n",
    "        print(\"The winner is Saruman, winning 3 fights in a row\")\n",
    "        break\n",
    "    elif gandalf_powers[s]>saruman_powers[s]:\n",
    "        print(\"Gandalf wins\")\n",
    "        gandalf_wins+=1\n",
    "        g_row+=1\n",
    "        s_row==0\n",
    "    elif saruman_powers[s]>gandalf_powers[s]:\n",
    "        print(\"Saruman wins\")\n",
    "        saruman_wins+=1\n",
    "        s_row+=1\n",
    "        g_row==0\n",
    "    else:\n",
    "        print(\"Its a tie\")\n",
    "        tie=+1\n",
    "    s+=1\n",
    "    spells+=1\n",
    "        \n",
    "print(\"\")      \n",
    "print(\"Gandalf won\",gandalf_wins,\"figts.\")\n",
    "print(\"Saruman won\",saruman_wins,\"fights.\")\n",
    "print(\"There were\",tie,\"ties.\")"
   ]
  },
  {
   "cell_type": "markdown",
   "metadata": {},
   "source": [
    "#### 5. Find the average spell power of Gandalf and Saruman. "
   ]
  },
  {
   "cell_type": "code",
   "execution_count": 25,
   "metadata": {},
   "outputs": [
    {
     "name": "stdout",
     "output_type": "stream",
     "text": [
      "The average spell for Gandalf is 39.0\n",
      "The average spell for Saruman is 30.5\n"
     ]
    }
   ],
   "source": [
    "print(\"The average spell for Gandalf is\",sum(gandalf_powers)/len(gandalf_powers))\n",
    "print(\"The average spell for Saruman is\",sum(saruman_powers)/len(saruman_powers))"
   ]
  },
  {
   "cell_type": "markdown",
   "metadata": {},
   "source": [
    "#### 6. Find the standard deviation of the spell power of Gandalf and Saruman. "
   ]
  },
  {
   "cell_type": "code",
   "execution_count": 26,
   "metadata": {},
   "outputs": [
    {
     "name": "stdout",
     "output_type": "stream",
     "text": [
      "The standard deviation of the spell power by Gandalf is 15.951314818673865\n",
      "The standard deviation of the spell power by Saruman is 16.40629960309962\n"
     ]
    }
   ],
   "source": [
    "import statistics as st\n",
    "print(\"The standard deviation of the spell power by Gandalf is\",st.stdev(gandalf_powers))\n",
    "print(\"The standard deviation of the spell power by Saruman is\",st.stdev(saruman_powers))"
   ]
  }
 ],
 "metadata": {
  "kernelspec": {
   "display_name": "Python 3",
   "language": "python",
   "name": "python3"
  },
  "language_info": {
   "codemirror_mode": {
    "name": "ipython",
    "version": 3
   },
   "file_extension": ".py",
   "mimetype": "text/x-python",
   "name": "python",
   "nbconvert_exporter": "python",
   "pygments_lexer": "ipython3",
   "version": "3.7.6"
  }
 },
 "nbformat": 4,
 "nbformat_minor": 2
}
