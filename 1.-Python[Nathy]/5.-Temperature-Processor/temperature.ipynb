{
 "cells": [
  {
   "cell_type": "markdown",
   "metadata": {},
   "source": [
    "<img src=\"https://bit.ly/2VnXWr2\" width=\"100\" align=\"left\">"
   ]
  },
  {
   "cell_type": "markdown",
   "metadata": {},
   "source": [
    "# Temperature Sensor\n",
    "\n",
    "There is a temperature sensor in the processor of your company's server. The company wants to analyze the data provided by the sensor to decide if they should change the cooling system for a better one. As changing the cooling system is expensive and you are an excellent data analyst, you can't make a decision without basis.\n",
    "\n",
    "## Tools\n",
    "You don't necessarily need to use all the tools. Maybe you opt to use some of them or completely different ones, they are given to help you shape the exercise. Programming exercises can be solved in many different ways.\n",
    "1. Data structures: **lists**\n",
    "2. Loops: **list comprehension**\n",
    "3. Functions: **min, max, print, len**\n",
    "4. Conditional statements: **if-elif-else**\n",
    "\n",
    "## Tasks\n",
    "The temperatures measured throughout the 24 hours of a day are:"
   ]
  },
  {
   "cell_type": "code",
   "execution_count": 1,
   "metadata": {},
   "outputs": [],
   "source": [
    "temperatures_C = [33, 66, 65, 0, 59, 60, 62, 64, 70, 76, 80, 81, 80, 83, 90, 79, 61, 53, 50, 49, 53, 48, 45, 39]"
   ]
  },
  {
   "cell_type": "markdown",
   "metadata": {},
   "source": [
    "The first element of the list is the temperature at 12am, the second element is the temperature at 1am, and so on. \n",
    "\n",
    "The company has decided that if one of the following events occurs, then the cooling system needs to be replaced for a new one to avoid damaging the processor.\n",
    "* More than 4 temperatures are greater than or equal to 70ºC.\n",
    "* Any temperature is above 80ºC.\n",
    "* The average temperature exceeds 65ºC.\n",
    "\n",
    "Follow the steps so that you can make the decision.\n",
    "\n",
    "#### 1. Find the minimum temperature of the day and store it in a variable."
   ]
  },
  {
   "cell_type": "code",
   "execution_count": 2,
   "metadata": {},
   "outputs": [],
   "source": [
    "tmin=min(temperatures_C)\n"
   ]
  },
  {
   "cell_type": "markdown",
   "metadata": {},
   "source": [
    "#### 2. Find the maximum temperature of the day and store it in a variable."
   ]
  },
  {
   "cell_type": "code",
   "execution_count": 3,
   "metadata": {},
   "outputs": [],
   "source": [
    "tmax=max(temperatures_C)"
   ]
  },
  {
   "cell_type": "markdown",
   "metadata": {},
   "source": [
    "#### 3. Create a list with the temperatures that are greater than or equal to 70ºC. Store it in a variable."
   ]
  },
  {
   "cell_type": "code",
   "execution_count": 12,
   "metadata": {},
   "outputs": [],
   "source": [
    "listMayor=[]\n",
    "for i in range(0,len(temperatures_C)):\n",
    "    if temperatures_C[i]>70:\n",
    "        listMayor.append(temperatures_C[i])\n"
   ]
  },
  {
   "cell_type": "markdown",
   "metadata": {},
   "source": [
    "#### 4. Find the average temperature of the day and store it in a variable."
   ]
  },
  {
   "cell_type": "code",
   "execution_count": 5,
   "metadata": {},
   "outputs": [],
   "source": [
    "promedio=sum(temperatures_C)/len(temperatures_C)\n"
   ]
  },
  {
   "cell_type": "markdown",
   "metadata": {},
   "source": [
    "#### 5. Imagine that there was a sensor failure at 3am and the data for that specific hour was not recorded. How would you estimate the missing value? Replace the current value of the list at 3am for an estimation. "
   ]
  },
  {
   "cell_type": "code",
   "execution_count": 46,
   "metadata": {},
   "outputs": [],
   "source": [
    "temp3=temperatures_C[3] #ubicar elemento de las 3am\n",
    "temperatures_C.remove(temp3) #eliminar elemento de las 3am\n",
    "media_T=sum(temperatures_C)/len(temperatures_C) #media de T\n",
    "#simplemente se colocará el valor de las 3AM como la media de T. Puede generar distorsiones pero es una forma de estimar el valor.\n",
    "temperatures_C.insert(3,media_T) #insertar media a las 3 am"
   ]
  },
  {
   "cell_type": "markdown",
   "metadata": {},
   "source": [
    "#### 6. Bonus: the maintenance staff is from the United States and does not understand the international metric system. Help them by converting the temperatures from Celsius to Fahrenheit.\n",
    "To know more about temperature conversion check this [link](https://en.wikipedia.org/wiki/Conversion_of_units_of_temperature).\n",
    "\n",
    "**Formula**: \n",
    "\n",
    "$F = 1.8 * C + 32$"
   ]
  },
  {
   "cell_type": "code",
   "execution_count": 47,
   "metadata": {},
   "outputs": [],
   "source": [
    "def cels_fahr(c): #crear función que cambie de Celsius a Fahrenheit\n",
    "    return (c * 1.8) + 32\n",
    "Fahrenheit=[] #definir donde se almacenarán las temperaturas convertidas\n",
    "\n",
    "for i in range(0,len(temperatures_C)):\n",
    "    Fahrenheit.append(cels_fahr(temperatures_C[i]))\n",
    "\n",
    " \n"
   ]
  },
  {
   "cell_type": "markdown",
   "metadata": {},
   "source": [
    "#### 7. Make a decision!\n",
    "Now it's time to make a decision taking into account what you have seen until now. \n",
    "\n",
    "Remember that if one of the following events occurs, then the cooling system needs to be replaced for a new one to avoid damaging the processor.\n",
    "* More than 4 temperatures are greater than or equal to 70ºC.\n",
    "* Any temperature is above 80ºC.\n",
    "* The average temperature exceeds 65ºC.\n",
    "\n",
    "#### To make your decision, check if any of the three conditions above is met. You might need to use some of the variables you created in steps 1 to 6. Print a message to show if the cooling system needs to be changed or not."
   ]
  },
  {
   "cell_type": "code",
   "execution_count": 48,
   "metadata": {},
   "outputs": [
    {
     "name": "stdout",
     "output_type": "stream",
     "text": [
      "Debe reemplazar el sistema, hay más de 4 temperaturas mayores a 70°C.\n",
      "Hay temperaturas superiores a 80°C. Cambie el sistema.\n"
     ]
    }
   ],
   "source": [
    "#verificar si alguna temperatura supera los 80:\n",
    "b=0\n",
    "for i in range(0,len(listMayor)):\n",
    "    if listMayor[i]>80:\n",
    "        b+=1\n",
    "    \n",
    "\n",
    "if len(listMayor)>4: #ver si hay más de 4 temperaturas mayores a 70°\n",
    "    print(\"Debe reemplazar el sistema, hay más de 4 temperaturas mayores a 70°C.\")\n",
    "if b>0:\n",
    "    print(\"Hay temperaturas superiores a 80°C. Cambie el sistema.\")\n",
    "if promedio>65:\n",
    "    print(\"La temperatura media supera los 65°C. Debe cambiar el sistema.\")\n",
    "\n"
   ]
  },
  {
   "cell_type": "markdown",
   "metadata": {},
   "source": [
    "## Bonus\n",
    "\n",
    "The company has decided that the decision you made is not valid. They want you to analyze the data again but this time, the conditions that need to be met in order to change the cooling system are different.\n",
    "\n",
    "This time, if one of the following events occurs, then the cooling system needs to be replaced:\n",
    "* The temperature is greater than 70ºC during more than 4 consecutive hours.\n",
    "* Any temperature is above 80ºC.\n",
    "* The average temperature exceeds 65ºC.\n",
    "\n",
    "Follow the steps so that you can make the decision.\n",
    "\n",
    "#### 1. Create a list with the hours where the temperature is greater than 70ºC. Store it in a variable."
   ]
  },
  {
   "cell_type": "code",
   "execution_count": 49,
   "metadata": {},
   "outputs": [],
   "source": [
    "hora=[]\n",
    "for i in range(0,len(temperatures_C)):\n",
    "    if temperatures_C[i]>70:\n",
    "        hora.append(i)"
   ]
  },
  {
   "cell_type": "markdown",
   "metadata": {},
   "source": [
    "#### 2. Check if the list you created in step 1 has more than 4 consecutive hours. "
   ]
  },
  {
   "cell_type": "code",
   "execution_count": 50,
   "metadata": {},
   "outputs": [],
   "source": [
    "consecutivo=0\n",
    "for i in range(0,len(hora)-1):\n",
    "    if hora[i]+1==hora[i+1]:\n",
    "        consecutivo+=1"
   ]
  },
  {
   "cell_type": "markdown",
   "metadata": {},
   "source": [
    "#### 3. Make the decision!\n",
    "To make your decision, check if any of the three conditions is met. Print a message to show if the cooling system needs to be changed or not."
   ]
  },
  {
   "cell_type": "code",
   "execution_count": 51,
   "metadata": {},
   "outputs": [
    {
     "name": "stdout",
     "output_type": "stream",
     "text": [
      "Debe reemplazar el sistema, hay más de 4 temperaturas consecutivas mayores a 70°C.\n",
      "Hay temperaturas superiores a 80°C. Cambie el sistema.\n"
     ]
    }
   ],
   "source": [
    "\n",
    "if consecutivo>4: #ver si hay más de 4 temperaturas consecutivas mayores a 70°\n",
    "    print(\"Debe reemplazar el sistema, hay más de 4 temperaturas consecutivas mayores a 70°C.\")\n",
    "if b>0: #b se definió en el item 7 de la sección anterior\n",
    "    print(\"Hay temperaturas superiores a 80°C. Cambie el sistema.\")\n",
    "if promedio>65:\n",
    "    print(\"La temperatura media supera los 65°C. Debe cambiar el sistema.\")\n",
    "\n"
   ]
  },
  {
   "cell_type": "markdown",
   "metadata": {},
   "source": [
    "#### 4. Find the average value of the temperature lists (ºC and ºF). What is the relation between both average values?"
   ]
  },
  {
   "cell_type": "code",
   "execution_count": 52,
   "metadata": {},
   "outputs": [
    {
     "name": "stdout",
     "output_type": "stream",
     "text": [
      "La media de las temperaturas en grados Celsius es  62.869565217391305 , lo cual al transformarlo a grados Fahrenheit da exactamente la media de las temperaturas en °F, lo cual es  145.16521739130434\n"
     ]
    }
   ],
   "source": [
    "promedio=sum(temperatures_C)/len(temperatures_C)\n",
    "prom_F=sum(Fahrenheit)/len(Fahrenheit)\n",
    "\n",
    "print(\"La media de las temperaturas en grados Celsius es \",promedio,\", lo cual al transformarlo a grados Fahrenheit da exactamente la media de las temperaturas en °F, lo cual es \",prom_F)"
   ]
  },
  {
   "cell_type": "markdown",
   "metadata": {},
   "source": [
    "#### 5. Find the standard deviation of the temperature lists (ºC and ºF). What is the relation between both standard deviations?"
   ]
  },
  {
   "cell_type": "code",
   "execution_count": 53,
   "metadata": {},
   "outputs": [
    {
     "name": "stdout",
     "output_type": "stream",
     "text": [
      "La desviación estándar de las temperaturas en °C es  14.947165931245344 , y en °F es  26.90489867624162 . Con esto se muestra que al hacer la transformación a °F, se obtiene mayor dispersión entre los datos.\n"
     ]
    }
   ],
   "source": [
    "import statistics\n",
    "desv_C=statistics.stdev(temperatures_C)\n",
    "desv_F=statistics.stdev(Fahrenheit)\n",
    "print(\"La desviación estándar de las temperaturas en °C es \",desv_C,\", y en °F es \",desv_F, \". Con esto se muestra que al hacer la transformación a °F, se obtiene mayor dispersión entre los datos.\")"
   ]
  }
 ],
 "metadata": {
  "kernelspec": {
   "display_name": "Python 3",
   "language": "python",
   "name": "python3"
  },
  "language_info": {
   "codemirror_mode": {
    "name": "ipython",
    "version": 3
   },
   "file_extension": ".py",
   "mimetype": "text/x-python",
   "name": "python",
   "nbconvert_exporter": "python",
   "pygments_lexer": "ipython3",
   "version": "3.8.8"
  }
 },
 "nbformat": 4,
 "nbformat_minor": 2
}
