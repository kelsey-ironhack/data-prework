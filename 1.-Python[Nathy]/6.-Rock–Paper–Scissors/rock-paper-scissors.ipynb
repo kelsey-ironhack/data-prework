{
 "cells": [
  {
   "cell_type": "markdown",
   "metadata": {},
   "source": [
    "<img src=\"https://bit.ly/2VnXWr2\" width=\"100\" align=\"left\">"
   ]
  },
  {
   "cell_type": "markdown",
   "metadata": {},
   "source": [
    "# Rock, Paper & Scissors\n",
    "\n",
    "Let's play the famous game against our computer. You can check the rules [here](https://en.wikipedia.org/wiki/Rock%E2%80%93paper%E2%80%93scissors). \n",
    "\n",
    "## Task\n",
    "Create a program that imitates the playability of the well known game of rock, paper, scissors. Follow the guidelines provided.\n",
    "\n",
    "## Tools\n",
    "1. Loop: **for/while**\n",
    "2. Functions: **input(), print()...**\n",
    "3. Conditional statements: **if, elif, else**\n",
    "4. Definition of functions. Modular programming\n",
    "5. Import modules\n",
    "\n",
    "**To solve this challenge, the use of functions is recommended.**\n",
    "\n",
    "#### 1. Import the choice function of the random module."
   ]
  },
  {
   "cell_type": "code",
   "execution_count": 1,
   "metadata": {},
   "outputs": [],
   "source": [
    "import random"
   ]
  },
  {
   "cell_type": "markdown",
   "metadata": {},
   "source": [
    "#### 2. Create a list that includes the 3 possible gesture options of the game: 'rock', 'paper' or 'scissors'. Store the list in a variable called `gestures`."
   ]
  },
  {
   "cell_type": "code",
   "execution_count": 44,
   "metadata": {},
   "outputs": [],
   "source": [
    "opciones=['rock','paper','scissors']"
   ]
  },
  {
   "cell_type": "markdown",
   "metadata": {},
   "source": [
    "#### 3. Create a variable called `n_rounds` to store the maximum number of rounds to play in a game. \n",
    "Remember that the number of rounds must be odd: 1, 3, 5, ..."
   ]
  },
  {
   "cell_type": "code",
   "execution_count": 31,
   "metadata": {},
   "outputs": [],
   "source": [
    "def veces():\n",
    "    n_rounds=2 #se le asigna un número par para que entre al ciclo\n",
    "    while n_rounds%2==0:\n",
    "        print('Ingrese el número de veces que se va a jugar. Debe ser un número entero impar')\n",
    "        n_rounds=int(input())\n",
    "    return n_rounds\n"
   ]
  },
  {
   "cell_type": "markdown",
   "metadata": {},
   "source": [
    "#### 4. Create a variable called `rounds_to_win` to store the number of rounds that a player must win to win the game.\n",
    "**Hint**: the value stored in `rounds_to_win` depends on the value of `n_rounds`. "
   ]
  },
  {
   "cell_type": "code",
   "execution_count": 41,
   "metadata": {},
   "outputs": [],
   "source": [
    "def win():\n",
    "    rounds_to_win=n_rounds+1\n",
    "    while rounds_to_win>n_rounds:\n",
    "        print(\"Ingrese el número de rondas que un participante debe superar para ganar el juego. Recuerde que debe ser menor o igual al número de veces que se va a jugar\")\n",
    "        rounds_to_win=int(input())\n",
    "    return rounds_to_win"
   ]
  },
  {
   "cell_type": "markdown",
   "metadata": {},
   "source": [
    "#### 5. Create two variables to store the number of rounds that the computer and the player have won. Call these variables `cpu_score` and `player_score`."
   ]
  },
  {
   "cell_type": "code",
   "execution_count": 5,
   "metadata": {},
   "outputs": [],
   "source": [
    "cpu_score=0\n",
    "player_score=0"
   ]
  },
  {
   "cell_type": "markdown",
   "metadata": {},
   "source": [
    "#### 6. Define a function that randomly returns one of the 3 gesture options.\n",
    "You will use this function to simulate the gesture choice of the computer. "
   ]
  },
  {
   "cell_type": "code",
   "execution_count": 36,
   "metadata": {},
   "outputs": [],
   "source": [
    "def jugar_cpu(opciones):\n",
    "    jugada = opciones[random.randint(0,len(opciones)-1)]\n",
    "    return jugada\n"
   ]
  },
  {
   "cell_type": "markdown",
   "metadata": {},
   "source": [
    "#### 7. Define a function that asks the player which is the gesture he or she wants to show: 'rock', 'paper' or 'scissors'.\n",
    "The player should only be allowed to choose one of the 3 gesture options. If the player's choice is not rock, paper or scissors, keep asking until it is."
   ]
  },
  {
   "cell_type": "code",
   "execution_count": 23,
   "metadata": {},
   "outputs": [
    {
     "name": "stdout",
     "output_type": "stream",
     "text": [
      "Escriba su elección: rock\n"
     ]
    },
    {
     "data": {
      "text/plain": [
       "'rock'"
      ]
     },
     "execution_count": 23,
     "metadata": {},
     "output_type": "execute_result"
    }
   ],
   "source": [
    "def jugador(opciones):\n",
    "    elecc='p'\n",
    "    while elecc not in opciones:\n",
    "        elecc=input(\"Escriba su elección: \")\n",
    "        \n",
    "    return elecc\n"
   ]
  },
  {
   "cell_type": "markdown",
   "metadata": {},
   "source": [
    "#### 8. Define a function that checks who won a round. \n",
    "The function should return 0 if there is a tie, 1 if the computer wins and 2 if the player wins."
   ]
  },
  {
   "cell_type": "code",
   "execution_count": 8,
   "metadata": {},
   "outputs": [],
   "source": [
    "def ganador(player_score,cpu_score):\n",
    "#comparar para ver quién gana\n",
    "    if player_score>=rounds_to_win:\n",
    "        resultado=2 #gana el jugador\n",
    "    elif cpu_score>=rounds_to_win:\n",
    "        resultado=1 #gana el cpu\n",
    "    else:\n",
    "        resultado=0 #empate\n",
    "    \n",
    "    return resultado \n",
    "            \n",
    "      "
   ]
  },
  {
   "cell_type": "markdown",
   "metadata": {},
   "source": [
    "#### 9. Define a function that prints the choice of the computer, the choice of the player and a message that announces who won the current round. \n",
    "You should also use this function to update the variables that count the number of rounds that the computer and the player have won. The score of the winner increases by one point. If there is a tie, the score does not increase."
   ]
  },
  {
   "cell_type": "code",
   "execution_count": 10,
   "metadata": {},
   "outputs": [],
   "source": [
    "\n",
    "def juego(modo,opciones): #modo indica si quiero detener la ejecución cuando se llegue \n",
    "    #al mínimo de puntos requeridos para ganar, ya sea del cpu o del usuario\n",
    "    #modo es 1 para sí, otro para no\n",
    "    player_score=0\n",
    "    cpu_score=0\n",
    "    for i in range(0,n_rounds):\n",
    "        eleccion=jugador(opciones)\n",
    "        cpu=jugar_cpu(opciones)\n",
    "        print(\"Jugada del CPU:\",cpu)\n",
    "        if cpu=='rock':\n",
    "            if eleccion=='paper':\n",
    "                player_score+=1\n",
    "                print(\"Punto para el jugador\")\n",
    "            elif eleccion=='scissors':\n",
    "                cpu_score+=1\n",
    "                print(\"Punto para el CPU\")\n",
    "            else:\n",
    "                print(\"Empate en la jugada\")\n",
    "            \n",
    "        elif cpu=='paper':\n",
    "            if eleccion=='scissors':\n",
    "                player_score+=1\n",
    "                print(\"Punto para el jugador\")\n",
    "            elif eleccion=='rock':\n",
    "                cpu_score+=1\n",
    "                print(\"Punto para el CPU\")\n",
    "            else:\n",
    "                    print(\"Empate en la jugada\")\n",
    "        else:\n",
    "            if eleccion=='rock':\n",
    "                player_score+=1\n",
    "                print(\"Punto para el jugador\")\n",
    "            elif eleccion=='paper':\n",
    "                cpu_score+=1\n",
    "                print(\"Punto para el CPU\")\n",
    "            else:\n",
    "                print(\"Empate en la jugada\")\n",
    "        \n",
    "        if modo==1:\n",
    "        #a continuación se tiene que si ya un jugador o el cpu completaron los puntos \n",
    "            #para ganar, termina el juego\n",
    "            if player_score==rounds_to_win:\n",
    "                break\n",
    "            if cpu_score==rounds_to_win:\n",
    "                break\n",
    "\n",
    "            \n",
    "    \n",
    "    \n",
    "    g=[player_score,cpu_score]\n",
    "    \n",
    "\n",
    "    return g \n",
    "            \n"
   ]
  },
  {
   "cell_type": "markdown",
   "metadata": {},
   "source": [
    "#### 10. Now it's time to code the execution of the game using the functions and variables you defined above. \n",
    "\n",
    "First, create a loop structure that repeats while no player reaches the minimum score necessary to win and the number of rounds is less than the maximum number of rounds to play in a game.  \n",
    "\n",
    "Inside the loop, use the functions and variables above to create the execution of a round: ask for the player's choice, generate the random choice of the computer, show the round results, update the scores, etc. "
   ]
  },
  {
   "cell_type": "code",
   "execution_count": 42,
   "metadata": {},
   "outputs": [
    {
     "name": "stdout",
     "output_type": "stream",
     "text": [
      "Bienvenid@. Juego piedra, papel o tijeras. Va a escribir su elección ya sea rock, paper o scissors. Si lo escribe mal el programa se repetirá hasta que ingrese una opción válida\n",
      "Ingrese el número de veces que se va a jugar. Debe ser un número entero impar\n",
      "5\n",
      "Ingrese el número de rondas que un participante debe superar para ganar el juego. Recuerde que debe ser menor o igual al número de veces que se va a jugar\n",
      "2\n",
      "Escriba su elección: rock\n",
      "Jugada del CPU: scissors\n",
      "Punto para el jugador\n",
      "Escriba su elección: rock\n",
      "Jugada del CPU: scissors\n",
      "Punto para el jugador\n",
      "¡Felicidades, ganaste!\n"
     ]
    }
   ],
   "source": [
    "print(\"Bienvenid@. Juego piedra, papel o tijeras. Va a escribir su elección ya sea rock, paper o scissors. Si lo escribe mal el programa se repetirá hasta que ingrese una opción válida\")\n",
    "n_rounds=veces() #dice cuántas jugadas son permitidas\n",
    "rounds_to_win=win() #indica en qué puntaje ya se gana y finaliza el juego\n",
    "j=juego(1,opciones) #se colocó 1 porque cuando alguno llega al mínimo requerido para ganar\n",
    "#finaliza el juego\n",
    "g=ganador(j[0],j[1])\n",
    "if g==0:\n",
    "    print(\"Fin de juego. EMPATE\")\n",
    "elif g==1:\n",
    "    print(\"Fin de juego. Ganó el CPU, tú pierdes\")\n",
    "else:\n",
    "    print(\"¡Felicidades, ganaste!\")"
   ]
  },
  {
   "cell_type": "markdown",
   "metadata": {},
   "source": [
    "#### 11. Print the winner of the game based on who won more rounds.\n",
    "Remember that the game might be tied. "
   ]
  },
  {
   "cell_type": "code",
   "execution_count": 45,
   "metadata": {},
   "outputs": [
    {
     "name": "stdout",
     "output_type": "stream",
     "text": [
      "Bienvenid@. Debe escribir rock, paper o scissors´según sea su elección cuando el programa se lo indique.\n",
      "Ingrese el número de veces que se va a jugar. Debe ser un número entero impar\n",
      "3\n",
      "Escriba su elección: rock\n",
      "Jugada del CPU: scissors\n",
      "Punto para el jugador\n",
      "Escriba su elección: rock\n",
      "Jugada del CPU: scissors\n",
      "Punto para el jugador\n",
      "Escriba su elección: rock\n",
      "Jugada del CPU: rock\n",
      "Empate en la jugada\n",
      "2 0\n",
      "Felicidades ¡Ganaste!. Tu puntuación fue  2 , mientras que CPU obtuvo  0\n"
     ]
    }
   ],
   "source": [
    "print(\"Bienvenid@. Debe escribir rock, paper o scissors´según sea su elección cuando el programa se lo indique.\")\n",
    "n_rounds=veces()\n",
    "J=juego(0,opciones)#marco 0 porque se quiere que el juego continúe hasta el final y luego \n",
    "#indique el puntaje de cada quién\n",
    "a=J[0]\n",
    "b=J[1]\n",
    "print(a,b)\n",
    "\n",
    "#gana el que tiene mayor puntaje, si tienen igual puntaje hay empate:\n",
    "if J[0]<J[1]: #jugador tiene menos puntos que cpu, pierde\n",
    "    print(\"Perdiste. Gana el CPU. Puntaje final: \", J[1],\"para el CPU,\",J[0],\"para tí\")\n",
    "elif J[0]>J[1]: #jugador tiene más puntos\n",
    "    print(\"Felicidades ¡Ganaste!. Tu puntuación fue \",J[0],\", mientras que CPU obtuvo \",J[1])\n",
    "else:\n",
    "    print(\"La puntuación quedó\",J[0],\"-\",J[1],\". EMPATE\")\n",
    "\n"
   ]
  },
  {
   "cell_type": "markdown",
   "metadata": {},
   "source": [
    "# Bonus: Rock, Paper, Scissors, Lizard & Spock\n",
    "![](images/rpsls.jpg)\n",
    "\n",
    "In this challenge, you need to improve the previous game by adding two new options. To know more about the rules of the improved version of rock, paper, scissors, check this [link](http://www.samkass.com/theories/RPSSL.html). \n",
    "\n",
    "In addition, you will also need to improve how the game interacts with the player: the number of rounds to play, which must be an odd number, will be requested to the user until a valid number is entered. Define a new function to make that request.\n",
    "\n",
    "**Hint**: Try to reuse the code that you already coded in the previous challenge. If your code is efficient, this bonus will only consist of simple modifications to the original game."
   ]
  },
  {
   "cell_type": "code",
   "execution_count": 46,
   "metadata": {},
   "outputs": [
    {
     "name": "stdout",
     "output_type": "stream",
     "text": [
      "Bienvenid@. Cuando se le indique debe escribir rock, paper, scissors, spock, o lizard. Esa será su jugada.\n",
      "Ingrese el número de veces que se va a jugar. Debe ser un número entero impar\n",
      "5\n",
      "Escriba su elección: rock\n",
      "Jugada del CPU: paper\n",
      "Punto para el CPU\n",
      "Escriba su elección: paper\n",
      "Jugada del CPU: rock\n",
      "Punto para el jugador\n",
      "Escriba su elección: \n",
      "Escriba su elección: lizard\n",
      "Jugada del CPU: scissors\n",
      "Punto para el CPU\n",
      "Escriba su elección: spock\n",
      "Jugada del CPU: paper\n",
      "Punto para el CPU\n",
      "Escriba su elección: paper\n",
      "Jugada del CPU: rock\n",
      "Punto para el jugador\n",
      "2 3\n",
      "Perdiste. Gana el CPU. Puntaje final:  3 para el CPU, 2 para tí\n"
     ]
    }
   ],
   "source": [
    "print(\"Bienvenid@. Cuando se le indique debe escribir rock, paper, scissors, spock, o lizard. Esa será su jugada.\")\n",
    "#añadir 2 elementos más a la lista opciones:\n",
    "opciones.extend(['lizard','spock'])\n",
    "\n",
    "#modificar función juego:\n",
    "n_rounds=veces()\n",
    "def juego_M(opciones):\n",
    "    player_score=0\n",
    "    cpu_score=0\n",
    "    for i in range(0,n_rounds):\n",
    "        eleccion=jugador(opciones)\n",
    "        cpu=jugar_cpu(opciones)\n",
    "        print(\"Jugada del CPU:\",cpu)\n",
    "        if cpu=='rock':\n",
    "            if eleccion=='paper' or eleccion=='spock':\n",
    "                player_score+=1\n",
    "                print(\"Punto para el jugador\")\n",
    "            elif eleccion=='scissors'or eleccion=='lizard':\n",
    "                cpu_score+=1\n",
    "                print(\"Punto para el CPU\")\n",
    "            else:\n",
    "                print(\"Empate en la jugada\")\n",
    "            \n",
    "        elif cpu=='paper':\n",
    "            if eleccion=='scissors' or eleccion=='lizard':\n",
    "                player_score+=1\n",
    "                print(\"Punto para el jugador\")\n",
    "            elif eleccion=='rock' or eleccion=='spock':\n",
    "                cpu_score+=1\n",
    "                print(\"Punto para el CPU\")\n",
    "            else:\n",
    "                    print(\"Empate en la jugada\")\n",
    "        elif cpu=='scissors':\n",
    "            if eleccion=='rock' or eleccion=='spock':\n",
    "                player_score+=1\n",
    "                print(\"Punto para el jugador\")\n",
    "            elif eleccion=='paper' or eleccion=='lizard':\n",
    "                cpu_score+=1\n",
    "                print(\"Punto para el CPU\")\n",
    "                \n",
    "            else:\n",
    "                print(\"Empate en la jugada\")\n",
    "        elif cpu=='spock':\n",
    "            if eleccion=='paper' or eleccion=='lizard':\n",
    "                player_score+=1\n",
    "                print(\"Punto para el jugador\")\n",
    "            elif eleccion=='rock' or eleccion=='scissors':\n",
    "                cpu_score+=1\n",
    "                print(\"Punto para el CPU\")\n",
    "            else:\n",
    "                print(\"Empate en la jugada\")\n",
    "        else:\n",
    "            if eleccion=='rock' or eleccion=='scissors':\n",
    "                player_score+=1\n",
    "                print(\"Punto para el jugador\")\n",
    "            elif eleccion=='paper' or eleccion=='spock':\n",
    "                cpu_score+=1\n",
    "                print(\"Punto pra el CPU\")\n",
    "            else:\n",
    "                print(\"Empate en la jugada\")\n",
    "        \n",
    "               \n",
    "    \n",
    "    \n",
    "    g=[player_score,cpu_score]\n",
    "    \n",
    "\n",
    "    return g \n",
    "            \n",
    "J=juego_M(opciones) #aplicar función juego modificada\n",
    "a=J[0]\n",
    "b=J[1]\n",
    "print(a,b)\n",
    "\n",
    "#gana el que tiene mayor puntaje, si tienen igual puntaje hay empate:\n",
    "if J[0]<J[1]: #jugador tiene menos puntos que cpu, pierde\n",
    "    print(\"Perdiste. Gana el CPU. Puntaje final: \", J[1],\"para el CPU,\",J[0],\"para tí\")\n",
    "elif J[0]>J[1]: #jugador tiene más puntos\n",
    "    print(\"Felicidades ¡Ganaste!. Tu puntuación fue \",J[0],\", mientras que CPU obtuvo \",J[1])\n",
    "else:\n",
    "    print(\"La puntuación quedó\",J[0],\"-\",J[1],\". EMPATE\")\n",
    "\n"
   ]
  },
  {
   "cell_type": "code",
   "execution_count": null,
   "metadata": {},
   "outputs": [],
   "source": []
  }
 ],
 "metadata": {
  "kernelspec": {
   "display_name": "Python 3",
   "language": "python",
   "name": "python3"
  },
  "language_info": {
   "codemirror_mode": {
    "name": "ipython",
    "version": 3
   },
   "file_extension": ".py",
   "mimetype": "text/x-python",
   "name": "python",
   "nbconvert_exporter": "python",
   "pygments_lexer": "ipython3",
   "version": "3.8.8"
  }
 },
 "nbformat": 4,
 "nbformat_minor": 2
}
