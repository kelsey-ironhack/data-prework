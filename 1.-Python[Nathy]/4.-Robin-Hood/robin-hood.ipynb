{
 "cells": [
  {
   "cell_type": "markdown",
   "metadata": {},
   "source": [
    "<img src=\"https://bit.ly/2VnXWr2\" width=\"100\" align=\"left\"/>"
   ]
  },
  {
   "cell_type": "markdown",
   "metadata": {},
   "source": [
    "# Robin Hood\n",
    "Robin Hood has entered a competition to win the archery contest in Sherwood. With his bow and arrows, he needs to shoot on a target and try to hit as close as possible to the center.\n",
    "\n",
    "![](images/arrows.jpg)\n",
    "\n",
    "## Context\n",
    "In this challenge, the landing position of arrows shot by archers in the competition will be represented using 2-dimensional coordinates. \n",
    "\n",
    "In the 2-dimensional space, a point can be defined by a pair of values that correspond to the horizontal coordinate (x) and the vertical coordinate (y). For example, in our case, an arrow that hits the center of the archery target will land in position (0, 0) on the coordinate axes. \n",
    "\n",
    "The space can be divided into 4 zones (quadrants): Q1, Q2, Q3, Q4. If a point is in Q1, both its x coordinate and y coordinate are positive. Any point with a null x or y coordinate is considered to not belong to any quadrant. \n",
    "\n",
    "If you want to know more about the cartesian coordinate system, you can check this [link](https://en.wikipedia.org/wiki/Cartesian_coordinate_system). \n",
    "\n",
    "## Tools\n",
    "You don't necessarily need to use all the tools. Maybe you opt to use some of them or completely different ones, they are given to help you shape the exercise. Programming exercises can be solved in many different ways.\n",
    "* Data structures: **lists, sets, tuples**\n",
    "* Conditional statements: **if-elif-else**\n",
    "* Loop: **while/for**\n",
    "* Minimum (optional sorting)\n",
    "\n",
    "## Tasks\n",
    "Robin Hood has hit the following points:"
   ]
  },
  {
   "cell_type": "code",
   "execution_count": 5,
   "metadata": {},
   "outputs": [],
   "source": [
    "points = [(4, 5), (-0, 2), (4, 7), (1, -3), (3, -2), (4, 5), (3, 2), (5, 7), (-5, 7), (2, 2), (-4, 5), (0, -2),\n",
    "          (-4, 7), (-1, 3), (-3, 2), (-4, -5), (-3, 2), (5, 7), (5, 7), (2, 2), (9, 9), (-8, -9)]"
   ]
  },
  {
   "cell_type": "markdown",
   "metadata": {},
   "source": [
    "#### 1. Robin Hood is famous for hitting an arrow with another arrow. Find the coordinates of the points where an arrow hits another arrow."
   ]
  },
  {
   "cell_type": "code",
   "execution_count": 38,
   "metadata": {},
   "outputs": [
    {
     "name": "stdout",
     "output_type": "stream",
     "text": [
      "A continuación se muestran los puntos dónde se arojó más de una flecha, indicando además el cuadrante al que corresponde {((-3, 2), 'Q2'), ((2, 2), 'Q1'), ((4, 5), 'Q1'), ((5, 7), 'Q1')}\n"
     ]
    }
   ],
   "source": [
    "flecha=[]\n",
    "P=sorted(points) #ordenar los puntos\n",
    "for i in range(0,len(p)-1):\n",
    "    if P[i]==P[i+1]:\n",
    "        m=P[i]\n",
    "        a=m[0]\n",
    "        b=m[1]\n",
    "        #para ver en qué parte del plano se encuentra:\n",
    "        if a>0:\n",
    "            if b>0:\n",
    "                t=(m,'Q1')\n",
    "            if b<0:\n",
    "                t=(m,'Q4')\n",
    "            if b==0:\n",
    "                t=(m,'En el eje X, entre Q1 y Q4')\n",
    "        if a<0:\n",
    "            if b>0:\n",
    "                t=(m,'Q2')\n",
    "            if b<0:\n",
    "                t=(m,'Q3')\n",
    "            if b==0:\n",
    "                t=(m,'En el eje X, entre Q2 y Q3')\n",
    "        if a==0:\n",
    "            if b>0:\n",
    "                t=(m,'En el eje Y, entre Q1 y Q2')\n",
    "            if b<0:\n",
    "                t=(m,'En el eje Y, entre Q3 y Q4')\n",
    "            if b==0:\n",
    "                t=(m,'Centro')\n",
    "    \n",
    "           \n",
    "    flecha.append(t) #almacena la tupla (coordenada,ubicación en el plano)\n",
    "\n",
    "#para eliminar los elementos repetidos de 'flecha':\n",
    "flecha=set(flecha)\n",
    "print(\"A continuación se muestran los puntos dónde se arojó más de una flecha, indicando además el cuadrante al que corresponde\",flecha)"
   ]
  },
  {
   "cell_type": "markdown",
   "metadata": {},
   "source": [
    "#### 2. Calculate how many arrows have fallen in each quadrant. \n",
    "**Note**: the arrows that fall in the axis (x=0 or y=0) don't belong to any quadrant."
   ]
  },
  {
   "cell_type": "code",
   "execution_count": 29,
   "metadata": {},
   "outputs": [
    {
     "name": "stdout",
     "output_type": "stream",
     "text": [
      "En el cuadrante 1 cayeron 10 flechas\n",
      "En el cuadrante 2 cayeron 6 flechas\n",
      "En el cuadrante 3 cayeron 2 flechas\n",
      "En el cuadrante 4 cayeron 2 flechas\n"
     ]
    }
   ],
   "source": [
    "Q1=0\n",
    "Q2=0\n",
    "Q3=0\n",
    "Q4=0\n",
    "for i in range(0,len(points)):\n",
    "    m=points[i]\n",
    "    a=m[0]\n",
    "    b=m[1]\n",
    "    #para ver en qué parte del plano se encuentra:\n",
    "    if a>0:\n",
    "        if b>0:\n",
    "            Q1+=1\n",
    "        if b<0:\n",
    "            Q4+=1\n",
    "\n",
    "    if a<0:\n",
    "        if b>0:\n",
    "            Q2+=1\n",
    "        if b<0:\n",
    "            Q3+=1\n",
    "print(\"En el cuadrante 1 cayeron\",Q1,\"flechas\")\n",
    "print(\"En el cuadrante 2 cayeron\",Q2,\"flechas\")\n",
    "print(\"En el cuadrante 3 cayeron\",Q3,\"flechas\")\n",
    "print(\"En el cuadrante 4 cayeron\",Q4,\"flechas\")"
   ]
  },
  {
   "cell_type": "markdown",
   "metadata": {},
   "source": [
    "#### 3. Find the point closest to the center. Calculate its distance to the center. \n",
    "Take into account that there might be more than one point at the minimum distance to the center.\n",
    "\n",
    "**Hint**: Use the Euclidean distance. You can find more information about it [here](https://en.wikipedia.org/wiki/Euclidean_distance).  \n",
    "**Hint**: Defining a function that calculates the distance to the center can help."
   ]
  },
  {
   "cell_type": "code",
   "execution_count": 46,
   "metadata": {},
   "outputs": [
    {
     "name": "stdout",
     "output_type": "stream",
     "text": [
      "Se obtuvo la distancia mínima de 2.0 en: [(0, 2), (0, -2)]\n"
     ]
    }
   ],
   "source": [
    "from scipy.spatial import distance\n",
    "centro=[(0,0)]\n",
    "D=[] #para guardar las distancias\n",
    "for i in range(0,len(points)):\n",
    "    D.append(distance.euclidean(centro,points[i])) #va guardando las distancias\n",
    "m=min(D)  \n",
    "posicion=[p for p, v in enumerate(D) if v==2.0] #indica la posición dónde los puntos obtuvieron la distancia mínima\n",
    "\n",
    "puntoM=[] #guarda los puntos dónde hubo mínima distancia\n",
    "for j in range(0,len(posicion)):\n",
    "    puntoM.append(points[posicion[j]])\n",
    "\n",
    "print(\"Se obtuvo la distancia mínima de\",m,\"en:\",puntoM)\n",
    " \n"
   ]
  },
  {
   "cell_type": "markdown",
   "metadata": {},
   "source": [
    "#### 4. If the archery target has a radius of 9, calculate the number of arrows that won't hit the target. \n",
    "**Hint**: Use the function created in step 3. "
   ]
  },
  {
   "cell_type": "code",
   "execution_count": 47,
   "metadata": {},
   "outputs": [
    {
     "name": "stdout",
     "output_type": "stream",
     "text": [
      "Cayeron 2 flechas fuera del radio\n"
     ]
    }
   ],
   "source": [
    "from scipy.spatial import distance\n",
    "centro=[(0,0)]\n",
    "radio=9\n",
    "fuera=0\n",
    "for i in range(0,len(points)):\n",
    "    d=distance.euclidean(centro,points[i]) #va guardando las distancias\n",
    "    if d>radio:\n",
    "        fuera+=1\n",
    "print(\"Cayeron\",fuera,\"flechas fuera del radio\")"
   ]
  }
 ],
 "metadata": {
  "kernelspec": {
   "display_name": "Python 3",
   "language": "python",
   "name": "python3"
  }
 },
 "nbformat": 4,
 "nbformat_minor": 2
}
