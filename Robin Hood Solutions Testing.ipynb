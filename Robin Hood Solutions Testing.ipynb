{
 "cells": [
  {
   "cell_type": "code",
   "execution_count": 1,
   "metadata": {},
   "outputs": [],
   "source": [
    "points = [(4, 5), (-0, 2), (4, 7), (1, -3), (3, -2), (4, 5), (3, 2), (5, 7), (-5, 7), (2, 2), (-4, 5), (0, -2),\n",
    "          (-4, 7), (-1, 3), (-3, 2), (-4, -5), (-3, 2), (5, 7), (5, 7), (2, 2), (9, 9), (-8, -9)]\n",
    "pointsdupl = []\n",
    "points.sort() "
   ]
  },
  {
   "cell_type": "code",
   "execution_count": 2,
   "metadata": {},
   "outputs": [
    {
     "data": {
      "text/plain": [
       "[(-8, -9),\n",
       " (-5, 7),\n",
       " (-4, -5),\n",
       " (-4, 5),\n",
       " (-4, 7),\n",
       " (-3, 2),\n",
       " (-3, 2),\n",
       " (-1, 3),\n",
       " (0, -2),\n",
       " (0, 2),\n",
       " (1, -3),\n",
       " (2, 2),\n",
       " (2, 2),\n",
       " (3, -2),\n",
       " (3, 2),\n",
       " (4, 5),\n",
       " (4, 5),\n",
       " (4, 7),\n",
       " (5, 7),\n",
       " (5, 7),\n",
       " (5, 7),\n",
       " (9, 9)]"
      ]
     },
     "execution_count": 2,
     "metadata": {},
     "output_type": "execute_result"
    }
   ],
   "source": [
    "points"
   ]
  },
  {
   "cell_type": "code",
   "execution_count": 3,
   "metadata": {},
   "outputs": [],
   "source": [
    "#(-3,2), (2,2), (4,5) & (5,7) are the coordinates where an arrow hits another arrow"
   ]
  },
  {
   "cell_type": "code",
   "execution_count": 15,
   "metadata": {},
   "outputs": [],
   "source": [
    "i=0\n",
    "q1 = []\n",
    "q2 = []\n",
    "q3 = []\n",
    "q4 = []\n",
    "center = []\n",
    "for i in range(len(points)):\n",
    "    if (points[i][0] > 0) & (points[i][1] > 0):\n",
    "        q1.append(points[i])\n",
    "    elif (points[i][0] < 0) & (points[i][1] > 0):\n",
    "        q2.append(points[i])\n",
    "    elif (points[i][0] < 0) & (points[i][1] < 0):\n",
    "        q3.append(points[i])\n",
    "    \n",
    "    elif (points[i][0] > 0) & (points[i][1] < 0):\n",
    "        q4.append(points[i])\n",
    "    else:\n",
    "        center.append(points[i])\n"
   ]
  },
  {
   "cell_type": "code",
   "execution_count": null,
   "metadata": {
    "scrolled": false
   },
   "outputs": [],
   "source": []
  },
  {
   "cell_type": "code",
   "execution_count": null,
   "metadata": {
    "scrolled": true
   },
   "outputs": [],
   "source": []
  },
  {
   "cell_type": "code",
   "execution_count": null,
   "metadata": {},
   "outputs": [],
   "source": []
  },
  {
   "cell_type": "code",
   "execution_count": null,
   "metadata": {},
   "outputs": [],
   "source": []
  },
  {
   "cell_type": "code",
   "execution_count": 16,
   "metadata": {},
   "outputs": [],
   "source": [
    "i=0\n",
    "q1 = []\n",
    "q2 = []\n",
    "q3 = []\n",
    "q4 = []\n",
    "center = []\n",
    "for i in range(len(points)):\n",
    "    if (points[i][0] > 0) & (points[i][1] > 0):\n",
    "        q1.append(points[i])\n",
    "    elif (points[i][0] < 0) & (points[i][1] > 0):\n",
    "        q2.append(points[i])\n",
    "    elif (points[i][0] < 0) & (points[i][1] < 0):\n",
    "        q3.append(points[i])\n",
    "    \n",
    "    elif (points[i][0] > 0) & (points[i][1] < 0):\n",
    "        q4.append(points[i])\n",
    "    else:\n",
    "        center.append(points[i])"
   ]
  },
  {
   "cell_type": "code",
   "execution_count": 17,
   "metadata": {},
   "outputs": [
    {
     "name": "stdout",
     "output_type": "stream",
     "text": [
      "[(2, 2), (2, 2), (3, 2), (4, 5), (4, 5), (4, 7), (5, 7), (5, 7), (5, 7), (9, 9)]\n",
      "[(-5, 7), (-4, 5), (-4, 7), (-3, 2), (-3, 2), (-1, 3)]\n",
      "[(-8, -9), (-4, -5)]\n",
      "[(1, -3), (3, -2)]\n"
     ]
    }
   ],
   "source": [
    "print(q1)\n",
    "print(q2)\n",
    "print(q3)\n",
    "print(q4)"
   ]
  },
  {
   "cell_type": "code",
   "execution_count": 18,
   "metadata": {},
   "outputs": [
    {
     "name": "stdout",
     "output_type": "stream",
     "text": [
      "[(0, -2), (0, 2)]\n"
     ]
    }
   ],
   "source": [
    "print(center)"
   ]
  },
  {
   "cell_type": "code",
   "execution_count": 19,
   "metadata": {},
   "outputs": [
    {
     "data": {
      "text/plain": [
       "22"
      ]
     },
     "execution_count": 19,
     "metadata": {},
     "output_type": "execute_result"
    }
   ],
   "source": [
    "len(points)"
   ]
  },
  {
   "cell_type": "code",
   "execution_count": 20,
   "metadata": {},
   "outputs": [
    {
     "name": "stdout",
     "output_type": "stream",
     "text": [
      "10\n"
     ]
    }
   ],
   "source": [
    "print(len(q1))"
   ]
  },
  {
   "cell_type": "code",
   "execution_count": 21,
   "metadata": {},
   "outputs": [
    {
     "ename": "SyntaxError",
     "evalue": "invalid syntax (<ipython-input-21-6d166df5166d>, line 1)",
     "output_type": "error",
     "traceback": [
      "\u001b[0;36m  File \u001b[0;32m\"<ipython-input-21-6d166df5166d>\"\u001b[0;36m, line \u001b[0;32m1\u001b[0m\n\u001b[0;31m    print\"There are (len(q2)) records in q2\"\u001b[0m\n\u001b[0m         ^\u001b[0m\n\u001b[0;31mSyntaxError\u001b[0m\u001b[0;31m:\u001b[0m invalid syntax\n"
     ]
    }
   ],
   "source": [
    "\n"
   ]
  },
  {
   "cell_type": "code",
   "execution_count": 22,
   "metadata": {},
   "outputs": [
    {
     "ename": "SyntaxError",
     "evalue": "invalid syntax (<ipython-input-22-e031b65452ab>, line 1)",
     "output_type": "error",
     "traceback": [
      "\u001b[0;36m  File \u001b[0;32m\"<ipython-input-22-e031b65452ab>\"\u001b[0;36m, line \u001b[0;32m1\u001b[0m\n\u001b[0;31m    print \"In the 2nd Quadarant there are this many records:\" (len(q2))\u001b[0m\n\u001b[0m          ^\u001b[0m\n\u001b[0;31mSyntaxError\u001b[0m\u001b[0;31m:\u001b[0m invalid syntax\n"
     ]
    }
   ],
   "source": [
    "print \"In the 2nd Quadarant there are this many records:\" (len(q2))"
   ]
  },
  {
   "cell_type": "code",
   "execution_count": 23,
   "metadata": {},
   "outputs": [
    {
     "ename": "SyntaxError",
     "evalue": "invalid syntax (<ipython-input-23-677d26fd795b>, line 1)",
     "output_type": "error",
     "traceback": [
      "\u001b[0;36m  File \u001b[0;32m\"<ipython-input-23-677d26fd795b>\"\u001b[0;36m, line \u001b[0;32m1\u001b[0m\n\u001b[0;31m    print ()\"In the 2nd Quadarant there are this many records:\" (len(q2)))\u001b[0m\n\u001b[0m            ^\u001b[0m\n\u001b[0;31mSyntaxError\u001b[0m\u001b[0;31m:\u001b[0m invalid syntax\n"
     ]
    }
   ],
   "source": [
    "print () (len(q2)))"
   ]
  },
  {
   "cell_type": "code",
   "execution_count": 24,
   "metadata": {},
   "outputs": [
    {
     "name": "stdout",
     "output_type": "stream",
     "text": [
      "6\n"
     ]
    }
   ],
   "source": [
    "print(len(q2))"
   ]
  },
  {
   "cell_type": "code",
   "execution_count": 25,
   "metadata": {},
   "outputs": [
    {
     "name": "stdout",
     "output_type": "stream",
     "text": [
      "In the 2nd Quadarant there are this many records: 6\n"
     ]
    }
   ],
   "source": [
    "print(\"In the 2nd Quadarant there are this many records:\", (len(q2)))"
   ]
  },
  {
   "cell_type": "code",
   "execution_count": 26,
   "metadata": {},
   "outputs": [
    {
     "name": "stdout",
     "output_type": "stream",
     "text": [
      "This many arrows landed in the 2nd Quadrant 6\n"
     ]
    }
   ],
   "source": [
    "print(\"This many arrows landed in the 2nd Quadrant\", (len(q2)))"
   ]
  },
  {
   "cell_type": "code",
   "execution_count": 27,
   "metadata": {},
   "outputs": [
    {
     "name": "stdout",
     "output_type": "stream",
     "text": [
      "This many arrows landed in the 2nd Quadrant: 6\n"
     ]
    }
   ],
   "source": [
    "print(\"This many arrows landed in the 2nd Quadrant:\", (len(q2)))"
   ]
  },
  {
   "cell_type": "code",
   "execution_count": 28,
   "metadata": {},
   "outputs": [
    {
     "name": "stdout",
     "output_type": "stream",
     "text": [
      "This many arrows landed in the 1st Quadrant: 10\n",
      "This many arrows landed in the 2nd Quadrant: 6\n",
      "This many arrows landed in the 3rd Quadrant: 2\n",
      "This many arrows landed in the 4th Quadrant: 2\n"
     ]
    }
   ],
   "source": [
    "print(\"This many arrows landed in the 1st Quadrant:\", (len(q1)))\n",
    "print(\"This many arrows landed in the 2nd Quadrant:\", (len(q2)))\n",
    "print(\"This many arrows landed in the 3rd Quadrant:\", (len(q3)))\n",
    "print(\"This many arrows landed in the 4th Quadrant:\", (len(q4)))"
   ]
  },
  {
   "cell_type": "code",
   "execution_count": 29,
   "metadata": {},
   "outputs": [
    {
     "name": "stdout",
     "output_type": "stream",
     "text": [
      "This many arrows landed in the 1st Quadrant: 10\n",
      "This many arrows landed in the 2nd Quadrant: 6\n",
      "This many arrows landed in the 3rd Quadrant: 2\n",
      "This many arrows landed in the 4th Quadrant: 2\n"
     ]
    }
   ],
   "source": [
    "i=0\n",
    "q1 = []\n",
    "q2 = []\n",
    "q3 = []\n",
    "q4 = []\n",
    "center = []\n",
    "for i in range(len(points)):\n",
    "    if (points[i][0] > 0) & (points[i][1] > 0):\n",
    "        q1.append(points[i])\n",
    "    elif (points[i][0] < 0) & (points[i][1] > 0):\n",
    "        q2.append(points[i])\n",
    "    elif (points[i][0] < 0) & (points[i][1] < 0):\n",
    "        q3.append(points[i])\n",
    "    \n",
    "    elif (points[i][0] > 0) & (points[i][1] < 0):\n",
    "        q4.append(points[i])\n",
    "    else:\n",
    "        center.append(points[i])\n",
    "        \n",
    "print(\"This many arrows landed in the 1st Quadrant:\", (len(q1)))\n",
    "print(\"This many arrows landed in the 2nd Quadrant:\", (len(q2)))\n",
    "print(\"This many arrows landed in the 3rd Quadrant:\", (len(q3)))\n",
    "print(\"This many arrows landed in the 4th Quadrant:\", (len(q4)))"
   ]
  },
  {
   "cell_type": "code",
   "execution_count": 30,
   "metadata": {},
   "outputs": [
    {
     "name": "stdout",
     "output_type": "stream",
     "text": [
      "[(12.041594578792296, -8, -9), (8.602325267042627, -5, 7), (6.4031242374328485, -4, -5), (6.4031242374328485, -4, 5), (8.06225774829855, -4, 7), (3.605551275463989, -3, 2), (3.605551275463989, -3, 2), (3.1622776601683795, -1, 3), (2.0, 0, -2), (2.0, 0, 2), (3.1622776601683795, 1, -3), (2.8284271247461903, 2, 2), (2.8284271247461903, 2, 2), (3.605551275463989, 3, -2), (3.605551275463989, 3, 2), (6.4031242374328485, 4, 5), (6.4031242374328485, 4, 5), (8.06225774829855, 4, 7), (8.602325267042627, 5, 7), (8.602325267042627, 5, 7), (8.602325267042627, 5, 7), (12.727922061357855, 9, 9)]\n",
      "[(2.0, 0, -2), (2.0, 0, 2)]\n"
     ]
    }
   ],
   "source": [
    "distance = []\n",
    "import math\n",
    "def calculateDistance(x1,y1,x2,y2):\n",
    "     dist = math.sqrt((x2 - x1)**2 + (y2 - y1)**2)\n",
    "     return dist,x2,y2\n",
    "for i in range(len(points)):\n",
    "    distance.append(calculateDistance(0,0,(points[i][0]),(points[i][1])))\n",
    "print(distance)\n",
    "minValue = min(distance, key=lambda x: x[0])[0]\n",
    "minValueList = [x for x in distance if x[0] == minValue]\n",
    "print(minValueList)"
   ]
  },
  {
   "cell_type": "code",
   "execution_count": null,
   "metadata": {},
   "outputs": [],
   "source": []
  }
 ],
 "metadata": {
  "kernelspec": {
   "display_name": "Python 3",
   "language": "python",
   "name": "python3"
  },
  "language_info": {
   "codemirror_mode": {
    "name": "ipython",
    "version": 3
   },
   "file_extension": ".py",
   "mimetype": "text/x-python",
   "name": "python",
   "nbconvert_exporter": "python",
   "pygments_lexer": "ipython3",
   "version": "3.8.5"
  }
 },
 "nbformat": 4,
 "nbformat_minor": 4
}
